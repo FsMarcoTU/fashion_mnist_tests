{
 "cells": [
  {
   "cell_type": "code",
   "execution_count": 2,
   "metadata": {},
   "outputs": [],
   "source": [
    "import torch\n",
    "import torch.nn as nn\n",
    "import torch.optim as optim\n",
    "from torchvision import datasets, transforms\n",
    "import numpy as np\n",
    "import matplotlib.pyplot as plt\n",
    "from torch.nn.functional import (\n",
    "    avg_pool2d,\n",
    "    dropout,\n",
    "    dropout2d,\n",
    "    interpolate,\n",
    "    max_pool2d,\n",
    "    relu,\n",
    "    sigmoid,\n",
    "    tanh,\n",
    ")\n",
    "from torch.nn import (\n",
    "    Module, Parameter, init,\n",
    "    Conv2d, ConvTranspose2d, Linear, LSTM, GRU,\n",
    "    BatchNorm1d, BatchNorm2d,\n",
    "    PReLU\n",
    ")\n",
    "from cplxmodule.nn import CplxMaxPool2d\n"
   ]
  },
  {
   "cell_type": "code",
   "execution_count": 3,
   "metadata": {},
   "outputs": [],
   "source": [
    "def apply_complex(fr, fi, input, dtype=torch.complex64):\n",
    "    return (fr(input.real)-fi(input.imag)).type(dtype) \\\n",
    "        + 1j*(fr(input.imag)+fi(input.real)).type(dtype)\n",
    "\n",
    "# Creates a complex noise vector of dimension (n_samples, z_dim). Every value is complex.\n",
    "def get_noise(n_samples, z_dim, device='cpu'):\n",
    "    real = torch.randn(n_samples, z_dim, dtype=torch.float32, device=device)\n",
    "    imag = torch.randn(n_samples, z_dim, dtype=torch.float32, device=device)\n",
    "    return torch.complex(real, imag)\n",
    "    \n",
    "def complex_relu(inp):\n",
    "    return relu(inp.real).type(torch.complex64) + 1j * relu(inp.imag).type(torch.complex64)\n",
    "\n",
    "\n",
    "def complex_sigmoid(inp):\n",
    "    return sigmoid(inp.real).type(torch.complex64) + 1j * sigmoid(inp.imag).type(torch.complex64)\n",
    "\n",
    "\n",
    "def complex_tanh(inp):\n",
    "    return tanh(inp.real).type(torch.complex64) + 1j * tanh(inp.imag).type(\n",
    "        torch.complex64\n",
    "    )\n",
    "\n",
    "class ComplexReLU(Module):\n",
    "    @staticmethod\n",
    "    def forward(inp):\n",
    "        return complex_relu(inp)\n",
    "\n",
    "class ComplexTanh(Module):\n",
    "    @staticmethod\n",
    "    def forward(inp):\n",
    "        return complex_tanh(inp)\n",
    "\n",
    "\n",
    "class ComplexSigmoid(Module):\n",
    "    @staticmethod\n",
    "    def forward(inp):\n",
    "        return complex_sigmoid(inp)\n",
    "      \n",
    "\n",
    "class ComplexPReLU(Module):\n",
    "    def __init__(self):\n",
    "        super().__init__()\n",
    "        self.r_prelu = PReLU()        \n",
    "        self.i_prelu = PReLU()\n",
    "\n",
    "    @staticmethod\n",
    "    def forward(self, inp):\n",
    "        return self.r_prelu(inp.real) + 1j*self.i_prelu(inp.imag)\n",
    "\n",
    "class ComplexLinear(Module):\n",
    "    def __init__(self, in_features, out_features):\n",
    "        super().__init__()\n",
    "        self.fc_r = Linear(in_features, out_features) # Linear layer for the real part\n",
    "        self.fc_i = Linear(in_features, out_features) # Linear Layer for the imaginary part\n",
    "\n",
    "    def forward(self, inp):\n",
    "        return apply_complex(self.fc_r, self.fc_i, inp)\n",
    "\n",
    "\n",
    "class TwoChannelsToComplex(nn.Module):\n",
    "    def __init__(self):\n",
    "        super(TwoChannelsToComplex, self).__init__()\n",
    "\n",
    "    def forward(self, x):\n",
    "        real, imag = torch.chunk(x, 2, dim=1)\n",
    "        complex_tensor = torch.complex(real.squeeze(1), imag.squeeze(1))\n",
    "        return complex_tensor\n",
    "class ComplexToTwoChannels(nn.Module):\n",
    "    def __init__(self):\n",
    "        super(ComplexToTwoChannels, self).__init__()\n",
    "\n",
    "    def forward(self, x):\n",
    "        real = x.real.unsqueeze(1)\n",
    "        imag = x.imag.unsqueeze(1)\n",
    "        two_channel_tensor = torch.cat((real, imag), dim=1)\n",
    "        return two_channel_tensor\n",
    "\n",
    "class InverseFourierTransform2D(nn.Module):\n",
    "    def __init__(self, norm='ortho'):\n",
    "        super(InverseFourierTransform2D, self).__init__()\n",
    "        self.norm = norm\n",
    "\n",
    "    def forward(self, x):\n",
    "        return torch.fft.ifft2(x, norm=self.norm)\n",
    "\n",
    "\n",
    "# class FourierConv2d(nn.Module):\n",
    "#     def __init__(self, in_channels, out_channels, kernel_size):\n",
    "#         super(FourierConv2d, self).__init__()\n",
    "#         self.in_channels = in_channels\n",
    "#         self.out_channels = out_channels\n",
    "#         self.kernel_size = kernel_size\n",
    "\n",
    "#         # Initialize complex-valued filters\n",
    "#         self.real_filter = nn.Parameter(torch.empty(1,out_channels, in_channels, kernel_size, kernel_size))\n",
    "#         self.imag_filter = nn.Parameter(torch.empty(1,out_channels, in_channels, kernel_size, kernel_size))\n",
    "#         self.reset_parameters()\n",
    "    \n",
    "#     def reset_parameters(self):\n",
    "#         # Initialize filter weights\n",
    "#         nn.init.kaiming_uniform_(self.real_filter, a=0, mode='fan_in', nonlinearity='relu')\n",
    "#         nn.init.kaiming_uniform_(self.imag_filter, a=0, mode='fan_in', nonlinearity='relu')\n",
    "\n",
    "#     def forward(self, x):\n",
    "#         # Combine real and imaginary parts to create complex-valued filters\n",
    "#         print(x.shape)\n",
    "#         print(\"real_filter shape_\", self.real_filter.shape)\n",
    "#         complex_filter = torch.complex(self.real_filter, self.imag_filter)\n",
    "#         print(\"Filter shape: \",complex_filter.shape)\n",
    "\n",
    "#         # Perform complex elementwise multiplication\n",
    "#         output = x * complex_filter\n",
    "\n",
    "#         return output\n",
    "    \n",
    "class FourierConv2d(nn.Module):\n",
    "    def __init__(self, in_channels, out_channels, kernel_size):\n",
    "        super(FourierConv2d, self).__init__()\n",
    "        self.in_channels = in_channels\n",
    "        self.out_channels = out_channels\n",
    "        self.kernel_size = kernel_size\n",
    "\n",
    "        # Initialize real and imaginary parts of the filters\n",
    "        self.real_weights = nn.Parameter(torch.randn(out_channels, in_channels, kernel_size, kernel_size))\n",
    "        self.imag_weights = nn.Parameter(torch.randn(out_channels, in_channels, kernel_size, kernel_size))\n",
    "\n",
    "    def forward(self, x):\n",
    "        # Combine real and imaginary parts of the filters\n",
    "        complex_weights = torch.complex(self.real_weights, self.imag_weights)\n",
    "\n",
    "        # Perform complex elementwise multiplication\n",
    "        output = x.unsqueeze(1) * complex_weights\n",
    "\n",
    "        # Sum over the input channels\n",
    "        output = output.sum(dim=2)\n",
    "\n",
    "        return output\n",
    "    \n",
    "\n",
    "class ComplexMaxPool2d(nn.Module):\n",
    "    def __init__(self, kernel_size, stride=None, padding=0, dilation=1, return_indices=False, ceil_mode=False):\n",
    "        super(ComplexMaxPool2d, self).__init__()\n",
    "        self.kernel_size = kernel_size\n",
    "        self.stride = stride or kernel_size\n",
    "        self.padding = padding\n",
    "        self.dilation = dilation\n",
    "        self.return_indices = return_indices\n",
    "        self.ceil_mode = ceil_mode\n",
    "\n",
    "    def forward(self, x):\n",
    "        # Compute the absolute values of the complex numbers\n",
    "        abs_values = torch.abs(x)\n",
    "\n",
    "        # Apply max pooling on the absolute values\n",
    "        _, indices = nn.functional.max_pool2d(\n",
    "            abs_values,\n",
    "            kernel_size=self.kernel_size,\n",
    "            stride=self.stride,\n",
    "            padding=self.padding,\n",
    "            dilation=self.dilation,\n",
    "            ceil_mode=self.ceil_mode,\n",
    "            return_indices=True\n",
    "        )\n",
    "\n",
    "        # Use the indices to select the corresponding complex numbers\n",
    "        output = torch.gather(x, dim=2, index=indices.unsqueeze(2).expand(-1, -1, x.size(2), -1))\n",
    "        output = torch.gather(output, dim=3, index=indices.unsqueeze(3).expand(-1, -1, -1, x.size(3)))\n",
    "\n",
    "        if self.return_indices:\n",
    "            return output, indices\n",
    "        else:\n",
    "            return output.squeeze()"
   ]
  },
  {
   "cell_type": "markdown",
   "metadata": {},
   "source": [
    "#  Download the Fashion MNIST dataset"
   ]
  },
  {
   "cell_type": "code",
   "execution_count": 4,
   "metadata": {},
   "outputs": [
    {
     "name": "stdout",
     "output_type": "stream",
     "text": [
      "Downloading http://fashion-mnist.s3-website.eu-central-1.amazonaws.com/train-images-idx3-ubyte.gz\n",
      "Downloading http://fashion-mnist.s3-website.eu-central-1.amazonaws.com/train-images-idx3-ubyte.gz to data/FashionMNIST/raw/train-images-idx3-ubyte.gz\n"
     ]
    },
    {
     "name": "stderr",
     "output_type": "stream",
     "text": [
      "100%|██████████| 26421880/26421880 [00:03<00:00, 7639334.55it/s]\n"
     ]
    },
    {
     "name": "stdout",
     "output_type": "stream",
     "text": [
      "Extracting data/FashionMNIST/raw/train-images-idx3-ubyte.gz to data/FashionMNIST/raw\n",
      "\n",
      "Downloading http://fashion-mnist.s3-website.eu-central-1.amazonaws.com/train-labels-idx1-ubyte.gz\n",
      "Downloading http://fashion-mnist.s3-website.eu-central-1.amazonaws.com/train-labels-idx1-ubyte.gz to data/FashionMNIST/raw/train-labels-idx1-ubyte.gz\n"
     ]
    },
    {
     "name": "stderr",
     "output_type": "stream",
     "text": [
      "100%|██████████| 29515/29515 [00:00<00:00, 2419380.91it/s]"
     ]
    },
    {
     "name": "stdout",
     "output_type": "stream",
     "text": [
      "Extracting data/FashionMNIST/raw/train-labels-idx1-ubyte.gz to data/FashionMNIST/raw\n",
      "\n",
      "Downloading http://fashion-mnist.s3-website.eu-central-1.amazonaws.com/t10k-images-idx3-ubyte.gz\n"
     ]
    },
    {
     "name": "stderr",
     "output_type": "stream",
     "text": [
      "\n"
     ]
    },
    {
     "name": "stdout",
     "output_type": "stream",
     "text": [
      "Downloading http://fashion-mnist.s3-website.eu-central-1.amazonaws.com/t10k-images-idx3-ubyte.gz to data/FashionMNIST/raw/t10k-images-idx3-ubyte.gz\n"
     ]
    },
    {
     "name": "stderr",
     "output_type": "stream",
     "text": [
      "100%|██████████| 4422102/4422102 [00:00<00:00, 7369521.07it/s]\n"
     ]
    },
    {
     "name": "stdout",
     "output_type": "stream",
     "text": [
      "Extracting data/FashionMNIST/raw/t10k-images-idx3-ubyte.gz to data/FashionMNIST/raw\n",
      "\n",
      "Downloading http://fashion-mnist.s3-website.eu-central-1.amazonaws.com/t10k-labels-idx1-ubyte.gz\n",
      "Downloading http://fashion-mnist.s3-website.eu-central-1.amazonaws.com/t10k-labels-idx1-ubyte.gz to data/FashionMNIST/raw/t10k-labels-idx1-ubyte.gz\n"
     ]
    },
    {
     "name": "stderr",
     "output_type": "stream",
     "text": [
      "100%|██████████| 5148/5148 [00:00<00:00, 8558175.58it/s]"
     ]
    },
    {
     "name": "stdout",
     "output_type": "stream",
     "text": [
      "Extracting data/FashionMNIST/raw/t10k-labels-idx1-ubyte.gz to data/FashionMNIST/raw\n",
      "\n"
     ]
    },
    {
     "name": "stderr",
     "output_type": "stream",
     "text": [
      "\n"
     ]
    }
   ],
   "source": [
    "\n",
    "\n",
    "transform = transforms.Compose([transforms.ToTensor()])\n",
    "train_data = datasets.FashionMNIST(root='data', train=True, download=True, transform=transform)\n",
    "test_data = datasets.FashionMNIST(root='data', train=False, download=True, transform=transform)"
   ]
  },
  {
   "cell_type": "code",
   "execution_count": 5,
   "metadata": {},
   "outputs": [
    {
     "data": {
      "image/png": "[encoded data removed]",
      "text/plain": [
       "<Figure size 800x400 with 2 Axes>"
      ]
     },
     "metadata": {},
     "output_type": "display_data"
    }
   ],
   "source": [
    "\n",
    "fig, ax = plt.subplots(1, 2, figsize=(8, 4))\n",
    "for i in range(2):\n",
    "    image, label = train_data[i]\n",
    "    ax[i].imshow(image.squeeze(), cmap='gray')\n",
    "    ax[i].set_title(f\"Label: {train_data.classes[label]}\")\n",
    "    ax[i].axis('off')\n",
    "plt.tight_layout()\n",
    "plt.show()\n"
   ]
  },
  {
   "cell_type": "markdown",
   "metadata": {},
   "source": [
    "# Perform the Fourier Transform on all data"
   ]
  },
  {
   "cell_type": "code",
   "execution_count": 6,
   "metadata": {},
   "outputs": [],
   "source": [
    "\n",
    "def fft_transform(data):\n",
    "    fft_data = []\n",
    "    for img, _ in data:\n",
    "        fft = np.fft.fft2(img.numpy().squeeze())\n",
    "        fft_data.append(fft)\n",
    "    return np.array(fft_data)\n",
    "\n",
    "train_fft = fft_transform(train_data)\n",
    "test_fft = fft_transform(test_data)\n",
    "\n",
    "\n",
    "\n"
   ]
  },
  {
   "cell_type": "code",
   "execution_count": 7,
   "metadata": {},
   "outputs": [
    {
     "data": {
      "image/png": "[encoded data removed]",
      "text/plain": [
       "<Figure size 800x800 with 4 Axes>"
      ]
     },
     "metadata": {},
     "output_type": "display_data"
    }
   ],
   "source": [
    "# 4. Plot Fourier transformed and back-transformed examples\n",
    "fig, ax = plt.subplots(2, 2, figsize=(8, 8))\n",
    "for i in range(2):\n",
    "    ax[0, i].imshow(np.log(np.abs(np.fft.fftshift(train_fft[i]))), cmap='gray')\n",
    "    ax[0, i].set_title(\"Fourier Transformed\")\n",
    "    ax[0, i].axis('off')\n",
    "    \n",
    "    back_transformed = np.fft.ifft2(train_fft[i]).real\n",
    "    ax[1, i].imshow(back_transformed, cmap='gray')\n",
    "    ax[1, i].set_title(\"Back Transformed\")\n",
    "    ax[1, i].axis('off')\n",
    "plt.tight_layout()\n",
    "plt.show()"
   ]
  },
  {
   "cell_type": "markdown",
   "metadata": {},
   "source": [
    "# Create dataset"
   ]
  },
  {
   "cell_type": "code",
   "execution_count": 8,
   "metadata": {},
   "outputs": [
    {
     "name": "stdout",
     "output_type": "stream",
     "text": [
      "938\n"
     ]
    }
   ],
   "source": [
    "from torch.utils.data import Dataset, DataLoader\n",
    "from torchvision import transforms\n",
    "import random\n",
    "\n",
    "class ComplexDataset(Dataset):\n",
    "    def __init__(self, data, labels, transform=None):\n",
    "        self.data = data\n",
    "        self.labels = labels\n",
    "        self.transform = transform\n",
    "\n",
    "    def __len__(self):\n",
    "        return len(self.data)\n",
    "\n",
    "    def __getitem__(self, idx):\n",
    "        sample = self.data[idx]\n",
    "        label = self.labels[idx]\n",
    "\n",
    "        real_data = torch.from_numpy(sample.real).float()\n",
    "        imag_data = torch.from_numpy(sample.imag).float()\n",
    "        complex_data = torch.stack((real_data, imag_data), dim=0)\n",
    "\n",
    "        if self.transform:\n",
    "            complex_data = self.transform(complex_data)\n",
    "\n",
    "        return complex_data, label\n",
    "\n",
    "\n",
    "class RandomPixelMask(object):\n",
    "    \"\"\"\n",
    "     A augmentation technique to set datapoints in a 2D matrix to 0. It sets a fraction between 0 and max_fraction to 0. Intended to work in the frequency domain\n",
    "    \"\"\"\n",
    "\n",
    "    def __init__(self, max_fraction=0.25):\n",
    "        self.max_fraction = max_fraction\n",
    "\n",
    "    def __call__(self, sample):\n",
    "        # Assuming sample is a 2-channel tensor of shape (2, 28, 28)\n",
    "        fraction = random.uniform(0, self.max_fraction)\n",
    "        mask = torch.rand(1, 28, 28) < fraction\n",
    "        mask = mask.repeat(2, 1, 1)  # Repeat the mask for both channels\n",
    "        sample[mask] = 0.0\n",
    "        return sample\n",
    "\n",
    "transform = transforms.Compose([RandomPixelMask()])\n",
    "# Create the custom dataset\n",
    "train_labels = [label for _, label in train_data]\n",
    "train_dataset = ComplexDataset(train_fft, train_labels, transform=None) \n",
    "\n",
    "test_labels = [label for _, label in test_data]\n",
    "test_dataset = ComplexDataset(test_fft, test_labels)\n",
    "\n",
    "# Create data loaders\n",
    "train_loader = DataLoader(train_dataset, batch_size=64, shuffle=True)\n",
    "test_loader = DataLoader(test_dataset, batch_size=64, shuffle=False)\n",
    "\n",
    "print(len(train_loader))"
   ]
  },
  {
   "cell_type": "code",
   "execution_count": 9,
   "metadata": {},
   "outputs": [
    {
     "name": "stdout",
     "output_type": "stream",
     "text": [
      "torch.Size([2, 28, 28])\n",
      "tensor(144.7020) tensor(51.3852) tensor(-106.3839) tensor(-51.3852) tensor(144.7020) tensor(0.1170)\n"
     ]
    },
    {
     "data": {
      "image/png": "[encoded data removed]",
      "text/plain": [
       "<Figure size 1000x400 with 2 Axes>"
      ]
     },
     "metadata": {},
     "output_type": "display_data"
    }
   ],
   "source": [
    "# Load one sample from the test loader\n",
    "test_sample, test_label = next(iter(train_loader))\n",
    "\n",
    "# Get the first sample from the batch\n",
    "test_sample = test_sample[14]\n",
    "print(test_sample.shape)\n",
    "test_sample = torch.complex(test_sample[0], test_sample[1])\n",
    "print(test_sample.real.max(),test_sample.imag.max(), test_sample.real.min(), test_sample.imag.min(),np.abs(test_sample).max(),np.abs(test_sample).min())\n",
    "# Compute the absolute value and apply logarithmic scaling\n",
    "abs_fft = torch.abs(test_sample)\n",
    "log_abs_fft = torch.log(abs_fft + 1e-7)  # Add a small constant to avoid taking log of zero\n",
    "\n",
    "# Compute the inverse Fourier transform\n",
    "ifft_sample = torch.fft.ifft2(test_sample)\n",
    "ifft_abs = torch.abs(ifft_sample)\n",
    "\n",
    "# Create a new figure with two subplots\n",
    "fig, (ax1, ax2) = plt.subplots(1, 2, figsize=(10, 4))\n",
    "\n",
    "# Plot the logarithmically scaled absolute value of the Fourier transform\n",
    "ax1.imshow(log_abs_fft.squeeze(), cmap='gray')\n",
    "ax1.set_title(\"Logarithmically Scaled Absolute Value of Fourier Transform\")\n",
    "ax1.axis('off')\n",
    "\n",
    "# Plot the absolute value of the inverse Fourier transform\n",
    "ax2.imshow(ifft_abs.squeeze(), cmap='gray')\n",
    "ax2.set_title(\"Absolute Value of Inverse Fourier Transform\")\n",
    "ax2.axis('off')\n",
    "\n",
    "plt.tight_layout()\n",
    "plt.show()"
   ]
  },
  {
   "cell_type": "code",
   "execution_count": 10,
   "metadata": {},
   "outputs": [
    {
     "data": {
      "image/png": "[encoded data removed]",
      "text/plain": [
       "<Figure size 800x400 with 2 Axes>"
      ]
     },
     "metadata": {},
     "output_type": "display_data"
    }
   ],
   "source": [
    "# Assuming you have imported the necessary libraries and defined the layers\n",
    "\n",
    "# Get one batch from the train_loader\n",
    "for batch_data, batch_labels in train_loader:\n",
    "    # Take the first image from the batch\n",
    "    image = batch_data[0]\n",
    "    break\n",
    "\n",
    "# Create instances of the layers\n",
    "to_complex = TwoChannelsToComplex()\n",
    "ifft_layer = InverseFourierTransform2D(norm='ortho')\n",
    "to_two_channels = ComplexToTwoChannels()\n",
    "\n",
    "# Apply the layers to the image\n",
    "complex_image = to_complex(image.unsqueeze(0))  # Add batch dimension\n",
    "back_transformed_complex = ifft_layer(complex_image)\n",
    "back_transformed_two_channels = to_two_channels(back_transformed_complex)\n",
    "\n",
    "# Calculate the magnitude of the back-transformed image\n",
    "magnitude = torch.sqrt(back_transformed_two_channels[:, 0]**2 + back_transformed_two_channels[:, 1]**2)\n",
    "\n",
    "# Calculate the magnitude of the Fourier spectrum\n",
    "fourier_spectrum = torch.sqrt(complex_image.real**2 + complex_image.imag**2)\n",
    "\n",
    "# Display the magnitude image and Fourier spectrum\n",
    "import matplotlib.pyplot as plt\n",
    "\n",
    "plt.figure(figsize=(8, 4))\n",
    "\n",
    "plt.subplot(1, 2, 1)\n",
    "plt.imshow(magnitude[0].squeeze(), cmap='gray')\n",
    "plt.title('Magnitude of Back-transformed Image')\n",
    "plt.axis('off')\n",
    "\n",
    "plt.subplot(1, 2, 2)\n",
    "plt.imshow(np.log(fourier_spectrum[0]).squeeze(), cmap='gray')\n",
    "plt.title('Fourier Spectrum')\n",
    "plt.axis('off')\n",
    "\n",
    "plt.tight_layout()\n",
    "plt.show()"
   ]
  },
  {
   "cell_type": "markdown",
   "metadata": {},
   "source": [
    "# Network Structures"
   ]
  },
  {
   "cell_type": "code",
   "execution_count": 11,
   "metadata": {},
   "outputs": [],
   "source": [
    "# test\n",
    "class FourierCNN(nn.Module):\n",
    "    def __init__(self):\n",
    "        super(FourierCNN, self).__init__()\n",
    "        self.channeltocomplex = TwoChannelsToComplex()\n",
    "        self.complextochannel = ComplexToTwoChannels()\n",
    "        self.ifft = InverseFourierTransform2D(norm='ortho')\n",
    "        self.conv1 = FourierConv2d(in_channels=1, out_channels=16, kernel_size=28)\n",
    "        self.maxpool1 = CplxMaxPool2d(kernel_size=2)\n",
    "        self.conv2 = FourierConv2d(in_channels=16, out_channels=32, kernel_size=14) # Decreasing kernel sizes since we Pool\n",
    "        self.conv3 = FourierConv2d(in_channels=32, out_channels=64, kernel_size=7)\n",
    "        self.dropout0 = nn.Dropout2d(0.35)\n",
    "        self.dropout1 = nn.Dropout2d(0.25)\n",
    "        self.dropout2 = nn.Dropout2d(0.5)\n",
    "        self.fc1 = nn.Linear(6272, 1024)\n",
    "        self.fc2 = nn.Linear(1024, 512)\n",
    "        self.fc3 = nn.Linear(512, 128)\n",
    "        self.fc4 = nn.Linear(128, 10)\n",
    "\n",
    "    def forward(self, x):\n",
    "        # print(x.shape)\n",
    "        x= self.channeltocomplex(x)\n",
    "        x=x.unsqueeze(1)\n",
    "        x = self.conv1(x)\n",
    "        x = self.maxpool1(x)\n",
    "        x = ComplexReLU()(x)\n",
    "        x = self.conv2(x)\n",
    "        x = ComplexReLU()(x)\n",
    "        x = self.conv3(x)\n",
    "        x = ComplexReLU()(x)\n",
    "        #x = self.dropout1(x)\n",
    "        x = self.complextochannel(x)\n",
    "        x = torch.flatten(x, 1)\n",
    "        x = self.fc1(x)\n",
    "        x = nn.functional.relu(x)\n",
    "        x = self.dropout2(x)\n",
    "        x = self.fc2(x)\n",
    "        x = nn.functional.relu(x)\n",
    "        x = self.dropout0(x)\n",
    "        x = self.fc3(x)\n",
    "        x = nn.functional.relu(x)\n",
    "        x = self.dropout1(x)\n",
    "        x = self.fc4(x)\n",
    "        return nn.functional.log_softmax(x, dim=1)\n",
    "\n",
    "model = FourierCNN()"
   ]
  },
  {
   "cell_type": "markdown",
   "metadata": {},
   "source": [
    "# Train Loop"
   ]
  },
  {
   "cell_type": "code",
   "execution_count": 65,
   "metadata": {},
   "outputs": [],
   "source": [
    "from tqdm import tqdm\n",
    "# 7. Train the network on the Fourier transformed data\n",
    "criterion = nn.CrossEntropyLoss()\n",
    "optimizer = optim.Adam(model.parameters(), lr=0.00001)\n",
    "\n",
    "def train(model, device, train_loader, optimizer, epoch):\n",
    "    model.train()\n",
    "    train_loss = 0\n",
    "    correct = 0\n",
    "    total = 0\n",
    "    \n",
    "    progress_bar = tqdm(train_loader, desc=f\"Epoch {epoch}\", unit=\"batch\")\n",
    "    for batch_idx, (data, target) in enumerate(progress_bar):\n",
    "        data, target = data.to(device), target.to(device)\n",
    "        optimizer.zero_grad()\n",
    "        output = model(data)\n",
    "        loss = criterion(output, target)\n",
    "        loss.backward()\n",
    "        optimizer.step()\n",
    "        \n",
    "        train_loss += loss.item()\n",
    "        _, predicted = output.max(1)\n",
    "        total += target.size(0)\n",
    "        correct += predicted.eq(target).sum().item()\n",
    "        \n",
    "        progress_bar.set_postfix({\"Train Loss\": train_loss / (batch_idx + 1), \"Train Acc\": 100. * correct / total})\n",
    "    \n",
    "    train_loss /= len(train_loader)\n",
    "    train_accuracy = 100. * correct / total\n",
    "    return train_loss, train_accuracy\n",
    "\n",
    "def test(model, device, test_loader):\n",
    "    model.eval()\n",
    "    test_loss = 0\n",
    "    correct = 0\n",
    "    total = 0\n",
    "    \n",
    "    with torch.no_grad():\n",
    "        for data, target in test_loader:\n",
    "            data, target = data.to(device), target.to(device)\n",
    "            output = model(data)\n",
    "            test_loss += criterion(output, target).item()\n",
    "            _, predicted = output.max(1)\n",
    "            total += target.size(0)\n",
    "            correct += predicted.eq(target).sum().item()\n",
    "    \n",
    "    test_loss /= len(test_loader)\n",
    "    test_accuracy = 100. * correct / total\n",
    "    return test_loss, test_accuracy\n"
   ]
  },
  {
   "cell_type": "markdown",
   "metadata": {},
   "source": [
    "## Start training"
   ]
  },
  {
   "cell_type": "code",
   "execution_count": 66,
   "metadata": {},
   "outputs": [
    {
     "name": "stderr",
     "output_type": "stream",
     "text": [
      "Epoch 1:   0%|          | 0/938 [00:00<?, ?batch/s]/home/marco/miniconda3/envs/pytorch-env/lib/python3.10/site-packages/torch/nn/functional.py:1345: UserWarning: dropout2d: Received a 2-D input to dropout2d, which is deprecated and will result in an error in a future release. To retain the behavior and silence this warning, please use dropout instead. Note that dropout2d exists to provide channel-wise dropout on inputs with 2 spatial dimensions, a channel dimension, and an optional batch dimension (i.e. 3D or 4D inputs).\n",
      "  warnings.warn(warn_msg)\n",
      "Epoch 1:   0%|          | 0/938 [00:00<?, ?batch/s, Train Loss=128, Train Acc=6.25]"
     ]
    },
    {
     "name": "stderr",
     "output_type": "stream",
     "text": [
      "Epoch 1: 100%|██████████| 938/938 [00:04<00:00, 210.14batch/s, Train Loss=10.6, Train Acc=40.9]\n"
     ]
    },
    {
     "name": "stdout",
     "output_type": "stream",
     "text": [
      "Epoch 1\n",
      "Train Loss: 10.6394, Train Accuracy: 40.91%\n",
      "Test Loss: 0.8263, Test Accuracy: 73.07%\n",
      "\n"
     ]
    },
    {
     "name": "stderr",
     "output_type": "stream",
     "text": [
      "Epoch 2: 100%|██████████| 938/938 [00:04<00:00, 212.87batch/s, Train Loss=1.5, Train Acc=57.4] \n"
     ]
    },
    {
     "name": "stdout",
     "output_type": "stream",
     "text": [
      "Epoch 2\n",
      "Train Loss: 1.4993, Train Accuracy: 57.45%\n",
      "Test Loss: 0.7539, Test Accuracy: 75.44%\n",
      "\n"
     ]
    },
    {
     "name": "stderr",
     "output_type": "stream",
     "text": [
      "Epoch 3: 100%|██████████| 938/938 [00:04<00:00, 209.57batch/s, Train Loss=1.12, Train Acc=64.4]\n"
     ]
    },
    {
     "name": "stdout",
     "output_type": "stream",
     "text": [
      "Epoch 3\n",
      "Train Loss: 1.1175, Train Accuracy: 64.44%\n",
      "Test Loss: 0.6720, Test Accuracy: 77.77%\n",
      "\n"
     ]
    },
    {
     "name": "stderr",
     "output_type": "stream",
     "text": [
      "Epoch 4: 100%|██████████| 938/938 [00:04<00:00, 213.71batch/s, Train Loss=0.945, Train Acc=69.2]\n"
     ]
    },
    {
     "name": "stdout",
     "output_type": "stream",
     "text": [
      "Epoch 4\n",
      "Train Loss: 0.9445, Train Accuracy: 69.21%\n",
      "Test Loss: 0.6072, Test Accuracy: 79.26%\n",
      "\n"
     ]
    },
    {
     "name": "stderr",
     "output_type": "stream",
     "text": [
      "Epoch 5: 100%|██████████| 938/938 [00:04<00:00, 212.83batch/s, Train Loss=0.838, Train Acc=72.5]\n"
     ]
    },
    {
     "name": "stdout",
     "output_type": "stream",
     "text": [
      "Epoch 5\n",
      "Train Loss: 0.8377, Train Accuracy: 72.54%\n",
      "Test Loss: 0.5686, Test Accuracy: 80.89%\n",
      "\n"
     ]
    },
    {
     "name": "stderr",
     "output_type": "stream",
     "text": [
      "Epoch 6: 100%|██████████| 938/938 [00:04<00:00, 208.65batch/s, Train Loss=0.758, Train Acc=74.8]\n"
     ]
    },
    {
     "name": "stdout",
     "output_type": "stream",
     "text": [
      "Epoch 6\n",
      "Train Loss: 0.7580, Train Accuracy: 74.81%\n",
      "Test Loss: 0.5396, Test Accuracy: 82.04%\n",
      "\n"
     ]
    },
    {
     "name": "stderr",
     "output_type": "stream",
     "text": [
      "Epoch 7: 100%|██████████| 938/938 [00:04<00:00, 212.12batch/s, Train Loss=0.7, Train Acc=76.8]  \n"
     ]
    },
    {
     "name": "stdout",
     "output_type": "stream",
     "text": [
      "Epoch 7\n",
      "Train Loss: 0.7002, Train Accuracy: 76.84%\n",
      "Test Loss: 0.5139, Test Accuracy: 82.31%\n",
      "\n"
     ]
    },
    {
     "name": "stderr",
     "output_type": "stream",
     "text": [
      "Epoch 8: 100%|██████████| 938/938 [00:04<00:00, 215.29batch/s, Train Loss=0.657, Train Acc=77.9]\n"
     ]
    },
    {
     "name": "stdout",
     "output_type": "stream",
     "text": [
      "Epoch 8\n",
      "Train Loss: 0.6572, Train Accuracy: 77.91%\n",
      "Test Loss: 0.5041, Test Accuracy: 82.95%\n",
      "\n"
     ]
    },
    {
     "name": "stderr",
     "output_type": "stream",
     "text": [
      "Epoch 9: 100%|██████████| 938/938 [00:04<00:00, 213.68batch/s, Train Loss=0.619, Train Acc=79.1]\n"
     ]
    },
    {
     "name": "stdout",
     "output_type": "stream",
     "text": [
      "Epoch 9\n",
      "Train Loss: 0.6194, Train Accuracy: 79.14%\n",
      "Test Loss: 0.4827, Test Accuracy: 83.20%\n",
      "\n"
     ]
    },
    {
     "name": "stderr",
     "output_type": "stream",
     "text": [
      "Epoch 10: 100%|██████████| 938/938 [00:04<00:00, 213.25batch/s, Train Loss=0.586, Train Acc=80]  \n"
     ]
    },
    {
     "name": "stdout",
     "output_type": "stream",
     "text": [
      "Epoch 10\n",
      "Train Loss: 0.5858, Train Accuracy: 80.03%\n",
      "Test Loss: 0.4785, Test Accuracy: 83.54%\n",
      "\n"
     ]
    },
    {
     "name": "stderr",
     "output_type": "stream",
     "text": [
      "Epoch 11: 100%|██████████| 938/938 [00:04<00:00, 213.82batch/s, Train Loss=0.562, Train Acc=80.9]\n"
     ]
    },
    {
     "name": "stdout",
     "output_type": "stream",
     "text": [
      "Epoch 11\n",
      "Train Loss: 0.5620, Train Accuracy: 80.89%\n",
      "Test Loss: 0.4554, Test Accuracy: 83.99%\n",
      "\n"
     ]
    },
    {
     "name": "stderr",
     "output_type": "stream",
     "text": [
      "Epoch 12: 100%|██████████| 938/938 [00:04<00:00, 206.97batch/s, Train Loss=0.533, Train Acc=81.6]\n"
     ]
    },
    {
     "name": "stdout",
     "output_type": "stream",
     "text": [
      "Epoch 12\n",
      "Train Loss: 0.5332, Train Accuracy: 81.58%\n",
      "Test Loss: 0.4556, Test Accuracy: 84.29%\n",
      "\n"
     ]
    },
    {
     "name": "stderr",
     "output_type": "stream",
     "text": [
      "Epoch 13: 100%|██████████| 938/938 [00:04<00:00, 203.18batch/s, Train Loss=0.515, Train Acc=82.3]\n"
     ]
    },
    {
     "name": "stdout",
     "output_type": "stream",
     "text": [
      "Epoch 13\n",
      "Train Loss: 0.5149, Train Accuracy: 82.27%\n",
      "Test Loss: 0.4438, Test Accuracy: 84.27%\n",
      "\n"
     ]
    },
    {
     "name": "stderr",
     "output_type": "stream",
     "text": [
      "Epoch 14: 100%|██████████| 938/938 [00:04<00:00, 203.42batch/s, Train Loss=0.496, Train Acc=82.9]\n"
     ]
    },
    {
     "name": "stdout",
     "output_type": "stream",
     "text": [
      "Epoch 14\n",
      "Train Loss: 0.4959, Train Accuracy: 82.89%\n",
      "Test Loss: 0.4304, Test Accuracy: 84.79%\n",
      "\n"
     ]
    },
    {
     "name": "stderr",
     "output_type": "stream",
     "text": [
      "Epoch 15: 100%|██████████| 938/938 [00:04<00:00, 201.89batch/s, Train Loss=0.479, Train Acc=83.4]\n"
     ]
    },
    {
     "name": "stdout",
     "output_type": "stream",
     "text": [
      "Epoch 15\n",
      "Train Loss: 0.4791, Train Accuracy: 83.44%\n",
      "Test Loss: 0.4256, Test Accuracy: 84.83%\n",
      "\n"
     ]
    },
    {
     "name": "stderr",
     "output_type": "stream",
     "text": [
      "Epoch 16: 100%|██████████| 938/938 [00:04<00:00, 217.61batch/s, Train Loss=0.462, Train Acc=83.8]\n"
     ]
    },
    {
     "name": "stdout",
     "output_type": "stream",
     "text": [
      "Epoch 16\n",
      "Train Loss: 0.4623, Train Accuracy: 83.85%\n",
      "Test Loss: 0.4317, Test Accuracy: 84.85%\n",
      "\n"
     ]
    },
    {
     "name": "stderr",
     "output_type": "stream",
     "text": [
      "Epoch 17: 100%|██████████| 938/938 [00:04<00:00, 216.29batch/s, Train Loss=0.45, Train Acc=84.3] \n"
     ]
    },
    {
     "name": "stdout",
     "output_type": "stream",
     "text": [
      "Epoch 17\n",
      "Train Loss: 0.4499, Train Accuracy: 84.33%\n",
      "Test Loss: 0.4173, Test Accuracy: 85.01%\n",
      "\n"
     ]
    },
    {
     "name": "stderr",
     "output_type": "stream",
     "text": [
      "Epoch 18: 100%|██████████| 938/938 [00:04<00:00, 215.95batch/s, Train Loss=0.438, Train Acc=84.6]\n"
     ]
    },
    {
     "name": "stdout",
     "output_type": "stream",
     "text": [
      "Epoch 18\n",
      "Train Loss: 0.4383, Train Accuracy: 84.57%\n",
      "Test Loss: 0.4147, Test Accuracy: 84.80%\n",
      "\n"
     ]
    },
    {
     "name": "stderr",
     "output_type": "stream",
     "text": [
      "Epoch 19: 100%|██████████| 938/938 [00:04<00:00, 215.54batch/s, Train Loss=0.425, Train Acc=84.8]\n"
     ]
    },
    {
     "name": "stdout",
     "output_type": "stream",
     "text": [
      "Epoch 19\n",
      "Train Loss: 0.4253, Train Accuracy: 84.78%\n",
      "Test Loss: 0.4118, Test Accuracy: 85.30%\n",
      "\n"
     ]
    },
    {
     "name": "stderr",
     "output_type": "stream",
     "text": [
      "Epoch 20: 100%|██████████| 938/938 [00:04<00:00, 218.66batch/s, Train Loss=0.416, Train Acc=85.2]\n"
     ]
    },
    {
     "name": "stdout",
     "output_type": "stream",
     "text": [
      "Epoch 20\n",
      "Train Loss: 0.4159, Train Accuracy: 85.22%\n",
      "Test Loss: 0.4080, Test Accuracy: 85.33%\n",
      "\n"
     ]
    },
    {
     "name": "stderr",
     "output_type": "stream",
     "text": [
      "Epoch 21: 100%|██████████| 938/938 [00:04<00:00, 215.62batch/s, Train Loss=0.406, Train Acc=85.5]\n"
     ]
    },
    {
     "name": "stdout",
     "output_type": "stream",
     "text": [
      "Epoch 21\n",
      "Train Loss: 0.4059, Train Accuracy: 85.47%\n",
      "Test Loss: 0.4102, Test Accuracy: 85.63%\n",
      "\n"
     ]
    },
    {
     "name": "stderr",
     "output_type": "stream",
     "text": [
      "Epoch 22: 100%|██████████| 938/938 [00:04<00:00, 215.75batch/s, Train Loss=0.393, Train Acc=85.9]\n"
     ]
    },
    {
     "name": "stdout",
     "output_type": "stream",
     "text": [
      "Epoch 22\n",
      "Train Loss: 0.3929, Train Accuracy: 85.95%\n",
      "Test Loss: 0.4037, Test Accuracy: 85.41%\n",
      "\n"
     ]
    },
    {
     "name": "stderr",
     "output_type": "stream",
     "text": [
      "Epoch 23: 100%|██████████| 938/938 [00:04<00:00, 210.65batch/s, Train Loss=0.388, Train Acc=86.2]\n"
     ]
    },
    {
     "name": "stdout",
     "output_type": "stream",
     "text": [
      "Epoch 23\n",
      "Train Loss: 0.3880, Train Accuracy: 86.20%\n",
      "Test Loss: 0.4040, Test Accuracy: 85.72%\n",
      "\n"
     ]
    },
    {
     "name": "stderr",
     "output_type": "stream",
     "text": [
      "Epoch 24: 100%|██████████| 938/938 [00:04<00:00, 201.05batch/s, Train Loss=0.375, Train Acc=86.6]\n"
     ]
    },
    {
     "name": "stdout",
     "output_type": "stream",
     "text": [
      "Epoch 24\n",
      "Train Loss: 0.3746, Train Accuracy: 86.56%\n",
      "Test Loss: 0.3969, Test Accuracy: 85.83%\n",
      "\n"
     ]
    },
    {
     "name": "stderr",
     "output_type": "stream",
     "text": [
      "Epoch 25: 100%|██████████| 938/938 [00:04<00:00, 202.35batch/s, Train Loss=0.368, Train Acc=86.7]\n"
     ]
    },
    {
     "name": "stdout",
     "output_type": "stream",
     "text": [
      "Epoch 25\n",
      "Train Loss: 0.3681, Train Accuracy: 86.66%\n",
      "Test Loss: 0.3989, Test Accuracy: 85.90%\n",
      "\n"
     ]
    },
    {
     "name": "stderr",
     "output_type": "stream",
     "text": [
      "Epoch 26: 100%|██████████| 938/938 [00:04<00:00, 207.55batch/s, Train Loss=0.358, Train Acc=87.1]\n"
     ]
    },
    {
     "name": "stdout",
     "output_type": "stream",
     "text": [
      "Epoch 26\n",
      "Train Loss: 0.3576, Train Accuracy: 87.06%\n",
      "Test Loss: 0.3944, Test Accuracy: 85.86%\n",
      "\n"
     ]
    },
    {
     "name": "stderr",
     "output_type": "stream",
     "text": [
      "Epoch 27: 100%|██████████| 938/938 [00:04<00:00, 209.52batch/s, Train Loss=0.348, Train Acc=87.3]\n"
     ]
    },
    {
     "name": "stdout",
     "output_type": "stream",
     "text": [
      "Epoch 27\n",
      "Train Loss: 0.3475, Train Accuracy: 87.32%\n",
      "Test Loss: 0.3947, Test Accuracy: 85.96%\n",
      "\n"
     ]
    },
    {
     "name": "stderr",
     "output_type": "stream",
     "text": [
      "Epoch 28: 100%|██████████| 938/938 [00:04<00:00, 207.36batch/s, Train Loss=0.341, Train Acc=87.6]\n"
     ]
    },
    {
     "name": "stdout",
     "output_type": "stream",
     "text": [
      "Epoch 28\n",
      "Train Loss: 0.3406, Train Accuracy: 87.57%\n",
      "Test Loss: 0.4029, Test Accuracy: 85.82%\n",
      "\n"
     ]
    },
    {
     "name": "stderr",
     "output_type": "stream",
     "text": [
      "Epoch 29: 100%|██████████| 938/938 [00:04<00:00, 208.24batch/s, Train Loss=0.334, Train Acc=88]  \n"
     ]
    },
    {
     "name": "stdout",
     "output_type": "stream",
     "text": [
      "Epoch 29\n",
      "Train Loss: 0.3339, Train Accuracy: 87.95%\n",
      "Test Loss: 0.4007, Test Accuracy: 85.92%\n",
      "\n"
     ]
    },
    {
     "name": "stderr",
     "output_type": "stream",
     "text": [
      "Epoch 30: 100%|██████████| 938/938 [00:04<00:00, 208.40batch/s, Train Loss=0.326, Train Acc=88.1]\n"
     ]
    },
    {
     "name": "stdout",
     "output_type": "stream",
     "text": [
      "Epoch 30\n",
      "Train Loss: 0.3261, Train Accuracy: 88.06%\n",
      "Test Loss: 0.3954, Test Accuracy: 85.98%\n",
      "\n"
     ]
    },
    {
     "name": "stderr",
     "output_type": "stream",
     "text": [
      "Epoch 31: 100%|██████████| 938/938 [00:04<00:00, 213.72batch/s, Train Loss=0.32, Train Acc=88.3] \n"
     ]
    },
    {
     "name": "stdout",
     "output_type": "stream",
     "text": [
      "Epoch 31\n",
      "Train Loss: 0.3198, Train Accuracy: 88.28%\n",
      "Test Loss: 0.3936, Test Accuracy: 85.99%\n",
      "\n"
     ]
    },
    {
     "name": "stderr",
     "output_type": "stream",
     "text": [
      "Epoch 32: 100%|██████████| 938/938 [00:04<00:00, 218.51batch/s, Train Loss=0.315, Train Acc=88.5]\n"
     ]
    },
    {
     "name": "stdout",
     "output_type": "stream",
     "text": [
      "Epoch 32\n",
      "Train Loss: 0.3151, Train Accuracy: 88.53%\n",
      "Test Loss: 0.3964, Test Accuracy: 86.19%\n",
      "\n"
     ]
    },
    {
     "name": "stderr",
     "output_type": "stream",
     "text": [
      "Epoch 33: 100%|██████████| 938/938 [00:04<00:00, 220.00batch/s, Train Loss=0.308, Train Acc=88.6]\n"
     ]
    },
    {
     "name": "stdout",
     "output_type": "stream",
     "text": [
      "Epoch 33\n",
      "Train Loss: 0.3080, Train Accuracy: 88.65%\n",
      "Test Loss: 0.3968, Test Accuracy: 85.89%\n",
      "\n"
     ]
    },
    {
     "name": "stderr",
     "output_type": "stream",
     "text": [
      "Epoch 34: 100%|██████████| 938/938 [00:04<00:00, 220.16batch/s, Train Loss=0.3, Train Acc=89]    \n"
     ]
    },
    {
     "name": "stdout",
     "output_type": "stream",
     "text": [
      "Epoch 34\n",
      "Train Loss: 0.2997, Train Accuracy: 88.98%\n",
      "Test Loss: 0.3923, Test Accuracy: 86.09%\n",
      "\n"
     ]
    },
    {
     "name": "stderr",
     "output_type": "stream",
     "text": [
      "Epoch 35: 100%|██████████| 938/938 [00:04<00:00, 214.75batch/s, Train Loss=0.295, Train Acc=89.2]\n"
     ]
    },
    {
     "name": "stdout",
     "output_type": "stream",
     "text": [
      "Epoch 35\n",
      "Train Loss: 0.2946, Train Accuracy: 89.24%\n",
      "Test Loss: 0.4029, Test Accuracy: 86.10%\n",
      "\n"
     ]
    },
    {
     "name": "stderr",
     "output_type": "stream",
     "text": [
      "Epoch 36: 100%|██████████| 938/938 [00:04<00:00, 209.63batch/s, Train Loss=0.294, Train Acc=89.3]\n"
     ]
    },
    {
     "name": "stdout",
     "output_type": "stream",
     "text": [
      "Epoch 36\n",
      "Train Loss: 0.2937, Train Accuracy: 89.27%\n",
      "Test Loss: 0.3975, Test Accuracy: 86.23%\n",
      "\n"
     ]
    },
    {
     "name": "stderr",
     "output_type": "stream",
     "text": [
      "Epoch 37: 100%|██████████| 938/938 [00:04<00:00, 212.06batch/s, Train Loss=0.285, Train Acc=89.5]\n"
     ]
    },
    {
     "name": "stdout",
     "output_type": "stream",
     "text": [
      "Epoch 37\n",
      "Train Loss: 0.2852, Train Accuracy: 89.45%\n",
      "Test Loss: 0.3982, Test Accuracy: 86.10%\n",
      "\n"
     ]
    },
    {
     "name": "stderr",
     "output_type": "stream",
     "text": [
      "Epoch 38: 100%|██████████| 938/938 [00:04<00:00, 215.59batch/s, Train Loss=0.276, Train Acc=89.7]\n"
     ]
    },
    {
     "name": "stdout",
     "output_type": "stream",
     "text": [
      "Epoch 38\n",
      "Train Loss: 0.2757, Train Accuracy: 89.73%\n",
      "Test Loss: 0.4127, Test Accuracy: 86.08%\n",
      "\n"
     ]
    },
    {
     "name": "stderr",
     "output_type": "stream",
     "text": [
      "Epoch 39: 100%|██████████| 938/938 [00:04<00:00, 208.97batch/s, Train Loss=0.274, Train Acc=89.8]\n"
     ]
    },
    {
     "name": "stdout",
     "output_type": "stream",
     "text": [
      "Epoch 39\n",
      "Train Loss: 0.2739, Train Accuracy: 89.79%\n",
      "Test Loss: 0.3968, Test Accuracy: 86.23%\n",
      "\n"
     ]
    },
    {
     "name": "stderr",
     "output_type": "stream",
     "text": [
      "Epoch 40: 100%|██████████| 938/938 [00:04<00:00, 212.60batch/s, Train Loss=0.265, Train Acc=90.2]\n"
     ]
    },
    {
     "name": "stdout",
     "output_type": "stream",
     "text": [
      "Epoch 40\n",
      "Train Loss: 0.2650, Train Accuracy: 90.17%\n",
      "Test Loss: 0.4083, Test Accuracy: 86.08%\n",
      "\n"
     ]
    },
    {
     "name": "stderr",
     "output_type": "stream",
     "text": [
      "Epoch 41: 100%|██████████| 938/938 [00:04<00:00, 214.91batch/s, Train Loss=0.265, Train Acc=90]  \n"
     ]
    },
    {
     "name": "stdout",
     "output_type": "stream",
     "text": [
      "Epoch 41\n",
      "Train Loss: 0.2646, Train Accuracy: 90.05%\n",
      "Test Loss: 0.4093, Test Accuracy: 86.14%\n",
      "\n"
     ]
    },
    {
     "name": "stderr",
     "output_type": "stream",
     "text": [
      "Epoch 42: 100%|██████████| 938/938 [00:04<00:00, 217.73batch/s, Train Loss=0.257, Train Acc=90.4]\n"
     ]
    },
    {
     "name": "stdout",
     "output_type": "stream",
     "text": [
      "Epoch 42\n",
      "Train Loss: 0.2571, Train Accuracy: 90.36%\n",
      "Test Loss: 0.4073, Test Accuracy: 86.52%\n",
      "\n"
     ]
    },
    {
     "name": "stderr",
     "output_type": "stream",
     "text": [
      "Epoch 43: 100%|██████████| 938/938 [00:04<00:00, 217.37batch/s, Train Loss=0.254, Train Acc=90.4]\n"
     ]
    },
    {
     "name": "stdout",
     "output_type": "stream",
     "text": [
      "Epoch 43\n",
      "Train Loss: 0.2544, Train Accuracy: 90.38%\n",
      "Test Loss: 0.4076, Test Accuracy: 86.41%\n",
      "\n"
     ]
    },
    {
     "name": "stderr",
     "output_type": "stream",
     "text": [
      "Epoch 44: 100%|██████████| 938/938 [00:04<00:00, 218.06batch/s, Train Loss=0.25, Train Acc=90.7] \n"
     ]
    },
    {
     "name": "stdout",
     "output_type": "stream",
     "text": [
      "Epoch 44\n",
      "Train Loss: 0.2495, Train Accuracy: 90.72%\n",
      "Test Loss: 0.4072, Test Accuracy: 86.30%\n",
      "\n"
     ]
    },
    {
     "name": "stderr",
     "output_type": "stream",
     "text": [
      "Epoch 45: 100%|██████████| 938/938 [00:04<00:00, 215.42batch/s, Train Loss=0.247, Train Acc=90.7]\n"
     ]
    },
    {
     "name": "stdout",
     "output_type": "stream",
     "text": [
      "Epoch 45\n",
      "Train Loss: 0.2466, Train Accuracy: 90.67%\n",
      "Test Loss: 0.4089, Test Accuracy: 86.61%\n",
      "\n"
     ]
    },
    {
     "name": "stderr",
     "output_type": "stream",
     "text": [
      "Epoch 46: 100%|██████████| 938/938 [00:04<00:00, 209.25batch/s, Train Loss=0.241, Train Acc=90.8]\n"
     ]
    },
    {
     "name": "stdout",
     "output_type": "stream",
     "text": [
      "Epoch 46\n",
      "Train Loss: 0.2415, Train Accuracy: 90.81%\n",
      "Test Loss: 0.4248, Test Accuracy: 86.16%\n",
      "\n"
     ]
    },
    {
     "name": "stderr",
     "output_type": "stream",
     "text": [
      "Epoch 47: 100%|██████████| 938/938 [00:04<00:00, 207.50batch/s, Train Loss=0.238, Train Acc=91.1]\n"
     ]
    },
    {
     "name": "stdout",
     "output_type": "stream",
     "text": [
      "Epoch 47\n",
      "Train Loss: 0.2378, Train Accuracy: 91.07%\n",
      "Test Loss: 0.4209, Test Accuracy: 86.59%\n",
      "\n"
     ]
    },
    {
     "name": "stderr",
     "output_type": "stream",
     "text": [
      "Epoch 48: 100%|██████████| 938/938 [00:04<00:00, 211.10batch/s, Train Loss=0.232, Train Acc=91.2]\n"
     ]
    },
    {
     "name": "stdout",
     "output_type": "stream",
     "text": [
      "Epoch 48\n",
      "Train Loss: 0.2324, Train Accuracy: 91.25%\n",
      "Test Loss: 0.4107, Test Accuracy: 86.37%\n",
      "\n"
     ]
    },
    {
     "name": "stderr",
     "output_type": "stream",
     "text": [
      "Epoch 49: 100%|██████████| 938/938 [00:04<00:00, 210.60batch/s, Train Loss=0.229, Train Acc=91.3]\n"
     ]
    },
    {
     "name": "stdout",
     "output_type": "stream",
     "text": [
      "Epoch 49\n",
      "Train Loss: 0.2286, Train Accuracy: 91.34%\n",
      "Test Loss: 0.4256, Test Accuracy: 86.51%\n",
      "\n"
     ]
    },
    {
     "name": "stderr",
     "output_type": "stream",
     "text": [
      "Epoch 50: 100%|██████████| 938/938 [00:04<00:00, 207.46batch/s, Train Loss=0.227, Train Acc=91.4]\n"
     ]
    },
    {
     "name": "stdout",
     "output_type": "stream",
     "text": [
      "Epoch 50\n",
      "Train Loss: 0.2265, Train Accuracy: 91.39%\n",
      "Test Loss: 0.4157, Test Accuracy: 86.64%\n",
      "\n"
     ]
    },
    {
     "name": "stderr",
     "output_type": "stream",
     "text": [
      "Epoch 51: 100%|██████████| 938/938 [00:04<00:00, 208.29batch/s, Train Loss=0.218, Train Acc=91.7]\n"
     ]
    },
    {
     "name": "stdout",
     "output_type": "stream",
     "text": [
      "Epoch 51\n",
      "Train Loss: 0.2182, Train Accuracy: 91.68%\n",
      "Test Loss: 0.4250, Test Accuracy: 86.52%\n",
      "\n"
     ]
    },
    {
     "name": "stderr",
     "output_type": "stream",
     "text": [
      "Epoch 52: 100%|██████████| 938/938 [00:04<00:00, 208.05batch/s, Train Loss=0.217, Train Acc=91.8]\n"
     ]
    },
    {
     "name": "stdout",
     "output_type": "stream",
     "text": [
      "Epoch 52\n",
      "Train Loss: 0.2170, Train Accuracy: 91.79%\n",
      "Test Loss: 0.4285, Test Accuracy: 86.75%\n",
      "\n"
     ]
    },
    {
     "name": "stderr",
     "output_type": "stream",
     "text": [
      "Epoch 53: 100%|██████████| 938/938 [00:04<00:00, 219.34batch/s, Train Loss=0.211, Train Acc=91.9]\n"
     ]
    },
    {
     "name": "stdout",
     "output_type": "stream",
     "text": [
      "Epoch 53\n",
      "Train Loss: 0.2110, Train Accuracy: 91.89%\n",
      "Test Loss: 0.4271, Test Accuracy: 86.26%\n",
      "\n"
     ]
    },
    {
     "name": "stderr",
     "output_type": "stream",
     "text": [
      "Epoch 54: 100%|██████████| 938/938 [00:04<00:00, 216.24batch/s, Train Loss=0.208, Train Acc=92]  \n"
     ]
    },
    {
     "name": "stdout",
     "output_type": "stream",
     "text": [
      "Epoch 54\n",
      "Train Loss: 0.2077, Train Accuracy: 92.02%\n",
      "Test Loss: 0.4466, Test Accuracy: 86.71%\n",
      "\n"
     ]
    },
    {
     "name": "stderr",
     "output_type": "stream",
     "text": [
      "Epoch 55: 100%|██████████| 938/938 [00:04<00:00, 218.01batch/s, Train Loss=0.206, Train Acc=92]  \n"
     ]
    },
    {
     "name": "stdout",
     "output_type": "stream",
     "text": [
      "Epoch 55\n",
      "Train Loss: 0.2058, Train Accuracy: 92.02%\n",
      "Test Loss: 0.4402, Test Accuracy: 86.36%\n",
      "\n"
     ]
    },
    {
     "name": "stderr",
     "output_type": "stream",
     "text": [
      "Epoch 56: 100%|██████████| 938/938 [00:04<00:00, 216.80batch/s, Train Loss=0.202, Train Acc=92.2]\n"
     ]
    },
    {
     "name": "stdout",
     "output_type": "stream",
     "text": [
      "Epoch 56\n",
      "Train Loss: 0.2016, Train Accuracy: 92.19%\n",
      "Test Loss: 0.4444, Test Accuracy: 86.44%\n",
      "\n"
     ]
    },
    {
     "name": "stderr",
     "output_type": "stream",
     "text": [
      "Epoch 57: 100%|██████████| 938/938 [00:04<00:00, 213.76batch/s, Train Loss=0.201, Train Acc=92.2]\n"
     ]
    },
    {
     "name": "stdout",
     "output_type": "stream",
     "text": [
      "Epoch 57\n",
      "Train Loss: 0.2006, Train Accuracy: 92.22%\n",
      "Test Loss: 0.4415, Test Accuracy: 86.73%\n",
      "\n"
     ]
    },
    {
     "name": "stderr",
     "output_type": "stream",
     "text": [
      "Epoch 58: 100%|██████████| 938/938 [00:04<00:00, 206.16batch/s, Train Loss=0.197, Train Acc=92.4]\n"
     ]
    },
    {
     "name": "stdout",
     "output_type": "stream",
     "text": [
      "Epoch 58\n",
      "Train Loss: 0.1969, Train Accuracy: 92.43%\n",
      "Test Loss: 0.4418, Test Accuracy: 86.53%\n",
      "\n"
     ]
    },
    {
     "name": "stderr",
     "output_type": "stream",
     "text": [
      "Epoch 59: 100%|██████████| 938/938 [00:04<00:00, 208.22batch/s, Train Loss=0.188, Train Acc=92.8]\n"
     ]
    },
    {
     "name": "stdout",
     "output_type": "stream",
     "text": [
      "Epoch 59\n",
      "Train Loss: 0.1881, Train Accuracy: 92.75%\n",
      "Test Loss: 0.4417, Test Accuracy: 86.45%\n",
      "\n"
     ]
    },
    {
     "name": "stderr",
     "output_type": "stream",
     "text": [
      "Epoch 60: 100%|██████████| 938/938 [00:04<00:00, 210.30batch/s, Train Loss=0.19, Train Acc=92.6] \n"
     ]
    },
    {
     "name": "stdout",
     "output_type": "stream",
     "text": [
      "Epoch 60\n",
      "Train Loss: 0.1900, Train Accuracy: 92.64%\n",
      "Test Loss: 0.4572, Test Accuracy: 86.65%\n",
      "\n"
     ]
    },
    {
     "name": "stderr",
     "output_type": "stream",
     "text": [
      "Epoch 61: 100%|██████████| 938/938 [00:04<00:00, 205.86batch/s, Train Loss=0.188, Train Acc=92.7]\n"
     ]
    },
    {
     "name": "stdout",
     "output_type": "stream",
     "text": [
      "Epoch 61\n",
      "Train Loss: 0.1881, Train Accuracy: 92.67%\n",
      "Test Loss: 0.4704, Test Accuracy: 86.57%\n",
      "\n"
     ]
    },
    {
     "name": "stderr",
     "output_type": "stream",
     "text": [
      "Epoch 62: 100%|██████████| 938/938 [00:04<00:00, 217.20batch/s, Train Loss=0.185, Train Acc=92.9]\n"
     ]
    },
    {
     "name": "stdout",
     "output_type": "stream",
     "text": [
      "Epoch 62\n",
      "Train Loss: 0.1848, Train Accuracy: 92.89%\n",
      "Test Loss: 0.4688, Test Accuracy: 86.82%\n",
      "\n"
     ]
    },
    {
     "name": "stderr",
     "output_type": "stream",
     "text": [
      "Epoch 63: 100%|██████████| 938/938 [00:04<00:00, 217.49batch/s, Train Loss=0.18, Train Acc=93.1] \n"
     ]
    },
    {
     "name": "stdout",
     "output_type": "stream",
     "text": [
      "Epoch 63\n",
      "Train Loss: 0.1798, Train Accuracy: 93.06%\n",
      "Test Loss: 0.4629, Test Accuracy: 86.61%\n",
      "\n"
     ]
    },
    {
     "name": "stderr",
     "output_type": "stream",
     "text": [
      "Epoch 64: 100%|██████████| 938/938 [00:04<00:00, 214.92batch/s, Train Loss=0.178, Train Acc=93.2]\n"
     ]
    },
    {
     "name": "stdout",
     "output_type": "stream",
     "text": [
      "Epoch 64\n",
      "Train Loss: 0.1776, Train Accuracy: 93.16%\n",
      "Test Loss: 0.4946, Test Accuracy: 86.56%\n",
      "\n"
     ]
    },
    {
     "name": "stderr",
     "output_type": "stream",
     "text": [
      "Epoch 65: 100%|██████████| 938/938 [00:04<00:00, 215.73batch/s, Train Loss=0.179, Train Acc=93.1]\n"
     ]
    },
    {
     "name": "stdout",
     "output_type": "stream",
     "text": [
      "Epoch 65\n",
      "Train Loss: 0.1794, Train Accuracy: 93.11%\n",
      "Test Loss: 0.4546, Test Accuracy: 86.44%\n",
      "\n"
     ]
    },
    {
     "name": "stderr",
     "output_type": "stream",
     "text": [
      "Epoch 66: 100%|██████████| 938/938 [00:04<00:00, 216.17batch/s, Train Loss=0.172, Train Acc=93.3]\n"
     ]
    },
    {
     "name": "stdout",
     "output_type": "stream",
     "text": [
      "Epoch 66\n",
      "Train Loss: 0.1715, Train Accuracy: 93.31%\n",
      "Test Loss: 0.4858, Test Accuracy: 86.42%\n",
      "\n"
     ]
    },
    {
     "name": "stderr",
     "output_type": "stream",
     "text": [
      "Epoch 67: 100%|██████████| 938/938 [00:04<00:00, 212.07batch/s, Train Loss=0.17, Train Acc=93.3] \n"
     ]
    },
    {
     "name": "stdout",
     "output_type": "stream",
     "text": [
      "Epoch 67\n",
      "Train Loss: 0.1699, Train Accuracy: 93.33%\n",
      "Test Loss: 0.5060, Test Accuracy: 86.42%\n",
      "\n"
     ]
    },
    {
     "name": "stderr",
     "output_type": "stream",
     "text": [
      "Epoch 68: 100%|██████████| 938/938 [00:04<00:00, 210.85batch/s, Train Loss=0.17, Train Acc=93.6] \n"
     ]
    },
    {
     "name": "stdout",
     "output_type": "stream",
     "text": [
      "Epoch 68\n",
      "Train Loss: 0.1703, Train Accuracy: 93.57%\n",
      "Test Loss: 0.4864, Test Accuracy: 86.66%\n",
      "\n"
     ]
    },
    {
     "name": "stderr",
     "output_type": "stream",
     "text": [
      "Epoch 69: 100%|██████████| 938/938 [00:04<00:00, 215.91batch/s, Train Loss=0.164, Train Acc=93.6]\n"
     ]
    },
    {
     "name": "stdout",
     "output_type": "stream",
     "text": [
      "Epoch 69\n",
      "Train Loss: 0.1641, Train Accuracy: 93.55%\n",
      "Test Loss: 0.4742, Test Accuracy: 86.63%\n",
      "\n"
     ]
    },
    {
     "name": "stderr",
     "output_type": "stream",
     "text": [
      "Epoch 70: 100%|██████████| 938/938 [00:04<00:00, 204.77batch/s, Train Loss=0.167, Train Acc=93.5]\n"
     ]
    },
    {
     "name": "stdout",
     "output_type": "stream",
     "text": [
      "Epoch 70\n",
      "Train Loss: 0.1667, Train Accuracy: 93.55%\n",
      "Test Loss: 0.4939, Test Accuracy: 86.32%\n",
      "\n"
     ]
    },
    {
     "name": "stderr",
     "output_type": "stream",
     "text": [
      "Epoch 71: 100%|██████████| 938/938 [00:04<00:00, 206.71batch/s, Train Loss=0.159, Train Acc=93.8]\n"
     ]
    },
    {
     "name": "stdout",
     "output_type": "stream",
     "text": [
      "Epoch 71\n",
      "Train Loss: 0.1594, Train Accuracy: 93.79%\n",
      "Test Loss: 0.5095, Test Accuracy: 86.58%\n",
      "\n"
     ]
    },
    {
     "name": "stderr",
     "output_type": "stream",
     "text": [
      "Epoch 72: 100%|██████████| 938/938 [00:04<00:00, 205.08batch/s, Train Loss=0.163, Train Acc=93.6]\n"
     ]
    },
    {
     "name": "stdout",
     "output_type": "stream",
     "text": [
      "Epoch 72\n",
      "Train Loss: 0.1633, Train Accuracy: 93.62%\n",
      "Test Loss: 0.4921, Test Accuracy: 86.45%\n",
      "\n"
     ]
    },
    {
     "name": "stderr",
     "output_type": "stream",
     "text": [
      "Epoch 73: 100%|██████████| 938/938 [00:04<00:00, 208.85batch/s, Train Loss=0.158, Train Acc=93.9]\n"
     ]
    },
    {
     "name": "stdout",
     "output_type": "stream",
     "text": [
      "Epoch 73\n",
      "Train Loss: 0.1580, Train Accuracy: 93.86%\n",
      "Test Loss: 0.5030, Test Accuracy: 86.50%\n",
      "\n"
     ]
    },
    {
     "name": "stderr",
     "output_type": "stream",
     "text": [
      "Epoch 74: 100%|██████████| 938/938 [00:04<00:00, 218.82batch/s, Train Loss=0.153, Train Acc=94]  \n"
     ]
    },
    {
     "name": "stdout",
     "output_type": "stream",
     "text": [
      "Epoch 74\n",
      "Train Loss: 0.1525, Train Accuracy: 93.98%\n",
      "Test Loss: 0.4901, Test Accuracy: 86.94%\n",
      "\n"
     ]
    },
    {
     "name": "stderr",
     "output_type": "stream",
     "text": [
      "Epoch 75: 100%|██████████| 938/938 [00:04<00:00, 220.26batch/s, Train Loss=0.152, Train Acc=94.1]\n"
     ]
    },
    {
     "name": "stdout",
     "output_type": "stream",
     "text": [
      "Epoch 75\n",
      "Train Loss: 0.1516, Train Accuracy: 94.05%\n",
      "Test Loss: 0.5171, Test Accuracy: 86.45%\n",
      "\n"
     ]
    },
    {
     "name": "stderr",
     "output_type": "stream",
     "text": [
      "Epoch 76: 100%|██████████| 938/938 [00:04<00:00, 220.20batch/s, Train Loss=0.149, Train Acc=94.2]\n"
     ]
    },
    {
     "name": "stdout",
     "output_type": "stream",
     "text": [
      "Epoch 76\n",
      "Train Loss: 0.1486, Train Accuracy: 94.17%\n",
      "Test Loss: 0.5396, Test Accuracy: 86.43%\n",
      "\n"
     ]
    },
    {
     "name": "stderr",
     "output_type": "stream",
     "text": [
      "Epoch 77: 100%|██████████| 938/938 [00:04<00:00, 212.62batch/s, Train Loss=0.15, Train Acc=94.2] \n"
     ]
    },
    {
     "name": "stdout",
     "output_type": "stream",
     "text": [
      "Epoch 77\n",
      "Train Loss: 0.1499, Train Accuracy: 94.17%\n",
      "Test Loss: 0.5185, Test Accuracy: 86.96%\n",
      "\n"
     ]
    },
    {
     "name": "stderr",
     "output_type": "stream",
     "text": [
      "Epoch 78: 100%|██████████| 938/938 [00:04<00:00, 202.26batch/s, Train Loss=0.148, Train Acc=94.2]\n"
     ]
    },
    {
     "name": "stdout",
     "output_type": "stream",
     "text": [
      "Epoch 78\n",
      "Train Loss: 0.1477, Train Accuracy: 94.22%\n",
      "Test Loss: 0.5140, Test Accuracy: 86.55%\n",
      "\n"
     ]
    },
    {
     "name": "stderr",
     "output_type": "stream",
     "text": [
      "Epoch 79: 100%|██████████| 938/938 [00:04<00:00, 205.87batch/s, Train Loss=0.143, Train Acc=94.5]\n"
     ]
    },
    {
     "name": "stdout",
     "output_type": "stream",
     "text": [
      "Epoch 79\n",
      "Train Loss: 0.1432, Train Accuracy: 94.47%\n",
      "Test Loss: 0.5303, Test Accuracy: 86.81%\n",
      "\n"
     ]
    },
    {
     "name": "stderr",
     "output_type": "stream",
     "text": [
      "Epoch 80: 100%|██████████| 938/938 [00:04<00:00, 211.86batch/s, Train Loss=0.145, Train Acc=94.3]\n"
     ]
    },
    {
     "name": "stdout",
     "output_type": "stream",
     "text": [
      "Epoch 80\n",
      "Train Loss: 0.1452, Train Accuracy: 94.35%\n",
      "Test Loss: 0.5485, Test Accuracy: 86.60%\n",
      "\n"
     ]
    },
    {
     "name": "stderr",
     "output_type": "stream",
     "text": [
      "Epoch 81: 100%|██████████| 938/938 [00:04<00:00, 214.48batch/s, Train Loss=0.139, Train Acc=94.5]\n"
     ]
    },
    {
     "name": "stdout",
     "output_type": "stream",
     "text": [
      "Epoch 81\n",
      "Train Loss: 0.1395, Train Accuracy: 94.52%\n",
      "Test Loss: 0.5321, Test Accuracy: 86.38%\n",
      "\n"
     ]
    },
    {
     "name": "stderr",
     "output_type": "stream",
     "text": [
      "Epoch 82: 100%|██████████| 938/938 [00:04<00:00, 210.12batch/s, Train Loss=0.141, Train Acc=94.4]\n"
     ]
    },
    {
     "name": "stdout",
     "output_type": "stream",
     "text": [
      "Epoch 82\n",
      "Train Loss: 0.1411, Train Accuracy: 94.37%\n",
      "Test Loss: 0.5326, Test Accuracy: 86.69%\n",
      "\n"
     ]
    },
    {
     "name": "stderr",
     "output_type": "stream",
     "text": [
      "Epoch 83: 100%|██████████| 938/938 [00:04<00:00, 215.94batch/s, Train Loss=0.137, Train Acc=94.6]\n"
     ]
    },
    {
     "name": "stdout",
     "output_type": "stream",
     "text": [
      "Epoch 83\n",
      "Train Loss: 0.1369, Train Accuracy: 94.61%\n",
      "Test Loss: 0.5663, Test Accuracy: 86.72%\n",
      "\n"
     ]
    },
    {
     "name": "stderr",
     "output_type": "stream",
     "text": [
      "Epoch 84: 100%|██████████| 938/938 [00:04<00:00, 206.90batch/s, Train Loss=0.139, Train Acc=94.5]\n"
     ]
    },
    {
     "name": "stdout",
     "output_type": "stream",
     "text": [
      "Epoch 84\n",
      "Train Loss: 0.1390, Train Accuracy: 94.53%\n",
      "Test Loss: 0.5628, Test Accuracy: 86.51%\n",
      "\n"
     ]
    },
    {
     "name": "stderr",
     "output_type": "stream",
     "text": [
      "Epoch 85: 100%|██████████| 938/938 [00:04<00:00, 217.29batch/s, Train Loss=0.13, Train Acc=94.9] \n"
     ]
    },
    {
     "name": "stdout",
     "output_type": "stream",
     "text": [
      "Epoch 85\n",
      "Train Loss: 0.1295, Train Accuracy: 94.94%\n",
      "Test Loss: 0.5619, Test Accuracy: 86.68%\n",
      "\n"
     ]
    },
    {
     "name": "stderr",
     "output_type": "stream",
     "text": [
      "Epoch 86: 100%|██████████| 938/938 [00:04<00:00, 217.51batch/s, Train Loss=0.138, Train Acc=94.6]\n"
     ]
    },
    {
     "name": "stdout",
     "output_type": "stream",
     "text": [
      "Epoch 86\n",
      "Train Loss: 0.1384, Train Accuracy: 94.56%\n",
      "Test Loss: 0.5676, Test Accuracy: 86.61%\n",
      "\n"
     ]
    },
    {
     "name": "stderr",
     "output_type": "stream",
     "text": [
      "Epoch 87: 100%|██████████| 938/938 [00:04<00:00, 216.39batch/s, Train Loss=0.133, Train Acc=94.8]\n"
     ]
    },
    {
     "name": "stdout",
     "output_type": "stream",
     "text": [
      "Epoch 87\n",
      "Train Loss: 0.1325, Train Accuracy: 94.78%\n",
      "Test Loss: 0.5609, Test Accuracy: 86.71%\n",
      "\n"
     ]
    },
    {
     "name": "stderr",
     "output_type": "stream",
     "text": [
      "Epoch 88: 100%|██████████| 938/938 [00:04<00:00, 218.24batch/s, Train Loss=0.134, Train Acc=94.8]\n"
     ]
    },
    {
     "name": "stdout",
     "output_type": "stream",
     "text": [
      "Epoch 88\n",
      "Train Loss: 0.1336, Train Accuracy: 94.77%\n",
      "Test Loss: 0.5717, Test Accuracy: 86.76%\n",
      "\n"
     ]
    },
    {
     "name": "stderr",
     "output_type": "stream",
     "text": [
      "Epoch 89: 100%|██████████| 938/938 [00:04<00:00, 218.43batch/s, Train Loss=0.129, Train Acc=95]  \n"
     ]
    },
    {
     "name": "stdout",
     "output_type": "stream",
     "text": [
      "Epoch 89\n",
      "Train Loss: 0.1289, Train Accuracy: 94.96%\n",
      "Test Loss: 0.5906, Test Accuracy: 86.44%\n",
      "\n"
     ]
    },
    {
     "name": "stderr",
     "output_type": "stream",
     "text": [
      "Epoch 90: 100%|██████████| 938/938 [00:04<00:00, 209.95batch/s, Train Loss=0.127, Train Acc=95]  \n"
     ]
    },
    {
     "name": "stdout",
     "output_type": "stream",
     "text": [
      "Epoch 90\n",
      "Train Loss: 0.1267, Train Accuracy: 95.05%\n",
      "Test Loss: 0.5844, Test Accuracy: 86.65%\n",
      "\n"
     ]
    },
    {
     "name": "stderr",
     "output_type": "stream",
     "text": [
      "Epoch 91: 100%|██████████| 938/938 [00:04<00:00, 208.36batch/s, Train Loss=0.129, Train Acc=95]  \n"
     ]
    },
    {
     "name": "stdout",
     "output_type": "stream",
     "text": [
      "Epoch 91\n",
      "Train Loss: 0.1288, Train Accuracy: 94.99%\n",
      "Test Loss: 0.5654, Test Accuracy: 86.72%\n",
      "\n"
     ]
    },
    {
     "name": "stderr",
     "output_type": "stream",
     "text": [
      "Epoch 92: 100%|██████████| 938/938 [00:04<00:00, 214.35batch/s, Train Loss=0.127, Train Acc=95.1]\n"
     ]
    },
    {
     "name": "stdout",
     "output_type": "stream",
     "text": [
      "Epoch 92\n",
      "Train Loss: 0.1274, Train Accuracy: 95.10%\n",
      "Test Loss: 0.5694, Test Accuracy: 86.78%\n",
      "\n"
     ]
    },
    {
     "name": "stderr",
     "output_type": "stream",
     "text": [
      "Epoch 93: 100%|██████████| 938/938 [00:04<00:00, 215.57batch/s, Train Loss=0.121, Train Acc=95.2]\n"
     ]
    },
    {
     "name": "stdout",
     "output_type": "stream",
     "text": [
      "Epoch 93\n",
      "Train Loss: 0.1212, Train Accuracy: 95.22%\n",
      "Test Loss: 0.5808, Test Accuracy: 86.55%\n",
      "\n"
     ]
    },
    {
     "name": "stderr",
     "output_type": "stream",
     "text": [
      "Epoch 94: 100%|██████████| 938/938 [00:04<00:00, 214.45batch/s, Train Loss=0.122, Train Acc=95.3]\n"
     ]
    },
    {
     "name": "stdout",
     "output_type": "stream",
     "text": [
      "Epoch 94\n",
      "Train Loss: 0.1216, Train Accuracy: 95.30%\n",
      "Test Loss: 0.5698, Test Accuracy: 86.43%\n",
      "\n"
     ]
    },
    {
     "name": "stderr",
     "output_type": "stream",
     "text": [
      "Epoch 95: 100%|██████████| 938/938 [00:04<00:00, 207.39batch/s, Train Loss=0.124, Train Acc=95.2]\n"
     ]
    },
    {
     "name": "stdout",
     "output_type": "stream",
     "text": [
      "Epoch 95\n",
      "Train Loss: 0.1243, Train Accuracy: 95.22%\n",
      "Test Loss: 0.5837, Test Accuracy: 86.72%\n",
      "\n"
     ]
    },
    {
     "name": "stderr",
     "output_type": "stream",
     "text": [
      "Epoch 96: 100%|██████████| 938/938 [00:04<00:00, 208.60batch/s, Train Loss=0.115, Train Acc=95.5]\n"
     ]
    },
    {
     "name": "stdout",
     "output_type": "stream",
     "text": [
      "Epoch 96\n",
      "Train Loss: 0.1153, Train Accuracy: 95.48%\n",
      "Test Loss: 0.5858, Test Accuracy: 86.77%\n",
      "\n"
     ]
    },
    {
     "name": "stderr",
     "output_type": "stream",
     "text": [
      "Epoch 97: 100%|██████████| 938/938 [00:04<00:00, 214.13batch/s, Train Loss=0.122, Train Acc=95.3]\n"
     ]
    },
    {
     "name": "stdout",
     "output_type": "stream",
     "text": [
      "Epoch 97\n",
      "Train Loss: 0.1216, Train Accuracy: 95.25%\n",
      "Test Loss: 0.6236, Test Accuracy: 86.59%\n",
      "\n"
     ]
    },
    {
     "name": "stderr",
     "output_type": "stream",
     "text": [
      "Epoch 98: 100%|██████████| 938/938 [00:04<00:00, 213.99batch/s, Train Loss=0.118, Train Acc=95.4]\n"
     ]
    },
    {
     "name": "stdout",
     "output_type": "stream",
     "text": [
      "Epoch 98\n",
      "Train Loss: 0.1185, Train Accuracy: 95.36%\n",
      "Test Loss: 0.5795, Test Accuracy: 86.77%\n",
      "\n"
     ]
    },
    {
     "name": "stderr",
     "output_type": "stream",
     "text": [
      "Epoch 99: 100%|██████████| 938/938 [00:04<00:00, 213.45batch/s, Train Loss=0.117, Train Acc=95.3]\n"
     ]
    },
    {
     "name": "stdout",
     "output_type": "stream",
     "text": [
      "Epoch 99\n",
      "Train Loss: 0.1172, Train Accuracy: 95.33%\n",
      "Test Loss: 0.5960, Test Accuracy: 86.73%\n",
      "\n"
     ]
    },
    {
     "name": "stderr",
     "output_type": "stream",
     "text": [
      "Epoch 100: 100%|██████████| 938/938 [00:04<00:00, 213.33batch/s, Train Loss=0.117, Train Acc=95.3]\n"
     ]
    },
    {
     "name": "stdout",
     "output_type": "stream",
     "text": [
      "Epoch 100\n",
      "Train Loss: 0.1174, Train Accuracy: 95.29%\n",
      "Test Loss: 0.5906, Test Accuracy: 86.59%\n",
      "\n"
     ]
    },
    {
     "name": "stderr",
     "output_type": "stream",
     "text": [
      "Epoch 101: 100%|██████████| 938/938 [00:04<00:00, 210.21batch/s, Train Loss=0.113, Train Acc=95.5]\n"
     ]
    },
    {
     "name": "stdout",
     "output_type": "stream",
     "text": [
      "Epoch 101\n",
      "Train Loss: 0.1132, Train Accuracy: 95.50%\n",
      "Test Loss: 0.6282, Test Accuracy: 86.79%\n",
      "\n"
     ]
    },
    {
     "name": "stderr",
     "output_type": "stream",
     "text": [
      "Epoch 102: 100%|██████████| 938/938 [00:04<00:00, 210.80batch/s, Train Loss=0.116, Train Acc=95.5]\n"
     ]
    },
    {
     "name": "stdout",
     "output_type": "stream",
     "text": [
      "Epoch 102\n",
      "Train Loss: 0.1161, Train Accuracy: 95.46%\n",
      "Test Loss: 0.6221, Test Accuracy: 86.53%\n",
      "\n"
     ]
    },
    {
     "name": "stderr",
     "output_type": "stream",
     "text": [
      "Epoch 103:   9%|▉         | 83/938 [00:00<00:04, 213.01batch/s, Train Loss=0.11, Train Acc=95.4] \n"
     ]
    },
    {
     "ename": "KeyboardInterrupt",
     "evalue": "",
     "output_type": "error",
     "traceback": [
      "\u001b[0;31m---------------------------------------------------------------------------\u001b[0m",
      "\u001b[0;31mKeyboardInterrupt\u001b[0m                         Traceback (most recent call last)",
      "\u001b[1;32m/home/marco/Desktop/MNIST_Dataset/240528_fourier_conv.ipynb Cell 18\u001b[0m line \u001b[0;36m7\n\u001b[1;32m      <a href='vscode-notebook-cell:/home/marco/Desktop/MNIST_Dataset/240528_fourier_conv.ipynb#X23sZmlsZQ%3D%3D?line=3'>4</a>\u001b[0m epochs \u001b[39m=\u001b[39m \u001b[39m500\u001b[39m\n\u001b[1;32m      <a href='vscode-notebook-cell:/home/marco/Desktop/MNIST_Dataset/240528_fourier_conv.ipynb#X23sZmlsZQ%3D%3D?line=5'>6</a>\u001b[0m \u001b[39mfor\u001b[39;00m epoch \u001b[39min\u001b[39;00m \u001b[39mrange\u001b[39m(\u001b[39m1\u001b[39m, epochs \u001b[39m+\u001b[39m \u001b[39m1\u001b[39m):\n\u001b[0;32m----> <a href='vscode-notebook-cell:/home/marco/Desktop/MNIST_Dataset/240528_fourier_conv.ipynb#X23sZmlsZQ%3D%3D?line=6'>7</a>\u001b[0m     train_loss, train_accuracy \u001b[39m=\u001b[39m train(model, device, train_loader, optimizer, epoch)\n\u001b[1;32m      <a href='vscode-notebook-cell:/home/marco/Desktop/MNIST_Dataset/240528_fourier_conv.ipynb#X23sZmlsZQ%3D%3D?line=7'>8</a>\u001b[0m     test_loss, test_accuracy \u001b[39m=\u001b[39m test(model, device, test_loader)\n\u001b[1;32m     <a href='vscode-notebook-cell:/home/marco/Desktop/MNIST_Dataset/240528_fourier_conv.ipynb#X23sZmlsZQ%3D%3D?line=9'>10</a>\u001b[0m     \u001b[39mprint\u001b[39m(\u001b[39mf\u001b[39m\u001b[39m\"\u001b[39m\u001b[39mEpoch \u001b[39m\u001b[39m{\u001b[39;00mepoch\u001b[39m}\u001b[39;00m\u001b[39m\"\u001b[39m)\n",
      "\u001b[1;32m/home/marco/Desktop/MNIST_Dataset/240528_fourier_conv.ipynb Cell 18\u001b[0m line \u001b[0;36m1\n\u001b[1;32m     <a href='vscode-notebook-cell:/home/marco/Desktop/MNIST_Dataset/240528_fourier_conv.ipynb#X23sZmlsZQ%3D%3D?line=12'>13</a>\u001b[0m \u001b[39mfor\u001b[39;00m batch_idx, (data, target) \u001b[39min\u001b[39;00m \u001b[39menumerate\u001b[39m(progress_bar):\n\u001b[1;32m     <a href='vscode-notebook-cell:/home/marco/Desktop/MNIST_Dataset/240528_fourier_conv.ipynb#X23sZmlsZQ%3D%3D?line=13'>14</a>\u001b[0m     data, target \u001b[39m=\u001b[39m data\u001b[39m.\u001b[39mto(device), target\u001b[39m.\u001b[39mto(device)\n\u001b[0;32m---> <a href='vscode-notebook-cell:/home/marco/Desktop/MNIST_Dataset/240528_fourier_conv.ipynb#X23sZmlsZQ%3D%3D?line=14'>15</a>\u001b[0m     optimizer\u001b[39m.\u001b[39;49mzero_grad()\n\u001b[1;32m     <a href='vscode-notebook-cell:/home/marco/Desktop/MNIST_Dataset/240528_fourier_conv.ipynb#X23sZmlsZQ%3D%3D?line=15'>16</a>\u001b[0m     output \u001b[39m=\u001b[39m model(data)\n\u001b[1;32m     <a href='vscode-notebook-cell:/home/marco/Desktop/MNIST_Dataset/240528_fourier_conv.ipynb#X23sZmlsZQ%3D%3D?line=16'>17</a>\u001b[0m     loss \u001b[39m=\u001b[39m criterion(output, target)\n",
      "File \u001b[0;32m~/miniconda3/envs/pytorch-env/lib/python3.10/site-packages/torch/_compile.py:24\u001b[0m, in \u001b[0;36m_disable_dynamo.<locals>.inner\u001b[0;34m(*args, **kwargs)\u001b[0m\n\u001b[1;32m     20\u001b[0m \u001b[39m@functools\u001b[39m\u001b[39m.\u001b[39mwraps(fn)\n\u001b[1;32m     21\u001b[0m \u001b[39mdef\u001b[39;00m \u001b[39minner\u001b[39m(\u001b[39m*\u001b[39margs, \u001b[39m*\u001b[39m\u001b[39m*\u001b[39mkwargs):\n\u001b[1;32m     22\u001b[0m     \u001b[39mimport\u001b[39;00m \u001b[39mtorch\u001b[39;00m\u001b[39m.\u001b[39;00m\u001b[39m_dynamo\u001b[39;00m\n\u001b[0;32m---> 24\u001b[0m     \u001b[39mreturn\u001b[39;00m torch\u001b[39m.\u001b[39;49m_dynamo\u001b[39m.\u001b[39;49mdisable(fn, recursive)(\u001b[39m*\u001b[39;49margs, \u001b[39m*\u001b[39;49m\u001b[39m*\u001b[39;49mkwargs)\n",
      "File \u001b[0;32m~/miniconda3/envs/pytorch-env/lib/python3.10/site-packages/torch/_dynamo/eval_frame.py:328\u001b[0m, in \u001b[0;36m_TorchDynamoContext.__call__.<locals>._fn\u001b[0;34m(*args, **kwargs)\u001b[0m\n\u001b[1;32m    326\u001b[0m dynamic_ctx\u001b[39m.\u001b[39m\u001b[39m__enter__\u001b[39m()\n\u001b[1;32m    327\u001b[0m \u001b[39mtry\u001b[39;00m:\n\u001b[0;32m--> 328\u001b[0m     \u001b[39mreturn\u001b[39;00m fn(\u001b[39m*\u001b[39;49margs, \u001b[39m*\u001b[39;49m\u001b[39m*\u001b[39;49mkwargs)\n\u001b[1;32m    329\u001b[0m \u001b[39mfinally\u001b[39;00m:\n\u001b[1;32m    330\u001b[0m     set_eval_frame(prior)\n",
      "File \u001b[0;32m~/miniconda3/envs/pytorch-env/lib/python3.10/site-packages/torch/optim/optimizer.py:808\u001b[0m, in \u001b[0;36mOptimizer.zero_grad\u001b[0;34m(self, set_to_none)\u001b[0m\n\u001b[1;32m    806\u001b[0m \u001b[39mif\u001b[39;00m p\u001b[39m.\u001b[39mgrad \u001b[39mis\u001b[39;00m \u001b[39mnot\u001b[39;00m \u001b[39mNone\u001b[39;00m:\n\u001b[1;32m    807\u001b[0m     \u001b[39mif\u001b[39;00m set_to_none:\n\u001b[0;32m--> 808\u001b[0m         p\u001b[39m.\u001b[39mgrad \u001b[39m=\u001b[39m \u001b[39mNone\u001b[39;00m\n\u001b[1;32m    809\u001b[0m     \u001b[39melse\u001b[39;00m:\n\u001b[1;32m    810\u001b[0m         \u001b[39mif\u001b[39;00m p\u001b[39m.\u001b[39mgrad\u001b[39m.\u001b[39mgrad_fn \u001b[39mis\u001b[39;00m \u001b[39mnot\u001b[39;00m \u001b[39mNone\u001b[39;00m:\n",
      "\u001b[0;31mKeyboardInterrupt\u001b[0m: "
     ]
    }
   ],
   "source": [
    "\n",
    "\n",
    "device = torch.device(\"cuda\" if torch.cuda.is_available() else \"cpu\")\n",
    "model.to(device)\n",
    "\n",
    "epochs = 500\n",
    "\n",
    "for epoch in range(1, epochs + 1):\n",
    "    train_loss, train_accuracy = train(model, device, train_loader, optimizer, epoch)\n",
    "    test_loss, test_accuracy = test(model, device, test_loader)\n",
    "    \n",
    "    print(f\"Epoch {epoch}\")\n",
    "    print(f\"Train Loss: {train_loss:.4f}, Train Accuracy: {train_accuracy:.2f}%\")\n",
    "    print(f\"Test Loss: {test_loss:.4f}, Test Accuracy: {test_accuracy:.2f}%\")\n",
    "    print()"
   ]
  },
  {
   "cell_type": "markdown",
   "metadata": {},
   "source": [
    "# Evaluation\n",
    "\n",
    "## Prediction for a single test example"
   ]
  },
  {
   "cell_type": "code",
   "execution_count": 56,
   "metadata": {},
   "outputs": [
    {
     "data": {
      "image/png": "[encoded data removed]",
      "text/plain": [
       "<Figure size 400x400 with 1 Axes>"
      ]
     },
     "metadata": {},
     "output_type": "display_data"
    },
    {
     "data": {
      "image/png": "[encoded data removed]",
      "text/plain": [
       "<Figure size 400x400 with 1 Axes>"
      ]
     },
     "metadata": {},
     "output_type": "display_data"
    },
    {
     "name": "stdout",
     "output_type": "stream",
     "text": [
      "True Label: Pullover\n",
      "Predicted Label: Pullover\n"
     ]
    }
   ],
   "source": [
    "example = 20\n",
    "labels_map = {\n",
    "    0: \"T-Shirt\",\n",
    "    1: \"Trouser\",\n",
    "    2: \"Pullover\",\n",
    "    3: \"Dress\",\n",
    "    4: \"Coat\",\n",
    "    5: \"Sandal\",\n",
    "    6: \"Shirt\",\n",
    "    7: \"Sneaker\",\n",
    "    8: \"Bag\",\n",
    "    9: \"Ankle Boot\",\n",
    "}\n",
    "# Get a single test example\n",
    "test_sample, test_label = next(iter(test_loader))\n",
    "test_sample, test_label = test_sample[example], test_label[example]\n",
    "\n",
    "# Make a complex number out of real and imaginary channels\n",
    "complex_sample = torch.complex(test_sample[0], test_sample[1])\n",
    "\n",
    "# Plot the absolute value logarithmized\n",
    "abs_sample = torch.abs(complex_sample)\n",
    "log_abs_sample = torch.log(abs_sample + 1e-7)  # Add a small constant to avoid taking log of zero\n",
    "\n",
    "plt.figure(figsize=(4, 4))\n",
    "plt.imshow(log_abs_sample.numpy(), cmap='gray')\n",
    "plt.title(\"Logarithmized Absolute Value\")\n",
    "plt.axis('off')\n",
    "plt.show()\n",
    "\n",
    "# Apply the inverse Fourier transform and plot the absolute value\n",
    "ifft_sample = torch.fft.ifft2(complex_sample)\n",
    "ifft_abs_sample = torch.abs(ifft_sample)\n",
    "\n",
    "plt.figure(figsize=(4, 4))\n",
    "plt.imshow(ifft_abs_sample.numpy(), cmap='gray')\n",
    "plt.title(f\"IFFT - Label: {labels_map[test_label.item()]}\")\n",
    "plt.axis('off')\n",
    "plt.show()\n",
    "\n",
    "# Put the example into the trained model and predict the class\n",
    "model.eval()\n",
    "with torch.no_grad():\n",
    "    test_sample = test_sample.unsqueeze(0).to(device)\n",
    "    output = model(test_sample)\n",
    "    _, predicted = torch.max(output, 1)\n",
    "    predicted_label = predicted.item()\n",
    "\n",
    "print(f\"True Label: {labels_map[test_label.item()]}\")\n",
    "print(f\"Predicted Label: {labels_map[predicted_label]}\")"
   ]
  },
  {
   "cell_type": "markdown",
   "metadata": {},
   "source": [
    "## Confusion Matrix and wrong samples"
   ]
  },
  {
   "cell_type": "code",
   "execution_count": 57,
   "metadata": {},
   "outputs": [
    {
     "name": "stderr",
     "output_type": "stream",
     "text": [
      "/home/marco/miniconda3/envs/pytorch-env/lib/python3.10/site-packages/torch/nn/functional.py:1345: UserWarning: dropout2d: Received a 2-D input to dropout2d, which is deprecated and will result in an error in a future release. To retain the behavior and silence this warning, please use dropout instead. Note that dropout2d exists to provide channel-wise dropout on inputs with 2 spatial dimensions, a channel dimension, and an optional batch dimension (i.e. 3D or 4D inputs).\n",
      "  warnings.warn(warn_msg)\n"
     ]
    },
    {
     "data": {
      "image/png": "[encoded data removed]",
      "text/plain": [
       "<Figure size 800x800 with 2 Axes>"
      ]
     },
     "metadata": {},
     "output_type": "display_data"
    },
    {
     "data": {
      "image/png": "[encoded data removed]",
      "text/plain": [
       "<Figure size 800x800 with 2 Axes>"
      ]
     },
     "metadata": {},
     "output_type": "display_data"
    },
    {
     "data": {
      "image/png": "[encoded data removed]",
      "text/plain": [
       "<Figure size 1200x400 with 3 Axes>"
      ]
     },
     "metadata": {},
     "output_type": "display_data"
    },
    {
     "name": "stdout",
     "output_type": "stream",
     "text": [
      "Train Accuracy: 0.9931\n",
      "Test Accuracy: 0.8259\n"
     ]
    }
   ],
   "source": [
    "import matplotlib.pyplot as plt\n",
    "from sklearn.metrics import confusion_matrix, accuracy_score\n",
    "import numpy as np\n",
    "import random\n",
    "\n",
    "def plot_confusion_matrix(cm, classes, normalize=False, title='Confusion Matrix', cmap=plt.cm.Blues):\n",
    "    if normalize:\n",
    "        cm = cm.astype('float') / cm.sum(axis=1)[:, np.newaxis]\n",
    "\n",
    "    plt.imshow(cm, interpolation='nearest', cmap=cmap)\n",
    "    plt.title(title)\n",
    "    plt.colorbar()\n",
    "    tick_marks = np.arange(len(classes))\n",
    "    plt.xticks(tick_marks, classes, rotation=45)\n",
    "    plt.yticks(tick_marks, classes)\n",
    "\n",
    "    # Add numbers to the confusion matrix\n",
    "    thresh = cm.max() / 2.\n",
    "    for i in range(cm.shape[0]):\n",
    "        for j in range(cm.shape[1]):\n",
    "            plt.text(j, i, format(cm[i, j], 'd'),\n",
    "                     horizontalalignment=\"center\",\n",
    "                     color=\"white\" if cm[i, j] > thresh else \"black\")\n",
    "\n",
    "    plt.xlabel('Predicted Label')\n",
    "    plt.ylabel('True Label')\n",
    "    plt.tight_layout()\n",
    "\n",
    "# Function to get the predictions for a dataset\n",
    "def get_predictions(model, data_loader, device):\n",
    "    model.eval()\n",
    "    predictions = []\n",
    "    true_labels = []\n",
    "    with torch.no_grad():\n",
    "        for data, target in data_loader:\n",
    "            data, target = data.to(device), target.to(device)\n",
    "            output = model(data)\n",
    "            _, predicted = torch.max(output, 1)\n",
    "            predictions.extend(predicted.cpu().numpy())\n",
    "            true_labels.extend(target.cpu().numpy())\n",
    "    return predictions, true_labels\n",
    "\n",
    "\n",
    "# Get the predictions for the train and test datasets\n",
    "train_predictions, train_true_labels = get_predictions(model, train_loader, device)\n",
    "test_predictions, test_true_labels = get_predictions(model, test_loader, device)\n",
    "\n",
    "\n",
    "# Plot the confusion matrix for the train dataset with numbers\n",
    "cm_train = confusion_matrix(train_true_labels, train_predictions)\n",
    "plt.figure(figsize=(8, 8))\n",
    "plot_confusion_matrix(cm_train, classes=list(labels_map.values()), normalize=False, title='Train Confusion Matrix')\n",
    "plt.show()\n",
    "\n",
    "# Plot the confusion matrix for the test dataset with numbers\n",
    "cm_test = confusion_matrix(test_true_labels, test_predictions)\n",
    "plt.figure(figsize=(8, 8))\n",
    "plot_confusion_matrix(cm_test, classes=list(labels_map.values()), normalize=False, title='Test Confusion Matrix')\n",
    "plt.show()\n",
    "\n",
    "# Plot 3 random examples from the wrong predictions\n",
    "wrong_predictions = [i for i, (p, t) in enumerate(zip(test_predictions, test_true_labels)) if p != t]\n",
    "random_indices = random.sample(wrong_predictions, 3)\n",
    "\n",
    "fig, axes = plt.subplots(1, 3, figsize=(12, 4))\n",
    "\n",
    "for i, idx in enumerate(random_indices):\n",
    "    img, _ = test_data[idx]\n",
    "    true_label = test_true_labels[idx]\n",
    "    predicted_label = test_predictions[idx]\n",
    "    axes[i].imshow(img.squeeze(), cmap='gray')\n",
    "    axes[i].set_title(f\"True: {labels_map[true_label]}\\nPredicted: {labels_map[predicted_label]}\")\n",
    "    axes[i].axis('off')\n",
    "\n",
    "plt.tight_layout()\n",
    "plt.show()\n",
    "# Calculate train and test accuracy\n",
    "train_accuracy = accuracy_score(train_true_labels, train_predictions)\n",
    "test_accuracy = accuracy_score(test_true_labels, test_predictions)\n",
    "\n",
    "# Print train and test accuracy\n",
    "print(f\"Train Accuracy: {train_accuracy:.4f}\")\n",
    "print(f\"Test Accuracy: {test_accuracy:.4f}\")"
   ]
  },
  {
   "cell_type": "code",
   "execution_count": null,
   "metadata": {},
   "outputs": [],
   "source": []
  }
 ],
 "metadata": {
  "kernelspec": {
   "display_name": "base",
   "language": "python",
   "name": "python3"
  },
  "language_info": {
   "codemirror_mode": {
    "name": "ipython",
    "version": 3
   },
   "file_extension": ".py",
   "mimetype": "text/x-python",
   "name": "python",
   "nbconvert_exporter": "python",
   "pygments_lexer": "ipython3",
   "version": "3.8.19"
  }
 },
 "nbformat": 4,
 "nbformat_minor": 2
}
