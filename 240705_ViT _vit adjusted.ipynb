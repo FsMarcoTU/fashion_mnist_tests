{
 "cells": [
  {
   "cell_type": "code",
   "execution_count": 1,
   "metadata": {},
   "outputs": [],
   "source": [
    "# from vit_pytorch import ViT\n",
    "import torch\n",
    "from torchvision import datasets, transforms\n",
    "from torch.utils.data import Dataset, DataLoader\n",
    "import numpy as np\n",
    "import matplotlib.pyplot as plt\n",
    "import random\n",
    "import torch.nn as nn\n",
    "import torch.optim as optim\n",
    "import torch.nn.functional as F\n",
    "from tqdm import tqdm\n",
    "from torch.utils.tensorboard import SummaryWriter\n",
    "from frequency_augmentations import rearrange_matrix, concentric_square_bandwidth_filter\n",
    "from vit_adjust import ViT  "
   ]
  },
  {
   "cell_type": "code",
   "execution_count": 2,
   "metadata": {},
   "outputs": [],
   "source": [
    "class TwoChannelsToComplex(nn.Module):\n",
    "    def __init__(self):\n",
    "        super(TwoChannelsToComplex, self).__init__()\n",
    "\n",
    "    def forward(self, x):\n",
    "        real, imag = torch.chunk(x, 2, dim=1)\n",
    "        complex_tensor = torch.complex(real.squeeze(1), imag.squeeze(1))\n",
    "        return complex_tensor\n",
    "class ComplexToTwoChannels(nn.Module):\n",
    "    def __init__(self):\n",
    "        super(ComplexToTwoChannels, self).__init__()\n",
    "\n",
    "    def forward(self, x):\n",
    "        real = x.real.unsqueeze(1)\n",
    "        imag = x.imag.unsqueeze(1)\n",
    "        two_channel_tensor = torch.cat((real, imag), dim=1)\n",
    "        return two_channel_tensor\n",
    "\n",
    "class InverseFourierTransform2D(nn.Module):\n",
    "    def __init__(self, norm='ortho'):\n",
    "        super(InverseFourierTransform2D, self).__init__()\n",
    "        self.norm = norm\n",
    "\n",
    "    def forward(self, x):\n",
    "        return torch.fft.ifft2(x, norm=self.norm)"
   ]
  },
  {
   "cell_type": "code",
   "execution_count": 3,
   "metadata": {},
   "outputs": [],
   "source": [
    "\n",
    "transform = transforms.Compose([transforms.ToTensor()])\n",
    "train_data = datasets.FashionMNIST(root='data', train=True, download=True, transform=transform)\n",
    "test_data = datasets.FashionMNIST(root='data', train=False, download=True, transform=transform)"
   ]
  },
  {
   "cell_type": "code",
   "execution_count": 4,
   "metadata": {},
   "outputs": [],
   "source": [
    "def fft_transform(data):\n",
    "    processed_data = []\n",
    "    for img, _ in data:\n",
    "        img_np = img.numpy().squeeze()\n",
    "        fft = np.fft.fft2(img_np)\n",
    "        processed_data.append((img_np, fft))\n",
    "    return processed_data\n",
    "\n",
    "train_fft = fft_transform(train_data)\n",
    "test_fft = fft_transform(test_data)\n",
    "\n",
    "def normalize_fft(fft_data):\n",
    "    normalized_data = []\n",
    "    for img_np, fft in fft_data:\n",
    "        # Calculate magnitude and phase\n",
    "        magnitude = np.abs(fft)\n",
    "        phase = np.angle(fft)\n",
    "        \n",
    "        # Normalize magnitude to [0, 1] range\n",
    "        magnitude_min = np.min(magnitude)\n",
    "        magnitude_max = np.max(magnitude)\n",
    "        normalized_magnitude = (magnitude - magnitude_min) / (magnitude_max - magnitude_min)\n",
    "        \n",
    "        # Rebuild complex number using normalized magnitude and original phase\n",
    "        normalized_fft = normalized_magnitude * np.exp(1j * phase)\n",
    "        \n",
    "        normalized_data.append((img_np, normalized_fft))\n",
    "    \n",
    "    return normalized_data\n",
    "\n",
    "# train_fft = normalize_fft(train_fft)\n",
    "# test_fft = normalize_fft(test_fft)"
   ]
  },
  {
   "cell_type": "code",
   "execution_count": 5,
   "metadata": {},
   "outputs": [
    {
     "name": "stderr",
     "output_type": "stream",
     "text": [
      "/tmp/ipykernel_10000/3824567529.py:62: RuntimeWarning: divide by zero encountered in log\n",
      "  plt.imshow(np.log(np.abs(result)), cmap=\"gray\")\n"
     ]
    },
    {
     "data": {
      "text/plain": [
       "<matplotlib.image.AxesImage at 0x727b92199d50>"
      ]
     },
     "execution_count": 5,
     "metadata": {},
     "output_type": "execute_result"
    },
    {
     "data": {
      "image/png": "[encoded data removed]",
      "text/plain": [
       "<Figure size 640x480 with 2 Axes>"
      ]
     },
     "metadata": {},
     "output_type": "display_data"
    }
   ],
   "source": [
    "import math\n",
    "def mask_frequency_spectrum_patches(spectrum, patch_size, max_mask_percentage=75):\n",
    "    \"\"\"\n",
    "    This function masks out full patches of the frequency spectrum.\n",
    "    \n",
    "    Input:\n",
    "    - spectrum: The frequency spectrum (centered or uncentered) as a 2D tensor\n",
    "    - patch_size: The size of each square patch\n",
    "    - max_mask_percentage: Maximum percentage of patches to mask (default: 75)\n",
    "    \n",
    "    Output:\n",
    "    - The masked frequency spectrum\n",
    "    \"\"\"\n",
    "    # Ensure the max_mask_percentage is between 0 and 100\n",
    "    max_mask_percentage = torch.clamp(torch.tensor(max_mask_percentage), 0, 100)\n",
    "    \n",
    "    # Calculate the number of patches\n",
    "    h, w = spectrum.shape\n",
    "    num_patches_h = math.ceil(h / patch_size)\n",
    "    num_patches_w = math.ceil(w / patch_size)\n",
    "    total_patches = num_patches_h * num_patches_w\n",
    "    \n",
    "    # Generate a random mask percentage\n",
    "    mask_percentage = torch.rand(1) * max_mask_percentage\n",
    "    \n",
    "    # Calculate the number of patches to mask\n",
    "    num_masked_patches = math.ceil(total_patches * mask_percentage.item() / 100)\n",
    "    \n",
    "    # Create a mask for patches\n",
    "    patch_mask = torch.ones(num_patches_h, num_patches_w, dtype=torch.bool)\n",
    "    flat_patch_mask = patch_mask.view(-1)\n",
    "    \n",
    "    # Randomly select patches to mask\n",
    "    mask_indices = torch.randperm(total_patches)[:num_masked_patches]\n",
    "    flat_patch_mask[mask_indices] = False\n",
    "    patch_mask = flat_patch_mask.view(num_patches_h, num_patches_w)\n",
    "    \n",
    "    # Create the full mask\n",
    "    mask = torch.ones_like(spectrum, dtype=torch.bool)\n",
    "    for i in range(num_patches_h):\n",
    "        for j in range(num_patches_w):\n",
    "            if not patch_mask[i, j]:\n",
    "                top = i * patch_size\n",
    "                left = j * patch_size\n",
    "                bottom = min((i + 1) * patch_size, h)\n",
    "                right = min((j + 1) * patch_size, w)\n",
    "                mask[top:bottom, left:right] = False\n",
    "    \n",
    "    # Apply the mask\n",
    "    masked_spectrum = spectrum.clone()\n",
    "    masked_spectrum[~mask] = 0\n",
    "    \n",
    "    return masked_spectrum\n",
    "\n",
    "\n",
    "\n",
    "# Example usage\n",
    "data = torch.tensor(train_fft[0][1])\n",
    "result = mask_frequency_spectrum_patches(torch.fft.fftshift(data), patch_size=7)\n",
    "\n",
    "plt.subplot(1,2,1)\n",
    "plt.imshow(np.log(np.abs(result)), cmap=\"gray\")\n",
    "plt.subplot(1,2,2)\n",
    "plt.imshow(np.log(np.abs(np.fft.fftshift(data))), cmap=\"gray\")"
   ]
  },
  {
   "cell_type": "code",
   "execution_count": 6,
   "metadata": {},
   "outputs": [
    {
     "name": "stderr",
     "output_type": "stream",
     "text": [
      "/tmp/ipykernel_10000/390381072.py:3: RuntimeWarning: divide by zero encountered in log\n",
      "  plt.imshow(np.log(np.abs(filtered)), cmap=\"gray\")\n"
     ]
    },
    {
     "data": {
      "text/plain": [
       "<matplotlib.image.AxesImage at 0x727b9211d5d0>"
      ]
     },
     "execution_count": 6,
     "metadata": {},
     "output_type": "execute_result"
    },
    {
     "data": {
      "image/png": "[encoded data removed]",
      "text/plain": [
       "<Figure size 640x480 with 2 Axes>"
      ]
     },
     "metadata": {},
     "output_type": "display_data"
    }
   ],
   "source": [
    "filtered = concentric_square_bandwidth_filter(torch.fft.fftshift(data), min_size=0, max_size=None, band_width=None)\n",
    "plt.subplot(1,2,1)\n",
    "plt.imshow(np.log(np.abs(filtered)), cmap=\"gray\")\n",
    "plt.subplot(1,2,2)\n",
    "plt.imshow(np.abs(np.fft.ifft2(np.fft.fftshift(filtered))), cmap=\"gray\")"
   ]
  },
  {
   "cell_type": "code",
   "execution_count": 7,
   "metadata": {},
   "outputs": [
    {
     "name": "stdout",
     "output_type": "stream",
     "text": [
      "1.0 0.0 (299.0078472062014+0j) (-105.1554452474781-85.19899857776973j)\n"
     ]
    },
    {
     "data": {
      "image/png": "[encoded data removed]",
      "text/plain": [
       "<Figure size 640x480 with 1 Axes>"
      ]
     },
     "metadata": {},
     "output_type": "display_data"
    }
   ],
   "source": [
    "plt.imshow(np.abs(train_fft[0])[1])\n",
    "print(train_fft[0][0].max(), train_fft[0][0].min(), train_fft[0][1].max(), train_fft[0][1].min())"
   ]
  },
  {
   "cell_type": "code",
   "execution_count": 8,
   "metadata": {},
   "outputs": [],
   "source": [
    "def phase_shift_fourier(fourier_image, x=2.0, y=2.0):\n",
    "    \"\"\"\n",
    "    Perform a random phase shift on a Fourier-image, constrained by maximum values.\n",
    "    \n",
    "    Parameters:\n",
    "    fourier_image (torch.tensor): Complex-valued centered Fourier representation of an image\n",
    "    x (float): Maximum amount to shift in x direction (0-2 range recommended due to 2pi periodicity)\n",
    "    y (float): Maximum amount to shift in y direction (0-2 range recommended due to 2pi periodicity)\n",
    "    \n",
    "    Returns:\n",
    "    torch.tensor: The phase-shifted Fourier-image\n",
    "    \"\"\"\n",
    "    fourier_image = torch.fft.fftshift(fourier_image)\n",
    "    rows, cols = fourier_image.shape\n",
    "    \n",
    "    # Generate random shift amounts within the specified ranges\n",
    "    random_x = torch.rand(1).item() * x\n",
    "    random_y = torch.rand(1).item() * y\n",
    "    shift_x = random_y * torch.pi * rows\n",
    "    shift_y = random_x * torch.pi * cols\n",
    "    \n",
    "    freq_x = torch.fft.fftfreq(cols)\n",
    "    freq_y = torch.fft.fftfreq(rows)\n",
    "    fx, fy = torch.meshgrid(freq_x, freq_y, indexing='ij')\n",
    "    \n",
    "    # Calculate and apply phase shift\n",
    "    phase_shift = torch.exp(-1j * (shift_x * fx + shift_y * fy))\n",
    "    shifted_fourier_image = torch.fft.fftshift(fourier_image * phase_shift)\n",
    "    \n",
    "    return shifted_fourier_image\n",
    "\n",
    "\n",
    "def mask_frequency_spectrum(spectrum, max_mask_percentage):\n",
    "    # Ensure the max_mask_percentage is between 0 and 100\n",
    "    max_mask_percentage = torch.clamp(torch.tensor(max_mask_percentage), 0, 100)\n",
    "    \n",
    "    # Generate a random mask percentage\n",
    "    mask_percentage = torch.rand(1) * max_mask_percentage\n",
    "    \n",
    "    # Calculate the number of elements to mask\n",
    "    num_elements = spectrum.numel()\n",
    "    num_masked = int(num_elements * mask_percentage.item() / 100)\n",
    "    \n",
    "    # Create a flat copy of the spectrum\n",
    "    flat_spectrum = spectrum.view(-1)\n",
    "    \n",
    "    # Randomly select indices to mask\n",
    "    mask_indices = torch.randperm(num_elements)[:num_masked]\n",
    "    \n",
    "    # Create a mask tensor\n",
    "    mask = torch.ones_like(flat_spectrum, dtype=torch.bool)\n",
    "    mask[mask_indices] = False\n",
    "    \n",
    "    # Apply the mask\n",
    "    masked_spectrum = flat_spectrum.clone()\n",
    "    masked_spectrum[~mask] = 0\n",
    "    \n",
    "    # Reshape the spectrum back to its original shape\n",
    "    masked_spectrum = masked_spectrum.view(spectrum.shape)\n",
    "    \n",
    "    return masked_spectrum\n",
    "\n",
    "\n",
    "def normalize_magn(fft):\n",
    "        magnitude = torch.abs(fft)\n",
    "        phase = torch.angle(fft)\n",
    "        \n",
    "        # Normalize magnitude to [0, 1] range\n",
    "        magnitude_min = torch.min(magnitude)\n",
    "        magnitude_max = torch.max(magnitude)\n",
    "        normalized_magnitude = (magnitude - magnitude_min) / (magnitude_max - magnitude_min)\n",
    "        \n",
    "        # Rebuild complex number using normalized magnitude and original phase\n",
    "        normalized_fft = normalized_magnitude * torch.exp(1j * phase)\n",
    "        \n",
    "        return normalized_fft"
   ]
  },
  {
   "cell_type": "code",
   "execution_count": 9,
   "metadata": {},
   "outputs": [],
   "source": [
    "class CustomTransform:\n",
    "    def __init__(self, is_training=True):\n",
    "        self.is_training = is_training\n",
    "        \n",
    "    def __call__(self, sample):\n",
    "        img, fft = torch.tensor(np.array(sample))\n",
    "        fft = torch.fft.fftshift(fft)\n",
    "        if self.is_training: \n",
    "            fft = phase_shift_fourier(fft)\n",
    "\n",
    "            # Choose a masking\n",
    "            augmentation_method = random.choice([1, 2, 3])\n",
    "    \n",
    "            if augmentation_method == 1:\n",
    "                fft = mask_frequency_spectrum(fft, 75)\n",
    "            elif augmentation_method == 2:\n",
    "                fft = concentric_square_bandwidth_filter(fft, min_size=0, max_size=None, band_width=None)\n",
    "            else:\n",
    "                fft = mask_frequency_spectrum_patches(fft, patch_size=7, max_mask_percentage=75)\n",
    "                    \n",
    "            #fft_rearranged = rearrange_matrix(fft) \n",
    "            #fft = normalize_magn(fft_rearranged)\n",
    "            fft_uncentered = torch.fft.fftshift(fft)\n",
    "            img = torch.fft.ifft2(fft_uncentered)\n",
    "        #fft = normalize_magn(fft)\n",
    "        # Split the complex image into real and imaginary parts\n",
    "        img_real = torch.real(img)\n",
    "        img_imag = torch.imag(img)\n",
    "        \n",
    "        # Stack the real and imaginary parts of the image\n",
    "        img_stacked = torch.stack([img_real, img_imag])\n",
    "        # Split the complex FFT into real and imaginary parts\n",
    "        fft_real = torch.real(fft)\n",
    "        fft_imag = torch.imag(fft)\n",
    "        fft_stacked = torch.stack([fft_real, fft_imag])\n",
    "        \n",
    "        # Stack the image and FFT side by side\n",
    "        combined = torch.concatenate([img_stacked, fft_stacked], axis=2)\n",
    "        \n",
    "        return combined.float()\n"
   ]
  },
  {
   "cell_type": "code",
   "execution_count": 10,
   "metadata": {},
   "outputs": [],
   "source": [
    "class ComplexDataset(Dataset):\n",
    "    def __init__(self, data, labels, is_training=True):\n",
    "        self.data = data\n",
    "        self.labels = labels\n",
    "        self.transform = CustomTransform(is_training)\n",
    "        \n",
    "    def __len__(self):\n",
    "        return len(self.data)\n",
    "\n",
    "    def __getitem__(self, idx):\n",
    "        sample = self.data[idx]\n",
    "        label = self.labels[idx]\n",
    "        sample = self.transform(sample)\n",
    "        return sample, label"
   ]
  },
  {
   "cell_type": "code",
   "execution_count": 11,
   "metadata": {},
   "outputs": [
    {
     "name": "stdout",
     "output_type": "stream",
     "text": [
      "938\n"
     ]
    }
   ],
   "source": [
    "# Create the custom dataset\n",
    "train_labels = [label for _, label in train_data]\n",
    "train_dataset = ComplexDataset(train_fft, train_labels, is_training=True)\n",
    "\n",
    "test_labels = [label for _, label in test_data]\n",
    "test_dataset = ComplexDataset(test_fft, test_labels, is_training=False)\n",
    "\n",
    "# Create data loaders\n",
    "train_loader = DataLoader(train_dataset, batch_size=64, shuffle=True)\n",
    "test_loader = DataLoader(test_dataset, batch_size=64, shuffle=False)\n",
    "\n",
    "print(len(train_loader))"
   ]
  },
  {
   "cell_type": "code",
   "execution_count": 12,
   "metadata": {},
   "outputs": [],
   "source": [
    "item = next(iter(train_loader))\n",
    "item_test = next(iter(test_loader))"
   ]
  },
  {
   "cell_type": "code",
   "execution_count": 13,
   "metadata": {},
   "outputs": [
    {
     "name": "stdout",
     "output_type": "stream",
     "text": [
      "torch.Size([64, 2, 28, 56])\n"
     ]
    },
    {
     "data": {
      "text/plain": [
       "<matplotlib.image.AxesImage at 0x727b90055ab0>"
      ]
     },
     "execution_count": 13,
     "metadata": {},
     "output_type": "execute_result"
    },
    {
     "data": {
      "image/png": "[encoded data removed]",
      "text/plain": [
       "<Figure size 640x480 with 2 Axes>"
      ]
     },
     "metadata": {},
     "output_type": "display_data"
    }
   ],
   "source": [
    "print(item[0].shape)\n",
    "plt.subplot(1,2,1)\n",
    "plt.imshow(item[0][0,0,:,:], cmap=\"gray\")\n",
    "plt.subplot(1,2,2)\n",
    "plt.imshow(item_test[0][0,0,:,:], cmap=\"gray\")"
   ]
  },
  {
   "cell_type": "code",
   "execution_count": 14,
   "metadata": {},
   "outputs": [
    {
     "name": "stdout",
     "output_type": "stream",
     "text": [
      "torch.float32\n"
     ]
    }
   ],
   "source": [
    "print(item[0][0][0][0].dtype)"
   ]
  },
  {
   "cell_type": "code",
   "execution_count": 15,
   "metadata": {},
   "outputs": [
    {
     "data": {
      "image/png": "[encoded data removed]",
      "text/plain": [
       "<Figure size 1200x500 with 3 Axes>"
      ]
     },
     "metadata": {},
     "output_type": "display_data"
    }
   ],
   "source": [
    "\n",
    "# Create a figure with two subplots\n",
    "fig, (ax1, ax2) = plt.subplots(1, 2, figsize=(12, 5))\n",
    "\n",
    "# Plot the image\n",
    "im = ax1.imshow(item[0][0,1,:,:], cmap=\"gray\")\n",
    "ax1.set_title(\"Image\")\n",
    "fig.colorbar(im, ax=ax1)\n",
    "\n",
    "# Plot the histogram\n",
    "ax2.hist(item[0][0,1,:,:].ravel(), bins=50, range=(0, 1))\n",
    "ax2.set_title(\"Histogram\")\n",
    "ax2.set_xlabel(\"Pixel Value\")\n",
    "ax2.set_ylabel(\"Frequency\")\n",
    "\n",
    "plt.tight_layout()\n",
    "plt.show()"
   ]
  },
  {
   "cell_type": "code",
   "execution_count": 23,
   "metadata": {},
   "outputs": [],
   "source": [
    "model = ViT(\n",
    "    image_size = 56,\n",
    "    patch_size = 7,\n",
    "    num_classes = 10,\n",
    "    dim = 128,\n",
    "    depth = 6,\n",
    "    heads = 12,\n",
    "    mlp_dim = 256,\n",
    "    dropout = 0.1,\n",
    "    emb_dropout = 0.1,\n",
    "    channels = 2\n",
    ")\n",
    "img = torch.randn(1, 2, 28, 56)\n",
    "\n",
    "preds = model(img) # (1, 1000)"
   ]
  },
  {
   "cell_type": "code",
   "execution_count": 24,
   "metadata": {},
   "outputs": [
    {
     "name": "stdout",
     "output_type": "stream",
     "text": [
      "Total trainable parameters: 2794898\n"
     ]
    }
   ],
   "source": [
    "total_params = sum(p.numel() for p in model.parameters() if p.requires_grad)\n",
    "print(f\"Total trainable parameters: {total_params}\")"
   ]
  },
  {
   "cell_type": "code",
   "execution_count": 25,
   "metadata": {},
   "outputs": [],
   "source": [
    "criterion = nn.CrossEntropyLoss()\n",
    "optimizer = optim.Adam(model.parameters(), lr=1e-4)"
   ]
  },
  {
   "cell_type": "code",
   "execution_count": 26,
   "metadata": {},
   "outputs": [],
   "source": [
    "writer = SummaryWriter('runs/experiment_1') \n",
    "\n",
    "def train(model, device, train_loader, optimizer, criterion, epoch):\n",
    "    model.train()\n",
    "    train_loss = 0\n",
    "    correct = 0\n",
    "    total = 0\n",
    "    progress_bar = tqdm(train_loader, desc=f\"Epoch {epoch}\", unit=\"batch\")\n",
    "    for batch_idx, (data, target) in enumerate(progress_bar):\n",
    "        data, target = data.to(device), target.to(device)\n",
    "        optimizer.zero_grad()\n",
    "        output = model(data)\n",
    "        loss = criterion(output, target)\n",
    "        loss.backward()\n",
    "        optimizer.step()\n",
    "        train_loss += loss.item()\n",
    "        _, predicted = output.max(1)\n",
    "        total += target.size(0)\n",
    "        correct += predicted.eq(target).sum().item()\n",
    "        progress_bar.set_postfix({\"Train Loss\": train_loss / (batch_idx + 1), \"Train Acc\": 100. * correct / total})\n",
    "        \n",
    "        # Log batch-level metrics\n",
    "        writer.add_scalar('Loss/Train Batch', loss.item(), epoch * len(train_loader) + batch_idx)\n",
    "        writer.add_scalar('Accuracy/Train Batch', 100. * correct / total, epoch * len(train_loader) + batch_idx)\n",
    "    \n",
    "    train_loss /= len(train_loader)\n",
    "    train_accuracy = 100. * correct / total\n",
    "    \n",
    "    # Log epoch-level metrics\n",
    "    writer.add_scalar('Loss/Train Epoch', train_loss, epoch)\n",
    "    writer.add_scalar('Accuracy/Train Epoch', train_accuracy, epoch)\n",
    "    \n",
    "    return train_loss, train_accuracy\n",
    "\n",
    "def test(model, device, test_loader, criterion, epoch):\n",
    "    model.eval()\n",
    "    test_loss = 0\n",
    "    correct = 0\n",
    "    total = 0\n",
    "    with torch.no_grad():\n",
    "        for data, target in test_loader:\n",
    "            data, target = data.to(device), target.to(device)\n",
    "            output = model(data)\n",
    "            test_loss += criterion(output, target).item()\n",
    "            _, predicted = output.max(1)\n",
    "            total += target.size(0)\n",
    "            correct += predicted.eq(target).sum().item()\n",
    "    \n",
    "    test_loss /= len(test_loader)\n",
    "    test_accuracy = 100. * correct / total\n",
    "    \n",
    "    # Log epoch-level metrics\n",
    "    writer.add_scalar('Loss/Test', test_loss, epoch)\n",
    "    writer.add_scalar('Accuracy/Test', test_accuracy, epoch)\n",
    "    \n",
    "    return test_loss, test_accuracy\n"
   ]
  },
  {
   "cell_type": "code",
   "execution_count": 27,
   "metadata": {},
   "outputs": [
    {
     "name": "stdout",
     "output_type": "stream",
     "text": [
      "cuda\n"
     ]
    }
   ],
   "source": [
    "device = torch.device(\"cuda\" if torch.cuda.is_available() else \"cpu\")\n",
    "model = model.to(device)\n",
    "print(device)"
   ]
  },
  {
   "cell_type": "code",
   "execution_count": 28,
   "metadata": {},
   "outputs": [
    {
     "name": "stderr",
     "output_type": "stream",
     "text": [
      "Epoch 0: 100%|██████████| 938/938 [00:22<00:00, 42.19batch/s, Train Loss=1.59, Train Acc=39.4]\n"
     ]
    },
    {
     "name": "stdout",
     "output_type": "stream",
     "text": [
      "Epoch 0\n",
      "Train Loss: 1.5860, Train Accuracy: 39.39%\n",
      "Test Loss: 1.1014, Test Accuracy: 59.68%\n",
      "\n"
     ]
    },
    {
     "name": "stderr",
     "output_type": "stream",
     "text": [
      "Epoch 1: 100%|██████████| 938/938 [00:22<00:00, 42.64batch/s, Train Loss=1.23, Train Acc=53.4]\n"
     ]
    },
    {
     "name": "stdout",
     "output_type": "stream",
     "text": [
      "Epoch 1\n",
      "Train Loss: 1.2322, Train Accuracy: 53.37%\n",
      "Test Loss: 0.9906, Test Accuracy: 62.71%\n",
      "\n"
     ]
    },
    {
     "name": "stderr",
     "output_type": "stream",
     "text": [
      "Epoch 2: 100%|██████████| 938/938 [00:21<00:00, 42.85batch/s, Train Loss=1.14, Train Acc=57.4]\n"
     ]
    },
    {
     "name": "stdout",
     "output_type": "stream",
     "text": [
      "Epoch 2\n",
      "Train Loss: 1.1354, Train Accuracy: 57.40%\n",
      "Test Loss: 0.9122, Test Accuracy: 67.36%\n",
      "\n"
     ]
    },
    {
     "name": "stderr",
     "output_type": "stream",
     "text": [
      "Epoch 3: 100%|██████████| 938/938 [00:22<00:00, 42.31batch/s, Train Loss=1.08, Train Acc=59.5]\n"
     ]
    },
    {
     "name": "stdout",
     "output_type": "stream",
     "text": [
      "Epoch 3\n",
      "Train Loss: 1.0757, Train Accuracy: 59.51%\n",
      "Test Loss: 0.8303, Test Accuracy: 70.12%\n",
      "\n"
     ]
    },
    {
     "name": "stderr",
     "output_type": "stream",
     "text": [
      "Epoch 4: 100%|██████████| 938/938 [00:22<00:00, 42.03batch/s, Train Loss=1.03, Train Acc=61.4]\n"
     ]
    },
    {
     "name": "stdout",
     "output_type": "stream",
     "text": [
      "Epoch 4\n",
      "Train Loss: 1.0295, Train Accuracy: 61.37%\n",
      "Test Loss: 0.8063, Test Accuracy: 71.50%\n",
      "\n"
     ]
    },
    {
     "name": "stderr",
     "output_type": "stream",
     "text": [
      "Epoch 5: 100%|██████████| 938/938 [00:22<00:00, 41.55batch/s, Train Loss=1, Train Acc=62.3]    \n"
     ]
    },
    {
     "name": "stdout",
     "output_type": "stream",
     "text": [
      "Epoch 5\n",
      "Train Loss: 1.0034, Train Accuracy: 62.34%\n",
      "Test Loss: 0.7705, Test Accuracy: 72.50%\n",
      "\n"
     ]
    },
    {
     "name": "stderr",
     "output_type": "stream",
     "text": [
      "Epoch 6: 100%|██████████| 938/938 [00:22<00:00, 42.57batch/s, Train Loss=0.972, Train Acc=63.7]\n"
     ]
    },
    {
     "name": "stdout",
     "output_type": "stream",
     "text": [
      "Epoch 6\n",
      "Train Loss: 0.9717, Train Accuracy: 63.70%\n",
      "Test Loss: 0.7139, Test Accuracy: 74.68%\n",
      "\n"
     ]
    },
    {
     "name": "stderr",
     "output_type": "stream",
     "text": [
      "Epoch 7: 100%|██████████| 938/938 [00:22<00:00, 41.41batch/s, Train Loss=0.951, Train Acc=64.4]\n"
     ]
    },
    {
     "name": "stdout",
     "output_type": "stream",
     "text": [
      "Epoch 7\n",
      "Train Loss: 0.9509, Train Accuracy: 64.41%\n",
      "Test Loss: 0.7030, Test Accuracy: 75.18%\n",
      "\n"
     ]
    },
    {
     "name": "stderr",
     "output_type": "stream",
     "text": [
      "Epoch 8: 100%|██████████| 938/938 [00:22<00:00, 41.14batch/s, Train Loss=0.93, Train Acc=65.4] \n"
     ]
    },
    {
     "name": "stdout",
     "output_type": "stream",
     "text": [
      "Epoch 8\n",
      "Train Loss: 0.9300, Train Accuracy: 65.36%\n",
      "Test Loss: 0.6863, Test Accuracy: 75.57%\n",
      "\n"
     ]
    },
    {
     "name": "stderr",
     "output_type": "stream",
     "text": [
      "Epoch 9: 100%|██████████| 938/938 [00:22<00:00, 41.04batch/s, Train Loss=0.909, Train Acc=66.2]\n"
     ]
    },
    {
     "name": "stdout",
     "output_type": "stream",
     "text": [
      "Epoch 9\n",
      "Train Loss: 0.9095, Train Accuracy: 66.15%\n",
      "Test Loss: 0.7000, Test Accuracy: 75.33%\n",
      "\n"
     ]
    },
    {
     "name": "stderr",
     "output_type": "stream",
     "text": [
      "Epoch 10: 100%|██████████| 938/938 [00:22<00:00, 41.52batch/s, Train Loss=0.894, Train Acc=66.5]\n"
     ]
    },
    {
     "name": "stdout",
     "output_type": "stream",
     "text": [
      "Epoch 10\n",
      "Train Loss: 0.8937, Train Accuracy: 66.47%\n",
      "Test Loss: 0.6575, Test Accuracy: 76.63%\n",
      "\n"
     ]
    },
    {
     "name": "stderr",
     "output_type": "stream",
     "text": [
      "Epoch 11: 100%|██████████| 938/938 [00:22<00:00, 42.34batch/s, Train Loss=0.88, Train Acc=67.2] \n"
     ]
    },
    {
     "name": "stdout",
     "output_type": "stream",
     "text": [
      "Epoch 11\n",
      "Train Loss: 0.8801, Train Accuracy: 67.16%\n",
      "Test Loss: 0.6175, Test Accuracy: 77.90%\n",
      "\n"
     ]
    },
    {
     "name": "stderr",
     "output_type": "stream",
     "text": [
      "Epoch 12: 100%|██████████| 938/938 [00:22<00:00, 42.32batch/s, Train Loss=0.865, Train Acc=67.9]\n"
     ]
    },
    {
     "name": "stdout",
     "output_type": "stream",
     "text": [
      "Epoch 12\n",
      "Train Loss: 0.8654, Train Accuracy: 67.86%\n",
      "Test Loss: 0.6251, Test Accuracy: 77.02%\n",
      "\n"
     ]
    },
    {
     "name": "stderr",
     "output_type": "stream",
     "text": [
      "Epoch 13: 100%|██████████| 938/938 [00:22<00:00, 42.60batch/s, Train Loss=0.849, Train Acc=68.4]\n"
     ]
    },
    {
     "name": "stdout",
     "output_type": "stream",
     "text": [
      "Epoch 13\n",
      "Train Loss: 0.8488, Train Accuracy: 68.35%\n",
      "Test Loss: 0.6157, Test Accuracy: 77.52%\n",
      "\n"
     ]
    },
    {
     "name": "stderr",
     "output_type": "stream",
     "text": [
      "Epoch 14: 100%|██████████| 938/938 [00:21<00:00, 42.78batch/s, Train Loss=0.841, Train Acc=68.6]\n"
     ]
    },
    {
     "name": "stdout",
     "output_type": "stream",
     "text": [
      "Epoch 14\n",
      "Train Loss: 0.8411, Train Accuracy: 68.56%\n",
      "Test Loss: 0.6121, Test Accuracy: 77.78%\n",
      "\n"
     ]
    },
    {
     "name": "stderr",
     "output_type": "stream",
     "text": [
      "Epoch 15: 100%|██████████| 938/938 [00:22<00:00, 42.44batch/s, Train Loss=0.83, Train Acc=69]   \n"
     ]
    },
    {
     "name": "stdout",
     "output_type": "stream",
     "text": [
      "Epoch 15\n",
      "Train Loss: 0.8297, Train Accuracy: 69.00%\n",
      "Test Loss: 0.5919, Test Accuracy: 78.49%\n",
      "\n"
     ]
    },
    {
     "name": "stderr",
     "output_type": "stream",
     "text": [
      "Epoch 16: 100%|██████████| 938/938 [00:22<00:00, 42.37batch/s, Train Loss=0.815, Train Acc=69.4]\n"
     ]
    },
    {
     "name": "stdout",
     "output_type": "stream",
     "text": [
      "Epoch 16\n",
      "Train Loss: 0.8146, Train Accuracy: 69.40%\n",
      "Test Loss: 0.5743, Test Accuracy: 78.90%\n",
      "\n"
     ]
    },
    {
     "name": "stderr",
     "output_type": "stream",
     "text": [
      "Epoch 17: 100%|██████████| 938/938 [00:22<00:00, 42.38batch/s, Train Loss=0.802, Train Acc=70.1]\n"
     ]
    },
    {
     "name": "stdout",
     "output_type": "stream",
     "text": [
      "Epoch 17\n",
      "Train Loss: 0.8022, Train Accuracy: 70.06%\n",
      "Test Loss: 0.5724, Test Accuracy: 79.47%\n",
      "\n"
     ]
    },
    {
     "name": "stderr",
     "output_type": "stream",
     "text": [
      "Epoch 18: 100%|██████████| 938/938 [00:21<00:00, 42.74batch/s, Train Loss=0.799, Train Acc=70.1]\n"
     ]
    },
    {
     "name": "stdout",
     "output_type": "stream",
     "text": [
      "Epoch 18\n",
      "Train Loss: 0.7986, Train Accuracy: 70.15%\n",
      "Test Loss: 0.5539, Test Accuracy: 79.96%\n",
      "\n"
     ]
    },
    {
     "name": "stderr",
     "output_type": "stream",
     "text": [
      "Epoch 19: 100%|██████████| 938/938 [00:22<00:00, 41.83batch/s, Train Loss=0.786, Train Acc=70.6]\n"
     ]
    },
    {
     "name": "stdout",
     "output_type": "stream",
     "text": [
      "Epoch 19\n",
      "Train Loss: 0.7862, Train Accuracy: 70.64%\n",
      "Test Loss: 0.5390, Test Accuracy: 80.15%\n",
      "\n"
     ]
    },
    {
     "name": "stderr",
     "output_type": "stream",
     "text": [
      "Epoch 20: 100%|██████████| 938/938 [00:22<00:00, 42.54batch/s, Train Loss=0.78, Train Acc=70.8] \n"
     ]
    },
    {
     "name": "stdout",
     "output_type": "stream",
     "text": [
      "Epoch 20\n",
      "Train Loss: 0.7796, Train Accuracy: 70.81%\n",
      "Test Loss: 0.5535, Test Accuracy: 79.48%\n",
      "\n"
     ]
    },
    {
     "name": "stderr",
     "output_type": "stream",
     "text": [
      "Epoch 21: 100%|██████████| 938/938 [00:21<00:00, 42.98batch/s, Train Loss=0.767, Train Acc=71.4]\n"
     ]
    },
    {
     "name": "stdout",
     "output_type": "stream",
     "text": [
      "Epoch 21\n",
      "Train Loss: 0.7670, Train Accuracy: 71.36%\n",
      "Test Loss: 0.5277, Test Accuracy: 80.88%\n",
      "\n"
     ]
    },
    {
     "name": "stderr",
     "output_type": "stream",
     "text": [
      "Epoch 22: 100%|██████████| 938/938 [00:21<00:00, 43.20batch/s, Train Loss=0.758, Train Acc=71.6]\n"
     ]
    },
    {
     "name": "stdout",
     "output_type": "stream",
     "text": [
      "Epoch 22\n",
      "Train Loss: 0.7582, Train Accuracy: 71.61%\n",
      "Test Loss: 0.5156, Test Accuracy: 81.21%\n",
      "\n"
     ]
    },
    {
     "name": "stderr",
     "output_type": "stream",
     "text": [
      "Epoch 23: 100%|██████████| 938/938 [00:21<00:00, 43.13batch/s, Train Loss=0.747, Train Acc=72.1]\n"
     ]
    },
    {
     "name": "stdout",
     "output_type": "stream",
     "text": [
      "Epoch 23\n",
      "Train Loss: 0.7465, Train Accuracy: 72.09%\n",
      "Test Loss: 0.5053, Test Accuracy: 81.54%\n",
      "\n"
     ]
    },
    {
     "name": "stderr",
     "output_type": "stream",
     "text": [
      "Epoch 24: 100%|██████████| 938/938 [00:21<00:00, 43.23batch/s, Train Loss=0.746, Train Acc=72.2]\n"
     ]
    },
    {
     "name": "stdout",
     "output_type": "stream",
     "text": [
      "Epoch 24\n",
      "Train Loss: 0.7462, Train Accuracy: 72.19%\n",
      "Test Loss: 0.4915, Test Accuracy: 81.82%\n",
      "\n"
     ]
    },
    {
     "name": "stderr",
     "output_type": "stream",
     "text": [
      "Epoch 25: 100%|██████████| 938/938 [00:21<00:00, 42.98batch/s, Train Loss=0.737, Train Acc=72.4]\n"
     ]
    },
    {
     "name": "stdout",
     "output_type": "stream",
     "text": [
      "Epoch 25\n",
      "Train Loss: 0.7373, Train Accuracy: 72.38%\n",
      "Test Loss: 0.5053, Test Accuracy: 81.38%\n",
      "\n"
     ]
    },
    {
     "name": "stderr",
     "output_type": "stream",
     "text": [
      "Epoch 26: 100%|██████████| 938/938 [00:21<00:00, 42.88batch/s, Train Loss=0.731, Train Acc=72.9]\n"
     ]
    },
    {
     "name": "stdout",
     "output_type": "stream",
     "text": [
      "Epoch 26\n",
      "Train Loss: 0.7307, Train Accuracy: 72.89%\n",
      "Test Loss: 0.4809, Test Accuracy: 82.30%\n",
      "\n"
     ]
    },
    {
     "name": "stderr",
     "output_type": "stream",
     "text": [
      "Epoch 27: 100%|██████████| 938/938 [00:21<00:00, 42.90batch/s, Train Loss=0.722, Train Acc=73.2]\n"
     ]
    },
    {
     "name": "stdout",
     "output_type": "stream",
     "text": [
      "Epoch 27\n",
      "Train Loss: 0.7217, Train Accuracy: 73.19%\n",
      "Test Loss: 0.4757, Test Accuracy: 82.66%\n",
      "\n"
     ]
    },
    {
     "name": "stderr",
     "output_type": "stream",
     "text": [
      "Epoch 28: 100%|██████████| 938/938 [00:21<00:00, 43.38batch/s, Train Loss=0.713, Train Acc=73.5]\n"
     ]
    },
    {
     "name": "stdout",
     "output_type": "stream",
     "text": [
      "Epoch 28\n",
      "Train Loss: 0.7128, Train Accuracy: 73.46%\n",
      "Test Loss: 0.4804, Test Accuracy: 82.94%\n",
      "\n"
     ]
    },
    {
     "name": "stderr",
     "output_type": "stream",
     "text": [
      "Epoch 29: 100%|██████████| 938/938 [00:21<00:00, 43.38batch/s, Train Loss=0.704, Train Acc=73.9]\n"
     ]
    },
    {
     "name": "stdout",
     "output_type": "stream",
     "text": [
      "Epoch 29\n",
      "Train Loss: 0.7042, Train Accuracy: 73.86%\n",
      "Test Loss: 0.4680, Test Accuracy: 82.86%\n",
      "\n"
     ]
    },
    {
     "name": "stderr",
     "output_type": "stream",
     "text": [
      "Epoch 30: 100%|██████████| 938/938 [00:21<00:00, 43.21batch/s, Train Loss=0.699, Train Acc=73.8]\n"
     ]
    },
    {
     "name": "stdout",
     "output_type": "stream",
     "text": [
      "Epoch 30\n",
      "Train Loss: 0.6993, Train Accuracy: 73.78%\n",
      "Test Loss: 0.4622, Test Accuracy: 83.20%\n",
      "\n"
     ]
    },
    {
     "name": "stderr",
     "output_type": "stream",
     "text": [
      "Epoch 31: 100%|██████████| 938/938 [00:21<00:00, 43.26batch/s, Train Loss=0.696, Train Acc=73.9]\n"
     ]
    },
    {
     "name": "stdout",
     "output_type": "stream",
     "text": [
      "Epoch 31\n",
      "Train Loss: 0.6961, Train Accuracy: 73.94%\n",
      "Test Loss: 0.4549, Test Accuracy: 83.37%\n",
      "\n"
     ]
    },
    {
     "name": "stderr",
     "output_type": "stream",
     "text": [
      "Epoch 32: 100%|██████████| 938/938 [00:21<00:00, 43.09batch/s, Train Loss=0.685, Train Acc=74.5]\n"
     ]
    },
    {
     "name": "stdout",
     "output_type": "stream",
     "text": [
      "Epoch 32\n",
      "Train Loss: 0.6848, Train Accuracy: 74.50%\n",
      "Test Loss: 0.4497, Test Accuracy: 83.47%\n",
      "\n"
     ]
    },
    {
     "name": "stderr",
     "output_type": "stream",
     "text": [
      "Epoch 33: 100%|██████████| 938/938 [00:22<00:00, 42.63batch/s, Train Loss=0.679, Train Acc=74.7]\n"
     ]
    },
    {
     "name": "stdout",
     "output_type": "stream",
     "text": [
      "Epoch 33\n",
      "Train Loss: 0.6794, Train Accuracy: 74.69%\n",
      "Test Loss: 0.4608, Test Accuracy: 83.37%\n",
      "\n"
     ]
    },
    {
     "name": "stderr",
     "output_type": "stream",
     "text": [
      "Epoch 34: 100%|██████████| 938/938 [00:21<00:00, 42.93batch/s, Train Loss=0.676, Train Acc=74.6]\n"
     ]
    },
    {
     "name": "stdout",
     "output_type": "stream",
     "text": [
      "Epoch 34\n",
      "Train Loss: 0.6763, Train Accuracy: 74.56%\n",
      "Test Loss: 0.4398, Test Accuracy: 84.04%\n",
      "\n"
     ]
    },
    {
     "name": "stderr",
     "output_type": "stream",
     "text": [
      "Epoch 35: 100%|██████████| 938/938 [00:21<00:00, 43.29batch/s, Train Loss=0.671, Train Acc=74.8]\n"
     ]
    },
    {
     "name": "stdout",
     "output_type": "stream",
     "text": [
      "Epoch 35\n",
      "Train Loss: 0.6713, Train Accuracy: 74.78%\n",
      "Test Loss: 0.4508, Test Accuracy: 83.90%\n",
      "\n"
     ]
    },
    {
     "name": "stderr",
     "output_type": "stream",
     "text": [
      "Epoch 36: 100%|██████████| 938/938 [00:21<00:00, 43.16batch/s, Train Loss=0.663, Train Acc=75.5]\n"
     ]
    },
    {
     "name": "stdout",
     "output_type": "stream",
     "text": [
      "Epoch 36\n",
      "Train Loss: 0.6628, Train Accuracy: 75.45%\n",
      "Test Loss: 0.4431, Test Accuracy: 83.92%\n",
      "\n"
     ]
    },
    {
     "name": "stderr",
     "output_type": "stream",
     "text": [
      "Epoch 37: 100%|██████████| 938/938 [00:21<00:00, 43.18batch/s, Train Loss=0.662, Train Acc=75.2]\n"
     ]
    },
    {
     "name": "stdout",
     "output_type": "stream",
     "text": [
      "Epoch 37\n",
      "Train Loss: 0.6619, Train Accuracy: 75.20%\n",
      "Test Loss: 0.4545, Test Accuracy: 83.12%\n",
      "\n"
     ]
    },
    {
     "name": "stderr",
     "output_type": "stream",
     "text": [
      "Epoch 38: 100%|██████████| 938/938 [00:21<00:00, 43.29batch/s, Train Loss=0.651, Train Acc=75.6]\n"
     ]
    },
    {
     "name": "stdout",
     "output_type": "stream",
     "text": [
      "Epoch 38\n",
      "Train Loss: 0.6512, Train Accuracy: 75.56%\n",
      "Test Loss: 0.4297, Test Accuracy: 84.16%\n",
      "\n"
     ]
    },
    {
     "name": "stderr",
     "output_type": "stream",
     "text": [
      "Epoch 39: 100%|██████████| 938/938 [00:21<00:00, 43.11batch/s, Train Loss=0.654, Train Acc=75.6]\n"
     ]
    },
    {
     "name": "stdout",
     "output_type": "stream",
     "text": [
      "Epoch 39\n",
      "Train Loss: 0.6543, Train Accuracy: 75.57%\n",
      "Test Loss: 0.4303, Test Accuracy: 84.24%\n",
      "\n"
     ]
    },
    {
     "name": "stderr",
     "output_type": "stream",
     "text": [
      "Epoch 40: 100%|██████████| 938/938 [00:21<00:00, 43.36batch/s, Train Loss=0.646, Train Acc=76]  \n"
     ]
    },
    {
     "name": "stdout",
     "output_type": "stream",
     "text": [
      "Epoch 40\n",
      "Train Loss: 0.6462, Train Accuracy: 75.96%\n",
      "Test Loss: 0.4222, Test Accuracy: 84.72%\n",
      "\n"
     ]
    },
    {
     "name": "stderr",
     "output_type": "stream",
     "text": [
      "Epoch 41: 100%|██████████| 938/938 [00:21<00:00, 43.08batch/s, Train Loss=0.637, Train Acc=76.2]\n"
     ]
    },
    {
     "name": "stdout",
     "output_type": "stream",
     "text": [
      "Epoch 41\n",
      "Train Loss: 0.6375, Train Accuracy: 76.16%\n",
      "Test Loss: 0.4118, Test Accuracy: 84.69%\n",
      "\n"
     ]
    },
    {
     "name": "stderr",
     "output_type": "stream",
     "text": [
      "Epoch 42: 100%|██████████| 938/938 [00:21<00:00, 43.35batch/s, Train Loss=0.635, Train Acc=76.3]\n"
     ]
    },
    {
     "name": "stdout",
     "output_type": "stream",
     "text": [
      "Epoch 42\n",
      "Train Loss: 0.6355, Train Accuracy: 76.34%\n",
      "Test Loss: 0.4262, Test Accuracy: 84.39%\n",
      "\n"
     ]
    },
    {
     "name": "stderr",
     "output_type": "stream",
     "text": [
      "Epoch 43: 100%|██████████| 938/938 [00:21<00:00, 43.15batch/s, Train Loss=0.629, Train Acc=76.6]\n"
     ]
    },
    {
     "name": "stdout",
     "output_type": "stream",
     "text": [
      "Epoch 43\n",
      "Train Loss: 0.6293, Train Accuracy: 76.57%\n",
      "Test Loss: 0.4145, Test Accuracy: 84.84%\n",
      "\n"
     ]
    },
    {
     "name": "stderr",
     "output_type": "stream",
     "text": [
      "Epoch 44: 100%|██████████| 938/938 [00:21<00:00, 43.18batch/s, Train Loss=0.635, Train Acc=76.3]\n"
     ]
    },
    {
     "name": "stdout",
     "output_type": "stream",
     "text": [
      "Epoch 44\n",
      "Train Loss: 0.6347, Train Accuracy: 76.34%\n",
      "Test Loss: 0.4036, Test Accuracy: 85.10%\n",
      "\n"
     ]
    },
    {
     "name": "stderr",
     "output_type": "stream",
     "text": [
      "Epoch 45: 100%|██████████| 938/938 [00:21<00:00, 43.14batch/s, Train Loss=0.626, Train Acc=76.6]\n"
     ]
    },
    {
     "name": "stdout",
     "output_type": "stream",
     "text": [
      "Epoch 45\n",
      "Train Loss: 0.6257, Train Accuracy: 76.60%\n",
      "Test Loss: 0.3979, Test Accuracy: 85.36%\n",
      "\n"
     ]
    },
    {
     "name": "stderr",
     "output_type": "stream",
     "text": [
      "Epoch 46: 100%|██████████| 938/938 [00:21<00:00, 43.26batch/s, Train Loss=0.618, Train Acc=77]  \n"
     ]
    },
    {
     "name": "stdout",
     "output_type": "stream",
     "text": [
      "Epoch 46\n",
      "Train Loss: 0.6180, Train Accuracy: 76.98%\n",
      "Test Loss: 0.4160, Test Accuracy: 84.76%\n",
      "\n"
     ]
    },
    {
     "name": "stderr",
     "output_type": "stream",
     "text": [
      "Epoch 47: 100%|██████████| 938/938 [00:21<00:00, 43.31batch/s, Train Loss=0.617, Train Acc=76.9]\n"
     ]
    },
    {
     "name": "stdout",
     "output_type": "stream",
     "text": [
      "Epoch 47\n",
      "Train Loss: 0.6166, Train Accuracy: 76.90%\n",
      "Test Loss: 0.3991, Test Accuracy: 85.18%\n",
      "\n"
     ]
    },
    {
     "name": "stderr",
     "output_type": "stream",
     "text": [
      "Epoch 48: 100%|██████████| 938/938 [00:21<00:00, 43.08batch/s, Train Loss=0.611, Train Acc=77]  \n"
     ]
    },
    {
     "name": "stdout",
     "output_type": "stream",
     "text": [
      "Epoch 48\n",
      "Train Loss: 0.6106, Train Accuracy: 77.00%\n",
      "Test Loss: 0.4021, Test Accuracy: 85.18%\n",
      "\n"
     ]
    },
    {
     "name": "stderr",
     "output_type": "stream",
     "text": [
      "Epoch 49: 100%|██████████| 938/938 [00:21<00:00, 43.25batch/s, Train Loss=0.611, Train Acc=77.1]\n"
     ]
    },
    {
     "name": "stdout",
     "output_type": "stream",
     "text": [
      "Epoch 49\n",
      "Train Loss: 0.6111, Train Accuracy: 77.08%\n",
      "Test Loss: 0.3961, Test Accuracy: 85.46%\n",
      "\n"
     ]
    },
    {
     "name": "stderr",
     "output_type": "stream",
     "text": [
      "Epoch 50: 100%|██████████| 938/938 [00:21<00:00, 42.92batch/s, Train Loss=0.605, Train Acc=77.4]\n"
     ]
    },
    {
     "name": "stdout",
     "output_type": "stream",
     "text": [
      "Epoch 50\n",
      "Train Loss: 0.6049, Train Accuracy: 77.36%\n",
      "Test Loss: 0.3958, Test Accuracy: 85.27%\n",
      "\n"
     ]
    },
    {
     "name": "stderr",
     "output_type": "stream",
     "text": [
      "Epoch 51: 100%|██████████| 938/938 [00:21<00:00, 43.19batch/s, Train Loss=0.602, Train Acc=77.5]\n"
     ]
    },
    {
     "name": "stdout",
     "output_type": "stream",
     "text": [
      "Epoch 51\n",
      "Train Loss: 0.6024, Train Accuracy: 77.50%\n",
      "Test Loss: 0.3964, Test Accuracy: 85.22%\n",
      "\n"
     ]
    },
    {
     "name": "stderr",
     "output_type": "stream",
     "text": [
      "Epoch 52: 100%|██████████| 938/938 [00:21<00:00, 43.11batch/s, Train Loss=0.6, Train Acc=77.4]  \n"
     ]
    },
    {
     "name": "stdout",
     "output_type": "stream",
     "text": [
      "Epoch 52\n",
      "Train Loss: 0.5997, Train Accuracy: 77.41%\n",
      "Test Loss: 0.3853, Test Accuracy: 85.90%\n",
      "\n"
     ]
    },
    {
     "name": "stderr",
     "output_type": "stream",
     "text": [
      "Epoch 53: 100%|██████████| 938/938 [00:21<00:00, 43.14batch/s, Train Loss=0.602, Train Acc=77.5]\n"
     ]
    },
    {
     "name": "stdout",
     "output_type": "stream",
     "text": [
      "Epoch 53\n",
      "Train Loss: 0.6019, Train Accuracy: 77.51%\n",
      "Test Loss: 0.3826, Test Accuracy: 86.14%\n",
      "\n"
     ]
    },
    {
     "name": "stderr",
     "output_type": "stream",
     "text": [
      "Epoch 54: 100%|██████████| 938/938 [00:21<00:00, 43.30batch/s, Train Loss=0.593, Train Acc=77.9]\n"
     ]
    },
    {
     "name": "stdout",
     "output_type": "stream",
     "text": [
      "Epoch 54\n",
      "Train Loss: 0.5926, Train Accuracy: 77.91%\n",
      "Test Loss: 0.3908, Test Accuracy: 85.56%\n",
      "\n"
     ]
    },
    {
     "name": "stderr",
     "output_type": "stream",
     "text": [
      "Epoch 55: 100%|██████████| 938/938 [00:21<00:00, 43.14batch/s, Train Loss=0.59, Train Acc=77.9] \n"
     ]
    },
    {
     "name": "stdout",
     "output_type": "stream",
     "text": [
      "Epoch 55\n",
      "Train Loss: 0.5901, Train Accuracy: 77.91%\n",
      "Test Loss: 0.3913, Test Accuracy: 85.32%\n",
      "\n"
     ]
    },
    {
     "name": "stderr",
     "output_type": "stream",
     "text": [
      "Epoch 56: 100%|██████████| 938/938 [00:21<00:00, 43.08batch/s, Train Loss=0.585, Train Acc=78.1]\n"
     ]
    },
    {
     "name": "stdout",
     "output_type": "stream",
     "text": [
      "Epoch 56\n",
      "Train Loss: 0.5849, Train Accuracy: 78.08%\n",
      "Test Loss: 0.3912, Test Accuracy: 85.50%\n",
      "\n"
     ]
    },
    {
     "name": "stderr",
     "output_type": "stream",
     "text": [
      "Epoch 57: 100%|██████████| 938/938 [00:21<00:00, 42.93batch/s, Train Loss=0.588, Train Acc=78]  \n"
     ]
    },
    {
     "name": "stdout",
     "output_type": "stream",
     "text": [
      "Epoch 57\n",
      "Train Loss: 0.5881, Train Accuracy: 77.97%\n",
      "Test Loss: 0.3874, Test Accuracy: 85.48%\n",
      "\n"
     ]
    },
    {
     "name": "stderr",
     "output_type": "stream",
     "text": [
      "Epoch 58: 100%|██████████| 938/938 [00:21<00:00, 43.26batch/s, Train Loss=0.586, Train Acc=78.3]\n"
     ]
    },
    {
     "name": "stdout",
     "output_type": "stream",
     "text": [
      "Epoch 58\n",
      "Train Loss: 0.5861, Train Accuracy: 78.26%\n",
      "Test Loss: 0.3910, Test Accuracy: 85.48%\n",
      "\n"
     ]
    },
    {
     "name": "stderr",
     "output_type": "stream",
     "text": [
      "Epoch 59: 100%|██████████| 938/938 [00:21<00:00, 43.10batch/s, Train Loss=0.579, Train Acc=78.2]\n"
     ]
    },
    {
     "name": "stdout",
     "output_type": "stream",
     "text": [
      "Epoch 59\n",
      "Train Loss: 0.5793, Train Accuracy: 78.22%\n",
      "Test Loss: 0.3816, Test Accuracy: 85.95%\n",
      "\n"
     ]
    },
    {
     "name": "stderr",
     "output_type": "stream",
     "text": [
      "Epoch 60: 100%|██████████| 938/938 [00:21<00:00, 43.03batch/s, Train Loss=0.576, Train Acc=78.4]\n"
     ]
    },
    {
     "name": "stdout",
     "output_type": "stream",
     "text": [
      "Epoch 60\n",
      "Train Loss: 0.5757, Train Accuracy: 78.36%\n",
      "Test Loss: 0.3817, Test Accuracy: 85.74%\n",
      "\n"
     ]
    },
    {
     "name": "stderr",
     "output_type": "stream",
     "text": [
      "Epoch 61: 100%|██████████| 938/938 [00:21<00:00, 42.96batch/s, Train Loss=0.576, Train Acc=78.5]\n"
     ]
    },
    {
     "name": "stdout",
     "output_type": "stream",
     "text": [
      "Epoch 61\n",
      "Train Loss: 0.5764, Train Accuracy: 78.48%\n",
      "Test Loss: 0.3684, Test Accuracy: 86.50%\n",
      "\n"
     ]
    },
    {
     "name": "stderr",
     "output_type": "stream",
     "text": [
      "Epoch 62: 100%|██████████| 938/938 [00:21<00:00, 42.86batch/s, Train Loss=0.572, Train Acc=78.6]\n"
     ]
    },
    {
     "name": "stdout",
     "output_type": "stream",
     "text": [
      "Epoch 62\n",
      "Train Loss: 0.5717, Train Accuracy: 78.57%\n",
      "Test Loss: 0.3754, Test Accuracy: 86.05%\n",
      "\n"
     ]
    },
    {
     "name": "stderr",
     "output_type": "stream",
     "text": [
      "Epoch 63: 100%|██████████| 938/938 [00:21<00:00, 43.01batch/s, Train Loss=0.571, Train Acc=78.7]\n"
     ]
    },
    {
     "name": "stdout",
     "output_type": "stream",
     "text": [
      "Epoch 63\n",
      "Train Loss: 0.5710, Train Accuracy: 78.69%\n",
      "Test Loss: 0.3818, Test Accuracy: 86.07%\n",
      "\n"
     ]
    },
    {
     "name": "stderr",
     "output_type": "stream",
     "text": [
      "Epoch 64: 100%|██████████| 938/938 [00:21<00:00, 43.13batch/s, Train Loss=0.566, Train Acc=78.9]\n"
     ]
    },
    {
     "name": "stdout",
     "output_type": "stream",
     "text": [
      "Epoch 64\n",
      "Train Loss: 0.5657, Train Accuracy: 78.92%\n",
      "Test Loss: 0.3742, Test Accuracy: 86.27%\n",
      "\n"
     ]
    },
    {
     "name": "stderr",
     "output_type": "stream",
     "text": [
      "Epoch 65: 100%|██████████| 938/938 [00:21<00:00, 42.88batch/s, Train Loss=0.569, Train Acc=78.7]\n"
     ]
    },
    {
     "name": "stdout",
     "output_type": "stream",
     "text": [
      "Epoch 65\n",
      "Train Loss: 0.5692, Train Accuracy: 78.69%\n",
      "Test Loss: 0.3802, Test Accuracy: 85.88%\n",
      "\n"
     ]
    },
    {
     "name": "stderr",
     "output_type": "stream",
     "text": [
      "Epoch 66: 100%|██████████| 938/938 [00:21<00:00, 43.13batch/s, Train Loss=0.565, Train Acc=79]  \n"
     ]
    },
    {
     "name": "stdout",
     "output_type": "stream",
     "text": [
      "Epoch 66\n",
      "Train Loss: 0.5651, Train Accuracy: 78.98%\n",
      "Test Loss: 0.3833, Test Accuracy: 85.81%\n",
      "\n"
     ]
    },
    {
     "name": "stderr",
     "output_type": "stream",
     "text": [
      "Epoch 67: 100%|██████████| 938/938 [00:21<00:00, 42.92batch/s, Train Loss=0.561, Train Acc=79]  \n"
     ]
    },
    {
     "name": "stdout",
     "output_type": "stream",
     "text": [
      "Epoch 67\n",
      "Train Loss: 0.5607, Train Accuracy: 78.97%\n",
      "Test Loss: 0.3669, Test Accuracy: 86.46%\n",
      "\n"
     ]
    },
    {
     "name": "stderr",
     "output_type": "stream",
     "text": [
      "Epoch 68: 100%|██████████| 938/938 [00:21<00:00, 42.89batch/s, Train Loss=0.553, Train Acc=79.3]\n"
     ]
    },
    {
     "name": "stdout",
     "output_type": "stream",
     "text": [
      "Epoch 68\n",
      "Train Loss: 0.5529, Train Accuracy: 79.33%\n",
      "Test Loss: 0.3681, Test Accuracy: 86.53%\n",
      "\n"
     ]
    },
    {
     "name": "stderr",
     "output_type": "stream",
     "text": [
      "Epoch 69: 100%|██████████| 938/938 [00:21<00:00, 43.20batch/s, Train Loss=0.554, Train Acc=79.1]\n"
     ]
    },
    {
     "name": "stdout",
     "output_type": "stream",
     "text": [
      "Epoch 69\n",
      "Train Loss: 0.5543, Train Accuracy: 79.08%\n",
      "Test Loss: 0.3705, Test Accuracy: 86.07%\n",
      "\n"
     ]
    },
    {
     "name": "stderr",
     "output_type": "stream",
     "text": [
      "Epoch 70: 100%|██████████| 938/938 [00:21<00:00, 43.04batch/s, Train Loss=0.552, Train Acc=79.3]\n"
     ]
    },
    {
     "name": "stdout",
     "output_type": "stream",
     "text": [
      "Epoch 70\n",
      "Train Loss: 0.5523, Train Accuracy: 79.27%\n",
      "Test Loss: 0.3574, Test Accuracy: 86.88%\n",
      "\n"
     ]
    },
    {
     "name": "stderr",
     "output_type": "stream",
     "text": [
      "Epoch 71: 100%|██████████| 938/938 [00:21<00:00, 43.08batch/s, Train Loss=0.554, Train Acc=79.2]\n"
     ]
    },
    {
     "name": "stdout",
     "output_type": "stream",
     "text": [
      "Epoch 71\n",
      "Train Loss: 0.5542, Train Accuracy: 79.22%\n",
      "Test Loss: 0.3643, Test Accuracy: 86.68%\n",
      "\n"
     ]
    },
    {
     "name": "stderr",
     "output_type": "stream",
     "text": [
      "Epoch 72: 100%|██████████| 938/938 [00:21<00:00, 43.15batch/s, Train Loss=0.549, Train Acc=79.4]\n"
     ]
    },
    {
     "name": "stdout",
     "output_type": "stream",
     "text": [
      "Epoch 72\n",
      "Train Loss: 0.5489, Train Accuracy: 79.45%\n",
      "Test Loss: 0.3575, Test Accuracy: 86.84%\n",
      "\n"
     ]
    },
    {
     "name": "stderr",
     "output_type": "stream",
     "text": [
      "Epoch 73: 100%|██████████| 938/938 [00:21<00:00, 43.04batch/s, Train Loss=0.547, Train Acc=79.7]\n"
     ]
    },
    {
     "name": "stdout",
     "output_type": "stream",
     "text": [
      "Epoch 73\n",
      "Train Loss: 0.5474, Train Accuracy: 79.74%\n",
      "Test Loss: 0.3614, Test Accuracy: 86.75%\n",
      "\n"
     ]
    },
    {
     "name": "stderr",
     "output_type": "stream",
     "text": [
      "Epoch 74: 100%|██████████| 938/938 [00:21<00:00, 43.11batch/s, Train Loss=0.546, Train Acc=79.4]\n"
     ]
    },
    {
     "name": "stdout",
     "output_type": "stream",
     "text": [
      "Epoch 74\n",
      "Train Loss: 0.5458, Train Accuracy: 79.40%\n",
      "Test Loss: 0.3674, Test Accuracy: 86.49%\n",
      "\n"
     ]
    },
    {
     "name": "stderr",
     "output_type": "stream",
     "text": [
      "Epoch 75: 100%|██████████| 938/938 [00:21<00:00, 42.97batch/s, Train Loss=0.541, Train Acc=79.6]\n"
     ]
    },
    {
     "name": "stdout",
     "output_type": "stream",
     "text": [
      "Epoch 75\n",
      "Train Loss: 0.5414, Train Accuracy: 79.62%\n",
      "Test Loss: 0.3622, Test Accuracy: 86.70%\n",
      "\n"
     ]
    },
    {
     "name": "stderr",
     "output_type": "stream",
     "text": [
      "Epoch 76: 100%|██████████| 938/938 [00:21<00:00, 42.74batch/s, Train Loss=0.543, Train Acc=79.5]\n"
     ]
    },
    {
     "name": "stdout",
     "output_type": "stream",
     "text": [
      "Epoch 76\n",
      "Train Loss: 0.5430, Train Accuracy: 79.52%\n",
      "Test Loss: 0.3527, Test Accuracy: 87.10%\n",
      "\n"
     ]
    },
    {
     "name": "stderr",
     "output_type": "stream",
     "text": [
      "Epoch 77: 100%|██████████| 938/938 [00:21<00:00, 43.12batch/s, Train Loss=0.541, Train Acc=79.8]\n"
     ]
    },
    {
     "name": "stdout",
     "output_type": "stream",
     "text": [
      "Epoch 77\n",
      "Train Loss: 0.5408, Train Accuracy: 79.78%\n",
      "Test Loss: 0.3540, Test Accuracy: 87.16%\n",
      "\n"
     ]
    },
    {
     "name": "stderr",
     "output_type": "stream",
     "text": [
      "Epoch 78: 100%|██████████| 938/938 [00:21<00:00, 43.00batch/s, Train Loss=0.541, Train Acc=79.8]\n"
     ]
    },
    {
     "name": "stdout",
     "output_type": "stream",
     "text": [
      "Epoch 78\n",
      "Train Loss: 0.5405, Train Accuracy: 79.81%\n",
      "Test Loss: 0.3648, Test Accuracy: 86.44%\n",
      "\n"
     ]
    },
    {
     "name": "stderr",
     "output_type": "stream",
     "text": [
      "Epoch 79: 100%|██████████| 938/938 [00:21<00:00, 43.07batch/s, Train Loss=0.531, Train Acc=80]  \n"
     ]
    },
    {
     "name": "stdout",
     "output_type": "stream",
     "text": [
      "Epoch 79\n",
      "Train Loss: 0.5315, Train Accuracy: 80.04%\n",
      "Test Loss: 0.3581, Test Accuracy: 87.00%\n",
      "\n"
     ]
    },
    {
     "name": "stderr",
     "output_type": "stream",
     "text": [
      "Epoch 80: 100%|██████████| 938/938 [00:21<00:00, 42.91batch/s, Train Loss=0.532, Train Acc=80.1]\n"
     ]
    },
    {
     "name": "stdout",
     "output_type": "stream",
     "text": [
      "Epoch 80\n",
      "Train Loss: 0.5316, Train Accuracy: 80.09%\n",
      "Test Loss: 0.3483, Test Accuracy: 87.42%\n",
      "\n"
     ]
    },
    {
     "name": "stderr",
     "output_type": "stream",
     "text": [
      "Epoch 81: 100%|██████████| 938/938 [00:21<00:00, 43.01batch/s, Train Loss=0.534, Train Acc=79.9]\n"
     ]
    },
    {
     "name": "stdout",
     "output_type": "stream",
     "text": [
      "Epoch 81\n",
      "Train Loss: 0.5340, Train Accuracy: 79.93%\n",
      "Test Loss: 0.3629, Test Accuracy: 86.69%\n",
      "\n"
     ]
    },
    {
     "name": "stderr",
     "output_type": "stream",
     "text": [
      "Epoch 82: 100%|██████████| 938/938 [00:21<00:00, 42.78batch/s, Train Loss=0.53, Train Acc=80.3] \n"
     ]
    },
    {
     "name": "stdout",
     "output_type": "stream",
     "text": [
      "Epoch 82\n",
      "Train Loss: 0.5301, Train Accuracy: 80.28%\n",
      "Test Loss: 0.3486, Test Accuracy: 87.20%\n",
      "\n"
     ]
    },
    {
     "name": "stderr",
     "output_type": "stream",
     "text": [
      "Epoch 83: 100%|██████████| 938/938 [00:21<00:00, 42.80batch/s, Train Loss=0.531, Train Acc=80]  \n"
     ]
    },
    {
     "name": "stdout",
     "output_type": "stream",
     "text": [
      "Epoch 83\n",
      "Train Loss: 0.5311, Train Accuracy: 80.05%\n",
      "Test Loss: 0.3525, Test Accuracy: 87.14%\n",
      "\n"
     ]
    },
    {
     "name": "stderr",
     "output_type": "stream",
     "text": [
      "Epoch 84: 100%|██████████| 938/938 [00:21<00:00, 43.05batch/s, Train Loss=0.527, Train Acc=80.3]\n"
     ]
    },
    {
     "name": "stdout",
     "output_type": "stream",
     "text": [
      "Epoch 84\n",
      "Train Loss: 0.5269, Train Accuracy: 80.25%\n",
      "Test Loss: 0.3461, Test Accuracy: 87.55%\n",
      "\n"
     ]
    },
    {
     "name": "stderr",
     "output_type": "stream",
     "text": [
      "Epoch 85: 100%|██████████| 938/938 [00:21<00:00, 42.92batch/s, Train Loss=0.526, Train Acc=80.2]\n"
     ]
    },
    {
     "name": "stdout",
     "output_type": "stream",
     "text": [
      "Epoch 85\n",
      "Train Loss: 0.5264, Train Accuracy: 80.25%\n",
      "Test Loss: 0.3420, Test Accuracy: 87.50%\n",
      "\n"
     ]
    },
    {
     "name": "stderr",
     "output_type": "stream",
     "text": [
      "Epoch 86: 100%|██████████| 938/938 [00:21<00:00, 42.89batch/s, Train Loss=0.526, Train Acc=80.2]\n"
     ]
    },
    {
     "name": "stdout",
     "output_type": "stream",
     "text": [
      "Epoch 86\n",
      "Train Loss: 0.5263, Train Accuracy: 80.22%\n",
      "Test Loss: 0.3422, Test Accuracy: 87.27%\n",
      "\n"
     ]
    },
    {
     "name": "stderr",
     "output_type": "stream",
     "text": [
      "Epoch 87: 100%|██████████| 938/938 [00:21<00:00, 42.81batch/s, Train Loss=0.529, Train Acc=80.2]\n"
     ]
    },
    {
     "name": "stdout",
     "output_type": "stream",
     "text": [
      "Epoch 87\n",
      "Train Loss: 0.5291, Train Accuracy: 80.23%\n",
      "Test Loss: 0.3419, Test Accuracy: 87.50%\n",
      "\n"
     ]
    },
    {
     "name": "stderr",
     "output_type": "stream",
     "text": [
      "Epoch 88: 100%|██████████| 938/938 [00:21<00:00, 42.85batch/s, Train Loss=0.521, Train Acc=80.4]\n"
     ]
    },
    {
     "name": "stdout",
     "output_type": "stream",
     "text": [
      "Epoch 88\n",
      "Train Loss: 0.5208, Train Accuracy: 80.36%\n",
      "Test Loss: 0.3409, Test Accuracy: 87.65%\n",
      "\n"
     ]
    },
    {
     "name": "stderr",
     "output_type": "stream",
     "text": [
      "Epoch 89: 100%|██████████| 938/938 [00:21<00:00, 42.97batch/s, Train Loss=0.517, Train Acc=80.6]\n"
     ]
    },
    {
     "name": "stdout",
     "output_type": "stream",
     "text": [
      "Epoch 89\n",
      "Train Loss: 0.5174, Train Accuracy: 80.62%\n",
      "Test Loss: 0.3411, Test Accuracy: 87.59%\n",
      "\n"
     ]
    },
    {
     "name": "stderr",
     "output_type": "stream",
     "text": [
      "Epoch 90: 100%|██████████| 938/938 [00:21<00:00, 43.03batch/s, Train Loss=0.52, Train Acc=80.6] \n"
     ]
    },
    {
     "name": "stdout",
     "output_type": "stream",
     "text": [
      "Epoch 90\n",
      "Train Loss: 0.5201, Train Accuracy: 80.64%\n",
      "Test Loss: 0.3445, Test Accuracy: 87.50%\n",
      "\n"
     ]
    },
    {
     "name": "stderr",
     "output_type": "stream",
     "text": [
      "Epoch 91: 100%|██████████| 938/938 [00:21<00:00, 43.14batch/s, Train Loss=0.518, Train Acc=80.6]\n"
     ]
    },
    {
     "name": "stdout",
     "output_type": "stream",
     "text": [
      "Epoch 91\n",
      "Train Loss: 0.5178, Train Accuracy: 80.61%\n",
      "Test Loss: 0.3458, Test Accuracy: 87.35%\n",
      "\n"
     ]
    },
    {
     "name": "stderr",
     "output_type": "stream",
     "text": [
      "Epoch 92: 100%|██████████| 938/938 [00:21<00:00, 43.09batch/s, Train Loss=0.517, Train Acc=80.7]\n"
     ]
    },
    {
     "name": "stdout",
     "output_type": "stream",
     "text": [
      "Epoch 92\n",
      "Train Loss: 0.5169, Train Accuracy: 80.74%\n",
      "Test Loss: 0.3340, Test Accuracy: 87.87%\n",
      "\n"
     ]
    },
    {
     "name": "stderr",
     "output_type": "stream",
     "text": [
      "Epoch 93: 100%|██████████| 938/938 [00:21<00:00, 43.20batch/s, Train Loss=0.513, Train Acc=80.7]\n"
     ]
    },
    {
     "name": "stdout",
     "output_type": "stream",
     "text": [
      "Epoch 93\n",
      "Train Loss: 0.5133, Train Accuracy: 80.68%\n",
      "Test Loss: 0.3366, Test Accuracy: 87.63%\n",
      "\n"
     ]
    },
    {
     "name": "stderr",
     "output_type": "stream",
     "text": [
      "Epoch 94: 100%|██████████| 938/938 [00:21<00:00, 43.12batch/s, Train Loss=0.514, Train Acc=80.7]\n"
     ]
    },
    {
     "name": "stdout",
     "output_type": "stream",
     "text": [
      "Epoch 94\n",
      "Train Loss: 0.5140, Train Accuracy: 80.72%\n",
      "Test Loss: 0.3378, Test Accuracy: 87.96%\n",
      "\n"
     ]
    },
    {
     "name": "stderr",
     "output_type": "stream",
     "text": [
      "Epoch 95: 100%|██████████| 938/938 [00:21<00:00, 43.17batch/s, Train Loss=0.509, Train Acc=80.9]\n"
     ]
    },
    {
     "name": "stdout",
     "output_type": "stream",
     "text": [
      "Epoch 95\n",
      "Train Loss: 0.5086, Train Accuracy: 80.90%\n",
      "Test Loss: 0.3323, Test Accuracy: 88.15%\n",
      "\n"
     ]
    },
    {
     "name": "stderr",
     "output_type": "stream",
     "text": [
      "Epoch 96: 100%|██████████| 938/938 [00:21<00:00, 42.82batch/s, Train Loss=0.509, Train Acc=81.1]\n"
     ]
    },
    {
     "name": "stdout",
     "output_type": "stream",
     "text": [
      "Epoch 96\n",
      "Train Loss: 0.5092, Train Accuracy: 81.09%\n",
      "Test Loss: 0.3446, Test Accuracy: 87.74%\n",
      "\n"
     ]
    },
    {
     "name": "stderr",
     "output_type": "stream",
     "text": [
      "Epoch 97: 100%|██████████| 938/938 [00:21<00:00, 43.07batch/s, Train Loss=0.505, Train Acc=81]  \n"
     ]
    },
    {
     "name": "stdout",
     "output_type": "stream",
     "text": [
      "Epoch 97\n",
      "Train Loss: 0.5050, Train Accuracy: 81.00%\n",
      "Test Loss: 0.3377, Test Accuracy: 87.87%\n",
      "\n"
     ]
    },
    {
     "name": "stderr",
     "output_type": "stream",
     "text": [
      "Epoch 98: 100%|██████████| 938/938 [00:21<00:00, 42.99batch/s, Train Loss=0.505, Train Acc=81.1]\n"
     ]
    },
    {
     "name": "stdout",
     "output_type": "stream",
     "text": [
      "Epoch 98\n",
      "Train Loss: 0.5052, Train Accuracy: 81.10%\n",
      "Test Loss: 0.3290, Test Accuracy: 88.26%\n",
      "\n"
     ]
    },
    {
     "name": "stderr",
     "output_type": "stream",
     "text": [
      "Epoch 99: 100%|██████████| 938/938 [00:21<00:00, 43.15batch/s, Train Loss=0.505, Train Acc=80.9]\n"
     ]
    },
    {
     "name": "stdout",
     "output_type": "stream",
     "text": [
      "Epoch 99\n",
      "Train Loss: 0.5046, Train Accuracy: 80.92%\n",
      "Test Loss: 0.3301, Test Accuracy: 88.13%\n",
      "\n"
     ]
    },
    {
     "name": "stderr",
     "output_type": "stream",
     "text": [
      "Epoch 100: 100%|██████████| 938/938 [00:21<00:00, 43.24batch/s, Train Loss=0.499, Train Acc=81.2]\n"
     ]
    },
    {
     "name": "stdout",
     "output_type": "stream",
     "text": [
      "Epoch 100\n",
      "Train Loss: 0.4990, Train Accuracy: 81.23%\n",
      "Test Loss: 0.3245, Test Accuracy: 88.22%\n",
      "\n"
     ]
    },
    {
     "name": "stderr",
     "output_type": "stream",
     "text": [
      "Epoch 101: 100%|██████████| 938/938 [00:21<00:00, 43.02batch/s, Train Loss=0.501, Train Acc=81.2]\n"
     ]
    },
    {
     "name": "stdout",
     "output_type": "stream",
     "text": [
      "Epoch 101\n",
      "Train Loss: 0.5014, Train Accuracy: 81.24%\n",
      "Test Loss: 0.3268, Test Accuracy: 88.17%\n",
      "\n"
     ]
    },
    {
     "name": "stderr",
     "output_type": "stream",
     "text": [
      "Epoch 102: 100%|██████████| 938/938 [00:21<00:00, 42.97batch/s, Train Loss=0.5, Train Acc=81.3]  \n"
     ]
    },
    {
     "name": "stdout",
     "output_type": "stream",
     "text": [
      "Epoch 102\n",
      "Train Loss: 0.4999, Train Accuracy: 81.30%\n",
      "Test Loss: 0.3309, Test Accuracy: 87.97%\n",
      "\n"
     ]
    },
    {
     "name": "stderr",
     "output_type": "stream",
     "text": [
      "Epoch 103: 100%|██████████| 938/938 [00:21<00:00, 43.05batch/s, Train Loss=0.501, Train Acc=81.2]\n"
     ]
    },
    {
     "name": "stdout",
     "output_type": "stream",
     "text": [
      "Epoch 103\n",
      "Train Loss: 0.5007, Train Accuracy: 81.24%\n",
      "Test Loss: 0.3259, Test Accuracy: 88.23%\n",
      "\n"
     ]
    },
    {
     "name": "stderr",
     "output_type": "stream",
     "text": [
      "Epoch 104: 100%|██████████| 938/938 [00:21<00:00, 42.87batch/s, Train Loss=0.497, Train Acc=81.2]\n"
     ]
    },
    {
     "name": "stdout",
     "output_type": "stream",
     "text": [
      "Epoch 104\n",
      "Train Loss: 0.4966, Train Accuracy: 81.25%\n",
      "Test Loss: 0.3272, Test Accuracy: 88.15%\n",
      "\n"
     ]
    },
    {
     "name": "stderr",
     "output_type": "stream",
     "text": [
      "Epoch 105: 100%|██████████| 938/938 [00:21<00:00, 43.11batch/s, Train Loss=0.495, Train Acc=81.2]\n"
     ]
    },
    {
     "name": "stdout",
     "output_type": "stream",
     "text": [
      "Epoch 105\n",
      "Train Loss: 0.4954, Train Accuracy: 81.22%\n",
      "Test Loss: 0.3249, Test Accuracy: 88.51%\n",
      "\n"
     ]
    },
    {
     "name": "stderr",
     "output_type": "stream",
     "text": [
      "Epoch 106: 100%|██████████| 938/938 [00:22<00:00, 42.64batch/s, Train Loss=0.497, Train Acc=81.4]\n"
     ]
    },
    {
     "name": "stdout",
     "output_type": "stream",
     "text": [
      "Epoch 106\n",
      "Train Loss: 0.4974, Train Accuracy: 81.36%\n",
      "Test Loss: 0.3289, Test Accuracy: 88.06%\n",
      "\n"
     ]
    },
    {
     "name": "stderr",
     "output_type": "stream",
     "text": [
      "Epoch 107: 100%|██████████| 938/938 [00:21<00:00, 42.97batch/s, Train Loss=0.489, Train Acc=81.5]\n"
     ]
    },
    {
     "name": "stdout",
     "output_type": "stream",
     "text": [
      "Epoch 107\n",
      "Train Loss: 0.4894, Train Accuracy: 81.53%\n",
      "Test Loss: 0.3272, Test Accuracy: 88.34%\n",
      "\n"
     ]
    },
    {
     "name": "stderr",
     "output_type": "stream",
     "text": [
      "Epoch 108: 100%|██████████| 938/938 [00:21<00:00, 43.05batch/s, Train Loss=0.492, Train Acc=81.6]\n"
     ]
    },
    {
     "name": "stdout",
     "output_type": "stream",
     "text": [
      "Epoch 108\n",
      "Train Loss: 0.4924, Train Accuracy: 81.55%\n",
      "Test Loss: 0.3282, Test Accuracy: 88.20%\n",
      "\n"
     ]
    },
    {
     "name": "stderr",
     "output_type": "stream",
     "text": [
      "Epoch 109: 100%|██████████| 938/938 [00:21<00:00, 43.00batch/s, Train Loss=0.492, Train Acc=81.5]\n"
     ]
    },
    {
     "name": "stdout",
     "output_type": "stream",
     "text": [
      "Epoch 109\n",
      "Train Loss: 0.4917, Train Accuracy: 81.46%\n",
      "Test Loss: 0.3314, Test Accuracy: 87.85%\n",
      "\n"
     ]
    },
    {
     "name": "stderr",
     "output_type": "stream",
     "text": [
      "Epoch 110: 100%|██████████| 938/938 [00:21<00:00, 43.11batch/s, Train Loss=0.492, Train Acc=81.6]\n"
     ]
    },
    {
     "name": "stdout",
     "output_type": "stream",
     "text": [
      "Epoch 110\n",
      "Train Loss: 0.4918, Train Accuracy: 81.59%\n",
      "Test Loss: 0.3312, Test Accuracy: 87.99%\n",
      "\n"
     ]
    },
    {
     "name": "stderr",
     "output_type": "stream",
     "text": [
      "Epoch 111: 100%|██████████| 938/938 [00:21<00:00, 43.11batch/s, Train Loss=0.488, Train Acc=81.8]\n"
     ]
    },
    {
     "name": "stdout",
     "output_type": "stream",
     "text": [
      "Epoch 111\n",
      "Train Loss: 0.4882, Train Accuracy: 81.83%\n",
      "Test Loss: 0.3270, Test Accuracy: 88.18%\n",
      "\n"
     ]
    },
    {
     "name": "stderr",
     "output_type": "stream",
     "text": [
      "Epoch 112: 100%|██████████| 938/938 [00:21<00:00, 43.04batch/s, Train Loss=0.485, Train Acc=81.8]\n"
     ]
    },
    {
     "name": "stdout",
     "output_type": "stream",
     "text": [
      "Epoch 112\n",
      "Train Loss: 0.4851, Train Accuracy: 81.79%\n",
      "Test Loss: 0.3237, Test Accuracy: 88.41%\n",
      "\n"
     ]
    },
    {
     "name": "stderr",
     "output_type": "stream",
     "text": [
      "Epoch 113: 100%|██████████| 938/938 [00:21<00:00, 42.67batch/s, Train Loss=0.486, Train Acc=81.7]\n"
     ]
    },
    {
     "name": "stdout",
     "output_type": "stream",
     "text": [
      "Epoch 113\n",
      "Train Loss: 0.4865, Train Accuracy: 81.69%\n",
      "Test Loss: 0.3252, Test Accuracy: 88.16%\n",
      "\n"
     ]
    },
    {
     "name": "stderr",
     "output_type": "stream",
     "text": [
      "Epoch 114: 100%|██████████| 938/938 [00:21<00:00, 42.85batch/s, Train Loss=0.486, Train Acc=81.9]\n"
     ]
    },
    {
     "name": "stdout",
     "output_type": "stream",
     "text": [
      "Epoch 114\n",
      "Train Loss: 0.4856, Train Accuracy: 81.91%\n",
      "Test Loss: 0.3269, Test Accuracy: 88.31%\n",
      "\n"
     ]
    },
    {
     "name": "stderr",
     "output_type": "stream",
     "text": [
      "Epoch 115: 100%|██████████| 938/938 [00:21<00:00, 42.77batch/s, Train Loss=0.486, Train Acc=81.8]\n"
     ]
    },
    {
     "name": "stdout",
     "output_type": "stream",
     "text": [
      "Epoch 115\n",
      "Train Loss: 0.4860, Train Accuracy: 81.83%\n",
      "Test Loss: 0.3156, Test Accuracy: 88.50%\n",
      "\n"
     ]
    },
    {
     "name": "stderr",
     "output_type": "stream",
     "text": [
      "Epoch 116: 100%|██████████| 938/938 [00:21<00:00, 42.96batch/s, Train Loss=0.483, Train Acc=82]  \n"
     ]
    },
    {
     "name": "stdout",
     "output_type": "stream",
     "text": [
      "Epoch 116\n",
      "Train Loss: 0.4828, Train Accuracy: 81.95%\n",
      "Test Loss: 0.3170, Test Accuracy: 88.67%\n",
      "\n"
     ]
    },
    {
     "name": "stderr",
     "output_type": "stream",
     "text": [
      "Epoch 117: 100%|██████████| 938/938 [00:21<00:00, 43.00batch/s, Train Loss=0.483, Train Acc=81.8]\n"
     ]
    },
    {
     "name": "stdout",
     "output_type": "stream",
     "text": [
      "Epoch 117\n",
      "Train Loss: 0.4835, Train Accuracy: 81.80%\n",
      "Test Loss: 0.3178, Test Accuracy: 88.39%\n",
      "\n"
     ]
    },
    {
     "name": "stderr",
     "output_type": "stream",
     "text": [
      "Epoch 118: 100%|██████████| 938/938 [00:21<00:00, 42.95batch/s, Train Loss=0.483, Train Acc=81.8]\n"
     ]
    },
    {
     "name": "stdout",
     "output_type": "stream",
     "text": [
      "Epoch 118\n",
      "Train Loss: 0.4827, Train Accuracy: 81.83%\n",
      "Test Loss: 0.3192, Test Accuracy: 88.69%\n",
      "\n"
     ]
    },
    {
     "name": "stderr",
     "output_type": "stream",
     "text": [
      "Epoch 119: 100%|██████████| 938/938 [00:21<00:00, 42.90batch/s, Train Loss=0.482, Train Acc=81.9]\n"
     ]
    },
    {
     "name": "stdout",
     "output_type": "stream",
     "text": [
      "Epoch 119\n",
      "Train Loss: 0.4818, Train Accuracy: 81.90%\n",
      "Test Loss: 0.3244, Test Accuracy: 88.26%\n",
      "\n"
     ]
    },
    {
     "name": "stderr",
     "output_type": "stream",
     "text": [
      "Epoch 120: 100%|██████████| 938/938 [00:21<00:00, 42.93batch/s, Train Loss=0.479, Train Acc=81.9]\n"
     ]
    },
    {
     "name": "stdout",
     "output_type": "stream",
     "text": [
      "Epoch 120\n",
      "Train Loss: 0.4788, Train Accuracy: 81.90%\n",
      "Test Loss: 0.3153, Test Accuracy: 88.67%\n",
      "\n"
     ]
    },
    {
     "name": "stderr",
     "output_type": "stream",
     "text": [
      "Epoch 121: 100%|██████████| 938/938 [00:21<00:00, 42.90batch/s, Train Loss=0.476, Train Acc=82.1]\n"
     ]
    },
    {
     "name": "stdout",
     "output_type": "stream",
     "text": [
      "Epoch 121\n",
      "Train Loss: 0.4765, Train Accuracy: 82.11%\n",
      "Test Loss: 0.3126, Test Accuracy: 88.96%\n",
      "\n"
     ]
    },
    {
     "name": "stderr",
     "output_type": "stream",
     "text": [
      "Epoch 122: 100%|██████████| 938/938 [00:21<00:00, 43.08batch/s, Train Loss=0.481, Train Acc=82]  \n"
     ]
    },
    {
     "name": "stdout",
     "output_type": "stream",
     "text": [
      "Epoch 122\n",
      "Train Loss: 0.4806, Train Accuracy: 81.95%\n",
      "Test Loss: 0.3153, Test Accuracy: 88.64%\n",
      "\n"
     ]
    },
    {
     "name": "stderr",
     "output_type": "stream",
     "text": [
      "Epoch 123: 100%|██████████| 938/938 [00:21<00:00, 42.97batch/s, Train Loss=0.476, Train Acc=81.9]\n"
     ]
    },
    {
     "name": "stdout",
     "output_type": "stream",
     "text": [
      "Epoch 123\n",
      "Train Loss: 0.4760, Train Accuracy: 81.88%\n",
      "Test Loss: 0.3118, Test Accuracy: 88.99%\n",
      "\n"
     ]
    },
    {
     "name": "stderr",
     "output_type": "stream",
     "text": [
      "Epoch 124: 100%|██████████| 938/938 [00:21<00:00, 42.84batch/s, Train Loss=0.474, Train Acc=82.2]\n"
     ]
    },
    {
     "name": "stdout",
     "output_type": "stream",
     "text": [
      "Epoch 124\n",
      "Train Loss: 0.4736, Train Accuracy: 82.16%\n",
      "Test Loss: 0.3161, Test Accuracy: 88.77%\n",
      "\n"
     ]
    },
    {
     "name": "stderr",
     "output_type": "stream",
     "text": [
      "Epoch 125: 100%|██████████| 938/938 [00:21<00:00, 42.90batch/s, Train Loss=0.475, Train Acc=82.1]\n"
     ]
    },
    {
     "name": "stdout",
     "output_type": "stream",
     "text": [
      "Epoch 125\n",
      "Train Loss: 0.4746, Train Accuracy: 82.11%\n",
      "Test Loss: 0.3135, Test Accuracy: 88.81%\n",
      "\n"
     ]
    },
    {
     "name": "stderr",
     "output_type": "stream",
     "text": [
      "Epoch 126: 100%|██████████| 938/938 [00:21<00:00, 42.77batch/s, Train Loss=0.475, Train Acc=82.3]\n"
     ]
    },
    {
     "name": "stdout",
     "output_type": "stream",
     "text": [
      "Epoch 126\n",
      "Train Loss: 0.4747, Train Accuracy: 82.30%\n",
      "Test Loss: 0.3160, Test Accuracy: 88.53%\n",
      "\n"
     ]
    },
    {
     "name": "stderr",
     "output_type": "stream",
     "text": [
      "Epoch 127: 100%|██████████| 938/938 [00:21<00:00, 42.80batch/s, Train Loss=0.47, Train Acc=82.5] \n"
     ]
    },
    {
     "name": "stdout",
     "output_type": "stream",
     "text": [
      "Epoch 127\n",
      "Train Loss: 0.4695, Train Accuracy: 82.52%\n",
      "Test Loss: 0.3076, Test Accuracy: 89.11%\n",
      "\n"
     ]
    },
    {
     "name": "stderr",
     "output_type": "stream",
     "text": [
      "Epoch 128: 100%|██████████| 938/938 [00:21<00:00, 42.91batch/s, Train Loss=0.468, Train Acc=82.4]\n"
     ]
    },
    {
     "name": "stdout",
     "output_type": "stream",
     "text": [
      "Epoch 128\n",
      "Train Loss: 0.4681, Train Accuracy: 82.41%\n",
      "Test Loss: 0.3174, Test Accuracy: 88.67%\n",
      "\n"
     ]
    },
    {
     "name": "stderr",
     "output_type": "stream",
     "text": [
      "Epoch 129: 100%|██████████| 938/938 [00:21<00:00, 42.88batch/s, Train Loss=0.47, Train Acc=82.4] \n"
     ]
    },
    {
     "name": "stdout",
     "output_type": "stream",
     "text": [
      "Epoch 129\n",
      "Train Loss: 0.4703, Train Accuracy: 82.41%\n",
      "Test Loss: 0.3173, Test Accuracy: 88.64%\n",
      "\n"
     ]
    },
    {
     "name": "stderr",
     "output_type": "stream",
     "text": [
      "Epoch 130: 100%|██████████| 938/938 [00:21<00:00, 42.98batch/s, Train Loss=0.468, Train Acc=82.3]\n"
     ]
    },
    {
     "name": "stdout",
     "output_type": "stream",
     "text": [
      "Epoch 130\n",
      "Train Loss: 0.4676, Train Accuracy: 82.31%\n",
      "Test Loss: 0.3098, Test Accuracy: 88.93%\n",
      "\n"
     ]
    },
    {
     "name": "stderr",
     "output_type": "stream",
     "text": [
      "Epoch 131: 100%|██████████| 938/938 [00:21<00:00, 42.96batch/s, Train Loss=0.466, Train Acc=82.5]\n"
     ]
    },
    {
     "name": "stdout",
     "output_type": "stream",
     "text": [
      "Epoch 131\n",
      "Train Loss: 0.4664, Train Accuracy: 82.48%\n",
      "Test Loss: 0.3119, Test Accuracy: 88.81%\n",
      "\n"
     ]
    },
    {
     "name": "stderr",
     "output_type": "stream",
     "text": [
      "Epoch 132: 100%|██████████| 938/938 [00:21<00:00, 42.71batch/s, Train Loss=0.461, Train Acc=82.5]\n"
     ]
    },
    {
     "name": "stdout",
     "output_type": "stream",
     "text": [
      "Epoch 132\n",
      "Train Loss: 0.4612, Train Accuracy: 82.53%\n",
      "Test Loss: 0.3165, Test Accuracy: 88.65%\n",
      "\n"
     ]
    },
    {
     "name": "stderr",
     "output_type": "stream",
     "text": [
      "Epoch 133: 100%|██████████| 938/938 [00:21<00:00, 42.85batch/s, Train Loss=0.466, Train Acc=82.5]\n"
     ]
    },
    {
     "name": "stdout",
     "output_type": "stream",
     "text": [
      "Epoch 133\n",
      "Train Loss: 0.4665, Train Accuracy: 82.52%\n",
      "Test Loss: 0.3097, Test Accuracy: 89.00%\n",
      "\n"
     ]
    },
    {
     "name": "stderr",
     "output_type": "stream",
     "text": [
      "Epoch 134: 100%|██████████| 938/938 [00:21<00:00, 42.85batch/s, Train Loss=0.465, Train Acc=82.6]\n"
     ]
    },
    {
     "name": "stdout",
     "output_type": "stream",
     "text": [
      "Epoch 134\n",
      "Train Loss: 0.4647, Train Accuracy: 82.59%\n",
      "Test Loss: 0.3107, Test Accuracy: 88.94%\n",
      "\n"
     ]
    },
    {
     "name": "stderr",
     "output_type": "stream",
     "text": [
      "Epoch 135: 100%|██████████| 938/938 [00:21<00:00, 43.13batch/s, Train Loss=0.46, Train Acc=82.4] \n"
     ]
    },
    {
     "name": "stdout",
     "output_type": "stream",
     "text": [
      "Epoch 135\n",
      "Train Loss: 0.4600, Train Accuracy: 82.45%\n",
      "Test Loss: 0.3071, Test Accuracy: 89.09%\n",
      "\n"
     ]
    },
    {
     "name": "stderr",
     "output_type": "stream",
     "text": [
      "Epoch 136: 100%|██████████| 938/938 [00:21<00:00, 42.88batch/s, Train Loss=0.46, Train Acc=82.7] \n"
     ]
    },
    {
     "name": "stdout",
     "output_type": "stream",
     "text": [
      "Epoch 136\n",
      "Train Loss: 0.4605, Train Accuracy: 82.75%\n",
      "Test Loss: 0.3070, Test Accuracy: 89.01%\n",
      "\n"
     ]
    },
    {
     "name": "stderr",
     "output_type": "stream",
     "text": [
      "Epoch 137: 100%|██████████| 938/938 [00:21<00:00, 42.96batch/s, Train Loss=0.461, Train Acc=82.5]\n"
     ]
    },
    {
     "name": "stdout",
     "output_type": "stream",
     "text": [
      "Epoch 137\n",
      "Train Loss: 0.4611, Train Accuracy: 82.51%\n",
      "Test Loss: 0.3116, Test Accuracy: 88.90%\n",
      "\n"
     ]
    },
    {
     "name": "stderr",
     "output_type": "stream",
     "text": [
      "Epoch 138: 100%|██████████| 938/938 [00:21<00:00, 42.94batch/s, Train Loss=0.464, Train Acc=82.6]\n"
     ]
    },
    {
     "name": "stdout",
     "output_type": "stream",
     "text": [
      "Epoch 138\n",
      "Train Loss: 0.4640, Train Accuracy: 82.61%\n",
      "Test Loss: 0.3044, Test Accuracy: 89.02%\n",
      "\n"
     ]
    },
    {
     "name": "stderr",
     "output_type": "stream",
     "text": [
      "Epoch 139: 100%|██████████| 938/938 [00:21<00:00, 43.02batch/s, Train Loss=0.459, Train Acc=82.6]\n"
     ]
    },
    {
     "name": "stdout",
     "output_type": "stream",
     "text": [
      "Epoch 139\n",
      "Train Loss: 0.4591, Train Accuracy: 82.63%\n",
      "Test Loss: 0.3071, Test Accuracy: 88.74%\n",
      "\n"
     ]
    },
    {
     "name": "stderr",
     "output_type": "stream",
     "text": [
      "Epoch 140: 100%|██████████| 938/938 [00:21<00:00, 42.75batch/s, Train Loss=0.458, Train Acc=82.7]\n"
     ]
    },
    {
     "name": "stdout",
     "output_type": "stream",
     "text": [
      "Epoch 140\n",
      "Train Loss: 0.4580, Train Accuracy: 82.68%\n",
      "Test Loss: 0.3032, Test Accuracy: 88.88%\n",
      "\n"
     ]
    },
    {
     "name": "stderr",
     "output_type": "stream",
     "text": [
      "Epoch 141: 100%|██████████| 938/938 [00:21<00:00, 43.01batch/s, Train Loss=0.456, Train Acc=82.8]\n"
     ]
    },
    {
     "name": "stdout",
     "output_type": "stream",
     "text": [
      "Epoch 141\n",
      "Train Loss: 0.4565, Train Accuracy: 82.79%\n",
      "Test Loss: 0.3036, Test Accuracy: 88.98%\n",
      "\n"
     ]
    },
    {
     "name": "stderr",
     "output_type": "stream",
     "text": [
      "Epoch 142: 100%|██████████| 938/938 [00:21<00:00, 42.75batch/s, Train Loss=0.458, Train Acc=82.9]\n"
     ]
    },
    {
     "name": "stdout",
     "output_type": "stream",
     "text": [
      "Epoch 142\n",
      "Train Loss: 0.4581, Train Accuracy: 82.88%\n",
      "Test Loss: 0.3061, Test Accuracy: 88.78%\n",
      "\n"
     ]
    },
    {
     "name": "stderr",
     "output_type": "stream",
     "text": [
      "Epoch 143: 100%|██████████| 938/938 [00:21<00:00, 42.75batch/s, Train Loss=0.455, Train Acc=82.9]\n"
     ]
    },
    {
     "name": "stdout",
     "output_type": "stream",
     "text": [
      "Epoch 143\n",
      "Train Loss: 0.4547, Train Accuracy: 82.92%\n",
      "Test Loss: 0.3040, Test Accuracy: 88.84%\n",
      "\n"
     ]
    },
    {
     "name": "stderr",
     "output_type": "stream",
     "text": [
      "Epoch 144: 100%|██████████| 938/938 [00:21<00:00, 42.88batch/s, Train Loss=0.452, Train Acc=82.9]\n"
     ]
    },
    {
     "name": "stdout",
     "output_type": "stream",
     "text": [
      "Epoch 144\n",
      "Train Loss: 0.4519, Train Accuracy: 82.94%\n",
      "Test Loss: 0.3005, Test Accuracy: 88.99%\n",
      "\n"
     ]
    },
    {
     "name": "stderr",
     "output_type": "stream",
     "text": [
      "Epoch 145: 100%|██████████| 938/938 [00:21<00:00, 42.70batch/s, Train Loss=0.459, Train Acc=82.8]\n"
     ]
    },
    {
     "name": "stdout",
     "output_type": "stream",
     "text": [
      "Epoch 145\n",
      "Train Loss: 0.4585, Train Accuracy: 82.79%\n",
      "Test Loss: 0.3072, Test Accuracy: 88.82%\n",
      "\n"
     ]
    },
    {
     "name": "stderr",
     "output_type": "stream",
     "text": [
      "Epoch 146: 100%|██████████| 938/938 [00:21<00:00, 42.99batch/s, Train Loss=0.448, Train Acc=83.1]\n"
     ]
    },
    {
     "name": "stdout",
     "output_type": "stream",
     "text": [
      "Epoch 146\n",
      "Train Loss: 0.4479, Train Accuracy: 83.09%\n",
      "Test Loss: 0.3107, Test Accuracy: 88.82%\n",
      "\n"
     ]
    },
    {
     "name": "stderr",
     "output_type": "stream",
     "text": [
      "Epoch 147: 100%|██████████| 938/938 [00:21<00:00, 42.85batch/s, Train Loss=0.452, Train Acc=83]  \n"
     ]
    },
    {
     "name": "stdout",
     "output_type": "stream",
     "text": [
      "Epoch 147\n",
      "Train Loss: 0.4519, Train Accuracy: 82.98%\n",
      "Test Loss: 0.3016, Test Accuracy: 89.01%\n",
      "\n"
     ]
    },
    {
     "name": "stderr",
     "output_type": "stream",
     "text": [
      "Epoch 148: 100%|██████████| 938/938 [00:21<00:00, 42.89batch/s, Train Loss=0.449, Train Acc=83.2]\n"
     ]
    },
    {
     "name": "stdout",
     "output_type": "stream",
     "text": [
      "Epoch 148\n",
      "Train Loss: 0.4486, Train Accuracy: 83.22%\n",
      "Test Loss: 0.3004, Test Accuracy: 89.15%\n",
      "\n"
     ]
    },
    {
     "name": "stderr",
     "output_type": "stream",
     "text": [
      "Epoch 149: 100%|██████████| 938/938 [00:21<00:00, 43.30batch/s, Train Loss=0.452, Train Acc=82.9]\n"
     ]
    },
    {
     "name": "stdout",
     "output_type": "stream",
     "text": [
      "Epoch 149\n",
      "Train Loss: 0.4523, Train Accuracy: 82.91%\n",
      "Test Loss: 0.3010, Test Accuracy: 89.13%\n",
      "\n"
     ]
    },
    {
     "name": "stderr",
     "output_type": "stream",
     "text": [
      "Epoch 150: 100%|██████████| 938/938 [00:21<00:00, 43.06batch/s, Train Loss=0.449, Train Acc=83]  \n"
     ]
    },
    {
     "name": "stdout",
     "output_type": "stream",
     "text": [
      "Epoch 150\n",
      "Train Loss: 0.4487, Train Accuracy: 83.01%\n",
      "Test Loss: 0.3049, Test Accuracy: 88.91%\n",
      "\n"
     ]
    },
    {
     "name": "stderr",
     "output_type": "stream",
     "text": [
      "Epoch 151: 100%|██████████| 938/938 [00:21<00:00, 42.87batch/s, Train Loss=0.447, Train Acc=83.2]\n"
     ]
    },
    {
     "name": "stdout",
     "output_type": "stream",
     "text": [
      "Epoch 151\n",
      "Train Loss: 0.4471, Train Accuracy: 83.25%\n",
      "Test Loss: 0.3095, Test Accuracy: 88.92%\n",
      "\n"
     ]
    },
    {
     "name": "stderr",
     "output_type": "stream",
     "text": [
      "Epoch 152: 100%|██████████| 938/938 [00:21<00:00, 42.79batch/s, Train Loss=0.448, Train Acc=83]  \n"
     ]
    },
    {
     "name": "stdout",
     "output_type": "stream",
     "text": [
      "Epoch 152\n",
      "Train Loss: 0.4482, Train Accuracy: 83.04%\n",
      "Test Loss: 0.3043, Test Accuracy: 88.98%\n",
      "\n"
     ]
    },
    {
     "name": "stderr",
     "output_type": "stream",
     "text": [
      "Epoch 153: 100%|██████████| 938/938 [00:21<00:00, 43.20batch/s, Train Loss=0.446, Train Acc=83]  \n"
     ]
    },
    {
     "name": "stdout",
     "output_type": "stream",
     "text": [
      "Epoch 153\n",
      "Train Loss: 0.4461, Train Accuracy: 83.05%\n",
      "Test Loss: 0.3038, Test Accuracy: 88.93%\n",
      "\n"
     ]
    },
    {
     "name": "stderr",
     "output_type": "stream",
     "text": [
      "Epoch 154: 100%|██████████| 938/938 [00:21<00:00, 42.94batch/s, Train Loss=0.447, Train Acc=83.2]\n"
     ]
    },
    {
     "name": "stdout",
     "output_type": "stream",
     "text": [
      "Epoch 154\n",
      "Train Loss: 0.4472, Train Accuracy: 83.21%\n",
      "Test Loss: 0.3069, Test Accuracy: 88.96%\n",
      "\n"
     ]
    },
    {
     "name": "stderr",
     "output_type": "stream",
     "text": [
      "Epoch 155: 100%|██████████| 938/938 [00:21<00:00, 42.75batch/s, Train Loss=0.447, Train Acc=83.2]\n"
     ]
    },
    {
     "name": "stdout",
     "output_type": "stream",
     "text": [
      "Epoch 155\n",
      "Train Loss: 0.4473, Train Accuracy: 83.16%\n",
      "Test Loss: 0.3039, Test Accuracy: 88.79%\n",
      "\n"
     ]
    },
    {
     "name": "stderr",
     "output_type": "stream",
     "text": [
      "Epoch 156: 100%|██████████| 938/938 [00:21<00:00, 43.03batch/s, Train Loss=0.445, Train Acc=83.3]\n"
     ]
    },
    {
     "name": "stdout",
     "output_type": "stream",
     "text": [
      "Epoch 156\n",
      "Train Loss: 0.4447, Train Accuracy: 83.33%\n",
      "Test Loss: 0.3019, Test Accuracy: 88.82%\n",
      "\n"
     ]
    },
    {
     "name": "stderr",
     "output_type": "stream",
     "text": [
      "Epoch 157: 100%|██████████| 938/938 [00:21<00:00, 42.99batch/s, Train Loss=0.442, Train Acc=83.4]\n"
     ]
    },
    {
     "name": "stdout",
     "output_type": "stream",
     "text": [
      "Epoch 157\n",
      "Train Loss: 0.4415, Train Accuracy: 83.40%\n",
      "Test Loss: 0.3042, Test Accuracy: 89.17%\n",
      "\n"
     ]
    },
    {
     "name": "stderr",
     "output_type": "stream",
     "text": [
      "Epoch 158: 100%|██████████| 938/938 [00:21<00:00, 42.96batch/s, Train Loss=0.444, Train Acc=83.2]\n"
     ]
    },
    {
     "name": "stdout",
     "output_type": "stream",
     "text": [
      "Epoch 158\n",
      "Train Loss: 0.4443, Train Accuracy: 83.22%\n",
      "Test Loss: 0.3007, Test Accuracy: 89.14%\n",
      "\n"
     ]
    },
    {
     "name": "stderr",
     "output_type": "stream",
     "text": [
      "Epoch 159: 100%|██████████| 938/938 [00:21<00:00, 42.87batch/s, Train Loss=0.443, Train Acc=83.4]\n"
     ]
    },
    {
     "name": "stdout",
     "output_type": "stream",
     "text": [
      "Epoch 159\n",
      "Train Loss: 0.4431, Train Accuracy: 83.38%\n",
      "Test Loss: 0.3010, Test Accuracy: 88.87%\n",
      "\n"
     ]
    },
    {
     "name": "stderr",
     "output_type": "stream",
     "text": [
      "Epoch 160: 100%|██████████| 938/938 [00:21<00:00, 42.68batch/s, Train Loss=0.44, Train Acc=83.3] \n"
     ]
    },
    {
     "name": "stdout",
     "output_type": "stream",
     "text": [
      "Epoch 160\n",
      "Train Loss: 0.4399, Train Accuracy: 83.35%\n",
      "Test Loss: 0.2952, Test Accuracy: 89.38%\n",
      "\n"
     ]
    },
    {
     "name": "stderr",
     "output_type": "stream",
     "text": [
      "Epoch 161: 100%|██████████| 938/938 [00:21<00:00, 42.74batch/s, Train Loss=0.436, Train Acc=83.6]\n"
     ]
    },
    {
     "name": "stdout",
     "output_type": "stream",
     "text": [
      "Epoch 161\n",
      "Train Loss: 0.4360, Train Accuracy: 83.64%\n",
      "Test Loss: 0.2949, Test Accuracy: 89.37%\n",
      "\n"
     ]
    },
    {
     "name": "stderr",
     "output_type": "stream",
     "text": [
      "Epoch 162: 100%|██████████| 938/938 [00:21<00:00, 42.86batch/s, Train Loss=0.438, Train Acc=83.6]\n"
     ]
    },
    {
     "name": "stdout",
     "output_type": "stream",
     "text": [
      "Epoch 162\n",
      "Train Loss: 0.4376, Train Accuracy: 83.58%\n",
      "Test Loss: 0.3001, Test Accuracy: 89.30%\n",
      "\n"
     ]
    },
    {
     "name": "stderr",
     "output_type": "stream",
     "text": [
      "Epoch 163: 100%|██████████| 938/938 [00:21<00:00, 42.95batch/s, Train Loss=0.44, Train Acc=83.4] \n"
     ]
    },
    {
     "name": "stdout",
     "output_type": "stream",
     "text": [
      "Epoch 163\n",
      "Train Loss: 0.4395, Train Accuracy: 83.43%\n",
      "Test Loss: 0.2985, Test Accuracy: 88.96%\n",
      "\n"
     ]
    },
    {
     "name": "stderr",
     "output_type": "stream",
     "text": [
      "Epoch 164: 100%|██████████| 938/938 [00:21<00:00, 42.99batch/s, Train Loss=0.44, Train Acc=83.4] \n"
     ]
    },
    {
     "name": "stdout",
     "output_type": "stream",
     "text": [
      "Epoch 164\n",
      "Train Loss: 0.4405, Train Accuracy: 83.43%\n",
      "Test Loss: 0.2935, Test Accuracy: 89.22%\n",
      "\n"
     ]
    },
    {
     "name": "stderr",
     "output_type": "stream",
     "text": [
      "Epoch 165: 100%|██████████| 938/938 [00:21<00:00, 43.01batch/s, Train Loss=0.438, Train Acc=83.4]\n"
     ]
    },
    {
     "name": "stdout",
     "output_type": "stream",
     "text": [
      "Epoch 165\n",
      "Train Loss: 0.4376, Train Accuracy: 83.36%\n",
      "Test Loss: 0.2994, Test Accuracy: 89.02%\n",
      "\n"
     ]
    },
    {
     "name": "stderr",
     "output_type": "stream",
     "text": [
      "Epoch 166: 100%|██████████| 938/938 [00:21<00:00, 42.87batch/s, Train Loss=0.436, Train Acc=83.6]\n"
     ]
    },
    {
     "name": "stdout",
     "output_type": "stream",
     "text": [
      "Epoch 166\n",
      "Train Loss: 0.4364, Train Accuracy: 83.58%\n",
      "Test Loss: 0.2944, Test Accuracy: 89.54%\n",
      "\n"
     ]
    },
    {
     "name": "stderr",
     "output_type": "stream",
     "text": [
      "Epoch 167: 100%|██████████| 938/938 [00:21<00:00, 42.79batch/s, Train Loss=0.435, Train Acc=83.6]\n"
     ]
    },
    {
     "name": "stdout",
     "output_type": "stream",
     "text": [
      "Epoch 167\n",
      "Train Loss: 0.4348, Train Accuracy: 83.64%\n",
      "Test Loss: 0.2908, Test Accuracy: 89.43%\n",
      "\n"
     ]
    },
    {
     "name": "stderr",
     "output_type": "stream",
     "text": [
      "Epoch 168: 100%|██████████| 938/938 [00:21<00:00, 42.88batch/s, Train Loss=0.434, Train Acc=83.7]\n"
     ]
    },
    {
     "name": "stdout",
     "output_type": "stream",
     "text": [
      "Epoch 168\n",
      "Train Loss: 0.4343, Train Accuracy: 83.74%\n",
      "Test Loss: 0.2888, Test Accuracy: 89.52%\n",
      "\n"
     ]
    },
    {
     "name": "stderr",
     "output_type": "stream",
     "text": [
      "Epoch 169: 100%|██████████| 938/938 [00:21<00:00, 43.04batch/s, Train Loss=0.437, Train Acc=83.4]\n"
     ]
    },
    {
     "name": "stdout",
     "output_type": "stream",
     "text": [
      "Epoch 169\n",
      "Train Loss: 0.4373, Train Accuracy: 83.45%\n",
      "Test Loss: 0.2922, Test Accuracy: 89.46%\n",
      "\n"
     ]
    },
    {
     "name": "stderr",
     "output_type": "stream",
     "text": [
      "Epoch 170: 100%|██████████| 938/938 [00:21<00:00, 42.87batch/s, Train Loss=0.43, Train Acc=83.8] \n"
     ]
    },
    {
     "name": "stdout",
     "output_type": "stream",
     "text": [
      "Epoch 170\n",
      "Train Loss: 0.4296, Train Accuracy: 83.85%\n",
      "Test Loss: 0.2923, Test Accuracy: 89.36%\n",
      "\n"
     ]
    },
    {
     "name": "stderr",
     "output_type": "stream",
     "text": [
      "Epoch 171: 100%|██████████| 938/938 [00:21<00:00, 42.98batch/s, Train Loss=0.435, Train Acc=83.5]\n"
     ]
    },
    {
     "name": "stdout",
     "output_type": "stream",
     "text": [
      "Epoch 171\n",
      "Train Loss: 0.4349, Train Accuracy: 83.54%\n",
      "Test Loss: 0.2897, Test Accuracy: 89.54%\n",
      "\n"
     ]
    },
    {
     "name": "stderr",
     "output_type": "stream",
     "text": [
      "Epoch 172: 100%|██████████| 938/938 [00:21<00:00, 42.93batch/s, Train Loss=0.428, Train Acc=83.9]\n"
     ]
    },
    {
     "name": "stdout",
     "output_type": "stream",
     "text": [
      "Epoch 172\n",
      "Train Loss: 0.4282, Train Accuracy: 83.88%\n",
      "Test Loss: 0.2981, Test Accuracy: 89.08%\n",
      "\n"
     ]
    },
    {
     "name": "stderr",
     "output_type": "stream",
     "text": [
      "Epoch 173: 100%|██████████| 938/938 [00:21<00:00, 42.81batch/s, Train Loss=0.431, Train Acc=83.9]\n"
     ]
    },
    {
     "name": "stdout",
     "output_type": "stream",
     "text": [
      "Epoch 173\n",
      "Train Loss: 0.4314, Train Accuracy: 83.86%\n",
      "Test Loss: 0.2900, Test Accuracy: 89.55%\n",
      "\n"
     ]
    },
    {
     "name": "stderr",
     "output_type": "stream",
     "text": [
      "Epoch 174: 100%|██████████| 938/938 [00:21<00:00, 42.88batch/s, Train Loss=0.428, Train Acc=83.8]\n"
     ]
    },
    {
     "name": "stdout",
     "output_type": "stream",
     "text": [
      "Epoch 174\n",
      "Train Loss: 0.4278, Train Accuracy: 83.83%\n",
      "Test Loss: 0.2947, Test Accuracy: 89.43%\n",
      "\n"
     ]
    },
    {
     "name": "stderr",
     "output_type": "stream",
     "text": [
      "Epoch 175: 100%|██████████| 938/938 [00:21<00:00, 42.73batch/s, Train Loss=0.427, Train Acc=83.9]\n"
     ]
    },
    {
     "name": "stdout",
     "output_type": "stream",
     "text": [
      "Epoch 175\n",
      "Train Loss: 0.4266, Train Accuracy: 83.94%\n",
      "Test Loss: 0.2949, Test Accuracy: 89.39%\n",
      "\n"
     ]
    },
    {
     "name": "stderr",
     "output_type": "stream",
     "text": [
      "Epoch 176: 100%|██████████| 938/938 [00:21<00:00, 42.83batch/s, Train Loss=0.426, Train Acc=83.9]\n"
     ]
    },
    {
     "name": "stdout",
     "output_type": "stream",
     "text": [
      "Epoch 176\n",
      "Train Loss: 0.4263, Train Accuracy: 83.94%\n",
      "Test Loss: 0.2886, Test Accuracy: 89.52%\n",
      "\n"
     ]
    },
    {
     "name": "stderr",
     "output_type": "stream",
     "text": [
      "Epoch 177: 100%|██████████| 938/938 [00:21<00:00, 42.87batch/s, Train Loss=0.428, Train Acc=83.9]\n"
     ]
    },
    {
     "name": "stdout",
     "output_type": "stream",
     "text": [
      "Epoch 177\n",
      "Train Loss: 0.4278, Train Accuracy: 83.87%\n",
      "Test Loss: 0.2906, Test Accuracy: 89.53%\n",
      "\n"
     ]
    },
    {
     "name": "stderr",
     "output_type": "stream",
     "text": [
      "Epoch 178: 100%|██████████| 938/938 [00:21<00:00, 42.73batch/s, Train Loss=0.428, Train Acc=84]  \n"
     ]
    },
    {
     "name": "stdout",
     "output_type": "stream",
     "text": [
      "Epoch 178\n",
      "Train Loss: 0.4280, Train Accuracy: 84.01%\n",
      "Test Loss: 0.2888, Test Accuracy: 89.48%\n",
      "\n"
     ]
    },
    {
     "name": "stderr",
     "output_type": "stream",
     "text": [
      "Epoch 179: 100%|██████████| 938/938 [00:21<00:00, 42.85batch/s, Train Loss=0.429, Train Acc=83.8]\n"
     ]
    },
    {
     "name": "stdout",
     "output_type": "stream",
     "text": [
      "Epoch 179\n",
      "Train Loss: 0.4289, Train Accuracy: 83.85%\n",
      "Test Loss: 0.2885, Test Accuracy: 89.49%\n",
      "\n"
     ]
    },
    {
     "name": "stderr",
     "output_type": "stream",
     "text": [
      "Epoch 180: 100%|██████████| 938/938 [00:21<00:00, 43.00batch/s, Train Loss=0.428, Train Acc=83.8]\n"
     ]
    },
    {
     "name": "stdout",
     "output_type": "stream",
     "text": [
      "Epoch 180\n",
      "Train Loss: 0.4279, Train Accuracy: 83.81%\n",
      "Test Loss: 0.2932, Test Accuracy: 89.35%\n",
      "\n"
     ]
    },
    {
     "name": "stderr",
     "output_type": "stream",
     "text": [
      "Epoch 181: 100%|██████████| 938/938 [00:21<00:00, 42.81batch/s, Train Loss=0.424, Train Acc=84.1]\n"
     ]
    },
    {
     "name": "stdout",
     "output_type": "stream",
     "text": [
      "Epoch 181\n",
      "Train Loss: 0.4237, Train Accuracy: 84.06%\n",
      "Test Loss: 0.2891, Test Accuracy: 89.60%\n",
      "\n"
     ]
    },
    {
     "name": "stderr",
     "output_type": "stream",
     "text": [
      "Epoch 182: 100%|██████████| 938/938 [00:22<00:00, 42.60batch/s, Train Loss=0.424, Train Acc=84.1]\n"
     ]
    },
    {
     "name": "stdout",
     "output_type": "stream",
     "text": [
      "Epoch 182\n",
      "Train Loss: 0.4236, Train Accuracy: 84.08%\n",
      "Test Loss: 0.2901, Test Accuracy: 89.45%\n",
      "\n"
     ]
    },
    {
     "name": "stderr",
     "output_type": "stream",
     "text": [
      "Epoch 183: 100%|██████████| 938/938 [00:21<00:00, 42.89batch/s, Train Loss=0.426, Train Acc=83.9]\n"
     ]
    },
    {
     "name": "stdout",
     "output_type": "stream",
     "text": [
      "Epoch 183\n",
      "Train Loss: 0.4260, Train Accuracy: 83.87%\n",
      "Test Loss: 0.2892, Test Accuracy: 89.51%\n",
      "\n"
     ]
    },
    {
     "name": "stderr",
     "output_type": "stream",
     "text": [
      "Epoch 184: 100%|██████████| 938/938 [00:21<00:00, 42.65batch/s, Train Loss=0.421, Train Acc=84.1]\n"
     ]
    },
    {
     "name": "stdout",
     "output_type": "stream",
     "text": [
      "Epoch 184\n",
      "Train Loss: 0.4211, Train Accuracy: 84.11%\n",
      "Test Loss: 0.2904, Test Accuracy: 89.30%\n",
      "\n"
     ]
    },
    {
     "name": "stderr",
     "output_type": "stream",
     "text": [
      "Epoch 185: 100%|██████████| 938/938 [00:22<00:00, 42.62batch/s, Train Loss=0.424, Train Acc=83.9]\n"
     ]
    },
    {
     "name": "stdout",
     "output_type": "stream",
     "text": [
      "Epoch 185\n",
      "Train Loss: 0.4245, Train Accuracy: 83.94%\n",
      "Test Loss: 0.2879, Test Accuracy: 89.26%\n",
      "\n"
     ]
    },
    {
     "name": "stderr",
     "output_type": "stream",
     "text": [
      "Epoch 186: 100%|██████████| 938/938 [00:22<00:00, 42.51batch/s, Train Loss=0.419, Train Acc=84.3]\n"
     ]
    },
    {
     "name": "stdout",
     "output_type": "stream",
     "text": [
      "Epoch 186\n",
      "Train Loss: 0.4191, Train Accuracy: 84.27%\n",
      "Test Loss: 0.2934, Test Accuracy: 89.31%\n",
      "\n"
     ]
    },
    {
     "name": "stderr",
     "output_type": "stream",
     "text": [
      "Epoch 187: 100%|██████████| 938/938 [00:21<00:00, 42.81batch/s, Train Loss=0.421, Train Acc=84]  \n"
     ]
    },
    {
     "name": "stdout",
     "output_type": "stream",
     "text": [
      "Epoch 187\n",
      "Train Loss: 0.4213, Train Accuracy: 83.96%\n",
      "Test Loss: 0.2933, Test Accuracy: 89.37%\n",
      "\n"
     ]
    },
    {
     "name": "stderr",
     "output_type": "stream",
     "text": [
      "Epoch 188: 100%|██████████| 938/938 [00:21<00:00, 42.81batch/s, Train Loss=0.422, Train Acc=84]  \n"
     ]
    },
    {
     "name": "stdout",
     "output_type": "stream",
     "text": [
      "Epoch 188\n",
      "Train Loss: 0.4219, Train Accuracy: 84.05%\n",
      "Test Loss: 0.2864, Test Accuracy: 89.35%\n",
      "\n"
     ]
    },
    {
     "name": "stderr",
     "output_type": "stream",
     "text": [
      "Epoch 189: 100%|██████████| 938/938 [00:21<00:00, 42.67batch/s, Train Loss=0.423, Train Acc=84.2]\n"
     ]
    },
    {
     "name": "stdout",
     "output_type": "stream",
     "text": [
      "Epoch 189\n",
      "Train Loss: 0.4226, Train Accuracy: 84.16%\n",
      "Test Loss: 0.2938, Test Accuracy: 89.17%\n",
      "\n"
     ]
    },
    {
     "name": "stderr",
     "output_type": "stream",
     "text": [
      "Epoch 190: 100%|██████████| 938/938 [00:21<00:00, 42.64batch/s, Train Loss=0.418, Train Acc=84.1]\n"
     ]
    },
    {
     "name": "stdout",
     "output_type": "stream",
     "text": [
      "Epoch 190\n",
      "Train Loss: 0.4179, Train Accuracy: 84.12%\n",
      "Test Loss: 0.2872, Test Accuracy: 89.42%\n",
      "\n"
     ]
    },
    {
     "name": "stderr",
     "output_type": "stream",
     "text": [
      "Epoch 191: 100%|██████████| 938/938 [00:21<00:00, 43.12batch/s, Train Loss=0.416, Train Acc=84.3]\n"
     ]
    },
    {
     "name": "stdout",
     "output_type": "stream",
     "text": [
      "Epoch 191\n",
      "Train Loss: 0.4163, Train Accuracy: 84.26%\n",
      "Test Loss: 0.2882, Test Accuracy: 89.39%\n",
      "\n"
     ]
    },
    {
     "name": "stderr",
     "output_type": "stream",
     "text": [
      "Epoch 192: 100%|██████████| 938/938 [00:21<00:00, 42.97batch/s, Train Loss=0.417, Train Acc=84.3]\n"
     ]
    },
    {
     "name": "stdout",
     "output_type": "stream",
     "text": [
      "Epoch 192\n",
      "Train Loss: 0.4174, Train Accuracy: 84.25%\n",
      "Test Loss: 0.2903, Test Accuracy: 89.06%\n",
      "\n"
     ]
    },
    {
     "name": "stderr",
     "output_type": "stream",
     "text": [
      "Epoch 193: 100%|██████████| 938/938 [00:21<00:00, 42.82batch/s, Train Loss=0.417, Train Acc=84.1]\n"
     ]
    },
    {
     "name": "stdout",
     "output_type": "stream",
     "text": [
      "Epoch 193\n",
      "Train Loss: 0.4174, Train Accuracy: 84.14%\n",
      "Test Loss: 0.2950, Test Accuracy: 89.01%\n",
      "\n"
     ]
    },
    {
     "name": "stderr",
     "output_type": "stream",
     "text": [
      "Epoch 194: 100%|██████████| 938/938 [00:22<00:00, 42.55batch/s, Train Loss=0.414, Train Acc=84.3]\n"
     ]
    },
    {
     "name": "stdout",
     "output_type": "stream",
     "text": [
      "Epoch 194\n",
      "Train Loss: 0.4145, Train Accuracy: 84.30%\n",
      "Test Loss: 0.2889, Test Accuracy: 89.46%\n",
      "\n"
     ]
    },
    {
     "name": "stderr",
     "output_type": "stream",
     "text": [
      "Epoch 195: 100%|██████████| 938/938 [00:21<00:00, 42.88batch/s, Train Loss=0.417, Train Acc=84.3]\n"
     ]
    },
    {
     "name": "stdout",
     "output_type": "stream",
     "text": [
      "Epoch 195\n",
      "Train Loss: 0.4173, Train Accuracy: 84.27%\n",
      "Test Loss: 0.2824, Test Accuracy: 89.57%\n",
      "\n"
     ]
    },
    {
     "name": "stderr",
     "output_type": "stream",
     "text": [
      "Epoch 196: 100%|██████████| 938/938 [00:21<00:00, 42.92batch/s, Train Loss=0.416, Train Acc=84.3]\n"
     ]
    },
    {
     "name": "stdout",
     "output_type": "stream",
     "text": [
      "Epoch 196\n",
      "Train Loss: 0.4157, Train Accuracy: 84.28%\n",
      "Test Loss: 0.2861, Test Accuracy: 89.42%\n",
      "\n"
     ]
    },
    {
     "name": "stderr",
     "output_type": "stream",
     "text": [
      "Epoch 197: 100%|██████████| 938/938 [00:21<00:00, 42.64batch/s, Train Loss=0.41, Train Acc=84.6] \n"
     ]
    },
    {
     "name": "stdout",
     "output_type": "stream",
     "text": [
      "Epoch 197\n",
      "Train Loss: 0.4105, Train Accuracy: 84.61%\n",
      "Test Loss: 0.2828, Test Accuracy: 89.76%\n",
      "\n"
     ]
    },
    {
     "name": "stderr",
     "output_type": "stream",
     "text": [
      "Epoch 198: 100%|██████████| 938/938 [00:21<00:00, 42.97batch/s, Train Loss=0.415, Train Acc=84.3]\n"
     ]
    },
    {
     "name": "stdout",
     "output_type": "stream",
     "text": [
      "Epoch 198\n",
      "Train Loss: 0.4151, Train Accuracy: 84.30%\n",
      "Test Loss: 0.2815, Test Accuracy: 89.47%\n",
      "\n"
     ]
    },
    {
     "name": "stderr",
     "output_type": "stream",
     "text": [
      "Epoch 199: 100%|██████████| 938/938 [00:21<00:00, 42.75batch/s, Train Loss=0.41, Train Acc=84.5] \n"
     ]
    },
    {
     "name": "stdout",
     "output_type": "stream",
     "text": [
      "Epoch 199\n",
      "Train Loss: 0.4101, Train Accuracy: 84.48%\n",
      "Test Loss: 0.2840, Test Accuracy: 89.59%\n",
      "\n"
     ]
    },
    {
     "name": "stderr",
     "output_type": "stream",
     "text": [
      "Epoch 200: 100%|██████████| 938/938 [00:22<00:00, 42.63batch/s, Train Loss=0.414, Train Acc=84.4]\n"
     ]
    },
    {
     "name": "stdout",
     "output_type": "stream",
     "text": [
      "Epoch 200\n",
      "Train Loss: 0.4138, Train Accuracy: 84.37%\n",
      "Test Loss: 0.2833, Test Accuracy: 89.50%\n",
      "\n"
     ]
    },
    {
     "name": "stderr",
     "output_type": "stream",
     "text": [
      "Epoch 201: 100%|██████████| 938/938 [00:21<00:00, 42.90batch/s, Train Loss=0.407, Train Acc=84.7]\n"
     ]
    },
    {
     "name": "stdout",
     "output_type": "stream",
     "text": [
      "Epoch 201\n",
      "Train Loss: 0.4068, Train Accuracy: 84.67%\n",
      "Test Loss: 0.2830, Test Accuracy: 89.49%\n",
      "\n"
     ]
    },
    {
     "name": "stderr",
     "output_type": "stream",
     "text": [
      "Epoch 202: 100%|██████████| 938/938 [00:21<00:00, 42.68batch/s, Train Loss=0.411, Train Acc=84.5]\n"
     ]
    },
    {
     "name": "stdout",
     "output_type": "stream",
     "text": [
      "Epoch 202\n",
      "Train Loss: 0.4112, Train Accuracy: 84.49%\n",
      "Test Loss: 0.2769, Test Accuracy: 89.95%\n",
      "\n"
     ]
    },
    {
     "name": "stderr",
     "output_type": "stream",
     "text": [
      "Epoch 203: 100%|██████████| 938/938 [00:22<00:00, 42.50batch/s, Train Loss=0.409, Train Acc=84.4]\n"
     ]
    },
    {
     "name": "stdout",
     "output_type": "stream",
     "text": [
      "Epoch 203\n",
      "Train Loss: 0.4089, Train Accuracy: 84.40%\n",
      "Test Loss: 0.2834, Test Accuracy: 89.49%\n",
      "\n"
     ]
    },
    {
     "name": "stderr",
     "output_type": "stream",
     "text": [
      "Epoch 204: 100%|██████████| 938/938 [00:21<00:00, 42.89batch/s, Train Loss=0.409, Train Acc=84.6]\n"
     ]
    },
    {
     "name": "stdout",
     "output_type": "stream",
     "text": [
      "Epoch 204\n",
      "Train Loss: 0.4087, Train Accuracy: 84.59%\n",
      "Test Loss: 0.2883, Test Accuracy: 89.44%\n",
      "\n"
     ]
    },
    {
     "name": "stderr",
     "output_type": "stream",
     "text": [
      "Epoch 205: 100%|██████████| 938/938 [00:21<00:00, 42.86batch/s, Train Loss=0.408, Train Acc=84.6]\n"
     ]
    },
    {
     "name": "stdout",
     "output_type": "stream",
     "text": [
      "Epoch 205\n",
      "Train Loss: 0.4080, Train Accuracy: 84.61%\n",
      "Test Loss: 0.2800, Test Accuracy: 89.56%\n",
      "\n"
     ]
    },
    {
     "name": "stderr",
     "output_type": "stream",
     "text": [
      "Epoch 206: 100%|██████████| 938/938 [00:21<00:00, 42.80batch/s, Train Loss=0.408, Train Acc=84.6]\n"
     ]
    },
    {
     "name": "stdout",
     "output_type": "stream",
     "text": [
      "Epoch 206\n",
      "Train Loss: 0.4080, Train Accuracy: 84.58%\n",
      "Test Loss: 0.2800, Test Accuracy: 89.60%\n",
      "\n"
     ]
    },
    {
     "name": "stderr",
     "output_type": "stream",
     "text": [
      "Epoch 207: 100%|██████████| 938/938 [00:22<00:00, 42.64batch/s, Train Loss=0.408, Train Acc=84.5]\n"
     ]
    },
    {
     "name": "stdout",
     "output_type": "stream",
     "text": [
      "Epoch 207\n",
      "Train Loss: 0.4079, Train Accuracy: 84.52%\n",
      "Test Loss: 0.2783, Test Accuracy: 89.60%\n",
      "\n"
     ]
    },
    {
     "name": "stderr",
     "output_type": "stream",
     "text": [
      "Epoch 208: 100%|██████████| 938/938 [00:21<00:00, 42.89batch/s, Train Loss=0.406, Train Acc=84.8]\n"
     ]
    },
    {
     "name": "stdout",
     "output_type": "stream",
     "text": [
      "Epoch 208\n",
      "Train Loss: 0.4063, Train Accuracy: 84.82%\n",
      "Test Loss: 0.2789, Test Accuracy: 89.69%\n",
      "\n"
     ]
    },
    {
     "name": "stderr",
     "output_type": "stream",
     "text": [
      "Epoch 209: 100%|██████████| 938/938 [00:21<00:00, 42.92batch/s, Train Loss=0.409, Train Acc=84.6]\n"
     ]
    },
    {
     "name": "stdout",
     "output_type": "stream",
     "text": [
      "Epoch 209\n",
      "Train Loss: 0.4089, Train Accuracy: 84.62%\n",
      "Test Loss: 0.2860, Test Accuracy: 89.38%\n",
      "\n"
     ]
    },
    {
     "name": "stderr",
     "output_type": "stream",
     "text": [
      "Epoch 210: 100%|██████████| 938/938 [00:21<00:00, 42.95batch/s, Train Loss=0.407, Train Acc=84.8]\n"
     ]
    },
    {
     "name": "stdout",
     "output_type": "stream",
     "text": [
      "Epoch 210\n",
      "Train Loss: 0.4069, Train Accuracy: 84.75%\n",
      "Test Loss: 0.2806, Test Accuracy: 89.64%\n",
      "\n"
     ]
    },
    {
     "name": "stderr",
     "output_type": "stream",
     "text": [
      "Epoch 211: 100%|██████████| 938/938 [00:21<00:00, 42.88batch/s, Train Loss=0.402, Train Acc=84.8]\n"
     ]
    },
    {
     "name": "stdout",
     "output_type": "stream",
     "text": [
      "Epoch 211\n",
      "Train Loss: 0.4018, Train Accuracy: 84.79%\n",
      "Test Loss: 0.2795, Test Accuracy: 89.67%\n",
      "\n"
     ]
    },
    {
     "name": "stderr",
     "output_type": "stream",
     "text": [
      "Epoch 212: 100%|██████████| 938/938 [00:21<00:00, 42.96batch/s, Train Loss=0.404, Train Acc=84.6]\n"
     ]
    },
    {
     "name": "stdout",
     "output_type": "stream",
     "text": [
      "Epoch 212\n",
      "Train Loss: 0.4038, Train Accuracy: 84.64%\n",
      "Test Loss: 0.2770, Test Accuracy: 89.93%\n",
      "\n"
     ]
    },
    {
     "name": "stderr",
     "output_type": "stream",
     "text": [
      "Epoch 213: 100%|██████████| 938/938 [00:21<00:00, 42.93batch/s, Train Loss=0.405, Train Acc=84.8]\n"
     ]
    },
    {
     "name": "stdout",
     "output_type": "stream",
     "text": [
      "Epoch 213\n",
      "Train Loss: 0.4046, Train Accuracy: 84.79%\n",
      "Test Loss: 0.2812, Test Accuracy: 89.62%\n",
      "\n"
     ]
    },
    {
     "name": "stderr",
     "output_type": "stream",
     "text": [
      "Epoch 214: 100%|██████████| 938/938 [00:21<00:00, 42.94batch/s, Train Loss=0.405, Train Acc=84.8]\n"
     ]
    },
    {
     "name": "stdout",
     "output_type": "stream",
     "text": [
      "Epoch 214\n",
      "Train Loss: 0.4046, Train Accuracy: 84.80%\n",
      "Test Loss: 0.2768, Test Accuracy: 90.02%\n",
      "\n"
     ]
    },
    {
     "name": "stderr",
     "output_type": "stream",
     "text": [
      "Epoch 215: 100%|██████████| 938/938 [00:21<00:00, 42.76batch/s, Train Loss=0.401, Train Acc=84.8]\n"
     ]
    },
    {
     "name": "stdout",
     "output_type": "stream",
     "text": [
      "Epoch 215\n",
      "Train Loss: 0.4009, Train Accuracy: 84.84%\n",
      "Test Loss: 0.2818, Test Accuracy: 89.86%\n",
      "\n"
     ]
    },
    {
     "name": "stderr",
     "output_type": "stream",
     "text": [
      "Epoch 216: 100%|██████████| 938/938 [00:21<00:00, 42.83batch/s, Train Loss=0.406, Train Acc=84.6]\n"
     ]
    },
    {
     "name": "stdout",
     "output_type": "stream",
     "text": [
      "Epoch 216\n",
      "Train Loss: 0.4059, Train Accuracy: 84.58%\n",
      "Test Loss: 0.2746, Test Accuracy: 89.96%\n",
      "\n"
     ]
    },
    {
     "name": "stderr",
     "output_type": "stream",
     "text": [
      "Epoch 217: 100%|██████████| 938/938 [00:21<00:00, 42.95batch/s, Train Loss=0.401, Train Acc=84.8]\n"
     ]
    },
    {
     "name": "stdout",
     "output_type": "stream",
     "text": [
      "Epoch 217\n",
      "Train Loss: 0.4012, Train Accuracy: 84.85%\n",
      "Test Loss: 0.2895, Test Accuracy: 89.40%\n",
      "\n"
     ]
    },
    {
     "name": "stderr",
     "output_type": "stream",
     "text": [
      "Epoch 218: 100%|██████████| 938/938 [00:21<00:00, 42.87batch/s, Train Loss=0.402, Train Acc=84.7]\n"
     ]
    },
    {
     "name": "stdout",
     "output_type": "stream",
     "text": [
      "Epoch 218\n",
      "Train Loss: 0.4019, Train Accuracy: 84.69%\n",
      "Test Loss: 0.2770, Test Accuracy: 89.73%\n",
      "\n"
     ]
    },
    {
     "name": "stderr",
     "output_type": "stream",
     "text": [
      "Epoch 219: 100%|██████████| 938/938 [00:21<00:00, 42.93batch/s, Train Loss=0.405, Train Acc=84.5]\n"
     ]
    },
    {
     "name": "stdout",
     "output_type": "stream",
     "text": [
      "Epoch 219\n",
      "Train Loss: 0.4052, Train Accuracy: 84.51%\n",
      "Test Loss: 0.2759, Test Accuracy: 90.00%\n",
      "\n"
     ]
    },
    {
     "name": "stderr",
     "output_type": "stream",
     "text": [
      "Epoch 220: 100%|██████████| 938/938 [00:21<00:00, 42.89batch/s, Train Loss=0.396, Train Acc=84.9]\n"
     ]
    },
    {
     "name": "stdout",
     "output_type": "stream",
     "text": [
      "Epoch 220\n",
      "Train Loss: 0.3959, Train Accuracy: 84.95%\n",
      "Test Loss: 0.2815, Test Accuracy: 89.63%\n",
      "\n"
     ]
    },
    {
     "name": "stderr",
     "output_type": "stream",
     "text": [
      "Epoch 221: 100%|██████████| 938/938 [00:21<00:00, 43.10batch/s, Train Loss=0.399, Train Acc=84.9]\n"
     ]
    },
    {
     "name": "stdout",
     "output_type": "stream",
     "text": [
      "Epoch 221\n",
      "Train Loss: 0.3995, Train Accuracy: 84.86%\n",
      "Test Loss: 0.2752, Test Accuracy: 90.14%\n",
      "\n"
     ]
    },
    {
     "name": "stderr",
     "output_type": "stream",
     "text": [
      "Epoch 222: 100%|██████████| 938/938 [00:21<00:00, 42.78batch/s, Train Loss=0.399, Train Acc=84.9]\n"
     ]
    },
    {
     "name": "stdout",
     "output_type": "stream",
     "text": [
      "Epoch 222\n",
      "Train Loss: 0.3993, Train Accuracy: 84.92%\n",
      "Test Loss: 0.2768, Test Accuracy: 89.81%\n",
      "\n"
     ]
    },
    {
     "name": "stderr",
     "output_type": "stream",
     "text": [
      "Epoch 223: 100%|██████████| 938/938 [00:21<00:00, 43.02batch/s, Train Loss=0.399, Train Acc=84.9]\n"
     ]
    },
    {
     "name": "stdout",
     "output_type": "stream",
     "text": [
      "Epoch 223\n",
      "Train Loss: 0.3989, Train Accuracy: 84.93%\n",
      "Test Loss: 0.2732, Test Accuracy: 90.02%\n",
      "\n"
     ]
    },
    {
     "name": "stderr",
     "output_type": "stream",
     "text": [
      "Epoch 224: 100%|██████████| 938/938 [00:21<00:00, 42.91batch/s, Train Loss=0.395, Train Acc=85]  \n"
     ]
    },
    {
     "name": "stdout",
     "output_type": "stream",
     "text": [
      "Epoch 224\n",
      "Train Loss: 0.3949, Train Accuracy: 85.04%\n",
      "Test Loss: 0.2746, Test Accuracy: 90.12%\n",
      "\n"
     ]
    },
    {
     "name": "stderr",
     "output_type": "stream",
     "text": [
      "Epoch 225: 100%|██████████| 938/938 [00:21<00:00, 42.90batch/s, Train Loss=0.398, Train Acc=85]  \n"
     ]
    },
    {
     "name": "stdout",
     "output_type": "stream",
     "text": [
      "Epoch 225\n",
      "Train Loss: 0.3985, Train Accuracy: 84.97%\n",
      "Test Loss: 0.2757, Test Accuracy: 89.80%\n",
      "\n"
     ]
    },
    {
     "name": "stderr",
     "output_type": "stream",
     "text": [
      "Epoch 226: 100%|██████████| 938/938 [00:21<00:00, 42.91batch/s, Train Loss=0.395, Train Acc=85]  \n"
     ]
    },
    {
     "name": "stdout",
     "output_type": "stream",
     "text": [
      "Epoch 226\n",
      "Train Loss: 0.3952, Train Accuracy: 85.02%\n",
      "Test Loss: 0.2795, Test Accuracy: 89.91%\n",
      "\n"
     ]
    },
    {
     "name": "stderr",
     "output_type": "stream",
     "text": [
      "Epoch 227: 100%|██████████| 938/938 [00:21<00:00, 42.69batch/s, Train Loss=0.399, Train Acc=85.1]\n"
     ]
    },
    {
     "name": "stdout",
     "output_type": "stream",
     "text": [
      "Epoch 227\n",
      "Train Loss: 0.3986, Train Accuracy: 85.09%\n",
      "Test Loss: 0.2729, Test Accuracy: 90.06%\n",
      "\n"
     ]
    },
    {
     "name": "stderr",
     "output_type": "stream",
     "text": [
      "Epoch 228: 100%|██████████| 938/938 [00:21<00:00, 42.71batch/s, Train Loss=0.393, Train Acc=85]  \n"
     ]
    },
    {
     "name": "stdout",
     "output_type": "stream",
     "text": [
      "Epoch 228\n",
      "Train Loss: 0.3931, Train Accuracy: 85.05%\n",
      "Test Loss: 0.2801, Test Accuracy: 89.78%\n",
      "\n"
     ]
    },
    {
     "name": "stderr",
     "output_type": "stream",
     "text": [
      "Epoch 229: 100%|██████████| 938/938 [00:22<00:00, 42.61batch/s, Train Loss=0.396, Train Acc=85]  \n"
     ]
    },
    {
     "name": "stdout",
     "output_type": "stream",
     "text": [
      "Epoch 229\n",
      "Train Loss: 0.3959, Train Accuracy: 84.99%\n",
      "Test Loss: 0.2749, Test Accuracy: 89.91%\n",
      "\n"
     ]
    },
    {
     "name": "stderr",
     "output_type": "stream",
     "text": [
      "Epoch 230: 100%|██████████| 938/938 [00:21<00:00, 42.83batch/s, Train Loss=0.395, Train Acc=84.9]\n"
     ]
    },
    {
     "name": "stdout",
     "output_type": "stream",
     "text": [
      "Epoch 230\n",
      "Train Loss: 0.3948, Train Accuracy: 84.89%\n",
      "Test Loss: 0.2796, Test Accuracy: 89.68%\n",
      "\n"
     ]
    },
    {
     "name": "stderr",
     "output_type": "stream",
     "text": [
      "Epoch 231: 100%|██████████| 938/938 [00:21<00:00, 42.84batch/s, Train Loss=0.396, Train Acc=85.1]\n"
     ]
    },
    {
     "name": "stdout",
     "output_type": "stream",
     "text": [
      "Epoch 231\n",
      "Train Loss: 0.3956, Train Accuracy: 85.11%\n",
      "Test Loss: 0.2758, Test Accuracy: 89.88%\n",
      "\n"
     ]
    },
    {
     "name": "stderr",
     "output_type": "stream",
     "text": [
      "Epoch 232: 100%|██████████| 938/938 [00:21<00:00, 42.87batch/s, Train Loss=0.394, Train Acc=85.1]\n"
     ]
    },
    {
     "name": "stdout",
     "output_type": "stream",
     "text": [
      "Epoch 232\n",
      "Train Loss: 0.3943, Train Accuracy: 85.13%\n",
      "Test Loss: 0.2723, Test Accuracy: 89.99%\n",
      "\n"
     ]
    },
    {
     "name": "stderr",
     "output_type": "stream",
     "text": [
      "Epoch 233: 100%|██████████| 938/938 [00:22<00:00, 42.55batch/s, Train Loss=0.396, Train Acc=85]  \n"
     ]
    },
    {
     "name": "stdout",
     "output_type": "stream",
     "text": [
      "Epoch 233\n",
      "Train Loss: 0.3961, Train Accuracy: 84.96%\n",
      "Test Loss: 0.2815, Test Accuracy: 89.55%\n",
      "\n"
     ]
    },
    {
     "name": "stderr",
     "output_type": "stream",
     "text": [
      "Epoch 234: 100%|██████████| 938/938 [00:22<00:00, 42.63batch/s, Train Loss=0.387, Train Acc=85.5]\n"
     ]
    },
    {
     "name": "stdout",
     "output_type": "stream",
     "text": [
      "Epoch 234\n",
      "Train Loss: 0.3873, Train Accuracy: 85.49%\n",
      "Test Loss: 0.2762, Test Accuracy: 89.80%\n",
      "\n"
     ]
    },
    {
     "name": "stderr",
     "output_type": "stream",
     "text": [
      "Epoch 235: 100%|██████████| 938/938 [00:22<00:00, 42.61batch/s, Train Loss=0.389, Train Acc=85.2]\n"
     ]
    },
    {
     "name": "stdout",
     "output_type": "stream",
     "text": [
      "Epoch 235\n",
      "Train Loss: 0.3894, Train Accuracy: 85.16%\n",
      "Test Loss: 0.2749, Test Accuracy: 89.94%\n",
      "\n"
     ]
    },
    {
     "name": "stderr",
     "output_type": "stream",
     "text": [
      "Epoch 236: 100%|██████████| 938/938 [00:21<00:00, 42.75batch/s, Train Loss=0.39, Train Acc=85.3] \n"
     ]
    },
    {
     "name": "stdout",
     "output_type": "stream",
     "text": [
      "Epoch 236\n",
      "Train Loss: 0.3902, Train Accuracy: 85.26%\n",
      "Test Loss: 0.2724, Test Accuracy: 89.79%\n",
      "\n"
     ]
    },
    {
     "name": "stderr",
     "output_type": "stream",
     "text": [
      "Epoch 237: 100%|██████████| 938/938 [00:21<00:00, 42.82batch/s, Train Loss=0.391, Train Acc=85.2]\n"
     ]
    },
    {
     "name": "stdout",
     "output_type": "stream",
     "text": [
      "Epoch 237\n",
      "Train Loss: 0.3909, Train Accuracy: 85.23%\n",
      "Test Loss: 0.2662, Test Accuracy: 90.23%\n",
      "\n"
     ]
    },
    {
     "name": "stderr",
     "output_type": "stream",
     "text": [
      "Epoch 238: 100%|██████████| 938/938 [00:21<00:00, 42.92batch/s, Train Loss=0.39, Train Acc=85.3] \n"
     ]
    },
    {
     "name": "stdout",
     "output_type": "stream",
     "text": [
      "Epoch 238\n",
      "Train Loss: 0.3902, Train Accuracy: 85.27%\n",
      "Test Loss: 0.2716, Test Accuracy: 90.05%\n",
      "\n"
     ]
    },
    {
     "name": "stderr",
     "output_type": "stream",
     "text": [
      "Epoch 239: 100%|██████████| 938/938 [00:21<00:00, 42.72batch/s, Train Loss=0.388, Train Acc=85.2]\n"
     ]
    },
    {
     "name": "stdout",
     "output_type": "stream",
     "text": [
      "Epoch 239\n",
      "Train Loss: 0.3875, Train Accuracy: 85.24%\n",
      "Test Loss: 0.2701, Test Accuracy: 90.15%\n",
      "\n"
     ]
    },
    {
     "name": "stderr",
     "output_type": "stream",
     "text": [
      "Epoch 240: 100%|██████████| 938/938 [00:21<00:00, 42.64batch/s, Train Loss=0.387, Train Acc=85.3]\n"
     ]
    },
    {
     "name": "stdout",
     "output_type": "stream",
     "text": [
      "Epoch 240\n",
      "Train Loss: 0.3872, Train Accuracy: 85.34%\n",
      "Test Loss: 0.2753, Test Accuracy: 89.97%\n",
      "\n"
     ]
    },
    {
     "name": "stderr",
     "output_type": "stream",
     "text": [
      "Epoch 241: 100%|██████████| 938/938 [00:21<00:00, 42.84batch/s, Train Loss=0.388, Train Acc=85.4]\n"
     ]
    },
    {
     "name": "stdout",
     "output_type": "stream",
     "text": [
      "Epoch 241\n",
      "Train Loss: 0.3880, Train Accuracy: 85.41%\n",
      "Test Loss: 0.2689, Test Accuracy: 90.08%\n",
      "\n"
     ]
    },
    {
     "name": "stderr",
     "output_type": "stream",
     "text": [
      "Epoch 242: 100%|██████████| 938/938 [00:21<00:00, 42.87batch/s, Train Loss=0.386, Train Acc=85.4]\n"
     ]
    },
    {
     "name": "stdout",
     "output_type": "stream",
     "text": [
      "Epoch 242\n",
      "Train Loss: 0.3865, Train Accuracy: 85.42%\n",
      "Test Loss: 0.2707, Test Accuracy: 90.22%\n",
      "\n"
     ]
    },
    {
     "name": "stderr",
     "output_type": "stream",
     "text": [
      "Epoch 243: 100%|██████████| 938/938 [00:22<00:00, 42.52batch/s, Train Loss=0.386, Train Acc=85.5]\n"
     ]
    },
    {
     "name": "stdout",
     "output_type": "stream",
     "text": [
      "Epoch 243\n",
      "Train Loss: 0.3858, Train Accuracy: 85.50%\n",
      "Test Loss: 0.2722, Test Accuracy: 89.97%\n",
      "\n"
     ]
    },
    {
     "name": "stderr",
     "output_type": "stream",
     "text": [
      "Epoch 244: 100%|██████████| 938/938 [00:22<00:00, 42.46batch/s, Train Loss=0.386, Train Acc=85.5]\n"
     ]
    },
    {
     "name": "stdout",
     "output_type": "stream",
     "text": [
      "Epoch 244\n",
      "Train Loss: 0.3857, Train Accuracy: 85.53%\n",
      "Test Loss: 0.2748, Test Accuracy: 90.14%\n",
      "\n"
     ]
    },
    {
     "name": "stderr",
     "output_type": "stream",
     "text": [
      "Epoch 245: 100%|██████████| 938/938 [00:22<00:00, 42.58batch/s, Train Loss=0.39, Train Acc=85.2] \n"
     ]
    },
    {
     "name": "stdout",
     "output_type": "stream",
     "text": [
      "Epoch 245\n",
      "Train Loss: 0.3901, Train Accuracy: 85.19%\n",
      "Test Loss: 0.2696, Test Accuracy: 89.93%\n",
      "\n"
     ]
    },
    {
     "name": "stderr",
     "output_type": "stream",
     "text": [
      "Epoch 246: 100%|██████████| 938/938 [00:21<00:00, 42.65batch/s, Train Loss=0.387, Train Acc=85.4]\n"
     ]
    },
    {
     "name": "stdout",
     "output_type": "stream",
     "text": [
      "Epoch 246\n",
      "Train Loss: 0.3873, Train Accuracy: 85.37%\n",
      "Test Loss: 0.2682, Test Accuracy: 90.20%\n",
      "\n"
     ]
    },
    {
     "name": "stderr",
     "output_type": "stream",
     "text": [
      "Epoch 247: 100%|██████████| 938/938 [00:21<00:00, 42.80batch/s, Train Loss=0.383, Train Acc=85.6]\n"
     ]
    },
    {
     "name": "stdout",
     "output_type": "stream",
     "text": [
      "Epoch 247\n",
      "Train Loss: 0.3831, Train Accuracy: 85.56%\n",
      "Test Loss: 0.2713, Test Accuracy: 89.88%\n",
      "\n"
     ]
    },
    {
     "name": "stderr",
     "output_type": "stream",
     "text": [
      "Epoch 248: 100%|██████████| 938/938 [00:22<00:00, 42.56batch/s, Train Loss=0.383, Train Acc=85.5]\n"
     ]
    },
    {
     "name": "stdout",
     "output_type": "stream",
     "text": [
      "Epoch 248\n",
      "Train Loss: 0.3826, Train Accuracy: 85.51%\n",
      "Test Loss: 0.2717, Test Accuracy: 89.90%\n",
      "\n"
     ]
    },
    {
     "name": "stderr",
     "output_type": "stream",
     "text": [
      "Epoch 249: 100%|██████████| 938/938 [00:22<00:00, 42.60batch/s, Train Loss=0.384, Train Acc=85.5]\n"
     ]
    },
    {
     "name": "stdout",
     "output_type": "stream",
     "text": [
      "Epoch 249\n",
      "Train Loss: 0.3837, Train Accuracy: 85.50%\n",
      "Test Loss: 0.2694, Test Accuracy: 89.86%\n",
      "\n"
     ]
    },
    {
     "name": "stderr",
     "output_type": "stream",
     "text": [
      "Epoch 250: 100%|██████████| 938/938 [00:21<00:00, 43.68batch/s, Train Loss=0.384, Train Acc=85.6]\n"
     ]
    },
    {
     "name": "stdout",
     "output_type": "stream",
     "text": [
      "Epoch 250\n",
      "Train Loss: 0.3841, Train Accuracy: 85.56%\n",
      "Test Loss: 0.2668, Test Accuracy: 90.37%\n",
      "\n"
     ]
    },
    {
     "name": "stderr",
     "output_type": "stream",
     "text": [
      "Epoch 251: 100%|██████████| 938/938 [00:21<00:00, 43.84batch/s, Train Loss=0.384, Train Acc=85.5]\n"
     ]
    },
    {
     "name": "stdout",
     "output_type": "stream",
     "text": [
      "Epoch 251\n",
      "Train Loss: 0.3835, Train Accuracy: 85.47%\n",
      "Test Loss: 0.2675, Test Accuracy: 90.16%\n",
      "\n"
     ]
    },
    {
     "name": "stderr",
     "output_type": "stream",
     "text": [
      "Epoch 252: 100%|██████████| 938/938 [00:21<00:00, 43.88batch/s, Train Loss=0.382, Train Acc=85.6]\n"
     ]
    },
    {
     "name": "stdout",
     "output_type": "stream",
     "text": [
      "Epoch 252\n",
      "Train Loss: 0.3820, Train Accuracy: 85.56%\n",
      "Test Loss: 0.2682, Test Accuracy: 90.15%\n",
      "\n"
     ]
    },
    {
     "name": "stderr",
     "output_type": "stream",
     "text": [
      "Epoch 253: 100%|██████████| 938/938 [00:21<00:00, 43.77batch/s, Train Loss=0.382, Train Acc=85.5]\n"
     ]
    },
    {
     "name": "stdout",
     "output_type": "stream",
     "text": [
      "Epoch 253\n",
      "Train Loss: 0.3821, Train Accuracy: 85.47%\n",
      "Test Loss: 0.2632, Test Accuracy: 90.49%\n",
      "\n"
     ]
    },
    {
     "name": "stderr",
     "output_type": "stream",
     "text": [
      "Epoch 254: 100%|██████████| 938/938 [00:21<00:00, 44.10batch/s, Train Loss=0.382, Train Acc=85.5]\n"
     ]
    },
    {
     "name": "stdout",
     "output_type": "stream",
     "text": [
      "Epoch 254\n",
      "Train Loss: 0.3823, Train Accuracy: 85.46%\n",
      "Test Loss: 0.2739, Test Accuracy: 89.97%\n",
      "\n"
     ]
    },
    {
     "name": "stderr",
     "output_type": "stream",
     "text": [
      "Epoch 255: 100%|██████████| 938/938 [00:21<00:00, 43.68batch/s, Train Loss=0.381, Train Acc=85.6]\n"
     ]
    },
    {
     "name": "stdout",
     "output_type": "stream",
     "text": [
      "Epoch 255\n",
      "Train Loss: 0.3806, Train Accuracy: 85.62%\n",
      "Test Loss: 0.2718, Test Accuracy: 89.95%\n",
      "\n"
     ]
    },
    {
     "name": "stderr",
     "output_type": "stream",
     "text": [
      "Epoch 256: 100%|██████████| 938/938 [00:21<00:00, 43.75batch/s, Train Loss=0.381, Train Acc=85.7]\n"
     ]
    },
    {
     "name": "stdout",
     "output_type": "stream",
     "text": [
      "Epoch 256\n",
      "Train Loss: 0.3814, Train Accuracy: 85.66%\n",
      "Test Loss: 0.2700, Test Accuracy: 90.07%\n",
      "\n"
     ]
    },
    {
     "name": "stderr",
     "output_type": "stream",
     "text": [
      "Epoch 257: 100%|██████████| 938/938 [00:21<00:00, 43.83batch/s, Train Loss=0.381, Train Acc=85.6]\n"
     ]
    },
    {
     "name": "stdout",
     "output_type": "stream",
     "text": [
      "Epoch 257\n",
      "Train Loss: 0.3806, Train Accuracy: 85.63%\n",
      "Test Loss: 0.2674, Test Accuracy: 90.14%\n",
      "\n"
     ]
    },
    {
     "name": "stderr",
     "output_type": "stream",
     "text": [
      "Epoch 258: 100%|██████████| 938/938 [00:21<00:00, 43.60batch/s, Train Loss=0.379, Train Acc=85.6]\n"
     ]
    },
    {
     "name": "stdout",
     "output_type": "stream",
     "text": [
      "Epoch 258\n",
      "Train Loss: 0.3792, Train Accuracy: 85.59%\n",
      "Test Loss: 0.2684, Test Accuracy: 90.20%\n",
      "\n"
     ]
    },
    {
     "name": "stderr",
     "output_type": "stream",
     "text": [
      "Epoch 259: 100%|██████████| 938/938 [00:21<00:00, 43.98batch/s, Train Loss=0.375, Train Acc=85.7]\n"
     ]
    },
    {
     "name": "stdout",
     "output_type": "stream",
     "text": [
      "Epoch 259\n",
      "Train Loss: 0.3753, Train Accuracy: 85.67%\n",
      "Test Loss: 0.2741, Test Accuracy: 90.14%\n",
      "\n"
     ]
    },
    {
     "name": "stderr",
     "output_type": "stream",
     "text": [
      "Epoch 260: 100%|██████████| 938/938 [00:21<00:00, 44.00batch/s, Train Loss=0.379, Train Acc=85.9]\n"
     ]
    },
    {
     "name": "stdout",
     "output_type": "stream",
     "text": [
      "Epoch 260\n",
      "Train Loss: 0.3787, Train Accuracy: 85.85%\n",
      "Test Loss: 0.2708, Test Accuracy: 90.24%\n",
      "\n"
     ]
    },
    {
     "name": "stderr",
     "output_type": "stream",
     "text": [
      "Epoch 261: 100%|██████████| 938/938 [00:21<00:00, 43.84batch/s, Train Loss=0.378, Train Acc=85.7]\n"
     ]
    },
    {
     "name": "stdout",
     "output_type": "stream",
     "text": [
      "Epoch 261\n",
      "Train Loss: 0.3780, Train Accuracy: 85.73%\n",
      "Test Loss: 0.2681, Test Accuracy: 90.32%\n",
      "\n"
     ]
    },
    {
     "name": "stderr",
     "output_type": "stream",
     "text": [
      "Epoch 262: 100%|██████████| 938/938 [00:21<00:00, 43.97batch/s, Train Loss=0.375, Train Acc=85.9]\n"
     ]
    },
    {
     "name": "stdout",
     "output_type": "stream",
     "text": [
      "Epoch 262\n",
      "Train Loss: 0.3752, Train Accuracy: 85.87%\n",
      "Test Loss: 0.2675, Test Accuracy: 90.29%\n",
      "\n"
     ]
    },
    {
     "name": "stderr",
     "output_type": "stream",
     "text": [
      "Epoch 263: 100%|██████████| 938/938 [00:21<00:00, 43.90batch/s, Train Loss=0.375, Train Acc=85.9]\n"
     ]
    },
    {
     "name": "stdout",
     "output_type": "stream",
     "text": [
      "Epoch 263\n",
      "Train Loss: 0.3753, Train Accuracy: 85.88%\n",
      "Test Loss: 0.2706, Test Accuracy: 90.25%\n",
      "\n"
     ]
    },
    {
     "name": "stderr",
     "output_type": "stream",
     "text": [
      "Epoch 264: 100%|██████████| 938/938 [00:21<00:00, 43.98batch/s, Train Loss=0.377, Train Acc=85.7]\n"
     ]
    },
    {
     "name": "stdout",
     "output_type": "stream",
     "text": [
      "Epoch 264\n",
      "Train Loss: 0.3772, Train Accuracy: 85.66%\n",
      "Test Loss: 0.2666, Test Accuracy: 90.29%\n",
      "\n"
     ]
    },
    {
     "name": "stderr",
     "output_type": "stream",
     "text": [
      "Epoch 265: 100%|██████████| 938/938 [00:21<00:00, 44.03batch/s, Train Loss=0.374, Train Acc=85.8]\n"
     ]
    },
    {
     "name": "stdout",
     "output_type": "stream",
     "text": [
      "Epoch 265\n",
      "Train Loss: 0.3740, Train Accuracy: 85.81%\n",
      "Test Loss: 0.2673, Test Accuracy: 90.37%\n",
      "\n"
     ]
    },
    {
     "name": "stderr",
     "output_type": "stream",
     "text": [
      "Epoch 266: 100%|██████████| 938/938 [00:21<00:00, 43.99batch/s, Train Loss=0.376, Train Acc=85.7]\n"
     ]
    },
    {
     "name": "stdout",
     "output_type": "stream",
     "text": [
      "Epoch 266\n",
      "Train Loss: 0.3762, Train Accuracy: 85.72%\n",
      "Test Loss: 0.2676, Test Accuracy: 90.18%\n",
      "\n"
     ]
    },
    {
     "name": "stderr",
     "output_type": "stream",
     "text": [
      "Epoch 267: 100%|██████████| 938/938 [00:21<00:00, 43.93batch/s, Train Loss=0.376, Train Acc=85.8]\n"
     ]
    },
    {
     "name": "stdout",
     "output_type": "stream",
     "text": [
      "Epoch 267\n",
      "Train Loss: 0.3763, Train Accuracy: 85.85%\n",
      "Test Loss: 0.2684, Test Accuracy: 90.30%\n",
      "\n"
     ]
    },
    {
     "name": "stderr",
     "output_type": "stream",
     "text": [
      "Epoch 268: 100%|██████████| 938/938 [00:21<00:00, 43.76batch/s, Train Loss=0.37, Train Acc=86.1] \n"
     ]
    },
    {
     "name": "stdout",
     "output_type": "stream",
     "text": [
      "Epoch 268\n",
      "Train Loss: 0.3695, Train Accuracy: 86.10%\n",
      "Test Loss: 0.2659, Test Accuracy: 90.28%\n",
      "\n"
     ]
    },
    {
     "name": "stderr",
     "output_type": "stream",
     "text": [
      "Epoch 269: 100%|██████████| 938/938 [00:21<00:00, 44.34batch/s, Train Loss=0.373, Train Acc=86]  \n"
     ]
    },
    {
     "name": "stdout",
     "output_type": "stream",
     "text": [
      "Epoch 269\n",
      "Train Loss: 0.3727, Train Accuracy: 86.03%\n",
      "Test Loss: 0.2680, Test Accuracy: 90.08%\n",
      "\n"
     ]
    },
    {
     "name": "stderr",
     "output_type": "stream",
     "text": [
      "Epoch 270: 100%|██████████| 938/938 [00:21<00:00, 43.99batch/s, Train Loss=0.371, Train Acc=85.8]\n"
     ]
    },
    {
     "name": "stdout",
     "output_type": "stream",
     "text": [
      "Epoch 270\n",
      "Train Loss: 0.3711, Train Accuracy: 85.77%\n",
      "Test Loss: 0.2633, Test Accuracy: 90.38%\n",
      "\n"
     ]
    },
    {
     "name": "stderr",
     "output_type": "stream",
     "text": [
      "Epoch 271: 100%|██████████| 938/938 [00:21<00:00, 44.08batch/s, Train Loss=0.372, Train Acc=85.9]\n"
     ]
    },
    {
     "name": "stdout",
     "output_type": "stream",
     "text": [
      "Epoch 271\n",
      "Train Loss: 0.3724, Train Accuracy: 85.92%\n",
      "Test Loss: 0.2649, Test Accuracy: 90.31%\n",
      "\n"
     ]
    },
    {
     "name": "stderr",
     "output_type": "stream",
     "text": [
      "Epoch 272: 100%|██████████| 938/938 [00:21<00:00, 44.13batch/s, Train Loss=0.372, Train Acc=85.9]\n"
     ]
    },
    {
     "name": "stdout",
     "output_type": "stream",
     "text": [
      "Epoch 272\n",
      "Train Loss: 0.3722, Train Accuracy: 85.94%\n",
      "Test Loss: 0.2675, Test Accuracy: 90.28%\n",
      "\n"
     ]
    },
    {
     "name": "stderr",
     "output_type": "stream",
     "text": [
      "Epoch 273: 100%|██████████| 938/938 [00:21<00:00, 44.31batch/s, Train Loss=0.369, Train Acc=86.1]\n"
     ]
    },
    {
     "name": "stdout",
     "output_type": "stream",
     "text": [
      "Epoch 273\n",
      "Train Loss: 0.3686, Train Accuracy: 86.06%\n",
      "Test Loss: 0.2696, Test Accuracy: 89.96%\n",
      "\n"
     ]
    },
    {
     "name": "stderr",
     "output_type": "stream",
     "text": [
      "Epoch 274: 100%|██████████| 938/938 [00:21<00:00, 43.93batch/s, Train Loss=0.37, Train Acc=86]   \n"
     ]
    },
    {
     "name": "stdout",
     "output_type": "stream",
     "text": [
      "Epoch 274\n",
      "Train Loss: 0.3703, Train Accuracy: 85.98%\n",
      "Test Loss: 0.2646, Test Accuracy: 90.27%\n",
      "\n"
     ]
    },
    {
     "name": "stderr",
     "output_type": "stream",
     "text": [
      "Epoch 275: 100%|██████████| 938/938 [00:21<00:00, 43.91batch/s, Train Loss=0.37, Train Acc=86]   \n"
     ]
    },
    {
     "name": "stdout",
     "output_type": "stream",
     "text": [
      "Epoch 275\n",
      "Train Loss: 0.3700, Train Accuracy: 86.01%\n",
      "Test Loss: 0.2660, Test Accuracy: 90.36%\n",
      "\n"
     ]
    },
    {
     "name": "stderr",
     "output_type": "stream",
     "text": [
      "Epoch 276: 100%|██████████| 938/938 [00:21<00:00, 44.12batch/s, Train Loss=0.368, Train Acc=86]  \n"
     ]
    },
    {
     "name": "stdout",
     "output_type": "stream",
     "text": [
      "Epoch 276\n",
      "Train Loss: 0.3676, Train Accuracy: 85.98%\n",
      "Test Loss: 0.2614, Test Accuracy: 90.57%\n",
      "\n"
     ]
    },
    {
     "name": "stderr",
     "output_type": "stream",
     "text": [
      "Epoch 277: 100%|██████████| 938/938 [00:21<00:00, 43.95batch/s, Train Loss=0.371, Train Acc=86]  \n"
     ]
    },
    {
     "name": "stdout",
     "output_type": "stream",
     "text": [
      "Epoch 277\n",
      "Train Loss: 0.3714, Train Accuracy: 85.99%\n",
      "Test Loss: 0.2623, Test Accuracy: 90.43%\n",
      "\n"
     ]
    },
    {
     "name": "stderr",
     "output_type": "stream",
     "text": [
      "Epoch 278: 100%|██████████| 938/938 [00:21<00:00, 44.15batch/s, Train Loss=0.363, Train Acc=86.2]\n"
     ]
    },
    {
     "name": "stdout",
     "output_type": "stream",
     "text": [
      "Epoch 278\n",
      "Train Loss: 0.3630, Train Accuracy: 86.21%\n",
      "Test Loss: 0.2671, Test Accuracy: 90.20%\n",
      "\n"
     ]
    },
    {
     "name": "stderr",
     "output_type": "stream",
     "text": [
      "Epoch 279: 100%|██████████| 938/938 [00:21<00:00, 43.51batch/s, Train Loss=0.368, Train Acc=86]  \n"
     ]
    },
    {
     "name": "stdout",
     "output_type": "stream",
     "text": [
      "Epoch 279\n",
      "Train Loss: 0.3683, Train Accuracy: 85.99%\n",
      "Test Loss: 0.2594, Test Accuracy: 90.45%\n",
      "\n"
     ]
    },
    {
     "name": "stderr",
     "output_type": "stream",
     "text": [
      "Epoch 280: 100%|██████████| 938/938 [00:21<00:00, 43.86batch/s, Train Loss=0.366, Train Acc=86.1]\n"
     ]
    },
    {
     "name": "stdout",
     "output_type": "stream",
     "text": [
      "Epoch 280\n",
      "Train Loss: 0.3656, Train Accuracy: 86.09%\n",
      "Test Loss: 0.2583, Test Accuracy: 90.65%\n",
      "\n"
     ]
    },
    {
     "name": "stderr",
     "output_type": "stream",
     "text": [
      "Epoch 281: 100%|██████████| 938/938 [00:21<00:00, 43.87batch/s, Train Loss=0.367, Train Acc=86.1]\n"
     ]
    },
    {
     "name": "stdout",
     "output_type": "stream",
     "text": [
      "Epoch 281\n",
      "Train Loss: 0.3665, Train Accuracy: 86.11%\n",
      "Test Loss: 0.2600, Test Accuracy: 90.56%\n",
      "\n"
     ]
    },
    {
     "name": "stderr",
     "output_type": "stream",
     "text": [
      "Epoch 282: 100%|██████████| 938/938 [00:21<00:00, 43.70batch/s, Train Loss=0.368, Train Acc=85.9]\n"
     ]
    },
    {
     "name": "stdout",
     "output_type": "stream",
     "text": [
      "Epoch 282\n",
      "Train Loss: 0.3678, Train Accuracy: 85.94%\n",
      "Test Loss: 0.2602, Test Accuracy: 90.45%\n",
      "\n"
     ]
    },
    {
     "name": "stderr",
     "output_type": "stream",
     "text": [
      "Epoch 283: 100%|██████████| 938/938 [00:21<00:00, 43.85batch/s, Train Loss=0.364, Train Acc=86.2]\n"
     ]
    },
    {
     "name": "stdout",
     "output_type": "stream",
     "text": [
      "Epoch 283\n",
      "Train Loss: 0.3640, Train Accuracy: 86.25%\n",
      "Test Loss: 0.2651, Test Accuracy: 90.49%\n",
      "\n"
     ]
    },
    {
     "name": "stderr",
     "output_type": "stream",
     "text": [
      "Epoch 284: 100%|██████████| 938/938 [00:21<00:00, 43.59batch/s, Train Loss=0.365, Train Acc=86.2]\n"
     ]
    },
    {
     "name": "stdout",
     "output_type": "stream",
     "text": [
      "Epoch 284\n",
      "Train Loss: 0.3655, Train Accuracy: 86.20%\n",
      "Test Loss: 0.2650, Test Accuracy: 90.35%\n",
      "\n"
     ]
    },
    {
     "name": "stderr",
     "output_type": "stream",
     "text": [
      "Epoch 285: 100%|██████████| 938/938 [00:21<00:00, 43.79batch/s, Train Loss=0.363, Train Acc=86.3]\n"
     ]
    },
    {
     "name": "stdout",
     "output_type": "stream",
     "text": [
      "Epoch 285\n",
      "Train Loss: 0.3634, Train Accuracy: 86.31%\n",
      "Test Loss: 0.2632, Test Accuracy: 90.43%\n",
      "\n"
     ]
    },
    {
     "name": "stderr",
     "output_type": "stream",
     "text": [
      "Epoch 286: 100%|██████████| 938/938 [00:21<00:00, 43.82batch/s, Train Loss=0.363, Train Acc=86.3]\n"
     ]
    },
    {
     "name": "stdout",
     "output_type": "stream",
     "text": [
      "Epoch 286\n",
      "Train Loss: 0.3632, Train Accuracy: 86.25%\n",
      "Test Loss: 0.2672, Test Accuracy: 90.26%\n",
      "\n"
     ]
    },
    {
     "name": "stderr",
     "output_type": "stream",
     "text": [
      "Epoch 287: 100%|██████████| 938/938 [00:21<00:00, 43.98batch/s, Train Loss=0.361, Train Acc=86.3]\n"
     ]
    },
    {
     "name": "stdout",
     "output_type": "stream",
     "text": [
      "Epoch 287\n",
      "Train Loss: 0.3610, Train Accuracy: 86.31%\n",
      "Test Loss: 0.2646, Test Accuracy: 90.35%\n",
      "\n"
     ]
    },
    {
     "name": "stderr",
     "output_type": "stream",
     "text": [
      "Epoch 288: 100%|██████████| 938/938 [00:21<00:00, 43.87batch/s, Train Loss=0.365, Train Acc=86.1]\n"
     ]
    },
    {
     "name": "stdout",
     "output_type": "stream",
     "text": [
      "Epoch 288\n",
      "Train Loss: 0.3653, Train Accuracy: 86.10%\n",
      "Test Loss: 0.2596, Test Accuracy: 90.43%\n",
      "\n"
     ]
    },
    {
     "name": "stderr",
     "output_type": "stream",
     "text": [
      "Epoch 289: 100%|██████████| 938/938 [00:21<00:00, 43.72batch/s, Train Loss=0.365, Train Acc=86.2]\n"
     ]
    },
    {
     "name": "stdout",
     "output_type": "stream",
     "text": [
      "Epoch 289\n",
      "Train Loss: 0.3650, Train Accuracy: 86.17%\n",
      "Test Loss: 0.2711, Test Accuracy: 90.07%\n",
      "\n"
     ]
    },
    {
     "name": "stderr",
     "output_type": "stream",
     "text": [
      "Epoch 290: 100%|██████████| 938/938 [00:21<00:00, 44.02batch/s, Train Loss=0.358, Train Acc=86.4]\n"
     ]
    },
    {
     "name": "stdout",
     "output_type": "stream",
     "text": [
      "Epoch 290\n",
      "Train Loss: 0.3583, Train Accuracy: 86.38%\n",
      "Test Loss: 0.2692, Test Accuracy: 89.94%\n",
      "\n"
     ]
    },
    {
     "name": "stderr",
     "output_type": "stream",
     "text": [
      "Epoch 291: 100%|██████████| 938/938 [00:21<00:00, 44.12batch/s, Train Loss=0.364, Train Acc=86.2]\n"
     ]
    },
    {
     "name": "stdout",
     "output_type": "stream",
     "text": [
      "Epoch 291\n",
      "Train Loss: 0.3645, Train Accuracy: 86.25%\n",
      "Test Loss: 0.2633, Test Accuracy: 90.41%\n",
      "\n"
     ]
    },
    {
     "name": "stderr",
     "output_type": "stream",
     "text": [
      "Epoch 292: 100%|██████████| 938/938 [00:21<00:00, 43.75batch/s, Train Loss=0.36, Train Acc=86.4] \n"
     ]
    },
    {
     "name": "stdout",
     "output_type": "stream",
     "text": [
      "Epoch 292\n",
      "Train Loss: 0.3603, Train Accuracy: 86.36%\n",
      "Test Loss: 0.2649, Test Accuracy: 90.36%\n",
      "\n"
     ]
    },
    {
     "name": "stderr",
     "output_type": "stream",
     "text": [
      "Epoch 293: 100%|██████████| 938/938 [00:21<00:00, 43.72batch/s, Train Loss=0.36, Train Acc=86.2] \n"
     ]
    },
    {
     "name": "stdout",
     "output_type": "stream",
     "text": [
      "Epoch 293\n",
      "Train Loss: 0.3604, Train Accuracy: 86.19%\n",
      "Test Loss: 0.2665, Test Accuracy: 90.09%\n",
      "\n"
     ]
    },
    {
     "name": "stderr",
     "output_type": "stream",
     "text": [
      "Epoch 294: 100%|██████████| 938/938 [00:21<00:00, 43.78batch/s, Train Loss=0.36, Train Acc=86.3] \n"
     ]
    },
    {
     "name": "stdout",
     "output_type": "stream",
     "text": [
      "Epoch 294\n",
      "Train Loss: 0.3604, Train Accuracy: 86.32%\n",
      "Test Loss: 0.2583, Test Accuracy: 90.61%\n",
      "\n"
     ]
    },
    {
     "name": "stderr",
     "output_type": "stream",
     "text": [
      "Epoch 295: 100%|██████████| 938/938 [00:21<00:00, 44.00batch/s, Train Loss=0.358, Train Acc=86.4]\n"
     ]
    },
    {
     "name": "stdout",
     "output_type": "stream",
     "text": [
      "Epoch 295\n",
      "Train Loss: 0.3582, Train Accuracy: 86.40%\n",
      "Test Loss: 0.2640, Test Accuracy: 90.40%\n",
      "\n"
     ]
    },
    {
     "name": "stderr",
     "output_type": "stream",
     "text": [
      "Epoch 296: 100%|██████████| 938/938 [00:21<00:00, 44.04batch/s, Train Loss=0.357, Train Acc=86.5]\n"
     ]
    },
    {
     "name": "stdout",
     "output_type": "stream",
     "text": [
      "Epoch 296\n",
      "Train Loss: 0.3568, Train Accuracy: 86.50%\n",
      "Test Loss: 0.2631, Test Accuracy: 90.56%\n",
      "\n"
     ]
    },
    {
     "name": "stderr",
     "output_type": "stream",
     "text": [
      "Epoch 297: 100%|██████████| 938/938 [00:21<00:00, 43.71batch/s, Train Loss=0.358, Train Acc=86.4]\n"
     ]
    },
    {
     "name": "stdout",
     "output_type": "stream",
     "text": [
      "Epoch 297\n",
      "Train Loss: 0.3579, Train Accuracy: 86.41%\n",
      "Test Loss: 0.2597, Test Accuracy: 90.51%\n",
      "\n"
     ]
    },
    {
     "name": "stderr",
     "output_type": "stream",
     "text": [
      "Epoch 298: 100%|██████████| 938/938 [00:21<00:00, 43.84batch/s, Train Loss=0.361, Train Acc=86.3]\n"
     ]
    },
    {
     "name": "stdout",
     "output_type": "stream",
     "text": [
      "Epoch 298\n",
      "Train Loss: 0.3611, Train Accuracy: 86.28%\n",
      "Test Loss: 0.2619, Test Accuracy: 90.52%\n",
      "\n"
     ]
    },
    {
     "name": "stderr",
     "output_type": "stream",
     "text": [
      "Epoch 299: 100%|██████████| 938/938 [00:21<00:00, 43.75batch/s, Train Loss=0.358, Train Acc=86.5]\n"
     ]
    },
    {
     "name": "stdout",
     "output_type": "stream",
     "text": [
      "Epoch 299\n",
      "Train Loss: 0.3581, Train Accuracy: 86.49%\n",
      "Test Loss: 0.2596, Test Accuracy: 90.64%\n",
      "\n"
     ]
    },
    {
     "name": "stderr",
     "output_type": "stream",
     "text": [
      "Epoch 300: 100%|██████████| 938/938 [00:21<00:00, 43.79batch/s, Train Loss=0.356, Train Acc=86.4]\n"
     ]
    },
    {
     "name": "stdout",
     "output_type": "stream",
     "text": [
      "Epoch 300\n",
      "Train Loss: 0.3562, Train Accuracy: 86.41%\n",
      "Test Loss: 0.2655, Test Accuracy: 90.35%\n",
      "\n"
     ]
    },
    {
     "name": "stderr",
     "output_type": "stream",
     "text": [
      "Epoch 301: 100%|██████████| 938/938 [00:21<00:00, 43.96batch/s, Train Loss=0.353, Train Acc=86.4]\n"
     ]
    },
    {
     "name": "stdout",
     "output_type": "stream",
     "text": [
      "Epoch 301\n",
      "Train Loss: 0.3532, Train Accuracy: 86.45%\n",
      "Test Loss: 0.2655, Test Accuracy: 90.35%\n",
      "\n"
     ]
    },
    {
     "name": "stderr",
     "output_type": "stream",
     "text": [
      "Epoch 302: 100%|██████████| 938/938 [00:21<00:00, 43.90batch/s, Train Loss=0.353, Train Acc=86.6]\n"
     ]
    },
    {
     "name": "stdout",
     "output_type": "stream",
     "text": [
      "Epoch 302\n",
      "Train Loss: 0.3528, Train Accuracy: 86.63%\n",
      "Test Loss: 0.2649, Test Accuracy: 90.39%\n",
      "\n"
     ]
    },
    {
     "name": "stderr",
     "output_type": "stream",
     "text": [
      "Epoch 303: 100%|██████████| 938/938 [00:21<00:00, 43.92batch/s, Train Loss=0.356, Train Acc=86.6]\n"
     ]
    },
    {
     "name": "stdout",
     "output_type": "stream",
     "text": [
      "Epoch 303\n",
      "Train Loss: 0.3564, Train Accuracy: 86.59%\n",
      "Test Loss: 0.2629, Test Accuracy: 90.52%\n",
      "\n"
     ]
    },
    {
     "name": "stderr",
     "output_type": "stream",
     "text": [
      "Epoch 304: 100%|██████████| 938/938 [00:21<00:00, 43.72batch/s, Train Loss=0.354, Train Acc=86.6]\n"
     ]
    },
    {
     "name": "stdout",
     "output_type": "stream",
     "text": [
      "Epoch 304\n",
      "Train Loss: 0.3540, Train Accuracy: 86.61%\n",
      "Test Loss: 0.2680, Test Accuracy: 90.17%\n",
      "\n"
     ]
    },
    {
     "name": "stderr",
     "output_type": "stream",
     "text": [
      "Epoch 305: 100%|██████████| 938/938 [00:21<00:00, 43.90batch/s, Train Loss=0.352, Train Acc=86.7]\n"
     ]
    },
    {
     "name": "stdout",
     "output_type": "stream",
     "text": [
      "Epoch 305\n",
      "Train Loss: 0.3519, Train Accuracy: 86.72%\n",
      "Test Loss: 0.2649, Test Accuracy: 90.41%\n",
      "\n"
     ]
    },
    {
     "name": "stderr",
     "output_type": "stream",
     "text": [
      "Epoch 306: 100%|██████████| 938/938 [00:21<00:00, 43.92batch/s, Train Loss=0.354, Train Acc=86.6]\n"
     ]
    },
    {
     "name": "stdout",
     "output_type": "stream",
     "text": [
      "Epoch 306\n",
      "Train Loss: 0.3539, Train Accuracy: 86.58%\n",
      "Test Loss: 0.2622, Test Accuracy: 90.41%\n",
      "\n"
     ]
    },
    {
     "name": "stderr",
     "output_type": "stream",
     "text": [
      "Epoch 307: 100%|██████████| 938/938 [00:21<00:00, 43.70batch/s, Train Loss=0.353, Train Acc=86.7]\n"
     ]
    },
    {
     "name": "stdout",
     "output_type": "stream",
     "text": [
      "Epoch 307\n",
      "Train Loss: 0.3526, Train Accuracy: 86.71%\n",
      "Test Loss: 0.2596, Test Accuracy: 90.49%\n",
      "\n"
     ]
    },
    {
     "name": "stderr",
     "output_type": "stream",
     "text": [
      "Epoch 308: 100%|██████████| 938/938 [00:21<00:00, 43.57batch/s, Train Loss=0.355, Train Acc=86.5]\n"
     ]
    },
    {
     "name": "stdout",
     "output_type": "stream",
     "text": [
      "Epoch 308\n",
      "Train Loss: 0.3553, Train Accuracy: 86.47%\n",
      "Test Loss: 0.2590, Test Accuracy: 90.62%\n",
      "\n"
     ]
    },
    {
     "name": "stderr",
     "output_type": "stream",
     "text": [
      "Epoch 309: 100%|██████████| 938/938 [00:21<00:00, 43.67batch/s, Train Loss=0.355, Train Acc=86.5]\n"
     ]
    },
    {
     "name": "stdout",
     "output_type": "stream",
     "text": [
      "Epoch 309\n",
      "Train Loss: 0.3553, Train Accuracy: 86.49%\n",
      "Test Loss: 0.2590, Test Accuracy: 90.41%\n",
      "\n"
     ]
    },
    {
     "name": "stderr",
     "output_type": "stream",
     "text": [
      "Epoch 310: 100%|██████████| 938/938 [00:21<00:00, 44.03batch/s, Train Loss=0.355, Train Acc=86.6]\n"
     ]
    },
    {
     "name": "stdout",
     "output_type": "stream",
     "text": [
      "Epoch 310\n",
      "Train Loss: 0.3546, Train Accuracy: 86.64%\n",
      "Test Loss: 0.2570, Test Accuracy: 90.34%\n",
      "\n"
     ]
    },
    {
     "name": "stderr",
     "output_type": "stream",
     "text": [
      "Epoch 311: 100%|██████████| 938/938 [00:21<00:00, 44.02batch/s, Train Loss=0.35, Train Acc=86.8] \n"
     ]
    },
    {
     "name": "stdout",
     "output_type": "stream",
     "text": [
      "Epoch 311\n",
      "Train Loss: 0.3496, Train Accuracy: 86.81%\n",
      "Test Loss: 0.2559, Test Accuracy: 90.46%\n",
      "\n"
     ]
    },
    {
     "name": "stderr",
     "output_type": "stream",
     "text": [
      "Epoch 312: 100%|██████████| 938/938 [00:21<00:00, 43.78batch/s, Train Loss=0.352, Train Acc=86.6]\n"
     ]
    },
    {
     "name": "stdout",
     "output_type": "stream",
     "text": [
      "Epoch 312\n",
      "Train Loss: 0.3523, Train Accuracy: 86.58%\n",
      "Test Loss: 0.2601, Test Accuracy: 90.67%\n",
      "\n"
     ]
    },
    {
     "name": "stderr",
     "output_type": "stream",
     "text": [
      "Epoch 313: 100%|██████████| 938/938 [00:21<00:00, 43.77batch/s, Train Loss=0.352, Train Acc=86.6]\n"
     ]
    },
    {
     "name": "stdout",
     "output_type": "stream",
     "text": [
      "Epoch 313\n",
      "Train Loss: 0.3517, Train Accuracy: 86.64%\n",
      "Test Loss: 0.2542, Test Accuracy: 90.90%\n",
      "\n"
     ]
    },
    {
     "name": "stderr",
     "output_type": "stream",
     "text": [
      "Epoch 314: 100%|██████████| 938/938 [00:21<00:00, 43.67batch/s, Train Loss=0.352, Train Acc=86.5]\n"
     ]
    },
    {
     "name": "stdout",
     "output_type": "stream",
     "text": [
      "Epoch 314\n",
      "Train Loss: 0.3518, Train Accuracy: 86.52%\n",
      "Test Loss: 0.2598, Test Accuracy: 90.51%\n",
      "\n"
     ]
    },
    {
     "name": "stderr",
     "output_type": "stream",
     "text": [
      "Epoch 315: 100%|██████████| 938/938 [00:21<00:00, 43.90batch/s, Train Loss=0.349, Train Acc=86.8]\n"
     ]
    },
    {
     "name": "stdout",
     "output_type": "stream",
     "text": [
      "Epoch 315\n",
      "Train Loss: 0.3488, Train Accuracy: 86.76%\n",
      "Test Loss: 0.2558, Test Accuracy: 90.50%\n",
      "\n"
     ]
    },
    {
     "name": "stderr",
     "output_type": "stream",
     "text": [
      "Epoch 316: 100%|██████████| 938/938 [00:21<00:00, 43.91batch/s, Train Loss=0.348, Train Acc=86.7]\n"
     ]
    },
    {
     "name": "stdout",
     "output_type": "stream",
     "text": [
      "Epoch 316\n",
      "Train Loss: 0.3483, Train Accuracy: 86.75%\n",
      "Test Loss: 0.2655, Test Accuracy: 90.17%\n",
      "\n"
     ]
    },
    {
     "name": "stderr",
     "output_type": "stream",
     "text": [
      "Epoch 317: 100%|██████████| 938/938 [00:21<00:00, 44.02batch/s, Train Loss=0.35, Train Acc=86.8] \n"
     ]
    },
    {
     "name": "stdout",
     "output_type": "stream",
     "text": [
      "Epoch 317\n",
      "Train Loss: 0.3497, Train Accuracy: 86.75%\n",
      "Test Loss: 0.2611, Test Accuracy: 90.34%\n",
      "\n"
     ]
    },
    {
     "name": "stderr",
     "output_type": "stream",
     "text": [
      "Epoch 318: 100%|██████████| 938/938 [00:21<00:00, 44.06batch/s, Train Loss=0.349, Train Acc=86.8]\n"
     ]
    },
    {
     "name": "stdout",
     "output_type": "stream",
     "text": [
      "Epoch 318\n",
      "Train Loss: 0.3490, Train Accuracy: 86.77%\n",
      "Test Loss: 0.2594, Test Accuracy: 90.15%\n",
      "\n"
     ]
    },
    {
     "name": "stderr",
     "output_type": "stream",
     "text": [
      "Epoch 319: 100%|██████████| 938/938 [00:21<00:00, 44.13batch/s, Train Loss=0.349, Train Acc=86.8]\n"
     ]
    },
    {
     "name": "stdout",
     "output_type": "stream",
     "text": [
      "Epoch 319\n",
      "Train Loss: 0.3487, Train Accuracy: 86.80%\n",
      "Test Loss: 0.2610, Test Accuracy: 90.53%\n",
      "\n"
     ]
    },
    {
     "name": "stderr",
     "output_type": "stream",
     "text": [
      "Epoch 320: 100%|██████████| 938/938 [00:21<00:00, 43.86batch/s, Train Loss=0.343, Train Acc=87]  \n"
     ]
    },
    {
     "name": "stdout",
     "output_type": "stream",
     "text": [
      "Epoch 320\n",
      "Train Loss: 0.3434, Train Accuracy: 87.00%\n",
      "Test Loss: 0.2619, Test Accuracy: 90.54%\n",
      "\n"
     ]
    },
    {
     "name": "stderr",
     "output_type": "stream",
     "text": [
      "Epoch 321: 100%|██████████| 938/938 [00:21<00:00, 44.13batch/s, Train Loss=0.347, Train Acc=86.8]\n"
     ]
    },
    {
     "name": "stdout",
     "output_type": "stream",
     "text": [
      "Epoch 321\n",
      "Train Loss: 0.3470, Train Accuracy: 86.81%\n",
      "Test Loss: 0.2592, Test Accuracy: 90.71%\n",
      "\n"
     ]
    },
    {
     "name": "stderr",
     "output_type": "stream",
     "text": [
      "Epoch 322: 100%|██████████| 938/938 [00:21<00:00, 43.85batch/s, Train Loss=0.344, Train Acc=87]  \n"
     ]
    },
    {
     "name": "stdout",
     "output_type": "stream",
     "text": [
      "Epoch 322\n",
      "Train Loss: 0.3435, Train Accuracy: 86.98%\n",
      "Test Loss: 0.2563, Test Accuracy: 90.52%\n",
      "\n"
     ]
    },
    {
     "name": "stderr",
     "output_type": "stream",
     "text": [
      "Epoch 323: 100%|██████████| 938/938 [00:21<00:00, 44.02batch/s, Train Loss=0.347, Train Acc=86.7]\n"
     ]
    },
    {
     "name": "stdout",
     "output_type": "stream",
     "text": [
      "Epoch 323\n",
      "Train Loss: 0.3467, Train Accuracy: 86.73%\n",
      "Test Loss: 0.2563, Test Accuracy: 90.71%\n",
      "\n"
     ]
    },
    {
     "name": "stderr",
     "output_type": "stream",
     "text": [
      "Epoch 324: 100%|██████████| 938/938 [00:21<00:00, 44.03batch/s, Train Loss=0.345, Train Acc=86.9]\n"
     ]
    },
    {
     "name": "stdout",
     "output_type": "stream",
     "text": [
      "Epoch 324\n",
      "Train Loss: 0.3447, Train Accuracy: 86.94%\n",
      "Test Loss: 0.2596, Test Accuracy: 90.52%\n",
      "\n"
     ]
    },
    {
     "name": "stderr",
     "output_type": "stream",
     "text": [
      "Epoch 325: 100%|██████████| 938/938 [00:21<00:00, 43.74batch/s, Train Loss=0.347, Train Acc=86.8]\n"
     ]
    },
    {
     "name": "stdout",
     "output_type": "stream",
     "text": [
      "Epoch 325\n",
      "Train Loss: 0.3465, Train Accuracy: 86.80%\n",
      "Test Loss: 0.2571, Test Accuracy: 90.61%\n",
      "\n"
     ]
    },
    {
     "name": "stderr",
     "output_type": "stream",
     "text": [
      "Epoch 326: 100%|██████████| 938/938 [00:21<00:00, 44.00batch/s, Train Loss=0.341, Train Acc=87]  \n"
     ]
    },
    {
     "name": "stdout",
     "output_type": "stream",
     "text": [
      "Epoch 326\n",
      "Train Loss: 0.3406, Train Accuracy: 87.04%\n",
      "Test Loss: 0.2564, Test Accuracy: 90.64%\n",
      "\n"
     ]
    },
    {
     "name": "stderr",
     "output_type": "stream",
     "text": [
      "Epoch 327: 100%|██████████| 938/938 [00:21<00:00, 44.15batch/s, Train Loss=0.344, Train Acc=87]  \n"
     ]
    },
    {
     "name": "stdout",
     "output_type": "stream",
     "text": [
      "Epoch 327\n",
      "Train Loss: 0.3443, Train Accuracy: 86.95%\n",
      "Test Loss: 0.2598, Test Accuracy: 90.53%\n",
      "\n"
     ]
    },
    {
     "name": "stderr",
     "output_type": "stream",
     "text": [
      "Epoch 328: 100%|██████████| 938/938 [00:21<00:00, 44.25batch/s, Train Loss=0.341, Train Acc=87]  \n"
     ]
    },
    {
     "name": "stdout",
     "output_type": "stream",
     "text": [
      "Epoch 328\n",
      "Train Loss: 0.3405, Train Accuracy: 87.03%\n",
      "Test Loss: 0.2589, Test Accuracy: 90.61%\n",
      "\n"
     ]
    },
    {
     "name": "stderr",
     "output_type": "stream",
     "text": [
      "Epoch 329: 100%|██████████| 938/938 [00:21<00:00, 44.19batch/s, Train Loss=0.344, Train Acc=86.9]\n"
     ]
    },
    {
     "name": "stdout",
     "output_type": "stream",
     "text": [
      "Epoch 329\n",
      "Train Loss: 0.3439, Train Accuracy: 86.93%\n",
      "Test Loss: 0.2607, Test Accuracy: 90.38%\n",
      "\n"
     ]
    },
    {
     "name": "stderr",
     "output_type": "stream",
     "text": [
      "Epoch 330: 100%|██████████| 938/938 [00:21<00:00, 43.94batch/s, Train Loss=0.341, Train Acc=87]  \n"
     ]
    },
    {
     "name": "stdout",
     "output_type": "stream",
     "text": [
      "Epoch 330\n",
      "Train Loss: 0.3409, Train Accuracy: 86.95%\n",
      "Test Loss: 0.2551, Test Accuracy: 90.82%\n",
      "\n"
     ]
    },
    {
     "name": "stderr",
     "output_type": "stream",
     "text": [
      "Epoch 331: 100%|██████████| 938/938 [00:21<00:00, 43.56batch/s, Train Loss=0.339, Train Acc=87.2]\n"
     ]
    },
    {
     "name": "stdout",
     "output_type": "stream",
     "text": [
      "Epoch 331\n",
      "Train Loss: 0.3390, Train Accuracy: 87.17%\n",
      "Test Loss: 0.2508, Test Accuracy: 91.03%\n",
      "\n"
     ]
    },
    {
     "name": "stderr",
     "output_type": "stream",
     "text": [
      "Epoch 332: 100%|██████████| 938/938 [00:21<00:00, 43.81batch/s, Train Loss=0.342, Train Acc=87]  \n"
     ]
    },
    {
     "name": "stdout",
     "output_type": "stream",
     "text": [
      "Epoch 332\n",
      "Train Loss: 0.3418, Train Accuracy: 86.96%\n",
      "Test Loss: 0.2541, Test Accuracy: 90.79%\n",
      "\n"
     ]
    },
    {
     "name": "stderr",
     "output_type": "stream",
     "text": [
      "Epoch 333: 100%|██████████| 938/938 [00:21<00:00, 44.34batch/s, Train Loss=0.34, Train Acc=87.1] \n"
     ]
    },
    {
     "name": "stdout",
     "output_type": "stream",
     "text": [
      "Epoch 333\n",
      "Train Loss: 0.3396, Train Accuracy: 87.12%\n",
      "Test Loss: 0.2619, Test Accuracy: 90.58%\n",
      "\n"
     ]
    },
    {
     "name": "stderr",
     "output_type": "stream",
     "text": [
      "Epoch 334: 100%|██████████| 938/938 [00:21<00:00, 43.66batch/s, Train Loss=0.338, Train Acc=87.1]\n"
     ]
    },
    {
     "name": "stdout",
     "output_type": "stream",
     "text": [
      "Epoch 334\n",
      "Train Loss: 0.3384, Train Accuracy: 87.14%\n",
      "Test Loss: 0.2599, Test Accuracy: 90.51%\n",
      "\n"
     ]
    },
    {
     "name": "stderr",
     "output_type": "stream",
     "text": [
      "Epoch 335: 100%|██████████| 938/938 [00:21<00:00, 44.02batch/s, Train Loss=0.341, Train Acc=87]  \n"
     ]
    },
    {
     "name": "stdout",
     "output_type": "stream",
     "text": [
      "Epoch 335\n",
      "Train Loss: 0.3410, Train Accuracy: 86.97%\n",
      "Test Loss: 0.2531, Test Accuracy: 90.92%\n",
      "\n"
     ]
    },
    {
     "name": "stderr",
     "output_type": "stream",
     "text": [
      "Epoch 336: 100%|██████████| 938/938 [00:21<00:00, 43.63batch/s, Train Loss=0.344, Train Acc=87]  \n"
     ]
    },
    {
     "name": "stdout",
     "output_type": "stream",
     "text": [
      "Epoch 336\n",
      "Train Loss: 0.3442, Train Accuracy: 87.05%\n",
      "Test Loss: 0.2545, Test Accuracy: 90.79%\n",
      "\n"
     ]
    },
    {
     "name": "stderr",
     "output_type": "stream",
     "text": [
      "Epoch 337: 100%|██████████| 938/938 [00:21<00:00, 43.93batch/s, Train Loss=0.339, Train Acc=87.2]\n"
     ]
    },
    {
     "name": "stdout",
     "output_type": "stream",
     "text": [
      "Epoch 337\n",
      "Train Loss: 0.3387, Train Accuracy: 87.16%\n",
      "Test Loss: 0.2542, Test Accuracy: 90.76%\n",
      "\n"
     ]
    },
    {
     "name": "stderr",
     "output_type": "stream",
     "text": [
      "Epoch 338: 100%|██████████| 938/938 [00:21<00:00, 43.79batch/s, Train Loss=0.338, Train Acc=87.3]\n"
     ]
    },
    {
     "name": "stdout",
     "output_type": "stream",
     "text": [
      "Epoch 338\n",
      "Train Loss: 0.3376, Train Accuracy: 87.27%\n",
      "Test Loss: 0.2554, Test Accuracy: 90.74%\n",
      "\n"
     ]
    },
    {
     "name": "stderr",
     "output_type": "stream",
     "text": [
      "Epoch 339: 100%|██████████| 938/938 [00:21<00:00, 44.14batch/s, Train Loss=0.339, Train Acc=87.2]\n"
     ]
    },
    {
     "name": "stdout",
     "output_type": "stream",
     "text": [
      "Epoch 339\n",
      "Train Loss: 0.3385, Train Accuracy: 87.21%\n",
      "Test Loss: 0.2561, Test Accuracy: 90.74%\n",
      "\n"
     ]
    },
    {
     "name": "stderr",
     "output_type": "stream",
     "text": [
      "Epoch 340: 100%|██████████| 938/938 [00:21<00:00, 44.01batch/s, Train Loss=0.335, Train Acc=87.3]\n"
     ]
    },
    {
     "name": "stdout",
     "output_type": "stream",
     "text": [
      "Epoch 340\n",
      "Train Loss: 0.3350, Train Accuracy: 87.35%\n",
      "Test Loss: 0.2551, Test Accuracy: 90.55%\n",
      "\n"
     ]
    },
    {
     "name": "stderr",
     "output_type": "stream",
     "text": [
      "Epoch 341: 100%|██████████| 938/938 [00:21<00:00, 43.93batch/s, Train Loss=0.338, Train Acc=87]  \n"
     ]
    },
    {
     "name": "stdout",
     "output_type": "stream",
     "text": [
      "Epoch 341\n",
      "Train Loss: 0.3384, Train Accuracy: 87.01%\n",
      "Test Loss: 0.2570, Test Accuracy: 90.54%\n",
      "\n"
     ]
    },
    {
     "name": "stderr",
     "output_type": "stream",
     "text": [
      "Epoch 342: 100%|██████████| 938/938 [00:21<00:00, 43.85batch/s, Train Loss=0.337, Train Acc=87.3]\n"
     ]
    },
    {
     "name": "stdout",
     "output_type": "stream",
     "text": [
      "Epoch 342\n",
      "Train Loss: 0.3370, Train Accuracy: 87.26%\n",
      "Test Loss: 0.2560, Test Accuracy: 90.51%\n",
      "\n"
     ]
    },
    {
     "name": "stderr",
     "output_type": "stream",
     "text": [
      "Epoch 343: 100%|██████████| 938/938 [00:21<00:00, 43.94batch/s, Train Loss=0.334, Train Acc=87.4]\n"
     ]
    },
    {
     "name": "stdout",
     "output_type": "stream",
     "text": [
      "Epoch 343\n",
      "Train Loss: 0.3341, Train Accuracy: 87.35%\n",
      "Test Loss: 0.2568, Test Accuracy: 90.68%\n",
      "\n"
     ]
    },
    {
     "name": "stderr",
     "output_type": "stream",
     "text": [
      "Epoch 344: 100%|██████████| 938/938 [00:21<00:00, 43.83batch/s, Train Loss=0.338, Train Acc=87.2]\n"
     ]
    },
    {
     "name": "stdout",
     "output_type": "stream",
     "text": [
      "Epoch 344\n",
      "Train Loss: 0.3375, Train Accuracy: 87.23%\n",
      "Test Loss: 0.2557, Test Accuracy: 90.59%\n",
      "\n"
     ]
    },
    {
     "name": "stderr",
     "output_type": "stream",
     "text": [
      "Epoch 345: 100%|██████████| 938/938 [00:21<00:00, 44.07batch/s, Train Loss=0.336, Train Acc=87.3]\n"
     ]
    },
    {
     "name": "stdout",
     "output_type": "stream",
     "text": [
      "Epoch 345\n",
      "Train Loss: 0.3357, Train Accuracy: 87.28%\n",
      "Test Loss: 0.2537, Test Accuracy: 90.72%\n",
      "\n"
     ]
    },
    {
     "name": "stderr",
     "output_type": "stream",
     "text": [
      "Epoch 346: 100%|██████████| 938/938 [00:21<00:00, 43.87batch/s, Train Loss=0.334, Train Acc=87.3]\n"
     ]
    },
    {
     "name": "stdout",
     "output_type": "stream",
     "text": [
      "Epoch 346\n",
      "Train Loss: 0.3341, Train Accuracy: 87.26%\n",
      "Test Loss: 0.2517, Test Accuracy: 90.76%\n",
      "\n"
     ]
    },
    {
     "name": "stderr",
     "output_type": "stream",
     "text": [
      "Epoch 347: 100%|██████████| 938/938 [00:21<00:00, 44.29batch/s, Train Loss=0.333, Train Acc=87.4]\n"
     ]
    },
    {
     "name": "stdout",
     "output_type": "stream",
     "text": [
      "Epoch 347\n",
      "Train Loss: 0.3328, Train Accuracy: 87.39%\n",
      "Test Loss: 0.2522, Test Accuracy: 90.85%\n",
      "\n"
     ]
    },
    {
     "name": "stderr",
     "output_type": "stream",
     "text": [
      "Epoch 348: 100%|██████████| 938/938 [00:21<00:00, 44.06batch/s, Train Loss=0.332, Train Acc=87.4]\n"
     ]
    },
    {
     "name": "stdout",
     "output_type": "stream",
     "text": [
      "Epoch 348\n",
      "Train Loss: 0.3321, Train Accuracy: 87.40%\n",
      "Test Loss: 0.2520, Test Accuracy: 90.72%\n",
      "\n"
     ]
    },
    {
     "name": "stderr",
     "output_type": "stream",
     "text": [
      "Epoch 349: 100%|██████████| 938/938 [00:21<00:00, 43.80batch/s, Train Loss=0.33, Train Acc=87.6] \n"
     ]
    },
    {
     "name": "stdout",
     "output_type": "stream",
     "text": [
      "Epoch 349\n",
      "Train Loss: 0.3301, Train Accuracy: 87.58%\n",
      "Test Loss: 0.2491, Test Accuracy: 91.14%\n",
      "\n"
     ]
    },
    {
     "name": "stderr",
     "output_type": "stream",
     "text": [
      "Epoch 350: 100%|██████████| 938/938 [00:21<00:00, 43.47batch/s, Train Loss=0.334, Train Acc=87.3]\n"
     ]
    },
    {
     "name": "stdout",
     "output_type": "stream",
     "text": [
      "Epoch 350\n",
      "Train Loss: 0.3344, Train Accuracy: 87.27%\n",
      "Test Loss: 0.2524, Test Accuracy: 90.78%\n",
      "\n"
     ]
    },
    {
     "name": "stderr",
     "output_type": "stream",
     "text": [
      "Epoch 351: 100%|██████████| 938/938 [00:21<00:00, 43.94batch/s, Train Loss=0.332, Train Acc=87.4]\n"
     ]
    },
    {
     "name": "stdout",
     "output_type": "stream",
     "text": [
      "Epoch 351\n",
      "Train Loss: 0.3315, Train Accuracy: 87.35%\n",
      "Test Loss: 0.2545, Test Accuracy: 90.57%\n",
      "\n"
     ]
    },
    {
     "name": "stderr",
     "output_type": "stream",
     "text": [
      "Epoch 352: 100%|██████████| 938/938 [00:21<00:00, 43.69batch/s, Train Loss=0.334, Train Acc=87.4]\n"
     ]
    },
    {
     "name": "stdout",
     "output_type": "stream",
     "text": [
      "Epoch 352\n",
      "Train Loss: 0.3338, Train Accuracy: 87.39%\n",
      "Test Loss: 0.2515, Test Accuracy: 90.80%\n",
      "\n"
     ]
    },
    {
     "name": "stderr",
     "output_type": "stream",
     "text": [
      "Epoch 353: 100%|██████████| 938/938 [00:21<00:00, 43.75batch/s, Train Loss=0.335, Train Acc=87.4]\n"
     ]
    },
    {
     "name": "stdout",
     "output_type": "stream",
     "text": [
      "Epoch 353\n",
      "Train Loss: 0.3346, Train Accuracy: 87.41%\n",
      "Test Loss: 0.2570, Test Accuracy: 90.67%\n",
      "\n"
     ]
    },
    {
     "name": "stderr",
     "output_type": "stream",
     "text": [
      "Epoch 354: 100%|██████████| 938/938 [00:21<00:00, 43.80batch/s, Train Loss=0.329, Train Acc=87.4]\n"
     ]
    },
    {
     "name": "stdout",
     "output_type": "stream",
     "text": [
      "Epoch 354\n",
      "Train Loss: 0.3294, Train Accuracy: 87.45%\n",
      "Test Loss: 0.2508, Test Accuracy: 90.85%\n",
      "\n"
     ]
    },
    {
     "name": "stderr",
     "output_type": "stream",
     "text": [
      "Epoch 355: 100%|██████████| 938/938 [00:21<00:00, 43.83batch/s, Train Loss=0.329, Train Acc=87.5]\n"
     ]
    },
    {
     "name": "stdout",
     "output_type": "stream",
     "text": [
      "Epoch 355\n",
      "Train Loss: 0.3290, Train Accuracy: 87.53%\n",
      "Test Loss: 0.2523, Test Accuracy: 90.82%\n",
      "\n"
     ]
    },
    {
     "name": "stderr",
     "output_type": "stream",
     "text": [
      "Epoch 356: 100%|██████████| 938/938 [00:21<00:00, 43.69batch/s, Train Loss=0.332, Train Acc=87.4]\n"
     ]
    },
    {
     "name": "stdout",
     "output_type": "stream",
     "text": [
      "Epoch 356\n",
      "Train Loss: 0.3322, Train Accuracy: 87.44%\n",
      "Test Loss: 0.2524, Test Accuracy: 90.64%\n",
      "\n"
     ]
    },
    {
     "name": "stderr",
     "output_type": "stream",
     "text": [
      "Epoch 357: 100%|██████████| 938/938 [00:21<00:00, 43.68batch/s, Train Loss=0.333, Train Acc=87.3]\n"
     ]
    },
    {
     "name": "stdout",
     "output_type": "stream",
     "text": [
      "Epoch 357\n",
      "Train Loss: 0.3331, Train Accuracy: 87.33%\n",
      "Test Loss: 0.2489, Test Accuracy: 90.90%\n",
      "\n"
     ]
    },
    {
     "name": "stderr",
     "output_type": "stream",
     "text": [
      "Epoch 358: 100%|██████████| 938/938 [00:21<00:00, 43.95batch/s, Train Loss=0.332, Train Acc=87.4]\n"
     ]
    },
    {
     "name": "stdout",
     "output_type": "stream",
     "text": [
      "Epoch 358\n",
      "Train Loss: 0.3315, Train Accuracy: 87.41%\n",
      "Test Loss: 0.2516, Test Accuracy: 91.00%\n",
      "\n"
     ]
    },
    {
     "name": "stderr",
     "output_type": "stream",
     "text": [
      "Epoch 359: 100%|██████████| 938/938 [00:21<00:00, 43.54batch/s, Train Loss=0.329, Train Acc=87.5]\n"
     ]
    },
    {
     "name": "stdout",
     "output_type": "stream",
     "text": [
      "Epoch 359\n",
      "Train Loss: 0.3289, Train Accuracy: 87.45%\n",
      "Test Loss: 0.2492, Test Accuracy: 90.89%\n",
      "\n"
     ]
    },
    {
     "name": "stderr",
     "output_type": "stream",
     "text": [
      "Epoch 360: 100%|██████████| 938/938 [00:21<00:00, 43.86batch/s, Train Loss=0.332, Train Acc=87.5]\n"
     ]
    },
    {
     "name": "stdout",
     "output_type": "stream",
     "text": [
      "Epoch 360\n",
      "Train Loss: 0.3318, Train Accuracy: 87.48%\n",
      "Test Loss: 0.2611, Test Accuracy: 90.67%\n",
      "\n"
     ]
    },
    {
     "name": "stderr",
     "output_type": "stream",
     "text": [
      "Epoch 361: 100%|██████████| 938/938 [00:21<00:00, 43.66batch/s, Train Loss=0.323, Train Acc=87.7]\n"
     ]
    },
    {
     "name": "stdout",
     "output_type": "stream",
     "text": [
      "Epoch 361\n",
      "Train Loss: 0.3232, Train Accuracy: 87.69%\n",
      "Test Loss: 0.2494, Test Accuracy: 90.84%\n",
      "\n"
     ]
    },
    {
     "name": "stderr",
     "output_type": "stream",
     "text": [
      "Epoch 362: 100%|██████████| 938/938 [00:21<00:00, 43.92batch/s, Train Loss=0.33, Train Acc=87.4] \n"
     ]
    },
    {
     "name": "stdout",
     "output_type": "stream",
     "text": [
      "Epoch 362\n",
      "Train Loss: 0.3303, Train Accuracy: 87.43%\n",
      "Test Loss: 0.2526, Test Accuracy: 90.87%\n",
      "\n"
     ]
    },
    {
     "name": "stderr",
     "output_type": "stream",
     "text": [
      "Epoch 363: 100%|██████████| 938/938 [00:21<00:00, 43.67batch/s, Train Loss=0.328, Train Acc=87.6]\n"
     ]
    },
    {
     "name": "stdout",
     "output_type": "stream",
     "text": [
      "Epoch 363\n",
      "Train Loss: 0.3277, Train Accuracy: 87.63%\n",
      "Test Loss: 0.2536, Test Accuracy: 90.87%\n",
      "\n"
     ]
    },
    {
     "name": "stderr",
     "output_type": "stream",
     "text": [
      "Epoch 364: 100%|██████████| 938/938 [00:21<00:00, 43.69batch/s, Train Loss=0.328, Train Acc=87.6]\n"
     ]
    },
    {
     "name": "stdout",
     "output_type": "stream",
     "text": [
      "Epoch 364\n",
      "Train Loss: 0.3285, Train Accuracy: 87.56%\n",
      "Test Loss: 0.2518, Test Accuracy: 90.92%\n",
      "\n"
     ]
    },
    {
     "name": "stderr",
     "output_type": "stream",
     "text": [
      "Epoch 365: 100%|██████████| 938/938 [00:21<00:00, 43.82batch/s, Train Loss=0.326, Train Acc=87.6]\n"
     ]
    },
    {
     "name": "stdout",
     "output_type": "stream",
     "text": [
      "Epoch 365\n",
      "Train Loss: 0.3262, Train Accuracy: 87.58%\n",
      "Test Loss: 0.2522, Test Accuracy: 90.92%\n",
      "\n"
     ]
    },
    {
     "name": "stderr",
     "output_type": "stream",
     "text": [
      "Epoch 366: 100%|██████████| 938/938 [00:21<00:00, 43.70batch/s, Train Loss=0.327, Train Acc=87.5]\n"
     ]
    },
    {
     "name": "stdout",
     "output_type": "stream",
     "text": [
      "Epoch 366\n",
      "Train Loss: 0.3272, Train Accuracy: 87.54%\n",
      "Test Loss: 0.2518, Test Accuracy: 90.97%\n",
      "\n"
     ]
    },
    {
     "name": "stderr",
     "output_type": "stream",
     "text": [
      "Epoch 367: 100%|██████████| 938/938 [00:21<00:00, 44.09batch/s, Train Loss=0.327, Train Acc=87.6]\n"
     ]
    },
    {
     "name": "stdout",
     "output_type": "stream",
     "text": [
      "Epoch 367\n",
      "Train Loss: 0.3266, Train Accuracy: 87.58%\n",
      "Test Loss: 0.2491, Test Accuracy: 90.80%\n",
      "\n"
     ]
    },
    {
     "name": "stderr",
     "output_type": "stream",
     "text": [
      "Epoch 368: 100%|██████████| 938/938 [00:21<00:00, 43.93batch/s, Train Loss=0.328, Train Acc=87.5]\n"
     ]
    },
    {
     "name": "stdout",
     "output_type": "stream",
     "text": [
      "Epoch 368\n",
      "Train Loss: 0.3282, Train Accuracy: 87.54%\n",
      "Test Loss: 0.2464, Test Accuracy: 90.92%\n",
      "\n"
     ]
    },
    {
     "name": "stderr",
     "output_type": "stream",
     "text": [
      "Epoch 369: 100%|██████████| 938/938 [00:21<00:00, 43.72batch/s, Train Loss=0.328, Train Acc=87.5]\n"
     ]
    },
    {
     "name": "stdout",
     "output_type": "stream",
     "text": [
      "Epoch 369\n",
      "Train Loss: 0.3282, Train Accuracy: 87.55%\n",
      "Test Loss: 0.2470, Test Accuracy: 90.92%\n",
      "\n"
     ]
    },
    {
     "name": "stderr",
     "output_type": "stream",
     "text": [
      "Epoch 370: 100%|██████████| 938/938 [00:21<00:00, 43.97batch/s, Train Loss=0.327, Train Acc=87.6]\n"
     ]
    },
    {
     "name": "stdout",
     "output_type": "stream",
     "text": [
      "Epoch 370\n",
      "Train Loss: 0.3267, Train Accuracy: 87.56%\n",
      "Test Loss: 0.2480, Test Accuracy: 90.96%\n",
      "\n"
     ]
    },
    {
     "name": "stderr",
     "output_type": "stream",
     "text": [
      "Epoch 371: 100%|██████████| 938/938 [00:21<00:00, 43.90batch/s, Train Loss=0.323, Train Acc=87.7]\n"
     ]
    },
    {
     "name": "stdout",
     "output_type": "stream",
     "text": [
      "Epoch 371\n",
      "Train Loss: 0.3228, Train Accuracy: 87.67%\n",
      "Test Loss: 0.2486, Test Accuracy: 90.91%\n",
      "\n"
     ]
    },
    {
     "name": "stderr",
     "output_type": "stream",
     "text": [
      "Epoch 372: 100%|██████████| 938/938 [00:21<00:00, 43.90batch/s, Train Loss=0.322, Train Acc=87.8]\n"
     ]
    },
    {
     "name": "stdout",
     "output_type": "stream",
     "text": [
      "Epoch 372\n",
      "Train Loss: 0.3224, Train Accuracy: 87.83%\n",
      "Test Loss: 0.2493, Test Accuracy: 90.83%\n",
      "\n"
     ]
    },
    {
     "name": "stderr",
     "output_type": "stream",
     "text": [
      "Epoch 373: 100%|██████████| 938/938 [00:21<00:00, 43.95batch/s, Train Loss=0.324, Train Acc=87.5]\n"
     ]
    },
    {
     "name": "stdout",
     "output_type": "stream",
     "text": [
      "Epoch 373\n",
      "Train Loss: 0.3236, Train Accuracy: 87.53%\n",
      "Test Loss: 0.2464, Test Accuracy: 91.11%\n",
      "\n"
     ]
    },
    {
     "name": "stderr",
     "output_type": "stream",
     "text": [
      "Epoch 374: 100%|██████████| 938/938 [00:21<00:00, 44.00batch/s, Train Loss=0.324, Train Acc=87.6]\n"
     ]
    },
    {
     "name": "stdout",
     "output_type": "stream",
     "text": [
      "Epoch 374\n",
      "Train Loss: 0.3236, Train Accuracy: 87.63%\n",
      "Test Loss: 0.2504, Test Accuracy: 90.95%\n",
      "\n"
     ]
    },
    {
     "name": "stderr",
     "output_type": "stream",
     "text": [
      "Epoch 375: 100%|██████████| 938/938 [00:21<00:00, 43.90batch/s, Train Loss=0.325, Train Acc=87.6]\n"
     ]
    },
    {
     "name": "stdout",
     "output_type": "stream",
     "text": [
      "Epoch 375\n",
      "Train Loss: 0.3251, Train Accuracy: 87.61%\n",
      "Test Loss: 0.2435, Test Accuracy: 91.05%\n",
      "\n"
     ]
    },
    {
     "name": "stderr",
     "output_type": "stream",
     "text": [
      "Epoch 376: 100%|██████████| 938/938 [00:21<00:00, 43.83batch/s, Train Loss=0.323, Train Acc=87.6]\n"
     ]
    },
    {
     "name": "stdout",
     "output_type": "stream",
     "text": [
      "Epoch 376\n",
      "Train Loss: 0.3232, Train Accuracy: 87.60%\n",
      "Test Loss: 0.2536, Test Accuracy: 90.69%\n",
      "\n"
     ]
    },
    {
     "name": "stderr",
     "output_type": "stream",
     "text": [
      "Epoch 377: 100%|██████████| 938/938 [00:21<00:00, 43.81batch/s, Train Loss=0.323, Train Acc=87.7]\n"
     ]
    },
    {
     "name": "stdout",
     "output_type": "stream",
     "text": [
      "Epoch 377\n",
      "Train Loss: 0.3226, Train Accuracy: 87.66%\n",
      "Test Loss: 0.2501, Test Accuracy: 90.83%\n",
      "\n"
     ]
    },
    {
     "name": "stderr",
     "output_type": "stream",
     "text": [
      "Epoch 378: 100%|██████████| 938/938 [00:21<00:00, 43.70batch/s, Train Loss=0.322, Train Acc=87.7]\n"
     ]
    },
    {
     "name": "stdout",
     "output_type": "stream",
     "text": [
      "Epoch 378\n",
      "Train Loss: 0.3218, Train Accuracy: 87.69%\n",
      "Test Loss: 0.2519, Test Accuracy: 90.68%\n",
      "\n"
     ]
    },
    {
     "name": "stderr",
     "output_type": "stream",
     "text": [
      "Epoch 379: 100%|██████████| 938/938 [00:21<00:00, 43.94batch/s, Train Loss=0.32, Train Acc=87.7] \n"
     ]
    },
    {
     "name": "stdout",
     "output_type": "stream",
     "text": [
      "Epoch 379\n",
      "Train Loss: 0.3203, Train Accuracy: 87.72%\n",
      "Test Loss: 0.2482, Test Accuracy: 90.84%\n",
      "\n"
     ]
    },
    {
     "name": "stderr",
     "output_type": "stream",
     "text": [
      "Epoch 380: 100%|██████████| 938/938 [00:21<00:00, 43.85batch/s, Train Loss=0.324, Train Acc=87.7]\n"
     ]
    },
    {
     "name": "stdout",
     "output_type": "stream",
     "text": [
      "Epoch 380\n",
      "Train Loss: 0.3235, Train Accuracy: 87.72%\n",
      "Test Loss: 0.2519, Test Accuracy: 90.88%\n",
      "\n"
     ]
    },
    {
     "name": "stderr",
     "output_type": "stream",
     "text": [
      "Epoch 381: 100%|██████████| 938/938 [00:21<00:00, 43.90batch/s, Train Loss=0.324, Train Acc=87.7]\n"
     ]
    },
    {
     "name": "stdout",
     "output_type": "stream",
     "text": [
      "Epoch 381\n",
      "Train Loss: 0.3235, Train Accuracy: 87.73%\n",
      "Test Loss: 0.2572, Test Accuracy: 90.49%\n",
      "\n"
     ]
    },
    {
     "name": "stderr",
     "output_type": "stream",
     "text": [
      "Epoch 382: 100%|██████████| 938/938 [00:21<00:00, 43.91batch/s, Train Loss=0.32, Train Acc=88]   \n"
     ]
    },
    {
     "name": "stdout",
     "output_type": "stream",
     "text": [
      "Epoch 382\n",
      "Train Loss: 0.3201, Train Accuracy: 87.97%\n",
      "Test Loss: 0.2448, Test Accuracy: 91.20%\n",
      "\n"
     ]
    },
    {
     "name": "stderr",
     "output_type": "stream",
     "text": [
      "Epoch 383: 100%|██████████| 938/938 [00:21<00:00, 44.00batch/s, Train Loss=0.321, Train Acc=87.8]\n"
     ]
    },
    {
     "name": "stdout",
     "output_type": "stream",
     "text": [
      "Epoch 383\n",
      "Train Loss: 0.3212, Train Accuracy: 87.79%\n",
      "Test Loss: 0.2561, Test Accuracy: 90.71%\n",
      "\n"
     ]
    },
    {
     "name": "stderr",
     "output_type": "stream",
     "text": [
      "Epoch 384: 100%|██████████| 938/938 [00:21<00:00, 43.86batch/s, Train Loss=0.322, Train Acc=87.7]\n"
     ]
    },
    {
     "name": "stdout",
     "output_type": "stream",
     "text": [
      "Epoch 384\n",
      "Train Loss: 0.3218, Train Accuracy: 87.66%\n",
      "Test Loss: 0.2509, Test Accuracy: 90.88%\n",
      "\n"
     ]
    },
    {
     "name": "stderr",
     "output_type": "stream",
     "text": [
      "Epoch 385: 100%|██████████| 938/938 [00:21<00:00, 44.05batch/s, Train Loss=0.322, Train Acc=87.8]\n"
     ]
    },
    {
     "name": "stdout",
     "output_type": "stream",
     "text": [
      "Epoch 385\n",
      "Train Loss: 0.3221, Train Accuracy: 87.80%\n",
      "Test Loss: 0.2470, Test Accuracy: 90.77%\n",
      "\n"
     ]
    },
    {
     "name": "stderr",
     "output_type": "stream",
     "text": [
      "Epoch 386: 100%|██████████| 938/938 [00:21<00:00, 44.12batch/s, Train Loss=0.319, Train Acc=87.8]\n"
     ]
    },
    {
     "name": "stdout",
     "output_type": "stream",
     "text": [
      "Epoch 386\n",
      "Train Loss: 0.3187, Train Accuracy: 87.84%\n",
      "Test Loss: 0.2525, Test Accuracy: 90.65%\n",
      "\n"
     ]
    },
    {
     "name": "stderr",
     "output_type": "stream",
     "text": [
      "Epoch 387: 100%|██████████| 938/938 [00:21<00:00, 44.03batch/s, Train Loss=0.32, Train Acc=87.8] \n"
     ]
    },
    {
     "name": "stdout",
     "output_type": "stream",
     "text": [
      "Epoch 387\n",
      "Train Loss: 0.3204, Train Accuracy: 87.75%\n",
      "Test Loss: 0.2455, Test Accuracy: 91.11%\n",
      "\n"
     ]
    },
    {
     "name": "stderr",
     "output_type": "stream",
     "text": [
      "Epoch 388: 100%|██████████| 938/938 [00:21<00:00, 44.14batch/s, Train Loss=0.317, Train Acc=88.1]\n"
     ]
    },
    {
     "name": "stdout",
     "output_type": "stream",
     "text": [
      "Epoch 388\n",
      "Train Loss: 0.3170, Train Accuracy: 88.09%\n",
      "Test Loss: 0.2464, Test Accuracy: 91.00%\n",
      "\n"
     ]
    },
    {
     "name": "stderr",
     "output_type": "stream",
     "text": [
      "Epoch 389: 100%|██████████| 938/938 [00:21<00:00, 44.03batch/s, Train Loss=0.319, Train Acc=88]  \n"
     ]
    },
    {
     "name": "stdout",
     "output_type": "stream",
     "text": [
      "Epoch 389\n",
      "Train Loss: 0.3191, Train Accuracy: 87.97%\n",
      "Test Loss: 0.2481, Test Accuracy: 91.05%\n",
      "\n"
     ]
    },
    {
     "name": "stderr",
     "output_type": "stream",
     "text": [
      "Epoch 390: 100%|██████████| 938/938 [00:21<00:00, 44.04batch/s, Train Loss=0.322, Train Acc=87.7]\n"
     ]
    },
    {
     "name": "stdout",
     "output_type": "stream",
     "text": [
      "Epoch 390\n",
      "Train Loss: 0.3223, Train Accuracy: 87.73%\n",
      "Test Loss: 0.2461, Test Accuracy: 91.14%\n",
      "\n"
     ]
    },
    {
     "name": "stderr",
     "output_type": "stream",
     "text": [
      "Epoch 391: 100%|██████████| 938/938 [00:21<00:00, 43.91batch/s, Train Loss=0.319, Train Acc=87.9]\n"
     ]
    },
    {
     "name": "stdout",
     "output_type": "stream",
     "text": [
      "Epoch 391\n",
      "Train Loss: 0.3193, Train Accuracy: 87.88%\n",
      "Test Loss: 0.2552, Test Accuracy: 90.73%\n",
      "\n"
     ]
    },
    {
     "name": "stderr",
     "output_type": "stream",
     "text": [
      "Epoch 392: 100%|██████████| 938/938 [00:21<00:00, 44.08batch/s, Train Loss=0.316, Train Acc=88.1]\n"
     ]
    },
    {
     "name": "stdout",
     "output_type": "stream",
     "text": [
      "Epoch 392\n",
      "Train Loss: 0.3159, Train Accuracy: 88.06%\n",
      "Test Loss: 0.2512, Test Accuracy: 90.88%\n",
      "\n"
     ]
    },
    {
     "name": "stderr",
     "output_type": "stream",
     "text": [
      "Epoch 393: 100%|██████████| 938/938 [00:21<00:00, 43.96batch/s, Train Loss=0.321, Train Acc=87.8]\n"
     ]
    },
    {
     "name": "stdout",
     "output_type": "stream",
     "text": [
      "Epoch 393\n",
      "Train Loss: 0.3213, Train Accuracy: 87.80%\n",
      "Test Loss: 0.2562, Test Accuracy: 90.67%\n",
      "\n"
     ]
    },
    {
     "name": "stderr",
     "output_type": "stream",
     "text": [
      "Epoch 394: 100%|██████████| 938/938 [00:21<00:00, 44.22batch/s, Train Loss=0.319, Train Acc=87.8]\n"
     ]
    },
    {
     "name": "stdout",
     "output_type": "stream",
     "text": [
      "Epoch 394\n",
      "Train Loss: 0.3186, Train Accuracy: 87.77%\n",
      "Test Loss: 0.2503, Test Accuracy: 91.04%\n",
      "\n"
     ]
    },
    {
     "name": "stderr",
     "output_type": "stream",
     "text": [
      "Epoch 395: 100%|██████████| 938/938 [00:21<00:00, 43.81batch/s, Train Loss=0.316, Train Acc=87.9]\n"
     ]
    },
    {
     "name": "stdout",
     "output_type": "stream",
     "text": [
      "Epoch 395\n",
      "Train Loss: 0.3164, Train Accuracy: 87.94%\n",
      "Test Loss: 0.2436, Test Accuracy: 91.19%\n",
      "\n"
     ]
    },
    {
     "name": "stderr",
     "output_type": "stream",
     "text": [
      "Epoch 396: 100%|██████████| 938/938 [00:21<00:00, 44.20batch/s, Train Loss=0.313, Train Acc=88.1]\n"
     ]
    },
    {
     "name": "stdout",
     "output_type": "stream",
     "text": [
      "Epoch 396\n",
      "Train Loss: 0.3133, Train Accuracy: 88.14%\n",
      "Test Loss: 0.2476, Test Accuracy: 90.92%\n",
      "\n"
     ]
    },
    {
     "name": "stderr",
     "output_type": "stream",
     "text": [
      "Epoch 397: 100%|██████████| 938/938 [00:21<00:00, 44.05batch/s, Train Loss=0.316, Train Acc=87.9]\n"
     ]
    },
    {
     "name": "stdout",
     "output_type": "stream",
     "text": [
      "Epoch 397\n",
      "Train Loss: 0.3157, Train Accuracy: 87.91%\n",
      "Test Loss: 0.2449, Test Accuracy: 91.15%\n",
      "\n"
     ]
    },
    {
     "name": "stderr",
     "output_type": "stream",
     "text": [
      "Epoch 398: 100%|██████████| 938/938 [00:21<00:00, 43.97batch/s, Train Loss=0.318, Train Acc=87.9]\n"
     ]
    },
    {
     "name": "stdout",
     "output_type": "stream",
     "text": [
      "Epoch 398\n",
      "Train Loss: 0.3184, Train Accuracy: 87.89%\n",
      "Test Loss: 0.2477, Test Accuracy: 90.93%\n",
      "\n"
     ]
    },
    {
     "name": "stderr",
     "output_type": "stream",
     "text": [
      "Epoch 399: 100%|██████████| 938/938 [00:21<00:00, 44.03batch/s, Train Loss=0.316, Train Acc=87.9]\n"
     ]
    },
    {
     "name": "stdout",
     "output_type": "stream",
     "text": [
      "Epoch 399\n",
      "Train Loss: 0.3160, Train Accuracy: 87.89%\n",
      "Test Loss: 0.2422, Test Accuracy: 91.26%\n",
      "\n"
     ]
    },
    {
     "name": "stderr",
     "output_type": "stream",
     "text": [
      "Epoch 400: 100%|██████████| 938/938 [00:21<00:00, 43.94batch/s, Train Loss=0.316, Train Acc=88]  \n"
     ]
    },
    {
     "name": "stdout",
     "output_type": "stream",
     "text": [
      "Epoch 400\n",
      "Train Loss: 0.3157, Train Accuracy: 87.98%\n",
      "Test Loss: 0.2460, Test Accuracy: 90.95%\n",
      "\n"
     ]
    },
    {
     "name": "stderr",
     "output_type": "stream",
     "text": [
      "Epoch 401: 100%|██████████| 938/938 [00:21<00:00, 43.93batch/s, Train Loss=0.315, Train Acc=88]  \n"
     ]
    },
    {
     "name": "stdout",
     "output_type": "stream",
     "text": [
      "Epoch 401\n",
      "Train Loss: 0.3148, Train Accuracy: 88.00%\n",
      "Test Loss: 0.2420, Test Accuracy: 91.18%\n",
      "\n"
     ]
    },
    {
     "name": "stderr",
     "output_type": "stream",
     "text": [
      "Epoch 402: 100%|██████████| 938/938 [00:21<00:00, 44.00batch/s, Train Loss=0.31, Train Acc=88.2] \n"
     ]
    },
    {
     "name": "stdout",
     "output_type": "stream",
     "text": [
      "Epoch 402\n",
      "Train Loss: 0.3097, Train Accuracy: 88.22%\n",
      "Test Loss: 0.2402, Test Accuracy: 91.19%\n",
      "\n"
     ]
    },
    {
     "name": "stderr",
     "output_type": "stream",
     "text": [
      "Epoch 403: 100%|██████████| 938/938 [00:21<00:00, 43.94batch/s, Train Loss=0.314, Train Acc=88.1]\n"
     ]
    },
    {
     "name": "stdout",
     "output_type": "stream",
     "text": [
      "Epoch 403\n",
      "Train Loss: 0.3141, Train Accuracy: 88.08%\n",
      "Test Loss: 0.2440, Test Accuracy: 91.14%\n",
      "\n"
     ]
    },
    {
     "name": "stderr",
     "output_type": "stream",
     "text": [
      "Epoch 404: 100%|██████████| 938/938 [00:21<00:00, 43.93batch/s, Train Loss=0.313, Train Acc=88.1]\n"
     ]
    },
    {
     "name": "stdout",
     "output_type": "stream",
     "text": [
      "Epoch 404\n",
      "Train Loss: 0.3131, Train Accuracy: 88.08%\n",
      "Test Loss: 0.2455, Test Accuracy: 91.18%\n",
      "\n"
     ]
    },
    {
     "name": "stderr",
     "output_type": "stream",
     "text": [
      "Epoch 405: 100%|██████████| 938/938 [00:21<00:00, 43.70batch/s, Train Loss=0.313, Train Acc=88.1]\n"
     ]
    },
    {
     "name": "stdout",
     "output_type": "stream",
     "text": [
      "Epoch 405\n",
      "Train Loss: 0.3128, Train Accuracy: 88.08%\n",
      "Test Loss: 0.2460, Test Accuracy: 91.18%\n",
      "\n"
     ]
    },
    {
     "name": "stderr",
     "output_type": "stream",
     "text": [
      "Epoch 406: 100%|██████████| 938/938 [00:21<00:00, 43.57batch/s, Train Loss=0.313, Train Acc=88.1]\n"
     ]
    },
    {
     "name": "stdout",
     "output_type": "stream",
     "text": [
      "Epoch 406\n",
      "Train Loss: 0.3131, Train Accuracy: 88.11%\n",
      "Test Loss: 0.2456, Test Accuracy: 91.00%\n",
      "\n"
     ]
    },
    {
     "name": "stderr",
     "output_type": "stream",
     "text": [
      "Epoch 407: 100%|██████████| 938/938 [00:21<00:00, 43.81batch/s, Train Loss=0.311, Train Acc=88.2]\n"
     ]
    },
    {
     "name": "stdout",
     "output_type": "stream",
     "text": [
      "Epoch 407\n",
      "Train Loss: 0.3110, Train Accuracy: 88.16%\n",
      "Test Loss: 0.2463, Test Accuracy: 91.08%\n",
      "\n"
     ]
    },
    {
     "name": "stderr",
     "output_type": "stream",
     "text": [
      "Epoch 408: 100%|██████████| 938/938 [00:21<00:00, 43.69batch/s, Train Loss=0.314, Train Acc=88.1]\n"
     ]
    },
    {
     "name": "stdout",
     "output_type": "stream",
     "text": [
      "Epoch 408\n",
      "Train Loss: 0.3140, Train Accuracy: 88.12%\n",
      "Test Loss: 0.2434, Test Accuracy: 90.96%\n",
      "\n"
     ]
    },
    {
     "name": "stderr",
     "output_type": "stream",
     "text": [
      "Epoch 409: 100%|██████████| 938/938 [00:21<00:00, 44.00batch/s, Train Loss=0.311, Train Acc=88.2]\n"
     ]
    },
    {
     "name": "stdout",
     "output_type": "stream",
     "text": [
      "Epoch 409\n",
      "Train Loss: 0.3111, Train Accuracy: 88.17%\n",
      "Test Loss: 0.2458, Test Accuracy: 91.11%\n",
      "\n"
     ]
    },
    {
     "name": "stderr",
     "output_type": "stream",
     "text": [
      "Epoch 410: 100%|██████████| 938/938 [00:21<00:00, 44.08batch/s, Train Loss=0.312, Train Acc=88.1]\n"
     ]
    },
    {
     "name": "stdout",
     "output_type": "stream",
     "text": [
      "Epoch 410\n",
      "Train Loss: 0.3116, Train Accuracy: 88.14%\n",
      "Test Loss: 0.2422, Test Accuracy: 91.05%\n",
      "\n"
     ]
    },
    {
     "name": "stderr",
     "output_type": "stream",
     "text": [
      "Epoch 411: 100%|██████████| 938/938 [00:21<00:00, 43.85batch/s, Train Loss=0.311, Train Acc=88.2]\n"
     ]
    },
    {
     "name": "stdout",
     "output_type": "stream",
     "text": [
      "Epoch 411\n",
      "Train Loss: 0.3112, Train Accuracy: 88.20%\n",
      "Test Loss: 0.2427, Test Accuracy: 91.22%\n",
      "\n"
     ]
    },
    {
     "name": "stderr",
     "output_type": "stream",
     "text": [
      "Epoch 412: 100%|██████████| 938/938 [00:21<00:00, 43.61batch/s, Train Loss=0.31, Train Acc=88.2] \n"
     ]
    },
    {
     "name": "stdout",
     "output_type": "stream",
     "text": [
      "Epoch 412\n",
      "Train Loss: 0.3097, Train Accuracy: 88.22%\n",
      "Test Loss: 0.2462, Test Accuracy: 90.85%\n",
      "\n"
     ]
    },
    {
     "name": "stderr",
     "output_type": "stream",
     "text": [
      "Epoch 413: 100%|██████████| 938/938 [00:21<00:00, 43.67batch/s, Train Loss=0.31, Train Acc=88.3] \n"
     ]
    },
    {
     "name": "stdout",
     "output_type": "stream",
     "text": [
      "Epoch 413\n",
      "Train Loss: 0.3103, Train Accuracy: 88.28%\n",
      "Test Loss: 0.2456, Test Accuracy: 90.97%\n",
      "\n"
     ]
    },
    {
     "name": "stderr",
     "output_type": "stream",
     "text": [
      "Epoch 414: 100%|██████████| 938/938 [00:21<00:00, 43.91batch/s, Train Loss=0.309, Train Acc=88.3]\n"
     ]
    },
    {
     "name": "stdout",
     "output_type": "stream",
     "text": [
      "Epoch 414\n",
      "Train Loss: 0.3086, Train Accuracy: 88.29%\n",
      "Test Loss: 0.2385, Test Accuracy: 91.19%\n",
      "\n"
     ]
    },
    {
     "name": "stderr",
     "output_type": "stream",
     "text": [
      "Epoch 415: 100%|██████████| 938/938 [00:21<00:00, 43.67batch/s, Train Loss=0.308, Train Acc=88.3]\n"
     ]
    },
    {
     "name": "stdout",
     "output_type": "stream",
     "text": [
      "Epoch 415\n",
      "Train Loss: 0.3080, Train Accuracy: 88.33%\n",
      "Test Loss: 0.2400, Test Accuracy: 91.15%\n",
      "\n"
     ]
    },
    {
     "name": "stderr",
     "output_type": "stream",
     "text": [
      "Epoch 416: 100%|██████████| 938/938 [00:21<00:00, 44.24batch/s, Train Loss=0.308, Train Acc=88.3]\n"
     ]
    },
    {
     "name": "stdout",
     "output_type": "stream",
     "text": [
      "Epoch 416\n",
      "Train Loss: 0.3075, Train Accuracy: 88.30%\n",
      "Test Loss: 0.2448, Test Accuracy: 91.06%\n",
      "\n"
     ]
    },
    {
     "name": "stderr",
     "output_type": "stream",
     "text": [
      "Epoch 417: 100%|██████████| 938/938 [00:21<00:00, 43.91batch/s, Train Loss=0.308, Train Acc=88.3]\n"
     ]
    },
    {
     "name": "stdout",
     "output_type": "stream",
     "text": [
      "Epoch 417\n",
      "Train Loss: 0.3081, Train Accuracy: 88.33%\n",
      "Test Loss: 0.2468, Test Accuracy: 90.94%\n",
      "\n"
     ]
    },
    {
     "name": "stderr",
     "output_type": "stream",
     "text": [
      "Epoch 418: 100%|██████████| 938/938 [00:21<00:00, 43.77batch/s, Train Loss=0.309, Train Acc=88.2]\n"
     ]
    },
    {
     "name": "stdout",
     "output_type": "stream",
     "text": [
      "Epoch 418\n",
      "Train Loss: 0.3092, Train Accuracy: 88.17%\n",
      "Test Loss: 0.2443, Test Accuracy: 91.00%\n",
      "\n"
     ]
    },
    {
     "name": "stderr",
     "output_type": "stream",
     "text": [
      "Epoch 419: 100%|██████████| 938/938 [00:21<00:00, 43.92batch/s, Train Loss=0.309, Train Acc=88.2]\n"
     ]
    },
    {
     "name": "stdout",
     "output_type": "stream",
     "text": [
      "Epoch 419\n",
      "Train Loss: 0.3093, Train Accuracy: 88.18%\n",
      "Test Loss: 0.2395, Test Accuracy: 91.10%\n",
      "\n"
     ]
    },
    {
     "name": "stderr",
     "output_type": "stream",
     "text": [
      "Epoch 420: 100%|██████████| 938/938 [00:21<00:00, 44.10batch/s, Train Loss=0.309, Train Acc=88.2]\n"
     ]
    },
    {
     "name": "stdout",
     "output_type": "stream",
     "text": [
      "Epoch 420\n",
      "Train Loss: 0.3095, Train Accuracy: 88.21%\n",
      "Test Loss: 0.2449, Test Accuracy: 91.02%\n",
      "\n"
     ]
    },
    {
     "name": "stderr",
     "output_type": "stream",
     "text": [
      "Epoch 421: 100%|██████████| 938/938 [00:21<00:00, 44.00batch/s, Train Loss=0.313, Train Acc=88.2]\n"
     ]
    },
    {
     "name": "stdout",
     "output_type": "stream",
     "text": [
      "Epoch 421\n",
      "Train Loss: 0.3126, Train Accuracy: 88.15%\n",
      "Test Loss: 0.2434, Test Accuracy: 91.11%\n",
      "\n"
     ]
    },
    {
     "name": "stderr",
     "output_type": "stream",
     "text": [
      "Epoch 422: 100%|██████████| 938/938 [00:21<00:00, 43.77batch/s, Train Loss=0.309, Train Acc=88.3]\n"
     ]
    },
    {
     "name": "stdout",
     "output_type": "stream",
     "text": [
      "Epoch 422\n",
      "Train Loss: 0.3092, Train Accuracy: 88.28%\n",
      "Test Loss: 0.2392, Test Accuracy: 91.09%\n",
      "\n"
     ]
    },
    {
     "name": "stderr",
     "output_type": "stream",
     "text": [
      "Epoch 423: 100%|██████████| 938/938 [00:21<00:00, 44.05batch/s, Train Loss=0.308, Train Acc=88.3]\n"
     ]
    },
    {
     "name": "stdout",
     "output_type": "stream",
     "text": [
      "Epoch 423\n",
      "Train Loss: 0.3084, Train Accuracy: 88.33%\n",
      "Test Loss: 0.2426, Test Accuracy: 90.98%\n",
      "\n"
     ]
    },
    {
     "name": "stderr",
     "output_type": "stream",
     "text": [
      "Epoch 424: 100%|██████████| 938/938 [00:21<00:00, 43.74batch/s, Train Loss=0.308, Train Acc=88.4]\n"
     ]
    },
    {
     "name": "stdout",
     "output_type": "stream",
     "text": [
      "Epoch 424\n",
      "Train Loss: 0.3080, Train Accuracy: 88.39%\n",
      "Test Loss: 0.2528, Test Accuracy: 90.77%\n",
      "\n"
     ]
    },
    {
     "name": "stderr",
     "output_type": "stream",
     "text": [
      "Epoch 425: 100%|██████████| 938/938 [00:21<00:00, 43.85batch/s, Train Loss=0.31, Train Acc=88.2] \n"
     ]
    },
    {
     "name": "stdout",
     "output_type": "stream",
     "text": [
      "Epoch 425\n",
      "Train Loss: 0.3096, Train Accuracy: 88.25%\n",
      "Test Loss: 0.2412, Test Accuracy: 91.19%\n",
      "\n"
     ]
    },
    {
     "name": "stderr",
     "output_type": "stream",
     "text": [
      "Epoch 426: 100%|██████████| 938/938 [00:21<00:00, 43.79batch/s, Train Loss=0.31, Train Acc=88.2] \n"
     ]
    },
    {
     "name": "stdout",
     "output_type": "stream",
     "text": [
      "Epoch 426\n",
      "Train Loss: 0.3102, Train Accuracy: 88.19%\n",
      "Test Loss: 0.2439, Test Accuracy: 91.10%\n",
      "\n"
     ]
    },
    {
     "name": "stderr",
     "output_type": "stream",
     "text": [
      "Epoch 427: 100%|██████████| 938/938 [00:21<00:00, 43.67batch/s, Train Loss=0.31, Train Acc=88.4] \n"
     ]
    },
    {
     "name": "stdout",
     "output_type": "stream",
     "text": [
      "Epoch 427\n",
      "Train Loss: 0.3102, Train Accuracy: 88.37%\n",
      "Test Loss: 0.2418, Test Accuracy: 91.04%\n",
      "\n"
     ]
    },
    {
     "name": "stderr",
     "output_type": "stream",
     "text": [
      "Epoch 428: 100%|██████████| 938/938 [00:21<00:00, 43.90batch/s, Train Loss=0.31, Train Acc=88.1] \n"
     ]
    },
    {
     "name": "stdout",
     "output_type": "stream",
     "text": [
      "Epoch 428\n",
      "Train Loss: 0.3098, Train Accuracy: 88.15%\n",
      "Test Loss: 0.2455, Test Accuracy: 90.57%\n",
      "\n"
     ]
    },
    {
     "name": "stderr",
     "output_type": "stream",
     "text": [
      "Epoch 429: 100%|██████████| 938/938 [00:21<00:00, 43.76batch/s, Train Loss=0.305, Train Acc=88.4]\n"
     ]
    },
    {
     "name": "stdout",
     "output_type": "stream",
     "text": [
      "Epoch 429\n",
      "Train Loss: 0.3054, Train Accuracy: 88.36%\n",
      "Test Loss: 0.2462, Test Accuracy: 90.89%\n",
      "\n"
     ]
    },
    {
     "name": "stderr",
     "output_type": "stream",
     "text": [
      "Epoch 430: 100%|██████████| 938/938 [00:21<00:00, 44.16batch/s, Train Loss=0.309, Train Acc=88.3]\n"
     ]
    },
    {
     "name": "stdout",
     "output_type": "stream",
     "text": [
      "Epoch 430\n",
      "Train Loss: 0.3087, Train Accuracy: 88.25%\n",
      "Test Loss: 0.2423, Test Accuracy: 90.86%\n",
      "\n"
     ]
    },
    {
     "name": "stderr",
     "output_type": "stream",
     "text": [
      "Epoch 431: 100%|██████████| 938/938 [00:21<00:00, 43.78batch/s, Train Loss=0.304, Train Acc=88.4]\n"
     ]
    },
    {
     "name": "stdout",
     "output_type": "stream",
     "text": [
      "Epoch 431\n",
      "Train Loss: 0.3045, Train Accuracy: 88.40%\n",
      "Test Loss: 0.2424, Test Accuracy: 90.82%\n",
      "\n"
     ]
    },
    {
     "name": "stderr",
     "output_type": "stream",
     "text": [
      "Epoch 432: 100%|██████████| 938/938 [00:21<00:00, 43.89batch/s, Train Loss=0.305, Train Acc=88.3]\n"
     ]
    },
    {
     "name": "stdout",
     "output_type": "stream",
     "text": [
      "Epoch 432\n",
      "Train Loss: 0.3053, Train Accuracy: 88.34%\n",
      "Test Loss: 0.2420, Test Accuracy: 90.95%\n",
      "\n"
     ]
    },
    {
     "name": "stderr",
     "output_type": "stream",
     "text": [
      "Epoch 433: 100%|██████████| 938/938 [00:21<00:00, 43.66batch/s, Train Loss=0.301, Train Acc=88.5]\n"
     ]
    },
    {
     "name": "stdout",
     "output_type": "stream",
     "text": [
      "Epoch 433\n",
      "Train Loss: 0.3012, Train Accuracy: 88.54%\n",
      "Test Loss: 0.2414, Test Accuracy: 91.18%\n",
      "\n"
     ]
    },
    {
     "name": "stderr",
     "output_type": "stream",
     "text": [
      "Epoch 434: 100%|██████████| 938/938 [00:21<00:00, 43.81batch/s, Train Loss=0.306, Train Acc=88.4]\n"
     ]
    },
    {
     "name": "stdout",
     "output_type": "stream",
     "text": [
      "Epoch 434\n",
      "Train Loss: 0.3056, Train Accuracy: 88.37%\n",
      "Test Loss: 0.2383, Test Accuracy: 91.28%\n",
      "\n"
     ]
    },
    {
     "name": "stderr",
     "output_type": "stream",
     "text": [
      "Epoch 435: 100%|██████████| 938/938 [00:21<00:00, 43.91batch/s, Train Loss=0.307, Train Acc=88.2]\n"
     ]
    },
    {
     "name": "stdout",
     "output_type": "stream",
     "text": [
      "Epoch 435\n",
      "Train Loss: 0.3066, Train Accuracy: 88.16%\n",
      "Test Loss: 0.2370, Test Accuracy: 91.11%\n",
      "\n"
     ]
    },
    {
     "name": "stderr",
     "output_type": "stream",
     "text": [
      "Epoch 436: 100%|██████████| 938/938 [00:21<00:00, 44.01batch/s, Train Loss=0.303, Train Acc=88.5]\n"
     ]
    },
    {
     "name": "stdout",
     "output_type": "stream",
     "text": [
      "Epoch 436\n",
      "Train Loss: 0.3030, Train Accuracy: 88.45%\n",
      "Test Loss: 0.2407, Test Accuracy: 90.84%\n",
      "\n"
     ]
    },
    {
     "name": "stderr",
     "output_type": "stream",
     "text": [
      "Epoch 437: 100%|██████████| 938/938 [00:21<00:00, 43.94batch/s, Train Loss=0.304, Train Acc=88.4]\n"
     ]
    },
    {
     "name": "stdout",
     "output_type": "stream",
     "text": [
      "Epoch 437\n",
      "Train Loss: 0.3038, Train Accuracy: 88.41%\n",
      "Test Loss: 0.2380, Test Accuracy: 91.22%\n",
      "\n"
     ]
    },
    {
     "name": "stderr",
     "output_type": "stream",
     "text": [
      "Epoch 438: 100%|██████████| 938/938 [00:21<00:00, 43.86batch/s, Train Loss=0.305, Train Acc=88.3]\n"
     ]
    },
    {
     "name": "stdout",
     "output_type": "stream",
     "text": [
      "Epoch 438\n",
      "Train Loss: 0.3046, Train Accuracy: 88.34%\n",
      "Test Loss: 0.2354, Test Accuracy: 91.37%\n",
      "\n"
     ]
    },
    {
     "name": "stderr",
     "output_type": "stream",
     "text": [
      "Epoch 439: 100%|██████████| 938/938 [00:21<00:00, 43.81batch/s, Train Loss=0.303, Train Acc=88.5]\n"
     ]
    },
    {
     "name": "stdout",
     "output_type": "stream",
     "text": [
      "Epoch 439\n",
      "Train Loss: 0.3027, Train Accuracy: 88.47%\n",
      "Test Loss: 0.2387, Test Accuracy: 91.13%\n",
      "\n"
     ]
    },
    {
     "name": "stderr",
     "output_type": "stream",
     "text": [
      "Epoch 440: 100%|██████████| 938/938 [00:21<00:00, 43.89batch/s, Train Loss=0.302, Train Acc=88.5]\n"
     ]
    },
    {
     "name": "stdout",
     "output_type": "stream",
     "text": [
      "Epoch 440\n",
      "Train Loss: 0.3017, Train Accuracy: 88.49%\n",
      "Test Loss: 0.2400, Test Accuracy: 90.95%\n",
      "\n"
     ]
    },
    {
     "name": "stderr",
     "output_type": "stream",
     "text": [
      "Epoch 441: 100%|██████████| 938/938 [00:21<00:00, 43.97batch/s, Train Loss=0.301, Train Acc=88.5]\n"
     ]
    },
    {
     "name": "stdout",
     "output_type": "stream",
     "text": [
      "Epoch 441\n",
      "Train Loss: 0.3013, Train Accuracy: 88.47%\n",
      "Test Loss: 0.2374, Test Accuracy: 91.34%\n",
      "\n"
     ]
    },
    {
     "name": "stderr",
     "output_type": "stream",
     "text": [
      "Epoch 442: 100%|██████████| 938/938 [00:21<00:00, 43.91batch/s, Train Loss=0.302, Train Acc=88.6]\n"
     ]
    },
    {
     "name": "stdout",
     "output_type": "stream",
     "text": [
      "Epoch 442\n",
      "Train Loss: 0.3023, Train Accuracy: 88.56%\n",
      "Test Loss: 0.2384, Test Accuracy: 91.35%\n",
      "\n"
     ]
    },
    {
     "name": "stderr",
     "output_type": "stream",
     "text": [
      "Epoch 443: 100%|██████████| 938/938 [00:21<00:00, 43.82batch/s, Train Loss=0.304, Train Acc=88.6]\n"
     ]
    },
    {
     "name": "stdout",
     "output_type": "stream",
     "text": [
      "Epoch 443\n",
      "Train Loss: 0.3037, Train Accuracy: 88.57%\n",
      "Test Loss: 0.2362, Test Accuracy: 91.22%\n",
      "\n"
     ]
    },
    {
     "name": "stderr",
     "output_type": "stream",
     "text": [
      "Epoch 444: 100%|██████████| 938/938 [00:21<00:00, 43.84batch/s, Train Loss=0.302, Train Acc=88.5]\n"
     ]
    },
    {
     "name": "stdout",
     "output_type": "stream",
     "text": [
      "Epoch 444\n",
      "Train Loss: 0.3020, Train Accuracy: 88.51%\n",
      "Test Loss: 0.2381, Test Accuracy: 91.27%\n",
      "\n"
     ]
    },
    {
     "name": "stderr",
     "output_type": "stream",
     "text": [
      "Epoch 445: 100%|██████████| 938/938 [00:21<00:00, 43.89batch/s, Train Loss=0.302, Train Acc=88.4]\n"
     ]
    },
    {
     "name": "stdout",
     "output_type": "stream",
     "text": [
      "Epoch 445\n",
      "Train Loss: 0.3017, Train Accuracy: 88.42%\n",
      "Test Loss: 0.2391, Test Accuracy: 91.00%\n",
      "\n"
     ]
    },
    {
     "name": "stderr",
     "output_type": "stream",
     "text": [
      "Epoch 446: 100%|██████████| 938/938 [00:21<00:00, 44.09batch/s, Train Loss=0.303, Train Acc=88.5]\n"
     ]
    },
    {
     "name": "stdout",
     "output_type": "stream",
     "text": [
      "Epoch 446\n",
      "Train Loss: 0.3033, Train Accuracy: 88.53%\n",
      "Test Loss: 0.2391, Test Accuracy: 91.24%\n",
      "\n"
     ]
    },
    {
     "name": "stderr",
     "output_type": "stream",
     "text": [
      "Epoch 447: 100%|██████████| 938/938 [00:21<00:00, 44.01batch/s, Train Loss=0.303, Train Acc=88.4]\n"
     ]
    },
    {
     "name": "stdout",
     "output_type": "stream",
     "text": [
      "Epoch 447\n",
      "Train Loss: 0.3027, Train Accuracy: 88.38%\n",
      "Test Loss: 0.2382, Test Accuracy: 91.34%\n",
      "\n"
     ]
    },
    {
     "name": "stderr",
     "output_type": "stream",
     "text": [
      "Epoch 448: 100%|██████████| 938/938 [00:21<00:00, 44.00batch/s, Train Loss=0.305, Train Acc=88.4]\n"
     ]
    },
    {
     "name": "stdout",
     "output_type": "stream",
     "text": [
      "Epoch 448\n",
      "Train Loss: 0.3053, Train Accuracy: 88.37%\n",
      "Test Loss: 0.2375, Test Accuracy: 91.29%\n",
      "\n"
     ]
    },
    {
     "name": "stderr",
     "output_type": "stream",
     "text": [
      "Epoch 449: 100%|██████████| 938/938 [00:21<00:00, 44.21batch/s, Train Loss=0.299, Train Acc=88.6]\n"
     ]
    },
    {
     "name": "stdout",
     "output_type": "stream",
     "text": [
      "Epoch 449\n",
      "Train Loss: 0.2990, Train Accuracy: 88.65%\n",
      "Test Loss: 0.2416, Test Accuracy: 91.06%\n",
      "\n"
     ]
    },
    {
     "name": "stderr",
     "output_type": "stream",
     "text": [
      "Epoch 450: 100%|██████████| 938/938 [00:21<00:00, 43.83batch/s, Train Loss=0.301, Train Acc=88.5]\n"
     ]
    },
    {
     "name": "stdout",
     "output_type": "stream",
     "text": [
      "Epoch 450\n",
      "Train Loss: 0.3013, Train Accuracy: 88.54%\n",
      "Test Loss: 0.2371, Test Accuracy: 91.22%\n",
      "\n"
     ]
    },
    {
     "name": "stderr",
     "output_type": "stream",
     "text": [
      "Epoch 451: 100%|██████████| 938/938 [00:21<00:00, 44.13batch/s, Train Loss=0.302, Train Acc=88.5]\n"
     ]
    },
    {
     "name": "stdout",
     "output_type": "stream",
     "text": [
      "Epoch 451\n",
      "Train Loss: 0.3016, Train Accuracy: 88.49%\n",
      "Test Loss: 0.2354, Test Accuracy: 91.28%\n",
      "\n"
     ]
    },
    {
     "name": "stderr",
     "output_type": "stream",
     "text": [
      "Epoch 452: 100%|██████████| 938/938 [00:21<00:00, 43.88batch/s, Train Loss=0.298, Train Acc=88.6]\n"
     ]
    },
    {
     "name": "stdout",
     "output_type": "stream",
     "text": [
      "Epoch 452\n",
      "Train Loss: 0.2981, Train Accuracy: 88.58%\n",
      "Test Loss: 0.2369, Test Accuracy: 91.40%\n",
      "\n"
     ]
    },
    {
     "name": "stderr",
     "output_type": "stream",
     "text": [
      "Epoch 453: 100%|██████████| 938/938 [00:21<00:00, 44.22batch/s, Train Loss=0.296, Train Acc=88.6]\n"
     ]
    },
    {
     "name": "stdout",
     "output_type": "stream",
     "text": [
      "Epoch 453\n",
      "Train Loss: 0.2959, Train Accuracy: 88.63%\n",
      "Test Loss: 0.2374, Test Accuracy: 91.16%\n",
      "\n"
     ]
    },
    {
     "name": "stderr",
     "output_type": "stream",
     "text": [
      "Epoch 454: 100%|██████████| 938/938 [00:21<00:00, 43.88batch/s, Train Loss=0.299, Train Acc=88.7]\n"
     ]
    },
    {
     "name": "stdout",
     "output_type": "stream",
     "text": [
      "Epoch 454\n",
      "Train Loss: 0.2992, Train Accuracy: 88.65%\n",
      "Test Loss: 0.2351, Test Accuracy: 91.53%\n",
      "\n"
     ]
    },
    {
     "name": "stderr",
     "output_type": "stream",
     "text": [
      "Epoch 455: 100%|██████████| 938/938 [00:21<00:00, 44.14batch/s, Train Loss=0.299, Train Acc=88.8]\n"
     ]
    },
    {
     "name": "stdout",
     "output_type": "stream",
     "text": [
      "Epoch 455\n",
      "Train Loss: 0.2991, Train Accuracy: 88.78%\n",
      "Test Loss: 0.2343, Test Accuracy: 91.56%\n",
      "\n"
     ]
    },
    {
     "name": "stderr",
     "output_type": "stream",
     "text": [
      "Epoch 456: 100%|██████████| 938/938 [00:21<00:00, 44.00batch/s, Train Loss=0.302, Train Acc=88.5]\n"
     ]
    },
    {
     "name": "stdout",
     "output_type": "stream",
     "text": [
      "Epoch 456\n",
      "Train Loss: 0.3021, Train Accuracy: 88.47%\n",
      "Test Loss: 0.2415, Test Accuracy: 90.95%\n",
      "\n"
     ]
    },
    {
     "name": "stderr",
     "output_type": "stream",
     "text": [
      "Epoch 457: 100%|██████████| 938/938 [00:21<00:00, 44.09batch/s, Train Loss=0.299, Train Acc=88.6]\n"
     ]
    },
    {
     "name": "stdout",
     "output_type": "stream",
     "text": [
      "Epoch 457\n",
      "Train Loss: 0.2995, Train Accuracy: 88.59%\n",
      "Test Loss: 0.2414, Test Accuracy: 91.26%\n",
      "\n"
     ]
    },
    {
     "name": "stderr",
     "output_type": "stream",
     "text": [
      "Epoch 458: 100%|██████████| 938/938 [00:21<00:00, 44.09batch/s, Train Loss=0.3, Train Acc=88.5]  \n"
     ]
    },
    {
     "name": "stdout",
     "output_type": "stream",
     "text": [
      "Epoch 458\n",
      "Train Loss: 0.2996, Train Accuracy: 88.51%\n",
      "Test Loss: 0.2368, Test Accuracy: 91.24%\n",
      "\n"
     ]
    },
    {
     "name": "stderr",
     "output_type": "stream",
     "text": [
      "Epoch 459: 100%|██████████| 938/938 [00:21<00:00, 43.97batch/s, Train Loss=0.3, Train Acc=88.5]  \n"
     ]
    },
    {
     "name": "stdout",
     "output_type": "stream",
     "text": [
      "Epoch 459\n",
      "Train Loss: 0.3000, Train Accuracy: 88.55%\n",
      "Test Loss: 0.2392, Test Accuracy: 91.23%\n",
      "\n"
     ]
    },
    {
     "name": "stderr",
     "output_type": "stream",
     "text": [
      "Epoch 460: 100%|██████████| 938/938 [00:21<00:00, 43.30batch/s, Train Loss=0.297, Train Acc=88.6]\n"
     ]
    },
    {
     "name": "stdout",
     "output_type": "stream",
     "text": [
      "Epoch 460\n",
      "Train Loss: 0.2971, Train Accuracy: 88.58%\n",
      "Test Loss: 0.2385, Test Accuracy: 91.18%\n",
      "\n"
     ]
    },
    {
     "name": "stderr",
     "output_type": "stream",
     "text": [
      "Epoch 461: 100%|██████████| 938/938 [00:21<00:00, 43.80batch/s, Train Loss=0.299, Train Acc=88.7]\n"
     ]
    },
    {
     "name": "stdout",
     "output_type": "stream",
     "text": [
      "Epoch 461\n",
      "Train Loss: 0.2990, Train Accuracy: 88.66%\n",
      "Test Loss: 0.2344, Test Accuracy: 91.37%\n",
      "\n"
     ]
    },
    {
     "name": "stderr",
     "output_type": "stream",
     "text": [
      "Epoch 462: 100%|██████████| 938/938 [00:21<00:00, 43.90batch/s, Train Loss=0.298, Train Acc=88.7]\n"
     ]
    },
    {
     "name": "stdout",
     "output_type": "stream",
     "text": [
      "Epoch 462\n",
      "Train Loss: 0.2978, Train Accuracy: 88.67%\n",
      "Test Loss: 0.2355, Test Accuracy: 91.28%\n",
      "\n"
     ]
    },
    {
     "name": "stderr",
     "output_type": "stream",
     "text": [
      "Epoch 463: 100%|██████████| 938/938 [00:21<00:00, 44.08batch/s, Train Loss=0.303, Train Acc=88.6]\n"
     ]
    },
    {
     "name": "stdout",
     "output_type": "stream",
     "text": [
      "Epoch 463\n",
      "Train Loss: 0.3033, Train Accuracy: 88.56%\n",
      "Test Loss: 0.2349, Test Accuracy: 91.21%\n",
      "\n"
     ]
    },
    {
     "name": "stderr",
     "output_type": "stream",
     "text": [
      "Epoch 464: 100%|██████████| 938/938 [00:21<00:00, 43.75batch/s, Train Loss=0.294, Train Acc=88.7]\n"
     ]
    },
    {
     "name": "stdout",
     "output_type": "stream",
     "text": [
      "Epoch 464\n",
      "Train Loss: 0.2944, Train Accuracy: 88.75%\n",
      "Test Loss: 0.2348, Test Accuracy: 91.39%\n",
      "\n"
     ]
    },
    {
     "name": "stderr",
     "output_type": "stream",
     "text": [
      "Epoch 465: 100%|██████████| 938/938 [00:21<00:00, 43.93batch/s, Train Loss=0.294, Train Acc=88.8]\n"
     ]
    },
    {
     "name": "stdout",
     "output_type": "stream",
     "text": [
      "Epoch 465\n",
      "Train Loss: 0.2944, Train Accuracy: 88.84%\n",
      "Test Loss: 0.2346, Test Accuracy: 91.36%\n",
      "\n"
     ]
    },
    {
     "name": "stderr",
     "output_type": "stream",
     "text": [
      "Epoch 466: 100%|██████████| 938/938 [00:21<00:00, 43.88batch/s, Train Loss=0.296, Train Acc=88.8]\n"
     ]
    },
    {
     "name": "stdout",
     "output_type": "stream",
     "text": [
      "Epoch 466\n",
      "Train Loss: 0.2964, Train Accuracy: 88.76%\n",
      "Test Loss: 0.2456, Test Accuracy: 91.09%\n",
      "\n"
     ]
    },
    {
     "name": "stderr",
     "output_type": "stream",
     "text": [
      "Epoch 467: 100%|██████████| 938/938 [00:21<00:00, 43.80batch/s, Train Loss=0.296, Train Acc=88.6]\n"
     ]
    },
    {
     "name": "stdout",
     "output_type": "stream",
     "text": [
      "Epoch 467\n",
      "Train Loss: 0.2960, Train Accuracy: 88.62%\n",
      "Test Loss: 0.2335, Test Accuracy: 91.39%\n",
      "\n"
     ]
    },
    {
     "name": "stderr",
     "output_type": "stream",
     "text": [
      "Epoch 468: 100%|██████████| 938/938 [00:21<00:00, 43.78batch/s, Train Loss=0.299, Train Acc=88.6]\n"
     ]
    },
    {
     "name": "stdout",
     "output_type": "stream",
     "text": [
      "Epoch 468\n",
      "Train Loss: 0.2989, Train Accuracy: 88.64%\n",
      "Test Loss: 0.2363, Test Accuracy: 91.35%\n",
      "\n"
     ]
    },
    {
     "name": "stderr",
     "output_type": "stream",
     "text": [
      "Epoch 469: 100%|██████████| 938/938 [00:21<00:00, 43.54batch/s, Train Loss=0.294, Train Acc=88.8]\n"
     ]
    },
    {
     "name": "stdout",
     "output_type": "stream",
     "text": [
      "Epoch 469\n",
      "Train Loss: 0.2943, Train Accuracy: 88.83%\n",
      "Test Loss: 0.2351, Test Accuracy: 91.23%\n",
      "\n"
     ]
    },
    {
     "name": "stderr",
     "output_type": "stream",
     "text": [
      "Epoch 470: 100%|██████████| 938/938 [00:21<00:00, 43.77batch/s, Train Loss=0.297, Train Acc=88.7]\n"
     ]
    },
    {
     "name": "stdout",
     "output_type": "stream",
     "text": [
      "Epoch 470\n",
      "Train Loss: 0.2970, Train Accuracy: 88.73%\n",
      "Test Loss: 0.2396, Test Accuracy: 91.03%\n",
      "\n"
     ]
    },
    {
     "name": "stderr",
     "output_type": "stream",
     "text": [
      "Epoch 471: 100%|██████████| 938/938 [00:21<00:00, 43.88batch/s, Train Loss=0.294, Train Acc=88.8]\n"
     ]
    },
    {
     "name": "stdout",
     "output_type": "stream",
     "text": [
      "Epoch 471\n",
      "Train Loss: 0.2942, Train Accuracy: 88.82%\n",
      "Test Loss: 0.2419, Test Accuracy: 91.04%\n",
      "\n"
     ]
    },
    {
     "name": "stderr",
     "output_type": "stream",
     "text": [
      "Epoch 472: 100%|██████████| 938/938 [00:21<00:00, 43.71batch/s, Train Loss=0.293, Train Acc=88.8]\n"
     ]
    },
    {
     "name": "stdout",
     "output_type": "stream",
     "text": [
      "Epoch 472\n",
      "Train Loss: 0.2932, Train Accuracy: 88.76%\n",
      "Test Loss: 0.2363, Test Accuracy: 91.52%\n",
      "\n"
     ]
    },
    {
     "name": "stderr",
     "output_type": "stream",
     "text": [
      "Epoch 473: 100%|██████████| 938/938 [00:21<00:00, 43.86batch/s, Train Loss=0.297, Train Acc=88.6]\n"
     ]
    },
    {
     "name": "stdout",
     "output_type": "stream",
     "text": [
      "Epoch 473\n",
      "Train Loss: 0.2971, Train Accuracy: 88.55%\n",
      "Test Loss: 0.2346, Test Accuracy: 91.36%\n",
      "\n"
     ]
    },
    {
     "name": "stderr",
     "output_type": "stream",
     "text": [
      "Epoch 474: 100%|██████████| 938/938 [00:21<00:00, 43.77batch/s, Train Loss=0.294, Train Acc=88.8]\n"
     ]
    },
    {
     "name": "stdout",
     "output_type": "stream",
     "text": [
      "Epoch 474\n",
      "Train Loss: 0.2943, Train Accuracy: 88.78%\n",
      "Test Loss: 0.2322, Test Accuracy: 91.49%\n",
      "\n"
     ]
    },
    {
     "name": "stderr",
     "output_type": "stream",
     "text": [
      "Epoch 475: 100%|██████████| 938/938 [00:21<00:00, 43.83batch/s, Train Loss=0.293, Train Acc=88.8]\n"
     ]
    },
    {
     "name": "stdout",
     "output_type": "stream",
     "text": [
      "Epoch 475\n",
      "Train Loss: 0.2931, Train Accuracy: 88.84%\n",
      "Test Loss: 0.2372, Test Accuracy: 91.21%\n",
      "\n"
     ]
    },
    {
     "name": "stderr",
     "output_type": "stream",
     "text": [
      "Epoch 476: 100%|██████████| 938/938 [00:21<00:00, 43.95batch/s, Train Loss=0.298, Train Acc=88.5]\n"
     ]
    },
    {
     "name": "stdout",
     "output_type": "stream",
     "text": [
      "Epoch 476\n",
      "Train Loss: 0.2980, Train Accuracy: 88.51%\n",
      "Test Loss: 0.2351, Test Accuracy: 91.30%\n",
      "\n"
     ]
    },
    {
     "name": "stderr",
     "output_type": "stream",
     "text": [
      "Epoch 477: 100%|██████████| 938/938 [00:21<00:00, 43.95batch/s, Train Loss=0.295, Train Acc=88.8]\n"
     ]
    },
    {
     "name": "stdout",
     "output_type": "stream",
     "text": [
      "Epoch 477\n",
      "Train Loss: 0.2948, Train Accuracy: 88.84%\n",
      "Test Loss: 0.2372, Test Accuracy: 91.42%\n",
      "\n"
     ]
    },
    {
     "name": "stderr",
     "output_type": "stream",
     "text": [
      "Epoch 478: 100%|██████████| 938/938 [00:21<00:00, 44.09batch/s, Train Loss=0.294, Train Acc=88.8]\n"
     ]
    },
    {
     "name": "stdout",
     "output_type": "stream",
     "text": [
      "Epoch 478\n",
      "Train Loss: 0.2945, Train Accuracy: 88.84%\n",
      "Test Loss: 0.2388, Test Accuracy: 91.27%\n",
      "\n"
     ]
    },
    {
     "name": "stderr",
     "output_type": "stream",
     "text": [
      "Epoch 479: 100%|██████████| 938/938 [00:21<00:00, 44.16batch/s, Train Loss=0.293, Train Acc=88.8]\n"
     ]
    },
    {
     "name": "stdout",
     "output_type": "stream",
     "text": [
      "Epoch 479\n",
      "Train Loss: 0.2925, Train Accuracy: 88.76%\n",
      "Test Loss: 0.2333, Test Accuracy: 91.47%\n",
      "\n"
     ]
    },
    {
     "name": "stderr",
     "output_type": "stream",
     "text": [
      "Epoch 480: 100%|██████████| 938/938 [00:21<00:00, 43.92batch/s, Train Loss=0.294, Train Acc=88.8]\n"
     ]
    },
    {
     "name": "stdout",
     "output_type": "stream",
     "text": [
      "Epoch 480\n",
      "Train Loss: 0.2943, Train Accuracy: 88.78%\n",
      "Test Loss: 0.2309, Test Accuracy: 91.61%\n",
      "\n"
     ]
    },
    {
     "name": "stderr",
     "output_type": "stream",
     "text": [
      "Epoch 481: 100%|██████████| 938/938 [00:21<00:00, 43.89batch/s, Train Loss=0.294, Train Acc=88.9]\n"
     ]
    },
    {
     "name": "stdout",
     "output_type": "stream",
     "text": [
      "Epoch 481\n",
      "Train Loss: 0.2940, Train Accuracy: 88.85%\n",
      "Test Loss: 0.2313, Test Accuracy: 91.67%\n",
      "\n"
     ]
    },
    {
     "name": "stderr",
     "output_type": "stream",
     "text": [
      "Epoch 482: 100%|██████████| 938/938 [00:21<00:00, 43.67batch/s, Train Loss=0.289, Train Acc=88.8]\n"
     ]
    },
    {
     "name": "stdout",
     "output_type": "stream",
     "text": [
      "Epoch 482\n",
      "Train Loss: 0.2887, Train Accuracy: 88.85%\n",
      "Test Loss: 0.2337, Test Accuracy: 91.63%\n",
      "\n"
     ]
    },
    {
     "name": "stderr",
     "output_type": "stream",
     "text": [
      "Epoch 483: 100%|██████████| 938/938 [00:21<00:00, 43.83batch/s, Train Loss=0.293, Train Acc=88.9]\n"
     ]
    },
    {
     "name": "stdout",
     "output_type": "stream",
     "text": [
      "Epoch 483\n",
      "Train Loss: 0.2933, Train Accuracy: 88.90%\n",
      "Test Loss: 0.2399, Test Accuracy: 91.15%\n",
      "\n"
     ]
    },
    {
     "name": "stderr",
     "output_type": "stream",
     "text": [
      "Epoch 484: 100%|██████████| 938/938 [00:21<00:00, 43.65batch/s, Train Loss=0.29, Train Acc=88.9] \n"
     ]
    },
    {
     "name": "stdout",
     "output_type": "stream",
     "text": [
      "Epoch 484\n",
      "Train Loss: 0.2898, Train Accuracy: 88.91%\n",
      "Test Loss: 0.2347, Test Accuracy: 91.49%\n",
      "\n"
     ]
    },
    {
     "name": "stderr",
     "output_type": "stream",
     "text": [
      "Epoch 485: 100%|██████████| 938/938 [00:21<00:00, 43.86batch/s, Train Loss=0.291, Train Acc=88.8]\n"
     ]
    },
    {
     "name": "stdout",
     "output_type": "stream",
     "text": [
      "Epoch 485\n",
      "Train Loss: 0.2911, Train Accuracy: 88.83%\n",
      "Test Loss: 0.2362, Test Accuracy: 91.36%\n",
      "\n"
     ]
    },
    {
     "name": "stderr",
     "output_type": "stream",
     "text": [
      "Epoch 486: 100%|██████████| 938/938 [00:21<00:00, 43.74batch/s, Train Loss=0.29, Train Acc=89]   \n"
     ]
    },
    {
     "name": "stdout",
     "output_type": "stream",
     "text": [
      "Epoch 486\n",
      "Train Loss: 0.2896, Train Accuracy: 88.97%\n",
      "Test Loss: 0.2386, Test Accuracy: 91.16%\n",
      "\n"
     ]
    },
    {
     "name": "stderr",
     "output_type": "stream",
     "text": [
      "Epoch 487: 100%|██████████| 938/938 [00:21<00:00, 43.88batch/s, Train Loss=0.288, Train Acc=88.9]\n"
     ]
    },
    {
     "name": "stdout",
     "output_type": "stream",
     "text": [
      "Epoch 487\n",
      "Train Loss: 0.2878, Train Accuracy: 88.92%\n",
      "Test Loss: 0.2382, Test Accuracy: 91.44%\n",
      "\n"
     ]
    },
    {
     "name": "stderr",
     "output_type": "stream",
     "text": [
      "Epoch 488: 100%|██████████| 938/938 [00:21<00:00, 43.65batch/s, Train Loss=0.291, Train Acc=89]  \n"
     ]
    },
    {
     "name": "stdout",
     "output_type": "stream",
     "text": [
      "Epoch 488\n",
      "Train Loss: 0.2912, Train Accuracy: 88.99%\n",
      "Test Loss: 0.2319, Test Accuracy: 91.26%\n",
      "\n"
     ]
    },
    {
     "name": "stderr",
     "output_type": "stream",
     "text": [
      "Epoch 489: 100%|██████████| 938/938 [00:21<00:00, 43.68batch/s, Train Loss=0.291, Train Acc=89.1]\n"
     ]
    },
    {
     "name": "stdout",
     "output_type": "stream",
     "text": [
      "Epoch 489\n",
      "Train Loss: 0.2911, Train Accuracy: 89.08%\n",
      "Test Loss: 0.2303, Test Accuracy: 91.66%\n",
      "\n"
     ]
    },
    {
     "name": "stderr",
     "output_type": "stream",
     "text": [
      "Epoch 490: 100%|██████████| 938/938 [00:21<00:00, 43.90batch/s, Train Loss=0.291, Train Acc=88.9]\n"
     ]
    },
    {
     "name": "stdout",
     "output_type": "stream",
     "text": [
      "Epoch 490\n",
      "Train Loss: 0.2913, Train Accuracy: 88.85%\n",
      "Test Loss: 0.2347, Test Accuracy: 91.55%\n",
      "\n"
     ]
    },
    {
     "name": "stderr",
     "output_type": "stream",
     "text": [
      "Epoch 491: 100%|██████████| 938/938 [00:21<00:00, 43.88batch/s, Train Loss=0.287, Train Acc=89]  \n"
     ]
    },
    {
     "name": "stdout",
     "output_type": "stream",
     "text": [
      "Epoch 491\n",
      "Train Loss: 0.2868, Train Accuracy: 89.03%\n",
      "Test Loss: 0.2365, Test Accuracy: 91.28%\n",
      "\n"
     ]
    },
    {
     "name": "stderr",
     "output_type": "stream",
     "text": [
      "Epoch 492: 100%|██████████| 938/938 [00:21<00:00, 43.63batch/s, Train Loss=0.289, Train Acc=88.9]\n"
     ]
    },
    {
     "name": "stdout",
     "output_type": "stream",
     "text": [
      "Epoch 492\n",
      "Train Loss: 0.2891, Train Accuracy: 88.89%\n",
      "Test Loss: 0.2342, Test Accuracy: 91.22%\n",
      "\n"
     ]
    },
    {
     "name": "stderr",
     "output_type": "stream",
     "text": [
      "Epoch 493: 100%|██████████| 938/938 [00:21<00:00, 43.74batch/s, Train Loss=0.29, Train Acc=88.9] \n"
     ]
    },
    {
     "name": "stdout",
     "output_type": "stream",
     "text": [
      "Epoch 493\n",
      "Train Loss: 0.2902, Train Accuracy: 88.92%\n",
      "Test Loss: 0.2380, Test Accuracy: 91.18%\n",
      "\n"
     ]
    },
    {
     "name": "stderr",
     "output_type": "stream",
     "text": [
      "Epoch 494: 100%|██████████| 938/938 [00:21<00:00, 43.97batch/s, Train Loss=0.29, Train Acc=88.9] \n"
     ]
    },
    {
     "name": "stdout",
     "output_type": "stream",
     "text": [
      "Epoch 494\n",
      "Train Loss: 0.2904, Train Accuracy: 88.88%\n",
      "Test Loss: 0.2376, Test Accuracy: 91.27%\n",
      "\n"
     ]
    },
    {
     "name": "stderr",
     "output_type": "stream",
     "text": [
      "Epoch 495: 100%|██████████| 938/938 [00:21<00:00, 43.99batch/s, Train Loss=0.291, Train Acc=88.9]\n"
     ]
    },
    {
     "name": "stdout",
     "output_type": "stream",
     "text": [
      "Epoch 495\n",
      "Train Loss: 0.2912, Train Accuracy: 88.92%\n",
      "Test Loss: 0.2288, Test Accuracy: 91.70%\n",
      "\n"
     ]
    },
    {
     "name": "stderr",
     "output_type": "stream",
     "text": [
      "Epoch 496: 100%|██████████| 938/938 [00:21<00:00, 44.01batch/s, Train Loss=0.287, Train Acc=89.1]\n"
     ]
    },
    {
     "name": "stdout",
     "output_type": "stream",
     "text": [
      "Epoch 496\n",
      "Train Loss: 0.2870, Train Accuracy: 89.11%\n",
      "Test Loss: 0.2293, Test Accuracy: 91.56%\n",
      "\n"
     ]
    },
    {
     "name": "stderr",
     "output_type": "stream",
     "text": [
      "Epoch 497: 100%|██████████| 938/938 [00:21<00:00, 44.00batch/s, Train Loss=0.289, Train Acc=89]  \n"
     ]
    },
    {
     "name": "stdout",
     "output_type": "stream",
     "text": [
      "Epoch 497\n",
      "Train Loss: 0.2894, Train Accuracy: 88.99%\n",
      "Test Loss: 0.2348, Test Accuracy: 91.39%\n",
      "\n"
     ]
    },
    {
     "name": "stderr",
     "output_type": "stream",
     "text": [
      "Epoch 498: 100%|██████████| 938/938 [00:21<00:00, 44.14batch/s, Train Loss=0.289, Train Acc=89.1]\n"
     ]
    },
    {
     "name": "stdout",
     "output_type": "stream",
     "text": [
      "Epoch 498\n",
      "Train Loss: 0.2888, Train Accuracy: 89.06%\n",
      "Test Loss: 0.2420, Test Accuracy: 91.17%\n",
      "\n"
     ]
    },
    {
     "name": "stderr",
     "output_type": "stream",
     "text": [
      "Epoch 499: 100%|██████████| 938/938 [00:21<00:00, 43.77batch/s, Train Loss=0.288, Train Acc=89]  \n"
     ]
    },
    {
     "name": "stdout",
     "output_type": "stream",
     "text": [
      "Epoch 499\n",
      "Train Loss: 0.2882, Train Accuracy: 88.97%\n",
      "Test Loss: 0.2325, Test Accuracy: 91.29%\n",
      "\n"
     ]
    },
    {
     "name": "stderr",
     "output_type": "stream",
     "text": [
      "Epoch 500: 100%|██████████| 938/938 [00:21<00:00, 43.81batch/s, Train Loss=0.293, Train Acc=88.8]\n"
     ]
    },
    {
     "name": "stdout",
     "output_type": "stream",
     "text": [
      "Epoch 500\n",
      "Train Loss: 0.2925, Train Accuracy: 88.83%\n",
      "Test Loss: 0.2348, Test Accuracy: 91.31%\n",
      "\n"
     ]
    },
    {
     "name": "stderr",
     "output_type": "stream",
     "text": [
      "Epoch 501: 100%|██████████| 938/938 [00:21<00:00, 43.77batch/s, Train Loss=0.288, Train Acc=89.1]\n"
     ]
    },
    {
     "name": "stdout",
     "output_type": "stream",
     "text": [
      "Epoch 501\n",
      "Train Loss: 0.2881, Train Accuracy: 89.08%\n",
      "Test Loss: 0.2373, Test Accuracy: 91.23%\n",
      "\n"
     ]
    },
    {
     "name": "stderr",
     "output_type": "stream",
     "text": [
      "Epoch 502: 100%|██████████| 938/938 [00:21<00:00, 43.62batch/s, Train Loss=0.288, Train Acc=89.2]\n"
     ]
    },
    {
     "name": "stdout",
     "output_type": "stream",
     "text": [
      "Epoch 502\n",
      "Train Loss: 0.2879, Train Accuracy: 89.16%\n",
      "Test Loss: 0.2388, Test Accuracy: 91.13%\n",
      "\n"
     ]
    },
    {
     "name": "stderr",
     "output_type": "stream",
     "text": [
      "Epoch 503: 100%|██████████| 938/938 [00:21<00:00, 43.97batch/s, Train Loss=0.288, Train Acc=89.1]\n"
     ]
    },
    {
     "name": "stdout",
     "output_type": "stream",
     "text": [
      "Epoch 503\n",
      "Train Loss: 0.2883, Train Accuracy: 89.13%\n",
      "Test Loss: 0.2362, Test Accuracy: 91.29%\n",
      "\n"
     ]
    },
    {
     "name": "stderr",
     "output_type": "stream",
     "text": [
      "Epoch 504: 100%|██████████| 938/938 [00:21<00:00, 43.95batch/s, Train Loss=0.289, Train Acc=89.1]\n"
     ]
    },
    {
     "name": "stdout",
     "output_type": "stream",
     "text": [
      "Epoch 504\n",
      "Train Loss: 0.2888, Train Accuracy: 89.06%\n",
      "Test Loss: 0.2339, Test Accuracy: 91.26%\n",
      "\n"
     ]
    },
    {
     "name": "stderr",
     "output_type": "stream",
     "text": [
      "Epoch 505: 100%|██████████| 938/938 [00:21<00:00, 43.82batch/s, Train Loss=0.288, Train Acc=89]  \n"
     ]
    },
    {
     "name": "stdout",
     "output_type": "stream",
     "text": [
      "Epoch 505\n",
      "Train Loss: 0.2881, Train Accuracy: 89.00%\n",
      "Test Loss: 0.2348, Test Accuracy: 91.46%\n",
      "\n"
     ]
    },
    {
     "name": "stderr",
     "output_type": "stream",
     "text": [
      "Epoch 506: 100%|██████████| 938/938 [00:21<00:00, 43.99batch/s, Train Loss=0.288, Train Acc=89.1]\n"
     ]
    },
    {
     "name": "stdout",
     "output_type": "stream",
     "text": [
      "Epoch 506\n",
      "Train Loss: 0.2878, Train Accuracy: 89.08%\n",
      "Test Loss: 0.2363, Test Accuracy: 91.37%\n",
      "\n"
     ]
    },
    {
     "name": "stderr",
     "output_type": "stream",
     "text": [
      "Epoch 507: 100%|██████████| 938/938 [00:21<00:00, 43.94batch/s, Train Loss=0.288, Train Acc=89.1]\n"
     ]
    },
    {
     "name": "stdout",
     "output_type": "stream",
     "text": [
      "Epoch 507\n",
      "Train Loss: 0.2878, Train Accuracy: 89.08%\n",
      "Test Loss: 0.2319, Test Accuracy: 91.25%\n",
      "\n"
     ]
    },
    {
     "name": "stderr",
     "output_type": "stream",
     "text": [
      "Epoch 508: 100%|██████████| 938/938 [00:21<00:00, 43.89batch/s, Train Loss=0.289, Train Acc=89.1]\n"
     ]
    },
    {
     "name": "stdout",
     "output_type": "stream",
     "text": [
      "Epoch 508\n",
      "Train Loss: 0.2885, Train Accuracy: 89.06%\n",
      "Test Loss: 0.2345, Test Accuracy: 91.53%\n",
      "\n"
     ]
    },
    {
     "name": "stderr",
     "output_type": "stream",
     "text": [
      "Epoch 509: 100%|██████████| 938/938 [00:21<00:00, 43.98batch/s, Train Loss=0.287, Train Acc=89.1]\n"
     ]
    },
    {
     "name": "stdout",
     "output_type": "stream",
     "text": [
      "Epoch 509\n",
      "Train Loss: 0.2870, Train Accuracy: 89.08%\n",
      "Test Loss: 0.2356, Test Accuracy: 91.28%\n",
      "\n"
     ]
    },
    {
     "name": "stderr",
     "output_type": "stream",
     "text": [
      "Epoch 510: 100%|██████████| 938/938 [00:21<00:00, 43.89batch/s, Train Loss=0.286, Train Acc=89]  \n"
     ]
    },
    {
     "name": "stdout",
     "output_type": "stream",
     "text": [
      "Epoch 510\n",
      "Train Loss: 0.2858, Train Accuracy: 89.02%\n",
      "Test Loss: 0.2382, Test Accuracy: 91.14%\n",
      "\n"
     ]
    },
    {
     "name": "stderr",
     "output_type": "stream",
     "text": [
      "Epoch 511: 100%|██████████| 938/938 [00:21<00:00, 44.15batch/s, Train Loss=0.287, Train Acc=89]  \n"
     ]
    },
    {
     "name": "stdout",
     "output_type": "stream",
     "text": [
      "Epoch 511\n",
      "Train Loss: 0.2873, Train Accuracy: 88.97%\n",
      "Test Loss: 0.2363, Test Accuracy: 91.18%\n",
      "\n"
     ]
    },
    {
     "name": "stderr",
     "output_type": "stream",
     "text": [
      "Epoch 512: 100%|██████████| 938/938 [00:21<00:00, 43.94batch/s, Train Loss=0.287, Train Acc=89]  \n"
     ]
    },
    {
     "name": "stdout",
     "output_type": "stream",
     "text": [
      "Epoch 512\n",
      "Train Loss: 0.2873, Train Accuracy: 88.97%\n",
      "Test Loss: 0.2320, Test Accuracy: 91.60%\n",
      "\n"
     ]
    },
    {
     "name": "stderr",
     "output_type": "stream",
     "text": [
      "Epoch 513: 100%|██████████| 938/938 [00:21<00:00, 44.14batch/s, Train Loss=0.285, Train Acc=89]  \n"
     ]
    },
    {
     "name": "stdout",
     "output_type": "stream",
     "text": [
      "Epoch 513\n",
      "Train Loss: 0.2853, Train Accuracy: 89.05%\n",
      "Test Loss: 0.2345, Test Accuracy: 91.61%\n",
      "\n"
     ]
    },
    {
     "name": "stderr",
     "output_type": "stream",
     "text": [
      "Epoch 514: 100%|██████████| 938/938 [00:21<00:00, 43.66batch/s, Train Loss=0.286, Train Acc=89.1]\n"
     ]
    },
    {
     "name": "stdout",
     "output_type": "stream",
     "text": [
      "Epoch 514\n",
      "Train Loss: 0.2857, Train Accuracy: 89.10%\n",
      "Test Loss: 0.2339, Test Accuracy: 91.39%\n",
      "\n"
     ]
    },
    {
     "name": "stderr",
     "output_type": "stream",
     "text": [
      "Epoch 515: 100%|██████████| 938/938 [00:21<00:00, 44.02batch/s, Train Loss=0.284, Train Acc=89.1]\n"
     ]
    },
    {
     "name": "stdout",
     "output_type": "stream",
     "text": [
      "Epoch 515\n",
      "Train Loss: 0.2839, Train Accuracy: 89.13%\n",
      "Test Loss: 0.2296, Test Accuracy: 91.60%\n",
      "\n"
     ]
    },
    {
     "name": "stderr",
     "output_type": "stream",
     "text": [
      "Epoch 516: 100%|██████████| 938/938 [00:21<00:00, 43.93batch/s, Train Loss=0.284, Train Acc=89.1]\n"
     ]
    },
    {
     "name": "stdout",
     "output_type": "stream",
     "text": [
      "Epoch 516\n",
      "Train Loss: 0.2837, Train Accuracy: 89.14%\n",
      "Test Loss: 0.2317, Test Accuracy: 91.78%\n",
      "\n"
     ]
    },
    {
     "name": "stderr",
     "output_type": "stream",
     "text": [
      "Epoch 517: 100%|██████████| 938/938 [00:21<00:00, 44.21batch/s, Train Loss=0.284, Train Acc=89.2]\n"
     ]
    },
    {
     "name": "stdout",
     "output_type": "stream",
     "text": [
      "Epoch 517\n",
      "Train Loss: 0.2843, Train Accuracy: 89.17%\n",
      "Test Loss: 0.2332, Test Accuracy: 91.38%\n",
      "\n"
     ]
    },
    {
     "name": "stderr",
     "output_type": "stream",
     "text": [
      "Epoch 518: 100%|██████████| 938/938 [00:21<00:00, 43.93batch/s, Train Loss=0.285, Train Acc=89.1]\n"
     ]
    },
    {
     "name": "stdout",
     "output_type": "stream",
     "text": [
      "Epoch 518\n",
      "Train Loss: 0.2851, Train Accuracy: 89.14%\n",
      "Test Loss: 0.2275, Test Accuracy: 91.74%\n",
      "\n"
     ]
    },
    {
     "name": "stderr",
     "output_type": "stream",
     "text": [
      "Epoch 519: 100%|██████████| 938/938 [00:21<00:00, 44.00batch/s, Train Loss=0.286, Train Acc=89.1]\n"
     ]
    },
    {
     "name": "stdout",
     "output_type": "stream",
     "text": [
      "Epoch 519\n",
      "Train Loss: 0.2860, Train Accuracy: 89.09%\n",
      "Test Loss: 0.2274, Test Accuracy: 91.71%\n",
      "\n"
     ]
    },
    {
     "name": "stderr",
     "output_type": "stream",
     "text": [
      "Epoch 520: 100%|██████████| 938/938 [00:21<00:00, 44.05batch/s, Train Loss=0.284, Train Acc=89.2]\n"
     ]
    },
    {
     "name": "stdout",
     "output_type": "stream",
     "text": [
      "Epoch 520\n",
      "Train Loss: 0.2843, Train Accuracy: 89.17%\n",
      "Test Loss: 0.2298, Test Accuracy: 91.42%\n",
      "\n"
     ]
    },
    {
     "name": "stderr",
     "output_type": "stream",
     "text": [
      "Epoch 521: 100%|██████████| 938/938 [00:21<00:00, 43.89batch/s, Train Loss=0.284, Train Acc=89.1]\n"
     ]
    },
    {
     "name": "stdout",
     "output_type": "stream",
     "text": [
      "Epoch 521\n",
      "Train Loss: 0.2839, Train Accuracy: 89.09%\n",
      "Test Loss: 0.2330, Test Accuracy: 91.43%\n",
      "\n"
     ]
    },
    {
     "name": "stderr",
     "output_type": "stream",
     "text": [
      "Epoch 522: 100%|██████████| 938/938 [00:21<00:00, 44.29batch/s, Train Loss=0.285, Train Acc=89.3]\n"
     ]
    },
    {
     "name": "stdout",
     "output_type": "stream",
     "text": [
      "Epoch 522\n",
      "Train Loss: 0.2849, Train Accuracy: 89.28%\n",
      "Test Loss: 0.2260, Test Accuracy: 91.89%\n",
      "\n"
     ]
    },
    {
     "name": "stderr",
     "output_type": "stream",
     "text": [
      "Epoch 523: 100%|██████████| 938/938 [00:21<00:00, 43.90batch/s, Train Loss=0.284, Train Acc=89.1]\n"
     ]
    },
    {
     "name": "stdout",
     "output_type": "stream",
     "text": [
      "Epoch 523\n",
      "Train Loss: 0.2839, Train Accuracy: 89.14%\n",
      "Test Loss: 0.2281, Test Accuracy: 91.73%\n",
      "\n"
     ]
    },
    {
     "name": "stderr",
     "output_type": "stream",
     "text": [
      "Epoch 524: 100%|██████████| 938/938 [00:21<00:00, 44.31batch/s, Train Loss=0.284, Train Acc=89.2]\n"
     ]
    },
    {
     "name": "stdout",
     "output_type": "stream",
     "text": [
      "Epoch 524\n",
      "Train Loss: 0.2841, Train Accuracy: 89.19%\n",
      "Test Loss: 0.2365, Test Accuracy: 91.27%\n",
      "\n"
     ]
    },
    {
     "name": "stderr",
     "output_type": "stream",
     "text": [
      "Epoch 525: 100%|██████████| 938/938 [00:21<00:00, 43.97batch/s, Train Loss=0.283, Train Acc=89.3]\n"
     ]
    },
    {
     "name": "stdout",
     "output_type": "stream",
     "text": [
      "Epoch 525\n",
      "Train Loss: 0.2826, Train Accuracy: 89.27%\n",
      "Test Loss: 0.2298, Test Accuracy: 91.59%\n",
      "\n"
     ]
    },
    {
     "name": "stderr",
     "output_type": "stream",
     "text": [
      "Epoch 526: 100%|██████████| 938/938 [00:21<00:00, 43.71batch/s, Train Loss=0.283, Train Acc=89.1]\n"
     ]
    },
    {
     "name": "stdout",
     "output_type": "stream",
     "text": [
      "Epoch 526\n",
      "Train Loss: 0.2834, Train Accuracy: 89.10%\n",
      "Test Loss: 0.2291, Test Accuracy: 91.77%\n",
      "\n"
     ]
    },
    {
     "name": "stderr",
     "output_type": "stream",
     "text": [
      "Epoch 527: 100%|██████████| 938/938 [00:21<00:00, 43.98batch/s, Train Loss=0.284, Train Acc=89.2]\n"
     ]
    },
    {
     "name": "stdout",
     "output_type": "stream",
     "text": [
      "Epoch 527\n",
      "Train Loss: 0.2838, Train Accuracy: 89.21%\n",
      "Test Loss: 0.2396, Test Accuracy: 91.37%\n",
      "\n"
     ]
    },
    {
     "name": "stderr",
     "output_type": "stream",
     "text": [
      "Epoch 528: 100%|██████████| 938/938 [00:21<00:00, 43.94batch/s, Train Loss=0.283, Train Acc=89.2]\n"
     ]
    },
    {
     "name": "stdout",
     "output_type": "stream",
     "text": [
      "Epoch 528\n",
      "Train Loss: 0.2827, Train Accuracy: 89.22%\n",
      "Test Loss: 0.2336, Test Accuracy: 91.40%\n",
      "\n"
     ]
    },
    {
     "name": "stderr",
     "output_type": "stream",
     "text": [
      "Epoch 529: 100%|██████████| 938/938 [00:21<00:00, 43.87batch/s, Train Loss=0.282, Train Acc=89.3]\n"
     ]
    },
    {
     "name": "stdout",
     "output_type": "stream",
     "text": [
      "Epoch 529\n",
      "Train Loss: 0.2817, Train Accuracy: 89.30%\n",
      "Test Loss: 0.2323, Test Accuracy: 91.66%\n",
      "\n"
     ]
    },
    {
     "name": "stderr",
     "output_type": "stream",
     "text": [
      "Epoch 530: 100%|██████████| 938/938 [00:21<00:00, 43.93batch/s, Train Loss=0.277, Train Acc=89.4]\n"
     ]
    },
    {
     "name": "stdout",
     "output_type": "stream",
     "text": [
      "Epoch 530\n",
      "Train Loss: 0.2767, Train Accuracy: 89.38%\n",
      "Test Loss: 0.2305, Test Accuracy: 91.52%\n",
      "\n"
     ]
    },
    {
     "name": "stderr",
     "output_type": "stream",
     "text": [
      "Epoch 531: 100%|██████████| 938/938 [00:21<00:00, 43.97batch/s, Train Loss=0.283, Train Acc=89.3]\n"
     ]
    },
    {
     "name": "stdout",
     "output_type": "stream",
     "text": [
      "Epoch 531\n",
      "Train Loss: 0.2827, Train Accuracy: 89.26%\n",
      "Test Loss: 0.2303, Test Accuracy: 91.39%\n",
      "\n"
     ]
    },
    {
     "name": "stderr",
     "output_type": "stream",
     "text": [
      "Epoch 532: 100%|██████████| 938/938 [00:21<00:00, 43.93batch/s, Train Loss=0.283, Train Acc=89]  \n"
     ]
    },
    {
     "name": "stdout",
     "output_type": "stream",
     "text": [
      "Epoch 532\n",
      "Train Loss: 0.2828, Train Accuracy: 89.03%\n",
      "Test Loss: 0.2254, Test Accuracy: 91.66%\n",
      "\n"
     ]
    },
    {
     "name": "stderr",
     "output_type": "stream",
     "text": [
      "Epoch 533: 100%|██████████| 938/938 [00:21<00:00, 44.12batch/s, Train Loss=0.281, Train Acc=89.2]\n"
     ]
    },
    {
     "name": "stdout",
     "output_type": "stream",
     "text": [
      "Epoch 533\n",
      "Train Loss: 0.2811, Train Accuracy: 89.24%\n",
      "Test Loss: 0.2292, Test Accuracy: 91.60%\n",
      "\n"
     ]
    },
    {
     "name": "stderr",
     "output_type": "stream",
     "text": [
      "Epoch 534: 100%|██████████| 938/938 [00:21<00:00, 43.92batch/s, Train Loss=0.279, Train Acc=89.4]\n"
     ]
    },
    {
     "name": "stdout",
     "output_type": "stream",
     "text": [
      "Epoch 534\n",
      "Train Loss: 0.2785, Train Accuracy: 89.39%\n",
      "Test Loss: 0.2278, Test Accuracy: 91.82%\n",
      "\n"
     ]
    },
    {
     "name": "stderr",
     "output_type": "stream",
     "text": [
      "Epoch 535: 100%|██████████| 938/938 [00:21<00:00, 43.80batch/s, Train Loss=0.282, Train Acc=89.2]\n"
     ]
    },
    {
     "name": "stdout",
     "output_type": "stream",
     "text": [
      "Epoch 535\n",
      "Train Loss: 0.2824, Train Accuracy: 89.23%\n",
      "Test Loss: 0.2289, Test Accuracy: 91.75%\n",
      "\n"
     ]
    },
    {
     "name": "stderr",
     "output_type": "stream",
     "text": [
      "Epoch 536: 100%|██████████| 938/938 [00:21<00:00, 43.95batch/s, Train Loss=0.28, Train Acc=89.3] \n"
     ]
    },
    {
     "name": "stdout",
     "output_type": "stream",
     "text": [
      "Epoch 536\n",
      "Train Loss: 0.2800, Train Accuracy: 89.33%\n",
      "Test Loss: 0.2270, Test Accuracy: 91.77%\n",
      "\n"
     ]
    },
    {
     "name": "stderr",
     "output_type": "stream",
     "text": [
      "Epoch 537: 100%|██████████| 938/938 [00:21<00:00, 43.77batch/s, Train Loss=0.283, Train Acc=89.3]\n"
     ]
    },
    {
     "name": "stdout",
     "output_type": "stream",
     "text": [
      "Epoch 537\n",
      "Train Loss: 0.2832, Train Accuracy: 89.30%\n",
      "Test Loss: 0.2263, Test Accuracy: 91.70%\n",
      "\n"
     ]
    },
    {
     "name": "stderr",
     "output_type": "stream",
     "text": [
      "Epoch 538: 100%|██████████| 938/938 [00:21<00:00, 43.95batch/s, Train Loss=0.278, Train Acc=89.5]\n"
     ]
    },
    {
     "name": "stdout",
     "output_type": "stream",
     "text": [
      "Epoch 538\n",
      "Train Loss: 0.2783, Train Accuracy: 89.52%\n",
      "Test Loss: 0.2291, Test Accuracy: 91.65%\n",
      "\n"
     ]
    },
    {
     "name": "stderr",
     "output_type": "stream",
     "text": [
      "Epoch 539: 100%|██████████| 938/938 [00:21<00:00, 43.79batch/s, Train Loss=0.282, Train Acc=89.3]\n"
     ]
    },
    {
     "name": "stdout",
     "output_type": "stream",
     "text": [
      "Epoch 539\n",
      "Train Loss: 0.2819, Train Accuracy: 89.27%\n",
      "Test Loss: 0.2313, Test Accuracy: 91.55%\n",
      "\n"
     ]
    },
    {
     "name": "stderr",
     "output_type": "stream",
     "text": [
      "Epoch 540: 100%|██████████| 938/938 [00:21<00:00, 43.77batch/s, Train Loss=0.28, Train Acc=89.3] \n"
     ]
    },
    {
     "name": "stdout",
     "output_type": "stream",
     "text": [
      "Epoch 540\n",
      "Train Loss: 0.2801, Train Accuracy: 89.35%\n",
      "Test Loss: 0.2342, Test Accuracy: 91.44%\n",
      "\n"
     ]
    },
    {
     "name": "stderr",
     "output_type": "stream",
     "text": [
      "Epoch 541: 100%|██████████| 938/938 [00:21<00:00, 43.94batch/s, Train Loss=0.281, Train Acc=89.2]\n"
     ]
    },
    {
     "name": "stdout",
     "output_type": "stream",
     "text": [
      "Epoch 541\n",
      "Train Loss: 0.2815, Train Accuracy: 89.22%\n",
      "Test Loss: 0.2316, Test Accuracy: 91.56%\n",
      "\n"
     ]
    },
    {
     "name": "stderr",
     "output_type": "stream",
     "text": [
      "Epoch 542: 100%|██████████| 938/938 [00:21<00:00, 43.72batch/s, Train Loss=0.281, Train Acc=89.3]\n"
     ]
    },
    {
     "name": "stdout",
     "output_type": "stream",
     "text": [
      "Epoch 542\n",
      "Train Loss: 0.2814, Train Accuracy: 89.31%\n",
      "Test Loss: 0.2315, Test Accuracy: 91.48%\n",
      "\n"
     ]
    },
    {
     "name": "stderr",
     "output_type": "stream",
     "text": [
      "Epoch 543: 100%|██████████| 938/938 [00:21<00:00, 43.95batch/s, Train Loss=0.282, Train Acc=89.2]\n"
     ]
    },
    {
     "name": "stdout",
     "output_type": "stream",
     "text": [
      "Epoch 543\n",
      "Train Loss: 0.2816, Train Accuracy: 89.16%\n",
      "Test Loss: 0.2263, Test Accuracy: 91.73%\n",
      "\n"
     ]
    },
    {
     "name": "stderr",
     "output_type": "stream",
     "text": [
      "Epoch 544: 100%|██████████| 938/938 [00:21<00:00, 43.70batch/s, Train Loss=0.279, Train Acc=89.4]\n"
     ]
    },
    {
     "name": "stdout",
     "output_type": "stream",
     "text": [
      "Epoch 544\n",
      "Train Loss: 0.2788, Train Accuracy: 89.37%\n",
      "Test Loss: 0.2280, Test Accuracy: 91.60%\n",
      "\n"
     ]
    },
    {
     "name": "stderr",
     "output_type": "stream",
     "text": [
      "Epoch 545: 100%|██████████| 938/938 [00:21<00:00, 43.97batch/s, Train Loss=0.279, Train Acc=89.3]\n"
     ]
    },
    {
     "name": "stdout",
     "output_type": "stream",
     "text": [
      "Epoch 545\n",
      "Train Loss: 0.2793, Train Accuracy: 89.32%\n",
      "Test Loss: 0.2243, Test Accuracy: 91.88%\n",
      "\n"
     ]
    },
    {
     "name": "stderr",
     "output_type": "stream",
     "text": [
      "Epoch 546: 100%|██████████| 938/938 [00:21<00:00, 43.70batch/s, Train Loss=0.279, Train Acc=89.3]\n"
     ]
    },
    {
     "name": "stdout",
     "output_type": "stream",
     "text": [
      "Epoch 546\n",
      "Train Loss: 0.2792, Train Accuracy: 89.30%\n",
      "Test Loss: 0.2276, Test Accuracy: 91.75%\n",
      "\n"
     ]
    },
    {
     "name": "stderr",
     "output_type": "stream",
     "text": [
      "Epoch 547: 100%|██████████| 938/938 [00:21<00:00, 43.81batch/s, Train Loss=0.281, Train Acc=89.3]\n"
     ]
    },
    {
     "name": "stdout",
     "output_type": "stream",
     "text": [
      "Epoch 547\n",
      "Train Loss: 0.2808, Train Accuracy: 89.30%\n",
      "Test Loss: 0.2329, Test Accuracy: 91.60%\n",
      "\n"
     ]
    },
    {
     "name": "stderr",
     "output_type": "stream",
     "text": [
      "Epoch 548: 100%|██████████| 938/938 [00:21<00:00, 43.83batch/s, Train Loss=0.279, Train Acc=89.4]\n"
     ]
    },
    {
     "name": "stdout",
     "output_type": "stream",
     "text": [
      "Epoch 548\n",
      "Train Loss: 0.2787, Train Accuracy: 89.42%\n",
      "Test Loss: 0.2259, Test Accuracy: 91.80%\n",
      "\n"
     ]
    },
    {
     "name": "stderr",
     "output_type": "stream",
     "text": [
      "Epoch 549: 100%|██████████| 938/938 [00:21<00:00, 43.72batch/s, Train Loss=0.28, Train Acc=89.2] \n"
     ]
    },
    {
     "name": "stdout",
     "output_type": "stream",
     "text": [
      "Epoch 549\n",
      "Train Loss: 0.2802, Train Accuracy: 89.23%\n",
      "Test Loss: 0.2280, Test Accuracy: 91.55%\n",
      "\n"
     ]
    },
    {
     "name": "stderr",
     "output_type": "stream",
     "text": [
      "Epoch 550: 100%|██████████| 938/938 [00:21<00:00, 43.65batch/s, Train Loss=0.279, Train Acc=89.4]\n"
     ]
    },
    {
     "name": "stdout",
     "output_type": "stream",
     "text": [
      "Epoch 550\n",
      "Train Loss: 0.2794, Train Accuracy: 89.42%\n",
      "Test Loss: 0.2307, Test Accuracy: 91.53%\n",
      "\n"
     ]
    },
    {
     "name": "stderr",
     "output_type": "stream",
     "text": [
      "Epoch 551: 100%|██████████| 938/938 [00:21<00:00, 43.88batch/s, Train Loss=0.276, Train Acc=89.5]\n"
     ]
    },
    {
     "name": "stdout",
     "output_type": "stream",
     "text": [
      "Epoch 551\n",
      "Train Loss: 0.2758, Train Accuracy: 89.45%\n",
      "Test Loss: 0.2290, Test Accuracy: 91.91%\n",
      "\n"
     ]
    },
    {
     "name": "stderr",
     "output_type": "stream",
     "text": [
      "Epoch 552: 100%|██████████| 938/938 [00:21<00:00, 43.85batch/s, Train Loss=0.278, Train Acc=89.4]\n"
     ]
    },
    {
     "name": "stdout",
     "output_type": "stream",
     "text": [
      "Epoch 552\n",
      "Train Loss: 0.2775, Train Accuracy: 89.43%\n",
      "Test Loss: 0.2324, Test Accuracy: 91.53%\n",
      "\n"
     ]
    },
    {
     "name": "stderr",
     "output_type": "stream",
     "text": [
      "Epoch 553: 100%|██████████| 938/938 [00:21<00:00, 43.91batch/s, Train Loss=0.278, Train Acc=89.5]\n"
     ]
    },
    {
     "name": "stdout",
     "output_type": "stream",
     "text": [
      "Epoch 553\n",
      "Train Loss: 0.2781, Train Accuracy: 89.46%\n",
      "Test Loss: 0.2294, Test Accuracy: 92.02%\n",
      "\n"
     ]
    },
    {
     "name": "stderr",
     "output_type": "stream",
     "text": [
      "Epoch 554: 100%|██████████| 938/938 [00:21<00:00, 43.60batch/s, Train Loss=0.275, Train Acc=89.4]\n"
     ]
    },
    {
     "name": "stdout",
     "output_type": "stream",
     "text": [
      "Epoch 554\n",
      "Train Loss: 0.2753, Train Accuracy: 89.38%\n",
      "Test Loss: 0.2303, Test Accuracy: 91.76%\n",
      "\n"
     ]
    },
    {
     "name": "stderr",
     "output_type": "stream",
     "text": [
      "Epoch 555: 100%|██████████| 938/938 [00:21<00:00, 43.94batch/s, Train Loss=0.275, Train Acc=89.4]\n"
     ]
    },
    {
     "name": "stdout",
     "output_type": "stream",
     "text": [
      "Epoch 555\n",
      "Train Loss: 0.2751, Train Accuracy: 89.44%\n",
      "Test Loss: 0.2336, Test Accuracy: 91.69%\n",
      "\n"
     ]
    },
    {
     "name": "stderr",
     "output_type": "stream",
     "text": [
      "Epoch 556: 100%|██████████| 938/938 [00:21<00:00, 43.68batch/s, Train Loss=0.278, Train Acc=89.3]\n"
     ]
    },
    {
     "name": "stdout",
     "output_type": "stream",
     "text": [
      "Epoch 556\n",
      "Train Loss: 0.2784, Train Accuracy: 89.35%\n",
      "Test Loss: 0.2296, Test Accuracy: 91.66%\n",
      "\n"
     ]
    },
    {
     "name": "stderr",
     "output_type": "stream",
     "text": [
      "Epoch 557: 100%|██████████| 938/938 [00:21<00:00, 43.84batch/s, Train Loss=0.277, Train Acc=89.4]\n"
     ]
    },
    {
     "name": "stdout",
     "output_type": "stream",
     "text": [
      "Epoch 557\n",
      "Train Loss: 0.2773, Train Accuracy: 89.44%\n",
      "Test Loss: 0.2333, Test Accuracy: 91.57%\n",
      "\n"
     ]
    },
    {
     "name": "stderr",
     "output_type": "stream",
     "text": [
      "Epoch 558: 100%|██████████| 938/938 [00:21<00:00, 43.75batch/s, Train Loss=0.278, Train Acc=89.4]\n"
     ]
    },
    {
     "name": "stdout",
     "output_type": "stream",
     "text": [
      "Epoch 558\n",
      "Train Loss: 0.2778, Train Accuracy: 89.42%\n",
      "Test Loss: 0.2330, Test Accuracy: 91.62%\n",
      "\n"
     ]
    },
    {
     "name": "stderr",
     "output_type": "stream",
     "text": [
      "Epoch 559: 100%|██████████| 938/938 [00:21<00:00, 43.85batch/s, Train Loss=0.276, Train Acc=89.5]\n"
     ]
    },
    {
     "name": "stdout",
     "output_type": "stream",
     "text": [
      "Epoch 559\n",
      "Train Loss: 0.2759, Train Accuracy: 89.52%\n",
      "Test Loss: 0.2347, Test Accuracy: 91.49%\n",
      "\n"
     ]
    },
    {
     "name": "stderr",
     "output_type": "stream",
     "text": [
      "Epoch 560: 100%|██████████| 938/938 [00:21<00:00, 43.82batch/s, Train Loss=0.277, Train Acc=89.4]\n"
     ]
    },
    {
     "name": "stdout",
     "output_type": "stream",
     "text": [
      "Epoch 560\n",
      "Train Loss: 0.2765, Train Accuracy: 89.37%\n",
      "Test Loss: 0.2316, Test Accuracy: 91.59%\n",
      "\n"
     ]
    },
    {
     "name": "stderr",
     "output_type": "stream",
     "text": [
      "Epoch 561: 100%|██████████| 938/938 [00:21<00:00, 44.10batch/s, Train Loss=0.273, Train Acc=89.5]\n"
     ]
    },
    {
     "name": "stdout",
     "output_type": "stream",
     "text": [
      "Epoch 561\n",
      "Train Loss: 0.2734, Train Accuracy: 89.51%\n",
      "Test Loss: 0.2328, Test Accuracy: 91.38%\n",
      "\n"
     ]
    },
    {
     "name": "stderr",
     "output_type": "stream",
     "text": [
      "Epoch 562: 100%|██████████| 938/938 [00:21<00:00, 43.97batch/s, Train Loss=0.275, Train Acc=89.6]\n"
     ]
    },
    {
     "name": "stdout",
     "output_type": "stream",
     "text": [
      "Epoch 562\n",
      "Train Loss: 0.2751, Train Accuracy: 89.57%\n",
      "Test Loss: 0.2295, Test Accuracy: 91.68%\n",
      "\n"
     ]
    },
    {
     "name": "stderr",
     "output_type": "stream",
     "text": [
      "Epoch 563: 100%|██████████| 938/938 [00:21<00:00, 43.91batch/s, Train Loss=0.276, Train Acc=89.4]\n"
     ]
    },
    {
     "name": "stdout",
     "output_type": "stream",
     "text": [
      "Epoch 563\n",
      "Train Loss: 0.2761, Train Accuracy: 89.36%\n",
      "Test Loss: 0.2288, Test Accuracy: 91.78%\n",
      "\n"
     ]
    },
    {
     "name": "stderr",
     "output_type": "stream",
     "text": [
      "Epoch 564: 100%|██████████| 938/938 [00:21<00:00, 43.77batch/s, Train Loss=0.275, Train Acc=89.6]\n"
     ]
    },
    {
     "name": "stdout",
     "output_type": "stream",
     "text": [
      "Epoch 564\n",
      "Train Loss: 0.2750, Train Accuracy: 89.59%\n",
      "Test Loss: 0.2254, Test Accuracy: 92.02%\n",
      "\n"
     ]
    },
    {
     "name": "stderr",
     "output_type": "stream",
     "text": [
      "Epoch 565: 100%|██████████| 938/938 [00:21<00:00, 43.98batch/s, Train Loss=0.273, Train Acc=89.6]\n"
     ]
    },
    {
     "name": "stdout",
     "output_type": "stream",
     "text": [
      "Epoch 565\n",
      "Train Loss: 0.2731, Train Accuracy: 89.58%\n",
      "Test Loss: 0.2271, Test Accuracy: 91.90%\n",
      "\n"
     ]
    },
    {
     "name": "stderr",
     "output_type": "stream",
     "text": [
      "Epoch 566: 100%|██████████| 938/938 [00:21<00:00, 43.65batch/s, Train Loss=0.274, Train Acc=89.6]\n"
     ]
    },
    {
     "name": "stdout",
     "output_type": "stream",
     "text": [
      "Epoch 566\n",
      "Train Loss: 0.2741, Train Accuracy: 89.57%\n",
      "Test Loss: 0.2251, Test Accuracy: 91.97%\n",
      "\n"
     ]
    },
    {
     "name": "stderr",
     "output_type": "stream",
     "text": [
      "Epoch 567: 100%|██████████| 938/938 [00:21<00:00, 43.79batch/s, Train Loss=0.277, Train Acc=89.3]\n"
     ]
    },
    {
     "name": "stdout",
     "output_type": "stream",
     "text": [
      "Epoch 567\n",
      "Train Loss: 0.2770, Train Accuracy: 89.29%\n",
      "Test Loss: 0.2261, Test Accuracy: 91.72%\n",
      "\n"
     ]
    },
    {
     "name": "stderr",
     "output_type": "stream",
     "text": [
      "Epoch 568: 100%|██████████| 938/938 [00:21<00:00, 43.93batch/s, Train Loss=0.276, Train Acc=89.5]\n"
     ]
    },
    {
     "name": "stdout",
     "output_type": "stream",
     "text": [
      "Epoch 568\n",
      "Train Loss: 0.2760, Train Accuracy: 89.53%\n",
      "Test Loss: 0.2257, Test Accuracy: 91.73%\n",
      "\n"
     ]
    },
    {
     "name": "stderr",
     "output_type": "stream",
     "text": [
      "Epoch 569: 100%|██████████| 938/938 [00:21<00:00, 43.79batch/s, Train Loss=0.274, Train Acc=89.4]\n"
     ]
    },
    {
     "name": "stdout",
     "output_type": "stream",
     "text": [
      "Epoch 569\n",
      "Train Loss: 0.2737, Train Accuracy: 89.43%\n",
      "Test Loss: 0.2250, Test Accuracy: 91.80%\n",
      "\n"
     ]
    },
    {
     "name": "stderr",
     "output_type": "stream",
     "text": [
      "Epoch 570: 100%|██████████| 938/938 [00:21<00:00, 43.88batch/s, Train Loss=0.271, Train Acc=89.6]\n"
     ]
    },
    {
     "name": "stdout",
     "output_type": "stream",
     "text": [
      "Epoch 570\n",
      "Train Loss: 0.2710, Train Accuracy: 89.58%\n",
      "Test Loss: 0.2309, Test Accuracy: 91.64%\n",
      "\n"
     ]
    },
    {
     "name": "stderr",
     "output_type": "stream",
     "text": [
      "Epoch 571: 100%|██████████| 938/938 [00:21<00:00, 43.95batch/s, Train Loss=0.272, Train Acc=89.6]\n"
     ]
    },
    {
     "name": "stdout",
     "output_type": "stream",
     "text": [
      "Epoch 571\n",
      "Train Loss: 0.2720, Train Accuracy: 89.57%\n",
      "Test Loss: 0.2292, Test Accuracy: 91.67%\n",
      "\n"
     ]
    },
    {
     "name": "stderr",
     "output_type": "stream",
     "text": [
      "Epoch 572: 100%|██████████| 938/938 [00:21<00:00, 44.12batch/s, Train Loss=0.273, Train Acc=89.5]\n"
     ]
    },
    {
     "name": "stdout",
     "output_type": "stream",
     "text": [
      "Epoch 572\n",
      "Train Loss: 0.2732, Train Accuracy: 89.54%\n",
      "Test Loss: 0.2218, Test Accuracy: 91.94%\n",
      "\n"
     ]
    },
    {
     "name": "stderr",
     "output_type": "stream",
     "text": [
      "Epoch 573: 100%|██████████| 938/938 [00:21<00:00, 43.96batch/s, Train Loss=0.271, Train Acc=89.7]\n"
     ]
    },
    {
     "name": "stdout",
     "output_type": "stream",
     "text": [
      "Epoch 573\n",
      "Train Loss: 0.2707, Train Accuracy: 89.72%\n",
      "Test Loss: 0.2246, Test Accuracy: 91.78%\n",
      "\n"
     ]
    },
    {
     "name": "stderr",
     "output_type": "stream",
     "text": [
      "Epoch 574: 100%|██████████| 938/938 [00:21<00:00, 44.08batch/s, Train Loss=0.273, Train Acc=89.5]\n"
     ]
    },
    {
     "name": "stdout",
     "output_type": "stream",
     "text": [
      "Epoch 574\n",
      "Train Loss: 0.2732, Train Accuracy: 89.55%\n",
      "Test Loss: 0.2257, Test Accuracy: 91.91%\n",
      "\n"
     ]
    },
    {
     "name": "stderr",
     "output_type": "stream",
     "text": [
      "Epoch 575: 100%|██████████| 938/938 [00:21<00:00, 43.86batch/s, Train Loss=0.275, Train Acc=89.5]\n"
     ]
    },
    {
     "name": "stdout",
     "output_type": "stream",
     "text": [
      "Epoch 575\n",
      "Train Loss: 0.2751, Train Accuracy: 89.49%\n",
      "Test Loss: 0.2322, Test Accuracy: 91.55%\n",
      "\n"
     ]
    },
    {
     "name": "stderr",
     "output_type": "stream",
     "text": [
      "Epoch 576: 100%|██████████| 938/938 [00:21<00:00, 43.95batch/s, Train Loss=0.272, Train Acc=89.7]\n"
     ]
    },
    {
     "name": "stdout",
     "output_type": "stream",
     "text": [
      "Epoch 576\n",
      "Train Loss: 0.2721, Train Accuracy: 89.69%\n",
      "Test Loss: 0.2291, Test Accuracy: 91.62%\n",
      "\n"
     ]
    },
    {
     "name": "stderr",
     "output_type": "stream",
     "text": [
      "Epoch 577: 100%|██████████| 938/938 [00:21<00:00, 43.86batch/s, Train Loss=0.272, Train Acc=89.8]\n"
     ]
    },
    {
     "name": "stdout",
     "output_type": "stream",
     "text": [
      "Epoch 577\n",
      "Train Loss: 0.2716, Train Accuracy: 89.79%\n",
      "Test Loss: 0.2293, Test Accuracy: 91.75%\n",
      "\n"
     ]
    },
    {
     "name": "stderr",
     "output_type": "stream",
     "text": [
      "Epoch 578: 100%|██████████| 938/938 [00:21<00:00, 44.15batch/s, Train Loss=0.271, Train Acc=89.6]\n"
     ]
    },
    {
     "name": "stdout",
     "output_type": "stream",
     "text": [
      "Epoch 578\n",
      "Train Loss: 0.2713, Train Accuracy: 89.60%\n",
      "Test Loss: 0.2262, Test Accuracy: 91.59%\n",
      "\n"
     ]
    },
    {
     "name": "stderr",
     "output_type": "stream",
     "text": [
      "Epoch 579: 100%|██████████| 938/938 [00:21<00:00, 43.89batch/s, Train Loss=0.27, Train Acc=89.7] \n"
     ]
    },
    {
     "name": "stdout",
     "output_type": "stream",
     "text": [
      "Epoch 579\n",
      "Train Loss: 0.2699, Train Accuracy: 89.74%\n",
      "Test Loss: 0.2305, Test Accuracy: 91.57%\n",
      "\n"
     ]
    },
    {
     "name": "stderr",
     "output_type": "stream",
     "text": [
      "Epoch 580: 100%|██████████| 938/938 [00:21<00:00, 43.94batch/s, Train Loss=0.27, Train Acc=89.7] \n"
     ]
    },
    {
     "name": "stdout",
     "output_type": "stream",
     "text": [
      "Epoch 580\n",
      "Train Loss: 0.2700, Train Accuracy: 89.68%\n",
      "Test Loss: 0.2249, Test Accuracy: 91.91%\n",
      "\n"
     ]
    },
    {
     "name": "stderr",
     "output_type": "stream",
     "text": [
      "Epoch 581: 100%|██████████| 938/938 [00:21<00:00, 44.21batch/s, Train Loss=0.274, Train Acc=89.7]\n"
     ]
    },
    {
     "name": "stdout",
     "output_type": "stream",
     "text": [
      "Epoch 581\n",
      "Train Loss: 0.2743, Train Accuracy: 89.65%\n",
      "Test Loss: 0.2279, Test Accuracy: 91.75%\n",
      "\n"
     ]
    },
    {
     "name": "stderr",
     "output_type": "stream",
     "text": [
      "Epoch 582: 100%|██████████| 938/938 [00:21<00:00, 43.99batch/s, Train Loss=0.273, Train Acc=89.6]\n"
     ]
    },
    {
     "name": "stdout",
     "output_type": "stream",
     "text": [
      "Epoch 582\n",
      "Train Loss: 0.2730, Train Accuracy: 89.64%\n",
      "Test Loss: 0.2269, Test Accuracy: 91.77%\n",
      "\n"
     ]
    },
    {
     "name": "stderr",
     "output_type": "stream",
     "text": [
      "Epoch 583: 100%|██████████| 938/938 [00:21<00:00, 43.61batch/s, Train Loss=0.273, Train Acc=89.7]\n"
     ]
    },
    {
     "name": "stdout",
     "output_type": "stream",
     "text": [
      "Epoch 583\n",
      "Train Loss: 0.2730, Train Accuracy: 89.71%\n",
      "Test Loss: 0.2258, Test Accuracy: 91.79%\n",
      "\n"
     ]
    },
    {
     "name": "stderr",
     "output_type": "stream",
     "text": [
      "Epoch 584: 100%|██████████| 938/938 [00:21<00:00, 43.85batch/s, Train Loss=0.273, Train Acc=89.6]\n"
     ]
    },
    {
     "name": "stdout",
     "output_type": "stream",
     "text": [
      "Epoch 584\n",
      "Train Loss: 0.2727, Train Accuracy: 89.60%\n",
      "Test Loss: 0.2285, Test Accuracy: 91.78%\n",
      "\n"
     ]
    },
    {
     "name": "stderr",
     "output_type": "stream",
     "text": [
      "Epoch 585: 100%|██████████| 938/938 [00:21<00:00, 43.99batch/s, Train Loss=0.272, Train Acc=89.6]\n"
     ]
    },
    {
     "name": "stdout",
     "output_type": "stream",
     "text": [
      "Epoch 585\n",
      "Train Loss: 0.2716, Train Accuracy: 89.58%\n",
      "Test Loss: 0.2234, Test Accuracy: 91.85%\n",
      "\n"
     ]
    },
    {
     "name": "stderr",
     "output_type": "stream",
     "text": [
      "Epoch 586: 100%|██████████| 938/938 [00:21<00:00, 43.95batch/s, Train Loss=0.271, Train Acc=89.7]\n"
     ]
    },
    {
     "name": "stdout",
     "output_type": "stream",
     "text": [
      "Epoch 586\n",
      "Train Loss: 0.2706, Train Accuracy: 89.73%\n",
      "Test Loss: 0.2253, Test Accuracy: 91.91%\n",
      "\n"
     ]
    },
    {
     "name": "stderr",
     "output_type": "stream",
     "text": [
      "Epoch 587: 100%|██████████| 938/938 [00:21<00:00, 43.95batch/s, Train Loss=0.272, Train Acc=89.6]\n"
     ]
    },
    {
     "name": "stdout",
     "output_type": "stream",
     "text": [
      "Epoch 587\n",
      "Train Loss: 0.2722, Train Accuracy: 89.57%\n",
      "Test Loss: 0.2264, Test Accuracy: 91.75%\n",
      "\n"
     ]
    },
    {
     "name": "stderr",
     "output_type": "stream",
     "text": [
      "Epoch 588: 100%|██████████| 938/938 [00:21<00:00, 43.72batch/s, Train Loss=0.27, Train Acc=89.7] \n"
     ]
    },
    {
     "name": "stdout",
     "output_type": "stream",
     "text": [
      "Epoch 588\n",
      "Train Loss: 0.2699, Train Accuracy: 89.72%\n",
      "Test Loss: 0.2327, Test Accuracy: 91.87%\n",
      "\n"
     ]
    },
    {
     "name": "stderr",
     "output_type": "stream",
     "text": [
      "Epoch 589: 100%|██████████| 938/938 [00:21<00:00, 43.60batch/s, Train Loss=0.271, Train Acc=89.7]\n"
     ]
    },
    {
     "name": "stdout",
     "output_type": "stream",
     "text": [
      "Epoch 589\n",
      "Train Loss: 0.2707, Train Accuracy: 89.74%\n",
      "Test Loss: 0.2297, Test Accuracy: 91.73%\n",
      "\n"
     ]
    },
    {
     "name": "stderr",
     "output_type": "stream",
     "text": [
      "Epoch 590: 100%|██████████| 938/938 [00:21<00:00, 44.11batch/s, Train Loss=0.271, Train Acc=89.6]\n"
     ]
    },
    {
     "name": "stdout",
     "output_type": "stream",
     "text": [
      "Epoch 590\n",
      "Train Loss: 0.2714, Train Accuracy: 89.65%\n",
      "Test Loss: 0.2276, Test Accuracy: 91.91%\n",
      "\n"
     ]
    },
    {
     "name": "stderr",
     "output_type": "stream",
     "text": [
      "Epoch 591: 100%|██████████| 938/938 [00:21<00:00, 43.74batch/s, Train Loss=0.27, Train Acc=89.7] \n"
     ]
    },
    {
     "name": "stdout",
     "output_type": "stream",
     "text": [
      "Epoch 591\n",
      "Train Loss: 0.2697, Train Accuracy: 89.67%\n",
      "Test Loss: 0.2294, Test Accuracy: 91.45%\n",
      "\n"
     ]
    },
    {
     "name": "stderr",
     "output_type": "stream",
     "text": [
      "Epoch 592: 100%|██████████| 938/938 [00:21<00:00, 43.94batch/s, Train Loss=0.273, Train Acc=89.5]\n"
     ]
    },
    {
     "name": "stdout",
     "output_type": "stream",
     "text": [
      "Epoch 592\n",
      "Train Loss: 0.2727, Train Accuracy: 89.49%\n",
      "Test Loss: 0.2258, Test Accuracy: 91.84%\n",
      "\n"
     ]
    },
    {
     "name": "stderr",
     "output_type": "stream",
     "text": [
      "Epoch 593: 100%|██████████| 938/938 [00:21<00:00, 43.96batch/s, Train Loss=0.266, Train Acc=89.8]\n"
     ]
    },
    {
     "name": "stdout",
     "output_type": "stream",
     "text": [
      "Epoch 593\n",
      "Train Loss: 0.2660, Train Accuracy: 89.85%\n",
      "Test Loss: 0.2237, Test Accuracy: 91.94%\n",
      "\n"
     ]
    },
    {
     "name": "stderr",
     "output_type": "stream",
     "text": [
      "Epoch 594: 100%|██████████| 938/938 [00:21<00:00, 43.88batch/s, Train Loss=0.274, Train Acc=89.5]\n"
     ]
    },
    {
     "name": "stdout",
     "output_type": "stream",
     "text": [
      "Epoch 594\n",
      "Train Loss: 0.2742, Train Accuracy: 89.46%\n",
      "Test Loss: 0.2237, Test Accuracy: 91.72%\n",
      "\n"
     ]
    },
    {
     "name": "stderr",
     "output_type": "stream",
     "text": [
      "Epoch 595: 100%|██████████| 938/938 [00:21<00:00, 43.75batch/s, Train Loss=0.272, Train Acc=89.5]\n"
     ]
    },
    {
     "name": "stdout",
     "output_type": "stream",
     "text": [
      "Epoch 595\n",
      "Train Loss: 0.2725, Train Accuracy: 89.52%\n",
      "Test Loss: 0.2267, Test Accuracy: 91.80%\n",
      "\n"
     ]
    },
    {
     "name": "stderr",
     "output_type": "stream",
     "text": [
      "Epoch 596: 100%|██████████| 938/938 [00:21<00:00, 43.97batch/s, Train Loss=0.268, Train Acc=90]  \n"
     ]
    },
    {
     "name": "stdout",
     "output_type": "stream",
     "text": [
      "Epoch 596\n",
      "Train Loss: 0.2680, Train Accuracy: 89.98%\n",
      "Test Loss: 0.2251, Test Accuracy: 91.84%\n",
      "\n"
     ]
    },
    {
     "name": "stderr",
     "output_type": "stream",
     "text": [
      "Epoch 597: 100%|██████████| 938/938 [00:21<00:00, 43.96batch/s, Train Loss=0.267, Train Acc=89.9]\n"
     ]
    },
    {
     "name": "stdout",
     "output_type": "stream",
     "text": [
      "Epoch 597\n",
      "Train Loss: 0.2670, Train Accuracy: 89.89%\n",
      "Test Loss: 0.2246, Test Accuracy: 91.90%\n",
      "\n"
     ]
    },
    {
     "name": "stderr",
     "output_type": "stream",
     "text": [
      "Epoch 598: 100%|██████████| 938/938 [00:21<00:00, 44.08batch/s, Train Loss=0.267, Train Acc=89.8]\n"
     ]
    },
    {
     "name": "stdout",
     "output_type": "stream",
     "text": [
      "Epoch 598\n",
      "Train Loss: 0.2667, Train Accuracy: 89.79%\n",
      "Test Loss: 0.2305, Test Accuracy: 91.72%\n",
      "\n"
     ]
    },
    {
     "name": "stderr",
     "output_type": "stream",
     "text": [
      "Epoch 599: 100%|██████████| 938/938 [00:21<00:00, 43.82batch/s, Train Loss=0.267, Train Acc=89.7]\n"
     ]
    },
    {
     "name": "stdout",
     "output_type": "stream",
     "text": [
      "Epoch 599\n",
      "Train Loss: 0.2672, Train Accuracy: 89.73%\n",
      "Test Loss: 0.2253, Test Accuracy: 92.01%\n",
      "\n"
     ]
    },
    {
     "name": "stderr",
     "output_type": "stream",
     "text": [
      "Epoch 600: 100%|██████████| 938/938 [00:21<00:00, 43.73batch/s, Train Loss=0.268, Train Acc=89.9]\n"
     ]
    },
    {
     "name": "stdout",
     "output_type": "stream",
     "text": [
      "Epoch 600\n",
      "Train Loss: 0.2681, Train Accuracy: 89.89%\n",
      "Test Loss: 0.2276, Test Accuracy: 91.81%\n",
      "\n"
     ]
    },
    {
     "name": "stderr",
     "output_type": "stream",
     "text": [
      "Epoch 601: 100%|██████████| 938/938 [00:21<00:00, 43.56batch/s, Train Loss=0.27, Train Acc=89.7] \n"
     ]
    },
    {
     "name": "stdout",
     "output_type": "stream",
     "text": [
      "Epoch 601\n",
      "Train Loss: 0.2697, Train Accuracy: 89.73%\n",
      "Test Loss: 0.2218, Test Accuracy: 92.05%\n",
      "\n"
     ]
    },
    {
     "name": "stderr",
     "output_type": "stream",
     "text": [
      "Epoch 602: 100%|██████████| 938/938 [00:21<00:00, 43.96batch/s, Train Loss=0.269, Train Acc=89.8]\n"
     ]
    },
    {
     "name": "stdout",
     "output_type": "stream",
     "text": [
      "Epoch 602\n",
      "Train Loss: 0.2686, Train Accuracy: 89.80%\n",
      "Test Loss: 0.2265, Test Accuracy: 91.97%\n",
      "\n"
     ]
    },
    {
     "name": "stderr",
     "output_type": "stream",
     "text": [
      "Epoch 603: 100%|██████████| 938/938 [00:21<00:00, 43.61batch/s, Train Loss=0.269, Train Acc=89.6]\n"
     ]
    },
    {
     "name": "stdout",
     "output_type": "stream",
     "text": [
      "Epoch 603\n",
      "Train Loss: 0.2689, Train Accuracy: 89.64%\n",
      "Test Loss: 0.2325, Test Accuracy: 91.44%\n",
      "\n"
     ]
    },
    {
     "name": "stderr",
     "output_type": "stream",
     "text": [
      "Epoch 604: 100%|██████████| 938/938 [00:21<00:00, 43.83batch/s, Train Loss=0.266, Train Acc=89.7]\n"
     ]
    },
    {
     "name": "stdout",
     "output_type": "stream",
     "text": [
      "Epoch 604\n",
      "Train Loss: 0.2664, Train Accuracy: 89.75%\n",
      "Test Loss: 0.2237, Test Accuracy: 91.65%\n",
      "\n"
     ]
    },
    {
     "name": "stderr",
     "output_type": "stream",
     "text": [
      "Epoch 605: 100%|██████████| 938/938 [00:21<00:00, 43.58batch/s, Train Loss=0.269, Train Acc=89.8]\n"
     ]
    },
    {
     "name": "stdout",
     "output_type": "stream",
     "text": [
      "Epoch 605\n",
      "Train Loss: 0.2688, Train Accuracy: 89.75%\n",
      "Test Loss: 0.2295, Test Accuracy: 91.69%\n",
      "\n"
     ]
    },
    {
     "name": "stderr",
     "output_type": "stream",
     "text": [
      "Epoch 606: 100%|██████████| 938/938 [00:21<00:00, 43.69batch/s, Train Loss=0.269, Train Acc=89.7]\n"
     ]
    },
    {
     "name": "stdout",
     "output_type": "stream",
     "text": [
      "Epoch 606\n",
      "Train Loss: 0.2687, Train Accuracy: 89.66%\n",
      "Test Loss: 0.2248, Test Accuracy: 91.87%\n",
      "\n"
     ]
    },
    {
     "name": "stderr",
     "output_type": "stream",
     "text": [
      "Epoch 607: 100%|██████████| 938/938 [00:21<00:00, 43.75batch/s, Train Loss=0.27, Train Acc=89.6] \n"
     ]
    },
    {
     "name": "stdout",
     "output_type": "stream",
     "text": [
      "Epoch 607\n",
      "Train Loss: 0.2698, Train Accuracy: 89.63%\n",
      "Test Loss: 0.2268, Test Accuracy: 91.91%\n",
      "\n"
     ]
    },
    {
     "name": "stderr",
     "output_type": "stream",
     "text": [
      "Epoch 608: 100%|██████████| 938/938 [00:21<00:00, 43.80batch/s, Train Loss=0.267, Train Acc=89.8]\n"
     ]
    },
    {
     "name": "stdout",
     "output_type": "stream",
     "text": [
      "Epoch 608\n",
      "Train Loss: 0.2666, Train Accuracy: 89.81%\n",
      "Test Loss: 0.2260, Test Accuracy: 92.06%\n",
      "\n"
     ]
    },
    {
     "name": "stderr",
     "output_type": "stream",
     "text": [
      "Epoch 609: 100%|██████████| 938/938 [00:21<00:00, 43.76batch/s, Train Loss=0.268, Train Acc=89.8]\n"
     ]
    },
    {
     "name": "stdout",
     "output_type": "stream",
     "text": [
      "Epoch 609\n",
      "Train Loss: 0.2677, Train Accuracy: 89.83%\n",
      "Test Loss: 0.2355, Test Accuracy: 91.46%\n",
      "\n"
     ]
    },
    {
     "name": "stderr",
     "output_type": "stream",
     "text": [
      "Epoch 610: 100%|██████████| 938/938 [00:21<00:00, 44.04batch/s, Train Loss=0.267, Train Acc=89.9]\n"
     ]
    },
    {
     "name": "stdout",
     "output_type": "stream",
     "text": [
      "Epoch 610\n",
      "Train Loss: 0.2668, Train Accuracy: 89.93%\n",
      "Test Loss: 0.2217, Test Accuracy: 92.02%\n",
      "\n"
     ]
    },
    {
     "name": "stderr",
     "output_type": "stream",
     "text": [
      "Epoch 611: 100%|██████████| 938/938 [00:21<00:00, 43.79batch/s, Train Loss=0.269, Train Acc=89.6]\n"
     ]
    },
    {
     "name": "stdout",
     "output_type": "stream",
     "text": [
      "Epoch 611\n",
      "Train Loss: 0.2693, Train Accuracy: 89.61%\n",
      "Test Loss: 0.2229, Test Accuracy: 91.97%\n",
      "\n"
     ]
    },
    {
     "name": "stderr",
     "output_type": "stream",
     "text": [
      "Epoch 612: 100%|██████████| 938/938 [00:21<00:00, 43.93batch/s, Train Loss=0.269, Train Acc=89.7]\n"
     ]
    },
    {
     "name": "stdout",
     "output_type": "stream",
     "text": [
      "Epoch 612\n",
      "Train Loss: 0.2690, Train Accuracy: 89.75%\n",
      "Test Loss: 0.2220, Test Accuracy: 91.95%\n",
      "\n"
     ]
    },
    {
     "name": "stderr",
     "output_type": "stream",
     "text": [
      "Epoch 613: 100%|██████████| 938/938 [00:21<00:00, 43.85batch/s, Train Loss=0.265, Train Acc=89.9]\n"
     ]
    },
    {
     "name": "stdout",
     "output_type": "stream",
     "text": [
      "Epoch 613\n",
      "Train Loss: 0.2648, Train Accuracy: 89.90%\n",
      "Test Loss: 0.2226, Test Accuracy: 91.72%\n",
      "\n"
     ]
    },
    {
     "name": "stderr",
     "output_type": "stream",
     "text": [
      "Epoch 614: 100%|██████████| 938/938 [00:21<00:00, 43.91batch/s, Train Loss=0.264, Train Acc=90]  \n"
     ]
    },
    {
     "name": "stdout",
     "output_type": "stream",
     "text": [
      "Epoch 614\n",
      "Train Loss: 0.2636, Train Accuracy: 89.95%\n",
      "Test Loss: 0.2239, Test Accuracy: 91.80%\n",
      "\n"
     ]
    },
    {
     "name": "stderr",
     "output_type": "stream",
     "text": [
      "Epoch 615: 100%|██████████| 938/938 [00:21<00:00, 43.83batch/s, Train Loss=0.266, Train Acc=89.9]\n"
     ]
    },
    {
     "name": "stdout",
     "output_type": "stream",
     "text": [
      "Epoch 615\n",
      "Train Loss: 0.2660, Train Accuracy: 89.86%\n",
      "Test Loss: 0.2252, Test Accuracy: 91.73%\n",
      "\n"
     ]
    },
    {
     "name": "stderr",
     "output_type": "stream",
     "text": [
      "Epoch 616: 100%|██████████| 938/938 [00:21<00:00, 43.88batch/s, Train Loss=0.267, Train Acc=89.6]\n"
     ]
    },
    {
     "name": "stdout",
     "output_type": "stream",
     "text": [
      "Epoch 616\n",
      "Train Loss: 0.2669, Train Accuracy: 89.64%\n",
      "Test Loss: 0.2192, Test Accuracy: 92.13%\n",
      "\n"
     ]
    },
    {
     "name": "stderr",
     "output_type": "stream",
     "text": [
      "Epoch 617: 100%|██████████| 938/938 [00:21<00:00, 43.91batch/s, Train Loss=0.267, Train Acc=89.9]\n"
     ]
    },
    {
     "name": "stdout",
     "output_type": "stream",
     "text": [
      "Epoch 617\n",
      "Train Loss: 0.2666, Train Accuracy: 89.89%\n",
      "Test Loss: 0.2222, Test Accuracy: 91.97%\n",
      "\n"
     ]
    },
    {
     "name": "stderr",
     "output_type": "stream",
     "text": [
      "Epoch 618: 100%|██████████| 938/938 [00:21<00:00, 44.00batch/s, Train Loss=0.264, Train Acc=89.8]\n"
     ]
    },
    {
     "name": "stdout",
     "output_type": "stream",
     "text": [
      "Epoch 618\n",
      "Train Loss: 0.2644, Train Accuracy: 89.77%\n",
      "Test Loss: 0.2285, Test Accuracy: 91.71%\n",
      "\n"
     ]
    },
    {
     "name": "stderr",
     "output_type": "stream",
     "text": [
      "Epoch 619: 100%|██████████| 938/938 [00:21<00:00, 43.79batch/s, Train Loss=0.267, Train Acc=89.7]\n"
     ]
    },
    {
     "name": "stdout",
     "output_type": "stream",
     "text": [
      "Epoch 619\n",
      "Train Loss: 0.2674, Train Accuracy: 89.68%\n",
      "Test Loss: 0.2267, Test Accuracy: 91.83%\n",
      "\n"
     ]
    },
    {
     "name": "stderr",
     "output_type": "stream",
     "text": [
      "Epoch 620: 100%|██████████| 938/938 [00:21<00:00, 43.86batch/s, Train Loss=0.265, Train Acc=89.9]\n"
     ]
    },
    {
     "name": "stdout",
     "output_type": "stream",
     "text": [
      "Epoch 620\n",
      "Train Loss: 0.2651, Train Accuracy: 89.88%\n",
      "Test Loss: 0.2236, Test Accuracy: 92.02%\n",
      "\n"
     ]
    },
    {
     "name": "stderr",
     "output_type": "stream",
     "text": [
      "Epoch 621: 100%|██████████| 938/938 [00:21<00:00, 43.81batch/s, Train Loss=0.265, Train Acc=89.8]\n"
     ]
    },
    {
     "name": "stdout",
     "output_type": "stream",
     "text": [
      "Epoch 621\n",
      "Train Loss: 0.2654, Train Accuracy: 89.77%\n",
      "Test Loss: 0.2256, Test Accuracy: 92.06%\n",
      "\n"
     ]
    },
    {
     "name": "stderr",
     "output_type": "stream",
     "text": [
      "Epoch 622: 100%|██████████| 938/938 [00:21<00:00, 43.69batch/s, Train Loss=0.267, Train Acc=89.8]\n"
     ]
    },
    {
     "name": "stdout",
     "output_type": "stream",
     "text": [
      "Epoch 622\n",
      "Train Loss: 0.2674, Train Accuracy: 89.78%\n",
      "Test Loss: 0.2218, Test Accuracy: 92.07%\n",
      "\n"
     ]
    },
    {
     "name": "stderr",
     "output_type": "stream",
     "text": [
      "Epoch 623: 100%|██████████| 938/938 [00:21<00:00, 43.81batch/s, Train Loss=0.262, Train Acc=89.9]\n"
     ]
    },
    {
     "name": "stdout",
     "output_type": "stream",
     "text": [
      "Epoch 623\n",
      "Train Loss: 0.2622, Train Accuracy: 89.87%\n",
      "Test Loss: 0.2287, Test Accuracy: 91.77%\n",
      "\n"
     ]
    },
    {
     "name": "stderr",
     "output_type": "stream",
     "text": [
      "Epoch 624: 100%|██████████| 938/938 [00:21<00:00, 43.95batch/s, Train Loss=0.266, Train Acc=89.9]\n"
     ]
    },
    {
     "name": "stdout",
     "output_type": "stream",
     "text": [
      "Epoch 624\n",
      "Train Loss: 0.2658, Train Accuracy: 89.91%\n",
      "Test Loss: 0.2284, Test Accuracy: 91.78%\n",
      "\n"
     ]
    },
    {
     "name": "stderr",
     "output_type": "stream",
     "text": [
      "Epoch 625: 100%|██████████| 938/938 [00:21<00:00, 43.69batch/s, Train Loss=0.264, Train Acc=90]  \n"
     ]
    },
    {
     "name": "stdout",
     "output_type": "stream",
     "text": [
      "Epoch 625\n",
      "Train Loss: 0.2641, Train Accuracy: 89.99%\n",
      "Test Loss: 0.2319, Test Accuracy: 91.43%\n",
      "\n"
     ]
    },
    {
     "name": "stderr",
     "output_type": "stream",
     "text": [
      "Epoch 626: 100%|██████████| 938/938 [00:21<00:00, 43.97batch/s, Train Loss=0.265, Train Acc=89.8]\n"
     ]
    },
    {
     "name": "stdout",
     "output_type": "stream",
     "text": [
      "Epoch 626\n",
      "Train Loss: 0.2652, Train Accuracy: 89.84%\n",
      "Test Loss: 0.2209, Test Accuracy: 91.95%\n",
      "\n"
     ]
    },
    {
     "name": "stderr",
     "output_type": "stream",
     "text": [
      "Epoch 627: 100%|██████████| 938/938 [00:21<00:00, 43.73batch/s, Train Loss=0.265, Train Acc=89.8]\n"
     ]
    },
    {
     "name": "stdout",
     "output_type": "stream",
     "text": [
      "Epoch 627\n",
      "Train Loss: 0.2655, Train Accuracy: 89.79%\n",
      "Test Loss: 0.2234, Test Accuracy: 91.95%\n",
      "\n"
     ]
    },
    {
     "name": "stderr",
     "output_type": "stream",
     "text": [
      "Epoch 628: 100%|██████████| 938/938 [00:21<00:00, 43.98batch/s, Train Loss=0.263, Train Acc=90]  \n"
     ]
    },
    {
     "name": "stdout",
     "output_type": "stream",
     "text": [
      "Epoch 628\n",
      "Train Loss: 0.2627, Train Accuracy: 90.00%\n",
      "Test Loss: 0.2236, Test Accuracy: 91.72%\n",
      "\n"
     ]
    },
    {
     "name": "stderr",
     "output_type": "stream",
     "text": [
      "Epoch 629: 100%|██████████| 938/938 [00:21<00:00, 43.87batch/s, Train Loss=0.263, Train Acc=89.9]\n"
     ]
    },
    {
     "name": "stdout",
     "output_type": "stream",
     "text": [
      "Epoch 629\n",
      "Train Loss: 0.2629, Train Accuracy: 89.94%\n",
      "Test Loss: 0.2218, Test Accuracy: 91.73%\n",
      "\n"
     ]
    },
    {
     "name": "stderr",
     "output_type": "stream",
     "text": [
      "Epoch 630: 100%|██████████| 938/938 [00:21<00:00, 44.05batch/s, Train Loss=0.265, Train Acc=89.9]\n"
     ]
    },
    {
     "name": "stdout",
     "output_type": "stream",
     "text": [
      "Epoch 630\n",
      "Train Loss: 0.2648, Train Accuracy: 89.92%\n",
      "Test Loss: 0.2239, Test Accuracy: 91.68%\n",
      "\n"
     ]
    },
    {
     "name": "stderr",
     "output_type": "stream",
     "text": [
      "Epoch 631: 100%|██████████| 938/938 [00:21<00:00, 43.96batch/s, Train Loss=0.26, Train Acc=90.1] \n"
     ]
    },
    {
     "name": "stdout",
     "output_type": "stream",
     "text": [
      "Epoch 631\n",
      "Train Loss: 0.2602, Train Accuracy: 90.06%\n",
      "Test Loss: 0.2248, Test Accuracy: 91.81%\n",
      "\n"
     ]
    },
    {
     "name": "stderr",
     "output_type": "stream",
     "text": [
      "Epoch 632: 100%|██████████| 938/938 [00:21<00:00, 43.89batch/s, Train Loss=0.263, Train Acc=89.9]\n"
     ]
    },
    {
     "name": "stdout",
     "output_type": "stream",
     "text": [
      "Epoch 632\n",
      "Train Loss: 0.2628, Train Accuracy: 89.91%\n",
      "Test Loss: 0.2243, Test Accuracy: 91.95%\n",
      "\n"
     ]
    },
    {
     "name": "stderr",
     "output_type": "stream",
     "text": [
      "Epoch 633: 100%|██████████| 938/938 [00:21<00:00, 43.86batch/s, Train Loss=0.265, Train Acc=89.9]\n"
     ]
    },
    {
     "name": "stdout",
     "output_type": "stream",
     "text": [
      "Epoch 633\n",
      "Train Loss: 0.2649, Train Accuracy: 89.89%\n",
      "Test Loss: 0.2257, Test Accuracy: 92.11%\n",
      "\n"
     ]
    },
    {
     "name": "stderr",
     "output_type": "stream",
     "text": [
      "Epoch 634: 100%|██████████| 938/938 [00:21<00:00, 44.08batch/s, Train Loss=0.264, Train Acc=89.9]\n"
     ]
    },
    {
     "name": "stdout",
     "output_type": "stream",
     "text": [
      "Epoch 634\n",
      "Train Loss: 0.2643, Train Accuracy: 89.90%\n",
      "Test Loss: 0.2263, Test Accuracy: 91.94%\n",
      "\n"
     ]
    },
    {
     "name": "stderr",
     "output_type": "stream",
     "text": [
      "Epoch 635: 100%|██████████| 938/938 [00:21<00:00, 43.99batch/s, Train Loss=0.262, Train Acc=90]  \n"
     ]
    },
    {
     "name": "stdout",
     "output_type": "stream",
     "text": [
      "Epoch 635\n",
      "Train Loss: 0.2623, Train Accuracy: 90.03%\n",
      "Test Loss: 0.2243, Test Accuracy: 91.93%\n",
      "\n"
     ]
    },
    {
     "name": "stderr",
     "output_type": "stream",
     "text": [
      "Epoch 636: 100%|██████████| 938/938 [00:21<00:00, 44.03batch/s, Train Loss=0.261, Train Acc=90]  \n"
     ]
    },
    {
     "name": "stdout",
     "output_type": "stream",
     "text": [
      "Epoch 636\n",
      "Train Loss: 0.2613, Train Accuracy: 89.97%\n",
      "Test Loss: 0.2269, Test Accuracy: 91.93%\n",
      "\n"
     ]
    },
    {
     "name": "stderr",
     "output_type": "stream",
     "text": [
      "Epoch 637: 100%|██████████| 938/938 [00:21<00:00, 43.99batch/s, Train Loss=0.262, Train Acc=90]  \n"
     ]
    },
    {
     "name": "stdout",
     "output_type": "stream",
     "text": [
      "Epoch 637\n",
      "Train Loss: 0.2623, Train Accuracy: 89.98%\n",
      "Test Loss: 0.2191, Test Accuracy: 91.98%\n",
      "\n"
     ]
    },
    {
     "name": "stderr",
     "output_type": "stream",
     "text": [
      "Epoch 638: 100%|██████████| 938/938 [00:21<00:00, 43.77batch/s, Train Loss=0.265, Train Acc=89.8]\n"
     ]
    },
    {
     "name": "stdout",
     "output_type": "stream",
     "text": [
      "Epoch 638\n",
      "Train Loss: 0.2650, Train Accuracy: 89.78%\n",
      "Test Loss: 0.2234, Test Accuracy: 92.14%\n",
      "\n"
     ]
    },
    {
     "name": "stderr",
     "output_type": "stream",
     "text": [
      "Epoch 639: 100%|██████████| 938/938 [00:21<00:00, 44.15batch/s, Train Loss=0.26, Train Acc=90.1] \n"
     ]
    },
    {
     "name": "stdout",
     "output_type": "stream",
     "text": [
      "Epoch 639\n",
      "Train Loss: 0.2603, Train Accuracy: 90.11%\n",
      "Test Loss: 0.2221, Test Accuracy: 91.90%\n",
      "\n"
     ]
    },
    {
     "name": "stderr",
     "output_type": "stream",
     "text": [
      "Epoch 640: 100%|██████████| 938/938 [00:21<00:00, 43.79batch/s, Train Loss=0.261, Train Acc=90]  \n"
     ]
    },
    {
     "name": "stdout",
     "output_type": "stream",
     "text": [
      "Epoch 640\n",
      "Train Loss: 0.2614, Train Accuracy: 90.01%\n",
      "Test Loss: 0.2240, Test Accuracy: 91.84%\n",
      "\n"
     ]
    },
    {
     "name": "stderr",
     "output_type": "stream",
     "text": [
      "Epoch 641: 100%|██████████| 938/938 [00:21<00:00, 43.85batch/s, Train Loss=0.262, Train Acc=90]  \n"
     ]
    },
    {
     "name": "stdout",
     "output_type": "stream",
     "text": [
      "Epoch 641\n",
      "Train Loss: 0.2620, Train Accuracy: 89.99%\n",
      "Test Loss: 0.2219, Test Accuracy: 92.13%\n",
      "\n"
     ]
    },
    {
     "name": "stderr",
     "output_type": "stream",
     "text": [
      "Epoch 642: 100%|██████████| 938/938 [00:21<00:00, 44.18batch/s, Train Loss=0.263, Train Acc=90]  \n"
     ]
    },
    {
     "name": "stdout",
     "output_type": "stream",
     "text": [
      "Epoch 642\n",
      "Train Loss: 0.2628, Train Accuracy: 89.95%\n",
      "Test Loss: 0.2228, Test Accuracy: 92.02%\n",
      "\n"
     ]
    },
    {
     "name": "stderr",
     "output_type": "stream",
     "text": [
      "Epoch 643: 100%|██████████| 938/938 [00:21<00:00, 43.69batch/s, Train Loss=0.261, Train Acc=90]  \n"
     ]
    },
    {
     "name": "stdout",
     "output_type": "stream",
     "text": [
      "Epoch 643\n",
      "Train Loss: 0.2608, Train Accuracy: 90.01%\n",
      "Test Loss: 0.2256, Test Accuracy: 91.76%\n",
      "\n"
     ]
    },
    {
     "name": "stderr",
     "output_type": "stream",
     "text": [
      "Epoch 644: 100%|██████████| 938/938 [00:21<00:00, 44.07batch/s, Train Loss=0.26, Train Acc=90.1] \n"
     ]
    },
    {
     "name": "stdout",
     "output_type": "stream",
     "text": [
      "Epoch 644\n",
      "Train Loss: 0.2598, Train Accuracy: 90.09%\n",
      "Test Loss: 0.2219, Test Accuracy: 92.13%\n",
      "\n"
     ]
    },
    {
     "name": "stderr",
     "output_type": "stream",
     "text": [
      "Epoch 645: 100%|██████████| 938/938 [00:21<00:00, 43.74batch/s, Train Loss=0.258, Train Acc=90.2]\n"
     ]
    },
    {
     "name": "stdout",
     "output_type": "stream",
     "text": [
      "Epoch 645\n",
      "Train Loss: 0.2578, Train Accuracy: 90.22%\n",
      "Test Loss: 0.2195, Test Accuracy: 92.07%\n",
      "\n"
     ]
    },
    {
     "name": "stderr",
     "output_type": "stream",
     "text": [
      "Epoch 646: 100%|██████████| 938/938 [00:21<00:00, 44.07batch/s, Train Loss=0.26, Train Acc=90.1] \n"
     ]
    },
    {
     "name": "stdout",
     "output_type": "stream",
     "text": [
      "Epoch 646\n",
      "Train Loss: 0.2601, Train Accuracy: 90.09%\n",
      "Test Loss: 0.2215, Test Accuracy: 92.19%\n",
      "\n"
     ]
    },
    {
     "name": "stderr",
     "output_type": "stream",
     "text": [
      "Epoch 647: 100%|██████████| 938/938 [00:21<00:00, 44.12batch/s, Train Loss=0.26, Train Acc=90]   \n"
     ]
    },
    {
     "name": "stdout",
     "output_type": "stream",
     "text": [
      "Epoch 647\n",
      "Train Loss: 0.2603, Train Accuracy: 89.97%\n",
      "Test Loss: 0.2272, Test Accuracy: 91.91%\n",
      "\n"
     ]
    },
    {
     "name": "stderr",
     "output_type": "stream",
     "text": [
      "Epoch 648: 100%|██████████| 938/938 [00:21<00:00, 43.95batch/s, Train Loss=0.263, Train Acc=89.8]\n"
     ]
    },
    {
     "name": "stdout",
     "output_type": "stream",
     "text": [
      "Epoch 648\n",
      "Train Loss: 0.2632, Train Accuracy: 89.85%\n",
      "Test Loss: 0.2243, Test Accuracy: 91.83%\n",
      "\n"
     ]
    },
    {
     "name": "stderr",
     "output_type": "stream",
     "text": [
      "Epoch 649: 100%|██████████| 938/938 [00:21<00:00, 43.84batch/s, Train Loss=0.262, Train Acc=90]  \n"
     ]
    },
    {
     "name": "stdout",
     "output_type": "stream",
     "text": [
      "Epoch 649\n",
      "Train Loss: 0.2619, Train Accuracy: 89.99%\n",
      "Test Loss: 0.2252, Test Accuracy: 91.84%\n",
      "\n"
     ]
    },
    {
     "name": "stderr",
     "output_type": "stream",
     "text": [
      "Epoch 650: 100%|██████████| 938/938 [00:21<00:00, 43.87batch/s, Train Loss=0.258, Train Acc=90]  \n"
     ]
    },
    {
     "name": "stdout",
     "output_type": "stream",
     "text": [
      "Epoch 650\n",
      "Train Loss: 0.2582, Train Accuracy: 90.05%\n",
      "Test Loss: 0.2272, Test Accuracy: 91.87%\n",
      "\n"
     ]
    },
    {
     "name": "stderr",
     "output_type": "stream",
     "text": [
      "Epoch 651: 100%|██████████| 938/938 [00:21<00:00, 43.84batch/s, Train Loss=0.26, Train Acc=90.2] \n"
     ]
    },
    {
     "name": "stdout",
     "output_type": "stream",
     "text": [
      "Epoch 651\n",
      "Train Loss: 0.2604, Train Accuracy: 90.17%\n",
      "Test Loss: 0.2268, Test Accuracy: 92.08%\n",
      "\n"
     ]
    },
    {
     "name": "stderr",
     "output_type": "stream",
     "text": [
      "Epoch 652: 100%|██████████| 938/938 [00:21<00:00, 43.80batch/s, Train Loss=0.263, Train Acc=89.9]\n"
     ]
    },
    {
     "name": "stdout",
     "output_type": "stream",
     "text": [
      "Epoch 652\n",
      "Train Loss: 0.2626, Train Accuracy: 89.91%\n",
      "Test Loss: 0.2282, Test Accuracy: 91.74%\n",
      "\n"
     ]
    },
    {
     "name": "stderr",
     "output_type": "stream",
     "text": [
      "Epoch 653: 100%|██████████| 938/938 [00:21<00:00, 43.91batch/s, Train Loss=0.262, Train Acc=90]  \n"
     ]
    },
    {
     "name": "stdout",
     "output_type": "stream",
     "text": [
      "Epoch 653\n",
      "Train Loss: 0.2625, Train Accuracy: 89.98%\n",
      "Test Loss: 0.2251, Test Accuracy: 92.10%\n",
      "\n"
     ]
    },
    {
     "name": "stderr",
     "output_type": "stream",
     "text": [
      "Epoch 654: 100%|██████████| 938/938 [00:21<00:00, 43.81batch/s, Train Loss=0.257, Train Acc=90.2]\n"
     ]
    },
    {
     "name": "stdout",
     "output_type": "stream",
     "text": [
      "Epoch 654\n",
      "Train Loss: 0.2574, Train Accuracy: 90.20%\n",
      "Test Loss: 0.2274, Test Accuracy: 91.81%\n",
      "\n"
     ]
    },
    {
     "name": "stderr",
     "output_type": "stream",
     "text": [
      "Epoch 655: 100%|██████████| 938/938 [00:21<00:00, 44.03batch/s, Train Loss=0.261, Train Acc=90]  \n"
     ]
    },
    {
     "name": "stdout",
     "output_type": "stream",
     "text": [
      "Epoch 655\n",
      "Train Loss: 0.2611, Train Accuracy: 90.02%\n",
      "Test Loss: 0.2294, Test Accuracy: 91.83%\n",
      "\n"
     ]
    },
    {
     "name": "stderr",
     "output_type": "stream",
     "text": [
      "Epoch 656: 100%|██████████| 938/938 [00:21<00:00, 43.88batch/s, Train Loss=0.259, Train Acc=90.1]\n"
     ]
    },
    {
     "name": "stdout",
     "output_type": "stream",
     "text": [
      "Epoch 656\n",
      "Train Loss: 0.2592, Train Accuracy: 90.11%\n",
      "Test Loss: 0.2242, Test Accuracy: 91.99%\n",
      "\n"
     ]
    },
    {
     "name": "stderr",
     "output_type": "stream",
     "text": [
      "Epoch 657: 100%|██████████| 938/938 [00:21<00:00, 43.81batch/s, Train Loss=0.261, Train Acc=90]  \n"
     ]
    },
    {
     "name": "stdout",
     "output_type": "stream",
     "text": [
      "Epoch 657\n",
      "Train Loss: 0.2609, Train Accuracy: 90.05%\n",
      "Test Loss: 0.2252, Test Accuracy: 91.88%\n",
      "\n"
     ]
    },
    {
     "name": "stderr",
     "output_type": "stream",
     "text": [
      "Epoch 658: 100%|██████████| 938/938 [00:21<00:00, 43.77batch/s, Train Loss=0.259, Train Acc=90.1]\n"
     ]
    },
    {
     "name": "stdout",
     "output_type": "stream",
     "text": [
      "Epoch 658\n",
      "Train Loss: 0.2590, Train Accuracy: 90.14%\n",
      "Test Loss: 0.2268, Test Accuracy: 91.68%\n",
      "\n"
     ]
    },
    {
     "name": "stderr",
     "output_type": "stream",
     "text": [
      "Epoch 659: 100%|██████████| 938/938 [00:21<00:00, 43.77batch/s, Train Loss=0.263, Train Acc=90]  \n"
     ]
    },
    {
     "name": "stdout",
     "output_type": "stream",
     "text": [
      "Epoch 659\n",
      "Train Loss: 0.2627, Train Accuracy: 90.00%\n",
      "Test Loss: 0.2255, Test Accuracy: 91.89%\n",
      "\n"
     ]
    },
    {
     "name": "stderr",
     "output_type": "stream",
     "text": [
      "Epoch 660: 100%|██████████| 938/938 [00:21<00:00, 43.79batch/s, Train Loss=0.259, Train Acc=90]  \n"
     ]
    },
    {
     "name": "stdout",
     "output_type": "stream",
     "text": [
      "Epoch 660\n",
      "Train Loss: 0.2585, Train Accuracy: 90.01%\n",
      "Test Loss: 0.2272, Test Accuracy: 91.89%\n",
      "\n"
     ]
    },
    {
     "name": "stderr",
     "output_type": "stream",
     "text": [
      "Epoch 661: 100%|██████████| 938/938 [00:21<00:00, 43.89batch/s, Train Loss=0.262, Train Acc=90.1]\n"
     ]
    },
    {
     "name": "stdout",
     "output_type": "stream",
     "text": [
      "Epoch 661\n",
      "Train Loss: 0.2615, Train Accuracy: 90.07%\n",
      "Test Loss: 0.2268, Test Accuracy: 91.78%\n",
      "\n"
     ]
    },
    {
     "name": "stderr",
     "output_type": "stream",
     "text": [
      "Epoch 662: 100%|██████████| 938/938 [00:21<00:00, 43.79batch/s, Train Loss=0.257, Train Acc=90]  \n"
     ]
    },
    {
     "name": "stdout",
     "output_type": "stream",
     "text": [
      "Epoch 662\n",
      "Train Loss: 0.2567, Train Accuracy: 90.00%\n",
      "Test Loss: 0.2243, Test Accuracy: 92.02%\n",
      "\n"
     ]
    },
    {
     "name": "stderr",
     "output_type": "stream",
     "text": [
      "Epoch 663: 100%|██████████| 938/938 [00:21<00:00, 43.72batch/s, Train Loss=0.261, Train Acc=90]  \n"
     ]
    },
    {
     "name": "stdout",
     "output_type": "stream",
     "text": [
      "Epoch 663\n",
      "Train Loss: 0.2609, Train Accuracy: 90.04%\n",
      "Test Loss: 0.2224, Test Accuracy: 92.09%\n",
      "\n"
     ]
    },
    {
     "name": "stderr",
     "output_type": "stream",
     "text": [
      "Epoch 664: 100%|██████████| 938/938 [00:21<00:00, 43.83batch/s, Train Loss=0.258, Train Acc=90.2]\n"
     ]
    },
    {
     "name": "stdout",
     "output_type": "stream",
     "text": [
      "Epoch 664\n",
      "Train Loss: 0.2581, Train Accuracy: 90.16%\n",
      "Test Loss: 0.2235, Test Accuracy: 91.90%\n",
      "\n"
     ]
    },
    {
     "name": "stderr",
     "output_type": "stream",
     "text": [
      "Epoch 665: 100%|██████████| 938/938 [00:21<00:00, 43.90batch/s, Train Loss=0.256, Train Acc=90.2]\n"
     ]
    },
    {
     "name": "stdout",
     "output_type": "stream",
     "text": [
      "Epoch 665\n",
      "Train Loss: 0.2564, Train Accuracy: 90.16%\n",
      "Test Loss: 0.2263, Test Accuracy: 91.88%\n",
      "\n"
     ]
    },
    {
     "name": "stderr",
     "output_type": "stream",
     "text": [
      "Epoch 666: 100%|██████████| 938/938 [00:21<00:00, 43.70batch/s, Train Loss=0.258, Train Acc=90.2]\n"
     ]
    },
    {
     "name": "stdout",
     "output_type": "stream",
     "text": [
      "Epoch 666\n",
      "Train Loss: 0.2579, Train Accuracy: 90.22%\n",
      "Test Loss: 0.2238, Test Accuracy: 92.15%\n",
      "\n"
     ]
    },
    {
     "name": "stderr",
     "output_type": "stream",
     "text": [
      "Epoch 667: 100%|██████████| 938/938 [00:21<00:00, 44.10batch/s, Train Loss=0.257, Train Acc=90.2]\n"
     ]
    },
    {
     "name": "stdout",
     "output_type": "stream",
     "text": [
      "Epoch 667\n",
      "Train Loss: 0.2572, Train Accuracy: 90.21%\n",
      "Test Loss: 0.2278, Test Accuracy: 91.58%\n",
      "\n"
     ]
    },
    {
     "name": "stderr",
     "output_type": "stream",
     "text": [
      "Epoch 668: 100%|██████████| 938/938 [00:21<00:00, 43.83batch/s, Train Loss=0.261, Train Acc=90]  \n"
     ]
    },
    {
     "name": "stdout",
     "output_type": "stream",
     "text": [
      "Epoch 668\n",
      "Train Loss: 0.2608, Train Accuracy: 90.02%\n",
      "Test Loss: 0.2235, Test Accuracy: 91.96%\n",
      "\n"
     ]
    },
    {
     "name": "stderr",
     "output_type": "stream",
     "text": [
      "Epoch 669: 100%|██████████| 938/938 [00:21<00:00, 43.74batch/s, Train Loss=0.256, Train Acc=90.1]\n"
     ]
    },
    {
     "name": "stdout",
     "output_type": "stream",
     "text": [
      "Epoch 669\n",
      "Train Loss: 0.2564, Train Accuracy: 90.11%\n",
      "Test Loss: 0.2256, Test Accuracy: 91.93%\n",
      "\n"
     ]
    },
    {
     "name": "stderr",
     "output_type": "stream",
     "text": [
      "Epoch 670: 100%|██████████| 938/938 [00:21<00:00, 43.73batch/s, Train Loss=0.256, Train Acc=90.4]\n"
     ]
    },
    {
     "name": "stdout",
     "output_type": "stream",
     "text": [
      "Epoch 670\n",
      "Train Loss: 0.2560, Train Accuracy: 90.36%\n",
      "Test Loss: 0.2287, Test Accuracy: 91.76%\n",
      "\n"
     ]
    },
    {
     "name": "stderr",
     "output_type": "stream",
     "text": [
      "Epoch 671: 100%|██████████| 938/938 [00:21<00:00, 43.86batch/s, Train Loss=0.259, Train Acc=90.1]\n"
     ]
    },
    {
     "name": "stdout",
     "output_type": "stream",
     "text": [
      "Epoch 671\n",
      "Train Loss: 0.2592, Train Accuracy: 90.08%\n",
      "Test Loss: 0.2230, Test Accuracy: 92.12%\n",
      "\n"
     ]
    },
    {
     "name": "stderr",
     "output_type": "stream",
     "text": [
      "Epoch 672: 100%|██████████| 938/938 [00:21<00:00, 43.74batch/s, Train Loss=0.256, Train Acc=90.3]\n"
     ]
    },
    {
     "name": "stdout",
     "output_type": "stream",
     "text": [
      "Epoch 672\n",
      "Train Loss: 0.2559, Train Accuracy: 90.31%\n",
      "Test Loss: 0.2277, Test Accuracy: 91.72%\n",
      "\n"
     ]
    },
    {
     "name": "stderr",
     "output_type": "stream",
     "text": [
      "Epoch 673: 100%|██████████| 938/938 [00:21<00:00, 44.08batch/s, Train Loss=0.259, Train Acc=90.2]\n"
     ]
    },
    {
     "name": "stdout",
     "output_type": "stream",
     "text": [
      "Epoch 673\n",
      "Train Loss: 0.2589, Train Accuracy: 90.22%\n",
      "Test Loss: 0.2252, Test Accuracy: 91.70%\n",
      "\n"
     ]
    },
    {
     "name": "stderr",
     "output_type": "stream",
     "text": [
      "Epoch 674: 100%|██████████| 938/938 [00:21<00:00, 43.51batch/s, Train Loss=0.257, Train Acc=90.3]\n"
     ]
    },
    {
     "name": "stdout",
     "output_type": "stream",
     "text": [
      "Epoch 674\n",
      "Train Loss: 0.2571, Train Accuracy: 90.30%\n",
      "Test Loss: 0.2256, Test Accuracy: 91.74%\n",
      "\n"
     ]
    },
    {
     "name": "stderr",
     "output_type": "stream",
     "text": [
      "Epoch 675: 100%|██████████| 938/938 [00:21<00:00, 44.13batch/s, Train Loss=0.256, Train Acc=90.2]\n"
     ]
    },
    {
     "name": "stdout",
     "output_type": "stream",
     "text": [
      "Epoch 675\n",
      "Train Loss: 0.2555, Train Accuracy: 90.20%\n",
      "Test Loss: 0.2188, Test Accuracy: 92.25%\n",
      "\n"
     ]
    },
    {
     "name": "stderr",
     "output_type": "stream",
     "text": [
      "Epoch 676: 100%|██████████| 938/938 [00:21<00:00, 44.05batch/s, Train Loss=0.257, Train Acc=90.2]\n"
     ]
    },
    {
     "name": "stdout",
     "output_type": "stream",
     "text": [
      "Epoch 676\n",
      "Train Loss: 0.2568, Train Accuracy: 90.22%\n",
      "Test Loss: 0.2218, Test Accuracy: 92.24%\n",
      "\n"
     ]
    },
    {
     "name": "stderr",
     "output_type": "stream",
     "text": [
      "Epoch 677: 100%|██████████| 938/938 [00:21<00:00, 43.87batch/s, Train Loss=0.253, Train Acc=90.4]\n"
     ]
    },
    {
     "name": "stdout",
     "output_type": "stream",
     "text": [
      "Epoch 677\n",
      "Train Loss: 0.2534, Train Accuracy: 90.36%\n",
      "Test Loss: 0.2228, Test Accuracy: 92.23%\n",
      "\n"
     ]
    },
    {
     "name": "stderr",
     "output_type": "stream",
     "text": [
      "Epoch 678: 100%|██████████| 938/938 [00:21<00:00, 43.97batch/s, Train Loss=0.259, Train Acc=90.1]\n"
     ]
    },
    {
     "name": "stdout",
     "output_type": "stream",
     "text": [
      "Epoch 678\n",
      "Train Loss: 0.2587, Train Accuracy: 90.07%\n",
      "Test Loss: 0.2225, Test Accuracy: 92.09%\n",
      "\n"
     ]
    },
    {
     "name": "stderr",
     "output_type": "stream",
     "text": [
      "Epoch 679: 100%|██████████| 938/938 [00:21<00:00, 43.99batch/s, Train Loss=0.255, Train Acc=90.3]\n"
     ]
    },
    {
     "name": "stdout",
     "output_type": "stream",
     "text": [
      "Epoch 679\n",
      "Train Loss: 0.2553, Train Accuracy: 90.25%\n",
      "Test Loss: 0.2283, Test Accuracy: 91.80%\n",
      "\n"
     ]
    },
    {
     "name": "stderr",
     "output_type": "stream",
     "text": [
      "Epoch 680: 100%|██████████| 938/938 [00:21<00:00, 43.80batch/s, Train Loss=0.252, Train Acc=90.4]\n"
     ]
    },
    {
     "name": "stdout",
     "output_type": "stream",
     "text": [
      "Epoch 680\n",
      "Train Loss: 0.2518, Train Accuracy: 90.43%\n",
      "Test Loss: 0.2235, Test Accuracy: 91.94%\n",
      "\n"
     ]
    },
    {
     "name": "stderr",
     "output_type": "stream",
     "text": [
      "Epoch 681: 100%|██████████| 938/938 [00:21<00:00, 43.65batch/s, Train Loss=0.254, Train Acc=90.3]\n"
     ]
    },
    {
     "name": "stdout",
     "output_type": "stream",
     "text": [
      "Epoch 681\n",
      "Train Loss: 0.2542, Train Accuracy: 90.27%\n",
      "Test Loss: 0.2233, Test Accuracy: 91.90%\n",
      "\n"
     ]
    },
    {
     "name": "stderr",
     "output_type": "stream",
     "text": [
      "Epoch 682: 100%|██████████| 938/938 [00:21<00:00, 43.99batch/s, Train Loss=0.252, Train Acc=90.5]\n"
     ]
    },
    {
     "name": "stdout",
     "output_type": "stream",
     "text": [
      "Epoch 682\n",
      "Train Loss: 0.2522, Train Accuracy: 90.45%\n",
      "Test Loss: 0.2253, Test Accuracy: 92.01%\n",
      "\n"
     ]
    },
    {
     "name": "stderr",
     "output_type": "stream",
     "text": [
      "Epoch 683: 100%|██████████| 938/938 [00:21<00:00, 44.07batch/s, Train Loss=0.256, Train Acc=90.2]\n"
     ]
    },
    {
     "name": "stdout",
     "output_type": "stream",
     "text": [
      "Epoch 683\n",
      "Train Loss: 0.2556, Train Accuracy: 90.25%\n",
      "Test Loss: 0.2217, Test Accuracy: 91.85%\n",
      "\n"
     ]
    },
    {
     "name": "stderr",
     "output_type": "stream",
     "text": [
      "Epoch 684: 100%|██████████| 938/938 [00:21<00:00, 44.02batch/s, Train Loss=0.254, Train Acc=90.2]\n"
     ]
    },
    {
     "name": "stdout",
     "output_type": "stream",
     "text": [
      "Epoch 684\n",
      "Train Loss: 0.2542, Train Accuracy: 90.16%\n",
      "Test Loss: 0.2294, Test Accuracy: 91.86%\n",
      "\n"
     ]
    },
    {
     "name": "stderr",
     "output_type": "stream",
     "text": [
      "Epoch 685: 100%|██████████| 938/938 [00:21<00:00, 43.85batch/s, Train Loss=0.254, Train Acc=90.4]\n"
     ]
    },
    {
     "name": "stdout",
     "output_type": "stream",
     "text": [
      "Epoch 685\n",
      "Train Loss: 0.2544, Train Accuracy: 90.35%\n",
      "Test Loss: 0.2247, Test Accuracy: 91.84%\n",
      "\n"
     ]
    },
    {
     "name": "stderr",
     "output_type": "stream",
     "text": [
      "Epoch 686: 100%|██████████| 938/938 [00:21<00:00, 44.16batch/s, Train Loss=0.255, Train Acc=90.2]\n"
     ]
    },
    {
     "name": "stdout",
     "output_type": "stream",
     "text": [
      "Epoch 686\n",
      "Train Loss: 0.2553, Train Accuracy: 90.25%\n",
      "Test Loss: 0.2212, Test Accuracy: 92.07%\n",
      "\n"
     ]
    },
    {
     "name": "stderr",
     "output_type": "stream",
     "text": [
      "Epoch 687: 100%|██████████| 938/938 [00:21<00:00, 43.97batch/s, Train Loss=0.255, Train Acc=90.2]\n"
     ]
    },
    {
     "name": "stdout",
     "output_type": "stream",
     "text": [
      "Epoch 687\n",
      "Train Loss: 0.2546, Train Accuracy: 90.22%\n",
      "Test Loss: 0.2253, Test Accuracy: 92.05%\n",
      "\n"
     ]
    },
    {
     "name": "stderr",
     "output_type": "stream",
     "text": [
      "Epoch 688: 100%|██████████| 938/938 [00:21<00:00, 43.97batch/s, Train Loss=0.255, Train Acc=90.2]\n"
     ]
    },
    {
     "name": "stdout",
     "output_type": "stream",
     "text": [
      "Epoch 688\n",
      "Train Loss: 0.2555, Train Accuracy: 90.20%\n",
      "Test Loss: 0.2230, Test Accuracy: 91.89%\n",
      "\n"
     ]
    },
    {
     "name": "stderr",
     "output_type": "stream",
     "text": [
      "Epoch 689: 100%|██████████| 938/938 [00:21<00:00, 43.94batch/s, Train Loss=0.255, Train Acc=90.2]\n"
     ]
    },
    {
     "name": "stdout",
     "output_type": "stream",
     "text": [
      "Epoch 689\n",
      "Train Loss: 0.2553, Train Accuracy: 90.24%\n",
      "Test Loss: 0.2223, Test Accuracy: 91.79%\n",
      "\n"
     ]
    },
    {
     "name": "stderr",
     "output_type": "stream",
     "text": [
      "Epoch 690: 100%|██████████| 938/938 [00:21<00:00, 43.66batch/s, Train Loss=0.254, Train Acc=90.2]\n"
     ]
    },
    {
     "name": "stdout",
     "output_type": "stream",
     "text": [
      "Epoch 690\n",
      "Train Loss: 0.2541, Train Accuracy: 90.18%\n",
      "Test Loss: 0.2228, Test Accuracy: 91.79%\n",
      "\n"
     ]
    },
    {
     "name": "stderr",
     "output_type": "stream",
     "text": [
      "Epoch 691: 100%|██████████| 938/938 [00:21<00:00, 43.98batch/s, Train Loss=0.255, Train Acc=90.2]\n"
     ]
    },
    {
     "name": "stdout",
     "output_type": "stream",
     "text": [
      "Epoch 691\n",
      "Train Loss: 0.2546, Train Accuracy: 90.22%\n",
      "Test Loss: 0.2250, Test Accuracy: 92.07%\n",
      "\n"
     ]
    },
    {
     "name": "stderr",
     "output_type": "stream",
     "text": [
      "Epoch 692: 100%|██████████| 938/938 [00:21<00:00, 43.79batch/s, Train Loss=0.255, Train Acc=90.2]\n"
     ]
    },
    {
     "name": "stdout",
     "output_type": "stream",
     "text": [
      "Epoch 692\n",
      "Train Loss: 0.2555, Train Accuracy: 90.17%\n",
      "Test Loss: 0.2218, Test Accuracy: 91.96%\n",
      "\n"
     ]
    },
    {
     "name": "stderr",
     "output_type": "stream",
     "text": [
      "Epoch 693: 100%|██████████| 938/938 [00:21<00:00, 43.84batch/s, Train Loss=0.252, Train Acc=90.4]\n"
     ]
    },
    {
     "name": "stdout",
     "output_type": "stream",
     "text": [
      "Epoch 693\n",
      "Train Loss: 0.2515, Train Accuracy: 90.36%\n",
      "Test Loss: 0.2229, Test Accuracy: 92.15%\n",
      "\n"
     ]
    },
    {
     "name": "stderr",
     "output_type": "stream",
     "text": [
      "Epoch 694: 100%|██████████| 938/938 [00:21<00:00, 43.89batch/s, Train Loss=0.254, Train Acc=90.3]\n"
     ]
    },
    {
     "name": "stdout",
     "output_type": "stream",
     "text": [
      "Epoch 694\n",
      "Train Loss: 0.2544, Train Accuracy: 90.25%\n",
      "Test Loss: 0.2234, Test Accuracy: 91.91%\n",
      "\n"
     ]
    },
    {
     "name": "stderr",
     "output_type": "stream",
     "text": [
      "Epoch 695: 100%|██████████| 938/938 [00:21<00:00, 44.02batch/s, Train Loss=0.252, Train Acc=90.3]\n"
     ]
    },
    {
     "name": "stdout",
     "output_type": "stream",
     "text": [
      "Epoch 695\n",
      "Train Loss: 0.2518, Train Accuracy: 90.31%\n",
      "Test Loss: 0.2200, Test Accuracy: 92.12%\n",
      "\n"
     ]
    },
    {
     "name": "stderr",
     "output_type": "stream",
     "text": [
      "Epoch 696: 100%|██████████| 938/938 [00:21<00:00, 44.28batch/s, Train Loss=0.259, Train Acc=90]  \n"
     ]
    },
    {
     "name": "stdout",
     "output_type": "stream",
     "text": [
      "Epoch 696\n",
      "Train Loss: 0.2586, Train Accuracy: 89.98%\n",
      "Test Loss: 0.2207, Test Accuracy: 92.15%\n",
      "\n"
     ]
    },
    {
     "name": "stderr",
     "output_type": "stream",
     "text": [
      "Epoch 697: 100%|██████████| 938/938 [00:21<00:00, 43.85batch/s, Train Loss=0.252, Train Acc=90.2]\n"
     ]
    },
    {
     "name": "stdout",
     "output_type": "stream",
     "text": [
      "Epoch 697\n",
      "Train Loss: 0.2516, Train Accuracy: 90.25%\n",
      "Test Loss: 0.2213, Test Accuracy: 91.85%\n",
      "\n"
     ]
    },
    {
     "name": "stderr",
     "output_type": "stream",
     "text": [
      "Epoch 698: 100%|██████████| 938/938 [00:21<00:00, 43.85batch/s, Train Loss=0.251, Train Acc=90.4]\n"
     ]
    },
    {
     "name": "stdout",
     "output_type": "stream",
     "text": [
      "Epoch 698\n",
      "Train Loss: 0.2508, Train Accuracy: 90.44%\n",
      "Test Loss: 0.2237, Test Accuracy: 91.96%\n",
      "\n"
     ]
    },
    {
     "name": "stderr",
     "output_type": "stream",
     "text": [
      "Epoch 699: 100%|██████████| 938/938 [00:21<00:00, 43.93batch/s, Train Loss=0.256, Train Acc=90.2]\n"
     ]
    },
    {
     "name": "stdout",
     "output_type": "stream",
     "text": [
      "Epoch 699\n",
      "Train Loss: 0.2557, Train Accuracy: 90.23%\n",
      "Test Loss: 0.2235, Test Accuracy: 91.96%\n",
      "\n"
     ]
    },
    {
     "name": "stderr",
     "output_type": "stream",
     "text": [
      "Epoch 700: 100%|██████████| 938/938 [00:21<00:00, 43.79batch/s, Train Loss=0.253, Train Acc=90.3]\n"
     ]
    },
    {
     "name": "stdout",
     "output_type": "stream",
     "text": [
      "Epoch 700\n",
      "Train Loss: 0.2527, Train Accuracy: 90.28%\n",
      "Test Loss: 0.2267, Test Accuracy: 91.94%\n",
      "\n"
     ]
    },
    {
     "name": "stderr",
     "output_type": "stream",
     "text": [
      "Epoch 701: 100%|██████████| 938/938 [00:21<00:00, 44.05batch/s, Train Loss=0.252, Train Acc=90.3]\n"
     ]
    },
    {
     "name": "stdout",
     "output_type": "stream",
     "text": [
      "Epoch 701\n",
      "Train Loss: 0.2517, Train Accuracy: 90.31%\n",
      "Test Loss: 0.2265, Test Accuracy: 91.92%\n",
      "\n"
     ]
    },
    {
     "name": "stderr",
     "output_type": "stream",
     "text": [
      "Epoch 702: 100%|██████████| 938/938 [00:21<00:00, 43.85batch/s, Train Loss=0.254, Train Acc=90.3]\n"
     ]
    },
    {
     "name": "stdout",
     "output_type": "stream",
     "text": [
      "Epoch 702\n",
      "Train Loss: 0.2535, Train Accuracy: 90.34%\n",
      "Test Loss: 0.2281, Test Accuracy: 91.72%\n",
      "\n"
     ]
    },
    {
     "name": "stderr",
     "output_type": "stream",
     "text": [
      "Epoch 703: 100%|██████████| 938/938 [00:21<00:00, 43.97batch/s, Train Loss=0.25, Train Acc=90.5] \n"
     ]
    },
    {
     "name": "stdout",
     "output_type": "stream",
     "text": [
      "Epoch 703\n",
      "Train Loss: 0.2499, Train Accuracy: 90.51%\n",
      "Test Loss: 0.2285, Test Accuracy: 91.59%\n",
      "\n"
     ]
    },
    {
     "name": "stderr",
     "output_type": "stream",
     "text": [
      "Epoch 704: 100%|██████████| 938/938 [00:21<00:00, 43.70batch/s, Train Loss=0.253, Train Acc=90.4]\n"
     ]
    },
    {
     "name": "stdout",
     "output_type": "stream",
     "text": [
      "Epoch 704\n",
      "Train Loss: 0.2531, Train Accuracy: 90.36%\n",
      "Test Loss: 0.2273, Test Accuracy: 91.90%\n",
      "\n"
     ]
    },
    {
     "name": "stderr",
     "output_type": "stream",
     "text": [
      "Epoch 705: 100%|██████████| 938/938 [00:21<00:00, 43.93batch/s, Train Loss=0.253, Train Acc=90.4]\n"
     ]
    },
    {
     "name": "stdout",
     "output_type": "stream",
     "text": [
      "Epoch 705\n",
      "Train Loss: 0.2528, Train Accuracy: 90.42%\n",
      "Test Loss: 0.2245, Test Accuracy: 91.81%\n",
      "\n"
     ]
    },
    {
     "name": "stderr",
     "output_type": "stream",
     "text": [
      "Epoch 706: 100%|██████████| 938/938 [00:21<00:00, 43.87batch/s, Train Loss=0.25, Train Acc=90.4] \n"
     ]
    },
    {
     "name": "stdout",
     "output_type": "stream",
     "text": [
      "Epoch 706\n",
      "Train Loss: 0.2497, Train Accuracy: 90.38%\n",
      "Test Loss: 0.2287, Test Accuracy: 91.77%\n",
      "\n"
     ]
    },
    {
     "name": "stderr",
     "output_type": "stream",
     "text": [
      "Epoch 707: 100%|██████████| 938/938 [00:21<00:00, 43.87batch/s, Train Loss=0.253, Train Acc=90.3]\n"
     ]
    },
    {
     "name": "stdout",
     "output_type": "stream",
     "text": [
      "Epoch 707\n",
      "Train Loss: 0.2532, Train Accuracy: 90.35%\n",
      "Test Loss: 0.2235, Test Accuracy: 92.00%\n",
      "\n"
     ]
    },
    {
     "name": "stderr",
     "output_type": "stream",
     "text": [
      "Epoch 708: 100%|██████████| 938/938 [00:21<00:00, 43.83batch/s, Train Loss=0.25, Train Acc=90.3] \n"
     ]
    },
    {
     "name": "stdout",
     "output_type": "stream",
     "text": [
      "Epoch 708\n",
      "Train Loss: 0.2503, Train Accuracy: 90.33%\n",
      "Test Loss: 0.2295, Test Accuracy: 91.90%\n",
      "\n"
     ]
    },
    {
     "name": "stderr",
     "output_type": "stream",
     "text": [
      "Epoch 709: 100%|██████████| 938/938 [00:21<00:00, 43.77batch/s, Train Loss=0.253, Train Acc=90.4]\n"
     ]
    },
    {
     "name": "stdout",
     "output_type": "stream",
     "text": [
      "Epoch 709\n",
      "Train Loss: 0.2532, Train Accuracy: 90.41%\n",
      "Test Loss: 0.2238, Test Accuracy: 92.03%\n",
      "\n"
     ]
    },
    {
     "name": "stderr",
     "output_type": "stream",
     "text": [
      "Epoch 710: 100%|██████████| 938/938 [00:21<00:00, 43.88batch/s, Train Loss=0.251, Train Acc=90.4]\n"
     ]
    },
    {
     "name": "stdout",
     "output_type": "stream",
     "text": [
      "Epoch 710\n",
      "Train Loss: 0.2506, Train Accuracy: 90.43%\n",
      "Test Loss: 0.2297, Test Accuracy: 91.85%\n",
      "\n"
     ]
    },
    {
     "name": "stderr",
     "output_type": "stream",
     "text": [
      "Epoch 711: 100%|██████████| 938/938 [00:21<00:00, 43.78batch/s, Train Loss=0.251, Train Acc=90.5]\n"
     ]
    },
    {
     "name": "stdout",
     "output_type": "stream",
     "text": [
      "Epoch 711\n",
      "Train Loss: 0.2508, Train Accuracy: 90.47%\n",
      "Test Loss: 0.2245, Test Accuracy: 92.00%\n",
      "\n"
     ]
    },
    {
     "name": "stderr",
     "output_type": "stream",
     "text": [
      "Epoch 712: 100%|██████████| 938/938 [00:21<00:00, 43.83batch/s, Train Loss=0.252, Train Acc=90.3]\n"
     ]
    },
    {
     "name": "stdout",
     "output_type": "stream",
     "text": [
      "Epoch 712\n",
      "Train Loss: 0.2523, Train Accuracy: 90.33%\n",
      "Test Loss: 0.2304, Test Accuracy: 92.11%\n",
      "\n"
     ]
    },
    {
     "name": "stderr",
     "output_type": "stream",
     "text": [
      "Epoch 713: 100%|██████████| 938/938 [00:21<00:00, 43.87batch/s, Train Loss=0.25, Train Acc=90.4] \n"
     ]
    },
    {
     "name": "stdout",
     "output_type": "stream",
     "text": [
      "Epoch 713\n",
      "Train Loss: 0.2499, Train Accuracy: 90.42%\n",
      "Test Loss: 0.2242, Test Accuracy: 92.17%\n",
      "\n"
     ]
    },
    {
     "name": "stderr",
     "output_type": "stream",
     "text": [
      "Epoch 714: 100%|██████████| 938/938 [00:21<00:00, 43.87batch/s, Train Loss=0.251, Train Acc=90.4]\n"
     ]
    },
    {
     "name": "stdout",
     "output_type": "stream",
     "text": [
      "Epoch 714\n",
      "Train Loss: 0.2514, Train Accuracy: 90.37%\n",
      "Test Loss: 0.2259, Test Accuracy: 92.02%\n",
      "\n"
     ]
    },
    {
     "name": "stderr",
     "output_type": "stream",
     "text": [
      "Epoch 715: 100%|██████████| 938/938 [00:21<00:00, 44.00batch/s, Train Loss=0.255, Train Acc=90.3]\n"
     ]
    },
    {
     "name": "stdout",
     "output_type": "stream",
     "text": [
      "Epoch 715\n",
      "Train Loss: 0.2550, Train Accuracy: 90.27%\n",
      "Test Loss: 0.2294, Test Accuracy: 91.97%\n",
      "\n"
     ]
    },
    {
     "name": "stderr",
     "output_type": "stream",
     "text": [
      "Epoch 716: 100%|██████████| 938/938 [00:21<00:00, 43.67batch/s, Train Loss=0.244, Train Acc=90.7]\n"
     ]
    },
    {
     "name": "stdout",
     "output_type": "stream",
     "text": [
      "Epoch 716\n",
      "Train Loss: 0.2445, Train Accuracy: 90.73%\n",
      "Test Loss: 0.2318, Test Accuracy: 91.81%\n",
      "\n"
     ]
    },
    {
     "name": "stderr",
     "output_type": "stream",
     "text": [
      "Epoch 717: 100%|██████████| 938/938 [00:21<00:00, 43.74batch/s, Train Loss=0.249, Train Acc=90.4]\n"
     ]
    },
    {
     "name": "stdout",
     "output_type": "stream",
     "text": [
      "Epoch 717\n",
      "Train Loss: 0.2492, Train Accuracy: 90.44%\n",
      "Test Loss: 0.2322, Test Accuracy: 91.72%\n",
      "\n"
     ]
    },
    {
     "name": "stderr",
     "output_type": "stream",
     "text": [
      "Epoch 718: 100%|██████████| 938/938 [00:21<00:00, 43.80batch/s, Train Loss=0.249, Train Acc=90.4]\n"
     ]
    },
    {
     "name": "stdout",
     "output_type": "stream",
     "text": [
      "Epoch 718\n",
      "Train Loss: 0.2491, Train Accuracy: 90.38%\n",
      "Test Loss: 0.2253, Test Accuracy: 92.15%\n",
      "\n"
     ]
    },
    {
     "name": "stderr",
     "output_type": "stream",
     "text": [
      "Epoch 719: 100%|██████████| 938/938 [00:21<00:00, 43.84batch/s, Train Loss=0.252, Train Acc=90.2]\n"
     ]
    },
    {
     "name": "stdout",
     "output_type": "stream",
     "text": [
      "Epoch 719\n",
      "Train Loss: 0.2524, Train Accuracy: 90.25%\n",
      "Test Loss: 0.2274, Test Accuracy: 91.81%\n",
      "\n"
     ]
    },
    {
     "name": "stderr",
     "output_type": "stream",
     "text": [
      "Epoch 720: 100%|██████████| 938/938 [00:21<00:00, 43.89batch/s, Train Loss=0.248, Train Acc=90.4]\n"
     ]
    },
    {
     "name": "stdout",
     "output_type": "stream",
     "text": [
      "Epoch 720\n",
      "Train Loss: 0.2478, Train Accuracy: 90.44%\n",
      "Test Loss: 0.2258, Test Accuracy: 91.97%\n",
      "\n"
     ]
    },
    {
     "name": "stderr",
     "output_type": "stream",
     "text": [
      "Epoch 721: 100%|██████████| 938/938 [00:21<00:00, 43.91batch/s, Train Loss=0.247, Train Acc=90.3]\n"
     ]
    },
    {
     "name": "stdout",
     "output_type": "stream",
     "text": [
      "Epoch 721\n",
      "Train Loss: 0.2473, Train Accuracy: 90.33%\n",
      "Test Loss: 0.2248, Test Accuracy: 92.11%\n",
      "\n"
     ]
    },
    {
     "name": "stderr",
     "output_type": "stream",
     "text": [
      "Epoch 722: 100%|██████████| 938/938 [00:21<00:00, 44.06batch/s, Train Loss=0.252, Train Acc=90.3]\n"
     ]
    },
    {
     "name": "stdout",
     "output_type": "stream",
     "text": [
      "Epoch 722\n",
      "Train Loss: 0.2516, Train Accuracy: 90.34%\n",
      "Test Loss: 0.2243, Test Accuracy: 92.15%\n",
      "\n"
     ]
    },
    {
     "name": "stderr",
     "output_type": "stream",
     "text": [
      "Epoch 723: 100%|██████████| 938/938 [00:21<00:00, 43.92batch/s, Train Loss=0.25, Train Acc=90.4] \n"
     ]
    },
    {
     "name": "stdout",
     "output_type": "stream",
     "text": [
      "Epoch 723\n",
      "Train Loss: 0.2503, Train Accuracy: 90.40%\n",
      "Test Loss: 0.2245, Test Accuracy: 91.99%\n",
      "\n"
     ]
    },
    {
     "name": "stderr",
     "output_type": "stream",
     "text": [
      "Epoch 724: 100%|██████████| 938/938 [00:21<00:00, 43.97batch/s, Train Loss=0.247, Train Acc=90.6]\n"
     ]
    },
    {
     "name": "stdout",
     "output_type": "stream",
     "text": [
      "Epoch 724\n",
      "Train Loss: 0.2467, Train Accuracy: 90.56%\n",
      "Test Loss: 0.2215, Test Accuracy: 91.98%\n",
      "\n"
     ]
    },
    {
     "name": "stderr",
     "output_type": "stream",
     "text": [
      "Epoch 725: 100%|██████████| 938/938 [00:21<00:00, 43.80batch/s, Train Loss=0.248, Train Acc=90.4]\n"
     ]
    },
    {
     "name": "stdout",
     "output_type": "stream",
     "text": [
      "Epoch 725\n",
      "Train Loss: 0.2479, Train Accuracy: 90.44%\n",
      "Test Loss: 0.2225, Test Accuracy: 92.21%\n",
      "\n"
     ]
    },
    {
     "name": "stderr",
     "output_type": "stream",
     "text": [
      "Epoch 726: 100%|██████████| 938/938 [00:21<00:00, 43.97batch/s, Train Loss=0.249, Train Acc=90.4]\n"
     ]
    },
    {
     "name": "stdout",
     "output_type": "stream",
     "text": [
      "Epoch 726\n",
      "Train Loss: 0.2488, Train Accuracy: 90.40%\n",
      "Test Loss: 0.2240, Test Accuracy: 92.22%\n",
      "\n"
     ]
    },
    {
     "name": "stderr",
     "output_type": "stream",
     "text": [
      "Epoch 727: 100%|██████████| 938/938 [00:21<00:00, 43.83batch/s, Train Loss=0.246, Train Acc=90.7]\n"
     ]
    },
    {
     "name": "stdout",
     "output_type": "stream",
     "text": [
      "Epoch 727\n",
      "Train Loss: 0.2457, Train Accuracy: 90.66%\n",
      "Test Loss: 0.2227, Test Accuracy: 92.27%\n",
      "\n"
     ]
    },
    {
     "name": "stderr",
     "output_type": "stream",
     "text": [
      "Epoch 728: 100%|██████████| 938/938 [00:21<00:00, 43.73batch/s, Train Loss=0.251, Train Acc=90.5]\n"
     ]
    },
    {
     "name": "stdout",
     "output_type": "stream",
     "text": [
      "Epoch 728\n",
      "Train Loss: 0.2505, Train Accuracy: 90.50%\n",
      "Test Loss: 0.2270, Test Accuracy: 92.22%\n",
      "\n"
     ]
    },
    {
     "name": "stderr",
     "output_type": "stream",
     "text": [
      "Epoch 729: 100%|██████████| 938/938 [00:21<00:00, 43.82batch/s, Train Loss=0.251, Train Acc=90.4]\n"
     ]
    },
    {
     "name": "stdout",
     "output_type": "stream",
     "text": [
      "Epoch 729\n",
      "Train Loss: 0.2513, Train Accuracy: 90.40%\n",
      "Test Loss: 0.2208, Test Accuracy: 92.26%\n",
      "\n"
     ]
    },
    {
     "name": "stderr",
     "output_type": "stream",
     "text": [
      "Epoch 730: 100%|██████████| 938/938 [00:21<00:00, 43.59batch/s, Train Loss=0.246, Train Acc=90.5]\n"
     ]
    },
    {
     "name": "stdout",
     "output_type": "stream",
     "text": [
      "Epoch 730\n",
      "Train Loss: 0.2460, Train Accuracy: 90.54%\n",
      "Test Loss: 0.2294, Test Accuracy: 92.23%\n",
      "\n"
     ]
    },
    {
     "name": "stderr",
     "output_type": "stream",
     "text": [
      "Epoch 731: 100%|██████████| 938/938 [00:21<00:00, 43.79batch/s, Train Loss=0.25, Train Acc=90.2] \n"
     ]
    },
    {
     "name": "stdout",
     "output_type": "stream",
     "text": [
      "Epoch 731\n",
      "Train Loss: 0.2500, Train Accuracy: 90.25%\n",
      "Test Loss: 0.2209, Test Accuracy: 92.28%\n",
      "\n"
     ]
    },
    {
     "name": "stderr",
     "output_type": "stream",
     "text": [
      "Epoch 732: 100%|██████████| 938/938 [00:21<00:00, 44.00batch/s, Train Loss=0.246, Train Acc=90.6]\n"
     ]
    },
    {
     "name": "stdout",
     "output_type": "stream",
     "text": [
      "Epoch 732\n",
      "Train Loss: 0.2456, Train Accuracy: 90.60%\n",
      "Test Loss: 0.2300, Test Accuracy: 91.96%\n",
      "\n"
     ]
    },
    {
     "name": "stderr",
     "output_type": "stream",
     "text": [
      "Epoch 733: 100%|██████████| 938/938 [00:21<00:00, 43.81batch/s, Train Loss=0.249, Train Acc=90.6]\n"
     ]
    },
    {
     "name": "stdout",
     "output_type": "stream",
     "text": [
      "Epoch 733\n",
      "Train Loss: 0.2486, Train Accuracy: 90.61%\n",
      "Test Loss: 0.2245, Test Accuracy: 92.08%\n",
      "\n"
     ]
    },
    {
     "name": "stderr",
     "output_type": "stream",
     "text": [
      "Epoch 734: 100%|██████████| 938/938 [00:21<00:00, 43.58batch/s, Train Loss=0.249, Train Acc=90.4]\n"
     ]
    },
    {
     "name": "stdout",
     "output_type": "stream",
     "text": [
      "Epoch 734\n",
      "Train Loss: 0.2490, Train Accuracy: 90.44%\n",
      "Test Loss: 0.2216, Test Accuracy: 92.05%\n",
      "\n"
     ]
    },
    {
     "name": "stderr",
     "output_type": "stream",
     "text": [
      "Epoch 735: 100%|██████████| 938/938 [00:21<00:00, 43.85batch/s, Train Loss=0.246, Train Acc=90.6]\n"
     ]
    },
    {
     "name": "stdout",
     "output_type": "stream",
     "text": [
      "Epoch 735\n",
      "Train Loss: 0.2463, Train Accuracy: 90.57%\n",
      "Test Loss: 0.2245, Test Accuracy: 92.07%\n",
      "\n"
     ]
    },
    {
     "name": "stderr",
     "output_type": "stream",
     "text": [
      "Epoch 736: 100%|██████████| 938/938 [00:21<00:00, 44.06batch/s, Train Loss=0.25, Train Acc=90.5] \n"
     ]
    },
    {
     "name": "stdout",
     "output_type": "stream",
     "text": [
      "Epoch 736\n",
      "Train Loss: 0.2500, Train Accuracy: 90.49%\n",
      "Test Loss: 0.2267, Test Accuracy: 92.01%\n",
      "\n"
     ]
    },
    {
     "name": "stderr",
     "output_type": "stream",
     "text": [
      "Epoch 737: 100%|██████████| 938/938 [00:21<00:00, 43.88batch/s, Train Loss=0.246, Train Acc=90.6]\n"
     ]
    },
    {
     "name": "stdout",
     "output_type": "stream",
     "text": [
      "Epoch 737\n",
      "Train Loss: 0.2462, Train Accuracy: 90.59%\n",
      "Test Loss: 0.2277, Test Accuracy: 92.10%\n",
      "\n"
     ]
    },
    {
     "name": "stderr",
     "output_type": "stream",
     "text": [
      "Epoch 738: 100%|██████████| 938/938 [00:21<00:00, 43.68batch/s, Train Loss=0.248, Train Acc=90.5]\n"
     ]
    },
    {
     "name": "stdout",
     "output_type": "stream",
     "text": [
      "Epoch 738\n",
      "Train Loss: 0.2478, Train Accuracy: 90.48%\n",
      "Test Loss: 0.2271, Test Accuracy: 91.88%\n",
      "\n"
     ]
    },
    {
     "name": "stderr",
     "output_type": "stream",
     "text": [
      "Epoch 739: 100%|██████████| 938/938 [00:21<00:00, 43.99batch/s, Train Loss=0.249, Train Acc=90.4]\n"
     ]
    },
    {
     "name": "stdout",
     "output_type": "stream",
     "text": [
      "Epoch 739\n",
      "Train Loss: 0.2493, Train Accuracy: 90.44%\n",
      "Test Loss: 0.2242, Test Accuracy: 92.02%\n",
      "\n"
     ]
    },
    {
     "name": "stderr",
     "output_type": "stream",
     "text": [
      "Epoch 740: 100%|██████████| 938/938 [00:21<00:00, 43.98batch/s, Train Loss=0.249, Train Acc=90.4]\n"
     ]
    },
    {
     "name": "stdout",
     "output_type": "stream",
     "text": [
      "Epoch 740\n",
      "Train Loss: 0.2493, Train Accuracy: 90.35%\n",
      "Test Loss: 0.2259, Test Accuracy: 91.93%\n",
      "\n"
     ]
    },
    {
     "name": "stderr",
     "output_type": "stream",
     "text": [
      "Epoch 741: 100%|██████████| 938/938 [00:21<00:00, 43.89batch/s, Train Loss=0.245, Train Acc=90.7]\n"
     ]
    },
    {
     "name": "stdout",
     "output_type": "stream",
     "text": [
      "Epoch 741\n",
      "Train Loss: 0.2452, Train Accuracy: 90.72%\n",
      "Test Loss: 0.2309, Test Accuracy: 91.81%\n",
      "\n"
     ]
    },
    {
     "name": "stderr",
     "output_type": "stream",
     "text": [
      "Epoch 742: 100%|██████████| 938/938 [00:21<00:00, 43.92batch/s, Train Loss=0.245, Train Acc=90.7]\n"
     ]
    },
    {
     "name": "stdout",
     "output_type": "stream",
     "text": [
      "Epoch 742\n",
      "Train Loss: 0.2448, Train Accuracy: 90.70%\n",
      "Test Loss: 0.2217, Test Accuracy: 92.18%\n",
      "\n"
     ]
    },
    {
     "name": "stderr",
     "output_type": "stream",
     "text": [
      "Epoch 743: 100%|██████████| 938/938 [00:21<00:00, 44.01batch/s, Train Loss=0.246, Train Acc=90.5]\n"
     ]
    },
    {
     "name": "stdout",
     "output_type": "stream",
     "text": [
      "Epoch 743\n",
      "Train Loss: 0.2464, Train Accuracy: 90.49%\n",
      "Test Loss: 0.2235, Test Accuracy: 92.09%\n",
      "\n"
     ]
    },
    {
     "name": "stderr",
     "output_type": "stream",
     "text": [
      "Epoch 744: 100%|██████████| 938/938 [00:21<00:00, 43.84batch/s, Train Loss=0.246, Train Acc=90.6]\n"
     ]
    },
    {
     "name": "stdout",
     "output_type": "stream",
     "text": [
      "Epoch 744\n",
      "Train Loss: 0.2465, Train Accuracy: 90.60%\n",
      "Test Loss: 0.2258, Test Accuracy: 91.85%\n",
      "\n"
     ]
    },
    {
     "name": "stderr",
     "output_type": "stream",
     "text": [
      "Epoch 745: 100%|██████████| 938/938 [00:21<00:00, 43.77batch/s, Train Loss=0.248, Train Acc=90.6]\n"
     ]
    },
    {
     "name": "stdout",
     "output_type": "stream",
     "text": [
      "Epoch 745\n",
      "Train Loss: 0.2484, Train Accuracy: 90.62%\n",
      "Test Loss: 0.2188, Test Accuracy: 92.25%\n",
      "\n"
     ]
    },
    {
     "name": "stderr",
     "output_type": "stream",
     "text": [
      "Epoch 746: 100%|██████████| 938/938 [00:21<00:00, 43.79batch/s, Train Loss=0.248, Train Acc=90.5]\n"
     ]
    },
    {
     "name": "stdout",
     "output_type": "stream",
     "text": [
      "Epoch 746\n",
      "Train Loss: 0.2476, Train Accuracy: 90.55%\n",
      "Test Loss: 0.2234, Test Accuracy: 91.97%\n",
      "\n"
     ]
    },
    {
     "name": "stderr",
     "output_type": "stream",
     "text": [
      "Epoch 747: 100%|██████████| 938/938 [00:21<00:00, 43.62batch/s, Train Loss=0.245, Train Acc=90.7]\n"
     ]
    },
    {
     "name": "stdout",
     "output_type": "stream",
     "text": [
      "Epoch 747\n",
      "Train Loss: 0.2455, Train Accuracy: 90.66%\n",
      "Test Loss: 0.2239, Test Accuracy: 91.93%\n",
      "\n"
     ]
    },
    {
     "name": "stderr",
     "output_type": "stream",
     "text": [
      "Epoch 748: 100%|██████████| 938/938 [00:21<00:00, 43.68batch/s, Train Loss=0.246, Train Acc=90.7]\n"
     ]
    },
    {
     "name": "stdout",
     "output_type": "stream",
     "text": [
      "Epoch 748\n",
      "Train Loss: 0.2459, Train Accuracy: 90.68%\n",
      "Test Loss: 0.2220, Test Accuracy: 92.10%\n",
      "\n"
     ]
    },
    {
     "name": "stderr",
     "output_type": "stream",
     "text": [
      "Epoch 749: 100%|██████████| 938/938 [00:21<00:00, 44.02batch/s, Train Loss=0.247, Train Acc=90.6]\n"
     ]
    },
    {
     "name": "stdout",
     "output_type": "stream",
     "text": [
      "Epoch 749\n",
      "Train Loss: 0.2473, Train Accuracy: 90.57%\n",
      "Test Loss: 0.2233, Test Accuracy: 92.13%\n",
      "\n"
     ]
    },
    {
     "name": "stderr",
     "output_type": "stream",
     "text": [
      "Epoch 750: 100%|██████████| 938/938 [00:21<00:00, 44.23batch/s, Train Loss=0.245, Train Acc=90.7]\n"
     ]
    },
    {
     "name": "stdout",
     "output_type": "stream",
     "text": [
      "Epoch 750\n",
      "Train Loss: 0.2453, Train Accuracy: 90.66%\n",
      "Test Loss: 0.2227, Test Accuracy: 92.00%\n",
      "\n"
     ]
    },
    {
     "name": "stderr",
     "output_type": "stream",
     "text": [
      "Epoch 751: 100%|██████████| 938/938 [00:21<00:00, 43.94batch/s, Train Loss=0.243, Train Acc=90.7]\n"
     ]
    },
    {
     "name": "stdout",
     "output_type": "stream",
     "text": [
      "Epoch 751\n",
      "Train Loss: 0.2427, Train Accuracy: 90.69%\n",
      "Test Loss: 0.2250, Test Accuracy: 91.72%\n",
      "\n"
     ]
    },
    {
     "name": "stderr",
     "output_type": "stream",
     "text": [
      "Epoch 752: 100%|██████████| 938/938 [00:21<00:00, 43.85batch/s, Train Loss=0.244, Train Acc=90.6]\n"
     ]
    },
    {
     "name": "stdout",
     "output_type": "stream",
     "text": [
      "Epoch 752\n",
      "Train Loss: 0.2440, Train Accuracy: 90.63%\n",
      "Test Loss: 0.2211, Test Accuracy: 92.17%\n",
      "\n"
     ]
    },
    {
     "name": "stderr",
     "output_type": "stream",
     "text": [
      "Epoch 753: 100%|██████████| 938/938 [00:21<00:00, 43.84batch/s, Train Loss=0.245, Train Acc=90.7]\n"
     ]
    },
    {
     "name": "stdout",
     "output_type": "stream",
     "text": [
      "Epoch 753\n",
      "Train Loss: 0.2452, Train Accuracy: 90.66%\n",
      "Test Loss: 0.2239, Test Accuracy: 92.02%\n",
      "\n"
     ]
    },
    {
     "name": "stderr",
     "output_type": "stream",
     "text": [
      "Epoch 754: 100%|██████████| 938/938 [00:21<00:00, 44.03batch/s, Train Loss=0.245, Train Acc=90.6]\n"
     ]
    },
    {
     "name": "stdout",
     "output_type": "stream",
     "text": [
      "Epoch 754\n",
      "Train Loss: 0.2451, Train Accuracy: 90.59%\n",
      "Test Loss: 0.2227, Test Accuracy: 91.90%\n",
      "\n"
     ]
    },
    {
     "name": "stderr",
     "output_type": "stream",
     "text": [
      "Epoch 755: 100%|██████████| 938/938 [00:21<00:00, 44.16batch/s, Train Loss=0.245, Train Acc=90.5]\n"
     ]
    },
    {
     "name": "stdout",
     "output_type": "stream",
     "text": [
      "Epoch 755\n",
      "Train Loss: 0.2447, Train Accuracy: 90.50%\n",
      "Test Loss: 0.2179, Test Accuracy: 92.19%\n",
      "\n"
     ]
    },
    {
     "name": "stderr",
     "output_type": "stream",
     "text": [
      "Epoch 756: 100%|██████████| 938/938 [00:21<00:00, 43.97batch/s, Train Loss=0.244, Train Acc=90.7]\n"
     ]
    },
    {
     "name": "stdout",
     "output_type": "stream",
     "text": [
      "Epoch 756\n",
      "Train Loss: 0.2440, Train Accuracy: 90.70%\n",
      "Test Loss: 0.2174, Test Accuracy: 92.41%\n",
      "\n"
     ]
    },
    {
     "name": "stderr",
     "output_type": "stream",
     "text": [
      "Epoch 757: 100%|██████████| 938/938 [00:21<00:00, 44.07batch/s, Train Loss=0.245, Train Acc=90.5]\n"
     ]
    },
    {
     "name": "stdout",
     "output_type": "stream",
     "text": [
      "Epoch 757\n",
      "Train Loss: 0.2452, Train Accuracy: 90.55%\n",
      "Test Loss: 0.2213, Test Accuracy: 92.39%\n",
      "\n"
     ]
    },
    {
     "name": "stderr",
     "output_type": "stream",
     "text": [
      "Epoch 758: 100%|██████████| 938/938 [00:21<00:00, 43.98batch/s, Train Loss=0.245, Train Acc=90.6]\n"
     ]
    },
    {
     "name": "stdout",
     "output_type": "stream",
     "text": [
      "Epoch 758\n",
      "Train Loss: 0.2451, Train Accuracy: 90.61%\n",
      "Test Loss: 0.2184, Test Accuracy: 92.12%\n",
      "\n"
     ]
    },
    {
     "name": "stderr",
     "output_type": "stream",
     "text": [
      "Epoch 759: 100%|██████████| 938/938 [00:21<00:00, 43.96batch/s, Train Loss=0.245, Train Acc=90.5]\n"
     ]
    },
    {
     "name": "stdout",
     "output_type": "stream",
     "text": [
      "Epoch 759\n",
      "Train Loss: 0.2449, Train Accuracy: 90.49%\n",
      "Test Loss: 0.2216, Test Accuracy: 92.22%\n",
      "\n"
     ]
    },
    {
     "name": "stderr",
     "output_type": "stream",
     "text": [
      "Epoch 760: 100%|██████████| 938/938 [00:21<00:00, 43.72batch/s, Train Loss=0.248, Train Acc=90.4]\n"
     ]
    },
    {
     "name": "stdout",
     "output_type": "stream",
     "text": [
      "Epoch 760\n",
      "Train Loss: 0.2481, Train Accuracy: 90.41%\n",
      "Test Loss: 0.2191, Test Accuracy: 92.12%\n",
      "\n"
     ]
    },
    {
     "name": "stderr",
     "output_type": "stream",
     "text": [
      "Epoch 761: 100%|██████████| 938/938 [00:21<00:00, 44.07batch/s, Train Loss=0.243, Train Acc=90.7]\n"
     ]
    },
    {
     "name": "stdout",
     "output_type": "stream",
     "text": [
      "Epoch 761\n",
      "Train Loss: 0.2433, Train Accuracy: 90.73%\n",
      "Test Loss: 0.2211, Test Accuracy: 91.95%\n",
      "\n"
     ]
    },
    {
     "name": "stderr",
     "output_type": "stream",
     "text": [
      "Epoch 762: 100%|██████████| 938/938 [00:21<00:00, 43.94batch/s, Train Loss=0.249, Train Acc=90.5]\n"
     ]
    },
    {
     "name": "stdout",
     "output_type": "stream",
     "text": [
      "Epoch 762\n",
      "Train Loss: 0.2489, Train Accuracy: 90.47%\n",
      "Test Loss: 0.2205, Test Accuracy: 92.13%\n",
      "\n"
     ]
    },
    {
     "name": "stderr",
     "output_type": "stream",
     "text": [
      "Epoch 763: 100%|██████████| 938/938 [00:21<00:00, 44.02batch/s, Train Loss=0.246, Train Acc=90.6]\n"
     ]
    },
    {
     "name": "stdout",
     "output_type": "stream",
     "text": [
      "Epoch 763\n",
      "Train Loss: 0.2456, Train Accuracy: 90.58%\n",
      "Test Loss: 0.2227, Test Accuracy: 91.92%\n",
      "\n"
     ]
    },
    {
     "name": "stderr",
     "output_type": "stream",
     "text": [
      "Epoch 764: 100%|██████████| 938/938 [00:21<00:00, 44.00batch/s, Train Loss=0.246, Train Acc=90.5]\n"
     ]
    },
    {
     "name": "stdout",
     "output_type": "stream",
     "text": [
      "Epoch 764\n",
      "Train Loss: 0.2461, Train Accuracy: 90.55%\n",
      "Test Loss: 0.2200, Test Accuracy: 92.10%\n",
      "\n"
     ]
    },
    {
     "name": "stderr",
     "output_type": "stream",
     "text": [
      "Epoch 765: 100%|██████████| 938/938 [00:21<00:00, 43.89batch/s, Train Loss=0.249, Train Acc=90.4]\n"
     ]
    },
    {
     "name": "stdout",
     "output_type": "stream",
     "text": [
      "Epoch 765\n",
      "Train Loss: 0.2491, Train Accuracy: 90.38%\n",
      "Test Loss: 0.2236, Test Accuracy: 92.07%\n",
      "\n"
     ]
    },
    {
     "name": "stderr",
     "output_type": "stream",
     "text": [
      "Epoch 766: 100%|██████████| 938/938 [00:21<00:00, 43.70batch/s, Train Loss=0.243, Train Acc=90.6]\n"
     ]
    },
    {
     "name": "stdout",
     "output_type": "stream",
     "text": [
      "Epoch 766\n",
      "Train Loss: 0.2429, Train Accuracy: 90.65%\n",
      "Test Loss: 0.2171, Test Accuracy: 92.29%\n",
      "\n"
     ]
    },
    {
     "name": "stderr",
     "output_type": "stream",
     "text": [
      "Epoch 767: 100%|██████████| 938/938 [00:21<00:00, 43.75batch/s, Train Loss=0.245, Train Acc=90.8]\n"
     ]
    },
    {
     "name": "stdout",
     "output_type": "stream",
     "text": [
      "Epoch 767\n",
      "Train Loss: 0.2449, Train Accuracy: 90.77%\n",
      "Test Loss: 0.2224, Test Accuracy: 92.05%\n",
      "\n"
     ]
    },
    {
     "name": "stderr",
     "output_type": "stream",
     "text": [
      "Epoch 768: 100%|██████████| 938/938 [00:21<00:00, 43.74batch/s, Train Loss=0.242, Train Acc=90.7]\n"
     ]
    },
    {
     "name": "stdout",
     "output_type": "stream",
     "text": [
      "Epoch 768\n",
      "Train Loss: 0.2415, Train Accuracy: 90.67%\n",
      "Test Loss: 0.2228, Test Accuracy: 92.03%\n",
      "\n"
     ]
    },
    {
     "name": "stderr",
     "output_type": "stream",
     "text": [
      "Epoch 769: 100%|██████████| 938/938 [00:21<00:00, 43.84batch/s, Train Loss=0.245, Train Acc=90.7]\n"
     ]
    },
    {
     "name": "stdout",
     "output_type": "stream",
     "text": [
      "Epoch 769\n",
      "Train Loss: 0.2449, Train Accuracy: 90.66%\n",
      "Test Loss: 0.2180, Test Accuracy: 92.31%\n",
      "\n"
     ]
    },
    {
     "name": "stderr",
     "output_type": "stream",
     "text": [
      "Epoch 770: 100%|██████████| 938/938 [00:21<00:00, 43.75batch/s, Train Loss=0.24, Train Acc=90.8] \n"
     ]
    },
    {
     "name": "stdout",
     "output_type": "stream",
     "text": [
      "Epoch 770\n",
      "Train Loss: 0.2403, Train Accuracy: 90.76%\n",
      "Test Loss: 0.2242, Test Accuracy: 92.05%\n",
      "\n"
     ]
    },
    {
     "name": "stderr",
     "output_type": "stream",
     "text": [
      "Epoch 771: 100%|██████████| 938/938 [00:21<00:00, 43.80batch/s, Train Loss=0.247, Train Acc=90.6]\n"
     ]
    },
    {
     "name": "stdout",
     "output_type": "stream",
     "text": [
      "Epoch 771\n",
      "Train Loss: 0.2468, Train Accuracy: 90.64%\n",
      "Test Loss: 0.2235, Test Accuracy: 92.03%\n",
      "\n"
     ]
    },
    {
     "name": "stderr",
     "output_type": "stream",
     "text": [
      "Epoch 772: 100%|██████████| 938/938 [00:21<00:00, 43.76batch/s, Train Loss=0.248, Train Acc=90.5]\n"
     ]
    },
    {
     "name": "stdout",
     "output_type": "stream",
     "text": [
      "Epoch 772\n",
      "Train Loss: 0.2477, Train Accuracy: 90.52%\n",
      "Test Loss: 0.2211, Test Accuracy: 92.20%\n",
      "\n"
     ]
    },
    {
     "name": "stderr",
     "output_type": "stream",
     "text": [
      "Epoch 773: 100%|██████████| 938/938 [00:21<00:00, 43.85batch/s, Train Loss=0.241, Train Acc=90.7]\n"
     ]
    },
    {
     "name": "stdout",
     "output_type": "stream",
     "text": [
      "Epoch 773\n",
      "Train Loss: 0.2409, Train Accuracy: 90.73%\n",
      "Test Loss: 0.2209, Test Accuracy: 92.16%\n",
      "\n"
     ]
    },
    {
     "name": "stderr",
     "output_type": "stream",
     "text": [
      "Epoch 774: 100%|██████████| 938/938 [00:21<00:00, 43.85batch/s, Train Loss=0.242, Train Acc=90.7]\n"
     ]
    },
    {
     "name": "stdout",
     "output_type": "stream",
     "text": [
      "Epoch 774\n",
      "Train Loss: 0.2422, Train Accuracy: 90.71%\n",
      "Test Loss: 0.2264, Test Accuracy: 91.96%\n",
      "\n"
     ]
    },
    {
     "name": "stderr",
     "output_type": "stream",
     "text": [
      "Epoch 775: 100%|██████████| 938/938 [00:21<00:00, 43.69batch/s, Train Loss=0.241, Train Acc=90.7]\n"
     ]
    },
    {
     "name": "stdout",
     "output_type": "stream",
     "text": [
      "Epoch 775\n",
      "Train Loss: 0.2410, Train Accuracy: 90.69%\n",
      "Test Loss: 0.2249, Test Accuracy: 92.19%\n",
      "\n"
     ]
    },
    {
     "name": "stderr",
     "output_type": "stream",
     "text": [
      "Epoch 776: 100%|██████████| 938/938 [00:21<00:00, 43.90batch/s, Train Loss=0.244, Train Acc=90.7]\n"
     ]
    },
    {
     "name": "stdout",
     "output_type": "stream",
     "text": [
      "Epoch 776\n",
      "Train Loss: 0.2435, Train Accuracy: 90.67%\n",
      "Test Loss: 0.2254, Test Accuracy: 92.05%\n",
      "\n"
     ]
    },
    {
     "name": "stderr",
     "output_type": "stream",
     "text": [
      "Epoch 777: 100%|██████████| 938/938 [00:21<00:00, 43.89batch/s, Train Loss=0.24, Train Acc=90.7] \n"
     ]
    },
    {
     "name": "stdout",
     "output_type": "stream",
     "text": [
      "Epoch 777\n",
      "Train Loss: 0.2398, Train Accuracy: 90.71%\n",
      "Test Loss: 0.2294, Test Accuracy: 91.91%\n",
      "\n"
     ]
    },
    {
     "name": "stderr",
     "output_type": "stream",
     "text": [
      "Epoch 778: 100%|██████████| 938/938 [00:21<00:00, 43.97batch/s, Train Loss=0.242, Train Acc=90.8]\n"
     ]
    },
    {
     "name": "stdout",
     "output_type": "stream",
     "text": [
      "Epoch 778\n",
      "Train Loss: 0.2419, Train Accuracy: 90.79%\n",
      "Test Loss: 0.2304, Test Accuracy: 91.95%\n",
      "\n"
     ]
    },
    {
     "name": "stderr",
     "output_type": "stream",
     "text": [
      "Epoch 779: 100%|██████████| 938/938 [00:21<00:00, 43.62batch/s, Train Loss=0.243, Train Acc=90.7]\n"
     ]
    },
    {
     "name": "stdout",
     "output_type": "stream",
     "text": [
      "Epoch 779\n",
      "Train Loss: 0.2427, Train Accuracy: 90.66%\n",
      "Test Loss: 0.2241, Test Accuracy: 91.91%\n",
      "\n"
     ]
    },
    {
     "name": "stderr",
     "output_type": "stream",
     "text": [
      "Epoch 780: 100%|██████████| 938/938 [00:21<00:00, 43.87batch/s, Train Loss=0.242, Train Acc=90.7]\n"
     ]
    },
    {
     "name": "stdout",
     "output_type": "stream",
     "text": [
      "Epoch 780\n",
      "Train Loss: 0.2425, Train Accuracy: 90.71%\n",
      "Test Loss: 0.2235, Test Accuracy: 91.99%\n",
      "\n"
     ]
    },
    {
     "name": "stderr",
     "output_type": "stream",
     "text": [
      "Epoch 781: 100%|██████████| 938/938 [00:21<00:00, 43.83batch/s, Train Loss=0.241, Train Acc=90.8]\n"
     ]
    },
    {
     "name": "stdout",
     "output_type": "stream",
     "text": [
      "Epoch 781\n",
      "Train Loss: 0.2410, Train Accuracy: 90.80%\n",
      "Test Loss: 0.2319, Test Accuracy: 91.62%\n",
      "\n"
     ]
    },
    {
     "name": "stderr",
     "output_type": "stream",
     "text": [
      "Epoch 782: 100%|██████████| 938/938 [00:21<00:00, 43.85batch/s, Train Loss=0.242, Train Acc=90.9]\n"
     ]
    },
    {
     "name": "stdout",
     "output_type": "stream",
     "text": [
      "Epoch 782\n",
      "Train Loss: 0.2415, Train Accuracy: 90.86%\n",
      "Test Loss: 0.2267, Test Accuracy: 91.97%\n",
      "\n"
     ]
    },
    {
     "name": "stderr",
     "output_type": "stream",
     "text": [
      "Epoch 783: 100%|██████████| 938/938 [00:21<00:00, 43.81batch/s, Train Loss=0.24, Train Acc=90.7] \n"
     ]
    },
    {
     "name": "stdout",
     "output_type": "stream",
     "text": [
      "Epoch 783\n",
      "Train Loss: 0.2401, Train Accuracy: 90.72%\n",
      "Test Loss: 0.2263, Test Accuracy: 92.02%\n",
      "\n"
     ]
    },
    {
     "name": "stderr",
     "output_type": "stream",
     "text": [
      "Epoch 784: 100%|██████████| 938/938 [00:21<00:00, 43.50batch/s, Train Loss=0.243, Train Acc=90.6]\n"
     ]
    },
    {
     "name": "stdout",
     "output_type": "stream",
     "text": [
      "Epoch 784\n",
      "Train Loss: 0.2426, Train Accuracy: 90.64%\n",
      "Test Loss: 0.2260, Test Accuracy: 92.07%\n",
      "\n"
     ]
    },
    {
     "name": "stderr",
     "output_type": "stream",
     "text": [
      "Epoch 785: 100%|██████████| 938/938 [00:21<00:00, 43.63batch/s, Train Loss=0.242, Train Acc=90.7]\n"
     ]
    },
    {
     "name": "stdout",
     "output_type": "stream",
     "text": [
      "Epoch 785\n",
      "Train Loss: 0.2417, Train Accuracy: 90.71%\n",
      "Test Loss: 0.2262, Test Accuracy: 92.01%\n",
      "\n"
     ]
    },
    {
     "name": "stderr",
     "output_type": "stream",
     "text": [
      "Epoch 786: 100%|██████████| 938/938 [00:21<00:00, 43.91batch/s, Train Loss=0.24, Train Acc=90.8] \n"
     ]
    },
    {
     "name": "stdout",
     "output_type": "stream",
     "text": [
      "Epoch 786\n",
      "Train Loss: 0.2403, Train Accuracy: 90.78%\n",
      "Test Loss: 0.2262, Test Accuracy: 91.82%\n",
      "\n"
     ]
    },
    {
     "name": "stderr",
     "output_type": "stream",
     "text": [
      "Epoch 787: 100%|██████████| 938/938 [00:21<00:00, 43.88batch/s, Train Loss=0.243, Train Acc=90.7]\n"
     ]
    },
    {
     "name": "stdout",
     "output_type": "stream",
     "text": [
      "Epoch 787\n",
      "Train Loss: 0.2430, Train Accuracy: 90.71%\n",
      "Test Loss: 0.2204, Test Accuracy: 92.08%\n",
      "\n"
     ]
    },
    {
     "name": "stderr",
     "output_type": "stream",
     "text": [
      "Epoch 788: 100%|██████████| 938/938 [00:21<00:00, 43.73batch/s, Train Loss=0.242, Train Acc=90.8]\n"
     ]
    },
    {
     "name": "stdout",
     "output_type": "stream",
     "text": [
      "Epoch 788\n",
      "Train Loss: 0.2415, Train Accuracy: 90.77%\n",
      "Test Loss: 0.2190, Test Accuracy: 92.12%\n",
      "\n"
     ]
    },
    {
     "name": "stderr",
     "output_type": "stream",
     "text": [
      "Epoch 789: 100%|██████████| 938/938 [00:21<00:00, 43.82batch/s, Train Loss=0.239, Train Acc=90.8]\n"
     ]
    },
    {
     "name": "stdout",
     "output_type": "stream",
     "text": [
      "Epoch 789\n",
      "Train Loss: 0.2393, Train Accuracy: 90.78%\n",
      "Test Loss: 0.2254, Test Accuracy: 91.81%\n",
      "\n"
     ]
    },
    {
     "name": "stderr",
     "output_type": "stream",
     "text": [
      "Epoch 790: 100%|██████████| 938/938 [00:21<00:00, 43.86batch/s, Train Loss=0.242, Train Acc=90.8]\n"
     ]
    },
    {
     "name": "stdout",
     "output_type": "stream",
     "text": [
      "Epoch 790\n",
      "Train Loss: 0.2421, Train Accuracy: 90.79%\n",
      "Test Loss: 0.2205, Test Accuracy: 91.92%\n",
      "\n"
     ]
    },
    {
     "name": "stderr",
     "output_type": "stream",
     "text": [
      "Epoch 791: 100%|██████████| 938/938 [00:21<00:00, 43.77batch/s, Train Loss=0.24, Train Acc=90.8] \n"
     ]
    },
    {
     "name": "stdout",
     "output_type": "stream",
     "text": [
      "Epoch 791\n",
      "Train Loss: 0.2396, Train Accuracy: 90.78%\n",
      "Test Loss: 0.2177, Test Accuracy: 92.18%\n",
      "\n"
     ]
    },
    {
     "name": "stderr",
     "output_type": "stream",
     "text": [
      "Epoch 792: 100%|██████████| 938/938 [00:21<00:00, 43.78batch/s, Train Loss=0.241, Train Acc=90.9]\n"
     ]
    },
    {
     "name": "stdout",
     "output_type": "stream",
     "text": [
      "Epoch 792\n",
      "Train Loss: 0.2412, Train Accuracy: 90.89%\n",
      "Test Loss: 0.2237, Test Accuracy: 92.12%\n",
      "\n"
     ]
    },
    {
     "name": "stderr",
     "output_type": "stream",
     "text": [
      "Epoch 793: 100%|██████████| 938/938 [00:21<00:00, 43.57batch/s, Train Loss=0.239, Train Acc=90.9]\n"
     ]
    },
    {
     "name": "stdout",
     "output_type": "stream",
     "text": [
      "Epoch 793\n",
      "Train Loss: 0.2388, Train Accuracy: 90.90%\n",
      "Test Loss: 0.2255, Test Accuracy: 92.14%\n",
      "\n"
     ]
    },
    {
     "name": "stderr",
     "output_type": "stream",
     "text": [
      "Epoch 794: 100%|██████████| 938/938 [00:21<00:00, 43.83batch/s, Train Loss=0.242, Train Acc=90.6]\n"
     ]
    },
    {
     "name": "stdout",
     "output_type": "stream",
     "text": [
      "Epoch 794\n",
      "Train Loss: 0.2424, Train Accuracy: 90.63%\n",
      "Test Loss: 0.2197, Test Accuracy: 91.94%\n",
      "\n"
     ]
    },
    {
     "name": "stderr",
     "output_type": "stream",
     "text": [
      "Epoch 795: 100%|██████████| 938/938 [00:21<00:00, 43.82batch/s, Train Loss=0.238, Train Acc=90.8]\n"
     ]
    },
    {
     "name": "stdout",
     "output_type": "stream",
     "text": [
      "Epoch 795\n",
      "Train Loss: 0.2383, Train Accuracy: 90.79%\n",
      "Test Loss: 0.2176, Test Accuracy: 92.39%\n",
      "\n"
     ]
    },
    {
     "name": "stderr",
     "output_type": "stream",
     "text": [
      "Epoch 796: 100%|██████████| 938/938 [00:21<00:00, 43.72batch/s, Train Loss=0.242, Train Acc=90.7]\n"
     ]
    },
    {
     "name": "stdout",
     "output_type": "stream",
     "text": [
      "Epoch 796\n",
      "Train Loss: 0.2417, Train Accuracy: 90.71%\n",
      "Test Loss: 0.2184, Test Accuracy: 92.33%\n",
      "\n"
     ]
    },
    {
     "name": "stderr",
     "output_type": "stream",
     "text": [
      "Epoch 797: 100%|██████████| 938/938 [00:21<00:00, 43.75batch/s, Train Loss=0.241, Train Acc=90.7]\n"
     ]
    },
    {
     "name": "stdout",
     "output_type": "stream",
     "text": [
      "Epoch 797\n",
      "Train Loss: 0.2409, Train Accuracy: 90.67%\n",
      "Test Loss: 0.2242, Test Accuracy: 92.05%\n",
      "\n"
     ]
    },
    {
     "name": "stderr",
     "output_type": "stream",
     "text": [
      "Epoch 798: 100%|██████████| 938/938 [00:21<00:00, 43.81batch/s, Train Loss=0.24, Train Acc=90.8] \n"
     ]
    },
    {
     "name": "stdout",
     "output_type": "stream",
     "text": [
      "Epoch 798\n",
      "Train Loss: 0.2399, Train Accuracy: 90.81%\n",
      "Test Loss: 0.2224, Test Accuracy: 91.94%\n",
      "\n"
     ]
    },
    {
     "name": "stderr",
     "output_type": "stream",
     "text": [
      "Epoch 799: 100%|██████████| 938/938 [00:21<00:00, 43.74batch/s, Train Loss=0.24, Train Acc=90.8] \n"
     ]
    },
    {
     "name": "stdout",
     "output_type": "stream",
     "text": [
      "Epoch 799\n",
      "Train Loss: 0.2403, Train Accuracy: 90.82%\n",
      "Test Loss: 0.2250, Test Accuracy: 91.98%\n",
      "\n"
     ]
    },
    {
     "name": "stderr",
     "output_type": "stream",
     "text": [
      "Epoch 800: 100%|██████████| 938/938 [00:21<00:00, 43.78batch/s, Train Loss=0.238, Train Acc=90.9]\n"
     ]
    },
    {
     "name": "stdout",
     "output_type": "stream",
     "text": [
      "Epoch 800\n",
      "Train Loss: 0.2384, Train Accuracy: 90.85%\n",
      "Test Loss: 0.2265, Test Accuracy: 91.96%\n",
      "\n"
     ]
    },
    {
     "name": "stderr",
     "output_type": "stream",
     "text": [
      "Epoch 801: 100%|██████████| 938/938 [00:21<00:00, 43.79batch/s, Train Loss=0.24, Train Acc=90.8] \n"
     ]
    },
    {
     "name": "stdout",
     "output_type": "stream",
     "text": [
      "Epoch 801\n",
      "Train Loss: 0.2397, Train Accuracy: 90.82%\n",
      "Test Loss: 0.2240, Test Accuracy: 92.16%\n",
      "\n"
     ]
    },
    {
     "name": "stderr",
     "output_type": "stream",
     "text": [
      "Epoch 802: 100%|██████████| 938/938 [00:21<00:00, 43.67batch/s, Train Loss=0.241, Train Acc=90.8]\n"
     ]
    },
    {
     "name": "stdout",
     "output_type": "stream",
     "text": [
      "Epoch 802\n",
      "Train Loss: 0.2410, Train Accuracy: 90.76%\n",
      "Test Loss: 0.2259, Test Accuracy: 91.89%\n",
      "\n"
     ]
    },
    {
     "name": "stderr",
     "output_type": "stream",
     "text": [
      "Epoch 803: 100%|██████████| 938/938 [00:21<00:00, 43.88batch/s, Train Loss=0.24, Train Acc=90.9] \n"
     ]
    },
    {
     "name": "stdout",
     "output_type": "stream",
     "text": [
      "Epoch 803\n",
      "Train Loss: 0.2399, Train Accuracy: 90.87%\n",
      "Test Loss: 0.2307, Test Accuracy: 91.77%\n",
      "\n"
     ]
    },
    {
     "name": "stderr",
     "output_type": "stream",
     "text": [
      "Epoch 804: 100%|██████████| 938/938 [00:21<00:00, 43.76batch/s, Train Loss=0.236, Train Acc=90.9]\n"
     ]
    },
    {
     "name": "stdout",
     "output_type": "stream",
     "text": [
      "Epoch 804\n",
      "Train Loss: 0.2357, Train Accuracy: 90.91%\n",
      "Test Loss: 0.2243, Test Accuracy: 92.06%\n",
      "\n"
     ]
    },
    {
     "name": "stderr",
     "output_type": "stream",
     "text": [
      "Epoch 805: 100%|██████████| 938/938 [00:21<00:00, 44.02batch/s, Train Loss=0.239, Train Acc=90.9]\n"
     ]
    },
    {
     "name": "stdout",
     "output_type": "stream",
     "text": [
      "Epoch 805\n",
      "Train Loss: 0.2394, Train Accuracy: 90.91%\n",
      "Test Loss: 0.2191, Test Accuracy: 92.17%\n",
      "\n"
     ]
    },
    {
     "name": "stderr",
     "output_type": "stream",
     "text": [
      "Epoch 806: 100%|██████████| 938/938 [00:21<00:00, 43.98batch/s, Train Loss=0.241, Train Acc=90.8]\n"
     ]
    },
    {
     "name": "stdout",
     "output_type": "stream",
     "text": [
      "Epoch 806\n",
      "Train Loss: 0.2406, Train Accuracy: 90.81%\n",
      "Test Loss: 0.2223, Test Accuracy: 92.00%\n",
      "\n"
     ]
    },
    {
     "name": "stderr",
     "output_type": "stream",
     "text": [
      "Epoch 807: 100%|██████████| 938/938 [00:21<00:00, 43.49batch/s, Train Loss=0.24, Train Acc=90.7] \n"
     ]
    },
    {
     "name": "stdout",
     "output_type": "stream",
     "text": [
      "Epoch 807\n",
      "Train Loss: 0.2402, Train Accuracy: 90.75%\n",
      "Test Loss: 0.2292, Test Accuracy: 91.93%\n",
      "\n"
     ]
    },
    {
     "name": "stderr",
     "output_type": "stream",
     "text": [
      "Epoch 808: 100%|██████████| 938/938 [00:21<00:00, 43.82batch/s, Train Loss=0.239, Train Acc=90.9]\n"
     ]
    },
    {
     "name": "stdout",
     "output_type": "stream",
     "text": [
      "Epoch 808\n",
      "Train Loss: 0.2393, Train Accuracy: 90.85%\n",
      "Test Loss: 0.2212, Test Accuracy: 92.11%\n",
      "\n"
     ]
    },
    {
     "name": "stderr",
     "output_type": "stream",
     "text": [
      "Epoch 809: 100%|██████████| 938/938 [00:21<00:00, 43.85batch/s, Train Loss=0.238, Train Acc=90.8]\n"
     ]
    },
    {
     "name": "stdout",
     "output_type": "stream",
     "text": [
      "Epoch 809\n",
      "Train Loss: 0.2384, Train Accuracy: 90.80%\n",
      "Test Loss: 0.2249, Test Accuracy: 92.26%\n",
      "\n"
     ]
    },
    {
     "name": "stderr",
     "output_type": "stream",
     "text": [
      "Epoch 810: 100%|██████████| 938/938 [00:21<00:00, 43.72batch/s, Train Loss=0.239, Train Acc=90.7]\n"
     ]
    },
    {
     "name": "stdout",
     "output_type": "stream",
     "text": [
      "Epoch 810\n",
      "Train Loss: 0.2385, Train Accuracy: 90.70%\n",
      "Test Loss: 0.2261, Test Accuracy: 92.15%\n",
      "\n"
     ]
    },
    {
     "name": "stderr",
     "output_type": "stream",
     "text": [
      "Epoch 811: 100%|██████████| 938/938 [00:21<00:00, 43.85batch/s, Train Loss=0.236, Train Acc=90.9]\n"
     ]
    },
    {
     "name": "stdout",
     "output_type": "stream",
     "text": [
      "Epoch 811\n",
      "Train Loss: 0.2362, Train Accuracy: 90.93%\n",
      "Test Loss: 0.2266, Test Accuracy: 92.16%\n",
      "\n"
     ]
    },
    {
     "name": "stderr",
     "output_type": "stream",
     "text": [
      "Epoch 812: 100%|██████████| 938/938 [00:21<00:00, 43.87batch/s, Train Loss=0.238, Train Acc=90.9]\n"
     ]
    },
    {
     "name": "stdout",
     "output_type": "stream",
     "text": [
      "Epoch 812\n",
      "Train Loss: 0.2378, Train Accuracy: 90.88%\n",
      "Test Loss: 0.2261, Test Accuracy: 92.17%\n",
      "\n"
     ]
    },
    {
     "name": "stderr",
     "output_type": "stream",
     "text": [
      "Epoch 813: 100%|██████████| 938/938 [00:21<00:00, 43.94batch/s, Train Loss=0.239, Train Acc=90.8]\n"
     ]
    },
    {
     "name": "stdout",
     "output_type": "stream",
     "text": [
      "Epoch 813\n",
      "Train Loss: 0.2395, Train Accuracy: 90.85%\n",
      "Test Loss: 0.2246, Test Accuracy: 92.12%\n",
      "\n"
     ]
    },
    {
     "name": "stderr",
     "output_type": "stream",
     "text": [
      "Epoch 814: 100%|██████████| 938/938 [00:21<00:00, 44.01batch/s, Train Loss=0.237, Train Acc=91]  \n"
     ]
    },
    {
     "name": "stdout",
     "output_type": "stream",
     "text": [
      "Epoch 814\n",
      "Train Loss: 0.2373, Train Accuracy: 90.97%\n",
      "Test Loss: 0.2245, Test Accuracy: 92.03%\n",
      "\n"
     ]
    },
    {
     "name": "stderr",
     "output_type": "stream",
     "text": [
      "Epoch 815: 100%|██████████| 938/938 [00:21<00:00, 43.87batch/s, Train Loss=0.237, Train Acc=91]  \n"
     ]
    },
    {
     "name": "stdout",
     "output_type": "stream",
     "text": [
      "Epoch 815\n",
      "Train Loss: 0.2365, Train Accuracy: 90.96%\n",
      "Test Loss: 0.2262, Test Accuracy: 92.32%\n",
      "\n"
     ]
    },
    {
     "name": "stderr",
     "output_type": "stream",
     "text": [
      "Epoch 816: 100%|██████████| 938/938 [00:21<00:00, 43.97batch/s, Train Loss=0.236, Train Acc=90.9]\n"
     ]
    },
    {
     "name": "stdout",
     "output_type": "stream",
     "text": [
      "Epoch 816\n",
      "Train Loss: 0.2362, Train Accuracy: 90.90%\n",
      "Test Loss: 0.2302, Test Accuracy: 92.05%\n",
      "\n"
     ]
    },
    {
     "name": "stderr",
     "output_type": "stream",
     "text": [
      "Epoch 817: 100%|██████████| 938/938 [00:21<00:00, 44.03batch/s, Train Loss=0.237, Train Acc=90.9]\n"
     ]
    },
    {
     "name": "stdout",
     "output_type": "stream",
     "text": [
      "Epoch 817\n",
      "Train Loss: 0.2366, Train Accuracy: 90.89%\n",
      "Test Loss: 0.2302, Test Accuracy: 91.98%\n",
      "\n"
     ]
    },
    {
     "name": "stderr",
     "output_type": "stream",
     "text": [
      "Epoch 818: 100%|██████████| 938/938 [00:21<00:00, 43.68batch/s, Train Loss=0.234, Train Acc=91.1]\n"
     ]
    },
    {
     "name": "stdout",
     "output_type": "stream",
     "text": [
      "Epoch 818\n",
      "Train Loss: 0.2340, Train Accuracy: 91.13%\n",
      "Test Loss: 0.2259, Test Accuracy: 92.10%\n",
      "\n"
     ]
    },
    {
     "name": "stderr",
     "output_type": "stream",
     "text": [
      "Epoch 819: 100%|██████████| 938/938 [00:21<00:00, 43.65batch/s, Train Loss=0.236, Train Acc=90.8]\n"
     ]
    },
    {
     "name": "stdout",
     "output_type": "stream",
     "text": [
      "Epoch 819\n",
      "Train Loss: 0.2364, Train Accuracy: 90.82%\n",
      "Test Loss: 0.2229, Test Accuracy: 92.13%\n",
      "\n"
     ]
    },
    {
     "name": "stderr",
     "output_type": "stream",
     "text": [
      "Epoch 820: 100%|██████████| 938/938 [00:21<00:00, 43.73batch/s, Train Loss=0.234, Train Acc=91]  \n"
     ]
    },
    {
     "name": "stdout",
     "output_type": "stream",
     "text": [
      "Epoch 820\n",
      "Train Loss: 0.2345, Train Accuracy: 91.03%\n",
      "Test Loss: 0.2194, Test Accuracy: 92.23%\n",
      "\n"
     ]
    },
    {
     "name": "stderr",
     "output_type": "stream",
     "text": [
      "Epoch 821: 100%|██████████| 938/938 [00:21<00:00, 43.93batch/s, Train Loss=0.237, Train Acc=90.8]\n"
     ]
    },
    {
     "name": "stdout",
     "output_type": "stream",
     "text": [
      "Epoch 821\n",
      "Train Loss: 0.2367, Train Accuracy: 90.77%\n",
      "Test Loss: 0.2297, Test Accuracy: 92.09%\n",
      "\n"
     ]
    },
    {
     "name": "stderr",
     "output_type": "stream",
     "text": [
      "Epoch 822: 100%|██████████| 938/938 [00:21<00:00, 43.80batch/s, Train Loss=0.24, Train Acc=90.9] \n"
     ]
    },
    {
     "name": "stdout",
     "output_type": "stream",
     "text": [
      "Epoch 822\n",
      "Train Loss: 0.2397, Train Accuracy: 90.87%\n",
      "Test Loss: 0.2263, Test Accuracy: 92.02%\n",
      "\n"
     ]
    },
    {
     "name": "stderr",
     "output_type": "stream",
     "text": [
      "Epoch 823: 100%|██████████| 938/938 [00:21<00:00, 43.89batch/s, Train Loss=0.234, Train Acc=91]  \n"
     ]
    },
    {
     "name": "stdout",
     "output_type": "stream",
     "text": [
      "Epoch 823\n",
      "Train Loss: 0.2338, Train Accuracy: 91.05%\n",
      "Test Loss: 0.2252, Test Accuracy: 92.03%\n",
      "\n"
     ]
    },
    {
     "name": "stderr",
     "output_type": "stream",
     "text": [
      "Epoch 824: 100%|██████████| 938/938 [00:21<00:00, 43.87batch/s, Train Loss=0.24, Train Acc=90.8] \n"
     ]
    },
    {
     "name": "stdout",
     "output_type": "stream",
     "text": [
      "Epoch 824\n",
      "Train Loss: 0.2401, Train Accuracy: 90.77%\n",
      "Test Loss: 0.2270, Test Accuracy: 92.20%\n",
      "\n"
     ]
    },
    {
     "name": "stderr",
     "output_type": "stream",
     "text": [
      "Epoch 825: 100%|██████████| 938/938 [00:21<00:00, 43.79batch/s, Train Loss=0.238, Train Acc=90.9]\n"
     ]
    },
    {
     "name": "stdout",
     "output_type": "stream",
     "text": [
      "Epoch 825\n",
      "Train Loss: 0.2377, Train Accuracy: 90.93%\n",
      "Test Loss: 0.2234, Test Accuracy: 92.11%\n",
      "\n"
     ]
    },
    {
     "name": "stderr",
     "output_type": "stream",
     "text": [
      "Epoch 826: 100%|██████████| 938/938 [00:21<00:00, 43.77batch/s, Train Loss=0.24, Train Acc=90.8] \n"
     ]
    },
    {
     "name": "stdout",
     "output_type": "stream",
     "text": [
      "Epoch 826\n",
      "Train Loss: 0.2398, Train Accuracy: 90.83%\n",
      "Test Loss: 0.2248, Test Accuracy: 92.00%\n",
      "\n"
     ]
    },
    {
     "name": "stderr",
     "output_type": "stream",
     "text": [
      "Epoch 827: 100%|██████████| 938/938 [00:21<00:00, 43.98batch/s, Train Loss=0.235, Train Acc=90.9]\n"
     ]
    },
    {
     "name": "stdout",
     "output_type": "stream",
     "text": [
      "Epoch 827\n",
      "Train Loss: 0.2354, Train Accuracy: 90.93%\n",
      "Test Loss: 0.2299, Test Accuracy: 91.89%\n",
      "\n"
     ]
    },
    {
     "name": "stderr",
     "output_type": "stream",
     "text": [
      "Epoch 828: 100%|██████████| 938/938 [00:21<00:00, 43.93batch/s, Train Loss=0.236, Train Acc=91]  \n"
     ]
    },
    {
     "name": "stdout",
     "output_type": "stream",
     "text": [
      "Epoch 828\n",
      "Train Loss: 0.2357, Train Accuracy: 91.02%\n",
      "Test Loss: 0.2233, Test Accuracy: 92.15%\n",
      "\n"
     ]
    },
    {
     "name": "stderr",
     "output_type": "stream",
     "text": [
      "Epoch 829: 100%|██████████| 938/938 [00:21<00:00, 43.70batch/s, Train Loss=0.237, Train Acc=91]  \n"
     ]
    },
    {
     "name": "stdout",
     "output_type": "stream",
     "text": [
      "Epoch 829\n",
      "Train Loss: 0.2365, Train Accuracy: 90.95%\n",
      "Test Loss: 0.2322, Test Accuracy: 91.88%\n",
      "\n"
     ]
    },
    {
     "name": "stderr",
     "output_type": "stream",
     "text": [
      "Epoch 830: 100%|██████████| 938/938 [00:21<00:00, 43.80batch/s, Train Loss=0.236, Train Acc=91]  \n"
     ]
    },
    {
     "name": "stdout",
     "output_type": "stream",
     "text": [
      "Epoch 830\n",
      "Train Loss: 0.2356, Train Accuracy: 91.04%\n",
      "Test Loss: 0.2246, Test Accuracy: 92.08%\n",
      "\n"
     ]
    },
    {
     "name": "stderr",
     "output_type": "stream",
     "text": [
      "Epoch 831: 100%|██████████| 938/938 [00:21<00:00, 43.70batch/s, Train Loss=0.24, Train Acc=90.8] \n"
     ]
    },
    {
     "name": "stdout",
     "output_type": "stream",
     "text": [
      "Epoch 831\n",
      "Train Loss: 0.2400, Train Accuracy: 90.82%\n",
      "Test Loss: 0.2267, Test Accuracy: 91.79%\n",
      "\n"
     ]
    },
    {
     "name": "stderr",
     "output_type": "stream",
     "text": [
      "Epoch 832: 100%|██████████| 938/938 [00:21<00:00, 43.89batch/s, Train Loss=0.238, Train Acc=91]  \n"
     ]
    },
    {
     "name": "stdout",
     "output_type": "stream",
     "text": [
      "Epoch 832\n",
      "Train Loss: 0.2384, Train Accuracy: 90.95%\n",
      "Test Loss: 0.2276, Test Accuracy: 91.93%\n",
      "\n"
     ]
    },
    {
     "name": "stderr",
     "output_type": "stream",
     "text": [
      "Epoch 833: 100%|██████████| 938/938 [00:21<00:00, 43.72batch/s, Train Loss=0.234, Train Acc=91]  \n"
     ]
    },
    {
     "name": "stdout",
     "output_type": "stream",
     "text": [
      "Epoch 833\n",
      "Train Loss: 0.2338, Train Accuracy: 91.03%\n",
      "Test Loss: 0.2301, Test Accuracy: 91.73%\n",
      "\n"
     ]
    },
    {
     "name": "stderr",
     "output_type": "stream",
     "text": [
      "Epoch 834: 100%|██████████| 938/938 [00:21<00:00, 43.94batch/s, Train Loss=0.237, Train Acc=91]  \n"
     ]
    },
    {
     "name": "stdout",
     "output_type": "stream",
     "text": [
      "Epoch 834\n",
      "Train Loss: 0.2369, Train Accuracy: 91.04%\n",
      "Test Loss: 0.2278, Test Accuracy: 91.91%\n",
      "\n"
     ]
    },
    {
     "name": "stderr",
     "output_type": "stream",
     "text": [
      "Epoch 835: 100%|██████████| 938/938 [00:21<00:00, 43.93batch/s, Train Loss=0.236, Train Acc=91]  \n"
     ]
    },
    {
     "name": "stdout",
     "output_type": "stream",
     "text": [
      "Epoch 835\n",
      "Train Loss: 0.2357, Train Accuracy: 90.99%\n",
      "Test Loss: 0.2259, Test Accuracy: 92.03%\n",
      "\n"
     ]
    },
    {
     "name": "stderr",
     "output_type": "stream",
     "text": [
      "Epoch 836: 100%|██████████| 938/938 [00:21<00:00, 43.99batch/s, Train Loss=0.237, Train Acc=90.9]\n"
     ]
    },
    {
     "name": "stdout",
     "output_type": "stream",
     "text": [
      "Epoch 836\n",
      "Train Loss: 0.2370, Train Accuracy: 90.91%\n",
      "Test Loss: 0.2276, Test Accuracy: 91.91%\n",
      "\n"
     ]
    },
    {
     "name": "stderr",
     "output_type": "stream",
     "text": [
      "Epoch 837: 100%|██████████| 938/938 [00:21<00:00, 43.88batch/s, Train Loss=0.236, Train Acc=90.9]\n"
     ]
    },
    {
     "name": "stdout",
     "output_type": "stream",
     "text": [
      "Epoch 837\n",
      "Train Loss: 0.2356, Train Accuracy: 90.94%\n",
      "Test Loss: 0.2230, Test Accuracy: 91.93%\n",
      "\n"
     ]
    },
    {
     "name": "stderr",
     "output_type": "stream",
     "text": [
      "Epoch 838: 100%|██████████| 938/938 [00:21<00:00, 44.14batch/s, Train Loss=0.24, Train Acc=90.8] \n"
     ]
    },
    {
     "name": "stdout",
     "output_type": "stream",
     "text": [
      "Epoch 838\n",
      "Train Loss: 0.2397, Train Accuracy: 90.80%\n",
      "Test Loss: 0.2248, Test Accuracy: 92.02%\n",
      "\n"
     ]
    },
    {
     "name": "stderr",
     "output_type": "stream",
     "text": [
      "Epoch 839: 100%|██████████| 938/938 [00:21<00:00, 43.89batch/s, Train Loss=0.234, Train Acc=91.1]\n"
     ]
    },
    {
     "name": "stdout",
     "output_type": "stream",
     "text": [
      "Epoch 839\n",
      "Train Loss: 0.2341, Train Accuracy: 91.08%\n",
      "Test Loss: 0.2235, Test Accuracy: 92.13%\n",
      "\n"
     ]
    },
    {
     "name": "stderr",
     "output_type": "stream",
     "text": [
      "Epoch 840: 100%|██████████| 938/938 [00:21<00:00, 43.52batch/s, Train Loss=0.233, Train Acc=91.1]\n"
     ]
    },
    {
     "name": "stdout",
     "output_type": "stream",
     "text": [
      "Epoch 840\n",
      "Train Loss: 0.2334, Train Accuracy: 91.09%\n",
      "Test Loss: 0.2251, Test Accuracy: 92.16%\n",
      "\n"
     ]
    },
    {
     "name": "stderr",
     "output_type": "stream",
     "text": [
      "Epoch 841: 100%|██████████| 938/938 [00:21<00:00, 43.89batch/s, Train Loss=0.235, Train Acc=90.9]\n"
     ]
    },
    {
     "name": "stdout",
     "output_type": "stream",
     "text": [
      "Epoch 841\n",
      "Train Loss: 0.2352, Train Accuracy: 90.86%\n",
      "Test Loss: 0.2316, Test Accuracy: 91.82%\n",
      "\n"
     ]
    },
    {
     "name": "stderr",
     "output_type": "stream",
     "text": [
      "Epoch 842: 100%|██████████| 938/938 [00:21<00:00, 43.72batch/s, Train Loss=0.236, Train Acc=90.9]\n"
     ]
    },
    {
     "name": "stdout",
     "output_type": "stream",
     "text": [
      "Epoch 842\n",
      "Train Loss: 0.2364, Train Accuracy: 90.86%\n",
      "Test Loss: 0.2330, Test Accuracy: 91.74%\n",
      "\n"
     ]
    },
    {
     "name": "stderr",
     "output_type": "stream",
     "text": [
      "Epoch 843: 100%|██████████| 938/938 [00:21<00:00, 42.92batch/s, Train Loss=0.232, Train Acc=91]  \n"
     ]
    },
    {
     "name": "stdout",
     "output_type": "stream",
     "text": [
      "Epoch 843\n",
      "Train Loss: 0.2319, Train Accuracy: 90.97%\n",
      "Test Loss: 0.2215, Test Accuracy: 92.16%\n",
      "\n"
     ]
    },
    {
     "name": "stderr",
     "output_type": "stream",
     "text": [
      "Epoch 844: 100%|██████████| 938/938 [00:22<00:00, 42.47batch/s, Train Loss=0.235, Train Acc=91]  \n"
     ]
    },
    {
     "name": "stdout",
     "output_type": "stream",
     "text": [
      "Epoch 844\n",
      "Train Loss: 0.2352, Train Accuracy: 91.00%\n",
      "Test Loss: 0.2241, Test Accuracy: 92.09%\n",
      "\n"
     ]
    },
    {
     "name": "stderr",
     "output_type": "stream",
     "text": [
      "Epoch 845: 100%|██████████| 938/938 [00:21<00:00, 43.13batch/s, Train Loss=0.236, Train Acc=90.9]\n"
     ]
    },
    {
     "name": "stdout",
     "output_type": "stream",
     "text": [
      "Epoch 845\n",
      "Train Loss: 0.2362, Train Accuracy: 90.94%\n",
      "Test Loss: 0.2230, Test Accuracy: 92.19%\n",
      "\n"
     ]
    },
    {
     "name": "stderr",
     "output_type": "stream",
     "text": [
      "Epoch 846: 100%|██████████| 938/938 [00:21<00:00, 44.19batch/s, Train Loss=0.234, Train Acc=91]  \n"
     ]
    },
    {
     "name": "stdout",
     "output_type": "stream",
     "text": [
      "Epoch 846\n",
      "Train Loss: 0.2341, Train Accuracy: 91.04%\n",
      "Test Loss: 0.2266, Test Accuracy: 91.88%\n",
      "\n"
     ]
    },
    {
     "name": "stderr",
     "output_type": "stream",
     "text": [
      "Epoch 847: 100%|██████████| 938/938 [00:21<00:00, 44.41batch/s, Train Loss=0.231, Train Acc=91.2]\n"
     ]
    },
    {
     "name": "stdout",
     "output_type": "stream",
     "text": [
      "Epoch 847\n",
      "Train Loss: 0.2306, Train Accuracy: 91.16%\n",
      "Test Loss: 0.2267, Test Accuracy: 92.24%\n",
      "\n"
     ]
    },
    {
     "name": "stderr",
     "output_type": "stream",
     "text": [
      "Epoch 848: 100%|██████████| 938/938 [00:21<00:00, 42.99batch/s, Train Loss=0.236, Train Acc=91]  \n"
     ]
    },
    {
     "name": "stdout",
     "output_type": "stream",
     "text": [
      "Epoch 848\n",
      "Train Loss: 0.2364, Train Accuracy: 90.97%\n",
      "Test Loss: 0.2261, Test Accuracy: 91.91%\n",
      "\n"
     ]
    },
    {
     "name": "stderr",
     "output_type": "stream",
     "text": [
      "Epoch 849: 100%|██████████| 938/938 [00:21<00:00, 43.31batch/s, Train Loss=0.233, Train Acc=91]  \n"
     ]
    },
    {
     "name": "stdout",
     "output_type": "stream",
     "text": [
      "Epoch 849\n",
      "Train Loss: 0.2332, Train Accuracy: 91.00%\n",
      "Test Loss: 0.2222, Test Accuracy: 92.03%\n",
      "\n"
     ]
    },
    {
     "name": "stderr",
     "output_type": "stream",
     "text": [
      "Epoch 850: 100%|██████████| 938/938 [00:21<00:00, 43.61batch/s, Train Loss=0.235, Train Acc=91]  \n"
     ]
    },
    {
     "name": "stdout",
     "output_type": "stream",
     "text": [
      "Epoch 850\n",
      "Train Loss: 0.2349, Train Accuracy: 91.04%\n",
      "Test Loss: 0.2200, Test Accuracy: 92.36%\n",
      "\n"
     ]
    },
    {
     "name": "stderr",
     "output_type": "stream",
     "text": [
      "Epoch 851: 100%|██████████| 938/938 [00:21<00:00, 43.71batch/s, Train Loss=0.235, Train Acc=90.9]\n"
     ]
    },
    {
     "name": "stdout",
     "output_type": "stream",
     "text": [
      "Epoch 851\n",
      "Train Loss: 0.2348, Train Accuracy: 90.94%\n",
      "Test Loss: 0.2159, Test Accuracy: 92.26%\n",
      "\n"
     ]
    },
    {
     "name": "stderr",
     "output_type": "stream",
     "text": [
      "Epoch 852: 100%|██████████| 938/938 [00:21<00:00, 43.95batch/s, Train Loss=0.232, Train Acc=91.2]\n"
     ]
    },
    {
     "name": "stdout",
     "output_type": "stream",
     "text": [
      "Epoch 852\n",
      "Train Loss: 0.2324, Train Accuracy: 91.17%\n",
      "Test Loss: 0.2203, Test Accuracy: 92.15%\n",
      "\n"
     ]
    },
    {
     "name": "stderr",
     "output_type": "stream",
     "text": [
      "Epoch 853: 100%|██████████| 938/938 [00:21<00:00, 43.54batch/s, Train Loss=0.235, Train Acc=90.9]\n"
     ]
    },
    {
     "name": "stdout",
     "output_type": "stream",
     "text": [
      "Epoch 853\n",
      "Train Loss: 0.2355, Train Accuracy: 90.94%\n",
      "Test Loss: 0.2194, Test Accuracy: 92.48%\n",
      "\n"
     ]
    },
    {
     "name": "stderr",
     "output_type": "stream",
     "text": [
      "Epoch 854: 100%|██████████| 938/938 [00:21<00:00, 43.80batch/s, Train Loss=0.232, Train Acc=91]  \n"
     ]
    },
    {
     "name": "stdout",
     "output_type": "stream",
     "text": [
      "Epoch 854\n",
      "Train Loss: 0.2318, Train Accuracy: 91.00%\n",
      "Test Loss: 0.2241, Test Accuracy: 92.02%\n",
      "\n"
     ]
    },
    {
     "name": "stderr",
     "output_type": "stream",
     "text": [
      "Epoch 855: 100%|██████████| 938/938 [00:22<00:00, 42.29batch/s, Train Loss=0.234, Train Acc=91]  \n"
     ]
    },
    {
     "name": "stdout",
     "output_type": "stream",
     "text": [
      "Epoch 855\n",
      "Train Loss: 0.2344, Train Accuracy: 91.00%\n",
      "Test Loss: 0.2234, Test Accuracy: 91.99%\n",
      "\n"
     ]
    },
    {
     "name": "stderr",
     "output_type": "stream",
     "text": [
      "Epoch 856: 100%|██████████| 938/938 [00:21<00:00, 43.68batch/s, Train Loss=0.235, Train Acc=90.9]\n"
     ]
    },
    {
     "name": "stdout",
     "output_type": "stream",
     "text": [
      "Epoch 856\n",
      "Train Loss: 0.2347, Train Accuracy: 90.88%\n",
      "Test Loss: 0.2222, Test Accuracy: 92.21%\n",
      "\n"
     ]
    },
    {
     "name": "stderr",
     "output_type": "stream",
     "text": [
      "Epoch 857: 100%|██████████| 938/938 [00:21<00:00, 44.18batch/s, Train Loss=0.231, Train Acc=91.1]\n"
     ]
    },
    {
     "name": "stdout",
     "output_type": "stream",
     "text": [
      "Epoch 857\n",
      "Train Loss: 0.2308, Train Accuracy: 91.10%\n",
      "Test Loss: 0.2244, Test Accuracy: 92.13%\n",
      "\n"
     ]
    },
    {
     "name": "stderr",
     "output_type": "stream",
     "text": [
      "Epoch 858: 100%|██████████| 938/938 [00:21<00:00, 44.31batch/s, Train Loss=0.233, Train Acc=91]  \n"
     ]
    },
    {
     "name": "stdout",
     "output_type": "stream",
     "text": [
      "Epoch 858\n",
      "Train Loss: 0.2327, Train Accuracy: 91.00%\n",
      "Test Loss: 0.2236, Test Accuracy: 92.07%\n",
      "\n"
     ]
    },
    {
     "name": "stderr",
     "output_type": "stream",
     "text": [
      "Epoch 859: 100%|██████████| 938/938 [00:21<00:00, 44.31batch/s, Train Loss=0.232, Train Acc=91.2]\n"
     ]
    },
    {
     "name": "stdout",
     "output_type": "stream",
     "text": [
      "Epoch 859\n",
      "Train Loss: 0.2320, Train Accuracy: 91.17%\n",
      "Test Loss: 0.2191, Test Accuracy: 92.15%\n",
      "\n"
     ]
    },
    {
     "name": "stderr",
     "output_type": "stream",
     "text": [
      "Epoch 860: 100%|██████████| 938/938 [00:21<00:00, 44.44batch/s, Train Loss=0.233, Train Acc=91.2]\n"
     ]
    },
    {
     "name": "stdout",
     "output_type": "stream",
     "text": [
      "Epoch 860\n",
      "Train Loss: 0.2325, Train Accuracy: 91.15%\n",
      "Test Loss: 0.2195, Test Accuracy: 92.25%\n",
      "\n"
     ]
    },
    {
     "name": "stderr",
     "output_type": "stream",
     "text": [
      "Epoch 861: 100%|██████████| 938/938 [00:20<00:00, 44.73batch/s, Train Loss=0.232, Train Acc=91.1]\n"
     ]
    },
    {
     "name": "stdout",
     "output_type": "stream",
     "text": [
      "Epoch 861\n",
      "Train Loss: 0.2322, Train Accuracy: 91.15%\n",
      "Test Loss: 0.2178, Test Accuracy: 92.35%\n",
      "\n"
     ]
    },
    {
     "name": "stderr",
     "output_type": "stream",
     "text": [
      "Epoch 862: 100%|██████████| 938/938 [00:21<00:00, 44.21batch/s, Train Loss=0.234, Train Acc=91]  \n"
     ]
    },
    {
     "name": "stdout",
     "output_type": "stream",
     "text": [
      "Epoch 862\n",
      "Train Loss: 0.2342, Train Accuracy: 91.03%\n",
      "Test Loss: 0.2215, Test Accuracy: 92.07%\n",
      "\n"
     ]
    },
    {
     "name": "stderr",
     "output_type": "stream",
     "text": [
      "Epoch 863: 100%|██████████| 938/938 [00:21<00:00, 44.54batch/s, Train Loss=0.228, Train Acc=91.2]\n"
     ]
    },
    {
     "name": "stdout",
     "output_type": "stream",
     "text": [
      "Epoch 863\n",
      "Train Loss: 0.2279, Train Accuracy: 91.24%\n",
      "Test Loss: 0.2243, Test Accuracy: 92.14%\n",
      "\n"
     ]
    },
    {
     "name": "stderr",
     "output_type": "stream",
     "text": [
      "Epoch 864: 100%|██████████| 938/938 [00:21<00:00, 44.53batch/s, Train Loss=0.23, Train Acc=91.1] \n"
     ]
    },
    {
     "name": "stdout",
     "output_type": "stream",
     "text": [
      "Epoch 864\n",
      "Train Loss: 0.2305, Train Accuracy: 91.13%\n",
      "Test Loss: 0.2281, Test Accuracy: 92.00%\n",
      "\n"
     ]
    },
    {
     "name": "stderr",
     "output_type": "stream",
     "text": [
      "Epoch 865: 100%|██████████| 938/938 [00:20<00:00, 44.72batch/s, Train Loss=0.232, Train Acc=91.2]\n"
     ]
    },
    {
     "name": "stdout",
     "output_type": "stream",
     "text": [
      "Epoch 865\n",
      "Train Loss: 0.2324, Train Accuracy: 91.17%\n",
      "Test Loss: 0.2240, Test Accuracy: 92.08%\n",
      "\n"
     ]
    },
    {
     "name": "stderr",
     "output_type": "stream",
     "text": [
      "Epoch 866: 100%|██████████| 938/938 [00:21<00:00, 44.17batch/s, Train Loss=0.23, Train Acc=91.1] \n"
     ]
    },
    {
     "name": "stdout",
     "output_type": "stream",
     "text": [
      "Epoch 866\n",
      "Train Loss: 0.2299, Train Accuracy: 91.12%\n",
      "Test Loss: 0.2261, Test Accuracy: 92.05%\n",
      "\n"
     ]
    },
    {
     "name": "stderr",
     "output_type": "stream",
     "text": [
      "Epoch 867: 100%|██████████| 938/938 [00:21<00:00, 44.22batch/s, Train Loss=0.234, Train Acc=91]  \n"
     ]
    },
    {
     "name": "stdout",
     "output_type": "stream",
     "text": [
      "Epoch 867\n",
      "Train Loss: 0.2337, Train Accuracy: 91.03%\n",
      "Test Loss: 0.2268, Test Accuracy: 91.85%\n",
      "\n"
     ]
    },
    {
     "name": "stderr",
     "output_type": "stream",
     "text": [
      "Epoch 868: 100%|██████████| 938/938 [00:21<00:00, 44.47batch/s, Train Loss=0.23, Train Acc=91.1] \n"
     ]
    },
    {
     "name": "stdout",
     "output_type": "stream",
     "text": [
      "Epoch 868\n",
      "Train Loss: 0.2302, Train Accuracy: 91.15%\n",
      "Test Loss: 0.2319, Test Accuracy: 91.98%\n",
      "\n"
     ]
    },
    {
     "name": "stderr",
     "output_type": "stream",
     "text": [
      "Epoch 869: 100%|██████████| 938/938 [00:21<00:00, 44.45batch/s, Train Loss=0.234, Train Acc=91]  \n"
     ]
    },
    {
     "name": "stdout",
     "output_type": "stream",
     "text": [
      "Epoch 869\n",
      "Train Loss: 0.2343, Train Accuracy: 91.03%\n",
      "Test Loss: 0.2241, Test Accuracy: 92.21%\n",
      "\n"
     ]
    },
    {
     "name": "stderr",
     "output_type": "stream",
     "text": [
      "Epoch 870: 100%|██████████| 938/938 [00:20<00:00, 45.07batch/s, Train Loss=0.231, Train Acc=91.1]\n"
     ]
    },
    {
     "name": "stdout",
     "output_type": "stream",
     "text": [
      "Epoch 870\n",
      "Train Loss: 0.2309, Train Accuracy: 91.15%\n",
      "Test Loss: 0.2215, Test Accuracy: 92.17%\n",
      "\n"
     ]
    },
    {
     "name": "stderr",
     "output_type": "stream",
     "text": [
      "Epoch 871: 100%|██████████| 938/938 [00:20<00:00, 46.23batch/s, Train Loss=0.229, Train Acc=91.2]\n"
     ]
    },
    {
     "name": "stdout",
     "output_type": "stream",
     "text": [
      "Epoch 871\n",
      "Train Loss: 0.2288, Train Accuracy: 91.24%\n",
      "Test Loss: 0.2259, Test Accuracy: 92.02%\n",
      "\n"
     ]
    },
    {
     "name": "stderr",
     "output_type": "stream",
     "text": [
      "Epoch 872: 100%|██████████| 938/938 [00:20<00:00, 46.17batch/s, Train Loss=0.233, Train Acc=91.1]\n"
     ]
    },
    {
     "name": "stdout",
     "output_type": "stream",
     "text": [
      "Epoch 872\n",
      "Train Loss: 0.2328, Train Accuracy: 91.06%\n",
      "Test Loss: 0.2264, Test Accuracy: 92.10%\n",
      "\n"
     ]
    },
    {
     "name": "stderr",
     "output_type": "stream",
     "text": [
      "Epoch 873: 100%|██████████| 938/938 [00:20<00:00, 46.48batch/s, Train Loss=0.229, Train Acc=91.2]\n"
     ]
    },
    {
     "name": "stdout",
     "output_type": "stream",
     "text": [
      "Epoch 873\n",
      "Train Loss: 0.2294, Train Accuracy: 91.17%\n",
      "Test Loss: 0.2220, Test Accuracy: 92.19%\n",
      "\n"
     ]
    },
    {
     "name": "stderr",
     "output_type": "stream",
     "text": [
      "Epoch 874: 100%|██████████| 938/938 [00:20<00:00, 45.95batch/s, Train Loss=0.231, Train Acc=91.2]\n"
     ]
    },
    {
     "name": "stdout",
     "output_type": "stream",
     "text": [
      "Epoch 874\n",
      "Train Loss: 0.2312, Train Accuracy: 91.23%\n",
      "Test Loss: 0.2236, Test Accuracy: 92.14%\n",
      "\n"
     ]
    },
    {
     "name": "stderr",
     "output_type": "stream",
     "text": [
      "Epoch 875: 100%|██████████| 938/938 [00:20<00:00, 45.99batch/s, Train Loss=0.234, Train Acc=91.1]\n"
     ]
    },
    {
     "name": "stdout",
     "output_type": "stream",
     "text": [
      "Epoch 875\n",
      "Train Loss: 0.2335, Train Accuracy: 91.09%\n",
      "Test Loss: 0.2238, Test Accuracy: 92.23%\n",
      "\n"
     ]
    },
    {
     "name": "stderr",
     "output_type": "stream",
     "text": [
      "Epoch 876: 100%|██████████| 938/938 [00:20<00:00, 46.08batch/s, Train Loss=0.232, Train Acc=91.2]\n"
     ]
    },
    {
     "name": "stdout",
     "output_type": "stream",
     "text": [
      "Epoch 876\n",
      "Train Loss: 0.2316, Train Accuracy: 91.17%\n",
      "Test Loss: 0.2217, Test Accuracy: 92.25%\n",
      "\n"
     ]
    },
    {
     "name": "stderr",
     "output_type": "stream",
     "text": [
      "Epoch 877: 100%|██████████| 938/938 [00:20<00:00, 46.45batch/s, Train Loss=0.23, Train Acc=91.1] \n"
     ]
    },
    {
     "name": "stdout",
     "output_type": "stream",
     "text": [
      "Epoch 877\n",
      "Train Loss: 0.2303, Train Accuracy: 91.15%\n",
      "Test Loss: 0.2240, Test Accuracy: 92.21%\n",
      "\n"
     ]
    },
    {
     "name": "stderr",
     "output_type": "stream",
     "text": [
      "Epoch 878: 100%|██████████| 938/938 [00:20<00:00, 46.09batch/s, Train Loss=0.233, Train Acc=91]  \n"
     ]
    },
    {
     "name": "stdout",
     "output_type": "stream",
     "text": [
      "Epoch 878\n",
      "Train Loss: 0.2335, Train Accuracy: 91.02%\n",
      "Test Loss: 0.2237, Test Accuracy: 92.00%\n",
      "\n"
     ]
    },
    {
     "name": "stderr",
     "output_type": "stream",
     "text": [
      "Epoch 879: 100%|██████████| 938/938 [00:20<00:00, 46.08batch/s, Train Loss=0.23, Train Acc=91.2] \n"
     ]
    },
    {
     "name": "stdout",
     "output_type": "stream",
     "text": [
      "Epoch 879\n",
      "Train Loss: 0.2296, Train Accuracy: 91.23%\n",
      "Test Loss: 0.2216, Test Accuracy: 92.15%\n",
      "\n"
     ]
    },
    {
     "name": "stderr",
     "output_type": "stream",
     "text": [
      "Epoch 880: 100%|██████████| 938/938 [00:20<00:00, 46.02batch/s, Train Loss=0.232, Train Acc=91.1]\n"
     ]
    },
    {
     "name": "stdout",
     "output_type": "stream",
     "text": [
      "Epoch 880\n",
      "Train Loss: 0.2315, Train Accuracy: 91.10%\n",
      "Test Loss: 0.2211, Test Accuracy: 92.21%\n",
      "\n"
     ]
    },
    {
     "name": "stderr",
     "output_type": "stream",
     "text": [
      "Epoch 881: 100%|██████████| 938/938 [00:20<00:00, 46.36batch/s, Train Loss=0.234, Train Acc=91]  \n"
     ]
    },
    {
     "name": "stdout",
     "output_type": "stream",
     "text": [
      "Epoch 881\n",
      "Train Loss: 0.2335, Train Accuracy: 90.99%\n",
      "Test Loss: 0.2231, Test Accuracy: 91.91%\n",
      "\n"
     ]
    },
    {
     "name": "stderr",
     "output_type": "stream",
     "text": [
      "Epoch 882: 100%|██████████| 938/938 [00:20<00:00, 46.01batch/s, Train Loss=0.23, Train Acc=91.1] \n"
     ]
    },
    {
     "name": "stdout",
     "output_type": "stream",
     "text": [
      "Epoch 882\n",
      "Train Loss: 0.2304, Train Accuracy: 91.13%\n",
      "Test Loss: 0.2233, Test Accuracy: 92.10%\n",
      "\n"
     ]
    },
    {
     "name": "stderr",
     "output_type": "stream",
     "text": [
      "Epoch 883: 100%|██████████| 938/938 [00:20<00:00, 46.34batch/s, Train Loss=0.231, Train Acc=91.1]\n"
     ]
    },
    {
     "name": "stdout",
     "output_type": "stream",
     "text": [
      "Epoch 883\n",
      "Train Loss: 0.2307, Train Accuracy: 91.09%\n",
      "Test Loss: 0.2221, Test Accuracy: 92.31%\n",
      "\n"
     ]
    },
    {
     "name": "stderr",
     "output_type": "stream",
     "text": [
      "Epoch 884: 100%|██████████| 938/938 [00:20<00:00, 46.21batch/s, Train Loss=0.232, Train Acc=91.2]\n"
     ]
    },
    {
     "name": "stdout",
     "output_type": "stream",
     "text": [
      "Epoch 884\n",
      "Train Loss: 0.2324, Train Accuracy: 91.17%\n",
      "Test Loss: 0.2195, Test Accuracy: 92.22%\n",
      "\n"
     ]
    },
    {
     "name": "stderr",
     "output_type": "stream",
     "text": [
      "Epoch 885: 100%|██████████| 938/938 [00:20<00:00, 46.11batch/s, Train Loss=0.231, Train Acc=91.3]\n"
     ]
    },
    {
     "name": "stdout",
     "output_type": "stream",
     "text": [
      "Epoch 885\n",
      "Train Loss: 0.2308, Train Accuracy: 91.28%\n",
      "Test Loss: 0.2319, Test Accuracy: 91.87%\n",
      "\n"
     ]
    },
    {
     "name": "stderr",
     "output_type": "stream",
     "text": [
      "Epoch 886: 100%|██████████| 938/938 [00:20<00:00, 46.25batch/s, Train Loss=0.23, Train Acc=91.2] \n"
     ]
    },
    {
     "name": "stdout",
     "output_type": "stream",
     "text": [
      "Epoch 886\n",
      "Train Loss: 0.2295, Train Accuracy: 91.22%\n",
      "Test Loss: 0.2251, Test Accuracy: 92.25%\n",
      "\n"
     ]
    },
    {
     "name": "stderr",
     "output_type": "stream",
     "text": [
      "Epoch 887: 100%|██████████| 938/938 [00:20<00:00, 45.99batch/s, Train Loss=0.228, Train Acc=91.2]\n"
     ]
    },
    {
     "name": "stdout",
     "output_type": "stream",
     "text": [
      "Epoch 887\n",
      "Train Loss: 0.2278, Train Accuracy: 91.20%\n",
      "Test Loss: 0.2185, Test Accuracy: 92.40%\n",
      "\n"
     ]
    },
    {
     "name": "stderr",
     "output_type": "stream",
     "text": [
      "Epoch 888: 100%|██████████| 938/938 [00:20<00:00, 46.09batch/s, Train Loss=0.228, Train Acc=91.3]\n"
     ]
    },
    {
     "name": "stdout",
     "output_type": "stream",
     "text": [
      "Epoch 888\n",
      "Train Loss: 0.2278, Train Accuracy: 91.27%\n",
      "Test Loss: 0.2257, Test Accuracy: 92.19%\n",
      "\n"
     ]
    },
    {
     "name": "stderr",
     "output_type": "stream",
     "text": [
      "Epoch 889: 100%|██████████| 938/938 [00:20<00:00, 46.12batch/s, Train Loss=0.23, Train Acc=91.1] \n"
     ]
    },
    {
     "name": "stdout",
     "output_type": "stream",
     "text": [
      "Epoch 889\n",
      "Train Loss: 0.2304, Train Accuracy: 91.11%\n",
      "Test Loss: 0.2199, Test Accuracy: 92.44%\n",
      "\n"
     ]
    },
    {
     "name": "stderr",
     "output_type": "stream",
     "text": [
      "Epoch 890: 100%|██████████| 938/938 [00:20<00:00, 45.92batch/s, Train Loss=0.228, Train Acc=91.2]\n"
     ]
    },
    {
     "name": "stdout",
     "output_type": "stream",
     "text": [
      "Epoch 890\n",
      "Train Loss: 0.2284, Train Accuracy: 91.21%\n",
      "Test Loss: 0.2222, Test Accuracy: 92.13%\n",
      "\n"
     ]
    },
    {
     "name": "stderr",
     "output_type": "stream",
     "text": [
      "Epoch 891: 100%|██████████| 938/938 [00:20<00:00, 46.26batch/s, Train Loss=0.229, Train Acc=91.2]\n"
     ]
    },
    {
     "name": "stdout",
     "output_type": "stream",
     "text": [
      "Epoch 891\n",
      "Train Loss: 0.2290, Train Accuracy: 91.19%\n",
      "Test Loss: 0.2159, Test Accuracy: 92.31%\n",
      "\n"
     ]
    },
    {
     "name": "stderr",
     "output_type": "stream",
     "text": [
      "Epoch 892: 100%|██████████| 938/938 [00:20<00:00, 46.21batch/s, Train Loss=0.228, Train Acc=91.2]\n"
     ]
    },
    {
     "name": "stdout",
     "output_type": "stream",
     "text": [
      "Epoch 892\n",
      "Train Loss: 0.2280, Train Accuracy: 91.17%\n",
      "Test Loss: 0.2300, Test Accuracy: 91.88%\n",
      "\n"
     ]
    },
    {
     "name": "stderr",
     "output_type": "stream",
     "text": [
      "Epoch 893: 100%|██████████| 938/938 [00:20<00:00, 46.28batch/s, Train Loss=0.232, Train Acc=91.1]\n"
     ]
    },
    {
     "name": "stdout",
     "output_type": "stream",
     "text": [
      "Epoch 893\n",
      "Train Loss: 0.2325, Train Accuracy: 91.13%\n",
      "Test Loss: 0.2277, Test Accuracy: 92.11%\n",
      "\n"
     ]
    },
    {
     "name": "stderr",
     "output_type": "stream",
     "text": [
      "Epoch 894: 100%|██████████| 938/938 [00:20<00:00, 45.98batch/s, Train Loss=0.226, Train Acc=91.3]\n"
     ]
    },
    {
     "name": "stdout",
     "output_type": "stream",
     "text": [
      "Epoch 894\n",
      "Train Loss: 0.2264, Train Accuracy: 91.28%\n",
      "Test Loss: 0.2219, Test Accuracy: 92.27%\n",
      "\n"
     ]
    },
    {
     "name": "stderr",
     "output_type": "stream",
     "text": [
      "Epoch 895: 100%|██████████| 938/938 [00:20<00:00, 46.15batch/s, Train Loss=0.229, Train Acc=91.3]\n"
     ]
    },
    {
     "name": "stdout",
     "output_type": "stream",
     "text": [
      "Epoch 895\n",
      "Train Loss: 0.2291, Train Accuracy: 91.28%\n",
      "Test Loss: 0.2235, Test Accuracy: 92.04%\n",
      "\n"
     ]
    },
    {
     "name": "stderr",
     "output_type": "stream",
     "text": [
      "Epoch 896: 100%|██████████| 938/938 [00:20<00:00, 46.34batch/s, Train Loss=0.231, Train Acc=91.2]\n"
     ]
    },
    {
     "name": "stdout",
     "output_type": "stream",
     "text": [
      "Epoch 896\n",
      "Train Loss: 0.2311, Train Accuracy: 91.16%\n",
      "Test Loss: 0.2197, Test Accuracy: 92.16%\n",
      "\n"
     ]
    },
    {
     "name": "stderr",
     "output_type": "stream",
     "text": [
      "Epoch 897: 100%|██████████| 938/938 [00:20<00:00, 46.15batch/s, Train Loss=0.229, Train Acc=91.2]\n"
     ]
    },
    {
     "name": "stdout",
     "output_type": "stream",
     "text": [
      "Epoch 897\n",
      "Train Loss: 0.2287, Train Accuracy: 91.20%\n",
      "Test Loss: 0.2217, Test Accuracy: 92.04%\n",
      "\n"
     ]
    },
    {
     "name": "stderr",
     "output_type": "stream",
     "text": [
      "Epoch 898: 100%|██████████| 938/938 [00:20<00:00, 45.96batch/s, Train Loss=0.227, Train Acc=91.2]\n"
     ]
    },
    {
     "name": "stdout",
     "output_type": "stream",
     "text": [
      "Epoch 898\n",
      "Train Loss: 0.2275, Train Accuracy: 91.18%\n",
      "Test Loss: 0.2188, Test Accuracy: 92.24%\n",
      "\n"
     ]
    },
    {
     "name": "stderr",
     "output_type": "stream",
     "text": [
      "Epoch 899: 100%|██████████| 938/938 [00:20<00:00, 46.10batch/s, Train Loss=0.231, Train Acc=91.1]\n"
     ]
    },
    {
     "name": "stdout",
     "output_type": "stream",
     "text": [
      "Epoch 899\n",
      "Train Loss: 0.2312, Train Accuracy: 91.11%\n",
      "Test Loss: 0.2216, Test Accuracy: 92.20%\n",
      "\n"
     ]
    },
    {
     "name": "stderr",
     "output_type": "stream",
     "text": [
      "Epoch 900: 100%|██████████| 938/938 [00:20<00:00, 46.29batch/s, Train Loss=0.23, Train Acc=91.1] \n"
     ]
    },
    {
     "name": "stdout",
     "output_type": "stream",
     "text": [
      "Epoch 900\n",
      "Train Loss: 0.2303, Train Accuracy: 91.11%\n",
      "Test Loss: 0.2242, Test Accuracy: 92.10%\n",
      "\n"
     ]
    },
    {
     "name": "stderr",
     "output_type": "stream",
     "text": [
      "Epoch 901: 100%|██████████| 938/938 [00:20<00:00, 46.19batch/s, Train Loss=0.227, Train Acc=91.2]\n"
     ]
    },
    {
     "name": "stdout",
     "output_type": "stream",
     "text": [
      "Epoch 901\n",
      "Train Loss: 0.2270, Train Accuracy: 91.23%\n",
      "Test Loss: 0.2252, Test Accuracy: 92.30%\n",
      "\n"
     ]
    },
    {
     "name": "stderr",
     "output_type": "stream",
     "text": [
      "Epoch 902: 100%|██████████| 938/938 [00:20<00:00, 45.99batch/s, Train Loss=0.227, Train Acc=91.3]\n"
     ]
    },
    {
     "name": "stdout",
     "output_type": "stream",
     "text": [
      "Epoch 902\n",
      "Train Loss: 0.2275, Train Accuracy: 91.30%\n",
      "Test Loss: 0.2231, Test Accuracy: 92.25%\n",
      "\n"
     ]
    },
    {
     "name": "stderr",
     "output_type": "stream",
     "text": [
      "Epoch 903: 100%|██████████| 938/938 [00:20<00:00, 46.29batch/s, Train Loss=0.226, Train Acc=91.3]\n"
     ]
    },
    {
     "name": "stdout",
     "output_type": "stream",
     "text": [
      "Epoch 903\n",
      "Train Loss: 0.2255, Train Accuracy: 91.29%\n",
      "Test Loss: 0.2205, Test Accuracy: 92.37%\n",
      "\n"
     ]
    },
    {
     "name": "stderr",
     "output_type": "stream",
     "text": [
      "Epoch 904: 100%|██████████| 938/938 [00:20<00:00, 45.87batch/s, Train Loss=0.225, Train Acc=91.4]\n"
     ]
    },
    {
     "name": "stdout",
     "output_type": "stream",
     "text": [
      "Epoch 904\n",
      "Train Loss: 0.2252, Train Accuracy: 91.43%\n",
      "Test Loss: 0.2271, Test Accuracy: 92.19%\n",
      "\n"
     ]
    },
    {
     "name": "stderr",
     "output_type": "stream",
     "text": [
      "Epoch 905: 100%|██████████| 938/938 [00:20<00:00, 46.16batch/s, Train Loss=0.226, Train Acc=91.3]\n"
     ]
    },
    {
     "name": "stdout",
     "output_type": "stream",
     "text": [
      "Epoch 905\n",
      "Train Loss: 0.2256, Train Accuracy: 91.30%\n",
      "Test Loss: 0.2237, Test Accuracy: 92.30%\n",
      "\n"
     ]
    },
    {
     "name": "stderr",
     "output_type": "stream",
     "text": [
      "Epoch 906: 100%|██████████| 938/938 [00:20<00:00, 46.37batch/s, Train Loss=0.229, Train Acc=91.3]\n"
     ]
    },
    {
     "name": "stdout",
     "output_type": "stream",
     "text": [
      "Epoch 906\n",
      "Train Loss: 0.2290, Train Accuracy: 91.25%\n",
      "Test Loss: 0.2281, Test Accuracy: 91.91%\n",
      "\n"
     ]
    },
    {
     "name": "stderr",
     "output_type": "stream",
     "text": [
      "Epoch 907: 100%|██████████| 938/938 [00:20<00:00, 46.13batch/s, Train Loss=0.23, Train Acc=91.1] \n"
     ]
    },
    {
     "name": "stdout",
     "output_type": "stream",
     "text": [
      "Epoch 907\n",
      "Train Loss: 0.2296, Train Accuracy: 91.09%\n",
      "Test Loss: 0.2225, Test Accuracy: 92.17%\n",
      "\n"
     ]
    },
    {
     "name": "stderr",
     "output_type": "stream",
     "text": [
      "Epoch 908: 100%|██████████| 938/938 [00:20<00:00, 46.09batch/s, Train Loss=0.231, Train Acc=91.2]\n"
     ]
    },
    {
     "name": "stdout",
     "output_type": "stream",
     "text": [
      "Epoch 908\n",
      "Train Loss: 0.2305, Train Accuracy: 91.22%\n",
      "Test Loss: 0.2230, Test Accuracy: 91.99%\n",
      "\n"
     ]
    },
    {
     "name": "stderr",
     "output_type": "stream",
     "text": [
      "Epoch 909: 100%|██████████| 938/938 [00:20<00:00, 46.18batch/s, Train Loss=0.228, Train Acc=91.2]\n"
     ]
    },
    {
     "name": "stdout",
     "output_type": "stream",
     "text": [
      "Epoch 909\n",
      "Train Loss: 0.2281, Train Accuracy: 91.19%\n",
      "Test Loss: 0.2229, Test Accuracy: 92.52%\n",
      "\n"
     ]
    },
    {
     "name": "stderr",
     "output_type": "stream",
     "text": [
      "Epoch 910: 100%|██████████| 938/938 [00:20<00:00, 46.03batch/s, Train Loss=0.227, Train Acc=91.3]\n"
     ]
    },
    {
     "name": "stdout",
     "output_type": "stream",
     "text": [
      "Epoch 910\n",
      "Train Loss: 0.2273, Train Accuracy: 91.31%\n",
      "Test Loss: 0.2247, Test Accuracy: 92.13%\n",
      "\n"
     ]
    },
    {
     "name": "stderr",
     "output_type": "stream",
     "text": [
      "Epoch 911: 100%|██████████| 938/938 [00:20<00:00, 46.11batch/s, Train Loss=0.227, Train Acc=91.2]\n"
     ]
    },
    {
     "name": "stdout",
     "output_type": "stream",
     "text": [
      "Epoch 911\n",
      "Train Loss: 0.2270, Train Accuracy: 91.22%\n",
      "Test Loss: 0.2194, Test Accuracy: 92.18%\n",
      "\n"
     ]
    },
    {
     "name": "stderr",
     "output_type": "stream",
     "text": [
      "Epoch 912: 100%|██████████| 938/938 [00:20<00:00, 45.90batch/s, Train Loss=0.228, Train Acc=91.3]\n"
     ]
    },
    {
     "name": "stdout",
     "output_type": "stream",
     "text": [
      "Epoch 912\n",
      "Train Loss: 0.2279, Train Accuracy: 91.25%\n",
      "Test Loss: 0.2237, Test Accuracy: 92.29%\n",
      "\n"
     ]
    },
    {
     "name": "stderr",
     "output_type": "stream",
     "text": [
      "Epoch 913: 100%|██████████| 938/938 [00:20<00:00, 45.77batch/s, Train Loss=0.228, Train Acc=91.2]\n"
     ]
    },
    {
     "name": "stdout",
     "output_type": "stream",
     "text": [
      "Epoch 913\n",
      "Train Loss: 0.2276, Train Accuracy: 91.22%\n",
      "Test Loss: 0.2254, Test Accuracy: 92.12%\n",
      "\n"
     ]
    },
    {
     "name": "stderr",
     "output_type": "stream",
     "text": [
      "Epoch 914: 100%|██████████| 938/938 [00:20<00:00, 46.06batch/s, Train Loss=0.225, Train Acc=91.3]\n"
     ]
    },
    {
     "name": "stdout",
     "output_type": "stream",
     "text": [
      "Epoch 914\n",
      "Train Loss: 0.2254, Train Accuracy: 91.28%\n",
      "Test Loss: 0.2232, Test Accuracy: 92.13%\n",
      "\n"
     ]
    },
    {
     "name": "stderr",
     "output_type": "stream",
     "text": [
      "Epoch 915: 100%|██████████| 938/938 [00:20<00:00, 45.92batch/s, Train Loss=0.227, Train Acc=91.3]\n"
     ]
    },
    {
     "name": "stdout",
     "output_type": "stream",
     "text": [
      "Epoch 915\n",
      "Train Loss: 0.2269, Train Accuracy: 91.31%\n",
      "Test Loss: 0.2216, Test Accuracy: 92.18%\n",
      "\n"
     ]
    },
    {
     "name": "stderr",
     "output_type": "stream",
     "text": [
      "Epoch 916: 100%|██████████| 938/938 [00:20<00:00, 45.91batch/s, Train Loss=0.225, Train Acc=91.3]\n"
     ]
    },
    {
     "name": "stdout",
     "output_type": "stream",
     "text": [
      "Epoch 916\n",
      "Train Loss: 0.2255, Train Accuracy: 91.35%\n",
      "Test Loss: 0.2248, Test Accuracy: 92.09%\n",
      "\n"
     ]
    },
    {
     "name": "stderr",
     "output_type": "stream",
     "text": [
      "Epoch 917: 100%|██████████| 938/938 [00:20<00:00, 46.00batch/s, Train Loss=0.229, Train Acc=91.1]\n"
     ]
    },
    {
     "name": "stdout",
     "output_type": "stream",
     "text": [
      "Epoch 917\n",
      "Train Loss: 0.2290, Train Accuracy: 91.13%\n",
      "Test Loss: 0.2235, Test Accuracy: 92.16%\n",
      "\n"
     ]
    },
    {
     "name": "stderr",
     "output_type": "stream",
     "text": [
      "Epoch 918: 100%|██████████| 938/938 [00:20<00:00, 46.23batch/s, Train Loss=0.227, Train Acc=91.4]\n"
     ]
    },
    {
     "name": "stdout",
     "output_type": "stream",
     "text": [
      "Epoch 918\n",
      "Train Loss: 0.2267, Train Accuracy: 91.39%\n",
      "Test Loss: 0.2200, Test Accuracy: 92.25%\n",
      "\n"
     ]
    },
    {
     "name": "stderr",
     "output_type": "stream",
     "text": [
      "Epoch 919: 100%|██████████| 938/938 [00:20<00:00, 46.19batch/s, Train Loss=0.225, Train Acc=91.4]\n"
     ]
    },
    {
     "name": "stdout",
     "output_type": "stream",
     "text": [
      "Epoch 919\n",
      "Train Loss: 0.2251, Train Accuracy: 91.36%\n",
      "Test Loss: 0.2210, Test Accuracy: 92.19%\n",
      "\n"
     ]
    },
    {
     "name": "stderr",
     "output_type": "stream",
     "text": [
      "Epoch 920: 100%|██████████| 938/938 [00:20<00:00, 46.04batch/s, Train Loss=0.227, Train Acc=91.3]\n"
     ]
    },
    {
     "name": "stdout",
     "output_type": "stream",
     "text": [
      "Epoch 920\n",
      "Train Loss: 0.2270, Train Accuracy: 91.32%\n",
      "Test Loss: 0.2241, Test Accuracy: 92.21%\n",
      "\n"
     ]
    },
    {
     "name": "stderr",
     "output_type": "stream",
     "text": [
      "Epoch 921: 100%|██████████| 938/938 [00:20<00:00, 46.15batch/s, Train Loss=0.224, Train Acc=91.4]\n"
     ]
    },
    {
     "name": "stdout",
     "output_type": "stream",
     "text": [
      "Epoch 921\n",
      "Train Loss: 0.2240, Train Accuracy: 91.44%\n",
      "Test Loss: 0.2253, Test Accuracy: 92.36%\n",
      "\n"
     ]
    },
    {
     "name": "stderr",
     "output_type": "stream",
     "text": [
      "Epoch 922: 100%|██████████| 938/938 [00:20<00:00, 46.33batch/s, Train Loss=0.225, Train Acc=91.4]\n"
     ]
    },
    {
     "name": "stdout",
     "output_type": "stream",
     "text": [
      "Epoch 922\n",
      "Train Loss: 0.2248, Train Accuracy: 91.40%\n",
      "Test Loss: 0.2294, Test Accuracy: 92.12%\n",
      "\n"
     ]
    },
    {
     "name": "stderr",
     "output_type": "stream",
     "text": [
      "Epoch 923: 100%|██████████| 938/938 [00:20<00:00, 45.93batch/s, Train Loss=0.226, Train Acc=91.3]\n"
     ]
    },
    {
     "name": "stdout",
     "output_type": "stream",
     "text": [
      "Epoch 923\n",
      "Train Loss: 0.2263, Train Accuracy: 91.30%\n",
      "Test Loss: 0.2208, Test Accuracy: 92.34%\n",
      "\n"
     ]
    },
    {
     "name": "stderr",
     "output_type": "stream",
     "text": [
      "Epoch 924: 100%|██████████| 938/938 [00:20<00:00, 46.27batch/s, Train Loss=0.226, Train Acc=91.2]\n"
     ]
    },
    {
     "name": "stdout",
     "output_type": "stream",
     "text": [
      "Epoch 924\n",
      "Train Loss: 0.2258, Train Accuracy: 91.23%\n",
      "Test Loss: 0.2263, Test Accuracy: 92.17%\n",
      "\n"
     ]
    },
    {
     "name": "stderr",
     "output_type": "stream",
     "text": [
      "Epoch 925: 100%|██████████| 938/938 [00:20<00:00, 46.40batch/s, Train Loss=0.226, Train Acc=91.2]\n"
     ]
    },
    {
     "name": "stdout",
     "output_type": "stream",
     "text": [
      "Epoch 925\n",
      "Train Loss: 0.2262, Train Accuracy: 91.18%\n",
      "Test Loss: 0.2261, Test Accuracy: 92.09%\n",
      "\n"
     ]
    },
    {
     "name": "stderr",
     "output_type": "stream",
     "text": [
      "Epoch 926: 100%|██████████| 938/938 [00:20<00:00, 46.36batch/s, Train Loss=0.226, Train Acc=91.4]\n"
     ]
    },
    {
     "name": "stdout",
     "output_type": "stream",
     "text": [
      "Epoch 926\n",
      "Train Loss: 0.2262, Train Accuracy: 91.43%\n",
      "Test Loss: 0.2271, Test Accuracy: 92.23%\n",
      "\n"
     ]
    },
    {
     "name": "stderr",
     "output_type": "stream",
     "text": [
      "Epoch 927: 100%|██████████| 938/938 [00:20<00:00, 45.81batch/s, Train Loss=0.226, Train Acc=91.2]\n"
     ]
    },
    {
     "name": "stdout",
     "output_type": "stream",
     "text": [
      "Epoch 927\n",
      "Train Loss: 0.2260, Train Accuracy: 91.21%\n",
      "Test Loss: 0.2276, Test Accuracy: 92.33%\n",
      "\n"
     ]
    },
    {
     "name": "stderr",
     "output_type": "stream",
     "text": [
      "Epoch 928: 100%|██████████| 938/938 [00:20<00:00, 45.89batch/s, Train Loss=0.225, Train Acc=91.4]\n"
     ]
    },
    {
     "name": "stdout",
     "output_type": "stream",
     "text": [
      "Epoch 928\n",
      "Train Loss: 0.2253, Train Accuracy: 91.35%\n",
      "Test Loss: 0.2246, Test Accuracy: 92.27%\n",
      "\n"
     ]
    },
    {
     "name": "stderr",
     "output_type": "stream",
     "text": [
      "Epoch 929: 100%|██████████| 938/938 [00:20<00:00, 45.88batch/s, Train Loss=0.226, Train Acc=91.3]\n"
     ]
    },
    {
     "name": "stdout",
     "output_type": "stream",
     "text": [
      "Epoch 929\n",
      "Train Loss: 0.2260, Train Accuracy: 91.33%\n",
      "Test Loss: 0.2275, Test Accuracy: 92.21%\n",
      "\n"
     ]
    },
    {
     "name": "stderr",
     "output_type": "stream",
     "text": [
      "Epoch 930: 100%|██████████| 938/938 [00:20<00:00, 46.27batch/s, Train Loss=0.228, Train Acc=91.2]\n"
     ]
    },
    {
     "name": "stdout",
     "output_type": "stream",
     "text": [
      "Epoch 930\n",
      "Train Loss: 0.2276, Train Accuracy: 91.19%\n",
      "Test Loss: 0.2320, Test Accuracy: 91.84%\n",
      "\n"
     ]
    },
    {
     "name": "stderr",
     "output_type": "stream",
     "text": [
      "Epoch 931: 100%|██████████| 938/938 [00:20<00:00, 46.08batch/s, Train Loss=0.222, Train Acc=91.6]\n"
     ]
    },
    {
     "name": "stdout",
     "output_type": "stream",
     "text": [
      "Epoch 931\n",
      "Train Loss: 0.2223, Train Accuracy: 91.56%\n",
      "Test Loss: 0.2273, Test Accuracy: 92.16%\n",
      "\n"
     ]
    },
    {
     "name": "stderr",
     "output_type": "stream",
     "text": [
      "Epoch 932: 100%|██████████| 938/938 [00:20<00:00, 46.07batch/s, Train Loss=0.223, Train Acc=91.4]\n"
     ]
    },
    {
     "name": "stdout",
     "output_type": "stream",
     "text": [
      "Epoch 932\n",
      "Train Loss: 0.2229, Train Accuracy: 91.38%\n",
      "Test Loss: 0.2337, Test Accuracy: 92.14%\n",
      "\n"
     ]
    },
    {
     "name": "stderr",
     "output_type": "stream",
     "text": [
      "Epoch 933: 100%|██████████| 938/938 [00:20<00:00, 46.16batch/s, Train Loss=0.225, Train Acc=91.2]\n"
     ]
    },
    {
     "name": "stdout",
     "output_type": "stream",
     "text": [
      "Epoch 933\n",
      "Train Loss: 0.2247, Train Accuracy: 91.25%\n",
      "Test Loss: 0.2321, Test Accuracy: 92.10%\n",
      "\n"
     ]
    },
    {
     "name": "stderr",
     "output_type": "stream",
     "text": [
      "Epoch 934: 100%|██████████| 938/938 [00:20<00:00, 46.01batch/s, Train Loss=0.226, Train Acc=91.3]\n"
     ]
    },
    {
     "name": "stdout",
     "output_type": "stream",
     "text": [
      "Epoch 934\n",
      "Train Loss: 0.2259, Train Accuracy: 91.32%\n",
      "Test Loss: 0.2308, Test Accuracy: 92.17%\n",
      "\n"
     ]
    },
    {
     "name": "stderr",
     "output_type": "stream",
     "text": [
      "Epoch 935: 100%|██████████| 938/938 [00:20<00:00, 45.92batch/s, Train Loss=0.225, Train Acc=91.3]\n"
     ]
    },
    {
     "name": "stdout",
     "output_type": "stream",
     "text": [
      "Epoch 935\n",
      "Train Loss: 0.2252, Train Accuracy: 91.33%\n",
      "Test Loss: 0.2318, Test Accuracy: 92.04%\n",
      "\n"
     ]
    },
    {
     "name": "stderr",
     "output_type": "stream",
     "text": [
      "Epoch 936: 100%|██████████| 938/938 [00:20<00:00, 45.88batch/s, Train Loss=0.225, Train Acc=91.3]\n"
     ]
    },
    {
     "name": "stdout",
     "output_type": "stream",
     "text": [
      "Epoch 936\n",
      "Train Loss: 0.2246, Train Accuracy: 91.28%\n",
      "Test Loss: 0.2231, Test Accuracy: 92.38%\n",
      "\n"
     ]
    },
    {
     "name": "stderr",
     "output_type": "stream",
     "text": [
      "Epoch 937: 100%|██████████| 938/938 [00:20<00:00, 46.20batch/s, Train Loss=0.223, Train Acc=91.5]\n"
     ]
    },
    {
     "name": "stdout",
     "output_type": "stream",
     "text": [
      "Epoch 937\n",
      "Train Loss: 0.2234, Train Accuracy: 91.49%\n",
      "Test Loss: 0.2295, Test Accuracy: 92.19%\n",
      "\n"
     ]
    },
    {
     "name": "stderr",
     "output_type": "stream",
     "text": [
      "Epoch 938: 100%|██████████| 938/938 [00:20<00:00, 45.78batch/s, Train Loss=0.223, Train Acc=91.5]\n"
     ]
    },
    {
     "name": "stdout",
     "output_type": "stream",
     "text": [
      "Epoch 938\n",
      "Train Loss: 0.2232, Train Accuracy: 91.45%\n",
      "Test Loss: 0.2284, Test Accuracy: 92.26%\n",
      "\n"
     ]
    },
    {
     "name": "stderr",
     "output_type": "stream",
     "text": [
      "Epoch 939: 100%|██████████| 938/938 [00:20<00:00, 46.00batch/s, Train Loss=0.222, Train Acc=91.5]\n"
     ]
    },
    {
     "name": "stdout",
     "output_type": "stream",
     "text": [
      "Epoch 939\n",
      "Train Loss: 0.2222, Train Accuracy: 91.52%\n",
      "Test Loss: 0.2266, Test Accuracy: 92.33%\n",
      "\n"
     ]
    },
    {
     "name": "stderr",
     "output_type": "stream",
     "text": [
      "Epoch 940: 100%|██████████| 938/938 [00:20<00:00, 46.19batch/s, Train Loss=0.224, Train Acc=91.4]\n"
     ]
    },
    {
     "name": "stdout",
     "output_type": "stream",
     "text": [
      "Epoch 940\n",
      "Train Loss: 0.2243, Train Accuracy: 91.41%\n",
      "Test Loss: 0.2299, Test Accuracy: 92.23%\n",
      "\n"
     ]
    },
    {
     "name": "stderr",
     "output_type": "stream",
     "text": [
      "Epoch 941: 100%|██████████| 938/938 [00:20<00:00, 46.19batch/s, Train Loss=0.222, Train Acc=91.5]\n"
     ]
    },
    {
     "name": "stdout",
     "output_type": "stream",
     "text": [
      "Epoch 941\n",
      "Train Loss: 0.2224, Train Accuracy: 91.51%\n",
      "Test Loss: 0.2287, Test Accuracy: 92.20%\n",
      "\n"
     ]
    },
    {
     "name": "stderr",
     "output_type": "stream",
     "text": [
      "Epoch 942: 100%|██████████| 938/938 [00:20<00:00, 46.28batch/s, Train Loss=0.226, Train Acc=91.2]\n"
     ]
    },
    {
     "name": "stdout",
     "output_type": "stream",
     "text": [
      "Epoch 942\n",
      "Train Loss: 0.2263, Train Accuracy: 91.22%\n",
      "Test Loss: 0.2284, Test Accuracy: 92.22%\n",
      "\n"
     ]
    },
    {
     "name": "stderr",
     "output_type": "stream",
     "text": [
      "Epoch 943: 100%|██████████| 938/938 [00:20<00:00, 46.06batch/s, Train Loss=0.223, Train Acc=91.5]\n"
     ]
    },
    {
     "name": "stdout",
     "output_type": "stream",
     "text": [
      "Epoch 943\n",
      "Train Loss: 0.2234, Train Accuracy: 91.46%\n",
      "Test Loss: 0.2248, Test Accuracy: 92.12%\n",
      "\n"
     ]
    },
    {
     "name": "stderr",
     "output_type": "stream",
     "text": [
      "Epoch 944: 100%|██████████| 938/938 [00:20<00:00, 46.23batch/s, Train Loss=0.223, Train Acc=91.3]\n"
     ]
    },
    {
     "name": "stdout",
     "output_type": "stream",
     "text": [
      "Epoch 944\n",
      "Train Loss: 0.2232, Train Accuracy: 91.34%\n",
      "Test Loss: 0.2272, Test Accuracy: 91.97%\n",
      "\n"
     ]
    },
    {
     "name": "stderr",
     "output_type": "stream",
     "text": [
      "Epoch 945: 100%|██████████| 938/938 [00:20<00:00, 46.09batch/s, Train Loss=0.223, Train Acc=91.4]\n"
     ]
    },
    {
     "name": "stdout",
     "output_type": "stream",
     "text": [
      "Epoch 945\n",
      "Train Loss: 0.2232, Train Accuracy: 91.41%\n",
      "Test Loss: 0.2282, Test Accuracy: 91.94%\n",
      "\n"
     ]
    },
    {
     "name": "stderr",
     "output_type": "stream",
     "text": [
      "Epoch 946: 100%|██████████| 938/938 [00:20<00:00, 46.20batch/s, Train Loss=0.222, Train Acc=91.4]\n"
     ]
    },
    {
     "name": "stdout",
     "output_type": "stream",
     "text": [
      "Epoch 946\n",
      "Train Loss: 0.2223, Train Accuracy: 91.42%\n",
      "Test Loss: 0.2289, Test Accuracy: 92.13%\n",
      "\n"
     ]
    },
    {
     "name": "stderr",
     "output_type": "stream",
     "text": [
      "Epoch 947: 100%|██████████| 938/938 [00:20<00:00, 46.17batch/s, Train Loss=0.22, Train Acc=91.4] \n"
     ]
    },
    {
     "name": "stdout",
     "output_type": "stream",
     "text": [
      "Epoch 947\n",
      "Train Loss: 0.2197, Train Accuracy: 91.44%\n",
      "Test Loss: 0.2275, Test Accuracy: 92.11%\n",
      "\n"
     ]
    },
    {
     "name": "stderr",
     "output_type": "stream",
     "text": [
      "Epoch 948: 100%|██████████| 938/938 [00:20<00:00, 46.11batch/s, Train Loss=0.224, Train Acc=91.5]\n"
     ]
    },
    {
     "name": "stdout",
     "output_type": "stream",
     "text": [
      "Epoch 948\n",
      "Train Loss: 0.2238, Train Accuracy: 91.48%\n",
      "Test Loss: 0.2307, Test Accuracy: 92.04%\n",
      "\n"
     ]
    },
    {
     "name": "stderr",
     "output_type": "stream",
     "text": [
      "Epoch 949: 100%|██████████| 938/938 [00:21<00:00, 44.23batch/s, Train Loss=0.225, Train Acc=91.4]\n"
     ]
    },
    {
     "name": "stdout",
     "output_type": "stream",
     "text": [
      "Epoch 949\n",
      "Train Loss: 0.2246, Train Accuracy: 91.39%\n",
      "Test Loss: 0.2235, Test Accuracy: 92.47%\n",
      "\n"
     ]
    },
    {
     "name": "stderr",
     "output_type": "stream",
     "text": [
      "Epoch 950: 100%|██████████| 938/938 [00:22<00:00, 42.46batch/s, Train Loss=0.224, Train Acc=91.5]\n"
     ]
    },
    {
     "name": "stdout",
     "output_type": "stream",
     "text": [
      "Epoch 950\n",
      "Train Loss: 0.2241, Train Accuracy: 91.50%\n",
      "Test Loss: 0.2280, Test Accuracy: 92.24%\n",
      "\n"
     ]
    },
    {
     "name": "stderr",
     "output_type": "stream",
     "text": [
      "Epoch 951: 100%|██████████| 938/938 [00:21<00:00, 42.69batch/s, Train Loss=0.223, Train Acc=91.4]\n"
     ]
    },
    {
     "name": "stdout",
     "output_type": "stream",
     "text": [
      "Epoch 951\n",
      "Train Loss: 0.2232, Train Accuracy: 91.44%\n",
      "Test Loss: 0.2275, Test Accuracy: 92.32%\n",
      "\n"
     ]
    },
    {
     "name": "stderr",
     "output_type": "stream",
     "text": [
      "Epoch 952: 100%|██████████| 938/938 [00:22<00:00, 42.31batch/s, Train Loss=0.223, Train Acc=91.4]\n"
     ]
    },
    {
     "name": "stdout",
     "output_type": "stream",
     "text": [
      "Epoch 952\n",
      "Train Loss: 0.2226, Train Accuracy: 91.36%\n",
      "Test Loss: 0.2305, Test Accuracy: 92.05%\n",
      "\n"
     ]
    },
    {
     "name": "stderr",
     "output_type": "stream",
     "text": [
      "Epoch 953: 100%|██████████| 938/938 [00:21<00:00, 43.07batch/s, Train Loss=0.223, Train Acc=91.5]\n"
     ]
    },
    {
     "name": "stdout",
     "output_type": "stream",
     "text": [
      "Epoch 953\n",
      "Train Loss: 0.2230, Train Accuracy: 91.45%\n",
      "Test Loss: 0.2304, Test Accuracy: 92.10%\n",
      "\n"
     ]
    },
    {
     "name": "stderr",
     "output_type": "stream",
     "text": [
      "Epoch 954: 100%|██████████| 938/938 [00:21<00:00, 43.09batch/s, Train Loss=0.222, Train Acc=91.5]\n"
     ]
    },
    {
     "name": "stdout",
     "output_type": "stream",
     "text": [
      "Epoch 954\n",
      "Train Loss: 0.2221, Train Accuracy: 91.47%\n",
      "Test Loss: 0.2275, Test Accuracy: 92.29%\n",
      "\n"
     ]
    },
    {
     "name": "stderr",
     "output_type": "stream",
     "text": [
      "Epoch 955: 100%|██████████| 938/938 [00:21<00:00, 43.42batch/s, Train Loss=0.224, Train Acc=91.4]\n"
     ]
    },
    {
     "name": "stdout",
     "output_type": "stream",
     "text": [
      "Epoch 955\n",
      "Train Loss: 0.2238, Train Accuracy: 91.40%\n",
      "Test Loss: 0.2276, Test Accuracy: 92.20%\n",
      "\n"
     ]
    },
    {
     "name": "stderr",
     "output_type": "stream",
     "text": [
      "Epoch 956: 100%|██████████| 938/938 [00:21<00:00, 43.19batch/s, Train Loss=0.223, Train Acc=91.3]\n"
     ]
    },
    {
     "name": "stdout",
     "output_type": "stream",
     "text": [
      "Epoch 956\n",
      "Train Loss: 0.2229, Train Accuracy: 91.33%\n",
      "Test Loss: 0.2237, Test Accuracy: 92.28%\n",
      "\n"
     ]
    },
    {
     "name": "stderr",
     "output_type": "stream",
     "text": [
      "Epoch 957: 100%|██████████| 938/938 [00:21<00:00, 42.90batch/s, Train Loss=0.221, Train Acc=91.7]\n"
     ]
    },
    {
     "name": "stdout",
     "output_type": "stream",
     "text": [
      "Epoch 957\n",
      "Train Loss: 0.2209, Train Accuracy: 91.65%\n",
      "Test Loss: 0.2225, Test Accuracy: 92.34%\n",
      "\n"
     ]
    },
    {
     "name": "stderr",
     "output_type": "stream",
     "text": [
      "Epoch 958: 100%|██████████| 938/938 [00:21<00:00, 43.21batch/s, Train Loss=0.222, Train Acc=91.4]\n"
     ]
    },
    {
     "name": "stdout",
     "output_type": "stream",
     "text": [
      "Epoch 958\n",
      "Train Loss: 0.2225, Train Accuracy: 91.44%\n",
      "Test Loss: 0.2308, Test Accuracy: 92.06%\n",
      "\n"
     ]
    },
    {
     "name": "stderr",
     "output_type": "stream",
     "text": [
      "Epoch 959: 100%|██████████| 938/938 [00:21<00:00, 42.97batch/s, Train Loss=0.225, Train Acc=91.3]\n"
     ]
    },
    {
     "name": "stdout",
     "output_type": "stream",
     "text": [
      "Epoch 959\n",
      "Train Loss: 0.2249, Train Accuracy: 91.34%\n",
      "Test Loss: 0.2306, Test Accuracy: 92.02%\n",
      "\n"
     ]
    },
    {
     "name": "stderr",
     "output_type": "stream",
     "text": [
      "Epoch 960: 100%|██████████| 938/938 [00:21<00:00, 43.27batch/s, Train Loss=0.222, Train Acc=91.6]\n"
     ]
    },
    {
     "name": "stdout",
     "output_type": "stream",
     "text": [
      "Epoch 960\n",
      "Train Loss: 0.2219, Train Accuracy: 91.60%\n",
      "Test Loss: 0.2250, Test Accuracy: 92.33%\n",
      "\n"
     ]
    },
    {
     "name": "stderr",
     "output_type": "stream",
     "text": [
      "Epoch 961: 100%|██████████| 938/938 [00:21<00:00, 42.94batch/s, Train Loss=0.224, Train Acc=91.3]\n"
     ]
    },
    {
     "name": "stdout",
     "output_type": "stream",
     "text": [
      "Epoch 961\n",
      "Train Loss: 0.2241, Train Accuracy: 91.31%\n",
      "Test Loss: 0.2285, Test Accuracy: 92.22%\n",
      "\n"
     ]
    },
    {
     "name": "stderr",
     "output_type": "stream",
     "text": [
      "Epoch 962: 100%|██████████| 938/938 [00:21<00:00, 43.60batch/s, Train Loss=0.221, Train Acc=91.5]\n"
     ]
    },
    {
     "name": "stdout",
     "output_type": "stream",
     "text": [
      "Epoch 962\n",
      "Train Loss: 0.2207, Train Accuracy: 91.49%\n",
      "Test Loss: 0.2331, Test Accuracy: 92.23%\n",
      "\n"
     ]
    },
    {
     "name": "stderr",
     "output_type": "stream",
     "text": [
      "Epoch 963: 100%|██████████| 938/938 [00:21<00:00, 44.32batch/s, Train Loss=0.221, Train Acc=91.5]\n"
     ]
    },
    {
     "name": "stdout",
     "output_type": "stream",
     "text": [
      "Epoch 963\n",
      "Train Loss: 0.2215, Train Accuracy: 91.46%\n",
      "Test Loss: 0.2320, Test Accuracy: 92.00%\n",
      "\n"
     ]
    },
    {
     "name": "stderr",
     "output_type": "stream",
     "text": [
      "Epoch 964: 100%|██████████| 938/938 [00:21<00:00, 44.03batch/s, Train Loss=0.223, Train Acc=91.5]\n"
     ]
    },
    {
     "name": "stdout",
     "output_type": "stream",
     "text": [
      "Epoch 964\n",
      "Train Loss: 0.2233, Train Accuracy: 91.46%\n",
      "Test Loss: 0.2298, Test Accuracy: 92.08%\n",
      "\n"
     ]
    },
    {
     "name": "stderr",
     "output_type": "stream",
     "text": [
      "Epoch 965: 100%|██████████| 938/938 [00:21<00:00, 44.13batch/s, Train Loss=0.222, Train Acc=91.5]\n"
     ]
    },
    {
     "name": "stdout",
     "output_type": "stream",
     "text": [
      "Epoch 965\n",
      "Train Loss: 0.2215, Train Accuracy: 91.46%\n",
      "Test Loss: 0.2302, Test Accuracy: 92.24%\n",
      "\n"
     ]
    },
    {
     "name": "stderr",
     "output_type": "stream",
     "text": [
      "Epoch 966: 100%|██████████| 938/938 [00:21<00:00, 43.85batch/s, Train Loss=0.223, Train Acc=91.4]\n"
     ]
    },
    {
     "name": "stdout",
     "output_type": "stream",
     "text": [
      "Epoch 966\n",
      "Train Loss: 0.2226, Train Accuracy: 91.45%\n",
      "Test Loss: 0.2277, Test Accuracy: 92.40%\n",
      "\n"
     ]
    },
    {
     "name": "stderr",
     "output_type": "stream",
     "text": [
      "Epoch 967: 100%|██████████| 938/938 [00:21<00:00, 44.12batch/s, Train Loss=0.221, Train Acc=91.5]\n"
     ]
    },
    {
     "name": "stdout",
     "output_type": "stream",
     "text": [
      "Epoch 967\n",
      "Train Loss: 0.2210, Train Accuracy: 91.47%\n",
      "Test Loss: 0.2265, Test Accuracy: 92.33%\n",
      "\n"
     ]
    },
    {
     "name": "stderr",
     "output_type": "stream",
     "text": [
      "Epoch 968: 100%|██████████| 938/938 [00:21<00:00, 44.04batch/s, Train Loss=0.219, Train Acc=91.6]\n"
     ]
    },
    {
     "name": "stdout",
     "output_type": "stream",
     "text": [
      "Epoch 968\n",
      "Train Loss: 0.2190, Train Accuracy: 91.59%\n",
      "Test Loss: 0.2272, Test Accuracy: 92.37%\n",
      "\n"
     ]
    },
    {
     "name": "stderr",
     "output_type": "stream",
     "text": [
      "Epoch 969: 100%|██████████| 938/938 [00:21<00:00, 44.14batch/s, Train Loss=0.219, Train Acc=91.7]\n"
     ]
    },
    {
     "name": "stdout",
     "output_type": "stream",
     "text": [
      "Epoch 969\n",
      "Train Loss: 0.2191, Train Accuracy: 91.65%\n",
      "Test Loss: 0.2309, Test Accuracy: 92.15%\n",
      "\n"
     ]
    },
    {
     "name": "stderr",
     "output_type": "stream",
     "text": [
      "Epoch 970: 100%|██████████| 938/938 [00:21<00:00, 44.21batch/s, Train Loss=0.221, Train Acc=91.5]\n"
     ]
    },
    {
     "name": "stdout",
     "output_type": "stream",
     "text": [
      "Epoch 970\n",
      "Train Loss: 0.2208, Train Accuracy: 91.50%\n",
      "Test Loss: 0.2268, Test Accuracy: 92.28%\n",
      "\n"
     ]
    },
    {
     "name": "stderr",
     "output_type": "stream",
     "text": [
      "Epoch 971: 100%|██████████| 938/938 [00:21<00:00, 44.15batch/s, Train Loss=0.223, Train Acc=91.5]\n"
     ]
    },
    {
     "name": "stdout",
     "output_type": "stream",
     "text": [
      "Epoch 971\n",
      "Train Loss: 0.2231, Train Accuracy: 91.52%\n",
      "Test Loss: 0.2223, Test Accuracy: 92.40%\n",
      "\n"
     ]
    },
    {
     "name": "stderr",
     "output_type": "stream",
     "text": [
      "Epoch 972: 100%|██████████| 938/938 [00:21<00:00, 44.12batch/s, Train Loss=0.219, Train Acc=91.6]\n"
     ]
    },
    {
     "name": "stdout",
     "output_type": "stream",
     "text": [
      "Epoch 972\n",
      "Train Loss: 0.2188, Train Accuracy: 91.56%\n",
      "Test Loss: 0.2206, Test Accuracy: 92.37%\n",
      "\n"
     ]
    },
    {
     "name": "stderr",
     "output_type": "stream",
     "text": [
      "Epoch 973: 100%|██████████| 938/938 [00:22<00:00, 42.21batch/s, Train Loss=0.22, Train Acc=91.6] \n"
     ]
    },
    {
     "name": "stdout",
     "output_type": "stream",
     "text": [
      "Epoch 973\n",
      "Train Loss: 0.2202, Train Accuracy: 91.56%\n",
      "Test Loss: 0.2304, Test Accuracy: 92.23%\n",
      "\n"
     ]
    },
    {
     "name": "stderr",
     "output_type": "stream",
     "text": [
      "Epoch 974: 100%|██████████| 938/938 [00:22<00:00, 42.52batch/s, Train Loss=0.217, Train Acc=91.6]\n"
     ]
    },
    {
     "name": "stdout",
     "output_type": "stream",
     "text": [
      "Epoch 974\n",
      "Train Loss: 0.2168, Train Accuracy: 91.58%\n",
      "Test Loss: 0.2277, Test Accuracy: 92.26%\n",
      "\n"
     ]
    },
    {
     "name": "stderr",
     "output_type": "stream",
     "text": [
      "Epoch 975: 100%|██████████| 938/938 [00:21<00:00, 42.97batch/s, Train Loss=0.22, Train Acc=91.5] \n"
     ]
    },
    {
     "name": "stdout",
     "output_type": "stream",
     "text": [
      "Epoch 975\n",
      "Train Loss: 0.2199, Train Accuracy: 91.51%\n",
      "Test Loss: 0.2211, Test Accuracy: 92.45%\n",
      "\n"
     ]
    },
    {
     "name": "stderr",
     "output_type": "stream",
     "text": [
      "Epoch 976: 100%|██████████| 938/938 [00:22<00:00, 42.31batch/s, Train Loss=0.219, Train Acc=91.5]\n"
     ]
    },
    {
     "name": "stdout",
     "output_type": "stream",
     "text": [
      "Epoch 976\n",
      "Train Loss: 0.2187, Train Accuracy: 91.52%\n",
      "Test Loss: 0.2282, Test Accuracy: 92.35%\n",
      "\n"
     ]
    },
    {
     "name": "stderr",
     "output_type": "stream",
     "text": [
      "Epoch 977: 100%|██████████| 938/938 [00:22<00:00, 42.57batch/s, Train Loss=0.219, Train Acc=91.7]\n"
     ]
    },
    {
     "name": "stdout",
     "output_type": "stream",
     "text": [
      "Epoch 977\n",
      "Train Loss: 0.2185, Train Accuracy: 91.71%\n",
      "Test Loss: 0.2334, Test Accuracy: 92.08%\n",
      "\n"
     ]
    },
    {
     "name": "stderr",
     "output_type": "stream",
     "text": [
      "Epoch 978: 100%|██████████| 938/938 [00:21<00:00, 42.79batch/s, Train Loss=0.221, Train Acc=91.5]\n"
     ]
    },
    {
     "name": "stdout",
     "output_type": "stream",
     "text": [
      "Epoch 978\n",
      "Train Loss: 0.2210, Train Accuracy: 91.54%\n",
      "Test Loss: 0.2278, Test Accuracy: 92.31%\n",
      "\n"
     ]
    },
    {
     "name": "stderr",
     "output_type": "stream",
     "text": [
      "Epoch 979: 100%|██████████| 938/938 [00:21<00:00, 43.08batch/s, Train Loss=0.221, Train Acc=91.6]\n"
     ]
    },
    {
     "name": "stdout",
     "output_type": "stream",
     "text": [
      "Epoch 979\n",
      "Train Loss: 0.2210, Train Accuracy: 91.60%\n",
      "Test Loss: 0.2306, Test Accuracy: 92.05%\n",
      "\n"
     ]
    },
    {
     "name": "stderr",
     "output_type": "stream",
     "text": [
      "Epoch 980: 100%|██████████| 938/938 [00:21<00:00, 43.17batch/s, Train Loss=0.218, Train Acc=91.5]\n"
     ]
    },
    {
     "name": "stdout",
     "output_type": "stream",
     "text": [
      "Epoch 980\n",
      "Train Loss: 0.2178, Train Accuracy: 91.55%\n",
      "Test Loss: 0.2380, Test Accuracy: 91.93%\n",
      "\n"
     ]
    },
    {
     "name": "stderr",
     "output_type": "stream",
     "text": [
      "Epoch 981: 100%|██████████| 938/938 [00:21<00:00, 42.65batch/s, Train Loss=0.219, Train Acc=91.6]\n"
     ]
    },
    {
     "name": "stdout",
     "output_type": "stream",
     "text": [
      "Epoch 981\n",
      "Train Loss: 0.2189, Train Accuracy: 91.58%\n",
      "Test Loss: 0.2275, Test Accuracy: 92.38%\n",
      "\n"
     ]
    },
    {
     "name": "stderr",
     "output_type": "stream",
     "text": [
      "Epoch 982: 100%|██████████| 938/938 [00:22<00:00, 41.88batch/s, Train Loss=0.22, Train Acc=91.7] \n"
     ]
    },
    {
     "name": "stdout",
     "output_type": "stream",
     "text": [
      "Epoch 982\n",
      "Train Loss: 0.2196, Train Accuracy: 91.66%\n",
      "Test Loss: 0.2254, Test Accuracy: 92.29%\n",
      "\n"
     ]
    },
    {
     "name": "stderr",
     "output_type": "stream",
     "text": [
      "Epoch 983: 100%|██████████| 938/938 [00:21<00:00, 42.90batch/s, Train Loss=0.22, Train Acc=91.5] \n"
     ]
    },
    {
     "name": "stdout",
     "output_type": "stream",
     "text": [
      "Epoch 983\n",
      "Train Loss: 0.2200, Train Accuracy: 91.49%\n",
      "Test Loss: 0.2281, Test Accuracy: 92.04%\n",
      "\n"
     ]
    },
    {
     "name": "stderr",
     "output_type": "stream",
     "text": [
      "Epoch 984: 100%|██████████| 938/938 [00:21<00:00, 43.06batch/s, Train Loss=0.22, Train Acc=91.5] \n"
     ]
    },
    {
     "name": "stdout",
     "output_type": "stream",
     "text": [
      "Epoch 984\n",
      "Train Loss: 0.2202, Train Accuracy: 91.51%\n",
      "Test Loss: 0.2261, Test Accuracy: 92.31%\n",
      "\n"
     ]
    },
    {
     "name": "stderr",
     "output_type": "stream",
     "text": [
      "Epoch 985: 100%|██████████| 938/938 [00:21<00:00, 42.90batch/s, Train Loss=0.22, Train Acc=91.5] \n"
     ]
    },
    {
     "name": "stdout",
     "output_type": "stream",
     "text": [
      "Epoch 985\n",
      "Train Loss: 0.2199, Train Accuracy: 91.53%\n",
      "Test Loss: 0.2271, Test Accuracy: 92.46%\n",
      "\n"
     ]
    },
    {
     "name": "stderr",
     "output_type": "stream",
     "text": [
      "Epoch 986: 100%|██████████| 938/938 [00:21<00:00, 43.03batch/s, Train Loss=0.221, Train Acc=91.5]\n"
     ]
    },
    {
     "name": "stdout",
     "output_type": "stream",
     "text": [
      "Epoch 986\n",
      "Train Loss: 0.2206, Train Accuracy: 91.53%\n",
      "Test Loss: 0.2304, Test Accuracy: 92.02%\n",
      "\n"
     ]
    },
    {
     "name": "stderr",
     "output_type": "stream",
     "text": [
      "Epoch 987: 100%|██████████| 938/938 [00:21<00:00, 43.17batch/s, Train Loss=0.22, Train Acc=91.5] \n"
     ]
    },
    {
     "name": "stdout",
     "output_type": "stream",
     "text": [
      "Epoch 987\n",
      "Train Loss: 0.2197, Train Accuracy: 91.45%\n",
      "Test Loss: 0.2365, Test Accuracy: 92.02%\n",
      "\n"
     ]
    },
    {
     "name": "stderr",
     "output_type": "stream",
     "text": [
      "Epoch 988: 100%|██████████| 938/938 [00:22<00:00, 42.11batch/s, Train Loss=0.22, Train Acc=91.6] \n"
     ]
    },
    {
     "name": "stdout",
     "output_type": "stream",
     "text": [
      "Epoch 988\n",
      "Train Loss: 0.2198, Train Accuracy: 91.60%\n",
      "Test Loss: 0.2309, Test Accuracy: 92.08%\n",
      "\n"
     ]
    },
    {
     "name": "stderr",
     "output_type": "stream",
     "text": [
      "Epoch 989: 100%|██████████| 938/938 [00:21<00:00, 43.11batch/s, Train Loss=0.221, Train Acc=91.6]\n"
     ]
    },
    {
     "name": "stdout",
     "output_type": "stream",
     "text": [
      "Epoch 989\n",
      "Train Loss: 0.2206, Train Accuracy: 91.56%\n",
      "Test Loss: 0.2343, Test Accuracy: 91.89%\n",
      "\n"
     ]
    },
    {
     "name": "stderr",
     "output_type": "stream",
     "text": [
      "Epoch 990: 100%|██████████| 938/938 [00:21<00:00, 42.85batch/s, Train Loss=0.22, Train Acc=91.6] \n"
     ]
    },
    {
     "name": "stdout",
     "output_type": "stream",
     "text": [
      "Epoch 990\n",
      "Train Loss: 0.2205, Train Accuracy: 91.58%\n",
      "Test Loss: 0.2269, Test Accuracy: 92.07%\n",
      "\n"
     ]
    },
    {
     "name": "stderr",
     "output_type": "stream",
     "text": [
      "Epoch 991: 100%|██████████| 938/938 [00:21<00:00, 42.84batch/s, Train Loss=0.219, Train Acc=91.8]\n"
     ]
    },
    {
     "name": "stdout",
     "output_type": "stream",
     "text": [
      "Epoch 991\n",
      "Train Loss: 0.2193, Train Accuracy: 91.78%\n",
      "Test Loss: 0.2298, Test Accuracy: 92.24%\n",
      "\n"
     ]
    },
    {
     "name": "stderr",
     "output_type": "stream",
     "text": [
      "Epoch 992: 100%|██████████| 938/938 [00:21<00:00, 43.10batch/s, Train Loss=0.218, Train Acc=91.6]\n"
     ]
    },
    {
     "name": "stdout",
     "output_type": "stream",
     "text": [
      "Epoch 992\n",
      "Train Loss: 0.2176, Train Accuracy: 91.59%\n",
      "Test Loss: 0.2368, Test Accuracy: 91.79%\n",
      "\n"
     ]
    },
    {
     "name": "stderr",
     "output_type": "stream",
     "text": [
      "Epoch 993: 100%|██████████| 938/938 [00:21<00:00, 42.94batch/s, Train Loss=0.22, Train Acc=91.4] \n"
     ]
    },
    {
     "name": "stdout",
     "output_type": "stream",
     "text": [
      "Epoch 993\n",
      "Train Loss: 0.2195, Train Accuracy: 91.44%\n",
      "Test Loss: 0.2318, Test Accuracy: 92.24%\n",
      "\n"
     ]
    },
    {
     "name": "stderr",
     "output_type": "stream",
     "text": [
      "Epoch 994: 100%|██████████| 938/938 [00:21<00:00, 43.09batch/s, Train Loss=0.221, Train Acc=91.5]\n"
     ]
    },
    {
     "name": "stdout",
     "output_type": "stream",
     "text": [
      "Epoch 994\n",
      "Train Loss: 0.2208, Train Accuracy: 91.45%\n",
      "Test Loss: 0.2378, Test Accuracy: 91.62%\n",
      "\n"
     ]
    },
    {
     "name": "stderr",
     "output_type": "stream",
     "text": [
      "Epoch 995: 100%|██████████| 938/938 [00:21<00:00, 42.83batch/s, Train Loss=0.216, Train Acc=91.7]\n"
     ]
    },
    {
     "name": "stdout",
     "output_type": "stream",
     "text": [
      "Epoch 995\n",
      "Train Loss: 0.2155, Train Accuracy: 91.75%\n",
      "Test Loss: 0.2267, Test Accuracy: 91.99%\n",
      "\n"
     ]
    },
    {
     "name": "stderr",
     "output_type": "stream",
     "text": [
      "Epoch 996: 100%|██████████| 938/938 [00:21<00:00, 42.97batch/s, Train Loss=0.218, Train Acc=91.5]\n"
     ]
    },
    {
     "name": "stdout",
     "output_type": "stream",
     "text": [
      "Epoch 996\n",
      "Train Loss: 0.2179, Train Accuracy: 91.49%\n",
      "Test Loss: 0.2304, Test Accuracy: 92.04%\n",
      "\n"
     ]
    },
    {
     "name": "stderr",
     "output_type": "stream",
     "text": [
      "Epoch 997: 100%|██████████| 938/938 [00:21<00:00, 42.97batch/s, Train Loss=0.219, Train Acc=91.6]\n"
     ]
    },
    {
     "name": "stdout",
     "output_type": "stream",
     "text": [
      "Epoch 997\n",
      "Train Loss: 0.2195, Train Accuracy: 91.64%\n",
      "Test Loss: 0.2281, Test Accuracy: 92.23%\n",
      "\n"
     ]
    },
    {
     "name": "stderr",
     "output_type": "stream",
     "text": [
      "Epoch 998: 100%|██████████| 938/938 [00:22<00:00, 42.39batch/s, Train Loss=0.218, Train Acc=91.6]\n"
     ]
    },
    {
     "name": "stdout",
     "output_type": "stream",
     "text": [
      "Epoch 998\n",
      "Train Loss: 0.2178, Train Accuracy: 91.60%\n",
      "Test Loss: 0.2285, Test Accuracy: 92.48%\n",
      "\n"
     ]
    },
    {
     "name": "stderr",
     "output_type": "stream",
     "text": [
      "Epoch 999: 100%|██████████| 938/938 [00:21<00:00, 42.94batch/s, Train Loss=0.216, Train Acc=91.7]\n"
     ]
    },
    {
     "name": "stdout",
     "output_type": "stream",
     "text": [
      "Epoch 999\n",
      "Train Loss: 0.2162, Train Accuracy: 91.66%\n",
      "Test Loss: 0.2246, Test Accuracy: 92.31%\n",
      "\n"
     ]
    },
    {
     "name": "stderr",
     "output_type": "stream",
     "text": [
      "Epoch 1000: 100%|██████████| 938/938 [00:21<00:00, 43.08batch/s, Train Loss=0.217, Train Acc=91.6]\n"
     ]
    },
    {
     "name": "stdout",
     "output_type": "stream",
     "text": [
      "Epoch 1000\n",
      "Train Loss: 0.2172, Train Accuracy: 91.56%\n",
      "Test Loss: 0.2252, Test Accuracy: 92.47%\n",
      "\n"
     ]
    },
    {
     "name": "stderr",
     "output_type": "stream",
     "text": [
      "Epoch 1001: 100%|██████████| 938/938 [00:22<00:00, 42.48batch/s, Train Loss=0.219, Train Acc=91.5]\n"
     ]
    },
    {
     "name": "stdout",
     "output_type": "stream",
     "text": [
      "Epoch 1001\n",
      "Train Loss: 0.2192, Train Accuracy: 91.52%\n",
      "Test Loss: 0.2364, Test Accuracy: 92.14%\n",
      "\n"
     ]
    },
    {
     "name": "stderr",
     "output_type": "stream",
     "text": [
      "Epoch 1002: 100%|██████████| 938/938 [00:21<00:00, 42.88batch/s, Train Loss=0.218, Train Acc=91.6]\n"
     ]
    },
    {
     "name": "stdout",
     "output_type": "stream",
     "text": [
      "Epoch 1002\n",
      "Train Loss: 0.2185, Train Accuracy: 91.62%\n",
      "Test Loss: 0.2285, Test Accuracy: 92.33%\n",
      "\n"
     ]
    },
    {
     "name": "stderr",
     "output_type": "stream",
     "text": [
      "Epoch 1003: 100%|██████████| 938/938 [00:21<00:00, 43.14batch/s, Train Loss=0.217, Train Acc=91.7]\n"
     ]
    },
    {
     "name": "stdout",
     "output_type": "stream",
     "text": [
      "Epoch 1003\n",
      "Train Loss: 0.2167, Train Accuracy: 91.69%\n",
      "Test Loss: 0.2244, Test Accuracy: 92.54%\n",
      "\n"
     ]
    },
    {
     "name": "stderr",
     "output_type": "stream",
     "text": [
      "Epoch 1004: 100%|██████████| 938/938 [00:21<00:00, 42.96batch/s, Train Loss=0.216, Train Acc=91.7]\n"
     ]
    },
    {
     "name": "stdout",
     "output_type": "stream",
     "text": [
      "Epoch 1004\n",
      "Train Loss: 0.2155, Train Accuracy: 91.69%\n",
      "Test Loss: 0.2259, Test Accuracy: 92.34%\n",
      "\n"
     ]
    },
    {
     "name": "stderr",
     "output_type": "stream",
     "text": [
      "Epoch 1005: 100%|██████████| 938/938 [00:21<00:00, 43.25batch/s, Train Loss=0.217, Train Acc=91.8]\n"
     ]
    },
    {
     "name": "stdout",
     "output_type": "stream",
     "text": [
      "Epoch 1005\n",
      "Train Loss: 0.2169, Train Accuracy: 91.78%\n",
      "Test Loss: 0.2291, Test Accuracy: 92.18%\n",
      "\n"
     ]
    },
    {
     "name": "stderr",
     "output_type": "stream",
     "text": [
      "Epoch 1006: 100%|██████████| 938/938 [00:22<00:00, 42.58batch/s, Train Loss=0.216, Train Acc=91.6]\n"
     ]
    },
    {
     "name": "stdout",
     "output_type": "stream",
     "text": [
      "Epoch 1006\n",
      "Train Loss: 0.2162, Train Accuracy: 91.62%\n",
      "Test Loss: 0.2288, Test Accuracy: 92.15%\n",
      "\n"
     ]
    },
    {
     "name": "stderr",
     "output_type": "stream",
     "text": [
      "Epoch 1007: 100%|██████████| 938/938 [00:22<00:00, 42.02batch/s, Train Loss=0.218, Train Acc=91.7]\n"
     ]
    },
    {
     "name": "stdout",
     "output_type": "stream",
     "text": [
      "Epoch 1007\n",
      "Train Loss: 0.2176, Train Accuracy: 91.72%\n",
      "Test Loss: 0.2275, Test Accuracy: 91.99%\n",
      "\n"
     ]
    },
    {
     "name": "stderr",
     "output_type": "stream",
     "text": [
      "Epoch 1008: 100%|██████████| 938/938 [00:21<00:00, 42.99batch/s, Train Loss=0.216, Train Acc=91.7]\n"
     ]
    },
    {
     "name": "stdout",
     "output_type": "stream",
     "text": [
      "Epoch 1008\n",
      "Train Loss: 0.2155, Train Accuracy: 91.74%\n",
      "Test Loss: 0.2265, Test Accuracy: 92.40%\n",
      "\n"
     ]
    },
    {
     "name": "stderr",
     "output_type": "stream",
     "text": [
      "Epoch 1009: 100%|██████████| 938/938 [00:21<00:00, 42.96batch/s, Train Loss=0.219, Train Acc=91.6]\n"
     ]
    },
    {
     "name": "stdout",
     "output_type": "stream",
     "text": [
      "Epoch 1009\n",
      "Train Loss: 0.2190, Train Accuracy: 91.58%\n",
      "Test Loss: 0.2300, Test Accuracy: 92.10%\n",
      "\n"
     ]
    },
    {
     "name": "stderr",
     "output_type": "stream",
     "text": [
      "Epoch 1010: 100%|██████████| 938/938 [00:21<00:00, 43.23batch/s, Train Loss=0.215, Train Acc=91.7]\n"
     ]
    },
    {
     "name": "stdout",
     "output_type": "stream",
     "text": [
      "Epoch 1010\n",
      "Train Loss: 0.2145, Train Accuracy: 91.73%\n",
      "Test Loss: 0.2358, Test Accuracy: 92.07%\n",
      "\n"
     ]
    },
    {
     "name": "stderr",
     "output_type": "stream",
     "text": [
      "Epoch 1011: 100%|██████████| 938/938 [00:21<00:00, 42.96batch/s, Train Loss=0.217, Train Acc=91.6]\n"
     ]
    },
    {
     "name": "stdout",
     "output_type": "stream",
     "text": [
      "Epoch 1011\n",
      "Train Loss: 0.2173, Train Accuracy: 91.60%\n",
      "Test Loss: 0.2336, Test Accuracy: 92.36%\n",
      "\n"
     ]
    },
    {
     "name": "stderr",
     "output_type": "stream",
     "text": [
      "Epoch 1012: 100%|██████████| 938/938 [00:21<00:00, 42.81batch/s, Train Loss=0.219, Train Acc=91.6]\n"
     ]
    },
    {
     "name": "stdout",
     "output_type": "stream",
     "text": [
      "Epoch 1012\n",
      "Train Loss: 0.2189, Train Accuracy: 91.60%\n",
      "Test Loss: 0.2289, Test Accuracy: 92.14%\n",
      "\n"
     ]
    },
    {
     "name": "stderr",
     "output_type": "stream",
     "text": [
      "Epoch 1013: 100%|██████████| 938/938 [00:21<00:00, 42.88batch/s, Train Loss=0.216, Train Acc=91.7]\n"
     ]
    },
    {
     "name": "stdout",
     "output_type": "stream",
     "text": [
      "Epoch 1013\n",
      "Train Loss: 0.2157, Train Accuracy: 91.72%\n",
      "Test Loss: 0.2362, Test Accuracy: 91.88%\n",
      "\n"
     ]
    },
    {
     "name": "stderr",
     "output_type": "stream",
     "text": [
      "Epoch 1014: 100%|██████████| 938/938 [00:21<00:00, 43.07batch/s, Train Loss=0.218, Train Acc=91.7]\n"
     ]
    },
    {
     "name": "stdout",
     "output_type": "stream",
     "text": [
      "Epoch 1014\n",
      "Train Loss: 0.2180, Train Accuracy: 91.69%\n",
      "Test Loss: 0.2301, Test Accuracy: 92.12%\n",
      "\n"
     ]
    },
    {
     "name": "stderr",
     "output_type": "stream",
     "text": [
      "Epoch 1015: 100%|██████████| 938/938 [00:21<00:00, 42.85batch/s, Train Loss=0.218, Train Acc=91.7]\n"
     ]
    },
    {
     "name": "stdout",
     "output_type": "stream",
     "text": [
      "Epoch 1015\n",
      "Train Loss: 0.2182, Train Accuracy: 91.65%\n",
      "Test Loss: 0.2319, Test Accuracy: 92.02%\n",
      "\n"
     ]
    },
    {
     "name": "stderr",
     "output_type": "stream",
     "text": [
      "Epoch 1016: 100%|██████████| 938/938 [00:21<00:00, 43.30batch/s, Train Loss=0.216, Train Acc=91.8]\n"
     ]
    },
    {
     "name": "stdout",
     "output_type": "stream",
     "text": [
      "Epoch 1016\n",
      "Train Loss: 0.2159, Train Accuracy: 91.77%\n",
      "Test Loss: 0.2354, Test Accuracy: 91.89%\n",
      "\n"
     ]
    },
    {
     "name": "stderr",
     "output_type": "stream",
     "text": [
      "Epoch 1017: 100%|██████████| 938/938 [00:21<00:00, 42.72batch/s, Train Loss=0.214, Train Acc=91.8]\n"
     ]
    },
    {
     "name": "stdout",
     "output_type": "stream",
     "text": [
      "Epoch 1017\n",
      "Train Loss: 0.2143, Train Accuracy: 91.77%\n",
      "Test Loss: 0.2341, Test Accuracy: 91.97%\n",
      "\n"
     ]
    },
    {
     "name": "stderr",
     "output_type": "stream",
     "text": [
      "Epoch 1018: 100%|██████████| 938/938 [00:22<00:00, 42.40batch/s, Train Loss=0.218, Train Acc=91.7]\n"
     ]
    },
    {
     "name": "stdout",
     "output_type": "stream",
     "text": [
      "Epoch 1018\n",
      "Train Loss: 0.2180, Train Accuracy: 91.70%\n",
      "Test Loss: 0.2324, Test Accuracy: 91.90%\n",
      "\n"
     ]
    },
    {
     "name": "stderr",
     "output_type": "stream",
     "text": [
      "Epoch 1019: 100%|██████████| 938/938 [00:22<00:00, 42.44batch/s, Train Loss=0.219, Train Acc=91.5]\n"
     ]
    },
    {
     "name": "stdout",
     "output_type": "stream",
     "text": [
      "Epoch 1019\n",
      "Train Loss: 0.2194, Train Accuracy: 91.54%\n",
      "Test Loss: 0.2358, Test Accuracy: 92.14%\n",
      "\n"
     ]
    },
    {
     "name": "stderr",
     "output_type": "stream",
     "text": [
      "Epoch 1020: 100%|██████████| 938/938 [00:22<00:00, 42.11batch/s, Train Loss=0.215, Train Acc=91.7]\n"
     ]
    },
    {
     "name": "stdout",
     "output_type": "stream",
     "text": [
      "Epoch 1020\n",
      "Train Loss: 0.2149, Train Accuracy: 91.68%\n",
      "Test Loss: 0.2384, Test Accuracy: 91.85%\n",
      "\n"
     ]
    },
    {
     "name": "stderr",
     "output_type": "stream",
     "text": [
      "Epoch 1021: 100%|██████████| 938/938 [00:21<00:00, 43.23batch/s, Train Loss=0.215, Train Acc=91.8]\n"
     ]
    },
    {
     "name": "stdout",
     "output_type": "stream",
     "text": [
      "Epoch 1021\n",
      "Train Loss: 0.2152, Train Accuracy: 91.77%\n",
      "Test Loss: 0.2272, Test Accuracy: 92.47%\n",
      "\n"
     ]
    },
    {
     "name": "stderr",
     "output_type": "stream",
     "text": [
      "Epoch 1022: 100%|██████████| 938/938 [00:21<00:00, 43.50batch/s, Train Loss=0.217, Train Acc=91.6]\n"
     ]
    },
    {
     "name": "stdout",
     "output_type": "stream",
     "text": [
      "Epoch 1022\n",
      "Train Loss: 0.2169, Train Accuracy: 91.60%\n",
      "Test Loss: 0.2322, Test Accuracy: 92.13%\n",
      "\n"
     ]
    },
    {
     "name": "stderr",
     "output_type": "stream",
     "text": [
      "Epoch 1023: 100%|██████████| 938/938 [00:22<00:00, 41.57batch/s, Train Loss=0.216, Train Acc=91.7]\n"
     ]
    },
    {
     "name": "stdout",
     "output_type": "stream",
     "text": [
      "Epoch 1023\n",
      "Train Loss: 0.2157, Train Accuracy: 91.70%\n",
      "Test Loss: 0.2302, Test Accuracy: 92.11%\n",
      "\n"
     ]
    },
    {
     "name": "stderr",
     "output_type": "stream",
     "text": [
      "Epoch 1024: 100%|██████████| 938/938 [00:21<00:00, 42.70batch/s, Train Loss=0.216, Train Acc=91.6]\n"
     ]
    },
    {
     "name": "stdout",
     "output_type": "stream",
     "text": [
      "Epoch 1024\n",
      "Train Loss: 0.2162, Train Accuracy: 91.62%\n",
      "Test Loss: 0.2354, Test Accuracy: 92.18%\n",
      "\n"
     ]
    },
    {
     "name": "stderr",
     "output_type": "stream",
     "text": [
      "Epoch 1025: 100%|██████████| 938/938 [00:22<00:00, 42.39batch/s, Train Loss=0.219, Train Acc=91.6]\n"
     ]
    },
    {
     "name": "stdout",
     "output_type": "stream",
     "text": [
      "Epoch 1025\n",
      "Train Loss: 0.2192, Train Accuracy: 91.64%\n",
      "Test Loss: 0.2335, Test Accuracy: 92.06%\n",
      "\n"
     ]
    },
    {
     "name": "stderr",
     "output_type": "stream",
     "text": [
      "Epoch 1026: 100%|██████████| 938/938 [00:21<00:00, 43.16batch/s, Train Loss=0.216, Train Acc=91.6]\n"
     ]
    },
    {
     "name": "stdout",
     "output_type": "stream",
     "text": [
      "Epoch 1026\n",
      "Train Loss: 0.2157, Train Accuracy: 91.64%\n",
      "Test Loss: 0.2310, Test Accuracy: 92.17%\n",
      "\n"
     ]
    },
    {
     "name": "stderr",
     "output_type": "stream",
     "text": [
      "Epoch 1027: 100%|██████████| 938/938 [00:21<00:00, 42.94batch/s, Train Loss=0.215, Train Acc=91.6]\n"
     ]
    },
    {
     "name": "stdout",
     "output_type": "stream",
     "text": [
      "Epoch 1027\n",
      "Train Loss: 0.2151, Train Accuracy: 91.63%\n",
      "Test Loss: 0.2371, Test Accuracy: 91.98%\n",
      "\n"
     ]
    },
    {
     "name": "stderr",
     "output_type": "stream",
     "text": [
      "Epoch 1028: 100%|██████████| 938/938 [00:21<00:00, 43.22batch/s, Train Loss=0.216, Train Acc=91.7]\n"
     ]
    },
    {
     "name": "stdout",
     "output_type": "stream",
     "text": [
      "Epoch 1028\n",
      "Train Loss: 0.2161, Train Accuracy: 91.71%\n",
      "Test Loss: 0.2353, Test Accuracy: 91.92%\n",
      "\n"
     ]
    },
    {
     "name": "stderr",
     "output_type": "stream",
     "text": [
      "Epoch 1029: 100%|██████████| 938/938 [00:21<00:00, 43.36batch/s, Train Loss=0.214, Train Acc=91.7]\n"
     ]
    },
    {
     "name": "stdout",
     "output_type": "stream",
     "text": [
      "Epoch 1029\n",
      "Train Loss: 0.2138, Train Accuracy: 91.74%\n",
      "Test Loss: 0.2247, Test Accuracy: 92.30%\n",
      "\n"
     ]
    },
    {
     "name": "stderr",
     "output_type": "stream",
     "text": [
      "Epoch 1030: 100%|██████████| 938/938 [00:21<00:00, 43.31batch/s, Train Loss=0.215, Train Acc=91.8]\n"
     ]
    },
    {
     "name": "stdout",
     "output_type": "stream",
     "text": [
      "Epoch 1030\n",
      "Train Loss: 0.2149, Train Accuracy: 91.78%\n",
      "Test Loss: 0.2258, Test Accuracy: 92.47%\n",
      "\n"
     ]
    },
    {
     "name": "stderr",
     "output_type": "stream",
     "text": [
      "Epoch 1031: 100%|██████████| 938/938 [00:21<00:00, 43.17batch/s, Train Loss=0.217, Train Acc=91.6]\n"
     ]
    },
    {
     "name": "stdout",
     "output_type": "stream",
     "text": [
      "Epoch 1031\n",
      "Train Loss: 0.2169, Train Accuracy: 91.64%\n",
      "Test Loss: 0.2280, Test Accuracy: 92.39%\n",
      "\n"
     ]
    },
    {
     "name": "stderr",
     "output_type": "stream",
     "text": [
      "Epoch 1032: 100%|██████████| 938/938 [00:21<00:00, 43.24batch/s, Train Loss=0.216, Train Acc=91.7]\n"
     ]
    },
    {
     "name": "stdout",
     "output_type": "stream",
     "text": [
      "Epoch 1032\n",
      "Train Loss: 0.2163, Train Accuracy: 91.74%\n",
      "Test Loss: 0.2270, Test Accuracy: 92.45%\n",
      "\n"
     ]
    },
    {
     "name": "stderr",
     "output_type": "stream",
     "text": [
      "Epoch 1033: 100%|██████████| 938/938 [00:21<00:00, 42.97batch/s, Train Loss=0.215, Train Acc=91.9]\n"
     ]
    },
    {
     "name": "stdout",
     "output_type": "stream",
     "text": [
      "Epoch 1033\n",
      "Train Loss: 0.2149, Train Accuracy: 91.89%\n",
      "Test Loss: 0.2271, Test Accuracy: 92.29%\n",
      "\n"
     ]
    },
    {
     "name": "stderr",
     "output_type": "stream",
     "text": [
      "Epoch 1034: 100%|██████████| 938/938 [00:21<00:00, 43.09batch/s, Train Loss=0.217, Train Acc=91.7]\n"
     ]
    },
    {
     "name": "stdout",
     "output_type": "stream",
     "text": [
      "Epoch 1034\n",
      "Train Loss: 0.2174, Train Accuracy: 91.72%\n",
      "Test Loss: 0.2289, Test Accuracy: 92.15%\n",
      "\n"
     ]
    },
    {
     "name": "stderr",
     "output_type": "stream",
     "text": [
      "Epoch 1035: 100%|██████████| 938/938 [00:22<00:00, 42.36batch/s, Train Loss=0.214, Train Acc=91.7]\n"
     ]
    },
    {
     "name": "stdout",
     "output_type": "stream",
     "text": [
      "Epoch 1035\n",
      "Train Loss: 0.2137, Train Accuracy: 91.67%\n",
      "Test Loss: 0.2289, Test Accuracy: 92.07%\n",
      "\n"
     ]
    },
    {
     "name": "stderr",
     "output_type": "stream",
     "text": [
      "Epoch 1036: 100%|██████████| 938/938 [00:21<00:00, 42.83batch/s, Train Loss=0.216, Train Acc=91.7]\n"
     ]
    },
    {
     "name": "stdout",
     "output_type": "stream",
     "text": [
      "Epoch 1036\n",
      "Train Loss: 0.2158, Train Accuracy: 91.68%\n",
      "Test Loss: 0.2319, Test Accuracy: 92.19%\n",
      "\n"
     ]
    },
    {
     "name": "stderr",
     "output_type": "stream",
     "text": [
      "Epoch 1037: 100%|██████████| 938/938 [00:21<00:00, 43.02batch/s, Train Loss=0.214, Train Acc=91.7]\n"
     ]
    },
    {
     "name": "stdout",
     "output_type": "stream",
     "text": [
      "Epoch 1037\n",
      "Train Loss: 0.2136, Train Accuracy: 91.70%\n",
      "Test Loss: 0.2277, Test Accuracy: 92.36%\n",
      "\n"
     ]
    },
    {
     "name": "stderr",
     "output_type": "stream",
     "text": [
      "Epoch 1038: 100%|██████████| 938/938 [00:21<00:00, 43.24batch/s, Train Loss=0.213, Train Acc=91.8]\n"
     ]
    },
    {
     "name": "stdout",
     "output_type": "stream",
     "text": [
      "Epoch 1038\n",
      "Train Loss: 0.2132, Train Accuracy: 91.80%\n",
      "Test Loss: 0.2288, Test Accuracy: 92.33%\n",
      "\n"
     ]
    },
    {
     "name": "stderr",
     "output_type": "stream",
     "text": [
      "Epoch 1039: 100%|██████████| 938/938 [00:21<00:00, 43.26batch/s, Train Loss=0.212, Train Acc=91.8]\n"
     ]
    },
    {
     "name": "stdout",
     "output_type": "stream",
     "text": [
      "Epoch 1039\n",
      "Train Loss: 0.2122, Train Accuracy: 91.82%\n",
      "Test Loss: 0.2277, Test Accuracy: 92.26%\n",
      "\n"
     ]
    },
    {
     "name": "stderr",
     "output_type": "stream",
     "text": [
      "Epoch 1040: 100%|██████████| 938/938 [00:21<00:00, 42.67batch/s, Train Loss=0.218, Train Acc=91.6]\n"
     ]
    },
    {
     "name": "stdout",
     "output_type": "stream",
     "text": [
      "Epoch 1040\n",
      "Train Loss: 0.2182, Train Accuracy: 91.58%\n",
      "Test Loss: 0.2243, Test Accuracy: 92.33%\n",
      "\n"
     ]
    },
    {
     "name": "stderr",
     "output_type": "stream",
     "text": [
      "Epoch 1041: 100%|██████████| 938/938 [00:21<00:00, 43.53batch/s, Train Loss=0.214, Train Acc=91.8]\n"
     ]
    },
    {
     "name": "stdout",
     "output_type": "stream",
     "text": [
      "Epoch 1041\n",
      "Train Loss: 0.2137, Train Accuracy: 91.85%\n",
      "Test Loss: 0.2279, Test Accuracy: 92.01%\n",
      "\n"
     ]
    },
    {
     "name": "stderr",
     "output_type": "stream",
     "text": [
      "Epoch 1042: 100%|██████████| 938/938 [00:21<00:00, 43.75batch/s, Train Loss=0.216, Train Acc=91.7]\n"
     ]
    },
    {
     "name": "stdout",
     "output_type": "stream",
     "text": [
      "Epoch 1042\n",
      "Train Loss: 0.2156, Train Accuracy: 91.69%\n",
      "Test Loss: 0.2290, Test Accuracy: 92.46%\n",
      "\n"
     ]
    },
    {
     "name": "stderr",
     "output_type": "stream",
     "text": [
      "Epoch 1043: 100%|██████████| 938/938 [00:21<00:00, 44.13batch/s, Train Loss=0.213, Train Acc=91.7]\n"
     ]
    },
    {
     "name": "stdout",
     "output_type": "stream",
     "text": [
      "Epoch 1043\n",
      "Train Loss: 0.2132, Train Accuracy: 91.74%\n",
      "Test Loss: 0.2265, Test Accuracy: 92.54%\n",
      "\n"
     ]
    },
    {
     "name": "stderr",
     "output_type": "stream",
     "text": [
      "Epoch 1044: 100%|██████████| 938/938 [00:21<00:00, 44.08batch/s, Train Loss=0.214, Train Acc=91.9]\n"
     ]
    },
    {
     "name": "stdout",
     "output_type": "stream",
     "text": [
      "Epoch 1044\n",
      "Train Loss: 0.2136, Train Accuracy: 91.86%\n",
      "Test Loss: 0.2292, Test Accuracy: 92.18%\n",
      "\n"
     ]
    },
    {
     "name": "stderr",
     "output_type": "stream",
     "text": [
      "Epoch 1045: 100%|██████████| 938/938 [00:22<00:00, 42.42batch/s, Train Loss=0.213, Train Acc=91.9]\n"
     ]
    },
    {
     "name": "stdout",
     "output_type": "stream",
     "text": [
      "Epoch 1045\n",
      "Train Loss: 0.2130, Train Accuracy: 91.90%\n",
      "Test Loss: 0.2251, Test Accuracy: 92.47%\n",
      "\n"
     ]
    },
    {
     "name": "stderr",
     "output_type": "stream",
     "text": [
      "Epoch 1046: 100%|██████████| 938/938 [00:21<00:00, 43.30batch/s, Train Loss=0.213, Train Acc=91.9]\n"
     ]
    },
    {
     "name": "stdout",
     "output_type": "stream",
     "text": [
      "Epoch 1046\n",
      "Train Loss: 0.2129, Train Accuracy: 91.91%\n",
      "Test Loss: 0.2305, Test Accuracy: 92.30%\n",
      "\n"
     ]
    },
    {
     "name": "stderr",
     "output_type": "stream",
     "text": [
      "Epoch 1047: 100%|██████████| 938/938 [00:21<00:00, 43.04batch/s, Train Loss=0.211, Train Acc=92]  \n"
     ]
    },
    {
     "name": "stdout",
     "output_type": "stream",
     "text": [
      "Epoch 1047\n",
      "Train Loss: 0.2105, Train Accuracy: 91.97%\n",
      "Test Loss: 0.2289, Test Accuracy: 92.23%\n",
      "\n"
     ]
    },
    {
     "name": "stderr",
     "output_type": "stream",
     "text": [
      "Epoch 1048: 100%|██████████| 938/938 [00:21<00:00, 43.23batch/s, Train Loss=0.215, Train Acc=91.6]\n"
     ]
    },
    {
     "name": "stdout",
     "output_type": "stream",
     "text": [
      "Epoch 1048\n",
      "Train Loss: 0.2146, Train Accuracy: 91.61%\n",
      "Test Loss: 0.2302, Test Accuracy: 92.30%\n",
      "\n"
     ]
    },
    {
     "name": "stderr",
     "output_type": "stream",
     "text": [
      "Epoch 1049: 100%|██████████| 938/938 [00:21<00:00, 43.09batch/s, Train Loss=0.213, Train Acc=91.9]\n"
     ]
    },
    {
     "name": "stdout",
     "output_type": "stream",
     "text": [
      "Epoch 1049\n",
      "Train Loss: 0.2126, Train Accuracy: 91.86%\n",
      "Test Loss: 0.2261, Test Accuracy: 92.33%\n",
      "\n"
     ]
    },
    {
     "name": "stderr",
     "output_type": "stream",
     "text": [
      "Epoch 1050: 100%|██████████| 938/938 [00:21<00:00, 43.14batch/s, Train Loss=0.208, Train Acc=92.1]\n"
     ]
    },
    {
     "name": "stdout",
     "output_type": "stream",
     "text": [
      "Epoch 1050\n",
      "Train Loss: 0.2082, Train Accuracy: 92.06%\n",
      "Test Loss: 0.2316, Test Accuracy: 92.33%\n",
      "\n"
     ]
    },
    {
     "name": "stderr",
     "output_type": "stream",
     "text": [
      "Epoch 1051: 100%|██████████| 938/938 [00:21<00:00, 42.99batch/s, Train Loss=0.212, Train Acc=91.9]\n"
     ]
    },
    {
     "name": "stdout",
     "output_type": "stream",
     "text": [
      "Epoch 1051\n",
      "Train Loss: 0.2116, Train Accuracy: 91.92%\n",
      "Test Loss: 0.2258, Test Accuracy: 92.35%\n",
      "\n"
     ]
    },
    {
     "name": "stderr",
     "output_type": "stream",
     "text": [
      "Epoch 1052: 100%|██████████| 938/938 [00:21<00:00, 43.48batch/s, Train Loss=0.213, Train Acc=91.8]\n"
     ]
    },
    {
     "name": "stdout",
     "output_type": "stream",
     "text": [
      "Epoch 1052\n",
      "Train Loss: 0.2125, Train Accuracy: 91.83%\n",
      "Test Loss: 0.2302, Test Accuracy: 92.27%\n",
      "\n"
     ]
    },
    {
     "name": "stderr",
     "output_type": "stream",
     "text": [
      "Epoch 1053: 100%|██████████| 938/938 [00:21<00:00, 42.99batch/s, Train Loss=0.212, Train Acc=91.9]\n"
     ]
    },
    {
     "name": "stdout",
     "output_type": "stream",
     "text": [
      "Epoch 1053\n",
      "Train Loss: 0.2122, Train Accuracy: 91.93%\n",
      "Test Loss: 0.2299, Test Accuracy: 92.06%\n",
      "\n"
     ]
    },
    {
     "name": "stderr",
     "output_type": "stream",
     "text": [
      "Epoch 1054: 100%|██████████| 938/938 [00:21<00:00, 43.15batch/s, Train Loss=0.211, Train Acc=91.9]\n"
     ]
    },
    {
     "name": "stdout",
     "output_type": "stream",
     "text": [
      "Epoch 1054\n",
      "Train Loss: 0.2105, Train Accuracy: 91.93%\n",
      "Test Loss: 0.2297, Test Accuracy: 92.45%\n",
      "\n"
     ]
    },
    {
     "name": "stderr",
     "output_type": "stream",
     "text": [
      "Epoch 1055: 100%|██████████| 938/938 [00:21<00:00, 43.20batch/s, Train Loss=0.214, Train Acc=91.7]\n"
     ]
    },
    {
     "name": "stdout",
     "output_type": "stream",
     "text": [
      "Epoch 1055\n",
      "Train Loss: 0.2140, Train Accuracy: 91.73%\n",
      "Test Loss: 0.2265, Test Accuracy: 92.36%\n",
      "\n"
     ]
    },
    {
     "name": "stderr",
     "output_type": "stream",
     "text": [
      "Epoch 1056: 100%|██████████| 938/938 [00:21<00:00, 43.44batch/s, Train Loss=0.216, Train Acc=91.6]\n"
     ]
    },
    {
     "name": "stdout",
     "output_type": "stream",
     "text": [
      "Epoch 1056\n",
      "Train Loss: 0.2160, Train Accuracy: 91.58%\n",
      "Test Loss: 0.2267, Test Accuracy: 92.43%\n",
      "\n"
     ]
    },
    {
     "name": "stderr",
     "output_type": "stream",
     "text": [
      "Epoch 1057: 100%|██████████| 938/938 [00:21<00:00, 43.20batch/s, Train Loss=0.212, Train Acc=91.8]\n"
     ]
    },
    {
     "name": "stdout",
     "output_type": "stream",
     "text": [
      "Epoch 1057\n",
      "Train Loss: 0.2124, Train Accuracy: 91.84%\n",
      "Test Loss: 0.2239, Test Accuracy: 92.54%\n",
      "\n"
     ]
    },
    {
     "name": "stderr",
     "output_type": "stream",
     "text": [
      "Epoch 1058: 100%|██████████| 938/938 [00:21<00:00, 43.09batch/s, Train Loss=0.215, Train Acc=91.9]\n"
     ]
    },
    {
     "name": "stdout",
     "output_type": "stream",
     "text": [
      "Epoch 1058\n",
      "Train Loss: 0.2147, Train Accuracy: 91.87%\n",
      "Test Loss: 0.2295, Test Accuracy: 92.35%\n",
      "\n"
     ]
    },
    {
     "name": "stderr",
     "output_type": "stream",
     "text": [
      "Epoch 1059: 100%|██████████| 938/938 [00:21<00:00, 43.32batch/s, Train Loss=0.212, Train Acc=91.9]\n"
     ]
    },
    {
     "name": "stdout",
     "output_type": "stream",
     "text": [
      "Epoch 1059\n",
      "Train Loss: 0.2118, Train Accuracy: 91.90%\n",
      "Test Loss: 0.2278, Test Accuracy: 92.54%\n",
      "\n"
     ]
    },
    {
     "name": "stderr",
     "output_type": "stream",
     "text": [
      "Epoch 1060: 100%|██████████| 938/938 [00:21<00:00, 43.22batch/s, Train Loss=0.215, Train Acc=91.6]\n"
     ]
    },
    {
     "name": "stdout",
     "output_type": "stream",
     "text": [
      "Epoch 1060\n",
      "Train Loss: 0.2149, Train Accuracy: 91.62%\n",
      "Test Loss: 0.2258, Test Accuracy: 92.22%\n",
      "\n"
     ]
    },
    {
     "name": "stderr",
     "output_type": "stream",
     "text": [
      "Epoch 1061: 100%|██████████| 938/938 [00:21<00:00, 43.24batch/s, Train Loss=0.211, Train Acc=91.9]\n"
     ]
    },
    {
     "name": "stdout",
     "output_type": "stream",
     "text": [
      "Epoch 1061\n",
      "Train Loss: 0.2114, Train Accuracy: 91.88%\n",
      "Test Loss: 0.2287, Test Accuracy: 92.33%\n",
      "\n"
     ]
    },
    {
     "name": "stderr",
     "output_type": "stream",
     "text": [
      "Epoch 1062: 100%|██████████| 938/938 [00:21<00:00, 42.97batch/s, Train Loss=0.209, Train Acc=92]  \n"
     ]
    },
    {
     "name": "stdout",
     "output_type": "stream",
     "text": [
      "Epoch 1062\n",
      "Train Loss: 0.2086, Train Accuracy: 91.99%\n",
      "Test Loss: 0.2263, Test Accuracy: 92.38%\n",
      "\n"
     ]
    },
    {
     "name": "stderr",
     "output_type": "stream",
     "text": [
      "Epoch 1063: 100%|██████████| 938/938 [00:21<00:00, 43.62batch/s, Train Loss=0.211, Train Acc=91.9]\n"
     ]
    },
    {
     "name": "stdout",
     "output_type": "stream",
     "text": [
      "Epoch 1063\n",
      "Train Loss: 0.2114, Train Accuracy: 91.94%\n",
      "Test Loss: 0.2260, Test Accuracy: 92.29%\n",
      "\n"
     ]
    },
    {
     "name": "stderr",
     "output_type": "stream",
     "text": [
      "Epoch 1064: 100%|██████████| 938/938 [00:21<00:00, 43.68batch/s, Train Loss=0.21, Train Acc=91.9] \n"
     ]
    },
    {
     "name": "stdout",
     "output_type": "stream",
     "text": [
      "Epoch 1064\n",
      "Train Loss: 0.2104, Train Accuracy: 91.87%\n",
      "Test Loss: 0.2300, Test Accuracy: 92.12%\n",
      "\n"
     ]
    },
    {
     "name": "stderr",
     "output_type": "stream",
     "text": [
      "Epoch 1065: 100%|██████████| 938/938 [00:21<00:00, 43.88batch/s, Train Loss=0.211, Train Acc=91.9]\n"
     ]
    },
    {
     "name": "stdout",
     "output_type": "stream",
     "text": [
      "Epoch 1065\n",
      "Train Loss: 0.2111, Train Accuracy: 91.88%\n",
      "Test Loss: 0.2280, Test Accuracy: 92.29%\n",
      "\n"
     ]
    },
    {
     "name": "stderr",
     "output_type": "stream",
     "text": [
      "Epoch 1066: 100%|██████████| 938/938 [00:21<00:00, 44.26batch/s, Train Loss=0.211, Train Acc=91.9]\n"
     ]
    },
    {
     "name": "stdout",
     "output_type": "stream",
     "text": [
      "Epoch 1066\n",
      "Train Loss: 0.2115, Train Accuracy: 91.86%\n",
      "Test Loss: 0.2240, Test Accuracy: 92.42%\n",
      "\n"
     ]
    },
    {
     "name": "stderr",
     "output_type": "stream",
     "text": [
      "Epoch 1067: 100%|██████████| 938/938 [00:21<00:00, 43.95batch/s, Train Loss=0.211, Train Acc=91.9]\n"
     ]
    },
    {
     "name": "stdout",
     "output_type": "stream",
     "text": [
      "Epoch 1067\n",
      "Train Loss: 0.2110, Train Accuracy: 91.89%\n",
      "Test Loss: 0.2229, Test Accuracy: 92.33%\n",
      "\n"
     ]
    },
    {
     "name": "stderr",
     "output_type": "stream",
     "text": [
      "Epoch 1068: 100%|██████████| 938/938 [00:21<00:00, 44.24batch/s, Train Loss=0.212, Train Acc=91.9]\n"
     ]
    },
    {
     "name": "stdout",
     "output_type": "stream",
     "text": [
      "Epoch 1068\n",
      "Train Loss: 0.2119, Train Accuracy: 91.91%\n",
      "Test Loss: 0.2233, Test Accuracy: 92.51%\n",
      "\n"
     ]
    },
    {
     "name": "stderr",
     "output_type": "stream",
     "text": [
      "Epoch 1069: 100%|██████████| 938/938 [00:21<00:00, 43.68batch/s, Train Loss=0.211, Train Acc=91.9]\n"
     ]
    },
    {
     "name": "stdout",
     "output_type": "stream",
     "text": [
      "Epoch 1069\n",
      "Train Loss: 0.2114, Train Accuracy: 91.92%\n",
      "Test Loss: 0.2273, Test Accuracy: 92.48%\n",
      "\n"
     ]
    },
    {
     "name": "stderr",
     "output_type": "stream",
     "text": [
      "Epoch 1070: 100%|██████████| 938/938 [00:21<00:00, 44.00batch/s, Train Loss=0.215, Train Acc=91.7]\n"
     ]
    },
    {
     "name": "stdout",
     "output_type": "stream",
     "text": [
      "Epoch 1070\n",
      "Train Loss: 0.2151, Train Accuracy: 91.73%\n",
      "Test Loss: 0.2294, Test Accuracy: 92.40%\n",
      "\n"
     ]
    },
    {
     "name": "stderr",
     "output_type": "stream",
     "text": [
      "Epoch 1071: 100%|██████████| 938/938 [00:21<00:00, 43.98batch/s, Train Loss=0.211, Train Acc=91.9]\n"
     ]
    },
    {
     "name": "stdout",
     "output_type": "stream",
     "text": [
      "Epoch 1071\n",
      "Train Loss: 0.2106, Train Accuracy: 91.86%\n",
      "Test Loss: 0.2282, Test Accuracy: 92.48%\n",
      "\n"
     ]
    },
    {
     "name": "stderr",
     "output_type": "stream",
     "text": [
      "Epoch 1072: 100%|██████████| 938/938 [00:21<00:00, 43.95batch/s, Train Loss=0.211, Train Acc=91.9]\n"
     ]
    },
    {
     "name": "stdout",
     "output_type": "stream",
     "text": [
      "Epoch 1072\n",
      "Train Loss: 0.2111, Train Accuracy: 91.86%\n",
      "Test Loss: 0.2272, Test Accuracy: 92.51%\n",
      "\n"
     ]
    },
    {
     "name": "stderr",
     "output_type": "stream",
     "text": [
      "Epoch 1073: 100%|██████████| 938/938 [00:21<00:00, 43.85batch/s, Train Loss=0.212, Train Acc=91.8]\n"
     ]
    },
    {
     "name": "stdout",
     "output_type": "stream",
     "text": [
      "Epoch 1073\n",
      "Train Loss: 0.2120, Train Accuracy: 91.80%\n",
      "Test Loss: 0.2304, Test Accuracy: 92.32%\n",
      "\n"
     ]
    },
    {
     "name": "stderr",
     "output_type": "stream",
     "text": [
      "Epoch 1074: 100%|██████████| 938/938 [00:21<00:00, 43.44batch/s, Train Loss=0.214, Train Acc=91.8]\n"
     ]
    },
    {
     "name": "stdout",
     "output_type": "stream",
     "text": [
      "Epoch 1074\n",
      "Train Loss: 0.2136, Train Accuracy: 91.77%\n",
      "Test Loss: 0.2337, Test Accuracy: 92.27%\n",
      "\n"
     ]
    },
    {
     "name": "stderr",
     "output_type": "stream",
     "text": [
      "Epoch 1075: 100%|██████████| 938/938 [00:21<00:00, 43.62batch/s, Train Loss=0.212, Train Acc=91.6]\n"
     ]
    },
    {
     "name": "stdout",
     "output_type": "stream",
     "text": [
      "Epoch 1075\n",
      "Train Loss: 0.2124, Train Accuracy: 91.62%\n",
      "Test Loss: 0.2304, Test Accuracy: 92.51%\n",
      "\n"
     ]
    },
    {
     "name": "stderr",
     "output_type": "stream",
     "text": [
      "Epoch 1076: 100%|██████████| 938/938 [00:21<00:00, 43.68batch/s, Train Loss=0.211, Train Acc=92]  \n"
     ]
    },
    {
     "name": "stdout",
     "output_type": "stream",
     "text": [
      "Epoch 1076\n",
      "Train Loss: 0.2111, Train Accuracy: 91.96%\n",
      "Test Loss: 0.2256, Test Accuracy: 92.52%\n",
      "\n"
     ]
    },
    {
     "name": "stderr",
     "output_type": "stream",
     "text": [
      "Epoch 1077: 100%|██████████| 938/938 [00:22<00:00, 42.60batch/s, Train Loss=0.214, Train Acc=91.7]\n"
     ]
    },
    {
     "name": "stdout",
     "output_type": "stream",
     "text": [
      "Epoch 1077\n",
      "Train Loss: 0.2144, Train Accuracy: 91.68%\n",
      "Test Loss: 0.2304, Test Accuracy: 92.24%\n",
      "\n"
     ]
    },
    {
     "name": "stderr",
     "output_type": "stream",
     "text": [
      "Epoch 1078: 100%|██████████| 938/938 [00:21<00:00, 43.41batch/s, Train Loss=0.211, Train Acc=92]  \n"
     ]
    },
    {
     "name": "stdout",
     "output_type": "stream",
     "text": [
      "Epoch 1078\n",
      "Train Loss: 0.2107, Train Accuracy: 91.99%\n",
      "Test Loss: 0.2303, Test Accuracy: 92.55%\n",
      "\n"
     ]
    },
    {
     "name": "stderr",
     "output_type": "stream",
     "text": [
      "Epoch 1079: 100%|██████████| 938/938 [00:21<00:00, 42.70batch/s, Train Loss=0.211, Train Acc=92]  \n"
     ]
    },
    {
     "name": "stdout",
     "output_type": "stream",
     "text": [
      "Epoch 1079\n",
      "Train Loss: 0.2113, Train Accuracy: 91.98%\n",
      "Test Loss: 0.2296, Test Accuracy: 92.46%\n",
      "\n"
     ]
    },
    {
     "name": "stderr",
     "output_type": "stream",
     "text": [
      "Epoch 1080: 100%|██████████| 938/938 [00:22<00:00, 42.39batch/s, Train Loss=0.211, Train Acc=91.9]\n"
     ]
    },
    {
     "name": "stdout",
     "output_type": "stream",
     "text": [
      "Epoch 1080\n",
      "Train Loss: 0.2106, Train Accuracy: 91.94%\n",
      "Test Loss: 0.2300, Test Accuracy: 92.45%\n",
      "\n"
     ]
    },
    {
     "name": "stderr",
     "output_type": "stream",
     "text": [
      "Epoch 1081: 100%|██████████| 938/938 [00:21<00:00, 42.83batch/s, Train Loss=0.209, Train Acc=92]  \n"
     ]
    },
    {
     "name": "stdout",
     "output_type": "stream",
     "text": [
      "Epoch 1081\n",
      "Train Loss: 0.2093, Train Accuracy: 91.96%\n",
      "Test Loss: 0.2301, Test Accuracy: 92.53%\n",
      "\n"
     ]
    },
    {
     "name": "stderr",
     "output_type": "stream",
     "text": [
      "Epoch 1082: 100%|██████████| 938/938 [00:21<00:00, 42.69batch/s, Train Loss=0.212, Train Acc=91.8]\n"
     ]
    },
    {
     "name": "stdout",
     "output_type": "stream",
     "text": [
      "Epoch 1082\n",
      "Train Loss: 0.2118, Train Accuracy: 91.77%\n",
      "Test Loss: 0.2366, Test Accuracy: 92.21%\n",
      "\n"
     ]
    },
    {
     "name": "stderr",
     "output_type": "stream",
     "text": [
      "Epoch 1083: 100%|██████████| 938/938 [00:21<00:00, 43.00batch/s, Train Loss=0.212, Train Acc=91.9]\n"
     ]
    },
    {
     "name": "stdout",
     "output_type": "stream",
     "text": [
      "Epoch 1083\n",
      "Train Loss: 0.2116, Train Accuracy: 91.86%\n",
      "Test Loss: 0.2335, Test Accuracy: 92.40%\n",
      "\n"
     ]
    },
    {
     "name": "stderr",
     "output_type": "stream",
     "text": [
      "Epoch 1084: 100%|██████████| 938/938 [00:21<00:00, 43.02batch/s, Train Loss=0.211, Train Acc=91.9]\n"
     ]
    },
    {
     "name": "stdout",
     "output_type": "stream",
     "text": [
      "Epoch 1084\n",
      "Train Loss: 0.2106, Train Accuracy: 91.86%\n",
      "Test Loss: 0.2313, Test Accuracy: 92.35%\n",
      "\n"
     ]
    },
    {
     "name": "stderr",
     "output_type": "stream",
     "text": [
      "Epoch 1085: 100%|██████████| 938/938 [00:21<00:00, 43.11batch/s, Train Loss=0.212, Train Acc=91.8]\n"
     ]
    },
    {
     "name": "stdout",
     "output_type": "stream",
     "text": [
      "Epoch 1085\n",
      "Train Loss: 0.2124, Train Accuracy: 91.85%\n",
      "Test Loss: 0.2271, Test Accuracy: 92.45%\n",
      "\n"
     ]
    },
    {
     "name": "stderr",
     "output_type": "stream",
     "text": [
      "Epoch 1086: 100%|██████████| 938/938 [00:21<00:00, 43.03batch/s, Train Loss=0.211, Train Acc=91.8]\n"
     ]
    },
    {
     "name": "stdout",
     "output_type": "stream",
     "text": [
      "Epoch 1086\n",
      "Train Loss: 0.2107, Train Accuracy: 91.81%\n",
      "Test Loss: 0.2349, Test Accuracy: 92.01%\n",
      "\n"
     ]
    },
    {
     "name": "stderr",
     "output_type": "stream",
     "text": [
      "Epoch 1087: 100%|██████████| 938/938 [00:21<00:00, 43.35batch/s, Train Loss=0.207, Train Acc=91.9]\n"
     ]
    },
    {
     "name": "stdout",
     "output_type": "stream",
     "text": [
      "Epoch 1087\n",
      "Train Loss: 0.2071, Train Accuracy: 91.94%\n",
      "Test Loss: 0.2300, Test Accuracy: 92.32%\n",
      "\n"
     ]
    },
    {
     "name": "stderr",
     "output_type": "stream",
     "text": [
      "Epoch 1088: 100%|██████████| 938/938 [00:21<00:00, 43.04batch/s, Train Loss=0.208, Train Acc=92]  \n"
     ]
    },
    {
     "name": "stdout",
     "output_type": "stream",
     "text": [
      "Epoch 1088\n",
      "Train Loss: 0.2077, Train Accuracy: 92.04%\n",
      "Test Loss: 0.2314, Test Accuracy: 92.10%\n",
      "\n"
     ]
    },
    {
     "name": "stderr",
     "output_type": "stream",
     "text": [
      "Epoch 1089: 100%|██████████| 938/938 [00:21<00:00, 42.69batch/s, Train Loss=0.208, Train Acc=92]  \n"
     ]
    },
    {
     "name": "stdout",
     "output_type": "stream",
     "text": [
      "Epoch 1089\n",
      "Train Loss: 0.2082, Train Accuracy: 91.98%\n",
      "Test Loss: 0.2296, Test Accuracy: 92.46%\n",
      "\n"
     ]
    },
    {
     "name": "stderr",
     "output_type": "stream",
     "text": [
      "Epoch 1090: 100%|██████████| 938/938 [00:22<00:00, 42.25batch/s, Train Loss=0.211, Train Acc=92]  \n"
     ]
    },
    {
     "name": "stdout",
     "output_type": "stream",
     "text": [
      "Epoch 1090\n",
      "Train Loss: 0.2109, Train Accuracy: 91.95%\n",
      "Test Loss: 0.2272, Test Accuracy: 92.13%\n",
      "\n"
     ]
    },
    {
     "name": "stderr",
     "output_type": "stream",
     "text": [
      "Epoch 1091: 100%|██████████| 938/938 [00:22<00:00, 42.35batch/s, Train Loss=0.204, Train Acc=92.1]\n"
     ]
    },
    {
     "name": "stdout",
     "output_type": "stream",
     "text": [
      "Epoch 1091\n",
      "Train Loss: 0.2045, Train Accuracy: 92.08%\n",
      "Test Loss: 0.2339, Test Accuracy: 92.13%\n",
      "\n"
     ]
    },
    {
     "name": "stderr",
     "output_type": "stream",
     "text": [
      "Epoch 1092: 100%|██████████| 938/938 [00:22<00:00, 42.28batch/s, Train Loss=0.208, Train Acc=91.9]\n"
     ]
    },
    {
     "name": "stdout",
     "output_type": "stream",
     "text": [
      "Epoch 1092\n",
      "Train Loss: 0.2085, Train Accuracy: 91.90%\n",
      "Test Loss: 0.2273, Test Accuracy: 92.49%\n",
      "\n"
     ]
    },
    {
     "name": "stderr",
     "output_type": "stream",
     "text": [
      "Epoch 1093: 100%|██████████| 938/938 [00:21<00:00, 43.37batch/s, Train Loss=0.209, Train Acc=92]  \n"
     ]
    },
    {
     "name": "stdout",
     "output_type": "stream",
     "text": [
      "Epoch 1093\n",
      "Train Loss: 0.2092, Train Accuracy: 91.99%\n",
      "Test Loss: 0.2245, Test Accuracy: 92.61%\n",
      "\n"
     ]
    },
    {
     "name": "stderr",
     "output_type": "stream",
     "text": [
      "Epoch 1094: 100%|██████████| 938/938 [00:21<00:00, 43.17batch/s, Train Loss=0.212, Train Acc=91.8]\n"
     ]
    },
    {
     "name": "stdout",
     "output_type": "stream",
     "text": [
      "Epoch 1094\n",
      "Train Loss: 0.2121, Train Accuracy: 91.77%\n",
      "Test Loss: 0.2252, Test Accuracy: 92.59%\n",
      "\n"
     ]
    },
    {
     "name": "stderr",
     "output_type": "stream",
     "text": [
      "Epoch 1095: 100%|██████████| 938/938 [00:20<00:00, 44.76batch/s, Train Loss=0.209, Train Acc=91.9]\n"
     ]
    },
    {
     "name": "stdout",
     "output_type": "stream",
     "text": [
      "Epoch 1095\n",
      "Train Loss: 0.2089, Train Accuracy: 91.91%\n",
      "Test Loss: 0.2312, Test Accuracy: 92.29%\n",
      "\n"
     ]
    },
    {
     "name": "stderr",
     "output_type": "stream",
     "text": [
      "Epoch 1096: 100%|██████████| 938/938 [00:21<00:00, 44.00batch/s, Train Loss=0.211, Train Acc=92.1]\n"
     ]
    },
    {
     "name": "stdout",
     "output_type": "stream",
     "text": [
      "Epoch 1096\n",
      "Train Loss: 0.2105, Train Accuracy: 92.05%\n",
      "Test Loss: 0.2336, Test Accuracy: 92.48%\n",
      "\n"
     ]
    },
    {
     "name": "stderr",
     "output_type": "stream",
     "text": [
      "Epoch 1097: 100%|██████████| 938/938 [00:21<00:00, 43.66batch/s, Train Loss=0.21, Train Acc=91.9] \n"
     ]
    },
    {
     "name": "stdout",
     "output_type": "stream",
     "text": [
      "Epoch 1097\n",
      "Train Loss: 0.2099, Train Accuracy: 91.90%\n",
      "Test Loss: 0.2416, Test Accuracy: 92.14%\n",
      "\n"
     ]
    },
    {
     "name": "stderr",
     "output_type": "stream",
     "text": [
      "Epoch 1098: 100%|██████████| 938/938 [00:21<00:00, 44.53batch/s, Train Loss=0.21, Train Acc=91.9] \n"
     ]
    },
    {
     "name": "stdout",
     "output_type": "stream",
     "text": [
      "Epoch 1098\n",
      "Train Loss: 0.2099, Train Accuracy: 91.90%\n",
      "Test Loss: 0.2327, Test Accuracy: 92.46%\n",
      "\n"
     ]
    },
    {
     "name": "stderr",
     "output_type": "stream",
     "text": [
      "Epoch 1099: 100%|██████████| 938/938 [00:21<00:00, 43.25batch/s, Train Loss=0.208, Train Acc=92]  \n"
     ]
    },
    {
     "name": "stdout",
     "output_type": "stream",
     "text": [
      "Epoch 1099\n",
      "Train Loss: 0.2085, Train Accuracy: 92.04%\n",
      "Test Loss: 0.2299, Test Accuracy: 92.39%\n",
      "\n"
     ]
    },
    {
     "name": "stderr",
     "output_type": "stream",
     "text": [
      "Epoch 1100: 100%|██████████| 938/938 [00:21<00:00, 43.85batch/s, Train Loss=0.205, Train Acc=92.1]\n"
     ]
    },
    {
     "name": "stdout",
     "output_type": "stream",
     "text": [
      "Epoch 1100\n",
      "Train Loss: 0.2051, Train Accuracy: 92.07%\n",
      "Test Loss: 0.2359, Test Accuracy: 92.35%\n",
      "\n"
     ]
    },
    {
     "name": "stderr",
     "output_type": "stream",
     "text": [
      "Epoch 1101: 100%|██████████| 938/938 [00:20<00:00, 44.90batch/s, Train Loss=0.209, Train Acc=92]  \n"
     ]
    },
    {
     "name": "stdout",
     "output_type": "stream",
     "text": [
      "Epoch 1101\n",
      "Train Loss: 0.2088, Train Accuracy: 92.00%\n",
      "Test Loss: 0.2272, Test Accuracy: 92.40%\n",
      "\n"
     ]
    },
    {
     "name": "stderr",
     "output_type": "stream",
     "text": [
      "Epoch 1102: 100%|██████████| 938/938 [00:20<00:00, 45.04batch/s, Train Loss=0.209, Train Acc=92]  \n"
     ]
    },
    {
     "name": "stdout",
     "output_type": "stream",
     "text": [
      "Epoch 1102\n",
      "Train Loss: 0.2085, Train Accuracy: 91.97%\n",
      "Test Loss: 0.2343, Test Accuracy: 92.29%\n",
      "\n"
     ]
    },
    {
     "name": "stderr",
     "output_type": "stream",
     "text": [
      "Epoch 1103: 100%|██████████| 938/938 [00:21<00:00, 44.08batch/s, Train Loss=0.209, Train Acc=92]  \n"
     ]
    },
    {
     "name": "stdout",
     "output_type": "stream",
     "text": [
      "Epoch 1103\n",
      "Train Loss: 0.2089, Train Accuracy: 91.96%\n",
      "Test Loss: 0.2289, Test Accuracy: 92.37%\n",
      "\n"
     ]
    },
    {
     "name": "stderr",
     "output_type": "stream",
     "text": [
      "Epoch 1104: 100%|██████████| 938/938 [00:21<00:00, 44.05batch/s, Train Loss=0.21, Train Acc=91.9] \n"
     ]
    },
    {
     "name": "stdout",
     "output_type": "stream",
     "text": [
      "Epoch 1104\n",
      "Train Loss: 0.2095, Train Accuracy: 91.88%\n",
      "Test Loss: 0.2315, Test Accuracy: 92.37%\n",
      "\n"
     ]
    },
    {
     "name": "stderr",
     "output_type": "stream",
     "text": [
      "Epoch 1105: 100%|██████████| 938/938 [00:20<00:00, 44.69batch/s, Train Loss=0.209, Train Acc=92]  \n"
     ]
    },
    {
     "name": "stdout",
     "output_type": "stream",
     "text": [
      "Epoch 1105\n",
      "Train Loss: 0.2091, Train Accuracy: 91.97%\n",
      "Test Loss: 0.2319, Test Accuracy: 92.22%\n",
      "\n"
     ]
    },
    {
     "name": "stderr",
     "output_type": "stream",
     "text": [
      "Epoch 1106: 100%|██████████| 938/938 [00:21<00:00, 42.90batch/s, Train Loss=0.206, Train Acc=92.1]\n"
     ]
    },
    {
     "name": "stdout",
     "output_type": "stream",
     "text": [
      "Epoch 1106\n",
      "Train Loss: 0.2065, Train Accuracy: 92.08%\n",
      "Test Loss: 0.2377, Test Accuracy: 92.24%\n",
      "\n"
     ]
    },
    {
     "name": "stderr",
     "output_type": "stream",
     "text": [
      "Epoch 1107: 100%|██████████| 938/938 [00:21<00:00, 43.10batch/s, Train Loss=0.213, Train Acc=91.8]\n"
     ]
    },
    {
     "name": "stdout",
     "output_type": "stream",
     "text": [
      "Epoch 1107\n",
      "Train Loss: 0.2126, Train Accuracy: 91.81%\n",
      "Test Loss: 0.2290, Test Accuracy: 92.32%\n",
      "\n"
     ]
    },
    {
     "name": "stderr",
     "output_type": "stream",
     "text": [
      "Epoch 1108: 100%|██████████| 938/938 [00:21<00:00, 42.86batch/s, Train Loss=0.208, Train Acc=92]  \n"
     ]
    },
    {
     "name": "stdout",
     "output_type": "stream",
     "text": [
      "Epoch 1108\n",
      "Train Loss: 0.2077, Train Accuracy: 92.04%\n",
      "Test Loss: 0.2306, Test Accuracy: 92.21%\n",
      "\n"
     ]
    },
    {
     "name": "stderr",
     "output_type": "stream",
     "text": [
      "Epoch 1109: 100%|██████████| 938/938 [00:21<00:00, 44.22batch/s, Train Loss=0.208, Train Acc=92.1]\n"
     ]
    },
    {
     "name": "stdout",
     "output_type": "stream",
     "text": [
      "Epoch 1109\n",
      "Train Loss: 0.2081, Train Accuracy: 92.07%\n",
      "Test Loss: 0.2337, Test Accuracy: 92.24%\n",
      "\n"
     ]
    },
    {
     "name": "stderr",
     "output_type": "stream",
     "text": [
      "Epoch 1110: 100%|██████████| 938/938 [00:21<00:00, 43.30batch/s, Train Loss=0.207, Train Acc=92.1]\n"
     ]
    },
    {
     "name": "stdout",
     "output_type": "stream",
     "text": [
      "Epoch 1110\n",
      "Train Loss: 0.2073, Train Accuracy: 92.06%\n",
      "Test Loss: 0.2254, Test Accuracy: 92.46%\n",
      "\n"
     ]
    },
    {
     "name": "stderr",
     "output_type": "stream",
     "text": [
      "Epoch 1111: 100%|██████████| 938/938 [00:21<00:00, 43.77batch/s, Train Loss=0.207, Train Acc=92]  \n"
     ]
    },
    {
     "name": "stdout",
     "output_type": "stream",
     "text": [
      "Epoch 1111\n",
      "Train Loss: 0.2071, Train Accuracy: 92.03%\n",
      "Test Loss: 0.2234, Test Accuracy: 92.58%\n",
      "\n"
     ]
    },
    {
     "name": "stderr",
     "output_type": "stream",
     "text": [
      "Epoch 1112: 100%|██████████| 938/938 [00:21<00:00, 43.92batch/s, Train Loss=0.211, Train Acc=92]  \n"
     ]
    },
    {
     "name": "stdout",
     "output_type": "stream",
     "text": [
      "Epoch 1112\n",
      "Train Loss: 0.2105, Train Accuracy: 92.03%\n",
      "Test Loss: 0.2258, Test Accuracy: 92.62%\n",
      "\n"
     ]
    },
    {
     "name": "stderr",
     "output_type": "stream",
     "text": [
      "Epoch 1113: 100%|██████████| 938/938 [00:21<00:00, 43.09batch/s, Train Loss=0.207, Train Acc=92.2]\n"
     ]
    },
    {
     "name": "stdout",
     "output_type": "stream",
     "text": [
      "Epoch 1113\n",
      "Train Loss: 0.2066, Train Accuracy: 92.17%\n",
      "Test Loss: 0.2235, Test Accuracy: 92.46%\n",
      "\n"
     ]
    },
    {
     "name": "stderr",
     "output_type": "stream",
     "text": [
      "Epoch 1114: 100%|██████████| 938/938 [00:21<00:00, 43.65batch/s, Train Loss=0.211, Train Acc=91.8]\n"
     ]
    },
    {
     "name": "stdout",
     "output_type": "stream",
     "text": [
      "Epoch 1114\n",
      "Train Loss: 0.2107, Train Accuracy: 91.84%\n",
      "Test Loss: 0.2297, Test Accuracy: 92.34%\n",
      "\n"
     ]
    },
    {
     "name": "stderr",
     "output_type": "stream",
     "text": [
      "Epoch 1115: 100%|██████████| 938/938 [00:20<00:00, 44.89batch/s, Train Loss=0.205, Train Acc=92.1]\n"
     ]
    },
    {
     "name": "stdout",
     "output_type": "stream",
     "text": [
      "Epoch 1115\n",
      "Train Loss: 0.2053, Train Accuracy: 92.09%\n",
      "Test Loss: 0.2313, Test Accuracy: 92.21%\n",
      "\n"
     ]
    },
    {
     "name": "stderr",
     "output_type": "stream",
     "text": [
      "Epoch 1116: 100%|██████████| 938/938 [00:21<00:00, 43.84batch/s, Train Loss=0.208, Train Acc=92.1]\n"
     ]
    },
    {
     "name": "stdout",
     "output_type": "stream",
     "text": [
      "Epoch 1116\n",
      "Train Loss: 0.2082, Train Accuracy: 92.05%\n",
      "Test Loss: 0.2348, Test Accuracy: 92.12%\n",
      "\n"
     ]
    },
    {
     "name": "stderr",
     "output_type": "stream",
     "text": [
      "Epoch 1117: 100%|██████████| 938/938 [00:21<00:00, 44.14batch/s, Train Loss=0.206, Train Acc=92.1]\n"
     ]
    },
    {
     "name": "stdout",
     "output_type": "stream",
     "text": [
      "Epoch 1117\n",
      "Train Loss: 0.2060, Train Accuracy: 92.08%\n",
      "Test Loss: 0.2359, Test Accuracy: 92.13%\n",
      "\n"
     ]
    },
    {
     "name": "stderr",
     "output_type": "stream",
     "text": [
      "Epoch 1118: 100%|██████████| 938/938 [00:20<00:00, 45.90batch/s, Train Loss=0.208, Train Acc=92]  \n"
     ]
    },
    {
     "name": "stdout",
     "output_type": "stream",
     "text": [
      "Epoch 1118\n",
      "Train Loss: 0.2080, Train Accuracy: 92.05%\n",
      "Test Loss: 0.2323, Test Accuracy: 92.16%\n",
      "\n"
     ]
    },
    {
     "name": "stderr",
     "output_type": "stream",
     "text": [
      "Epoch 1119: 100%|██████████| 938/938 [00:20<00:00, 45.95batch/s, Train Loss=0.207, Train Acc=92.1]\n"
     ]
    },
    {
     "name": "stdout",
     "output_type": "stream",
     "text": [
      "Epoch 1119\n",
      "Train Loss: 0.2073, Train Accuracy: 92.11%\n",
      "Test Loss: 0.2282, Test Accuracy: 92.41%\n",
      "\n"
     ]
    },
    {
     "name": "stderr",
     "output_type": "stream",
     "text": [
      "Epoch 1120: 100%|██████████| 938/938 [00:20<00:00, 46.05batch/s, Train Loss=0.205, Train Acc=92.1]\n"
     ]
    },
    {
     "name": "stdout",
     "output_type": "stream",
     "text": [
      "Epoch 1120\n",
      "Train Loss: 0.2046, Train Accuracy: 92.10%\n",
      "Test Loss: 0.2345, Test Accuracy: 92.05%\n",
      "\n"
     ]
    },
    {
     "name": "stderr",
     "output_type": "stream",
     "text": [
      "Epoch 1121: 100%|██████████| 938/938 [00:20<00:00, 45.96batch/s, Train Loss=0.206, Train Acc=92.3]\n"
     ]
    },
    {
     "name": "stdout",
     "output_type": "stream",
     "text": [
      "Epoch 1121\n",
      "Train Loss: 0.2056, Train Accuracy: 92.25%\n",
      "Test Loss: 0.2298, Test Accuracy: 92.37%\n",
      "\n"
     ]
    },
    {
     "name": "stderr",
     "output_type": "stream",
     "text": [
      "Epoch 1122: 100%|██████████| 938/938 [00:20<00:00, 45.77batch/s, Train Loss=0.209, Train Acc=92]  \n"
     ]
    },
    {
     "name": "stdout",
     "output_type": "stream",
     "text": [
      "Epoch 1122\n",
      "Train Loss: 0.2091, Train Accuracy: 92.01%\n",
      "Test Loss: 0.2275, Test Accuracy: 92.26%\n",
      "\n"
     ]
    },
    {
     "name": "stderr",
     "output_type": "stream",
     "text": [
      "Epoch 1123: 100%|██████████| 938/938 [00:20<00:00, 45.77batch/s, Train Loss=0.209, Train Acc=91.8]\n"
     ]
    },
    {
     "name": "stdout",
     "output_type": "stream",
     "text": [
      "Epoch 1123\n",
      "Train Loss: 0.2095, Train Accuracy: 91.78%\n",
      "Test Loss: 0.2308, Test Accuracy: 92.36%\n",
      "\n"
     ]
    },
    {
     "name": "stderr",
     "output_type": "stream",
     "text": [
      "Epoch 1124: 100%|██████████| 938/938 [00:21<00:00, 44.09batch/s, Train Loss=0.206, Train Acc=92.1]\n"
     ]
    },
    {
     "name": "stdout",
     "output_type": "stream",
     "text": [
      "Epoch 1124\n",
      "Train Loss: 0.2062, Train Accuracy: 92.07%\n",
      "Test Loss: 0.2360, Test Accuracy: 92.29%\n",
      "\n"
     ]
    },
    {
     "name": "stderr",
     "output_type": "stream",
     "text": [
      "Epoch 1125: 100%|██████████| 938/938 [00:21<00:00, 43.08batch/s, Train Loss=0.208, Train Acc=92.1]\n"
     ]
    },
    {
     "name": "stdout",
     "output_type": "stream",
     "text": [
      "Epoch 1125\n",
      "Train Loss: 0.2080, Train Accuracy: 92.09%\n",
      "Test Loss: 0.2313, Test Accuracy: 92.42%\n",
      "\n"
     ]
    },
    {
     "name": "stderr",
     "output_type": "stream",
     "text": [
      "Epoch 1126: 100%|██████████| 938/938 [00:21<00:00, 44.35batch/s, Train Loss=0.209, Train Acc=92.1]\n"
     ]
    },
    {
     "name": "stdout",
     "output_type": "stream",
     "text": [
      "Epoch 1126\n",
      "Train Loss: 0.2087, Train Accuracy: 92.07%\n",
      "Test Loss: 0.2296, Test Accuracy: 92.51%\n",
      "\n"
     ]
    },
    {
     "name": "stderr",
     "output_type": "stream",
     "text": [
      "Epoch 1127: 100%|██████████| 938/938 [00:21<00:00, 43.99batch/s, Train Loss=0.205, Train Acc=92.2]\n"
     ]
    },
    {
     "name": "stdout",
     "output_type": "stream",
     "text": [
      "Epoch 1127\n",
      "Train Loss: 0.2047, Train Accuracy: 92.17%\n",
      "Test Loss: 0.2314, Test Accuracy: 92.26%\n",
      "\n"
     ]
    },
    {
     "name": "stderr",
     "output_type": "stream",
     "text": [
      "Epoch 1128: 100%|██████████| 938/938 [00:21<00:00, 44.42batch/s, Train Loss=0.205, Train Acc=92]  \n"
     ]
    },
    {
     "name": "stdout",
     "output_type": "stream",
     "text": [
      "Epoch 1128\n",
      "Train Loss: 0.2053, Train Accuracy: 92.03%\n",
      "Test Loss: 0.2260, Test Accuracy: 92.60%\n",
      "\n"
     ]
    },
    {
     "name": "stderr",
     "output_type": "stream",
     "text": [
      "Epoch 1129: 100%|██████████| 938/938 [00:20<00:00, 45.35batch/s, Train Loss=0.206, Train Acc=92]  \n"
     ]
    },
    {
     "name": "stdout",
     "output_type": "stream",
     "text": [
      "Epoch 1129\n",
      "Train Loss: 0.2056, Train Accuracy: 92.04%\n",
      "Test Loss: 0.2323, Test Accuracy: 92.48%\n",
      "\n"
     ]
    },
    {
     "name": "stderr",
     "output_type": "stream",
     "text": [
      "Epoch 1130: 100%|██████████| 938/938 [00:21<00:00, 44.38batch/s, Train Loss=0.21, Train Acc=91.9] \n"
     ]
    },
    {
     "name": "stdout",
     "output_type": "stream",
     "text": [
      "Epoch 1130\n",
      "Train Loss: 0.2096, Train Accuracy: 91.94%\n",
      "Test Loss: 0.2310, Test Accuracy: 92.43%\n",
      "\n"
     ]
    },
    {
     "name": "stderr",
     "output_type": "stream",
     "text": [
      "Epoch 1131: 100%|██████████| 938/938 [00:20<00:00, 44.95batch/s, Train Loss=0.203, Train Acc=92.1]\n"
     ]
    },
    {
     "name": "stdout",
     "output_type": "stream",
     "text": [
      "Epoch 1131\n",
      "Train Loss: 0.2031, Train Accuracy: 92.13%\n",
      "Test Loss: 0.2359, Test Accuracy: 92.38%\n",
      "\n"
     ]
    },
    {
     "name": "stderr",
     "output_type": "stream",
     "text": [
      "Epoch 1132:  82%|████████▏ | 772/938 [00:17<00:03, 43.48batch/s, Train Loss=0.205, Train Acc=92.1]\n"
     ]
    },
    {
     "ename": "KeyboardInterrupt",
     "evalue": "",
     "output_type": "error",
     "traceback": [
      "\u001b[0;31m---------------------------------------------------------------------------\u001b[0m",
      "\u001b[0;31mKeyboardInterrupt\u001b[0m                         Traceback (most recent call last)",
      "\u001b[1;32m/home/marco/Desktop/MNIST_Dataset/240705_ViT _vit adjusted.ipynb Cell 21\u001b[0m line \u001b[0;36m3\n\u001b[1;32m      <a href='vscode-notebook-cell:/home/marco/Desktop/MNIST_Dataset/240705_ViT%20_vit%20adjusted.ipynb#X26sZmlsZQ%3D%3D?line=0'>1</a>\u001b[0m epochs \u001b[39m=\u001b[39m \u001b[39m3000\u001b[39m\n\u001b[1;32m      <a href='vscode-notebook-cell:/home/marco/Desktop/MNIST_Dataset/240705_ViT%20_vit%20adjusted.ipynb#X26sZmlsZQ%3D%3D?line=1'>2</a>\u001b[0m \u001b[39mfor\u001b[39;00m epoch \u001b[39min\u001b[39;00m \u001b[39mrange\u001b[39m(\u001b[39m0\u001b[39m, epochs \u001b[39m+\u001b[39m \u001b[39m1\u001b[39m):\n\u001b[0;32m----> <a href='vscode-notebook-cell:/home/marco/Desktop/MNIST_Dataset/240705_ViT%20_vit%20adjusted.ipynb#X26sZmlsZQ%3D%3D?line=2'>3</a>\u001b[0m     train_loss, train_accuracy \u001b[39m=\u001b[39m train(model, device, train_loader, optimizer, criterion, epoch)\n\u001b[1;32m      <a href='vscode-notebook-cell:/home/marco/Desktop/MNIST_Dataset/240705_ViT%20_vit%20adjusted.ipynb#X26sZmlsZQ%3D%3D?line=3'>4</a>\u001b[0m     test_loss, test_accuracy \u001b[39m=\u001b[39m test(model, device, test_loader, criterion, epoch)\n\u001b[1;32m      <a href='vscode-notebook-cell:/home/marco/Desktop/MNIST_Dataset/240705_ViT%20_vit%20adjusted.ipynb#X26sZmlsZQ%3D%3D?line=4'>5</a>\u001b[0m     \u001b[39mprint\u001b[39m(\u001b[39mf\u001b[39m\u001b[39m\"\u001b[39m\u001b[39mEpoch \u001b[39m\u001b[39m{\u001b[39;00mepoch\u001b[39m}\u001b[39;00m\u001b[39m\"\u001b[39m)\n",
      "\u001b[1;32m/home/marco/Desktop/MNIST_Dataset/240705_ViT _vit adjusted.ipynb Cell 21\u001b[0m line \u001b[0;36m1\n\u001b[1;32m     <a href='vscode-notebook-cell:/home/marco/Desktop/MNIST_Dataset/240705_ViT%20_vit%20adjusted.ipynb#X26sZmlsZQ%3D%3D?line=11'>12</a>\u001b[0m output \u001b[39m=\u001b[39m model(data)\n\u001b[1;32m     <a href='vscode-notebook-cell:/home/marco/Desktop/MNIST_Dataset/240705_ViT%20_vit%20adjusted.ipynb#X26sZmlsZQ%3D%3D?line=12'>13</a>\u001b[0m loss \u001b[39m=\u001b[39m criterion(output, target)\n\u001b[0;32m---> <a href='vscode-notebook-cell:/home/marco/Desktop/MNIST_Dataset/240705_ViT%20_vit%20adjusted.ipynb#X26sZmlsZQ%3D%3D?line=13'>14</a>\u001b[0m loss\u001b[39m.\u001b[39;49mbackward()\n\u001b[1;32m     <a href='vscode-notebook-cell:/home/marco/Desktop/MNIST_Dataset/240705_ViT%20_vit%20adjusted.ipynb#X26sZmlsZQ%3D%3D?line=14'>15</a>\u001b[0m optimizer\u001b[39m.\u001b[39mstep()\n\u001b[1;32m     <a href='vscode-notebook-cell:/home/marco/Desktop/MNIST_Dataset/240705_ViT%20_vit%20adjusted.ipynb#X26sZmlsZQ%3D%3D?line=15'>16</a>\u001b[0m train_loss \u001b[39m+\u001b[39m\u001b[39m=\u001b[39m loss\u001b[39m.\u001b[39mitem()\n",
      "File \u001b[0;32m~/miniconda3/envs/pytorch-env/lib/python3.10/site-packages/torch/_tensor.py:487\u001b[0m, in \u001b[0;36mTensor.backward\u001b[0;34m(self, gradient, retain_graph, create_graph, inputs)\u001b[0m\n\u001b[1;32m    477\u001b[0m \u001b[39mif\u001b[39;00m has_torch_function_unary(\u001b[39mself\u001b[39m):\n\u001b[1;32m    478\u001b[0m     \u001b[39mreturn\u001b[39;00m handle_torch_function(\n\u001b[1;32m    479\u001b[0m         Tensor\u001b[39m.\u001b[39mbackward,\n\u001b[1;32m    480\u001b[0m         (\u001b[39mself\u001b[39m,),\n\u001b[0;32m   (...)\u001b[0m\n\u001b[1;32m    485\u001b[0m         inputs\u001b[39m=\u001b[39minputs,\n\u001b[1;32m    486\u001b[0m     )\n\u001b[0;32m--> 487\u001b[0m torch\u001b[39m.\u001b[39;49mautograd\u001b[39m.\u001b[39;49mbackward(\n\u001b[1;32m    488\u001b[0m     \u001b[39mself\u001b[39;49m, gradient, retain_graph, create_graph, inputs\u001b[39m=\u001b[39;49minputs\n\u001b[1;32m    489\u001b[0m )\n",
      "File \u001b[0;32m~/miniconda3/envs/pytorch-env/lib/python3.10/site-packages/torch/autograd/__init__.py:200\u001b[0m, in \u001b[0;36mbackward\u001b[0;34m(tensors, grad_tensors, retain_graph, create_graph, grad_variables, inputs)\u001b[0m\n\u001b[1;32m    195\u001b[0m     retain_graph \u001b[39m=\u001b[39m create_graph\n\u001b[1;32m    197\u001b[0m \u001b[39m# The reason we repeat same the comment below is that\u001b[39;00m\n\u001b[1;32m    198\u001b[0m \u001b[39m# some Python versions print out the first line of a multi-line function\u001b[39;00m\n\u001b[1;32m    199\u001b[0m \u001b[39m# calls in the traceback and some print out the last line\u001b[39;00m\n\u001b[0;32m--> 200\u001b[0m Variable\u001b[39m.\u001b[39;49m_execution_engine\u001b[39m.\u001b[39;49mrun_backward(  \u001b[39m# Calls into the C++ engine to run the backward pass\u001b[39;49;00m\n\u001b[1;32m    201\u001b[0m     tensors, grad_tensors_, retain_graph, create_graph, inputs,\n\u001b[1;32m    202\u001b[0m     allow_unreachable\u001b[39m=\u001b[39;49m\u001b[39mTrue\u001b[39;49;00m, accumulate_grad\u001b[39m=\u001b[39;49m\u001b[39mTrue\u001b[39;49;00m)\n",
      "\u001b[0;31mKeyboardInterrupt\u001b[0m: "
     ]
    }
   ],
   "source": [
    "\n",
    "epochs = 3000\n",
    "for epoch in range(0, epochs + 1):\n",
    "    train_loss, train_accuracy = train(model, device, train_loader, optimizer, criterion, epoch)\n",
    "    test_loss, test_accuracy = test(model, device, test_loader, criterion, epoch)\n",
    "    print(f\"Epoch {epoch}\")\n",
    "    print(f\"Train Loss: {train_loss:.4f}, Train Accuracy: {train_accuracy:.2f}%\")\n",
    "    print(f\"Test Loss: {test_loss:.4f}, Test Accuracy: {test_accuracy:.2f}%\")\n",
    "    print()\n",
    "\n",
    "\n",
    "writer.close()"
   ]
  },
  {
   "cell_type": "code",
   "execution_count": 29,
   "metadata": {},
   "outputs": [],
   "source": [
    "def save_model(model, optimizer, epoch, loss, accuracy, filename):\n",
    "    torch.save({\n",
    "        'epoch': epoch,\n",
    "        'model_state_dict': model.state_dict(),\n",
    "        'optimizer_state_dict': optimizer.state_dict(),\n",
    "        'loss': loss,\n",
    "        'accuracy': accuracy\n",
    "    }, filename)\n"
   ]
  },
  {
   "cell_type": "code",
   "execution_count": 30,
   "metadata": {},
   "outputs": [],
   "source": [
    "save_model(model, optimizer, epochs, test_loss, test_accuracy, '2_embeddings_xx.pth')"
   ]
  },
  {
   "cell_type": "code",
   "execution_count": 21,
   "metadata": {},
   "outputs": [],
   "source": [
    "def load_model(model, optimizer, filename):\n",
    "    checkpoint = torch.load(filename)\n",
    "    model.load_state_dict(checkpoint['model_state_dict'])\n",
    "    optimizer.load_state_dict(checkpoint['optimizer_state_dict'])\n",
    "    epoch = checkpoint['epoch']\n",
    "    loss = checkpoint['loss']\n",
    "    accuracy = checkpoint['accuracy']\n",
    "    return model, optimizer, epoch, loss, accuracy\n",
    "\n",
    "# Usage\n",
    "model, optimizer, epoch, loss, accuracy = load_model(model, optimizer, 'final_model_epoch89.pth')\n",
    "model = model.to(device)"
   ]
  }
 ],
 "metadata": {
  "kernelspec": {
   "display_name": "vqvae",
   "language": "python",
   "name": "python3"
  },
  "language_info": {
   "codemirror_mode": {
    "name": "ipython",
    "version": 3
   },
   "file_extension": ".py",
   "mimetype": "text/x-python",
   "name": "python",
   "nbconvert_exporter": "python",
   "pygments_lexer": "ipython3",
   "version": "3.10.9"
  }
 },
 "nbformat": 4,
 "nbformat_minor": 2
}
