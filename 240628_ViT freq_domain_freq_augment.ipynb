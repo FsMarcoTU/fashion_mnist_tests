{
 "cells": [
  {
   "cell_type": "code",
   "execution_count": 1,
   "metadata": {},
   "outputs": [],
   "source": [
    "from vit_pytorch import ViT\n",
    "import torch\n",
    "from torchvision import datasets, transforms\n",
    "from torch.utils.data import Dataset, DataLoader\n",
    "import numpy as np\n",
    "import matplotlib.pyplot as plt\n",
    "import random\n",
    "import torch.nn as nn\n",
    "import torch.optim as optim\n",
    "import torch.nn.functional as F\n",
    "from tqdm import tqdm\n",
    "from torch.utils.tensorboard import SummaryWriter\n",
    "from frequency_augmentations import rearrange_matrix, concentric_square_bandwidth_filter, phase_shift_fourier, mask_frequency_spectrum, mask_frequency_spectrum_patches"
   ]
  },
  {
   "cell_type": "code",
   "execution_count": 2,
   "metadata": {},
   "outputs": [],
   "source": [
    "\n",
    "transform = transforms.Compose([transforms.ToTensor()])\n",
    "train_data = datasets.FashionMNIST(root='data', train=True, download=True, transform=transform)\n",
    "test_data = datasets.FashionMNIST(root='data', train=False, download=True, transform=transform)"
   ]
  },
  {
   "cell_type": "code",
   "execution_count": 3,
   "metadata": {},
   "outputs": [],
   "source": [
    "def fft_transform(data):\n",
    "    processed_data = []\n",
    "    for img, _ in data:\n",
    "        img_np = img.numpy().squeeze()\n",
    "        fft = np.fft.fft2(img_np)\n",
    "        processed_data.append((img_np, fft))\n",
    "    return processed_data\n",
    "\n",
    "train_fft = fft_transform(train_data)\n",
    "test_fft = fft_transform(test_data)\n",
    "\n",
    "def normalize_fft(fft_data):\n",
    "    normalized_data = []\n",
    "    for img_np, fft in fft_data:\n",
    "        # Calculate magnitude and phase\n",
    "        magnitude = np.abs(fft)\n",
    "        phase = np.angle(fft)\n",
    "        \n",
    "        # Normalize magnitude to [0, 1] range\n",
    "        magnitude_min = np.min(magnitude)\n",
    "        magnitude_max = np.max(magnitude)\n",
    "        normalized_magnitude = (magnitude - magnitude_min) / (magnitude_max - magnitude_min)\n",
    "        \n",
    "        # Rebuild complex number using normalized magnitude and original phase\n",
    "        normalized_fft = normalized_magnitude * np.exp(1j * phase)\n",
    "        \n",
    "        normalized_data.append((img_np, normalized_fft))\n",
    "    \n",
    "    return normalized_data\n",
    "\n",
    "# train_fft = normalize_fft(train_fft)\n",
    "# test_fft = normalize_fft(test_fft)"
   ]
  },
  {
   "cell_type": "code",
   "execution_count": 4,
   "metadata": {},
   "outputs": [
    {
     "name": "stdout",
     "output_type": "stream",
     "text": [
      "1.0 0.0 (299.0078472062014+0j) (-105.1554452474781-85.19899857776973j)\n"
     ]
    },
    {
     "data": {
      "image/png": "[encoded data removed]",
      "text/plain": [
       "<Figure size 640x480 with 1 Axes>"
      ]
     },
     "metadata": {},
     "output_type": "display_data"
    }
   ],
   "source": [
    "plt.imshow(np.abs(train_fft[0])[1])\n",
    "print(train_fft[0][0].max(), train_fft[0][0].min(), train_fft[0][1].max(), train_fft[0][1].min())"
   ]
  },
  {
   "cell_type": "code",
   "execution_count": 38,
   "metadata": {},
   "outputs": [],
   "source": [
    "class CustomTransform:\n",
    "    def __init__(self, is_training=True):\n",
    "        self.is_training = is_training\n",
    "        \n",
    "    def __call__(self, sample):\n",
    "        img, fft = torch.tensor(np.array(sample))\n",
    "        fft = torch.fft.fftshift(fft)\n",
    "        if self.is_training: \n",
    "            fft = phase_shift_fourier(fft)\n",
    "            \n",
    "            # Choose a masking\n",
    "            augmentation_method = random.choice([1, 2, 3])\n",
    "    \n",
    "            if augmentation_method == 1:\n",
    "                fft = mask_frequency_spectrum(fft, 75)\n",
    "            elif augmentation_method == 2:\n",
    "                fft = concentric_square_bandwidth_filter(fft, min_size=0, max_size=None, band_width=None)\n",
    "            else:\n",
    "                fft = mask_frequency_spectrum_patches(fft, patch_size=7, max_mask_percentage=75)\n",
    "\n",
    "        # Split the complex FFT into real and imaginary parts\n",
    "        fft_real = torch.real(fft)\n",
    "        fft_imag = torch.imag(fft)\n",
    "        fft_stacked = torch.stack([fft_real, fft_imag])\n",
    "\n",
    "        \n",
    "        return fft_stacked.float()"
   ]
  },
  {
   "cell_type": "code",
   "execution_count": 39,
   "metadata": {},
   "outputs": [],
   "source": [
    "class ComplexDataset(Dataset):\n",
    "    def __init__(self, data, labels, is_training=True):\n",
    "        self.data = data\n",
    "        self.labels = labels\n",
    "        self.transform = CustomTransform(is_training)\n",
    "        \n",
    "    def __len__(self):\n",
    "        return len(self.data)\n",
    "\n",
    "    def __getitem__(self, idx):\n",
    "        sample = self.data[idx]\n",
    "        label = self.labels[idx]\n",
    "        sample = self.transform(sample)\n",
    "        return sample, label"
   ]
  },
  {
   "cell_type": "code",
   "execution_count": 40,
   "metadata": {},
   "outputs": [
    {
     "name": "stdout",
     "output_type": "stream",
     "text": [
      "938\n"
     ]
    }
   ],
   "source": [
    "# Create the custom dataset\n",
    "train_labels = [label for _, label in train_data]\n",
    "train_dataset = ComplexDataset(train_fft, train_labels, is_training=True)\n",
    "\n",
    "test_labels = [label for _, label in test_data]\n",
    "test_dataset = ComplexDataset(test_fft, test_labels, is_training=False)\n",
    "\n",
    "# Create data loaders\n",
    "train_loader = DataLoader(train_dataset, batch_size=64, shuffle=True)\n",
    "test_loader = DataLoader(test_dataset, batch_size=64, shuffle=False)\n",
    "\n",
    "print(len(train_loader))"
   ]
  },
  {
   "cell_type": "code",
   "execution_count": 54,
   "metadata": {},
   "outputs": [],
   "source": [
    "item = next(iter(train_loader))"
   ]
  },
  {
   "cell_type": "code",
   "execution_count": 56,
   "metadata": {},
   "outputs": [
    {
     "name": "stdout",
     "output_type": "stream",
     "text": [
      "torch.Size([64, 2, 28, 28])\n"
     ]
    },
    {
     "data": {
      "text/plain": [
       "<matplotlib.image.AxesImage at 0x7beebcfc9d20>"
      ]
     },
     "execution_count": 56,
     "metadata": {},
     "output_type": "execute_result"
    },
    {
     "data": {
      "image/png": "[encoded data removed]",
      "text/plain": [
       "<Figure size 640x480 with 1 Axes>"
      ]
     },
     "metadata": {},
     "output_type": "display_data"
    }
   ],
   "source": [
    "complex = torch.complex(item[0][0,0,:,:], item[0][0,1,:,:])\n",
    "print(item[0].shape)\n",
    "plt.imshow(torch.abs((complex))**(1/5), cmap=\"gray\")"
   ]
  },
  {
   "cell_type": "code",
   "execution_count": 57,
   "metadata": {},
   "outputs": [
    {
     "name": "stdout",
     "output_type": "stream",
     "text": [
      "torch.float32\n"
     ]
    }
   ],
   "source": [
    "print(item[0][0][0][0].dtype)"
   ]
  },
  {
   "cell_type": "code",
   "execution_count": 58,
   "metadata": {},
   "outputs": [
    {
     "data": {
      "image/png": "[encoded data removed]",
      "text/plain": [
       "<Figure size 1200x500 with 3 Axes>"
      ]
     },
     "metadata": {},
     "output_type": "display_data"
    }
   ],
   "source": [
    "\n",
    "# Create a figure with two subplots\n",
    "fig, (ax1, ax2) = plt.subplots(1, 2, figsize=(12, 5))\n",
    "\n",
    "# Plot the image\n",
    "im = ax1.imshow(item[0][0,1,:,:], cmap=\"gray\")\n",
    "ax1.set_title(\"Image\")\n",
    "fig.colorbar(im, ax=ax1)\n",
    "\n",
    "# Plot the histogram\n",
    "ax2.hist(item[0][0,1,:,:].ravel(), bins=50, range=(0, 1))\n",
    "ax2.set_title(\"Histogram\")\n",
    "ax2.set_xlabel(\"Pixel Value\")\n",
    "ax2.set_ylabel(\"Frequency\")\n",
    "\n",
    "plt.tight_layout()\n",
    "plt.show()"
   ]
  },
  {
   "cell_type": "code",
   "execution_count": 59,
   "metadata": {},
   "outputs": [],
   "source": [
    "model = ViT(\n",
    "    image_size = 28,\n",
    "    patch_size = 7,\n",
    "    num_classes = 10,\n",
    "    dim = 256,\n",
    "    depth = 6,\n",
    "    heads = 12,\n",
    "    mlp_dim = 512,\n",
    "    dropout = 0.1,\n",
    "    emb_dropout = 0.1,\n",
    "    channels = 2\n",
    ")\n",
    "\n",
    "img = torch.randn(1, 2, 28, 28)\n",
    "\n",
    "preds = model(img) # (1, 1000)"
   ]
  },
  {
   "cell_type": "code",
   "execution_count": 60,
   "metadata": {},
   "outputs": [
    {
     "name": "stdout",
     "output_type": "stream",
     "text": [
      "Total trainable parameters: 6337486\n"
     ]
    }
   ],
   "source": [
    "total_params = sum(p.numel() for p in model.parameters() if p.requires_grad)\n",
    "print(f\"Total trainable parameters: {total_params}\")"
   ]
  },
  {
   "cell_type": "code",
   "execution_count": 61,
   "metadata": {},
   "outputs": [],
   "source": [
    "criterion = nn.CrossEntropyLoss()\n",
    "optimizer = optim.Adam(model.parameters(), lr=1e-4)"
   ]
  },
  {
   "cell_type": "code",
   "execution_count": 62,
   "metadata": {},
   "outputs": [],
   "source": [
    "writer = SummaryWriter('runs/experiment_1') \n",
    "\n",
    "def train(model, device, train_loader, optimizer, criterion, epoch):\n",
    "    model.train()\n",
    "    train_loss = 0\n",
    "    correct = 0\n",
    "    total = 0\n",
    "    progress_bar = tqdm(train_loader, desc=f\"Epoch {epoch}\", unit=\"batch\")\n",
    "    for batch_idx, (data, target) in enumerate(progress_bar):\n",
    "        data, target = data.to(device), target.to(device)\n",
    "        optimizer.zero_grad()\n",
    "        output = model(data)\n",
    "        loss = criterion(output, target)\n",
    "        loss.backward()\n",
    "        optimizer.step()\n",
    "        train_loss += loss.item()\n",
    "        _, predicted = output.max(1)\n",
    "        total += target.size(0)\n",
    "        correct += predicted.eq(target).sum().item()\n",
    "        progress_bar.set_postfix({\"Train Loss\": train_loss / (batch_idx + 1), \"Train Acc\": 100. * correct / total})\n",
    "        \n",
    "        # Log batch-level metrics\n",
    "        writer.add_scalar('Loss/Train Batch', loss.item(), epoch * len(train_loader) + batch_idx)\n",
    "        writer.add_scalar('Accuracy/Train Batch', 100. * correct / total, epoch * len(train_loader) + batch_idx)\n",
    "    \n",
    "    train_loss /= len(train_loader)\n",
    "    train_accuracy = 100. * correct / total\n",
    "    \n",
    "    # Log epoch-level metrics\n",
    "    writer.add_scalar('Loss/Train Epoch', train_loss, epoch)\n",
    "    writer.add_scalar('Accuracy/Train Epoch', train_accuracy, epoch)\n",
    "    \n",
    "    return train_loss, train_accuracy\n",
    "\n",
    "def test(model, device, test_loader, criterion, epoch):\n",
    "    model.eval()\n",
    "    test_loss = 0\n",
    "    correct = 0\n",
    "    total = 0\n",
    "    with torch.no_grad():\n",
    "        for data, target in test_loader:\n",
    "            data, target = data.to(device), target.to(device)\n",
    "            output = model(data)\n",
    "            test_loss += criterion(output, target).item()\n",
    "            _, predicted = output.max(1)\n",
    "            total += target.size(0)\n",
    "            correct += predicted.eq(target).sum().item()\n",
    "    \n",
    "    test_loss /= len(test_loader)\n",
    "    test_accuracy = 100. * correct / total\n",
    "    \n",
    "    # Log epoch-level metrics\n",
    "    writer.add_scalar('Loss/Test', test_loss, epoch)\n",
    "    writer.add_scalar('Accuracy/Test', test_accuracy, epoch)\n",
    "    \n",
    "    return test_loss, test_accuracy\n"
   ]
  },
  {
   "cell_type": "code",
   "execution_count": 63,
   "metadata": {},
   "outputs": [
    {
     "name": "stdout",
     "output_type": "stream",
     "text": [
      "cuda\n"
     ]
    }
   ],
   "source": [
    "device = torch.device(\"cuda\" if torch.cuda.is_available() else \"cpu\")\n",
    "print(device)"
   ]
  },
  {
   "cell_type": "code",
   "execution_count": 65,
   "metadata": {},
   "outputs": [
    {
     "name": "stderr",
     "output_type": "stream",
     "text": [
      "Epoch 689: 100%|██████████| 938/938 [00:17<00:00, 53.74batch/s, Train Loss=0.449, Train Acc=83]  \n"
     ]
    },
    {
     "name": "stdout",
     "output_type": "stream",
     "text": [
      "Epoch 689\n",
      "Train Loss: 0.4494, Train Accuracy: 83.02%\n",
      "Test Loss: 0.4303, Test Accuracy: 83.78%\n",
      "\n"
     ]
    },
    {
     "name": "stderr",
     "output_type": "stream",
     "text": [
      "Epoch 690: 100%|██████████| 938/938 [00:16<00:00, 55.19batch/s, Train Loss=0.451, Train Acc=82.9]\n"
     ]
    },
    {
     "name": "stdout",
     "output_type": "stream",
     "text": [
      "Epoch 690\n",
      "Train Loss: 0.4513, Train Accuracy: 82.92%\n",
      "Test Loss: 0.4161, Test Accuracy: 83.95%\n",
      "\n"
     ]
    },
    {
     "name": "stderr",
     "output_type": "stream",
     "text": [
      "Epoch 691: 100%|██████████| 938/938 [00:16<00:00, 55.22batch/s, Train Loss=0.449, Train Acc=83]  \n"
     ]
    },
    {
     "name": "stdout",
     "output_type": "stream",
     "text": [
      "Epoch 691\n",
      "Train Loss: 0.4488, Train Accuracy: 83.04%\n",
      "Test Loss: 0.4062, Test Accuracy: 84.16%\n",
      "\n"
     ]
    },
    {
     "name": "stderr",
     "output_type": "stream",
     "text": [
      "Epoch 692: 100%|██████████| 938/938 [00:16<00:00, 55.18batch/s, Train Loss=0.446, Train Acc=83.3]\n"
     ]
    },
    {
     "name": "stdout",
     "output_type": "stream",
     "text": [
      "Epoch 692\n",
      "Train Loss: 0.4460, Train Accuracy: 83.28%\n",
      "Test Loss: 0.4040, Test Accuracy: 84.58%\n",
      "\n"
     ]
    },
    {
     "name": "stderr",
     "output_type": "stream",
     "text": [
      "Epoch 693: 100%|██████████| 938/938 [00:16<00:00, 55.19batch/s, Train Loss=0.45, Train Acc=83]   \n"
     ]
    },
    {
     "name": "stdout",
     "output_type": "stream",
     "text": [
      "Epoch 693\n",
      "Train Loss: 0.4496, Train Accuracy: 83.01%\n",
      "Test Loss: 0.4113, Test Accuracy: 84.24%\n",
      "\n"
     ]
    },
    {
     "name": "stderr",
     "output_type": "stream",
     "text": [
      "Epoch 694: 100%|██████████| 938/938 [00:17<00:00, 55.13batch/s, Train Loss=0.448, Train Acc=83]  \n"
     ]
    },
    {
     "name": "stdout",
     "output_type": "stream",
     "text": [
      "Epoch 694\n",
      "Train Loss: 0.4481, Train Accuracy: 82.97%\n",
      "Test Loss: 0.4112, Test Accuracy: 84.31%\n",
      "\n"
     ]
    },
    {
     "name": "stderr",
     "output_type": "stream",
     "text": [
      "Epoch 695: 100%|██████████| 938/938 [00:16<00:00, 55.22batch/s, Train Loss=0.446, Train Acc=83.1]\n"
     ]
    },
    {
     "name": "stdout",
     "output_type": "stream",
     "text": [
      "Epoch 695\n",
      "Train Loss: 0.4465, Train Accuracy: 83.14%\n",
      "Test Loss: 0.4011, Test Accuracy: 84.75%\n",
      "\n"
     ]
    },
    {
     "name": "stderr",
     "output_type": "stream",
     "text": [
      "Epoch 696: 100%|██████████| 938/938 [00:17<00:00, 55.16batch/s, Train Loss=0.44, Train Acc=83.4] \n"
     ]
    },
    {
     "name": "stdout",
     "output_type": "stream",
     "text": [
      "Epoch 696\n",
      "Train Loss: 0.4397, Train Accuracy: 83.36%\n",
      "Test Loss: 0.4095, Test Accuracy: 84.20%\n",
      "\n"
     ]
    },
    {
     "name": "stderr",
     "output_type": "stream",
     "text": [
      "Epoch 697: 100%|██████████| 938/938 [00:16<00:00, 55.30batch/s, Train Loss=0.442, Train Acc=83.3]\n"
     ]
    },
    {
     "name": "stdout",
     "output_type": "stream",
     "text": [
      "Epoch 697\n",
      "Train Loss: 0.4420, Train Accuracy: 83.28%\n",
      "Test Loss: 0.4133, Test Accuracy: 84.31%\n",
      "\n"
     ]
    },
    {
     "name": "stderr",
     "output_type": "stream",
     "text": [
      "Epoch 698: 100%|██████████| 938/938 [00:17<00:00, 55.15batch/s, Train Loss=0.44, Train Acc=83.3] \n"
     ]
    },
    {
     "name": "stdout",
     "output_type": "stream",
     "text": [
      "Epoch 698\n",
      "Train Loss: 0.4402, Train Accuracy: 83.30%\n",
      "Test Loss: 0.4193, Test Accuracy: 84.37%\n",
      "\n"
     ]
    },
    {
     "name": "stderr",
     "output_type": "stream",
     "text": [
      "Epoch 699: 100%|██████████| 938/938 [00:17<00:00, 55.14batch/s, Train Loss=0.439, Train Acc=83.4]\n"
     ]
    },
    {
     "name": "stdout",
     "output_type": "stream",
     "text": [
      "Epoch 699\n",
      "Train Loss: 0.4387, Train Accuracy: 83.41%\n",
      "Test Loss: 0.4224, Test Accuracy: 83.83%\n",
      "\n"
     ]
    },
    {
     "name": "stderr",
     "output_type": "stream",
     "text": [
      "Epoch 700: 100%|██████████| 938/938 [00:17<00:00, 55.13batch/s, Train Loss=0.437, Train Acc=83.5]\n"
     ]
    },
    {
     "name": "stdout",
     "output_type": "stream",
     "text": [
      "Epoch 700\n",
      "Train Loss: 0.4368, Train Accuracy: 83.48%\n",
      "Test Loss: 0.4107, Test Accuracy: 84.86%\n",
      "\n"
     ]
    },
    {
     "name": "stderr",
     "output_type": "stream",
     "text": [
      "Epoch 701: 100%|██████████| 938/938 [00:16<00:00, 55.27batch/s, Train Loss=0.44, Train Acc=83.3] \n"
     ]
    },
    {
     "name": "stdout",
     "output_type": "stream",
     "text": [
      "Epoch 701\n",
      "Train Loss: 0.4399, Train Accuracy: 83.32%\n",
      "Test Loss: 0.4060, Test Accuracy: 84.79%\n",
      "\n"
     ]
    },
    {
     "name": "stderr",
     "output_type": "stream",
     "text": [
      "Epoch 702: 100%|██████████| 938/938 [00:17<00:00, 55.10batch/s, Train Loss=0.438, Train Acc=83.3]\n"
     ]
    },
    {
     "name": "stdout",
     "output_type": "stream",
     "text": [
      "Epoch 702\n",
      "Train Loss: 0.4385, Train Accuracy: 83.35%\n",
      "Test Loss: 0.4019, Test Accuracy: 85.03%\n",
      "\n"
     ]
    },
    {
     "name": "stderr",
     "output_type": "stream",
     "text": [
      "Epoch 703: 100%|██████████| 938/938 [00:16<00:00, 55.28batch/s, Train Loss=0.434, Train Acc=83.5]\n"
     ]
    },
    {
     "name": "stdout",
     "output_type": "stream",
     "text": [
      "Epoch 703\n",
      "Train Loss: 0.4337, Train Accuracy: 83.48%\n",
      "Test Loss: 0.4174, Test Accuracy: 84.39%\n",
      "\n"
     ]
    },
    {
     "name": "stderr",
     "output_type": "stream",
     "text": [
      "Epoch 704: 100%|██████████| 938/938 [00:17<00:00, 55.17batch/s, Train Loss=0.436, Train Acc=83.5]\n"
     ]
    },
    {
     "name": "stdout",
     "output_type": "stream",
     "text": [
      "Epoch 704\n",
      "Train Loss: 0.4356, Train Accuracy: 83.50%\n",
      "Test Loss: 0.4041, Test Accuracy: 84.58%\n",
      "\n"
     ]
    },
    {
     "name": "stderr",
     "output_type": "stream",
     "text": [
      "Epoch 705: 100%|██████████| 938/938 [00:16<00:00, 55.29batch/s, Train Loss=0.432, Train Acc=83.7]\n"
     ]
    },
    {
     "name": "stdout",
     "output_type": "stream",
     "text": [
      "Epoch 705\n",
      "Train Loss: 0.4322, Train Accuracy: 83.72%\n",
      "Test Loss: 0.4011, Test Accuracy: 84.51%\n",
      "\n"
     ]
    },
    {
     "name": "stderr",
     "output_type": "stream",
     "text": [
      "Epoch 706: 100%|██████████| 938/938 [00:17<00:00, 55.09batch/s, Train Loss=0.432, Train Acc=83.7]\n"
     ]
    },
    {
     "name": "stdout",
     "output_type": "stream",
     "text": [
      "Epoch 706\n",
      "Train Loss: 0.4323, Train Accuracy: 83.70%\n",
      "Test Loss: 0.4196, Test Accuracy: 83.88%\n",
      "\n"
     ]
    },
    {
     "name": "stderr",
     "output_type": "stream",
     "text": [
      "Epoch 707: 100%|██████████| 938/938 [00:17<00:00, 55.17batch/s, Train Loss=0.433, Train Acc=83.5]\n"
     ]
    },
    {
     "name": "stdout",
     "output_type": "stream",
     "text": [
      "Epoch 707\n",
      "Train Loss: 0.4334, Train Accuracy: 83.45%\n",
      "Test Loss: 0.4032, Test Accuracy: 84.68%\n",
      "\n"
     ]
    },
    {
     "name": "stderr",
     "output_type": "stream",
     "text": [
      "Epoch 708: 100%|██████████| 938/938 [00:17<00:00, 55.10batch/s, Train Loss=0.433, Train Acc=83.5]\n"
     ]
    },
    {
     "name": "stdout",
     "output_type": "stream",
     "text": [
      "Epoch 708\n",
      "Train Loss: 0.4333, Train Accuracy: 83.50%\n",
      "Test Loss: 0.4051, Test Accuracy: 84.56%\n",
      "\n"
     ]
    },
    {
     "name": "stderr",
     "output_type": "stream",
     "text": [
      "Epoch 709: 100%|██████████| 938/938 [00:17<00:00, 55.03batch/s, Train Loss=0.433, Train Acc=83.6]\n"
     ]
    },
    {
     "name": "stdout",
     "output_type": "stream",
     "text": [
      "Epoch 709\n",
      "Train Loss: 0.4328, Train Accuracy: 83.58%\n",
      "Test Loss: 0.4094, Test Accuracy: 84.29%\n",
      "\n"
     ]
    },
    {
     "name": "stderr",
     "output_type": "stream",
     "text": [
      "Epoch 710: 100%|██████████| 938/938 [00:16<00:00, 55.36batch/s, Train Loss=0.429, Train Acc=83.9]\n"
     ]
    },
    {
     "name": "stdout",
     "output_type": "stream",
     "text": [
      "Epoch 710\n",
      "Train Loss: 0.4288, Train Accuracy: 83.86%\n",
      "Test Loss: 0.3929, Test Accuracy: 84.99%\n",
      "\n"
     ]
    },
    {
     "name": "stderr",
     "output_type": "stream",
     "text": [
      "Epoch 711: 100%|██████████| 938/938 [00:16<00:00, 55.18batch/s, Train Loss=0.427, Train Acc=83.9]\n"
     ]
    },
    {
     "name": "stdout",
     "output_type": "stream",
     "text": [
      "Epoch 711\n",
      "Train Loss: 0.4273, Train Accuracy: 83.86%\n",
      "Test Loss: 0.4026, Test Accuracy: 84.58%\n",
      "\n"
     ]
    },
    {
     "name": "stderr",
     "output_type": "stream",
     "text": [
      "Epoch 712: 100%|██████████| 938/938 [00:17<00:00, 55.05batch/s, Train Loss=0.429, Train Acc=83.8]\n"
     ]
    },
    {
     "name": "stdout",
     "output_type": "stream",
     "text": [
      "Epoch 712\n",
      "Train Loss: 0.4290, Train Accuracy: 83.81%\n",
      "Test Loss: 0.3980, Test Accuracy: 84.53%\n",
      "\n"
     ]
    },
    {
     "name": "stderr",
     "output_type": "stream",
     "text": [
      "Epoch 713: 100%|██████████| 938/938 [00:17<00:00, 55.07batch/s, Train Loss=0.428, Train Acc=83.9]\n"
     ]
    },
    {
     "name": "stdout",
     "output_type": "stream",
     "text": [
      "Epoch 713\n",
      "Train Loss: 0.4276, Train Accuracy: 83.86%\n",
      "Test Loss: 0.4124, Test Accuracy: 84.21%\n",
      "\n"
     ]
    },
    {
     "name": "stderr",
     "output_type": "stream",
     "text": [
      "Epoch 714: 100%|██████████| 938/938 [00:17<00:00, 55.11batch/s, Train Loss=0.424, Train Acc=83.8]\n"
     ]
    },
    {
     "name": "stdout",
     "output_type": "stream",
     "text": [
      "Epoch 714\n",
      "Train Loss: 0.4243, Train Accuracy: 83.84%\n",
      "Test Loss: 0.4041, Test Accuracy: 84.81%\n",
      "\n"
     ]
    },
    {
     "name": "stderr",
     "output_type": "stream",
     "text": [
      "Epoch 715: 100%|██████████| 938/938 [00:16<00:00, 55.18batch/s, Train Loss=0.425, Train Acc=83.9]\n"
     ]
    },
    {
     "name": "stdout",
     "output_type": "stream",
     "text": [
      "Epoch 715\n",
      "Train Loss: 0.4249, Train Accuracy: 83.94%\n",
      "Test Loss: 0.3984, Test Accuracy: 84.87%\n",
      "\n"
     ]
    },
    {
     "name": "stderr",
     "output_type": "stream",
     "text": [
      "Epoch 716: 100%|██████████| 938/938 [00:17<00:00, 55.12batch/s, Train Loss=0.424, Train Acc=83.9]\n"
     ]
    },
    {
     "name": "stdout",
     "output_type": "stream",
     "text": [
      "Epoch 716\n",
      "Train Loss: 0.4238, Train Accuracy: 83.88%\n",
      "Test Loss: 0.4029, Test Accuracy: 84.68%\n",
      "\n"
     ]
    },
    {
     "name": "stderr",
     "output_type": "stream",
     "text": [
      "Epoch 717: 100%|██████████| 938/938 [00:16<00:00, 55.22batch/s, Train Loss=0.421, Train Acc=84.2]\n"
     ]
    },
    {
     "name": "stdout",
     "output_type": "stream",
     "text": [
      "Epoch 717\n",
      "Train Loss: 0.4206, Train Accuracy: 84.17%\n",
      "Test Loss: 0.4093, Test Accuracy: 84.60%\n",
      "\n"
     ]
    },
    {
     "name": "stderr",
     "output_type": "stream",
     "text": [
      "Epoch 718: 100%|██████████| 938/938 [00:17<00:00, 55.12batch/s, Train Loss=0.42, Train Acc=84]   \n"
     ]
    },
    {
     "name": "stdout",
     "output_type": "stream",
     "text": [
      "Epoch 718\n",
      "Train Loss: 0.4205, Train Accuracy: 84.00%\n",
      "Test Loss: 0.3996, Test Accuracy: 84.85%\n",
      "\n"
     ]
    },
    {
     "name": "stderr",
     "output_type": "stream",
     "text": [
      "Epoch 719: 100%|██████████| 938/938 [00:17<00:00, 55.17batch/s, Train Loss=0.423, Train Acc=84]  \n"
     ]
    },
    {
     "name": "stdout",
     "output_type": "stream",
     "text": [
      "Epoch 719\n",
      "Train Loss: 0.4229, Train Accuracy: 83.99%\n",
      "Test Loss: 0.4023, Test Accuracy: 84.48%\n",
      "\n"
     ]
    },
    {
     "name": "stderr",
     "output_type": "stream",
     "text": [
      "Epoch 720: 100%|██████████| 938/938 [00:17<00:00, 55.12batch/s, Train Loss=0.42, Train Acc=84.1] \n"
     ]
    },
    {
     "name": "stdout",
     "output_type": "stream",
     "text": [
      "Epoch 720\n",
      "Train Loss: 0.4203, Train Accuracy: 84.06%\n",
      "Test Loss: 0.3959, Test Accuracy: 85.13%\n",
      "\n"
     ]
    },
    {
     "name": "stderr",
     "output_type": "stream",
     "text": [
      "Epoch 721: 100%|██████████| 938/938 [00:17<00:00, 55.08batch/s, Train Loss=0.426, Train Acc=83.9]\n"
     ]
    },
    {
     "name": "stdout",
     "output_type": "stream",
     "text": [
      "Epoch 721\n",
      "Train Loss: 0.4256, Train Accuracy: 83.86%\n",
      "Test Loss: 0.4050, Test Accuracy: 84.58%\n",
      "\n"
     ]
    },
    {
     "name": "stderr",
     "output_type": "stream",
     "text": [
      "Epoch 722: 100%|██████████| 938/938 [00:17<00:00, 55.06batch/s, Train Loss=0.418, Train Acc=84.3]\n"
     ]
    },
    {
     "name": "stdout",
     "output_type": "stream",
     "text": [
      "Epoch 722\n",
      "Train Loss: 0.4183, Train Accuracy: 84.25%\n",
      "Test Loss: 0.4035, Test Accuracy: 84.84%\n",
      "\n"
     ]
    },
    {
     "name": "stderr",
     "output_type": "stream",
     "text": [
      "Epoch 723: 100%|██████████| 938/938 [00:17<00:00, 55.03batch/s, Train Loss=0.42, Train Acc=84.1] \n"
     ]
    },
    {
     "name": "stdout",
     "output_type": "stream",
     "text": [
      "Epoch 723\n",
      "Train Loss: 0.4200, Train Accuracy: 84.12%\n",
      "Test Loss: 0.3838, Test Accuracy: 85.28%\n",
      "\n"
     ]
    },
    {
     "name": "stderr",
     "output_type": "stream",
     "text": [
      "Epoch 724: 100%|██████████| 938/938 [00:17<00:00, 55.03batch/s, Train Loss=0.414, Train Acc=84.5]\n"
     ]
    },
    {
     "name": "stdout",
     "output_type": "stream",
     "text": [
      "Epoch 724\n",
      "Train Loss: 0.4138, Train Accuracy: 84.47%\n",
      "Test Loss: 0.4001, Test Accuracy: 84.52%\n",
      "\n"
     ]
    },
    {
     "name": "stderr",
     "output_type": "stream",
     "text": [
      "Epoch 725: 100%|██████████| 938/938 [00:17<00:00, 55.11batch/s, Train Loss=0.416, Train Acc=84.3]\n"
     ]
    },
    {
     "name": "stdout",
     "output_type": "stream",
     "text": [
      "Epoch 725\n",
      "Train Loss: 0.4155, Train Accuracy: 84.30%\n",
      "Test Loss: 0.3963, Test Accuracy: 85.08%\n",
      "\n"
     ]
    },
    {
     "name": "stderr",
     "output_type": "stream",
     "text": [
      "Epoch 726: 100%|██████████| 938/938 [00:17<00:00, 55.17batch/s, Train Loss=0.42, Train Acc=84]   \n"
     ]
    },
    {
     "name": "stdout",
     "output_type": "stream",
     "text": [
      "Epoch 726\n",
      "Train Loss: 0.4198, Train Accuracy: 84.00%\n",
      "Test Loss: 0.3971, Test Accuracy: 85.13%\n",
      "\n"
     ]
    },
    {
     "name": "stderr",
     "output_type": "stream",
     "text": [
      "Epoch 727: 100%|██████████| 938/938 [00:17<00:00, 55.13batch/s, Train Loss=0.412, Train Acc=84.3]\n"
     ]
    },
    {
     "name": "stdout",
     "output_type": "stream",
     "text": [
      "Epoch 727\n",
      "Train Loss: 0.4115, Train Accuracy: 84.30%\n",
      "Test Loss: 0.3848, Test Accuracy: 85.37%\n",
      "\n"
     ]
    },
    {
     "name": "stderr",
     "output_type": "stream",
     "text": [
      "Epoch 728: 100%|██████████| 938/938 [00:17<00:00, 55.16batch/s, Train Loss=0.409, Train Acc=84.6]\n"
     ]
    },
    {
     "name": "stdout",
     "output_type": "stream",
     "text": [
      "Epoch 728\n",
      "Train Loss: 0.4089, Train Accuracy: 84.55%\n",
      "Test Loss: 0.3988, Test Accuracy: 85.35%\n",
      "\n"
     ]
    },
    {
     "name": "stderr",
     "output_type": "stream",
     "text": [
      "Epoch 729: 100%|██████████| 938/938 [00:17<00:00, 55.02batch/s, Train Loss=0.413, Train Acc=84.5]\n"
     ]
    },
    {
     "name": "stdout",
     "output_type": "stream",
     "text": [
      "Epoch 729\n",
      "Train Loss: 0.4129, Train Accuracy: 84.46%\n",
      "Test Loss: 0.3829, Test Accuracy: 85.50%\n",
      "\n"
     ]
    },
    {
     "name": "stderr",
     "output_type": "stream",
     "text": [
      "Epoch 730: 100%|██████████| 938/938 [00:17<00:00, 55.17batch/s, Train Loss=0.41, Train Acc=84.4] \n"
     ]
    },
    {
     "name": "stdout",
     "output_type": "stream",
     "text": [
      "Epoch 730\n",
      "Train Loss: 0.4102, Train Accuracy: 84.39%\n",
      "Test Loss: 0.4005, Test Accuracy: 85.09%\n",
      "\n"
     ]
    },
    {
     "name": "stderr",
     "output_type": "stream",
     "text": [
      "Epoch 731: 100%|██████████| 938/938 [00:16<00:00, 55.18batch/s, Train Loss=0.411, Train Acc=84.5]\n"
     ]
    },
    {
     "name": "stdout",
     "output_type": "stream",
     "text": [
      "Epoch 731\n",
      "Train Loss: 0.4106, Train Accuracy: 84.55%\n",
      "Test Loss: 0.3818, Test Accuracy: 85.55%\n",
      "\n"
     ]
    },
    {
     "name": "stderr",
     "output_type": "stream",
     "text": [
      "Epoch 732: 100%|██████████| 938/938 [00:16<00:00, 55.23batch/s, Train Loss=0.408, Train Acc=84.4]\n"
     ]
    },
    {
     "name": "stdout",
     "output_type": "stream",
     "text": [
      "Epoch 732\n",
      "Train Loss: 0.4079, Train Accuracy: 84.38%\n",
      "Test Loss: 0.3859, Test Accuracy: 85.39%\n",
      "\n"
     ]
    },
    {
     "name": "stderr",
     "output_type": "stream",
     "text": [
      "Epoch 733: 100%|██████████| 938/938 [00:17<00:00, 55.12batch/s, Train Loss=0.411, Train Acc=84.5]\n"
     ]
    },
    {
     "name": "stdout",
     "output_type": "stream",
     "text": [
      "Epoch 733\n",
      "Train Loss: 0.4108, Train Accuracy: 84.52%\n",
      "Test Loss: 0.3859, Test Accuracy: 85.26%\n",
      "\n"
     ]
    },
    {
     "name": "stderr",
     "output_type": "stream",
     "text": [
      "Epoch 734: 100%|██████████| 938/938 [00:17<00:00, 55.09batch/s, Train Loss=0.412, Train Acc=84.2]\n"
     ]
    },
    {
     "name": "stdout",
     "output_type": "stream",
     "text": [
      "Epoch 734\n",
      "Train Loss: 0.4124, Train Accuracy: 84.24%\n",
      "Test Loss: 0.3881, Test Accuracy: 85.07%\n",
      "\n"
     ]
    },
    {
     "name": "stderr",
     "output_type": "stream",
     "text": [
      "Epoch 735: 100%|██████████| 938/938 [00:17<00:00, 55.09batch/s, Train Loss=0.406, Train Acc=84.7]\n"
     ]
    },
    {
     "name": "stdout",
     "output_type": "stream",
     "text": [
      "Epoch 735\n",
      "Train Loss: 0.4058, Train Accuracy: 84.69%\n",
      "Test Loss: 0.3823, Test Accuracy: 85.24%\n",
      "\n"
     ]
    },
    {
     "name": "stderr",
     "output_type": "stream",
     "text": [
      "Epoch 736: 100%|██████████| 938/938 [00:17<00:00, 55.05batch/s, Train Loss=0.41, Train Acc=84.5] \n"
     ]
    },
    {
     "name": "stdout",
     "output_type": "stream",
     "text": [
      "Epoch 736\n",
      "Train Loss: 0.4103, Train Accuracy: 84.54%\n",
      "Test Loss: 0.3884, Test Accuracy: 85.32%\n",
      "\n"
     ]
    },
    {
     "name": "stderr",
     "output_type": "stream",
     "text": [
      "Epoch 737: 100%|██████████| 938/938 [00:16<00:00, 55.20batch/s, Train Loss=0.409, Train Acc=84.4]\n"
     ]
    },
    {
     "name": "stdout",
     "output_type": "stream",
     "text": [
      "Epoch 737\n",
      "Train Loss: 0.4089, Train Accuracy: 84.38%\n",
      "Test Loss: 0.3811, Test Accuracy: 85.37%\n",
      "\n"
     ]
    },
    {
     "name": "stderr",
     "output_type": "stream",
     "text": [
      "Epoch 738: 100%|██████████| 938/938 [00:17<00:00, 55.12batch/s, Train Loss=0.407, Train Acc=84.6]\n"
     ]
    },
    {
     "name": "stdout",
     "output_type": "stream",
     "text": [
      "Epoch 738\n",
      "Train Loss: 0.4065, Train Accuracy: 84.58%\n",
      "Test Loss: 0.3799, Test Accuracy: 85.65%\n",
      "\n"
     ]
    },
    {
     "name": "stderr",
     "output_type": "stream",
     "text": [
      "Epoch 739: 100%|██████████| 938/938 [00:17<00:00, 55.01batch/s, Train Loss=0.399, Train Acc=84.9]\n"
     ]
    },
    {
     "name": "stdout",
     "output_type": "stream",
     "text": [
      "Epoch 739\n",
      "Train Loss: 0.3989, Train Accuracy: 84.90%\n",
      "Test Loss: 0.3915, Test Accuracy: 85.15%\n",
      "\n"
     ]
    },
    {
     "name": "stderr",
     "output_type": "stream",
     "text": [
      "Epoch 740: 100%|██████████| 938/938 [00:17<00:00, 55.15batch/s, Train Loss=0.407, Train Acc=84.5]\n"
     ]
    },
    {
     "name": "stdout",
     "output_type": "stream",
     "text": [
      "Epoch 740\n",
      "Train Loss: 0.4066, Train Accuracy: 84.53%\n",
      "Test Loss: 0.3765, Test Accuracy: 85.78%\n",
      "\n"
     ]
    },
    {
     "name": "stderr",
     "output_type": "stream",
     "text": [
      "Epoch 741: 100%|██████████| 938/938 [00:17<00:00, 55.14batch/s, Train Loss=0.4, Train Acc=84.8]  \n"
     ]
    },
    {
     "name": "stdout",
     "output_type": "stream",
     "text": [
      "Epoch 741\n",
      "Train Loss: 0.3998, Train Accuracy: 84.83%\n",
      "Test Loss: 0.3960, Test Accuracy: 84.55%\n",
      "\n"
     ]
    },
    {
     "name": "stderr",
     "output_type": "stream",
     "text": [
      "Epoch 742: 100%|██████████| 938/938 [00:17<00:00, 55.13batch/s, Train Loss=0.405, Train Acc=84.8]\n"
     ]
    },
    {
     "name": "stdout",
     "output_type": "stream",
     "text": [
      "Epoch 742\n",
      "Train Loss: 0.4047, Train Accuracy: 84.84%\n",
      "Test Loss: 0.4071, Test Accuracy: 84.75%\n",
      "\n"
     ]
    },
    {
     "name": "stderr",
     "output_type": "stream",
     "text": [
      "Epoch 743: 100%|██████████| 938/938 [00:16<00:00, 55.22batch/s, Train Loss=0.405, Train Acc=84.7]\n"
     ]
    },
    {
     "name": "stdout",
     "output_type": "stream",
     "text": [
      "Epoch 743\n",
      "Train Loss: 0.4052, Train Accuracy: 84.65%\n",
      "Test Loss: 0.4080, Test Accuracy: 84.41%\n",
      "\n"
     ]
    },
    {
     "name": "stderr",
     "output_type": "stream",
     "text": [
      "Epoch 744: 100%|██████████| 938/938 [00:17<00:00, 54.98batch/s, Train Loss=0.402, Train Acc=84.7]\n"
     ]
    },
    {
     "name": "stdout",
     "output_type": "stream",
     "text": [
      "Epoch 744\n",
      "Train Loss: 0.4022, Train Accuracy: 84.74%\n",
      "Test Loss: 0.3854, Test Accuracy: 85.38%\n",
      "\n"
     ]
    },
    {
     "name": "stderr",
     "output_type": "stream",
     "text": [
      "Epoch 745: 100%|██████████| 938/938 [00:17<00:00, 54.97batch/s, Train Loss=0.399, Train Acc=84.8]\n"
     ]
    },
    {
     "name": "stdout",
     "output_type": "stream",
     "text": [
      "Epoch 745\n",
      "Train Loss: 0.3994, Train Accuracy: 84.77%\n",
      "Test Loss: 0.3764, Test Accuracy: 85.57%\n",
      "\n"
     ]
    },
    {
     "name": "stderr",
     "output_type": "stream",
     "text": [
      "Epoch 746: 100%|██████████| 938/938 [00:17<00:00, 55.06batch/s, Train Loss=0.4, Train Acc=84.8]  \n"
     ]
    },
    {
     "name": "stdout",
     "output_type": "stream",
     "text": [
      "Epoch 746\n",
      "Train Loss: 0.3999, Train Accuracy: 84.85%\n",
      "Test Loss: 0.3753, Test Accuracy: 85.75%\n",
      "\n"
     ]
    },
    {
     "name": "stderr",
     "output_type": "stream",
     "text": [
      "Epoch 747: 100%|██████████| 938/938 [00:17<00:00, 55.09batch/s, Train Loss=0.399, Train Acc=84.9]\n"
     ]
    },
    {
     "name": "stdout",
     "output_type": "stream",
     "text": [
      "Epoch 747\n",
      "Train Loss: 0.3987, Train Accuracy: 84.92%\n",
      "Test Loss: 0.3774, Test Accuracy: 85.72%\n",
      "\n"
     ]
    },
    {
     "name": "stderr",
     "output_type": "stream",
     "text": [
      "Epoch 748: 100%|██████████| 938/938 [00:17<00:00, 55.16batch/s, Train Loss=0.397, Train Acc=84.9]\n"
     ]
    },
    {
     "name": "stdout",
     "output_type": "stream",
     "text": [
      "Epoch 748\n",
      "Train Loss: 0.3972, Train Accuracy: 84.88%\n",
      "Test Loss: 0.3814, Test Accuracy: 85.65%\n",
      "\n"
     ]
    },
    {
     "name": "stderr",
     "output_type": "stream",
     "text": [
      "Epoch 749: 100%|██████████| 938/938 [00:17<00:00, 55.07batch/s, Train Loss=0.4, Train Acc=84.8]  \n"
     ]
    },
    {
     "name": "stdout",
     "output_type": "stream",
     "text": [
      "Epoch 749\n",
      "Train Loss: 0.4001, Train Accuracy: 84.84%\n",
      "Test Loss: 0.3818, Test Accuracy: 85.32%\n",
      "\n"
     ]
    },
    {
     "name": "stderr",
     "output_type": "stream",
     "text": [
      "Epoch 750: 100%|██████████| 938/938 [00:17<00:00, 55.12batch/s, Train Loss=0.398, Train Acc=84.9]\n"
     ]
    },
    {
     "name": "stdout",
     "output_type": "stream",
     "text": [
      "Epoch 750\n",
      "Train Loss: 0.3976, Train Accuracy: 84.92%\n",
      "Test Loss: 0.3763, Test Accuracy: 86.02%\n",
      "\n"
     ]
    },
    {
     "name": "stderr",
     "output_type": "stream",
     "text": [
      "Epoch 751: 100%|██████████| 938/938 [00:17<00:00, 54.77batch/s, Train Loss=0.397, Train Acc=85]  \n"
     ]
    },
    {
     "name": "stdout",
     "output_type": "stream",
     "text": [
      "Epoch 751\n",
      "Train Loss: 0.3966, Train Accuracy: 85.03%\n",
      "Test Loss: 0.3848, Test Accuracy: 85.44%\n",
      "\n"
     ]
    },
    {
     "name": "stderr",
     "output_type": "stream",
     "text": [
      "Epoch 752: 100%|██████████| 938/938 [00:17<00:00, 55.13batch/s, Train Loss=0.397, Train Acc=85]  \n"
     ]
    },
    {
     "name": "stdout",
     "output_type": "stream",
     "text": [
      "Epoch 752\n",
      "Train Loss: 0.3975, Train Accuracy: 84.95%\n",
      "Test Loss: 0.3964, Test Accuracy: 85.14%\n",
      "\n"
     ]
    },
    {
     "name": "stderr",
     "output_type": "stream",
     "text": [
      "Epoch 753: 100%|██████████| 938/938 [00:17<00:00, 55.00batch/s, Train Loss=0.397, Train Acc=85]  \n"
     ]
    },
    {
     "name": "stdout",
     "output_type": "stream",
     "text": [
      "Epoch 753\n",
      "Train Loss: 0.3967, Train Accuracy: 84.97%\n",
      "Test Loss: 0.3739, Test Accuracy: 85.52%\n",
      "\n"
     ]
    },
    {
     "name": "stderr",
     "output_type": "stream",
     "text": [
      "Epoch 754: 100%|██████████| 938/938 [00:17<00:00, 55.12batch/s, Train Loss=0.396, Train Acc=85]  \n"
     ]
    },
    {
     "name": "stdout",
     "output_type": "stream",
     "text": [
      "Epoch 754\n",
      "Train Loss: 0.3959, Train Accuracy: 84.99%\n",
      "Test Loss: 0.3824, Test Accuracy: 85.93%\n",
      "\n"
     ]
    },
    {
     "name": "stderr",
     "output_type": "stream",
     "text": [
      "Epoch 755: 100%|██████████| 938/938 [00:17<00:00, 55.07batch/s, Train Loss=0.394, Train Acc=85.1]\n"
     ]
    },
    {
     "name": "stdout",
     "output_type": "stream",
     "text": [
      "Epoch 755\n",
      "Train Loss: 0.3942, Train Accuracy: 85.12%\n",
      "Test Loss: 0.3710, Test Accuracy: 85.68%\n",
      "\n"
     ]
    },
    {
     "name": "stderr",
     "output_type": "stream",
     "text": [
      "Epoch 756: 100%|██████████| 938/938 [00:17<00:00, 55.09batch/s, Train Loss=0.391, Train Acc=85.2]\n"
     ]
    },
    {
     "name": "stdout",
     "output_type": "stream",
     "text": [
      "Epoch 756\n",
      "Train Loss: 0.3906, Train Accuracy: 85.18%\n",
      "Test Loss: 0.3817, Test Accuracy: 85.67%\n",
      "\n"
     ]
    },
    {
     "name": "stderr",
     "output_type": "stream",
     "text": [
      "Epoch 757: 100%|██████████| 938/938 [00:17<00:00, 55.04batch/s, Train Loss=0.392, Train Acc=85.1]\n"
     ]
    },
    {
     "name": "stdout",
     "output_type": "stream",
     "text": [
      "Epoch 757\n",
      "Train Loss: 0.3923, Train Accuracy: 85.11%\n",
      "Test Loss: 0.3888, Test Accuracy: 85.39%\n",
      "\n"
     ]
    },
    {
     "name": "stderr",
     "output_type": "stream",
     "text": [
      "Epoch 758: 100%|██████████| 938/938 [00:17<00:00, 55.04batch/s, Train Loss=0.391, Train Acc=85.2]\n"
     ]
    },
    {
     "name": "stdout",
     "output_type": "stream",
     "text": [
      "Epoch 758\n",
      "Train Loss: 0.3910, Train Accuracy: 85.18%\n",
      "Test Loss: 0.3802, Test Accuracy: 85.53%\n",
      "\n"
     ]
    },
    {
     "name": "stderr",
     "output_type": "stream",
     "text": [
      "Epoch 759: 100%|██████████| 938/938 [00:17<00:00, 55.07batch/s, Train Loss=0.388, Train Acc=85.2]\n"
     ]
    },
    {
     "name": "stdout",
     "output_type": "stream",
     "text": [
      "Epoch 759\n",
      "Train Loss: 0.3875, Train Accuracy: 85.19%\n",
      "Test Loss: 0.3735, Test Accuracy: 85.62%\n",
      "\n"
     ]
    },
    {
     "name": "stderr",
     "output_type": "stream",
     "text": [
      "Epoch 760: 100%|██████████| 938/938 [00:17<00:00, 55.09batch/s, Train Loss=0.394, Train Acc=85]  \n"
     ]
    },
    {
     "name": "stdout",
     "output_type": "stream",
     "text": [
      "Epoch 760\n",
      "Train Loss: 0.3943, Train Accuracy: 84.98%\n",
      "Test Loss: 0.3950, Test Accuracy: 85.01%\n",
      "\n"
     ]
    },
    {
     "name": "stderr",
     "output_type": "stream",
     "text": [
      "Epoch 761: 100%|██████████| 938/938 [00:17<00:00, 55.17batch/s, Train Loss=0.389, Train Acc=85.3]\n"
     ]
    },
    {
     "name": "stdout",
     "output_type": "stream",
     "text": [
      "Epoch 761\n",
      "Train Loss: 0.3891, Train Accuracy: 85.28%\n",
      "Test Loss: 0.3689, Test Accuracy: 86.03%\n",
      "\n"
     ]
    },
    {
     "name": "stderr",
     "output_type": "stream",
     "text": [
      "Epoch 762: 100%|██████████| 938/938 [00:16<00:00, 55.23batch/s, Train Loss=0.388, Train Acc=85.3]\n"
     ]
    },
    {
     "name": "stdout",
     "output_type": "stream",
     "text": [
      "Epoch 762\n",
      "Train Loss: 0.3880, Train Accuracy: 85.28%\n",
      "Test Loss: 0.3673, Test Accuracy: 85.80%\n",
      "\n"
     ]
    },
    {
     "name": "stderr",
     "output_type": "stream",
     "text": [
      "Epoch 763: 100%|██████████| 938/938 [00:17<00:00, 55.00batch/s, Train Loss=0.389, Train Acc=85.3]\n"
     ]
    },
    {
     "name": "stdout",
     "output_type": "stream",
     "text": [
      "Epoch 763\n",
      "Train Loss: 0.3887, Train Accuracy: 85.30%\n",
      "Test Loss: 0.3719, Test Accuracy: 86.02%\n",
      "\n"
     ]
    },
    {
     "name": "stderr",
     "output_type": "stream",
     "text": [
      "Epoch 764: 100%|██████████| 938/938 [00:17<00:00, 55.02batch/s, Train Loss=0.39, Train Acc=85.5] \n"
     ]
    },
    {
     "name": "stdout",
     "output_type": "stream",
     "text": [
      "Epoch 764\n",
      "Train Loss: 0.3895, Train Accuracy: 85.48%\n",
      "Test Loss: 0.3760, Test Accuracy: 85.65%\n",
      "\n"
     ]
    },
    {
     "name": "stderr",
     "output_type": "stream",
     "text": [
      "Epoch 765: 100%|██████████| 938/938 [00:17<00:00, 55.04batch/s, Train Loss=0.386, Train Acc=85.2]\n"
     ]
    },
    {
     "name": "stdout",
     "output_type": "stream",
     "text": [
      "Epoch 765\n",
      "Train Loss: 0.3857, Train Accuracy: 85.19%\n",
      "Test Loss: 0.3767, Test Accuracy: 85.65%\n",
      "\n"
     ]
    },
    {
     "name": "stderr",
     "output_type": "stream",
     "text": [
      "Epoch 766: 100%|██████████| 938/938 [00:17<00:00, 55.01batch/s, Train Loss=0.389, Train Acc=85.2]\n"
     ]
    },
    {
     "name": "stdout",
     "output_type": "stream",
     "text": [
      "Epoch 766\n",
      "Train Loss: 0.3892, Train Accuracy: 85.23%\n",
      "Test Loss: 0.3737, Test Accuracy: 85.80%\n",
      "\n"
     ]
    },
    {
     "name": "stderr",
     "output_type": "stream",
     "text": [
      "Epoch 767: 100%|██████████| 938/938 [00:17<00:00, 55.02batch/s, Train Loss=0.382, Train Acc=85.6]\n"
     ]
    },
    {
     "name": "stdout",
     "output_type": "stream",
     "text": [
      "Epoch 767\n",
      "Train Loss: 0.3817, Train Accuracy: 85.57%\n",
      "Test Loss: 0.3867, Test Accuracy: 85.59%\n",
      "\n"
     ]
    },
    {
     "name": "stderr",
     "output_type": "stream",
     "text": [
      "Epoch 768: 100%|██████████| 938/938 [00:17<00:00, 55.06batch/s, Train Loss=0.388, Train Acc=85.1]\n"
     ]
    },
    {
     "name": "stdout",
     "output_type": "stream",
     "text": [
      "Epoch 768\n",
      "Train Loss: 0.3879, Train Accuracy: 85.09%\n",
      "Test Loss: 0.4014, Test Accuracy: 84.82%\n",
      "\n"
     ]
    },
    {
     "name": "stderr",
     "output_type": "stream",
     "text": [
      "Epoch 769: 100%|██████████| 938/938 [00:17<00:00, 55.05batch/s, Train Loss=0.384, Train Acc=85.4]\n"
     ]
    },
    {
     "name": "stdout",
     "output_type": "stream",
     "text": [
      "Epoch 769\n",
      "Train Loss: 0.3839, Train Accuracy: 85.42%\n",
      "Test Loss: 0.3814, Test Accuracy: 85.40%\n",
      "\n"
     ]
    },
    {
     "name": "stderr",
     "output_type": "stream",
     "text": [
      "Epoch 770: 100%|██████████| 938/938 [00:17<00:00, 55.03batch/s, Train Loss=0.385, Train Acc=85.5]\n"
     ]
    },
    {
     "name": "stdout",
     "output_type": "stream",
     "text": [
      "Epoch 770\n",
      "Train Loss: 0.3849, Train Accuracy: 85.51%\n",
      "Test Loss: 0.3746, Test Accuracy: 85.75%\n",
      "\n"
     ]
    },
    {
     "name": "stderr",
     "output_type": "stream",
     "text": [
      "Epoch 771: 100%|██████████| 938/938 [00:16<00:00, 55.19batch/s, Train Loss=0.383, Train Acc=85.5]\n"
     ]
    },
    {
     "name": "stdout",
     "output_type": "stream",
     "text": [
      "Epoch 771\n",
      "Train Loss: 0.3835, Train Accuracy: 85.48%\n",
      "Test Loss: 0.3738, Test Accuracy: 85.73%\n",
      "\n"
     ]
    },
    {
     "name": "stderr",
     "output_type": "stream",
     "text": [
      "Epoch 772: 100%|██████████| 938/938 [00:17<00:00, 55.04batch/s, Train Loss=0.381, Train Acc=85.3]\n"
     ]
    },
    {
     "name": "stdout",
     "output_type": "stream",
     "text": [
      "Epoch 772\n",
      "Train Loss: 0.3810, Train Accuracy: 85.33%\n",
      "Test Loss: 0.3652, Test Accuracy: 85.99%\n",
      "\n"
     ]
    },
    {
     "name": "stderr",
     "output_type": "stream",
     "text": [
      "Epoch 773: 100%|██████████| 938/938 [00:17<00:00, 55.16batch/s, Train Loss=0.382, Train Acc=85.3]\n"
     ]
    },
    {
     "name": "stdout",
     "output_type": "stream",
     "text": [
      "Epoch 773\n",
      "Train Loss: 0.3820, Train Accuracy: 85.28%\n",
      "Test Loss: 0.3709, Test Accuracy: 85.61%\n",
      "\n"
     ]
    },
    {
     "name": "stderr",
     "output_type": "stream",
     "text": [
      "Epoch 774: 100%|██████████| 938/938 [00:16<00:00, 55.18batch/s, Train Loss=0.382, Train Acc=85.5]\n"
     ]
    },
    {
     "name": "stdout",
     "output_type": "stream",
     "text": [
      "Epoch 774\n",
      "Train Loss: 0.3821, Train Accuracy: 85.50%\n",
      "Test Loss: 0.3698, Test Accuracy: 85.40%\n",
      "\n"
     ]
    },
    {
     "name": "stderr",
     "output_type": "stream",
     "text": [
      "Epoch 775: 100%|██████████| 938/938 [00:17<00:00, 55.01batch/s, Train Loss=0.381, Train Acc=85.6]\n"
     ]
    },
    {
     "name": "stdout",
     "output_type": "stream",
     "text": [
      "Epoch 775\n",
      "Train Loss: 0.3807, Train Accuracy: 85.56%\n",
      "Test Loss: 0.3672, Test Accuracy: 85.95%\n",
      "\n"
     ]
    },
    {
     "name": "stderr",
     "output_type": "stream",
     "text": [
      "Epoch 776: 100%|██████████| 938/938 [00:17<00:00, 54.85batch/s, Train Loss=0.383, Train Acc=85.4]\n"
     ]
    },
    {
     "name": "stdout",
     "output_type": "stream",
     "text": [
      "Epoch 776\n",
      "Train Loss: 0.3833, Train Accuracy: 85.41%\n",
      "Test Loss: 0.3843, Test Accuracy: 85.56%\n",
      "\n"
     ]
    },
    {
     "name": "stderr",
     "output_type": "stream",
     "text": [
      "Epoch 777: 100%|██████████| 938/938 [00:17<00:00, 55.07batch/s, Train Loss=0.38, Train Acc=85.6] \n"
     ]
    },
    {
     "name": "stdout",
     "output_type": "stream",
     "text": [
      "Epoch 777\n",
      "Train Loss: 0.3800, Train Accuracy: 85.62%\n",
      "Test Loss: 0.3578, Test Accuracy: 86.54%\n",
      "\n"
     ]
    },
    {
     "name": "stderr",
     "output_type": "stream",
     "text": [
      "Epoch 778: 100%|██████████| 938/938 [00:17<00:00, 55.04batch/s, Train Loss=0.379, Train Acc=85.7]\n"
     ]
    },
    {
     "name": "stdout",
     "output_type": "stream",
     "text": [
      "Epoch 778\n",
      "Train Loss: 0.3789, Train Accuracy: 85.65%\n",
      "Test Loss: 0.3659, Test Accuracy: 86.24%\n",
      "\n"
     ]
    },
    {
     "name": "stderr",
     "output_type": "stream",
     "text": [
      "Epoch 779: 100%|██████████| 938/938 [00:17<00:00, 54.96batch/s, Train Loss=0.381, Train Acc=85.4]\n"
     ]
    },
    {
     "name": "stdout",
     "output_type": "stream",
     "text": [
      "Epoch 779\n",
      "Train Loss: 0.3809, Train Accuracy: 85.41%\n",
      "Test Loss: 0.3636, Test Accuracy: 86.38%\n",
      "\n"
     ]
    },
    {
     "name": "stderr",
     "output_type": "stream",
     "text": [
      "Epoch 780: 100%|██████████| 938/938 [00:17<00:00, 55.05batch/s, Train Loss=0.377, Train Acc=85.7]\n"
     ]
    },
    {
     "name": "stdout",
     "output_type": "stream",
     "text": [
      "Epoch 780\n",
      "Train Loss: 0.3768, Train Accuracy: 85.72%\n",
      "Test Loss: 0.3666, Test Accuracy: 86.05%\n",
      "\n"
     ]
    },
    {
     "name": "stderr",
     "output_type": "stream",
     "text": [
      "Epoch 781: 100%|██████████| 938/938 [00:17<00:00, 54.98batch/s, Train Loss=0.378, Train Acc=85.6]\n"
     ]
    },
    {
     "name": "stdout",
     "output_type": "stream",
     "text": [
      "Epoch 781\n",
      "Train Loss: 0.3782, Train Accuracy: 85.58%\n",
      "Test Loss: 0.3711, Test Accuracy: 85.85%\n",
      "\n"
     ]
    },
    {
     "name": "stderr",
     "output_type": "stream",
     "text": [
      "Epoch 782: 100%|██████████| 938/938 [00:17<00:00, 55.10batch/s, Train Loss=0.38, Train Acc=85.6] \n"
     ]
    },
    {
     "name": "stdout",
     "output_type": "stream",
     "text": [
      "Epoch 782\n",
      "Train Loss: 0.3799, Train Accuracy: 85.59%\n",
      "Test Loss: 0.3649, Test Accuracy: 86.07%\n",
      "\n"
     ]
    },
    {
     "name": "stderr",
     "output_type": "stream",
     "text": [
      "Epoch 783: 100%|██████████| 938/938 [00:17<00:00, 54.95batch/s, Train Loss=0.375, Train Acc=85.8]\n"
     ]
    },
    {
     "name": "stdout",
     "output_type": "stream",
     "text": [
      "Epoch 783\n",
      "Train Loss: 0.3747, Train Accuracy: 85.79%\n",
      "Test Loss: 0.3729, Test Accuracy: 85.86%\n",
      "\n"
     ]
    },
    {
     "name": "stderr",
     "output_type": "stream",
     "text": [
      "Epoch 784: 100%|██████████| 938/938 [00:17<00:00, 55.10batch/s, Train Loss=0.376, Train Acc=85.7]\n"
     ]
    },
    {
     "name": "stdout",
     "output_type": "stream",
     "text": [
      "Epoch 784\n",
      "Train Loss: 0.3759, Train Accuracy: 85.72%\n",
      "Test Loss: 0.3762, Test Accuracy: 85.78%\n",
      "\n"
     ]
    },
    {
     "name": "stderr",
     "output_type": "stream",
     "text": [
      "Epoch 785: 100%|██████████| 938/938 [00:17<00:00, 54.89batch/s, Train Loss=0.374, Train Acc=85.9]\n"
     ]
    },
    {
     "name": "stdout",
     "output_type": "stream",
     "text": [
      "Epoch 785\n",
      "Train Loss: 0.3743, Train Accuracy: 85.89%\n",
      "Test Loss: 0.3701, Test Accuracy: 85.97%\n",
      "\n"
     ]
    },
    {
     "name": "stderr",
     "output_type": "stream",
     "text": [
      "Epoch 786: 100%|██████████| 938/938 [00:17<00:00, 55.14batch/s, Train Loss=0.375, Train Acc=85.7]\n"
     ]
    },
    {
     "name": "stdout",
     "output_type": "stream",
     "text": [
      "Epoch 786\n",
      "Train Loss: 0.3746, Train Accuracy: 85.73%\n",
      "Test Loss: 0.3767, Test Accuracy: 85.70%\n",
      "\n"
     ]
    },
    {
     "name": "stderr",
     "output_type": "stream",
     "text": [
      "Epoch 787: 100%|██████████| 938/938 [00:17<00:00, 55.04batch/s, Train Loss=0.372, Train Acc=85.8]\n"
     ]
    },
    {
     "name": "stdout",
     "output_type": "stream",
     "text": [
      "Epoch 787\n",
      "Train Loss: 0.3724, Train Accuracy: 85.83%\n",
      "Test Loss: 0.3653, Test Accuracy: 86.18%\n",
      "\n"
     ]
    },
    {
     "name": "stderr",
     "output_type": "stream",
     "text": [
      "Epoch 788: 100%|██████████| 938/938 [00:17<00:00, 54.93batch/s, Train Loss=0.374, Train Acc=85.9]\n"
     ]
    },
    {
     "name": "stdout",
     "output_type": "stream",
     "text": [
      "Epoch 788\n",
      "Train Loss: 0.3739, Train Accuracy: 85.87%\n",
      "Test Loss: 0.3712, Test Accuracy: 85.66%\n",
      "\n"
     ]
    },
    {
     "name": "stderr",
     "output_type": "stream",
     "text": [
      "Epoch 789: 100%|██████████| 938/938 [00:17<00:00, 55.07batch/s, Train Loss=0.373, Train Acc=85.7]\n"
     ]
    },
    {
     "name": "stdout",
     "output_type": "stream",
     "text": [
      "Epoch 789\n",
      "Train Loss: 0.3734, Train Accuracy: 85.68%\n",
      "Test Loss: 0.3608, Test Accuracy: 86.01%\n",
      "\n"
     ]
    },
    {
     "name": "stderr",
     "output_type": "stream",
     "text": [
      "Epoch 790: 100%|██████████| 938/938 [00:17<00:00, 55.00batch/s, Train Loss=0.371, Train Acc=85.9]\n"
     ]
    },
    {
     "name": "stdout",
     "output_type": "stream",
     "text": [
      "Epoch 790\n",
      "Train Loss: 0.3708, Train Accuracy: 85.88%\n",
      "Test Loss: 0.3535, Test Accuracy: 86.48%\n",
      "\n"
     ]
    },
    {
     "name": "stderr",
     "output_type": "stream",
     "text": [
      "Epoch 791: 100%|██████████| 938/938 [00:17<00:00, 55.10batch/s, Train Loss=0.374, Train Acc=85.8]\n"
     ]
    },
    {
     "name": "stdout",
     "output_type": "stream",
     "text": [
      "Epoch 791\n",
      "Train Loss: 0.3735, Train Accuracy: 85.78%\n",
      "Test Loss: 0.3792, Test Accuracy: 85.03%\n",
      "\n"
     ]
    },
    {
     "name": "stderr",
     "output_type": "stream",
     "text": [
      "Epoch 792: 100%|██████████| 938/938 [00:17<00:00, 55.04batch/s, Train Loss=0.371, Train Acc=85.8]\n"
     ]
    },
    {
     "name": "stdout",
     "output_type": "stream",
     "text": [
      "Epoch 792\n",
      "Train Loss: 0.3712, Train Accuracy: 85.79%\n",
      "Test Loss: 0.3726, Test Accuracy: 85.77%\n",
      "\n"
     ]
    },
    {
     "name": "stderr",
     "output_type": "stream",
     "text": [
      "Epoch 793: 100%|██████████| 938/938 [00:17<00:00, 55.10batch/s, Train Loss=0.373, Train Acc=85.9]\n"
     ]
    },
    {
     "name": "stdout",
     "output_type": "stream",
     "text": [
      "Epoch 793\n",
      "Train Loss: 0.3733, Train Accuracy: 85.89%\n",
      "Test Loss: 0.3569, Test Accuracy: 86.40%\n",
      "\n"
     ]
    },
    {
     "name": "stderr",
     "output_type": "stream",
     "text": [
      "Epoch 794: 100%|██████████| 938/938 [00:17<00:00, 55.04batch/s, Train Loss=0.374, Train Acc=85.7]\n"
     ]
    },
    {
     "name": "stdout",
     "output_type": "stream",
     "text": [
      "Epoch 794\n",
      "Train Loss: 0.3744, Train Accuracy: 85.71%\n",
      "Test Loss: 0.3705, Test Accuracy: 85.98%\n",
      "\n"
     ]
    },
    {
     "name": "stderr",
     "output_type": "stream",
     "text": [
      "Epoch 795: 100%|██████████| 938/938 [00:16<00:00, 55.20batch/s, Train Loss=0.372, Train Acc=85.7]\n"
     ]
    },
    {
     "name": "stdout",
     "output_type": "stream",
     "text": [
      "Epoch 795\n",
      "Train Loss: 0.3718, Train Accuracy: 85.70%\n",
      "Test Loss: 0.3724, Test Accuracy: 85.65%\n",
      "\n"
     ]
    },
    {
     "name": "stderr",
     "output_type": "stream",
     "text": [
      "Epoch 796: 100%|██████████| 938/938 [00:17<00:00, 55.11batch/s, Train Loss=0.369, Train Acc=86]  \n"
     ]
    },
    {
     "name": "stdout",
     "output_type": "stream",
     "text": [
      "Epoch 796\n",
      "Train Loss: 0.3688, Train Accuracy: 85.98%\n",
      "Test Loss: 0.3523, Test Accuracy: 86.32%\n",
      "\n"
     ]
    },
    {
     "name": "stderr",
     "output_type": "stream",
     "text": [
      "Epoch 797: 100%|██████████| 938/938 [00:17<00:00, 55.10batch/s, Train Loss=0.371, Train Acc=85.9]\n"
     ]
    },
    {
     "name": "stdout",
     "output_type": "stream",
     "text": [
      "Epoch 797\n",
      "Train Loss: 0.3712, Train Accuracy: 85.87%\n",
      "Test Loss: 0.3478, Test Accuracy: 86.57%\n",
      "\n"
     ]
    },
    {
     "name": "stderr",
     "output_type": "stream",
     "text": [
      "Epoch 798: 100%|██████████| 938/938 [00:17<00:00, 54.95batch/s, Train Loss=0.368, Train Acc=86.1]\n"
     ]
    },
    {
     "name": "stdout",
     "output_type": "stream",
     "text": [
      "Epoch 798\n",
      "Train Loss: 0.3683, Train Accuracy: 86.06%\n",
      "Test Loss: 0.3630, Test Accuracy: 86.17%\n",
      "\n"
     ]
    },
    {
     "name": "stderr",
     "output_type": "stream",
     "text": [
      "Epoch 799: 100%|██████████| 938/938 [00:17<00:00, 54.89batch/s, Train Loss=0.37, Train Acc=85.8] \n"
     ]
    },
    {
     "name": "stdout",
     "output_type": "stream",
     "text": [
      "Epoch 799\n",
      "Train Loss: 0.3699, Train Accuracy: 85.84%\n",
      "Test Loss: 0.3745, Test Accuracy: 85.86%\n",
      "\n"
     ]
    },
    {
     "name": "stderr",
     "output_type": "stream",
     "text": [
      "Epoch 800: 100%|██████████| 938/938 [00:17<00:00, 55.02batch/s, Train Loss=0.369, Train Acc=86]  \n"
     ]
    },
    {
     "name": "stdout",
     "output_type": "stream",
     "text": [
      "Epoch 800\n",
      "Train Loss: 0.3694, Train Accuracy: 85.96%\n",
      "Test Loss: 0.3652, Test Accuracy: 86.11%\n",
      "\n"
     ]
    },
    {
     "name": "stderr",
     "output_type": "stream",
     "text": [
      "Epoch 801: 100%|██████████| 938/938 [00:17<00:00, 54.96batch/s, Train Loss=0.363, Train Acc=86.1]\n"
     ]
    },
    {
     "name": "stdout",
     "output_type": "stream",
     "text": [
      "Epoch 801\n",
      "Train Loss: 0.3630, Train Accuracy: 86.08%\n",
      "Test Loss: 0.3570, Test Accuracy: 86.31%\n",
      "\n"
     ]
    },
    {
     "name": "stderr",
     "output_type": "stream",
     "text": [
      "Epoch 802: 100%|██████████| 938/938 [00:17<00:00, 55.05batch/s, Train Loss=0.368, Train Acc=86]  \n"
     ]
    },
    {
     "name": "stdout",
     "output_type": "stream",
     "text": [
      "Epoch 802\n",
      "Train Loss: 0.3685, Train Accuracy: 86.05%\n",
      "Test Loss: 0.3527, Test Accuracy: 86.55%\n",
      "\n"
     ]
    },
    {
     "name": "stderr",
     "output_type": "stream",
     "text": [
      "Epoch 803: 100%|██████████| 938/938 [00:17<00:00, 55.03batch/s, Train Loss=0.37, Train Acc=85.9] \n"
     ]
    },
    {
     "name": "stdout",
     "output_type": "stream",
     "text": [
      "Epoch 803\n",
      "Train Loss: 0.3704, Train Accuracy: 85.94%\n",
      "Test Loss: 0.3657, Test Accuracy: 86.23%\n",
      "\n"
     ]
    },
    {
     "name": "stderr",
     "output_type": "stream",
     "text": [
      "Epoch 804: 100%|██████████| 938/938 [00:17<00:00, 54.97batch/s, Train Loss=0.365, Train Acc=86.1]\n"
     ]
    },
    {
     "name": "stdout",
     "output_type": "stream",
     "text": [
      "Epoch 804\n",
      "Train Loss: 0.3652, Train Accuracy: 86.07%\n",
      "Test Loss: 0.3675, Test Accuracy: 85.77%\n",
      "\n"
     ]
    },
    {
     "name": "stderr",
     "output_type": "stream",
     "text": [
      "Epoch 805: 100%|██████████| 938/938 [00:17<00:00, 54.93batch/s, Train Loss=0.365, Train Acc=86.1]\n"
     ]
    },
    {
     "name": "stdout",
     "output_type": "stream",
     "text": [
      "Epoch 805\n",
      "Train Loss: 0.3652, Train Accuracy: 86.12%\n",
      "Test Loss: 0.3572, Test Accuracy: 86.49%\n",
      "\n"
     ]
    },
    {
     "name": "stderr",
     "output_type": "stream",
     "text": [
      "Epoch 806: 100%|██████████| 938/938 [00:17<00:00, 55.09batch/s, Train Loss=0.363, Train Acc=86.1]\n"
     ]
    },
    {
     "name": "stdout",
     "output_type": "stream",
     "text": [
      "Epoch 806\n",
      "Train Loss: 0.3634, Train Accuracy: 86.10%\n",
      "Test Loss: 0.3715, Test Accuracy: 85.61%\n",
      "\n"
     ]
    },
    {
     "name": "stderr",
     "output_type": "stream",
     "text": [
      "Epoch 807: 100%|██████████| 938/938 [00:17<00:00, 55.02batch/s, Train Loss=0.363, Train Acc=86.3]\n"
     ]
    },
    {
     "name": "stdout",
     "output_type": "stream",
     "text": [
      "Epoch 807\n",
      "Train Loss: 0.3635, Train Accuracy: 86.30%\n",
      "Test Loss: 0.3722, Test Accuracy: 85.66%\n",
      "\n"
     ]
    },
    {
     "name": "stderr",
     "output_type": "stream",
     "text": [
      "Epoch 808: 100%|██████████| 938/938 [00:17<00:00, 55.09batch/s, Train Loss=0.364, Train Acc=86.2]\n"
     ]
    },
    {
     "name": "stdout",
     "output_type": "stream",
     "text": [
      "Epoch 808\n",
      "Train Loss: 0.3642, Train Accuracy: 86.17%\n",
      "Test Loss: 0.3508, Test Accuracy: 86.99%\n",
      "\n"
     ]
    },
    {
     "name": "stderr",
     "output_type": "stream",
     "text": [
      "Epoch 809: 100%|██████████| 938/938 [00:17<00:00, 55.04batch/s, Train Loss=0.364, Train Acc=86.1]\n"
     ]
    },
    {
     "name": "stdout",
     "output_type": "stream",
     "text": [
      "Epoch 809\n",
      "Train Loss: 0.3640, Train Accuracy: 86.11%\n",
      "Test Loss: 0.3468, Test Accuracy: 87.00%\n",
      "\n"
     ]
    },
    {
     "name": "stderr",
     "output_type": "stream",
     "text": [
      "Epoch 810: 100%|██████████| 938/938 [00:17<00:00, 54.91batch/s, Train Loss=0.363, Train Acc=86.2]\n"
     ]
    },
    {
     "name": "stdout",
     "output_type": "stream",
     "text": [
      "Epoch 810\n",
      "Train Loss: 0.3626, Train Accuracy: 86.16%\n",
      "Test Loss: 0.3521, Test Accuracy: 86.75%\n",
      "\n"
     ]
    },
    {
     "name": "stderr",
     "output_type": "stream",
     "text": [
      "Epoch 811: 100%|██████████| 938/938 [00:17<00:00, 54.95batch/s, Train Loss=0.363, Train Acc=86.1]\n"
     ]
    },
    {
     "name": "stdout",
     "output_type": "stream",
     "text": [
      "Epoch 811\n",
      "Train Loss: 0.3629, Train Accuracy: 86.13%\n",
      "Test Loss: 0.3476, Test Accuracy: 86.91%\n",
      "\n"
     ]
    },
    {
     "name": "stderr",
     "output_type": "stream",
     "text": [
      "Epoch 812: 100%|██████████| 938/938 [00:17<00:00, 55.06batch/s, Train Loss=0.364, Train Acc=86.2]\n"
     ]
    },
    {
     "name": "stdout",
     "output_type": "stream",
     "text": [
      "Epoch 812\n",
      "Train Loss: 0.3645, Train Accuracy: 86.15%\n",
      "Test Loss: 0.3606, Test Accuracy: 86.73%\n",
      "\n"
     ]
    },
    {
     "name": "stderr",
     "output_type": "stream",
     "text": [
      "Epoch 813: 100%|██████████| 938/938 [00:17<00:00, 55.05batch/s, Train Loss=0.361, Train Acc=86.1]\n"
     ]
    },
    {
     "name": "stdout",
     "output_type": "stream",
     "text": [
      "Epoch 813\n",
      "Train Loss: 0.3613, Train Accuracy: 86.11%\n",
      "Test Loss: 0.3518, Test Accuracy: 86.83%\n",
      "\n"
     ]
    },
    {
     "name": "stderr",
     "output_type": "stream",
     "text": [
      "Epoch 814: 100%|██████████| 938/938 [00:17<00:00, 55.06batch/s, Train Loss=0.357, Train Acc=86.4]\n"
     ]
    },
    {
     "name": "stdout",
     "output_type": "stream",
     "text": [
      "Epoch 814\n",
      "Train Loss: 0.3566, Train Accuracy: 86.41%\n",
      "Test Loss: 0.3543, Test Accuracy: 86.84%\n",
      "\n"
     ]
    },
    {
     "name": "stderr",
     "output_type": "stream",
     "text": [
      "Epoch 815: 100%|██████████| 938/938 [00:17<00:00, 55.08batch/s, Train Loss=0.364, Train Acc=86.1]\n"
     ]
    },
    {
     "name": "stdout",
     "output_type": "stream",
     "text": [
      "Epoch 815\n",
      "Train Loss: 0.3641, Train Accuracy: 86.11%\n",
      "Test Loss: 0.3408, Test Accuracy: 86.96%\n",
      "\n"
     ]
    },
    {
     "name": "stderr",
     "output_type": "stream",
     "text": [
      "Epoch 816: 100%|██████████| 938/938 [00:17<00:00, 54.95batch/s, Train Loss=0.36, Train Acc=86.3] \n"
     ]
    },
    {
     "name": "stdout",
     "output_type": "stream",
     "text": [
      "Epoch 816\n",
      "Train Loss: 0.3603, Train Accuracy: 86.33%\n",
      "Test Loss: 0.3521, Test Accuracy: 86.54%\n",
      "\n"
     ]
    },
    {
     "name": "stderr",
     "output_type": "stream",
     "text": [
      "Epoch 817: 100%|██████████| 938/938 [00:17<00:00, 55.06batch/s, Train Loss=0.361, Train Acc=86.3]\n"
     ]
    },
    {
     "name": "stdout",
     "output_type": "stream",
     "text": [
      "Epoch 817\n",
      "Train Loss: 0.3606, Train Accuracy: 86.28%\n",
      "Test Loss: 0.3580, Test Accuracy: 86.19%\n",
      "\n"
     ]
    },
    {
     "name": "stderr",
     "output_type": "stream",
     "text": [
      "Epoch 818: 100%|██████████| 938/938 [00:17<00:00, 54.92batch/s, Train Loss=0.363, Train Acc=86.3]\n"
     ]
    },
    {
     "name": "stdout",
     "output_type": "stream",
     "text": [
      "Epoch 818\n",
      "Train Loss: 0.3625, Train Accuracy: 86.31%\n",
      "Test Loss: 0.3579, Test Accuracy: 86.29%\n",
      "\n"
     ]
    },
    {
     "name": "stderr",
     "output_type": "stream",
     "text": [
      "Epoch 819: 100%|██████████| 938/938 [00:17<00:00, 54.82batch/s, Train Loss=0.359, Train Acc=86.3]\n"
     ]
    },
    {
     "name": "stdout",
     "output_type": "stream",
     "text": [
      "Epoch 819\n",
      "Train Loss: 0.3594, Train Accuracy: 86.35%\n",
      "Test Loss: 0.3575, Test Accuracy: 86.32%\n",
      "\n"
     ]
    },
    {
     "name": "stderr",
     "output_type": "stream",
     "text": [
      "Epoch 820: 100%|██████████| 938/938 [00:17<00:00, 54.94batch/s, Train Loss=0.355, Train Acc=86.4]\n"
     ]
    },
    {
     "name": "stdout",
     "output_type": "stream",
     "text": [
      "Epoch 820\n",
      "Train Loss: 0.3549, Train Accuracy: 86.43%\n",
      "Test Loss: 0.3429, Test Accuracy: 87.01%\n",
      "\n"
     ]
    },
    {
     "name": "stderr",
     "output_type": "stream",
     "text": [
      "Epoch 821: 100%|██████████| 938/938 [00:17<00:00, 55.02batch/s, Train Loss=0.359, Train Acc=86.4]\n"
     ]
    },
    {
     "name": "stdout",
     "output_type": "stream",
     "text": [
      "Epoch 821\n",
      "Train Loss: 0.3594, Train Accuracy: 86.45%\n",
      "Test Loss: 0.3498, Test Accuracy: 86.76%\n",
      "\n"
     ]
    },
    {
     "name": "stderr",
     "output_type": "stream",
     "text": [
      "Epoch 822: 100%|██████████| 938/938 [00:17<00:00, 54.87batch/s, Train Loss=0.355, Train Acc=86.6]\n"
     ]
    },
    {
     "name": "stdout",
     "output_type": "stream",
     "text": [
      "Epoch 822\n",
      "Train Loss: 0.3548, Train Accuracy: 86.57%\n",
      "Test Loss: 0.3465, Test Accuracy: 86.77%\n",
      "\n"
     ]
    },
    {
     "name": "stderr",
     "output_type": "stream",
     "text": [
      "Epoch 823: 100%|██████████| 938/938 [00:17<00:00, 55.01batch/s, Train Loss=0.354, Train Acc=86.6]\n"
     ]
    },
    {
     "name": "stdout",
     "output_type": "stream",
     "text": [
      "Epoch 823\n",
      "Train Loss: 0.3543, Train Accuracy: 86.56%\n",
      "Test Loss: 0.3534, Test Accuracy: 86.59%\n",
      "\n"
     ]
    },
    {
     "name": "stderr",
     "output_type": "stream",
     "text": [
      "Epoch 824: 100%|██████████| 938/938 [00:17<00:00, 54.91batch/s, Train Loss=0.354, Train Acc=86.4]\n"
     ]
    },
    {
     "name": "stdout",
     "output_type": "stream",
     "text": [
      "Epoch 824\n",
      "Train Loss: 0.3542, Train Accuracy: 86.36%\n",
      "Test Loss: 0.3450, Test Accuracy: 86.97%\n",
      "\n"
     ]
    },
    {
     "name": "stderr",
     "output_type": "stream",
     "text": [
      "Epoch 825: 100%|██████████| 938/938 [00:17<00:00, 54.98batch/s, Train Loss=0.355, Train Acc=86.5]\n"
     ]
    },
    {
     "name": "stdout",
     "output_type": "stream",
     "text": [
      "Epoch 825\n",
      "Train Loss: 0.3546, Train Accuracy: 86.46%\n",
      "Test Loss: 0.3767, Test Accuracy: 85.91%\n",
      "\n"
     ]
    },
    {
     "name": "stderr",
     "output_type": "stream",
     "text": [
      "Epoch 826: 100%|██████████| 938/938 [00:17<00:00, 55.05batch/s, Train Loss=0.357, Train Acc=86.4]\n"
     ]
    },
    {
     "name": "stdout",
     "output_type": "stream",
     "text": [
      "Epoch 826\n",
      "Train Loss: 0.3572, Train Accuracy: 86.41%\n",
      "Test Loss: 0.3478, Test Accuracy: 87.03%\n",
      "\n"
     ]
    },
    {
     "name": "stderr",
     "output_type": "stream",
     "text": [
      "Epoch 827: 100%|██████████| 938/938 [00:17<00:00, 54.96batch/s, Train Loss=0.352, Train Acc=86.5]\n"
     ]
    },
    {
     "name": "stdout",
     "output_type": "stream",
     "text": [
      "Epoch 827\n",
      "Train Loss: 0.3523, Train Accuracy: 86.53%\n",
      "Test Loss: 0.3387, Test Accuracy: 87.11%\n",
      "\n"
     ]
    },
    {
     "name": "stderr",
     "output_type": "stream",
     "text": [
      "Epoch 828: 100%|██████████| 938/938 [00:17<00:00, 54.91batch/s, Train Loss=0.354, Train Acc=86.5]\n"
     ]
    },
    {
     "name": "stdout",
     "output_type": "stream",
     "text": [
      "Epoch 828\n",
      "Train Loss: 0.3536, Train Accuracy: 86.53%\n",
      "Test Loss: 0.3577, Test Accuracy: 86.36%\n",
      "\n"
     ]
    },
    {
     "name": "stderr",
     "output_type": "stream",
     "text": [
      "Epoch 829: 100%|██████████| 938/938 [00:17<00:00, 55.01batch/s, Train Loss=0.352, Train Acc=86.5]\n"
     ]
    },
    {
     "name": "stdout",
     "output_type": "stream",
     "text": [
      "Epoch 829\n",
      "Train Loss: 0.3517, Train Accuracy: 86.54%\n",
      "Test Loss: 0.3638, Test Accuracy: 86.12%\n",
      "\n"
     ]
    },
    {
     "name": "stderr",
     "output_type": "stream",
     "text": [
      "Epoch 830: 100%|██████████| 938/938 [00:17<00:00, 54.84batch/s, Train Loss=0.35, Train Acc=86.6] \n"
     ]
    },
    {
     "name": "stdout",
     "output_type": "stream",
     "text": [
      "Epoch 830\n",
      "Train Loss: 0.3501, Train Accuracy: 86.58%\n",
      "Test Loss: 0.3494, Test Accuracy: 87.36%\n",
      "\n"
     ]
    },
    {
     "name": "stderr",
     "output_type": "stream",
     "text": [
      "Epoch 831: 100%|██████████| 938/938 [00:17<00:00, 54.90batch/s, Train Loss=0.352, Train Acc=86.6]\n"
     ]
    },
    {
     "name": "stdout",
     "output_type": "stream",
     "text": [
      "Epoch 831\n",
      "Train Loss: 0.3519, Train Accuracy: 86.59%\n",
      "Test Loss: 0.3594, Test Accuracy: 86.71%\n",
      "\n"
     ]
    },
    {
     "name": "stderr",
     "output_type": "stream",
     "text": [
      "Epoch 832: 100%|██████████| 938/938 [00:17<00:00, 54.90batch/s, Train Loss=0.35, Train Acc=86.7] \n"
     ]
    },
    {
     "name": "stdout",
     "output_type": "stream",
     "text": [
      "Epoch 832\n",
      "Train Loss: 0.3498, Train Accuracy: 86.68%\n",
      "Test Loss: 0.3495, Test Accuracy: 86.63%\n",
      "\n"
     ]
    },
    {
     "name": "stderr",
     "output_type": "stream",
     "text": [
      "Epoch 833: 100%|██████████| 938/938 [00:17<00:00, 54.98batch/s, Train Loss=0.349, Train Acc=86.6]\n"
     ]
    },
    {
     "name": "stdout",
     "output_type": "stream",
     "text": [
      "Epoch 833\n",
      "Train Loss: 0.3494, Train Accuracy: 86.61%\n",
      "Test Loss: 0.3559, Test Accuracy: 86.46%\n",
      "\n"
     ]
    },
    {
     "name": "stderr",
     "output_type": "stream",
     "text": [
      "Epoch 834: 100%|██████████| 938/938 [00:17<00:00, 55.01batch/s, Train Loss=0.354, Train Acc=86.6]\n"
     ]
    },
    {
     "name": "stdout",
     "output_type": "stream",
     "text": [
      "Epoch 834\n",
      "Train Loss: 0.3540, Train Accuracy: 86.58%\n",
      "Test Loss: 0.3454, Test Accuracy: 86.82%\n",
      "\n"
     ]
    },
    {
     "name": "stderr",
     "output_type": "stream",
     "text": [
      "Epoch 835: 100%|██████████| 938/938 [00:17<00:00, 55.06batch/s, Train Loss=0.349, Train Acc=86.7]\n"
     ]
    },
    {
     "name": "stdout",
     "output_type": "stream",
     "text": [
      "Epoch 835\n",
      "Train Loss: 0.3492, Train Accuracy: 86.71%\n",
      "Test Loss: 0.3357, Test Accuracy: 87.32%\n",
      "\n"
     ]
    },
    {
     "name": "stderr",
     "output_type": "stream",
     "text": [
      "Epoch 836: 100%|██████████| 938/938 [00:17<00:00, 54.98batch/s, Train Loss=0.353, Train Acc=86.6]\n"
     ]
    },
    {
     "name": "stdout",
     "output_type": "stream",
     "text": [
      "Epoch 836\n",
      "Train Loss: 0.3526, Train Accuracy: 86.56%\n",
      "Test Loss: 0.3443, Test Accuracy: 87.10%\n",
      "\n"
     ]
    },
    {
     "name": "stderr",
     "output_type": "stream",
     "text": [
      "Epoch 837: 100%|██████████| 938/938 [00:17<00:00, 54.89batch/s, Train Loss=0.348, Train Acc=86.8]\n"
     ]
    },
    {
     "name": "stdout",
     "output_type": "stream",
     "text": [
      "Epoch 837\n",
      "Train Loss: 0.3477, Train Accuracy: 86.77%\n",
      "Test Loss: 0.3554, Test Accuracy: 86.50%\n",
      "\n"
     ]
    },
    {
     "name": "stderr",
     "output_type": "stream",
     "text": [
      "Epoch 838: 100%|██████████| 938/938 [00:17<00:00, 54.95batch/s, Train Loss=0.349, Train Acc=86.7]\n"
     ]
    },
    {
     "name": "stdout",
     "output_type": "stream",
     "text": [
      "Epoch 838\n",
      "Train Loss: 0.3485, Train Accuracy: 86.66%\n",
      "Test Loss: 0.3559, Test Accuracy: 86.50%\n",
      "\n"
     ]
    },
    {
     "name": "stderr",
     "output_type": "stream",
     "text": [
      "Epoch 839: 100%|██████████| 938/938 [00:17<00:00, 54.92batch/s, Train Loss=0.348, Train Acc=86.7]\n"
     ]
    },
    {
     "name": "stdout",
     "output_type": "stream",
     "text": [
      "Epoch 839\n",
      "Train Loss: 0.3485, Train Accuracy: 86.72%\n",
      "Test Loss: 0.3408, Test Accuracy: 87.10%\n",
      "\n"
     ]
    },
    {
     "name": "stderr",
     "output_type": "stream",
     "text": [
      "Epoch 840: 100%|██████████| 938/938 [00:17<00:00, 54.99batch/s, Train Loss=0.346, Train Acc=87]  \n"
     ]
    },
    {
     "name": "stdout",
     "output_type": "stream",
     "text": [
      "Epoch 840\n",
      "Train Loss: 0.3462, Train Accuracy: 86.99%\n",
      "Test Loss: 0.3529, Test Accuracy: 86.60%\n",
      "\n"
     ]
    },
    {
     "name": "stderr",
     "output_type": "stream",
     "text": [
      "Epoch 841: 100%|██████████| 938/938 [00:17<00:00, 54.91batch/s, Train Loss=0.351, Train Acc=86.7]\n"
     ]
    },
    {
     "name": "stdout",
     "output_type": "stream",
     "text": [
      "Epoch 841\n",
      "Train Loss: 0.3506, Train Accuracy: 86.66%\n",
      "Test Loss: 0.3331, Test Accuracy: 87.24%\n",
      "\n"
     ]
    },
    {
     "name": "stderr",
     "output_type": "stream",
     "text": [
      "Epoch 842: 100%|██████████| 938/938 [00:17<00:00, 55.08batch/s, Train Loss=0.346, Train Acc=86.8]\n"
     ]
    },
    {
     "name": "stdout",
     "output_type": "stream",
     "text": [
      "Epoch 842\n",
      "Train Loss: 0.3464, Train Accuracy: 86.82%\n",
      "Test Loss: 0.3517, Test Accuracy: 86.48%\n",
      "\n"
     ]
    },
    {
     "name": "stderr",
     "output_type": "stream",
     "text": [
      "Epoch 843: 100%|██████████| 938/938 [00:17<00:00, 55.01batch/s, Train Loss=0.348, Train Acc=86.8]\n"
     ]
    },
    {
     "name": "stdout",
     "output_type": "stream",
     "text": [
      "Epoch 843\n",
      "Train Loss: 0.3481, Train Accuracy: 86.78%\n",
      "Test Loss: 0.3481, Test Accuracy: 86.47%\n",
      "\n"
     ]
    },
    {
     "name": "stderr",
     "output_type": "stream",
     "text": [
      "Epoch 844: 100%|██████████| 938/938 [00:17<00:00, 55.05batch/s, Train Loss=0.345, Train Acc=86.9]\n"
     ]
    },
    {
     "name": "stdout",
     "output_type": "stream",
     "text": [
      "Epoch 844\n",
      "Train Loss: 0.3447, Train Accuracy: 86.90%\n",
      "Test Loss: 0.3340, Test Accuracy: 87.22%\n",
      "\n"
     ]
    },
    {
     "name": "stderr",
     "output_type": "stream",
     "text": [
      "Epoch 845: 100%|██████████| 938/938 [00:17<00:00, 54.90batch/s, Train Loss=0.345, Train Acc=86.8]\n"
     ]
    },
    {
     "name": "stdout",
     "output_type": "stream",
     "text": [
      "Epoch 845\n",
      "Train Loss: 0.3452, Train Accuracy: 86.77%\n",
      "Test Loss: 0.3542, Test Accuracy: 86.65%\n",
      "\n"
     ]
    },
    {
     "name": "stderr",
     "output_type": "stream",
     "text": [
      "Epoch 846: 100%|██████████| 938/938 [00:17<00:00, 55.04batch/s, Train Loss=0.348, Train Acc=86.7]\n"
     ]
    },
    {
     "name": "stdout",
     "output_type": "stream",
     "text": [
      "Epoch 846\n",
      "Train Loss: 0.3479, Train Accuracy: 86.67%\n",
      "Test Loss: 0.3423, Test Accuracy: 87.26%\n",
      "\n"
     ]
    },
    {
     "name": "stderr",
     "output_type": "stream",
     "text": [
      "Epoch 847: 100%|██████████| 938/938 [00:17<00:00, 54.94batch/s, Train Loss=0.347, Train Acc=86.6]\n"
     ]
    },
    {
     "name": "stdout",
     "output_type": "stream",
     "text": [
      "Epoch 847\n",
      "Train Loss: 0.3470, Train Accuracy: 86.64%\n",
      "Test Loss: 0.3599, Test Accuracy: 86.26%\n",
      "\n"
     ]
    },
    {
     "name": "stderr",
     "output_type": "stream",
     "text": [
      "Epoch 848: 100%|██████████| 938/938 [00:17<00:00, 54.96batch/s, Train Loss=0.344, Train Acc=86.9]\n"
     ]
    },
    {
     "name": "stdout",
     "output_type": "stream",
     "text": [
      "Epoch 848\n",
      "Train Loss: 0.3438, Train Accuracy: 86.87%\n",
      "Test Loss: 0.3625, Test Accuracy: 86.04%\n",
      "\n"
     ]
    },
    {
     "name": "stderr",
     "output_type": "stream",
     "text": [
      "Epoch 849: 100%|██████████| 938/938 [00:17<00:00, 54.99batch/s, Train Loss=0.345, Train Acc=86.9]\n"
     ]
    },
    {
     "name": "stdout",
     "output_type": "stream",
     "text": [
      "Epoch 849\n",
      "Train Loss: 0.3454, Train Accuracy: 86.91%\n",
      "Test Loss: 0.3449, Test Accuracy: 86.97%\n",
      "\n"
     ]
    },
    {
     "name": "stderr",
     "output_type": "stream",
     "text": [
      "Epoch 850: 100%|██████████| 938/938 [00:17<00:00, 55.10batch/s, Train Loss=0.344, Train Acc=86.8]\n"
     ]
    },
    {
     "name": "stdout",
     "output_type": "stream",
     "text": [
      "Epoch 850\n",
      "Train Loss: 0.3442, Train Accuracy: 86.83%\n",
      "Test Loss: 0.3385, Test Accuracy: 87.19%\n",
      "\n"
     ]
    },
    {
     "name": "stderr",
     "output_type": "stream",
     "text": [
      "Epoch 851: 100%|██████████| 938/938 [00:17<00:00, 55.04batch/s, Train Loss=0.341, Train Acc=87]  \n"
     ]
    },
    {
     "name": "stdout",
     "output_type": "stream",
     "text": [
      "Epoch 851\n",
      "Train Loss: 0.3411, Train Accuracy: 87.04%\n",
      "Test Loss: 0.3388, Test Accuracy: 87.23%\n",
      "\n"
     ]
    },
    {
     "name": "stderr",
     "output_type": "stream",
     "text": [
      "Epoch 852: 100%|██████████| 938/938 [00:17<00:00, 54.97batch/s, Train Loss=0.342, Train Acc=87]  \n"
     ]
    },
    {
     "name": "stdout",
     "output_type": "stream",
     "text": [
      "Epoch 852\n",
      "Train Loss: 0.3418, Train Accuracy: 86.99%\n",
      "Test Loss: 0.3383, Test Accuracy: 87.37%\n",
      "\n"
     ]
    },
    {
     "name": "stderr",
     "output_type": "stream",
     "text": [
      "Epoch 853: 100%|██████████| 938/938 [00:17<00:00, 55.00batch/s, Train Loss=0.344, Train Acc=86.9]\n"
     ]
    },
    {
     "name": "stdout",
     "output_type": "stream",
     "text": [
      "Epoch 853\n",
      "Train Loss: 0.3445, Train Accuracy: 86.89%\n",
      "Test Loss: 0.3336, Test Accuracy: 87.11%\n",
      "\n"
     ]
    },
    {
     "name": "stderr",
     "output_type": "stream",
     "text": [
      "Epoch 854: 100%|██████████| 938/938 [00:17<00:00, 54.91batch/s, Train Loss=0.343, Train Acc=87]  \n"
     ]
    },
    {
     "name": "stdout",
     "output_type": "stream",
     "text": [
      "Epoch 854\n",
      "Train Loss: 0.3426, Train Accuracy: 87.00%\n",
      "Test Loss: 0.3411, Test Accuracy: 87.08%\n",
      "\n"
     ]
    },
    {
     "name": "stderr",
     "output_type": "stream",
     "text": [
      "Epoch 855: 100%|██████████| 938/938 [00:17<00:00, 54.97batch/s, Train Loss=0.342, Train Acc=86.9]\n"
     ]
    },
    {
     "name": "stdout",
     "output_type": "stream",
     "text": [
      "Epoch 855\n",
      "Train Loss: 0.3424, Train Accuracy: 86.91%\n",
      "Test Loss: 0.3335, Test Accuracy: 87.56%\n",
      "\n"
     ]
    },
    {
     "name": "stderr",
     "output_type": "stream",
     "text": [
      "Epoch 856: 100%|██████████| 938/938 [00:17<00:00, 54.94batch/s, Train Loss=0.344, Train Acc=86.9]\n"
     ]
    },
    {
     "name": "stdout",
     "output_type": "stream",
     "text": [
      "Epoch 856\n",
      "Train Loss: 0.3443, Train Accuracy: 86.89%\n",
      "Test Loss: 0.3372, Test Accuracy: 87.26%\n",
      "\n"
     ]
    },
    {
     "name": "stderr",
     "output_type": "stream",
     "text": [
      "Epoch 857: 100%|██████████| 938/938 [00:17<00:00, 54.93batch/s, Train Loss=0.344, Train Acc=86.9]\n"
     ]
    },
    {
     "name": "stdout",
     "output_type": "stream",
     "text": [
      "Epoch 857\n",
      "Train Loss: 0.3440, Train Accuracy: 86.88%\n",
      "Test Loss: 0.3408, Test Accuracy: 87.35%\n",
      "\n"
     ]
    },
    {
     "name": "stderr",
     "output_type": "stream",
     "text": [
      "Epoch 858: 100%|██████████| 938/938 [00:17<00:00, 55.02batch/s, Train Loss=0.34, Train Acc=87.1] \n"
     ]
    },
    {
     "name": "stdout",
     "output_type": "stream",
     "text": [
      "Epoch 858\n",
      "Train Loss: 0.3405, Train Accuracy: 87.12%\n",
      "Test Loss: 0.3374, Test Accuracy: 87.55%\n",
      "\n"
     ]
    },
    {
     "name": "stderr",
     "output_type": "stream",
     "text": [
      "Epoch 859: 100%|██████████| 938/938 [00:17<00:00, 55.04batch/s, Train Loss=0.341, Train Acc=87.1]\n"
     ]
    },
    {
     "name": "stdout",
     "output_type": "stream",
     "text": [
      "Epoch 859\n",
      "Train Loss: 0.3408, Train Accuracy: 87.05%\n",
      "Test Loss: 0.3337, Test Accuracy: 87.35%\n",
      "\n"
     ]
    },
    {
     "name": "stderr",
     "output_type": "stream",
     "text": [
      "Epoch 860: 100%|██████████| 938/938 [00:17<00:00, 54.86batch/s, Train Loss=0.34, Train Acc=87.2] \n"
     ]
    },
    {
     "name": "stdout",
     "output_type": "stream",
     "text": [
      "Epoch 860\n",
      "Train Loss: 0.3395, Train Accuracy: 87.22%\n",
      "Test Loss: 0.3644, Test Accuracy: 86.42%\n",
      "\n"
     ]
    },
    {
     "name": "stderr",
     "output_type": "stream",
     "text": [
      "Epoch 861: 100%|██████████| 938/938 [00:17<00:00, 55.00batch/s, Train Loss=0.338, Train Acc=87.1]\n"
     ]
    },
    {
     "name": "stdout",
     "output_type": "stream",
     "text": [
      "Epoch 861\n",
      "Train Loss: 0.3377, Train Accuracy: 87.13%\n",
      "Test Loss: 0.3391, Test Accuracy: 87.14%\n",
      "\n"
     ]
    },
    {
     "name": "stderr",
     "output_type": "stream",
     "text": [
      "Epoch 862: 100%|██████████| 938/938 [00:17<00:00, 54.95batch/s, Train Loss=0.339, Train Acc=87]  \n"
     ]
    },
    {
     "name": "stdout",
     "output_type": "stream",
     "text": [
      "Epoch 862\n",
      "Train Loss: 0.3390, Train Accuracy: 87.00%\n",
      "Test Loss: 0.3535, Test Accuracy: 86.75%\n",
      "\n"
     ]
    },
    {
     "name": "stderr",
     "output_type": "stream",
     "text": [
      "Epoch 863: 100%|██████████| 938/938 [00:17<00:00, 54.93batch/s, Train Loss=0.34, Train Acc=87.1] \n"
     ]
    },
    {
     "name": "stdout",
     "output_type": "stream",
     "text": [
      "Epoch 863\n",
      "Train Loss: 0.3397, Train Accuracy: 87.06%\n",
      "Test Loss: 0.3398, Test Accuracy: 87.33%\n",
      "\n"
     ]
    },
    {
     "name": "stderr",
     "output_type": "stream",
     "text": [
      "Epoch 864: 100%|██████████| 938/938 [00:17<00:00, 55.05batch/s, Train Loss=0.338, Train Acc=87.1]\n"
     ]
    },
    {
     "name": "stdout",
     "output_type": "stream",
     "text": [
      "Epoch 864\n",
      "Train Loss: 0.3382, Train Accuracy: 87.15%\n",
      "Test Loss: 0.3384, Test Accuracy: 87.04%\n",
      "\n"
     ]
    },
    {
     "name": "stderr",
     "output_type": "stream",
     "text": [
      "Epoch 865: 100%|██████████| 938/938 [00:17<00:00, 55.02batch/s, Train Loss=0.34, Train Acc=87]   \n"
     ]
    },
    {
     "name": "stdout",
     "output_type": "stream",
     "text": [
      "Epoch 865\n",
      "Train Loss: 0.3399, Train Accuracy: 87.03%\n",
      "Test Loss: 0.3321, Test Accuracy: 87.48%\n",
      "\n"
     ]
    },
    {
     "name": "stderr",
     "output_type": "stream",
     "text": [
      "Epoch 866: 100%|██████████| 938/938 [00:17<00:00, 54.92batch/s, Train Loss=0.338, Train Acc=87.1]\n"
     ]
    },
    {
     "name": "stdout",
     "output_type": "stream",
     "text": [
      "Epoch 866\n",
      "Train Loss: 0.3382, Train Accuracy: 87.14%\n",
      "Test Loss: 0.3299, Test Accuracy: 87.38%\n",
      "\n"
     ]
    },
    {
     "name": "stderr",
     "output_type": "stream",
     "text": [
      "Epoch 867: 100%|██████████| 938/938 [00:17<00:00, 54.76batch/s, Train Loss=0.336, Train Acc=87.1]\n"
     ]
    },
    {
     "name": "stdout",
     "output_type": "stream",
     "text": [
      "Epoch 867\n",
      "Train Loss: 0.3356, Train Accuracy: 87.09%\n",
      "Test Loss: 0.3389, Test Accuracy: 87.05%\n",
      "\n"
     ]
    },
    {
     "name": "stderr",
     "output_type": "stream",
     "text": [
      "Epoch 868: 100%|██████████| 938/938 [00:17<00:00, 54.99batch/s, Train Loss=0.336, Train Acc=87.1]\n"
     ]
    },
    {
     "name": "stdout",
     "output_type": "stream",
     "text": [
      "Epoch 868\n",
      "Train Loss: 0.3364, Train Accuracy: 87.09%\n",
      "Test Loss: 0.3225, Test Accuracy: 87.72%\n",
      "\n"
     ]
    },
    {
     "name": "stderr",
     "output_type": "stream",
     "text": [
      "Epoch 869: 100%|██████████| 938/938 [00:17<00:00, 54.97batch/s, Train Loss=0.336, Train Acc=87.2]\n"
     ]
    },
    {
     "name": "stdout",
     "output_type": "stream",
     "text": [
      "Epoch 869\n",
      "Train Loss: 0.3360, Train Accuracy: 87.19%\n",
      "Test Loss: 0.3296, Test Accuracy: 87.55%\n",
      "\n"
     ]
    },
    {
     "name": "stderr",
     "output_type": "stream",
     "text": [
      "Epoch 870: 100%|██████████| 938/938 [00:17<00:00, 55.01batch/s, Train Loss=0.333, Train Acc=87.3]\n"
     ]
    },
    {
     "name": "stdout",
     "output_type": "stream",
     "text": [
      "Epoch 870\n",
      "Train Loss: 0.3334, Train Accuracy: 87.28%\n",
      "Test Loss: 0.3356, Test Accuracy: 87.46%\n",
      "\n"
     ]
    },
    {
     "name": "stderr",
     "output_type": "stream",
     "text": [
      "Epoch 871: 100%|██████████| 938/938 [00:17<00:00, 55.03batch/s, Train Loss=0.335, Train Acc=87.2]\n"
     ]
    },
    {
     "name": "stdout",
     "output_type": "stream",
     "text": [
      "Epoch 871\n",
      "Train Loss: 0.3353, Train Accuracy: 87.17%\n",
      "Test Loss: 0.3247, Test Accuracy: 87.77%\n",
      "\n"
     ]
    },
    {
     "name": "stderr",
     "output_type": "stream",
     "text": [
      "Epoch 872: 100%|██████████| 938/938 [00:17<00:00, 54.92batch/s, Train Loss=0.331, Train Acc=87.4]\n"
     ]
    },
    {
     "name": "stdout",
     "output_type": "stream",
     "text": [
      "Epoch 872\n",
      "Train Loss: 0.3312, Train Accuracy: 87.38%\n",
      "Test Loss: 0.3317, Test Accuracy: 87.18%\n",
      "\n"
     ]
    },
    {
     "name": "stderr",
     "output_type": "stream",
     "text": [
      "Epoch 873: 100%|██████████| 938/938 [00:17<00:00, 54.93batch/s, Train Loss=0.333, Train Acc=87.3]\n"
     ]
    },
    {
     "name": "stdout",
     "output_type": "stream",
     "text": [
      "Epoch 873\n",
      "Train Loss: 0.3325, Train Accuracy: 87.29%\n",
      "Test Loss: 0.3312, Test Accuracy: 87.58%\n",
      "\n"
     ]
    },
    {
     "name": "stderr",
     "output_type": "stream",
     "text": [
      "Epoch 874: 100%|██████████| 938/938 [00:17<00:00, 54.92batch/s, Train Loss=0.338, Train Acc=87.1]\n"
     ]
    },
    {
     "name": "stdout",
     "output_type": "stream",
     "text": [
      "Epoch 874\n",
      "Train Loss: 0.3384, Train Accuracy: 87.07%\n",
      "Test Loss: 0.3317, Test Accuracy: 87.52%\n",
      "\n"
     ]
    },
    {
     "name": "stderr",
     "output_type": "stream",
     "text": [
      "Epoch 875: 100%|██████████| 938/938 [00:17<00:00, 54.97batch/s, Train Loss=0.335, Train Acc=87.3]\n"
     ]
    },
    {
     "name": "stdout",
     "output_type": "stream",
     "text": [
      "Epoch 875\n",
      "Train Loss: 0.3354, Train Accuracy: 87.28%\n",
      "Test Loss: 0.3454, Test Accuracy: 86.89%\n",
      "\n"
     ]
    },
    {
     "name": "stderr",
     "output_type": "stream",
     "text": [
      "Epoch 876: 100%|██████████| 938/938 [00:17<00:00, 55.01batch/s, Train Loss=0.332, Train Acc=87.4]\n"
     ]
    },
    {
     "name": "stdout",
     "output_type": "stream",
     "text": [
      "Epoch 876\n",
      "Train Loss: 0.3320, Train Accuracy: 87.42%\n",
      "Test Loss: 0.3292, Test Accuracy: 87.54%\n",
      "\n"
     ]
    },
    {
     "name": "stderr",
     "output_type": "stream",
     "text": [
      "Epoch 877: 100%|██████████| 938/938 [00:17<00:00, 54.95batch/s, Train Loss=0.331, Train Acc=87.4]\n"
     ]
    },
    {
     "name": "stdout",
     "output_type": "stream",
     "text": [
      "Epoch 877\n",
      "Train Loss: 0.3311, Train Accuracy: 87.36%\n",
      "Test Loss: 0.3250, Test Accuracy: 87.84%\n",
      "\n"
     ]
    },
    {
     "name": "stderr",
     "output_type": "stream",
     "text": [
      "Epoch 878: 100%|██████████| 938/938 [00:17<00:00, 54.87batch/s, Train Loss=0.332, Train Acc=87.3]\n"
     ]
    },
    {
     "name": "stdout",
     "output_type": "stream",
     "text": [
      "Epoch 878\n",
      "Train Loss: 0.3325, Train Accuracy: 87.34%\n",
      "Test Loss: 0.3242, Test Accuracy: 87.86%\n",
      "\n"
     ]
    },
    {
     "name": "stderr",
     "output_type": "stream",
     "text": [
      "Epoch 879: 100%|██████████| 938/938 [00:17<00:00, 54.94batch/s, Train Loss=0.332, Train Acc=87.4]\n"
     ]
    },
    {
     "name": "stdout",
     "output_type": "stream",
     "text": [
      "Epoch 879\n",
      "Train Loss: 0.3322, Train Accuracy: 87.39%\n",
      "Test Loss: 0.3308, Test Accuracy: 87.72%\n",
      "\n"
     ]
    },
    {
     "name": "stderr",
     "output_type": "stream",
     "text": [
      "Epoch 880: 100%|██████████| 938/938 [00:17<00:00, 54.97batch/s, Train Loss=0.332, Train Acc=87.4]\n"
     ]
    },
    {
     "name": "stdout",
     "output_type": "stream",
     "text": [
      "Epoch 880\n",
      "Train Loss: 0.3316, Train Accuracy: 87.44%\n",
      "Test Loss: 0.3514, Test Accuracy: 87.02%\n",
      "\n"
     ]
    },
    {
     "name": "stderr",
     "output_type": "stream",
     "text": [
      "Epoch 881: 100%|██████████| 938/938 [00:17<00:00, 54.95batch/s, Train Loss=0.331, Train Acc=87.4]\n"
     ]
    },
    {
     "name": "stdout",
     "output_type": "stream",
     "text": [
      "Epoch 881\n",
      "Train Loss: 0.3307, Train Accuracy: 87.40%\n",
      "Test Loss: 0.3450, Test Accuracy: 87.16%\n",
      "\n"
     ]
    },
    {
     "name": "stderr",
     "output_type": "stream",
     "text": [
      "Epoch 882: 100%|██████████| 938/938 [00:17<00:00, 55.13batch/s, Train Loss=0.329, Train Acc=87.3]\n"
     ]
    },
    {
     "name": "stdout",
     "output_type": "stream",
     "text": [
      "Epoch 882\n",
      "Train Loss: 0.3292, Train Accuracy: 87.33%\n",
      "Test Loss: 0.3599, Test Accuracy: 86.63%\n",
      "\n"
     ]
    },
    {
     "name": "stderr",
     "output_type": "stream",
     "text": [
      "Epoch 883: 100%|██████████| 938/938 [00:17<00:00, 54.99batch/s, Train Loss=0.327, Train Acc=87.5]\n"
     ]
    },
    {
     "name": "stdout",
     "output_type": "stream",
     "text": [
      "Epoch 883\n",
      "Train Loss: 0.3267, Train Accuracy: 87.50%\n",
      "Test Loss: 0.3258, Test Accuracy: 88.12%\n",
      "\n"
     ]
    },
    {
     "name": "stderr",
     "output_type": "stream",
     "text": [
      "Epoch 884: 100%|██████████| 938/938 [00:17<00:00, 54.94batch/s, Train Loss=0.332, Train Acc=87.4]\n"
     ]
    },
    {
     "name": "stdout",
     "output_type": "stream",
     "text": [
      "Epoch 884\n",
      "Train Loss: 0.3318, Train Accuracy: 87.39%\n",
      "Test Loss: 0.3371, Test Accuracy: 87.13%\n",
      "\n"
     ]
    },
    {
     "name": "stderr",
     "output_type": "stream",
     "text": [
      "Epoch 885: 100%|██████████| 938/938 [00:17<00:00, 54.84batch/s, Train Loss=0.328, Train Acc=87.6]\n"
     ]
    },
    {
     "name": "stdout",
     "output_type": "stream",
     "text": [
      "Epoch 885\n",
      "Train Loss: 0.3275, Train Accuracy: 87.62%\n",
      "Test Loss: 0.3315, Test Accuracy: 87.68%\n",
      "\n"
     ]
    },
    {
     "name": "stderr",
     "output_type": "stream",
     "text": [
      "Epoch 886: 100%|██████████| 938/938 [00:17<00:00, 54.98batch/s, Train Loss=0.328, Train Acc=87.4]\n"
     ]
    },
    {
     "name": "stdout",
     "output_type": "stream",
     "text": [
      "Epoch 886\n",
      "Train Loss: 0.3275, Train Accuracy: 87.42%\n",
      "Test Loss: 0.3532, Test Accuracy: 86.72%\n",
      "\n"
     ]
    },
    {
     "name": "stderr",
     "output_type": "stream",
     "text": [
      "Epoch 887: 100%|██████████| 938/938 [00:17<00:00, 54.87batch/s, Train Loss=0.331, Train Acc=87.5]\n"
     ]
    },
    {
     "name": "stdout",
     "output_type": "stream",
     "text": [
      "Epoch 887\n",
      "Train Loss: 0.3307, Train Accuracy: 87.47%\n",
      "Test Loss: 0.3215, Test Accuracy: 87.65%\n",
      "\n"
     ]
    },
    {
     "name": "stderr",
     "output_type": "stream",
     "text": [
      "Epoch 888: 100%|██████████| 938/938 [00:17<00:00, 54.99batch/s, Train Loss=0.327, Train Acc=87.6]\n"
     ]
    },
    {
     "name": "stdout",
     "output_type": "stream",
     "text": [
      "Epoch 888\n",
      "Train Loss: 0.3267, Train Accuracy: 87.56%\n",
      "Test Loss: 0.3408, Test Accuracy: 87.11%\n",
      "\n"
     ]
    },
    {
     "name": "stderr",
     "output_type": "stream",
     "text": [
      "Epoch 889: 100%|██████████| 938/938 [00:17<00:00, 54.80batch/s, Train Loss=0.33, Train Acc=87.4] \n"
     ]
    },
    {
     "name": "stdout",
     "output_type": "stream",
     "text": [
      "Epoch 889\n",
      "Train Loss: 0.3304, Train Accuracy: 87.44%\n",
      "Test Loss: 0.3349, Test Accuracy: 87.14%\n",
      "\n"
     ]
    },
    {
     "name": "stderr",
     "output_type": "stream",
     "text": [
      "Epoch 890: 100%|██████████| 938/938 [00:17<00:00, 54.94batch/s, Train Loss=0.328, Train Acc=87.6]\n"
     ]
    },
    {
     "name": "stdout",
     "output_type": "stream",
     "text": [
      "Epoch 890\n",
      "Train Loss: 0.3283, Train Accuracy: 87.56%\n",
      "Test Loss: 0.3290, Test Accuracy: 87.79%\n",
      "\n"
     ]
    },
    {
     "name": "stderr",
     "output_type": "stream",
     "text": [
      "Epoch 891: 100%|██████████| 938/938 [00:17<00:00, 54.86batch/s, Train Loss=0.327, Train Acc=87.5]\n"
     ]
    },
    {
     "name": "stdout",
     "output_type": "stream",
     "text": [
      "Epoch 891\n",
      "Train Loss: 0.3272, Train Accuracy: 87.45%\n",
      "Test Loss: 0.3285, Test Accuracy: 87.43%\n",
      "\n"
     ]
    },
    {
     "name": "stderr",
     "output_type": "stream",
     "text": [
      "Epoch 892: 100%|██████████| 938/938 [00:17<00:00, 54.82batch/s, Train Loss=0.328, Train Acc=87.6]\n"
     ]
    },
    {
     "name": "stdout",
     "output_type": "stream",
     "text": [
      "Epoch 892\n",
      "Train Loss: 0.3279, Train Accuracy: 87.56%\n",
      "Test Loss: 0.3354, Test Accuracy: 87.25%\n",
      "\n"
     ]
    },
    {
     "name": "stderr",
     "output_type": "stream",
     "text": [
      "Epoch 893: 100%|██████████| 938/938 [00:17<00:00, 54.93batch/s, Train Loss=0.326, Train Acc=87.6]\n"
     ]
    },
    {
     "name": "stdout",
     "output_type": "stream",
     "text": [
      "Epoch 893\n",
      "Train Loss: 0.3258, Train Accuracy: 87.61%\n",
      "Test Loss: 0.3386, Test Accuracy: 87.34%\n",
      "\n"
     ]
    },
    {
     "name": "stderr",
     "output_type": "stream",
     "text": [
      "Epoch 894: 100%|██████████| 938/938 [00:17<00:00, 54.99batch/s, Train Loss=0.325, Train Acc=87.7]\n"
     ]
    },
    {
     "name": "stdout",
     "output_type": "stream",
     "text": [
      "Epoch 894\n",
      "Train Loss: 0.3252, Train Accuracy: 87.66%\n",
      "Test Loss: 0.3210, Test Accuracy: 88.00%\n",
      "\n"
     ]
    },
    {
     "name": "stderr",
     "output_type": "stream",
     "text": [
      "Epoch 895: 100%|██████████| 938/938 [00:17<00:00, 54.92batch/s, Train Loss=0.325, Train Acc=87.5]\n"
     ]
    },
    {
     "name": "stdout",
     "output_type": "stream",
     "text": [
      "Epoch 895\n",
      "Train Loss: 0.3250, Train Accuracy: 87.52%\n",
      "Test Loss: 0.3312, Test Accuracy: 87.51%\n",
      "\n"
     ]
    },
    {
     "name": "stderr",
     "output_type": "stream",
     "text": [
      "Epoch 896: 100%|██████████| 938/938 [00:17<00:00, 54.93batch/s, Train Loss=0.326, Train Acc=87.5]\n"
     ]
    },
    {
     "name": "stdout",
     "output_type": "stream",
     "text": [
      "Epoch 896\n",
      "Train Loss: 0.3261, Train Accuracy: 87.52%\n",
      "Test Loss: 0.3222, Test Accuracy: 87.77%\n",
      "\n"
     ]
    },
    {
     "name": "stderr",
     "output_type": "stream",
     "text": [
      "Epoch 897: 100%|██████████| 938/938 [00:17<00:00, 55.02batch/s, Train Loss=0.322, Train Acc=87.7]\n"
     ]
    },
    {
     "name": "stdout",
     "output_type": "stream",
     "text": [
      "Epoch 897\n",
      "Train Loss: 0.3220, Train Accuracy: 87.68%\n",
      "Test Loss: 0.3398, Test Accuracy: 87.09%\n",
      "\n"
     ]
    },
    {
     "name": "stderr",
     "output_type": "stream",
     "text": [
      "Epoch 898: 100%|██████████| 938/938 [00:17<00:00, 54.86batch/s, Train Loss=0.322, Train Acc=87.6]\n"
     ]
    },
    {
     "name": "stdout",
     "output_type": "stream",
     "text": [
      "Epoch 898\n",
      "Train Loss: 0.3217, Train Accuracy: 87.64%\n",
      "Test Loss: 0.3171, Test Accuracy: 88.29%\n",
      "\n"
     ]
    },
    {
     "name": "stderr",
     "output_type": "stream",
     "text": [
      "Epoch 899: 100%|██████████| 938/938 [00:17<00:00, 54.92batch/s, Train Loss=0.325, Train Acc=87.6]\n"
     ]
    },
    {
     "name": "stdout",
     "output_type": "stream",
     "text": [
      "Epoch 899\n",
      "Train Loss: 0.3252, Train Accuracy: 87.56%\n",
      "Test Loss: 0.3379, Test Accuracy: 87.01%\n",
      "\n"
     ]
    },
    {
     "name": "stderr",
     "output_type": "stream",
     "text": [
      "Epoch 900: 100%|██████████| 938/938 [00:17<00:00, 54.88batch/s, Train Loss=0.324, Train Acc=87.7]\n"
     ]
    },
    {
     "name": "stdout",
     "output_type": "stream",
     "text": [
      "Epoch 900\n",
      "Train Loss: 0.3237, Train Accuracy: 87.69%\n",
      "Test Loss: 0.3380, Test Accuracy: 87.53%\n",
      "\n"
     ]
    },
    {
     "name": "stderr",
     "output_type": "stream",
     "text": [
      "Epoch 901: 100%|██████████| 938/938 [00:17<00:00, 54.89batch/s, Train Loss=0.32, Train Acc=87.7] \n"
     ]
    },
    {
     "name": "stdout",
     "output_type": "stream",
     "text": [
      "Epoch 901\n",
      "Train Loss: 0.3204, Train Accuracy: 87.72%\n",
      "Test Loss: 0.3277, Test Accuracy: 87.66%\n",
      "\n"
     ]
    },
    {
     "name": "stderr",
     "output_type": "stream",
     "text": [
      "Epoch 902: 100%|██████████| 938/938 [00:17<00:00, 54.85batch/s, Train Loss=0.323, Train Acc=87.7]\n"
     ]
    },
    {
     "name": "stdout",
     "output_type": "stream",
     "text": [
      "Epoch 902\n",
      "Train Loss: 0.3231, Train Accuracy: 87.66%\n",
      "Test Loss: 0.3309, Test Accuracy: 87.76%\n",
      "\n"
     ]
    },
    {
     "name": "stderr",
     "output_type": "stream",
     "text": [
      "Epoch 903: 100%|██████████| 938/938 [00:17<00:00, 54.90batch/s, Train Loss=0.32, Train Acc=87.9] \n"
     ]
    },
    {
     "name": "stdout",
     "output_type": "stream",
     "text": [
      "Epoch 903\n",
      "Train Loss: 0.3195, Train Accuracy: 87.86%\n",
      "Test Loss: 0.3358, Test Accuracy: 87.38%\n",
      "\n"
     ]
    },
    {
     "name": "stderr",
     "output_type": "stream",
     "text": [
      "Epoch 904: 100%|██████████| 938/938 [00:17<00:00, 54.86batch/s, Train Loss=0.321, Train Acc=87.7]\n"
     ]
    },
    {
     "name": "stdout",
     "output_type": "stream",
     "text": [
      "Epoch 904\n",
      "Train Loss: 0.3211, Train Accuracy: 87.71%\n",
      "Test Loss: 0.3322, Test Accuracy: 87.54%\n",
      "\n"
     ]
    },
    {
     "name": "stderr",
     "output_type": "stream",
     "text": [
      "Epoch 905: 100%|██████████| 938/938 [00:17<00:00, 54.90batch/s, Train Loss=0.323, Train Acc=87.7]\n"
     ]
    },
    {
     "name": "stdout",
     "output_type": "stream",
     "text": [
      "Epoch 905\n",
      "Train Loss: 0.3230, Train Accuracy: 87.69%\n",
      "Test Loss: 0.3305, Test Accuracy: 87.59%\n",
      "\n"
     ]
    },
    {
     "name": "stderr",
     "output_type": "stream",
     "text": [
      "Epoch 906: 100%|██████████| 938/938 [00:17<00:00, 54.83batch/s, Train Loss=0.32, Train Acc=87.7] \n"
     ]
    },
    {
     "name": "stdout",
     "output_type": "stream",
     "text": [
      "Epoch 906\n",
      "Train Loss: 0.3199, Train Accuracy: 87.72%\n",
      "Test Loss: 0.3266, Test Accuracy: 87.57%\n",
      "\n"
     ]
    },
    {
     "name": "stderr",
     "output_type": "stream",
     "text": [
      "Epoch 907: 100%|██████████| 938/938 [00:17<00:00, 54.85batch/s, Train Loss=0.321, Train Acc=87.7]\n"
     ]
    },
    {
     "name": "stdout",
     "output_type": "stream",
     "text": [
      "Epoch 907\n",
      "Train Loss: 0.3212, Train Accuracy: 87.70%\n",
      "Test Loss: 0.3455, Test Accuracy: 87.03%\n",
      "\n"
     ]
    },
    {
     "name": "stderr",
     "output_type": "stream",
     "text": [
      "Epoch 908: 100%|██████████| 938/938 [00:17<00:00, 54.88batch/s, Train Loss=0.319, Train Acc=87.9]\n"
     ]
    },
    {
     "name": "stdout",
     "output_type": "stream",
     "text": [
      "Epoch 908\n",
      "Train Loss: 0.3192, Train Accuracy: 87.86%\n",
      "Test Loss: 0.3254, Test Accuracy: 87.74%\n",
      "\n"
     ]
    },
    {
     "name": "stderr",
     "output_type": "stream",
     "text": [
      "Epoch 909: 100%|██████████| 938/938 [00:17<00:00, 54.80batch/s, Train Loss=0.319, Train Acc=87.9]\n"
     ]
    },
    {
     "name": "stdout",
     "output_type": "stream",
     "text": [
      "Epoch 909\n",
      "Train Loss: 0.3188, Train Accuracy: 87.88%\n",
      "Test Loss: 0.3148, Test Accuracy: 88.05%\n",
      "\n"
     ]
    },
    {
     "name": "stderr",
     "output_type": "stream",
     "text": [
      "Epoch 910: 100%|██████████| 938/938 [00:17<00:00, 54.96batch/s, Train Loss=0.32, Train Acc=87.8] \n"
     ]
    },
    {
     "name": "stdout",
     "output_type": "stream",
     "text": [
      "Epoch 910\n",
      "Train Loss: 0.3204, Train Accuracy: 87.77%\n",
      "Test Loss: 0.3167, Test Accuracy: 88.29%\n",
      "\n"
     ]
    },
    {
     "name": "stderr",
     "output_type": "stream",
     "text": [
      "Epoch 911: 100%|██████████| 938/938 [00:17<00:00, 54.86batch/s, Train Loss=0.317, Train Acc=87.7]\n"
     ]
    },
    {
     "name": "stdout",
     "output_type": "stream",
     "text": [
      "Epoch 911\n",
      "Train Loss: 0.3170, Train Accuracy: 87.69%\n",
      "Test Loss: 0.3228, Test Accuracy: 87.86%\n",
      "\n"
     ]
    },
    {
     "name": "stderr",
     "output_type": "stream",
     "text": [
      "Epoch 912: 100%|██████████| 938/938 [00:17<00:00, 54.91batch/s, Train Loss=0.318, Train Acc=87.8]\n"
     ]
    },
    {
     "name": "stdout",
     "output_type": "stream",
     "text": [
      "Epoch 912\n",
      "Train Loss: 0.3185, Train Accuracy: 87.83%\n",
      "Test Loss: 0.3186, Test Accuracy: 88.02%\n",
      "\n"
     ]
    },
    {
     "name": "stderr",
     "output_type": "stream",
     "text": [
      "Epoch 913: 100%|██████████| 938/938 [00:17<00:00, 54.87batch/s, Train Loss=0.318, Train Acc=87.8]\n"
     ]
    },
    {
     "name": "stdout",
     "output_type": "stream",
     "text": [
      "Epoch 913\n",
      "Train Loss: 0.3184, Train Accuracy: 87.80%\n",
      "Test Loss: 0.3263, Test Accuracy: 87.76%\n",
      "\n"
     ]
    },
    {
     "name": "stderr",
     "output_type": "stream",
     "text": [
      "Epoch 914: 100%|██████████| 938/938 [00:17<00:00, 54.89batch/s, Train Loss=0.318, Train Acc=87.9]\n"
     ]
    },
    {
     "name": "stdout",
     "output_type": "stream",
     "text": [
      "Epoch 914\n",
      "Train Loss: 0.3176, Train Accuracy: 87.87%\n",
      "Test Loss: 0.3183, Test Accuracy: 87.77%\n",
      "\n"
     ]
    },
    {
     "name": "stderr",
     "output_type": "stream",
     "text": [
      "Epoch 915: 100%|██████████| 938/938 [00:17<00:00, 54.88batch/s, Train Loss=0.316, Train Acc=88.1]\n"
     ]
    },
    {
     "name": "stdout",
     "output_type": "stream",
     "text": [
      "Epoch 915\n",
      "Train Loss: 0.3155, Train Accuracy: 88.05%\n",
      "Test Loss: 0.3194, Test Accuracy: 88.12%\n",
      "\n"
     ]
    },
    {
     "name": "stderr",
     "output_type": "stream",
     "text": [
      "Epoch 916: 100%|██████████| 938/938 [00:17<00:00, 54.85batch/s, Train Loss=0.321, Train Acc=87.9]\n"
     ]
    },
    {
     "name": "stdout",
     "output_type": "stream",
     "text": [
      "Epoch 916\n",
      "Train Loss: 0.3211, Train Accuracy: 87.85%\n",
      "Test Loss: 0.3260, Test Accuracy: 87.64%\n",
      "\n"
     ]
    },
    {
     "name": "stderr",
     "output_type": "stream",
     "text": [
      "Epoch 917: 100%|██████████| 938/938 [00:17<00:00, 54.83batch/s, Train Loss=0.321, Train Acc=87.8]\n"
     ]
    },
    {
     "name": "stdout",
     "output_type": "stream",
     "text": [
      "Epoch 917\n",
      "Train Loss: 0.3207, Train Accuracy: 87.80%\n",
      "Test Loss: 0.3206, Test Accuracy: 87.97%\n",
      "\n"
     ]
    },
    {
     "name": "stderr",
     "output_type": "stream",
     "text": [
      "Epoch 918: 100%|██████████| 938/938 [00:17<00:00, 54.79batch/s, Train Loss=0.318, Train Acc=88]  \n"
     ]
    },
    {
     "name": "stdout",
     "output_type": "stream",
     "text": [
      "Epoch 918\n",
      "Train Loss: 0.3175, Train Accuracy: 87.99%\n",
      "Test Loss: 0.3304, Test Accuracy: 87.53%\n",
      "\n"
     ]
    },
    {
     "name": "stderr",
     "output_type": "stream",
     "text": [
      "Epoch 919: 100%|██████████| 938/938 [00:17<00:00, 54.95batch/s, Train Loss=0.314, Train Acc=88]  \n"
     ]
    },
    {
     "name": "stdout",
     "output_type": "stream",
     "text": [
      "Epoch 919\n",
      "Train Loss: 0.3140, Train Accuracy: 87.97%\n",
      "Test Loss: 0.3279, Test Accuracy: 87.79%\n",
      "\n"
     ]
    },
    {
     "name": "stderr",
     "output_type": "stream",
     "text": [
      "Epoch 920: 100%|██████████| 938/938 [00:17<00:00, 54.79batch/s, Train Loss=0.317, Train Acc=87.9]\n"
     ]
    },
    {
     "name": "stdout",
     "output_type": "stream",
     "text": [
      "Epoch 920\n",
      "Train Loss: 0.3175, Train Accuracy: 87.92%\n",
      "Test Loss: 0.3211, Test Accuracy: 88.20%\n",
      "\n"
     ]
    },
    {
     "name": "stderr",
     "output_type": "stream",
     "text": [
      "Epoch 921: 100%|██████████| 938/938 [00:17<00:00, 54.81batch/s, Train Loss=0.316, Train Acc=88]  \n"
     ]
    },
    {
     "name": "stdout",
     "output_type": "stream",
     "text": [
      "Epoch 921\n",
      "Train Loss: 0.3160, Train Accuracy: 87.95%\n",
      "Test Loss: 0.3324, Test Accuracy: 87.67%\n",
      "\n"
     ]
    },
    {
     "name": "stderr",
     "output_type": "stream",
     "text": [
      "Epoch 922: 100%|██████████| 938/938 [00:17<00:00, 54.91batch/s, Train Loss=0.316, Train Acc=87.9]\n"
     ]
    },
    {
     "name": "stdout",
     "output_type": "stream",
     "text": [
      "Epoch 922\n",
      "Train Loss: 0.3158, Train Accuracy: 87.91%\n",
      "Test Loss: 0.3259, Test Accuracy: 87.96%\n",
      "\n"
     ]
    },
    {
     "name": "stderr",
     "output_type": "stream",
     "text": [
      "Epoch 923: 100%|██████████| 938/938 [00:17<00:00, 54.86batch/s, Train Loss=0.316, Train Acc=88]  \n"
     ]
    },
    {
     "name": "stdout",
     "output_type": "stream",
     "text": [
      "Epoch 923\n",
      "Train Loss: 0.3157, Train Accuracy: 87.95%\n",
      "Test Loss: 0.3342, Test Accuracy: 87.59%\n",
      "\n"
     ]
    },
    {
     "name": "stderr",
     "output_type": "stream",
     "text": [
      "Epoch 924: 100%|██████████| 938/938 [00:17<00:00, 54.84batch/s, Train Loss=0.316, Train Acc=87.9]\n"
     ]
    },
    {
     "name": "stdout",
     "output_type": "stream",
     "text": [
      "Epoch 924\n",
      "Train Loss: 0.3157, Train Accuracy: 87.94%\n",
      "Test Loss: 0.3247, Test Accuracy: 88.00%\n",
      "\n"
     ]
    },
    {
     "name": "stderr",
     "output_type": "stream",
     "text": [
      "Epoch 925: 100%|██████████| 938/938 [00:17<00:00, 54.81batch/s, Train Loss=0.313, Train Acc=88]  \n"
     ]
    },
    {
     "name": "stdout",
     "output_type": "stream",
     "text": [
      "Epoch 925\n",
      "Train Loss: 0.3132, Train Accuracy: 88.01%\n",
      "Test Loss: 0.3220, Test Accuracy: 87.91%\n",
      "\n"
     ]
    },
    {
     "name": "stderr",
     "output_type": "stream",
     "text": [
      "Epoch 926: 100%|██████████| 938/938 [00:17<00:00, 54.92batch/s, Train Loss=0.309, Train Acc=88.2]\n"
     ]
    },
    {
     "name": "stdout",
     "output_type": "stream",
     "text": [
      "Epoch 926\n",
      "Train Loss: 0.3085, Train Accuracy: 88.19%\n",
      "Test Loss: 0.3235, Test Accuracy: 87.99%\n",
      "\n"
     ]
    },
    {
     "name": "stderr",
     "output_type": "stream",
     "text": [
      "Epoch 927: 100%|██████████| 938/938 [00:17<00:00, 54.87batch/s, Train Loss=0.313, Train Acc=88.1]\n"
     ]
    },
    {
     "name": "stdout",
     "output_type": "stream",
     "text": [
      "Epoch 927\n",
      "Train Loss: 0.3133, Train Accuracy: 88.11%\n",
      "Test Loss: 0.3279, Test Accuracy: 87.86%\n",
      "\n"
     ]
    },
    {
     "name": "stderr",
     "output_type": "stream",
     "text": [
      "Epoch 928: 100%|██████████| 938/938 [00:17<00:00, 54.97batch/s, Train Loss=0.312, Train Acc=88]  \n"
     ]
    },
    {
     "name": "stdout",
     "output_type": "stream",
     "text": [
      "Epoch 928\n",
      "Train Loss: 0.3117, Train Accuracy: 88.05%\n",
      "Test Loss: 0.3180, Test Accuracy: 87.93%\n",
      "\n"
     ]
    },
    {
     "name": "stderr",
     "output_type": "stream",
     "text": [
      "Epoch 929: 100%|██████████| 938/938 [00:17<00:00, 54.86batch/s, Train Loss=0.315, Train Acc=88]  \n"
     ]
    },
    {
     "name": "stdout",
     "output_type": "stream",
     "text": [
      "Epoch 929\n",
      "Train Loss: 0.3146, Train Accuracy: 88.00%\n",
      "Test Loss: 0.3260, Test Accuracy: 87.80%\n",
      "\n"
     ]
    },
    {
     "name": "stderr",
     "output_type": "stream",
     "text": [
      "Epoch 930: 100%|██████████| 938/938 [00:17<00:00, 54.94batch/s, Train Loss=0.312, Train Acc=88.2]\n"
     ]
    },
    {
     "name": "stdout",
     "output_type": "stream",
     "text": [
      "Epoch 930\n",
      "Train Loss: 0.3119, Train Accuracy: 88.21%\n",
      "Test Loss: 0.3273, Test Accuracy: 87.72%\n",
      "\n"
     ]
    },
    {
     "name": "stderr",
     "output_type": "stream",
     "text": [
      "Epoch 931: 100%|██████████| 938/938 [00:17<00:00, 54.95batch/s, Train Loss=0.313, Train Acc=88.2]\n"
     ]
    },
    {
     "name": "stdout",
     "output_type": "stream",
     "text": [
      "Epoch 931\n",
      "Train Loss: 0.3129, Train Accuracy: 88.17%\n",
      "Test Loss: 0.3246, Test Accuracy: 87.70%\n",
      "\n"
     ]
    },
    {
     "name": "stderr",
     "output_type": "stream",
     "text": [
      "Epoch 932: 100%|██████████| 938/938 [00:17<00:00, 54.76batch/s, Train Loss=0.31, Train Acc=88.2] \n"
     ]
    },
    {
     "name": "stdout",
     "output_type": "stream",
     "text": [
      "Epoch 932\n",
      "Train Loss: 0.3102, Train Accuracy: 88.19%\n",
      "Test Loss: 0.3299, Test Accuracy: 87.48%\n",
      "\n"
     ]
    },
    {
     "name": "stderr",
     "output_type": "stream",
     "text": [
      "Epoch 933: 100%|██████████| 938/938 [00:17<00:00, 54.91batch/s, Train Loss=0.309, Train Acc=88.4]\n"
     ]
    },
    {
     "name": "stdout",
     "output_type": "stream",
     "text": [
      "Epoch 933\n",
      "Train Loss: 0.3094, Train Accuracy: 88.42%\n",
      "Test Loss: 0.3224, Test Accuracy: 88.13%\n",
      "\n"
     ]
    },
    {
     "name": "stderr",
     "output_type": "stream",
     "text": [
      "Epoch 934: 100%|██████████| 938/938 [00:17<00:00, 54.89batch/s, Train Loss=0.31, Train Acc=88.2] \n"
     ]
    },
    {
     "name": "stdout",
     "output_type": "stream",
     "text": [
      "Epoch 934\n",
      "Train Loss: 0.3099, Train Accuracy: 88.21%\n",
      "Test Loss: 0.3149, Test Accuracy: 88.37%\n",
      "\n"
     ]
    },
    {
     "name": "stderr",
     "output_type": "stream",
     "text": [
      "Epoch 935: 100%|██████████| 938/938 [00:17<00:00, 54.84batch/s, Train Loss=0.308, Train Acc=88.2]\n"
     ]
    },
    {
     "name": "stdout",
     "output_type": "stream",
     "text": [
      "Epoch 935\n",
      "Train Loss: 0.3081, Train Accuracy: 88.22%\n",
      "Test Loss: 0.3210, Test Accuracy: 87.70%\n",
      "\n"
     ]
    },
    {
     "name": "stderr",
     "output_type": "stream",
     "text": [
      "Epoch 936: 100%|██████████| 938/938 [00:17<00:00, 54.86batch/s, Train Loss=0.311, Train Acc=88.2]\n"
     ]
    },
    {
     "name": "stdout",
     "output_type": "stream",
     "text": [
      "Epoch 936\n",
      "Train Loss: 0.3114, Train Accuracy: 88.20%\n",
      "Test Loss: 0.3172, Test Accuracy: 87.98%\n",
      "\n"
     ]
    },
    {
     "name": "stderr",
     "output_type": "stream",
     "text": [
      "Epoch 937: 100%|██████████| 938/938 [00:17<00:00, 54.90batch/s, Train Loss=0.309, Train Acc=88.3]\n"
     ]
    },
    {
     "name": "stdout",
     "output_type": "stream",
     "text": [
      "Epoch 937\n",
      "Train Loss: 0.3092, Train Accuracy: 88.27%\n",
      "Test Loss: 0.3146, Test Accuracy: 88.11%\n",
      "\n"
     ]
    },
    {
     "name": "stderr",
     "output_type": "stream",
     "text": [
      "Epoch 938: 100%|██████████| 938/938 [00:17<00:00, 54.78batch/s, Train Loss=0.309, Train Acc=88.2]\n"
     ]
    },
    {
     "name": "stdout",
     "output_type": "stream",
     "text": [
      "Epoch 938\n",
      "Train Loss: 0.3091, Train Accuracy: 88.22%\n",
      "Test Loss: 0.3142, Test Accuracy: 88.25%\n",
      "\n"
     ]
    },
    {
     "name": "stderr",
     "output_type": "stream",
     "text": [
      "Epoch 939: 100%|██████████| 938/938 [00:16<00:00, 55.18batch/s, Train Loss=0.307, Train Acc=88.2]\n"
     ]
    },
    {
     "name": "stdout",
     "output_type": "stream",
     "text": [
      "Epoch 939\n",
      "Train Loss: 0.3071, Train Accuracy: 88.16%\n",
      "Test Loss: 0.3166, Test Accuracy: 88.23%\n",
      "\n"
     ]
    },
    {
     "name": "stderr",
     "output_type": "stream",
     "text": [
      "Epoch 940: 100%|██████████| 938/938 [00:16<00:00, 55.20batch/s, Train Loss=0.308, Train Acc=88.2]\n"
     ]
    },
    {
     "name": "stdout",
     "output_type": "stream",
     "text": [
      "Epoch 940\n",
      "Train Loss: 0.3083, Train Accuracy: 88.23%\n",
      "Test Loss: 0.3223, Test Accuracy: 87.81%\n",
      "\n"
     ]
    },
    {
     "name": "stderr",
     "output_type": "stream",
     "text": [
      "Epoch 941: 100%|██████████| 938/938 [00:16<00:00, 55.24batch/s, Train Loss=0.307, Train Acc=88.2]\n"
     ]
    },
    {
     "name": "stdout",
     "output_type": "stream",
     "text": [
      "Epoch 941\n",
      "Train Loss: 0.3075, Train Accuracy: 88.20%\n",
      "Test Loss: 0.3294, Test Accuracy: 87.55%\n",
      "\n"
     ]
    },
    {
     "name": "stderr",
     "output_type": "stream",
     "text": [
      "Epoch 942: 100%|██████████| 938/938 [00:17<00:00, 55.16batch/s, Train Loss=0.307, Train Acc=88.3]\n"
     ]
    },
    {
     "name": "stdout",
     "output_type": "stream",
     "text": [
      "Epoch 942\n",
      "Train Loss: 0.3070, Train Accuracy: 88.31%\n",
      "Test Loss: 0.3180, Test Accuracy: 88.20%\n",
      "\n"
     ]
    },
    {
     "name": "stderr",
     "output_type": "stream",
     "text": [
      "Epoch 943: 100%|██████████| 938/938 [00:17<00:00, 55.07batch/s, Train Loss=0.306, Train Acc=88.2]\n"
     ]
    },
    {
     "name": "stdout",
     "output_type": "stream",
     "text": [
      "Epoch 943\n",
      "Train Loss: 0.3065, Train Accuracy: 88.20%\n",
      "Test Loss: 0.3143, Test Accuracy: 88.38%\n",
      "\n"
     ]
    },
    {
     "name": "stderr",
     "output_type": "stream",
     "text": [
      "Epoch 944: 100%|██████████| 938/938 [00:17<00:00, 55.09batch/s, Train Loss=0.306, Train Acc=88.3]\n"
     ]
    },
    {
     "name": "stdout",
     "output_type": "stream",
     "text": [
      "Epoch 944\n",
      "Train Loss: 0.3056, Train Accuracy: 88.26%\n",
      "Test Loss: 0.3115, Test Accuracy: 88.27%\n",
      "\n"
     ]
    },
    {
     "name": "stderr",
     "output_type": "stream",
     "text": [
      "Epoch 945: 100%|██████████| 938/938 [00:16<00:00, 55.31batch/s, Train Loss=0.309, Train Acc=88.2]\n"
     ]
    },
    {
     "name": "stdout",
     "output_type": "stream",
     "text": [
      "Epoch 945\n",
      "Train Loss: 0.3093, Train Accuracy: 88.24%\n",
      "Test Loss: 0.3272, Test Accuracy: 87.89%\n",
      "\n"
     ]
    },
    {
     "name": "stderr",
     "output_type": "stream",
     "text": [
      "Epoch 946: 100%|██████████| 938/938 [00:16<00:00, 55.18batch/s, Train Loss=0.309, Train Acc=88.2]\n"
     ]
    },
    {
     "name": "stdout",
     "output_type": "stream",
     "text": [
      "Epoch 946\n",
      "Train Loss: 0.3088, Train Accuracy: 88.22%\n",
      "Test Loss: 0.3184, Test Accuracy: 88.29%\n",
      "\n"
     ]
    },
    {
     "name": "stderr",
     "output_type": "stream",
     "text": [
      "Epoch 947: 100%|██████████| 938/938 [00:17<00:00, 55.02batch/s, Train Loss=0.306, Train Acc=88.4]\n"
     ]
    },
    {
     "name": "stdout",
     "output_type": "stream",
     "text": [
      "Epoch 947\n",
      "Train Loss: 0.3056, Train Accuracy: 88.39%\n",
      "Test Loss: 0.3230, Test Accuracy: 87.83%\n",
      "\n"
     ]
    },
    {
     "name": "stderr",
     "output_type": "stream",
     "text": [
      "Epoch 948: 100%|██████████| 938/938 [00:16<00:00, 55.21batch/s, Train Loss=0.305, Train Acc=88.2]\n"
     ]
    },
    {
     "name": "stdout",
     "output_type": "stream",
     "text": [
      "Epoch 948\n",
      "Train Loss: 0.3047, Train Accuracy: 88.22%\n",
      "Test Loss: 0.3172, Test Accuracy: 88.11%\n",
      "\n"
     ]
    },
    {
     "name": "stderr",
     "output_type": "stream",
     "text": [
      "Epoch 949: 100%|██████████| 938/938 [00:17<00:00, 55.15batch/s, Train Loss=0.304, Train Acc=88.4]\n"
     ]
    },
    {
     "name": "stdout",
     "output_type": "stream",
     "text": [
      "Epoch 949\n",
      "Train Loss: 0.3037, Train Accuracy: 88.42%\n",
      "Test Loss: 0.3182, Test Accuracy: 88.12%\n",
      "\n"
     ]
    },
    {
     "name": "stderr",
     "output_type": "stream",
     "text": [
      "Epoch 950: 100%|██████████| 938/938 [00:16<00:00, 55.26batch/s, Train Loss=0.304, Train Acc=88.4]\n"
     ]
    },
    {
     "name": "stdout",
     "output_type": "stream",
     "text": [
      "Epoch 950\n",
      "Train Loss: 0.3039, Train Accuracy: 88.38%\n",
      "Test Loss: 0.3287, Test Accuracy: 87.97%\n",
      "\n"
     ]
    },
    {
     "name": "stderr",
     "output_type": "stream",
     "text": [
      "Epoch 951: 100%|██████████| 938/938 [00:17<00:00, 55.12batch/s, Train Loss=0.303, Train Acc=88.4]\n"
     ]
    },
    {
     "name": "stdout",
     "output_type": "stream",
     "text": [
      "Epoch 951\n",
      "Train Loss: 0.3031, Train Accuracy: 88.36%\n",
      "Test Loss: 0.3248, Test Accuracy: 88.02%\n",
      "\n"
     ]
    },
    {
     "name": "stderr",
     "output_type": "stream",
     "text": [
      "Epoch 952: 100%|██████████| 938/938 [00:17<00:00, 55.17batch/s, Train Loss=0.303, Train Acc=88.5]\n"
     ]
    },
    {
     "name": "stdout",
     "output_type": "stream",
     "text": [
      "Epoch 952\n",
      "Train Loss: 0.3035, Train Accuracy: 88.47%\n",
      "Test Loss: 0.3125, Test Accuracy: 88.35%\n",
      "\n"
     ]
    },
    {
     "name": "stderr",
     "output_type": "stream",
     "text": [
      "Epoch 953: 100%|██████████| 938/938 [00:16<00:00, 55.27batch/s, Train Loss=0.306, Train Acc=88.4]\n"
     ]
    },
    {
     "name": "stdout",
     "output_type": "stream",
     "text": [
      "Epoch 953\n",
      "Train Loss: 0.3060, Train Accuracy: 88.36%\n",
      "Test Loss: 0.3204, Test Accuracy: 87.88%\n",
      "\n"
     ]
    },
    {
     "name": "stderr",
     "output_type": "stream",
     "text": [
      "Epoch 954: 100%|██████████| 938/938 [00:16<00:00, 55.19batch/s, Train Loss=0.306, Train Acc=88.3]\n"
     ]
    },
    {
     "name": "stdout",
     "output_type": "stream",
     "text": [
      "Epoch 954\n",
      "Train Loss: 0.3057, Train Accuracy: 88.30%\n",
      "Test Loss: 0.3045, Test Accuracy: 88.38%\n",
      "\n"
     ]
    },
    {
     "name": "stderr",
     "output_type": "stream",
     "text": [
      "Epoch 955: 100%|██████████| 938/938 [00:17<00:00, 55.11batch/s, Train Loss=0.299, Train Acc=88.6]\n"
     ]
    },
    {
     "name": "stdout",
     "output_type": "stream",
     "text": [
      "Epoch 955\n",
      "Train Loss: 0.2992, Train Accuracy: 88.65%\n",
      "Test Loss: 0.3223, Test Accuracy: 88.34%\n",
      "\n"
     ]
    },
    {
     "name": "stderr",
     "output_type": "stream",
     "text": [
      "Epoch 956: 100%|██████████| 938/938 [00:17<00:00, 55.14batch/s, Train Loss=0.303, Train Acc=88.3]\n"
     ]
    },
    {
     "name": "stdout",
     "output_type": "stream",
     "text": [
      "Epoch 956\n",
      "Train Loss: 0.3026, Train Accuracy: 88.28%\n",
      "Test Loss: 0.3212, Test Accuracy: 87.77%\n",
      "\n"
     ]
    },
    {
     "name": "stderr",
     "output_type": "stream",
     "text": [
      "Epoch 957: 100%|██████████| 938/938 [00:16<00:00, 55.38batch/s, Train Loss=0.299, Train Acc=88.6]\n"
     ]
    },
    {
     "name": "stdout",
     "output_type": "stream",
     "text": [
      "Epoch 957\n",
      "Train Loss: 0.2995, Train Accuracy: 88.62%\n",
      "Test Loss: 0.3078, Test Accuracy: 88.45%\n",
      "\n"
     ]
    },
    {
     "name": "stderr",
     "output_type": "stream",
     "text": [
      "Epoch 958: 100%|██████████| 938/938 [00:17<00:00, 55.17batch/s, Train Loss=0.304, Train Acc=88.3]\n"
     ]
    },
    {
     "name": "stdout",
     "output_type": "stream",
     "text": [
      "Epoch 958\n",
      "Train Loss: 0.3042, Train Accuracy: 88.33%\n",
      "Test Loss: 0.3122, Test Accuracy: 88.41%\n",
      "\n"
     ]
    },
    {
     "name": "stderr",
     "output_type": "stream",
     "text": [
      "Epoch 959: 100%|██████████| 938/938 [00:17<00:00, 55.10batch/s, Train Loss=0.302, Train Acc=88.5]\n"
     ]
    },
    {
     "name": "stdout",
     "output_type": "stream",
     "text": [
      "Epoch 959\n",
      "Train Loss: 0.3024, Train Accuracy: 88.50%\n",
      "Test Loss: 0.3213, Test Accuracy: 88.02%\n",
      "\n"
     ]
    },
    {
     "name": "stderr",
     "output_type": "stream",
     "text": [
      "Epoch 960: 100%|██████████| 938/938 [00:17<00:00, 55.13batch/s, Train Loss=0.3, Train Acc=88.6]  \n"
     ]
    },
    {
     "name": "stdout",
     "output_type": "stream",
     "text": [
      "Epoch 960\n",
      "Train Loss: 0.3005, Train Accuracy: 88.61%\n",
      "Test Loss: 0.3132, Test Accuracy: 88.74%\n",
      "\n"
     ]
    },
    {
     "name": "stderr",
     "output_type": "stream",
     "text": [
      "Epoch 961: 100%|██████████| 938/938 [00:17<00:00, 55.09batch/s, Train Loss=0.303, Train Acc=88.5]\n"
     ]
    },
    {
     "name": "stdout",
     "output_type": "stream",
     "text": [
      "Epoch 961\n",
      "Train Loss: 0.3030, Train Accuracy: 88.50%\n",
      "Test Loss: 0.3253, Test Accuracy: 88.12%\n",
      "\n"
     ]
    },
    {
     "name": "stderr",
     "output_type": "stream",
     "text": [
      "Epoch 962: 100%|██████████| 938/938 [00:16<00:00, 55.22batch/s, Train Loss=0.296, Train Acc=88.6]\n"
     ]
    },
    {
     "name": "stdout",
     "output_type": "stream",
     "text": [
      "Epoch 962\n",
      "Train Loss: 0.2963, Train Accuracy: 88.56%\n",
      "Test Loss: 0.3231, Test Accuracy: 88.21%\n",
      "\n"
     ]
    },
    {
     "name": "stderr",
     "output_type": "stream",
     "text": [
      "Epoch 963: 100%|██████████| 938/938 [00:16<00:00, 55.18batch/s, Train Loss=0.3, Train Acc=88.5]  \n"
     ]
    },
    {
     "name": "stdout",
     "output_type": "stream",
     "text": [
      "Epoch 963\n",
      "Train Loss: 0.3003, Train Accuracy: 88.55%\n",
      "Test Loss: 0.3086, Test Accuracy: 88.55%\n",
      "\n"
     ]
    },
    {
     "name": "stderr",
     "output_type": "stream",
     "text": [
      "Epoch 964: 100%|██████████| 938/938 [00:16<00:00, 55.25batch/s, Train Loss=0.297, Train Acc=88.5]\n"
     ]
    },
    {
     "name": "stdout",
     "output_type": "stream",
     "text": [
      "Epoch 964\n",
      "Train Loss: 0.2973, Train Accuracy: 88.50%\n",
      "Test Loss: 0.3130, Test Accuracy: 88.45%\n",
      "\n"
     ]
    },
    {
     "name": "stderr",
     "output_type": "stream",
     "text": [
      "Epoch 965: 100%|██████████| 938/938 [00:17<00:00, 55.15batch/s, Train Loss=0.3, Train Acc=88.5]  \n"
     ]
    },
    {
     "name": "stdout",
     "output_type": "stream",
     "text": [
      "Epoch 965\n",
      "Train Loss: 0.3002, Train Accuracy: 88.52%\n",
      "Test Loss: 0.3158, Test Accuracy: 88.61%\n",
      "\n"
     ]
    },
    {
     "name": "stderr",
     "output_type": "stream",
     "text": [
      "Epoch 966: 100%|██████████| 938/938 [00:16<00:00, 55.23batch/s, Train Loss=0.299, Train Acc=88.5]\n"
     ]
    },
    {
     "name": "stdout",
     "output_type": "stream",
     "text": [
      "Epoch 966\n",
      "Train Loss: 0.2989, Train Accuracy: 88.53%\n",
      "Test Loss: 0.3108, Test Accuracy: 88.67%\n",
      "\n"
     ]
    },
    {
     "name": "stderr",
     "output_type": "stream",
     "text": [
      "Epoch 967: 100%|██████████| 938/938 [00:17<00:00, 55.11batch/s, Train Loss=0.298, Train Acc=88.7]\n"
     ]
    },
    {
     "name": "stdout",
     "output_type": "stream",
     "text": [
      "Epoch 967\n",
      "Train Loss: 0.2978, Train Accuracy: 88.67%\n",
      "Test Loss: 0.3090, Test Accuracy: 88.57%\n",
      "\n"
     ]
    },
    {
     "name": "stderr",
     "output_type": "stream",
     "text": [
      "Epoch 968: 100%|██████████| 938/938 [00:17<00:00, 55.13batch/s, Train Loss=0.301, Train Acc=88.6]\n"
     ]
    },
    {
     "name": "stdout",
     "output_type": "stream",
     "text": [
      "Epoch 968\n",
      "Train Loss: 0.3008, Train Accuracy: 88.60%\n",
      "Test Loss: 0.3202, Test Accuracy: 88.11%\n",
      "\n"
     ]
    },
    {
     "name": "stderr",
     "output_type": "stream",
     "text": [
      "Epoch 969: 100%|██████████| 938/938 [00:17<00:00, 55.10batch/s, Train Loss=0.296, Train Acc=88.6]\n"
     ]
    },
    {
     "name": "stdout",
     "output_type": "stream",
     "text": [
      "Epoch 969\n",
      "Train Loss: 0.2956, Train Accuracy: 88.64%\n",
      "Test Loss: 0.3154, Test Accuracy: 88.62%\n",
      "\n"
     ]
    },
    {
     "name": "stderr",
     "output_type": "stream",
     "text": [
      "Epoch 970: 100%|██████████| 938/938 [00:16<00:00, 55.19batch/s, Train Loss=0.298, Train Acc=88.6]\n"
     ]
    },
    {
     "name": "stdout",
     "output_type": "stream",
     "text": [
      "Epoch 970\n",
      "Train Loss: 0.2977, Train Accuracy: 88.56%\n",
      "Test Loss: 0.3289, Test Accuracy: 88.00%\n",
      "\n"
     ]
    },
    {
     "name": "stderr",
     "output_type": "stream",
     "text": [
      "Epoch 971: 100%|██████████| 938/938 [00:16<00:00, 55.23batch/s, Train Loss=0.296, Train Acc=88.7]\n"
     ]
    },
    {
     "name": "stdout",
     "output_type": "stream",
     "text": [
      "Epoch 971\n",
      "Train Loss: 0.2955, Train Accuracy: 88.69%\n",
      "Test Loss: 0.3152, Test Accuracy: 88.52%\n",
      "\n"
     ]
    },
    {
     "name": "stderr",
     "output_type": "stream",
     "text": [
      "Epoch 972: 100%|██████████| 938/938 [00:17<00:00, 55.10batch/s, Train Loss=0.297, Train Acc=88.7]\n"
     ]
    },
    {
     "name": "stdout",
     "output_type": "stream",
     "text": [
      "Epoch 972\n",
      "Train Loss: 0.2973, Train Accuracy: 88.69%\n",
      "Test Loss: 0.3087, Test Accuracy: 88.73%\n",
      "\n"
     ]
    },
    {
     "name": "stderr",
     "output_type": "stream",
     "text": [
      "Epoch 973: 100%|██████████| 938/938 [00:16<00:00, 55.22batch/s, Train Loss=0.298, Train Acc=88.4]\n"
     ]
    },
    {
     "name": "stdout",
     "output_type": "stream",
     "text": [
      "Epoch 973\n",
      "Train Loss: 0.2977, Train Accuracy: 88.44%\n",
      "Test Loss: 0.3181, Test Accuracy: 88.22%\n",
      "\n"
     ]
    },
    {
     "name": "stderr",
     "output_type": "stream",
     "text": [
      "Epoch 974: 100%|██████████| 938/938 [00:16<00:00, 55.24batch/s, Train Loss=0.296, Train Acc=88.8]\n"
     ]
    },
    {
     "name": "stdout",
     "output_type": "stream",
     "text": [
      "Epoch 974\n",
      "Train Loss: 0.2956, Train Accuracy: 88.81%\n",
      "Test Loss: 0.3164, Test Accuracy: 88.43%\n",
      "\n"
     ]
    },
    {
     "name": "stderr",
     "output_type": "stream",
     "text": [
      "Epoch 975: 100%|██████████| 938/938 [00:16<00:00, 55.26batch/s, Train Loss=0.296, Train Acc=88.6]\n"
     ]
    },
    {
     "name": "stdout",
     "output_type": "stream",
     "text": [
      "Epoch 975\n",
      "Train Loss: 0.2956, Train Accuracy: 88.64%\n",
      "Test Loss: 0.3315, Test Accuracy: 87.48%\n",
      "\n"
     ]
    },
    {
     "name": "stderr",
     "output_type": "stream",
     "text": [
      "Epoch 976: 100%|██████████| 938/938 [00:17<00:00, 55.17batch/s, Train Loss=0.294, Train Acc=88.8]\n"
     ]
    },
    {
     "name": "stdout",
     "output_type": "stream",
     "text": [
      "Epoch 976\n",
      "Train Loss: 0.2942, Train Accuracy: 88.81%\n",
      "Test Loss: 0.3136, Test Accuracy: 88.47%\n",
      "\n"
     ]
    },
    {
     "name": "stderr",
     "output_type": "stream",
     "text": [
      "Epoch 977: 100%|██████████| 938/938 [00:17<00:00, 55.15batch/s, Train Loss=0.293, Train Acc=88.7]\n"
     ]
    },
    {
     "name": "stdout",
     "output_type": "stream",
     "text": [
      "Epoch 977\n",
      "Train Loss: 0.2932, Train Accuracy: 88.68%\n",
      "Test Loss: 0.3187, Test Accuracy: 88.33%\n",
      "\n"
     ]
    },
    {
     "name": "stderr",
     "output_type": "stream",
     "text": [
      "Epoch 978: 100%|██████████| 938/938 [00:17<00:00, 55.16batch/s, Train Loss=0.295, Train Acc=88.6]\n"
     ]
    },
    {
     "name": "stdout",
     "output_type": "stream",
     "text": [
      "Epoch 978\n",
      "Train Loss: 0.2946, Train Accuracy: 88.65%\n",
      "Test Loss: 0.3218, Test Accuracy: 88.25%\n",
      "\n"
     ]
    },
    {
     "name": "stderr",
     "output_type": "stream",
     "text": [
      "Epoch 979: 100%|██████████| 938/938 [00:17<00:00, 55.07batch/s, Train Loss=0.295, Train Acc=88.8]\n"
     ]
    },
    {
     "name": "stdout",
     "output_type": "stream",
     "text": [
      "Epoch 979\n",
      "Train Loss: 0.2949, Train Accuracy: 88.77%\n",
      "Test Loss: 0.3232, Test Accuracy: 87.91%\n",
      "\n"
     ]
    },
    {
     "name": "stderr",
     "output_type": "stream",
     "text": [
      "Epoch 980: 100%|██████████| 938/938 [00:17<00:00, 55.10batch/s, Train Loss=0.294, Train Acc=88.8]\n"
     ]
    },
    {
     "name": "stdout",
     "output_type": "stream",
     "text": [
      "Epoch 980\n",
      "Train Loss: 0.2945, Train Accuracy: 88.75%\n",
      "Test Loss: 0.3212, Test Accuracy: 87.96%\n",
      "\n"
     ]
    },
    {
     "name": "stderr",
     "output_type": "stream",
     "text": [
      "Epoch 981: 100%|██████████| 938/938 [00:16<00:00, 55.21batch/s, Train Loss=0.293, Train Acc=88.8]\n"
     ]
    },
    {
     "name": "stdout",
     "output_type": "stream",
     "text": [
      "Epoch 981\n",
      "Train Loss: 0.2930, Train Accuracy: 88.85%\n",
      "Test Loss: 0.3079, Test Accuracy: 88.34%\n",
      "\n"
     ]
    },
    {
     "name": "stderr",
     "output_type": "stream",
     "text": [
      "Epoch 982: 100%|██████████| 938/938 [00:16<00:00, 55.18batch/s, Train Loss=0.291, Train Acc=88.9]\n"
     ]
    },
    {
     "name": "stdout",
     "output_type": "stream",
     "text": [
      "Epoch 982\n",
      "Train Loss: 0.2911, Train Accuracy: 88.89%\n",
      "Test Loss: 0.3262, Test Accuracy: 87.56%\n",
      "\n"
     ]
    },
    {
     "name": "stderr",
     "output_type": "stream",
     "text": [
      "Epoch 983: 100%|██████████| 938/938 [00:17<00:00, 55.00batch/s, Train Loss=0.297, Train Acc=88.7]\n"
     ]
    },
    {
     "name": "stdout",
     "output_type": "stream",
     "text": [
      "Epoch 983\n",
      "Train Loss: 0.2972, Train Accuracy: 88.69%\n",
      "Test Loss: 0.3066, Test Accuracy: 88.73%\n",
      "\n"
     ]
    },
    {
     "name": "stderr",
     "output_type": "stream",
     "text": [
      "Epoch 984: 100%|██████████| 938/938 [00:16<00:00, 55.21batch/s, Train Loss=0.295, Train Acc=88.6]\n"
     ]
    },
    {
     "name": "stdout",
     "output_type": "stream",
     "text": [
      "Epoch 984\n",
      "Train Loss: 0.2955, Train Accuracy: 88.57%\n",
      "Test Loss: 0.3098, Test Accuracy: 88.40%\n",
      "\n"
     ]
    },
    {
     "name": "stderr",
     "output_type": "stream",
     "text": [
      "Epoch 985: 100%|██████████| 938/938 [00:16<00:00, 55.23batch/s, Train Loss=0.289, Train Acc=88.9]\n"
     ]
    },
    {
     "name": "stdout",
     "output_type": "stream",
     "text": [
      "Epoch 985\n",
      "Train Loss: 0.2886, Train Accuracy: 88.87%\n",
      "Test Loss: 0.3052, Test Accuracy: 88.58%\n",
      "\n"
     ]
    },
    {
     "name": "stderr",
     "output_type": "stream",
     "text": [
      "Epoch 986: 100%|██████████| 938/938 [00:17<00:00, 55.07batch/s, Train Loss=0.294, Train Acc=88.7]\n"
     ]
    },
    {
     "name": "stdout",
     "output_type": "stream",
     "text": [
      "Epoch 986\n",
      "Train Loss: 0.2945, Train Accuracy: 88.66%\n",
      "Test Loss: 0.3123, Test Accuracy: 88.18%\n",
      "\n"
     ]
    },
    {
     "name": "stderr",
     "output_type": "stream",
     "text": [
      "Epoch 987: 100%|██████████| 938/938 [00:16<00:00, 55.19batch/s, Train Loss=0.291, Train Acc=88.9]\n"
     ]
    },
    {
     "name": "stdout",
     "output_type": "stream",
     "text": [
      "Epoch 987\n",
      "Train Loss: 0.2914, Train Accuracy: 88.90%\n",
      "Test Loss: 0.3039, Test Accuracy: 88.48%\n",
      "\n"
     ]
    },
    {
     "name": "stderr",
     "output_type": "stream",
     "text": [
      "Epoch 988: 100%|██████████| 938/938 [00:16<00:00, 55.26batch/s, Train Loss=0.292, Train Acc=88.8]\n"
     ]
    },
    {
     "name": "stdout",
     "output_type": "stream",
     "text": [
      "Epoch 988\n",
      "Train Loss: 0.2923, Train Accuracy: 88.84%\n",
      "Test Loss: 0.3026, Test Accuracy: 88.74%\n",
      "\n"
     ]
    },
    {
     "name": "stderr",
     "output_type": "stream",
     "text": [
      "Epoch 989: 100%|██████████| 938/938 [00:16<00:00, 55.26batch/s, Train Loss=0.294, Train Acc=88.6]\n"
     ]
    },
    {
     "name": "stdout",
     "output_type": "stream",
     "text": [
      "Epoch 989\n",
      "Train Loss: 0.2935, Train Accuracy: 88.59%\n",
      "Test Loss: 0.3089, Test Accuracy: 88.69%\n",
      "\n"
     ]
    },
    {
     "name": "stderr",
     "output_type": "stream",
     "text": [
      "Epoch 990: 100%|██████████| 938/938 [00:17<00:00, 55.13batch/s, Train Loss=0.29, Train Acc=88.9] \n"
     ]
    },
    {
     "name": "stdout",
     "output_type": "stream",
     "text": [
      "Epoch 990\n",
      "Train Loss: 0.2900, Train Accuracy: 88.88%\n",
      "Test Loss: 0.3110, Test Accuracy: 88.41%\n",
      "\n"
     ]
    },
    {
     "name": "stderr",
     "output_type": "stream",
     "text": [
      "Epoch 991: 100%|██████████| 938/938 [00:16<00:00, 55.34batch/s, Train Loss=0.288, Train Acc=88.9]\n"
     ]
    },
    {
     "name": "stdout",
     "output_type": "stream",
     "text": [
      "Epoch 991\n",
      "Train Loss: 0.2884, Train Accuracy: 88.91%\n",
      "Test Loss: 0.3072, Test Accuracy: 88.76%\n",
      "\n"
     ]
    },
    {
     "name": "stderr",
     "output_type": "stream",
     "text": [
      "Epoch 992: 100%|██████████| 938/938 [00:17<00:00, 55.16batch/s, Train Loss=0.291, Train Acc=88.8]\n"
     ]
    },
    {
     "name": "stdout",
     "output_type": "stream",
     "text": [
      "Epoch 992\n",
      "Train Loss: 0.2914, Train Accuracy: 88.76%\n",
      "Test Loss: 0.3103, Test Accuracy: 88.59%\n",
      "\n"
     ]
    },
    {
     "name": "stderr",
     "output_type": "stream",
     "text": [
      "Epoch 993: 100%|██████████| 938/938 [00:17<00:00, 55.16batch/s, Train Loss=0.289, Train Acc=88.9]\n"
     ]
    },
    {
     "name": "stdout",
     "output_type": "stream",
     "text": [
      "Epoch 993\n",
      "Train Loss: 0.2886, Train Accuracy: 88.88%\n",
      "Test Loss: 0.3136, Test Accuracy: 88.44%\n",
      "\n"
     ]
    },
    {
     "name": "stderr",
     "output_type": "stream",
     "text": [
      "Epoch 994: 100%|██████████| 938/938 [00:16<00:00, 55.18batch/s, Train Loss=0.291, Train Acc=88.7]\n"
     ]
    },
    {
     "name": "stdout",
     "output_type": "stream",
     "text": [
      "Epoch 994\n",
      "Train Loss: 0.2914, Train Accuracy: 88.66%\n",
      "Test Loss: 0.3148, Test Accuracy: 88.50%\n",
      "\n"
     ]
    },
    {
     "name": "stderr",
     "output_type": "stream",
     "text": [
      "Epoch 995: 100%|██████████| 938/938 [00:17<00:00, 55.12batch/s, Train Loss=0.29, Train Acc=88.9] \n"
     ]
    },
    {
     "name": "stdout",
     "output_type": "stream",
     "text": [
      "Epoch 995\n",
      "Train Loss: 0.2895, Train Accuracy: 88.86%\n",
      "Test Loss: 0.3149, Test Accuracy: 88.33%\n",
      "\n"
     ]
    },
    {
     "name": "stderr",
     "output_type": "stream",
     "text": [
      "Epoch 996: 100%|██████████| 938/938 [00:16<00:00, 55.27batch/s, Train Loss=0.289, Train Acc=89]  \n"
     ]
    },
    {
     "name": "stdout",
     "output_type": "stream",
     "text": [
      "Epoch 996\n",
      "Train Loss: 0.2886, Train Accuracy: 88.98%\n",
      "Test Loss: 0.3203, Test Accuracy: 88.17%\n",
      "\n"
     ]
    },
    {
     "name": "stderr",
     "output_type": "stream",
     "text": [
      "Epoch 997: 100%|██████████| 938/938 [00:17<00:00, 55.16batch/s, Train Loss=0.288, Train Acc=89.1]\n"
     ]
    },
    {
     "name": "stdout",
     "output_type": "stream",
     "text": [
      "Epoch 997\n",
      "Train Loss: 0.2878, Train Accuracy: 89.10%\n",
      "Test Loss: 0.3104, Test Accuracy: 88.49%\n",
      "\n"
     ]
    },
    {
     "name": "stderr",
     "output_type": "stream",
     "text": [
      "Epoch 998: 100%|██████████| 938/938 [00:16<00:00, 55.23batch/s, Train Loss=0.29, Train Acc=89]   \n"
     ]
    },
    {
     "name": "stdout",
     "output_type": "stream",
     "text": [
      "Epoch 998\n",
      "Train Loss: 0.2898, Train Accuracy: 89.00%\n",
      "Test Loss: 0.3299, Test Accuracy: 87.92%\n",
      "\n"
     ]
    },
    {
     "name": "stderr",
     "output_type": "stream",
     "text": [
      "Epoch 999: 100%|██████████| 938/938 [00:16<00:00, 55.32batch/s, Train Loss=0.29, Train Acc=88.8] \n"
     ]
    },
    {
     "name": "stdout",
     "output_type": "stream",
     "text": [
      "Epoch 999\n",
      "Train Loss: 0.2896, Train Accuracy: 88.77%\n",
      "Test Loss: 0.3217, Test Accuracy: 88.32%\n",
      "\n"
     ]
    },
    {
     "name": "stderr",
     "output_type": "stream",
     "text": [
      "Epoch 1000: 100%|██████████| 938/938 [00:16<00:00, 55.25batch/s, Train Loss=0.288, Train Acc=89]  \n"
     ]
    },
    {
     "name": "stdout",
     "output_type": "stream",
     "text": [
      "Epoch 1000\n",
      "Train Loss: 0.2879, Train Accuracy: 89.02%\n",
      "Test Loss: 0.3118, Test Accuracy: 88.68%\n",
      "\n"
     ]
    },
    {
     "name": "stderr",
     "output_type": "stream",
     "text": [
      "Epoch 1001: 100%|██████████| 938/938 [00:16<00:00, 55.24batch/s, Train Loss=0.287, Train Acc=89]  \n"
     ]
    },
    {
     "name": "stdout",
     "output_type": "stream",
     "text": [
      "Epoch 1001\n",
      "Train Loss: 0.2866, Train Accuracy: 88.96%\n",
      "Test Loss: 0.3240, Test Accuracy: 88.07%\n",
      "\n"
     ]
    },
    {
     "name": "stderr",
     "output_type": "stream",
     "text": [
      "Epoch 1002: 100%|██████████| 938/938 [00:16<00:00, 55.23batch/s, Train Loss=0.288, Train Acc=89]  \n"
     ]
    },
    {
     "name": "stdout",
     "output_type": "stream",
     "text": [
      "Epoch 1002\n",
      "Train Loss: 0.2875, Train Accuracy: 89.00%\n",
      "Test Loss: 0.3158, Test Accuracy: 88.52%\n",
      "\n"
     ]
    },
    {
     "name": "stderr",
     "output_type": "stream",
     "text": [
      "Epoch 1003: 100%|██████████| 938/938 [00:16<00:00, 55.23batch/s, Train Loss=0.287, Train Acc=89.1]\n"
     ]
    },
    {
     "name": "stdout",
     "output_type": "stream",
     "text": [
      "Epoch 1003\n",
      "Train Loss: 0.2867, Train Accuracy: 89.14%\n",
      "Test Loss: 0.3211, Test Accuracy: 88.40%\n",
      "\n"
     ]
    },
    {
     "name": "stderr",
     "output_type": "stream",
     "text": [
      "Epoch 1004: 100%|██████████| 938/938 [00:17<00:00, 55.12batch/s, Train Loss=0.287, Train Acc=89]  \n"
     ]
    },
    {
     "name": "stdout",
     "output_type": "stream",
     "text": [
      "Epoch 1004\n",
      "Train Loss: 0.2875, Train Accuracy: 89.02%\n",
      "Test Loss: 0.3162, Test Accuracy: 88.25%\n",
      "\n"
     ]
    },
    {
     "name": "stderr",
     "output_type": "stream",
     "text": [
      "Epoch 1005: 100%|██████████| 938/938 [00:16<00:00, 55.25batch/s, Train Loss=0.286, Train Acc=89.1]\n"
     ]
    },
    {
     "name": "stdout",
     "output_type": "stream",
     "text": [
      "Epoch 1005\n",
      "Train Loss: 0.2862, Train Accuracy: 89.13%\n",
      "Test Loss: 0.3049, Test Accuracy: 88.51%\n",
      "\n"
     ]
    },
    {
     "name": "stderr",
     "output_type": "stream",
     "text": [
      "Epoch 1006: 100%|██████████| 938/938 [00:17<00:00, 55.10batch/s, Train Loss=0.283, Train Acc=89.2]\n"
     ]
    },
    {
     "name": "stdout",
     "output_type": "stream",
     "text": [
      "Epoch 1006\n",
      "Train Loss: 0.2831, Train Accuracy: 89.15%\n",
      "Test Loss: 0.3143, Test Accuracy: 88.46%\n",
      "\n"
     ]
    },
    {
     "name": "stderr",
     "output_type": "stream",
     "text": [
      "Epoch 1007: 100%|██████████| 938/938 [00:17<00:00, 55.16batch/s, Train Loss=0.283, Train Acc=89.2]\n"
     ]
    },
    {
     "name": "stdout",
     "output_type": "stream",
     "text": [
      "Epoch 1007\n",
      "Train Loss: 0.2825, Train Accuracy: 89.23%\n",
      "Test Loss: 0.3061, Test Accuracy: 88.84%\n",
      "\n"
     ]
    },
    {
     "name": "stderr",
     "output_type": "stream",
     "text": [
      "Epoch 1008: 100%|██████████| 938/938 [00:16<00:00, 55.20batch/s, Train Loss=0.286, Train Acc=89.1]\n"
     ]
    },
    {
     "name": "stdout",
     "output_type": "stream",
     "text": [
      "Epoch 1008\n",
      "Train Loss: 0.2860, Train Accuracy: 89.08%\n",
      "Test Loss: 0.3238, Test Accuracy: 88.17%\n",
      "\n"
     ]
    },
    {
     "name": "stderr",
     "output_type": "stream",
     "text": [
      "Epoch 1009: 100%|██████████| 938/938 [00:16<00:00, 55.31batch/s, Train Loss=0.285, Train Acc=89.1]\n"
     ]
    },
    {
     "name": "stdout",
     "output_type": "stream",
     "text": [
      "Epoch 1009\n",
      "Train Loss: 0.2854, Train Accuracy: 89.11%\n",
      "Test Loss: 0.3128, Test Accuracy: 88.62%\n",
      "\n"
     ]
    },
    {
     "name": "stderr",
     "output_type": "stream",
     "text": [
      "Epoch 1010: 100%|██████████| 938/938 [00:17<00:00, 55.16batch/s, Train Loss=0.284, Train Acc=89.1]\n"
     ]
    },
    {
     "name": "stdout",
     "output_type": "stream",
     "text": [
      "Epoch 1010\n",
      "Train Loss: 0.2838, Train Accuracy: 89.13%\n",
      "Test Loss: 0.3114, Test Accuracy: 88.48%\n",
      "\n"
     ]
    },
    {
     "name": "stderr",
     "output_type": "stream",
     "text": [
      "Epoch 1011: 100%|██████████| 938/938 [00:16<00:00, 55.21batch/s, Train Loss=0.285, Train Acc=89]  \n"
     ]
    },
    {
     "name": "stdout",
     "output_type": "stream",
     "text": [
      "Epoch 1011\n",
      "Train Loss: 0.2853, Train Accuracy: 88.98%\n",
      "Test Loss: 0.3150, Test Accuracy: 88.24%\n",
      "\n"
     ]
    },
    {
     "name": "stderr",
     "output_type": "stream",
     "text": [
      "Epoch 1012: 100%|██████████| 938/938 [00:16<00:00, 55.25batch/s, Train Loss=0.284, Train Acc=89.1]\n"
     ]
    },
    {
     "name": "stdout",
     "output_type": "stream",
     "text": [
      "Epoch 1012\n",
      "Train Loss: 0.2839, Train Accuracy: 89.12%\n",
      "Test Loss: 0.3106, Test Accuracy: 88.40%\n",
      "\n"
     ]
    },
    {
     "name": "stderr",
     "output_type": "stream",
     "text": [
      "Epoch 1013: 100%|██████████| 938/938 [00:17<00:00, 55.17batch/s, Train Loss=0.284, Train Acc=89.2]\n"
     ]
    },
    {
     "name": "stdout",
     "output_type": "stream",
     "text": [
      "Epoch 1013\n",
      "Train Loss: 0.2844, Train Accuracy: 89.18%\n",
      "Test Loss: 0.3173, Test Accuracy: 88.28%\n",
      "\n"
     ]
    },
    {
     "name": "stderr",
     "output_type": "stream",
     "text": [
      "Epoch 1014: 100%|██████████| 938/938 [00:17<00:00, 55.13batch/s, Train Loss=0.282, Train Acc=89.3]\n"
     ]
    },
    {
     "name": "stdout",
     "output_type": "stream",
     "text": [
      "Epoch 1014\n",
      "Train Loss: 0.2824, Train Accuracy: 89.32%\n",
      "Test Loss: 0.3057, Test Accuracy: 88.89%\n",
      "\n"
     ]
    },
    {
     "name": "stderr",
     "output_type": "stream",
     "text": [
      "Epoch 1015: 100%|██████████| 938/938 [00:16<00:00, 55.33batch/s, Train Loss=0.283, Train Acc=89.2]\n"
     ]
    },
    {
     "name": "stdout",
     "output_type": "stream",
     "text": [
      "Epoch 1015\n",
      "Train Loss: 0.2831, Train Accuracy: 89.17%\n",
      "Test Loss: 0.3169, Test Accuracy: 88.30%\n",
      "\n"
     ]
    },
    {
     "name": "stderr",
     "output_type": "stream",
     "text": [
      "Epoch 1016: 100%|██████████| 938/938 [00:16<00:00, 55.30batch/s, Train Loss=0.281, Train Acc=89.2]\n"
     ]
    },
    {
     "name": "stdout",
     "output_type": "stream",
     "text": [
      "Epoch 1016\n",
      "Train Loss: 0.2812, Train Accuracy: 89.23%\n",
      "Test Loss: 0.3114, Test Accuracy: 88.78%\n",
      "\n"
     ]
    },
    {
     "name": "stderr",
     "output_type": "stream",
     "text": [
      "Epoch 1017: 100%|██████████| 938/938 [00:16<00:00, 55.23batch/s, Train Loss=0.28, Train Acc=89.3] \n"
     ]
    },
    {
     "name": "stdout",
     "output_type": "stream",
     "text": [
      "Epoch 1017\n",
      "Train Loss: 0.2803, Train Accuracy: 89.26%\n",
      "Test Loss: 0.3099, Test Accuracy: 88.66%\n",
      "\n"
     ]
    },
    {
     "name": "stderr",
     "output_type": "stream",
     "text": [
      "Epoch 1018: 100%|██████████| 938/938 [00:16<00:00, 55.20batch/s, Train Loss=0.28, Train Acc=89.2] \n"
     ]
    },
    {
     "name": "stdout",
     "output_type": "stream",
     "text": [
      "Epoch 1018\n",
      "Train Loss: 0.2799, Train Accuracy: 89.23%\n",
      "Test Loss: 0.3073, Test Accuracy: 88.77%\n",
      "\n"
     ]
    },
    {
     "name": "stderr",
     "output_type": "stream",
     "text": [
      "Epoch 1019: 100%|██████████| 938/938 [00:17<00:00, 55.10batch/s, Train Loss=0.282, Train Acc=89.3]\n"
     ]
    },
    {
     "name": "stdout",
     "output_type": "stream",
     "text": [
      "Epoch 1019\n",
      "Train Loss: 0.2821, Train Accuracy: 89.27%\n",
      "Test Loss: 0.3087, Test Accuracy: 88.85%\n",
      "\n"
     ]
    },
    {
     "name": "stderr",
     "output_type": "stream",
     "text": [
      "Epoch 1020: 100%|██████████| 938/938 [00:17<00:00, 55.12batch/s, Train Loss=0.28, Train Acc=89.4] \n"
     ]
    },
    {
     "name": "stdout",
     "output_type": "stream",
     "text": [
      "Epoch 1020\n",
      "Train Loss: 0.2804, Train Accuracy: 89.42%\n",
      "Test Loss: 0.3127, Test Accuracy: 88.57%\n",
      "\n"
     ]
    },
    {
     "name": "stderr",
     "output_type": "stream",
     "text": [
      "Epoch 1021: 100%|██████████| 938/938 [00:16<00:00, 55.19batch/s, Train Loss=0.28, Train Acc=89.3] \n"
     ]
    },
    {
     "name": "stdout",
     "output_type": "stream",
     "text": [
      "Epoch 1021\n",
      "Train Loss: 0.2802, Train Accuracy: 89.30%\n",
      "Test Loss: 0.3198, Test Accuracy: 88.62%\n",
      "\n"
     ]
    },
    {
     "name": "stderr",
     "output_type": "stream",
     "text": [
      "Epoch 1022: 100%|██████████| 938/938 [00:17<00:00, 55.14batch/s, Train Loss=0.281, Train Acc=89.3]\n"
     ]
    },
    {
     "name": "stdout",
     "output_type": "stream",
     "text": [
      "Epoch 1022\n",
      "Train Loss: 0.2805, Train Accuracy: 89.28%\n",
      "Test Loss: 0.3097, Test Accuracy: 88.53%\n",
      "\n"
     ]
    },
    {
     "name": "stderr",
     "output_type": "stream",
     "text": [
      "Epoch 1023: 100%|██████████| 938/938 [00:17<00:00, 55.01batch/s, Train Loss=0.28, Train Acc=89.3] \n"
     ]
    },
    {
     "name": "stdout",
     "output_type": "stream",
     "text": [
      "Epoch 1023\n",
      "Train Loss: 0.2804, Train Accuracy: 89.26%\n",
      "Test Loss: 0.3214, Test Accuracy: 88.08%\n",
      "\n"
     ]
    },
    {
     "name": "stderr",
     "output_type": "stream",
     "text": [
      "Epoch 1024: 100%|██████████| 938/938 [00:16<00:00, 55.18batch/s, Train Loss=0.282, Train Acc=89.2]\n"
     ]
    },
    {
     "name": "stdout",
     "output_type": "stream",
     "text": [
      "Epoch 1024\n",
      "Train Loss: 0.2820, Train Accuracy: 89.22%\n",
      "Test Loss: 0.3102, Test Accuracy: 88.49%\n",
      "\n"
     ]
    },
    {
     "name": "stderr",
     "output_type": "stream",
     "text": [
      "Epoch 1025: 100%|██████████| 938/938 [00:16<00:00, 55.18batch/s, Train Loss=0.279, Train Acc=89.3]\n"
     ]
    },
    {
     "name": "stdout",
     "output_type": "stream",
     "text": [
      "Epoch 1025\n",
      "Train Loss: 0.2793, Train Accuracy: 89.27%\n",
      "Test Loss: 0.3122, Test Accuracy: 88.17%\n",
      "\n"
     ]
    },
    {
     "name": "stderr",
     "output_type": "stream",
     "text": [
      "Epoch 1026: 100%|██████████| 938/938 [00:17<00:00, 55.16batch/s, Train Loss=0.277, Train Acc=89.3]\n"
     ]
    },
    {
     "name": "stdout",
     "output_type": "stream",
     "text": [
      "Epoch 1026\n",
      "Train Loss: 0.2774, Train Accuracy: 89.33%\n",
      "Test Loss: 0.3043, Test Accuracy: 88.34%\n",
      "\n"
     ]
    },
    {
     "name": "stderr",
     "output_type": "stream",
     "text": [
      "Epoch 1027: 100%|██████████| 938/938 [00:17<00:00, 55.08batch/s, Train Loss=0.273, Train Acc=89.6]\n"
     ]
    },
    {
     "name": "stdout",
     "output_type": "stream",
     "text": [
      "Epoch 1027\n",
      "Train Loss: 0.2726, Train Accuracy: 89.59%\n",
      "Test Loss: 0.3107, Test Accuracy: 88.25%\n",
      "\n"
     ]
    },
    {
     "name": "stderr",
     "output_type": "stream",
     "text": [
      "Epoch 1028: 100%|██████████| 938/938 [00:17<00:00, 54.86batch/s, Train Loss=0.279, Train Acc=89.4]\n"
     ]
    },
    {
     "name": "stdout",
     "output_type": "stream",
     "text": [
      "Epoch 1028\n",
      "Train Loss: 0.2787, Train Accuracy: 89.44%\n",
      "Test Loss: 0.3108, Test Accuracy: 88.43%\n",
      "\n"
     ]
    },
    {
     "name": "stderr",
     "output_type": "stream",
     "text": [
      "Epoch 1029: 100%|██████████| 938/938 [00:16<00:00, 55.23batch/s, Train Loss=0.276, Train Acc=89.4]\n"
     ]
    },
    {
     "name": "stdout",
     "output_type": "stream",
     "text": [
      "Epoch 1029\n",
      "Train Loss: 0.2755, Train Accuracy: 89.42%\n",
      "Test Loss: 0.3075, Test Accuracy: 88.47%\n",
      "\n"
     ]
    },
    {
     "name": "stderr",
     "output_type": "stream",
     "text": [
      "Epoch 1030: 100%|██████████| 938/938 [00:16<00:00, 55.22batch/s, Train Loss=0.277, Train Acc=89.4]\n"
     ]
    },
    {
     "name": "stdout",
     "output_type": "stream",
     "text": [
      "Epoch 1030\n",
      "Train Loss: 0.2775, Train Accuracy: 89.43%\n",
      "Test Loss: 0.3113, Test Accuracy: 88.44%\n",
      "\n"
     ]
    },
    {
     "name": "stderr",
     "output_type": "stream",
     "text": [
      "Epoch 1031: 100%|██████████| 938/938 [00:17<00:00, 55.03batch/s, Train Loss=0.276, Train Acc=89.5]\n"
     ]
    },
    {
     "name": "stdout",
     "output_type": "stream",
     "text": [
      "Epoch 1031\n",
      "Train Loss: 0.2762, Train Accuracy: 89.48%\n",
      "Test Loss: 0.3195, Test Accuracy: 88.34%\n",
      "\n"
     ]
    },
    {
     "name": "stderr",
     "output_type": "stream",
     "text": [
      "Epoch 1032: 100%|██████████| 938/938 [00:17<00:00, 55.05batch/s, Train Loss=0.275, Train Acc=89.4]\n"
     ]
    },
    {
     "name": "stdout",
     "output_type": "stream",
     "text": [
      "Epoch 1032\n",
      "Train Loss: 0.2750, Train Accuracy: 89.38%\n",
      "Test Loss: 0.3137, Test Accuracy: 88.44%\n",
      "\n"
     ]
    },
    {
     "name": "stderr",
     "output_type": "stream",
     "text": [
      "Epoch 1033: 100%|██████████| 938/938 [00:17<00:00, 55.16batch/s, Train Loss=0.273, Train Acc=89.5]\n"
     ]
    },
    {
     "name": "stdout",
     "output_type": "stream",
     "text": [
      "Epoch 1033\n",
      "Train Loss: 0.2725, Train Accuracy: 89.48%\n",
      "Test Loss: 0.3114, Test Accuracy: 88.54%\n",
      "\n"
     ]
    },
    {
     "name": "stderr",
     "output_type": "stream",
     "text": [
      "Epoch 1034: 100%|██████████| 938/938 [00:17<00:00, 55.13batch/s, Train Loss=0.278, Train Acc=89.4]\n"
     ]
    },
    {
     "name": "stdout",
     "output_type": "stream",
     "text": [
      "Epoch 1034\n",
      "Train Loss: 0.2782, Train Accuracy: 89.39%\n",
      "Test Loss: 0.3133, Test Accuracy: 88.45%\n",
      "\n"
     ]
    },
    {
     "name": "stderr",
     "output_type": "stream",
     "text": [
      "Epoch 1035: 100%|██████████| 938/938 [00:17<00:00, 55.15batch/s, Train Loss=0.274, Train Acc=89.4]\n"
     ]
    },
    {
     "name": "stdout",
     "output_type": "stream",
     "text": [
      "Epoch 1035\n",
      "Train Loss: 0.2743, Train Accuracy: 89.44%\n",
      "Test Loss: 0.3156, Test Accuracy: 88.54%\n",
      "\n"
     ]
    },
    {
     "name": "stderr",
     "output_type": "stream",
     "text": [
      "Epoch 1036: 100%|██████████| 938/938 [00:17<00:00, 55.11batch/s, Train Loss=0.276, Train Acc=89.5]\n"
     ]
    },
    {
     "name": "stdout",
     "output_type": "stream",
     "text": [
      "Epoch 1036\n",
      "Train Loss: 0.2756, Train Accuracy: 89.53%\n",
      "Test Loss: 0.3207, Test Accuracy: 88.35%\n",
      "\n"
     ]
    },
    {
     "name": "stderr",
     "output_type": "stream",
     "text": [
      "Epoch 1037: 100%|██████████| 938/938 [00:17<00:00, 55.17batch/s, Train Loss=0.276, Train Acc=89.4]\n"
     ]
    },
    {
     "name": "stdout",
     "output_type": "stream",
     "text": [
      "Epoch 1037\n",
      "Train Loss: 0.2756, Train Accuracy: 89.42%\n",
      "Test Loss: 0.3048, Test Accuracy: 89.23%\n",
      "\n"
     ]
    },
    {
     "name": "stderr",
     "output_type": "stream",
     "text": [
      "Epoch 1038: 100%|██████████| 938/938 [00:17<00:00, 55.13batch/s, Train Loss=0.277, Train Acc=89.5]\n"
     ]
    },
    {
     "name": "stdout",
     "output_type": "stream",
     "text": [
      "Epoch 1038\n",
      "Train Loss: 0.2769, Train Accuracy: 89.50%\n",
      "Test Loss: 0.3163, Test Accuracy: 88.39%\n",
      "\n"
     ]
    },
    {
     "name": "stderr",
     "output_type": "stream",
     "text": [
      "Epoch 1039: 100%|██████████| 938/938 [00:17<00:00, 55.08batch/s, Train Loss=0.275, Train Acc=89.5]\n"
     ]
    },
    {
     "name": "stdout",
     "output_type": "stream",
     "text": [
      "Epoch 1039\n",
      "Train Loss: 0.2749, Train Accuracy: 89.51%\n",
      "Test Loss: 0.3142, Test Accuracy: 88.45%\n",
      "\n"
     ]
    },
    {
     "name": "stderr",
     "output_type": "stream",
     "text": [
      "Epoch 1040: 100%|██████████| 938/938 [00:17<00:00, 55.08batch/s, Train Loss=0.275, Train Acc=89.5]\n"
     ]
    },
    {
     "name": "stdout",
     "output_type": "stream",
     "text": [
      "Epoch 1040\n",
      "Train Loss: 0.2747, Train Accuracy: 89.52%\n",
      "Test Loss: 0.3106, Test Accuracy: 88.61%\n",
      "\n"
     ]
    },
    {
     "name": "stderr",
     "output_type": "stream",
     "text": [
      "Epoch 1041: 100%|██████████| 938/938 [00:17<00:00, 55.15batch/s, Train Loss=0.273, Train Acc=89.6]\n"
     ]
    },
    {
     "name": "stdout",
     "output_type": "stream",
     "text": [
      "Epoch 1041\n",
      "Train Loss: 0.2733, Train Accuracy: 89.59%\n",
      "Test Loss: 0.2958, Test Accuracy: 89.19%\n",
      "\n"
     ]
    },
    {
     "name": "stderr",
     "output_type": "stream",
     "text": [
      "Epoch 1042: 100%|██████████| 938/938 [00:16<00:00, 55.19batch/s, Train Loss=0.273, Train Acc=89.5]\n"
     ]
    },
    {
     "name": "stdout",
     "output_type": "stream",
     "text": [
      "Epoch 1042\n",
      "Train Loss: 0.2732, Train Accuracy: 89.55%\n",
      "Test Loss: 0.2975, Test Accuracy: 89.14%\n",
      "\n"
     ]
    },
    {
     "name": "stderr",
     "output_type": "stream",
     "text": [
      "Epoch 1043: 100%|██████████| 938/938 [00:16<00:00, 55.20batch/s, Train Loss=0.274, Train Acc=89.5]\n"
     ]
    },
    {
     "name": "stdout",
     "output_type": "stream",
     "text": [
      "Epoch 1043\n",
      "Train Loss: 0.2736, Train Accuracy: 89.54%\n",
      "Test Loss: 0.2989, Test Accuracy: 88.95%\n",
      "\n"
     ]
    },
    {
     "name": "stderr",
     "output_type": "stream",
     "text": [
      "Epoch 1044: 100%|██████████| 938/938 [00:17<00:00, 55.15batch/s, Train Loss=0.272, Train Acc=89.6]\n"
     ]
    },
    {
     "name": "stdout",
     "output_type": "stream",
     "text": [
      "Epoch 1044\n",
      "Train Loss: 0.2720, Train Accuracy: 89.64%\n",
      "Test Loss: 0.3184, Test Accuracy: 88.27%\n",
      "\n"
     ]
    },
    {
     "name": "stderr",
     "output_type": "stream",
     "text": [
      "Epoch 1045: 100%|██████████| 938/938 [00:16<00:00, 55.19batch/s, Train Loss=0.277, Train Acc=89.5]\n"
     ]
    },
    {
     "name": "stdout",
     "output_type": "stream",
     "text": [
      "Epoch 1045\n",
      "Train Loss: 0.2766, Train Accuracy: 89.47%\n",
      "Test Loss: 0.3069, Test Accuracy: 88.70%\n",
      "\n"
     ]
    },
    {
     "name": "stderr",
     "output_type": "stream",
     "text": [
      "Epoch 1046: 100%|██████████| 938/938 [00:16<00:00, 55.22batch/s, Train Loss=0.273, Train Acc=89.4]\n"
     ]
    },
    {
     "name": "stdout",
     "output_type": "stream",
     "text": [
      "Epoch 1046\n",
      "Train Loss: 0.2727, Train Accuracy: 89.41%\n",
      "Test Loss: 0.3091, Test Accuracy: 88.69%\n",
      "\n"
     ]
    },
    {
     "name": "stderr",
     "output_type": "stream",
     "text": [
      "Epoch 1047: 100%|██████████| 938/938 [00:16<00:00, 55.18batch/s, Train Loss=0.273, Train Acc=89.5]\n"
     ]
    },
    {
     "name": "stdout",
     "output_type": "stream",
     "text": [
      "Epoch 1047\n",
      "Train Loss: 0.2726, Train Accuracy: 89.47%\n",
      "Test Loss: 0.3089, Test Accuracy: 88.26%\n",
      "\n"
     ]
    },
    {
     "name": "stderr",
     "output_type": "stream",
     "text": [
      "Epoch 1048: 100%|██████████| 938/938 [00:16<00:00, 55.22batch/s, Train Loss=0.274, Train Acc=89.5]\n"
     ]
    },
    {
     "name": "stdout",
     "output_type": "stream",
     "text": [
      "Epoch 1048\n",
      "Train Loss: 0.2740, Train Accuracy: 89.50%\n",
      "Test Loss: 0.3184, Test Accuracy: 88.27%\n",
      "\n"
     ]
    },
    {
     "name": "stderr",
     "output_type": "stream",
     "text": [
      "Epoch 1049: 100%|██████████| 938/938 [00:17<00:00, 55.14batch/s, Train Loss=0.27, Train Acc=89.8] \n"
     ]
    },
    {
     "name": "stdout",
     "output_type": "stream",
     "text": [
      "Epoch 1049\n",
      "Train Loss: 0.2701, Train Accuracy: 89.83%\n",
      "Test Loss: 0.3047, Test Accuracy: 89.03%\n",
      "\n"
     ]
    },
    {
     "name": "stderr",
     "output_type": "stream",
     "text": [
      "Epoch 1050: 100%|██████████| 938/938 [00:17<00:00, 55.09batch/s, Train Loss=0.27, Train Acc=89.6] \n"
     ]
    },
    {
     "name": "stdout",
     "output_type": "stream",
     "text": [
      "Epoch 1050\n",
      "Train Loss: 0.2697, Train Accuracy: 89.62%\n",
      "Test Loss: 0.3177, Test Accuracy: 88.45%\n",
      "\n"
     ]
    },
    {
     "name": "stderr",
     "output_type": "stream",
     "text": [
      "Epoch 1051: 100%|██████████| 938/938 [00:16<00:00, 55.19batch/s, Train Loss=0.269, Train Acc=89.9]\n"
     ]
    },
    {
     "name": "stdout",
     "output_type": "stream",
     "text": [
      "Epoch 1051\n",
      "Train Loss: 0.2686, Train Accuracy: 89.95%\n",
      "Test Loss: 0.3040, Test Accuracy: 88.91%\n",
      "\n"
     ]
    },
    {
     "name": "stderr",
     "output_type": "stream",
     "text": [
      "Epoch 1052: 100%|██████████| 938/938 [00:16<00:00, 55.32batch/s, Train Loss=0.274, Train Acc=89.5]\n"
     ]
    },
    {
     "name": "stdout",
     "output_type": "stream",
     "text": [
      "Epoch 1052\n",
      "Train Loss: 0.2738, Train Accuracy: 89.51%\n",
      "Test Loss: 0.3071, Test Accuracy: 89.02%\n",
      "\n"
     ]
    },
    {
     "name": "stderr",
     "output_type": "stream",
     "text": [
      "Epoch 1053: 100%|██████████| 938/938 [00:16<00:00, 55.18batch/s, Train Loss=0.269, Train Acc=89.7]\n"
     ]
    },
    {
     "name": "stdout",
     "output_type": "stream",
     "text": [
      "Epoch 1053\n",
      "Train Loss: 0.2694, Train Accuracy: 89.72%\n",
      "Test Loss: 0.3223, Test Accuracy: 88.55%\n",
      "\n"
     ]
    },
    {
     "name": "stderr",
     "output_type": "stream",
     "text": [
      "Epoch 1054: 100%|██████████| 938/938 [00:16<00:00, 55.23batch/s, Train Loss=0.269, Train Acc=89.6]\n"
     ]
    },
    {
     "name": "stdout",
     "output_type": "stream",
     "text": [
      "Epoch 1054\n",
      "Train Loss: 0.2691, Train Accuracy: 89.59%\n",
      "Test Loss: 0.3064, Test Accuracy: 89.07%\n",
      "\n"
     ]
    },
    {
     "name": "stderr",
     "output_type": "stream",
     "text": [
      "Epoch 1055: 100%|██████████| 938/938 [00:17<00:00, 55.11batch/s, Train Loss=0.27, Train Acc=89.6] \n"
     ]
    },
    {
     "name": "stdout",
     "output_type": "stream",
     "text": [
      "Epoch 1055\n",
      "Train Loss: 0.2705, Train Accuracy: 89.61%\n",
      "Test Loss: 0.3066, Test Accuracy: 88.92%\n",
      "\n"
     ]
    },
    {
     "name": "stderr",
     "output_type": "stream",
     "text": [
      "Epoch 1056: 100%|██████████| 938/938 [00:16<00:00, 55.22batch/s, Train Loss=0.268, Train Acc=89.7]\n"
     ]
    },
    {
     "name": "stdout",
     "output_type": "stream",
     "text": [
      "Epoch 1056\n",
      "Train Loss: 0.2676, Train Accuracy: 89.70%\n",
      "Test Loss: 0.3065, Test Accuracy: 89.12%\n",
      "\n"
     ]
    },
    {
     "name": "stderr",
     "output_type": "stream",
     "text": [
      "Epoch 1057: 100%|██████████| 938/938 [00:17<00:00, 55.11batch/s, Train Loss=0.271, Train Acc=89.6]\n"
     ]
    },
    {
     "name": "stdout",
     "output_type": "stream",
     "text": [
      "Epoch 1057\n",
      "Train Loss: 0.2705, Train Accuracy: 89.63%\n",
      "Test Loss: 0.3093, Test Accuracy: 88.72%\n",
      "\n"
     ]
    },
    {
     "name": "stderr",
     "output_type": "stream",
     "text": [
      "Epoch 1058: 100%|██████████| 938/938 [00:17<00:00, 55.13batch/s, Train Loss=0.269, Train Acc=89.6]\n"
     ]
    },
    {
     "name": "stdout",
     "output_type": "stream",
     "text": [
      "Epoch 1058\n",
      "Train Loss: 0.2689, Train Accuracy: 89.64%\n",
      "Test Loss: 0.2968, Test Accuracy: 89.43%\n",
      "\n"
     ]
    },
    {
     "name": "stderr",
     "output_type": "stream",
     "text": [
      "Epoch 1059: 100%|██████████| 938/938 [00:17<00:00, 55.16batch/s, Train Loss=0.27, Train Acc=89.7] \n"
     ]
    },
    {
     "name": "stdout",
     "output_type": "stream",
     "text": [
      "Epoch 1059\n",
      "Train Loss: 0.2698, Train Accuracy: 89.70%\n",
      "Test Loss: 0.3061, Test Accuracy: 89.02%\n",
      "\n"
     ]
    },
    {
     "name": "stderr",
     "output_type": "stream",
     "text": [
      "Epoch 1060: 100%|██████████| 938/938 [00:16<00:00, 55.19batch/s, Train Loss=0.267, Train Acc=89.7]\n"
     ]
    },
    {
     "name": "stdout",
     "output_type": "stream",
     "text": [
      "Epoch 1060\n",
      "Train Loss: 0.2673, Train Accuracy: 89.68%\n",
      "Test Loss: 0.3005, Test Accuracy: 88.95%\n",
      "\n"
     ]
    },
    {
     "name": "stderr",
     "output_type": "stream",
     "text": [
      "Epoch 1061: 100%|██████████| 938/938 [00:17<00:00, 54.94batch/s, Train Loss=0.269, Train Acc=89.7]\n"
     ]
    },
    {
     "name": "stdout",
     "output_type": "stream",
     "text": [
      "Epoch 1061\n",
      "Train Loss: 0.2694, Train Accuracy: 89.74%\n",
      "Test Loss: 0.3020, Test Accuracy: 89.14%\n",
      "\n"
     ]
    },
    {
     "name": "stderr",
     "output_type": "stream",
     "text": [
      "Epoch 1062: 100%|██████████| 938/938 [00:16<00:00, 55.26batch/s, Train Loss=0.27, Train Acc=89.6] \n"
     ]
    },
    {
     "name": "stdout",
     "output_type": "stream",
     "text": [
      "Epoch 1062\n",
      "Train Loss: 0.2697, Train Accuracy: 89.62%\n",
      "Test Loss: 0.3096, Test Accuracy: 88.66%\n",
      "\n"
     ]
    },
    {
     "name": "stderr",
     "output_type": "stream",
     "text": [
      "Epoch 1063: 100%|██████████| 938/938 [00:17<00:00, 55.06batch/s, Train Loss=0.265, Train Acc=89.9]\n"
     ]
    },
    {
     "name": "stdout",
     "output_type": "stream",
     "text": [
      "Epoch 1063\n",
      "Train Loss: 0.2649, Train Accuracy: 89.88%\n",
      "Test Loss: 0.3073, Test Accuracy: 89.08%\n",
      "\n"
     ]
    },
    {
     "name": "stderr",
     "output_type": "stream",
     "text": [
      "Epoch 1064: 100%|██████████| 938/938 [00:17<00:00, 55.02batch/s, Train Loss=0.266, Train Acc=89.7]\n"
     ]
    },
    {
     "name": "stdout",
     "output_type": "stream",
     "text": [
      "Epoch 1064\n",
      "Train Loss: 0.2656, Train Accuracy: 89.75%\n",
      "Test Loss: 0.3072, Test Accuracy: 88.96%\n",
      "\n"
     ]
    },
    {
     "name": "stderr",
     "output_type": "stream",
     "text": [
      "Epoch 1065: 100%|██████████| 938/938 [00:17<00:00, 55.09batch/s, Train Loss=0.266, Train Acc=89.8]\n"
     ]
    },
    {
     "name": "stdout",
     "output_type": "stream",
     "text": [
      "Epoch 1065\n",
      "Train Loss: 0.2661, Train Accuracy: 89.77%\n",
      "Test Loss: 0.3097, Test Accuracy: 88.99%\n",
      "\n"
     ]
    },
    {
     "name": "stderr",
     "output_type": "stream",
     "text": [
      "Epoch 1066: 100%|██████████| 938/938 [00:17<00:00, 55.00batch/s, Train Loss=0.265, Train Acc=89.9]\n"
     ]
    },
    {
     "name": "stdout",
     "output_type": "stream",
     "text": [
      "Epoch 1066\n",
      "Train Loss: 0.2647, Train Accuracy: 89.89%\n",
      "Test Loss: 0.3021, Test Accuracy: 89.08%\n",
      "\n"
     ]
    },
    {
     "name": "stderr",
     "output_type": "stream",
     "text": [
      "Epoch 1067: 100%|██████████| 938/938 [00:17<00:00, 55.14batch/s, Train Loss=0.265, Train Acc=89.8]\n"
     ]
    },
    {
     "name": "stdout",
     "output_type": "stream",
     "text": [
      "Epoch 1067\n",
      "Train Loss: 0.2649, Train Accuracy: 89.79%\n",
      "Test Loss: 0.3091, Test Accuracy: 88.52%\n",
      "\n"
     ]
    },
    {
     "name": "stderr",
     "output_type": "stream",
     "text": [
      "Epoch 1068: 100%|██████████| 938/938 [00:17<00:00, 55.08batch/s, Train Loss=0.264, Train Acc=89.9]\n"
     ]
    },
    {
     "name": "stdout",
     "output_type": "stream",
     "text": [
      "Epoch 1068\n",
      "Train Loss: 0.2636, Train Accuracy: 89.94%\n",
      "Test Loss: 0.3160, Test Accuracy: 88.97%\n",
      "\n"
     ]
    },
    {
     "name": "stderr",
     "output_type": "stream",
     "text": [
      "Epoch 1069: 100%|██████████| 938/938 [00:17<00:00, 54.94batch/s, Train Loss=0.268, Train Acc=89.8]\n"
     ]
    },
    {
     "name": "stdout",
     "output_type": "stream",
     "text": [
      "Epoch 1069\n",
      "Train Loss: 0.2679, Train Accuracy: 89.81%\n",
      "Test Loss: 0.3018, Test Accuracy: 88.97%\n",
      "\n"
     ]
    },
    {
     "name": "stderr",
     "output_type": "stream",
     "text": [
      "Epoch 1070: 100%|██████████| 938/938 [00:17<00:00, 55.09batch/s, Train Loss=0.265, Train Acc=89.8]\n"
     ]
    },
    {
     "name": "stdout",
     "output_type": "stream",
     "text": [
      "Epoch 1070\n",
      "Train Loss: 0.2654, Train Accuracy: 89.83%\n",
      "Test Loss: 0.3081, Test Accuracy: 89.08%\n",
      "\n"
     ]
    },
    {
     "name": "stderr",
     "output_type": "stream",
     "text": [
      "Epoch 1071: 100%|██████████| 938/938 [00:16<00:00, 55.32batch/s, Train Loss=0.264, Train Acc=89.8]\n"
     ]
    },
    {
     "name": "stdout",
     "output_type": "stream",
     "text": [
      "Epoch 1071\n",
      "Train Loss: 0.2645, Train Accuracy: 89.83%\n",
      "Test Loss: 0.3113, Test Accuracy: 88.92%\n",
      "\n"
     ]
    },
    {
     "name": "stderr",
     "output_type": "stream",
     "text": [
      "Epoch 1072: 100%|██████████| 938/938 [00:17<00:00, 55.16batch/s, Train Loss=0.265, Train Acc=89.8]\n"
     ]
    },
    {
     "name": "stdout",
     "output_type": "stream",
     "text": [
      "Epoch 1072\n",
      "Train Loss: 0.2652, Train Accuracy: 89.83%\n",
      "Test Loss: 0.3111, Test Accuracy: 88.86%\n",
      "\n"
     ]
    },
    {
     "name": "stderr",
     "output_type": "stream",
     "text": [
      "Epoch 1073: 100%|██████████| 938/938 [00:17<00:00, 55.08batch/s, Train Loss=0.264, Train Acc=89.8]\n"
     ]
    },
    {
     "name": "stdout",
     "output_type": "stream",
     "text": [
      "Epoch 1073\n",
      "Train Loss: 0.2644, Train Accuracy: 89.77%\n",
      "Test Loss: 0.3052, Test Accuracy: 88.95%\n",
      "\n"
     ]
    },
    {
     "name": "stderr",
     "output_type": "stream",
     "text": [
      "Epoch 1074: 100%|██████████| 938/938 [00:17<00:00, 55.13batch/s, Train Loss=0.267, Train Acc=89.7]\n"
     ]
    },
    {
     "name": "stdout",
     "output_type": "stream",
     "text": [
      "Epoch 1074\n",
      "Train Loss: 0.2671, Train Accuracy: 89.74%\n",
      "Test Loss: 0.3004, Test Accuracy: 89.12%\n",
      "\n"
     ]
    },
    {
     "name": "stderr",
     "output_type": "stream",
     "text": [
      "Epoch 1075: 100%|██████████| 938/938 [00:17<00:00, 55.06batch/s, Train Loss=0.261, Train Acc=90]  \n"
     ]
    },
    {
     "name": "stdout",
     "output_type": "stream",
     "text": [
      "Epoch 1075\n",
      "Train Loss: 0.2610, Train Accuracy: 89.97%\n",
      "Test Loss: 0.3104, Test Accuracy: 88.75%\n",
      "\n"
     ]
    },
    {
     "name": "stderr",
     "output_type": "stream",
     "text": [
      "Epoch 1076: 100%|██████████| 938/938 [00:16<00:00, 55.18batch/s, Train Loss=0.263, Train Acc=90]  \n"
     ]
    },
    {
     "name": "stdout",
     "output_type": "stream",
     "text": [
      "Epoch 1076\n",
      "Train Loss: 0.2632, Train Accuracy: 90.00%\n",
      "Test Loss: 0.3048, Test Accuracy: 89.00%\n",
      "\n"
     ]
    },
    {
     "name": "stderr",
     "output_type": "stream",
     "text": [
      "Epoch 1077: 100%|██████████| 938/938 [00:16<00:00, 55.23batch/s, Train Loss=0.262, Train Acc=90]  \n"
     ]
    },
    {
     "name": "stdout",
     "output_type": "stream",
     "text": [
      "Epoch 1077\n",
      "Train Loss: 0.2617, Train Accuracy: 90.05%\n",
      "Test Loss: 0.3026, Test Accuracy: 89.06%\n",
      "\n"
     ]
    },
    {
     "name": "stderr",
     "output_type": "stream",
     "text": [
      "Epoch 1078: 100%|██████████| 938/938 [00:17<00:00, 55.14batch/s, Train Loss=0.262, Train Acc=89.9]\n"
     ]
    },
    {
     "name": "stdout",
     "output_type": "stream",
     "text": [
      "Epoch 1078\n",
      "Train Loss: 0.2618, Train Accuracy: 89.89%\n",
      "Test Loss: 0.3047, Test Accuracy: 89.06%\n",
      "\n"
     ]
    },
    {
     "name": "stderr",
     "output_type": "stream",
     "text": [
      "Epoch 1079: 100%|██████████| 938/938 [00:17<00:00, 55.17batch/s, Train Loss=0.26, Train Acc=90]   \n"
     ]
    },
    {
     "name": "stdout",
     "output_type": "stream",
     "text": [
      "Epoch 1079\n",
      "Train Loss: 0.2602, Train Accuracy: 89.97%\n",
      "Test Loss: 0.3021, Test Accuracy: 89.11%\n",
      "\n"
     ]
    },
    {
     "name": "stderr",
     "output_type": "stream",
     "text": [
      "Epoch 1080: 100%|██████████| 938/938 [00:17<00:00, 55.15batch/s, Train Loss=0.263, Train Acc=89.9]\n"
     ]
    },
    {
     "name": "stdout",
     "output_type": "stream",
     "text": [
      "Epoch 1080\n",
      "Train Loss: 0.2628, Train Accuracy: 89.91%\n",
      "Test Loss: 0.3069, Test Accuracy: 88.82%\n",
      "\n"
     ]
    },
    {
     "name": "stderr",
     "output_type": "stream",
     "text": [
      "Epoch 1081: 100%|██████████| 938/938 [00:17<00:00, 55.05batch/s, Train Loss=0.262, Train Acc=90]  \n"
     ]
    },
    {
     "name": "stdout",
     "output_type": "stream",
     "text": [
      "Epoch 1081\n",
      "Train Loss: 0.2623, Train Accuracy: 89.97%\n",
      "Test Loss: 0.3018, Test Accuracy: 88.96%\n",
      "\n"
     ]
    },
    {
     "name": "stderr",
     "output_type": "stream",
     "text": [
      "Epoch 1082: 100%|██████████| 938/938 [00:16<00:00, 55.20batch/s, Train Loss=0.263, Train Acc=89.9]\n"
     ]
    },
    {
     "name": "stdout",
     "output_type": "stream",
     "text": [
      "Epoch 1082\n",
      "Train Loss: 0.2626, Train Accuracy: 89.93%\n",
      "Test Loss: 0.3100, Test Accuracy: 88.81%\n",
      "\n"
     ]
    },
    {
     "name": "stderr",
     "output_type": "stream",
     "text": [
      "Epoch 1083: 100%|██████████| 938/938 [00:16<00:00, 55.20batch/s, Train Loss=0.263, Train Acc=89.9]\n"
     ]
    },
    {
     "name": "stdout",
     "output_type": "stream",
     "text": [
      "Epoch 1083\n",
      "Train Loss: 0.2627, Train Accuracy: 89.92%\n",
      "Test Loss: 0.3212, Test Accuracy: 88.88%\n",
      "\n"
     ]
    },
    {
     "name": "stderr",
     "output_type": "stream",
     "text": [
      "Epoch 1084: 100%|██████████| 938/938 [00:16<00:00, 55.18batch/s, Train Loss=0.261, Train Acc=90.2]\n"
     ]
    },
    {
     "name": "stdout",
     "output_type": "stream",
     "text": [
      "Epoch 1084\n",
      "Train Loss: 0.2614, Train Accuracy: 90.18%\n",
      "Test Loss: 0.3027, Test Accuracy: 89.05%\n",
      "\n"
     ]
    },
    {
     "name": "stderr",
     "output_type": "stream",
     "text": [
      "Epoch 1085: 100%|██████████| 938/938 [00:17<00:00, 55.10batch/s, Train Loss=0.257, Train Acc=90.3]\n"
     ]
    },
    {
     "name": "stdout",
     "output_type": "stream",
     "text": [
      "Epoch 1085\n",
      "Train Loss: 0.2570, Train Accuracy: 90.29%\n",
      "Test Loss: 0.3217, Test Accuracy: 88.59%\n",
      "\n"
     ]
    },
    {
     "name": "stderr",
     "output_type": "stream",
     "text": [
      "Epoch 1086: 100%|██████████| 938/938 [00:16<00:00, 55.23batch/s, Train Loss=0.262, Train Acc=89.9]\n"
     ]
    },
    {
     "name": "stdout",
     "output_type": "stream",
     "text": [
      "Epoch 1086\n",
      "Train Loss: 0.2617, Train Accuracy: 89.92%\n",
      "Test Loss: 0.3203, Test Accuracy: 88.43%\n",
      "\n"
     ]
    },
    {
     "name": "stderr",
     "output_type": "stream",
     "text": [
      "Epoch 1087: 100%|██████████| 938/938 [00:17<00:00, 55.16batch/s, Train Loss=0.261, Train Acc=90]  \n"
     ]
    },
    {
     "name": "stdout",
     "output_type": "stream",
     "text": [
      "Epoch 1087\n",
      "Train Loss: 0.2611, Train Accuracy: 89.98%\n",
      "Test Loss: 0.3041, Test Accuracy: 89.04%\n",
      "\n"
     ]
    },
    {
     "name": "stderr",
     "output_type": "stream",
     "text": [
      "Epoch 1088: 100%|██████████| 938/938 [00:16<00:00, 55.22batch/s, Train Loss=0.259, Train Acc=90]  \n"
     ]
    },
    {
     "name": "stdout",
     "output_type": "stream",
     "text": [
      "Epoch 1088\n",
      "Train Loss: 0.2593, Train Accuracy: 90.00%\n",
      "Test Loss: 0.3120, Test Accuracy: 88.74%\n",
      "\n"
     ]
    },
    {
     "name": "stderr",
     "output_type": "stream",
     "text": [
      "Epoch 1089: 100%|██████████| 938/938 [00:17<00:00, 55.12batch/s, Train Loss=0.261, Train Acc=90]  \n"
     ]
    },
    {
     "name": "stdout",
     "output_type": "stream",
     "text": [
      "Epoch 1089\n",
      "Train Loss: 0.2608, Train Accuracy: 89.97%\n",
      "Test Loss: 0.3190, Test Accuracy: 88.63%\n",
      "\n"
     ]
    },
    {
     "name": "stderr",
     "output_type": "stream",
     "text": [
      "Epoch 1090: 100%|██████████| 938/938 [00:17<00:00, 55.14batch/s, Train Loss=0.259, Train Acc=90.1]\n"
     ]
    },
    {
     "name": "stdout",
     "output_type": "stream",
     "text": [
      "Epoch 1090\n",
      "Train Loss: 0.2592, Train Accuracy: 90.06%\n",
      "Test Loss: 0.3135, Test Accuracy: 88.93%\n",
      "\n"
     ]
    },
    {
     "name": "stderr",
     "output_type": "stream",
     "text": [
      "Epoch 1091: 100%|██████████| 938/938 [00:16<00:00, 55.18batch/s, Train Loss=0.259, Train Acc=90.1]\n"
     ]
    },
    {
     "name": "stdout",
     "output_type": "stream",
     "text": [
      "Epoch 1091\n",
      "Train Loss: 0.2591, Train Accuracy: 90.11%\n",
      "Test Loss: 0.3091, Test Accuracy: 89.00%\n",
      "\n"
     ]
    },
    {
     "name": "stderr",
     "output_type": "stream",
     "text": [
      "Epoch 1092: 100%|██████████| 938/938 [00:16<00:00, 55.29batch/s, Train Loss=0.257, Train Acc=90.3]\n"
     ]
    },
    {
     "name": "stdout",
     "output_type": "stream",
     "text": [
      "Epoch 1092\n",
      "Train Loss: 0.2569, Train Accuracy: 90.26%\n",
      "Test Loss: 0.3098, Test Accuracy: 88.84%\n",
      "\n"
     ]
    },
    {
     "name": "stderr",
     "output_type": "stream",
     "text": [
      "Epoch 1093: 100%|██████████| 938/938 [00:16<00:00, 55.25batch/s, Train Loss=0.259, Train Acc=90.1]\n"
     ]
    },
    {
     "name": "stdout",
     "output_type": "stream",
     "text": [
      "Epoch 1093\n",
      "Train Loss: 0.2585, Train Accuracy: 90.10%\n",
      "Test Loss: 0.3073, Test Accuracy: 89.12%\n",
      "\n"
     ]
    },
    {
     "name": "stderr",
     "output_type": "stream",
     "text": [
      "Epoch 1094: 100%|██████████| 938/938 [00:16<00:00, 55.24batch/s, Train Loss=0.259, Train Acc=90.1]\n"
     ]
    },
    {
     "name": "stdout",
     "output_type": "stream",
     "text": [
      "Epoch 1094\n",
      "Train Loss: 0.2591, Train Accuracy: 90.09%\n",
      "Test Loss: 0.3013, Test Accuracy: 89.28%\n",
      "\n"
     ]
    },
    {
     "name": "stderr",
     "output_type": "stream",
     "text": [
      "Epoch 1095: 100%|██████████| 938/938 [00:17<00:00, 55.15batch/s, Train Loss=0.254, Train Acc=90.2]\n"
     ]
    },
    {
     "name": "stdout",
     "output_type": "stream",
     "text": [
      "Epoch 1095\n",
      "Train Loss: 0.2545, Train Accuracy: 90.17%\n",
      "Test Loss: 0.3035, Test Accuracy: 89.14%\n",
      "\n"
     ]
    },
    {
     "name": "stderr",
     "output_type": "stream",
     "text": [
      "Epoch 1096: 100%|██████████| 938/938 [00:16<00:00, 55.27batch/s, Train Loss=0.255, Train Acc=90.3]\n"
     ]
    },
    {
     "name": "stdout",
     "output_type": "stream",
     "text": [
      "Epoch 1096\n",
      "Train Loss: 0.2550, Train Accuracy: 90.27%\n",
      "Test Loss: 0.3109, Test Accuracy: 88.67%\n",
      "\n"
     ]
    },
    {
     "name": "stderr",
     "output_type": "stream",
     "text": [
      "Epoch 1097: 100%|██████████| 938/938 [00:17<00:00, 54.98batch/s, Train Loss=0.258, Train Acc=90.2]\n"
     ]
    },
    {
     "name": "stdout",
     "output_type": "stream",
     "text": [
      "Epoch 1097\n",
      "Train Loss: 0.2580, Train Accuracy: 90.19%\n",
      "Test Loss: 0.3194, Test Accuracy: 88.64%\n",
      "\n"
     ]
    },
    {
     "name": "stderr",
     "output_type": "stream",
     "text": [
      "Epoch 1098: 100%|██████████| 938/938 [00:16<00:00, 55.27batch/s, Train Loss=0.256, Train Acc=90.2]\n"
     ]
    },
    {
     "name": "stdout",
     "output_type": "stream",
     "text": [
      "Epoch 1098\n",
      "Train Loss: 0.2557, Train Accuracy: 90.25%\n",
      "Test Loss: 0.3026, Test Accuracy: 89.17%\n",
      "\n"
     ]
    },
    {
     "name": "stderr",
     "output_type": "stream",
     "text": [
      "Epoch 1099: 100%|██████████| 938/938 [00:17<00:00, 55.07batch/s, Train Loss=0.257, Train Acc=90.2]\n"
     ]
    },
    {
     "name": "stdout",
     "output_type": "stream",
     "text": [
      "Epoch 1099\n",
      "Train Loss: 0.2574, Train Accuracy: 90.17%\n",
      "Test Loss: 0.3094, Test Accuracy: 88.85%\n",
      "\n"
     ]
    },
    {
     "name": "stderr",
     "output_type": "stream",
     "text": [
      "Epoch 1100: 100%|██████████| 938/938 [00:17<00:00, 54.98batch/s, Train Loss=0.256, Train Acc=90.2]\n"
     ]
    },
    {
     "name": "stdout",
     "output_type": "stream",
     "text": [
      "Epoch 1100\n",
      "Train Loss: 0.2555, Train Accuracy: 90.18%\n",
      "Test Loss: 0.3059, Test Accuracy: 89.02%\n",
      "\n"
     ]
    },
    {
     "name": "stderr",
     "output_type": "stream",
     "text": [
      "Epoch 1101: 100%|██████████| 938/938 [00:16<00:00, 55.22batch/s, Train Loss=0.259, Train Acc=90.2]\n"
     ]
    },
    {
     "name": "stdout",
     "output_type": "stream",
     "text": [
      "Epoch 1101\n",
      "Train Loss: 0.2592, Train Accuracy: 90.20%\n",
      "Test Loss: 0.3058, Test Accuracy: 89.07%\n",
      "\n"
     ]
    },
    {
     "name": "stderr",
     "output_type": "stream",
     "text": [
      "Epoch 1102: 100%|██████████| 938/938 [00:17<00:00, 55.15batch/s, Train Loss=0.256, Train Acc=90.2]\n"
     ]
    },
    {
     "name": "stdout",
     "output_type": "stream",
     "text": [
      "Epoch 1102\n",
      "Train Loss: 0.2555, Train Accuracy: 90.15%\n",
      "Test Loss: 0.2925, Test Accuracy: 89.36%\n",
      "\n"
     ]
    },
    {
     "name": "stderr",
     "output_type": "stream",
     "text": [
      "Epoch 1103: 100%|██████████| 938/938 [00:17<00:00, 55.17batch/s, Train Loss=0.256, Train Acc=90.1]\n"
     ]
    },
    {
     "name": "stdout",
     "output_type": "stream",
     "text": [
      "Epoch 1103\n",
      "Train Loss: 0.2558, Train Accuracy: 90.14%\n",
      "Test Loss: 0.2934, Test Accuracy: 89.27%\n",
      "\n"
     ]
    },
    {
     "name": "stderr",
     "output_type": "stream",
     "text": [
      "Epoch 1104: 100%|██████████| 938/938 [00:16<00:00, 55.27batch/s, Train Loss=0.252, Train Acc=90.2]\n"
     ]
    },
    {
     "name": "stdout",
     "output_type": "stream",
     "text": [
      "Epoch 1104\n",
      "Train Loss: 0.2519, Train Accuracy: 90.25%\n",
      "Test Loss: 0.3007, Test Accuracy: 89.19%\n",
      "\n"
     ]
    },
    {
     "name": "stderr",
     "output_type": "stream",
     "text": [
      "Epoch 1105: 100%|██████████| 938/938 [00:17<00:00, 55.12batch/s, Train Loss=0.258, Train Acc=90.1]\n"
     ]
    },
    {
     "name": "stdout",
     "output_type": "stream",
     "text": [
      "Epoch 1105\n",
      "Train Loss: 0.2580, Train Accuracy: 90.08%\n",
      "Test Loss: 0.2953, Test Accuracy: 89.24%\n",
      "\n"
     ]
    },
    {
     "name": "stderr",
     "output_type": "stream",
     "text": [
      "Epoch 1106: 100%|██████████| 938/938 [00:17<00:00, 55.16batch/s, Train Loss=0.255, Train Acc=90.2]\n"
     ]
    },
    {
     "name": "stdout",
     "output_type": "stream",
     "text": [
      "Epoch 1106\n",
      "Train Loss: 0.2550, Train Accuracy: 90.19%\n",
      "Test Loss: 0.3081, Test Accuracy: 88.77%\n",
      "\n"
     ]
    },
    {
     "name": "stderr",
     "output_type": "stream",
     "text": [
      "Epoch 1107: 100%|██████████| 938/938 [00:16<00:00, 55.19batch/s, Train Loss=0.254, Train Acc=90.3]\n"
     ]
    },
    {
     "name": "stdout",
     "output_type": "stream",
     "text": [
      "Epoch 1107\n",
      "Train Loss: 0.2537, Train Accuracy: 90.31%\n",
      "Test Loss: 0.3058, Test Accuracy: 88.95%\n",
      "\n"
     ]
    },
    {
     "name": "stderr",
     "output_type": "stream",
     "text": [
      "Epoch 1108: 100%|██████████| 938/938 [00:17<00:00, 55.11batch/s, Train Loss=0.253, Train Acc=90.3]\n"
     ]
    },
    {
     "name": "stdout",
     "output_type": "stream",
     "text": [
      "Epoch 1108\n",
      "Train Loss: 0.2533, Train Accuracy: 90.28%\n",
      "Test Loss: 0.3043, Test Accuracy: 88.99%\n",
      "\n"
     ]
    },
    {
     "name": "stderr",
     "output_type": "stream",
     "text": [
      "Epoch 1109: 100%|██████████| 938/938 [00:17<00:00, 55.15batch/s, Train Loss=0.254, Train Acc=90.3]\n"
     ]
    },
    {
     "name": "stdout",
     "output_type": "stream",
     "text": [
      "Epoch 1109\n",
      "Train Loss: 0.2540, Train Accuracy: 90.28%\n",
      "Test Loss: 0.3025, Test Accuracy: 88.77%\n",
      "\n"
     ]
    },
    {
     "name": "stderr",
     "output_type": "stream",
     "text": [
      "Epoch 1110: 100%|██████████| 938/938 [00:17<00:00, 55.10batch/s, Train Loss=0.254, Train Acc=90.3]\n"
     ]
    },
    {
     "name": "stdout",
     "output_type": "stream",
     "text": [
      "Epoch 1110\n",
      "Train Loss: 0.2540, Train Accuracy: 90.28%\n",
      "Test Loss: 0.3003, Test Accuracy: 88.88%\n",
      "\n"
     ]
    },
    {
     "name": "stderr",
     "output_type": "stream",
     "text": [
      "Epoch 1111: 100%|██████████| 938/938 [00:17<00:00, 55.16batch/s, Train Loss=0.252, Train Acc=90.4]\n"
     ]
    },
    {
     "name": "stdout",
     "output_type": "stream",
     "text": [
      "Epoch 1111\n",
      "Train Loss: 0.2518, Train Accuracy: 90.42%\n",
      "Test Loss: 0.3020, Test Accuracy: 89.12%\n",
      "\n"
     ]
    },
    {
     "name": "stderr",
     "output_type": "stream",
     "text": [
      "Epoch 1112: 100%|██████████| 938/938 [00:17<00:00, 55.10batch/s, Train Loss=0.255, Train Acc=90.2]\n"
     ]
    },
    {
     "name": "stdout",
     "output_type": "stream",
     "text": [
      "Epoch 1112\n",
      "Train Loss: 0.2547, Train Accuracy: 90.21%\n",
      "Test Loss: 0.3082, Test Accuracy: 88.89%\n",
      "\n"
     ]
    },
    {
     "name": "stderr",
     "output_type": "stream",
     "text": [
      "Epoch 1113: 100%|██████████| 938/938 [00:17<00:00, 55.17batch/s, Train Loss=0.254, Train Acc=90.2]\n"
     ]
    },
    {
     "name": "stdout",
     "output_type": "stream",
     "text": [
      "Epoch 1113\n",
      "Train Loss: 0.2537, Train Accuracy: 90.22%\n",
      "Test Loss: 0.3089, Test Accuracy: 89.09%\n",
      "\n"
     ]
    },
    {
     "name": "stderr",
     "output_type": "stream",
     "text": [
      "Epoch 1114: 100%|██████████| 938/938 [00:17<00:00, 55.06batch/s, Train Loss=0.248, Train Acc=90.4]\n"
     ]
    },
    {
     "name": "stdout",
     "output_type": "stream",
     "text": [
      "Epoch 1114\n",
      "Train Loss: 0.2479, Train Accuracy: 90.38%\n",
      "Test Loss: 0.3084, Test Accuracy: 88.74%\n",
      "\n"
     ]
    },
    {
     "name": "stderr",
     "output_type": "stream",
     "text": [
      "Epoch 1115: 100%|██████████| 938/938 [00:16<00:00, 55.18batch/s, Train Loss=0.253, Train Acc=90.1]\n"
     ]
    },
    {
     "name": "stdout",
     "output_type": "stream",
     "text": [
      "Epoch 1115\n",
      "Train Loss: 0.2534, Train Accuracy: 90.14%\n",
      "Test Loss: 0.3069, Test Accuracy: 89.29%\n",
      "\n"
     ]
    },
    {
     "name": "stderr",
     "output_type": "stream",
     "text": [
      "Epoch 1116: 100%|██████████| 938/938 [00:16<00:00, 55.23batch/s, Train Loss=0.251, Train Acc=90.3]\n"
     ]
    },
    {
     "name": "stdout",
     "output_type": "stream",
     "text": [
      "Epoch 1116\n",
      "Train Loss: 0.2506, Train Accuracy: 90.30%\n",
      "Test Loss: 0.3067, Test Accuracy: 89.30%\n",
      "\n"
     ]
    },
    {
     "name": "stderr",
     "output_type": "stream",
     "text": [
      "Epoch 1117: 100%|██████████| 938/938 [00:17<00:00, 55.14batch/s, Train Loss=0.251, Train Acc=90.4]\n"
     ]
    },
    {
     "name": "stdout",
     "output_type": "stream",
     "text": [
      "Epoch 1117\n",
      "Train Loss: 0.2512, Train Accuracy: 90.35%\n",
      "Test Loss: 0.2953, Test Accuracy: 89.15%\n",
      "\n"
     ]
    },
    {
     "name": "stderr",
     "output_type": "stream",
     "text": [
      "Epoch 1118: 100%|██████████| 938/938 [00:16<00:00, 55.20batch/s, Train Loss=0.255, Train Acc=90.2]\n"
     ]
    },
    {
     "name": "stdout",
     "output_type": "stream",
     "text": [
      "Epoch 1118\n",
      "Train Loss: 0.2548, Train Accuracy: 90.24%\n",
      "Test Loss: 0.3037, Test Accuracy: 88.93%\n",
      "\n"
     ]
    },
    {
     "name": "stderr",
     "output_type": "stream",
     "text": [
      "Epoch 1119: 100%|██████████| 938/938 [00:17<00:00, 55.13batch/s, Train Loss=0.252, Train Acc=90.3]\n"
     ]
    },
    {
     "name": "stdout",
     "output_type": "stream",
     "text": [
      "Epoch 1119\n",
      "Train Loss: 0.2517, Train Accuracy: 90.29%\n",
      "Test Loss: 0.2984, Test Accuracy: 89.39%\n",
      "\n"
     ]
    },
    {
     "name": "stderr",
     "output_type": "stream",
     "text": [
      "Epoch 1120: 100%|██████████| 938/938 [00:17<00:00, 55.08batch/s, Train Loss=0.254, Train Acc=90.3]\n"
     ]
    },
    {
     "name": "stdout",
     "output_type": "stream",
     "text": [
      "Epoch 1120\n",
      "Train Loss: 0.2538, Train Accuracy: 90.30%\n",
      "Test Loss: 0.3032, Test Accuracy: 88.97%\n",
      "\n"
     ]
    },
    {
     "name": "stderr",
     "output_type": "stream",
     "text": [
      "Epoch 1121: 100%|██████████| 938/938 [00:16<00:00, 55.26batch/s, Train Loss=0.252, Train Acc=90.3]\n"
     ]
    },
    {
     "name": "stdout",
     "output_type": "stream",
     "text": [
      "Epoch 1121\n",
      "Train Loss: 0.2524, Train Accuracy: 90.29%\n",
      "Test Loss: 0.3043, Test Accuracy: 89.14%\n",
      "\n"
     ]
    },
    {
     "name": "stderr",
     "output_type": "stream",
     "text": [
      "Epoch 1122: 100%|██████████| 938/938 [00:17<00:00, 55.06batch/s, Train Loss=0.25, Train Acc=90.4] \n"
     ]
    },
    {
     "name": "stdout",
     "output_type": "stream",
     "text": [
      "Epoch 1122\n",
      "Train Loss: 0.2502, Train Accuracy: 90.41%\n",
      "Test Loss: 0.3057, Test Accuracy: 89.19%\n",
      "\n"
     ]
    },
    {
     "name": "stderr",
     "output_type": "stream",
     "text": [
      "Epoch 1123: 100%|██████████| 938/938 [00:16<00:00, 55.21batch/s, Train Loss=0.253, Train Acc=90.2]\n"
     ]
    },
    {
     "name": "stdout",
     "output_type": "stream",
     "text": [
      "Epoch 1123\n",
      "Train Loss: 0.2535, Train Accuracy: 90.23%\n",
      "Test Loss: 0.3080, Test Accuracy: 89.01%\n",
      "\n"
     ]
    },
    {
     "name": "stderr",
     "output_type": "stream",
     "text": [
      "Epoch 1124: 100%|██████████| 938/938 [00:17<00:00, 55.15batch/s, Train Loss=0.25, Train Acc=90.3] \n"
     ]
    },
    {
     "name": "stdout",
     "output_type": "stream",
     "text": [
      "Epoch 1124\n",
      "Train Loss: 0.2502, Train Accuracy: 90.35%\n",
      "Test Loss: 0.3003, Test Accuracy: 89.43%\n",
      "\n"
     ]
    },
    {
     "name": "stderr",
     "output_type": "stream",
     "text": [
      "Epoch 1125: 100%|██████████| 938/938 [00:17<00:00, 55.14batch/s, Train Loss=0.25, Train Acc=90.4] \n"
     ]
    },
    {
     "name": "stdout",
     "output_type": "stream",
     "text": [
      "Epoch 1125\n",
      "Train Loss: 0.2502, Train Accuracy: 90.39%\n",
      "Test Loss: 0.2969, Test Accuracy: 89.52%\n",
      "\n"
     ]
    },
    {
     "name": "stderr",
     "output_type": "stream",
     "text": [
      "Epoch 1126: 100%|██████████| 938/938 [00:17<00:00, 55.09batch/s, Train Loss=0.249, Train Acc=90.5]\n"
     ]
    },
    {
     "name": "stdout",
     "output_type": "stream",
     "text": [
      "Epoch 1126\n",
      "Train Loss: 0.2487, Train Accuracy: 90.49%\n",
      "Test Loss: 0.3111, Test Accuracy: 89.07%\n",
      "\n"
     ]
    },
    {
     "name": "stderr",
     "output_type": "stream",
     "text": [
      "Epoch 1127: 100%|██████████| 938/938 [00:17<00:00, 55.12batch/s, Train Loss=0.246, Train Acc=90.5]\n"
     ]
    },
    {
     "name": "stdout",
     "output_type": "stream",
     "text": [
      "Epoch 1127\n",
      "Train Loss: 0.2463, Train Accuracy: 90.53%\n",
      "Test Loss: 0.3015, Test Accuracy: 89.30%\n",
      "\n"
     ]
    },
    {
     "name": "stderr",
     "output_type": "stream",
     "text": [
      "Epoch 1128: 100%|██████████| 938/938 [00:17<00:00, 55.05batch/s, Train Loss=0.248, Train Acc=90.5]\n"
     ]
    },
    {
     "name": "stdout",
     "output_type": "stream",
     "text": [
      "Epoch 1128\n",
      "Train Loss: 0.2484, Train Accuracy: 90.48%\n",
      "Test Loss: 0.3150, Test Accuracy: 89.16%\n",
      "\n"
     ]
    },
    {
     "name": "stderr",
     "output_type": "stream",
     "text": [
      "Epoch 1129: 100%|██████████| 938/938 [00:17<00:00, 55.14batch/s, Train Loss=0.248, Train Acc=90.5]\n"
     ]
    },
    {
     "name": "stdout",
     "output_type": "stream",
     "text": [
      "Epoch 1129\n",
      "Train Loss: 0.2480, Train Accuracy: 90.48%\n",
      "Test Loss: 0.3015, Test Accuracy: 89.44%\n",
      "\n"
     ]
    },
    {
     "name": "stderr",
     "output_type": "stream",
     "text": [
      "Epoch 1130: 100%|██████████| 938/938 [00:16<00:00, 55.19batch/s, Train Loss=0.252, Train Acc=90.3]\n"
     ]
    },
    {
     "name": "stdout",
     "output_type": "stream",
     "text": [
      "Epoch 1130\n",
      "Train Loss: 0.2520, Train Accuracy: 90.34%\n",
      "Test Loss: 0.2980, Test Accuracy: 89.36%\n",
      "\n"
     ]
    },
    {
     "name": "stderr",
     "output_type": "stream",
     "text": [
      "Epoch 1131: 100%|██████████| 938/938 [00:16<00:00, 55.20batch/s, Train Loss=0.245, Train Acc=90.6]\n"
     ]
    },
    {
     "name": "stdout",
     "output_type": "stream",
     "text": [
      "Epoch 1131\n",
      "Train Loss: 0.2453, Train Accuracy: 90.59%\n",
      "Test Loss: 0.3021, Test Accuracy: 89.25%\n",
      "\n"
     ]
    },
    {
     "name": "stderr",
     "output_type": "stream",
     "text": [
      "Epoch 1132: 100%|██████████| 938/938 [00:16<00:00, 55.20batch/s, Train Loss=0.249, Train Acc=90.6]\n"
     ]
    },
    {
     "name": "stdout",
     "output_type": "stream",
     "text": [
      "Epoch 1132\n",
      "Train Loss: 0.2489, Train Accuracy: 90.59%\n",
      "Test Loss: 0.3037, Test Accuracy: 89.58%\n",
      "\n"
     ]
    },
    {
     "name": "stderr",
     "output_type": "stream",
     "text": [
      "Epoch 1133: 100%|██████████| 938/938 [00:16<00:00, 55.28batch/s, Train Loss=0.25, Train Acc=90.5] \n"
     ]
    },
    {
     "name": "stdout",
     "output_type": "stream",
     "text": [
      "Epoch 1133\n",
      "Train Loss: 0.2504, Train Accuracy: 90.46%\n",
      "Test Loss: 0.2977, Test Accuracy: 89.52%\n",
      "\n"
     ]
    },
    {
     "name": "stderr",
     "output_type": "stream",
     "text": [
      "Epoch 1134: 100%|██████████| 938/938 [00:17<00:00, 55.09batch/s, Train Loss=0.25, Train Acc=90.5] \n"
     ]
    },
    {
     "name": "stdout",
     "output_type": "stream",
     "text": [
      "Epoch 1134\n",
      "Train Loss: 0.2505, Train Accuracy: 90.48%\n",
      "Test Loss: 0.2991, Test Accuracy: 89.14%\n",
      "\n"
     ]
    },
    {
     "name": "stderr",
     "output_type": "stream",
     "text": [
      "Epoch 1135: 100%|██████████| 938/938 [00:17<00:00, 55.12batch/s, Train Loss=0.248, Train Acc=90.5]\n"
     ]
    },
    {
     "name": "stdout",
     "output_type": "stream",
     "text": [
      "Epoch 1135\n",
      "Train Loss: 0.2476, Train Accuracy: 90.52%\n",
      "Test Loss: 0.2989, Test Accuracy: 89.70%\n",
      "\n"
     ]
    },
    {
     "name": "stderr",
     "output_type": "stream",
     "text": [
      "Epoch 1136: 100%|██████████| 938/938 [00:17<00:00, 55.13batch/s, Train Loss=0.247, Train Acc=90.6]\n"
     ]
    },
    {
     "name": "stdout",
     "output_type": "stream",
     "text": [
      "Epoch 1136\n",
      "Train Loss: 0.2466, Train Accuracy: 90.58%\n",
      "Test Loss: 0.3009, Test Accuracy: 89.40%\n",
      "\n"
     ]
    },
    {
     "name": "stderr",
     "output_type": "stream",
     "text": [
      "Epoch 1137: 100%|██████████| 938/938 [00:17<00:00, 55.11batch/s, Train Loss=0.245, Train Acc=90.6]\n"
     ]
    },
    {
     "name": "stdout",
     "output_type": "stream",
     "text": [
      "Epoch 1137\n",
      "Train Loss: 0.2446, Train Accuracy: 90.61%\n",
      "Test Loss: 0.3057, Test Accuracy: 89.06%\n",
      "\n"
     ]
    },
    {
     "name": "stderr",
     "output_type": "stream",
     "text": [
      "Epoch 1138: 100%|██████████| 938/938 [00:17<00:00, 55.17batch/s, Train Loss=0.246, Train Acc=90.5]\n"
     ]
    },
    {
     "name": "stdout",
     "output_type": "stream",
     "text": [
      "Epoch 1138\n",
      "Train Loss: 0.2460, Train Accuracy: 90.53%\n",
      "Test Loss: 0.2967, Test Accuracy: 89.47%\n",
      "\n"
     ]
    },
    {
     "name": "stderr",
     "output_type": "stream",
     "text": [
      "Epoch 1139: 100%|██████████| 938/938 [00:17<00:00, 55.16batch/s, Train Loss=0.245, Train Acc=90.5]\n"
     ]
    },
    {
     "name": "stdout",
     "output_type": "stream",
     "text": [
      "Epoch 1139\n",
      "Train Loss: 0.2449, Train Accuracy: 90.45%\n",
      "Test Loss: 0.2957, Test Accuracy: 89.50%\n",
      "\n"
     ]
    },
    {
     "name": "stderr",
     "output_type": "stream",
     "text": [
      "Epoch 1140: 100%|██████████| 938/938 [00:17<00:00, 55.13batch/s, Train Loss=0.247, Train Acc=90.5]\n"
     ]
    },
    {
     "name": "stdout",
     "output_type": "stream",
     "text": [
      "Epoch 1140\n",
      "Train Loss: 0.2472, Train Accuracy: 90.54%\n",
      "Test Loss: 0.2951, Test Accuracy: 89.61%\n",
      "\n"
     ]
    },
    {
     "name": "stderr",
     "output_type": "stream",
     "text": [
      "Epoch 1141: 100%|██████████| 938/938 [00:17<00:00, 55.09batch/s, Train Loss=0.247, Train Acc=90.5]\n"
     ]
    },
    {
     "name": "stdout",
     "output_type": "stream",
     "text": [
      "Epoch 1141\n",
      "Train Loss: 0.2471, Train Accuracy: 90.47%\n",
      "Test Loss: 0.2973, Test Accuracy: 89.50%\n",
      "\n"
     ]
    },
    {
     "name": "stderr",
     "output_type": "stream",
     "text": [
      "Epoch 1142: 100%|██████████| 938/938 [00:17<00:00, 55.08batch/s, Train Loss=0.248, Train Acc=90.4]\n"
     ]
    },
    {
     "name": "stdout",
     "output_type": "stream",
     "text": [
      "Epoch 1142\n",
      "Train Loss: 0.2478, Train Accuracy: 90.44%\n",
      "Test Loss: 0.2995, Test Accuracy: 89.55%\n",
      "\n"
     ]
    },
    {
     "name": "stderr",
     "output_type": "stream",
     "text": [
      "Epoch 1143: 100%|██████████| 938/938 [00:17<00:00, 55.16batch/s, Train Loss=0.244, Train Acc=90.5]\n"
     ]
    },
    {
     "name": "stdout",
     "output_type": "stream",
     "text": [
      "Epoch 1143\n",
      "Train Loss: 0.2444, Train Accuracy: 90.54%\n",
      "Test Loss: 0.3050, Test Accuracy: 89.19%\n",
      "\n"
     ]
    },
    {
     "name": "stderr",
     "output_type": "stream",
     "text": [
      "Epoch 1144: 100%|██████████| 938/938 [00:17<00:00, 55.14batch/s, Train Loss=0.242, Train Acc=90.7]\n"
     ]
    },
    {
     "name": "stdout",
     "output_type": "stream",
     "text": [
      "Epoch 1144\n",
      "Train Loss: 0.2420, Train Accuracy: 90.66%\n",
      "Test Loss: 0.2973, Test Accuracy: 89.30%\n",
      "\n"
     ]
    },
    {
     "name": "stderr",
     "output_type": "stream",
     "text": [
      "Epoch 1145: 100%|██████████| 938/938 [00:16<00:00, 55.26batch/s, Train Loss=0.246, Train Acc=90.5]\n"
     ]
    },
    {
     "name": "stdout",
     "output_type": "stream",
     "text": [
      "Epoch 1145\n",
      "Train Loss: 0.2455, Train Accuracy: 90.52%\n",
      "Test Loss: 0.3051, Test Accuracy: 89.21%\n",
      "\n"
     ]
    },
    {
     "name": "stderr",
     "output_type": "stream",
     "text": [
      "Epoch 1146: 100%|██████████| 938/938 [00:16<00:00, 55.19batch/s, Train Loss=0.245, Train Acc=90.7]\n"
     ]
    },
    {
     "name": "stdout",
     "output_type": "stream",
     "text": [
      "Epoch 1146\n",
      "Train Loss: 0.2451, Train Accuracy: 90.66%\n",
      "Test Loss: 0.3070, Test Accuracy: 88.89%\n",
      "\n"
     ]
    },
    {
     "name": "stderr",
     "output_type": "stream",
     "text": [
      "Epoch 1147: 100%|██████████| 938/938 [00:17<00:00, 55.14batch/s, Train Loss=0.248, Train Acc=90.5]\n"
     ]
    },
    {
     "name": "stdout",
     "output_type": "stream",
     "text": [
      "Epoch 1147\n",
      "Train Loss: 0.2479, Train Accuracy: 90.46%\n",
      "Test Loss: 0.3133, Test Accuracy: 88.92%\n",
      "\n"
     ]
    },
    {
     "name": "stderr",
     "output_type": "stream",
     "text": [
      "Epoch 1148: 100%|██████████| 938/938 [00:17<00:00, 55.10batch/s, Train Loss=0.245, Train Acc=90.6]\n"
     ]
    },
    {
     "name": "stdout",
     "output_type": "stream",
     "text": [
      "Epoch 1148\n",
      "Train Loss: 0.2445, Train Accuracy: 90.59%\n",
      "Test Loss: 0.2963, Test Accuracy: 89.61%\n",
      "\n"
     ]
    },
    {
     "name": "stderr",
     "output_type": "stream",
     "text": [
      "Epoch 1149: 100%|██████████| 938/938 [00:17<00:00, 55.01batch/s, Train Loss=0.245, Train Acc=90.7]\n"
     ]
    },
    {
     "name": "stdout",
     "output_type": "stream",
     "text": [
      "Epoch 1149\n",
      "Train Loss: 0.2454, Train Accuracy: 90.65%\n",
      "Test Loss: 0.3045, Test Accuracy: 89.24%\n",
      "\n"
     ]
    },
    {
     "name": "stderr",
     "output_type": "stream",
     "text": [
      "Epoch 1150: 100%|██████████| 938/938 [00:17<00:00, 55.09batch/s, Train Loss=0.244, Train Acc=90.5]\n"
     ]
    },
    {
     "name": "stdout",
     "output_type": "stream",
     "text": [
      "Epoch 1150\n",
      "Train Loss: 0.2444, Train Accuracy: 90.51%\n",
      "Test Loss: 0.3031, Test Accuracy: 89.36%\n",
      "\n"
     ]
    },
    {
     "name": "stderr",
     "output_type": "stream",
     "text": [
      "Epoch 1151: 100%|██████████| 938/938 [00:17<00:00, 55.02batch/s, Train Loss=0.246, Train Acc=90.6]\n"
     ]
    },
    {
     "name": "stdout",
     "output_type": "stream",
     "text": [
      "Epoch 1151\n",
      "Train Loss: 0.2462, Train Accuracy: 90.60%\n",
      "Test Loss: 0.3006, Test Accuracy: 89.19%\n",
      "\n"
     ]
    },
    {
     "name": "stderr",
     "output_type": "stream",
     "text": [
      "Epoch 1152: 100%|██████████| 938/938 [00:16<00:00, 55.26batch/s, Train Loss=0.241, Train Acc=90.8]\n"
     ]
    },
    {
     "name": "stdout",
     "output_type": "stream",
     "text": [
      "Epoch 1152\n",
      "Train Loss: 0.2411, Train Accuracy: 90.85%\n",
      "Test Loss: 0.3012, Test Accuracy: 89.26%\n",
      "\n"
     ]
    },
    {
     "name": "stderr",
     "output_type": "stream",
     "text": [
      "Epoch 1153: 100%|██████████| 938/938 [00:17<00:00, 55.13batch/s, Train Loss=0.24, Train Acc=90.8] \n"
     ]
    },
    {
     "name": "stdout",
     "output_type": "stream",
     "text": [
      "Epoch 1153\n",
      "Train Loss: 0.2399, Train Accuracy: 90.81%\n",
      "Test Loss: 0.2962, Test Accuracy: 89.41%\n",
      "\n"
     ]
    },
    {
     "name": "stderr",
     "output_type": "stream",
     "text": [
      "Epoch 1154: 100%|██████████| 938/938 [00:16<00:00, 55.19batch/s, Train Loss=0.241, Train Acc=90.7]\n"
     ]
    },
    {
     "name": "stdout",
     "output_type": "stream",
     "text": [
      "Epoch 1154\n",
      "Train Loss: 0.2413, Train Accuracy: 90.71%\n",
      "Test Loss: 0.2992, Test Accuracy: 89.28%\n",
      "\n"
     ]
    },
    {
     "name": "stderr",
     "output_type": "stream",
     "text": [
      "Epoch 1155: 100%|██████████| 938/938 [00:17<00:00, 55.15batch/s, Train Loss=0.244, Train Acc=90.6]\n"
     ]
    },
    {
     "name": "stdout",
     "output_type": "stream",
     "text": [
      "Epoch 1155\n",
      "Train Loss: 0.2437, Train Accuracy: 90.55%\n",
      "Test Loss: 0.3008, Test Accuracy: 89.32%\n",
      "\n"
     ]
    },
    {
     "name": "stderr",
     "output_type": "stream",
     "text": [
      "Epoch 1156: 100%|██████████| 938/938 [00:17<00:00, 55.06batch/s, Train Loss=0.239, Train Acc=90.8]\n"
     ]
    },
    {
     "name": "stdout",
     "output_type": "stream",
     "text": [
      "Epoch 1156\n",
      "Train Loss: 0.2394, Train Accuracy: 90.82%\n",
      "Test Loss: 0.3062, Test Accuracy: 89.18%\n",
      "\n"
     ]
    },
    {
     "name": "stderr",
     "output_type": "stream",
     "text": [
      "Epoch 1157: 100%|██████████| 938/938 [00:16<00:00, 55.23batch/s, Train Loss=0.242, Train Acc=90.7]\n"
     ]
    },
    {
     "name": "stdout",
     "output_type": "stream",
     "text": [
      "Epoch 1157\n",
      "Train Loss: 0.2417, Train Accuracy: 90.68%\n",
      "Test Loss: 0.3098, Test Accuracy: 89.03%\n",
      "\n"
     ]
    },
    {
     "name": "stderr",
     "output_type": "stream",
     "text": [
      "Epoch 1158: 100%|██████████| 938/938 [00:17<00:00, 55.12batch/s, Train Loss=0.244, Train Acc=90.7]\n"
     ]
    },
    {
     "name": "stdout",
     "output_type": "stream",
     "text": [
      "Epoch 1158\n",
      "Train Loss: 0.2436, Train Accuracy: 90.67%\n",
      "Test Loss: 0.2939, Test Accuracy: 89.45%\n",
      "\n"
     ]
    },
    {
     "name": "stderr",
     "output_type": "stream",
     "text": [
      "Epoch 1159: 100%|██████████| 938/938 [00:17<00:00, 55.14batch/s, Train Loss=0.241, Train Acc=90.7]\n"
     ]
    },
    {
     "name": "stdout",
     "output_type": "stream",
     "text": [
      "Epoch 1159\n",
      "Train Loss: 0.2407, Train Accuracy: 90.72%\n",
      "Test Loss: 0.2967, Test Accuracy: 89.58%\n",
      "\n"
     ]
    },
    {
     "name": "stderr",
     "output_type": "stream",
     "text": [
      "Epoch 1160: 100%|██████████| 938/938 [00:17<00:00, 55.06batch/s, Train Loss=0.238, Train Acc=90.8]\n"
     ]
    },
    {
     "name": "stdout",
     "output_type": "stream",
     "text": [
      "Epoch 1160\n",
      "Train Loss: 0.2381, Train Accuracy: 90.83%\n",
      "Test Loss: 0.2950, Test Accuracy: 89.64%\n",
      "\n"
     ]
    },
    {
     "name": "stderr",
     "output_type": "stream",
     "text": [
      "Epoch 1161: 100%|██████████| 938/938 [00:16<00:00, 55.19batch/s, Train Loss=0.238, Train Acc=90.8]\n"
     ]
    },
    {
     "name": "stdout",
     "output_type": "stream",
     "text": [
      "Epoch 1161\n",
      "Train Loss: 0.2383, Train Accuracy: 90.75%\n",
      "Test Loss: 0.2993, Test Accuracy: 89.44%\n",
      "\n"
     ]
    },
    {
     "name": "stderr",
     "output_type": "stream",
     "text": [
      "Epoch 1162: 100%|██████████| 938/938 [00:16<00:00, 55.31batch/s, Train Loss=0.243, Train Acc=90.7]\n"
     ]
    },
    {
     "name": "stdout",
     "output_type": "stream",
     "text": [
      "Epoch 1162\n",
      "Train Loss: 0.2427, Train Accuracy: 90.68%\n",
      "Test Loss: 0.2941, Test Accuracy: 89.46%\n",
      "\n"
     ]
    },
    {
     "name": "stderr",
     "output_type": "stream",
     "text": [
      "Epoch 1163: 100%|██████████| 938/938 [00:17<00:00, 55.16batch/s, Train Loss=0.239, Train Acc=91.1]\n"
     ]
    },
    {
     "name": "stdout",
     "output_type": "stream",
     "text": [
      "Epoch 1163\n",
      "Train Loss: 0.2386, Train Accuracy: 91.05%\n",
      "Test Loss: 0.2940, Test Accuracy: 89.73%\n",
      "\n"
     ]
    },
    {
     "name": "stderr",
     "output_type": "stream",
     "text": [
      "Epoch 1164: 100%|██████████| 938/938 [00:16<00:00, 55.25batch/s, Train Loss=0.24, Train Acc=90.9] \n"
     ]
    },
    {
     "name": "stdout",
     "output_type": "stream",
     "text": [
      "Epoch 1164\n",
      "Train Loss: 0.2399, Train Accuracy: 90.92%\n",
      "Test Loss: 0.2947, Test Accuracy: 89.38%\n",
      "\n"
     ]
    },
    {
     "name": "stderr",
     "output_type": "stream",
     "text": [
      "Epoch 1165: 100%|██████████| 938/938 [00:17<00:00, 55.13batch/s, Train Loss=0.243, Train Acc=90.7]\n"
     ]
    },
    {
     "name": "stdout",
     "output_type": "stream",
     "text": [
      "Epoch 1165\n",
      "Train Loss: 0.2426, Train Accuracy: 90.66%\n",
      "Test Loss: 0.2966, Test Accuracy: 89.63%\n",
      "\n"
     ]
    },
    {
     "name": "stderr",
     "output_type": "stream",
     "text": [
      "Epoch 1166: 100%|██████████| 938/938 [00:17<00:00, 55.12batch/s, Train Loss=0.239, Train Acc=90.9]\n"
     ]
    },
    {
     "name": "stdout",
     "output_type": "stream",
     "text": [
      "Epoch 1166\n",
      "Train Loss: 0.2392, Train Accuracy: 90.87%\n",
      "Test Loss: 0.3047, Test Accuracy: 89.53%\n",
      "\n"
     ]
    },
    {
     "name": "stderr",
     "output_type": "stream",
     "text": [
      "Epoch 1167: 100%|██████████| 938/938 [00:17<00:00, 55.07batch/s, Train Loss=0.241, Train Acc=90.7]\n"
     ]
    },
    {
     "name": "stdout",
     "output_type": "stream",
     "text": [
      "Epoch 1167\n",
      "Train Loss: 0.2406, Train Accuracy: 90.69%\n",
      "Test Loss: 0.3023, Test Accuracy: 89.68%\n",
      "\n"
     ]
    },
    {
     "name": "stderr",
     "output_type": "stream",
     "text": [
      "Epoch 1168: 100%|██████████| 938/938 [00:17<00:00, 55.06batch/s, Train Loss=0.241, Train Acc=90.8]\n"
     ]
    },
    {
     "name": "stdout",
     "output_type": "stream",
     "text": [
      "Epoch 1168\n",
      "Train Loss: 0.2410, Train Accuracy: 90.79%\n",
      "Test Loss: 0.2937, Test Accuracy: 89.44%\n",
      "\n"
     ]
    },
    {
     "name": "stderr",
     "output_type": "stream",
     "text": [
      "Epoch 1169: 100%|██████████| 938/938 [00:17<00:00, 55.12batch/s, Train Loss=0.238, Train Acc=90.8]\n"
     ]
    },
    {
     "name": "stdout",
     "output_type": "stream",
     "text": [
      "Epoch 1169\n",
      "Train Loss: 0.2384, Train Accuracy: 90.79%\n",
      "Test Loss: 0.2931, Test Accuracy: 89.71%\n",
      "\n"
     ]
    },
    {
     "name": "stderr",
     "output_type": "stream",
     "text": [
      "Epoch 1170: 100%|██████████| 938/938 [00:16<00:00, 55.23batch/s, Train Loss=0.237, Train Acc=90.9]\n"
     ]
    },
    {
     "name": "stdout",
     "output_type": "stream",
     "text": [
      "Epoch 1170\n",
      "Train Loss: 0.2371, Train Accuracy: 90.92%\n",
      "Test Loss: 0.2940, Test Accuracy: 89.34%\n",
      "\n"
     ]
    },
    {
     "name": "stderr",
     "output_type": "stream",
     "text": [
      "Epoch 1171: 100%|██████████| 938/938 [00:16<00:00, 55.20batch/s, Train Loss=0.241, Train Acc=90.7]\n"
     ]
    },
    {
     "name": "stdout",
     "output_type": "stream",
     "text": [
      "Epoch 1171\n",
      "Train Loss: 0.2408, Train Accuracy: 90.72%\n",
      "Test Loss: 0.2973, Test Accuracy: 89.77%\n",
      "\n"
     ]
    },
    {
     "name": "stderr",
     "output_type": "stream",
     "text": [
      "Epoch 1172: 100%|██████████| 938/938 [00:17<00:00, 55.10batch/s, Train Loss=0.238, Train Acc=90.9]\n"
     ]
    },
    {
     "name": "stdout",
     "output_type": "stream",
     "text": [
      "Epoch 1172\n",
      "Train Loss: 0.2376, Train Accuracy: 90.89%\n",
      "Test Loss: 0.2887, Test Accuracy: 89.84%\n",
      "\n"
     ]
    },
    {
     "name": "stderr",
     "output_type": "stream",
     "text": [
      "Epoch 1173: 100%|██████████| 938/938 [00:17<00:00, 55.07batch/s, Train Loss=0.238, Train Acc=90.9]\n"
     ]
    },
    {
     "name": "stdout",
     "output_type": "stream",
     "text": [
      "Epoch 1173\n",
      "Train Loss: 0.2383, Train Accuracy: 90.86%\n",
      "Test Loss: 0.2929, Test Accuracy: 89.75%\n",
      "\n"
     ]
    },
    {
     "name": "stderr",
     "output_type": "stream",
     "text": [
      "Epoch 1174: 100%|██████████| 938/938 [00:17<00:00, 55.12batch/s, Train Loss=0.237, Train Acc=90.9]\n"
     ]
    },
    {
     "name": "stdout",
     "output_type": "stream",
     "text": [
      "Epoch 1174\n",
      "Train Loss: 0.2374, Train Accuracy: 90.92%\n",
      "Test Loss: 0.3035, Test Accuracy: 89.59%\n",
      "\n"
     ]
    },
    {
     "name": "stderr",
     "output_type": "stream",
     "text": [
      "Epoch 1175: 100%|██████████| 938/938 [00:16<00:00, 55.21batch/s, Train Loss=0.239, Train Acc=90.8]\n"
     ]
    },
    {
     "name": "stdout",
     "output_type": "stream",
     "text": [
      "Epoch 1175\n",
      "Train Loss: 0.2392, Train Accuracy: 90.77%\n",
      "Test Loss: 0.3102, Test Accuracy: 89.54%\n",
      "\n"
     ]
    },
    {
     "name": "stderr",
     "output_type": "stream",
     "text": [
      "Epoch 1176: 100%|██████████| 938/938 [00:17<00:00, 55.13batch/s, Train Loss=0.234, Train Acc=91.1]\n"
     ]
    },
    {
     "name": "stdout",
     "output_type": "stream",
     "text": [
      "Epoch 1176\n",
      "Train Loss: 0.2338, Train Accuracy: 91.06%\n",
      "Test Loss: 0.2965, Test Accuracy: 89.89%\n",
      "\n"
     ]
    },
    {
     "name": "stderr",
     "output_type": "stream",
     "text": [
      "Epoch 1177: 100%|██████████| 938/938 [00:17<00:00, 55.15batch/s, Train Loss=0.236, Train Acc=90.8]\n"
     ]
    },
    {
     "name": "stdout",
     "output_type": "stream",
     "text": [
      "Epoch 1177\n",
      "Train Loss: 0.2363, Train Accuracy: 90.83%\n",
      "Test Loss: 0.3010, Test Accuracy: 89.51%\n",
      "\n"
     ]
    },
    {
     "name": "stderr",
     "output_type": "stream",
     "text": [
      "Epoch 1178: 100%|██████████| 938/938 [00:17<00:00, 55.05batch/s, Train Loss=0.24, Train Acc=90.8] \n"
     ]
    },
    {
     "name": "stdout",
     "output_type": "stream",
     "text": [
      "Epoch 1178\n",
      "Train Loss: 0.2397, Train Accuracy: 90.82%\n",
      "Test Loss: 0.2922, Test Accuracy: 89.84%\n",
      "\n"
     ]
    },
    {
     "name": "stderr",
     "output_type": "stream",
     "text": [
      "Epoch 1179: 100%|██████████| 938/938 [00:16<00:00, 55.28batch/s, Train Loss=0.237, Train Acc=90.9]\n"
     ]
    },
    {
     "name": "stdout",
     "output_type": "stream",
     "text": [
      "Epoch 1179\n",
      "Train Loss: 0.2371, Train Accuracy: 90.91%\n",
      "Test Loss: 0.2873, Test Accuracy: 89.87%\n",
      "\n"
     ]
    },
    {
     "name": "stderr",
     "output_type": "stream",
     "text": [
      "Epoch 1180: 100%|██████████| 938/938 [00:16<00:00, 55.27batch/s, Train Loss=0.236, Train Acc=90.9]\n"
     ]
    },
    {
     "name": "stdout",
     "output_type": "stream",
     "text": [
      "Epoch 1180\n",
      "Train Loss: 0.2363, Train Accuracy: 90.91%\n",
      "Test Loss: 0.2893, Test Accuracy: 89.88%\n",
      "\n"
     ]
    },
    {
     "name": "stderr",
     "output_type": "stream",
     "text": [
      "Epoch 1181: 100%|██████████| 938/938 [00:16<00:00, 55.19batch/s, Train Loss=0.235, Train Acc=90.9]\n"
     ]
    },
    {
     "name": "stdout",
     "output_type": "stream",
     "text": [
      "Epoch 1181\n",
      "Train Loss: 0.2354, Train Accuracy: 90.90%\n",
      "Test Loss: 0.2946, Test Accuracy: 89.83%\n",
      "\n"
     ]
    },
    {
     "name": "stderr",
     "output_type": "stream",
     "text": [
      "Epoch 1182: 100%|██████████| 938/938 [00:16<00:00, 55.22batch/s, Train Loss=0.237, Train Acc=90.8]\n"
     ]
    },
    {
     "name": "stdout",
     "output_type": "stream",
     "text": [
      "Epoch 1182\n",
      "Train Loss: 0.2369, Train Accuracy: 90.79%\n",
      "Test Loss: 0.3023, Test Accuracy: 89.50%\n",
      "\n"
     ]
    },
    {
     "name": "stderr",
     "output_type": "stream",
     "text": [
      "Epoch 1183: 100%|██████████| 938/938 [00:16<00:00, 55.25batch/s, Train Loss=0.235, Train Acc=91]  \n"
     ]
    },
    {
     "name": "stdout",
     "output_type": "stream",
     "text": [
      "Epoch 1183\n",
      "Train Loss: 0.2355, Train Accuracy: 90.96%\n",
      "Test Loss: 0.3101, Test Accuracy: 89.22%\n",
      "\n"
     ]
    },
    {
     "name": "stderr",
     "output_type": "stream",
     "text": [
      "Epoch 1184: 100%|██████████| 938/938 [00:16<00:00, 55.19batch/s, Train Loss=0.233, Train Acc=91]  \n"
     ]
    },
    {
     "name": "stdout",
     "output_type": "stream",
     "text": [
      "Epoch 1184\n",
      "Train Loss: 0.2328, Train Accuracy: 91.05%\n",
      "Test Loss: 0.3047, Test Accuracy: 89.58%\n",
      "\n"
     ]
    },
    {
     "name": "stderr",
     "output_type": "stream",
     "text": [
      "Epoch 1185: 100%|██████████| 938/938 [00:17<00:00, 55.08batch/s, Train Loss=0.235, Train Acc=91]  \n"
     ]
    },
    {
     "name": "stdout",
     "output_type": "stream",
     "text": [
      "Epoch 1185\n",
      "Train Loss: 0.2350, Train Accuracy: 91.01%\n",
      "Test Loss: 0.3074, Test Accuracy: 89.45%\n",
      "\n"
     ]
    },
    {
     "name": "stderr",
     "output_type": "stream",
     "text": [
      "Epoch 1186: 100%|██████████| 938/938 [00:17<00:00, 55.05batch/s, Train Loss=0.234, Train Acc=91]  \n"
     ]
    },
    {
     "name": "stdout",
     "output_type": "stream",
     "text": [
      "Epoch 1186\n",
      "Train Loss: 0.2338, Train Accuracy: 91.02%\n",
      "Test Loss: 0.2993, Test Accuracy: 89.72%\n",
      "\n"
     ]
    },
    {
     "name": "stderr",
     "output_type": "stream",
     "text": [
      "Epoch 1187: 100%|██████████| 938/938 [00:16<00:00, 55.32batch/s, Train Loss=0.232, Train Acc=91.1]\n"
     ]
    },
    {
     "name": "stdout",
     "output_type": "stream",
     "text": [
      "Epoch 1187\n",
      "Train Loss: 0.2321, Train Accuracy: 91.05%\n",
      "Test Loss: 0.3002, Test Accuracy: 89.47%\n",
      "\n"
     ]
    },
    {
     "name": "stderr",
     "output_type": "stream",
     "text": [
      "Epoch 1188: 100%|██████████| 938/938 [00:16<00:00, 55.40batch/s, Train Loss=0.232, Train Acc=91.2]\n"
     ]
    },
    {
     "name": "stdout",
     "output_type": "stream",
     "text": [
      "Epoch 1188\n",
      "Train Loss: 0.2317, Train Accuracy: 91.15%\n",
      "Test Loss: 0.2960, Test Accuracy: 89.69%\n",
      "\n"
     ]
    },
    {
     "name": "stderr",
     "output_type": "stream",
     "text": [
      "Epoch 1189: 100%|██████████| 938/938 [00:17<00:00, 55.13batch/s, Train Loss=0.236, Train Acc=90.9]\n"
     ]
    },
    {
     "name": "stdout",
     "output_type": "stream",
     "text": [
      "Epoch 1189\n",
      "Train Loss: 0.2358, Train Accuracy: 90.88%\n",
      "Test Loss: 0.3024, Test Accuracy: 89.28%\n",
      "\n"
     ]
    },
    {
     "name": "stderr",
     "output_type": "stream",
     "text": [
      "Epoch 1190: 100%|██████████| 938/938 [00:17<00:00, 55.06batch/s, Train Loss=0.232, Train Acc=91.1]\n"
     ]
    },
    {
     "name": "stdout",
     "output_type": "stream",
     "text": [
      "Epoch 1190\n",
      "Train Loss: 0.2319, Train Accuracy: 91.08%\n",
      "Test Loss: 0.2957, Test Accuracy: 89.71%\n",
      "\n"
     ]
    },
    {
     "name": "stderr",
     "output_type": "stream",
     "text": [
      "Epoch 1191: 100%|██████████| 938/938 [00:16<00:00, 55.24batch/s, Train Loss=0.233, Train Acc=91.1]\n"
     ]
    },
    {
     "name": "stdout",
     "output_type": "stream",
     "text": [
      "Epoch 1191\n",
      "Train Loss: 0.2328, Train Accuracy: 91.11%\n",
      "Test Loss: 0.2911, Test Accuracy: 89.97%\n",
      "\n"
     ]
    },
    {
     "name": "stderr",
     "output_type": "stream",
     "text": [
      "Epoch 1192: 100%|██████████| 938/938 [00:17<00:00, 55.14batch/s, Train Loss=0.231, Train Acc=91.1]\n"
     ]
    },
    {
     "name": "stdout",
     "output_type": "stream",
     "text": [
      "Epoch 1192\n",
      "Train Loss: 0.2313, Train Accuracy: 91.14%\n",
      "Test Loss: 0.2934, Test Accuracy: 89.61%\n",
      "\n"
     ]
    },
    {
     "name": "stderr",
     "output_type": "stream",
     "text": [
      "Epoch 1193: 100%|██████████| 938/938 [00:17<00:00, 55.13batch/s, Train Loss=0.236, Train Acc=91]  \n"
     ]
    },
    {
     "name": "stdout",
     "output_type": "stream",
     "text": [
      "Epoch 1193\n",
      "Train Loss: 0.2364, Train Accuracy: 90.96%\n",
      "Test Loss: 0.2942, Test Accuracy: 89.84%\n",
      "\n"
     ]
    },
    {
     "name": "stderr",
     "output_type": "stream",
     "text": [
      "Epoch 1194: 100%|██████████| 938/938 [00:17<00:00, 54.94batch/s, Train Loss=0.232, Train Acc=91]  \n"
     ]
    },
    {
     "name": "stdout",
     "output_type": "stream",
     "text": [
      "Epoch 1194\n",
      "Train Loss: 0.2320, Train Accuracy: 90.97%\n",
      "Test Loss: 0.2938, Test Accuracy: 89.75%\n",
      "\n"
     ]
    },
    {
     "name": "stderr",
     "output_type": "stream",
     "text": [
      "Epoch 1195: 100%|██████████| 938/938 [00:16<00:00, 55.29batch/s, Train Loss=0.232, Train Acc=91]  \n"
     ]
    },
    {
     "name": "stdout",
     "output_type": "stream",
     "text": [
      "Epoch 1195\n",
      "Train Loss: 0.2319, Train Accuracy: 91.03%\n",
      "Test Loss: 0.3050, Test Accuracy: 89.68%\n",
      "\n"
     ]
    },
    {
     "name": "stderr",
     "output_type": "stream",
     "text": [
      "Epoch 1196: 100%|██████████| 938/938 [00:16<00:00, 55.20batch/s, Train Loss=0.233, Train Acc=91]  \n"
     ]
    },
    {
     "name": "stdout",
     "output_type": "stream",
     "text": [
      "Epoch 1196\n",
      "Train Loss: 0.2329, Train Accuracy: 90.98%\n",
      "Test Loss: 0.2966, Test Accuracy: 89.87%\n",
      "\n"
     ]
    },
    {
     "name": "stderr",
     "output_type": "stream",
     "text": [
      "Epoch 1197: 100%|██████████| 938/938 [00:17<00:00, 55.11batch/s, Train Loss=0.232, Train Acc=91.1]\n"
     ]
    },
    {
     "name": "stdout",
     "output_type": "stream",
     "text": [
      "Epoch 1197\n",
      "Train Loss: 0.2323, Train Accuracy: 91.11%\n",
      "Test Loss: 0.2913, Test Accuracy: 89.97%\n",
      "\n"
     ]
    },
    {
     "name": "stderr",
     "output_type": "stream",
     "text": [
      "Epoch 1198: 100%|██████████| 938/938 [00:17<00:00, 55.10batch/s, Train Loss=0.231, Train Acc=91.2]\n"
     ]
    },
    {
     "name": "stdout",
     "output_type": "stream",
     "text": [
      "Epoch 1198\n",
      "Train Loss: 0.2311, Train Accuracy: 91.16%\n",
      "Test Loss: 0.3038, Test Accuracy: 89.67%\n",
      "\n"
     ]
    },
    {
     "name": "stderr",
     "output_type": "stream",
     "text": [
      "Epoch 1199: 100%|██████████| 938/938 [00:16<00:00, 55.21batch/s, Train Loss=0.233, Train Acc=91.2]\n"
     ]
    },
    {
     "name": "stdout",
     "output_type": "stream",
     "text": [
      "Epoch 1199\n",
      "Train Loss: 0.2331, Train Accuracy: 91.16%\n",
      "Test Loss: 0.2905, Test Accuracy: 89.99%\n",
      "\n"
     ]
    },
    {
     "name": "stderr",
     "output_type": "stream",
     "text": [
      "Epoch 1200: 100%|██████████| 938/938 [00:17<00:00, 55.13batch/s, Train Loss=0.231, Train Acc=91.1]\n"
     ]
    },
    {
     "name": "stdout",
     "output_type": "stream",
     "text": [
      "Epoch 1200\n",
      "Train Loss: 0.2306, Train Accuracy: 91.13%\n",
      "Test Loss: 0.2977, Test Accuracy: 89.75%\n",
      "\n"
     ]
    },
    {
     "name": "stderr",
     "output_type": "stream",
     "text": [
      "Epoch 1201: 100%|██████████| 938/938 [00:17<00:00, 55.03batch/s, Train Loss=0.233, Train Acc=91]  \n"
     ]
    },
    {
     "name": "stdout",
     "output_type": "stream",
     "text": [
      "Epoch 1201\n",
      "Train Loss: 0.2329, Train Accuracy: 90.98%\n",
      "Test Loss: 0.2879, Test Accuracy: 89.77%\n",
      "\n"
     ]
    },
    {
     "name": "stderr",
     "output_type": "stream",
     "text": [
      "Epoch 1202: 100%|██████████| 938/938 [00:17<00:00, 55.05batch/s, Train Loss=0.23, Train Acc=91.2] \n"
     ]
    },
    {
     "name": "stdout",
     "output_type": "stream",
     "text": [
      "Epoch 1202\n",
      "Train Loss: 0.2304, Train Accuracy: 91.16%\n",
      "Test Loss: 0.3002, Test Accuracy: 89.31%\n",
      "\n"
     ]
    },
    {
     "name": "stderr",
     "output_type": "stream",
     "text": [
      "Epoch 1203: 100%|██████████| 938/938 [00:17<00:00, 55.14batch/s, Train Loss=0.232, Train Acc=91]  \n"
     ]
    },
    {
     "name": "stdout",
     "output_type": "stream",
     "text": [
      "Epoch 1203\n",
      "Train Loss: 0.2318, Train Accuracy: 91.01%\n",
      "Test Loss: 0.2965, Test Accuracy: 89.63%\n",
      "\n"
     ]
    },
    {
     "name": "stderr",
     "output_type": "stream",
     "text": [
      "Epoch 1204: 100%|██████████| 938/938 [00:17<00:00, 55.11batch/s, Train Loss=0.231, Train Acc=91]  \n"
     ]
    },
    {
     "name": "stdout",
     "output_type": "stream",
     "text": [
      "Epoch 1204\n",
      "Train Loss: 0.2311, Train Accuracy: 91.03%\n",
      "Test Loss: 0.2902, Test Accuracy: 89.80%\n",
      "\n"
     ]
    },
    {
     "name": "stderr",
     "output_type": "stream",
     "text": [
      "Epoch 1205: 100%|██████████| 938/938 [00:16<00:00, 55.27batch/s, Train Loss=0.23, Train Acc=91.1] \n"
     ]
    },
    {
     "name": "stdout",
     "output_type": "stream",
     "text": [
      "Epoch 1205\n",
      "Train Loss: 0.2297, Train Accuracy: 91.14%\n",
      "Test Loss: 0.2919, Test Accuracy: 89.84%\n",
      "\n"
     ]
    },
    {
     "name": "stderr",
     "output_type": "stream",
     "text": [
      "Epoch 1206: 100%|██████████| 938/938 [00:16<00:00, 55.21batch/s, Train Loss=0.228, Train Acc=91.2]\n"
     ]
    },
    {
     "name": "stdout",
     "output_type": "stream",
     "text": [
      "Epoch 1206\n",
      "Train Loss: 0.2278, Train Accuracy: 91.24%\n",
      "Test Loss: 0.3026, Test Accuracy: 89.65%\n",
      "\n"
     ]
    },
    {
     "name": "stderr",
     "output_type": "stream",
     "text": [
      "Epoch 1207: 100%|██████████| 938/938 [00:17<00:00, 55.14batch/s, Train Loss=0.23, Train Acc=91.1] \n"
     ]
    },
    {
     "name": "stdout",
     "output_type": "stream",
     "text": [
      "Epoch 1207\n",
      "Train Loss: 0.2300, Train Accuracy: 91.14%\n",
      "Test Loss: 0.3029, Test Accuracy: 89.40%\n",
      "\n"
     ]
    },
    {
     "name": "stderr",
     "output_type": "stream",
     "text": [
      "Epoch 1208: 100%|██████████| 938/938 [00:17<00:00, 55.13batch/s, Train Loss=0.23, Train Acc=91.2] \n"
     ]
    },
    {
     "name": "stdout",
     "output_type": "stream",
     "text": [
      "Epoch 1208\n",
      "Train Loss: 0.2295, Train Accuracy: 91.19%\n",
      "Test Loss: 0.3024, Test Accuracy: 89.34%\n",
      "\n"
     ]
    },
    {
     "name": "stderr",
     "output_type": "stream",
     "text": [
      "Epoch 1209: 100%|██████████| 938/938 [00:17<00:00, 55.00batch/s, Train Loss=0.227, Train Acc=91.2]\n"
     ]
    },
    {
     "name": "stdout",
     "output_type": "stream",
     "text": [
      "Epoch 1209\n",
      "Train Loss: 0.2274, Train Accuracy: 91.22%\n",
      "Test Loss: 0.2963, Test Accuracy: 89.51%\n",
      "\n"
     ]
    },
    {
     "name": "stderr",
     "output_type": "stream",
     "text": [
      "Epoch 1210: 100%|██████████| 938/938 [00:17<00:00, 55.10batch/s, Train Loss=0.23, Train Acc=91.2] \n"
     ]
    },
    {
     "name": "stdout",
     "output_type": "stream",
     "text": [
      "Epoch 1210\n",
      "Train Loss: 0.2304, Train Accuracy: 91.19%\n",
      "Test Loss: 0.2993, Test Accuracy: 89.63%\n",
      "\n"
     ]
    },
    {
     "name": "stderr",
     "output_type": "stream",
     "text": [
      "Epoch 1211: 100%|██████████| 938/938 [00:17<00:00, 55.09batch/s, Train Loss=0.226, Train Acc=91.2]\n"
     ]
    },
    {
     "name": "stdout",
     "output_type": "stream",
     "text": [
      "Epoch 1211\n",
      "Train Loss: 0.2264, Train Accuracy: 91.23%\n",
      "Test Loss: 0.3050, Test Accuracy: 89.58%\n",
      "\n"
     ]
    },
    {
     "name": "stderr",
     "output_type": "stream",
     "text": [
      "Epoch 1212: 100%|██████████| 938/938 [00:17<00:00, 55.14batch/s, Train Loss=0.233, Train Acc=91]  \n"
     ]
    },
    {
     "name": "stdout",
     "output_type": "stream",
     "text": [
      "Epoch 1212\n",
      "Train Loss: 0.2331, Train Accuracy: 90.99%\n",
      "Test Loss: 0.3018, Test Accuracy: 89.76%\n",
      "\n"
     ]
    },
    {
     "name": "stderr",
     "output_type": "stream",
     "text": [
      "Epoch 1213: 100%|██████████| 938/938 [00:16<00:00, 55.19batch/s, Train Loss=0.229, Train Acc=91.3]\n"
     ]
    },
    {
     "name": "stdout",
     "output_type": "stream",
     "text": [
      "Epoch 1213\n",
      "Train Loss: 0.2289, Train Accuracy: 91.31%\n",
      "Test Loss: 0.2971, Test Accuracy: 89.63%\n",
      "\n"
     ]
    },
    {
     "name": "stderr",
     "output_type": "stream",
     "text": [
      "Epoch 1214: 100%|██████████| 938/938 [00:16<00:00, 55.33batch/s, Train Loss=0.232, Train Acc=91.1]\n"
     ]
    },
    {
     "name": "stdout",
     "output_type": "stream",
     "text": [
      "Epoch 1214\n",
      "Train Loss: 0.2316, Train Accuracy: 91.14%\n",
      "Test Loss: 0.3003, Test Accuracy: 89.51%\n",
      "\n"
     ]
    },
    {
     "name": "stderr",
     "output_type": "stream",
     "text": [
      "Epoch 1215: 100%|██████████| 938/938 [00:17<00:00, 55.05batch/s, Train Loss=0.224, Train Acc=91.4]\n"
     ]
    },
    {
     "name": "stdout",
     "output_type": "stream",
     "text": [
      "Epoch 1215\n",
      "Train Loss: 0.2240, Train Accuracy: 91.41%\n",
      "Test Loss: 0.3012, Test Accuracy: 89.48%\n",
      "\n"
     ]
    },
    {
     "name": "stderr",
     "output_type": "stream",
     "text": [
      "Epoch 1216: 100%|██████████| 938/938 [00:16<00:00, 55.19batch/s, Train Loss=0.229, Train Acc=91.2]\n"
     ]
    },
    {
     "name": "stdout",
     "output_type": "stream",
     "text": [
      "Epoch 1216\n",
      "Train Loss: 0.2287, Train Accuracy: 91.17%\n",
      "Test Loss: 0.2988, Test Accuracy: 89.56%\n",
      "\n"
     ]
    },
    {
     "name": "stderr",
     "output_type": "stream",
     "text": [
      "Epoch 1217: 100%|██████████| 938/938 [00:17<00:00, 55.10batch/s, Train Loss=0.226, Train Acc=91.4]\n"
     ]
    },
    {
     "name": "stdout",
     "output_type": "stream",
     "text": [
      "Epoch 1217\n",
      "Train Loss: 0.2263, Train Accuracy: 91.36%\n",
      "Test Loss: 0.2957, Test Accuracy: 89.88%\n",
      "\n"
     ]
    },
    {
     "name": "stderr",
     "output_type": "stream",
     "text": [
      "Epoch 1218: 100%|██████████| 938/938 [00:16<00:00, 55.23batch/s, Train Loss=0.228, Train Acc=91.2]\n"
     ]
    },
    {
     "name": "stdout",
     "output_type": "stream",
     "text": [
      "Epoch 1218\n",
      "Train Loss: 0.2283, Train Accuracy: 91.22%\n",
      "Test Loss: 0.3030, Test Accuracy: 89.52%\n",
      "\n"
     ]
    },
    {
     "name": "stderr",
     "output_type": "stream",
     "text": [
      "Epoch 1219: 100%|██████████| 938/938 [00:17<00:00, 55.15batch/s, Train Loss=0.227, Train Acc=91.2]\n"
     ]
    },
    {
     "name": "stdout",
     "output_type": "stream",
     "text": [
      "Epoch 1219\n",
      "Train Loss: 0.2272, Train Accuracy: 91.20%\n",
      "Test Loss: 0.2964, Test Accuracy: 89.84%\n",
      "\n"
     ]
    },
    {
     "name": "stderr",
     "output_type": "stream",
     "text": [
      "Epoch 1220: 100%|██████████| 938/938 [00:16<00:00, 55.23batch/s, Train Loss=0.225, Train Acc=91.4]\n"
     ]
    },
    {
     "name": "stdout",
     "output_type": "stream",
     "text": [
      "Epoch 1220\n",
      "Train Loss: 0.2254, Train Accuracy: 91.41%\n",
      "Test Loss: 0.3007, Test Accuracy: 89.44%\n",
      "\n"
     ]
    },
    {
     "name": "stderr",
     "output_type": "stream",
     "text": [
      "Epoch 1221: 100%|██████████| 938/938 [00:17<00:00, 55.03batch/s, Train Loss=0.225, Train Acc=91.4]\n"
     ]
    },
    {
     "name": "stdout",
     "output_type": "stream",
     "text": [
      "Epoch 1221\n",
      "Train Loss: 0.2253, Train Accuracy: 91.41%\n",
      "Test Loss: 0.2941, Test Accuracy: 89.74%\n",
      "\n"
     ]
    },
    {
     "name": "stderr",
     "output_type": "stream",
     "text": [
      "Epoch 1222: 100%|██████████| 938/938 [00:17<00:00, 55.07batch/s, Train Loss=0.226, Train Acc=91.3]\n"
     ]
    },
    {
     "name": "stdout",
     "output_type": "stream",
     "text": [
      "Epoch 1222\n",
      "Train Loss: 0.2260, Train Accuracy: 91.32%\n",
      "Test Loss: 0.3044, Test Accuracy: 89.23%\n",
      "\n"
     ]
    },
    {
     "name": "stderr",
     "output_type": "stream",
     "text": [
      "Epoch 1223: 100%|██████████| 938/938 [00:17<00:00, 55.13batch/s, Train Loss=0.227, Train Acc=91.3]\n"
     ]
    },
    {
     "name": "stdout",
     "output_type": "stream",
     "text": [
      "Epoch 1223\n",
      "Train Loss: 0.2268, Train Accuracy: 91.27%\n",
      "Test Loss: 0.3061, Test Accuracy: 89.18%\n",
      "\n"
     ]
    },
    {
     "name": "stderr",
     "output_type": "stream",
     "text": [
      "Epoch 1224: 100%|██████████| 938/938 [00:17<00:00, 55.10batch/s, Train Loss=0.226, Train Acc=91.3]\n"
     ]
    },
    {
     "name": "stdout",
     "output_type": "stream",
     "text": [
      "Epoch 1224\n",
      "Train Loss: 0.2260, Train Accuracy: 91.31%\n",
      "Test Loss: 0.3088, Test Accuracy: 89.65%\n",
      "\n"
     ]
    },
    {
     "name": "stderr",
     "output_type": "stream",
     "text": [
      "Epoch 1225: 100%|██████████| 938/938 [00:16<00:00, 55.23batch/s, Train Loss=0.227, Train Acc=91.2]\n"
     ]
    },
    {
     "name": "stdout",
     "output_type": "stream",
     "text": [
      "Epoch 1225\n",
      "Train Loss: 0.2273, Train Accuracy: 91.19%\n",
      "Test Loss: 0.3015, Test Accuracy: 89.72%\n",
      "\n"
     ]
    },
    {
     "name": "stderr",
     "output_type": "stream",
     "text": [
      "Epoch 1226: 100%|██████████| 938/938 [00:17<00:00, 55.08batch/s, Train Loss=0.226, Train Acc=91.3]\n"
     ]
    },
    {
     "name": "stdout",
     "output_type": "stream",
     "text": [
      "Epoch 1226\n",
      "Train Loss: 0.2258, Train Accuracy: 91.30%\n",
      "Test Loss: 0.3069, Test Accuracy: 89.26%\n",
      "\n"
     ]
    },
    {
     "name": "stderr",
     "output_type": "stream",
     "text": [
      "Epoch 1227: 100%|██████████| 938/938 [00:17<00:00, 55.03batch/s, Train Loss=0.225, Train Acc=91.4]\n"
     ]
    },
    {
     "name": "stdout",
     "output_type": "stream",
     "text": [
      "Epoch 1227\n",
      "Train Loss: 0.2246, Train Accuracy: 91.39%\n",
      "Test Loss: 0.2989, Test Accuracy: 89.57%\n",
      "\n"
     ]
    },
    {
     "name": "stderr",
     "output_type": "stream",
     "text": [
      "Epoch 1228: 100%|██████████| 938/938 [00:17<00:00, 54.97batch/s, Train Loss=0.226, Train Acc=91.2]\n"
     ]
    },
    {
     "name": "stdout",
     "output_type": "stream",
     "text": [
      "Epoch 1228\n",
      "Train Loss: 0.2263, Train Accuracy: 91.16%\n",
      "Test Loss: 0.2982, Test Accuracy: 89.42%\n",
      "\n"
     ]
    },
    {
     "name": "stderr",
     "output_type": "stream",
     "text": [
      "Epoch 1229: 100%|██████████| 938/938 [00:16<00:00, 55.26batch/s, Train Loss=0.223, Train Acc=91.4]\n"
     ]
    },
    {
     "name": "stdout",
     "output_type": "stream",
     "text": [
      "Epoch 1229\n",
      "Train Loss: 0.2233, Train Accuracy: 91.43%\n",
      "Test Loss: 0.2941, Test Accuracy: 90.00%\n",
      "\n"
     ]
    },
    {
     "name": "stderr",
     "output_type": "stream",
     "text": [
      "Epoch 1230: 100%|██████████| 938/938 [00:17<00:00, 55.17batch/s, Train Loss=0.224, Train Acc=91.5]\n"
     ]
    },
    {
     "name": "stdout",
     "output_type": "stream",
     "text": [
      "Epoch 1230\n",
      "Train Loss: 0.2239, Train Accuracy: 91.48%\n",
      "Test Loss: 0.3039, Test Accuracy: 89.54%\n",
      "\n"
     ]
    },
    {
     "name": "stderr",
     "output_type": "stream",
     "text": [
      "Epoch 1231: 100%|██████████| 938/938 [00:17<00:00, 55.12batch/s, Train Loss=0.226, Train Acc=91.3]\n"
     ]
    },
    {
     "name": "stdout",
     "output_type": "stream",
     "text": [
      "Epoch 1231\n",
      "Train Loss: 0.2260, Train Accuracy: 91.32%\n",
      "Test Loss: 0.2999, Test Accuracy: 89.94%\n",
      "\n"
     ]
    },
    {
     "name": "stderr",
     "output_type": "stream",
     "text": [
      "Epoch 1232: 100%|██████████| 938/938 [00:17<00:00, 55.02batch/s, Train Loss=0.223, Train Acc=91.4]\n"
     ]
    },
    {
     "name": "stdout",
     "output_type": "stream",
     "text": [
      "Epoch 1232\n",
      "Train Loss: 0.2229, Train Accuracy: 91.39%\n",
      "Test Loss: 0.3045, Test Accuracy: 89.78%\n",
      "\n"
     ]
    },
    {
     "name": "stderr",
     "output_type": "stream",
     "text": [
      "Epoch 1233: 100%|██████████| 938/938 [00:17<00:00, 55.17batch/s, Train Loss=0.224, Train Acc=91.3]\n"
     ]
    },
    {
     "name": "stdout",
     "output_type": "stream",
     "text": [
      "Epoch 1233\n",
      "Train Loss: 0.2245, Train Accuracy: 91.27%\n",
      "Test Loss: 0.3011, Test Accuracy: 89.63%\n",
      "\n"
     ]
    },
    {
     "name": "stderr",
     "output_type": "stream",
     "text": [
      "Epoch 1234: 100%|██████████| 938/938 [00:16<00:00, 55.20batch/s, Train Loss=0.223, Train Acc=91.5]\n"
     ]
    },
    {
     "name": "stdout",
     "output_type": "stream",
     "text": [
      "Epoch 1234\n",
      "Train Loss: 0.2226, Train Accuracy: 91.50%\n",
      "Test Loss: 0.3055, Test Accuracy: 89.64%\n",
      "\n"
     ]
    },
    {
     "name": "stderr",
     "output_type": "stream",
     "text": [
      "Epoch 1235: 100%|██████████| 938/938 [00:17<00:00, 55.07batch/s, Train Loss=0.227, Train Acc=91.3]\n"
     ]
    },
    {
     "name": "stdout",
     "output_type": "stream",
     "text": [
      "Epoch 1235\n",
      "Train Loss: 0.2267, Train Accuracy: 91.34%\n",
      "Test Loss: 0.3014, Test Accuracy: 89.84%\n",
      "\n"
     ]
    },
    {
     "name": "stderr",
     "output_type": "stream",
     "text": [
      "Epoch 1236: 100%|██████████| 938/938 [00:17<00:00, 55.11batch/s, Train Loss=0.223, Train Acc=91.3]\n"
     ]
    },
    {
     "name": "stdout",
     "output_type": "stream",
     "text": [
      "Epoch 1236\n",
      "Train Loss: 0.2232, Train Accuracy: 91.32%\n",
      "Test Loss: 0.3089, Test Accuracy: 89.52%\n",
      "\n"
     ]
    },
    {
     "name": "stderr",
     "output_type": "stream",
     "text": [
      "Epoch 1237: 100%|██████████| 938/938 [00:17<00:00, 55.11batch/s, Train Loss=0.225, Train Acc=91.5]\n"
     ]
    },
    {
     "name": "stdout",
     "output_type": "stream",
     "text": [
      "Epoch 1237\n",
      "Train Loss: 0.2247, Train Accuracy: 91.45%\n",
      "Test Loss: 0.3031, Test Accuracy: 89.53%\n",
      "\n"
     ]
    },
    {
     "name": "stderr",
     "output_type": "stream",
     "text": [
      "Epoch 1238: 100%|██████████| 938/938 [00:17<00:00, 54.92batch/s, Train Loss=0.22, Train Acc=91.5] \n"
     ]
    },
    {
     "name": "stdout",
     "output_type": "stream",
     "text": [
      "Epoch 1238\n",
      "Train Loss: 0.2204, Train Accuracy: 91.48%\n",
      "Test Loss: 0.3023, Test Accuracy: 89.80%\n",
      "\n"
     ]
    },
    {
     "name": "stderr",
     "output_type": "stream",
     "text": [
      "Epoch 1239: 100%|██████████| 938/938 [00:17<00:00, 54.99batch/s, Train Loss=0.225, Train Acc=91.3]\n"
     ]
    },
    {
     "name": "stdout",
     "output_type": "stream",
     "text": [
      "Epoch 1239\n",
      "Train Loss: 0.2252, Train Accuracy: 91.30%\n",
      "Test Loss: 0.3010, Test Accuracy: 89.83%\n",
      "\n"
     ]
    },
    {
     "name": "stderr",
     "output_type": "stream",
     "text": [
      "Epoch 1240: 100%|██████████| 938/938 [00:17<00:00, 55.05batch/s, Train Loss=0.222, Train Acc=91.4]\n"
     ]
    },
    {
     "name": "stdout",
     "output_type": "stream",
     "text": [
      "Epoch 1240\n",
      "Train Loss: 0.2225, Train Accuracy: 91.41%\n",
      "Test Loss: 0.3024, Test Accuracy: 90.08%\n",
      "\n"
     ]
    },
    {
     "name": "stderr",
     "output_type": "stream",
     "text": [
      "Epoch 1241: 100%|██████████| 938/938 [00:16<00:00, 55.28batch/s, Train Loss=0.22, Train Acc=91.6] \n"
     ]
    },
    {
     "name": "stdout",
     "output_type": "stream",
     "text": [
      "Epoch 1241\n",
      "Train Loss: 0.2196, Train Accuracy: 91.59%\n",
      "Test Loss: 0.3001, Test Accuracy: 89.91%\n",
      "\n"
     ]
    },
    {
     "name": "stderr",
     "output_type": "stream",
     "text": [
      "Epoch 1242: 100%|██████████| 938/938 [00:16<00:00, 55.20batch/s, Train Loss=0.226, Train Acc=91.3]\n"
     ]
    },
    {
     "name": "stdout",
     "output_type": "stream",
     "text": [
      "Epoch 1242\n",
      "Train Loss: 0.2259, Train Accuracy: 91.33%\n",
      "Test Loss: 0.3044, Test Accuracy: 89.62%\n",
      "\n"
     ]
    },
    {
     "name": "stderr",
     "output_type": "stream",
     "text": [
      "Epoch 1243: 100%|██████████| 938/938 [00:17<00:00, 55.04batch/s, Train Loss=0.224, Train Acc=91.5]\n"
     ]
    },
    {
     "name": "stdout",
     "output_type": "stream",
     "text": [
      "Epoch 1243\n",
      "Train Loss: 0.2237, Train Accuracy: 91.47%\n",
      "Test Loss: 0.3131, Test Accuracy: 89.37%\n",
      "\n"
     ]
    },
    {
     "name": "stderr",
     "output_type": "stream",
     "text": [
      "Epoch 1244: 100%|██████████| 938/938 [00:17<00:00, 55.16batch/s, Train Loss=0.223, Train Acc=91.4]\n"
     ]
    },
    {
     "name": "stdout",
     "output_type": "stream",
     "text": [
      "Epoch 1244\n",
      "Train Loss: 0.2234, Train Accuracy: 91.39%\n",
      "Test Loss: 0.3043, Test Accuracy: 90.04%\n",
      "\n"
     ]
    },
    {
     "name": "stderr",
     "output_type": "stream",
     "text": [
      "Epoch 1245: 100%|██████████| 938/938 [00:16<00:00, 55.25batch/s, Train Loss=0.219, Train Acc=91.6]\n"
     ]
    },
    {
     "name": "stdout",
     "output_type": "stream",
     "text": [
      "Epoch 1245\n",
      "Train Loss: 0.2193, Train Accuracy: 91.62%\n",
      "Test Loss: 0.3032, Test Accuracy: 89.49%\n",
      "\n"
     ]
    },
    {
     "name": "stderr",
     "output_type": "stream",
     "text": [
      "Epoch 1246: 100%|██████████| 938/938 [00:17<00:00, 55.12batch/s, Train Loss=0.222, Train Acc=91.5]\n"
     ]
    },
    {
     "name": "stdout",
     "output_type": "stream",
     "text": [
      "Epoch 1246\n",
      "Train Loss: 0.2215, Train Accuracy: 91.47%\n",
      "Test Loss: 0.3024, Test Accuracy: 89.55%\n",
      "\n"
     ]
    },
    {
     "name": "stderr",
     "output_type": "stream",
     "text": [
      "Epoch 1247: 100%|██████████| 938/938 [00:16<00:00, 55.18batch/s, Train Loss=0.222, Train Acc=91.5]\n"
     ]
    },
    {
     "name": "stdout",
     "output_type": "stream",
     "text": [
      "Epoch 1247\n",
      "Train Loss: 0.2220, Train Accuracy: 91.50%\n",
      "Test Loss: 0.2974, Test Accuracy: 89.90%\n",
      "\n"
     ]
    },
    {
     "name": "stderr",
     "output_type": "stream",
     "text": [
      "Epoch 1248: 100%|██████████| 938/938 [00:17<00:00, 55.16batch/s, Train Loss=0.225, Train Acc=91.4]\n"
     ]
    },
    {
     "name": "stdout",
     "output_type": "stream",
     "text": [
      "Epoch 1248\n",
      "Train Loss: 0.2252, Train Accuracy: 91.38%\n",
      "Test Loss: 0.2970, Test Accuracy: 89.70%\n",
      "\n"
     ]
    },
    {
     "name": "stderr",
     "output_type": "stream",
     "text": [
      "Epoch 1249: 100%|██████████| 938/938 [00:17<00:00, 55.17batch/s, Train Loss=0.22, Train Acc=91.6] \n"
     ]
    },
    {
     "name": "stdout",
     "output_type": "stream",
     "text": [
      "Epoch 1249\n",
      "Train Loss: 0.2205, Train Accuracy: 91.58%\n",
      "Test Loss: 0.3033, Test Accuracy: 89.43%\n",
      "\n"
     ]
    },
    {
     "name": "stderr",
     "output_type": "stream",
     "text": [
      "Epoch 1250: 100%|██████████| 938/938 [00:16<00:00, 55.20batch/s, Train Loss=0.221, Train Acc=91.5]\n"
     ]
    },
    {
     "name": "stdout",
     "output_type": "stream",
     "text": [
      "Epoch 1250\n",
      "Train Loss: 0.2211, Train Accuracy: 91.54%\n",
      "Test Loss: 0.3009, Test Accuracy: 89.61%\n",
      "\n"
     ]
    },
    {
     "name": "stderr",
     "output_type": "stream",
     "text": [
      "Epoch 1251: 100%|██████████| 938/938 [00:17<00:00, 55.17batch/s, Train Loss=0.219, Train Acc=91.6]\n"
     ]
    },
    {
     "name": "stdout",
     "output_type": "stream",
     "text": [
      "Epoch 1251\n",
      "Train Loss: 0.2194, Train Accuracy: 91.59%\n",
      "Test Loss: 0.3179, Test Accuracy: 89.12%\n",
      "\n"
     ]
    },
    {
     "name": "stderr",
     "output_type": "stream",
     "text": [
      "Epoch 1252: 100%|██████████| 938/938 [00:17<00:00, 55.10batch/s, Train Loss=0.217, Train Acc=91.8]\n"
     ]
    },
    {
     "name": "stdout",
     "output_type": "stream",
     "text": [
      "Epoch 1252\n",
      "Train Loss: 0.2169, Train Accuracy: 91.75%\n",
      "Test Loss: 0.3019, Test Accuracy: 89.93%\n",
      "\n"
     ]
    },
    {
     "name": "stderr",
     "output_type": "stream",
     "text": [
      "Epoch 1253: 100%|██████████| 938/938 [00:16<00:00, 55.19batch/s, Train Loss=0.219, Train Acc=91.6]\n"
     ]
    },
    {
     "name": "stdout",
     "output_type": "stream",
     "text": [
      "Epoch 1253\n",
      "Train Loss: 0.2194, Train Accuracy: 91.64%\n",
      "Test Loss: 0.2911, Test Accuracy: 89.76%\n",
      "\n"
     ]
    },
    {
     "name": "stderr",
     "output_type": "stream",
     "text": [
      "Epoch 1254: 100%|██████████| 938/938 [00:16<00:00, 55.21batch/s, Train Loss=0.217, Train Acc=91.7]\n"
     ]
    },
    {
     "name": "stdout",
     "output_type": "stream",
     "text": [
      "Epoch 1254\n",
      "Train Loss: 0.2167, Train Accuracy: 91.70%\n",
      "Test Loss: 0.2926, Test Accuracy: 90.06%\n",
      "\n"
     ]
    },
    {
     "name": "stderr",
     "output_type": "stream",
     "text": [
      "Epoch 1255: 100%|██████████| 938/938 [00:17<00:00, 55.14batch/s, Train Loss=0.219, Train Acc=91.6]\n"
     ]
    },
    {
     "name": "stdout",
     "output_type": "stream",
     "text": [
      "Epoch 1255\n",
      "Train Loss: 0.2187, Train Accuracy: 91.61%\n",
      "Test Loss: 0.2927, Test Accuracy: 89.93%\n",
      "\n"
     ]
    },
    {
     "name": "stderr",
     "output_type": "stream",
     "text": [
      "Epoch 1256: 100%|██████████| 938/938 [00:17<00:00, 54.98batch/s, Train Loss=0.221, Train Acc=91.6]\n"
     ]
    },
    {
     "name": "stdout",
     "output_type": "stream",
     "text": [
      "Epoch 1256\n",
      "Train Loss: 0.2208, Train Accuracy: 91.58%\n",
      "Test Loss: 0.2971, Test Accuracy: 89.97%\n",
      "\n"
     ]
    },
    {
     "name": "stderr",
     "output_type": "stream",
     "text": [
      "Epoch 1257: 100%|██████████| 938/938 [00:16<00:00, 55.19batch/s, Train Loss=0.22, Train Acc=91.5] \n"
     ]
    },
    {
     "name": "stdout",
     "output_type": "stream",
     "text": [
      "Epoch 1257\n",
      "Train Loss: 0.2204, Train Accuracy: 91.49%\n",
      "Test Loss: 0.3067, Test Accuracy: 89.70%\n",
      "\n"
     ]
    },
    {
     "name": "stderr",
     "output_type": "stream",
     "text": [
      "Epoch 1258: 100%|██████████| 938/938 [00:17<00:00, 55.14batch/s, Train Loss=0.219, Train Acc=91.6]\n"
     ]
    },
    {
     "name": "stdout",
     "output_type": "stream",
     "text": [
      "Epoch 1258\n",
      "Train Loss: 0.2188, Train Accuracy: 91.55%\n",
      "Test Loss: 0.2965, Test Accuracy: 90.04%\n",
      "\n"
     ]
    },
    {
     "name": "stderr",
     "output_type": "stream",
     "text": [
      "Epoch 1259: 100%|██████████| 938/938 [00:17<00:00, 55.11batch/s, Train Loss=0.215, Train Acc=91.8]\n"
     ]
    },
    {
     "name": "stdout",
     "output_type": "stream",
     "text": [
      "Epoch 1259\n",
      "Train Loss: 0.2146, Train Accuracy: 91.84%\n",
      "Test Loss: 0.3026, Test Accuracy: 90.03%\n",
      "\n"
     ]
    },
    {
     "name": "stderr",
     "output_type": "stream",
     "text": [
      "Epoch 1260: 100%|██████████| 938/938 [00:17<00:00, 55.10batch/s, Train Loss=0.217, Train Acc=91.6]\n"
     ]
    },
    {
     "name": "stdout",
     "output_type": "stream",
     "text": [
      "Epoch 1260\n",
      "Train Loss: 0.2171, Train Accuracy: 91.64%\n",
      "Test Loss: 0.3040, Test Accuracy: 90.08%\n",
      "\n"
     ]
    },
    {
     "name": "stderr",
     "output_type": "stream",
     "text": [
      "Epoch 1261: 100%|██████████| 938/938 [00:16<00:00, 55.25batch/s, Train Loss=0.216, Train Acc=91.5]\n"
     ]
    },
    {
     "name": "stdout",
     "output_type": "stream",
     "text": [
      "Epoch 1261\n",
      "Train Loss: 0.2165, Train Accuracy: 91.53%\n",
      "Test Loss: 0.2988, Test Accuracy: 89.97%\n",
      "\n"
     ]
    },
    {
     "name": "stderr",
     "output_type": "stream",
     "text": [
      "Epoch 1262: 100%|██████████| 938/938 [00:16<00:00, 55.29batch/s, Train Loss=0.219, Train Acc=91.6]\n"
     ]
    },
    {
     "name": "stdout",
     "output_type": "stream",
     "text": [
      "Epoch 1262\n",
      "Train Loss: 0.2189, Train Accuracy: 91.64%\n",
      "Test Loss: 0.3102, Test Accuracy: 89.40%\n",
      "\n"
     ]
    },
    {
     "name": "stderr",
     "output_type": "stream",
     "text": [
      "Epoch 1263: 100%|██████████| 938/938 [00:17<00:00, 55.15batch/s, Train Loss=0.215, Train Acc=91.9]\n"
     ]
    },
    {
     "name": "stdout",
     "output_type": "stream",
     "text": [
      "Epoch 1263\n",
      "Train Loss: 0.2146, Train Accuracy: 91.86%\n",
      "Test Loss: 0.3102, Test Accuracy: 89.42%\n",
      "\n"
     ]
    },
    {
     "name": "stderr",
     "output_type": "stream",
     "text": [
      "Epoch 1264: 100%|██████████| 938/938 [00:16<00:00, 55.23batch/s, Train Loss=0.218, Train Acc=91.7]\n"
     ]
    },
    {
     "name": "stdout",
     "output_type": "stream",
     "text": [
      "Epoch 1264\n",
      "Train Loss: 0.2177, Train Accuracy: 91.69%\n",
      "Test Loss: 0.2945, Test Accuracy: 89.99%\n",
      "\n"
     ]
    },
    {
     "name": "stderr",
     "output_type": "stream",
     "text": [
      "Epoch 1265: 100%|██████████| 938/938 [00:16<00:00, 55.20batch/s, Train Loss=0.218, Train Acc=91.6]\n"
     ]
    },
    {
     "name": "stdout",
     "output_type": "stream",
     "text": [
      "Epoch 1265\n",
      "Train Loss: 0.2178, Train Accuracy: 91.64%\n",
      "Test Loss: 0.2936, Test Accuracy: 90.09%\n",
      "\n"
     ]
    },
    {
     "name": "stderr",
     "output_type": "stream",
     "text": [
      "Epoch 1266: 100%|██████████| 938/938 [00:16<00:00, 55.18batch/s, Train Loss=0.216, Train Acc=91.7]\n"
     ]
    },
    {
     "name": "stdout",
     "output_type": "stream",
     "text": [
      "Epoch 1266\n",
      "Train Loss: 0.2160, Train Accuracy: 91.69%\n",
      "Test Loss: 0.2966, Test Accuracy: 90.21%\n",
      "\n"
     ]
    },
    {
     "name": "stderr",
     "output_type": "stream",
     "text": [
      "Epoch 1267: 100%|██████████| 938/938 [00:17<00:00, 55.08batch/s, Train Loss=0.217, Train Acc=91.6]\n"
     ]
    },
    {
     "name": "stdout",
     "output_type": "stream",
     "text": [
      "Epoch 1267\n",
      "Train Loss: 0.2165, Train Accuracy: 91.57%\n",
      "Test Loss: 0.2979, Test Accuracy: 90.15%\n",
      "\n"
     ]
    },
    {
     "name": "stderr",
     "output_type": "stream",
     "text": [
      "Epoch 1268: 100%|██████████| 938/938 [00:17<00:00, 55.11batch/s, Train Loss=0.213, Train Acc=91.8]\n"
     ]
    },
    {
     "name": "stdout",
     "output_type": "stream",
     "text": [
      "Epoch 1268\n",
      "Train Loss: 0.2125, Train Accuracy: 91.80%\n",
      "Test Loss: 0.2965, Test Accuracy: 90.09%\n",
      "\n"
     ]
    },
    {
     "name": "stderr",
     "output_type": "stream",
     "text": [
      "Epoch 1269: 100%|██████████| 938/938 [00:17<00:00, 55.14batch/s, Train Loss=0.215, Train Acc=91.6]\n"
     ]
    },
    {
     "name": "stdout",
     "output_type": "stream",
     "text": [
      "Epoch 1269\n",
      "Train Loss: 0.2153, Train Accuracy: 91.61%\n",
      "Test Loss: 0.2995, Test Accuracy: 89.98%\n",
      "\n"
     ]
    },
    {
     "name": "stderr",
     "output_type": "stream",
     "text": [
      "Epoch 1270: 100%|██████████| 938/938 [00:16<00:00, 55.22batch/s, Train Loss=0.216, Train Acc=91.7]\n"
     ]
    },
    {
     "name": "stdout",
     "output_type": "stream",
     "text": [
      "Epoch 1270\n",
      "Train Loss: 0.2160, Train Accuracy: 91.69%\n",
      "Test Loss: 0.3036, Test Accuracy: 90.00%\n",
      "\n"
     ]
    },
    {
     "name": "stderr",
     "output_type": "stream",
     "text": [
      "Epoch 1271: 100%|██████████| 938/938 [00:16<00:00, 55.29batch/s, Train Loss=0.213, Train Acc=91.8]\n"
     ]
    },
    {
     "name": "stdout",
     "output_type": "stream",
     "text": [
      "Epoch 1271\n",
      "Train Loss: 0.2135, Train Accuracy: 91.77%\n",
      "Test Loss: 0.3033, Test Accuracy: 89.77%\n",
      "\n"
     ]
    },
    {
     "name": "stderr",
     "output_type": "stream",
     "text": [
      "Epoch 1272: 100%|██████████| 938/938 [00:17<00:00, 55.13batch/s, Train Loss=0.212, Train Acc=91.8]\n"
     ]
    },
    {
     "name": "stdout",
     "output_type": "stream",
     "text": [
      "Epoch 1272\n",
      "Train Loss: 0.2115, Train Accuracy: 91.83%\n",
      "Test Loss: 0.2992, Test Accuracy: 90.01%\n",
      "\n"
     ]
    },
    {
     "name": "stderr",
     "output_type": "stream",
     "text": [
      "Epoch 1273: 100%|██████████| 938/938 [00:17<00:00, 55.12batch/s, Train Loss=0.218, Train Acc=91.8]\n"
     ]
    },
    {
     "name": "stdout",
     "output_type": "stream",
     "text": [
      "Epoch 1273\n",
      "Train Loss: 0.2177, Train Accuracy: 91.76%\n",
      "Test Loss: 0.2993, Test Accuracy: 89.80%\n",
      "\n"
     ]
    },
    {
     "name": "stderr",
     "output_type": "stream",
     "text": [
      "Epoch 1274: 100%|██████████| 938/938 [00:17<00:00, 55.06batch/s, Train Loss=0.219, Train Acc=91.6]\n"
     ]
    },
    {
     "name": "stdout",
     "output_type": "stream",
     "text": [
      "Epoch 1274\n",
      "Train Loss: 0.2192, Train Accuracy: 91.63%\n",
      "Test Loss: 0.3033, Test Accuracy: 89.83%\n",
      "\n"
     ]
    },
    {
     "name": "stderr",
     "output_type": "stream",
     "text": [
      "Epoch 1275: 100%|██████████| 938/938 [00:17<00:00, 55.16batch/s, Train Loss=0.214, Train Acc=91.8]\n"
     ]
    },
    {
     "name": "stdout",
     "output_type": "stream",
     "text": [
      "Epoch 1275\n",
      "Train Loss: 0.2140, Train Accuracy: 91.85%\n",
      "Test Loss: 0.3061, Test Accuracy: 89.79%\n",
      "\n"
     ]
    },
    {
     "name": "stderr",
     "output_type": "stream",
     "text": [
      "Epoch 1276: 100%|██████████| 938/938 [00:16<00:00, 55.18batch/s, Train Loss=0.215, Train Acc=91.9]\n"
     ]
    },
    {
     "name": "stdout",
     "output_type": "stream",
     "text": [
      "Epoch 1276\n",
      "Train Loss: 0.2152, Train Accuracy: 91.86%\n",
      "Test Loss: 0.2990, Test Accuracy: 89.86%\n",
      "\n"
     ]
    },
    {
     "name": "stderr",
     "output_type": "stream",
     "text": [
      "Epoch 1277: 100%|██████████| 938/938 [00:17<00:00, 55.16batch/s, Train Loss=0.213, Train Acc=92]  \n"
     ]
    },
    {
     "name": "stdout",
     "output_type": "stream",
     "text": [
      "Epoch 1277\n",
      "Train Loss: 0.2127, Train Accuracy: 91.98%\n",
      "Test Loss: 0.2982, Test Accuracy: 90.06%\n",
      "\n"
     ]
    },
    {
     "name": "stderr",
     "output_type": "stream",
     "text": [
      "Epoch 1278: 100%|██████████| 938/938 [00:17<00:00, 55.11batch/s, Train Loss=0.216, Train Acc=91.7]\n"
     ]
    },
    {
     "name": "stdout",
     "output_type": "stream",
     "text": [
      "Epoch 1278\n",
      "Train Loss: 0.2163, Train Accuracy: 91.67%\n",
      "Test Loss: 0.2977, Test Accuracy: 89.88%\n",
      "\n"
     ]
    },
    {
     "name": "stderr",
     "output_type": "stream",
     "text": [
      "Epoch 1279: 100%|██████████| 938/938 [00:17<00:00, 55.09batch/s, Train Loss=0.215, Train Acc=91.8]\n"
     ]
    },
    {
     "name": "stdout",
     "output_type": "stream",
     "text": [
      "Epoch 1279\n",
      "Train Loss: 0.2145, Train Accuracy: 91.81%\n",
      "Test Loss: 0.3025, Test Accuracy: 89.71%\n",
      "\n"
     ]
    },
    {
     "name": "stderr",
     "output_type": "stream",
     "text": [
      "Epoch 1280: 100%|██████████| 938/938 [00:17<00:00, 55.11batch/s, Train Loss=0.213, Train Acc=91.9]\n"
     ]
    },
    {
     "name": "stdout",
     "output_type": "stream",
     "text": [
      "Epoch 1280\n",
      "Train Loss: 0.2133, Train Accuracy: 91.88%\n",
      "Test Loss: 0.3080, Test Accuracy: 89.99%\n",
      "\n"
     ]
    },
    {
     "name": "stderr",
     "output_type": "stream",
     "text": [
      "Epoch 1281: 100%|██████████| 938/938 [00:17<00:00, 55.17batch/s, Train Loss=0.212, Train Acc=91.8]\n"
     ]
    },
    {
     "name": "stdout",
     "output_type": "stream",
     "text": [
      "Epoch 1281\n",
      "Train Loss: 0.2121, Train Accuracy: 91.84%\n",
      "Test Loss: 0.3134, Test Accuracy: 89.54%\n",
      "\n"
     ]
    },
    {
     "name": "stderr",
     "output_type": "stream",
     "text": [
      "Epoch 1282: 100%|██████████| 938/938 [00:16<00:00, 55.21batch/s, Train Loss=0.216, Train Acc=91.7]\n"
     ]
    },
    {
     "name": "stdout",
     "output_type": "stream",
     "text": [
      "Epoch 1282\n",
      "Train Loss: 0.2157, Train Accuracy: 91.74%\n",
      "Test Loss: 0.3006, Test Accuracy: 89.90%\n",
      "\n"
     ]
    },
    {
     "name": "stderr",
     "output_type": "stream",
     "text": [
      "Epoch 1283: 100%|██████████| 938/938 [00:17<00:00, 55.09batch/s, Train Loss=0.213, Train Acc=91.8]\n"
     ]
    },
    {
     "name": "stdout",
     "output_type": "stream",
     "text": [
      "Epoch 1283\n",
      "Train Loss: 0.2128, Train Accuracy: 91.83%\n",
      "Test Loss: 0.3022, Test Accuracy: 89.72%\n",
      "\n"
     ]
    },
    {
     "name": "stderr",
     "output_type": "stream",
     "text": [
      "Epoch 1284: 100%|██████████| 938/938 [00:17<00:00, 55.14batch/s, Train Loss=0.211, Train Acc=91.8]\n"
     ]
    },
    {
     "name": "stdout",
     "output_type": "stream",
     "text": [
      "Epoch 1284\n",
      "Train Loss: 0.2114, Train Accuracy: 91.83%\n",
      "Test Loss: 0.3020, Test Accuracy: 89.82%\n",
      "\n"
     ]
    },
    {
     "name": "stderr",
     "output_type": "stream",
     "text": [
      "Epoch 1285: 100%|██████████| 938/938 [00:16<00:00, 55.19batch/s, Train Loss=0.213, Train Acc=91.9]\n"
     ]
    },
    {
     "name": "stdout",
     "output_type": "stream",
     "text": [
      "Epoch 1285\n",
      "Train Loss: 0.2129, Train Accuracy: 91.90%\n",
      "Test Loss: 0.2996, Test Accuracy: 90.01%\n",
      "\n"
     ]
    },
    {
     "name": "stderr",
     "output_type": "stream",
     "text": [
      "Epoch 1286: 100%|██████████| 938/938 [00:17<00:00, 55.05batch/s, Train Loss=0.212, Train Acc=92]  \n"
     ]
    },
    {
     "name": "stdout",
     "output_type": "stream",
     "text": [
      "Epoch 1286\n",
      "Train Loss: 0.2115, Train Accuracy: 91.97%\n",
      "Test Loss: 0.3030, Test Accuracy: 90.04%\n",
      "\n"
     ]
    },
    {
     "name": "stderr",
     "output_type": "stream",
     "text": [
      "Epoch 1287: 100%|██████████| 938/938 [00:16<00:00, 55.21batch/s, Train Loss=0.214, Train Acc=91.7]\n"
     ]
    },
    {
     "name": "stdout",
     "output_type": "stream",
     "text": [
      "Epoch 1287\n",
      "Train Loss: 0.2140, Train Accuracy: 91.73%\n",
      "Test Loss: 0.3049, Test Accuracy: 89.71%\n",
      "\n"
     ]
    },
    {
     "name": "stderr",
     "output_type": "stream",
     "text": [
      "Epoch 1288: 100%|██████████| 938/938 [00:17<00:00, 55.05batch/s, Train Loss=0.21, Train Acc=91.9] \n"
     ]
    },
    {
     "name": "stdout",
     "output_type": "stream",
     "text": [
      "Epoch 1288\n",
      "Train Loss: 0.2102, Train Accuracy: 91.92%\n",
      "Test Loss: 0.2976, Test Accuracy: 89.81%\n",
      "\n"
     ]
    },
    {
     "name": "stderr",
     "output_type": "stream",
     "text": [
      "Epoch 1289: 100%|██████████| 938/938 [00:17<00:00, 55.16batch/s, Train Loss=0.211, Train Acc=91.9]\n"
     ]
    },
    {
     "name": "stdout",
     "output_type": "stream",
     "text": [
      "Epoch 1289\n",
      "Train Loss: 0.2109, Train Accuracy: 91.87%\n",
      "Test Loss: 0.3020, Test Accuracy: 89.92%\n",
      "\n"
     ]
    },
    {
     "name": "stderr",
     "output_type": "stream",
     "text": [
      "Epoch 1290: 100%|██████████| 938/938 [00:17<00:00, 55.04batch/s, Train Loss=0.21, Train Acc=92]   \n"
     ]
    },
    {
     "name": "stdout",
     "output_type": "stream",
     "text": [
      "Epoch 1290\n",
      "Train Loss: 0.2101, Train Accuracy: 92.04%\n",
      "Test Loss: 0.3174, Test Accuracy: 89.65%\n",
      "\n"
     ]
    },
    {
     "name": "stderr",
     "output_type": "stream",
     "text": [
      "Epoch 1291: 100%|██████████| 938/938 [00:17<00:00, 55.13batch/s, Train Loss=0.215, Train Acc=91.7]\n"
     ]
    },
    {
     "name": "stdout",
     "output_type": "stream",
     "text": [
      "Epoch 1291\n",
      "Train Loss: 0.2151, Train Accuracy: 91.69%\n",
      "Test Loss: 0.3127, Test Accuracy: 89.75%\n",
      "\n"
     ]
    },
    {
     "name": "stderr",
     "output_type": "stream",
     "text": [
      "Epoch 1292: 100%|██████████| 938/938 [00:17<00:00, 55.10batch/s, Train Loss=0.211, Train Acc=92]  \n"
     ]
    },
    {
     "name": "stdout",
     "output_type": "stream",
     "text": [
      "Epoch 1292\n",
      "Train Loss: 0.2107, Train Accuracy: 91.95%\n",
      "Test Loss: 0.3039, Test Accuracy: 89.94%\n",
      "\n"
     ]
    },
    {
     "name": "stderr",
     "output_type": "stream",
     "text": [
      "Epoch 1293: 100%|██████████| 938/938 [00:17<00:00, 55.10batch/s, Train Loss=0.208, Train Acc=92]  \n"
     ]
    },
    {
     "name": "stdout",
     "output_type": "stream",
     "text": [
      "Epoch 1293\n",
      "Train Loss: 0.2075, Train Accuracy: 91.98%\n",
      "Test Loss: 0.3228, Test Accuracy: 89.53%\n",
      "\n"
     ]
    },
    {
     "name": "stderr",
     "output_type": "stream",
     "text": [
      "Epoch 1294: 100%|██████████| 938/938 [00:17<00:00, 55.15batch/s, Train Loss=0.209, Train Acc=92]  \n"
     ]
    },
    {
     "name": "stdout",
     "output_type": "stream",
     "text": [
      "Epoch 1294\n",
      "Train Loss: 0.2092, Train Accuracy: 91.97%\n",
      "Test Loss: 0.2977, Test Accuracy: 89.86%\n",
      "\n"
     ]
    },
    {
     "name": "stderr",
     "output_type": "stream",
     "text": [
      "Epoch 1295: 100%|██████████| 938/938 [00:17<00:00, 55.11batch/s, Train Loss=0.212, Train Acc=91.8]\n"
     ]
    },
    {
     "name": "stdout",
     "output_type": "stream",
     "text": [
      "Epoch 1295\n",
      "Train Loss: 0.2117, Train Accuracy: 91.84%\n",
      "Test Loss: 0.3050, Test Accuracy: 89.95%\n",
      "\n"
     ]
    },
    {
     "name": "stderr",
     "output_type": "stream",
     "text": [
      "Epoch 1296: 100%|██████████| 938/938 [00:16<00:00, 55.23batch/s, Train Loss=0.212, Train Acc=91.8]\n"
     ]
    },
    {
     "name": "stdout",
     "output_type": "stream",
     "text": [
      "Epoch 1296\n",
      "Train Loss: 0.2121, Train Accuracy: 91.84%\n",
      "Test Loss: 0.3013, Test Accuracy: 90.05%\n",
      "\n"
     ]
    },
    {
     "name": "stderr",
     "output_type": "stream",
     "text": [
      "Epoch 1297: 100%|██████████| 938/938 [00:16<00:00, 55.26batch/s, Train Loss=0.211, Train Acc=91.9]\n"
     ]
    },
    {
     "name": "stdout",
     "output_type": "stream",
     "text": [
      "Epoch 1297\n",
      "Train Loss: 0.2114, Train Accuracy: 91.91%\n",
      "Test Loss: 0.2989, Test Accuracy: 90.12%\n",
      "\n"
     ]
    },
    {
     "name": "stderr",
     "output_type": "stream",
     "text": [
      "Epoch 1298: 100%|██████████| 938/938 [00:17<00:00, 55.15batch/s, Train Loss=0.209, Train Acc=91.9]\n"
     ]
    },
    {
     "name": "stdout",
     "output_type": "stream",
     "text": [
      "Epoch 1298\n",
      "Train Loss: 0.2095, Train Accuracy: 91.89%\n",
      "Test Loss: 0.3019, Test Accuracy: 89.83%\n",
      "\n"
     ]
    },
    {
     "name": "stderr",
     "output_type": "stream",
     "text": [
      "Epoch 1299: 100%|██████████| 938/938 [00:16<00:00, 55.24batch/s, Train Loss=0.209, Train Acc=91.9]\n"
     ]
    },
    {
     "name": "stdout",
     "output_type": "stream",
     "text": [
      "Epoch 1299\n",
      "Train Loss: 0.2093, Train Accuracy: 91.93%\n",
      "Test Loss: 0.3016, Test Accuracy: 89.76%\n",
      "\n"
     ]
    },
    {
     "name": "stderr",
     "output_type": "stream",
     "text": [
      "Epoch 1300: 100%|██████████| 938/938 [00:17<00:00, 55.14batch/s, Train Loss=0.208, Train Acc=92]  \n"
     ]
    },
    {
     "name": "stdout",
     "output_type": "stream",
     "text": [
      "Epoch 1300\n",
      "Train Loss: 0.2084, Train Accuracy: 92.02%\n",
      "Test Loss: 0.2929, Test Accuracy: 89.95%\n",
      "\n"
     ]
    },
    {
     "name": "stderr",
     "output_type": "stream",
     "text": [
      "Epoch 1301: 100%|██████████| 938/938 [00:17<00:00, 55.11batch/s, Train Loss=0.209, Train Acc=92]  \n"
     ]
    },
    {
     "name": "stdout",
     "output_type": "stream",
     "text": [
      "Epoch 1301\n",
      "Train Loss: 0.2091, Train Accuracy: 92.01%\n",
      "Test Loss: 0.2943, Test Accuracy: 90.27%\n",
      "\n"
     ]
    },
    {
     "name": "stderr",
     "output_type": "stream",
     "text": [
      "Epoch 1302: 100%|██████████| 938/938 [00:17<00:00, 55.14batch/s, Train Loss=0.209, Train Acc=92]  \n"
     ]
    },
    {
     "name": "stdout",
     "output_type": "stream",
     "text": [
      "Epoch 1302\n",
      "Train Loss: 0.2086, Train Accuracy: 91.95%\n",
      "Test Loss: 0.2982, Test Accuracy: 90.00%\n",
      "\n"
     ]
    },
    {
     "name": "stderr",
     "output_type": "stream",
     "text": [
      "Epoch 1303: 100%|██████████| 938/938 [00:17<00:00, 55.14batch/s, Train Loss=0.207, Train Acc=92.1]\n"
     ]
    },
    {
     "name": "stdout",
     "output_type": "stream",
     "text": [
      "Epoch 1303\n",
      "Train Loss: 0.2074, Train Accuracy: 92.12%\n",
      "Test Loss: 0.3059, Test Accuracy: 89.98%\n",
      "\n"
     ]
    },
    {
     "name": "stderr",
     "output_type": "stream",
     "text": [
      "Epoch 1304: 100%|██████████| 938/938 [00:16<00:00, 55.26batch/s, Train Loss=0.212, Train Acc=91.9]\n"
     ]
    },
    {
     "name": "stdout",
     "output_type": "stream",
     "text": [
      "Epoch 1304\n",
      "Train Loss: 0.2117, Train Accuracy: 91.89%\n",
      "Test Loss: 0.2922, Test Accuracy: 90.22%\n",
      "\n"
     ]
    },
    {
     "name": "stderr",
     "output_type": "stream",
     "text": [
      "Epoch 1305: 100%|██████████| 938/938 [00:16<00:00, 55.26batch/s, Train Loss=0.207, Train Acc=92]  \n"
     ]
    },
    {
     "name": "stdout",
     "output_type": "stream",
     "text": [
      "Epoch 1305\n",
      "Train Loss: 0.2069, Train Accuracy: 91.97%\n",
      "Test Loss: 0.3022, Test Accuracy: 90.04%\n",
      "\n"
     ]
    },
    {
     "name": "stderr",
     "output_type": "stream",
     "text": [
      "Epoch 1306: 100%|██████████| 938/938 [00:17<00:00, 55.04batch/s, Train Loss=0.21, Train Acc=91.9] \n"
     ]
    },
    {
     "name": "stdout",
     "output_type": "stream",
     "text": [
      "Epoch 1306\n",
      "Train Loss: 0.2098, Train Accuracy: 91.93%\n",
      "Test Loss: 0.3045, Test Accuracy: 89.95%\n",
      "\n"
     ]
    },
    {
     "name": "stderr",
     "output_type": "stream",
     "text": [
      "Epoch 1307: 100%|██████████| 938/938 [00:17<00:00, 55.02batch/s, Train Loss=0.209, Train Acc=92.1]\n"
     ]
    },
    {
     "name": "stdout",
     "output_type": "stream",
     "text": [
      "Epoch 1307\n",
      "Train Loss: 0.2092, Train Accuracy: 92.08%\n",
      "Test Loss: 0.3075, Test Accuracy: 89.74%\n",
      "\n"
     ]
    },
    {
     "name": "stderr",
     "output_type": "stream",
     "text": [
      "Epoch 1308: 100%|██████████| 938/938 [00:16<00:00, 55.23batch/s, Train Loss=0.208, Train Acc=92.1]\n"
     ]
    },
    {
     "name": "stdout",
     "output_type": "stream",
     "text": [
      "Epoch 1308\n",
      "Train Loss: 0.2076, Train Accuracy: 92.07%\n",
      "Test Loss: 0.3037, Test Accuracy: 90.11%\n",
      "\n"
     ]
    },
    {
     "name": "stderr",
     "output_type": "stream",
     "text": [
      "Epoch 1309: 100%|██████████| 938/938 [00:16<00:00, 55.18batch/s, Train Loss=0.209, Train Acc=92]  \n"
     ]
    },
    {
     "name": "stdout",
     "output_type": "stream",
     "text": [
      "Epoch 1309\n",
      "Train Loss: 0.2092, Train Accuracy: 92.00%\n",
      "Test Loss: 0.3109, Test Accuracy: 89.72%\n",
      "\n"
     ]
    },
    {
     "name": "stderr",
     "output_type": "stream",
     "text": [
      "Epoch 1310: 100%|██████████| 938/938 [00:16<00:00, 55.24batch/s, Train Loss=0.206, Train Acc=92.1]\n"
     ]
    },
    {
     "name": "stdout",
     "output_type": "stream",
     "text": [
      "Epoch 1310\n",
      "Train Loss: 0.2059, Train Accuracy: 92.14%\n",
      "Test Loss: 0.3057, Test Accuracy: 89.58%\n",
      "\n"
     ]
    },
    {
     "name": "stderr",
     "output_type": "stream",
     "text": [
      "Epoch 1311: 100%|██████████| 938/938 [00:17<00:00, 55.12batch/s, Train Loss=0.208, Train Acc=92]  \n"
     ]
    },
    {
     "name": "stdout",
     "output_type": "stream",
     "text": [
      "Epoch 1311\n",
      "Train Loss: 0.2085, Train Accuracy: 91.96%\n",
      "Test Loss: 0.3076, Test Accuracy: 90.13%\n",
      "\n"
     ]
    },
    {
     "name": "stderr",
     "output_type": "stream",
     "text": [
      "Epoch 1312: 100%|██████████| 938/938 [00:16<00:00, 55.19batch/s, Train Loss=0.207, Train Acc=92.1]\n"
     ]
    },
    {
     "name": "stdout",
     "output_type": "stream",
     "text": [
      "Epoch 1312\n",
      "Train Loss: 0.2066, Train Accuracy: 92.13%\n",
      "Test Loss: 0.3063, Test Accuracy: 90.12%\n",
      "\n"
     ]
    },
    {
     "name": "stderr",
     "output_type": "stream",
     "text": [
      "Epoch 1313: 100%|██████████| 938/938 [00:17<00:00, 55.13batch/s, Train Loss=0.208, Train Acc=91.9]\n"
     ]
    },
    {
     "name": "stdout",
     "output_type": "stream",
     "text": [
      "Epoch 1313\n",
      "Train Loss: 0.2080, Train Accuracy: 91.89%\n",
      "Test Loss: 0.3122, Test Accuracy: 89.92%\n",
      "\n"
     ]
    },
    {
     "name": "stderr",
     "output_type": "stream",
     "text": [
      "Epoch 1314: 100%|██████████| 938/938 [00:17<00:00, 55.12batch/s, Train Loss=0.209, Train Acc=92]  \n"
     ]
    },
    {
     "name": "stdout",
     "output_type": "stream",
     "text": [
      "Epoch 1314\n",
      "Train Loss: 0.2092, Train Accuracy: 91.99%\n",
      "Test Loss: 0.3014, Test Accuracy: 90.29%\n",
      "\n"
     ]
    },
    {
     "name": "stderr",
     "output_type": "stream",
     "text": [
      "Epoch 1315: 100%|██████████| 938/938 [00:17<00:00, 55.15batch/s, Train Loss=0.206, Train Acc=92.1]\n"
     ]
    },
    {
     "name": "stdout",
     "output_type": "stream",
     "text": [
      "Epoch 1315\n",
      "Train Loss: 0.2057, Train Accuracy: 92.11%\n",
      "Test Loss: 0.3050, Test Accuracy: 90.06%\n",
      "\n"
     ]
    },
    {
     "name": "stderr",
     "output_type": "stream",
     "text": [
      "Epoch 1316: 100%|██████████| 938/938 [00:16<00:00, 55.19batch/s, Train Loss=0.207, Train Acc=92]  \n"
     ]
    },
    {
     "name": "stdout",
     "output_type": "stream",
     "text": [
      "Epoch 1316\n",
      "Train Loss: 0.2075, Train Accuracy: 91.99%\n",
      "Test Loss: 0.3106, Test Accuracy: 89.94%\n",
      "\n"
     ]
    },
    {
     "name": "stderr",
     "output_type": "stream",
     "text": [
      "Epoch 1317: 100%|██████████| 938/938 [00:17<00:00, 54.95batch/s, Train Loss=0.207, Train Acc=92.1]\n"
     ]
    },
    {
     "name": "stdout",
     "output_type": "stream",
     "text": [
      "Epoch 1317\n",
      "Train Loss: 0.2071, Train Accuracy: 92.08%\n",
      "Test Loss: 0.2988, Test Accuracy: 90.17%\n",
      "\n"
     ]
    },
    {
     "name": "stderr",
     "output_type": "stream",
     "text": [
      "Epoch 1318: 100%|██████████| 938/938 [00:17<00:00, 55.07batch/s, Train Loss=0.204, Train Acc=92.1]\n"
     ]
    },
    {
     "name": "stdout",
     "output_type": "stream",
     "text": [
      "Epoch 1318\n",
      "Train Loss: 0.2045, Train Accuracy: 92.09%\n",
      "Test Loss: 0.3046, Test Accuracy: 90.08%\n",
      "\n"
     ]
    },
    {
     "name": "stderr",
     "output_type": "stream",
     "text": [
      "Epoch 1319: 100%|██████████| 938/938 [00:17<00:00, 55.07batch/s, Train Loss=0.207, Train Acc=92]  \n"
     ]
    },
    {
     "name": "stdout",
     "output_type": "stream",
     "text": [
      "Epoch 1319\n",
      "Train Loss: 0.2074, Train Accuracy: 92.00%\n",
      "Test Loss: 0.3027, Test Accuracy: 90.16%\n",
      "\n"
     ]
    },
    {
     "name": "stderr",
     "output_type": "stream",
     "text": [
      "Epoch 1320: 100%|██████████| 938/938 [00:16<00:00, 55.42batch/s, Train Loss=0.205, Train Acc=92.1]\n"
     ]
    },
    {
     "name": "stdout",
     "output_type": "stream",
     "text": [
      "Epoch 1320\n",
      "Train Loss: 0.2049, Train Accuracy: 92.11%\n",
      "Test Loss: 0.2992, Test Accuracy: 90.19%\n",
      "\n"
     ]
    },
    {
     "name": "stderr",
     "output_type": "stream",
     "text": [
      "Epoch 1321: 100%|██████████| 938/938 [00:16<00:00, 55.18batch/s, Train Loss=0.207, Train Acc=92.2]\n"
     ]
    },
    {
     "name": "stdout",
     "output_type": "stream",
     "text": [
      "Epoch 1321\n",
      "Train Loss: 0.2069, Train Accuracy: 92.20%\n",
      "Test Loss: 0.3044, Test Accuracy: 90.05%\n",
      "\n"
     ]
    },
    {
     "name": "stderr",
     "output_type": "stream",
     "text": [
      "Epoch 1322: 100%|██████████| 938/938 [00:16<00:00, 55.18batch/s, Train Loss=0.206, Train Acc=92.1]\n"
     ]
    },
    {
     "name": "stdout",
     "output_type": "stream",
     "text": [
      "Epoch 1322\n",
      "Train Loss: 0.2059, Train Accuracy: 92.10%\n",
      "Test Loss: 0.2991, Test Accuracy: 90.26%\n",
      "\n"
     ]
    },
    {
     "name": "stderr",
     "output_type": "stream",
     "text": [
      "Epoch 1323: 100%|██████████| 938/938 [00:17<00:00, 55.12batch/s, Train Loss=0.205, Train Acc=92.2]\n"
     ]
    },
    {
     "name": "stdout",
     "output_type": "stream",
     "text": [
      "Epoch 1323\n",
      "Train Loss: 0.2054, Train Accuracy: 92.16%\n",
      "Test Loss: 0.2967, Test Accuracy: 90.35%\n",
      "\n"
     ]
    },
    {
     "name": "stderr",
     "output_type": "stream",
     "text": [
      "Epoch 1324: 100%|██████████| 938/938 [00:16<00:00, 55.21batch/s, Train Loss=0.206, Train Acc=92.1]\n"
     ]
    },
    {
     "name": "stdout",
     "output_type": "stream",
     "text": [
      "Epoch 1324\n",
      "Train Loss: 0.2065, Train Accuracy: 92.08%\n",
      "Test Loss: 0.2993, Test Accuracy: 89.90%\n",
      "\n"
     ]
    },
    {
     "name": "stderr",
     "output_type": "stream",
     "text": [
      "Epoch 1325: 100%|██████████| 938/938 [00:17<00:00, 55.17batch/s, Train Loss=0.203, Train Acc=92.2]\n"
     ]
    },
    {
     "name": "stdout",
     "output_type": "stream",
     "text": [
      "Epoch 1325\n",
      "Train Loss: 0.2034, Train Accuracy: 92.23%\n",
      "Test Loss: 0.3070, Test Accuracy: 89.91%\n",
      "\n"
     ]
    },
    {
     "name": "stderr",
     "output_type": "stream",
     "text": [
      "Epoch 1326: 100%|██████████| 938/938 [00:17<00:00, 55.14batch/s, Train Loss=0.202, Train Acc=92.3]\n"
     ]
    },
    {
     "name": "stdout",
     "output_type": "stream",
     "text": [
      "Epoch 1326\n",
      "Train Loss: 0.2015, Train Accuracy: 92.31%\n",
      "Test Loss: 0.2984, Test Accuracy: 90.20%\n",
      "\n"
     ]
    },
    {
     "name": "stderr",
     "output_type": "stream",
     "text": [
      "Epoch 1327: 100%|██████████| 938/938 [00:17<00:00, 55.01batch/s, Train Loss=0.204, Train Acc=92.1]\n"
     ]
    },
    {
     "name": "stdout",
     "output_type": "stream",
     "text": [
      "Epoch 1327\n",
      "Train Loss: 0.2041, Train Accuracy: 92.14%\n",
      "Test Loss: 0.3039, Test Accuracy: 90.08%\n",
      "\n"
     ]
    },
    {
     "name": "stderr",
     "output_type": "stream",
     "text": [
      "Epoch 1328: 100%|██████████| 938/938 [00:16<00:00, 55.26batch/s, Train Loss=0.204, Train Acc=92.2]\n"
     ]
    },
    {
     "name": "stdout",
     "output_type": "stream",
     "text": [
      "Epoch 1328\n",
      "Train Loss: 0.2037, Train Accuracy: 92.21%\n",
      "Test Loss: 0.3034, Test Accuracy: 90.32%\n",
      "\n"
     ]
    },
    {
     "name": "stderr",
     "output_type": "stream",
     "text": [
      "Epoch 1329: 100%|██████████| 938/938 [00:17<00:00, 55.07batch/s, Train Loss=0.206, Train Acc=92]  \n"
     ]
    },
    {
     "name": "stdout",
     "output_type": "stream",
     "text": [
      "Epoch 1329\n",
      "Train Loss: 0.2056, Train Accuracy: 92.04%\n",
      "Test Loss: 0.3126, Test Accuracy: 89.99%\n",
      "\n"
     ]
    },
    {
     "name": "stderr",
     "output_type": "stream",
     "text": [
      "Epoch 1330: 100%|██████████| 938/938 [00:17<00:00, 55.13batch/s, Train Loss=0.205, Train Acc=92.2]\n"
     ]
    },
    {
     "name": "stdout",
     "output_type": "stream",
     "text": [
      "Epoch 1330\n",
      "Train Loss: 0.2050, Train Accuracy: 92.16%\n",
      "Test Loss: 0.3033, Test Accuracy: 90.16%\n",
      "\n"
     ]
    },
    {
     "name": "stderr",
     "output_type": "stream",
     "text": [
      "Epoch 1331: 100%|██████████| 938/938 [00:16<00:00, 55.30batch/s, Train Loss=0.202, Train Acc=92.3]\n"
     ]
    },
    {
     "name": "stdout",
     "output_type": "stream",
     "text": [
      "Epoch 1331\n",
      "Train Loss: 0.2020, Train Accuracy: 92.26%\n",
      "Test Loss: 0.3071, Test Accuracy: 89.97%\n",
      "\n"
     ]
    },
    {
     "name": "stderr",
     "output_type": "stream",
     "text": [
      "Epoch 1332: 100%|██████████| 938/938 [00:17<00:00, 55.04batch/s, Train Loss=0.202, Train Acc=92.3]\n"
     ]
    },
    {
     "name": "stdout",
     "output_type": "stream",
     "text": [
      "Epoch 1332\n",
      "Train Loss: 0.2019, Train Accuracy: 92.29%\n",
      "Test Loss: 0.2974, Test Accuracy: 90.24%\n",
      "\n"
     ]
    },
    {
     "name": "stderr",
     "output_type": "stream",
     "text": [
      "Epoch 1333: 100%|██████████| 938/938 [00:17<00:00, 55.03batch/s, Train Loss=0.202, Train Acc=92.2]\n"
     ]
    },
    {
     "name": "stdout",
     "output_type": "stream",
     "text": [
      "Epoch 1333\n",
      "Train Loss: 0.2017, Train Accuracy: 92.21%\n",
      "Test Loss: 0.3027, Test Accuracy: 89.98%\n",
      "\n"
     ]
    },
    {
     "name": "stderr",
     "output_type": "stream",
     "text": [
      "Epoch 1334: 100%|██████████| 938/938 [00:17<00:00, 55.14batch/s, Train Loss=0.203, Train Acc=92.2]\n"
     ]
    },
    {
     "name": "stdout",
     "output_type": "stream",
     "text": [
      "Epoch 1334\n",
      "Train Loss: 0.2033, Train Accuracy: 92.15%\n",
      "Test Loss: 0.3018, Test Accuracy: 89.91%\n",
      "\n"
     ]
    },
    {
     "name": "stderr",
     "output_type": "stream",
     "text": [
      "Epoch 1335: 100%|██████████| 938/938 [00:17<00:00, 55.11batch/s, Train Loss=0.203, Train Acc=92.2]\n"
     ]
    },
    {
     "name": "stdout",
     "output_type": "stream",
     "text": [
      "Epoch 1335\n",
      "Train Loss: 0.2034, Train Accuracy: 92.17%\n",
      "Test Loss: 0.3111, Test Accuracy: 89.80%\n",
      "\n"
     ]
    },
    {
     "name": "stderr",
     "output_type": "stream",
     "text": [
      "Epoch 1336: 100%|██████████| 938/938 [00:17<00:00, 55.16batch/s, Train Loss=0.204, Train Acc=92.3]\n"
     ]
    },
    {
     "name": "stdout",
     "output_type": "stream",
     "text": [
      "Epoch 1336\n",
      "Train Loss: 0.2036, Train Accuracy: 92.27%\n",
      "Test Loss: 0.3143, Test Accuracy: 89.63%\n",
      "\n"
     ]
    },
    {
     "name": "stderr",
     "output_type": "stream",
     "text": [
      "Epoch 1337: 100%|██████████| 938/938 [00:17<00:00, 55.11batch/s, Train Loss=0.205, Train Acc=92]  \n"
     ]
    },
    {
     "name": "stdout",
     "output_type": "stream",
     "text": [
      "Epoch 1337\n",
      "Train Loss: 0.2045, Train Accuracy: 92.04%\n",
      "Test Loss: 0.3042, Test Accuracy: 90.15%\n",
      "\n"
     ]
    },
    {
     "name": "stderr",
     "output_type": "stream",
     "text": [
      "Epoch 1338: 100%|██████████| 938/938 [00:17<00:00, 54.98batch/s, Train Loss=0.2, Train Acc=92.3]  \n"
     ]
    },
    {
     "name": "stdout",
     "output_type": "stream",
     "text": [
      "Epoch 1338\n",
      "Train Loss: 0.1999, Train Accuracy: 92.32%\n",
      "Test Loss: 0.3123, Test Accuracy: 89.90%\n",
      "\n"
     ]
    },
    {
     "name": "stderr",
     "output_type": "stream",
     "text": [
      "Epoch 1339: 100%|██████████| 938/938 [00:17<00:00, 55.03batch/s, Train Loss=0.2, Train Acc=92.3]  \n"
     ]
    },
    {
     "name": "stdout",
     "output_type": "stream",
     "text": [
      "Epoch 1339\n",
      "Train Loss: 0.1996, Train Accuracy: 92.27%\n",
      "Test Loss: 0.3204, Test Accuracy: 89.89%\n",
      "\n"
     ]
    },
    {
     "name": "stderr",
     "output_type": "stream",
     "text": [
      "Epoch 1340: 100%|██████████| 938/938 [00:16<00:00, 55.18batch/s, Train Loss=0.199, Train Acc=92.4]\n"
     ]
    },
    {
     "name": "stdout",
     "output_type": "stream",
     "text": [
      "Epoch 1340\n",
      "Train Loss: 0.1994, Train Accuracy: 92.35%\n",
      "Test Loss: 0.3202, Test Accuracy: 89.61%\n",
      "\n"
     ]
    },
    {
     "name": "stderr",
     "output_type": "stream",
     "text": [
      "Epoch 1341: 100%|██████████| 938/938 [00:17<00:00, 55.01batch/s, Train Loss=0.201, Train Acc=92.4]\n"
     ]
    },
    {
     "name": "stdout",
     "output_type": "stream",
     "text": [
      "Epoch 1341\n",
      "Train Loss: 0.2009, Train Accuracy: 92.36%\n",
      "Test Loss: 0.3068, Test Accuracy: 89.82%\n",
      "\n"
     ]
    },
    {
     "name": "stderr",
     "output_type": "stream",
     "text": [
      "Epoch 1342: 100%|██████████| 938/938 [00:17<00:00, 55.14batch/s, Train Loss=0.198, Train Acc=92.5]\n"
     ]
    },
    {
     "name": "stdout",
     "output_type": "stream",
     "text": [
      "Epoch 1342\n",
      "Train Loss: 0.1977, Train Accuracy: 92.47%\n",
      "Test Loss: 0.3052, Test Accuracy: 90.22%\n",
      "\n"
     ]
    },
    {
     "name": "stderr",
     "output_type": "stream",
     "text": [
      "Epoch 1343: 100%|██████████| 938/938 [00:17<00:00, 55.14batch/s, Train Loss=0.199, Train Acc=92.4]\n"
     ]
    },
    {
     "name": "stdout",
     "output_type": "stream",
     "text": [
      "Epoch 1343\n",
      "Train Loss: 0.1988, Train Accuracy: 92.44%\n",
      "Test Loss: 0.3123, Test Accuracy: 89.90%\n",
      "\n"
     ]
    },
    {
     "name": "stderr",
     "output_type": "stream",
     "text": [
      "Epoch 1344: 100%|██████████| 938/938 [00:17<00:00, 54.90batch/s, Train Loss=0.202, Train Acc=92.3]\n"
     ]
    },
    {
     "name": "stdout",
     "output_type": "stream",
     "text": [
      "Epoch 1344\n",
      "Train Loss: 0.2025, Train Accuracy: 92.28%\n",
      "Test Loss: 0.3050, Test Accuracy: 90.03%\n",
      "\n"
     ]
    },
    {
     "name": "stderr",
     "output_type": "stream",
     "text": [
      "Epoch 1345: 100%|██████████| 938/938 [00:16<00:00, 55.20batch/s, Train Loss=0.198, Train Acc=92.5]\n"
     ]
    },
    {
     "name": "stdout",
     "output_type": "stream",
     "text": [
      "Epoch 1345\n",
      "Train Loss: 0.1979, Train Accuracy: 92.45%\n",
      "Test Loss: 0.3063, Test Accuracy: 90.01%\n",
      "\n"
     ]
    },
    {
     "name": "stderr",
     "output_type": "stream",
     "text": [
      "Epoch 1346: 100%|██████████| 938/938 [00:16<00:00, 55.32batch/s, Train Loss=0.202, Train Acc=92.2]\n"
     ]
    },
    {
     "name": "stdout",
     "output_type": "stream",
     "text": [
      "Epoch 1346\n",
      "Train Loss: 0.2023, Train Accuracy: 92.16%\n",
      "Test Loss: 0.2971, Test Accuracy: 90.11%\n",
      "\n"
     ]
    },
    {
     "name": "stderr",
     "output_type": "stream",
     "text": [
      "Epoch 1347: 100%|██████████| 938/938 [00:17<00:00, 55.11batch/s, Train Loss=0.201, Train Acc=92.2]\n"
     ]
    },
    {
     "name": "stdout",
     "output_type": "stream",
     "text": [
      "Epoch 1347\n",
      "Train Loss: 0.2006, Train Accuracy: 92.22%\n",
      "Test Loss: 0.2989, Test Accuracy: 90.08%\n",
      "\n"
     ]
    },
    {
     "name": "stderr",
     "output_type": "stream",
     "text": [
      "Epoch 1348: 100%|██████████| 938/938 [00:17<00:00, 55.10batch/s, Train Loss=0.199, Train Acc=92.5]\n"
     ]
    },
    {
     "name": "stdout",
     "output_type": "stream",
     "text": [
      "Epoch 1348\n",
      "Train Loss: 0.1987, Train Accuracy: 92.47%\n",
      "Test Loss: 0.3092, Test Accuracy: 89.96%\n",
      "\n"
     ]
    },
    {
     "name": "stderr",
     "output_type": "stream",
     "text": [
      "Epoch 1349: 100%|██████████| 938/938 [00:16<00:00, 55.18batch/s, Train Loss=0.205, Train Acc=92.1]\n"
     ]
    },
    {
     "name": "stdout",
     "output_type": "stream",
     "text": [
      "Epoch 1349\n",
      "Train Loss: 0.2045, Train Accuracy: 92.08%\n",
      "Test Loss: 0.3041, Test Accuracy: 90.14%\n",
      "\n"
     ]
    },
    {
     "name": "stderr",
     "output_type": "stream",
     "text": [
      "Epoch 1350: 100%|██████████| 938/938 [00:16<00:00, 55.18batch/s, Train Loss=0.202, Train Acc=92.1]\n"
     ]
    },
    {
     "name": "stdout",
     "output_type": "stream",
     "text": [
      "Epoch 1350\n",
      "Train Loss: 0.2021, Train Accuracy: 92.11%\n",
      "Test Loss: 0.3090, Test Accuracy: 89.93%\n",
      "\n"
     ]
    },
    {
     "name": "stderr",
     "output_type": "stream",
     "text": [
      "Epoch 1351: 100%|██████████| 938/938 [00:17<00:00, 55.11batch/s, Train Loss=0.198, Train Acc=92.3]\n"
     ]
    },
    {
     "name": "stdout",
     "output_type": "stream",
     "text": [
      "Epoch 1351\n",
      "Train Loss: 0.1980, Train Accuracy: 92.31%\n",
      "Test Loss: 0.3123, Test Accuracy: 89.58%\n",
      "\n"
     ]
    },
    {
     "name": "stderr",
     "output_type": "stream",
     "text": [
      "Epoch 1352: 100%|██████████| 938/938 [00:17<00:00, 55.00batch/s, Train Loss=0.2, Train Acc=92.4]  \n"
     ]
    },
    {
     "name": "stdout",
     "output_type": "stream",
     "text": [
      "Epoch 1352\n",
      "Train Loss: 0.1997, Train Accuracy: 92.40%\n",
      "Test Loss: 0.3038, Test Accuracy: 90.15%\n",
      "\n"
     ]
    },
    {
     "name": "stderr",
     "output_type": "stream",
     "text": [
      "Epoch 1353: 100%|██████████| 938/938 [00:17<00:00, 55.17batch/s, Train Loss=0.202, Train Acc=92.3]\n"
     ]
    },
    {
     "name": "stdout",
     "output_type": "stream",
     "text": [
      "Epoch 1353\n",
      "Train Loss: 0.2023, Train Accuracy: 92.28%\n",
      "Test Loss: 0.2999, Test Accuracy: 90.08%\n",
      "\n"
     ]
    },
    {
     "name": "stderr",
     "output_type": "stream",
     "text": [
      "Epoch 1354: 100%|██████████| 938/938 [00:17<00:00, 55.06batch/s, Train Loss=0.2, Train Acc=92.4]  \n"
     ]
    },
    {
     "name": "stdout",
     "output_type": "stream",
     "text": [
      "Epoch 1354\n",
      "Train Loss: 0.2000, Train Accuracy: 92.42%\n",
      "Test Loss: 0.2996, Test Accuracy: 90.14%\n",
      "\n"
     ]
    },
    {
     "name": "stderr",
     "output_type": "stream",
     "text": [
      "Epoch 1355: 100%|██████████| 938/938 [00:16<00:00, 55.23batch/s, Train Loss=0.201, Train Acc=92.3]\n"
     ]
    },
    {
     "name": "stdout",
     "output_type": "stream",
     "text": [
      "Epoch 1355\n",
      "Train Loss: 0.2011, Train Accuracy: 92.31%\n",
      "Test Loss: 0.2993, Test Accuracy: 90.22%\n",
      "\n"
     ]
    },
    {
     "name": "stderr",
     "output_type": "stream",
     "text": [
      "Epoch 1356: 100%|██████████| 938/938 [00:16<00:00, 55.23batch/s, Train Loss=0.194, Train Acc=92.5]\n"
     ]
    },
    {
     "name": "stdout",
     "output_type": "stream",
     "text": [
      "Epoch 1356\n",
      "Train Loss: 0.1944, Train Accuracy: 92.48%\n",
      "Test Loss: 0.3067, Test Accuracy: 90.02%\n",
      "\n"
     ]
    },
    {
     "name": "stderr",
     "output_type": "stream",
     "text": [
      "Epoch 1357: 100%|██████████| 938/938 [00:16<00:00, 55.20batch/s, Train Loss=0.196, Train Acc=92.4]\n"
     ]
    },
    {
     "name": "stdout",
     "output_type": "stream",
     "text": [
      "Epoch 1357\n",
      "Train Loss: 0.1955, Train Accuracy: 92.42%\n",
      "Test Loss: 0.3035, Test Accuracy: 90.26%\n",
      "\n"
     ]
    },
    {
     "name": "stderr",
     "output_type": "stream",
     "text": [
      "Epoch 1358: 100%|██████████| 938/938 [00:16<00:00, 55.30batch/s, Train Loss=0.198, Train Acc=92.4]\n"
     ]
    },
    {
     "name": "stdout",
     "output_type": "stream",
     "text": [
      "Epoch 1358\n",
      "Train Loss: 0.1981, Train Accuracy: 92.38%\n",
      "Test Loss: 0.3085, Test Accuracy: 90.04%\n",
      "\n"
     ]
    },
    {
     "name": "stderr",
     "output_type": "stream",
     "text": [
      "Epoch 1359: 100%|██████████| 938/938 [00:17<00:00, 55.14batch/s, Train Loss=0.198, Train Acc=92.4]\n"
     ]
    },
    {
     "name": "stdout",
     "output_type": "stream",
     "text": [
      "Epoch 1359\n",
      "Train Loss: 0.1978, Train Accuracy: 92.36%\n",
      "Test Loss: 0.3130, Test Accuracy: 90.03%\n",
      "\n"
     ]
    },
    {
     "name": "stderr",
     "output_type": "stream",
     "text": [
      "Epoch 1360: 100%|██████████| 938/938 [00:16<00:00, 55.18batch/s, Train Loss=0.195, Train Acc=92.4]\n"
     ]
    },
    {
     "name": "stdout",
     "output_type": "stream",
     "text": [
      "Epoch 1360\n",
      "Train Loss: 0.1950, Train Accuracy: 92.40%\n",
      "Test Loss: 0.3193, Test Accuracy: 89.74%\n",
      "\n"
     ]
    },
    {
     "name": "stderr",
     "output_type": "stream",
     "text": [
      "Epoch 1361: 100%|██████████| 938/938 [00:16<00:00, 55.18batch/s, Train Loss=0.194, Train Acc=92.7]\n"
     ]
    },
    {
     "name": "stdout",
     "output_type": "stream",
     "text": [
      "Epoch 1361\n",
      "Train Loss: 0.1941, Train Accuracy: 92.66%\n",
      "Test Loss: 0.3096, Test Accuracy: 89.99%\n",
      "\n"
     ]
    },
    {
     "name": "stderr",
     "output_type": "stream",
     "text": [
      "Epoch 1362: 100%|██████████| 938/938 [00:16<00:00, 55.25batch/s, Train Loss=0.197, Train Acc=92.5]\n"
     ]
    },
    {
     "name": "stdout",
     "output_type": "stream",
     "text": [
      "Epoch 1362\n",
      "Train Loss: 0.1972, Train Accuracy: 92.53%\n",
      "Test Loss: 0.2970, Test Accuracy: 90.20%\n",
      "\n"
     ]
    },
    {
     "name": "stderr",
     "output_type": "stream",
     "text": [
      "Epoch 1363: 100%|██████████| 938/938 [00:17<00:00, 55.11batch/s, Train Loss=0.194, Train Acc=92.7]\n"
     ]
    },
    {
     "name": "stdout",
     "output_type": "stream",
     "text": [
      "Epoch 1363\n",
      "Train Loss: 0.1944, Train Accuracy: 92.65%\n",
      "Test Loss: 0.2982, Test Accuracy: 90.23%\n",
      "\n"
     ]
    },
    {
     "name": "stderr",
     "output_type": "stream",
     "text": [
      "Epoch 1364: 100%|██████████| 938/938 [00:16<00:00, 55.24batch/s, Train Loss=0.197, Train Acc=92.5]\n"
     ]
    },
    {
     "name": "stdout",
     "output_type": "stream",
     "text": [
      "Epoch 1364\n",
      "Train Loss: 0.1970, Train Accuracy: 92.47%\n",
      "Test Loss: 0.3094, Test Accuracy: 90.04%\n",
      "\n"
     ]
    },
    {
     "name": "stderr",
     "output_type": "stream",
     "text": [
      "Epoch 1365: 100%|██████████| 938/938 [00:17<00:00, 55.15batch/s, Train Loss=0.197, Train Acc=92.3]\n"
     ]
    },
    {
     "name": "stdout",
     "output_type": "stream",
     "text": [
      "Epoch 1365\n",
      "Train Loss: 0.1971, Train Accuracy: 92.33%\n",
      "Test Loss: 0.3121, Test Accuracy: 89.80%\n",
      "\n"
     ]
    },
    {
     "name": "stderr",
     "output_type": "stream",
     "text": [
      "Epoch 1366: 100%|██████████| 938/938 [00:17<00:00, 55.01batch/s, Train Loss=0.199, Train Acc=92.4]\n"
     ]
    },
    {
     "name": "stdout",
     "output_type": "stream",
     "text": [
      "Epoch 1366\n",
      "Train Loss: 0.1989, Train Accuracy: 92.38%\n",
      "Test Loss: 0.3021, Test Accuracy: 90.06%\n",
      "\n"
     ]
    },
    {
     "name": "stderr",
     "output_type": "stream",
     "text": [
      "Epoch 1367: 100%|██████████| 938/938 [00:17<00:00, 55.10batch/s, Train Loss=0.197, Train Acc=92.4]\n"
     ]
    },
    {
     "name": "stdout",
     "output_type": "stream",
     "text": [
      "Epoch 1367\n",
      "Train Loss: 0.1967, Train Accuracy: 92.38%\n",
      "Test Loss: 0.3230, Test Accuracy: 89.87%\n",
      "\n"
     ]
    },
    {
     "name": "stderr",
     "output_type": "stream",
     "text": [
      "Epoch 1368: 100%|██████████| 938/938 [00:16<00:00, 55.20batch/s, Train Loss=0.193, Train Acc=92.5]\n"
     ]
    },
    {
     "name": "stdout",
     "output_type": "stream",
     "text": [
      "Epoch 1368\n",
      "Train Loss: 0.1927, Train Accuracy: 92.53%\n",
      "Test Loss: 0.3277, Test Accuracy: 89.75%\n",
      "\n"
     ]
    },
    {
     "name": "stderr",
     "output_type": "stream",
     "text": [
      "Epoch 1369: 100%|██████████| 938/938 [00:16<00:00, 55.22batch/s, Train Loss=0.194, Train Acc=92.5]\n"
     ]
    },
    {
     "name": "stdout",
     "output_type": "stream",
     "text": [
      "Epoch 1369\n",
      "Train Loss: 0.1938, Train Accuracy: 92.52%\n",
      "Test Loss: 0.3157, Test Accuracy: 90.08%\n",
      "\n"
     ]
    },
    {
     "name": "stderr",
     "output_type": "stream",
     "text": [
      "Epoch 1370: 100%|██████████| 938/938 [00:17<00:00, 55.10batch/s, Train Loss=0.196, Train Acc=92.5]\n"
     ]
    },
    {
     "name": "stdout",
     "output_type": "stream",
     "text": [
      "Epoch 1370\n",
      "Train Loss: 0.1956, Train Accuracy: 92.45%\n",
      "Test Loss: 0.3108, Test Accuracy: 89.89%\n",
      "\n"
     ]
    },
    {
     "name": "stderr",
     "output_type": "stream",
     "text": [
      "Epoch 1371: 100%|██████████| 938/938 [00:16<00:00, 55.19batch/s, Train Loss=0.199, Train Acc=92.3]\n"
     ]
    },
    {
     "name": "stdout",
     "output_type": "stream",
     "text": [
      "Epoch 1371\n",
      "Train Loss: 0.1990, Train Accuracy: 92.34%\n",
      "Test Loss: 0.3197, Test Accuracy: 89.80%\n",
      "\n"
     ]
    },
    {
     "name": "stderr",
     "output_type": "stream",
     "text": [
      "Epoch 1372: 100%|██████████| 938/938 [00:17<00:00, 55.07batch/s, Train Loss=0.195, Train Acc=92.4]\n"
     ]
    },
    {
     "name": "stdout",
     "output_type": "stream",
     "text": [
      "Epoch 1372\n",
      "Train Loss: 0.1954, Train Accuracy: 92.43%\n",
      "Test Loss: 0.3205, Test Accuracy: 89.63%\n",
      "\n"
     ]
    },
    {
     "name": "stderr",
     "output_type": "stream",
     "text": [
      "Epoch 1373: 100%|██████████| 938/938 [00:17<00:00, 55.08batch/s, Train Loss=0.195, Train Acc=92.5]\n"
     ]
    },
    {
     "name": "stdout",
     "output_type": "stream",
     "text": [
      "Epoch 1373\n",
      "Train Loss: 0.1954, Train Accuracy: 92.49%\n",
      "Test Loss: 0.3216, Test Accuracy: 90.04%\n",
      "\n"
     ]
    },
    {
     "name": "stderr",
     "output_type": "stream",
     "text": [
      "Epoch 1374: 100%|██████████| 938/938 [00:17<00:00, 55.04batch/s, Train Loss=0.195, Train Acc=92.6]\n"
     ]
    },
    {
     "name": "stdout",
     "output_type": "stream",
     "text": [
      "Epoch 1374\n",
      "Train Loss: 0.1951, Train Accuracy: 92.62%\n",
      "Test Loss: 0.3177, Test Accuracy: 89.78%\n",
      "\n"
     ]
    },
    {
     "name": "stderr",
     "output_type": "stream",
     "text": [
      "Epoch 1375: 100%|██████████| 938/938 [00:17<00:00, 55.00batch/s, Train Loss=0.193, Train Acc=92.6]\n"
     ]
    },
    {
     "name": "stdout",
     "output_type": "stream",
     "text": [
      "Epoch 1375\n",
      "Train Loss: 0.1932, Train Accuracy: 92.61%\n",
      "Test Loss: 0.3139, Test Accuracy: 89.66%\n",
      "\n"
     ]
    },
    {
     "name": "stderr",
     "output_type": "stream",
     "text": [
      "Epoch 1376: 100%|██████████| 938/938 [00:17<00:00, 55.10batch/s, Train Loss=0.194, Train Acc=92.5]\n"
     ]
    },
    {
     "name": "stdout",
     "output_type": "stream",
     "text": [
      "Epoch 1376\n",
      "Train Loss: 0.1940, Train Accuracy: 92.50%\n",
      "Test Loss: 0.3021, Test Accuracy: 90.08%\n",
      "\n"
     ]
    },
    {
     "name": "stderr",
     "output_type": "stream",
     "text": [
      "Epoch 1377: 100%|██████████| 938/938 [00:16<00:00, 55.21batch/s, Train Loss=0.196, Train Acc=92.4]\n"
     ]
    },
    {
     "name": "stdout",
     "output_type": "stream",
     "text": [
      "Epoch 1377\n",
      "Train Loss: 0.1961, Train Accuracy: 92.43%\n",
      "Test Loss: 0.3174, Test Accuracy: 90.20%\n",
      "\n"
     ]
    },
    {
     "name": "stderr",
     "output_type": "stream",
     "text": [
      "Epoch 1378: 100%|██████████| 938/938 [00:17<00:00, 55.11batch/s, Train Loss=0.197, Train Acc=92.5]\n"
     ]
    },
    {
     "name": "stdout",
     "output_type": "stream",
     "text": [
      "Epoch 1378\n",
      "Train Loss: 0.1966, Train Accuracy: 92.48%\n",
      "Test Loss: 0.3128, Test Accuracy: 89.76%\n",
      "\n"
     ]
    },
    {
     "name": "stderr",
     "output_type": "stream",
     "text": [
      "Epoch 1379: 100%|██████████| 938/938 [00:17<00:00, 55.04batch/s, Train Loss=0.196, Train Acc=92.5]\n"
     ]
    },
    {
     "name": "stdout",
     "output_type": "stream",
     "text": [
      "Epoch 1379\n",
      "Train Loss: 0.1962, Train Accuracy: 92.54%\n",
      "Test Loss: 0.3146, Test Accuracy: 90.06%\n",
      "\n"
     ]
    },
    {
     "name": "stderr",
     "output_type": "stream",
     "text": [
      "Epoch 1380: 100%|██████████| 938/938 [00:17<00:00, 55.08batch/s, Train Loss=0.195, Train Acc=92.5]\n"
     ]
    },
    {
     "name": "stdout",
     "output_type": "stream",
     "text": [
      "Epoch 1380\n",
      "Train Loss: 0.1945, Train Accuracy: 92.50%\n",
      "Test Loss: 0.3219, Test Accuracy: 89.85%\n",
      "\n"
     ]
    },
    {
     "name": "stderr",
     "output_type": "stream",
     "text": [
      "Epoch 1381: 100%|██████████| 938/938 [00:16<00:00, 55.19batch/s, Train Loss=0.193, Train Acc=92.6]\n"
     ]
    },
    {
     "name": "stdout",
     "output_type": "stream",
     "text": [
      "Epoch 1381\n",
      "Train Loss: 0.1931, Train Accuracy: 92.59%\n",
      "Test Loss: 0.3115, Test Accuracy: 90.48%\n",
      "\n"
     ]
    },
    {
     "name": "stderr",
     "output_type": "stream",
     "text": [
      "Epoch 1382: 100%|██████████| 938/938 [00:17<00:00, 55.00batch/s, Train Loss=0.194, Train Acc=92.5]\n"
     ]
    },
    {
     "name": "stdout",
     "output_type": "stream",
     "text": [
      "Epoch 1382\n",
      "Train Loss: 0.1944, Train Accuracy: 92.53%\n",
      "Test Loss: 0.3046, Test Accuracy: 90.12%\n",
      "\n"
     ]
    },
    {
     "name": "stderr",
     "output_type": "stream",
     "text": [
      "Epoch 1383: 100%|██████████| 938/938 [00:17<00:00, 55.16batch/s, Train Loss=0.196, Train Acc=92.5]\n"
     ]
    },
    {
     "name": "stdout",
     "output_type": "stream",
     "text": [
      "Epoch 1383\n",
      "Train Loss: 0.1958, Train Accuracy: 92.55%\n",
      "Test Loss: 0.3057, Test Accuracy: 90.18%\n",
      "\n"
     ]
    },
    {
     "name": "stderr",
     "output_type": "stream",
     "text": [
      "Epoch 1384: 100%|██████████| 938/938 [00:17<00:00, 55.04batch/s, Train Loss=0.195, Train Acc=92.4]\n"
     ]
    },
    {
     "name": "stdout",
     "output_type": "stream",
     "text": [
      "Epoch 1384\n",
      "Train Loss: 0.1953, Train Accuracy: 92.44%\n",
      "Test Loss: 0.3004, Test Accuracy: 90.26%\n",
      "\n"
     ]
    },
    {
     "name": "stderr",
     "output_type": "stream",
     "text": [
      "Epoch 1385: 100%|██████████| 938/938 [00:17<00:00, 55.14batch/s, Train Loss=0.192, Train Acc=92.6]\n"
     ]
    },
    {
     "name": "stdout",
     "output_type": "stream",
     "text": [
      "Epoch 1385\n",
      "Train Loss: 0.1917, Train Accuracy: 92.58%\n",
      "Test Loss: 0.3201, Test Accuracy: 90.15%\n",
      "\n"
     ]
    },
    {
     "name": "stderr",
     "output_type": "stream",
     "text": [
      "Epoch 1386: 100%|██████████| 938/938 [00:17<00:00, 55.02batch/s, Train Loss=0.193, Train Acc=92.6]\n"
     ]
    },
    {
     "name": "stdout",
     "output_type": "stream",
     "text": [
      "Epoch 1386\n",
      "Train Loss: 0.1933, Train Accuracy: 92.57%\n",
      "Test Loss: 0.3090, Test Accuracy: 90.22%\n",
      "\n"
     ]
    },
    {
     "name": "stderr",
     "output_type": "stream",
     "text": [
      "Epoch 1387: 100%|██████████| 938/938 [00:17<00:00, 55.03batch/s, Train Loss=0.192, Train Acc=92.6]\n"
     ]
    },
    {
     "name": "stdout",
     "output_type": "stream",
     "text": [
      "Epoch 1387\n",
      "Train Loss: 0.1915, Train Accuracy: 92.61%\n",
      "Test Loss: 0.3142, Test Accuracy: 90.21%\n",
      "\n"
     ]
    },
    {
     "name": "stderr",
     "output_type": "stream",
     "text": [
      "Epoch 1388: 100%|██████████| 938/938 [00:17<00:00, 55.15batch/s, Train Loss=0.196, Train Acc=92.5]\n"
     ]
    },
    {
     "name": "stdout",
     "output_type": "stream",
     "text": [
      "Epoch 1388\n",
      "Train Loss: 0.1955, Train Accuracy: 92.55%\n",
      "Test Loss: 0.3144, Test Accuracy: 90.18%\n",
      "\n"
     ]
    },
    {
     "name": "stderr",
     "output_type": "stream",
     "text": [
      "Epoch 1389: 100%|██████████| 938/938 [00:16<00:00, 55.29batch/s, Train Loss=0.192, Train Acc=92.7]\n"
     ]
    },
    {
     "name": "stdout",
     "output_type": "stream",
     "text": [
      "Epoch 1389\n",
      "Train Loss: 0.1919, Train Accuracy: 92.69%\n",
      "Test Loss: 0.3074, Test Accuracy: 90.24%\n",
      "\n"
     ]
    },
    {
     "name": "stderr",
     "output_type": "stream",
     "text": [
      "Epoch 1390: 100%|██████████| 938/938 [00:17<00:00, 55.10batch/s, Train Loss=0.191, Train Acc=92.6]\n"
     ]
    },
    {
     "name": "stdout",
     "output_type": "stream",
     "text": [
      "Epoch 1390\n",
      "Train Loss: 0.1906, Train Accuracy: 92.63%\n",
      "Test Loss: 0.3080, Test Accuracy: 90.38%\n",
      "\n"
     ]
    },
    {
     "name": "stderr",
     "output_type": "stream",
     "text": [
      "Epoch 1391: 100%|██████████| 938/938 [00:17<00:00, 55.07batch/s, Train Loss=0.191, Train Acc=92.6]\n"
     ]
    },
    {
     "name": "stdout",
     "output_type": "stream",
     "text": [
      "Epoch 1391\n",
      "Train Loss: 0.1913, Train Accuracy: 92.62%\n",
      "Test Loss: 0.3101, Test Accuracy: 90.18%\n",
      "\n"
     ]
    },
    {
     "name": "stderr",
     "output_type": "stream",
     "text": [
      "Epoch 1392: 100%|██████████| 938/938 [00:17<00:00, 55.14batch/s, Train Loss=0.195, Train Acc=92.6]\n"
     ]
    },
    {
     "name": "stdout",
     "output_type": "stream",
     "text": [
      "Epoch 1392\n",
      "Train Loss: 0.1946, Train Accuracy: 92.63%\n",
      "Test Loss: 0.3043, Test Accuracy: 90.19%\n",
      "\n"
     ]
    },
    {
     "name": "stderr",
     "output_type": "stream",
     "text": [
      "Epoch 1393: 100%|██████████| 938/938 [00:17<00:00, 55.06batch/s, Train Loss=0.193, Train Acc=92.6]\n"
     ]
    },
    {
     "name": "stdout",
     "output_type": "stream",
     "text": [
      "Epoch 1393\n",
      "Train Loss: 0.1927, Train Accuracy: 92.62%\n",
      "Test Loss: 0.3056, Test Accuracy: 90.40%\n",
      "\n"
     ]
    },
    {
     "name": "stderr",
     "output_type": "stream",
     "text": [
      "Epoch 1394: 100%|██████████| 938/938 [00:16<00:00, 55.22batch/s, Train Loss=0.195, Train Acc=92.6]\n"
     ]
    },
    {
     "name": "stdout",
     "output_type": "stream",
     "text": [
      "Epoch 1394\n",
      "Train Loss: 0.1950, Train Accuracy: 92.63%\n",
      "Test Loss: 0.3126, Test Accuracy: 90.06%\n",
      "\n"
     ]
    },
    {
     "name": "stderr",
     "output_type": "stream",
     "text": [
      "Epoch 1395: 100%|██████████| 938/938 [00:16<00:00, 55.21batch/s, Train Loss=0.195, Train Acc=92.6]\n"
     ]
    },
    {
     "name": "stdout",
     "output_type": "stream",
     "text": [
      "Epoch 1395\n",
      "Train Loss: 0.1949, Train Accuracy: 92.65%\n",
      "Test Loss: 0.3099, Test Accuracy: 89.99%\n",
      "\n"
     ]
    },
    {
     "name": "stderr",
     "output_type": "stream",
     "text": [
      "Epoch 1396: 100%|██████████| 938/938 [00:17<00:00, 55.07batch/s, Train Loss=0.192, Train Acc=92.7]\n"
     ]
    },
    {
     "name": "stdout",
     "output_type": "stream",
     "text": [
      "Epoch 1396\n",
      "Train Loss: 0.1921, Train Accuracy: 92.67%\n",
      "Test Loss: 0.3121, Test Accuracy: 90.29%\n",
      "\n"
     ]
    },
    {
     "name": "stderr",
     "output_type": "stream",
     "text": [
      "Epoch 1397: 100%|██████████| 938/938 [00:17<00:00, 55.08batch/s, Train Loss=0.192, Train Acc=92.6]\n"
     ]
    },
    {
     "name": "stdout",
     "output_type": "stream",
     "text": [
      "Epoch 1397\n",
      "Train Loss: 0.1916, Train Accuracy: 92.55%\n",
      "Test Loss: 0.3139, Test Accuracy: 90.40%\n",
      "\n"
     ]
    },
    {
     "name": "stderr",
     "output_type": "stream",
     "text": [
      "Epoch 1398: 100%|██████████| 938/938 [00:17<00:00, 55.16batch/s, Train Loss=0.194, Train Acc=92.5]\n"
     ]
    },
    {
     "name": "stdout",
     "output_type": "stream",
     "text": [
      "Epoch 1398\n",
      "Train Loss: 0.1936, Train Accuracy: 92.50%\n",
      "Test Loss: 0.3134, Test Accuracy: 89.75%\n",
      "\n"
     ]
    },
    {
     "name": "stderr",
     "output_type": "stream",
     "text": [
      "Epoch 1399: 100%|██████████| 938/938 [00:17<00:00, 55.18batch/s, Train Loss=0.194, Train Acc=92.6]\n"
     ]
    },
    {
     "name": "stdout",
     "output_type": "stream",
     "text": [
      "Epoch 1399\n",
      "Train Loss: 0.1935, Train Accuracy: 92.58%\n",
      "Test Loss: 0.3220, Test Accuracy: 89.89%\n",
      "\n"
     ]
    },
    {
     "name": "stderr",
     "output_type": "stream",
     "text": [
      "Epoch 1400: 100%|██████████| 938/938 [00:16<00:00, 55.29batch/s, Train Loss=0.19, Train Acc=92.7] \n"
     ]
    },
    {
     "name": "stdout",
     "output_type": "stream",
     "text": [
      "Epoch 1400\n",
      "Train Loss: 0.1899, Train Accuracy: 92.72%\n",
      "Test Loss: 0.3166, Test Accuracy: 90.02%\n",
      "\n"
     ]
    },
    {
     "name": "stderr",
     "output_type": "stream",
     "text": [
      "Epoch 1401: 100%|██████████| 938/938 [00:16<00:00, 55.24batch/s, Train Loss=0.191, Train Acc=92.6]\n"
     ]
    },
    {
     "name": "stdout",
     "output_type": "stream",
     "text": [
      "Epoch 1401\n",
      "Train Loss: 0.1913, Train Accuracy: 92.61%\n",
      "Test Loss: 0.3240, Test Accuracy: 89.80%\n",
      "\n"
     ]
    },
    {
     "name": "stderr",
     "output_type": "stream",
     "text": [
      "Epoch 1402: 100%|██████████| 938/938 [00:17<00:00, 55.11batch/s, Train Loss=0.191, Train Acc=92.7]\n"
     ]
    },
    {
     "name": "stdout",
     "output_type": "stream",
     "text": [
      "Epoch 1402\n",
      "Train Loss: 0.1909, Train Accuracy: 92.73%\n",
      "Test Loss: 0.3167, Test Accuracy: 89.93%\n",
      "\n"
     ]
    },
    {
     "name": "stderr",
     "output_type": "stream",
     "text": [
      "Epoch 1403: 100%|██████████| 938/938 [00:17<00:00, 55.12batch/s, Train Loss=0.191, Train Acc=92.6]\n"
     ]
    },
    {
     "name": "stdout",
     "output_type": "stream",
     "text": [
      "Epoch 1403\n",
      "Train Loss: 0.1911, Train Accuracy: 92.64%\n",
      "Test Loss: 0.3139, Test Accuracy: 89.73%\n",
      "\n"
     ]
    },
    {
     "name": "stderr",
     "output_type": "stream",
     "text": [
      "Epoch 1404: 100%|██████████| 938/938 [00:16<00:00, 55.21batch/s, Train Loss=0.19, Train Acc=92.7] \n"
     ]
    },
    {
     "name": "stdout",
     "output_type": "stream",
     "text": [
      "Epoch 1404\n",
      "Train Loss: 0.1901, Train Accuracy: 92.69%\n",
      "Test Loss: 0.3221, Test Accuracy: 89.90%\n",
      "\n"
     ]
    },
    {
     "name": "stderr",
     "output_type": "stream",
     "text": [
      "Epoch 1405: 100%|██████████| 938/938 [00:16<00:00, 55.19batch/s, Train Loss=0.19, Train Acc=92.7] \n"
     ]
    },
    {
     "name": "stdout",
     "output_type": "stream",
     "text": [
      "Epoch 1405\n",
      "Train Loss: 0.1897, Train Accuracy: 92.68%\n",
      "Test Loss: 0.3229, Test Accuracy: 90.12%\n",
      "\n"
     ]
    },
    {
     "name": "stderr",
     "output_type": "stream",
     "text": [
      "Epoch 1406: 100%|██████████| 938/938 [00:17<00:00, 55.10batch/s, Train Loss=0.189, Train Acc=92.7]\n"
     ]
    },
    {
     "name": "stdout",
     "output_type": "stream",
     "text": [
      "Epoch 1406\n",
      "Train Loss: 0.1892, Train Accuracy: 92.74%\n",
      "Test Loss: 0.3195, Test Accuracy: 90.11%\n",
      "\n"
     ]
    },
    {
     "name": "stderr",
     "output_type": "stream",
     "text": [
      "Epoch 1407: 100%|██████████| 938/938 [00:17<00:00, 55.05batch/s, Train Loss=0.19, Train Acc=92.7] \n"
     ]
    },
    {
     "name": "stdout",
     "output_type": "stream",
     "text": [
      "Epoch 1407\n",
      "Train Loss: 0.1898, Train Accuracy: 92.71%\n",
      "Test Loss: 0.3175, Test Accuracy: 90.13%\n",
      "\n"
     ]
    },
    {
     "name": "stderr",
     "output_type": "stream",
     "text": [
      "Epoch 1408: 100%|██████████| 938/938 [00:17<00:00, 55.18batch/s, Train Loss=0.19, Train Acc=92.8] \n"
     ]
    },
    {
     "name": "stdout",
     "output_type": "stream",
     "text": [
      "Epoch 1408\n",
      "Train Loss: 0.1898, Train Accuracy: 92.75%\n",
      "Test Loss: 0.3110, Test Accuracy: 90.08%\n",
      "\n"
     ]
    },
    {
     "name": "stderr",
     "output_type": "stream",
     "text": [
      "Epoch 1409: 100%|██████████| 938/938 [00:17<00:00, 55.03batch/s, Train Loss=0.191, Train Acc=92.7]\n"
     ]
    },
    {
     "name": "stdout",
     "output_type": "stream",
     "text": [
      "Epoch 1409\n",
      "Train Loss: 0.1914, Train Accuracy: 92.71%\n",
      "Test Loss: 0.3165, Test Accuracy: 89.91%\n",
      "\n"
     ]
    },
    {
     "name": "stderr",
     "output_type": "stream",
     "text": [
      "Epoch 1410: 100%|██████████| 938/938 [00:17<00:00, 55.03batch/s, Train Loss=0.189, Train Acc=92.7]\n"
     ]
    },
    {
     "name": "stdout",
     "output_type": "stream",
     "text": [
      "Epoch 1410\n",
      "Train Loss: 0.1894, Train Accuracy: 92.65%\n",
      "Test Loss: 0.3199, Test Accuracy: 89.92%\n",
      "\n"
     ]
    },
    {
     "name": "stderr",
     "output_type": "stream",
     "text": [
      "Epoch 1411: 100%|██████████| 938/938 [00:17<00:00, 55.17batch/s, Train Loss=0.19, Train Acc=92.8] \n"
     ]
    },
    {
     "name": "stdout",
     "output_type": "stream",
     "text": [
      "Epoch 1411\n",
      "Train Loss: 0.1898, Train Accuracy: 92.83%\n",
      "Test Loss: 0.3110, Test Accuracy: 90.24%\n",
      "\n"
     ]
    },
    {
     "name": "stderr",
     "output_type": "stream",
     "text": [
      "Epoch 1412: 100%|██████████| 938/938 [00:17<00:00, 55.10batch/s, Train Loss=0.19, Train Acc=92.8] \n"
     ]
    },
    {
     "name": "stdout",
     "output_type": "stream",
     "text": [
      "Epoch 1412\n",
      "Train Loss: 0.1902, Train Accuracy: 92.76%\n",
      "Test Loss: 0.3164, Test Accuracy: 89.98%\n",
      "\n"
     ]
    },
    {
     "name": "stderr",
     "output_type": "stream",
     "text": [
      "Epoch 1413: 100%|██████████| 938/938 [00:16<00:00, 55.19batch/s, Train Loss=0.19, Train Acc=92.8] \n"
     ]
    },
    {
     "name": "stdout",
     "output_type": "stream",
     "text": [
      "Epoch 1413\n",
      "Train Loss: 0.1901, Train Accuracy: 92.75%\n",
      "Test Loss: 0.3154, Test Accuracy: 89.77%\n",
      "\n"
     ]
    },
    {
     "name": "stderr",
     "output_type": "stream",
     "text": [
      "Epoch 1414: 100%|██████████| 938/938 [00:17<00:00, 55.08batch/s, Train Loss=0.19, Train Acc=92.7] \n"
     ]
    },
    {
     "name": "stdout",
     "output_type": "stream",
     "text": [
      "Epoch 1414\n",
      "Train Loss: 0.1901, Train Accuracy: 92.75%\n",
      "Test Loss: 0.3098, Test Accuracy: 90.23%\n",
      "\n"
     ]
    },
    {
     "name": "stderr",
     "output_type": "stream",
     "text": [
      "Epoch 1415: 100%|██████████| 938/938 [00:17<00:00, 55.12batch/s, Train Loss=0.189, Train Acc=92.8]\n"
     ]
    },
    {
     "name": "stdout",
     "output_type": "stream",
     "text": [
      "Epoch 1415\n",
      "Train Loss: 0.1885, Train Accuracy: 92.76%\n",
      "Test Loss: 0.3165, Test Accuracy: 90.22%\n",
      "\n"
     ]
    },
    {
     "name": "stderr",
     "output_type": "stream",
     "text": [
      "Epoch 1416: 100%|██████████| 938/938 [00:16<00:00, 55.23batch/s, Train Loss=0.188, Train Acc=92.8]\n"
     ]
    },
    {
     "name": "stdout",
     "output_type": "stream",
     "text": [
      "Epoch 1416\n",
      "Train Loss: 0.1884, Train Accuracy: 92.79%\n",
      "Test Loss: 0.3196, Test Accuracy: 89.82%\n",
      "\n"
     ]
    },
    {
     "name": "stderr",
     "output_type": "stream",
     "text": [
      "Epoch 1417: 100%|██████████| 938/938 [00:17<00:00, 55.14batch/s, Train Loss=0.185, Train Acc=92.9]\n"
     ]
    },
    {
     "name": "stdout",
     "output_type": "stream",
     "text": [
      "Epoch 1417\n",
      "Train Loss: 0.1853, Train Accuracy: 92.89%\n",
      "Test Loss: 0.3264, Test Accuracy: 89.71%\n",
      "\n"
     ]
    },
    {
     "name": "stderr",
     "output_type": "stream",
     "text": [
      "Epoch 1418: 100%|██████████| 938/938 [00:16<00:00, 55.29batch/s, Train Loss=0.187, Train Acc=92.8]\n"
     ]
    },
    {
     "name": "stdout",
     "output_type": "stream",
     "text": [
      "Epoch 1418\n",
      "Train Loss: 0.1874, Train Accuracy: 92.84%\n",
      "Test Loss: 0.3290, Test Accuracy: 89.80%\n",
      "\n"
     ]
    },
    {
     "name": "stderr",
     "output_type": "stream",
     "text": [
      "Epoch 1419: 100%|██████████| 938/938 [00:16<00:00, 55.23batch/s, Train Loss=0.184, Train Acc=92.9]\n"
     ]
    },
    {
     "name": "stdout",
     "output_type": "stream",
     "text": [
      "Epoch 1419\n",
      "Train Loss: 0.1836, Train Accuracy: 92.92%\n",
      "Test Loss: 0.3208, Test Accuracy: 90.00%\n",
      "\n"
     ]
    },
    {
     "name": "stderr",
     "output_type": "stream",
     "text": [
      "Epoch 1420: 100%|██████████| 938/938 [00:16<00:00, 55.35batch/s, Train Loss=0.189, Train Acc=92.7]\n"
     ]
    },
    {
     "name": "stdout",
     "output_type": "stream",
     "text": [
      "Epoch 1420\n",
      "Train Loss: 0.1892, Train Accuracy: 92.72%\n",
      "Test Loss: 0.3098, Test Accuracy: 90.27%\n",
      "\n"
     ]
    },
    {
     "name": "stderr",
     "output_type": "stream",
     "text": [
      "Epoch 1421: 100%|██████████| 938/938 [00:17<00:00, 55.09batch/s, Train Loss=0.188, Train Acc=92.8]\n"
     ]
    },
    {
     "name": "stdout",
     "output_type": "stream",
     "text": [
      "Epoch 1421\n",
      "Train Loss: 0.1882, Train Accuracy: 92.77%\n",
      "Test Loss: 0.3124, Test Accuracy: 90.01%\n",
      "\n"
     ]
    },
    {
     "name": "stderr",
     "output_type": "stream",
     "text": [
      "Epoch 1422: 100%|██████████| 938/938 [00:17<00:00, 55.12batch/s, Train Loss=0.187, Train Acc=92.9]\n"
     ]
    },
    {
     "name": "stdout",
     "output_type": "stream",
     "text": [
      "Epoch 1422\n",
      "Train Loss: 0.1873, Train Accuracy: 92.89%\n",
      "Test Loss: 0.3144, Test Accuracy: 90.05%\n",
      "\n"
     ]
    },
    {
     "name": "stderr",
     "output_type": "stream",
     "text": [
      "Epoch 1423: 100%|██████████| 938/938 [00:17<00:00, 55.10batch/s, Train Loss=0.184, Train Acc=92.9]\n"
     ]
    },
    {
     "name": "stdout",
     "output_type": "stream",
     "text": [
      "Epoch 1423\n",
      "Train Loss: 0.1836, Train Accuracy: 92.92%\n",
      "Test Loss: 0.3157, Test Accuracy: 90.24%\n",
      "\n"
     ]
    },
    {
     "name": "stderr",
     "output_type": "stream",
     "text": [
      "Epoch 1424: 100%|██████████| 938/938 [00:17<00:00, 55.11batch/s, Train Loss=0.188, Train Acc=92.9]\n"
     ]
    },
    {
     "name": "stdout",
     "output_type": "stream",
     "text": [
      "Epoch 1424\n",
      "Train Loss: 0.1875, Train Accuracy: 92.85%\n",
      "Test Loss: 0.3077, Test Accuracy: 90.29%\n",
      "\n"
     ]
    },
    {
     "name": "stderr",
     "output_type": "stream",
     "text": [
      "Epoch 1425: 100%|██████████| 938/938 [00:17<00:00, 55.16batch/s, Train Loss=0.187, Train Acc=92.8]\n"
     ]
    },
    {
     "name": "stdout",
     "output_type": "stream",
     "text": [
      "Epoch 1425\n",
      "Train Loss: 0.1873, Train Accuracy: 92.78%\n",
      "Test Loss: 0.3199, Test Accuracy: 90.01%\n",
      "\n"
     ]
    },
    {
     "name": "stderr",
     "output_type": "stream",
     "text": [
      "Epoch 1426: 100%|██████████| 938/938 [00:17<00:00, 55.03batch/s, Train Loss=0.186, Train Acc=92.8]\n"
     ]
    },
    {
     "name": "stdout",
     "output_type": "stream",
     "text": [
      "Epoch 1426\n",
      "Train Loss: 0.1860, Train Accuracy: 92.80%\n",
      "Test Loss: 0.3168, Test Accuracy: 90.07%\n",
      "\n"
     ]
    },
    {
     "name": "stderr",
     "output_type": "stream",
     "text": [
      "Epoch 1427: 100%|██████████| 938/938 [00:17<00:00, 54.94batch/s, Train Loss=0.184, Train Acc=93]  \n"
     ]
    },
    {
     "name": "stdout",
     "output_type": "stream",
     "text": [
      "Epoch 1427\n",
      "Train Loss: 0.1841, Train Accuracy: 93.02%\n",
      "Test Loss: 0.3165, Test Accuracy: 90.05%\n",
      "\n"
     ]
    },
    {
     "name": "stderr",
     "output_type": "stream",
     "text": [
      "Epoch 1428: 100%|██████████| 938/938 [00:16<00:00, 55.20batch/s, Train Loss=0.183, Train Acc=92.9]\n"
     ]
    },
    {
     "name": "stdout",
     "output_type": "stream",
     "text": [
      "Epoch 1428\n",
      "Train Loss: 0.1828, Train Accuracy: 92.91%\n",
      "Test Loss: 0.3204, Test Accuracy: 90.16%\n",
      "\n"
     ]
    },
    {
     "name": "stderr",
     "output_type": "stream",
     "text": [
      "Epoch 1429: 100%|██████████| 938/938 [00:17<00:00, 55.04batch/s, Train Loss=0.189, Train Acc=92.7]\n"
     ]
    },
    {
     "name": "stdout",
     "output_type": "stream",
     "text": [
      "Epoch 1429\n",
      "Train Loss: 0.1885, Train Accuracy: 92.75%\n",
      "Test Loss: 0.3095, Test Accuracy: 90.44%\n",
      "\n"
     ]
    },
    {
     "name": "stderr",
     "output_type": "stream",
     "text": [
      "Epoch 1430: 100%|██████████| 938/938 [00:16<00:00, 55.33batch/s, Train Loss=0.183, Train Acc=93]  \n"
     ]
    },
    {
     "name": "stdout",
     "output_type": "stream",
     "text": [
      "Epoch 1430\n",
      "Train Loss: 0.1830, Train Accuracy: 92.98%\n",
      "Test Loss: 0.3166, Test Accuracy: 90.28%\n",
      "\n"
     ]
    },
    {
     "name": "stderr",
     "output_type": "stream",
     "text": [
      "Epoch 1431: 100%|██████████| 938/938 [00:17<00:00, 54.86batch/s, Train Loss=0.187, Train Acc=92.8]\n"
     ]
    },
    {
     "name": "stdout",
     "output_type": "stream",
     "text": [
      "Epoch 1431\n",
      "Train Loss: 0.1871, Train Accuracy: 92.84%\n",
      "Test Loss: 0.3141, Test Accuracy: 90.33%\n",
      "\n"
     ]
    },
    {
     "name": "stderr",
     "output_type": "stream",
     "text": [
      "Epoch 1432: 100%|██████████| 938/938 [00:16<00:00, 55.23batch/s, Train Loss=0.183, Train Acc=93]  \n"
     ]
    },
    {
     "name": "stdout",
     "output_type": "stream",
     "text": [
      "Epoch 1432\n",
      "Train Loss: 0.1829, Train Accuracy: 92.97%\n",
      "Test Loss: 0.3122, Test Accuracy: 90.20%\n",
      "\n"
     ]
    },
    {
     "name": "stderr",
     "output_type": "stream",
     "text": [
      "Epoch 1433: 100%|██████████| 938/938 [00:16<00:00, 55.19batch/s, Train Loss=0.187, Train Acc=92.9]\n"
     ]
    },
    {
     "name": "stdout",
     "output_type": "stream",
     "text": [
      "Epoch 1433\n",
      "Train Loss: 0.1868, Train Accuracy: 92.94%\n",
      "Test Loss: 0.3238, Test Accuracy: 89.98%\n",
      "\n"
     ]
    },
    {
     "name": "stderr",
     "output_type": "stream",
     "text": [
      "Epoch 1434: 100%|██████████| 938/938 [00:17<00:00, 55.15batch/s, Train Loss=0.185, Train Acc=92.9]\n"
     ]
    },
    {
     "name": "stdout",
     "output_type": "stream",
     "text": [
      "Epoch 1434\n",
      "Train Loss: 0.1854, Train Accuracy: 92.90%\n",
      "Test Loss: 0.3074, Test Accuracy: 90.18%\n",
      "\n"
     ]
    },
    {
     "name": "stderr",
     "output_type": "stream",
     "text": [
      "Epoch 1435: 100%|██████████| 938/938 [00:17<00:00, 55.03batch/s, Train Loss=0.187, Train Acc=92.9]\n"
     ]
    },
    {
     "name": "stdout",
     "output_type": "stream",
     "text": [
      "Epoch 1435\n",
      "Train Loss: 0.1868, Train Accuracy: 92.86%\n",
      "Test Loss: 0.3053, Test Accuracy: 90.01%\n",
      "\n"
     ]
    },
    {
     "name": "stderr",
     "output_type": "stream",
     "text": [
      "Epoch 1436: 100%|██████████| 938/938 [00:17<00:00, 55.03batch/s, Train Loss=0.184, Train Acc=92.9]\n"
     ]
    },
    {
     "name": "stdout",
     "output_type": "stream",
     "text": [
      "Epoch 1436\n",
      "Train Loss: 0.1840, Train Accuracy: 92.93%\n",
      "Test Loss: 0.3190, Test Accuracy: 90.12%\n",
      "\n"
     ]
    },
    {
     "name": "stderr",
     "output_type": "stream",
     "text": [
      "Epoch 1437: 100%|██████████| 938/938 [00:16<00:00, 55.36batch/s, Train Loss=0.187, Train Acc=92.8]\n"
     ]
    },
    {
     "name": "stdout",
     "output_type": "stream",
     "text": [
      "Epoch 1437\n",
      "Train Loss: 0.1872, Train Accuracy: 92.83%\n",
      "Test Loss: 0.3126, Test Accuracy: 90.14%\n",
      "\n"
     ]
    },
    {
     "name": "stderr",
     "output_type": "stream",
     "text": [
      "Epoch 1438: 100%|██████████| 938/938 [00:17<00:00, 55.09batch/s, Train Loss=0.184, Train Acc=93]  \n"
     ]
    },
    {
     "name": "stdout",
     "output_type": "stream",
     "text": [
      "Epoch 1438\n",
      "Train Loss: 0.1843, Train Accuracy: 93.00%\n",
      "Test Loss: 0.3087, Test Accuracy: 90.22%\n",
      "\n"
     ]
    },
    {
     "name": "stderr",
     "output_type": "stream",
     "text": [
      "Epoch 1439: 100%|██████████| 938/938 [00:17<00:00, 55.09batch/s, Train Loss=0.185, Train Acc=93]  \n"
     ]
    },
    {
     "name": "stdout",
     "output_type": "stream",
     "text": [
      "Epoch 1439\n",
      "Train Loss: 0.1846, Train Accuracy: 92.95%\n",
      "Test Loss: 0.3116, Test Accuracy: 90.18%\n",
      "\n"
     ]
    },
    {
     "name": "stderr",
     "output_type": "stream",
     "text": [
      "Epoch 1440: 100%|██████████| 938/938 [00:17<00:00, 55.11batch/s, Train Loss=0.184, Train Acc=93]  \n"
     ]
    },
    {
     "name": "stdout",
     "output_type": "stream",
     "text": [
      "Epoch 1440\n",
      "Train Loss: 0.1837, Train Accuracy: 93.00%\n",
      "Test Loss: 0.3116, Test Accuracy: 90.29%\n",
      "\n"
     ]
    },
    {
     "name": "stderr",
     "output_type": "stream",
     "text": [
      "Epoch 1441: 100%|██████████| 938/938 [00:16<00:00, 55.24batch/s, Train Loss=0.185, Train Acc=92.8]\n"
     ]
    },
    {
     "name": "stdout",
     "output_type": "stream",
     "text": [
      "Epoch 1441\n",
      "Train Loss: 0.1853, Train Accuracy: 92.76%\n",
      "Test Loss: 0.3102, Test Accuracy: 90.21%\n",
      "\n"
     ]
    },
    {
     "name": "stderr",
     "output_type": "stream",
     "text": [
      "Epoch 1442: 100%|██████████| 938/938 [00:16<00:00, 55.20batch/s, Train Loss=0.183, Train Acc=93.1]\n"
     ]
    },
    {
     "name": "stdout",
     "output_type": "stream",
     "text": [
      "Epoch 1442\n",
      "Train Loss: 0.1834, Train Accuracy: 93.08%\n",
      "Test Loss: 0.3058, Test Accuracy: 90.02%\n",
      "\n"
     ]
    },
    {
     "name": "stderr",
     "output_type": "stream",
     "text": [
      "Epoch 1443: 100%|██████████| 938/938 [00:17<00:00, 55.14batch/s, Train Loss=0.183, Train Acc=93]  \n"
     ]
    },
    {
     "name": "stdout",
     "output_type": "stream",
     "text": [
      "Epoch 1443\n",
      "Train Loss: 0.1832, Train Accuracy: 92.97%\n",
      "Test Loss: 0.3113, Test Accuracy: 89.83%\n",
      "\n"
     ]
    },
    {
     "name": "stderr",
     "output_type": "stream",
     "text": [
      "Epoch 1444: 100%|██████████| 938/938 [00:16<00:00, 55.20batch/s, Train Loss=0.185, Train Acc=92.9]\n"
     ]
    },
    {
     "name": "stdout",
     "output_type": "stream",
     "text": [
      "Epoch 1444\n",
      "Train Loss: 0.1847, Train Accuracy: 92.92%\n",
      "Test Loss: 0.3099, Test Accuracy: 90.16%\n",
      "\n"
     ]
    },
    {
     "name": "stderr",
     "output_type": "stream",
     "text": [
      "Epoch 1445: 100%|██████████| 938/938 [00:17<00:00, 55.10batch/s, Train Loss=0.183, Train Acc=93]  \n"
     ]
    },
    {
     "name": "stdout",
     "output_type": "stream",
     "text": [
      "Epoch 1445\n",
      "Train Loss: 0.1835, Train Accuracy: 93.01%\n",
      "Test Loss: 0.3152, Test Accuracy: 89.89%\n",
      "\n"
     ]
    },
    {
     "name": "stderr",
     "output_type": "stream",
     "text": [
      "Epoch 1446: 100%|██████████| 938/938 [00:17<00:00, 55.16batch/s, Train Loss=0.184, Train Acc=92.9]\n"
     ]
    },
    {
     "name": "stdout",
     "output_type": "stream",
     "text": [
      "Epoch 1446\n",
      "Train Loss: 0.1838, Train Accuracy: 92.89%\n",
      "Test Loss: 0.3163, Test Accuracy: 89.95%\n",
      "\n"
     ]
    },
    {
     "name": "stderr",
     "output_type": "stream",
     "text": [
      "Epoch 1447: 100%|██████████| 938/938 [00:17<00:00, 55.16batch/s, Train Loss=0.184, Train Acc=93]  \n"
     ]
    },
    {
     "name": "stdout",
     "output_type": "stream",
     "text": [
      "Epoch 1447\n",
      "Train Loss: 0.1844, Train Accuracy: 93.05%\n",
      "Test Loss: 0.3103, Test Accuracy: 90.15%\n",
      "\n"
     ]
    },
    {
     "name": "stderr",
     "output_type": "stream",
     "text": [
      "Epoch 1448: 100%|██████████| 938/938 [00:17<00:00, 55.04batch/s, Train Loss=0.182, Train Acc=93.1]\n"
     ]
    },
    {
     "name": "stdout",
     "output_type": "stream",
     "text": [
      "Epoch 1448\n",
      "Train Loss: 0.1818, Train Accuracy: 93.06%\n",
      "Test Loss: 0.3131, Test Accuracy: 90.11%\n",
      "\n"
     ]
    },
    {
     "name": "stderr",
     "output_type": "stream",
     "text": [
      "Epoch 1449: 100%|██████████| 938/938 [00:17<00:00, 55.10batch/s, Train Loss=0.183, Train Acc=93]  \n"
     ]
    },
    {
     "name": "stdout",
     "output_type": "stream",
     "text": [
      "Epoch 1449\n",
      "Train Loss: 0.1826, Train Accuracy: 93.05%\n",
      "Test Loss: 0.3168, Test Accuracy: 89.90%\n",
      "\n"
     ]
    },
    {
     "name": "stderr",
     "output_type": "stream",
     "text": [
      "Epoch 1450: 100%|██████████| 938/938 [00:17<00:00, 55.16batch/s, Train Loss=0.184, Train Acc=93]  \n"
     ]
    },
    {
     "name": "stdout",
     "output_type": "stream",
     "text": [
      "Epoch 1450\n",
      "Train Loss: 0.1836, Train Accuracy: 92.98%\n",
      "Test Loss: 0.3088, Test Accuracy: 90.32%\n",
      "\n"
     ]
    },
    {
     "name": "stderr",
     "output_type": "stream",
     "text": [
      "Epoch 1451: 100%|██████████| 938/938 [00:17<00:00, 55.06batch/s, Train Loss=0.182, Train Acc=93]  \n"
     ]
    },
    {
     "name": "stdout",
     "output_type": "stream",
     "text": [
      "Epoch 1451\n",
      "Train Loss: 0.1819, Train Accuracy: 92.96%\n",
      "Test Loss: 0.3273, Test Accuracy: 89.77%\n",
      "\n"
     ]
    },
    {
     "name": "stderr",
     "output_type": "stream",
     "text": [
      "Epoch 1452: 100%|██████████| 938/938 [00:16<00:00, 55.24batch/s, Train Loss=0.182, Train Acc=93.1]\n"
     ]
    },
    {
     "name": "stdout",
     "output_type": "stream",
     "text": [
      "Epoch 1452\n",
      "Train Loss: 0.1822, Train Accuracy: 93.08%\n",
      "Test Loss: 0.3224, Test Accuracy: 89.90%\n",
      "\n"
     ]
    },
    {
     "name": "stderr",
     "output_type": "stream",
     "text": [
      "Epoch 1453: 100%|██████████| 938/938 [00:17<00:00, 55.03batch/s, Train Loss=0.179, Train Acc=93.2]\n"
     ]
    },
    {
     "name": "stdout",
     "output_type": "stream",
     "text": [
      "Epoch 1453\n",
      "Train Loss: 0.1794, Train Accuracy: 93.17%\n",
      "Test Loss: 0.3165, Test Accuracy: 89.96%\n",
      "\n"
     ]
    },
    {
     "name": "stderr",
     "output_type": "stream",
     "text": [
      "Epoch 1454: 100%|██████████| 938/938 [00:16<00:00, 55.18batch/s, Train Loss=0.184, Train Acc=92.9]\n"
     ]
    },
    {
     "name": "stdout",
     "output_type": "stream",
     "text": [
      "Epoch 1454\n",
      "Train Loss: 0.1844, Train Accuracy: 92.92%\n",
      "Test Loss: 0.3176, Test Accuracy: 90.20%\n",
      "\n"
     ]
    },
    {
     "name": "stderr",
     "output_type": "stream",
     "text": [
      "Epoch 1455: 100%|██████████| 938/938 [00:17<00:00, 55.12batch/s, Train Loss=0.184, Train Acc=93]  \n"
     ]
    },
    {
     "name": "stdout",
     "output_type": "stream",
     "text": [
      "Epoch 1455\n",
      "Train Loss: 0.1840, Train Accuracy: 92.99%\n",
      "Test Loss: 0.3207, Test Accuracy: 90.02%\n",
      "\n"
     ]
    },
    {
     "name": "stderr",
     "output_type": "stream",
     "text": [
      "Epoch 1456: 100%|██████████| 938/938 [00:17<00:00, 55.15batch/s, Train Loss=0.181, Train Acc=93]  \n"
     ]
    },
    {
     "name": "stdout",
     "output_type": "stream",
     "text": [
      "Epoch 1456\n",
      "Train Loss: 0.1809, Train Accuracy: 93.05%\n",
      "Test Loss: 0.3188, Test Accuracy: 90.51%\n",
      "\n"
     ]
    },
    {
     "name": "stderr",
     "output_type": "stream",
     "text": [
      "Epoch 1457: 100%|██████████| 938/938 [00:16<00:00, 55.26batch/s, Train Loss=0.184, Train Acc=92.9]\n"
     ]
    },
    {
     "name": "stdout",
     "output_type": "stream",
     "text": [
      "Epoch 1457\n",
      "Train Loss: 0.1843, Train Accuracy: 92.87%\n",
      "Test Loss: 0.3193, Test Accuracy: 90.21%\n",
      "\n"
     ]
    },
    {
     "name": "stderr",
     "output_type": "stream",
     "text": [
      "Epoch 1458: 100%|██████████| 938/938 [00:17<00:00, 55.04batch/s, Train Loss=0.181, Train Acc=93.1]\n"
     ]
    },
    {
     "name": "stdout",
     "output_type": "stream",
     "text": [
      "Epoch 1458\n",
      "Train Loss: 0.1811, Train Accuracy: 93.11%\n",
      "Test Loss: 0.3130, Test Accuracy: 90.06%\n",
      "\n"
     ]
    },
    {
     "name": "stderr",
     "output_type": "stream",
     "text": [
      "Epoch 1459: 100%|██████████| 938/938 [00:17<00:00, 55.14batch/s, Train Loss=0.184, Train Acc=92.9]\n"
     ]
    },
    {
     "name": "stdout",
     "output_type": "stream",
     "text": [
      "Epoch 1459\n",
      "Train Loss: 0.1835, Train Accuracy: 92.89%\n",
      "Test Loss: 0.3225, Test Accuracy: 90.19%\n",
      "\n"
     ]
    },
    {
     "name": "stderr",
     "output_type": "stream",
     "text": [
      "Epoch 1460: 100%|██████████| 938/938 [00:17<00:00, 55.08batch/s, Train Loss=0.18, Train Acc=93.1] \n"
     ]
    },
    {
     "name": "stdout",
     "output_type": "stream",
     "text": [
      "Epoch 1460\n",
      "Train Loss: 0.1798, Train Accuracy: 93.07%\n",
      "Test Loss: 0.3231, Test Accuracy: 90.18%\n",
      "\n"
     ]
    },
    {
     "name": "stderr",
     "output_type": "stream",
     "text": [
      "Epoch 1461: 100%|██████████| 938/938 [00:16<00:00, 55.19batch/s, Train Loss=0.185, Train Acc=92.9]\n"
     ]
    },
    {
     "name": "stdout",
     "output_type": "stream",
     "text": [
      "Epoch 1461\n",
      "Train Loss: 0.1851, Train Accuracy: 92.92%\n",
      "Test Loss: 0.3120, Test Accuracy: 90.14%\n",
      "\n"
     ]
    },
    {
     "name": "stderr",
     "output_type": "stream",
     "text": [
      "Epoch 1462: 100%|██████████| 938/938 [00:16<00:00, 55.21batch/s, Train Loss=0.18, Train Acc=93.2] \n"
     ]
    },
    {
     "name": "stdout",
     "output_type": "stream",
     "text": [
      "Epoch 1462\n",
      "Train Loss: 0.1798, Train Accuracy: 93.15%\n",
      "Test Loss: 0.3077, Test Accuracy: 90.26%\n",
      "\n"
     ]
    },
    {
     "name": "stderr",
     "output_type": "stream",
     "text": [
      "Epoch 1463: 100%|██████████| 938/938 [00:17<00:00, 55.12batch/s, Train Loss=0.179, Train Acc=93.1]\n"
     ]
    },
    {
     "name": "stdout",
     "output_type": "stream",
     "text": [
      "Epoch 1463\n",
      "Train Loss: 0.1787, Train Accuracy: 93.15%\n",
      "Test Loss: 0.3020, Test Accuracy: 90.51%\n",
      "\n"
     ]
    },
    {
     "name": "stderr",
     "output_type": "stream",
     "text": [
      "Epoch 1464: 100%|██████████| 938/938 [00:17<00:00, 55.16batch/s, Train Loss=0.181, Train Acc=93.1]\n"
     ]
    },
    {
     "name": "stdout",
     "output_type": "stream",
     "text": [
      "Epoch 1464\n",
      "Train Loss: 0.1815, Train Accuracy: 93.06%\n",
      "Test Loss: 0.3282, Test Accuracy: 89.90%\n",
      "\n"
     ]
    },
    {
     "name": "stderr",
     "output_type": "stream",
     "text": [
      "Epoch 1465: 100%|██████████| 938/938 [00:17<00:00, 55.17batch/s, Train Loss=0.179, Train Acc=93.1]\n"
     ]
    },
    {
     "name": "stdout",
     "output_type": "stream",
     "text": [
      "Epoch 1465\n",
      "Train Loss: 0.1793, Train Accuracy: 93.14%\n",
      "Test Loss: 0.3171, Test Accuracy: 90.30%\n",
      "\n"
     ]
    },
    {
     "name": "stderr",
     "output_type": "stream",
     "text": [
      "Epoch 1466: 100%|██████████| 938/938 [00:17<00:00, 55.03batch/s, Train Loss=0.179, Train Acc=93.1]\n"
     ]
    },
    {
     "name": "stdout",
     "output_type": "stream",
     "text": [
      "Epoch 1466\n",
      "Train Loss: 0.1795, Train Accuracy: 93.09%\n",
      "Test Loss: 0.3252, Test Accuracy: 89.89%\n",
      "\n"
     ]
    },
    {
     "name": "stderr",
     "output_type": "stream",
     "text": [
      "Epoch 1467: 100%|██████████| 938/938 [00:17<00:00, 55.08batch/s, Train Loss=0.18, Train Acc=93.1] \n"
     ]
    },
    {
     "name": "stdout",
     "output_type": "stream",
     "text": [
      "Epoch 1467\n",
      "Train Loss: 0.1799, Train Accuracy: 93.12%\n",
      "Test Loss: 0.3197, Test Accuracy: 90.07%\n",
      "\n"
     ]
    },
    {
     "name": "stderr",
     "output_type": "stream",
     "text": [
      "Epoch 1468: 100%|██████████| 938/938 [00:17<00:00, 55.03batch/s, Train Loss=0.182, Train Acc=93]  \n"
     ]
    },
    {
     "name": "stdout",
     "output_type": "stream",
     "text": [
      "Epoch 1468\n",
      "Train Loss: 0.1820, Train Accuracy: 92.99%\n",
      "Test Loss: 0.3187, Test Accuracy: 89.95%\n",
      "\n"
     ]
    },
    {
     "name": "stderr",
     "output_type": "stream",
     "text": [
      "Epoch 1469: 100%|██████████| 938/938 [00:17<00:00, 55.08batch/s, Train Loss=0.179, Train Acc=93.3]\n"
     ]
    },
    {
     "name": "stdout",
     "output_type": "stream",
     "text": [
      "Epoch 1469\n",
      "Train Loss: 0.1789, Train Accuracy: 93.27%\n",
      "Test Loss: 0.3245, Test Accuracy: 89.78%\n",
      "\n"
     ]
    },
    {
     "name": "stderr",
     "output_type": "stream",
     "text": [
      "Epoch 1470: 100%|██████████| 938/938 [00:17<00:00, 54.96batch/s, Train Loss=0.18, Train Acc=93.1] \n"
     ]
    },
    {
     "name": "stdout",
     "output_type": "stream",
     "text": [
      "Epoch 1470\n",
      "Train Loss: 0.1798, Train Accuracy: 93.08%\n",
      "Test Loss: 0.3195, Test Accuracy: 90.43%\n",
      "\n"
     ]
    },
    {
     "name": "stderr",
     "output_type": "stream",
     "text": [
      "Epoch 1471: 100%|██████████| 938/938 [00:17<00:00, 55.10batch/s, Train Loss=0.18, Train Acc=93]   \n"
     ]
    },
    {
     "name": "stdout",
     "output_type": "stream",
     "text": [
      "Epoch 1471\n",
      "Train Loss: 0.1795, Train Accuracy: 92.96%\n",
      "Test Loss: 0.3178, Test Accuracy: 90.55%\n",
      "\n"
     ]
    },
    {
     "name": "stderr",
     "output_type": "stream",
     "text": [
      "Epoch 1472: 100%|██████████| 938/938 [00:17<00:00, 55.07batch/s, Train Loss=0.18, Train Acc=93]   \n"
     ]
    },
    {
     "name": "stdout",
     "output_type": "stream",
     "text": [
      "Epoch 1472\n",
      "Train Loss: 0.1798, Train Accuracy: 93.05%\n",
      "Test Loss: 0.3173, Test Accuracy: 90.00%\n",
      "\n"
     ]
    },
    {
     "name": "stderr",
     "output_type": "stream",
     "text": [
      "Epoch 1473: 100%|██████████| 938/938 [00:17<00:00, 55.16batch/s, Train Loss=0.181, Train Acc=93.1]\n"
     ]
    },
    {
     "name": "stdout",
     "output_type": "stream",
     "text": [
      "Epoch 1473\n",
      "Train Loss: 0.1807, Train Accuracy: 93.14%\n",
      "Test Loss: 0.3135, Test Accuracy: 90.27%\n",
      "\n"
     ]
    },
    {
     "name": "stderr",
     "output_type": "stream",
     "text": [
      "Epoch 1474: 100%|██████████| 938/938 [00:17<00:00, 55.13batch/s, Train Loss=0.182, Train Acc=92.9]\n"
     ]
    },
    {
     "name": "stdout",
     "output_type": "stream",
     "text": [
      "Epoch 1474\n",
      "Train Loss: 0.1817, Train Accuracy: 92.86%\n",
      "Test Loss: 0.3132, Test Accuracy: 90.42%\n",
      "\n"
     ]
    },
    {
     "name": "stderr",
     "output_type": "stream",
     "text": [
      "Epoch 1475: 100%|██████████| 938/938 [00:16<00:00, 55.18batch/s, Train Loss=0.179, Train Acc=93.1]\n"
     ]
    },
    {
     "name": "stdout",
     "output_type": "stream",
     "text": [
      "Epoch 1475\n",
      "Train Loss: 0.1788, Train Accuracy: 93.12%\n",
      "Test Loss: 0.3158, Test Accuracy: 90.08%\n",
      "\n"
     ]
    },
    {
     "name": "stderr",
     "output_type": "stream",
     "text": [
      "Epoch 1476: 100%|██████████| 938/938 [00:16<00:00, 55.24batch/s, Train Loss=0.178, Train Acc=93.2]\n"
     ]
    },
    {
     "name": "stdout",
     "output_type": "stream",
     "text": [
      "Epoch 1476\n",
      "Train Loss: 0.1781, Train Accuracy: 93.23%\n",
      "Test Loss: 0.3141, Test Accuracy: 90.34%\n",
      "\n"
     ]
    },
    {
     "name": "stderr",
     "output_type": "stream",
     "text": [
      "Epoch 1477: 100%|██████████| 938/938 [00:17<00:00, 55.09batch/s, Train Loss=0.177, Train Acc=93.2]\n"
     ]
    },
    {
     "name": "stdout",
     "output_type": "stream",
     "text": [
      "Epoch 1477\n",
      "Train Loss: 0.1766, Train Accuracy: 93.25%\n",
      "Test Loss: 0.3190, Test Accuracy: 90.41%\n",
      "\n"
     ]
    },
    {
     "name": "stderr",
     "output_type": "stream",
     "text": [
      "Epoch 1478: 100%|██████████| 938/938 [00:17<00:00, 55.10batch/s, Train Loss=0.179, Train Acc=93.1]\n"
     ]
    },
    {
     "name": "stdout",
     "output_type": "stream",
     "text": [
      "Epoch 1478\n",
      "Train Loss: 0.1788, Train Accuracy: 93.15%\n",
      "Test Loss: 0.3166, Test Accuracy: 90.00%\n",
      "\n"
     ]
    },
    {
     "name": "stderr",
     "output_type": "stream",
     "text": [
      "Epoch 1479: 100%|██████████| 938/938 [00:17<00:00, 55.10batch/s, Train Loss=0.18, Train Acc=93.2] \n"
     ]
    },
    {
     "name": "stdout",
     "output_type": "stream",
     "text": [
      "Epoch 1479\n",
      "Train Loss: 0.1798, Train Accuracy: 93.18%\n",
      "Test Loss: 0.3123, Test Accuracy: 90.00%\n",
      "\n"
     ]
    },
    {
     "name": "stderr",
     "output_type": "stream",
     "text": [
      "Epoch 1480: 100%|██████████| 938/938 [00:17<00:00, 55.06batch/s, Train Loss=0.177, Train Acc=93.2]\n"
     ]
    },
    {
     "name": "stdout",
     "output_type": "stream",
     "text": [
      "Epoch 1480\n",
      "Train Loss: 0.1770, Train Accuracy: 93.20%\n",
      "Test Loss: 0.3307, Test Accuracy: 89.90%\n",
      "\n"
     ]
    },
    {
     "name": "stderr",
     "output_type": "stream",
     "text": [
      "Epoch 1481: 100%|██████████| 938/938 [00:17<00:00, 55.17batch/s, Train Loss=0.178, Train Acc=93.2]\n"
     ]
    },
    {
     "name": "stdout",
     "output_type": "stream",
     "text": [
      "Epoch 1481\n",
      "Train Loss: 0.1780, Train Accuracy: 93.20%\n",
      "Test Loss: 0.3130, Test Accuracy: 90.34%\n",
      "\n"
     ]
    },
    {
     "name": "stderr",
     "output_type": "stream",
     "text": [
      "Epoch 1482: 100%|██████████| 938/938 [00:16<00:00, 55.22batch/s, Train Loss=0.176, Train Acc=93.3]\n"
     ]
    },
    {
     "name": "stdout",
     "output_type": "stream",
     "text": [
      "Epoch 1482\n",
      "Train Loss: 0.1758, Train Accuracy: 93.31%\n",
      "Test Loss: 0.3195, Test Accuracy: 90.17%\n",
      "\n"
     ]
    },
    {
     "name": "stderr",
     "output_type": "stream",
     "text": [
      "Epoch 1483: 100%|██████████| 938/938 [00:17<00:00, 55.11batch/s, Train Loss=0.174, Train Acc=93.3]\n"
     ]
    },
    {
     "name": "stdout",
     "output_type": "stream",
     "text": [
      "Epoch 1483\n",
      "Train Loss: 0.1742, Train Accuracy: 93.27%\n",
      "Test Loss: 0.3173, Test Accuracy: 90.04%\n",
      "\n"
     ]
    },
    {
     "name": "stderr",
     "output_type": "stream",
     "text": [
      "Epoch 1484: 100%|██████████| 938/938 [00:17<00:00, 55.13batch/s, Train Loss=0.176, Train Acc=93.3]\n"
     ]
    },
    {
     "name": "stdout",
     "output_type": "stream",
     "text": [
      "Epoch 1484\n",
      "Train Loss: 0.1756, Train Accuracy: 93.33%\n",
      "Test Loss: 0.3186, Test Accuracy: 90.02%\n",
      "\n"
     ]
    },
    {
     "name": "stderr",
     "output_type": "stream",
     "text": [
      "Epoch 1485: 100%|██████████| 938/938 [00:17<00:00, 55.02batch/s, Train Loss=0.175, Train Acc=93.2]\n"
     ]
    },
    {
     "name": "stdout",
     "output_type": "stream",
     "text": [
      "Epoch 1485\n",
      "Train Loss: 0.1749, Train Accuracy: 93.22%\n",
      "Test Loss: 0.3222, Test Accuracy: 89.75%\n",
      "\n"
     ]
    },
    {
     "name": "stderr",
     "output_type": "stream",
     "text": [
      "Epoch 1486: 100%|██████████| 938/938 [00:17<00:00, 55.08batch/s, Train Loss=0.175, Train Acc=93.3]\n"
     ]
    },
    {
     "name": "stdout",
     "output_type": "stream",
     "text": [
      "Epoch 1486\n",
      "Train Loss: 0.1751, Train Accuracy: 93.31%\n",
      "Test Loss: 0.3160, Test Accuracy: 89.94%\n",
      "\n"
     ]
    },
    {
     "name": "stderr",
     "output_type": "stream",
     "text": [
      "Epoch 1487: 100%|██████████| 938/938 [00:17<00:00, 55.09batch/s, Train Loss=0.177, Train Acc=93.2]\n"
     ]
    },
    {
     "name": "stdout",
     "output_type": "stream",
     "text": [
      "Epoch 1487\n",
      "Train Loss: 0.1773, Train Accuracy: 93.15%\n",
      "Test Loss: 0.3176, Test Accuracy: 90.21%\n",
      "\n"
     ]
    },
    {
     "name": "stderr",
     "output_type": "stream",
     "text": [
      "Epoch 1488: 100%|██████████| 938/938 [00:17<00:00, 55.10batch/s, Train Loss=0.179, Train Acc=93.1]\n"
     ]
    },
    {
     "name": "stdout",
     "output_type": "stream",
     "text": [
      "Epoch 1488\n",
      "Train Loss: 0.1791, Train Accuracy: 93.12%\n",
      "Test Loss: 0.3083, Test Accuracy: 90.12%\n",
      "\n"
     ]
    },
    {
     "name": "stderr",
     "output_type": "stream",
     "text": [
      "Epoch 1489: 100%|██████████| 938/938 [00:17<00:00, 55.15batch/s, Train Loss=0.177, Train Acc=93.2]\n"
     ]
    },
    {
     "name": "stdout",
     "output_type": "stream",
     "text": [
      "Epoch 1489\n",
      "Train Loss: 0.1768, Train Accuracy: 93.24%\n",
      "Test Loss: 0.3055, Test Accuracy: 90.49%\n",
      "\n"
     ]
    },
    {
     "name": "stderr",
     "output_type": "stream",
     "text": [
      "Epoch 1490: 100%|██████████| 938/938 [00:17<00:00, 55.06batch/s, Train Loss=0.174, Train Acc=93.3]\n"
     ]
    },
    {
     "name": "stdout",
     "output_type": "stream",
     "text": [
      "Epoch 1490\n",
      "Train Loss: 0.1740, Train Accuracy: 93.35%\n",
      "Test Loss: 0.3095, Test Accuracy: 90.26%\n",
      "\n"
     ]
    },
    {
     "name": "stderr",
     "output_type": "stream",
     "text": [
      "Epoch 1491: 100%|██████████| 938/938 [00:17<00:00, 55.12batch/s, Train Loss=0.178, Train Acc=93.2]\n"
     ]
    },
    {
     "name": "stdout",
     "output_type": "stream",
     "text": [
      "Epoch 1491\n",
      "Train Loss: 0.1779, Train Accuracy: 93.22%\n",
      "Test Loss: 0.3264, Test Accuracy: 90.14%\n",
      "\n"
     ]
    },
    {
     "name": "stderr",
     "output_type": "stream",
     "text": [
      "Epoch 1492: 100%|██████████| 938/938 [00:16<00:00, 55.28batch/s, Train Loss=0.177, Train Acc=93.2]\n"
     ]
    },
    {
     "name": "stdout",
     "output_type": "stream",
     "text": [
      "Epoch 1492\n",
      "Train Loss: 0.1767, Train Accuracy: 93.22%\n",
      "Test Loss: 0.3206, Test Accuracy: 90.15%\n",
      "\n"
     ]
    },
    {
     "name": "stderr",
     "output_type": "stream",
     "text": [
      "Epoch 1493: 100%|██████████| 938/938 [00:16<00:00, 55.19batch/s, Train Loss=0.175, Train Acc=93.3]\n"
     ]
    },
    {
     "name": "stdout",
     "output_type": "stream",
     "text": [
      "Epoch 1493\n",
      "Train Loss: 0.1747, Train Accuracy: 93.30%\n",
      "Test Loss: 0.3285, Test Accuracy: 89.86%\n",
      "\n"
     ]
    },
    {
     "name": "stderr",
     "output_type": "stream",
     "text": [
      "Epoch 1494: 100%|██████████| 938/938 [00:16<00:00, 55.20batch/s, Train Loss=0.174, Train Acc=93.3]\n"
     ]
    },
    {
     "name": "stdout",
     "output_type": "stream",
     "text": [
      "Epoch 1494\n",
      "Train Loss: 0.1737, Train Accuracy: 93.33%\n",
      "Test Loss: 0.3241, Test Accuracy: 90.33%\n",
      "\n"
     ]
    },
    {
     "name": "stderr",
     "output_type": "stream",
     "text": [
      "Epoch 1495: 100%|██████████| 938/938 [00:17<00:00, 55.17batch/s, Train Loss=0.178, Train Acc=93.2]\n"
     ]
    },
    {
     "name": "stdout",
     "output_type": "stream",
     "text": [
      "Epoch 1495\n",
      "Train Loss: 0.1784, Train Accuracy: 93.19%\n",
      "Test Loss: 0.3257, Test Accuracy: 90.22%\n",
      "\n"
     ]
    },
    {
     "name": "stderr",
     "output_type": "stream",
     "text": [
      "Epoch 1496: 100%|██████████| 938/938 [00:17<00:00, 55.09batch/s, Train Loss=0.175, Train Acc=93.3]\n"
     ]
    },
    {
     "name": "stdout",
     "output_type": "stream",
     "text": [
      "Epoch 1496\n",
      "Train Loss: 0.1750, Train Accuracy: 93.28%\n",
      "Test Loss: 0.3248, Test Accuracy: 89.92%\n",
      "\n"
     ]
    },
    {
     "name": "stderr",
     "output_type": "stream",
     "text": [
      "Epoch 1497: 100%|██████████| 938/938 [00:17<00:00, 55.08batch/s, Train Loss=0.176, Train Acc=93.2]\n"
     ]
    },
    {
     "name": "stdout",
     "output_type": "stream",
     "text": [
      "Epoch 1497\n",
      "Train Loss: 0.1765, Train Accuracy: 93.17%\n",
      "Test Loss: 0.3136, Test Accuracy: 90.51%\n",
      "\n"
     ]
    },
    {
     "name": "stderr",
     "output_type": "stream",
     "text": [
      "Epoch 1498: 100%|██████████| 938/938 [00:16<00:00, 55.19batch/s, Train Loss=0.175, Train Acc=93.3]\n"
     ]
    },
    {
     "name": "stdout",
     "output_type": "stream",
     "text": [
      "Epoch 1498\n",
      "Train Loss: 0.1749, Train Accuracy: 93.26%\n",
      "Test Loss: 0.3226, Test Accuracy: 90.33%\n",
      "\n"
     ]
    },
    {
     "name": "stderr",
     "output_type": "stream",
     "text": [
      "Epoch 1499: 100%|██████████| 938/938 [00:16<00:00, 55.25batch/s, Train Loss=0.177, Train Acc=93.2]\n"
     ]
    },
    {
     "name": "stdout",
     "output_type": "stream",
     "text": [
      "Epoch 1499\n",
      "Train Loss: 0.1772, Train Accuracy: 93.17%\n",
      "Test Loss: 0.3193, Test Accuracy: 90.15%\n",
      "\n"
     ]
    },
    {
     "name": "stderr",
     "output_type": "stream",
     "text": [
      "Epoch 1500: 100%|██████████| 938/938 [00:16<00:00, 55.29batch/s, Train Loss=0.173, Train Acc=93.4]\n"
     ]
    },
    {
     "name": "stdout",
     "output_type": "stream",
     "text": [
      "Epoch 1500\n",
      "Train Loss: 0.1730, Train Accuracy: 93.36%\n",
      "Test Loss: 0.3250, Test Accuracy: 90.50%\n",
      "\n"
     ]
    },
    {
     "name": "stderr",
     "output_type": "stream",
     "text": [
      "Epoch 1501: 100%|██████████| 938/938 [00:17<00:00, 55.02batch/s, Train Loss=0.178, Train Acc=93.3]\n"
     ]
    },
    {
     "name": "stdout",
     "output_type": "stream",
     "text": [
      "Epoch 1501\n",
      "Train Loss: 0.1776, Train Accuracy: 93.29%\n",
      "Test Loss: 0.3154, Test Accuracy: 90.57%\n",
      "\n"
     ]
    },
    {
     "name": "stderr",
     "output_type": "stream",
     "text": [
      "Epoch 1502: 100%|██████████| 938/938 [00:16<00:00, 55.24batch/s, Train Loss=0.172, Train Acc=93.3]\n"
     ]
    },
    {
     "name": "stdout",
     "output_type": "stream",
     "text": [
      "Epoch 1502\n",
      "Train Loss: 0.1723, Train Accuracy: 93.30%\n",
      "Test Loss: 0.3233, Test Accuracy: 90.48%\n",
      "\n"
     ]
    },
    {
     "name": "stderr",
     "output_type": "stream",
     "text": [
      "Epoch 1503: 100%|██████████| 938/938 [00:17<00:00, 55.14batch/s, Train Loss=0.173, Train Acc=93.3]\n"
     ]
    },
    {
     "name": "stdout",
     "output_type": "stream",
     "text": [
      "Epoch 1503\n",
      "Train Loss: 0.1727, Train Accuracy: 93.35%\n",
      "Test Loss: 0.3188, Test Accuracy: 90.30%\n",
      "\n"
     ]
    },
    {
     "name": "stderr",
     "output_type": "stream",
     "text": [
      "Epoch 1504: 100%|██████████| 938/938 [00:17<00:00, 55.09batch/s, Train Loss=0.175, Train Acc=93.2]\n"
     ]
    },
    {
     "name": "stdout",
     "output_type": "stream",
     "text": [
      "Epoch 1504\n",
      "Train Loss: 0.1754, Train Accuracy: 93.24%\n",
      "Test Loss: 0.3255, Test Accuracy: 90.21%\n",
      "\n"
     ]
    },
    {
     "name": "stderr",
     "output_type": "stream",
     "text": [
      "Epoch 1505: 100%|██████████| 938/938 [00:17<00:00, 54.99batch/s, Train Loss=0.175, Train Acc=93.3]\n"
     ]
    },
    {
     "name": "stdout",
     "output_type": "stream",
     "text": [
      "Epoch 1505\n",
      "Train Loss: 0.1751, Train Accuracy: 93.35%\n",
      "Test Loss: 0.3490, Test Accuracy: 89.83%\n",
      "\n"
     ]
    },
    {
     "name": "stderr",
     "output_type": "stream",
     "text": [
      "Epoch 1506: 100%|██████████| 938/938 [00:17<00:00, 55.07batch/s, Train Loss=0.173, Train Acc=93.4]\n"
     ]
    },
    {
     "name": "stdout",
     "output_type": "stream",
     "text": [
      "Epoch 1506\n",
      "Train Loss: 0.1732, Train Accuracy: 93.37%\n",
      "Test Loss: 0.3407, Test Accuracy: 89.91%\n",
      "\n"
     ]
    },
    {
     "name": "stderr",
     "output_type": "stream",
     "text": [
      "Epoch 1507: 100%|██████████| 938/938 [00:16<00:00, 55.19batch/s, Train Loss=0.173, Train Acc=93.4]\n"
     ]
    },
    {
     "name": "stdout",
     "output_type": "stream",
     "text": [
      "Epoch 1507\n",
      "Train Loss: 0.1727, Train Accuracy: 93.40%\n",
      "Test Loss: 0.3341, Test Accuracy: 90.39%\n",
      "\n"
     ]
    },
    {
     "name": "stderr",
     "output_type": "stream",
     "text": [
      "Epoch 1508: 100%|██████████| 938/938 [00:17<00:00, 55.09batch/s, Train Loss=0.175, Train Acc=93.3]\n"
     ]
    },
    {
     "name": "stdout",
     "output_type": "stream",
     "text": [
      "Epoch 1508\n",
      "Train Loss: 0.1753, Train Accuracy: 93.32%\n",
      "Test Loss: 0.3282, Test Accuracy: 90.47%\n",
      "\n"
     ]
    },
    {
     "name": "stderr",
     "output_type": "stream",
     "text": [
      "Epoch 1509: 100%|██████████| 938/938 [00:17<00:00, 55.00batch/s, Train Loss=0.174, Train Acc=93.3]\n"
     ]
    },
    {
     "name": "stdout",
     "output_type": "stream",
     "text": [
      "Epoch 1509\n",
      "Train Loss: 0.1745, Train Accuracy: 93.27%\n",
      "Test Loss: 0.3250, Test Accuracy: 90.50%\n",
      "\n"
     ]
    },
    {
     "name": "stderr",
     "output_type": "stream",
     "text": [
      "Epoch 1510: 100%|██████████| 938/938 [00:16<00:00, 55.23batch/s, Train Loss=0.172, Train Acc=93.4]\n"
     ]
    },
    {
     "name": "stdout",
     "output_type": "stream",
     "text": [
      "Epoch 1510\n",
      "Train Loss: 0.1722, Train Accuracy: 93.39%\n",
      "Test Loss: 0.3260, Test Accuracy: 90.27%\n",
      "\n"
     ]
    },
    {
     "name": "stderr",
     "output_type": "stream",
     "text": [
      "Epoch 1511: 100%|██████████| 938/938 [00:16<00:00, 55.23batch/s, Train Loss=0.172, Train Acc=93.4]\n"
     ]
    },
    {
     "name": "stdout",
     "output_type": "stream",
     "text": [
      "Epoch 1511\n",
      "Train Loss: 0.1723, Train Accuracy: 93.40%\n",
      "Test Loss: 0.3423, Test Accuracy: 89.97%\n",
      "\n"
     ]
    },
    {
     "name": "stderr",
     "output_type": "stream",
     "text": [
      "Epoch 1512: 100%|██████████| 938/938 [00:16<00:00, 55.19batch/s, Train Loss=0.171, Train Acc=93.5]\n"
     ]
    },
    {
     "name": "stdout",
     "output_type": "stream",
     "text": [
      "Epoch 1512\n",
      "Train Loss: 0.1708, Train Accuracy: 93.46%\n",
      "Test Loss: 0.3235, Test Accuracy: 90.04%\n",
      "\n"
     ]
    },
    {
     "name": "stderr",
     "output_type": "stream",
     "text": [
      "Epoch 1513: 100%|██████████| 938/938 [00:17<00:00, 55.05batch/s, Train Loss=0.175, Train Acc=93.3]\n"
     ]
    },
    {
     "name": "stdout",
     "output_type": "stream",
     "text": [
      "Epoch 1513\n",
      "Train Loss: 0.1753, Train Accuracy: 93.27%\n",
      "Test Loss: 0.3260, Test Accuracy: 90.38%\n",
      "\n"
     ]
    },
    {
     "name": "stderr",
     "output_type": "stream",
     "text": [
      "Epoch 1514: 100%|██████████| 938/938 [00:17<00:00, 55.12batch/s, Train Loss=0.173, Train Acc=93.3]\n"
     ]
    },
    {
     "name": "stdout",
     "output_type": "stream",
     "text": [
      "Epoch 1514\n",
      "Train Loss: 0.1733, Train Accuracy: 93.30%\n",
      "Test Loss: 0.3276, Test Accuracy: 90.26%\n",
      "\n"
     ]
    },
    {
     "name": "stderr",
     "output_type": "stream",
     "text": [
      "Epoch 1515: 100%|██████████| 938/938 [00:17<00:00, 54.93batch/s, Train Loss=0.169, Train Acc=93.5]\n"
     ]
    },
    {
     "name": "stdout",
     "output_type": "stream",
     "text": [
      "Epoch 1515\n",
      "Train Loss: 0.1690, Train Accuracy: 93.47%\n",
      "Test Loss: 0.3345, Test Accuracy: 90.42%\n",
      "\n"
     ]
    },
    {
     "name": "stderr",
     "output_type": "stream",
     "text": [
      "Epoch 1516: 100%|██████████| 938/938 [00:16<00:00, 55.22batch/s, Train Loss=0.172, Train Acc=93.5]\n"
     ]
    },
    {
     "name": "stdout",
     "output_type": "stream",
     "text": [
      "Epoch 1516\n",
      "Train Loss: 0.1720, Train Accuracy: 93.54%\n",
      "Test Loss: 0.3354, Test Accuracy: 90.46%\n",
      "\n"
     ]
    },
    {
     "name": "stderr",
     "output_type": "stream",
     "text": [
      "Epoch 1517: 100%|██████████| 938/938 [00:17<00:00, 55.12batch/s, Train Loss=0.174, Train Acc=93.4]\n"
     ]
    },
    {
     "name": "stdout",
     "output_type": "stream",
     "text": [
      "Epoch 1517\n",
      "Train Loss: 0.1739, Train Accuracy: 93.40%\n",
      "Test Loss: 0.3350, Test Accuracy: 90.60%\n",
      "\n"
     ]
    },
    {
     "name": "stderr",
     "output_type": "stream",
     "text": [
      "Epoch 1518: 100%|██████████| 938/938 [00:16<00:00, 55.19batch/s, Train Loss=0.173, Train Acc=93.3]\n"
     ]
    },
    {
     "name": "stdout",
     "output_type": "stream",
     "text": [
      "Epoch 1518\n",
      "Train Loss: 0.1732, Train Accuracy: 93.28%\n",
      "Test Loss: 0.3305, Test Accuracy: 90.40%\n",
      "\n"
     ]
    },
    {
     "name": "stderr",
     "output_type": "stream",
     "text": [
      "Epoch 1519: 100%|██████████| 938/938 [00:17<00:00, 55.05batch/s, Train Loss=0.171, Train Acc=93.5]\n"
     ]
    },
    {
     "name": "stdout",
     "output_type": "stream",
     "text": [
      "Epoch 1519\n",
      "Train Loss: 0.1711, Train Accuracy: 93.51%\n",
      "Test Loss: 0.3380, Test Accuracy: 90.32%\n",
      "\n"
     ]
    },
    {
     "name": "stderr",
     "output_type": "stream",
     "text": [
      "Epoch 1520: 100%|██████████| 938/938 [00:16<00:00, 55.24batch/s, Train Loss=0.175, Train Acc=93.3]\n"
     ]
    },
    {
     "name": "stdout",
     "output_type": "stream",
     "text": [
      "Epoch 1520\n",
      "Train Loss: 0.1748, Train Accuracy: 93.28%\n",
      "Test Loss: 0.3205, Test Accuracy: 90.32%\n",
      "\n"
     ]
    },
    {
     "name": "stderr",
     "output_type": "stream",
     "text": [
      "Epoch 1521: 100%|██████████| 938/938 [00:17<00:00, 55.06batch/s, Train Loss=0.171, Train Acc=93.4]\n"
     ]
    },
    {
     "name": "stdout",
     "output_type": "stream",
     "text": [
      "Epoch 1521\n",
      "Train Loss: 0.1713, Train Accuracy: 93.36%\n",
      "Test Loss: 0.3195, Test Accuracy: 90.29%\n",
      "\n"
     ]
    },
    {
     "name": "stderr",
     "output_type": "stream",
     "text": [
      "Epoch 1522: 100%|██████████| 938/938 [00:16<00:00, 55.19batch/s, Train Loss=0.171, Train Acc=93.5]\n"
     ]
    },
    {
     "name": "stdout",
     "output_type": "stream",
     "text": [
      "Epoch 1522\n",
      "Train Loss: 0.1710, Train Accuracy: 93.46%\n",
      "Test Loss: 0.3215, Test Accuracy: 90.51%\n",
      "\n"
     ]
    },
    {
     "name": "stderr",
     "output_type": "stream",
     "text": [
      "Epoch 1523: 100%|██████████| 938/938 [00:17<00:00, 55.08batch/s, Train Loss=0.171, Train Acc=93.4]\n"
     ]
    },
    {
     "name": "stdout",
     "output_type": "stream",
     "text": [
      "Epoch 1523\n",
      "Train Loss: 0.1711, Train Accuracy: 93.39%\n",
      "Test Loss: 0.3224, Test Accuracy: 90.17%\n",
      "\n"
     ]
    },
    {
     "name": "stderr",
     "output_type": "stream",
     "text": [
      "Epoch 1524: 100%|██████████| 938/938 [00:17<00:00, 55.17batch/s, Train Loss=0.17, Train Acc=93.5] \n"
     ]
    },
    {
     "name": "stdout",
     "output_type": "stream",
     "text": [
      "Epoch 1524\n",
      "Train Loss: 0.1703, Train Accuracy: 93.52%\n",
      "Test Loss: 0.3304, Test Accuracy: 90.38%\n",
      "\n"
     ]
    },
    {
     "name": "stderr",
     "output_type": "stream",
     "text": [
      "Epoch 1525: 100%|██████████| 938/938 [00:17<00:00, 55.16batch/s, Train Loss=0.172, Train Acc=93.4]\n"
     ]
    },
    {
     "name": "stdout",
     "output_type": "stream",
     "text": [
      "Epoch 1525\n",
      "Train Loss: 0.1724, Train Accuracy: 93.40%\n",
      "Test Loss: 0.3333, Test Accuracy: 90.25%\n",
      "\n"
     ]
    },
    {
     "name": "stderr",
     "output_type": "stream",
     "text": [
      "Epoch 1526: 100%|██████████| 938/938 [00:16<00:00, 55.27batch/s, Train Loss=0.172, Train Acc=93.5]\n"
     ]
    },
    {
     "name": "stdout",
     "output_type": "stream",
     "text": [
      "Epoch 1526\n",
      "Train Loss: 0.1721, Train Accuracy: 93.46%\n",
      "Test Loss: 0.3335, Test Accuracy: 90.34%\n",
      "\n"
     ]
    },
    {
     "name": "stderr",
     "output_type": "stream",
     "text": [
      "Epoch 1527: 100%|██████████| 938/938 [00:17<00:00, 55.15batch/s, Train Loss=0.17, Train Acc=93.4] \n"
     ]
    },
    {
     "name": "stdout",
     "output_type": "stream",
     "text": [
      "Epoch 1527\n",
      "Train Loss: 0.1701, Train Accuracy: 93.44%\n",
      "Test Loss: 0.3178, Test Accuracy: 90.50%\n",
      "\n"
     ]
    },
    {
     "name": "stderr",
     "output_type": "stream",
     "text": [
      "Epoch 1528: 100%|██████████| 938/938 [00:17<00:00, 55.05batch/s, Train Loss=0.171, Train Acc=93.5]\n"
     ]
    },
    {
     "name": "stdout",
     "output_type": "stream",
     "text": [
      "Epoch 1528\n",
      "Train Loss: 0.1706, Train Accuracy: 93.47%\n",
      "Test Loss: 0.3170, Test Accuracy: 90.52%\n",
      "\n"
     ]
    },
    {
     "name": "stderr",
     "output_type": "stream",
     "text": [
      "Epoch 1529: 100%|██████████| 938/938 [00:17<00:00, 55.08batch/s, Train Loss=0.172, Train Acc=93.5]\n"
     ]
    },
    {
     "name": "stdout",
     "output_type": "stream",
     "text": [
      "Epoch 1529\n",
      "Train Loss: 0.1723, Train Accuracy: 93.48%\n",
      "Test Loss: 0.3254, Test Accuracy: 90.30%\n",
      "\n"
     ]
    },
    {
     "name": "stderr",
     "output_type": "stream",
     "text": [
      "Epoch 1530: 100%|██████████| 938/938 [00:17<00:00, 55.07batch/s, Train Loss=0.17, Train Acc=93.5] \n"
     ]
    },
    {
     "name": "stdout",
     "output_type": "stream",
     "text": [
      "Epoch 1530\n",
      "Train Loss: 0.1698, Train Accuracy: 93.47%\n",
      "Test Loss: 0.3240, Test Accuracy: 90.43%\n",
      "\n"
     ]
    },
    {
     "name": "stderr",
     "output_type": "stream",
     "text": [
      "Epoch 1531: 100%|██████████| 938/938 [00:17<00:00, 55.16batch/s, Train Loss=0.17, Train Acc=93.5] \n"
     ]
    },
    {
     "name": "stdout",
     "output_type": "stream",
     "text": [
      "Epoch 1531\n",
      "Train Loss: 0.1702, Train Accuracy: 93.52%\n",
      "Test Loss: 0.3274, Test Accuracy: 90.51%\n",
      "\n"
     ]
    },
    {
     "name": "stderr",
     "output_type": "stream",
     "text": [
      "Epoch 1532: 100%|██████████| 938/938 [00:17<00:00, 55.15batch/s, Train Loss=0.171, Train Acc=93.5]\n"
     ]
    },
    {
     "name": "stdout",
     "output_type": "stream",
     "text": [
      "Epoch 1532\n",
      "Train Loss: 0.1712, Train Accuracy: 93.48%\n",
      "Test Loss: 0.3305, Test Accuracy: 90.34%\n",
      "\n"
     ]
    },
    {
     "name": "stderr",
     "output_type": "stream",
     "text": [
      "Epoch 1533: 100%|██████████| 938/938 [00:17<00:00, 55.13batch/s, Train Loss=0.168, Train Acc=93.7]\n"
     ]
    },
    {
     "name": "stdout",
     "output_type": "stream",
     "text": [
      "Epoch 1533\n",
      "Train Loss: 0.1676, Train Accuracy: 93.70%\n",
      "Test Loss: 0.3273, Test Accuracy: 90.30%\n",
      "\n"
     ]
    },
    {
     "name": "stderr",
     "output_type": "stream",
     "text": [
      "Epoch 1534: 100%|██████████| 938/938 [00:17<00:00, 55.10batch/s, Train Loss=0.173, Train Acc=93.4]\n"
     ]
    },
    {
     "name": "stdout",
     "output_type": "stream",
     "text": [
      "Epoch 1534\n",
      "Train Loss: 0.1731, Train Accuracy: 93.39%\n",
      "Test Loss: 0.3294, Test Accuracy: 90.18%\n",
      "\n"
     ]
    },
    {
     "name": "stderr",
     "output_type": "stream",
     "text": [
      "Epoch 1535: 100%|██████████| 938/938 [00:16<00:00, 55.20batch/s, Train Loss=0.172, Train Acc=93.3]\n"
     ]
    },
    {
     "name": "stdout",
     "output_type": "stream",
     "text": [
      "Epoch 1535\n",
      "Train Loss: 0.1716, Train Accuracy: 93.32%\n",
      "Test Loss: 0.3294, Test Accuracy: 90.32%\n",
      "\n"
     ]
    },
    {
     "name": "stderr",
     "output_type": "stream",
     "text": [
      "Epoch 1536: 100%|██████████| 938/938 [00:17<00:00, 55.03batch/s, Train Loss=0.173, Train Acc=93.4]\n"
     ]
    },
    {
     "name": "stdout",
     "output_type": "stream",
     "text": [
      "Epoch 1536\n",
      "Train Loss: 0.1728, Train Accuracy: 93.39%\n",
      "Test Loss: 0.3316, Test Accuracy: 90.35%\n",
      "\n"
     ]
    },
    {
     "name": "stderr",
     "output_type": "stream",
     "text": [
      "Epoch 1537: 100%|██████████| 938/938 [00:17<00:00, 55.17batch/s, Train Loss=0.169, Train Acc=93.5]\n"
     ]
    },
    {
     "name": "stdout",
     "output_type": "stream",
     "text": [
      "Epoch 1537\n",
      "Train Loss: 0.1691, Train Accuracy: 93.50%\n",
      "Test Loss: 0.3298, Test Accuracy: 90.08%\n",
      "\n"
     ]
    },
    {
     "name": "stderr",
     "output_type": "stream",
     "text": [
      "Epoch 1538: 100%|██████████| 938/938 [00:17<00:00, 55.15batch/s, Train Loss=0.17, Train Acc=93.5] \n"
     ]
    },
    {
     "name": "stdout",
     "output_type": "stream",
     "text": [
      "Epoch 1538\n",
      "Train Loss: 0.1704, Train Accuracy: 93.49%\n",
      "Test Loss: 0.3328, Test Accuracy: 90.16%\n",
      "\n"
     ]
    },
    {
     "name": "stderr",
     "output_type": "stream",
     "text": [
      "Epoch 1539: 100%|██████████| 938/938 [00:17<00:00, 55.10batch/s, Train Loss=0.17, Train Acc=93.5] \n"
     ]
    },
    {
     "name": "stdout",
     "output_type": "stream",
     "text": [
      "Epoch 1539\n",
      "Train Loss: 0.1696, Train Accuracy: 93.48%\n",
      "Test Loss: 0.3346, Test Accuracy: 90.35%\n",
      "\n"
     ]
    },
    {
     "name": "stderr",
     "output_type": "stream",
     "text": [
      "Epoch 1540: 100%|██████████| 938/938 [00:17<00:00, 55.00batch/s, Train Loss=0.17, Train Acc=93.3] \n"
     ]
    },
    {
     "name": "stdout",
     "output_type": "stream",
     "text": [
      "Epoch 1540\n",
      "Train Loss: 0.1703, Train Accuracy: 93.32%\n",
      "Test Loss: 0.3230, Test Accuracy: 90.10%\n",
      "\n"
     ]
    },
    {
     "name": "stderr",
     "output_type": "stream",
     "text": [
      "Epoch 1541: 100%|██████████| 938/938 [00:17<00:00, 55.11batch/s, Train Loss=0.168, Train Acc=93.7]\n"
     ]
    },
    {
     "name": "stdout",
     "output_type": "stream",
     "text": [
      "Epoch 1541\n",
      "Train Loss: 0.1683, Train Accuracy: 93.66%\n",
      "Test Loss: 0.3405, Test Accuracy: 90.08%\n",
      "\n"
     ]
    },
    {
     "name": "stderr",
     "output_type": "stream",
     "text": [
      "Epoch 1542: 100%|██████████| 938/938 [00:17<00:00, 55.14batch/s, Train Loss=0.171, Train Acc=93.3]\n"
     ]
    },
    {
     "name": "stdout",
     "output_type": "stream",
     "text": [
      "Epoch 1542\n",
      "Train Loss: 0.1711, Train Accuracy: 93.32%\n",
      "Test Loss: 0.3297, Test Accuracy: 90.39%\n",
      "\n"
     ]
    },
    {
     "name": "stderr",
     "output_type": "stream",
     "text": [
      "Epoch 1543: 100%|██████████| 938/938 [00:16<00:00, 55.18batch/s, Train Loss=0.166, Train Acc=93.6]\n"
     ]
    },
    {
     "name": "stdout",
     "output_type": "stream",
     "text": [
      "Epoch 1543\n",
      "Train Loss: 0.1658, Train Accuracy: 93.61%\n",
      "Test Loss: 0.3385, Test Accuracy: 90.00%\n",
      "\n"
     ]
    },
    {
     "name": "stderr",
     "output_type": "stream",
     "text": [
      "Epoch 1544: 100%|██████████| 938/938 [00:17<00:00, 55.11batch/s, Train Loss=0.169, Train Acc=93.5]\n"
     ]
    },
    {
     "name": "stdout",
     "output_type": "stream",
     "text": [
      "Epoch 1544\n",
      "Train Loss: 0.1687, Train Accuracy: 93.51%\n",
      "Test Loss: 0.3202, Test Accuracy: 90.54%\n",
      "\n"
     ]
    },
    {
     "name": "stderr",
     "output_type": "stream",
     "text": [
      "Epoch 1545: 100%|██████████| 938/938 [00:17<00:00, 55.02batch/s, Train Loss=0.167, Train Acc=93.6]\n"
     ]
    },
    {
     "name": "stdout",
     "output_type": "stream",
     "text": [
      "Epoch 1545\n",
      "Train Loss: 0.1672, Train Accuracy: 93.61%\n",
      "Test Loss: 0.3310, Test Accuracy: 90.36%\n",
      "\n"
     ]
    },
    {
     "name": "stderr",
     "output_type": "stream",
     "text": [
      "Epoch 1546: 100%|██████████| 938/938 [00:16<00:00, 55.22batch/s, Train Loss=0.171, Train Acc=93.4]\n"
     ]
    },
    {
     "name": "stdout",
     "output_type": "stream",
     "text": [
      "Epoch 1546\n",
      "Train Loss: 0.1711, Train Accuracy: 93.44%\n",
      "Test Loss: 0.3287, Test Accuracy: 90.17%\n",
      "\n"
     ]
    },
    {
     "name": "stderr",
     "output_type": "stream",
     "text": [
      "Epoch 1547: 100%|██████████| 938/938 [00:17<00:00, 55.13batch/s, Train Loss=0.167, Train Acc=93.6]\n"
     ]
    },
    {
     "name": "stdout",
     "output_type": "stream",
     "text": [
      "Epoch 1547\n",
      "Train Loss: 0.1671, Train Accuracy: 93.57%\n",
      "Test Loss: 0.3255, Test Accuracy: 90.24%\n",
      "\n"
     ]
    },
    {
     "name": "stderr",
     "output_type": "stream",
     "text": [
      "Epoch 1548: 100%|██████████| 938/938 [00:16<00:00, 55.25batch/s, Train Loss=0.167, Train Acc=93.6]\n"
     ]
    },
    {
     "name": "stdout",
     "output_type": "stream",
     "text": [
      "Epoch 1548\n",
      "Train Loss: 0.1669, Train Accuracy: 93.61%\n",
      "Test Loss: 0.3260, Test Accuracy: 90.47%\n",
      "\n"
     ]
    },
    {
     "name": "stderr",
     "output_type": "stream",
     "text": [
      "Epoch 1549: 100%|██████████| 938/938 [00:17<00:00, 55.00batch/s, Train Loss=0.17, Train Acc=93.5] \n"
     ]
    },
    {
     "name": "stdout",
     "output_type": "stream",
     "text": [
      "Epoch 1549\n",
      "Train Loss: 0.1698, Train Accuracy: 93.51%\n",
      "Test Loss: 0.3300, Test Accuracy: 90.15%\n",
      "\n"
     ]
    },
    {
     "name": "stderr",
     "output_type": "stream",
     "text": [
      "Epoch 1550: 100%|██████████| 938/938 [00:17<00:00, 55.16batch/s, Train Loss=0.169, Train Acc=93.6]\n"
     ]
    },
    {
     "name": "stdout",
     "output_type": "stream",
     "text": [
      "Epoch 1550\n",
      "Train Loss: 0.1692, Train Accuracy: 93.61%\n",
      "Test Loss: 0.3370, Test Accuracy: 90.14%\n",
      "\n"
     ]
    },
    {
     "name": "stderr",
     "output_type": "stream",
     "text": [
      "Epoch 1551: 100%|██████████| 938/938 [00:17<00:00, 55.07batch/s, Train Loss=0.167, Train Acc=93.7]\n"
     ]
    },
    {
     "name": "stdout",
     "output_type": "stream",
     "text": [
      "Epoch 1551\n",
      "Train Loss: 0.1673, Train Accuracy: 93.67%\n",
      "Test Loss: 0.3329, Test Accuracy: 90.11%\n",
      "\n"
     ]
    },
    {
     "name": "stderr",
     "output_type": "stream",
     "text": [
      "Epoch 1552: 100%|██████████| 938/938 [00:16<00:00, 55.19batch/s, Train Loss=0.167, Train Acc=93.5]\n"
     ]
    },
    {
     "name": "stdout",
     "output_type": "stream",
     "text": [
      "Epoch 1552\n",
      "Train Loss: 0.1671, Train Accuracy: 93.55%\n",
      "Test Loss: 0.3153, Test Accuracy: 90.22%\n",
      "\n"
     ]
    },
    {
     "name": "stderr",
     "output_type": "stream",
     "text": [
      "Epoch 1553: 100%|██████████| 938/938 [00:17<00:00, 55.08batch/s, Train Loss=0.166, Train Acc=93.7]\n"
     ]
    },
    {
     "name": "stdout",
     "output_type": "stream",
     "text": [
      "Epoch 1553\n",
      "Train Loss: 0.1658, Train Accuracy: 93.70%\n",
      "Test Loss: 0.3204, Test Accuracy: 90.31%\n",
      "\n"
     ]
    },
    {
     "name": "stderr",
     "output_type": "stream",
     "text": [
      "Epoch 1554: 100%|██████████| 938/938 [00:16<00:00, 55.23batch/s, Train Loss=0.17, Train Acc=93.5] \n"
     ]
    },
    {
     "name": "stdout",
     "output_type": "stream",
     "text": [
      "Epoch 1554\n",
      "Train Loss: 0.1701, Train Accuracy: 93.52%\n",
      "Test Loss: 0.3175, Test Accuracy: 90.56%\n",
      "\n"
     ]
    },
    {
     "name": "stderr",
     "output_type": "stream",
     "text": [
      "Epoch 1555: 100%|██████████| 938/938 [00:17<00:00, 55.09batch/s, Train Loss=0.167, Train Acc=93.7]\n"
     ]
    },
    {
     "name": "stdout",
     "output_type": "stream",
     "text": [
      "Epoch 1555\n",
      "Train Loss: 0.1668, Train Accuracy: 93.66%\n",
      "Test Loss: 0.3294, Test Accuracy: 90.00%\n",
      "\n"
     ]
    },
    {
     "name": "stderr",
     "output_type": "stream",
     "text": [
      "Epoch 1556: 100%|██████████| 938/938 [00:17<00:00, 55.08batch/s, Train Loss=0.166, Train Acc=93.6]\n"
     ]
    },
    {
     "name": "stdout",
     "output_type": "stream",
     "text": [
      "Epoch 1556\n",
      "Train Loss: 0.1659, Train Accuracy: 93.64%\n",
      "Test Loss: 0.3487, Test Accuracy: 90.12%\n",
      "\n"
     ]
    },
    {
     "name": "stderr",
     "output_type": "stream",
     "text": [
      "Epoch 1557: 100%|██████████| 938/938 [00:17<00:00, 54.99batch/s, Train Loss=0.168, Train Acc=93.7]\n"
     ]
    },
    {
     "name": "stdout",
     "output_type": "stream",
     "text": [
      "Epoch 1557\n",
      "Train Loss: 0.1681, Train Accuracy: 93.67%\n",
      "Test Loss: 0.3310, Test Accuracy: 90.30%\n",
      "\n"
     ]
    },
    {
     "name": "stderr",
     "output_type": "stream",
     "text": [
      "Epoch 1558: 100%|██████████| 938/938 [00:17<00:00, 55.17batch/s, Train Loss=0.166, Train Acc=93.6]\n"
     ]
    },
    {
     "name": "stdout",
     "output_type": "stream",
     "text": [
      "Epoch 1558\n",
      "Train Loss: 0.1662, Train Accuracy: 93.57%\n",
      "Test Loss: 0.3529, Test Accuracy: 90.01%\n",
      "\n"
     ]
    },
    {
     "name": "stderr",
     "output_type": "stream",
     "text": [
      "Epoch 1559: 100%|██████████| 938/938 [00:17<00:00, 55.04batch/s, Train Loss=0.166, Train Acc=93.7]\n"
     ]
    },
    {
     "name": "stdout",
     "output_type": "stream",
     "text": [
      "Epoch 1559\n",
      "Train Loss: 0.1659, Train Accuracy: 93.75%\n",
      "Test Loss: 0.3314, Test Accuracy: 90.06%\n",
      "\n"
     ]
    },
    {
     "name": "stderr",
     "output_type": "stream",
     "text": [
      "Epoch 1560: 100%|██████████| 938/938 [00:17<00:00, 55.00batch/s, Train Loss=0.166, Train Acc=93.6]\n"
     ]
    },
    {
     "name": "stdout",
     "output_type": "stream",
     "text": [
      "Epoch 1560\n",
      "Train Loss: 0.1665, Train Accuracy: 93.56%\n",
      "Test Loss: 0.3302, Test Accuracy: 90.48%\n",
      "\n"
     ]
    },
    {
     "name": "stderr",
     "output_type": "stream",
     "text": [
      "Epoch 1561: 100%|██████████| 938/938 [00:17<00:00, 55.15batch/s, Train Loss=0.168, Train Acc=93.6]\n"
     ]
    },
    {
     "name": "stdout",
     "output_type": "stream",
     "text": [
      "Epoch 1561\n",
      "Train Loss: 0.1679, Train Accuracy: 93.59%\n",
      "Test Loss: 0.3244, Test Accuracy: 90.09%\n",
      "\n"
     ]
    },
    {
     "name": "stderr",
     "output_type": "stream",
     "text": [
      "Epoch 1562: 100%|██████████| 938/938 [00:17<00:00, 55.12batch/s, Train Loss=0.165, Train Acc=93.6]\n"
     ]
    },
    {
     "name": "stdout",
     "output_type": "stream",
     "text": [
      "Epoch 1562\n",
      "Train Loss: 0.1655, Train Accuracy: 93.61%\n",
      "Test Loss: 0.3315, Test Accuracy: 90.30%\n",
      "\n"
     ]
    },
    {
     "name": "stderr",
     "output_type": "stream",
     "text": [
      "Epoch 1563: 100%|██████████| 938/938 [00:16<00:00, 55.24batch/s, Train Loss=0.167, Train Acc=93.6]\n"
     ]
    },
    {
     "name": "stdout",
     "output_type": "stream",
     "text": [
      "Epoch 1563\n",
      "Train Loss: 0.1675, Train Accuracy: 93.60%\n",
      "Test Loss: 0.3388, Test Accuracy: 90.28%\n",
      "\n"
     ]
    },
    {
     "name": "stderr",
     "output_type": "stream",
     "text": [
      "Epoch 1564: 100%|██████████| 938/938 [00:17<00:00, 55.13batch/s, Train Loss=0.169, Train Acc=93.4]\n"
     ]
    },
    {
     "name": "stdout",
     "output_type": "stream",
     "text": [
      "Epoch 1564\n",
      "Train Loss: 0.1692, Train Accuracy: 93.42%\n",
      "Test Loss: 0.3391, Test Accuracy: 90.37%\n",
      "\n"
     ]
    },
    {
     "name": "stderr",
     "output_type": "stream",
     "text": [
      "Epoch 1565: 100%|██████████| 938/938 [00:17<00:00, 55.18batch/s, Train Loss=0.167, Train Acc=93.6]\n"
     ]
    },
    {
     "name": "stdout",
     "output_type": "stream",
     "text": [
      "Epoch 1565\n",
      "Train Loss: 0.1674, Train Accuracy: 93.59%\n",
      "Test Loss: 0.3391, Test Accuracy: 89.99%\n",
      "\n"
     ]
    },
    {
     "name": "stderr",
     "output_type": "stream",
     "text": [
      "Epoch 1566: 100%|██████████| 938/938 [00:17<00:00, 55.15batch/s, Train Loss=0.167, Train Acc=93.6]\n"
     ]
    },
    {
     "name": "stdout",
     "output_type": "stream",
     "text": [
      "Epoch 1566\n",
      "Train Loss: 0.1668, Train Accuracy: 93.59%\n",
      "Test Loss: 0.3341, Test Accuracy: 90.27%\n",
      "\n"
     ]
    },
    {
     "name": "stderr",
     "output_type": "stream",
     "text": [
      "Epoch 1567: 100%|██████████| 938/938 [00:17<00:00, 55.11batch/s, Train Loss=0.166, Train Acc=93.7]\n"
     ]
    },
    {
     "name": "stdout",
     "output_type": "stream",
     "text": [
      "Epoch 1567\n",
      "Train Loss: 0.1655, Train Accuracy: 93.72%\n",
      "Test Loss: 0.3346, Test Accuracy: 90.62%\n",
      "\n"
     ]
    },
    {
     "name": "stderr",
     "output_type": "stream",
     "text": [
      "Epoch 1568: 100%|██████████| 938/938 [00:17<00:00, 55.15batch/s, Train Loss=0.164, Train Acc=93.7]\n"
     ]
    },
    {
     "name": "stdout",
     "output_type": "stream",
     "text": [
      "Epoch 1568\n",
      "Train Loss: 0.1641, Train Accuracy: 93.72%\n",
      "Test Loss: 0.3370, Test Accuracy: 90.56%\n",
      "\n"
     ]
    },
    {
     "name": "stderr",
     "output_type": "stream",
     "text": [
      "Epoch 1569: 100%|██████████| 938/938 [00:16<00:00, 55.22batch/s, Train Loss=0.164, Train Acc=93.8]\n"
     ]
    },
    {
     "name": "stdout",
     "output_type": "stream",
     "text": [
      "Epoch 1569\n",
      "Train Loss: 0.1636, Train Accuracy: 93.77%\n",
      "Test Loss: 0.3477, Test Accuracy: 90.24%\n",
      "\n"
     ]
    },
    {
     "name": "stderr",
     "output_type": "stream",
     "text": [
      "Epoch 1570: 100%|██████████| 938/938 [00:17<00:00, 55.16batch/s, Train Loss=0.166, Train Acc=93.7]\n"
     ]
    },
    {
     "name": "stdout",
     "output_type": "stream",
     "text": [
      "Epoch 1570\n",
      "Train Loss: 0.1659, Train Accuracy: 93.70%\n",
      "Test Loss: 0.3433, Test Accuracy: 90.11%\n",
      "\n"
     ]
    },
    {
     "name": "stderr",
     "output_type": "stream",
     "text": [
      "Epoch 1571: 100%|██████████| 938/938 [00:17<00:00, 55.08batch/s, Train Loss=0.166, Train Acc=93.6]\n"
     ]
    },
    {
     "name": "stdout",
     "output_type": "stream",
     "text": [
      "Epoch 1571\n",
      "Train Loss: 0.1665, Train Accuracy: 93.61%\n",
      "Test Loss: 0.3359, Test Accuracy: 90.41%\n",
      "\n"
     ]
    },
    {
     "name": "stderr",
     "output_type": "stream",
     "text": [
      "Epoch 1572: 100%|██████████| 938/938 [00:16<00:00, 55.19batch/s, Train Loss=0.165, Train Acc=93.7]\n"
     ]
    },
    {
     "name": "stdout",
     "output_type": "stream",
     "text": [
      "Epoch 1572\n",
      "Train Loss: 0.1650, Train Accuracy: 93.70%\n",
      "Test Loss: 0.3329, Test Accuracy: 90.27%\n",
      "\n"
     ]
    },
    {
     "name": "stderr",
     "output_type": "stream",
     "text": [
      "Epoch 1573: 100%|██████████| 938/938 [00:16<00:00, 55.19batch/s, Train Loss=0.162, Train Acc=93.7]\n"
     ]
    },
    {
     "name": "stdout",
     "output_type": "stream",
     "text": [
      "Epoch 1573\n",
      "Train Loss: 0.1620, Train Accuracy: 93.72%\n",
      "Test Loss: 0.3274, Test Accuracy: 90.30%\n",
      "\n"
     ]
    },
    {
     "name": "stderr",
     "output_type": "stream",
     "text": [
      "Epoch 1574: 100%|██████████| 938/938 [00:17<00:00, 55.08batch/s, Train Loss=0.164, Train Acc=93.6]\n"
     ]
    },
    {
     "name": "stdout",
     "output_type": "stream",
     "text": [
      "Epoch 1574\n",
      "Train Loss: 0.1638, Train Accuracy: 93.65%\n",
      "Test Loss: 0.3281, Test Accuracy: 90.31%\n",
      "\n"
     ]
    },
    {
     "name": "stderr",
     "output_type": "stream",
     "text": [
      "Epoch 1575: 100%|██████████| 938/938 [00:17<00:00, 55.02batch/s, Train Loss=0.165, Train Acc=93.7]\n"
     ]
    },
    {
     "name": "stdout",
     "output_type": "stream",
     "text": [
      "Epoch 1575\n",
      "Train Loss: 0.1647, Train Accuracy: 93.66%\n",
      "Test Loss: 0.3311, Test Accuracy: 90.21%\n",
      "\n"
     ]
    },
    {
     "name": "stderr",
     "output_type": "stream",
     "text": [
      "Epoch 1576: 100%|██████████| 938/938 [00:16<00:00, 55.26batch/s, Train Loss=0.167, Train Acc=93.6]\n"
     ]
    },
    {
     "name": "stdout",
     "output_type": "stream",
     "text": [
      "Epoch 1576\n",
      "Train Loss: 0.1672, Train Accuracy: 93.61%\n",
      "Test Loss: 0.3330, Test Accuracy: 90.18%\n",
      "\n"
     ]
    },
    {
     "name": "stderr",
     "output_type": "stream",
     "text": [
      "Epoch 1577: 100%|██████████| 938/938 [00:16<00:00, 55.22batch/s, Train Loss=0.165, Train Acc=93.8]\n"
     ]
    },
    {
     "name": "stdout",
     "output_type": "stream",
     "text": [
      "Epoch 1577\n",
      "Train Loss: 0.1648, Train Accuracy: 93.76%\n",
      "Test Loss: 0.3537, Test Accuracy: 89.77%\n",
      "\n"
     ]
    },
    {
     "name": "stderr",
     "output_type": "stream",
     "text": [
      "Epoch 1578: 100%|██████████| 938/938 [00:17<00:00, 55.14batch/s, Train Loss=0.161, Train Acc=93.8]\n"
     ]
    },
    {
     "name": "stdout",
     "output_type": "stream",
     "text": [
      "Epoch 1578\n",
      "Train Loss: 0.1605, Train Accuracy: 93.78%\n",
      "Test Loss: 0.3483, Test Accuracy: 90.09%\n",
      "\n"
     ]
    },
    {
     "name": "stderr",
     "output_type": "stream",
     "text": [
      "Epoch 1579: 100%|██████████| 938/938 [00:17<00:00, 55.13batch/s, Train Loss=0.162, Train Acc=93.8]\n"
     ]
    },
    {
     "name": "stdout",
     "output_type": "stream",
     "text": [
      "Epoch 1579\n",
      "Train Loss: 0.1616, Train Accuracy: 93.84%\n",
      "Test Loss: 0.3441, Test Accuracy: 90.46%\n",
      "\n"
     ]
    },
    {
     "name": "stderr",
     "output_type": "stream",
     "text": [
      "Epoch 1580: 100%|██████████| 938/938 [00:17<00:00, 54.91batch/s, Train Loss=0.165, Train Acc=93.8]\n"
     ]
    },
    {
     "name": "stdout",
     "output_type": "stream",
     "text": [
      "Epoch 1580\n",
      "Train Loss: 0.1645, Train Accuracy: 93.80%\n",
      "Test Loss: 0.3339, Test Accuracy: 89.99%\n",
      "\n"
     ]
    },
    {
     "name": "stderr",
     "output_type": "stream",
     "text": [
      "Epoch 1581: 100%|██████████| 938/938 [00:17<00:00, 54.99batch/s, Train Loss=0.166, Train Acc=93.8]\n"
     ]
    },
    {
     "name": "stdout",
     "output_type": "stream",
     "text": [
      "Epoch 1581\n",
      "Train Loss: 0.1661, Train Accuracy: 93.82%\n",
      "Test Loss: 0.3338, Test Accuracy: 90.11%\n",
      "\n"
     ]
    },
    {
     "name": "stderr",
     "output_type": "stream",
     "text": [
      "Epoch 1582: 100%|██████████| 938/938 [00:17<00:00, 55.06batch/s, Train Loss=0.167, Train Acc=93.6]\n"
     ]
    },
    {
     "name": "stdout",
     "output_type": "stream",
     "text": [
      "Epoch 1582\n",
      "Train Loss: 0.1671, Train Accuracy: 93.64%\n",
      "Test Loss: 0.3384, Test Accuracy: 90.10%\n",
      "\n"
     ]
    },
    {
     "name": "stderr",
     "output_type": "stream",
     "text": [
      "Epoch 1583: 100%|██████████| 938/938 [00:17<00:00, 55.06batch/s, Train Loss=0.163, Train Acc=93.8]\n"
     ]
    },
    {
     "name": "stdout",
     "output_type": "stream",
     "text": [
      "Epoch 1583\n",
      "Train Loss: 0.1633, Train Accuracy: 93.81%\n",
      "Test Loss: 0.3338, Test Accuracy: 90.25%\n",
      "\n"
     ]
    },
    {
     "name": "stderr",
     "output_type": "stream",
     "text": [
      "Epoch 1584: 100%|██████████| 938/938 [00:17<00:00, 55.04batch/s, Train Loss=0.166, Train Acc=93.7]\n"
     ]
    },
    {
     "name": "stdout",
     "output_type": "stream",
     "text": [
      "Epoch 1584\n",
      "Train Loss: 0.1659, Train Accuracy: 93.67%\n",
      "Test Loss: 0.3519, Test Accuracy: 89.68%\n",
      "\n"
     ]
    },
    {
     "name": "stderr",
     "output_type": "stream",
     "text": [
      "Epoch 1585: 100%|██████████| 938/938 [00:17<00:00, 55.08batch/s, Train Loss=0.161, Train Acc=93.8]\n"
     ]
    },
    {
     "name": "stdout",
     "output_type": "stream",
     "text": [
      "Epoch 1585\n",
      "Train Loss: 0.1607, Train Accuracy: 93.85%\n",
      "Test Loss: 0.3257, Test Accuracy: 90.25%\n",
      "\n"
     ]
    },
    {
     "name": "stderr",
     "output_type": "stream",
     "text": [
      "Epoch 1586: 100%|██████████| 938/938 [00:17<00:00, 55.07batch/s, Train Loss=0.161, Train Acc=93.9]\n"
     ]
    },
    {
     "name": "stdout",
     "output_type": "stream",
     "text": [
      "Epoch 1586\n",
      "Train Loss: 0.1610, Train Accuracy: 93.86%\n",
      "Test Loss: 0.3419, Test Accuracy: 90.17%\n",
      "\n"
     ]
    },
    {
     "name": "stderr",
     "output_type": "stream",
     "text": [
      "Epoch 1587: 100%|██████████| 938/938 [00:16<00:00, 55.18batch/s, Train Loss=0.163, Train Acc=93.7]\n"
     ]
    },
    {
     "name": "stdout",
     "output_type": "stream",
     "text": [
      "Epoch 1587\n",
      "Train Loss: 0.1632, Train Accuracy: 93.70%\n",
      "Test Loss: 0.3456, Test Accuracy: 90.26%\n",
      "\n"
     ]
    },
    {
     "name": "stderr",
     "output_type": "stream",
     "text": [
      "Epoch 1588: 100%|██████████| 938/938 [00:17<00:00, 55.09batch/s, Train Loss=0.164, Train Acc=93.8]\n"
     ]
    },
    {
     "name": "stdout",
     "output_type": "stream",
     "text": [
      "Epoch 1588\n",
      "Train Loss: 0.1636, Train Accuracy: 93.79%\n",
      "Test Loss: 0.3413, Test Accuracy: 90.01%\n",
      "\n"
     ]
    },
    {
     "name": "stderr",
     "output_type": "stream",
     "text": [
      "Epoch 1589: 100%|██████████| 938/938 [00:16<00:00, 55.29batch/s, Train Loss=0.163, Train Acc=93.7]\n"
     ]
    },
    {
     "name": "stdout",
     "output_type": "stream",
     "text": [
      "Epoch 1589\n",
      "Train Loss: 0.1632, Train Accuracy: 93.74%\n",
      "Test Loss: 0.3378, Test Accuracy: 90.20%\n",
      "\n"
     ]
    },
    {
     "name": "stderr",
     "output_type": "stream",
     "text": [
      "Epoch 1590: 100%|██████████| 938/938 [00:17<00:00, 55.17batch/s, Train Loss=0.165, Train Acc=93.7]\n"
     ]
    },
    {
     "name": "stdout",
     "output_type": "stream",
     "text": [
      "Epoch 1590\n",
      "Train Loss: 0.1650, Train Accuracy: 93.69%\n",
      "Test Loss: 0.3311, Test Accuracy: 90.44%\n",
      "\n"
     ]
    },
    {
     "name": "stderr",
     "output_type": "stream",
     "text": [
      "Epoch 1591: 100%|██████████| 938/938 [00:16<00:00, 55.18batch/s, Train Loss=0.166, Train Acc=93.6]\n"
     ]
    },
    {
     "name": "stdout",
     "output_type": "stream",
     "text": [
      "Epoch 1591\n",
      "Train Loss: 0.1657, Train Accuracy: 93.60%\n",
      "Test Loss: 0.3414, Test Accuracy: 90.32%\n",
      "\n"
     ]
    },
    {
     "name": "stderr",
     "output_type": "stream",
     "text": [
      "Epoch 1592: 100%|██████████| 938/938 [00:17<00:00, 55.00batch/s, Train Loss=0.162, Train Acc=93.9]\n"
     ]
    },
    {
     "name": "stdout",
     "output_type": "stream",
     "text": [
      "Epoch 1592\n",
      "Train Loss: 0.1622, Train Accuracy: 93.89%\n",
      "Test Loss: 0.3441, Test Accuracy: 90.11%\n",
      "\n"
     ]
    },
    {
     "name": "stderr",
     "output_type": "stream",
     "text": [
      "Epoch 1593: 100%|██████████| 938/938 [00:17<00:00, 55.12batch/s, Train Loss=0.16, Train Acc=93.9] \n"
     ]
    },
    {
     "name": "stdout",
     "output_type": "stream",
     "text": [
      "Epoch 1593\n",
      "Train Loss: 0.1601, Train Accuracy: 93.94%\n",
      "Test Loss: 0.3508, Test Accuracy: 90.06%\n",
      "\n"
     ]
    },
    {
     "name": "stderr",
     "output_type": "stream",
     "text": [
      "Epoch 1594: 100%|██████████| 938/938 [00:16<00:00, 55.18batch/s, Train Loss=0.163, Train Acc=93.8]\n"
     ]
    },
    {
     "name": "stdout",
     "output_type": "stream",
     "text": [
      "Epoch 1594\n",
      "Train Loss: 0.1630, Train Accuracy: 93.79%\n",
      "Test Loss: 0.3456, Test Accuracy: 90.14%\n",
      "\n"
     ]
    },
    {
     "name": "stderr",
     "output_type": "stream",
     "text": [
      "Epoch 1595: 100%|██████████| 938/938 [00:17<00:00, 54.95batch/s, Train Loss=0.163, Train Acc=93.9]\n"
     ]
    },
    {
     "name": "stdout",
     "output_type": "stream",
     "text": [
      "Epoch 1595\n",
      "Train Loss: 0.1631, Train Accuracy: 93.86%\n",
      "Test Loss: 0.3425, Test Accuracy: 90.01%\n",
      "\n"
     ]
    },
    {
     "name": "stderr",
     "output_type": "stream",
     "text": [
      "Epoch 1596: 100%|██████████| 938/938 [00:17<00:00, 55.02batch/s, Train Loss=0.163, Train Acc=93.8]\n"
     ]
    },
    {
     "name": "stdout",
     "output_type": "stream",
     "text": [
      "Epoch 1596\n",
      "Train Loss: 0.1627, Train Accuracy: 93.81%\n",
      "Test Loss: 0.3333, Test Accuracy: 90.29%\n",
      "\n"
     ]
    },
    {
     "name": "stderr",
     "output_type": "stream",
     "text": [
      "Epoch 1597: 100%|██████████| 938/938 [00:16<00:00, 55.28batch/s, Train Loss=0.163, Train Acc=93.8]\n"
     ]
    },
    {
     "name": "stdout",
     "output_type": "stream",
     "text": [
      "Epoch 1597\n",
      "Train Loss: 0.1625, Train Accuracy: 93.80%\n",
      "Test Loss: 0.3349, Test Accuracy: 90.06%\n",
      "\n"
     ]
    },
    {
     "name": "stderr",
     "output_type": "stream",
     "text": [
      "Epoch 1598: 100%|██████████| 938/938 [00:17<00:00, 55.05batch/s, Train Loss=0.16, Train Acc=93.9] \n"
     ]
    },
    {
     "name": "stdout",
     "output_type": "stream",
     "text": [
      "Epoch 1598\n",
      "Train Loss: 0.1603, Train Accuracy: 93.88%\n",
      "Test Loss: 0.3386, Test Accuracy: 90.14%\n",
      "\n"
     ]
    },
    {
     "name": "stderr",
     "output_type": "stream",
     "text": [
      "Epoch 1599: 100%|██████████| 938/938 [00:17<00:00, 55.11batch/s, Train Loss=0.162, Train Acc=93.8]\n"
     ]
    },
    {
     "name": "stdout",
     "output_type": "stream",
     "text": [
      "Epoch 1599\n",
      "Train Loss: 0.1623, Train Accuracy: 93.75%\n",
      "Test Loss: 0.3360, Test Accuracy: 90.18%\n",
      "\n"
     ]
    },
    {
     "name": "stderr",
     "output_type": "stream",
     "text": [
      "Epoch 1600: 100%|██████████| 938/938 [00:17<00:00, 55.02batch/s, Train Loss=0.165, Train Acc=93.8]\n"
     ]
    },
    {
     "name": "stdout",
     "output_type": "stream",
     "text": [
      "Epoch 1600\n",
      "Train Loss: 0.1646, Train Accuracy: 93.77%\n",
      "Test Loss: 0.3214, Test Accuracy: 90.33%\n",
      "\n"
     ]
    },
    {
     "name": "stderr",
     "output_type": "stream",
     "text": [
      "Epoch 1601: 100%|██████████| 938/938 [00:17<00:00, 55.11batch/s, Train Loss=0.161, Train Acc=93.9]\n"
     ]
    },
    {
     "name": "stdout",
     "output_type": "stream",
     "text": [
      "Epoch 1601\n",
      "Train Loss: 0.1610, Train Accuracy: 93.86%\n",
      "Test Loss: 0.3358, Test Accuracy: 90.15%\n",
      "\n"
     ]
    },
    {
     "name": "stderr",
     "output_type": "stream",
     "text": [
      "Epoch 1602: 100%|██████████| 938/938 [00:17<00:00, 55.16batch/s, Train Loss=0.161, Train Acc=93.9]\n"
     ]
    },
    {
     "name": "stdout",
     "output_type": "stream",
     "text": [
      "Epoch 1602\n",
      "Train Loss: 0.1605, Train Accuracy: 93.92%\n",
      "Test Loss: 0.3473, Test Accuracy: 89.97%\n",
      "\n"
     ]
    },
    {
     "name": "stderr",
     "output_type": "stream",
     "text": [
      "Epoch 1603: 100%|██████████| 938/938 [00:17<00:00, 55.12batch/s, Train Loss=0.159, Train Acc=94]  \n"
     ]
    },
    {
     "name": "stdout",
     "output_type": "stream",
     "text": [
      "Epoch 1603\n",
      "Train Loss: 0.1589, Train Accuracy: 93.98%\n",
      "Test Loss: 0.3343, Test Accuracy: 90.24%\n",
      "\n"
     ]
    },
    {
     "name": "stderr",
     "output_type": "stream",
     "text": [
      "Epoch 1604: 100%|██████████| 938/938 [00:17<00:00, 55.15batch/s, Train Loss=0.162, Train Acc=93.8]\n"
     ]
    },
    {
     "name": "stdout",
     "output_type": "stream",
     "text": [
      "Epoch 1604\n",
      "Train Loss: 0.1622, Train Accuracy: 93.81%\n",
      "Test Loss: 0.3387, Test Accuracy: 90.27%\n",
      "\n"
     ]
    },
    {
     "name": "stderr",
     "output_type": "stream",
     "text": [
      "Epoch 1605: 100%|██████████| 938/938 [00:17<00:00, 55.14batch/s, Train Loss=0.161, Train Acc=93.9]\n"
     ]
    },
    {
     "name": "stdout",
     "output_type": "stream",
     "text": [
      "Epoch 1605\n",
      "Train Loss: 0.1612, Train Accuracy: 93.87%\n",
      "Test Loss: 0.3405, Test Accuracy: 90.20%\n",
      "\n"
     ]
    },
    {
     "name": "stderr",
     "output_type": "stream",
     "text": [
      "Epoch 1606: 100%|██████████| 938/938 [00:16<00:00, 55.24batch/s, Train Loss=0.161, Train Acc=93.8]\n"
     ]
    },
    {
     "name": "stdout",
     "output_type": "stream",
     "text": [
      "Epoch 1606\n",
      "Train Loss: 0.1606, Train Accuracy: 93.80%\n",
      "Test Loss: 0.3423, Test Accuracy: 90.31%\n",
      "\n"
     ]
    },
    {
     "name": "stderr",
     "output_type": "stream",
     "text": [
      "Epoch 1607: 100%|██████████| 938/938 [00:16<00:00, 55.27batch/s, Train Loss=0.156, Train Acc=94]  \n"
     ]
    },
    {
     "name": "stdout",
     "output_type": "stream",
     "text": [
      "Epoch 1607\n",
      "Train Loss: 0.1561, Train Accuracy: 94.05%\n",
      "Test Loss: 0.3422, Test Accuracy: 90.13%\n",
      "\n"
     ]
    },
    {
     "name": "stderr",
     "output_type": "stream",
     "text": [
      "Epoch 1608: 100%|██████████| 938/938 [00:17<00:00, 55.01batch/s, Train Loss=0.163, Train Acc=93.8]\n"
     ]
    },
    {
     "name": "stdout",
     "output_type": "stream",
     "text": [
      "Epoch 1608\n",
      "Train Loss: 0.1632, Train Accuracy: 93.80%\n",
      "Test Loss: 0.3486, Test Accuracy: 90.24%\n",
      "\n"
     ]
    },
    {
     "name": "stderr",
     "output_type": "stream",
     "text": [
      "Epoch 1609: 100%|██████████| 938/938 [00:16<00:00, 55.20batch/s, Train Loss=0.161, Train Acc=94]  \n"
     ]
    },
    {
     "name": "stdout",
     "output_type": "stream",
     "text": [
      "Epoch 1609\n",
      "Train Loss: 0.1611, Train Accuracy: 93.97%\n",
      "Test Loss: 0.3456, Test Accuracy: 89.94%\n",
      "\n"
     ]
    },
    {
     "name": "stderr",
     "output_type": "stream",
     "text": [
      "Epoch 1610: 100%|██████████| 938/938 [00:16<00:00, 55.23batch/s, Train Loss=0.162, Train Acc=93.8]\n"
     ]
    },
    {
     "name": "stdout",
     "output_type": "stream",
     "text": [
      "Epoch 1610\n",
      "Train Loss: 0.1624, Train Accuracy: 93.76%\n",
      "Test Loss: 0.3388, Test Accuracy: 90.23%\n",
      "\n"
     ]
    },
    {
     "name": "stderr",
     "output_type": "stream",
     "text": [
      "Epoch 1611: 100%|██████████| 938/938 [00:17<00:00, 55.17batch/s, Train Loss=0.161, Train Acc=93.8]\n"
     ]
    },
    {
     "name": "stdout",
     "output_type": "stream",
     "text": [
      "Epoch 1611\n",
      "Train Loss: 0.1610, Train Accuracy: 93.82%\n",
      "Test Loss: 0.3397, Test Accuracy: 90.11%\n",
      "\n"
     ]
    },
    {
     "name": "stderr",
     "output_type": "stream",
     "text": [
      "Epoch 1612: 100%|██████████| 938/938 [00:17<00:00, 55.16batch/s, Train Loss=0.162, Train Acc=93.8]\n"
     ]
    },
    {
     "name": "stdout",
     "output_type": "stream",
     "text": [
      "Epoch 1612\n",
      "Train Loss: 0.1620, Train Accuracy: 93.84%\n",
      "Test Loss: 0.3489, Test Accuracy: 89.90%\n",
      "\n"
     ]
    },
    {
     "name": "stderr",
     "output_type": "stream",
     "text": [
      "Epoch 1613: 100%|██████████| 938/938 [00:16<00:00, 55.21batch/s, Train Loss=0.154, Train Acc=94.2]\n"
     ]
    },
    {
     "name": "stdout",
     "output_type": "stream",
     "text": [
      "Epoch 1613\n",
      "Train Loss: 0.1545, Train Accuracy: 94.17%\n",
      "Test Loss: 0.3419, Test Accuracy: 90.20%\n",
      "\n"
     ]
    },
    {
     "name": "stderr",
     "output_type": "stream",
     "text": [
      "Epoch 1614: 100%|██████████| 938/938 [00:17<00:00, 55.06batch/s, Train Loss=0.162, Train Acc=93.8]\n"
     ]
    },
    {
     "name": "stdout",
     "output_type": "stream",
     "text": [
      "Epoch 1614\n",
      "Train Loss: 0.1622, Train Accuracy: 93.84%\n",
      "Test Loss: 0.3399, Test Accuracy: 90.05%\n",
      "\n"
     ]
    },
    {
     "name": "stderr",
     "output_type": "stream",
     "text": [
      "Epoch 1615: 100%|██████████| 938/938 [00:16<00:00, 55.22batch/s, Train Loss=0.161, Train Acc=93.9]\n"
     ]
    },
    {
     "name": "stdout",
     "output_type": "stream",
     "text": [
      "Epoch 1615\n",
      "Train Loss: 0.1614, Train Accuracy: 93.92%\n",
      "Test Loss: 0.3353, Test Accuracy: 90.16%\n",
      "\n"
     ]
    },
    {
     "name": "stderr",
     "output_type": "stream",
     "text": [
      "Epoch 1616: 100%|██████████| 938/938 [00:17<00:00, 55.03batch/s, Train Loss=0.16, Train Acc=93.9] \n"
     ]
    },
    {
     "name": "stdout",
     "output_type": "stream",
     "text": [
      "Epoch 1616\n",
      "Train Loss: 0.1602, Train Accuracy: 93.92%\n",
      "Test Loss: 0.3465, Test Accuracy: 89.99%\n",
      "\n"
     ]
    },
    {
     "name": "stderr",
     "output_type": "stream",
     "text": [
      "Epoch 1617: 100%|██████████| 938/938 [00:17<00:00, 54.90batch/s, Train Loss=0.159, Train Acc=93.9]\n"
     ]
    },
    {
     "name": "stdout",
     "output_type": "stream",
     "text": [
      "Epoch 1617\n",
      "Train Loss: 0.1592, Train Accuracy: 93.93%\n",
      "Test Loss: 0.3479, Test Accuracy: 90.31%\n",
      "\n"
     ]
    },
    {
     "name": "stderr",
     "output_type": "stream",
     "text": [
      "Epoch 1618: 100%|██████████| 938/938 [00:17<00:00, 54.95batch/s, Train Loss=0.16, Train Acc=93.9] \n"
     ]
    },
    {
     "name": "stdout",
     "output_type": "stream",
     "text": [
      "Epoch 1618\n",
      "Train Loss: 0.1602, Train Accuracy: 93.86%\n",
      "Test Loss: 0.3352, Test Accuracy: 90.62%\n",
      "\n"
     ]
    },
    {
     "name": "stderr",
     "output_type": "stream",
     "text": [
      "Epoch 1619: 100%|██████████| 938/938 [00:17<00:00, 55.04batch/s, Train Loss=0.162, Train Acc=93.9]\n"
     ]
    },
    {
     "name": "stdout",
     "output_type": "stream",
     "text": [
      "Epoch 1619\n",
      "Train Loss: 0.1617, Train Accuracy: 93.86%\n",
      "Test Loss: 0.3342, Test Accuracy: 90.40%\n",
      "\n"
     ]
    },
    {
     "name": "stderr",
     "output_type": "stream",
     "text": [
      "Epoch 1620: 100%|██████████| 938/938 [00:17<00:00, 55.09batch/s, Train Loss=0.162, Train Acc=93.8]\n"
     ]
    },
    {
     "name": "stdout",
     "output_type": "stream",
     "text": [
      "Epoch 1620\n",
      "Train Loss: 0.1618, Train Accuracy: 93.78%\n",
      "Test Loss: 0.3366, Test Accuracy: 90.38%\n",
      "\n"
     ]
    },
    {
     "name": "stderr",
     "output_type": "stream",
     "text": [
      "Epoch 1621: 100%|██████████| 938/938 [00:16<00:00, 55.25batch/s, Train Loss=0.157, Train Acc=94.1]\n"
     ]
    },
    {
     "name": "stdout",
     "output_type": "stream",
     "text": [
      "Epoch 1621\n",
      "Train Loss: 0.1565, Train Accuracy: 94.08%\n",
      "Test Loss: 0.3430, Test Accuracy: 90.40%\n",
      "\n"
     ]
    },
    {
     "name": "stderr",
     "output_type": "stream",
     "text": [
      "Epoch 1622: 100%|██████████| 938/938 [00:17<00:00, 55.09batch/s, Train Loss=0.162, Train Acc=93.8]\n"
     ]
    },
    {
     "name": "stdout",
     "output_type": "stream",
     "text": [
      "Epoch 1622\n",
      "Train Loss: 0.1622, Train Accuracy: 93.79%\n",
      "Test Loss: 0.3417, Test Accuracy: 90.26%\n",
      "\n"
     ]
    },
    {
     "name": "stderr",
     "output_type": "stream",
     "text": [
      "Epoch 1623: 100%|██████████| 938/938 [00:17<00:00, 55.11batch/s, Train Loss=0.158, Train Acc=93.9]\n"
     ]
    },
    {
     "name": "stdout",
     "output_type": "stream",
     "text": [
      "Epoch 1623\n",
      "Train Loss: 0.1585, Train Accuracy: 93.94%\n",
      "Test Loss: 0.3346, Test Accuracy: 90.26%\n",
      "\n"
     ]
    },
    {
     "name": "stderr",
     "output_type": "stream",
     "text": [
      "Epoch 1624: 100%|██████████| 938/938 [00:17<00:00, 55.03batch/s, Train Loss=0.159, Train Acc=93.9]\n"
     ]
    },
    {
     "name": "stdout",
     "output_type": "stream",
     "text": [
      "Epoch 1624\n",
      "Train Loss: 0.1591, Train Accuracy: 93.94%\n",
      "Test Loss: 0.3375, Test Accuracy: 90.11%\n",
      "\n"
     ]
    },
    {
     "name": "stderr",
     "output_type": "stream",
     "text": [
      "Epoch 1625: 100%|██████████| 938/938 [00:17<00:00, 55.09batch/s, Train Loss=0.157, Train Acc=94]  \n"
     ]
    },
    {
     "name": "stdout",
     "output_type": "stream",
     "text": [
      "Epoch 1625\n",
      "Train Loss: 0.1567, Train Accuracy: 94.00%\n",
      "Test Loss: 0.3572, Test Accuracy: 89.84%\n",
      "\n"
     ]
    },
    {
     "name": "stderr",
     "output_type": "stream",
     "text": [
      "Epoch 1626: 100%|██████████| 938/938 [00:17<00:00, 55.17batch/s, Train Loss=0.155, Train Acc=94.1]\n"
     ]
    },
    {
     "name": "stdout",
     "output_type": "stream",
     "text": [
      "Epoch 1626\n",
      "Train Loss: 0.1554, Train Accuracy: 94.09%\n",
      "Test Loss: 0.3498, Test Accuracy: 89.79%\n",
      "\n"
     ]
    },
    {
     "name": "stderr",
     "output_type": "stream",
     "text": [
      "Epoch 1627: 100%|██████████| 938/938 [00:17<00:00, 55.05batch/s, Train Loss=0.16, Train Acc=93.9] \n"
     ]
    },
    {
     "name": "stdout",
     "output_type": "stream",
     "text": [
      "Epoch 1627\n",
      "Train Loss: 0.1602, Train Accuracy: 93.94%\n",
      "Test Loss: 0.3475, Test Accuracy: 90.07%\n",
      "\n"
     ]
    },
    {
     "name": "stderr",
     "output_type": "stream",
     "text": [
      "Epoch 1628: 100%|██████████| 938/938 [00:17<00:00, 55.16batch/s, Train Loss=0.161, Train Acc=93.9]\n"
     ]
    },
    {
     "name": "stdout",
     "output_type": "stream",
     "text": [
      "Epoch 1628\n",
      "Train Loss: 0.1607, Train Accuracy: 93.92%\n",
      "Test Loss: 0.3393, Test Accuracy: 89.99%\n",
      "\n"
     ]
    },
    {
     "name": "stderr",
     "output_type": "stream",
     "text": [
      "Epoch 1629: 100%|██████████| 938/938 [00:16<00:00, 55.23batch/s, Train Loss=0.158, Train Acc=93.9]\n"
     ]
    },
    {
     "name": "stdout",
     "output_type": "stream",
     "text": [
      "Epoch 1629\n",
      "Train Loss: 0.1581, Train Accuracy: 93.91%\n",
      "Test Loss: 0.3443, Test Accuracy: 90.18%\n",
      "\n"
     ]
    },
    {
     "name": "stderr",
     "output_type": "stream",
     "text": [
      "Epoch 1630: 100%|██████████| 938/938 [00:17<00:00, 55.13batch/s, Train Loss=0.159, Train Acc=93.9]\n"
     ]
    },
    {
     "name": "stdout",
     "output_type": "stream",
     "text": [
      "Epoch 1630\n",
      "Train Loss: 0.1587, Train Accuracy: 93.86%\n",
      "Test Loss: 0.3339, Test Accuracy: 90.33%\n",
      "\n"
     ]
    },
    {
     "name": "stderr",
     "output_type": "stream",
     "text": [
      "Epoch 1631: 100%|██████████| 938/938 [00:17<00:00, 55.10batch/s, Train Loss=0.157, Train Acc=94]  \n"
     ]
    },
    {
     "name": "stdout",
     "output_type": "stream",
     "text": [
      "Epoch 1631\n",
      "Train Loss: 0.1572, Train Accuracy: 94.04%\n",
      "Test Loss: 0.3449, Test Accuracy: 90.09%\n",
      "\n"
     ]
    },
    {
     "name": "stderr",
     "output_type": "stream",
     "text": [
      "Epoch 1632: 100%|██████████| 938/938 [00:16<00:00, 55.20batch/s, Train Loss=0.155, Train Acc=94.1]\n"
     ]
    },
    {
     "name": "stdout",
     "output_type": "stream",
     "text": [
      "Epoch 1632\n",
      "Train Loss: 0.1552, Train Accuracy: 94.08%\n",
      "Test Loss: 0.3574, Test Accuracy: 89.79%\n",
      "\n"
     ]
    },
    {
     "name": "stderr",
     "output_type": "stream",
     "text": [
      "Epoch 1633: 100%|██████████| 938/938 [00:17<00:00, 55.05batch/s, Train Loss=0.155, Train Acc=94]  \n"
     ]
    },
    {
     "name": "stdout",
     "output_type": "stream",
     "text": [
      "Epoch 1633\n",
      "Train Loss: 0.1554, Train Accuracy: 94.05%\n",
      "Test Loss: 0.3461, Test Accuracy: 90.07%\n",
      "\n"
     ]
    },
    {
     "name": "stderr",
     "output_type": "stream",
     "text": [
      "Epoch 1634: 100%|██████████| 938/938 [00:17<00:00, 55.09batch/s, Train Loss=0.159, Train Acc=93.9]\n"
     ]
    },
    {
     "name": "stdout",
     "output_type": "stream",
     "text": [
      "Epoch 1634\n",
      "Train Loss: 0.1593, Train Accuracy: 93.92%\n",
      "Test Loss: 0.3492, Test Accuracy: 90.29%\n",
      "\n"
     ]
    },
    {
     "name": "stderr",
     "output_type": "stream",
     "text": [
      "Epoch 1635: 100%|██████████| 938/938 [00:17<00:00, 55.07batch/s, Train Loss=0.157, Train Acc=94]  \n"
     ]
    },
    {
     "name": "stdout",
     "output_type": "stream",
     "text": [
      "Epoch 1635\n",
      "Train Loss: 0.1565, Train Accuracy: 93.97%\n",
      "Test Loss: 0.3424, Test Accuracy: 90.19%\n",
      "\n"
     ]
    },
    {
     "name": "stderr",
     "output_type": "stream",
     "text": [
      "Epoch 1636: 100%|██████████| 938/938 [00:17<00:00, 55.10batch/s, Train Loss=0.155, Train Acc=94]  \n"
     ]
    },
    {
     "name": "stdout",
     "output_type": "stream",
     "text": [
      "Epoch 1636\n",
      "Train Loss: 0.1553, Train Accuracy: 94.00%\n",
      "Test Loss: 0.3544, Test Accuracy: 90.06%\n",
      "\n"
     ]
    },
    {
     "name": "stderr",
     "output_type": "stream",
     "text": [
      "Epoch 1637: 100%|██████████| 938/938 [00:17<00:00, 55.09batch/s, Train Loss=0.157, Train Acc=94]  \n"
     ]
    },
    {
     "name": "stdout",
     "output_type": "stream",
     "text": [
      "Epoch 1637\n",
      "Train Loss: 0.1567, Train Accuracy: 94.02%\n",
      "Test Loss: 0.3462, Test Accuracy: 90.09%\n",
      "\n"
     ]
    },
    {
     "name": "stderr",
     "output_type": "stream",
     "text": [
      "Epoch 1638: 100%|██████████| 938/938 [00:17<00:00, 55.02batch/s, Train Loss=0.157, Train Acc=93.9]\n"
     ]
    },
    {
     "name": "stdout",
     "output_type": "stream",
     "text": [
      "Epoch 1638\n",
      "Train Loss: 0.1574, Train Accuracy: 93.90%\n",
      "Test Loss: 0.3495, Test Accuracy: 90.38%\n",
      "\n"
     ]
    },
    {
     "name": "stderr",
     "output_type": "stream",
     "text": [
      "Epoch 1639: 100%|██████████| 938/938 [00:16<00:00, 55.28batch/s, Train Loss=0.159, Train Acc=94]  \n"
     ]
    },
    {
     "name": "stdout",
     "output_type": "stream",
     "text": [
      "Epoch 1639\n",
      "Train Loss: 0.1589, Train Accuracy: 94.00%\n",
      "Test Loss: 0.3496, Test Accuracy: 90.26%\n",
      "\n"
     ]
    },
    {
     "name": "stderr",
     "output_type": "stream",
     "text": [
      "Epoch 1640: 100%|██████████| 938/938 [00:17<00:00, 55.02batch/s, Train Loss=0.159, Train Acc=94]  \n"
     ]
    },
    {
     "name": "stdout",
     "output_type": "stream",
     "text": [
      "Epoch 1640\n",
      "Train Loss: 0.1589, Train Accuracy: 93.96%\n",
      "Test Loss: 0.3433, Test Accuracy: 90.21%\n",
      "\n"
     ]
    },
    {
     "name": "stderr",
     "output_type": "stream",
     "text": [
      "Epoch 1641: 100%|██████████| 938/938 [00:17<00:00, 55.10batch/s, Train Loss=0.157, Train Acc=94]  \n"
     ]
    },
    {
     "name": "stdout",
     "output_type": "stream",
     "text": [
      "Epoch 1641\n",
      "Train Loss: 0.1567, Train Accuracy: 94.05%\n",
      "Test Loss: 0.3532, Test Accuracy: 90.05%\n",
      "\n"
     ]
    },
    {
     "name": "stderr",
     "output_type": "stream",
     "text": [
      "Epoch 1642: 100%|██████████| 938/938 [00:16<00:00, 55.28batch/s, Train Loss=0.157, Train Acc=94.1]\n"
     ]
    },
    {
     "name": "stdout",
     "output_type": "stream",
     "text": [
      "Epoch 1642\n",
      "Train Loss: 0.1572, Train Accuracy: 94.13%\n",
      "Test Loss: 0.3594, Test Accuracy: 89.80%\n",
      "\n"
     ]
    },
    {
     "name": "stderr",
     "output_type": "stream",
     "text": [
      "Epoch 1643: 100%|██████████| 938/938 [00:16<00:00, 55.21batch/s, Train Loss=0.155, Train Acc=94.1]\n"
     ]
    },
    {
     "name": "stdout",
     "output_type": "stream",
     "text": [
      "Epoch 1643\n",
      "Train Loss: 0.1545, Train Accuracy: 94.11%\n",
      "Test Loss: 0.3551, Test Accuracy: 89.98%\n",
      "\n"
     ]
    },
    {
     "name": "stderr",
     "output_type": "stream",
     "text": [
      "Epoch 1644: 100%|██████████| 938/938 [00:17<00:00, 55.02batch/s, Train Loss=0.157, Train Acc=94]  \n"
     ]
    },
    {
     "name": "stdout",
     "output_type": "stream",
     "text": [
      "Epoch 1644\n",
      "Train Loss: 0.1574, Train Accuracy: 93.95%\n",
      "Test Loss: 0.3370, Test Accuracy: 90.29%\n",
      "\n"
     ]
    },
    {
     "name": "stderr",
     "output_type": "stream",
     "text": [
      "Epoch 1645: 100%|██████████| 938/938 [00:17<00:00, 55.08batch/s, Train Loss=0.155, Train Acc=94]  \n"
     ]
    },
    {
     "name": "stdout",
     "output_type": "stream",
     "text": [
      "Epoch 1645\n",
      "Train Loss: 0.1553, Train Accuracy: 94.00%\n",
      "Test Loss: 0.3456, Test Accuracy: 90.23%\n",
      "\n"
     ]
    },
    {
     "name": "stderr",
     "output_type": "stream",
     "text": [
      "Epoch 1646: 100%|██████████| 938/938 [00:17<00:00, 55.06batch/s, Train Loss=0.156, Train Acc=94]  \n"
     ]
    },
    {
     "name": "stdout",
     "output_type": "stream",
     "text": [
      "Epoch 1646\n",
      "Train Loss: 0.1559, Train Accuracy: 94.03%\n",
      "Test Loss: 0.3466, Test Accuracy: 90.48%\n",
      "\n"
     ]
    },
    {
     "name": "stderr",
     "output_type": "stream",
     "text": [
      "Epoch 1647: 100%|██████████| 938/938 [00:17<00:00, 55.02batch/s, Train Loss=0.156, Train Acc=94]  \n"
     ]
    },
    {
     "name": "stdout",
     "output_type": "stream",
     "text": [
      "Epoch 1647\n",
      "Train Loss: 0.1564, Train Accuracy: 94.03%\n",
      "Test Loss: 0.3359, Test Accuracy: 90.42%\n",
      "\n"
     ]
    },
    {
     "name": "stderr",
     "output_type": "stream",
     "text": [
      "Epoch 1648: 100%|██████████| 938/938 [00:16<00:00, 55.19batch/s, Train Loss=0.158, Train Acc=94]  \n"
     ]
    },
    {
     "name": "stdout",
     "output_type": "stream",
     "text": [
      "Epoch 1648\n",
      "Train Loss: 0.1575, Train Accuracy: 93.99%\n",
      "Test Loss: 0.3406, Test Accuracy: 90.35%\n",
      "\n"
     ]
    },
    {
     "name": "stderr",
     "output_type": "stream",
     "text": [
      "Epoch 1649: 100%|██████████| 938/938 [00:17<00:00, 55.15batch/s, Train Loss=0.155, Train Acc=94.1]\n"
     ]
    },
    {
     "name": "stdout",
     "output_type": "stream",
     "text": [
      "Epoch 1649\n",
      "Train Loss: 0.1555, Train Accuracy: 94.06%\n",
      "Test Loss: 0.3330, Test Accuracy: 90.31%\n",
      "\n"
     ]
    },
    {
     "name": "stderr",
     "output_type": "stream",
     "text": [
      "Epoch 1650: 100%|██████████| 938/938 [00:17<00:00, 55.15batch/s, Train Loss=0.152, Train Acc=94.3]\n"
     ]
    },
    {
     "name": "stdout",
     "output_type": "stream",
     "text": [
      "Epoch 1650\n",
      "Train Loss: 0.1518, Train Accuracy: 94.26%\n",
      "Test Loss: 0.3334, Test Accuracy: 90.73%\n",
      "\n"
     ]
    },
    {
     "name": "stderr",
     "output_type": "stream",
     "text": [
      "Epoch 1651: 100%|██████████| 938/938 [00:17<00:00, 55.05batch/s, Train Loss=0.157, Train Acc=94]  \n"
     ]
    },
    {
     "name": "stdout",
     "output_type": "stream",
     "text": [
      "Epoch 1651\n",
      "Train Loss: 0.1568, Train Accuracy: 93.98%\n",
      "Test Loss: 0.3350, Test Accuracy: 90.43%\n",
      "\n"
     ]
    },
    {
     "name": "stderr",
     "output_type": "stream",
     "text": [
      "Epoch 1652: 100%|██████████| 938/938 [00:17<00:00, 55.17batch/s, Train Loss=0.154, Train Acc=94.1]\n"
     ]
    },
    {
     "name": "stdout",
     "output_type": "stream",
     "text": [
      "Epoch 1652\n",
      "Train Loss: 0.1536, Train Accuracy: 94.12%\n",
      "Test Loss: 0.3488, Test Accuracy: 90.03%\n",
      "\n"
     ]
    },
    {
     "name": "stderr",
     "output_type": "stream",
     "text": [
      "Epoch 1653: 100%|██████████| 938/938 [00:17<00:00, 55.08batch/s, Train Loss=0.152, Train Acc=94.2]\n"
     ]
    },
    {
     "name": "stdout",
     "output_type": "stream",
     "text": [
      "Epoch 1653\n",
      "Train Loss: 0.1523, Train Accuracy: 94.23%\n",
      "Test Loss: 0.3517, Test Accuracy: 89.99%\n",
      "\n"
     ]
    },
    {
     "name": "stderr",
     "output_type": "stream",
     "text": [
      "Epoch 1654: 100%|██████████| 938/938 [00:17<00:00, 55.10batch/s, Train Loss=0.156, Train Acc=94]  \n"
     ]
    },
    {
     "name": "stdout",
     "output_type": "stream",
     "text": [
      "Epoch 1654\n",
      "Train Loss: 0.1563, Train Accuracy: 94.00%\n",
      "Test Loss: 0.3536, Test Accuracy: 90.10%\n",
      "\n"
     ]
    },
    {
     "name": "stderr",
     "output_type": "stream",
     "text": [
      "Epoch 1655: 100%|██████████| 938/938 [00:17<00:00, 55.03batch/s, Train Loss=0.159, Train Acc=94]  \n"
     ]
    },
    {
     "name": "stdout",
     "output_type": "stream",
     "text": [
      "Epoch 1655\n",
      "Train Loss: 0.1585, Train Accuracy: 93.99%\n",
      "Test Loss: 0.3446, Test Accuracy: 90.26%\n",
      "\n"
     ]
    },
    {
     "name": "stderr",
     "output_type": "stream",
     "text": [
      "Epoch 1656: 100%|██████████| 938/938 [00:16<00:00, 55.19batch/s, Train Loss=0.155, Train Acc=94]  \n"
     ]
    },
    {
     "name": "stdout",
     "output_type": "stream",
     "text": [
      "Epoch 1656\n",
      "Train Loss: 0.1553, Train Accuracy: 94.00%\n",
      "Test Loss: 0.3542, Test Accuracy: 90.08%\n",
      "\n"
     ]
    },
    {
     "name": "stderr",
     "output_type": "stream",
     "text": [
      "Epoch 1657: 100%|██████████| 938/938 [00:17<00:00, 55.08batch/s, Train Loss=0.157, Train Acc=94.1]\n"
     ]
    },
    {
     "name": "stdout",
     "output_type": "stream",
     "text": [
      "Epoch 1657\n",
      "Train Loss: 0.1572, Train Accuracy: 94.12%\n",
      "Test Loss: 0.3484, Test Accuracy: 90.23%\n",
      "\n"
     ]
    },
    {
     "name": "stderr",
     "output_type": "stream",
     "text": [
      "Epoch 1658: 100%|██████████| 938/938 [00:17<00:00, 55.05batch/s, Train Loss=0.157, Train Acc=93.9]\n"
     ]
    },
    {
     "name": "stdout",
     "output_type": "stream",
     "text": [
      "Epoch 1658\n",
      "Train Loss: 0.1570, Train Accuracy: 93.94%\n",
      "Test Loss: 0.3436, Test Accuracy: 90.36%\n",
      "\n"
     ]
    },
    {
     "name": "stderr",
     "output_type": "stream",
     "text": [
      "Epoch 1659: 100%|██████████| 938/938 [00:17<00:00, 55.09batch/s, Train Loss=0.155, Train Acc=94.1]\n"
     ]
    },
    {
     "name": "stdout",
     "output_type": "stream",
     "text": [
      "Epoch 1659\n",
      "Train Loss: 0.1546, Train Accuracy: 94.07%\n",
      "Test Loss: 0.3456, Test Accuracy: 90.11%\n",
      "\n"
     ]
    },
    {
     "name": "stderr",
     "output_type": "stream",
     "text": [
      "Epoch 1660: 100%|██████████| 938/938 [00:17<00:00, 55.05batch/s, Train Loss=0.153, Train Acc=94.1]\n"
     ]
    },
    {
     "name": "stdout",
     "output_type": "stream",
     "text": [
      "Epoch 1660\n",
      "Train Loss: 0.1534, Train Accuracy: 94.14%\n",
      "Test Loss: 0.3636, Test Accuracy: 89.96%\n",
      "\n"
     ]
    },
    {
     "name": "stderr",
     "output_type": "stream",
     "text": [
      "Epoch 1661: 100%|██████████| 938/938 [00:17<00:00, 55.07batch/s, Train Loss=0.157, Train Acc=94.1]\n"
     ]
    },
    {
     "name": "stdout",
     "output_type": "stream",
     "text": [
      "Epoch 1661\n",
      "Train Loss: 0.1568, Train Accuracy: 94.09%\n",
      "Test Loss: 0.3515, Test Accuracy: 90.06%\n",
      "\n"
     ]
    },
    {
     "name": "stderr",
     "output_type": "stream",
     "text": [
      "Epoch 1662: 100%|██████████| 938/938 [00:17<00:00, 55.06batch/s, Train Loss=0.157, Train Acc=94]  \n"
     ]
    },
    {
     "name": "stdout",
     "output_type": "stream",
     "text": [
      "Epoch 1662\n",
      "Train Loss: 0.1574, Train Accuracy: 94.02%\n",
      "Test Loss: 0.3408, Test Accuracy: 90.23%\n",
      "\n"
     ]
    },
    {
     "name": "stderr",
     "output_type": "stream",
     "text": [
      "Epoch 1663: 100%|██████████| 938/938 [00:16<00:00, 55.27batch/s, Train Loss=0.151, Train Acc=94.2]\n"
     ]
    },
    {
     "name": "stdout",
     "output_type": "stream",
     "text": [
      "Epoch 1663\n",
      "Train Loss: 0.1514, Train Accuracy: 94.21%\n",
      "Test Loss: 0.3498, Test Accuracy: 90.40%\n",
      "\n"
     ]
    },
    {
     "name": "stderr",
     "output_type": "stream",
     "text": [
      "Epoch 1664: 100%|██████████| 938/938 [00:17<00:00, 54.93batch/s, Train Loss=0.156, Train Acc=94.2]\n"
     ]
    },
    {
     "name": "stdout",
     "output_type": "stream",
     "text": [
      "Epoch 1664\n",
      "Train Loss: 0.1557, Train Accuracy: 94.21%\n",
      "Test Loss: 0.3390, Test Accuracy: 90.22%\n",
      "\n"
     ]
    },
    {
     "name": "stderr",
     "output_type": "stream",
     "text": [
      "Epoch 1665: 100%|██████████| 938/938 [00:17<00:00, 55.05batch/s, Train Loss=0.152, Train Acc=94.2]\n"
     ]
    },
    {
     "name": "stdout",
     "output_type": "stream",
     "text": [
      "Epoch 1665\n",
      "Train Loss: 0.1519, Train Accuracy: 94.19%\n",
      "Test Loss: 0.3371, Test Accuracy: 90.37%\n",
      "\n"
     ]
    },
    {
     "name": "stderr",
     "output_type": "stream",
     "text": [
      "Epoch 1666: 100%|██████████| 938/938 [00:17<00:00, 55.14batch/s, Train Loss=0.152, Train Acc=94.2]\n"
     ]
    },
    {
     "name": "stdout",
     "output_type": "stream",
     "text": [
      "Epoch 1666\n",
      "Train Loss: 0.1519, Train Accuracy: 94.15%\n",
      "Test Loss: 0.3433, Test Accuracy: 90.61%\n",
      "\n"
     ]
    },
    {
     "name": "stderr",
     "output_type": "stream",
     "text": [
      "Epoch 1667: 100%|██████████| 938/938 [00:16<00:00, 55.22batch/s, Train Loss=0.151, Train Acc=94.2]\n"
     ]
    },
    {
     "name": "stdout",
     "output_type": "stream",
     "text": [
      "Epoch 1667\n",
      "Train Loss: 0.1514, Train Accuracy: 94.22%\n",
      "Test Loss: 0.3486, Test Accuracy: 90.15%\n",
      "\n"
     ]
    },
    {
     "name": "stderr",
     "output_type": "stream",
     "text": [
      "Epoch 1668: 100%|██████████| 938/938 [00:17<00:00, 55.17batch/s, Train Loss=0.153, Train Acc=94.1]\n"
     ]
    },
    {
     "name": "stdout",
     "output_type": "stream",
     "text": [
      "Epoch 1668\n",
      "Train Loss: 0.1526, Train Accuracy: 94.14%\n",
      "Test Loss: 0.3519, Test Accuracy: 90.42%\n",
      "\n"
     ]
    },
    {
     "name": "stderr",
     "output_type": "stream",
     "text": [
      "Epoch 1669: 100%|██████████| 938/938 [00:17<00:00, 55.10batch/s, Train Loss=0.153, Train Acc=94.2]\n"
     ]
    },
    {
     "name": "stdout",
     "output_type": "stream",
     "text": [
      "Epoch 1669\n",
      "Train Loss: 0.1528, Train Accuracy: 94.25%\n",
      "Test Loss: 0.3410, Test Accuracy: 90.37%\n",
      "\n"
     ]
    },
    {
     "name": "stderr",
     "output_type": "stream",
     "text": [
      "Epoch 1670: 100%|██████████| 938/938 [00:17<00:00, 55.14batch/s, Train Loss=0.152, Train Acc=94.2]\n"
     ]
    },
    {
     "name": "stdout",
     "output_type": "stream",
     "text": [
      "Epoch 1670\n",
      "Train Loss: 0.1518, Train Accuracy: 94.16%\n",
      "Test Loss: 0.3534, Test Accuracy: 90.20%\n",
      "\n"
     ]
    },
    {
     "name": "stderr",
     "output_type": "stream",
     "text": [
      "Epoch 1671: 100%|██████████| 938/938 [00:17<00:00, 55.02batch/s, Train Loss=0.154, Train Acc=94.1]\n"
     ]
    },
    {
     "name": "stdout",
     "output_type": "stream",
     "text": [
      "Epoch 1671\n",
      "Train Loss: 0.1536, Train Accuracy: 94.07%\n",
      "Test Loss: 0.3441, Test Accuracy: 90.26%\n",
      "\n"
     ]
    },
    {
     "name": "stderr",
     "output_type": "stream",
     "text": [
      "Epoch 1672: 100%|██████████| 938/938 [00:17<00:00, 55.17batch/s, Train Loss=0.152, Train Acc=94.2]\n"
     ]
    },
    {
     "name": "stdout",
     "output_type": "stream",
     "text": [
      "Epoch 1672\n",
      "Train Loss: 0.1525, Train Accuracy: 94.18%\n",
      "Test Loss: 0.3585, Test Accuracy: 90.28%\n",
      "\n"
     ]
    },
    {
     "name": "stderr",
     "output_type": "stream",
     "text": [
      "Epoch 1673: 100%|██████████| 938/938 [00:17<00:00, 55.09batch/s, Train Loss=0.154, Train Acc=94.1]\n"
     ]
    },
    {
     "name": "stdout",
     "output_type": "stream",
     "text": [
      "Epoch 1673\n",
      "Train Loss: 0.1540, Train Accuracy: 94.12%\n",
      "Test Loss: 0.3369, Test Accuracy: 90.50%\n",
      "\n"
     ]
    },
    {
     "name": "stderr",
     "output_type": "stream",
     "text": [
      "Epoch 1674: 100%|██████████| 938/938 [00:16<00:00, 55.18batch/s, Train Loss=0.153, Train Acc=94.2]\n"
     ]
    },
    {
     "name": "stdout",
     "output_type": "stream",
     "text": [
      "Epoch 1674\n",
      "Train Loss: 0.1532, Train Accuracy: 94.16%\n",
      "Test Loss: 0.3443, Test Accuracy: 90.43%\n",
      "\n"
     ]
    },
    {
     "name": "stderr",
     "output_type": "stream",
     "text": [
      "Epoch 1675: 100%|██████████| 938/938 [00:17<00:00, 55.01batch/s, Train Loss=0.153, Train Acc=94.2]\n"
     ]
    },
    {
     "name": "stdout",
     "output_type": "stream",
     "text": [
      "Epoch 1675\n",
      "Train Loss: 0.1527, Train Accuracy: 94.18%\n",
      "Test Loss: 0.3429, Test Accuracy: 90.47%\n",
      "\n"
     ]
    },
    {
     "name": "stderr",
     "output_type": "stream",
     "text": [
      "Epoch 1676: 100%|██████████| 938/938 [00:17<00:00, 55.08batch/s, Train Loss=0.153, Train Acc=94.1]\n"
     ]
    },
    {
     "name": "stdout",
     "output_type": "stream",
     "text": [
      "Epoch 1676\n",
      "Train Loss: 0.1531, Train Accuracy: 94.11%\n",
      "Test Loss: 0.3505, Test Accuracy: 90.21%\n",
      "\n"
     ]
    },
    {
     "name": "stderr",
     "output_type": "stream",
     "text": [
      "Epoch 1677: 100%|██████████| 938/938 [00:17<00:00, 55.13batch/s, Train Loss=0.155, Train Acc=94.1]\n"
     ]
    },
    {
     "name": "stdout",
     "output_type": "stream",
     "text": [
      "Epoch 1677\n",
      "Train Loss: 0.1548, Train Accuracy: 94.08%\n",
      "Test Loss: 0.3508, Test Accuracy: 90.16%\n",
      "\n"
     ]
    },
    {
     "name": "stderr",
     "output_type": "stream",
     "text": [
      "Epoch 1678: 100%|██████████| 938/938 [00:16<00:00, 55.23batch/s, Train Loss=0.152, Train Acc=94.3]\n"
     ]
    },
    {
     "name": "stdout",
     "output_type": "stream",
     "text": [
      "Epoch 1678\n",
      "Train Loss: 0.1523, Train Accuracy: 94.25%\n",
      "Test Loss: 0.3474, Test Accuracy: 90.17%\n",
      "\n"
     ]
    },
    {
     "name": "stderr",
     "output_type": "stream",
     "text": [
      "Epoch 1679: 100%|██████████| 938/938 [00:17<00:00, 55.16batch/s, Train Loss=0.152, Train Acc=94.2]\n"
     ]
    },
    {
     "name": "stdout",
     "output_type": "stream",
     "text": [
      "Epoch 1679\n",
      "Train Loss: 0.1521, Train Accuracy: 94.20%\n",
      "Test Loss: 0.3444, Test Accuracy: 90.45%\n",
      "\n"
     ]
    },
    {
     "name": "stderr",
     "output_type": "stream",
     "text": [
      "Epoch 1680: 100%|██████████| 938/938 [00:17<00:00, 55.14batch/s, Train Loss=0.149, Train Acc=94.4]\n"
     ]
    },
    {
     "name": "stdout",
     "output_type": "stream",
     "text": [
      "Epoch 1680\n",
      "Train Loss: 0.1494, Train Accuracy: 94.39%\n",
      "Test Loss: 0.3665, Test Accuracy: 89.85%\n",
      "\n"
     ]
    },
    {
     "name": "stderr",
     "output_type": "stream",
     "text": [
      "Epoch 1681: 100%|██████████| 938/938 [00:17<00:00, 55.13batch/s, Train Loss=0.154, Train Acc=94.2]\n"
     ]
    },
    {
     "name": "stdout",
     "output_type": "stream",
     "text": [
      "Epoch 1681\n",
      "Train Loss: 0.1537, Train Accuracy: 94.17%\n",
      "Test Loss: 0.3397, Test Accuracy: 90.40%\n",
      "\n"
     ]
    },
    {
     "name": "stderr",
     "output_type": "stream",
     "text": [
      "Epoch 1682: 100%|██████████| 938/938 [00:17<00:00, 55.08batch/s, Train Loss=0.153, Train Acc=94.1]\n"
     ]
    },
    {
     "name": "stdout",
     "output_type": "stream",
     "text": [
      "Epoch 1682\n",
      "Train Loss: 0.1534, Train Accuracy: 94.12%\n",
      "Test Loss: 0.3546, Test Accuracy: 90.52%\n",
      "\n"
     ]
    },
    {
     "name": "stderr",
     "output_type": "stream",
     "text": [
      "Epoch 1683: 100%|██████████| 938/938 [00:17<00:00, 55.07batch/s, Train Loss=0.155, Train Acc=94.1]\n"
     ]
    },
    {
     "name": "stdout",
     "output_type": "stream",
     "text": [
      "Epoch 1683\n",
      "Train Loss: 0.1548, Train Accuracy: 94.10%\n",
      "Test Loss: 0.3666, Test Accuracy: 90.29%\n",
      "\n"
     ]
    },
    {
     "name": "stderr",
     "output_type": "stream",
     "text": [
      "Epoch 1684: 100%|██████████| 938/938 [00:17<00:00, 55.01batch/s, Train Loss=0.153, Train Acc=94.1]\n"
     ]
    },
    {
     "name": "stdout",
     "output_type": "stream",
     "text": [
      "Epoch 1684\n",
      "Train Loss: 0.1529, Train Accuracy: 94.15%\n",
      "Test Loss: 0.3447, Test Accuracy: 90.49%\n",
      "\n"
     ]
    },
    {
     "name": "stderr",
     "output_type": "stream",
     "text": [
      "Epoch 1685: 100%|██████████| 938/938 [00:16<00:00, 55.23batch/s, Train Loss=0.15, Train Acc=94.2] \n"
     ]
    },
    {
     "name": "stdout",
     "output_type": "stream",
     "text": [
      "Epoch 1685\n",
      "Train Loss: 0.1501, Train Accuracy: 94.21%\n",
      "Test Loss: 0.3572, Test Accuracy: 90.06%\n",
      "\n"
     ]
    },
    {
     "name": "stderr",
     "output_type": "stream",
     "text": [
      "Epoch 1686: 100%|██████████| 938/938 [00:17<00:00, 55.13batch/s, Train Loss=0.152, Train Acc=94.3]\n"
     ]
    },
    {
     "name": "stdout",
     "output_type": "stream",
     "text": [
      "Epoch 1686\n",
      "Train Loss: 0.1517, Train Accuracy: 94.26%\n",
      "Test Loss: 0.3460, Test Accuracy: 90.44%\n",
      "\n"
     ]
    },
    {
     "name": "stderr",
     "output_type": "stream",
     "text": [
      "Epoch 1687: 100%|██████████| 938/938 [00:17<00:00, 55.13batch/s, Train Loss=0.151, Train Acc=94.3]\n"
     ]
    },
    {
     "name": "stdout",
     "output_type": "stream",
     "text": [
      "Epoch 1687\n",
      "Train Loss: 0.1514, Train Accuracy: 94.28%\n",
      "Test Loss: 0.3393, Test Accuracy: 90.39%\n",
      "\n"
     ]
    },
    {
     "name": "stderr",
     "output_type": "stream",
     "text": [
      "Epoch 1688: 100%|██████████| 938/938 [00:16<00:00, 55.27batch/s, Train Loss=0.153, Train Acc=94.2]\n"
     ]
    },
    {
     "name": "stdout",
     "output_type": "stream",
     "text": [
      "Epoch 1688\n",
      "Train Loss: 0.1525, Train Accuracy: 94.17%\n",
      "Test Loss: 0.3424, Test Accuracy: 90.58%\n",
      "\n"
     ]
    },
    {
     "name": "stderr",
     "output_type": "stream",
     "text": [
      "Epoch 1689: 100%|██████████| 938/938 [00:17<00:00, 55.11batch/s, Train Loss=0.151, Train Acc=94.1]\n"
     ]
    },
    {
     "name": "stdout",
     "output_type": "stream",
     "text": [
      "Epoch 1689\n",
      "Train Loss: 0.1513, Train Accuracy: 94.13%\n",
      "Test Loss: 0.3443, Test Accuracy: 90.26%\n",
      "\n"
     ]
    },
    {
     "name": "stderr",
     "output_type": "stream",
     "text": [
      "Epoch 1690: 100%|██████████| 938/938 [00:17<00:00, 55.06batch/s, Train Loss=0.147, Train Acc=94.4]\n"
     ]
    },
    {
     "name": "stdout",
     "output_type": "stream",
     "text": [
      "Epoch 1690\n",
      "Train Loss: 0.1472, Train Accuracy: 94.40%\n",
      "Test Loss: 0.3554, Test Accuracy: 89.98%\n",
      "\n"
     ]
    },
    {
     "name": "stderr",
     "output_type": "stream",
     "text": [
      "Epoch 1691: 100%|██████████| 938/938 [00:17<00:00, 55.06batch/s, Train Loss=0.152, Train Acc=94.2]\n"
     ]
    },
    {
     "name": "stdout",
     "output_type": "stream",
     "text": [
      "Epoch 1691\n",
      "Train Loss: 0.1517, Train Accuracy: 94.23%\n",
      "Test Loss: 0.3534, Test Accuracy: 90.09%\n",
      "\n"
     ]
    },
    {
     "name": "stderr",
     "output_type": "stream",
     "text": [
      "Epoch 1692: 100%|██████████| 938/938 [00:17<00:00, 55.17batch/s, Train Loss=0.152, Train Acc=94.2]\n"
     ]
    },
    {
     "name": "stdout",
     "output_type": "stream",
     "text": [
      "Epoch 1692\n",
      "Train Loss: 0.1519, Train Accuracy: 94.23%\n",
      "Test Loss: 0.3463, Test Accuracy: 90.19%\n",
      "\n"
     ]
    },
    {
     "name": "stderr",
     "output_type": "stream",
     "text": [
      "Epoch 1693: 100%|██████████| 938/938 [00:16<00:00, 55.19batch/s, Train Loss=0.151, Train Acc=94.4]\n"
     ]
    },
    {
     "name": "stdout",
     "output_type": "stream",
     "text": [
      "Epoch 1693\n",
      "Train Loss: 0.1512, Train Accuracy: 94.37%\n",
      "Test Loss: 0.3495, Test Accuracy: 90.50%\n",
      "\n"
     ]
    },
    {
     "name": "stderr",
     "output_type": "stream",
     "text": [
      "Epoch 1694: 100%|██████████| 938/938 [00:16<00:00, 55.24batch/s, Train Loss=0.155, Train Acc=94.2]\n"
     ]
    },
    {
     "name": "stdout",
     "output_type": "stream",
     "text": [
      "Epoch 1694\n",
      "Train Loss: 0.1547, Train Accuracy: 94.17%\n",
      "Test Loss: 0.3492, Test Accuracy: 90.15%\n",
      "\n"
     ]
    },
    {
     "name": "stderr",
     "output_type": "stream",
     "text": [
      "Epoch 1695: 100%|██████████| 938/938 [00:17<00:00, 55.09batch/s, Train Loss=0.15, Train Acc=94.3] \n"
     ]
    },
    {
     "name": "stdout",
     "output_type": "stream",
     "text": [
      "Epoch 1695\n",
      "Train Loss: 0.1497, Train Accuracy: 94.33%\n",
      "Test Loss: 0.3315, Test Accuracy: 90.89%\n",
      "\n"
     ]
    },
    {
     "name": "stderr",
     "output_type": "stream",
     "text": [
      "Epoch 1696: 100%|██████████| 938/938 [00:17<00:00, 55.12batch/s, Train Loss=0.151, Train Acc=94.3]\n"
     ]
    },
    {
     "name": "stdout",
     "output_type": "stream",
     "text": [
      "Epoch 1696\n",
      "Train Loss: 0.1508, Train Accuracy: 94.33%\n",
      "Test Loss: 0.3483, Test Accuracy: 90.47%\n",
      "\n"
     ]
    },
    {
     "name": "stderr",
     "output_type": "stream",
     "text": [
      "Epoch 1697: 100%|██████████| 938/938 [00:17<00:00, 55.13batch/s, Train Loss=0.154, Train Acc=94.2]\n"
     ]
    },
    {
     "name": "stdout",
     "output_type": "stream",
     "text": [
      "Epoch 1697\n",
      "Train Loss: 0.1539, Train Accuracy: 94.23%\n",
      "Test Loss: 0.3492, Test Accuracy: 90.23%\n",
      "\n"
     ]
    },
    {
     "name": "stderr",
     "output_type": "stream",
     "text": [
      "Epoch 1698: 100%|██████████| 938/938 [00:17<00:00, 54.98batch/s, Train Loss=0.154, Train Acc=94.1]\n"
     ]
    },
    {
     "name": "stdout",
     "output_type": "stream",
     "text": [
      "Epoch 1698\n",
      "Train Loss: 0.1542, Train Accuracy: 94.11%\n",
      "Test Loss: 0.3550, Test Accuracy: 90.27%\n",
      "\n"
     ]
    },
    {
     "name": "stderr",
     "output_type": "stream",
     "text": [
      "Epoch 1699: 100%|██████████| 938/938 [00:17<00:00, 55.01batch/s, Train Loss=0.151, Train Acc=94.3]\n"
     ]
    },
    {
     "name": "stdout",
     "output_type": "stream",
     "text": [
      "Epoch 1699\n",
      "Train Loss: 0.1510, Train Accuracy: 94.26%\n",
      "Test Loss: 0.3587, Test Accuracy: 90.05%\n",
      "\n"
     ]
    },
    {
     "name": "stderr",
     "output_type": "stream",
     "text": [
      "Epoch 1700: 100%|██████████| 938/938 [00:17<00:00, 55.12batch/s, Train Loss=0.15, Train Acc=94.3] \n"
     ]
    },
    {
     "name": "stdout",
     "output_type": "stream",
     "text": [
      "Epoch 1700\n",
      "Train Loss: 0.1499, Train Accuracy: 94.31%\n",
      "Test Loss: 0.3577, Test Accuracy: 90.28%\n",
      "\n"
     ]
    },
    {
     "name": "stderr",
     "output_type": "stream",
     "text": [
      "Epoch 1701: 100%|██████████| 938/938 [00:17<00:00, 55.06batch/s, Train Loss=0.149, Train Acc=94.4]\n"
     ]
    },
    {
     "name": "stdout",
     "output_type": "stream",
     "text": [
      "Epoch 1701\n",
      "Train Loss: 0.1494, Train Accuracy: 94.36%\n",
      "Test Loss: 0.3434, Test Accuracy: 90.22%\n",
      "\n"
     ]
    },
    {
     "name": "stderr",
     "output_type": "stream",
     "text": [
      "Epoch 1702: 100%|██████████| 938/938 [00:17<00:00, 55.07batch/s, Train Loss=0.15, Train Acc=94.3] \n"
     ]
    },
    {
     "name": "stdout",
     "output_type": "stream",
     "text": [
      "Epoch 1702\n",
      "Train Loss: 0.1505, Train Accuracy: 94.30%\n",
      "Test Loss: 0.3445, Test Accuracy: 90.44%\n",
      "\n"
     ]
    },
    {
     "name": "stderr",
     "output_type": "stream",
     "text": [
      "Epoch 1703: 100%|██████████| 938/938 [00:16<00:00, 55.20batch/s, Train Loss=0.149, Train Acc=94.3]\n"
     ]
    },
    {
     "name": "stdout",
     "output_type": "stream",
     "text": [
      "Epoch 1703\n",
      "Train Loss: 0.1486, Train Accuracy: 94.33%\n",
      "Test Loss: 0.3556, Test Accuracy: 90.22%\n",
      "\n"
     ]
    },
    {
     "name": "stderr",
     "output_type": "stream",
     "text": [
      "Epoch 1704: 100%|██████████| 938/938 [00:17<00:00, 55.14batch/s, Train Loss=0.147, Train Acc=94.4]\n"
     ]
    },
    {
     "name": "stdout",
     "output_type": "stream",
     "text": [
      "Epoch 1704\n",
      "Train Loss: 0.1472, Train Accuracy: 94.40%\n",
      "Test Loss: 0.3615, Test Accuracy: 89.82%\n",
      "\n"
     ]
    },
    {
     "name": "stderr",
     "output_type": "stream",
     "text": [
      "Epoch 1705: 100%|██████████| 938/938 [00:17<00:00, 55.11batch/s, Train Loss=0.151, Train Acc=94.2]\n"
     ]
    },
    {
     "name": "stdout",
     "output_type": "stream",
     "text": [
      "Epoch 1705\n",
      "Train Loss: 0.1513, Train Accuracy: 94.20%\n",
      "Test Loss: 0.3537, Test Accuracy: 90.16%\n",
      "\n"
     ]
    },
    {
     "name": "stderr",
     "output_type": "stream",
     "text": [
      "Epoch 1706: 100%|██████████| 938/938 [00:16<00:00, 55.22batch/s, Train Loss=0.149, Train Acc=94.3]\n"
     ]
    },
    {
     "name": "stdout",
     "output_type": "stream",
     "text": [
      "Epoch 1706\n",
      "Train Loss: 0.1493, Train Accuracy: 94.27%\n",
      "Test Loss: 0.3540, Test Accuracy: 90.17%\n",
      "\n"
     ]
    },
    {
     "name": "stderr",
     "output_type": "stream",
     "text": [
      "Epoch 1707: 100%|██████████| 938/938 [00:16<00:00, 55.27batch/s, Train Loss=0.152, Train Acc=94.2]\n"
     ]
    },
    {
     "name": "stdout",
     "output_type": "stream",
     "text": [
      "Epoch 1707\n",
      "Train Loss: 0.1517, Train Accuracy: 94.22%\n",
      "Test Loss: 0.3518, Test Accuracy: 90.34%\n",
      "\n"
     ]
    },
    {
     "name": "stderr",
     "output_type": "stream",
     "text": [
      "Epoch 1708: 100%|██████████| 938/938 [00:16<00:00, 55.20batch/s, Train Loss=0.151, Train Acc=94.3]\n"
     ]
    },
    {
     "name": "stdout",
     "output_type": "stream",
     "text": [
      "Epoch 1708\n",
      "Train Loss: 0.1510, Train Accuracy: 94.30%\n",
      "Test Loss: 0.3572, Test Accuracy: 90.35%\n",
      "\n"
     ]
    },
    {
     "name": "stderr",
     "output_type": "stream",
     "text": [
      "Epoch 1709: 100%|██████████| 938/938 [00:16<00:00, 55.25batch/s, Train Loss=0.149, Train Acc=94.4]\n"
     ]
    },
    {
     "name": "stdout",
     "output_type": "stream",
     "text": [
      "Epoch 1709\n",
      "Train Loss: 0.1490, Train Accuracy: 94.38%\n",
      "Test Loss: 0.3503, Test Accuracy: 90.52%\n",
      "\n"
     ]
    },
    {
     "name": "stderr",
     "output_type": "stream",
     "text": [
      "Epoch 1710: 100%|██████████| 938/938 [00:17<00:00, 55.10batch/s, Train Loss=0.15, Train Acc=94.3] \n"
     ]
    },
    {
     "name": "stdout",
     "output_type": "stream",
     "text": [
      "Epoch 1710\n",
      "Train Loss: 0.1501, Train Accuracy: 94.30%\n",
      "Test Loss: 0.3366, Test Accuracy: 90.29%\n",
      "\n"
     ]
    },
    {
     "name": "stderr",
     "output_type": "stream",
     "text": [
      "Epoch 1711: 100%|██████████| 938/938 [00:17<00:00, 55.12batch/s, Train Loss=0.148, Train Acc=94.4]\n"
     ]
    },
    {
     "name": "stdout",
     "output_type": "stream",
     "text": [
      "Epoch 1711\n",
      "Train Loss: 0.1480, Train Accuracy: 94.42%\n",
      "Test Loss: 0.3480, Test Accuracy: 89.94%\n",
      "\n"
     ]
    },
    {
     "name": "stderr",
     "output_type": "stream",
     "text": [
      "Epoch 1712: 100%|██████████| 938/938 [00:17<00:00, 55.10batch/s, Train Loss=0.149, Train Acc=94.3]\n"
     ]
    },
    {
     "name": "stdout",
     "output_type": "stream",
     "text": [
      "Epoch 1712\n",
      "Train Loss: 0.1495, Train Accuracy: 94.26%\n",
      "Test Loss: 0.3480, Test Accuracy: 90.17%\n",
      "\n"
     ]
    },
    {
     "name": "stderr",
     "output_type": "stream",
     "text": [
      "Epoch 1713: 100%|██████████| 938/938 [00:16<00:00, 55.18batch/s, Train Loss=0.149, Train Acc=94.4]\n"
     ]
    },
    {
     "name": "stdout",
     "output_type": "stream",
     "text": [
      "Epoch 1713\n",
      "Train Loss: 0.1493, Train Accuracy: 94.38%\n",
      "Test Loss: 0.3462, Test Accuracy: 90.28%\n",
      "\n"
     ]
    },
    {
     "name": "stderr",
     "output_type": "stream",
     "text": [
      "Epoch 1714: 100%|██████████| 938/938 [00:17<00:00, 55.12batch/s, Train Loss=0.146, Train Acc=94.4]\n"
     ]
    },
    {
     "name": "stdout",
     "output_type": "stream",
     "text": [
      "Epoch 1714\n",
      "Train Loss: 0.1463, Train Accuracy: 94.39%\n",
      "Test Loss: 0.3558, Test Accuracy: 90.19%\n",
      "\n"
     ]
    },
    {
     "name": "stderr",
     "output_type": "stream",
     "text": [
      "Epoch 1715: 100%|██████████| 938/938 [00:17<00:00, 55.05batch/s, Train Loss=0.15, Train Acc=94.3] \n"
     ]
    },
    {
     "name": "stdout",
     "output_type": "stream",
     "text": [
      "Epoch 1715\n",
      "Train Loss: 0.1502, Train Accuracy: 94.27%\n",
      "Test Loss: 0.3557, Test Accuracy: 90.23%\n",
      "\n"
     ]
    },
    {
     "name": "stderr",
     "output_type": "stream",
     "text": [
      "Epoch 1716: 100%|██████████| 938/938 [00:16<00:00, 55.23batch/s, Train Loss=0.149, Train Acc=94.4]\n"
     ]
    },
    {
     "name": "stdout",
     "output_type": "stream",
     "text": [
      "Epoch 1716\n",
      "Train Loss: 0.1491, Train Accuracy: 94.38%\n",
      "Test Loss: 0.3600, Test Accuracy: 90.20%\n",
      "\n"
     ]
    },
    {
     "name": "stderr",
     "output_type": "stream",
     "text": [
      "Epoch 1717: 100%|██████████| 938/938 [00:16<00:00, 55.21batch/s, Train Loss=0.149, Train Acc=94.4]\n"
     ]
    },
    {
     "name": "stdout",
     "output_type": "stream",
     "text": [
      "Epoch 1717\n",
      "Train Loss: 0.1493, Train Accuracy: 94.39%\n",
      "Test Loss: 0.3587, Test Accuracy: 89.88%\n",
      "\n"
     ]
    },
    {
     "name": "stderr",
     "output_type": "stream",
     "text": [
      "Epoch 1718: 100%|██████████| 938/938 [00:17<00:00, 55.10batch/s, Train Loss=0.151, Train Acc=94.3]\n"
     ]
    },
    {
     "name": "stdout",
     "output_type": "stream",
     "text": [
      "Epoch 1718\n",
      "Train Loss: 0.1507, Train Accuracy: 94.29%\n",
      "Test Loss: 0.3556, Test Accuracy: 90.18%\n",
      "\n"
     ]
    },
    {
     "name": "stderr",
     "output_type": "stream",
     "text": [
      "Epoch 1719: 100%|██████████| 938/938 [00:17<00:00, 55.01batch/s, Train Loss=0.146, Train Acc=94.4]\n"
     ]
    },
    {
     "name": "stdout",
     "output_type": "stream",
     "text": [
      "Epoch 1719\n",
      "Train Loss: 0.1465, Train Accuracy: 94.43%\n",
      "Test Loss: 0.3518, Test Accuracy: 90.14%\n",
      "\n"
     ]
    },
    {
     "name": "stderr",
     "output_type": "stream",
     "text": [
      "Epoch 1720: 100%|██████████| 938/938 [00:17<00:00, 55.05batch/s, Train Loss=0.149, Train Acc=94.4]\n"
     ]
    },
    {
     "name": "stdout",
     "output_type": "stream",
     "text": [
      "Epoch 1720\n",
      "Train Loss: 0.1489, Train Accuracy: 94.36%\n",
      "Test Loss: 0.3497, Test Accuracy: 90.27%\n",
      "\n"
     ]
    },
    {
     "name": "stderr",
     "output_type": "stream",
     "text": [
      "Epoch 1721: 100%|██████████| 938/938 [00:17<00:00, 54.97batch/s, Train Loss=0.15, Train Acc=94.3] \n"
     ]
    },
    {
     "name": "stdout",
     "output_type": "stream",
     "text": [
      "Epoch 1721\n",
      "Train Loss: 0.1500, Train Accuracy: 94.34%\n",
      "Test Loss: 0.3453, Test Accuracy: 90.04%\n",
      "\n"
     ]
    },
    {
     "name": "stderr",
     "output_type": "stream",
     "text": [
      "Epoch 1722: 100%|██████████| 938/938 [00:17<00:00, 55.10batch/s, Train Loss=0.148, Train Acc=94.4]\n"
     ]
    },
    {
     "name": "stdout",
     "output_type": "stream",
     "text": [
      "Epoch 1722\n",
      "Train Loss: 0.1479, Train Accuracy: 94.41%\n",
      "Test Loss: 0.3369, Test Accuracy: 90.25%\n",
      "\n"
     ]
    },
    {
     "name": "stderr",
     "output_type": "stream",
     "text": [
      "Epoch 1723: 100%|██████████| 938/938 [00:17<00:00, 54.98batch/s, Train Loss=0.149, Train Acc=94.3]\n"
     ]
    },
    {
     "name": "stdout",
     "output_type": "stream",
     "text": [
      "Epoch 1723\n",
      "Train Loss: 0.1489, Train Accuracy: 94.31%\n",
      "Test Loss: 0.3467, Test Accuracy: 90.26%\n",
      "\n"
     ]
    },
    {
     "name": "stderr",
     "output_type": "stream",
     "text": [
      "Epoch 1724: 100%|██████████| 938/938 [00:17<00:00, 55.13batch/s, Train Loss=0.147, Train Acc=94.3]\n"
     ]
    },
    {
     "name": "stdout",
     "output_type": "stream",
     "text": [
      "Epoch 1724\n",
      "Train Loss: 0.1473, Train Accuracy: 94.28%\n",
      "Test Loss: 0.3532, Test Accuracy: 90.20%\n",
      "\n"
     ]
    },
    {
     "name": "stderr",
     "output_type": "stream",
     "text": [
      "Epoch 1725: 100%|██████████| 938/938 [00:17<00:00, 55.17batch/s, Train Loss=0.147, Train Acc=94.4]\n"
     ]
    },
    {
     "name": "stdout",
     "output_type": "stream",
     "text": [
      "Epoch 1725\n",
      "Train Loss: 0.1474, Train Accuracy: 94.41%\n",
      "Test Loss: 0.3494, Test Accuracy: 90.26%\n",
      "\n"
     ]
    },
    {
     "name": "stderr",
     "output_type": "stream",
     "text": [
      "Epoch 1726: 100%|██████████| 938/938 [00:17<00:00, 55.11batch/s, Train Loss=0.148, Train Acc=94.4]\n"
     ]
    },
    {
     "name": "stdout",
     "output_type": "stream",
     "text": [
      "Epoch 1726\n",
      "Train Loss: 0.1480, Train Accuracy: 94.42%\n",
      "Test Loss: 0.3447, Test Accuracy: 89.96%\n",
      "\n"
     ]
    },
    {
     "name": "stderr",
     "output_type": "stream",
     "text": [
      "Epoch 1727: 100%|██████████| 938/938 [00:17<00:00, 54.94batch/s, Train Loss=0.15, Train Acc=94.3] \n"
     ]
    },
    {
     "name": "stdout",
     "output_type": "stream",
     "text": [
      "Epoch 1727\n",
      "Train Loss: 0.1499, Train Accuracy: 94.32%\n",
      "Test Loss: 0.3357, Test Accuracy: 90.33%\n",
      "\n"
     ]
    },
    {
     "name": "stderr",
     "output_type": "stream",
     "text": [
      "Epoch 1728: 100%|██████████| 938/938 [00:17<00:00, 55.15batch/s, Train Loss=0.146, Train Acc=94.5]\n"
     ]
    },
    {
     "name": "stdout",
     "output_type": "stream",
     "text": [
      "Epoch 1728\n",
      "Train Loss: 0.1465, Train Accuracy: 94.46%\n",
      "Test Loss: 0.3413, Test Accuracy: 90.41%\n",
      "\n"
     ]
    },
    {
     "name": "stderr",
     "output_type": "stream",
     "text": [
      "Epoch 1729: 100%|██████████| 938/938 [00:17<00:00, 55.09batch/s, Train Loss=0.148, Train Acc=94.4]\n"
     ]
    },
    {
     "name": "stdout",
     "output_type": "stream",
     "text": [
      "Epoch 1729\n",
      "Train Loss: 0.1480, Train Accuracy: 94.44%\n",
      "Test Loss: 0.3441, Test Accuracy: 90.03%\n",
      "\n"
     ]
    },
    {
     "name": "stderr",
     "output_type": "stream",
     "text": [
      "Epoch 1730: 100%|██████████| 938/938 [00:17<00:00, 55.11batch/s, Train Loss=0.151, Train Acc=94.2]\n"
     ]
    },
    {
     "name": "stdout",
     "output_type": "stream",
     "text": [
      "Epoch 1730\n",
      "Train Loss: 0.1512, Train Accuracy: 94.22%\n",
      "Test Loss: 0.3418, Test Accuracy: 90.70%\n",
      "\n"
     ]
    },
    {
     "name": "stderr",
     "output_type": "stream",
     "text": [
      "Epoch 1731: 100%|██████████| 938/938 [00:17<00:00, 55.14batch/s, Train Loss=0.148, Train Acc=94.4]\n"
     ]
    },
    {
     "name": "stdout",
     "output_type": "stream",
     "text": [
      "Epoch 1731\n",
      "Train Loss: 0.1481, Train Accuracy: 94.40%\n",
      "Test Loss: 0.3489, Test Accuracy: 90.22%\n",
      "\n"
     ]
    },
    {
     "name": "stderr",
     "output_type": "stream",
     "text": [
      "Epoch 1732: 100%|██████████| 938/938 [00:16<00:00, 55.19batch/s, Train Loss=0.146, Train Acc=94.6]\n"
     ]
    },
    {
     "name": "stdout",
     "output_type": "stream",
     "text": [
      "Epoch 1732\n",
      "Train Loss: 0.1463, Train Accuracy: 94.57%\n",
      "Test Loss: 0.3474, Test Accuracy: 90.26%\n",
      "\n"
     ]
    },
    {
     "name": "stderr",
     "output_type": "stream",
     "text": [
      "Epoch 1733: 100%|██████████| 938/938 [00:16<00:00, 55.32batch/s, Train Loss=0.148, Train Acc=94.4]\n"
     ]
    },
    {
     "name": "stdout",
     "output_type": "stream",
     "text": [
      "Epoch 1733\n",
      "Train Loss: 0.1484, Train Accuracy: 94.41%\n",
      "Test Loss: 0.3467, Test Accuracy: 90.38%\n",
      "\n"
     ]
    },
    {
     "name": "stderr",
     "output_type": "stream",
     "text": [
      "Epoch 1734: 100%|██████████| 938/938 [00:16<00:00, 55.19batch/s, Train Loss=0.144, Train Acc=94.5]\n"
     ]
    },
    {
     "name": "stdout",
     "output_type": "stream",
     "text": [
      "Epoch 1734\n",
      "Train Loss: 0.1440, Train Accuracy: 94.54%\n",
      "Test Loss: 0.3587, Test Accuracy: 90.42%\n",
      "\n"
     ]
    },
    {
     "name": "stderr",
     "output_type": "stream",
     "text": [
      "Epoch 1735: 100%|██████████| 938/938 [00:17<00:00, 55.08batch/s, Train Loss=0.146, Train Acc=94.5]\n"
     ]
    },
    {
     "name": "stdout",
     "output_type": "stream",
     "text": [
      "Epoch 1735\n",
      "Train Loss: 0.1460, Train Accuracy: 94.46%\n",
      "Test Loss: 0.3629, Test Accuracy: 90.10%\n",
      "\n"
     ]
    },
    {
     "name": "stderr",
     "output_type": "stream",
     "text": [
      "Epoch 1736: 100%|██████████| 938/938 [00:17<00:00, 54.90batch/s, Train Loss=0.149, Train Acc=94.4]\n"
     ]
    },
    {
     "name": "stdout",
     "output_type": "stream",
     "text": [
      "Epoch 1736\n",
      "Train Loss: 0.1486, Train Accuracy: 94.40%\n",
      "Test Loss: 0.3586, Test Accuracy: 90.32%\n",
      "\n"
     ]
    },
    {
     "name": "stderr",
     "output_type": "stream",
     "text": [
      "Epoch 1737: 100%|██████████| 938/938 [00:17<00:00, 55.06batch/s, Train Loss=0.146, Train Acc=94.4]\n"
     ]
    },
    {
     "name": "stdout",
     "output_type": "stream",
     "text": [
      "Epoch 1737\n",
      "Train Loss: 0.1461, Train Accuracy: 94.40%\n",
      "Test Loss: 0.3633, Test Accuracy: 90.11%\n",
      "\n"
     ]
    },
    {
     "name": "stderr",
     "output_type": "stream",
     "text": [
      "Epoch 1738: 100%|██████████| 938/938 [00:16<00:00, 55.25batch/s, Train Loss=0.147, Train Acc=94.5]\n"
     ]
    },
    {
     "name": "stdout",
     "output_type": "stream",
     "text": [
      "Epoch 1738\n",
      "Train Loss: 0.1467, Train Accuracy: 94.51%\n",
      "Test Loss: 0.3687, Test Accuracy: 90.08%\n",
      "\n"
     ]
    },
    {
     "name": "stderr",
     "output_type": "stream",
     "text": [
      "Epoch 1739: 100%|██████████| 938/938 [00:17<00:00, 55.02batch/s, Train Loss=0.146, Train Acc=94.6]\n"
     ]
    },
    {
     "name": "stdout",
     "output_type": "stream",
     "text": [
      "Epoch 1739\n",
      "Train Loss: 0.1462, Train Accuracy: 94.56%\n",
      "Test Loss: 0.3502, Test Accuracy: 90.18%\n",
      "\n"
     ]
    },
    {
     "name": "stderr",
     "output_type": "stream",
     "text": [
      "Epoch 1740: 100%|██████████| 938/938 [00:17<00:00, 55.12batch/s, Train Loss=0.147, Train Acc=94.5]\n"
     ]
    },
    {
     "name": "stdout",
     "output_type": "stream",
     "text": [
      "Epoch 1740\n",
      "Train Loss: 0.1467, Train Accuracy: 94.47%\n",
      "Test Loss: 0.3523, Test Accuracy: 90.24%\n",
      "\n"
     ]
    },
    {
     "name": "stderr",
     "output_type": "stream",
     "text": [
      "Epoch 1741: 100%|██████████| 938/938 [00:17<00:00, 55.04batch/s, Train Loss=0.145, Train Acc=94.5]\n"
     ]
    },
    {
     "name": "stdout",
     "output_type": "stream",
     "text": [
      "Epoch 1741\n",
      "Train Loss: 0.1448, Train Accuracy: 94.49%\n",
      "Test Loss: 0.3584, Test Accuracy: 90.06%\n",
      "\n"
     ]
    },
    {
     "name": "stderr",
     "output_type": "stream",
     "text": [
      "Epoch 1742: 100%|██████████| 938/938 [00:17<00:00, 55.07batch/s, Train Loss=0.149, Train Acc=94.4]\n"
     ]
    },
    {
     "name": "stdout",
     "output_type": "stream",
     "text": [
      "Epoch 1742\n",
      "Train Loss: 0.1488, Train Accuracy: 94.36%\n",
      "Test Loss: 0.3508, Test Accuracy: 90.12%\n",
      "\n"
     ]
    },
    {
     "name": "stderr",
     "output_type": "stream",
     "text": [
      "Epoch 1743: 100%|██████████| 938/938 [00:17<00:00, 55.12batch/s, Train Loss=0.147, Train Acc=94.5]\n"
     ]
    },
    {
     "name": "stdout",
     "output_type": "stream",
     "text": [
      "Epoch 1743\n",
      "Train Loss: 0.1467, Train Accuracy: 94.47%\n",
      "Test Loss: 0.3512, Test Accuracy: 90.38%\n",
      "\n"
     ]
    },
    {
     "name": "stderr",
     "output_type": "stream",
     "text": [
      "Epoch 1744: 100%|██████████| 938/938 [00:17<00:00, 54.99batch/s, Train Loss=0.145, Train Acc=94.5]\n"
     ]
    },
    {
     "name": "stdout",
     "output_type": "stream",
     "text": [
      "Epoch 1744\n",
      "Train Loss: 0.1451, Train Accuracy: 94.54%\n",
      "Test Loss: 0.3492, Test Accuracy: 90.37%\n",
      "\n"
     ]
    },
    {
     "name": "stderr",
     "output_type": "stream",
     "text": [
      "Epoch 1745: 100%|██████████| 938/938 [00:17<00:00, 55.08batch/s, Train Loss=0.146, Train Acc=94.5]\n"
     ]
    },
    {
     "name": "stdout",
     "output_type": "stream",
     "text": [
      "Epoch 1745\n",
      "Train Loss: 0.1463, Train Accuracy: 94.45%\n",
      "Test Loss: 0.3578, Test Accuracy: 90.16%\n",
      "\n"
     ]
    },
    {
     "name": "stderr",
     "output_type": "stream",
     "text": [
      "Epoch 1746: 100%|██████████| 938/938 [00:17<00:00, 55.13batch/s, Train Loss=0.146, Train Acc=94.5]\n"
     ]
    },
    {
     "name": "stdout",
     "output_type": "stream",
     "text": [
      "Epoch 1746\n",
      "Train Loss: 0.1460, Train Accuracy: 94.54%\n",
      "Test Loss: 0.3647, Test Accuracy: 90.12%\n",
      "\n"
     ]
    },
    {
     "name": "stderr",
     "output_type": "stream",
     "text": [
      "Epoch 1747: 100%|██████████| 938/938 [00:16<00:00, 55.23batch/s, Train Loss=0.144, Train Acc=94.5]\n"
     ]
    },
    {
     "name": "stdout",
     "output_type": "stream",
     "text": [
      "Epoch 1747\n",
      "Train Loss: 0.1445, Train Accuracy: 94.52%\n",
      "Test Loss: 0.3551, Test Accuracy: 90.21%\n",
      "\n"
     ]
    },
    {
     "name": "stderr",
     "output_type": "stream",
     "text": [
      "Epoch 1748: 100%|██████████| 938/938 [00:17<00:00, 55.16batch/s, Train Loss=0.145, Train Acc=94.4]\n"
     ]
    },
    {
     "name": "stdout",
     "output_type": "stream",
     "text": [
      "Epoch 1748\n",
      "Train Loss: 0.1452, Train Accuracy: 94.43%\n",
      "Test Loss: 0.3458, Test Accuracy: 90.54%\n",
      "\n"
     ]
    },
    {
     "name": "stderr",
     "output_type": "stream",
     "text": [
      "Epoch 1749: 100%|██████████| 938/938 [00:17<00:00, 55.11batch/s, Train Loss=0.143, Train Acc=94.6]\n"
     ]
    },
    {
     "name": "stdout",
     "output_type": "stream",
     "text": [
      "Epoch 1749\n",
      "Train Loss: 0.1433, Train Accuracy: 94.56%\n",
      "Test Loss: 0.3609, Test Accuracy: 90.04%\n",
      "\n"
     ]
    },
    {
     "name": "stderr",
     "output_type": "stream",
     "text": [
      "Epoch 1750: 100%|██████████| 938/938 [00:17<00:00, 55.08batch/s, Train Loss=0.146, Train Acc=94.5]\n"
     ]
    },
    {
     "name": "stdout",
     "output_type": "stream",
     "text": [
      "Epoch 1750\n",
      "Train Loss: 0.1464, Train Accuracy: 94.47%\n",
      "Test Loss: 0.3453, Test Accuracy: 90.31%\n",
      "\n"
     ]
    },
    {
     "name": "stderr",
     "output_type": "stream",
     "text": [
      "Epoch 1751: 100%|██████████| 938/938 [00:17<00:00, 55.06batch/s, Train Loss=0.145, Train Acc=94.4]\n"
     ]
    },
    {
     "name": "stdout",
     "output_type": "stream",
     "text": [
      "Epoch 1751\n",
      "Train Loss: 0.1454, Train Accuracy: 94.44%\n",
      "Test Loss: 0.3349, Test Accuracy: 90.45%\n",
      "\n"
     ]
    },
    {
     "name": "stderr",
     "output_type": "stream",
     "text": [
      "Epoch 1752: 100%|██████████| 938/938 [00:17<00:00, 55.08batch/s, Train Loss=0.145, Train Acc=94.6]\n"
     ]
    },
    {
     "name": "stdout",
     "output_type": "stream",
     "text": [
      "Epoch 1752\n",
      "Train Loss: 0.1446, Train Accuracy: 94.57%\n",
      "Test Loss: 0.3424, Test Accuracy: 90.39%\n",
      "\n"
     ]
    },
    {
     "name": "stderr",
     "output_type": "stream",
     "text": [
      "Epoch 1753: 100%|██████████| 938/938 [00:17<00:00, 55.16batch/s, Train Loss=0.146, Train Acc=94.5]\n"
     ]
    },
    {
     "name": "stdout",
     "output_type": "stream",
     "text": [
      "Epoch 1753\n",
      "Train Loss: 0.1459, Train Accuracy: 94.51%\n",
      "Test Loss: 0.3507, Test Accuracy: 90.38%\n",
      "\n"
     ]
    },
    {
     "name": "stderr",
     "output_type": "stream",
     "text": [
      "Epoch 1754: 100%|██████████| 938/938 [00:17<00:00, 55.06batch/s, Train Loss=0.144, Train Acc=94.5]\n"
     ]
    },
    {
     "name": "stdout",
     "output_type": "stream",
     "text": [
      "Epoch 1754\n",
      "Train Loss: 0.1440, Train Accuracy: 94.50%\n",
      "Test Loss: 0.3564, Test Accuracy: 90.18%\n",
      "\n"
     ]
    },
    {
     "name": "stderr",
     "output_type": "stream",
     "text": [
      "Epoch 1755: 100%|██████████| 938/938 [00:16<00:00, 55.28batch/s, Train Loss=0.145, Train Acc=94.4]\n"
     ]
    },
    {
     "name": "stdout",
     "output_type": "stream",
     "text": [
      "Epoch 1755\n",
      "Train Loss: 0.1454, Train Accuracy: 94.42%\n",
      "Test Loss: 0.3551, Test Accuracy: 90.28%\n",
      "\n"
     ]
    },
    {
     "name": "stderr",
     "output_type": "stream",
     "text": [
      "Epoch 1756: 100%|██████████| 938/938 [00:17<00:00, 55.16batch/s, Train Loss=0.148, Train Acc=94.4]\n"
     ]
    },
    {
     "name": "stdout",
     "output_type": "stream",
     "text": [
      "Epoch 1756\n",
      "Train Loss: 0.1476, Train Accuracy: 94.41%\n",
      "Test Loss: 0.3572, Test Accuracy: 90.09%\n",
      "\n"
     ]
    },
    {
     "name": "stderr",
     "output_type": "stream",
     "text": [
      "Epoch 1757: 100%|██████████| 938/938 [00:16<00:00, 55.22batch/s, Train Loss=0.144, Train Acc=94.5]\n"
     ]
    },
    {
     "name": "stdout",
     "output_type": "stream",
     "text": [
      "Epoch 1757\n",
      "Train Loss: 0.1442, Train Accuracy: 94.54%\n",
      "Test Loss: 0.3529, Test Accuracy: 90.09%\n",
      "\n"
     ]
    },
    {
     "name": "stderr",
     "output_type": "stream",
     "text": [
      "Epoch 1758: 100%|██████████| 938/938 [00:17<00:00, 55.14batch/s, Train Loss=0.148, Train Acc=94.3]\n"
     ]
    },
    {
     "name": "stdout",
     "output_type": "stream",
     "text": [
      "Epoch 1758\n",
      "Train Loss: 0.1476, Train Accuracy: 94.34%\n",
      "Test Loss: 0.3501, Test Accuracy: 90.43%\n",
      "\n"
     ]
    },
    {
     "name": "stderr",
     "output_type": "stream",
     "text": [
      "Epoch 1759: 100%|██████████| 938/938 [00:17<00:00, 55.11batch/s, Train Loss=0.144, Train Acc=94.6]\n"
     ]
    },
    {
     "name": "stdout",
     "output_type": "stream",
     "text": [
      "Epoch 1759\n",
      "Train Loss: 0.1436, Train Accuracy: 94.58%\n",
      "Test Loss: 0.3618, Test Accuracy: 90.09%\n",
      "\n"
     ]
    },
    {
     "name": "stderr",
     "output_type": "stream",
     "text": [
      "Epoch 1760: 100%|██████████| 938/938 [00:17<00:00, 55.12batch/s, Train Loss=0.145, Train Acc=94.5]\n"
     ]
    },
    {
     "name": "stdout",
     "output_type": "stream",
     "text": [
      "Epoch 1760\n",
      "Train Loss: 0.1450, Train Accuracy: 94.50%\n",
      "Test Loss: 0.3495, Test Accuracy: 90.25%\n",
      "\n"
     ]
    },
    {
     "name": "stderr",
     "output_type": "stream",
     "text": [
      "Epoch 1761: 100%|██████████| 938/938 [00:17<00:00, 55.09batch/s, Train Loss=0.144, Train Acc=94.5]\n"
     ]
    },
    {
     "name": "stdout",
     "output_type": "stream",
     "text": [
      "Epoch 1761\n",
      "Train Loss: 0.1443, Train Accuracy: 94.51%\n",
      "Test Loss: 0.3583, Test Accuracy: 90.30%\n",
      "\n"
     ]
    },
    {
     "name": "stderr",
     "output_type": "stream",
     "text": [
      "Epoch 1762: 100%|██████████| 938/938 [00:17<00:00, 55.00batch/s, Train Loss=0.144, Train Acc=94.5]\n"
     ]
    },
    {
     "name": "stdout",
     "output_type": "stream",
     "text": [
      "Epoch 1762\n",
      "Train Loss: 0.1438, Train Accuracy: 94.53%\n",
      "Test Loss: 0.3592, Test Accuracy: 90.32%\n",
      "\n"
     ]
    },
    {
     "name": "stderr",
     "output_type": "stream",
     "text": [
      "Epoch 1763: 100%|██████████| 938/938 [00:17<00:00, 55.01batch/s, Train Loss=0.143, Train Acc=94.5]\n"
     ]
    },
    {
     "name": "stdout",
     "output_type": "stream",
     "text": [
      "Epoch 1763\n",
      "Train Loss: 0.1428, Train Accuracy: 94.54%\n",
      "Test Loss: 0.3650, Test Accuracy: 90.18%\n",
      "\n"
     ]
    },
    {
     "name": "stderr",
     "output_type": "stream",
     "text": [
      "Epoch 1764: 100%|██████████| 938/938 [00:17<00:00, 55.15batch/s, Train Loss=0.147, Train Acc=94.5]\n"
     ]
    },
    {
     "name": "stdout",
     "output_type": "stream",
     "text": [
      "Epoch 1764\n",
      "Train Loss: 0.1467, Train Accuracy: 94.49%\n",
      "Test Loss: 0.3480, Test Accuracy: 90.41%\n",
      "\n"
     ]
    },
    {
     "name": "stderr",
     "output_type": "stream",
     "text": [
      "Epoch 1765: 100%|██████████| 938/938 [00:16<00:00, 55.20batch/s, Train Loss=0.147, Train Acc=94.4]\n"
     ]
    },
    {
     "name": "stdout",
     "output_type": "stream",
     "text": [
      "Epoch 1765\n",
      "Train Loss: 0.1470, Train Accuracy: 94.42%\n",
      "Test Loss: 0.3454, Test Accuracy: 90.45%\n",
      "\n"
     ]
    },
    {
     "name": "stderr",
     "output_type": "stream",
     "text": [
      "Epoch 1766: 100%|██████████| 938/938 [00:16<00:00, 55.19batch/s, Train Loss=0.141, Train Acc=94.6]\n"
     ]
    },
    {
     "name": "stdout",
     "output_type": "stream",
     "text": [
      "Epoch 1766\n",
      "Train Loss: 0.1409, Train Accuracy: 94.65%\n",
      "Test Loss: 0.3535, Test Accuracy: 90.58%\n",
      "\n"
     ]
    },
    {
     "name": "stderr",
     "output_type": "stream",
     "text": [
      "Epoch 1767: 100%|██████████| 938/938 [00:17<00:00, 55.08batch/s, Train Loss=0.141, Train Acc=94.7]\n"
     ]
    },
    {
     "name": "stdout",
     "output_type": "stream",
     "text": [
      "Epoch 1767\n",
      "Train Loss: 0.1407, Train Accuracy: 94.67%\n",
      "Test Loss: 0.3548, Test Accuracy: 90.40%\n",
      "\n"
     ]
    },
    {
     "name": "stderr",
     "output_type": "stream",
     "text": [
      "Epoch 1768: 100%|██████████| 938/938 [00:17<00:00, 55.14batch/s, Train Loss=0.143, Train Acc=94.5]\n"
     ]
    },
    {
     "name": "stdout",
     "output_type": "stream",
     "text": [
      "Epoch 1768\n",
      "Train Loss: 0.1432, Train Accuracy: 94.51%\n",
      "Test Loss: 0.3408, Test Accuracy: 90.47%\n",
      "\n"
     ]
    },
    {
     "name": "stderr",
     "output_type": "stream",
     "text": [
      "Epoch 1769: 100%|██████████| 938/938 [00:17<00:00, 55.13batch/s, Train Loss=0.141, Train Acc=94.7]\n"
     ]
    },
    {
     "name": "stdout",
     "output_type": "stream",
     "text": [
      "Epoch 1769\n",
      "Train Loss: 0.1413, Train Accuracy: 94.71%\n",
      "Test Loss: 0.3405, Test Accuracy: 90.61%\n",
      "\n"
     ]
    },
    {
     "name": "stderr",
     "output_type": "stream",
     "text": [
      "Epoch 1770: 100%|██████████| 938/938 [00:17<00:00, 54.98batch/s, Train Loss=0.147, Train Acc=94.4]\n"
     ]
    },
    {
     "name": "stdout",
     "output_type": "stream",
     "text": [
      "Epoch 1770\n",
      "Train Loss: 0.1468, Train Accuracy: 94.43%\n",
      "Test Loss: 0.3551, Test Accuracy: 90.37%\n",
      "\n"
     ]
    },
    {
     "name": "stderr",
     "output_type": "stream",
     "text": [
      "Epoch 1771: 100%|██████████| 938/938 [00:17<00:00, 55.15batch/s, Train Loss=0.142, Train Acc=94.6]\n"
     ]
    },
    {
     "name": "stdout",
     "output_type": "stream",
     "text": [
      "Epoch 1771\n",
      "Train Loss: 0.1424, Train Accuracy: 94.62%\n",
      "Test Loss: 0.3527, Test Accuracy: 90.35%\n",
      "\n"
     ]
    },
    {
     "name": "stderr",
     "output_type": "stream",
     "text": [
      "Epoch 1772: 100%|██████████| 938/938 [00:17<00:00, 55.02batch/s, Train Loss=0.142, Train Acc=94.5]\n"
     ]
    },
    {
     "name": "stdout",
     "output_type": "stream",
     "text": [
      "Epoch 1772\n",
      "Train Loss: 0.1423, Train Accuracy: 94.53%\n",
      "Test Loss: 0.3521, Test Accuracy: 90.72%\n",
      "\n"
     ]
    },
    {
     "name": "stderr",
     "output_type": "stream",
     "text": [
      "Epoch 1773: 100%|██████████| 938/938 [00:17<00:00, 55.08batch/s, Train Loss=0.142, Train Acc=94.5]\n"
     ]
    },
    {
     "name": "stdout",
     "output_type": "stream",
     "text": [
      "Epoch 1773\n",
      "Train Loss: 0.1420, Train Accuracy: 94.47%\n",
      "Test Loss: 0.3584, Test Accuracy: 90.39%\n",
      "\n"
     ]
    },
    {
     "name": "stderr",
     "output_type": "stream",
     "text": [
      "Epoch 1774: 100%|██████████| 938/938 [00:17<00:00, 55.00batch/s, Train Loss=0.146, Train Acc=94.4]\n"
     ]
    },
    {
     "name": "stdout",
     "output_type": "stream",
     "text": [
      "Epoch 1774\n",
      "Train Loss: 0.1461, Train Accuracy: 94.38%\n",
      "Test Loss: 0.3620, Test Accuracy: 90.26%\n",
      "\n"
     ]
    },
    {
     "name": "stderr",
     "output_type": "stream",
     "text": [
      "Epoch 1775: 100%|██████████| 938/938 [00:17<00:00, 55.08batch/s, Train Loss=0.141, Train Acc=94.7]\n"
     ]
    },
    {
     "name": "stdout",
     "output_type": "stream",
     "text": [
      "Epoch 1775\n",
      "Train Loss: 0.1408, Train Accuracy: 94.71%\n",
      "Test Loss: 0.3631, Test Accuracy: 90.38%\n",
      "\n"
     ]
    },
    {
     "name": "stderr",
     "output_type": "stream",
     "text": [
      "Epoch 1776: 100%|██████████| 938/938 [00:17<00:00, 55.06batch/s, Train Loss=0.141, Train Acc=94.7]\n"
     ]
    },
    {
     "name": "stdout",
     "output_type": "stream",
     "text": [
      "Epoch 1776\n",
      "Train Loss: 0.1414, Train Accuracy: 94.66%\n",
      "Test Loss: 0.3590, Test Accuracy: 90.33%\n",
      "\n"
     ]
    },
    {
     "name": "stderr",
     "output_type": "stream",
     "text": [
      "Epoch 1777: 100%|██████████| 938/938 [00:17<00:00, 55.15batch/s, Train Loss=0.143, Train Acc=94.6]\n"
     ]
    },
    {
     "name": "stdout",
     "output_type": "stream",
     "text": [
      "Epoch 1777\n",
      "Train Loss: 0.1432, Train Accuracy: 94.57%\n",
      "Test Loss: 0.3642, Test Accuracy: 90.37%\n",
      "\n"
     ]
    },
    {
     "name": "stderr",
     "output_type": "stream",
     "text": [
      "Epoch 1778: 100%|██████████| 938/938 [00:17<00:00, 54.99batch/s, Train Loss=0.141, Train Acc=94.7]\n"
     ]
    },
    {
     "name": "stdout",
     "output_type": "stream",
     "text": [
      "Epoch 1778\n",
      "Train Loss: 0.1410, Train Accuracy: 94.65%\n",
      "Test Loss: 0.3564, Test Accuracy: 90.40%\n",
      "\n"
     ]
    },
    {
     "name": "stderr",
     "output_type": "stream",
     "text": [
      "Epoch 1779: 100%|██████████| 938/938 [00:17<00:00, 55.12batch/s, Train Loss=0.144, Train Acc=94.6]\n"
     ]
    },
    {
     "name": "stdout",
     "output_type": "stream",
     "text": [
      "Epoch 1779\n",
      "Train Loss: 0.1443, Train Accuracy: 94.56%\n",
      "Test Loss: 0.3501, Test Accuracy: 90.57%\n",
      "\n"
     ]
    },
    {
     "name": "stderr",
     "output_type": "stream",
     "text": [
      "Epoch 1780: 100%|██████████| 938/938 [00:17<00:00, 55.03batch/s, Train Loss=0.144, Train Acc=94.5]\n"
     ]
    },
    {
     "name": "stdout",
     "output_type": "stream",
     "text": [
      "Epoch 1780\n",
      "Train Loss: 0.1437, Train Accuracy: 94.49%\n",
      "Test Loss: 0.3431, Test Accuracy: 90.47%\n",
      "\n"
     ]
    },
    {
     "name": "stderr",
     "output_type": "stream",
     "text": [
      "Epoch 1781: 100%|██████████| 938/938 [00:17<00:00, 55.10batch/s, Train Loss=0.142, Train Acc=94.6]\n"
     ]
    },
    {
     "name": "stdout",
     "output_type": "stream",
     "text": [
      "Epoch 1781\n",
      "Train Loss: 0.1422, Train Accuracy: 94.64%\n",
      "Test Loss: 0.3597, Test Accuracy: 90.45%\n",
      "\n"
     ]
    },
    {
     "name": "stderr",
     "output_type": "stream",
     "text": [
      "Epoch 1782: 100%|██████████| 938/938 [00:17<00:00, 55.10batch/s, Train Loss=0.143, Train Acc=94.6]\n"
     ]
    },
    {
     "name": "stdout",
     "output_type": "stream",
     "text": [
      "Epoch 1782\n",
      "Train Loss: 0.1430, Train Accuracy: 94.61%\n",
      "Test Loss: 0.3434, Test Accuracy: 90.25%\n",
      "\n"
     ]
    },
    {
     "name": "stderr",
     "output_type": "stream",
     "text": [
      "Epoch 1783: 100%|██████████| 938/938 [00:17<00:00, 55.09batch/s, Train Loss=0.141, Train Acc=94.7]\n"
     ]
    },
    {
     "name": "stdout",
     "output_type": "stream",
     "text": [
      "Epoch 1783\n",
      "Train Loss: 0.1409, Train Accuracy: 94.74%\n",
      "Test Loss: 0.3524, Test Accuracy: 90.52%\n",
      "\n"
     ]
    },
    {
     "name": "stderr",
     "output_type": "stream",
     "text": [
      "Epoch 1784: 100%|██████████| 938/938 [00:17<00:00, 55.07batch/s, Train Loss=0.144, Train Acc=94.5]\n"
     ]
    },
    {
     "name": "stdout",
     "output_type": "stream",
     "text": [
      "Epoch 1784\n",
      "Train Loss: 0.1442, Train Accuracy: 94.55%\n",
      "Test Loss: 0.3559, Test Accuracy: 90.52%\n",
      "\n"
     ]
    },
    {
     "name": "stderr",
     "output_type": "stream",
     "text": [
      "Epoch 1785: 100%|██████████| 938/938 [00:17<00:00, 55.05batch/s, Train Loss=0.144, Train Acc=94.6]\n"
     ]
    },
    {
     "name": "stdout",
     "output_type": "stream",
     "text": [
      "Epoch 1785\n",
      "Train Loss: 0.1437, Train Accuracy: 94.56%\n",
      "Test Loss: 0.3502, Test Accuracy: 90.48%\n",
      "\n"
     ]
    },
    {
     "name": "stderr",
     "output_type": "stream",
     "text": [
      "Epoch 1786: 100%|██████████| 938/938 [00:17<00:00, 55.16batch/s, Train Loss=0.14, Train Acc=94.8] \n"
     ]
    },
    {
     "name": "stdout",
     "output_type": "stream",
     "text": [
      "Epoch 1786\n",
      "Train Loss: 0.1396, Train Accuracy: 94.78%\n",
      "Test Loss: 0.3507, Test Accuracy: 90.57%\n",
      "\n"
     ]
    },
    {
     "name": "stderr",
     "output_type": "stream",
     "text": [
      "Epoch 1787: 100%|██████████| 938/938 [00:16<00:00, 55.27batch/s, Train Loss=0.142, Train Acc=94.6]\n"
     ]
    },
    {
     "name": "stdout",
     "output_type": "stream",
     "text": [
      "Epoch 1787\n",
      "Train Loss: 0.1416, Train Accuracy: 94.63%\n",
      "Test Loss: 0.3577, Test Accuracy: 90.52%\n",
      "\n"
     ]
    },
    {
     "name": "stderr",
     "output_type": "stream",
     "text": [
      "Epoch 1788: 100%|██████████| 938/938 [00:17<00:00, 55.12batch/s, Train Loss=0.139, Train Acc=94.7]\n"
     ]
    },
    {
     "name": "stdout",
     "output_type": "stream",
     "text": [
      "Epoch 1788\n",
      "Train Loss: 0.1388, Train Accuracy: 94.67%\n",
      "Test Loss: 0.3555, Test Accuracy: 90.35%\n",
      "\n"
     ]
    },
    {
     "name": "stderr",
     "output_type": "stream",
     "text": [
      "Epoch 1789: 100%|██████████| 938/938 [00:17<00:00, 55.13batch/s, Train Loss=0.14, Train Acc=94.7] \n"
     ]
    },
    {
     "name": "stdout",
     "output_type": "stream",
     "text": [
      "Epoch 1789\n",
      "Train Loss: 0.1403, Train Accuracy: 94.71%\n",
      "Test Loss: 0.3525, Test Accuracy: 90.44%\n",
      "\n"
     ]
    },
    {
     "name": "stderr",
     "output_type": "stream",
     "text": [
      "Epoch 1790: 100%|██████████| 938/938 [00:16<00:00, 55.20batch/s, Train Loss=0.14, Train Acc=94.8] \n"
     ]
    },
    {
     "name": "stdout",
     "output_type": "stream",
     "text": [
      "Epoch 1790\n",
      "Train Loss: 0.1397, Train Accuracy: 94.81%\n",
      "Test Loss: 0.3578, Test Accuracy: 90.54%\n",
      "\n"
     ]
    },
    {
     "name": "stderr",
     "output_type": "stream",
     "text": [
      "Epoch 1791: 100%|██████████| 938/938 [00:16<00:00, 55.24batch/s, Train Loss=0.14, Train Acc=94.6] \n"
     ]
    },
    {
     "name": "stdout",
     "output_type": "stream",
     "text": [
      "Epoch 1791\n",
      "Train Loss: 0.1402, Train Accuracy: 94.65%\n",
      "Test Loss: 0.3647, Test Accuracy: 90.38%\n",
      "\n"
     ]
    },
    {
     "name": "stderr",
     "output_type": "stream",
     "text": [
      "Epoch 1792: 100%|██████████| 938/938 [00:17<00:00, 55.15batch/s, Train Loss=0.144, Train Acc=94.5]\n"
     ]
    },
    {
     "name": "stdout",
     "output_type": "stream",
     "text": [
      "Epoch 1792\n",
      "Train Loss: 0.1443, Train Accuracy: 94.53%\n",
      "Test Loss: 0.3580, Test Accuracy: 90.29%\n",
      "\n"
     ]
    },
    {
     "name": "stderr",
     "output_type": "stream",
     "text": [
      "Epoch 1793: 100%|██████████| 938/938 [00:17<00:00, 55.09batch/s, Train Loss=0.144, Train Acc=94.6]\n"
     ]
    },
    {
     "name": "stdout",
     "output_type": "stream",
     "text": [
      "Epoch 1793\n",
      "Train Loss: 0.1442, Train Accuracy: 94.62%\n",
      "Test Loss: 0.3558, Test Accuracy: 90.17%\n",
      "\n"
     ]
    },
    {
     "name": "stderr",
     "output_type": "stream",
     "text": [
      "Epoch 1794: 100%|██████████| 938/938 [00:17<00:00, 55.14batch/s, Train Loss=0.141, Train Acc=94.6]\n"
     ]
    },
    {
     "name": "stdout",
     "output_type": "stream",
     "text": [
      "Epoch 1794\n",
      "Train Loss: 0.1406, Train Accuracy: 94.59%\n",
      "Test Loss: 0.3553, Test Accuracy: 90.34%\n",
      "\n"
     ]
    },
    {
     "name": "stderr",
     "output_type": "stream",
     "text": [
      "Epoch 1795: 100%|██████████| 938/938 [00:17<00:00, 55.12batch/s, Train Loss=0.141, Train Acc=94.7]\n"
     ]
    },
    {
     "name": "stdout",
     "output_type": "stream",
     "text": [
      "Epoch 1795\n",
      "Train Loss: 0.1412, Train Accuracy: 94.75%\n",
      "Test Loss: 0.3588, Test Accuracy: 90.52%\n",
      "\n"
     ]
    },
    {
     "name": "stderr",
     "output_type": "stream",
     "text": [
      "Epoch 1796: 100%|██████████| 938/938 [00:17<00:00, 55.07batch/s, Train Loss=0.138, Train Acc=94.8]\n"
     ]
    },
    {
     "name": "stdout",
     "output_type": "stream",
     "text": [
      "Epoch 1796\n",
      "Train Loss: 0.1382, Train Accuracy: 94.82%\n",
      "Test Loss: 0.3683, Test Accuracy: 90.66%\n",
      "\n"
     ]
    },
    {
     "name": "stderr",
     "output_type": "stream",
     "text": [
      "Epoch 1797: 100%|██████████| 938/938 [00:17<00:00, 55.06batch/s, Train Loss=0.141, Train Acc=94.7]\n"
     ]
    },
    {
     "name": "stdout",
     "output_type": "stream",
     "text": [
      "Epoch 1797\n",
      "Train Loss: 0.1409, Train Accuracy: 94.71%\n",
      "Test Loss: 0.3690, Test Accuracy: 90.37%\n",
      "\n"
     ]
    },
    {
     "name": "stderr",
     "output_type": "stream",
     "text": [
      "Epoch 1798: 100%|██████████| 938/938 [00:17<00:00, 55.09batch/s, Train Loss=0.139, Train Acc=94.7]\n"
     ]
    },
    {
     "name": "stdout",
     "output_type": "stream",
     "text": [
      "Epoch 1798\n",
      "Train Loss: 0.1391, Train Accuracy: 94.72%\n",
      "Test Loss: 0.3579, Test Accuracy: 90.37%\n",
      "\n"
     ]
    },
    {
     "name": "stderr",
     "output_type": "stream",
     "text": [
      "Epoch 1799: 100%|██████████| 938/938 [00:16<00:00, 55.21batch/s, Train Loss=0.139, Train Acc=94.8]\n"
     ]
    },
    {
     "name": "stdout",
     "output_type": "stream",
     "text": [
      "Epoch 1799\n",
      "Train Loss: 0.1393, Train Accuracy: 94.78%\n",
      "Test Loss: 0.3496, Test Accuracy: 90.48%\n",
      "\n"
     ]
    },
    {
     "name": "stderr",
     "output_type": "stream",
     "text": [
      "Epoch 1800: 100%|██████████| 938/938 [00:16<00:00, 55.25batch/s, Train Loss=0.142, Train Acc=94.6]\n"
     ]
    },
    {
     "name": "stdout",
     "output_type": "stream",
     "text": [
      "Epoch 1800\n",
      "Train Loss: 0.1417, Train Accuracy: 94.63%\n",
      "Test Loss: 0.3562, Test Accuracy: 90.51%\n",
      "\n"
     ]
    },
    {
     "name": "stderr",
     "output_type": "stream",
     "text": [
      "Epoch 1801: 100%|██████████| 938/938 [00:16<00:00, 55.24batch/s, Train Loss=0.139, Train Acc=94.7]\n"
     ]
    },
    {
     "name": "stdout",
     "output_type": "stream",
     "text": [
      "Epoch 1801\n",
      "Train Loss: 0.1389, Train Accuracy: 94.75%\n",
      "Test Loss: 0.3605, Test Accuracy: 90.31%\n",
      "\n"
     ]
    },
    {
     "name": "stderr",
     "output_type": "stream",
     "text": [
      "Epoch 1802: 100%|██████████| 938/938 [00:17<00:00, 55.10batch/s, Train Loss=0.143, Train Acc=94.6]\n"
     ]
    },
    {
     "name": "stdout",
     "output_type": "stream",
     "text": [
      "Epoch 1802\n",
      "Train Loss: 0.1431, Train Accuracy: 94.61%\n",
      "Test Loss: 0.3586, Test Accuracy: 90.42%\n",
      "\n"
     ]
    },
    {
     "name": "stderr",
     "output_type": "stream",
     "text": [
      "Epoch 1803: 100%|██████████| 938/938 [00:16<00:00, 55.18batch/s, Train Loss=0.14, Train Acc=94.7] \n"
     ]
    },
    {
     "name": "stdout",
     "output_type": "stream",
     "text": [
      "Epoch 1803\n",
      "Train Loss: 0.1398, Train Accuracy: 94.70%\n",
      "Test Loss: 0.3611, Test Accuracy: 90.20%\n",
      "\n"
     ]
    },
    {
     "name": "stderr",
     "output_type": "stream",
     "text": [
      "Epoch 1804: 100%|██████████| 938/938 [00:17<00:00, 55.04batch/s, Train Loss=0.141, Train Acc=94.5]\n"
     ]
    },
    {
     "name": "stdout",
     "output_type": "stream",
     "text": [
      "Epoch 1804\n",
      "Train Loss: 0.1413, Train Accuracy: 94.53%\n",
      "Test Loss: 0.3696, Test Accuracy: 90.08%\n",
      "\n"
     ]
    },
    {
     "name": "stderr",
     "output_type": "stream",
     "text": [
      "Epoch 1805: 100%|██████████| 938/938 [00:17<00:00, 55.12batch/s, Train Loss=0.14, Train Acc=94.7] \n"
     ]
    },
    {
     "name": "stdout",
     "output_type": "stream",
     "text": [
      "Epoch 1805\n",
      "Train Loss: 0.1399, Train Accuracy: 94.71%\n",
      "Test Loss: 0.3601, Test Accuracy: 90.29%\n",
      "\n"
     ]
    },
    {
     "name": "stderr",
     "output_type": "stream",
     "text": [
      "Epoch 1806: 100%|██████████| 938/938 [00:16<00:00, 55.19batch/s, Train Loss=0.141, Train Acc=94.6]\n"
     ]
    },
    {
     "name": "stdout",
     "output_type": "stream",
     "text": [
      "Epoch 1806\n",
      "Train Loss: 0.1410, Train Accuracy: 94.64%\n",
      "Test Loss: 0.3518, Test Accuracy: 90.19%\n",
      "\n"
     ]
    },
    {
     "name": "stderr",
     "output_type": "stream",
     "text": [
      "Epoch 1807: 100%|██████████| 938/938 [00:16<00:00, 55.19batch/s, Train Loss=0.138, Train Acc=94.8]\n"
     ]
    },
    {
     "name": "stdout",
     "output_type": "stream",
     "text": [
      "Epoch 1807\n",
      "Train Loss: 0.1382, Train Accuracy: 94.80%\n",
      "Test Loss: 0.3504, Test Accuracy: 90.24%\n",
      "\n"
     ]
    },
    {
     "name": "stderr",
     "output_type": "stream",
     "text": [
      "Epoch 1808: 100%|██████████| 938/938 [00:17<00:00, 55.12batch/s, Train Loss=0.142, Train Acc=94.6]\n"
     ]
    },
    {
     "name": "stdout",
     "output_type": "stream",
     "text": [
      "Epoch 1808\n",
      "Train Loss: 0.1417, Train Accuracy: 94.64%\n",
      "Test Loss: 0.3508, Test Accuracy: 90.09%\n",
      "\n"
     ]
    },
    {
     "name": "stderr",
     "output_type": "stream",
     "text": [
      "Epoch 1809: 100%|██████████| 938/938 [00:17<00:00, 55.10batch/s, Train Loss=0.141, Train Acc=94.7]\n"
     ]
    },
    {
     "name": "stdout",
     "output_type": "stream",
     "text": [
      "Epoch 1809\n",
      "Train Loss: 0.1412, Train Accuracy: 94.67%\n",
      "Test Loss: 0.3512, Test Accuracy: 90.13%\n",
      "\n"
     ]
    },
    {
     "name": "stderr",
     "output_type": "stream",
     "text": [
      "Epoch 1810: 100%|██████████| 938/938 [00:17<00:00, 55.13batch/s, Train Loss=0.144, Train Acc=94.4]\n"
     ]
    },
    {
     "name": "stdout",
     "output_type": "stream",
     "text": [
      "Epoch 1810\n",
      "Train Loss: 0.1444, Train Accuracy: 94.43%\n",
      "Test Loss: 0.3534, Test Accuracy: 90.17%\n",
      "\n"
     ]
    },
    {
     "name": "stderr",
     "output_type": "stream",
     "text": [
      "Epoch 1811: 100%|██████████| 938/938 [00:17<00:00, 55.08batch/s, Train Loss=0.137, Train Acc=94.9]\n"
     ]
    },
    {
     "name": "stdout",
     "output_type": "stream",
     "text": [
      "Epoch 1811\n",
      "Train Loss: 0.1370, Train Accuracy: 94.87%\n",
      "Test Loss: 0.3417, Test Accuracy: 90.47%\n",
      "\n"
     ]
    },
    {
     "name": "stderr",
     "output_type": "stream",
     "text": [
      "Epoch 1812: 100%|██████████| 938/938 [00:17<00:00, 55.06batch/s, Train Loss=0.139, Train Acc=94.8]\n"
     ]
    },
    {
     "name": "stdout",
     "output_type": "stream",
     "text": [
      "Epoch 1812\n",
      "Train Loss: 0.1390, Train Accuracy: 94.75%\n",
      "Test Loss: 0.3644, Test Accuracy: 90.27%\n",
      "\n"
     ]
    },
    {
     "name": "stderr",
     "output_type": "stream",
     "text": [
      "Epoch 1813: 100%|██████████| 938/938 [00:16<00:00, 55.23batch/s, Train Loss=0.14, Train Acc=94.7] \n"
     ]
    },
    {
     "name": "stdout",
     "output_type": "stream",
     "text": [
      "Epoch 1813\n",
      "Train Loss: 0.1403, Train Accuracy: 94.66%\n",
      "Test Loss: 0.3413, Test Accuracy: 90.69%\n",
      "\n"
     ]
    },
    {
     "name": "stderr",
     "output_type": "stream",
     "text": [
      "Epoch 1814: 100%|██████████| 938/938 [00:17<00:00, 55.13batch/s, Train Loss=0.14, Train Acc=94.7] \n"
     ]
    },
    {
     "name": "stdout",
     "output_type": "stream",
     "text": [
      "Epoch 1814\n",
      "Train Loss: 0.1401, Train Accuracy: 94.70%\n",
      "Test Loss: 0.3540, Test Accuracy: 90.24%\n",
      "\n"
     ]
    },
    {
     "name": "stderr",
     "output_type": "stream",
     "text": [
      "Epoch 1815: 100%|██████████| 938/938 [00:17<00:00, 54.91batch/s, Train Loss=0.137, Train Acc=94.8]\n"
     ]
    },
    {
     "name": "stdout",
     "output_type": "stream",
     "text": [
      "Epoch 1815\n",
      "Train Loss: 0.1373, Train Accuracy: 94.81%\n",
      "Test Loss: 0.3692, Test Accuracy: 90.21%\n",
      "\n"
     ]
    },
    {
     "name": "stderr",
     "output_type": "stream",
     "text": [
      "Epoch 1816: 100%|██████████| 938/938 [00:17<00:00, 55.16batch/s, Train Loss=0.139, Train Acc=94.8]\n"
     ]
    },
    {
     "name": "stdout",
     "output_type": "stream",
     "text": [
      "Epoch 1816\n",
      "Train Loss: 0.1387, Train Accuracy: 94.75%\n",
      "Test Loss: 0.3721, Test Accuracy: 90.25%\n",
      "\n"
     ]
    },
    {
     "name": "stderr",
     "output_type": "stream",
     "text": [
      "Epoch 1817: 100%|██████████| 938/938 [00:17<00:00, 55.11batch/s, Train Loss=0.139, Train Acc=94.7]\n"
     ]
    },
    {
     "name": "stdout",
     "output_type": "stream",
     "text": [
      "Epoch 1817\n",
      "Train Loss: 0.1388, Train Accuracy: 94.68%\n",
      "Test Loss: 0.3554, Test Accuracy: 90.13%\n",
      "\n"
     ]
    },
    {
     "name": "stderr",
     "output_type": "stream",
     "text": [
      "Epoch 1818: 100%|██████████| 938/938 [00:16<00:00, 55.24batch/s, Train Loss=0.138, Train Acc=94.8]\n"
     ]
    },
    {
     "name": "stdout",
     "output_type": "stream",
     "text": [
      "Epoch 1818\n",
      "Train Loss: 0.1382, Train Accuracy: 94.79%\n",
      "Test Loss: 0.3700, Test Accuracy: 90.21%\n",
      "\n"
     ]
    },
    {
     "name": "stderr",
     "output_type": "stream",
     "text": [
      "Epoch 1819: 100%|██████████| 938/938 [00:17<00:00, 55.15batch/s, Train Loss=0.138, Train Acc=94.7]\n"
     ]
    },
    {
     "name": "stdout",
     "output_type": "stream",
     "text": [
      "Epoch 1819\n",
      "Train Loss: 0.1377, Train Accuracy: 94.69%\n",
      "Test Loss: 0.3699, Test Accuracy: 90.45%\n",
      "\n"
     ]
    },
    {
     "name": "stderr",
     "output_type": "stream",
     "text": [
      "Epoch 1820: 100%|██████████| 938/938 [00:16<00:00, 55.23batch/s, Train Loss=0.137, Train Acc=94.8]\n"
     ]
    },
    {
     "name": "stdout",
     "output_type": "stream",
     "text": [
      "Epoch 1820\n",
      "Train Loss: 0.1374, Train Accuracy: 94.79%\n",
      "Test Loss: 0.3684, Test Accuracy: 90.30%\n",
      "\n"
     ]
    },
    {
     "name": "stderr",
     "output_type": "stream",
     "text": [
      "Epoch 1821: 100%|██████████| 938/938 [00:17<00:00, 55.05batch/s, Train Loss=0.138, Train Acc=94.9]\n"
     ]
    },
    {
     "name": "stdout",
     "output_type": "stream",
     "text": [
      "Epoch 1821\n",
      "Train Loss: 0.1377, Train Accuracy: 94.91%\n",
      "Test Loss: 0.3693, Test Accuracy: 90.34%\n",
      "\n"
     ]
    },
    {
     "name": "stderr",
     "output_type": "stream",
     "text": [
      "Epoch 1822: 100%|██████████| 938/938 [00:17<00:00, 55.14batch/s, Train Loss=0.135, Train Acc=94.9]\n"
     ]
    },
    {
     "name": "stdout",
     "output_type": "stream",
     "text": [
      "Epoch 1822\n",
      "Train Loss: 0.1350, Train Accuracy: 94.95%\n",
      "Test Loss: 0.3725, Test Accuracy: 90.14%\n",
      "\n"
     ]
    },
    {
     "name": "stderr",
     "output_type": "stream",
     "text": [
      "Epoch 1823: 100%|██████████| 938/938 [00:17<00:00, 55.10batch/s, Train Loss=0.141, Train Acc=94.7]\n"
     ]
    },
    {
     "name": "stdout",
     "output_type": "stream",
     "text": [
      "Epoch 1823\n",
      "Train Loss: 0.1407, Train Accuracy: 94.68%\n",
      "Test Loss: 0.3656, Test Accuracy: 90.18%\n",
      "\n"
     ]
    },
    {
     "name": "stderr",
     "output_type": "stream",
     "text": [
      "Epoch 1824: 100%|██████████| 938/938 [00:17<00:00, 55.15batch/s, Train Loss=0.14, Train Acc=94.7] \n"
     ]
    },
    {
     "name": "stdout",
     "output_type": "stream",
     "text": [
      "Epoch 1824\n",
      "Train Loss: 0.1396, Train Accuracy: 94.67%\n",
      "Test Loss: 0.3720, Test Accuracy: 90.13%\n",
      "\n"
     ]
    },
    {
     "name": "stderr",
     "output_type": "stream",
     "text": [
      "Epoch 1825: 100%|██████████| 938/938 [00:17<00:00, 55.15batch/s, Train Loss=0.141, Train Acc=94.7]\n"
     ]
    },
    {
     "name": "stdout",
     "output_type": "stream",
     "text": [
      "Epoch 1825\n",
      "Train Loss: 0.1409, Train Accuracy: 94.70%\n",
      "Test Loss: 0.3683, Test Accuracy: 90.45%\n",
      "\n"
     ]
    },
    {
     "name": "stderr",
     "output_type": "stream",
     "text": [
      "Epoch 1826: 100%|██████████| 938/938 [00:17<00:00, 55.05batch/s, Train Loss=0.133, Train Acc=95]  \n"
     ]
    },
    {
     "name": "stdout",
     "output_type": "stream",
     "text": [
      "Epoch 1826\n",
      "Train Loss: 0.1334, Train Accuracy: 94.97%\n",
      "Test Loss: 0.3852, Test Accuracy: 90.35%\n",
      "\n"
     ]
    },
    {
     "name": "stderr",
     "output_type": "stream",
     "text": [
      "Epoch 1827: 100%|██████████| 938/938 [00:17<00:00, 55.12batch/s, Train Loss=0.137, Train Acc=94.8]\n"
     ]
    },
    {
     "name": "stdout",
     "output_type": "stream",
     "text": [
      "Epoch 1827\n",
      "Train Loss: 0.1372, Train Accuracy: 94.81%\n",
      "Test Loss: 0.3627, Test Accuracy: 90.53%\n",
      "\n"
     ]
    },
    {
     "name": "stderr",
     "output_type": "stream",
     "text": [
      "Epoch 1828: 100%|██████████| 938/938 [00:17<00:00, 55.17batch/s, Train Loss=0.137, Train Acc=94.8]\n"
     ]
    },
    {
     "name": "stdout",
     "output_type": "stream",
     "text": [
      "Epoch 1828\n",
      "Train Loss: 0.1372, Train Accuracy: 94.79%\n",
      "Test Loss: 0.3494, Test Accuracy: 90.55%\n",
      "\n"
     ]
    },
    {
     "name": "stderr",
     "output_type": "stream",
     "text": [
      "Epoch 1829: 100%|██████████| 938/938 [00:16<00:00, 55.23batch/s, Train Loss=0.139, Train Acc=94.8]\n"
     ]
    },
    {
     "name": "stdout",
     "output_type": "stream",
     "text": [
      "Epoch 1829\n",
      "Train Loss: 0.1386, Train Accuracy: 94.78%\n",
      "Test Loss: 0.3756, Test Accuracy: 90.42%\n",
      "\n"
     ]
    },
    {
     "name": "stderr",
     "output_type": "stream",
     "text": [
      "Epoch 1830: 100%|██████████| 938/938 [00:17<00:00, 55.03batch/s, Train Loss=0.139, Train Acc=94.8]\n"
     ]
    },
    {
     "name": "stdout",
     "output_type": "stream",
     "text": [
      "Epoch 1830\n",
      "Train Loss: 0.1392, Train Accuracy: 94.78%\n",
      "Test Loss: 0.3649, Test Accuracy: 90.25%\n",
      "\n"
     ]
    },
    {
     "name": "stderr",
     "output_type": "stream",
     "text": [
      "Epoch 1831: 100%|██████████| 938/938 [00:17<00:00, 55.12batch/s, Train Loss=0.136, Train Acc=94.8]\n"
     ]
    },
    {
     "name": "stdout",
     "output_type": "stream",
     "text": [
      "Epoch 1831\n",
      "Train Loss: 0.1361, Train Accuracy: 94.79%\n",
      "Test Loss: 0.3605, Test Accuracy: 90.40%\n",
      "\n"
     ]
    },
    {
     "name": "stderr",
     "output_type": "stream",
     "text": [
      "Epoch 1832: 100%|██████████| 938/938 [00:17<00:00, 55.01batch/s, Train Loss=0.14, Train Acc=94.7] \n"
     ]
    },
    {
     "name": "stdout",
     "output_type": "stream",
     "text": [
      "Epoch 1832\n",
      "Train Loss: 0.1400, Train Accuracy: 94.71%\n",
      "Test Loss: 0.3587, Test Accuracy: 90.52%\n",
      "\n"
     ]
    },
    {
     "name": "stderr",
     "output_type": "stream",
     "text": [
      "Epoch 1833: 100%|██████████| 938/938 [00:17<00:00, 55.05batch/s, Train Loss=0.138, Train Acc=94.8]\n"
     ]
    },
    {
     "name": "stdout",
     "output_type": "stream",
     "text": [
      "Epoch 1833\n",
      "Train Loss: 0.1383, Train Accuracy: 94.80%\n",
      "Test Loss: 0.3508, Test Accuracy: 90.50%\n",
      "\n"
     ]
    },
    {
     "name": "stderr",
     "output_type": "stream",
     "text": [
      "Epoch 1834: 100%|██████████| 938/938 [00:17<00:00, 55.07batch/s, Train Loss=0.142, Train Acc=94.6]\n"
     ]
    },
    {
     "name": "stdout",
     "output_type": "stream",
     "text": [
      "Epoch 1834\n",
      "Train Loss: 0.1421, Train Accuracy: 94.62%\n",
      "Test Loss: 0.3539, Test Accuracy: 90.61%\n",
      "\n"
     ]
    },
    {
     "name": "stderr",
     "output_type": "stream",
     "text": [
      "Epoch 1835: 100%|██████████| 938/938 [00:17<00:00, 55.14batch/s, Train Loss=0.141, Train Acc=94.6]\n"
     ]
    },
    {
     "name": "stdout",
     "output_type": "stream",
     "text": [
      "Epoch 1835\n",
      "Train Loss: 0.1412, Train Accuracy: 94.63%\n",
      "Test Loss: 0.3698, Test Accuracy: 90.21%\n",
      "\n"
     ]
    },
    {
     "name": "stderr",
     "output_type": "stream",
     "text": [
      "Epoch 1836: 100%|██████████| 938/938 [00:17<00:00, 55.13batch/s, Train Loss=0.14, Train Acc=94.6] \n"
     ]
    },
    {
     "name": "stdout",
     "output_type": "stream",
     "text": [
      "Epoch 1836\n",
      "Train Loss: 0.1403, Train Accuracy: 94.63%\n",
      "Test Loss: 0.3646, Test Accuracy: 90.23%\n",
      "\n"
     ]
    },
    {
     "name": "stderr",
     "output_type": "stream",
     "text": [
      "Epoch 1837: 100%|██████████| 938/938 [00:17<00:00, 55.18batch/s, Train Loss=0.14, Train Acc=94.8] \n"
     ]
    },
    {
     "name": "stdout",
     "output_type": "stream",
     "text": [
      "Epoch 1837\n",
      "Train Loss: 0.1396, Train Accuracy: 94.78%\n",
      "Test Loss: 0.3588, Test Accuracy: 90.55%\n",
      "\n"
     ]
    },
    {
     "name": "stderr",
     "output_type": "stream",
     "text": [
      "Epoch 1838: 100%|██████████| 938/938 [00:17<00:00, 55.06batch/s, Train Loss=0.14, Train Acc=94.7] \n"
     ]
    },
    {
     "name": "stdout",
     "output_type": "stream",
     "text": [
      "Epoch 1838\n",
      "Train Loss: 0.1402, Train Accuracy: 94.69%\n",
      "Test Loss: 0.3534, Test Accuracy: 90.42%\n",
      "\n"
     ]
    },
    {
     "name": "stderr",
     "output_type": "stream",
     "text": [
      "Epoch 1839: 100%|██████████| 938/938 [00:17<00:00, 55.06batch/s, Train Loss=0.135, Train Acc=94.9]\n"
     ]
    },
    {
     "name": "stdout",
     "output_type": "stream",
     "text": [
      "Epoch 1839\n",
      "Train Loss: 0.1354, Train Accuracy: 94.92%\n",
      "Test Loss: 0.3601, Test Accuracy: 90.53%\n",
      "\n"
     ]
    },
    {
     "name": "stderr",
     "output_type": "stream",
     "text": [
      "Epoch 1840: 100%|██████████| 938/938 [00:17<00:00, 55.06batch/s, Train Loss=0.141, Train Acc=94.7]\n"
     ]
    },
    {
     "name": "stdout",
     "output_type": "stream",
     "text": [
      "Epoch 1840\n",
      "Train Loss: 0.1408, Train Accuracy: 94.74%\n",
      "Test Loss: 0.3572, Test Accuracy: 90.76%\n",
      "\n"
     ]
    },
    {
     "name": "stderr",
     "output_type": "stream",
     "text": [
      "Epoch 1841: 100%|██████████| 938/938 [00:17<00:00, 55.17batch/s, Train Loss=0.133, Train Acc=94.9]\n"
     ]
    },
    {
     "name": "stdout",
     "output_type": "stream",
     "text": [
      "Epoch 1841\n",
      "Train Loss: 0.1334, Train Accuracy: 94.87%\n",
      "Test Loss: 0.3686, Test Accuracy: 90.35%\n",
      "\n"
     ]
    },
    {
     "name": "stderr",
     "output_type": "stream",
     "text": [
      "Epoch 1842: 100%|██████████| 938/938 [00:17<00:00, 54.95batch/s, Train Loss=0.136, Train Acc=94.8]\n"
     ]
    },
    {
     "name": "stdout",
     "output_type": "stream",
     "text": [
      "Epoch 1842\n",
      "Train Loss: 0.1365, Train Accuracy: 94.83%\n",
      "Test Loss: 0.3601, Test Accuracy: 90.38%\n",
      "\n"
     ]
    },
    {
     "name": "stderr",
     "output_type": "stream",
     "text": [
      "Epoch 1843: 100%|██████████| 938/938 [00:17<00:00, 55.05batch/s, Train Loss=0.137, Train Acc=94.8]\n"
     ]
    },
    {
     "name": "stdout",
     "output_type": "stream",
     "text": [
      "Epoch 1843\n",
      "Train Loss: 0.1370, Train Accuracy: 94.76%\n",
      "Test Loss: 0.3526, Test Accuracy: 90.75%\n",
      "\n"
     ]
    },
    {
     "name": "stderr",
     "output_type": "stream",
     "text": [
      "Epoch 1844: 100%|██████████| 938/938 [00:17<00:00, 55.12batch/s, Train Loss=0.135, Train Acc=94.9]\n"
     ]
    },
    {
     "name": "stdout",
     "output_type": "stream",
     "text": [
      "Epoch 1844\n",
      "Train Loss: 0.1349, Train Accuracy: 94.88%\n",
      "Test Loss: 0.3579, Test Accuracy: 90.25%\n",
      "\n"
     ]
    },
    {
     "name": "stderr",
     "output_type": "stream",
     "text": [
      "Epoch 1845: 100%|██████████| 938/938 [00:17<00:00, 54.93batch/s, Train Loss=0.136, Train Acc=94.8]\n"
     ]
    },
    {
     "name": "stdout",
     "output_type": "stream",
     "text": [
      "Epoch 1845\n",
      "Train Loss: 0.1363, Train Accuracy: 94.83%\n",
      "Test Loss: 0.3596, Test Accuracy: 90.33%\n",
      "\n"
     ]
    },
    {
     "name": "stderr",
     "output_type": "stream",
     "text": [
      "Epoch 1846: 100%|██████████| 938/938 [00:17<00:00, 55.09batch/s, Train Loss=0.139, Train Acc=94.8]\n"
     ]
    },
    {
     "name": "stdout",
     "output_type": "stream",
     "text": [
      "Epoch 1846\n",
      "Train Loss: 0.1392, Train Accuracy: 94.80%\n",
      "Test Loss: 0.3627, Test Accuracy: 90.21%\n",
      "\n"
     ]
    },
    {
     "name": "stderr",
     "output_type": "stream",
     "text": [
      "Epoch 1847: 100%|██████████| 938/938 [00:17<00:00, 55.13batch/s, Train Loss=0.136, Train Acc=94.8]\n"
     ]
    },
    {
     "name": "stdout",
     "output_type": "stream",
     "text": [
      "Epoch 1847\n",
      "Train Loss: 0.1363, Train Accuracy: 94.82%\n",
      "Test Loss: 0.3494, Test Accuracy: 90.50%\n",
      "\n"
     ]
    },
    {
     "name": "stderr",
     "output_type": "stream",
     "text": [
      "Epoch 1848: 100%|██████████| 938/938 [00:16<00:00, 55.31batch/s, Train Loss=0.138, Train Acc=94.8]\n"
     ]
    },
    {
     "name": "stdout",
     "output_type": "stream",
     "text": [
      "Epoch 1848\n",
      "Train Loss: 0.1381, Train Accuracy: 94.77%\n",
      "Test Loss: 0.3711, Test Accuracy: 90.03%\n",
      "\n"
     ]
    },
    {
     "name": "stderr",
     "output_type": "stream",
     "text": [
      "Epoch 1849: 100%|██████████| 938/938 [00:17<00:00, 55.12batch/s, Train Loss=0.136, Train Acc=94.8]\n"
     ]
    },
    {
     "name": "stdout",
     "output_type": "stream",
     "text": [
      "Epoch 1849\n",
      "Train Loss: 0.1358, Train Accuracy: 94.84%\n",
      "Test Loss: 0.3613, Test Accuracy: 90.35%\n",
      "\n"
     ]
    },
    {
     "name": "stderr",
     "output_type": "stream",
     "text": [
      "Epoch 1850: 100%|██████████| 938/938 [00:17<00:00, 55.09batch/s, Train Loss=0.136, Train Acc=94.8]\n"
     ]
    },
    {
     "name": "stdout",
     "output_type": "stream",
     "text": [
      "Epoch 1850\n",
      "Train Loss: 0.1361, Train Accuracy: 94.85%\n",
      "Test Loss: 0.3480, Test Accuracy: 90.43%\n",
      "\n"
     ]
    },
    {
     "name": "stderr",
     "output_type": "stream",
     "text": [
      "Epoch 1851: 100%|██████████| 938/938 [00:17<00:00, 54.99batch/s, Train Loss=0.134, Train Acc=95]  \n"
     ]
    },
    {
     "name": "stdout",
     "output_type": "stream",
     "text": [
      "Epoch 1851\n",
      "Train Loss: 0.1344, Train Accuracy: 94.98%\n",
      "Test Loss: 0.3511, Test Accuracy: 90.61%\n",
      "\n"
     ]
    },
    {
     "name": "stderr",
     "output_type": "stream",
     "text": [
      "Epoch 1852: 100%|██████████| 938/938 [00:17<00:00, 55.12batch/s, Train Loss=0.136, Train Acc=94.9]\n"
     ]
    },
    {
     "name": "stdout",
     "output_type": "stream",
     "text": [
      "Epoch 1852\n",
      "Train Loss: 0.1359, Train Accuracy: 94.89%\n",
      "Test Loss: 0.3610, Test Accuracy: 90.47%\n",
      "\n"
     ]
    },
    {
     "name": "stderr",
     "output_type": "stream",
     "text": [
      "Epoch 1853: 100%|██████████| 938/938 [00:17<00:00, 54.99batch/s, Train Loss=0.136, Train Acc=94.8]\n"
     ]
    },
    {
     "name": "stdout",
     "output_type": "stream",
     "text": [
      "Epoch 1853\n",
      "Train Loss: 0.1364, Train Accuracy: 94.77%\n",
      "Test Loss: 0.3632, Test Accuracy: 90.06%\n",
      "\n"
     ]
    },
    {
     "name": "stderr",
     "output_type": "stream",
     "text": [
      "Epoch 1854: 100%|██████████| 938/938 [00:17<00:00, 55.03batch/s, Train Loss=0.135, Train Acc=94.9]\n"
     ]
    },
    {
     "name": "stdout",
     "output_type": "stream",
     "text": [
      "Epoch 1854\n",
      "Train Loss: 0.1352, Train Accuracy: 94.87%\n",
      "Test Loss: 0.3615, Test Accuracy: 90.47%\n",
      "\n"
     ]
    },
    {
     "name": "stderr",
     "output_type": "stream",
     "text": [
      "Epoch 1855: 100%|██████████| 938/938 [00:17<00:00, 55.06batch/s, Train Loss=0.139, Train Acc=94.7]\n"
     ]
    },
    {
     "name": "stdout",
     "output_type": "stream",
     "text": [
      "Epoch 1855\n",
      "Train Loss: 0.1387, Train Accuracy: 94.75%\n",
      "Test Loss: 0.3561, Test Accuracy: 90.48%\n",
      "\n"
     ]
    },
    {
     "name": "stderr",
     "output_type": "stream",
     "text": [
      "Epoch 1856: 100%|██████████| 938/938 [00:17<00:00, 55.06batch/s, Train Loss=0.135, Train Acc=94.8]\n"
     ]
    },
    {
     "name": "stdout",
     "output_type": "stream",
     "text": [
      "Epoch 1856\n",
      "Train Loss: 0.1352, Train Accuracy: 94.84%\n",
      "Test Loss: 0.3755, Test Accuracy: 89.96%\n",
      "\n"
     ]
    },
    {
     "name": "stderr",
     "output_type": "stream",
     "text": [
      "Epoch 1857: 100%|██████████| 938/938 [00:16<00:00, 55.23batch/s, Train Loss=0.135, Train Acc=94.8]\n"
     ]
    },
    {
     "name": "stdout",
     "output_type": "stream",
     "text": [
      "Epoch 1857\n",
      "Train Loss: 0.1350, Train Accuracy: 94.84%\n",
      "Test Loss: 0.3684, Test Accuracy: 90.36%\n",
      "\n"
     ]
    },
    {
     "name": "stderr",
     "output_type": "stream",
     "text": [
      "Epoch 1858: 100%|██████████| 938/938 [00:17<00:00, 55.11batch/s, Train Loss=0.134, Train Acc=94.8]\n"
     ]
    },
    {
     "name": "stdout",
     "output_type": "stream",
     "text": [
      "Epoch 1858\n",
      "Train Loss: 0.1345, Train Accuracy: 94.83%\n",
      "Test Loss: 0.3758, Test Accuracy: 90.14%\n",
      "\n"
     ]
    },
    {
     "name": "stderr",
     "output_type": "stream",
     "text": [
      "Epoch 1859: 100%|██████████| 938/938 [00:17<00:00, 55.00batch/s, Train Loss=0.135, Train Acc=94.8]\n"
     ]
    },
    {
     "name": "stdout",
     "output_type": "stream",
     "text": [
      "Epoch 1859\n",
      "Train Loss: 0.1352, Train Accuracy: 94.83%\n",
      "Test Loss: 0.3699, Test Accuracy: 90.35%\n",
      "\n"
     ]
    },
    {
     "name": "stderr",
     "output_type": "stream",
     "text": [
      "Epoch 1860: 100%|██████████| 938/938 [00:17<00:00, 55.04batch/s, Train Loss=0.136, Train Acc=94.8]\n"
     ]
    },
    {
     "name": "stdout",
     "output_type": "stream",
     "text": [
      "Epoch 1860\n",
      "Train Loss: 0.1363, Train Accuracy: 94.83%\n",
      "Test Loss: 0.3617, Test Accuracy: 90.43%\n",
      "\n"
     ]
    },
    {
     "name": "stderr",
     "output_type": "stream",
     "text": [
      "Epoch 1861: 100%|██████████| 938/938 [00:17<00:00, 55.16batch/s, Train Loss=0.137, Train Acc=94.8]\n"
     ]
    },
    {
     "name": "stdout",
     "output_type": "stream",
     "text": [
      "Epoch 1861\n",
      "Train Loss: 0.1371, Train Accuracy: 94.79%\n",
      "Test Loss: 0.3577, Test Accuracy: 90.45%\n",
      "\n"
     ]
    },
    {
     "name": "stderr",
     "output_type": "stream",
     "text": [
      "Epoch 1862: 100%|██████████| 938/938 [00:17<00:00, 55.12batch/s, Train Loss=0.136, Train Acc=94.9]\n"
     ]
    },
    {
     "name": "stdout",
     "output_type": "stream",
     "text": [
      "Epoch 1862\n",
      "Train Loss: 0.1361, Train Accuracy: 94.87%\n",
      "Test Loss: 0.3592, Test Accuracy: 90.68%\n",
      "\n"
     ]
    },
    {
     "name": "stderr",
     "output_type": "stream",
     "text": [
      "Epoch 1863: 100%|██████████| 938/938 [00:17<00:00, 55.09batch/s, Train Loss=0.136, Train Acc=94.9]\n"
     ]
    },
    {
     "name": "stdout",
     "output_type": "stream",
     "text": [
      "Epoch 1863\n",
      "Train Loss: 0.1360, Train Accuracy: 94.90%\n",
      "Test Loss: 0.3629, Test Accuracy: 90.51%\n",
      "\n"
     ]
    },
    {
     "name": "stderr",
     "output_type": "stream",
     "text": [
      "Epoch 1864: 100%|██████████| 938/938 [00:17<00:00, 55.13batch/s, Train Loss=0.135, Train Acc=94.8]\n"
     ]
    },
    {
     "name": "stdout",
     "output_type": "stream",
     "text": [
      "Epoch 1864\n",
      "Train Loss: 0.1353, Train Accuracy: 94.82%\n",
      "Test Loss: 0.3651, Test Accuracy: 90.24%\n",
      "\n"
     ]
    },
    {
     "name": "stderr",
     "output_type": "stream",
     "text": [
      "Epoch 1865: 100%|██████████| 938/938 [00:17<00:00, 55.12batch/s, Train Loss=0.135, Train Acc=94.9]\n"
     ]
    },
    {
     "name": "stdout",
     "output_type": "stream",
     "text": [
      "Epoch 1865\n",
      "Train Loss: 0.1350, Train Accuracy: 94.86%\n",
      "Test Loss: 0.3725, Test Accuracy: 90.47%\n",
      "\n"
     ]
    },
    {
     "name": "stderr",
     "output_type": "stream",
     "text": [
      "Epoch 1866: 100%|██████████| 938/938 [00:17<00:00, 55.04batch/s, Train Loss=0.137, Train Acc=94.9]\n"
     ]
    },
    {
     "name": "stdout",
     "output_type": "stream",
     "text": [
      "Epoch 1866\n",
      "Train Loss: 0.1365, Train Accuracy: 94.86%\n",
      "Test Loss: 0.3719, Test Accuracy: 90.50%\n",
      "\n"
     ]
    },
    {
     "name": "stderr",
     "output_type": "stream",
     "text": [
      "Epoch 1867: 100%|██████████| 938/938 [00:17<00:00, 55.08batch/s, Train Loss=0.136, Train Acc=94.8]\n"
     ]
    },
    {
     "name": "stdout",
     "output_type": "stream",
     "text": [
      "Epoch 1867\n",
      "Train Loss: 0.1357, Train Accuracy: 94.84%\n",
      "Test Loss: 0.3712, Test Accuracy: 90.30%\n",
      "\n"
     ]
    },
    {
     "name": "stderr",
     "output_type": "stream",
     "text": [
      "Epoch 1868: 100%|██████████| 938/938 [00:16<00:00, 55.20batch/s, Train Loss=0.136, Train Acc=94.9]\n"
     ]
    },
    {
     "name": "stdout",
     "output_type": "stream",
     "text": [
      "Epoch 1868\n",
      "Train Loss: 0.1358, Train Accuracy: 94.92%\n",
      "Test Loss: 0.3815, Test Accuracy: 90.31%\n",
      "\n"
     ]
    },
    {
     "name": "stderr",
     "output_type": "stream",
     "text": [
      "Epoch 1869: 100%|██████████| 938/938 [00:17<00:00, 55.12batch/s, Train Loss=0.135, Train Acc=94.9]\n"
     ]
    },
    {
     "name": "stdout",
     "output_type": "stream",
     "text": [
      "Epoch 1869\n",
      "Train Loss: 0.1346, Train Accuracy: 94.86%\n",
      "Test Loss: 0.3642, Test Accuracy: 90.27%\n",
      "\n"
     ]
    },
    {
     "name": "stderr",
     "output_type": "stream",
     "text": [
      "Epoch 1870: 100%|██████████| 938/938 [00:17<00:00, 55.13batch/s, Train Loss=0.134, Train Acc=95]  \n"
     ]
    },
    {
     "name": "stdout",
     "output_type": "stream",
     "text": [
      "Epoch 1870\n",
      "Train Loss: 0.1338, Train Accuracy: 94.99%\n",
      "Test Loss: 0.3721, Test Accuracy: 90.05%\n",
      "\n"
     ]
    },
    {
     "name": "stderr",
     "output_type": "stream",
     "text": [
      "Epoch 1871: 100%|██████████| 938/938 [00:17<00:00, 55.02batch/s, Train Loss=0.137, Train Acc=94.8]\n"
     ]
    },
    {
     "name": "stdout",
     "output_type": "stream",
     "text": [
      "Epoch 1871\n",
      "Train Loss: 0.1374, Train Accuracy: 94.83%\n",
      "Test Loss: 0.3796, Test Accuracy: 90.20%\n",
      "\n"
     ]
    },
    {
     "name": "stderr",
     "output_type": "stream",
     "text": [
      "Epoch 1872: 100%|██████████| 938/938 [00:16<00:00, 55.20batch/s, Train Loss=0.136, Train Acc=94.9]\n"
     ]
    },
    {
     "name": "stdout",
     "output_type": "stream",
     "text": [
      "Epoch 1872\n",
      "Train Loss: 0.1362, Train Accuracy: 94.87%\n",
      "Test Loss: 0.3621, Test Accuracy: 90.24%\n",
      "\n"
     ]
    },
    {
     "name": "stderr",
     "output_type": "stream",
     "text": [
      "Epoch 1873: 100%|██████████| 938/938 [00:16<00:00, 55.23batch/s, Train Loss=0.136, Train Acc=94.9]\n"
     ]
    },
    {
     "name": "stdout",
     "output_type": "stream",
     "text": [
      "Epoch 1873\n",
      "Train Loss: 0.1357, Train Accuracy: 94.89%\n",
      "Test Loss: 0.3543, Test Accuracy: 90.50%\n",
      "\n"
     ]
    },
    {
     "name": "stderr",
     "output_type": "stream",
     "text": [
      "Epoch 1874: 100%|██████████| 938/938 [00:17<00:00, 55.12batch/s, Train Loss=0.135, Train Acc=95]  \n"
     ]
    },
    {
     "name": "stdout",
     "output_type": "stream",
     "text": [
      "Epoch 1874\n",
      "Train Loss: 0.1350, Train Accuracy: 95.01%\n",
      "Test Loss: 0.3489, Test Accuracy: 90.65%\n",
      "\n"
     ]
    },
    {
     "name": "stderr",
     "output_type": "stream",
     "text": [
      "Epoch 1875: 100%|██████████| 938/938 [00:17<00:00, 55.17batch/s, Train Loss=0.135, Train Acc=94.9]\n"
     ]
    },
    {
     "name": "stdout",
     "output_type": "stream",
     "text": [
      "Epoch 1875\n",
      "Train Loss: 0.1354, Train Accuracy: 94.88%\n",
      "Test Loss: 0.3599, Test Accuracy: 90.32%\n",
      "\n"
     ]
    },
    {
     "name": "stderr",
     "output_type": "stream",
     "text": [
      "Epoch 1876: 100%|██████████| 938/938 [00:17<00:00, 55.12batch/s, Train Loss=0.132, Train Acc=95]  \n"
     ]
    },
    {
     "name": "stdout",
     "output_type": "stream",
     "text": [
      "Epoch 1876\n",
      "Train Loss: 0.1318, Train Accuracy: 95.01%\n",
      "Test Loss: 0.3559, Test Accuracy: 90.74%\n",
      "\n"
     ]
    },
    {
     "name": "stderr",
     "output_type": "stream",
     "text": [
      "Epoch 1877: 100%|██████████| 938/938 [00:16<00:00, 55.28batch/s, Train Loss=0.133, Train Acc=95]  \n"
     ]
    },
    {
     "name": "stdout",
     "output_type": "stream",
     "text": [
      "Epoch 1877\n",
      "Train Loss: 0.1335, Train Accuracy: 95.02%\n",
      "Test Loss: 0.3510, Test Accuracy: 90.67%\n",
      "\n"
     ]
    },
    {
     "name": "stderr",
     "output_type": "stream",
     "text": [
      "Epoch 1878: 100%|██████████| 938/938 [00:16<00:00, 55.22batch/s, Train Loss=0.133, Train Acc=94.9]\n"
     ]
    },
    {
     "name": "stdout",
     "output_type": "stream",
     "text": [
      "Epoch 1878\n",
      "Train Loss: 0.1326, Train Accuracy: 94.95%\n",
      "Test Loss: 0.3533, Test Accuracy: 90.41%\n",
      "\n"
     ]
    },
    {
     "name": "stderr",
     "output_type": "stream",
     "text": [
      "Epoch 1879: 100%|██████████| 938/938 [00:17<00:00, 55.02batch/s, Train Loss=0.132, Train Acc=95]  \n"
     ]
    },
    {
     "name": "stdout",
     "output_type": "stream",
     "text": [
      "Epoch 1879\n",
      "Train Loss: 0.1321, Train Accuracy: 94.95%\n",
      "Test Loss: 0.3588, Test Accuracy: 90.29%\n",
      "\n"
     ]
    },
    {
     "name": "stderr",
     "output_type": "stream",
     "text": [
      "Epoch 1880: 100%|██████████| 938/938 [00:16<00:00, 55.25batch/s, Train Loss=0.131, Train Acc=95]  \n"
     ]
    },
    {
     "name": "stdout",
     "output_type": "stream",
     "text": [
      "Epoch 1880\n",
      "Train Loss: 0.1314, Train Accuracy: 95.05%\n",
      "Test Loss: 0.3479, Test Accuracy: 90.50%\n",
      "\n"
     ]
    },
    {
     "name": "stderr",
     "output_type": "stream",
     "text": [
      "Epoch 1881: 100%|██████████| 938/938 [00:17<00:00, 55.05batch/s, Train Loss=0.136, Train Acc=94.9]\n"
     ]
    },
    {
     "name": "stdout",
     "output_type": "stream",
     "text": [
      "Epoch 1881\n",
      "Train Loss: 0.1361, Train Accuracy: 94.86%\n",
      "Test Loss: 0.3496, Test Accuracy: 90.40%\n",
      "\n"
     ]
    },
    {
     "name": "stderr",
     "output_type": "stream",
     "text": [
      "Epoch 1882: 100%|██████████| 938/938 [00:17<00:00, 55.04batch/s, Train Loss=0.136, Train Acc=94.9]\n"
     ]
    },
    {
     "name": "stdout",
     "output_type": "stream",
     "text": [
      "Epoch 1882\n",
      "Train Loss: 0.1358, Train Accuracy: 94.87%\n",
      "Test Loss: 0.3501, Test Accuracy: 90.45%\n",
      "\n"
     ]
    },
    {
     "name": "stderr",
     "output_type": "stream",
     "text": [
      "Epoch 1883: 100%|██████████| 938/938 [00:17<00:00, 55.04batch/s, Train Loss=0.136, Train Acc=94.9]\n"
     ]
    },
    {
     "name": "stdout",
     "output_type": "stream",
     "text": [
      "Epoch 1883\n",
      "Train Loss: 0.1362, Train Accuracy: 94.91%\n",
      "Test Loss: 0.3681, Test Accuracy: 90.46%\n",
      "\n"
     ]
    },
    {
     "name": "stderr",
     "output_type": "stream",
     "text": [
      "Epoch 1884: 100%|██████████| 938/938 [00:17<00:00, 55.12batch/s, Train Loss=0.135, Train Acc=94.9]\n"
     ]
    },
    {
     "name": "stdout",
     "output_type": "stream",
     "text": [
      "Epoch 1884\n",
      "Train Loss: 0.1353, Train Accuracy: 94.87%\n",
      "Test Loss: 0.3675, Test Accuracy: 90.40%\n",
      "\n"
     ]
    },
    {
     "name": "stderr",
     "output_type": "stream",
     "text": [
      "Epoch 1885: 100%|██████████| 938/938 [00:16<00:00, 55.22batch/s, Train Loss=0.132, Train Acc=95]  \n"
     ]
    },
    {
     "name": "stdout",
     "output_type": "stream",
     "text": [
      "Epoch 1885\n",
      "Train Loss: 0.1323, Train Accuracy: 95.03%\n",
      "Test Loss: 0.3685, Test Accuracy: 90.38%\n",
      "\n"
     ]
    },
    {
     "name": "stderr",
     "output_type": "stream",
     "text": [
      "Epoch 1886: 100%|██████████| 938/938 [00:17<00:00, 55.09batch/s, Train Loss=0.132, Train Acc=95]  \n"
     ]
    },
    {
     "name": "stdout",
     "output_type": "stream",
     "text": [
      "Epoch 1886\n",
      "Train Loss: 0.1318, Train Accuracy: 95.01%\n",
      "Test Loss: 0.3776, Test Accuracy: 90.36%\n",
      "\n"
     ]
    },
    {
     "name": "stderr",
     "output_type": "stream",
     "text": [
      "Epoch 1887: 100%|██████████| 938/938 [00:17<00:00, 55.05batch/s, Train Loss=0.134, Train Acc=95]  \n"
     ]
    },
    {
     "name": "stdout",
     "output_type": "stream",
     "text": [
      "Epoch 1887\n",
      "Train Loss: 0.1345, Train Accuracy: 94.96%\n",
      "Test Loss: 0.3626, Test Accuracy: 90.39%\n",
      "\n"
     ]
    },
    {
     "name": "stderr",
     "output_type": "stream",
     "text": [
      "Epoch 1888: 100%|██████████| 938/938 [00:17<00:00, 55.14batch/s, Train Loss=0.132, Train Acc=95]  \n"
     ]
    },
    {
     "name": "stdout",
     "output_type": "stream",
     "text": [
      "Epoch 1888\n",
      "Train Loss: 0.1319, Train Accuracy: 95.01%\n",
      "Test Loss: 0.3569, Test Accuracy: 90.51%\n",
      "\n"
     ]
    },
    {
     "name": "stderr",
     "output_type": "stream",
     "text": [
      "Epoch 1889: 100%|██████████| 938/938 [00:17<00:00, 55.01batch/s, Train Loss=0.134, Train Acc=95]  \n"
     ]
    },
    {
     "name": "stdout",
     "output_type": "stream",
     "text": [
      "Epoch 1889\n",
      "Train Loss: 0.1335, Train Accuracy: 94.99%\n",
      "Test Loss: 0.3575, Test Accuracy: 90.38%\n",
      "\n"
     ]
    },
    {
     "name": "stderr",
     "output_type": "stream",
     "text": [
      "Epoch 1890: 100%|██████████| 938/938 [00:17<00:00, 55.17batch/s, Train Loss=0.132, Train Acc=95]  \n"
     ]
    },
    {
     "name": "stdout",
     "output_type": "stream",
     "text": [
      "Epoch 1890\n",
      "Train Loss: 0.1319, Train Accuracy: 94.96%\n",
      "Test Loss: 0.3506, Test Accuracy: 90.45%\n",
      "\n"
     ]
    },
    {
     "name": "stderr",
     "output_type": "stream",
     "text": [
      "Epoch 1891: 100%|██████████| 938/938 [00:16<00:00, 55.22batch/s, Train Loss=0.133, Train Acc=95]  \n"
     ]
    },
    {
     "name": "stdout",
     "output_type": "stream",
     "text": [
      "Epoch 1891\n",
      "Train Loss: 0.1333, Train Accuracy: 95.02%\n",
      "Test Loss: 0.3628, Test Accuracy: 90.32%\n",
      "\n"
     ]
    },
    {
     "name": "stderr",
     "output_type": "stream",
     "text": [
      "Epoch 1892: 100%|██████████| 938/938 [00:17<00:00, 55.08batch/s, Train Loss=0.135, Train Acc=95]  \n"
     ]
    },
    {
     "name": "stdout",
     "output_type": "stream",
     "text": [
      "Epoch 1892\n",
      "Train Loss: 0.1350, Train Accuracy: 94.97%\n",
      "Test Loss: 0.3730, Test Accuracy: 90.19%\n",
      "\n"
     ]
    },
    {
     "name": "stderr",
     "output_type": "stream",
     "text": [
      "Epoch 1893: 100%|██████████| 938/938 [00:17<00:00, 55.14batch/s, Train Loss=0.133, Train Acc=95]  \n"
     ]
    },
    {
     "name": "stdout",
     "output_type": "stream",
     "text": [
      "Epoch 1893\n",
      "Train Loss: 0.1326, Train Accuracy: 94.98%\n",
      "Test Loss: 0.3652, Test Accuracy: 90.22%\n",
      "\n"
     ]
    },
    {
     "name": "stderr",
     "output_type": "stream",
     "text": [
      "Epoch 1894: 100%|██████████| 938/938 [00:17<00:00, 55.11batch/s, Train Loss=0.132, Train Acc=94.9]\n"
     ]
    },
    {
     "name": "stdout",
     "output_type": "stream",
     "text": [
      "Epoch 1894\n",
      "Train Loss: 0.1322, Train Accuracy: 94.92%\n",
      "Test Loss: 0.3647, Test Accuracy: 90.37%\n",
      "\n"
     ]
    },
    {
     "name": "stderr",
     "output_type": "stream",
     "text": [
      "Epoch 1895: 100%|██████████| 938/938 [00:17<00:00, 55.14batch/s, Train Loss=0.134, Train Acc=95]  \n"
     ]
    },
    {
     "name": "stdout",
     "output_type": "stream",
     "text": [
      "Epoch 1895\n",
      "Train Loss: 0.1336, Train Accuracy: 95.00%\n",
      "Test Loss: 0.3628, Test Accuracy: 90.49%\n",
      "\n"
     ]
    },
    {
     "name": "stderr",
     "output_type": "stream",
     "text": [
      "Epoch 1896: 100%|██████████| 938/938 [00:17<00:00, 55.14batch/s, Train Loss=0.132, Train Acc=94.9]\n"
     ]
    },
    {
     "name": "stdout",
     "output_type": "stream",
     "text": [
      "Epoch 1896\n",
      "Train Loss: 0.1320, Train Accuracy: 94.92%\n",
      "Test Loss: 0.3664, Test Accuracy: 90.37%\n",
      "\n"
     ]
    },
    {
     "name": "stderr",
     "output_type": "stream",
     "text": [
      "Epoch 1897: 100%|██████████| 938/938 [00:17<00:00, 54.94batch/s, Train Loss=0.133, Train Acc=95]  \n"
     ]
    },
    {
     "name": "stdout",
     "output_type": "stream",
     "text": [
      "Epoch 1897\n",
      "Train Loss: 0.1326, Train Accuracy: 94.99%\n",
      "Test Loss: 0.3582, Test Accuracy: 90.75%\n",
      "\n"
     ]
    },
    {
     "name": "stderr",
     "output_type": "stream",
     "text": [
      "Epoch 1898: 100%|██████████| 938/938 [00:17<00:00, 55.11batch/s, Train Loss=0.133, Train Acc=95]  \n"
     ]
    },
    {
     "name": "stdout",
     "output_type": "stream",
     "text": [
      "Epoch 1898\n",
      "Train Loss: 0.1330, Train Accuracy: 95.04%\n",
      "Test Loss: 0.3766, Test Accuracy: 90.34%\n",
      "\n"
     ]
    },
    {
     "name": "stderr",
     "output_type": "stream",
     "text": [
      "Epoch 1899: 100%|██████████| 938/938 [00:17<00:00, 55.13batch/s, Train Loss=0.132, Train Acc=95]  \n"
     ]
    },
    {
     "name": "stdout",
     "output_type": "stream",
     "text": [
      "Epoch 1899\n",
      "Train Loss: 0.1320, Train Accuracy: 95.05%\n",
      "Test Loss: 0.3632, Test Accuracy: 90.49%\n",
      "\n"
     ]
    },
    {
     "name": "stderr",
     "output_type": "stream",
     "text": [
      "Epoch 1900: 100%|██████████| 938/938 [00:17<00:00, 55.16batch/s, Train Loss=0.133, Train Acc=95]  \n"
     ]
    },
    {
     "name": "stdout",
     "output_type": "stream",
     "text": [
      "Epoch 1900\n",
      "Train Loss: 0.1335, Train Accuracy: 95.01%\n",
      "Test Loss: 0.3800, Test Accuracy: 90.32%\n",
      "\n"
     ]
    },
    {
     "name": "stderr",
     "output_type": "stream",
     "text": [
      "Epoch 1901: 100%|██████████| 938/938 [00:17<00:00, 55.18batch/s, Train Loss=0.131, Train Acc=95]  \n"
     ]
    },
    {
     "name": "stdout",
     "output_type": "stream",
     "text": [
      "Epoch 1901\n",
      "Train Loss: 0.1309, Train Accuracy: 94.99%\n",
      "Test Loss: 0.3670, Test Accuracy: 90.31%\n",
      "\n"
     ]
    },
    {
     "name": "stderr",
     "output_type": "stream",
     "text": [
      "Epoch 1902: 100%|██████████| 938/938 [00:17<00:00, 55.18batch/s, Train Loss=0.132, Train Acc=95]  \n"
     ]
    },
    {
     "name": "stdout",
     "output_type": "stream",
     "text": [
      "Epoch 1902\n",
      "Train Loss: 0.1318, Train Accuracy: 94.97%\n",
      "Test Loss: 0.3593, Test Accuracy: 90.54%\n",
      "\n"
     ]
    },
    {
     "name": "stderr",
     "output_type": "stream",
     "text": [
      "Epoch 1903: 100%|██████████| 938/938 [00:17<00:00, 54.99batch/s, Train Loss=0.133, Train Acc=94.9]\n"
     ]
    },
    {
     "name": "stdout",
     "output_type": "stream",
     "text": [
      "Epoch 1903\n",
      "Train Loss: 0.1330, Train Accuracy: 94.88%\n",
      "Test Loss: 0.3804, Test Accuracy: 90.01%\n",
      "\n"
     ]
    },
    {
     "name": "stderr",
     "output_type": "stream",
     "text": [
      "Epoch 1904: 100%|██████████| 938/938 [00:17<00:00, 55.10batch/s, Train Loss=0.133, Train Acc=95]  \n"
     ]
    },
    {
     "name": "stdout",
     "output_type": "stream",
     "text": [
      "Epoch 1904\n",
      "Train Loss: 0.1333, Train Accuracy: 94.95%\n",
      "Test Loss: 0.3634, Test Accuracy: 90.35%\n",
      "\n"
     ]
    },
    {
     "name": "stderr",
     "output_type": "stream",
     "text": [
      "Epoch 1905: 100%|██████████| 938/938 [00:17<00:00, 55.04batch/s, Train Loss=0.133, Train Acc=94.9]\n"
     ]
    },
    {
     "name": "stdout",
     "output_type": "stream",
     "text": [
      "Epoch 1905\n",
      "Train Loss: 0.1330, Train Accuracy: 94.91%\n",
      "Test Loss: 0.3567, Test Accuracy: 90.29%\n",
      "\n"
     ]
    },
    {
     "name": "stderr",
     "output_type": "stream",
     "text": [
      "Epoch 1906: 100%|██████████| 938/938 [00:17<00:00, 55.08batch/s, Train Loss=0.134, Train Acc=94.9]\n"
     ]
    },
    {
     "name": "stdout",
     "output_type": "stream",
     "text": [
      "Epoch 1906\n",
      "Train Loss: 0.1342, Train Accuracy: 94.91%\n",
      "Test Loss: 0.3603, Test Accuracy: 90.52%\n",
      "\n"
     ]
    },
    {
     "name": "stderr",
     "output_type": "stream",
     "text": [
      "Epoch 1907: 100%|██████████| 938/938 [00:17<00:00, 55.05batch/s, Train Loss=0.132, Train Acc=95]  \n"
     ]
    },
    {
     "name": "stdout",
     "output_type": "stream",
     "text": [
      "Epoch 1907\n",
      "Train Loss: 0.1322, Train Accuracy: 95.01%\n",
      "Test Loss: 0.3646, Test Accuracy: 90.40%\n",
      "\n"
     ]
    },
    {
     "name": "stderr",
     "output_type": "stream",
     "text": [
      "Epoch 1908: 100%|██████████| 938/938 [00:17<00:00, 55.09batch/s, Train Loss=0.132, Train Acc=95.1]\n"
     ]
    },
    {
     "name": "stdout",
     "output_type": "stream",
     "text": [
      "Epoch 1908\n",
      "Train Loss: 0.1321, Train Accuracy: 95.08%\n",
      "Test Loss: 0.3659, Test Accuracy: 90.60%\n",
      "\n"
     ]
    },
    {
     "name": "stderr",
     "output_type": "stream",
     "text": [
      "Epoch 1909: 100%|██████████| 938/938 [00:17<00:00, 55.00batch/s, Train Loss=0.131, Train Acc=95.1]\n"
     ]
    },
    {
     "name": "stdout",
     "output_type": "stream",
     "text": [
      "Epoch 1909\n",
      "Train Loss: 0.1312, Train Accuracy: 95.10%\n",
      "Test Loss: 0.3671, Test Accuracy: 90.54%\n",
      "\n"
     ]
    },
    {
     "name": "stderr",
     "output_type": "stream",
     "text": [
      "Epoch 1910: 100%|██████████| 938/938 [00:17<00:00, 55.12batch/s, Train Loss=0.135, Train Acc=94.9]\n"
     ]
    },
    {
     "name": "stdout",
     "output_type": "stream",
     "text": [
      "Epoch 1910\n",
      "Train Loss: 0.1347, Train Accuracy: 94.94%\n",
      "Test Loss: 0.3468, Test Accuracy: 90.52%\n",
      "\n"
     ]
    },
    {
     "name": "stderr",
     "output_type": "stream",
     "text": [
      "Epoch 1911: 100%|██████████| 938/938 [00:17<00:00, 55.12batch/s, Train Loss=0.13, Train Acc=95.1] \n"
     ]
    },
    {
     "name": "stdout",
     "output_type": "stream",
     "text": [
      "Epoch 1911\n",
      "Train Loss: 0.1305, Train Accuracy: 95.13%\n",
      "Test Loss: 0.3642, Test Accuracy: 90.38%\n",
      "\n"
     ]
    },
    {
     "name": "stderr",
     "output_type": "stream",
     "text": [
      "Epoch 1912: 100%|██████████| 938/938 [00:17<00:00, 55.10batch/s, Train Loss=0.129, Train Acc=95.2]\n"
     ]
    },
    {
     "name": "stdout",
     "output_type": "stream",
     "text": [
      "Epoch 1912\n",
      "Train Loss: 0.1291, Train Accuracy: 95.16%\n",
      "Test Loss: 0.3693, Test Accuracy: 90.44%\n",
      "\n"
     ]
    },
    {
     "name": "stderr",
     "output_type": "stream",
     "text": [
      "Epoch 1913: 100%|██████████| 938/938 [00:17<00:00, 54.91batch/s, Train Loss=0.131, Train Acc=95.1]\n"
     ]
    },
    {
     "name": "stdout",
     "output_type": "stream",
     "text": [
      "Epoch 1913\n",
      "Train Loss: 0.1313, Train Accuracy: 95.13%\n",
      "Test Loss: 0.3702, Test Accuracy: 90.83%\n",
      "\n"
     ]
    },
    {
     "name": "stderr",
     "output_type": "stream",
     "text": [
      "Epoch 1914: 100%|██████████| 938/938 [00:16<00:00, 55.21batch/s, Train Loss=0.133, Train Acc=95]  \n"
     ]
    },
    {
     "name": "stdout",
     "output_type": "stream",
     "text": [
      "Epoch 1914\n",
      "Train Loss: 0.1335, Train Accuracy: 95.03%\n",
      "Test Loss: 0.3827, Test Accuracy: 90.45%\n",
      "\n"
     ]
    },
    {
     "name": "stderr",
     "output_type": "stream",
     "text": [
      "Epoch 1915: 100%|██████████| 938/938 [00:17<00:00, 54.95batch/s, Train Loss=0.132, Train Acc=95]  \n"
     ]
    },
    {
     "name": "stdout",
     "output_type": "stream",
     "text": [
      "Epoch 1915\n",
      "Train Loss: 0.1323, Train Accuracy: 95.04%\n",
      "Test Loss: 0.3746, Test Accuracy: 90.57%\n",
      "\n"
     ]
    },
    {
     "name": "stderr",
     "output_type": "stream",
     "text": [
      "Epoch 1916: 100%|██████████| 938/938 [00:17<00:00, 55.05batch/s, Train Loss=0.129, Train Acc=95.1]\n"
     ]
    },
    {
     "name": "stdout",
     "output_type": "stream",
     "text": [
      "Epoch 1916\n",
      "Train Loss: 0.1292, Train Accuracy: 95.11%\n",
      "Test Loss: 0.3673, Test Accuracy: 90.69%\n",
      "\n"
     ]
    },
    {
     "name": "stderr",
     "output_type": "stream",
     "text": [
      "Epoch 1917: 100%|██████████| 938/938 [00:17<00:00, 55.15batch/s, Train Loss=0.132, Train Acc=95]  \n"
     ]
    },
    {
     "name": "stdout",
     "output_type": "stream",
     "text": [
      "Epoch 1917\n",
      "Train Loss: 0.1324, Train Accuracy: 95.01%\n",
      "Test Loss: 0.3617, Test Accuracy: 90.44%\n",
      "\n"
     ]
    },
    {
     "name": "stderr",
     "output_type": "stream",
     "text": [
      "Epoch 1918: 100%|██████████| 938/938 [00:17<00:00, 55.06batch/s, Train Loss=0.13, Train Acc=95.2] \n"
     ]
    },
    {
     "name": "stdout",
     "output_type": "stream",
     "text": [
      "Epoch 1918\n",
      "Train Loss: 0.1300, Train Accuracy: 95.20%\n",
      "Test Loss: 0.3712, Test Accuracy: 90.64%\n",
      "\n"
     ]
    },
    {
     "name": "stderr",
     "output_type": "stream",
     "text": [
      "Epoch 1919: 100%|██████████| 938/938 [00:17<00:00, 55.01batch/s, Train Loss=0.13, Train Acc=95.1] \n"
     ]
    },
    {
     "name": "stdout",
     "output_type": "stream",
     "text": [
      "Epoch 1919\n",
      "Train Loss: 0.1296, Train Accuracy: 95.07%\n",
      "Test Loss: 0.3646, Test Accuracy: 90.62%\n",
      "\n"
     ]
    },
    {
     "name": "stderr",
     "output_type": "stream",
     "text": [
      "Epoch 1920: 100%|██████████| 938/938 [00:17<00:00, 55.02batch/s, Train Loss=0.135, Train Acc=94.8]\n"
     ]
    },
    {
     "name": "stdout",
     "output_type": "stream",
     "text": [
      "Epoch 1920\n",
      "Train Loss: 0.1348, Train Accuracy: 94.81%\n",
      "Test Loss: 0.3523, Test Accuracy: 90.78%\n",
      "\n"
     ]
    },
    {
     "name": "stderr",
     "output_type": "stream",
     "text": [
      "Epoch 1921: 100%|██████████| 938/938 [00:17<00:00, 55.11batch/s, Train Loss=0.126, Train Acc=95.2]\n"
     ]
    },
    {
     "name": "stdout",
     "output_type": "stream",
     "text": [
      "Epoch 1921\n",
      "Train Loss: 0.1258, Train Accuracy: 95.25%\n",
      "Test Loss: 0.3752, Test Accuracy: 90.62%\n",
      "\n"
     ]
    },
    {
     "name": "stderr",
     "output_type": "stream",
     "text": [
      "Epoch 1922: 100%|██████████| 938/938 [00:16<00:00, 55.24batch/s, Train Loss=0.131, Train Acc=95]  \n"
     ]
    },
    {
     "name": "stdout",
     "output_type": "stream",
     "text": [
      "Epoch 1922\n",
      "Train Loss: 0.1312, Train Accuracy: 95.00%\n",
      "Test Loss: 0.3646, Test Accuracy: 90.60%\n",
      "\n"
     ]
    },
    {
     "name": "stderr",
     "output_type": "stream",
     "text": [
      "Epoch 1923: 100%|██████████| 938/938 [00:16<00:00, 55.27batch/s, Train Loss=0.129, Train Acc=95.2]\n"
     ]
    },
    {
     "name": "stdout",
     "output_type": "stream",
     "text": [
      "Epoch 1923\n",
      "Train Loss: 0.1292, Train Accuracy: 95.21%\n",
      "Test Loss: 0.3695, Test Accuracy: 90.52%\n",
      "\n"
     ]
    },
    {
     "name": "stderr",
     "output_type": "stream",
     "text": [
      "Epoch 1924: 100%|██████████| 938/938 [00:17<00:00, 55.00batch/s, Train Loss=0.132, Train Acc=95.1]\n"
     ]
    },
    {
     "name": "stdout",
     "output_type": "stream",
     "text": [
      "Epoch 1924\n",
      "Train Loss: 0.1317, Train Accuracy: 95.07%\n",
      "Test Loss: 0.3598, Test Accuracy: 90.56%\n",
      "\n"
     ]
    },
    {
     "name": "stderr",
     "output_type": "stream",
     "text": [
      "Epoch 1925: 100%|██████████| 938/938 [00:17<00:00, 55.10batch/s, Train Loss=0.13, Train Acc=95]   \n"
     ]
    },
    {
     "name": "stdout",
     "output_type": "stream",
     "text": [
      "Epoch 1925\n",
      "Train Loss: 0.1302, Train Accuracy: 95.02%\n",
      "Test Loss: 0.3604, Test Accuracy: 90.69%\n",
      "\n"
     ]
    },
    {
     "name": "stderr",
     "output_type": "stream",
     "text": [
      "Epoch 1926: 100%|██████████| 938/938 [00:17<00:00, 55.17batch/s, Train Loss=0.13, Train Acc=95.1] \n"
     ]
    },
    {
     "name": "stdout",
     "output_type": "stream",
     "text": [
      "Epoch 1926\n",
      "Train Loss: 0.1301, Train Accuracy: 95.06%\n",
      "Test Loss: 0.3636, Test Accuracy: 90.73%\n",
      "\n"
     ]
    },
    {
     "name": "stderr",
     "output_type": "stream",
     "text": [
      "Epoch 1927: 100%|██████████| 938/938 [00:17<00:00, 55.15batch/s, Train Loss=0.132, Train Acc=94.9]\n"
     ]
    },
    {
     "name": "stdout",
     "output_type": "stream",
     "text": [
      "Epoch 1927\n",
      "Train Loss: 0.1324, Train Accuracy: 94.93%\n",
      "Test Loss: 0.3663, Test Accuracy: 90.48%\n",
      "\n"
     ]
    },
    {
     "name": "stderr",
     "output_type": "stream",
     "text": [
      "Epoch 1928: 100%|██████████| 938/938 [00:16<00:00, 55.31batch/s, Train Loss=0.131, Train Acc=94.9]\n"
     ]
    },
    {
     "name": "stdout",
     "output_type": "stream",
     "text": [
      "Epoch 1928\n",
      "Train Loss: 0.1311, Train Accuracy: 94.90%\n",
      "Test Loss: 0.3786, Test Accuracy: 90.35%\n",
      "\n"
     ]
    },
    {
     "name": "stderr",
     "output_type": "stream",
     "text": [
      "Epoch 1929: 100%|██████████| 938/938 [00:17<00:00, 55.11batch/s, Train Loss=0.133, Train Acc=94.9]\n"
     ]
    },
    {
     "name": "stdout",
     "output_type": "stream",
     "text": [
      "Epoch 1929\n",
      "Train Loss: 0.1326, Train Accuracy: 94.91%\n",
      "Test Loss: 0.3642, Test Accuracy: 90.62%\n",
      "\n"
     ]
    },
    {
     "name": "stderr",
     "output_type": "stream",
     "text": [
      "Epoch 1930: 100%|██████████| 938/938 [00:17<00:00, 55.12batch/s, Train Loss=0.132, Train Acc=95]  \n"
     ]
    },
    {
     "name": "stdout",
     "output_type": "stream",
     "text": [
      "Epoch 1930\n",
      "Train Loss: 0.1316, Train Accuracy: 95.02%\n",
      "Test Loss: 0.3659, Test Accuracy: 90.66%\n",
      "\n"
     ]
    },
    {
     "name": "stderr",
     "output_type": "stream",
     "text": [
      "Epoch 1931: 100%|██████████| 938/938 [00:17<00:00, 54.95batch/s, Train Loss=0.131, Train Acc=95.1]\n"
     ]
    },
    {
     "name": "stdout",
     "output_type": "stream",
     "text": [
      "Epoch 1931\n",
      "Train Loss: 0.1309, Train Accuracy: 95.07%\n",
      "Test Loss: 0.3749, Test Accuracy: 90.59%\n",
      "\n"
     ]
    },
    {
     "name": "stderr",
     "output_type": "stream",
     "text": [
      "Epoch 1932: 100%|██████████| 938/938 [00:16<00:00, 55.20batch/s, Train Loss=0.13, Train Acc=95]   \n"
     ]
    },
    {
     "name": "stdout",
     "output_type": "stream",
     "text": [
      "Epoch 1932\n",
      "Train Loss: 0.1297, Train Accuracy: 95.03%\n",
      "Test Loss: 0.3775, Test Accuracy: 90.66%\n",
      "\n"
     ]
    },
    {
     "name": "stderr",
     "output_type": "stream",
     "text": [
      "Epoch 1933: 100%|██████████| 938/938 [00:17<00:00, 55.01batch/s, Train Loss=0.13, Train Acc=95.1] \n"
     ]
    },
    {
     "name": "stdout",
     "output_type": "stream",
     "text": [
      "Epoch 1933\n",
      "Train Loss: 0.1304, Train Accuracy: 95.14%\n",
      "Test Loss: 0.3563, Test Accuracy: 90.45%\n",
      "\n"
     ]
    },
    {
     "name": "stderr",
     "output_type": "stream",
     "text": [
      "Epoch 1934: 100%|██████████| 938/938 [00:17<00:00, 55.16batch/s, Train Loss=0.131, Train Acc=95.1]\n"
     ]
    },
    {
     "name": "stdout",
     "output_type": "stream",
     "text": [
      "Epoch 1934\n",
      "Train Loss: 0.1313, Train Accuracy: 95.12%\n",
      "Test Loss: 0.3673, Test Accuracy: 90.29%\n",
      "\n"
     ]
    },
    {
     "name": "stderr",
     "output_type": "stream",
     "text": [
      "Epoch 1935: 100%|██████████| 938/938 [00:17<00:00, 55.00batch/s, Train Loss=0.13, Train Acc=95]   \n"
     ]
    },
    {
     "name": "stdout",
     "output_type": "stream",
     "text": [
      "Epoch 1935\n",
      "Train Loss: 0.1302, Train Accuracy: 95.04%\n",
      "Test Loss: 0.3606, Test Accuracy: 90.61%\n",
      "\n"
     ]
    },
    {
     "name": "stderr",
     "output_type": "stream",
     "text": [
      "Epoch 1936: 100%|██████████| 938/938 [00:17<00:00, 55.08batch/s, Train Loss=0.132, Train Acc=95]  \n"
     ]
    },
    {
     "name": "stdout",
     "output_type": "stream",
     "text": [
      "Epoch 1936\n",
      "Train Loss: 0.1321, Train Accuracy: 95.00%\n",
      "Test Loss: 0.3783, Test Accuracy: 90.34%\n",
      "\n"
     ]
    },
    {
     "name": "stderr",
     "output_type": "stream",
     "text": [
      "Epoch 1937: 100%|██████████| 938/938 [00:16<00:00, 55.20batch/s, Train Loss=0.13, Train Acc=95.1] \n"
     ]
    },
    {
     "name": "stdout",
     "output_type": "stream",
     "text": [
      "Epoch 1937\n",
      "Train Loss: 0.1304, Train Accuracy: 95.09%\n",
      "Test Loss: 0.3537, Test Accuracy: 90.70%\n",
      "\n"
     ]
    },
    {
     "name": "stderr",
     "output_type": "stream",
     "text": [
      "Epoch 1938: 100%|██████████| 938/938 [00:17<00:00, 55.14batch/s, Train Loss=0.131, Train Acc=95.1]\n"
     ]
    },
    {
     "name": "stdout",
     "output_type": "stream",
     "text": [
      "Epoch 1938\n",
      "Train Loss: 0.1314, Train Accuracy: 95.06%\n",
      "Test Loss: 0.3660, Test Accuracy: 90.39%\n",
      "\n"
     ]
    },
    {
     "name": "stderr",
     "output_type": "stream",
     "text": [
      "Epoch 1939: 100%|██████████| 938/938 [00:17<00:00, 55.06batch/s, Train Loss=0.126, Train Acc=95.2]\n"
     ]
    },
    {
     "name": "stdout",
     "output_type": "stream",
     "text": [
      "Epoch 1939\n",
      "Train Loss: 0.1262, Train Accuracy: 95.24%\n",
      "Test Loss: 0.3692, Test Accuracy: 90.53%\n",
      "\n"
     ]
    },
    {
     "name": "stderr",
     "output_type": "stream",
     "text": [
      "Epoch 1940: 100%|██████████| 938/938 [00:17<00:00, 55.13batch/s, Train Loss=0.13, Train Acc=95.1] \n"
     ]
    },
    {
     "name": "stdout",
     "output_type": "stream",
     "text": [
      "Epoch 1940\n",
      "Train Loss: 0.1300, Train Accuracy: 95.06%\n",
      "Test Loss: 0.3652, Test Accuracy: 90.53%\n",
      "\n"
     ]
    },
    {
     "name": "stderr",
     "output_type": "stream",
     "text": [
      "Epoch 1941: 100%|██████████| 938/938 [00:16<00:00, 55.27batch/s, Train Loss=0.131, Train Acc=95.1]\n"
     ]
    },
    {
     "name": "stdout",
     "output_type": "stream",
     "text": [
      "Epoch 1941\n",
      "Train Loss: 0.1308, Train Accuracy: 95.10%\n",
      "Test Loss: 0.3691, Test Accuracy: 90.59%\n",
      "\n"
     ]
    },
    {
     "name": "stderr",
     "output_type": "stream",
     "text": [
      "Epoch 1942: 100%|██████████| 938/938 [00:17<00:00, 55.07batch/s, Train Loss=0.13, Train Acc=95.1] \n"
     ]
    },
    {
     "name": "stdout",
     "output_type": "stream",
     "text": [
      "Epoch 1942\n",
      "Train Loss: 0.1304, Train Accuracy: 95.09%\n",
      "Test Loss: 0.3715, Test Accuracy: 90.45%\n",
      "\n"
     ]
    },
    {
     "name": "stderr",
     "output_type": "stream",
     "text": [
      "Epoch 1943: 100%|██████████| 938/938 [00:17<00:00, 55.13batch/s, Train Loss=0.13, Train Acc=95.1] \n"
     ]
    },
    {
     "name": "stdout",
     "output_type": "stream",
     "text": [
      "Epoch 1943\n",
      "Train Loss: 0.1298, Train Accuracy: 95.08%\n",
      "Test Loss: 0.3740, Test Accuracy: 90.47%\n",
      "\n"
     ]
    },
    {
     "name": "stderr",
     "output_type": "stream",
     "text": [
      "Epoch 1944: 100%|██████████| 938/938 [00:17<00:00, 55.14batch/s, Train Loss=0.129, Train Acc=95.1]\n"
     ]
    },
    {
     "name": "stdout",
     "output_type": "stream",
     "text": [
      "Epoch 1944\n",
      "Train Loss: 0.1288, Train Accuracy: 95.13%\n",
      "Test Loss: 0.3814, Test Accuracy: 90.27%\n",
      "\n"
     ]
    },
    {
     "name": "stderr",
     "output_type": "stream",
     "text": [
      "Epoch 1945: 100%|██████████| 938/938 [00:17<00:00, 55.17batch/s, Train Loss=0.129, Train Acc=95.1]\n"
     ]
    },
    {
     "name": "stdout",
     "output_type": "stream",
     "text": [
      "Epoch 1945\n",
      "Train Loss: 0.1290, Train Accuracy: 95.14%\n",
      "Test Loss: 0.3824, Test Accuracy: 90.39%\n",
      "\n"
     ]
    },
    {
     "name": "stderr",
     "output_type": "stream",
     "text": [
      "Epoch 1946: 100%|██████████| 938/938 [00:16<00:00, 55.22batch/s, Train Loss=0.131, Train Acc=95.2]\n"
     ]
    },
    {
     "name": "stdout",
     "output_type": "stream",
     "text": [
      "Epoch 1946\n",
      "Train Loss: 0.1308, Train Accuracy: 95.16%\n",
      "Test Loss: 0.3716, Test Accuracy: 90.41%\n",
      "\n"
     ]
    },
    {
     "name": "stderr",
     "output_type": "stream",
     "text": [
      "Epoch 1947: 100%|██████████| 938/938 [00:17<00:00, 55.11batch/s, Train Loss=0.13, Train Acc=95]   \n"
     ]
    },
    {
     "name": "stdout",
     "output_type": "stream",
     "text": [
      "Epoch 1947\n",
      "Train Loss: 0.1297, Train Accuracy: 95.04%\n",
      "Test Loss: 0.3716, Test Accuracy: 90.51%\n",
      "\n"
     ]
    },
    {
     "name": "stderr",
     "output_type": "stream",
     "text": [
      "Epoch 1948: 100%|██████████| 938/938 [00:17<00:00, 55.12batch/s, Train Loss=0.133, Train Acc=95]  \n"
     ]
    },
    {
     "name": "stdout",
     "output_type": "stream",
     "text": [
      "Epoch 1948\n",
      "Train Loss: 0.1330, Train Accuracy: 94.99%\n",
      "Test Loss: 0.4008, Test Accuracy: 90.07%\n",
      "\n"
     ]
    },
    {
     "name": "stderr",
     "output_type": "stream",
     "text": [
      "Epoch 1949: 100%|██████████| 938/938 [00:17<00:00, 55.10batch/s, Train Loss=0.127, Train Acc=95.2]\n"
     ]
    },
    {
     "name": "stdout",
     "output_type": "stream",
     "text": [
      "Epoch 1949\n",
      "Train Loss: 0.1265, Train Accuracy: 95.16%\n",
      "Test Loss: 0.3944, Test Accuracy: 90.51%\n",
      "\n"
     ]
    },
    {
     "name": "stderr",
     "output_type": "stream",
     "text": [
      "Epoch 1950: 100%|██████████| 938/938 [00:17<00:00, 55.11batch/s, Train Loss=0.131, Train Acc=95]  \n"
     ]
    },
    {
     "name": "stdout",
     "output_type": "stream",
     "text": [
      "Epoch 1950\n",
      "Train Loss: 0.1309, Train Accuracy: 95.03%\n",
      "Test Loss: 0.3803, Test Accuracy: 90.33%\n",
      "\n"
     ]
    },
    {
     "name": "stderr",
     "output_type": "stream",
     "text": [
      "Epoch 1951: 100%|██████████| 938/938 [00:17<00:00, 55.04batch/s, Train Loss=0.127, Train Acc=95.2]\n"
     ]
    },
    {
     "name": "stdout",
     "output_type": "stream",
     "text": [
      "Epoch 1951\n",
      "Train Loss: 0.1273, Train Accuracy: 95.17%\n",
      "Test Loss: 0.3947, Test Accuracy: 90.14%\n",
      "\n"
     ]
    },
    {
     "name": "stderr",
     "output_type": "stream",
     "text": [
      "Epoch 1952: 100%|██████████| 938/938 [00:17<00:00, 55.03batch/s, Train Loss=0.129, Train Acc=95.1]\n"
     ]
    },
    {
     "name": "stdout",
     "output_type": "stream",
     "text": [
      "Epoch 1952\n",
      "Train Loss: 0.1294, Train Accuracy: 95.06%\n",
      "Test Loss: 0.3896, Test Accuracy: 90.60%\n",
      "\n"
     ]
    },
    {
     "name": "stderr",
     "output_type": "stream",
     "text": [
      "Epoch 1953: 100%|██████████| 938/938 [00:17<00:00, 55.07batch/s, Train Loss=0.129, Train Acc=95.1]\n"
     ]
    },
    {
     "name": "stdout",
     "output_type": "stream",
     "text": [
      "Epoch 1953\n",
      "Train Loss: 0.1288, Train Accuracy: 95.12%\n",
      "Test Loss: 0.3898, Test Accuracy: 90.23%\n",
      "\n"
     ]
    },
    {
     "name": "stderr",
     "output_type": "stream",
     "text": [
      "Epoch 1954: 100%|██████████| 938/938 [00:17<00:00, 54.95batch/s, Train Loss=0.127, Train Acc=95.2]\n"
     ]
    },
    {
     "name": "stdout",
     "output_type": "stream",
     "text": [
      "Epoch 1954\n",
      "Train Loss: 0.1274, Train Accuracy: 95.19%\n",
      "Test Loss: 0.3735, Test Accuracy: 90.65%\n",
      "\n"
     ]
    },
    {
     "name": "stderr",
     "output_type": "stream",
     "text": [
      "Epoch 1955: 100%|██████████| 938/938 [00:17<00:00, 54.97batch/s, Train Loss=0.13, Train Acc=95.1] \n"
     ]
    },
    {
     "name": "stdout",
     "output_type": "stream",
     "text": [
      "Epoch 1955\n",
      "Train Loss: 0.1299, Train Accuracy: 95.12%\n",
      "Test Loss: 0.3616, Test Accuracy: 90.49%\n",
      "\n"
     ]
    },
    {
     "name": "stderr",
     "output_type": "stream",
     "text": [
      "Epoch 1956: 100%|██████████| 938/938 [00:17<00:00, 55.05batch/s, Train Loss=0.129, Train Acc=95.1]\n"
     ]
    },
    {
     "name": "stdout",
     "output_type": "stream",
     "text": [
      "Epoch 1956\n",
      "Train Loss: 0.1287, Train Accuracy: 95.13%\n",
      "Test Loss: 0.3740, Test Accuracy: 90.56%\n",
      "\n"
     ]
    },
    {
     "name": "stderr",
     "output_type": "stream",
     "text": [
      "Epoch 1957: 100%|██████████| 938/938 [00:17<00:00, 55.04batch/s, Train Loss=0.126, Train Acc=95.2]\n"
     ]
    },
    {
     "name": "stdout",
     "output_type": "stream",
     "text": [
      "Epoch 1957\n",
      "Train Loss: 0.1263, Train Accuracy: 95.25%\n",
      "Test Loss: 0.3686, Test Accuracy: 90.63%\n",
      "\n"
     ]
    },
    {
     "name": "stderr",
     "output_type": "stream",
     "text": [
      "Epoch 1958: 100%|██████████| 938/938 [00:17<00:00, 55.07batch/s, Train Loss=0.132, Train Acc=95.1]\n"
     ]
    },
    {
     "name": "stdout",
     "output_type": "stream",
     "text": [
      "Epoch 1958\n",
      "Train Loss: 0.1323, Train Accuracy: 95.08%\n",
      "Test Loss: 0.3724, Test Accuracy: 90.23%\n",
      "\n"
     ]
    },
    {
     "name": "stderr",
     "output_type": "stream",
     "text": [
      "Epoch 1959: 100%|██████████| 938/938 [00:17<00:00, 55.10batch/s, Train Loss=0.132, Train Acc=95]  \n"
     ]
    },
    {
     "name": "stdout",
     "output_type": "stream",
     "text": [
      "Epoch 1959\n",
      "Train Loss: 0.1323, Train Accuracy: 95.02%\n",
      "Test Loss: 0.3663, Test Accuracy: 90.48%\n",
      "\n"
     ]
    },
    {
     "name": "stderr",
     "output_type": "stream",
     "text": [
      "Epoch 1960: 100%|██████████| 938/938 [00:17<00:00, 55.09batch/s, Train Loss=0.126, Train Acc=95.3]\n"
     ]
    },
    {
     "name": "stdout",
     "output_type": "stream",
     "text": [
      "Epoch 1960\n",
      "Train Loss: 0.1256, Train Accuracy: 95.32%\n",
      "Test Loss: 0.3716, Test Accuracy: 90.77%\n",
      "\n"
     ]
    },
    {
     "name": "stderr",
     "output_type": "stream",
     "text": [
      "Epoch 1961: 100%|██████████| 938/938 [00:17<00:00, 55.14batch/s, Train Loss=0.125, Train Acc=95.3]\n"
     ]
    },
    {
     "name": "stdout",
     "output_type": "stream",
     "text": [
      "Epoch 1961\n",
      "Train Loss: 0.1249, Train Accuracy: 95.25%\n",
      "Test Loss: 0.3737, Test Accuracy: 90.41%\n",
      "\n"
     ]
    },
    {
     "name": "stderr",
     "output_type": "stream",
     "text": [
      "Epoch 1962: 100%|██████████| 938/938 [00:17<00:00, 55.14batch/s, Train Loss=0.127, Train Acc=95.3]\n"
     ]
    },
    {
     "name": "stdout",
     "output_type": "stream",
     "text": [
      "Epoch 1962\n",
      "Train Loss: 0.1269, Train Accuracy: 95.27%\n",
      "Test Loss: 0.3601, Test Accuracy: 90.39%\n",
      "\n"
     ]
    },
    {
     "name": "stderr",
     "output_type": "stream",
     "text": [
      "Epoch 1963: 100%|██████████| 938/938 [00:17<00:00, 54.97batch/s, Train Loss=0.129, Train Acc=95.2]\n"
     ]
    },
    {
     "name": "stdout",
     "output_type": "stream",
     "text": [
      "Epoch 1963\n",
      "Train Loss: 0.1291, Train Accuracy: 95.15%\n",
      "Test Loss: 0.3571, Test Accuracy: 90.55%\n",
      "\n"
     ]
    },
    {
     "name": "stderr",
     "output_type": "stream",
     "text": [
      "Epoch 1964: 100%|██████████| 938/938 [00:17<00:00, 55.06batch/s, Train Loss=0.128, Train Acc=95.1]\n"
     ]
    },
    {
     "name": "stdout",
     "output_type": "stream",
     "text": [
      "Epoch 1964\n",
      "Train Loss: 0.1279, Train Accuracy: 95.14%\n",
      "Test Loss: 0.3716, Test Accuracy: 90.36%\n",
      "\n"
     ]
    },
    {
     "name": "stderr",
     "output_type": "stream",
     "text": [
      "Epoch 1965: 100%|██████████| 938/938 [00:17<00:00, 55.06batch/s, Train Loss=0.124, Train Acc=95.3]\n"
     ]
    },
    {
     "name": "stdout",
     "output_type": "stream",
     "text": [
      "Epoch 1965\n",
      "Train Loss: 0.1237, Train Accuracy: 95.28%\n",
      "Test Loss: 0.3849, Test Accuracy: 90.20%\n",
      "\n"
     ]
    },
    {
     "name": "stderr",
     "output_type": "stream",
     "text": [
      "Epoch 1966: 100%|██████████| 938/938 [00:17<00:00, 55.04batch/s, Train Loss=0.125, Train Acc=95.3]\n"
     ]
    },
    {
     "name": "stdout",
     "output_type": "stream",
     "text": [
      "Epoch 1966\n",
      "Train Loss: 0.1252, Train Accuracy: 95.29%\n",
      "Test Loss: 0.3863, Test Accuracy: 90.46%\n",
      "\n"
     ]
    },
    {
     "name": "stderr",
     "output_type": "stream",
     "text": [
      "Epoch 1967: 100%|██████████| 938/938 [00:17<00:00, 54.95batch/s, Train Loss=0.129, Train Acc=95.2]\n"
     ]
    },
    {
     "name": "stdout",
     "output_type": "stream",
     "text": [
      "Epoch 1967\n",
      "Train Loss: 0.1288, Train Accuracy: 95.15%\n",
      "Test Loss: 0.3770, Test Accuracy: 90.37%\n",
      "\n"
     ]
    },
    {
     "name": "stderr",
     "output_type": "stream",
     "text": [
      "Epoch 1968: 100%|██████████| 938/938 [00:17<00:00, 55.02batch/s, Train Loss=0.129, Train Acc=95.1]\n"
     ]
    },
    {
     "name": "stdout",
     "output_type": "stream",
     "text": [
      "Epoch 1968\n",
      "Train Loss: 0.1294, Train Accuracy: 95.06%\n",
      "Test Loss: 0.3776, Test Accuracy: 90.25%\n",
      "\n"
     ]
    },
    {
     "name": "stderr",
     "output_type": "stream",
     "text": [
      "Epoch 1969: 100%|██████████| 938/938 [00:17<00:00, 55.09batch/s, Train Loss=0.129, Train Acc=95.1]\n"
     ]
    },
    {
     "name": "stdout",
     "output_type": "stream",
     "text": [
      "Epoch 1969\n",
      "Train Loss: 0.1289, Train Accuracy: 95.06%\n",
      "Test Loss: 0.3866, Test Accuracy: 90.26%\n",
      "\n"
     ]
    },
    {
     "name": "stderr",
     "output_type": "stream",
     "text": [
      "Epoch 1970: 100%|██████████| 938/938 [00:17<00:00, 55.09batch/s, Train Loss=0.128, Train Acc=95.2]\n"
     ]
    },
    {
     "name": "stdout",
     "output_type": "stream",
     "text": [
      "Epoch 1970\n",
      "Train Loss: 0.1284, Train Accuracy: 95.20%\n",
      "Test Loss: 0.3913, Test Accuracy: 90.29%\n",
      "\n"
     ]
    },
    {
     "name": "stderr",
     "output_type": "stream",
     "text": [
      "Epoch 1971: 100%|██████████| 938/938 [00:17<00:00, 55.01batch/s, Train Loss=0.126, Train Acc=95.2]\n"
     ]
    },
    {
     "name": "stdout",
     "output_type": "stream",
     "text": [
      "Epoch 1971\n",
      "Train Loss: 0.1263, Train Accuracy: 95.22%\n",
      "Test Loss: 0.3836, Test Accuracy: 90.37%\n",
      "\n"
     ]
    },
    {
     "name": "stderr",
     "output_type": "stream",
     "text": [
      "Epoch 1972: 100%|██████████| 938/938 [00:17<00:00, 55.09batch/s, Train Loss=0.127, Train Acc=95.2]\n"
     ]
    },
    {
     "name": "stdout",
     "output_type": "stream",
     "text": [
      "Epoch 1972\n",
      "Train Loss: 0.1272, Train Accuracy: 95.25%\n",
      "Test Loss: 0.3854, Test Accuracy: 90.32%\n",
      "\n"
     ]
    },
    {
     "name": "stderr",
     "output_type": "stream",
     "text": [
      "Epoch 1973: 100%|██████████| 938/938 [00:17<00:00, 55.11batch/s, Train Loss=0.125, Train Acc=95.3]\n"
     ]
    },
    {
     "name": "stdout",
     "output_type": "stream",
     "text": [
      "Epoch 1973\n",
      "Train Loss: 0.1251, Train Accuracy: 95.32%\n",
      "Test Loss: 0.3779, Test Accuracy: 90.22%\n",
      "\n"
     ]
    },
    {
     "name": "stderr",
     "output_type": "stream",
     "text": [
      "Epoch 1974: 100%|██████████| 938/938 [00:17<00:00, 55.09batch/s, Train Loss=0.126, Train Acc=95.2]\n"
     ]
    },
    {
     "name": "stdout",
     "output_type": "stream",
     "text": [
      "Epoch 1974\n",
      "Train Loss: 0.1262, Train Accuracy: 95.24%\n",
      "Test Loss: 0.3672, Test Accuracy: 90.50%\n",
      "\n"
     ]
    },
    {
     "name": "stderr",
     "output_type": "stream",
     "text": [
      "Epoch 1975: 100%|██████████| 938/938 [00:17<00:00, 54.96batch/s, Train Loss=0.129, Train Acc=95.1]\n"
     ]
    },
    {
     "name": "stdout",
     "output_type": "stream",
     "text": [
      "Epoch 1975\n",
      "Train Loss: 0.1293, Train Accuracy: 95.11%\n",
      "Test Loss: 0.3512, Test Accuracy: 90.47%\n",
      "\n"
     ]
    },
    {
     "name": "stderr",
     "output_type": "stream",
     "text": [
      "Epoch 1976: 100%|██████████| 938/938 [00:17<00:00, 55.09batch/s, Train Loss=0.126, Train Acc=95.2]\n"
     ]
    },
    {
     "name": "stdout",
     "output_type": "stream",
     "text": [
      "Epoch 1976\n",
      "Train Loss: 0.1257, Train Accuracy: 95.22%\n",
      "Test Loss: 0.3823, Test Accuracy: 90.03%\n",
      "\n"
     ]
    },
    {
     "name": "stderr",
     "output_type": "stream",
     "text": [
      "Epoch 1977: 100%|██████████| 938/938 [00:17<00:00, 55.08batch/s, Train Loss=0.126, Train Acc=95.2]\n"
     ]
    },
    {
     "name": "stdout",
     "output_type": "stream",
     "text": [
      "Epoch 1977\n",
      "Train Loss: 0.1259, Train Accuracy: 95.22%\n",
      "Test Loss: 0.3588, Test Accuracy: 90.46%\n",
      "\n"
     ]
    },
    {
     "name": "stderr",
     "output_type": "stream",
     "text": [
      "Epoch 1978: 100%|██████████| 938/938 [00:17<00:00, 55.12batch/s, Train Loss=0.126, Train Acc=95.3]\n"
     ]
    },
    {
     "name": "stdout",
     "output_type": "stream",
     "text": [
      "Epoch 1978\n",
      "Train Loss: 0.1260, Train Accuracy: 95.28%\n",
      "Test Loss: 0.3769, Test Accuracy: 90.43%\n",
      "\n"
     ]
    },
    {
     "name": "stderr",
     "output_type": "stream",
     "text": [
      "Epoch 1979: 100%|██████████| 938/938 [00:17<00:00, 55.14batch/s, Train Loss=0.129, Train Acc=95.1]\n"
     ]
    },
    {
     "name": "stdout",
     "output_type": "stream",
     "text": [
      "Epoch 1979\n",
      "Train Loss: 0.1294, Train Accuracy: 95.14%\n",
      "Test Loss: 0.3808, Test Accuracy: 90.13%\n",
      "\n"
     ]
    },
    {
     "name": "stderr",
     "output_type": "stream",
     "text": [
      "Epoch 1980: 100%|██████████| 938/938 [00:16<00:00, 55.35batch/s, Train Loss=0.13, Train Acc=95.1] \n"
     ]
    },
    {
     "name": "stdout",
     "output_type": "stream",
     "text": [
      "Epoch 1980\n",
      "Train Loss: 0.1304, Train Accuracy: 95.09%\n",
      "Test Loss: 0.3660, Test Accuracy: 90.69%\n",
      "\n"
     ]
    },
    {
     "name": "stderr",
     "output_type": "stream",
     "text": [
      "Epoch 1981: 100%|██████████| 938/938 [00:17<00:00, 54.98batch/s, Train Loss=0.126, Train Acc=95.2]\n"
     ]
    },
    {
     "name": "stdout",
     "output_type": "stream",
     "text": [
      "Epoch 1981\n",
      "Train Loss: 0.1261, Train Accuracy: 95.23%\n",
      "Test Loss: 0.3635, Test Accuracy: 90.59%\n",
      "\n"
     ]
    },
    {
     "name": "stderr",
     "output_type": "stream",
     "text": [
      "Epoch 1982: 100%|██████████| 938/938 [00:17<00:00, 55.16batch/s, Train Loss=0.129, Train Acc=95.2]\n"
     ]
    },
    {
     "name": "stdout",
     "output_type": "stream",
     "text": [
      "Epoch 1982\n",
      "Train Loss: 0.1288, Train Accuracy: 95.19%\n",
      "Test Loss: 0.3626, Test Accuracy: 90.66%\n",
      "\n"
     ]
    },
    {
     "name": "stderr",
     "output_type": "stream",
     "text": [
      "Epoch 1983: 100%|██████████| 938/938 [00:16<00:00, 55.24batch/s, Train Loss=0.129, Train Acc=95.2]\n"
     ]
    },
    {
     "name": "stdout",
     "output_type": "stream",
     "text": [
      "Epoch 1983\n",
      "Train Loss: 0.1288, Train Accuracy: 95.15%\n",
      "Test Loss: 0.3616, Test Accuracy: 90.80%\n",
      "\n"
     ]
    },
    {
     "name": "stderr",
     "output_type": "stream",
     "text": [
      "Epoch 1984: 100%|██████████| 938/938 [00:17<00:00, 55.05batch/s, Train Loss=0.128, Train Acc=95.2]\n"
     ]
    },
    {
     "name": "stdout",
     "output_type": "stream",
     "text": [
      "Epoch 1984\n",
      "Train Loss: 0.1275, Train Accuracy: 95.18%\n",
      "Test Loss: 0.3711, Test Accuracy: 90.18%\n",
      "\n"
     ]
    },
    {
     "name": "stderr",
     "output_type": "stream",
     "text": [
      "Epoch 1985: 100%|██████████| 938/938 [00:17<00:00, 55.09batch/s, Train Loss=0.126, Train Acc=95.3]\n"
     ]
    },
    {
     "name": "stdout",
     "output_type": "stream",
     "text": [
      "Epoch 1985\n",
      "Train Loss: 0.1255, Train Accuracy: 95.25%\n",
      "Test Loss: 0.3821, Test Accuracy: 90.25%\n",
      "\n"
     ]
    },
    {
     "name": "stderr",
     "output_type": "stream",
     "text": [
      "Epoch 1986: 100%|██████████| 938/938 [00:17<00:00, 55.13batch/s, Train Loss=0.125, Train Acc=95.3]\n"
     ]
    },
    {
     "name": "stdout",
     "output_type": "stream",
     "text": [
      "Epoch 1986\n",
      "Train Loss: 0.1250, Train Accuracy: 95.31%\n",
      "Test Loss: 0.3816, Test Accuracy: 90.52%\n",
      "\n"
     ]
    },
    {
     "name": "stderr",
     "output_type": "stream",
     "text": [
      "Epoch 1987: 100%|██████████| 938/938 [00:17<00:00, 55.07batch/s, Train Loss=0.128, Train Acc=95.2]\n"
     ]
    },
    {
     "name": "stdout",
     "output_type": "stream",
     "text": [
      "Epoch 1987\n",
      "Train Loss: 0.1282, Train Accuracy: 95.20%\n",
      "Test Loss: 0.3757, Test Accuracy: 90.43%\n",
      "\n"
     ]
    },
    {
     "name": "stderr",
     "output_type": "stream",
     "text": [
      "Epoch 1988: 100%|██████████| 938/938 [00:17<00:00, 55.01batch/s, Train Loss=0.125, Train Acc=95.3]\n"
     ]
    },
    {
     "name": "stdout",
     "output_type": "stream",
     "text": [
      "Epoch 1988\n",
      "Train Loss: 0.1247, Train Accuracy: 95.32%\n",
      "Test Loss: 0.3805, Test Accuracy: 90.17%\n",
      "\n"
     ]
    },
    {
     "name": "stderr",
     "output_type": "stream",
     "text": [
      "Epoch 1989: 100%|██████████| 938/938 [00:17<00:00, 55.02batch/s, Train Loss=0.126, Train Acc=95.1]\n"
     ]
    },
    {
     "name": "stdout",
     "output_type": "stream",
     "text": [
      "Epoch 1989\n",
      "Train Loss: 0.1264, Train Accuracy: 95.14%\n",
      "Test Loss: 0.3625, Test Accuracy: 90.49%\n",
      "\n"
     ]
    },
    {
     "name": "stderr",
     "output_type": "stream",
     "text": [
      "Epoch 1990: 100%|██████████| 938/938 [00:17<00:00, 55.01batch/s, Train Loss=0.126, Train Acc=95.3]\n"
     ]
    },
    {
     "name": "stdout",
     "output_type": "stream",
     "text": [
      "Epoch 1990\n",
      "Train Loss: 0.1256, Train Accuracy: 95.31%\n",
      "Test Loss: 0.3891, Test Accuracy: 90.10%\n",
      "\n"
     ]
    },
    {
     "name": "stderr",
     "output_type": "stream",
     "text": [
      "Epoch 1991: 100%|██████████| 938/938 [00:16<00:00, 55.29batch/s, Train Loss=0.126, Train Acc=95.3]\n"
     ]
    },
    {
     "name": "stdout",
     "output_type": "stream",
     "text": [
      "Epoch 1991\n",
      "Train Loss: 0.1258, Train Accuracy: 95.31%\n",
      "Test Loss: 0.3658, Test Accuracy: 90.42%\n",
      "\n"
     ]
    },
    {
     "name": "stderr",
     "output_type": "stream",
     "text": [
      "Epoch 1992: 100%|██████████| 938/938 [00:17<00:00, 55.12batch/s, Train Loss=0.128, Train Acc=95.2]\n"
     ]
    },
    {
     "name": "stdout",
     "output_type": "stream",
     "text": [
      "Epoch 1992\n",
      "Train Loss: 0.1278, Train Accuracy: 95.23%\n",
      "Test Loss: 0.3646, Test Accuracy: 90.45%\n",
      "\n"
     ]
    },
    {
     "name": "stderr",
     "output_type": "stream",
     "text": [
      "Epoch 1993: 100%|██████████| 938/938 [00:17<00:00, 54.95batch/s, Train Loss=0.128, Train Acc=95.1]\n"
     ]
    },
    {
     "name": "stdout",
     "output_type": "stream",
     "text": [
      "Epoch 1993\n",
      "Train Loss: 0.1282, Train Accuracy: 95.13%\n",
      "Test Loss: 0.3811, Test Accuracy: 90.48%\n",
      "\n"
     ]
    },
    {
     "name": "stderr",
     "output_type": "stream",
     "text": [
      "Epoch 1994: 100%|██████████| 938/938 [00:17<00:00, 55.10batch/s, Train Loss=0.125, Train Acc=95.2]\n"
     ]
    },
    {
     "name": "stdout",
     "output_type": "stream",
     "text": [
      "Epoch 1994\n",
      "Train Loss: 0.1247, Train Accuracy: 95.25%\n",
      "Test Loss: 0.3714, Test Accuracy: 90.56%\n",
      "\n"
     ]
    },
    {
     "name": "stderr",
     "output_type": "stream",
     "text": [
      "Epoch 1995: 100%|██████████| 938/938 [00:17<00:00, 55.14batch/s, Train Loss=0.126, Train Acc=95.3]\n"
     ]
    },
    {
     "name": "stdout",
     "output_type": "stream",
     "text": [
      "Epoch 1995\n",
      "Train Loss: 0.1258, Train Accuracy: 95.32%\n",
      "Test Loss: 0.3962, Test Accuracy: 90.17%\n",
      "\n"
     ]
    },
    {
     "name": "stderr",
     "output_type": "stream",
     "text": [
      "Epoch 1996: 100%|██████████| 938/938 [00:17<00:00, 55.05batch/s, Train Loss=0.129, Train Acc=95.1]\n"
     ]
    },
    {
     "name": "stdout",
     "output_type": "stream",
     "text": [
      "Epoch 1996\n",
      "Train Loss: 0.1290, Train Accuracy: 95.08%\n",
      "Test Loss: 0.3771, Test Accuracy: 90.58%\n",
      "\n"
     ]
    },
    {
     "name": "stderr",
     "output_type": "stream",
     "text": [
      "Epoch 1997: 100%|██████████| 938/938 [00:17<00:00, 55.05batch/s, Train Loss=0.124, Train Acc=95.4]\n"
     ]
    },
    {
     "name": "stdout",
     "output_type": "stream",
     "text": [
      "Epoch 1997\n",
      "Train Loss: 0.1240, Train Accuracy: 95.37%\n",
      "Test Loss: 0.3692, Test Accuracy: 90.46%\n",
      "\n"
     ]
    },
    {
     "name": "stderr",
     "output_type": "stream",
     "text": [
      "Epoch 1998: 100%|██████████| 938/938 [00:16<00:00, 55.23batch/s, Train Loss=0.127, Train Acc=95.2]\n"
     ]
    },
    {
     "name": "stdout",
     "output_type": "stream",
     "text": [
      "Epoch 1998\n",
      "Train Loss: 0.1265, Train Accuracy: 95.23%\n",
      "Test Loss: 0.3614, Test Accuracy: 90.62%\n",
      "\n"
     ]
    },
    {
     "name": "stderr",
     "output_type": "stream",
     "text": [
      "Epoch 1999: 100%|██████████| 938/938 [00:16<00:00, 55.20batch/s, Train Loss=0.123, Train Acc=95.3]\n"
     ]
    },
    {
     "name": "stdout",
     "output_type": "stream",
     "text": [
      "Epoch 1999\n",
      "Train Loss: 0.1232, Train Accuracy: 95.34%\n",
      "Test Loss: 0.3534, Test Accuracy: 90.91%\n",
      "\n"
     ]
    },
    {
     "name": "stderr",
     "output_type": "stream",
     "text": [
      "Epoch 2000: 100%|██████████| 938/938 [00:17<00:00, 55.05batch/s, Train Loss=0.123, Train Acc=95.4]\n"
     ]
    },
    {
     "name": "stdout",
     "output_type": "stream",
     "text": [
      "Epoch 2000\n",
      "Train Loss: 0.1229, Train Accuracy: 95.37%\n",
      "Test Loss: 0.3545, Test Accuracy: 90.67%\n",
      "\n"
     ]
    }
   ],
   "source": [
    "\n",
    "\n",
    "model.to(device)\n",
    "epochs = 2000\n",
    "for epoch in range(689, epochs + 1):\n",
    "    train_loss, train_accuracy = train(model, device, train_loader, optimizer, criterion, epoch)\n",
    "    test_loss, test_accuracy = test(model, device, test_loader, criterion, epoch)\n",
    "    print(f\"Epoch {epoch}\")\n",
    "    print(f\"Train Loss: {train_loss:.4f}, Train Accuracy: {train_accuracy:.2f}%\")\n",
    "    print(f\"Test Loss: {test_loss:.4f}, Test Accuracy: {test_accuracy:.2f}%\")\n",
    "    print()\n",
    "\n",
    "\n",
    "writer.close()"
   ]
  },
  {
   "cell_type": "code",
   "execution_count": 64,
   "metadata": {},
   "outputs": [],
   "source": [
    "def save_model(model, optimizer, epoch, loss, accuracy, filename):\n",
    "    torch.save({\n",
    "        'epoch': epoch,\n",
    "        'model_state_dict': model.state_dict(),\n",
    "        'optimizer_state_dict': optimizer.state_dict(),\n",
    "        'loss': loss,\n",
    "        'accuracy': accuracy\n",
    "    }, filename)\n"
   ]
  },
  {
   "cell_type": "code",
   "execution_count": 70,
   "metadata": {},
   "outputs": [],
   "source": [
    "save_model(model, optimizer, epochs, test_loss, test_accuracy, 'final_model.pth')"
   ]
  },
  {
   "cell_type": "code",
   "execution_count": 20,
   "metadata": {},
   "outputs": [],
   "source": [
    "def load_model(model, optimizer, filename):\n",
    "    checkpoint = torch.load(filename)\n",
    "    model.load_state_dict(checkpoint['model_state_dict'])\n",
    "    optimizer.load_state_dict(checkpoint['optimizer_state_dict'])\n",
    "    epoch = checkpoint['epoch']\n",
    "    loss = checkpoint['loss']\n",
    "    accuracy = checkpoint['accuracy']\n",
    "    return model, optimizer, epoch, loss, accuracy\n",
    "\n",
    "# Usage\n",
    "model, optimizer, epoch, loss, accuracy = load_model(model, optimizer, 'final_model.pth')"
   ]
  }
 ],
 "metadata": {
  "kernelspec": {
   "display_name": "vqvae",
   "language": "python",
   "name": "python3"
  },
  "language_info": {
   "codemirror_mode": {
    "name": "ipython",
    "version": 3
   },
   "file_extension": ".py",
   "mimetype": "text/x-python",
   "name": "python",
   "nbconvert_exporter": "python",
   "pygments_lexer": "ipython3",
   "version": "3.10.9"
  }
 },
 "nbformat": 4,
 "nbformat_minor": 2
}
