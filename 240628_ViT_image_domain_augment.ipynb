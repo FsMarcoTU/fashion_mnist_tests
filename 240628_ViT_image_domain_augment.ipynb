{
 "cells": [
  {
   "cell_type": "code",
   "execution_count": 1,
   "metadata": {},
   "outputs": [],
   "source": [
    "from vit_pytorch import ViT\n",
    "import torch\n",
    "from torchvision import datasets, transforms\n",
    "from torch.utils.data import Dataset, DataLoader\n",
    "import numpy as np\n",
    "import matplotlib.pyplot as plt\n",
    "import random\n",
    "import torch.nn as nn\n",
    "import torch.optim as optim\n",
    "import torch.nn.functional as F\n",
    "from tqdm import tqdm\n",
    "from torch.utils.tensorboard import SummaryWriter"
   ]
  },
  {
   "cell_type": "code",
   "execution_count": 2,
   "metadata": {},
   "outputs": [],
   "source": [
    "\n",
    "transform = transforms.Compose([transforms.ToTensor()])\n",
    "train_data = datasets.FashionMNIST(root='data', train=True, download=True, transform=transform)\n",
    "test_data = datasets.FashionMNIST(root='data', train=False, download=True, transform=transform)"
   ]
  },
  {
   "cell_type": "code",
   "execution_count": 3,
   "metadata": {},
   "outputs": [],
   "source": [
    "def fft_transform(data):\n",
    "    processed_data = []\n",
    "    for img, _ in data:\n",
    "        img_np = img.numpy().squeeze()\n",
    "        fft = np.fft.fft2(img_np)\n",
    "        processed_data.append((img_np, fft))\n",
    "    return processed_data\n",
    "\n",
    "train_fft = fft_transform(train_data)\n",
    "test_fft = fft_transform(test_data)\n",
    "\n",
    "def normalize_fft(fft_data):\n",
    "    normalized_data = []\n",
    "    for img_np, fft in fft_data:\n",
    "        # Calculate magnitude and phase\n",
    "        magnitude = np.abs(fft)\n",
    "        phase = np.angle(fft)\n",
    "        \n",
    "        # Normalize magnitude to [0, 1] range\n",
    "        magnitude_min = np.min(magnitude)\n",
    "        magnitude_max = np.max(magnitude)\n",
    "        normalized_magnitude = (magnitude - magnitude_min) / (magnitude_max - magnitude_min)\n",
    "        \n",
    "        # Rebuild complex number using normalized magnitude and original phase\n",
    "        normalized_fft = normalized_magnitude * np.exp(1j * phase)\n",
    "        \n",
    "        normalized_data.append((img_np, normalized_fft))\n",
    "    \n",
    "    return normalized_data\n",
    "\n",
    "# train_fft = normalize_fft(train_fft)\n",
    "# test_fft = normalize_fft(test_fft)"
   ]
  },
  {
   "cell_type": "code",
   "execution_count": 4,
   "metadata": {},
   "outputs": [
    {
     "name": "stdout",
     "output_type": "stream",
     "text": [
      "1.0 0.0 (299.0078472062014+0j) (-105.1554452474781-85.19899857776973j)\n"
     ]
    },
    {
     "data": {
      "image/png": "[encoded data removed]",
      "text/plain": [
       "<Figure size 640x480 with 1 Axes>"
      ]
     },
     "metadata": {},
     "output_type": "display_data"
    }
   ],
   "source": [
    "plt.imshow(np.abs(train_fft[0])[1])\n",
    "print(train_fft[0][0].max(), train_fft[0][0].min(), train_fft[0][1].max(), train_fft[0][1].min())"
   ]
  },
  {
   "cell_type": "code",
   "execution_count": 5,
   "metadata": {},
   "outputs": [],
   "source": [
    "def phase_shift_fourier(fourier_image, x=2.0, y=2.0):\n",
    "    \"\"\"\n",
    "    Perform a random phase shift on a Fourier-image, constrained by maximum values.\n",
    "    \n",
    "    Parameters:\n",
    "    fourier_image (torch.tensor): Complex-valued centered Fourier representation of an image\n",
    "    x (float): Maximum amount to shift in x direction (0-2 range recommended due to 2pi periodicity)\n",
    "    y (float): Maximum amount to shift in y direction (0-2 range recommended due to 2pi periodicity)\n",
    "    \n",
    "    Returns:\n",
    "    torch.tensor: The phase-shifted Fourier-image\n",
    "    \"\"\"\n",
    "    fourier_image = torch.fft.fftshift(fourier_image)\n",
    "    rows, cols = fourier_image.shape\n",
    "    \n",
    "    # Generate random shift amounts within the specified ranges\n",
    "    random_x = torch.rand(1).item() * x\n",
    "    random_y = torch.rand(1).item() * y\n",
    "    shift_x = random_y * torch.pi * rows\n",
    "    shift_y = random_x * torch.pi * cols\n",
    "    \n",
    "    freq_x = torch.fft.fftfreq(cols)\n",
    "    freq_y = torch.fft.fftfreq(rows)\n",
    "    fx, fy = torch.meshgrid(freq_x, freq_y, indexing='ij')\n",
    "    \n",
    "    # Calculate and apply phase shift\n",
    "    phase_shift = torch.exp(-1j * (shift_x * fx + shift_y * fy))\n",
    "    shifted_fourier_image = torch.fft.fftshift(fourier_image * phase_shift)\n",
    "    \n",
    "    return shifted_fourier_image\n",
    "\n",
    "\n",
    "def mask_frequency_spectrum(spectrum, max_mask_percentage):\n",
    "    # Ensure the max_mask_percentage is between 0 and 100\n",
    "    max_mask_percentage = torch.clamp(torch.tensor(max_mask_percentage), 0, 100)\n",
    "    \n",
    "    # Generate a random mask percentage\n",
    "    mask_percentage = torch.rand(1) * max_mask_percentage\n",
    "    \n",
    "    # Calculate the number of elements to mask\n",
    "    num_elements = spectrum.numel()\n",
    "    num_masked = int(num_elements * mask_percentage.item() / 100)\n",
    "    \n",
    "    # Create a flat copy of the spectrum\n",
    "    flat_spectrum = spectrum.view(-1)\n",
    "    \n",
    "    # Randomly select indices to mask\n",
    "    mask_indices = torch.randperm(num_elements)[:num_masked]\n",
    "    \n",
    "    # Create a mask tensor\n",
    "    mask = torch.ones_like(flat_spectrum, dtype=torch.bool)\n",
    "    mask[mask_indices] = False\n",
    "    \n",
    "    # Apply the mask\n",
    "    masked_spectrum = flat_spectrum.clone()\n",
    "    masked_spectrum[~mask] = 0\n",
    "    \n",
    "    # Reshape the spectrum back to its original shape\n",
    "    masked_spectrum = masked_spectrum.view(spectrum.shape)\n",
    "    \n",
    "    return masked_spectrum"
   ]
  },
  {
   "cell_type": "code",
   "execution_count": 6,
   "metadata": {},
   "outputs": [],
   "source": [
    "class CustomTransform:\n",
    "    def __init__(self, is_training=True):\n",
    "        self.is_training = is_training\n",
    "        \n",
    "    def __call__(self, sample):\n",
    "        img, fft = torch.tensor(np.array(sample))\n",
    "        if self.is_training: \n",
    "            fft = torch.fft.fftshift(fft)\n",
    "            fft = phase_shift_fourier(fft)\n",
    "            fft = mask_frequency_spectrum(fft, 75)\n",
    "            fft = torch.fft.fftshift(fft)\n",
    "            img = torch.fft.ifft2(fft)\n",
    "                # Split the complex image into real and imaginary parts\n",
    "        img_real = torch.real(img)\n",
    "        img_imag = torch.imag(img)\n",
    "        \n",
    "        # Stack the real and imaginary parts of the image\n",
    "        img_stacked = torch.stack([img_real, img_imag])\n",
    "        \n",
    "        return img_stacked.float()"
   ]
  },
  {
   "cell_type": "code",
   "execution_count": 7,
   "metadata": {},
   "outputs": [],
   "source": [
    "class ComplexDataset(Dataset):\n",
    "    def __init__(self, data, labels, is_training=True):\n",
    "        self.data = data\n",
    "        self.labels = labels\n",
    "        self.transform = CustomTransform(is_training)\n",
    "        \n",
    "    def __len__(self):\n",
    "        return len(self.data)\n",
    "\n",
    "    def __getitem__(self, idx):\n",
    "        sample = self.data[idx]\n",
    "        label = self.labels[idx]\n",
    "        sample = self.transform(sample)\n",
    "        return sample, label"
   ]
  },
  {
   "cell_type": "code",
   "execution_count": 8,
   "metadata": {},
   "outputs": [
    {
     "name": "stdout",
     "output_type": "stream",
     "text": [
      "938\n"
     ]
    }
   ],
   "source": [
    "# Create the custom dataset\n",
    "train_labels = [label for _, label in train_data]\n",
    "train_dataset = ComplexDataset(train_fft, train_labels, is_training=True)\n",
    "\n",
    "test_labels = [label for _, label in test_data]\n",
    "test_dataset = ComplexDataset(test_fft, test_labels, is_training=False)\n",
    "\n",
    "# Create data loaders\n",
    "train_loader = DataLoader(train_dataset, batch_size=64, shuffle=True)\n",
    "test_loader = DataLoader(test_dataset, batch_size=64, shuffle=False)\n",
    "\n",
    "print(len(train_loader))"
   ]
  },
  {
   "cell_type": "code",
   "execution_count": 9,
   "metadata": {},
   "outputs": [],
   "source": [
    "item = next(iter(train_loader))"
   ]
  },
  {
   "cell_type": "code",
   "execution_count": 10,
   "metadata": {},
   "outputs": [
    {
     "name": "stdout",
     "output_type": "stream",
     "text": [
      "torch.Size([64, 2, 28, 28])\n"
     ]
    },
    {
     "data": {
      "text/plain": [
       "<matplotlib.image.AxesImage at 0x7f7c78cc9070>"
      ]
     },
     "execution_count": 10,
     "metadata": {},
     "output_type": "execute_result"
    },
    {
     "data": {
      "image/png": "[encoded data removed]",
      "text/plain": [
       "<Figure size 1200x800 with 3 Axes>"
      ]
     },
     "metadata": {},
     "output_type": "display_data"
    }
   ],
   "source": [
    "complex = torch.complex(item[0][0,0,:,:],item[0][0,1,:,:])\n",
    "print(item[0].shape)\n",
    "plt.figure(figsize=(12,8))\n",
    "plt.subplot(1,3,1)\n",
    "plt.imshow(item[0][0,0,:,:], cmap=\"gray\")\n",
    "plt.subplot(1,3,2)\n",
    "plt.imshow(item[0][0,1,:,:], cmap=\"gray\")\n",
    "plt.subplot(1,3,3)\n",
    "plt.imshow(torch.abs(complex), cmap=\"gray\")\n"
   ]
  },
  {
   "cell_type": "code",
   "execution_count": 11,
   "metadata": {},
   "outputs": [
    {
     "data": {
      "image/png": "[encoded data removed]",
      "text/plain": [
       "<Figure size 1200x500 with 3 Axes>"
      ]
     },
     "metadata": {},
     "output_type": "display_data"
    }
   ],
   "source": [
    "\n",
    "# Create a figure with two subplots\n",
    "fig, (ax1, ax2) = plt.subplots(1, 2, figsize=(12, 5))\n",
    "\n",
    "# Plot the image\n",
    "im = ax1.imshow(item[0][0,1,:,:], cmap=\"gray\")\n",
    "ax1.set_title(\"Image\")\n",
    "fig.colorbar(im, ax=ax1)\n",
    "\n",
    "# Plot the histogram\n",
    "ax2.hist(item[0][0,1,:,:].ravel(), bins=50, range=(0, 1))\n",
    "ax2.set_title(\"Histogram\")\n",
    "ax2.set_xlabel(\"Pixel Value\")\n",
    "ax2.set_ylabel(\"Frequency\")\n",
    "\n",
    "plt.tight_layout()\n",
    "plt.show()"
   ]
  },
  {
   "cell_type": "code",
   "execution_count": 12,
   "metadata": {},
   "outputs": [],
   "source": [
    "model = ViT(\n",
    "    image_size = 28,\n",
    "    patch_size = 7,\n",
    "    num_classes = 10,\n",
    "    dim = 256,\n",
    "    depth = 6,\n",
    "    heads = 12,\n",
    "    mlp_dim = 512,\n",
    "    dropout = 0.1,\n",
    "    emb_dropout = 0.1,\n",
    "    channels = 2\n",
    ")\n",
    "\n",
    "img = torch.randn(1, 2, 28, 28)\n",
    "\n",
    "preds = model(img) # (1, 1000)"
   ]
  },
  {
   "cell_type": "code",
   "execution_count": 13,
   "metadata": {},
   "outputs": [
    {
     "name": "stdout",
     "output_type": "stream",
     "text": [
      "Total trainable parameters: 6337486\n"
     ]
    }
   ],
   "source": [
    "total_params = sum(p.numel() for p in model.parameters() if p.requires_grad)\n",
    "print(f\"Total trainable parameters: {total_params}\")"
   ]
  },
  {
   "cell_type": "code",
   "execution_count": 23,
   "metadata": {},
   "outputs": [],
   "source": [
    "criterion = nn.CrossEntropyLoss()\n",
    "optimizer = optim.Adam(model.parameters(), lr=1e-4)"
   ]
  },
  {
   "cell_type": "code",
   "execution_count": 26,
   "metadata": {},
   "outputs": [],
   "source": [
    "writer = SummaryWriter('runs/experiment_1') \n",
    "\n",
    "def train(model, device, train_loader, optimizer, criterion, epoch):\n",
    "    model.train()\n",
    "    train_loss = 0\n",
    "    correct = 0\n",
    "    total = 0\n",
    "    progress_bar = tqdm(train_loader, desc=f\"Epoch {epoch}\", unit=\"batch\")\n",
    "    for batch_idx, (data, target) in enumerate(progress_bar):\n",
    "        data, target = data.to(device), target.to(device)\n",
    "        optimizer.zero_grad()\n",
    "        output = model(data)\n",
    "        loss = criterion(output, target)\n",
    "        loss.backward()\n",
    "        optimizer.step()\n",
    "        train_loss += loss.item()\n",
    "        _, predicted = output.max(1)\n",
    "        total += target.size(0)\n",
    "        correct += predicted.eq(target).sum().item()\n",
    "        progress_bar.set_postfix({\"Train Loss\": train_loss / (batch_idx + 1), \"Train Acc\": 100. * correct / total})\n",
    "        \n",
    "        # Log batch-level metrics\n",
    "        writer.add_scalar('Loss/Train Batch', loss.item(), epoch * len(train_loader) + batch_idx)\n",
    "        writer.add_scalar('Accuracy/Train Batch', 100. * correct / total, epoch * len(train_loader) + batch_idx)\n",
    "    \n",
    "    train_loss /= len(train_loader)\n",
    "    train_accuracy = 100. * correct / total\n",
    "    \n",
    "    # Log epoch-level metrics\n",
    "    writer.add_scalar('Loss/Train Epoch', train_loss, epoch)\n",
    "    writer.add_scalar('Accuracy/Train Epoch', train_accuracy, epoch)\n",
    "    \n",
    "    return train_loss, train_accuracy\n",
    "\n",
    "def test(model, device, test_loader, criterion, epoch):\n",
    "    model.eval()\n",
    "    test_loss = 0\n",
    "    correct = 0\n",
    "    total = 0\n",
    "    with torch.no_grad():\n",
    "        for data, target in test_loader:\n",
    "            data, target = data.to(device), target.to(device)\n",
    "            output = model(data)\n",
    "            test_loss += criterion(output, target).item()\n",
    "            _, predicted = output.max(1)\n",
    "            total += target.size(0)\n",
    "            correct += predicted.eq(target).sum().item()\n",
    "    \n",
    "    test_loss /= len(test_loader)\n",
    "    test_accuracy = 100. * correct / total\n",
    "    \n",
    "    # Log epoch-level metrics\n",
    "    writer.add_scalar('Loss/Test', test_loss, epoch)\n",
    "    writer.add_scalar('Accuracy/Test', test_accuracy, epoch)\n",
    "    \n",
    "    return test_loss, test_accuracy\n"
   ]
  },
  {
   "cell_type": "code",
   "execution_count": 27,
   "metadata": {},
   "outputs": [
    {
     "name": "stdout",
     "output_type": "stream",
     "text": [
      "cuda\n"
     ]
    }
   ],
   "source": [
    "device = torch.device(\"cuda\" if torch.cuda.is_available() else \"cpu\")\n",
    "print(device)"
   ]
  },
  {
   "cell_type": "code",
   "execution_count": 29,
   "metadata": {},
   "outputs": [
    {
     "name": "stderr",
     "output_type": "stream",
     "text": [
      "Epoch 0: 100%|██████████| 938/938 [00:56<00:00, 16.74batch/s, Train Loss=0.237, Train Acc=90.9]\n"
     ]
    },
    {
     "name": "stdout",
     "output_type": "stream",
     "text": [
      "Epoch 0\n",
      "Train Loss: 0.2369, Train Accuracy: 90.91%\n",
      "Test Loss: 0.2323, Test Accuracy: 91.61%\n",
      "\n"
     ]
    },
    {
     "name": "stderr",
     "output_type": "stream",
     "text": [
      "Epoch 1: 100%|██████████| 938/938 [00:57<00:00, 16.44batch/s, Train Loss=0.235, Train Acc=91]  \n"
     ]
    },
    {
     "name": "stdout",
     "output_type": "stream",
     "text": [
      "Epoch 1\n",
      "Train Loss: 0.2354, Train Accuracy: 91.05%\n",
      "Test Loss: 0.2294, Test Accuracy: 91.74%\n",
      "\n"
     ]
    },
    {
     "name": "stderr",
     "output_type": "stream",
     "text": [
      "Epoch 2: 100%|██████████| 938/938 [00:54<00:00, 17.23batch/s, Train Loss=0.235, Train Acc=91]  \n"
     ]
    },
    {
     "name": "stdout",
     "output_type": "stream",
     "text": [
      "Epoch 2\n",
      "Train Loss: 0.2353, Train Accuracy: 91.05%\n",
      "Test Loss: 0.2285, Test Accuracy: 91.72%\n",
      "\n"
     ]
    },
    {
     "name": "stderr",
     "output_type": "stream",
     "text": [
      "Epoch 3: 100%|██████████| 938/938 [00:54<00:00, 17.30batch/s, Train Loss=0.24, Train Acc=90.7] \n"
     ]
    },
    {
     "name": "stdout",
     "output_type": "stream",
     "text": [
      "Epoch 3\n",
      "Train Loss: 0.2401, Train Accuracy: 90.73%\n",
      "Test Loss: 0.2343, Test Accuracy: 91.35%\n",
      "\n"
     ]
    },
    {
     "name": "stderr",
     "output_type": "stream",
     "text": [
      "Epoch 4: 100%|██████████| 938/938 [00:53<00:00, 17.37batch/s, Train Loss=0.237, Train Acc=90.8]\n"
     ]
    },
    {
     "name": "stdout",
     "output_type": "stream",
     "text": [
      "Epoch 4\n",
      "Train Loss: 0.2368, Train Accuracy: 90.84%\n",
      "Test Loss: 0.2333, Test Accuracy: 91.58%\n",
      "\n"
     ]
    },
    {
     "name": "stderr",
     "output_type": "stream",
     "text": [
      "Epoch 5: 100%|██████████| 938/938 [00:53<00:00, 17.42batch/s, Train Loss=0.236, Train Acc=91]  \n"
     ]
    },
    {
     "name": "stdout",
     "output_type": "stream",
     "text": [
      "Epoch 5\n",
      "Train Loss: 0.2364, Train Accuracy: 90.99%\n",
      "Test Loss: 0.2355, Test Accuracy: 91.43%\n",
      "\n"
     ]
    },
    {
     "name": "stderr",
     "output_type": "stream",
     "text": [
      "Epoch 6: 100%|██████████| 938/938 [00:53<00:00, 17.43batch/s, Train Loss=0.234, Train Acc=90.9]\n"
     ]
    },
    {
     "name": "stdout",
     "output_type": "stream",
     "text": [
      "Epoch 6\n",
      "Train Loss: 0.2338, Train Accuracy: 90.87%\n",
      "Test Loss: 0.2316, Test Accuracy: 91.82%\n",
      "\n"
     ]
    },
    {
     "name": "stderr",
     "output_type": "stream",
     "text": [
      "Epoch 7: 100%|██████████| 938/938 [00:53<00:00, 17.46batch/s, Train Loss=0.236, Train Acc=91]  \n"
     ]
    },
    {
     "name": "stdout",
     "output_type": "stream",
     "text": [
      "Epoch 7\n",
      "Train Loss: 0.2355, Train Accuracy: 91.01%\n",
      "Test Loss: 0.2301, Test Accuracy: 91.69%\n",
      "\n"
     ]
    },
    {
     "name": "stderr",
     "output_type": "stream",
     "text": [
      "Epoch 8: 100%|██████████| 938/938 [00:56<00:00, 16.63batch/s, Train Loss=0.232, Train Acc=91.1]\n"
     ]
    },
    {
     "name": "stdout",
     "output_type": "stream",
     "text": [
      "Epoch 8\n",
      "Train Loss: 0.2315, Train Accuracy: 91.09%\n",
      "Test Loss: 0.2335, Test Accuracy: 91.44%\n",
      "\n"
     ]
    },
    {
     "name": "stderr",
     "output_type": "stream",
     "text": [
      "Epoch 9: 100%|██████████| 938/938 [00:58<00:00, 16.08batch/s, Train Loss=0.236, Train Acc=91]  \n"
     ]
    },
    {
     "name": "stdout",
     "output_type": "stream",
     "text": [
      "Epoch 9\n",
      "Train Loss: 0.2358, Train Accuracy: 91.00%\n",
      "Test Loss: 0.2331, Test Accuracy: 91.63%\n",
      "\n"
     ]
    },
    {
     "name": "stderr",
     "output_type": "stream",
     "text": [
      "Epoch 10: 100%|██████████| 938/938 [00:57<00:00, 16.37batch/s, Train Loss=0.234, Train Acc=91.1]\n"
     ]
    },
    {
     "name": "stdout",
     "output_type": "stream",
     "text": [
      "Epoch 10\n",
      "Train Loss: 0.2339, Train Accuracy: 91.08%\n",
      "Test Loss: 0.2282, Test Accuracy: 91.95%\n",
      "\n"
     ]
    },
    {
     "name": "stderr",
     "output_type": "stream",
     "text": [
      "Epoch 11: 100%|██████████| 938/938 [00:55<00:00, 17.03batch/s, Train Loss=0.235, Train Acc=91]  \n"
     ]
    },
    {
     "name": "stdout",
     "output_type": "stream",
     "text": [
      "Epoch 11\n",
      "Train Loss: 0.2351, Train Accuracy: 90.98%\n",
      "Test Loss: 0.2324, Test Accuracy: 91.74%\n",
      "\n"
     ]
    },
    {
     "name": "stderr",
     "output_type": "stream",
     "text": [
      "Epoch 12: 100%|██████████| 938/938 [00:55<00:00, 16.99batch/s, Train Loss=0.234, Train Acc=90.9]\n"
     ]
    },
    {
     "name": "stdout",
     "output_type": "stream",
     "text": [
      "Epoch 12\n",
      "Train Loss: 0.2343, Train Accuracy: 90.91%\n",
      "Test Loss: 0.2311, Test Accuracy: 91.79%\n",
      "\n"
     ]
    },
    {
     "name": "stderr",
     "output_type": "stream",
     "text": [
      "Epoch 13: 100%|██████████| 938/938 [00:55<00:00, 16.98batch/s, Train Loss=0.231, Train Acc=91.2]\n"
     ]
    },
    {
     "name": "stdout",
     "output_type": "stream",
     "text": [
      "Epoch 13\n",
      "Train Loss: 0.2309, Train Accuracy: 91.17%\n",
      "Test Loss: 0.2327, Test Accuracy: 91.77%\n",
      "\n"
     ]
    },
    {
     "name": "stderr",
     "output_type": "stream",
     "text": [
      "Epoch 14: 100%|██████████| 938/938 [00:55<00:00, 16.98batch/s, Train Loss=0.233, Train Acc=91.1]\n"
     ]
    },
    {
     "name": "stdout",
     "output_type": "stream",
     "text": [
      "Epoch 14\n",
      "Train Loss: 0.2330, Train Accuracy: 91.08%\n",
      "Test Loss: 0.2320, Test Accuracy: 91.64%\n",
      "\n"
     ]
    },
    {
     "name": "stderr",
     "output_type": "stream",
     "text": [
      "Epoch 15: 100%|██████████| 938/938 [00:55<00:00, 16.94batch/s, Train Loss=0.23, Train Acc=91.1] \n"
     ]
    },
    {
     "name": "stdout",
     "output_type": "stream",
     "text": [
      "Epoch 15\n",
      "Train Loss: 0.2300, Train Accuracy: 91.12%\n",
      "Test Loss: 0.2337, Test Accuracy: 91.56%\n",
      "\n"
     ]
    },
    {
     "name": "stderr",
     "output_type": "stream",
     "text": [
      "Epoch 16: 100%|██████████| 938/938 [00:55<00:00, 16.99batch/s, Train Loss=0.235, Train Acc=91]  \n"
     ]
    },
    {
     "name": "stdout",
     "output_type": "stream",
     "text": [
      "Epoch 16\n",
      "Train Loss: 0.2354, Train Accuracy: 90.96%\n",
      "Test Loss: 0.2296, Test Accuracy: 91.82%\n",
      "\n"
     ]
    },
    {
     "name": "stderr",
     "output_type": "stream",
     "text": [
      "Epoch 17: 100%|██████████| 938/938 [00:54<00:00, 17.11batch/s, Train Loss=0.233, Train Acc=91.1]\n"
     ]
    },
    {
     "name": "stdout",
     "output_type": "stream",
     "text": [
      "Epoch 17\n",
      "Train Loss: 0.2327, Train Accuracy: 91.07%\n",
      "Test Loss: 0.2222, Test Accuracy: 91.95%\n",
      "\n"
     ]
    },
    {
     "name": "stderr",
     "output_type": "stream",
     "text": [
      "Epoch 18: 100%|██████████| 938/938 [00:55<00:00, 16.97batch/s, Train Loss=0.232, Train Acc=91]  \n"
     ]
    },
    {
     "name": "stdout",
     "output_type": "stream",
     "text": [
      "Epoch 18\n",
      "Train Loss: 0.2321, Train Accuracy: 91.02%\n",
      "Test Loss: 0.2229, Test Accuracy: 91.84%\n",
      "\n"
     ]
    },
    {
     "name": "stderr",
     "output_type": "stream",
     "text": [
      "Epoch 19: 100%|██████████| 938/938 [00:55<00:00, 17.03batch/s, Train Loss=0.232, Train Acc=91.1]\n"
     ]
    },
    {
     "name": "stdout",
     "output_type": "stream",
     "text": [
      "Epoch 19\n",
      "Train Loss: 0.2318, Train Accuracy: 91.14%\n",
      "Test Loss: 0.2268, Test Accuracy: 91.76%\n",
      "\n"
     ]
    },
    {
     "name": "stderr",
     "output_type": "stream",
     "text": [
      "Epoch 20: 100%|██████████| 938/938 [00:54<00:00, 17.05batch/s, Train Loss=0.23, Train Acc=91.3] \n"
     ]
    },
    {
     "name": "stdout",
     "output_type": "stream",
     "text": [
      "Epoch 20\n",
      "Train Loss: 0.2297, Train Accuracy: 91.26%\n",
      "Test Loss: 0.2267, Test Accuracy: 91.62%\n",
      "\n"
     ]
    },
    {
     "name": "stderr",
     "output_type": "stream",
     "text": [
      "Epoch 21: 100%|██████████| 938/938 [00:55<00:00, 17.04batch/s, Train Loss=0.23, Train Acc=91.2] \n"
     ]
    },
    {
     "name": "stdout",
     "output_type": "stream",
     "text": [
      "Epoch 21\n",
      "Train Loss: 0.2295, Train Accuracy: 91.17%\n",
      "Test Loss: 0.2303, Test Accuracy: 91.64%\n",
      "\n"
     ]
    },
    {
     "name": "stderr",
     "output_type": "stream",
     "text": [
      "Epoch 22: 100%|██████████| 938/938 [00:55<00:00, 16.97batch/s, Train Loss=0.23, Train Acc=91.1] \n"
     ]
    },
    {
     "name": "stdout",
     "output_type": "stream",
     "text": [
      "Epoch 22\n",
      "Train Loss: 0.2295, Train Accuracy: 91.15%\n",
      "Test Loss: 0.2240, Test Accuracy: 91.83%\n",
      "\n"
     ]
    },
    {
     "name": "stderr",
     "output_type": "stream",
     "text": [
      "Epoch 23: 100%|██████████| 938/938 [00:55<00:00, 16.93batch/s, Train Loss=0.229, Train Acc=91.2]\n"
     ]
    },
    {
     "name": "stdout",
     "output_type": "stream",
     "text": [
      "Epoch 23\n",
      "Train Loss: 0.2291, Train Accuracy: 91.19%\n",
      "Test Loss: 0.2344, Test Accuracy: 91.64%\n",
      "\n"
     ]
    },
    {
     "name": "stderr",
     "output_type": "stream",
     "text": [
      "Epoch 24: 100%|██████████| 938/938 [00:55<00:00, 17.04batch/s, Train Loss=0.231, Train Acc=91.1]\n"
     ]
    },
    {
     "name": "stdout",
     "output_type": "stream",
     "text": [
      "Epoch 24\n",
      "Train Loss: 0.2312, Train Accuracy: 91.11%\n",
      "Test Loss: 0.2298, Test Accuracy: 91.79%\n",
      "\n"
     ]
    },
    {
     "name": "stderr",
     "output_type": "stream",
     "text": [
      "Epoch 25: 100%|██████████| 938/938 [00:57<00:00, 16.39batch/s, Train Loss=0.231, Train Acc=91.2]\n"
     ]
    },
    {
     "name": "stdout",
     "output_type": "stream",
     "text": [
      "Epoch 25\n",
      "Train Loss: 0.2309, Train Accuracy: 91.17%\n",
      "Test Loss: 0.2271, Test Accuracy: 91.82%\n",
      "\n"
     ]
    },
    {
     "name": "stderr",
     "output_type": "stream",
     "text": [
      "Epoch 26: 100%|██████████| 938/938 [00:55<00:00, 17.00batch/s, Train Loss=0.229, Train Acc=91.2]\n"
     ]
    },
    {
     "name": "stdout",
     "output_type": "stream",
     "text": [
      "Epoch 26\n",
      "Train Loss: 0.2285, Train Accuracy: 91.19%\n",
      "Test Loss: 0.2370, Test Accuracy: 91.40%\n",
      "\n"
     ]
    },
    {
     "name": "stderr",
     "output_type": "stream",
     "text": [
      "Epoch 27: 100%|██████████| 938/938 [00:55<00:00, 16.91batch/s, Train Loss=0.226, Train Acc=91.4]\n"
     ]
    },
    {
     "name": "stdout",
     "output_type": "stream",
     "text": [
      "Epoch 27\n",
      "Train Loss: 0.2262, Train Accuracy: 91.41%\n",
      "Test Loss: 0.2320, Test Accuracy: 91.82%\n",
      "\n"
     ]
    },
    {
     "name": "stderr",
     "output_type": "stream",
     "text": [
      "Epoch 28: 100%|██████████| 938/938 [00:55<00:00, 17.02batch/s, Train Loss=0.229, Train Acc=91.2]\n"
     ]
    },
    {
     "name": "stdout",
     "output_type": "stream",
     "text": [
      "Epoch 28\n",
      "Train Loss: 0.2287, Train Accuracy: 91.24%\n",
      "Test Loss: 0.2326, Test Accuracy: 91.74%\n",
      "\n"
     ]
    },
    {
     "name": "stderr",
     "output_type": "stream",
     "text": [
      "Epoch 29: 100%|██████████| 938/938 [00:55<00:00, 17.01batch/s, Train Loss=0.229, Train Acc=91.2]\n"
     ]
    },
    {
     "name": "stdout",
     "output_type": "stream",
     "text": [
      "Epoch 29\n",
      "Train Loss: 0.2295, Train Accuracy: 91.20%\n",
      "Test Loss: 0.2321, Test Accuracy: 91.69%\n",
      "\n"
     ]
    },
    {
     "name": "stderr",
     "output_type": "stream",
     "text": [
      "Epoch 30: 100%|██████████| 938/938 [00:55<00:00, 16.97batch/s, Train Loss=0.226, Train Acc=91.3]\n"
     ]
    },
    {
     "name": "stdout",
     "output_type": "stream",
     "text": [
      "Epoch 30\n",
      "Train Loss: 0.2261, Train Accuracy: 91.31%\n",
      "Test Loss: 0.2269, Test Accuracy: 91.66%\n",
      "\n"
     ]
    },
    {
     "name": "stderr",
     "output_type": "stream",
     "text": [
      "Epoch 31: 100%|██████████| 938/938 [00:55<00:00, 16.96batch/s, Train Loss=0.229, Train Acc=91.2]\n"
     ]
    },
    {
     "name": "stdout",
     "output_type": "stream",
     "text": [
      "Epoch 31\n",
      "Train Loss: 0.2288, Train Accuracy: 91.25%\n",
      "Test Loss: 0.2271, Test Accuracy: 91.83%\n",
      "\n"
     ]
    },
    {
     "name": "stderr",
     "output_type": "stream",
     "text": [
      "Epoch 32: 100%|██████████| 938/938 [00:55<00:00, 16.99batch/s, Train Loss=0.227, Train Acc=91.3]\n"
     ]
    },
    {
     "name": "stdout",
     "output_type": "stream",
     "text": [
      "Epoch 32\n",
      "Train Loss: 0.2269, Train Accuracy: 91.35%\n",
      "Test Loss: 0.2327, Test Accuracy: 91.67%\n",
      "\n"
     ]
    },
    {
     "name": "stderr",
     "output_type": "stream",
     "text": [
      "Epoch 33: 100%|██████████| 938/938 [00:55<00:00, 17.04batch/s, Train Loss=0.227, Train Acc=91.3]\n"
     ]
    },
    {
     "name": "stdout",
     "output_type": "stream",
     "text": [
      "Epoch 33\n",
      "Train Loss: 0.2273, Train Accuracy: 91.34%\n",
      "Test Loss: 0.2278, Test Accuracy: 91.86%\n",
      "\n"
     ]
    },
    {
     "name": "stderr",
     "output_type": "stream",
     "text": [
      "Epoch 34: 100%|██████████| 938/938 [00:55<00:00, 17.02batch/s, Train Loss=0.225, Train Acc=91.3]\n"
     ]
    },
    {
     "name": "stdout",
     "output_type": "stream",
     "text": [
      "Epoch 34\n",
      "Train Loss: 0.2249, Train Accuracy: 91.30%\n",
      "Test Loss: 0.2247, Test Accuracy: 92.00%\n",
      "\n"
     ]
    },
    {
     "name": "stderr",
     "output_type": "stream",
     "text": [
      "Epoch 35: 100%|██████████| 938/938 [00:55<00:00, 17.03batch/s, Train Loss=0.224, Train Acc=91.4]\n"
     ]
    },
    {
     "name": "stdout",
     "output_type": "stream",
     "text": [
      "Epoch 35\n",
      "Train Loss: 0.2239, Train Accuracy: 91.38%\n",
      "Test Loss: 0.2238, Test Accuracy: 92.17%\n",
      "\n"
     ]
    },
    {
     "name": "stderr",
     "output_type": "stream",
     "text": [
      "Epoch 36: 100%|██████████| 938/938 [00:55<00:00, 17.01batch/s, Train Loss=0.228, Train Acc=91.3]\n"
     ]
    },
    {
     "name": "stdout",
     "output_type": "stream",
     "text": [
      "Epoch 36\n",
      "Train Loss: 0.2276, Train Accuracy: 91.26%\n",
      "Test Loss: 0.2281, Test Accuracy: 91.75%\n",
      "\n"
     ]
    },
    {
     "name": "stderr",
     "output_type": "stream",
     "text": [
      "Epoch 37: 100%|██████████| 938/938 [00:55<00:00, 17.04batch/s, Train Loss=0.224, Train Acc=91.4]\n"
     ]
    },
    {
     "name": "stdout",
     "output_type": "stream",
     "text": [
      "Epoch 37\n",
      "Train Loss: 0.2244, Train Accuracy: 91.38%\n",
      "Test Loss: 0.2351, Test Accuracy: 91.82%\n",
      "\n"
     ]
    },
    {
     "name": "stderr",
     "output_type": "stream",
     "text": [
      "Epoch 38: 100%|██████████| 938/938 [00:55<00:00, 16.86batch/s, Train Loss=0.224, Train Acc=91.4]\n"
     ]
    },
    {
     "name": "stdout",
     "output_type": "stream",
     "text": [
      "Epoch 38\n",
      "Train Loss: 0.2240, Train Accuracy: 91.36%\n",
      "Test Loss: 0.2305, Test Accuracy: 91.80%\n",
      "\n"
     ]
    },
    {
     "name": "stderr",
     "output_type": "stream",
     "text": [
      "Epoch 39: 100%|██████████| 938/938 [00:55<00:00, 16.91batch/s, Train Loss=0.225, Train Acc=91.5]\n"
     ]
    },
    {
     "name": "stdout",
     "output_type": "stream",
     "text": [
      "Epoch 39\n",
      "Train Loss: 0.2246, Train Accuracy: 91.52%\n",
      "Test Loss: 0.2259, Test Accuracy: 91.75%\n",
      "\n"
     ]
    },
    {
     "name": "stderr",
     "output_type": "stream",
     "text": [
      "Epoch 40: 100%|██████████| 938/938 [00:55<00:00, 16.97batch/s, Train Loss=0.225, Train Acc=91.4]\n"
     ]
    },
    {
     "name": "stdout",
     "output_type": "stream",
     "text": [
      "Epoch 40\n",
      "Train Loss: 0.2248, Train Accuracy: 91.37%\n",
      "Test Loss: 0.2372, Test Accuracy: 91.51%\n",
      "\n"
     ]
    },
    {
     "name": "stderr",
     "output_type": "stream",
     "text": [
      "Epoch 41: 100%|██████████| 938/938 [00:55<00:00, 16.99batch/s, Train Loss=0.226, Train Acc=91.4]\n"
     ]
    },
    {
     "name": "stdout",
     "output_type": "stream",
     "text": [
      "Epoch 41\n",
      "Train Loss: 0.2262, Train Accuracy: 91.36%\n",
      "Test Loss: 0.2315, Test Accuracy: 91.85%\n",
      "\n"
     ]
    },
    {
     "name": "stderr",
     "output_type": "stream",
     "text": [
      "Epoch 42: 100%|██████████| 938/938 [00:55<00:00, 17.02batch/s, Train Loss=0.223, Train Acc=91.4]\n"
     ]
    },
    {
     "name": "stdout",
     "output_type": "stream",
     "text": [
      "Epoch 42\n",
      "Train Loss: 0.2229, Train Accuracy: 91.40%\n",
      "Test Loss: 0.2359, Test Accuracy: 91.62%\n",
      "\n"
     ]
    },
    {
     "name": "stderr",
     "output_type": "stream",
     "text": [
      "Epoch 43: 100%|██████████| 938/938 [00:55<00:00, 16.99batch/s, Train Loss=0.225, Train Acc=91.4]\n"
     ]
    },
    {
     "name": "stdout",
     "output_type": "stream",
     "text": [
      "Epoch 43\n",
      "Train Loss: 0.2248, Train Accuracy: 91.36%\n",
      "Test Loss: 0.2336, Test Accuracy: 91.73%\n",
      "\n"
     ]
    },
    {
     "name": "stderr",
     "output_type": "stream",
     "text": [
      "Epoch 44: 100%|██████████| 938/938 [00:55<00:00, 16.99batch/s, Train Loss=0.225, Train Acc=91.3]\n"
     ]
    },
    {
     "name": "stdout",
     "output_type": "stream",
     "text": [
      "Epoch 44\n",
      "Train Loss: 0.2250, Train Accuracy: 91.33%\n",
      "Test Loss: 0.2307, Test Accuracy: 91.89%\n",
      "\n"
     ]
    },
    {
     "name": "stderr",
     "output_type": "stream",
     "text": [
      "Epoch 45: 100%|██████████| 938/938 [00:55<00:00, 17.00batch/s, Train Loss=0.224, Train Acc=91.3]\n"
     ]
    },
    {
     "name": "stdout",
     "output_type": "stream",
     "text": [
      "Epoch 45\n",
      "Train Loss: 0.2238, Train Accuracy: 91.34%\n",
      "Test Loss: 0.2351, Test Accuracy: 91.72%\n",
      "\n"
     ]
    },
    {
     "name": "stderr",
     "output_type": "stream",
     "text": [
      "Epoch 46: 100%|██████████| 938/938 [00:55<00:00, 16.91batch/s, Train Loss=0.225, Train Acc=91.3]\n"
     ]
    },
    {
     "name": "stdout",
     "output_type": "stream",
     "text": [
      "Epoch 46\n",
      "Train Loss: 0.2250, Train Accuracy: 91.30%\n",
      "Test Loss: 0.2300, Test Accuracy: 91.84%\n",
      "\n"
     ]
    },
    {
     "name": "stderr",
     "output_type": "stream",
     "text": [
      "Epoch 47: 100%|██████████| 938/938 [00:55<00:00, 17.01batch/s, Train Loss=0.224, Train Acc=91.5]\n"
     ]
    },
    {
     "name": "stdout",
     "output_type": "stream",
     "text": [
      "Epoch 47\n",
      "Train Loss: 0.2237, Train Accuracy: 91.53%\n",
      "Test Loss: 0.2294, Test Accuracy: 91.97%\n",
      "\n"
     ]
    },
    {
     "name": "stderr",
     "output_type": "stream",
     "text": [
      "Epoch 48: 100%|██████████| 938/938 [00:55<00:00, 16.94batch/s, Train Loss=0.223, Train Acc=91.5]\n"
     ]
    },
    {
     "name": "stdout",
     "output_type": "stream",
     "text": [
      "Epoch 48\n",
      "Train Loss: 0.2227, Train Accuracy: 91.49%\n",
      "Test Loss: 0.2288, Test Accuracy: 91.75%\n",
      "\n"
     ]
    },
    {
     "name": "stderr",
     "output_type": "stream",
     "text": [
      "Epoch 49: 100%|██████████| 938/938 [00:55<00:00, 16.91batch/s, Train Loss=0.223, Train Acc=91.5]\n"
     ]
    },
    {
     "name": "stdout",
     "output_type": "stream",
     "text": [
      "Epoch 49\n",
      "Train Loss: 0.2229, Train Accuracy: 91.48%\n",
      "Test Loss: 0.2255, Test Accuracy: 91.86%\n",
      "\n"
     ]
    },
    {
     "name": "stderr",
     "output_type": "stream",
     "text": [
      "Epoch 50: 100%|██████████| 938/938 [00:55<00:00, 16.98batch/s, Train Loss=0.221, Train Acc=91.5]\n"
     ]
    },
    {
     "name": "stdout",
     "output_type": "stream",
     "text": [
      "Epoch 50\n",
      "Train Loss: 0.2214, Train Accuracy: 91.52%\n",
      "Test Loss: 0.2234, Test Accuracy: 92.06%\n",
      "\n"
     ]
    },
    {
     "name": "stderr",
     "output_type": "stream",
     "text": [
      "Epoch 51: 100%|██████████| 938/938 [00:55<00:00, 16.95batch/s, Train Loss=0.223, Train Acc=91.5]\n"
     ]
    },
    {
     "name": "stdout",
     "output_type": "stream",
     "text": [
      "Epoch 51\n",
      "Train Loss: 0.2230, Train Accuracy: 91.49%\n",
      "Test Loss: 0.2283, Test Accuracy: 91.87%\n",
      "\n"
     ]
    },
    {
     "name": "stderr",
     "output_type": "stream",
     "text": [
      "Epoch 52: 100%|██████████| 938/938 [00:55<00:00, 16.93batch/s, Train Loss=0.225, Train Acc=91.4]\n"
     ]
    },
    {
     "name": "stdout",
     "output_type": "stream",
     "text": [
      "Epoch 52\n",
      "Train Loss: 0.2248, Train Accuracy: 91.38%\n",
      "Test Loss: 0.2297, Test Accuracy: 91.96%\n",
      "\n"
     ]
    },
    {
     "name": "stderr",
     "output_type": "stream",
     "text": [
      "Epoch 53: 100%|██████████| 938/938 [00:55<00:00, 17.03batch/s, Train Loss=0.222, Train Acc=91.5]\n"
     ]
    },
    {
     "name": "stdout",
     "output_type": "stream",
     "text": [
      "Epoch 53\n",
      "Train Loss: 0.2216, Train Accuracy: 91.54%\n",
      "Test Loss: 0.2246, Test Accuracy: 91.83%\n",
      "\n"
     ]
    },
    {
     "name": "stderr",
     "output_type": "stream",
     "text": [
      "Epoch 54: 100%|██████████| 938/938 [00:55<00:00, 16.96batch/s, Train Loss=0.224, Train Acc=91.5]\n"
     ]
    },
    {
     "name": "stdout",
     "output_type": "stream",
     "text": [
      "Epoch 54\n",
      "Train Loss: 0.2237, Train Accuracy: 91.50%\n",
      "Test Loss: 0.2276, Test Accuracy: 92.07%\n",
      "\n"
     ]
    },
    {
     "name": "stderr",
     "output_type": "stream",
     "text": [
      "Epoch 55: 100%|██████████| 938/938 [00:55<00:00, 16.95batch/s, Train Loss=0.222, Train Acc=91.4]\n"
     ]
    },
    {
     "name": "stdout",
     "output_type": "stream",
     "text": [
      "Epoch 55\n",
      "Train Loss: 0.2217, Train Accuracy: 91.41%\n",
      "Test Loss: 0.2311, Test Accuracy: 92.05%\n",
      "\n"
     ]
    },
    {
     "name": "stderr",
     "output_type": "stream",
     "text": [
      "Epoch 56: 100%|██████████| 938/938 [00:55<00:00, 17.01batch/s, Train Loss=0.222, Train Acc=91.4]\n"
     ]
    },
    {
     "name": "stdout",
     "output_type": "stream",
     "text": [
      "Epoch 56\n",
      "Train Loss: 0.2216, Train Accuracy: 91.42%\n",
      "Test Loss: 0.2392, Test Accuracy: 91.77%\n",
      "\n"
     ]
    },
    {
     "name": "stderr",
     "output_type": "stream",
     "text": [
      "Epoch 57: 100%|██████████| 938/938 [00:55<00:00, 16.97batch/s, Train Loss=0.222, Train Acc=91.4]\n"
     ]
    },
    {
     "name": "stdout",
     "output_type": "stream",
     "text": [
      "Epoch 57\n",
      "Train Loss: 0.2219, Train Accuracy: 91.40%\n",
      "Test Loss: 0.2263, Test Accuracy: 92.15%\n",
      "\n"
     ]
    },
    {
     "name": "stderr",
     "output_type": "stream",
     "text": [
      "Epoch 58: 100%|██████████| 938/938 [00:55<00:00, 17.02batch/s, Train Loss=0.221, Train Acc=91.6]\n"
     ]
    },
    {
     "name": "stdout",
     "output_type": "stream",
     "text": [
      "Epoch 58\n",
      "Train Loss: 0.2207, Train Accuracy: 91.57%\n",
      "Test Loss: 0.2312, Test Accuracy: 92.01%\n",
      "\n"
     ]
    },
    {
     "name": "stderr",
     "output_type": "stream",
     "text": [
      "Epoch 59: 100%|██████████| 938/938 [00:54<00:00, 17.06batch/s, Train Loss=0.22, Train Acc=91.6] \n"
     ]
    },
    {
     "name": "stdout",
     "output_type": "stream",
     "text": [
      "Epoch 59\n",
      "Train Loss: 0.2204, Train Accuracy: 91.57%\n",
      "Test Loss: 0.2291, Test Accuracy: 91.81%\n",
      "\n"
     ]
    },
    {
     "name": "stderr",
     "output_type": "stream",
     "text": [
      "Epoch 60: 100%|██████████| 938/938 [00:55<00:00, 16.99batch/s, Train Loss=0.219, Train Acc=91.5]\n"
     ]
    },
    {
     "name": "stdout",
     "output_type": "stream",
     "text": [
      "Epoch 60\n",
      "Train Loss: 0.2189, Train Accuracy: 91.48%\n",
      "Test Loss: 0.2295, Test Accuracy: 91.86%\n",
      "\n"
     ]
    },
    {
     "name": "stderr",
     "output_type": "stream",
     "text": [
      "Epoch 61: 100%|██████████| 938/938 [00:55<00:00, 16.93batch/s, Train Loss=0.221, Train Acc=91.6]\n"
     ]
    },
    {
     "name": "stdout",
     "output_type": "stream",
     "text": [
      "Epoch 61\n",
      "Train Loss: 0.2207, Train Accuracy: 91.58%\n",
      "Test Loss: 0.2266, Test Accuracy: 91.85%\n",
      "\n"
     ]
    },
    {
     "name": "stderr",
     "output_type": "stream",
     "text": [
      "Epoch 62: 100%|██████████| 938/938 [00:55<00:00, 16.88batch/s, Train Loss=0.22, Train Acc=91.6] \n"
     ]
    },
    {
     "name": "stdout",
     "output_type": "stream",
     "text": [
      "Epoch 62\n",
      "Train Loss: 0.2197, Train Accuracy: 91.63%\n",
      "Test Loss: 0.2283, Test Accuracy: 92.05%\n",
      "\n"
     ]
    },
    {
     "name": "stderr",
     "output_type": "stream",
     "text": [
      "Epoch 63: 100%|██████████| 938/938 [00:55<00:00, 16.94batch/s, Train Loss=0.217, Train Acc=91.6]\n"
     ]
    },
    {
     "name": "stdout",
     "output_type": "stream",
     "text": [
      "Epoch 63\n",
      "Train Loss: 0.2172, Train Accuracy: 91.59%\n",
      "Test Loss: 0.2313, Test Accuracy: 91.89%\n",
      "\n"
     ]
    },
    {
     "name": "stderr",
     "output_type": "stream",
     "text": [
      "Epoch 64: 100%|██████████| 938/938 [00:55<00:00, 16.83batch/s, Train Loss=0.219, Train Acc=91.7]\n"
     ]
    },
    {
     "name": "stdout",
     "output_type": "stream",
     "text": [
      "Epoch 64\n",
      "Train Loss: 0.2185, Train Accuracy: 91.68%\n",
      "Test Loss: 0.2413, Test Accuracy: 91.63%\n",
      "\n"
     ]
    },
    {
     "name": "stderr",
     "output_type": "stream",
     "text": [
      "Epoch 65: 100%|██████████| 938/938 [00:55<00:00, 17.04batch/s, Train Loss=0.221, Train Acc=91.5]\n"
     ]
    },
    {
     "name": "stdout",
     "output_type": "stream",
     "text": [
      "Epoch 65\n",
      "Train Loss: 0.2212, Train Accuracy: 91.54%\n",
      "Test Loss: 0.2262, Test Accuracy: 91.93%\n",
      "\n"
     ]
    },
    {
     "name": "stderr",
     "output_type": "stream",
     "text": [
      "Epoch 66: 100%|██████████| 938/938 [00:55<00:00, 16.92batch/s, Train Loss=0.218, Train Acc=91.6]\n"
     ]
    },
    {
     "name": "stdout",
     "output_type": "stream",
     "text": [
      "Epoch 66\n",
      "Train Loss: 0.2184, Train Accuracy: 91.62%\n",
      "Test Loss: 0.2283, Test Accuracy: 92.02%\n",
      "\n"
     ]
    },
    {
     "name": "stderr",
     "output_type": "stream",
     "text": [
      "Epoch 67: 100%|██████████| 938/938 [00:55<00:00, 16.93batch/s, Train Loss=0.219, Train Acc=91.5]\n"
     ]
    },
    {
     "name": "stdout",
     "output_type": "stream",
     "text": [
      "Epoch 67\n",
      "Train Loss: 0.2189, Train Accuracy: 91.55%\n",
      "Test Loss: 0.2301, Test Accuracy: 91.91%\n",
      "\n"
     ]
    },
    {
     "name": "stderr",
     "output_type": "stream",
     "text": [
      "Epoch 68: 100%|██████████| 938/938 [00:55<00:00, 16.85batch/s, Train Loss=0.219, Train Acc=91.6]\n"
     ]
    },
    {
     "name": "stdout",
     "output_type": "stream",
     "text": [
      "Epoch 68\n",
      "Train Loss: 0.2193, Train Accuracy: 91.64%\n",
      "Test Loss: 0.2317, Test Accuracy: 91.88%\n",
      "\n"
     ]
    },
    {
     "name": "stderr",
     "output_type": "stream",
     "text": [
      "Epoch 69: 100%|██████████| 938/938 [00:55<00:00, 16.95batch/s, Train Loss=0.22, Train Acc=91.6] \n"
     ]
    },
    {
     "name": "stdout",
     "output_type": "stream",
     "text": [
      "Epoch 69\n",
      "Train Loss: 0.2196, Train Accuracy: 91.61%\n",
      "Test Loss: 0.2332, Test Accuracy: 91.87%\n",
      "\n"
     ]
    },
    {
     "name": "stderr",
     "output_type": "stream",
     "text": [
      "Epoch 70: 100%|██████████| 938/938 [00:55<00:00, 16.92batch/s, Train Loss=0.218, Train Acc=91.5]\n"
     ]
    },
    {
     "name": "stdout",
     "output_type": "stream",
     "text": [
      "Epoch 70\n",
      "Train Loss: 0.2179, Train Accuracy: 91.55%\n",
      "Test Loss: 0.2273, Test Accuracy: 92.24%\n",
      "\n"
     ]
    },
    {
     "name": "stderr",
     "output_type": "stream",
     "text": [
      "Epoch 71: 100%|██████████| 938/938 [00:55<00:00, 16.94batch/s, Train Loss=0.216, Train Acc=91.8]\n"
     ]
    },
    {
     "name": "stdout",
     "output_type": "stream",
     "text": [
      "Epoch 71\n",
      "Train Loss: 0.2158, Train Accuracy: 91.77%\n",
      "Test Loss: 0.2300, Test Accuracy: 91.85%\n",
      "\n"
     ]
    },
    {
     "name": "stderr",
     "output_type": "stream",
     "text": [
      "Epoch 72: 100%|██████████| 938/938 [00:55<00:00, 17.00batch/s, Train Loss=0.216, Train Acc=91.7]\n"
     ]
    },
    {
     "name": "stdout",
     "output_type": "stream",
     "text": [
      "Epoch 72\n",
      "Train Loss: 0.2164, Train Accuracy: 91.71%\n",
      "Test Loss: 0.2334, Test Accuracy: 91.78%\n",
      "\n"
     ]
    },
    {
     "name": "stderr",
     "output_type": "stream",
     "text": [
      "Epoch 73: 100%|██████████| 938/938 [00:55<00:00, 16.85batch/s, Train Loss=0.219, Train Acc=91.6]\n"
     ]
    },
    {
     "name": "stdout",
     "output_type": "stream",
     "text": [
      "Epoch 73\n",
      "Train Loss: 0.2188, Train Accuracy: 91.59%\n",
      "Test Loss: 0.2331, Test Accuracy: 91.68%\n",
      "\n"
     ]
    },
    {
     "name": "stderr",
     "output_type": "stream",
     "text": [
      "Epoch 74: 100%|██████████| 938/938 [00:54<00:00, 17.06batch/s, Train Loss=0.216, Train Acc=91.8]\n"
     ]
    },
    {
     "name": "stdout",
     "output_type": "stream",
     "text": [
      "Epoch 74\n",
      "Train Loss: 0.2156, Train Accuracy: 91.77%\n",
      "Test Loss: 0.2300, Test Accuracy: 91.91%\n",
      "\n"
     ]
    },
    {
     "name": "stderr",
     "output_type": "stream",
     "text": [
      "Epoch 75: 100%|██████████| 938/938 [00:55<00:00, 16.92batch/s, Train Loss=0.218, Train Acc=91.7]\n"
     ]
    },
    {
     "name": "stdout",
     "output_type": "stream",
     "text": [
      "Epoch 75\n",
      "Train Loss: 0.2177, Train Accuracy: 91.71%\n",
      "Test Loss: 0.2246, Test Accuracy: 92.12%\n",
      "\n"
     ]
    },
    {
     "name": "stderr",
     "output_type": "stream",
     "text": [
      "Epoch 76: 100%|██████████| 938/938 [00:55<00:00, 16.99batch/s, Train Loss=0.216, Train Acc=91.7]\n"
     ]
    },
    {
     "name": "stdout",
     "output_type": "stream",
     "text": [
      "Epoch 76\n",
      "Train Loss: 0.2156, Train Accuracy: 91.73%\n",
      "Test Loss: 0.2350, Test Accuracy: 91.59%\n",
      "\n"
     ]
    },
    {
     "name": "stderr",
     "output_type": "stream",
     "text": [
      "Epoch 77: 100%|██████████| 938/938 [00:55<00:00, 16.89batch/s, Train Loss=0.216, Train Acc=91.7]\n"
     ]
    },
    {
     "name": "stdout",
     "output_type": "stream",
     "text": [
      "Epoch 77\n",
      "Train Loss: 0.2164, Train Accuracy: 91.69%\n",
      "Test Loss: 0.2259, Test Accuracy: 92.11%\n",
      "\n"
     ]
    },
    {
     "name": "stderr",
     "output_type": "stream",
     "text": [
      "Epoch 78: 100%|██████████| 938/938 [00:55<00:00, 16.94batch/s, Train Loss=0.215, Train Acc=91.8]\n"
     ]
    },
    {
     "name": "stdout",
     "output_type": "stream",
     "text": [
      "Epoch 78\n",
      "Train Loss: 0.2147, Train Accuracy: 91.75%\n",
      "Test Loss: 0.2259, Test Accuracy: 92.11%\n",
      "\n"
     ]
    },
    {
     "name": "stderr",
     "output_type": "stream",
     "text": [
      "Epoch 79: 100%|██████████| 938/938 [00:55<00:00, 16.92batch/s, Train Loss=0.217, Train Acc=91.6]\n"
     ]
    },
    {
     "name": "stdout",
     "output_type": "stream",
     "text": [
      "Epoch 79\n",
      "Train Loss: 0.2168, Train Accuracy: 91.65%\n",
      "Test Loss: 0.2299, Test Accuracy: 91.87%\n",
      "\n"
     ]
    },
    {
     "name": "stderr",
     "output_type": "stream",
     "text": [
      "Epoch 80: 100%|██████████| 938/938 [00:55<00:00, 16.99batch/s, Train Loss=0.215, Train Acc=91.7]\n"
     ]
    },
    {
     "name": "stdout",
     "output_type": "stream",
     "text": [
      "Epoch 80\n",
      "Train Loss: 0.2147, Train Accuracy: 91.70%\n",
      "Test Loss: 0.2330, Test Accuracy: 91.68%\n",
      "\n"
     ]
    },
    {
     "name": "stderr",
     "output_type": "stream",
     "text": [
      "Epoch 81: 100%|██████████| 938/938 [00:55<00:00, 17.02batch/s, Train Loss=0.214, Train Acc=91.8]\n"
     ]
    },
    {
     "name": "stdout",
     "output_type": "stream",
     "text": [
      "Epoch 81\n",
      "Train Loss: 0.2139, Train Accuracy: 91.84%\n",
      "Test Loss: 0.2273, Test Accuracy: 92.17%\n",
      "\n"
     ]
    },
    {
     "name": "stderr",
     "output_type": "stream",
     "text": [
      "Epoch 82: 100%|██████████| 938/938 [00:55<00:00, 16.96batch/s, Train Loss=0.216, Train Acc=91.7]\n"
     ]
    },
    {
     "name": "stdout",
     "output_type": "stream",
     "text": [
      "Epoch 82\n",
      "Train Loss: 0.2161, Train Accuracy: 91.72%\n",
      "Test Loss: 0.2299, Test Accuracy: 92.06%\n",
      "\n"
     ]
    },
    {
     "name": "stderr",
     "output_type": "stream",
     "text": [
      "Epoch 83: 100%|██████████| 938/938 [00:55<00:00, 17.01batch/s, Train Loss=0.214, Train Acc=91.6]\n"
     ]
    },
    {
     "name": "stdout",
     "output_type": "stream",
     "text": [
      "Epoch 83\n",
      "Train Loss: 0.2136, Train Accuracy: 91.65%\n",
      "Test Loss: 0.2269, Test Accuracy: 92.07%\n",
      "\n"
     ]
    },
    {
     "name": "stderr",
     "output_type": "stream",
     "text": [
      "Epoch 84: 100%|██████████| 938/938 [00:55<00:00, 16.88batch/s, Train Loss=0.215, Train Acc=91.6]\n"
     ]
    },
    {
     "name": "stdout",
     "output_type": "stream",
     "text": [
      "Epoch 84\n",
      "Train Loss: 0.2147, Train Accuracy: 91.58%\n",
      "Test Loss: 0.2374, Test Accuracy: 91.82%\n",
      "\n"
     ]
    },
    {
     "name": "stderr",
     "output_type": "stream",
     "text": [
      "Epoch 85: 100%|██████████| 938/938 [00:55<00:00, 16.96batch/s, Train Loss=0.215, Train Acc=91.8]\n"
     ]
    },
    {
     "name": "stdout",
     "output_type": "stream",
     "text": [
      "Epoch 85\n",
      "Train Loss: 0.2148, Train Accuracy: 91.84%\n",
      "Test Loss: 0.2240, Test Accuracy: 91.91%\n",
      "\n"
     ]
    },
    {
     "name": "stderr",
     "output_type": "stream",
     "text": [
      "Epoch 86: 100%|██████████| 938/938 [00:55<00:00, 16.85batch/s, Train Loss=0.216, Train Acc=91.7]\n"
     ]
    },
    {
     "name": "stdout",
     "output_type": "stream",
     "text": [
      "Epoch 86\n",
      "Train Loss: 0.2156, Train Accuracy: 91.67%\n",
      "Test Loss: 0.2271, Test Accuracy: 92.11%\n",
      "\n"
     ]
    },
    {
     "name": "stderr",
     "output_type": "stream",
     "text": [
      "Epoch 87: 100%|██████████| 938/938 [00:55<00:00, 16.98batch/s, Train Loss=0.212, Train Acc=91.8]\n"
     ]
    },
    {
     "name": "stdout",
     "output_type": "stream",
     "text": [
      "Epoch 87\n",
      "Train Loss: 0.2122, Train Accuracy: 91.84%\n",
      "Test Loss: 0.2332, Test Accuracy: 91.74%\n",
      "\n"
     ]
    },
    {
     "name": "stderr",
     "output_type": "stream",
     "text": [
      "Epoch 88: 100%|██████████| 938/938 [00:55<00:00, 16.98batch/s, Train Loss=0.214, Train Acc=91.8]\n"
     ]
    },
    {
     "name": "stdout",
     "output_type": "stream",
     "text": [
      "Epoch 88\n",
      "Train Loss: 0.2139, Train Accuracy: 91.82%\n",
      "Test Loss: 0.2286, Test Accuracy: 92.06%\n",
      "\n"
     ]
    },
    {
     "name": "stderr",
     "output_type": "stream",
     "text": [
      "Epoch 89: 100%|██████████| 938/938 [00:55<00:00, 16.91batch/s, Train Loss=0.214, Train Acc=91.9]\n"
     ]
    },
    {
     "name": "stdout",
     "output_type": "stream",
     "text": [
      "Epoch 89\n",
      "Train Loss: 0.2137, Train Accuracy: 91.86%\n",
      "Test Loss: 0.2269, Test Accuracy: 92.25%\n",
      "\n"
     ]
    },
    {
     "name": "stderr",
     "output_type": "stream",
     "text": [
      "Epoch 90: 100%|██████████| 938/938 [00:55<00:00, 16.86batch/s, Train Loss=0.21, Train Acc=91.9] \n"
     ]
    },
    {
     "name": "stdout",
     "output_type": "stream",
     "text": [
      "Epoch 90\n",
      "Train Loss: 0.2099, Train Accuracy: 91.89%\n",
      "Test Loss: 0.2375, Test Accuracy: 92.06%\n",
      "\n"
     ]
    },
    {
     "name": "stderr",
     "output_type": "stream",
     "text": [
      "Epoch 91: 100%|██████████| 938/938 [00:55<00:00, 16.93batch/s, Train Loss=0.213, Train Acc=91.8]\n"
     ]
    },
    {
     "name": "stdout",
     "output_type": "stream",
     "text": [
      "Epoch 91\n",
      "Train Loss: 0.2128, Train Accuracy: 91.81%\n",
      "Test Loss: 0.2335, Test Accuracy: 91.98%\n",
      "\n"
     ]
    },
    {
     "name": "stderr",
     "output_type": "stream",
     "text": [
      "Epoch 92: 100%|██████████| 938/938 [00:55<00:00, 16.97batch/s, Train Loss=0.212, Train Acc=91.7]\n"
     ]
    },
    {
     "name": "stdout",
     "output_type": "stream",
     "text": [
      "Epoch 92\n",
      "Train Loss: 0.2115, Train Accuracy: 91.75%\n",
      "Test Loss: 0.2271, Test Accuracy: 91.85%\n",
      "\n"
     ]
    },
    {
     "name": "stderr",
     "output_type": "stream",
     "text": [
      "Epoch 93: 100%|██████████| 938/938 [00:55<00:00, 16.94batch/s, Train Loss=0.21, Train Acc=92]   \n"
     ]
    },
    {
     "name": "stdout",
     "output_type": "stream",
     "text": [
      "Epoch 93\n",
      "Train Loss: 0.2098, Train Accuracy: 92.04%\n",
      "Test Loss: 0.2263, Test Accuracy: 92.08%\n",
      "\n"
     ]
    },
    {
     "name": "stderr",
     "output_type": "stream",
     "text": [
      "Epoch 94: 100%|██████████| 938/938 [00:55<00:00, 16.78batch/s, Train Loss=0.21, Train Acc=91.8] \n"
     ]
    },
    {
     "name": "stdout",
     "output_type": "stream",
     "text": [
      "Epoch 94\n",
      "Train Loss: 0.2097, Train Accuracy: 91.84%\n",
      "Test Loss: 0.2380, Test Accuracy: 91.77%\n",
      "\n"
     ]
    },
    {
     "name": "stderr",
     "output_type": "stream",
     "text": [
      "Epoch 95: 100%|██████████| 938/938 [00:55<00:00, 16.89batch/s, Train Loss=0.21, Train Acc=92]   \n"
     ]
    },
    {
     "name": "stdout",
     "output_type": "stream",
     "text": [
      "Epoch 95\n",
      "Train Loss: 0.2104, Train Accuracy: 91.95%\n",
      "Test Loss: 0.2316, Test Accuracy: 92.01%\n",
      "\n"
     ]
    },
    {
     "name": "stderr",
     "output_type": "stream",
     "text": [
      "Epoch 96: 100%|██████████| 938/938 [00:55<00:00, 16.96batch/s, Train Loss=0.212, Train Acc=91.9]\n"
     ]
    },
    {
     "name": "stdout",
     "output_type": "stream",
     "text": [
      "Epoch 96\n",
      "Train Loss: 0.2120, Train Accuracy: 91.92%\n",
      "Test Loss: 0.2377, Test Accuracy: 91.46%\n",
      "\n"
     ]
    },
    {
     "name": "stderr",
     "output_type": "stream",
     "text": [
      "Epoch 97: 100%|██████████| 938/938 [00:56<00:00, 16.72batch/s, Train Loss=0.209, Train Acc=91.9]\n"
     ]
    },
    {
     "name": "stdout",
     "output_type": "stream",
     "text": [
      "Epoch 97\n",
      "Train Loss: 0.2094, Train Accuracy: 91.93%\n",
      "Test Loss: 0.2324, Test Accuracy: 91.83%\n",
      "\n"
     ]
    },
    {
     "name": "stderr",
     "output_type": "stream",
     "text": [
      "Epoch 98: 100%|██████████| 938/938 [00:56<00:00, 16.74batch/s, Train Loss=0.207, Train Acc=92]  \n"
     ]
    },
    {
     "name": "stdout",
     "output_type": "stream",
     "text": [
      "Epoch 98\n",
      "Train Loss: 0.2074, Train Accuracy: 91.97%\n",
      "Test Loss: 0.2272, Test Accuracy: 91.99%\n",
      "\n"
     ]
    },
    {
     "name": "stderr",
     "output_type": "stream",
     "text": [
      "Epoch 99: 100%|██████████| 938/938 [00:55<00:00, 16.89batch/s, Train Loss=0.211, Train Acc=91.9]\n"
     ]
    },
    {
     "name": "stdout",
     "output_type": "stream",
     "text": [
      "Epoch 99\n",
      "Train Loss: 0.2108, Train Accuracy: 91.90%\n",
      "Test Loss: 0.2317, Test Accuracy: 91.92%\n",
      "\n"
     ]
    },
    {
     "name": "stderr",
     "output_type": "stream",
     "text": [
      "Epoch 100: 100%|██████████| 938/938 [00:55<00:00, 16.96batch/s, Train Loss=0.21, Train Acc=91.9] \n"
     ]
    },
    {
     "name": "stdout",
     "output_type": "stream",
     "text": [
      "Epoch 100\n",
      "Train Loss: 0.2098, Train Accuracy: 91.91%\n",
      "Test Loss: 0.2264, Test Accuracy: 91.70%\n",
      "\n"
     ]
    },
    {
     "name": "stderr",
     "output_type": "stream",
     "text": [
      "Epoch 101: 100%|██████████| 938/938 [00:55<00:00, 16.97batch/s, Train Loss=0.205, Train Acc=92]  \n"
     ]
    },
    {
     "name": "stdout",
     "output_type": "stream",
     "text": [
      "Epoch 101\n",
      "Train Loss: 0.2054, Train Accuracy: 92.03%\n",
      "Test Loss: 0.2331, Test Accuracy: 91.83%\n",
      "\n"
     ]
    },
    {
     "name": "stderr",
     "output_type": "stream",
     "text": [
      "Epoch 102: 100%|██████████| 938/938 [00:55<00:00, 16.87batch/s, Train Loss=0.212, Train Acc=91.8]\n"
     ]
    },
    {
     "name": "stdout",
     "output_type": "stream",
     "text": [
      "Epoch 102\n",
      "Train Loss: 0.2122, Train Accuracy: 91.82%\n",
      "Test Loss: 0.2282, Test Accuracy: 91.89%\n",
      "\n"
     ]
    },
    {
     "name": "stderr",
     "output_type": "stream",
     "text": [
      "Epoch 103: 100%|██████████| 938/938 [00:55<00:00, 16.84batch/s, Train Loss=0.212, Train Acc=91.8]\n"
     ]
    },
    {
     "name": "stdout",
     "output_type": "stream",
     "text": [
      "Epoch 103\n",
      "Train Loss: 0.2123, Train Accuracy: 91.80%\n",
      "Test Loss: 0.2234, Test Accuracy: 92.26%\n",
      "\n"
     ]
    },
    {
     "name": "stderr",
     "output_type": "stream",
     "text": [
      "Epoch 104: 100%|██████████| 938/938 [00:55<00:00, 16.87batch/s, Train Loss=0.21, Train Acc=91.9] \n"
     ]
    },
    {
     "name": "stdout",
     "output_type": "stream",
     "text": [
      "Epoch 104\n",
      "Train Loss: 0.2103, Train Accuracy: 91.89%\n",
      "Test Loss: 0.2308, Test Accuracy: 91.83%\n",
      "\n"
     ]
    },
    {
     "name": "stderr",
     "output_type": "stream",
     "text": [
      "Epoch 105: 100%|██████████| 938/938 [00:55<00:00, 16.91batch/s, Train Loss=0.209, Train Acc=91.9]\n"
     ]
    },
    {
     "name": "stdout",
     "output_type": "stream",
     "text": [
      "Epoch 105\n",
      "Train Loss: 0.2093, Train Accuracy: 91.94%\n",
      "Test Loss: 0.2280, Test Accuracy: 92.01%\n",
      "\n"
     ]
    },
    {
     "name": "stderr",
     "output_type": "stream",
     "text": [
      "Epoch 106: 100%|██████████| 938/938 [00:55<00:00, 17.01batch/s, Train Loss=0.208, Train Acc=91.9]\n"
     ]
    },
    {
     "name": "stdout",
     "output_type": "stream",
     "text": [
      "Epoch 106\n",
      "Train Loss: 0.2084, Train Accuracy: 91.87%\n",
      "Test Loss: 0.2301, Test Accuracy: 92.28%\n",
      "\n"
     ]
    },
    {
     "name": "stderr",
     "output_type": "stream",
     "text": [
      "Epoch 107: 100%|██████████| 938/938 [00:55<00:00, 16.90batch/s, Train Loss=0.208, Train Acc=92]  \n"
     ]
    },
    {
     "name": "stdout",
     "output_type": "stream",
     "text": [
      "Epoch 107\n",
      "Train Loss: 0.2084, Train Accuracy: 92.00%\n",
      "Test Loss: 0.2305, Test Accuracy: 91.96%\n",
      "\n"
     ]
    },
    {
     "name": "stderr",
     "output_type": "stream",
     "text": [
      "Epoch 108: 100%|██████████| 938/938 [00:55<00:00, 17.01batch/s, Train Loss=0.206, Train Acc=92]  \n"
     ]
    },
    {
     "name": "stdout",
     "output_type": "stream",
     "text": [
      "Epoch 108\n",
      "Train Loss: 0.2058, Train Accuracy: 92.03%\n",
      "Test Loss: 0.2263, Test Accuracy: 92.26%\n",
      "\n"
     ]
    },
    {
     "name": "stderr",
     "output_type": "stream",
     "text": [
      "Epoch 109: 100%|██████████| 938/938 [00:55<00:00, 16.77batch/s, Train Loss=0.209, Train Acc=91.9]\n"
     ]
    },
    {
     "name": "stdout",
     "output_type": "stream",
     "text": [
      "Epoch 109\n",
      "Train Loss: 0.2092, Train Accuracy: 91.88%\n",
      "Test Loss: 0.2294, Test Accuracy: 92.11%\n",
      "\n"
     ]
    },
    {
     "name": "stderr",
     "output_type": "stream",
     "text": [
      "Epoch 110: 100%|██████████| 938/938 [00:55<00:00, 16.82batch/s, Train Loss=0.207, Train Acc=92.1]\n"
     ]
    },
    {
     "name": "stdout",
     "output_type": "stream",
     "text": [
      "Epoch 110\n",
      "Train Loss: 0.2067, Train Accuracy: 92.06%\n",
      "Test Loss: 0.2319, Test Accuracy: 91.85%\n",
      "\n"
     ]
    },
    {
     "name": "stderr",
     "output_type": "stream",
     "text": [
      "Epoch 111: 100%|██████████| 938/938 [00:56<00:00, 16.73batch/s, Train Loss=0.206, Train Acc=92]  \n"
     ]
    },
    {
     "name": "stdout",
     "output_type": "stream",
     "text": [
      "Epoch 111\n",
      "Train Loss: 0.2056, Train Accuracy: 92.04%\n",
      "Test Loss: 0.2281, Test Accuracy: 92.02%\n",
      "\n"
     ]
    },
    {
     "name": "stderr",
     "output_type": "stream",
     "text": [
      "Epoch 112: 100%|██████████| 938/938 [00:55<00:00, 16.92batch/s, Train Loss=0.21, Train Acc=92]   \n"
     ]
    },
    {
     "name": "stdout",
     "output_type": "stream",
     "text": [
      "Epoch 112\n",
      "Train Loss: 0.2099, Train Accuracy: 91.95%\n",
      "Test Loss: 0.2315, Test Accuracy: 91.79%\n",
      "\n"
     ]
    },
    {
     "name": "stderr",
     "output_type": "stream",
     "text": [
      "Epoch 113: 100%|██████████| 938/938 [00:56<00:00, 16.67batch/s, Train Loss=0.207, Train Acc=92]  \n"
     ]
    },
    {
     "name": "stdout",
     "output_type": "stream",
     "text": [
      "Epoch 113\n",
      "Train Loss: 0.2070, Train Accuracy: 91.95%\n",
      "Test Loss: 0.2259, Test Accuracy: 91.80%\n",
      "\n"
     ]
    },
    {
     "name": "stderr",
     "output_type": "stream",
     "text": [
      "Epoch 114: 100%|██████████| 938/938 [00:55<00:00, 16.79batch/s, Train Loss=0.207, Train Acc=92.2]\n"
     ]
    },
    {
     "name": "stdout",
     "output_type": "stream",
     "text": [
      "Epoch 114\n",
      "Train Loss: 0.2069, Train Accuracy: 92.17%\n",
      "Test Loss: 0.2269, Test Accuracy: 91.86%\n",
      "\n"
     ]
    },
    {
     "name": "stderr",
     "output_type": "stream",
     "text": [
      "Epoch 115: 100%|██████████| 938/938 [00:55<00:00, 16.94batch/s, Train Loss=0.208, Train Acc=92]  \n"
     ]
    },
    {
     "name": "stdout",
     "output_type": "stream",
     "text": [
      "Epoch 115\n",
      "Train Loss: 0.2078, Train Accuracy: 92.05%\n",
      "Test Loss: 0.2277, Test Accuracy: 91.92%\n",
      "\n"
     ]
    },
    {
     "name": "stderr",
     "output_type": "stream",
     "text": [
      "Epoch 116: 100%|██████████| 938/938 [00:55<00:00, 16.95batch/s, Train Loss=0.206, Train Acc=92]  \n"
     ]
    },
    {
     "name": "stdout",
     "output_type": "stream",
     "text": [
      "Epoch 116\n",
      "Train Loss: 0.2060, Train Accuracy: 91.98%\n",
      "Test Loss: 0.2319, Test Accuracy: 92.08%\n",
      "\n"
     ]
    },
    {
     "name": "stderr",
     "output_type": "stream",
     "text": [
      "Epoch 117: 100%|██████████| 938/938 [00:55<00:00, 16.96batch/s, Train Loss=0.207, Train Acc=91.9]\n"
     ]
    },
    {
     "name": "stdout",
     "output_type": "stream",
     "text": [
      "Epoch 117\n",
      "Train Loss: 0.2067, Train Accuracy: 91.93%\n",
      "Test Loss: 0.2354, Test Accuracy: 92.04%\n",
      "\n"
     ]
    },
    {
     "name": "stderr",
     "output_type": "stream",
     "text": [
      "Epoch 118: 100%|██████████| 938/938 [00:55<00:00, 16.96batch/s, Train Loss=0.207, Train Acc=92]  \n"
     ]
    },
    {
     "name": "stdout",
     "output_type": "stream",
     "text": [
      "Epoch 118\n",
      "Train Loss: 0.2070, Train Accuracy: 92.00%\n",
      "Test Loss: 0.2285, Test Accuracy: 92.17%\n",
      "\n"
     ]
    },
    {
     "name": "stderr",
     "output_type": "stream",
     "text": [
      "Epoch 119: 100%|██████████| 938/938 [00:55<00:00, 16.90batch/s, Train Loss=0.203, Train Acc=92.2]\n"
     ]
    },
    {
     "name": "stdout",
     "output_type": "stream",
     "text": [
      "Epoch 119\n",
      "Train Loss: 0.2025, Train Accuracy: 92.19%\n",
      "Test Loss: 0.2287, Test Accuracy: 91.91%\n",
      "\n"
     ]
    },
    {
     "name": "stderr",
     "output_type": "stream",
     "text": [
      "Epoch 120: 100%|██████████| 938/938 [00:55<00:00, 16.92batch/s, Train Loss=0.205, Train Acc=92]  \n"
     ]
    },
    {
     "name": "stdout",
     "output_type": "stream",
     "text": [
      "Epoch 120\n",
      "Train Loss: 0.2047, Train Accuracy: 92.03%\n",
      "Test Loss: 0.2325, Test Accuracy: 92.23%\n",
      "\n"
     ]
    },
    {
     "name": "stderr",
     "output_type": "stream",
     "text": [
      "Epoch 121: 100%|██████████| 938/938 [00:55<00:00, 16.86batch/s, Train Loss=0.206, Train Acc=92]  \n"
     ]
    },
    {
     "name": "stdout",
     "output_type": "stream",
     "text": [
      "Epoch 121\n",
      "Train Loss: 0.2059, Train Accuracy: 91.99%\n",
      "Test Loss: 0.2326, Test Accuracy: 92.06%\n",
      "\n"
     ]
    },
    {
     "name": "stderr",
     "output_type": "stream",
     "text": [
      "Epoch 122: 100%|██████████| 938/938 [00:55<00:00, 16.94batch/s, Train Loss=0.206, Train Acc=92]  \n"
     ]
    },
    {
     "name": "stdout",
     "output_type": "stream",
     "text": [
      "Epoch 122\n",
      "Train Loss: 0.2063, Train Accuracy: 92.05%\n",
      "Test Loss: 0.2247, Test Accuracy: 92.30%\n",
      "\n"
     ]
    },
    {
     "name": "stderr",
     "output_type": "stream",
     "text": [
      "Epoch 123: 100%|██████████| 938/938 [00:55<00:00, 16.87batch/s, Train Loss=0.206, Train Acc=92.2]\n"
     ]
    },
    {
     "name": "stdout",
     "output_type": "stream",
     "text": [
      "Epoch 123\n",
      "Train Loss: 0.2057, Train Accuracy: 92.15%\n",
      "Test Loss: 0.2276, Test Accuracy: 92.38%\n",
      "\n"
     ]
    },
    {
     "name": "stderr",
     "output_type": "stream",
     "text": [
      "Epoch 124: 100%|██████████| 938/938 [00:56<00:00, 16.74batch/s, Train Loss=0.206, Train Acc=92.1]\n"
     ]
    },
    {
     "name": "stdout",
     "output_type": "stream",
     "text": [
      "Epoch 124\n",
      "Train Loss: 0.2060, Train Accuracy: 92.13%\n",
      "Test Loss: 0.2239, Test Accuracy: 92.42%\n",
      "\n"
     ]
    },
    {
     "name": "stderr",
     "output_type": "stream",
     "text": [
      "Epoch 125: 100%|██████████| 938/938 [00:55<00:00, 16.85batch/s, Train Loss=0.203, Train Acc=92.2]\n"
     ]
    },
    {
     "name": "stdout",
     "output_type": "stream",
     "text": [
      "Epoch 125\n",
      "Train Loss: 0.2029, Train Accuracy: 92.16%\n",
      "Test Loss: 0.2270, Test Accuracy: 92.34%\n",
      "\n"
     ]
    },
    {
     "name": "stderr",
     "output_type": "stream",
     "text": [
      "Epoch 126: 100%|██████████| 938/938 [00:55<00:00, 16.82batch/s, Train Loss=0.204, Train Acc=92.1]\n"
     ]
    },
    {
     "name": "stdout",
     "output_type": "stream",
     "text": [
      "Epoch 126\n",
      "Train Loss: 0.2042, Train Accuracy: 92.08%\n",
      "Test Loss: 0.2368, Test Accuracy: 92.04%\n",
      "\n"
     ]
    },
    {
     "name": "stderr",
     "output_type": "stream",
     "text": [
      "Epoch 127: 100%|██████████| 938/938 [00:55<00:00, 16.77batch/s, Train Loss=0.2, Train Acc=92.2]  \n"
     ]
    },
    {
     "name": "stdout",
     "output_type": "stream",
     "text": [
      "Epoch 127\n",
      "Train Loss: 0.2002, Train Accuracy: 92.23%\n",
      "Test Loss: 0.2309, Test Accuracy: 92.22%\n",
      "\n"
     ]
    },
    {
     "name": "stderr",
     "output_type": "stream",
     "text": [
      "Epoch 128: 100%|██████████| 938/938 [00:55<00:00, 16.94batch/s, Train Loss=0.205, Train Acc=92]  \n"
     ]
    },
    {
     "name": "stdout",
     "output_type": "stream",
     "text": [
      "Epoch 128\n",
      "Train Loss: 0.2051, Train Accuracy: 92.03%\n",
      "Test Loss: 0.2284, Test Accuracy: 91.93%\n",
      "\n"
     ]
    },
    {
     "name": "stderr",
     "output_type": "stream",
     "text": [
      "Epoch 129: 100%|██████████| 938/938 [00:55<00:00, 16.79batch/s, Train Loss=0.204, Train Acc=92.1]\n"
     ]
    },
    {
     "name": "stdout",
     "output_type": "stream",
     "text": [
      "Epoch 129\n",
      "Train Loss: 0.2043, Train Accuracy: 92.08%\n",
      "Test Loss: 0.2247, Test Accuracy: 92.30%\n",
      "\n"
     ]
    },
    {
     "name": "stderr",
     "output_type": "stream",
     "text": [
      "Epoch 130: 100%|██████████| 938/938 [00:55<00:00, 16.96batch/s, Train Loss=0.202, Train Acc=92.2]\n"
     ]
    },
    {
     "name": "stdout",
     "output_type": "stream",
     "text": [
      "Epoch 130\n",
      "Train Loss: 0.2024, Train Accuracy: 92.20%\n",
      "Test Loss: 0.2326, Test Accuracy: 91.96%\n",
      "\n"
     ]
    },
    {
     "name": "stderr",
     "output_type": "stream",
     "text": [
      "Epoch 131: 100%|██████████| 938/938 [00:55<00:00, 17.04batch/s, Train Loss=0.206, Train Acc=92.1]\n"
     ]
    },
    {
     "name": "stdout",
     "output_type": "stream",
     "text": [
      "Epoch 131\n",
      "Train Loss: 0.2057, Train Accuracy: 92.11%\n",
      "Test Loss: 0.2338, Test Accuracy: 92.01%\n",
      "\n"
     ]
    },
    {
     "name": "stderr",
     "output_type": "stream",
     "text": [
      "Epoch 132: 100%|██████████| 938/938 [00:55<00:00, 16.82batch/s, Train Loss=0.2, Train Acc=92.3]  \n"
     ]
    },
    {
     "name": "stdout",
     "output_type": "stream",
     "text": [
      "Epoch 132\n",
      "Train Loss: 0.2000, Train Accuracy: 92.25%\n",
      "Test Loss: 0.2332, Test Accuracy: 92.06%\n",
      "\n"
     ]
    },
    {
     "name": "stderr",
     "output_type": "stream",
     "text": [
      "Epoch 133: 100%|██████████| 938/938 [00:55<00:00, 16.97batch/s, Train Loss=0.206, Train Acc=92]  \n"
     ]
    },
    {
     "name": "stdout",
     "output_type": "stream",
     "text": [
      "Epoch 133\n",
      "Train Loss: 0.2063, Train Accuracy: 91.98%\n",
      "Test Loss: 0.2294, Test Accuracy: 92.12%\n",
      "\n"
     ]
    },
    {
     "name": "stderr",
     "output_type": "stream",
     "text": [
      "Epoch 134: 100%|██████████| 938/938 [00:55<00:00, 16.96batch/s, Train Loss=0.204, Train Acc=92.2]\n"
     ]
    },
    {
     "name": "stdout",
     "output_type": "stream",
     "text": [
      "Epoch 134\n",
      "Train Loss: 0.2043, Train Accuracy: 92.19%\n",
      "Test Loss: 0.2259, Test Accuracy: 91.99%\n",
      "\n"
     ]
    },
    {
     "name": "stderr",
     "output_type": "stream",
     "text": [
      "Epoch 135: 100%|██████████| 938/938 [00:55<00:00, 16.93batch/s, Train Loss=0.203, Train Acc=92.2]\n"
     ]
    },
    {
     "name": "stdout",
     "output_type": "stream",
     "text": [
      "Epoch 135\n",
      "Train Loss: 0.2032, Train Accuracy: 92.17%\n",
      "Test Loss: 0.2365, Test Accuracy: 91.86%\n",
      "\n"
     ]
    },
    {
     "name": "stderr",
     "output_type": "stream",
     "text": [
      "Epoch 136: 100%|██████████| 938/938 [00:55<00:00, 16.87batch/s, Train Loss=0.2, Train Acc=92.3]  \n"
     ]
    },
    {
     "name": "stdout",
     "output_type": "stream",
     "text": [
      "Epoch 136\n",
      "Train Loss: 0.2004, Train Accuracy: 92.28%\n",
      "Test Loss: 0.2290, Test Accuracy: 91.98%\n",
      "\n"
     ]
    },
    {
     "name": "stderr",
     "output_type": "stream",
     "text": [
      "Epoch 137: 100%|██████████| 938/938 [00:55<00:00, 16.98batch/s, Train Loss=0.206, Train Acc=92.1]\n"
     ]
    },
    {
     "name": "stdout",
     "output_type": "stream",
     "text": [
      "Epoch 137\n",
      "Train Loss: 0.2057, Train Accuracy: 92.05%\n",
      "Test Loss: 0.2282, Test Accuracy: 91.80%\n",
      "\n"
     ]
    },
    {
     "name": "stderr",
     "output_type": "stream",
     "text": [
      "Epoch 138: 100%|██████████| 938/938 [00:56<00:00, 16.72batch/s, Train Loss=0.202, Train Acc=92.3]\n"
     ]
    },
    {
     "name": "stdout",
     "output_type": "stream",
     "text": [
      "Epoch 138\n",
      "Train Loss: 0.2024, Train Accuracy: 92.25%\n",
      "Test Loss: 0.2303, Test Accuracy: 92.13%\n",
      "\n"
     ]
    },
    {
     "name": "stderr",
     "output_type": "stream",
     "text": [
      "Epoch 139: 100%|██████████| 938/938 [00:55<00:00, 17.00batch/s, Train Loss=0.201, Train Acc=92.3]\n"
     ]
    },
    {
     "name": "stdout",
     "output_type": "stream",
     "text": [
      "Epoch 139\n",
      "Train Loss: 0.2007, Train Accuracy: 92.29%\n",
      "Test Loss: 0.2275, Test Accuracy: 92.14%\n",
      "\n"
     ]
    },
    {
     "name": "stderr",
     "output_type": "stream",
     "text": [
      "Epoch 140: 100%|██████████| 938/938 [00:55<00:00, 16.85batch/s, Train Loss=0.2, Train Acc=92.3]  \n"
     ]
    },
    {
     "name": "stdout",
     "output_type": "stream",
     "text": [
      "Epoch 140\n",
      "Train Loss: 0.1998, Train Accuracy: 92.30%\n",
      "Test Loss: 0.2274, Test Accuracy: 92.18%\n",
      "\n"
     ]
    },
    {
     "name": "stderr",
     "output_type": "stream",
     "text": [
      "Epoch 141: 100%|██████████| 938/938 [00:55<00:00, 16.86batch/s, Train Loss=0.204, Train Acc=92.2]\n"
     ]
    },
    {
     "name": "stdout",
     "output_type": "stream",
     "text": [
      "Epoch 141\n",
      "Train Loss: 0.2036, Train Accuracy: 92.24%\n",
      "Test Loss: 0.2267, Test Accuracy: 92.09%\n",
      "\n"
     ]
    },
    {
     "name": "stderr",
     "output_type": "stream",
     "text": [
      "Epoch 142: 100%|██████████| 938/938 [00:55<00:00, 17.02batch/s, Train Loss=0.199, Train Acc=92.4]\n"
     ]
    },
    {
     "name": "stdout",
     "output_type": "stream",
     "text": [
      "Epoch 142\n",
      "Train Loss: 0.1995, Train Accuracy: 92.36%\n",
      "Test Loss: 0.2385, Test Accuracy: 91.70%\n",
      "\n"
     ]
    },
    {
     "name": "stderr",
     "output_type": "stream",
     "text": [
      "Epoch 143: 100%|██████████| 938/938 [00:55<00:00, 16.77batch/s, Train Loss=0.201, Train Acc=92.2]\n"
     ]
    },
    {
     "name": "stdout",
     "output_type": "stream",
     "text": [
      "Epoch 143\n",
      "Train Loss: 0.2012, Train Accuracy: 92.16%\n",
      "Test Loss: 0.2347, Test Accuracy: 91.83%\n",
      "\n"
     ]
    },
    {
     "name": "stderr",
     "output_type": "stream",
     "text": [
      "Epoch 144: 100%|██████████| 938/938 [00:55<00:00, 16.81batch/s, Train Loss=0.199, Train Acc=92.2]\n"
     ]
    },
    {
     "name": "stdout",
     "output_type": "stream",
     "text": [
      "Epoch 144\n",
      "Train Loss: 0.1994, Train Accuracy: 92.16%\n",
      "Test Loss: 0.2323, Test Accuracy: 91.94%\n",
      "\n"
     ]
    },
    {
     "name": "stderr",
     "output_type": "stream",
     "text": [
      "Epoch 145: 100%|██████████| 938/938 [01:00<00:00, 15.47batch/s, Train Loss=0.198, Train Acc=92.4]\n"
     ]
    },
    {
     "name": "stdout",
     "output_type": "stream",
     "text": [
      "Epoch 145\n",
      "Train Loss: 0.1983, Train Accuracy: 92.41%\n",
      "Test Loss: 0.2341, Test Accuracy: 92.15%\n",
      "\n"
     ]
    },
    {
     "name": "stderr",
     "output_type": "stream",
     "text": [
      "Epoch 146: 100%|██████████| 938/938 [01:00<00:00, 15.43batch/s, Train Loss=0.201, Train Acc=92.3]\n"
     ]
    },
    {
     "name": "stdout",
     "output_type": "stream",
     "text": [
      "Epoch 146\n",
      "Train Loss: 0.2012, Train Accuracy: 92.31%\n",
      "Test Loss: 0.2262, Test Accuracy: 92.13%\n",
      "\n"
     ]
    },
    {
     "name": "stderr",
     "output_type": "stream",
     "text": [
      "Epoch 147: 100%|██████████| 938/938 [01:03<00:00, 14.82batch/s, Train Loss=0.198, Train Acc=92.3]\n"
     ]
    },
    {
     "name": "stdout",
     "output_type": "stream",
     "text": [
      "Epoch 147\n",
      "Train Loss: 0.1984, Train Accuracy: 92.32%\n",
      "Test Loss: 0.2277, Test Accuracy: 92.03%\n",
      "\n"
     ]
    },
    {
     "name": "stderr",
     "output_type": "stream",
     "text": [
      "Epoch 148: 100%|██████████| 938/938 [01:00<00:00, 15.57batch/s, Train Loss=0.201, Train Acc=92.1]\n"
     ]
    },
    {
     "name": "stdout",
     "output_type": "stream",
     "text": [
      "Epoch 148\n",
      "Train Loss: 0.2006, Train Accuracy: 92.08%\n",
      "Test Loss: 0.2391, Test Accuracy: 91.66%\n",
      "\n"
     ]
    },
    {
     "name": "stderr",
     "output_type": "stream",
     "text": [
      "Epoch 149: 100%|██████████| 938/938 [00:59<00:00, 15.73batch/s, Train Loss=0.201, Train Acc=92.2]\n"
     ]
    },
    {
     "name": "stdout",
     "output_type": "stream",
     "text": [
      "Epoch 149\n",
      "Train Loss: 0.2013, Train Accuracy: 92.17%\n",
      "Test Loss: 0.2294, Test Accuracy: 92.16%\n",
      "\n"
     ]
    },
    {
     "name": "stderr",
     "output_type": "stream",
     "text": [
      "Epoch 150: 100%|██████████| 938/938 [00:55<00:00, 16.93batch/s, Train Loss=0.198, Train Acc=92.3]\n"
     ]
    },
    {
     "name": "stdout",
     "output_type": "stream",
     "text": [
      "Epoch 150\n",
      "Train Loss: 0.1975, Train Accuracy: 92.33%\n",
      "Test Loss: 0.2360, Test Accuracy: 91.74%\n",
      "\n"
     ]
    },
    {
     "name": "stderr",
     "output_type": "stream",
     "text": [
      "Epoch 151: 100%|██████████| 938/938 [00:55<00:00, 16.94batch/s, Train Loss=0.2, Train Acc=92.3]  \n"
     ]
    },
    {
     "name": "stdout",
     "output_type": "stream",
     "text": [
      "Epoch 151\n",
      "Train Loss: 0.1997, Train Accuracy: 92.29%\n",
      "Test Loss: 0.2299, Test Accuracy: 92.18%\n",
      "\n"
     ]
    },
    {
     "name": "stderr",
     "output_type": "stream",
     "text": [
      "Epoch 152: 100%|██████████| 938/938 [00:55<00:00, 16.85batch/s, Train Loss=0.198, Train Acc=92.4]\n"
     ]
    },
    {
     "name": "stdout",
     "output_type": "stream",
     "text": [
      "Epoch 152\n",
      "Train Loss: 0.1984, Train Accuracy: 92.37%\n",
      "Test Loss: 0.2354, Test Accuracy: 91.75%\n",
      "\n"
     ]
    },
    {
     "name": "stderr",
     "output_type": "stream",
     "text": [
      "Epoch 153: 100%|██████████| 938/938 [00:55<00:00, 16.99batch/s, Train Loss=0.2, Train Acc=92.3]  \n"
     ]
    },
    {
     "name": "stdout",
     "output_type": "stream",
     "text": [
      "Epoch 153\n",
      "Train Loss: 0.2002, Train Accuracy: 92.31%\n",
      "Test Loss: 0.2432, Test Accuracy: 91.83%\n",
      "\n"
     ]
    },
    {
     "name": "stderr",
     "output_type": "stream",
     "text": [
      "Epoch 154: 100%|██████████| 938/938 [00:55<00:00, 16.93batch/s, Train Loss=0.198, Train Acc=92.3]\n"
     ]
    },
    {
     "name": "stdout",
     "output_type": "stream",
     "text": [
      "Epoch 154\n",
      "Train Loss: 0.1976, Train Accuracy: 92.28%\n",
      "Test Loss: 0.2306, Test Accuracy: 92.25%\n",
      "\n"
     ]
    },
    {
     "name": "stderr",
     "output_type": "stream",
     "text": [
      "Epoch 155: 100%|██████████| 938/938 [00:55<00:00, 16.87batch/s, Train Loss=0.199, Train Acc=92.3]\n"
     ]
    },
    {
     "name": "stdout",
     "output_type": "stream",
     "text": [
      "Epoch 155\n",
      "Train Loss: 0.1988, Train Accuracy: 92.32%\n",
      "Test Loss: 0.2313, Test Accuracy: 92.17%\n",
      "\n"
     ]
    },
    {
     "name": "stderr",
     "output_type": "stream",
     "text": [
      "Epoch 156: 100%|██████████| 938/938 [00:55<00:00, 16.85batch/s, Train Loss=0.197, Train Acc=92.4]\n"
     ]
    },
    {
     "name": "stdout",
     "output_type": "stream",
     "text": [
      "Epoch 156\n",
      "Train Loss: 0.1967, Train Accuracy: 92.35%\n",
      "Test Loss: 0.2343, Test Accuracy: 92.08%\n",
      "\n"
     ]
    },
    {
     "name": "stderr",
     "output_type": "stream",
     "text": [
      "Epoch 157: 100%|██████████| 938/938 [00:55<00:00, 16.95batch/s, Train Loss=0.199, Train Acc=92.3]\n"
     ]
    },
    {
     "name": "stdout",
     "output_type": "stream",
     "text": [
      "Epoch 157\n",
      "Train Loss: 0.1994, Train Accuracy: 92.34%\n",
      "Test Loss: 0.2266, Test Accuracy: 92.25%\n",
      "\n"
     ]
    },
    {
     "name": "stderr",
     "output_type": "stream",
     "text": [
      "Epoch 158: 100%|██████████| 938/938 [00:55<00:00, 16.91batch/s, Train Loss=0.197, Train Acc=92.3]\n"
     ]
    },
    {
     "name": "stdout",
     "output_type": "stream",
     "text": [
      "Epoch 158\n",
      "Train Loss: 0.1969, Train Accuracy: 92.31%\n",
      "Test Loss: 0.2292, Test Accuracy: 92.14%\n",
      "\n"
     ]
    },
    {
     "name": "stderr",
     "output_type": "stream",
     "text": [
      "Epoch 159: 100%|██████████| 938/938 [00:55<00:00, 16.84batch/s, Train Loss=0.196, Train Acc=92.5]\n"
     ]
    },
    {
     "name": "stdout",
     "output_type": "stream",
     "text": [
      "Epoch 159\n",
      "Train Loss: 0.1965, Train Accuracy: 92.46%\n",
      "Test Loss: 0.2265, Test Accuracy: 92.25%\n",
      "\n"
     ]
    },
    {
     "name": "stderr",
     "output_type": "stream",
     "text": [
      "Epoch 160: 100%|██████████| 938/938 [00:55<00:00, 16.87batch/s, Train Loss=0.196, Train Acc=92.3]\n"
     ]
    },
    {
     "name": "stdout",
     "output_type": "stream",
     "text": [
      "Epoch 160\n",
      "Train Loss: 0.1957, Train Accuracy: 92.33%\n",
      "Test Loss: 0.2315, Test Accuracy: 92.09%\n",
      "\n"
     ]
    },
    {
     "name": "stderr",
     "output_type": "stream",
     "text": [
      "Epoch 161: 100%|██████████| 938/938 [00:55<00:00, 16.89batch/s, Train Loss=0.197, Train Acc=92.5]\n"
     ]
    },
    {
     "name": "stdout",
     "output_type": "stream",
     "text": [
      "Epoch 161\n",
      "Train Loss: 0.1971, Train Accuracy: 92.47%\n",
      "Test Loss: 0.2290, Test Accuracy: 92.08%\n",
      "\n"
     ]
    },
    {
     "name": "stderr",
     "output_type": "stream",
     "text": [
      "Epoch 162: 100%|██████████| 938/938 [00:55<00:00, 16.94batch/s, Train Loss=0.196, Train Acc=92.5]\n"
     ]
    },
    {
     "name": "stdout",
     "output_type": "stream",
     "text": [
      "Epoch 162\n",
      "Train Loss: 0.1963, Train Accuracy: 92.53%\n",
      "Test Loss: 0.2305, Test Accuracy: 92.06%\n",
      "\n"
     ]
    },
    {
     "name": "stderr",
     "output_type": "stream",
     "text": [
      "Epoch 163: 100%|██████████| 938/938 [00:55<00:00, 16.93batch/s, Train Loss=0.194, Train Acc=92.5]\n"
     ]
    },
    {
     "name": "stdout",
     "output_type": "stream",
     "text": [
      "Epoch 163\n",
      "Train Loss: 0.1938, Train Accuracy: 92.54%\n",
      "Test Loss: 0.2352, Test Accuracy: 91.95%\n",
      "\n"
     ]
    },
    {
     "name": "stderr",
     "output_type": "stream",
     "text": [
      "Epoch 164: 100%|██████████| 938/938 [00:55<00:00, 16.84batch/s, Train Loss=0.195, Train Acc=92.5]\n"
     ]
    },
    {
     "name": "stdout",
     "output_type": "stream",
     "text": [
      "Epoch 164\n",
      "Train Loss: 0.1954, Train Accuracy: 92.48%\n",
      "Test Loss: 0.2318, Test Accuracy: 92.02%\n",
      "\n"
     ]
    },
    {
     "name": "stderr",
     "output_type": "stream",
     "text": [
      "Epoch 165: 100%|██████████| 938/938 [00:55<00:00, 16.85batch/s, Train Loss=0.195, Train Acc=92.5]\n"
     ]
    },
    {
     "name": "stdout",
     "output_type": "stream",
     "text": [
      "Epoch 165\n",
      "Train Loss: 0.1945, Train Accuracy: 92.47%\n",
      "Test Loss: 0.2215, Test Accuracy: 92.45%\n",
      "\n"
     ]
    },
    {
     "name": "stderr",
     "output_type": "stream",
     "text": [
      "Epoch 166: 100%|██████████| 938/938 [00:55<00:00, 16.83batch/s, Train Loss=0.197, Train Acc=92.3]\n"
     ]
    },
    {
     "name": "stdout",
     "output_type": "stream",
     "text": [
      "Epoch 166\n",
      "Train Loss: 0.1965, Train Accuracy: 92.33%\n",
      "Test Loss: 0.2277, Test Accuracy: 92.32%\n",
      "\n"
     ]
    },
    {
     "name": "stderr",
     "output_type": "stream",
     "text": [
      "Epoch 167: 100%|██████████| 938/938 [00:55<00:00, 16.86batch/s, Train Loss=0.194, Train Acc=92.5]\n"
     ]
    },
    {
     "name": "stdout",
     "output_type": "stream",
     "text": [
      "Epoch 167\n",
      "Train Loss: 0.1937, Train Accuracy: 92.54%\n",
      "Test Loss: 0.2333, Test Accuracy: 92.05%\n",
      "\n"
     ]
    },
    {
     "name": "stderr",
     "output_type": "stream",
     "text": [
      "Epoch 168: 100%|██████████| 938/938 [00:55<00:00, 16.88batch/s, Train Loss=0.196, Train Acc=92.4]\n"
     ]
    },
    {
     "name": "stdout",
     "output_type": "stream",
     "text": [
      "Epoch 168\n",
      "Train Loss: 0.1965, Train Accuracy: 92.40%\n",
      "Test Loss: 0.2230, Test Accuracy: 92.09%\n",
      "\n"
     ]
    },
    {
     "name": "stderr",
     "output_type": "stream",
     "text": [
      "Epoch 169: 100%|██████████| 938/938 [00:55<00:00, 16.90batch/s, Train Loss=0.194, Train Acc=92.5]\n"
     ]
    },
    {
     "name": "stdout",
     "output_type": "stream",
     "text": [
      "Epoch 169\n",
      "Train Loss: 0.1936, Train Accuracy: 92.54%\n",
      "Test Loss: 0.2299, Test Accuracy: 92.01%\n",
      "\n"
     ]
    },
    {
     "name": "stderr",
     "output_type": "stream",
     "text": [
      "Epoch 170: 100%|██████████| 938/938 [00:55<00:00, 16.96batch/s, Train Loss=0.194, Train Acc=92.6]\n"
     ]
    },
    {
     "name": "stdout",
     "output_type": "stream",
     "text": [
      "Epoch 170\n",
      "Train Loss: 0.1936, Train Accuracy: 92.57%\n",
      "Test Loss: 0.2297, Test Accuracy: 92.24%\n",
      "\n"
     ]
    },
    {
     "name": "stderr",
     "output_type": "stream",
     "text": [
      "Epoch 171: 100%|██████████| 938/938 [00:55<00:00, 16.82batch/s, Train Loss=0.194, Train Acc=92.5]\n"
     ]
    },
    {
     "name": "stdout",
     "output_type": "stream",
     "text": [
      "Epoch 171\n",
      "Train Loss: 0.1944, Train Accuracy: 92.51%\n",
      "Test Loss: 0.2295, Test Accuracy: 92.11%\n",
      "\n"
     ]
    },
    {
     "name": "stderr",
     "output_type": "stream",
     "text": [
      "Epoch 172: 100%|██████████| 938/938 [00:55<00:00, 16.87batch/s, Train Loss=0.195, Train Acc=92.4]\n"
     ]
    },
    {
     "name": "stdout",
     "output_type": "stream",
     "text": [
      "Epoch 172\n",
      "Train Loss: 0.1948, Train Accuracy: 92.39%\n",
      "Test Loss: 0.2393, Test Accuracy: 92.08%\n",
      "\n"
     ]
    },
    {
     "name": "stderr",
     "output_type": "stream",
     "text": [
      "Epoch 173: 100%|██████████| 938/938 [00:55<00:00, 16.89batch/s, Train Loss=0.191, Train Acc=92.6]\n"
     ]
    },
    {
     "name": "stdout",
     "output_type": "stream",
     "text": [
      "Epoch 173\n",
      "Train Loss: 0.1911, Train Accuracy: 92.59%\n",
      "Test Loss: 0.2334, Test Accuracy: 92.20%\n",
      "\n"
     ]
    },
    {
     "name": "stderr",
     "output_type": "stream",
     "text": [
      "Epoch 174: 100%|██████████| 938/938 [00:55<00:00, 16.76batch/s, Train Loss=0.191, Train Acc=92.6]\n"
     ]
    },
    {
     "name": "stdout",
     "output_type": "stream",
     "text": [
      "Epoch 174\n",
      "Train Loss: 0.1910, Train Accuracy: 92.64%\n",
      "Test Loss: 0.2360, Test Accuracy: 92.14%\n",
      "\n"
     ]
    },
    {
     "name": "stderr",
     "output_type": "stream",
     "text": [
      "Epoch 175: 100%|██████████| 938/938 [00:55<00:00, 16.88batch/s, Train Loss=0.195, Train Acc=92.5]\n"
     ]
    },
    {
     "name": "stdout",
     "output_type": "stream",
     "text": [
      "Epoch 175\n",
      "Train Loss: 0.1954, Train Accuracy: 92.48%\n",
      "Test Loss: 0.2351, Test Accuracy: 92.11%\n",
      "\n"
     ]
    },
    {
     "name": "stderr",
     "output_type": "stream",
     "text": [
      "Epoch 176: 100%|██████████| 938/938 [00:55<00:00, 16.85batch/s, Train Loss=0.193, Train Acc=92.5]\n"
     ]
    },
    {
     "name": "stdout",
     "output_type": "stream",
     "text": [
      "Epoch 176\n",
      "Train Loss: 0.1930, Train Accuracy: 92.50%\n",
      "Test Loss: 0.2327, Test Accuracy: 92.37%\n",
      "\n"
     ]
    },
    {
     "name": "stderr",
     "output_type": "stream",
     "text": [
      "Epoch 177: 100%|██████████| 938/938 [00:55<00:00, 16.81batch/s, Train Loss=0.194, Train Acc=92.5]\n"
     ]
    },
    {
     "name": "stdout",
     "output_type": "stream",
     "text": [
      "Epoch 177\n",
      "Train Loss: 0.1937, Train Accuracy: 92.53%\n",
      "Test Loss: 0.2439, Test Accuracy: 92.04%\n",
      "\n"
     ]
    },
    {
     "name": "stderr",
     "output_type": "stream",
     "text": [
      "Epoch 178: 100%|██████████| 938/938 [00:56<00:00, 16.67batch/s, Train Loss=0.193, Train Acc=92.6]\n"
     ]
    },
    {
     "name": "stdout",
     "output_type": "stream",
     "text": [
      "Epoch 178\n",
      "Train Loss: 0.1927, Train Accuracy: 92.62%\n",
      "Test Loss: 0.2355, Test Accuracy: 92.23%\n",
      "\n"
     ]
    },
    {
     "name": "stderr",
     "output_type": "stream",
     "text": [
      "Epoch 179: 100%|██████████| 938/938 [01:02<00:00, 15.09batch/s, Train Loss=0.191, Train Acc=92.6]\n"
     ]
    },
    {
     "name": "stdout",
     "output_type": "stream",
     "text": [
      "Epoch 179\n",
      "Train Loss: 0.1910, Train Accuracy: 92.61%\n",
      "Test Loss: 0.2297, Test Accuracy: 92.23%\n",
      "\n"
     ]
    },
    {
     "name": "stderr",
     "output_type": "stream",
     "text": [
      "Epoch 180: 100%|██████████| 938/938 [01:02<00:00, 15.06batch/s, Train Loss=0.192, Train Acc=92.7]\n"
     ]
    },
    {
     "name": "stdout",
     "output_type": "stream",
     "text": [
      "Epoch 180\n",
      "Train Loss: 0.1921, Train Accuracy: 92.69%\n",
      "Test Loss: 0.2343, Test Accuracy: 92.11%\n",
      "\n"
     ]
    },
    {
     "name": "stderr",
     "output_type": "stream",
     "text": [
      "Epoch 181: 100%|██████████| 938/938 [00:59<00:00, 15.89batch/s, Train Loss=0.194, Train Acc=92.5]\n"
     ]
    },
    {
     "name": "stdout",
     "output_type": "stream",
     "text": [
      "Epoch 181\n",
      "Train Loss: 0.1942, Train Accuracy: 92.54%\n",
      "Test Loss: 0.2304, Test Accuracy: 92.34%\n",
      "\n"
     ]
    },
    {
     "name": "stderr",
     "output_type": "stream",
     "text": [
      "Epoch 182: 100%|██████████| 938/938 [00:58<00:00, 16.10batch/s, Train Loss=0.193, Train Acc=92.7]\n"
     ]
    },
    {
     "name": "stdout",
     "output_type": "stream",
     "text": [
      "Epoch 182\n",
      "Train Loss: 0.1927, Train Accuracy: 92.66%\n",
      "Test Loss: 0.2292, Test Accuracy: 92.40%\n",
      "\n"
     ]
    },
    {
     "name": "stderr",
     "output_type": "stream",
     "text": [
      "Epoch 183: 100%|██████████| 938/938 [00:54<00:00, 17.11batch/s, Train Loss=0.192, Train Acc=92.6]\n"
     ]
    },
    {
     "name": "stdout",
     "output_type": "stream",
     "text": [
      "Epoch 183\n",
      "Train Loss: 0.1922, Train Accuracy: 92.64%\n",
      "Test Loss: 0.2356, Test Accuracy: 92.20%\n",
      "\n"
     ]
    },
    {
     "name": "stderr",
     "output_type": "stream",
     "text": [
      "Epoch 184: 100%|██████████| 938/938 [00:54<00:00, 17.07batch/s, Train Loss=0.191, Train Acc=92.6]\n"
     ]
    },
    {
     "name": "stdout",
     "output_type": "stream",
     "text": [
      "Epoch 184\n",
      "Train Loss: 0.1915, Train Accuracy: 92.59%\n",
      "Test Loss: 0.2333, Test Accuracy: 92.20%\n",
      "\n"
     ]
    },
    {
     "name": "stderr",
     "output_type": "stream",
     "text": [
      "Epoch 185: 100%|██████████| 938/938 [00:55<00:00, 16.98batch/s, Train Loss=0.194, Train Acc=92.5]\n"
     ]
    },
    {
     "name": "stdout",
     "output_type": "stream",
     "text": [
      "Epoch 185\n",
      "Train Loss: 0.1940, Train Accuracy: 92.47%\n",
      "Test Loss: 0.2339, Test Accuracy: 91.97%\n",
      "\n"
     ]
    },
    {
     "name": "stderr",
     "output_type": "stream",
     "text": [
      "Epoch 186: 100%|██████████| 938/938 [00:55<00:00, 17.00batch/s, Train Loss=0.19, Train Acc=92.6] \n"
     ]
    },
    {
     "name": "stdout",
     "output_type": "stream",
     "text": [
      "Epoch 186\n",
      "Train Loss: 0.1897, Train Accuracy: 92.64%\n",
      "Test Loss: 0.2308, Test Accuracy: 92.22%\n",
      "\n"
     ]
    },
    {
     "name": "stderr",
     "output_type": "stream",
     "text": [
      "Epoch 187: 100%|██████████| 938/938 [00:55<00:00, 17.02batch/s, Train Loss=0.193, Train Acc=92.6]\n"
     ]
    },
    {
     "name": "stdout",
     "output_type": "stream",
     "text": [
      "Epoch 187\n",
      "Train Loss: 0.1933, Train Accuracy: 92.57%\n",
      "Test Loss: 0.2356, Test Accuracy: 92.25%\n",
      "\n"
     ]
    },
    {
     "name": "stderr",
     "output_type": "stream",
     "text": [
      "Epoch 188: 100%|██████████| 938/938 [00:55<00:00, 16.98batch/s, Train Loss=0.192, Train Acc=92.6]\n"
     ]
    },
    {
     "name": "stdout",
     "output_type": "stream",
     "text": [
      "Epoch 188\n",
      "Train Loss: 0.1920, Train Accuracy: 92.63%\n",
      "Test Loss: 0.2387, Test Accuracy: 91.99%\n",
      "\n"
     ]
    },
    {
     "name": "stderr",
     "output_type": "stream",
     "text": [
      "Epoch 189: 100%|██████████| 938/938 [00:54<00:00, 17.15batch/s, Train Loss=0.191, Train Acc=92.7]\n"
     ]
    },
    {
     "name": "stdout",
     "output_type": "stream",
     "text": [
      "Epoch 189\n",
      "Train Loss: 0.1906, Train Accuracy: 92.73%\n",
      "Test Loss: 0.2388, Test Accuracy: 92.02%\n",
      "\n"
     ]
    },
    {
     "name": "stderr",
     "output_type": "stream",
     "text": [
      "Epoch 190: 100%|██████████| 938/938 [00:54<00:00, 17.12batch/s, Train Loss=0.194, Train Acc=92.4]\n"
     ]
    },
    {
     "name": "stdout",
     "output_type": "stream",
     "text": [
      "Epoch 190\n",
      "Train Loss: 0.1938, Train Accuracy: 92.39%\n",
      "Test Loss: 0.2327, Test Accuracy: 92.15%\n",
      "\n"
     ]
    },
    {
     "name": "stderr",
     "output_type": "stream",
     "text": [
      "Epoch 191: 100%|██████████| 938/938 [00:54<00:00, 17.11batch/s, Train Loss=0.188, Train Acc=92.8]\n"
     ]
    },
    {
     "name": "stdout",
     "output_type": "stream",
     "text": [
      "Epoch 191\n",
      "Train Loss: 0.1880, Train Accuracy: 92.77%\n",
      "Test Loss: 0.2378, Test Accuracy: 92.10%\n",
      "\n"
     ]
    },
    {
     "name": "stderr",
     "output_type": "stream",
     "text": [
      "Epoch 192: 100%|██████████| 938/938 [00:54<00:00, 17.08batch/s, Train Loss=0.192, Train Acc=92.7]\n"
     ]
    },
    {
     "name": "stdout",
     "output_type": "stream",
     "text": [
      "Epoch 192\n",
      "Train Loss: 0.1918, Train Accuracy: 92.73%\n",
      "Test Loss: 0.2378, Test Accuracy: 92.01%\n",
      "\n"
     ]
    },
    {
     "name": "stderr",
     "output_type": "stream",
     "text": [
      "Epoch 193: 100%|██████████| 938/938 [00:54<00:00, 17.16batch/s, Train Loss=0.193, Train Acc=92.6]\n"
     ]
    },
    {
     "name": "stdout",
     "output_type": "stream",
     "text": [
      "Epoch 193\n",
      "Train Loss: 0.1928, Train Accuracy: 92.62%\n",
      "Test Loss: 0.2352, Test Accuracy: 92.14%\n",
      "\n"
     ]
    },
    {
     "name": "stderr",
     "output_type": "stream",
     "text": [
      "Epoch 194: 100%|██████████| 938/938 [00:56<00:00, 16.67batch/s, Train Loss=0.189, Train Acc=92.6]\n"
     ]
    },
    {
     "name": "stdout",
     "output_type": "stream",
     "text": [
      "Epoch 194\n",
      "Train Loss: 0.1894, Train Accuracy: 92.64%\n",
      "Test Loss: 0.2363, Test Accuracy: 92.27%\n",
      "\n"
     ]
    },
    {
     "name": "stderr",
     "output_type": "stream",
     "text": [
      "Epoch 195: 100%|██████████| 938/938 [00:59<00:00, 15.80batch/s, Train Loss=0.189, Train Acc=92.7]\n"
     ]
    },
    {
     "name": "stdout",
     "output_type": "stream",
     "text": [
      "Epoch 195\n",
      "Train Loss: 0.1886, Train Accuracy: 92.68%\n",
      "Test Loss: 0.2351, Test Accuracy: 92.19%\n",
      "\n"
     ]
    },
    {
     "name": "stderr",
     "output_type": "stream",
     "text": [
      "Epoch 196: 100%|██████████| 938/938 [00:59<00:00, 15.69batch/s, Train Loss=0.19, Train Acc=92.6] \n"
     ]
    },
    {
     "name": "stdout",
     "output_type": "stream",
     "text": [
      "Epoch 196\n",
      "Train Loss: 0.1905, Train Accuracy: 92.64%\n",
      "Test Loss: 0.2304, Test Accuracy: 92.14%\n",
      "\n"
     ]
    },
    {
     "name": "stderr",
     "output_type": "stream",
     "text": [
      "Epoch 197: 100%|██████████| 938/938 [00:55<00:00, 17.05batch/s, Train Loss=0.189, Train Acc=92.7]\n"
     ]
    },
    {
     "name": "stdout",
     "output_type": "stream",
     "text": [
      "Epoch 197\n",
      "Train Loss: 0.1893, Train Accuracy: 92.66%\n",
      "Test Loss: 0.2266, Test Accuracy: 92.51%\n",
      "\n"
     ]
    },
    {
     "name": "stderr",
     "output_type": "stream",
     "text": [
      "Epoch 198: 100%|██████████| 938/938 [00:55<00:00, 17.04batch/s, Train Loss=0.188, Train Acc=92.7]\n"
     ]
    },
    {
     "name": "stdout",
     "output_type": "stream",
     "text": [
      "Epoch 198\n",
      "Train Loss: 0.1876, Train Accuracy: 92.69%\n",
      "Test Loss: 0.2349, Test Accuracy: 92.07%\n",
      "\n"
     ]
    },
    {
     "name": "stderr",
     "output_type": "stream",
     "text": [
      "Epoch 199: 100%|██████████| 938/938 [00:55<00:00, 17.04batch/s, Train Loss=0.189, Train Acc=92.6]\n"
     ]
    },
    {
     "name": "stdout",
     "output_type": "stream",
     "text": [
      "Epoch 199\n",
      "Train Loss: 0.1894, Train Accuracy: 92.57%\n",
      "Test Loss: 0.2455, Test Accuracy: 91.87%\n",
      "\n"
     ]
    },
    {
     "name": "stderr",
     "output_type": "stream",
     "text": [
      "Epoch 200: 100%|██████████| 938/938 [00:54<00:00, 17.09batch/s, Train Loss=0.188, Train Acc=92.8]\n"
     ]
    },
    {
     "name": "stdout",
     "output_type": "stream",
     "text": [
      "Epoch 200\n",
      "Train Loss: 0.1876, Train Accuracy: 92.77%\n",
      "Test Loss: 0.2288, Test Accuracy: 92.30%\n",
      "\n"
     ]
    },
    {
     "name": "stderr",
     "output_type": "stream",
     "text": [
      "Epoch 201: 100%|██████████| 938/938 [00:55<00:00, 16.98batch/s, Train Loss=0.189, Train Acc=92.7]\n"
     ]
    },
    {
     "name": "stdout",
     "output_type": "stream",
     "text": [
      "Epoch 201\n",
      "Train Loss: 0.1888, Train Accuracy: 92.69%\n",
      "Test Loss: 0.2347, Test Accuracy: 92.13%\n",
      "\n"
     ]
    },
    {
     "name": "stderr",
     "output_type": "stream",
     "text": [
      "Epoch 202: 100%|██████████| 938/938 [00:54<00:00, 17.12batch/s, Train Loss=0.187, Train Acc=92.8]\n"
     ]
    },
    {
     "name": "stdout",
     "output_type": "stream",
     "text": [
      "Epoch 202\n",
      "Train Loss: 0.1871, Train Accuracy: 92.80%\n",
      "Test Loss: 0.2309, Test Accuracy: 92.23%\n",
      "\n"
     ]
    },
    {
     "name": "stderr",
     "output_type": "stream",
     "text": [
      "Epoch 203: 100%|██████████| 938/938 [00:54<00:00, 17.08batch/s, Train Loss=0.187, Train Acc=92.8]\n"
     ]
    },
    {
     "name": "stdout",
     "output_type": "stream",
     "text": [
      "Epoch 203\n",
      "Train Loss: 0.1873, Train Accuracy: 92.77%\n",
      "Test Loss: 0.2327, Test Accuracy: 92.31%\n",
      "\n"
     ]
    },
    {
     "name": "stderr",
     "output_type": "stream",
     "text": [
      "Epoch 204: 100%|██████████| 938/938 [00:54<00:00, 17.08batch/s, Train Loss=0.187, Train Acc=92.8]\n"
     ]
    },
    {
     "name": "stdout",
     "output_type": "stream",
     "text": [
      "Epoch 204\n",
      "Train Loss: 0.1872, Train Accuracy: 92.77%\n",
      "Test Loss: 0.2399, Test Accuracy: 91.95%\n",
      "\n"
     ]
    },
    {
     "name": "stderr",
     "output_type": "stream",
     "text": [
      "Epoch 205: 100%|██████████| 938/938 [00:54<00:00, 17.11batch/s, Train Loss=0.188, Train Acc=92.7]\n"
     ]
    },
    {
     "name": "stdout",
     "output_type": "stream",
     "text": [
      "Epoch 205\n",
      "Train Loss: 0.1877, Train Accuracy: 92.75%\n",
      "Test Loss: 0.2335, Test Accuracy: 92.19%\n",
      "\n"
     ]
    },
    {
     "name": "stderr",
     "output_type": "stream",
     "text": [
      "Epoch 206: 100%|██████████| 938/938 [00:54<00:00, 17.13batch/s, Train Loss=0.189, Train Acc=92.6]\n"
     ]
    },
    {
     "name": "stdout",
     "output_type": "stream",
     "text": [
      "Epoch 206\n",
      "Train Loss: 0.1891, Train Accuracy: 92.58%\n",
      "Test Loss: 0.2319, Test Accuracy: 92.33%\n",
      "\n"
     ]
    },
    {
     "name": "stderr",
     "output_type": "stream",
     "text": [
      "Epoch 207: 100%|██████████| 938/938 [00:54<00:00, 17.14batch/s, Train Loss=0.186, Train Acc=92.9]\n"
     ]
    },
    {
     "name": "stdout",
     "output_type": "stream",
     "text": [
      "Epoch 207\n",
      "Train Loss: 0.1863, Train Accuracy: 92.88%\n",
      "Test Loss: 0.2402, Test Accuracy: 92.15%\n",
      "\n"
     ]
    },
    {
     "name": "stderr",
     "output_type": "stream",
     "text": [
      "Epoch 208: 100%|██████████| 938/938 [00:54<00:00, 17.12batch/s, Train Loss=0.188, Train Acc=92.7]\n"
     ]
    },
    {
     "name": "stdout",
     "output_type": "stream",
     "text": [
      "Epoch 208\n",
      "Train Loss: 0.1875, Train Accuracy: 92.71%\n",
      "Test Loss: 0.2325, Test Accuracy: 92.37%\n",
      "\n"
     ]
    },
    {
     "name": "stderr",
     "output_type": "stream",
     "text": [
      "Epoch 209: 100%|██████████| 938/938 [00:54<00:00, 17.11batch/s, Train Loss=0.188, Train Acc=92.8]\n"
     ]
    },
    {
     "name": "stdout",
     "output_type": "stream",
     "text": [
      "Epoch 209\n",
      "Train Loss: 0.1882, Train Accuracy: 92.77%\n",
      "Test Loss: 0.2265, Test Accuracy: 92.49%\n",
      "\n"
     ]
    },
    {
     "name": "stderr",
     "output_type": "stream",
     "text": [
      "Epoch 210: 100%|██████████| 938/938 [00:55<00:00, 17.05batch/s, Train Loss=0.188, Train Acc=92.7]\n"
     ]
    },
    {
     "name": "stdout",
     "output_type": "stream",
     "text": [
      "Epoch 210\n",
      "Train Loss: 0.1884, Train Accuracy: 92.70%\n",
      "Test Loss: 0.2255, Test Accuracy: 92.64%\n",
      "\n"
     ]
    },
    {
     "name": "stderr",
     "output_type": "stream",
     "text": [
      "Epoch 211: 100%|██████████| 938/938 [00:54<00:00, 17.11batch/s, Train Loss=0.183, Train Acc=92.9]\n"
     ]
    },
    {
     "name": "stdout",
     "output_type": "stream",
     "text": [
      "Epoch 211\n",
      "Train Loss: 0.1835, Train Accuracy: 92.85%\n",
      "Test Loss: 0.2330, Test Accuracy: 92.22%\n",
      "\n"
     ]
    },
    {
     "name": "stderr",
     "output_type": "stream",
     "text": [
      "Epoch 212: 100%|██████████| 938/938 [00:55<00:00, 17.02batch/s, Train Loss=0.188, Train Acc=92.8]\n"
     ]
    },
    {
     "name": "stdout",
     "output_type": "stream",
     "text": [
      "Epoch 212\n",
      "Train Loss: 0.1880, Train Accuracy: 92.84%\n",
      "Test Loss: 0.2295, Test Accuracy: 92.41%\n",
      "\n"
     ]
    },
    {
     "name": "stderr",
     "output_type": "stream",
     "text": [
      "Epoch 213: 100%|██████████| 938/938 [00:54<00:00, 17.12batch/s, Train Loss=0.187, Train Acc=92.9]\n"
     ]
    },
    {
     "name": "stdout",
     "output_type": "stream",
     "text": [
      "Epoch 213\n",
      "Train Loss: 0.1869, Train Accuracy: 92.88%\n",
      "Test Loss: 0.2290, Test Accuracy: 92.61%\n",
      "\n"
     ]
    },
    {
     "name": "stderr",
     "output_type": "stream",
     "text": [
      "Epoch 214: 100%|██████████| 938/938 [00:54<00:00, 17.18batch/s, Train Loss=0.185, Train Acc=92.8]\n"
     ]
    },
    {
     "name": "stdout",
     "output_type": "stream",
     "text": [
      "Epoch 214\n",
      "Train Loss: 0.1855, Train Accuracy: 92.75%\n",
      "Test Loss: 0.2293, Test Accuracy: 92.50%\n",
      "\n"
     ]
    },
    {
     "name": "stderr",
     "output_type": "stream",
     "text": [
      "Epoch 215: 100%|██████████| 938/938 [00:55<00:00, 16.97batch/s, Train Loss=0.188, Train Acc=92.8]\n"
     ]
    },
    {
     "name": "stdout",
     "output_type": "stream",
     "text": [
      "Epoch 215\n",
      "Train Loss: 0.1877, Train Accuracy: 92.80%\n",
      "Test Loss: 0.2337, Test Accuracy: 92.53%\n",
      "\n"
     ]
    },
    {
     "name": "stderr",
     "output_type": "stream",
     "text": [
      "Epoch 216: 100%|██████████| 938/938 [00:54<00:00, 17.20batch/s, Train Loss=0.184, Train Acc=92.9]\n"
     ]
    },
    {
     "name": "stdout",
     "output_type": "stream",
     "text": [
      "Epoch 216\n",
      "Train Loss: 0.1841, Train Accuracy: 92.87%\n",
      "Test Loss: 0.2355, Test Accuracy: 92.10%\n",
      "\n"
     ]
    },
    {
     "name": "stderr",
     "output_type": "stream",
     "text": [
      "Epoch 217: 100%|██████████| 938/938 [00:54<00:00, 17.10batch/s, Train Loss=0.186, Train Acc=92.8]\n"
     ]
    },
    {
     "name": "stdout",
     "output_type": "stream",
     "text": [
      "Epoch 217\n",
      "Train Loss: 0.1860, Train Accuracy: 92.83%\n",
      "Test Loss: 0.2348, Test Accuracy: 92.44%\n",
      "\n"
     ]
    },
    {
     "name": "stderr",
     "output_type": "stream",
     "text": [
      "Epoch 218: 100%|██████████| 938/938 [00:55<00:00, 16.89batch/s, Train Loss=0.186, Train Acc=92.8]\n"
     ]
    },
    {
     "name": "stdout",
     "output_type": "stream",
     "text": [
      "Epoch 218\n",
      "Train Loss: 0.1863, Train Accuracy: 92.84%\n",
      "Test Loss: 0.2375, Test Accuracy: 92.20%\n",
      "\n"
     ]
    },
    {
     "name": "stderr",
     "output_type": "stream",
     "text": [
      "Epoch 219: 100%|██████████| 938/938 [00:54<00:00, 17.13batch/s, Train Loss=0.184, Train Acc=92.8]\n"
     ]
    },
    {
     "name": "stdout",
     "output_type": "stream",
     "text": [
      "Epoch 219\n",
      "Train Loss: 0.1839, Train Accuracy: 92.81%\n",
      "Test Loss: 0.2318, Test Accuracy: 92.30%\n",
      "\n"
     ]
    },
    {
     "name": "stderr",
     "output_type": "stream",
     "text": [
      "Epoch 220: 100%|██████████| 938/938 [00:55<00:00, 17.05batch/s, Train Loss=0.189, Train Acc=92.7]\n"
     ]
    },
    {
     "name": "stdout",
     "output_type": "stream",
     "text": [
      "Epoch 220\n",
      "Train Loss: 0.1887, Train Accuracy: 92.74%\n",
      "Test Loss: 0.2295, Test Accuracy: 92.13%\n",
      "\n"
     ]
    },
    {
     "name": "stderr",
     "output_type": "stream",
     "text": [
      "Epoch 221: 100%|██████████| 938/938 [00:54<00:00, 17.07batch/s, Train Loss=0.184, Train Acc=92.9]\n"
     ]
    },
    {
     "name": "stdout",
     "output_type": "stream",
     "text": [
      "Epoch 221\n",
      "Train Loss: 0.1836, Train Accuracy: 92.92%\n",
      "Test Loss: 0.2359, Test Accuracy: 92.55%\n",
      "\n"
     ]
    },
    {
     "name": "stderr",
     "output_type": "stream",
     "text": [
      "Epoch 222: 100%|██████████| 938/938 [00:55<00:00, 17.00batch/s, Train Loss=0.187, Train Acc=92.8]\n"
     ]
    },
    {
     "name": "stdout",
     "output_type": "stream",
     "text": [
      "Epoch 222\n",
      "Train Loss: 0.1872, Train Accuracy: 92.80%\n",
      "Test Loss: 0.2355, Test Accuracy: 92.47%\n",
      "\n"
     ]
    },
    {
     "name": "stderr",
     "output_type": "stream",
     "text": [
      "Epoch 223: 100%|██████████| 938/938 [00:55<00:00, 17.04batch/s, Train Loss=0.184, Train Acc=92.8]\n"
     ]
    },
    {
     "name": "stdout",
     "output_type": "stream",
     "text": [
      "Epoch 223\n",
      "Train Loss: 0.1835, Train Accuracy: 92.80%\n",
      "Test Loss: 0.2320, Test Accuracy: 92.46%\n",
      "\n"
     ]
    },
    {
     "name": "stderr",
     "output_type": "stream",
     "text": [
      "Epoch 224: 100%|██████████| 938/938 [00:54<00:00, 17.07batch/s, Train Loss=0.185, Train Acc=93]  \n"
     ]
    },
    {
     "name": "stdout",
     "output_type": "stream",
     "text": [
      "Epoch 224\n",
      "Train Loss: 0.1846, Train Accuracy: 93.01%\n",
      "Test Loss: 0.2345, Test Accuracy: 92.20%\n",
      "\n"
     ]
    },
    {
     "name": "stderr",
     "output_type": "stream",
     "text": [
      "Epoch 225: 100%|██████████| 938/938 [00:55<00:00, 17.03batch/s, Train Loss=0.185, Train Acc=92.9]\n"
     ]
    },
    {
     "name": "stdout",
     "output_type": "stream",
     "text": [
      "Epoch 225\n",
      "Train Loss: 0.1850, Train Accuracy: 92.86%\n",
      "Test Loss: 0.2358, Test Accuracy: 92.03%\n",
      "\n"
     ]
    },
    {
     "name": "stderr",
     "output_type": "stream",
     "text": [
      "Epoch 226: 100%|██████████| 938/938 [00:55<00:00, 17.03batch/s, Train Loss=0.186, Train Acc=92.8]\n"
     ]
    },
    {
     "name": "stdout",
     "output_type": "stream",
     "text": [
      "Epoch 226\n",
      "Train Loss: 0.1863, Train Accuracy: 92.77%\n",
      "Test Loss: 0.2369, Test Accuracy: 92.23%\n",
      "\n"
     ]
    },
    {
     "name": "stderr",
     "output_type": "stream",
     "text": [
      "Epoch 227: 100%|██████████| 938/938 [00:55<00:00, 16.93batch/s, Train Loss=0.185, Train Acc=92.9]\n"
     ]
    },
    {
     "name": "stdout",
     "output_type": "stream",
     "text": [
      "Epoch 227\n",
      "Train Loss: 0.1852, Train Accuracy: 92.87%\n",
      "Test Loss: 0.2372, Test Accuracy: 92.49%\n",
      "\n"
     ]
    },
    {
     "name": "stderr",
     "output_type": "stream",
     "text": [
      "Epoch 228: 100%|██████████| 938/938 [00:55<00:00, 17.04batch/s, Train Loss=0.182, Train Acc=92.9]\n"
     ]
    },
    {
     "name": "stdout",
     "output_type": "stream",
     "text": [
      "Epoch 228\n",
      "Train Loss: 0.1824, Train Accuracy: 92.88%\n",
      "Test Loss: 0.2273, Test Accuracy: 92.54%\n",
      "\n"
     ]
    },
    {
     "name": "stderr",
     "output_type": "stream",
     "text": [
      "Epoch 229: 100%|██████████| 938/938 [00:54<00:00, 17.06batch/s, Train Loss=0.183, Train Acc=92.9]\n"
     ]
    },
    {
     "name": "stdout",
     "output_type": "stream",
     "text": [
      "Epoch 229\n",
      "Train Loss: 0.1826, Train Accuracy: 92.93%\n",
      "Test Loss: 0.2286, Test Accuracy: 92.48%\n",
      "\n"
     ]
    },
    {
     "name": "stderr",
     "output_type": "stream",
     "text": [
      "Epoch 230: 100%|██████████| 938/938 [00:54<00:00, 17.09batch/s, Train Loss=0.184, Train Acc=92.8]\n"
     ]
    },
    {
     "name": "stdout",
     "output_type": "stream",
     "text": [
      "Epoch 230\n",
      "Train Loss: 0.1842, Train Accuracy: 92.83%\n",
      "Test Loss: 0.2346, Test Accuracy: 92.16%\n",
      "\n"
     ]
    },
    {
     "name": "stderr",
     "output_type": "stream",
     "text": [
      "Epoch 231: 100%|██████████| 938/938 [00:54<00:00, 17.13batch/s, Train Loss=0.181, Train Acc=93]  \n"
     ]
    },
    {
     "name": "stdout",
     "output_type": "stream",
     "text": [
      "Epoch 231\n",
      "Train Loss: 0.1806, Train Accuracy: 93.04%\n",
      "Test Loss: 0.2345, Test Accuracy: 92.36%\n",
      "\n"
     ]
    },
    {
     "name": "stderr",
     "output_type": "stream",
     "text": [
      "Epoch 232: 100%|██████████| 938/938 [00:54<00:00, 17.15batch/s, Train Loss=0.183, Train Acc=92.9]\n"
     ]
    },
    {
     "name": "stdout",
     "output_type": "stream",
     "text": [
      "Epoch 232\n",
      "Train Loss: 0.1834, Train Accuracy: 92.94%\n",
      "Test Loss: 0.2303, Test Accuracy: 92.58%\n",
      "\n"
     ]
    },
    {
     "name": "stderr",
     "output_type": "stream",
     "text": [
      "Epoch 233: 100%|██████████| 938/938 [00:54<00:00, 17.06batch/s, Train Loss=0.183, Train Acc=92.9]\n"
     ]
    },
    {
     "name": "stdout",
     "output_type": "stream",
     "text": [
      "Epoch 233\n",
      "Train Loss: 0.1833, Train Accuracy: 92.92%\n",
      "Test Loss: 0.2330, Test Accuracy: 92.18%\n",
      "\n"
     ]
    },
    {
     "name": "stderr",
     "output_type": "stream",
     "text": [
      "Epoch 234: 100%|██████████| 938/938 [00:55<00:00, 16.96batch/s, Train Loss=0.184, Train Acc=92.9]\n"
     ]
    },
    {
     "name": "stdout",
     "output_type": "stream",
     "text": [
      "Epoch 234\n",
      "Train Loss: 0.1844, Train Accuracy: 92.85%\n",
      "Test Loss: 0.2328, Test Accuracy: 92.26%\n",
      "\n"
     ]
    },
    {
     "name": "stderr",
     "output_type": "stream",
     "text": [
      "Epoch 235: 100%|██████████| 938/938 [00:54<00:00, 17.14batch/s, Train Loss=0.183, Train Acc=92.9]\n"
     ]
    },
    {
     "name": "stdout",
     "output_type": "stream",
     "text": [
      "Epoch 235\n",
      "Train Loss: 0.1825, Train Accuracy: 92.93%\n",
      "Test Loss: 0.2298, Test Accuracy: 92.49%\n",
      "\n"
     ]
    },
    {
     "name": "stderr",
     "output_type": "stream",
     "text": [
      "Epoch 236: 100%|██████████| 938/938 [00:55<00:00, 16.96batch/s, Train Loss=0.182, Train Acc=92.9]\n"
     ]
    },
    {
     "name": "stdout",
     "output_type": "stream",
     "text": [
      "Epoch 236\n",
      "Train Loss: 0.1824, Train Accuracy: 92.90%\n",
      "Test Loss: 0.2352, Test Accuracy: 92.31%\n",
      "\n"
     ]
    },
    {
     "name": "stderr",
     "output_type": "stream",
     "text": [
      "Epoch 237: 100%|██████████| 938/938 [00:55<00:00, 16.98batch/s, Train Loss=0.181, Train Acc=93.1]\n"
     ]
    },
    {
     "name": "stdout",
     "output_type": "stream",
     "text": [
      "Epoch 237\n",
      "Train Loss: 0.1813, Train Accuracy: 93.06%\n",
      "Test Loss: 0.2317, Test Accuracy: 92.55%\n",
      "\n"
     ]
    },
    {
     "name": "stderr",
     "output_type": "stream",
     "text": [
      "Epoch 238: 100%|██████████| 938/938 [00:54<00:00, 17.10batch/s, Train Loss=0.181, Train Acc=93]  \n"
     ]
    },
    {
     "name": "stdout",
     "output_type": "stream",
     "text": [
      "Epoch 238\n",
      "Train Loss: 0.1809, Train Accuracy: 92.98%\n",
      "Test Loss: 0.2346, Test Accuracy: 92.42%\n",
      "\n"
     ]
    },
    {
     "name": "stderr",
     "output_type": "stream",
     "text": [
      "Epoch 239: 100%|██████████| 938/938 [00:55<00:00, 17.01batch/s, Train Loss=0.179, Train Acc=93.2]\n"
     ]
    },
    {
     "name": "stdout",
     "output_type": "stream",
     "text": [
      "Epoch 239\n",
      "Train Loss: 0.1793, Train Accuracy: 93.19%\n",
      "Test Loss: 0.2333, Test Accuracy: 92.29%\n",
      "\n"
     ]
    },
    {
     "name": "stderr",
     "output_type": "stream",
     "text": [
      "Epoch 240: 100%|██████████| 938/938 [00:54<00:00, 17.14batch/s, Train Loss=0.182, Train Acc=93.1]\n"
     ]
    },
    {
     "name": "stdout",
     "output_type": "stream",
     "text": [
      "Epoch 240\n",
      "Train Loss: 0.1817, Train Accuracy: 93.13%\n",
      "Test Loss: 0.2324, Test Accuracy: 92.26%\n",
      "\n"
     ]
    },
    {
     "name": "stderr",
     "output_type": "stream",
     "text": [
      "Epoch 241: 100%|██████████| 938/938 [00:54<00:00, 17.06batch/s, Train Loss=0.18, Train Acc=93]   \n"
     ]
    },
    {
     "name": "stdout",
     "output_type": "stream",
     "text": [
      "Epoch 241\n",
      "Train Loss: 0.1798, Train Accuracy: 93.04%\n",
      "Test Loss: 0.2397, Test Accuracy: 92.25%\n",
      "\n"
     ]
    },
    {
     "name": "stderr",
     "output_type": "stream",
     "text": [
      "Epoch 242: 100%|██████████| 938/938 [00:54<00:00, 17.07batch/s, Train Loss=0.179, Train Acc=93.2]\n"
     ]
    },
    {
     "name": "stdout",
     "output_type": "stream",
     "text": [
      "Epoch 242\n",
      "Train Loss: 0.1792, Train Accuracy: 93.17%\n",
      "Test Loss: 0.2359, Test Accuracy: 92.28%\n",
      "\n"
     ]
    },
    {
     "name": "stderr",
     "output_type": "stream",
     "text": [
      "Epoch 243: 100%|██████████| 938/938 [00:55<00:00, 16.97batch/s, Train Loss=0.18, Train Acc=93.1] \n"
     ]
    },
    {
     "name": "stdout",
     "output_type": "stream",
     "text": [
      "Epoch 243\n",
      "Train Loss: 0.1802, Train Accuracy: 93.05%\n",
      "Test Loss: 0.2343, Test Accuracy: 92.11%\n",
      "\n"
     ]
    },
    {
     "name": "stderr",
     "output_type": "stream",
     "text": [
      "Epoch 244: 100%|██████████| 938/938 [00:54<00:00, 17.06batch/s, Train Loss=0.18, Train Acc=93]   \n"
     ]
    },
    {
     "name": "stdout",
     "output_type": "stream",
     "text": [
      "Epoch 244\n",
      "Train Loss: 0.1805, Train Accuracy: 92.95%\n",
      "Test Loss: 0.2340, Test Accuracy: 92.31%\n",
      "\n"
     ]
    },
    {
     "name": "stderr",
     "output_type": "stream",
     "text": [
      "Epoch 245: 100%|██████████| 938/938 [00:54<00:00, 17.18batch/s, Train Loss=0.182, Train Acc=93]  \n"
     ]
    },
    {
     "name": "stdout",
     "output_type": "stream",
     "text": [
      "Epoch 245\n",
      "Train Loss: 0.1821, Train Accuracy: 92.99%\n",
      "Test Loss: 0.2334, Test Accuracy: 92.40%\n",
      "\n"
     ]
    },
    {
     "name": "stderr",
     "output_type": "stream",
     "text": [
      "Epoch 246: 100%|██████████| 938/938 [00:54<00:00, 17.12batch/s, Train Loss=0.181, Train Acc=93.1]\n"
     ]
    },
    {
     "name": "stdout",
     "output_type": "stream",
     "text": [
      "Epoch 246\n",
      "Train Loss: 0.1809, Train Accuracy: 93.05%\n",
      "Test Loss: 0.2346, Test Accuracy: 92.62%\n",
      "\n"
     ]
    },
    {
     "name": "stderr",
     "output_type": "stream",
     "text": [
      "Epoch 247: 100%|██████████| 938/938 [00:54<00:00, 17.06batch/s, Train Loss=0.18, Train Acc=93.2] \n"
     ]
    },
    {
     "name": "stdout",
     "output_type": "stream",
     "text": [
      "Epoch 247\n",
      "Train Loss: 0.1797, Train Accuracy: 93.17%\n",
      "Test Loss: 0.2274, Test Accuracy: 92.40%\n",
      "\n"
     ]
    },
    {
     "name": "stderr",
     "output_type": "stream",
     "text": [
      "Epoch 248: 100%|██████████| 938/938 [00:54<00:00, 17.12batch/s, Train Loss=0.18, Train Acc=93.1] \n"
     ]
    },
    {
     "name": "stdout",
     "output_type": "stream",
     "text": [
      "Epoch 248\n",
      "Train Loss: 0.1805, Train Accuracy: 93.11%\n",
      "Test Loss: 0.2319, Test Accuracy: 92.32%\n",
      "\n"
     ]
    },
    {
     "name": "stderr",
     "output_type": "stream",
     "text": [
      "Epoch 249: 100%|██████████| 938/938 [00:54<00:00, 17.17batch/s, Train Loss=0.178, Train Acc=93.2]\n"
     ]
    },
    {
     "name": "stdout",
     "output_type": "stream",
     "text": [
      "Epoch 249\n",
      "Train Loss: 0.1785, Train Accuracy: 93.16%\n",
      "Test Loss: 0.2358, Test Accuracy: 92.22%\n",
      "\n"
     ]
    },
    {
     "name": "stderr",
     "output_type": "stream",
     "text": [
      "Epoch 250: 100%|██████████| 938/938 [00:54<00:00, 17.21batch/s, Train Loss=0.179, Train Acc=93]  \n"
     ]
    },
    {
     "name": "stdout",
     "output_type": "stream",
     "text": [
      "Epoch 250\n",
      "Train Loss: 0.1792, Train Accuracy: 92.99%\n",
      "Test Loss: 0.2397, Test Accuracy: 92.12%\n",
      "\n"
     ]
    },
    {
     "name": "stderr",
     "output_type": "stream",
     "text": [
      "Epoch 251: 100%|██████████| 938/938 [00:54<00:00, 17.19batch/s, Train Loss=0.18, Train Acc=93]   \n"
     ]
    },
    {
     "name": "stdout",
     "output_type": "stream",
     "text": [
      "Epoch 251\n",
      "Train Loss: 0.1798, Train Accuracy: 93.02%\n",
      "Test Loss: 0.2409, Test Accuracy: 92.25%\n",
      "\n"
     ]
    },
    {
     "name": "stderr",
     "output_type": "stream",
     "text": [
      "Epoch 252: 100%|██████████| 938/938 [00:54<00:00, 17.17batch/s, Train Loss=0.181, Train Acc=93]  \n"
     ]
    },
    {
     "name": "stdout",
     "output_type": "stream",
     "text": [
      "Epoch 252\n",
      "Train Loss: 0.1809, Train Accuracy: 93.05%\n",
      "Test Loss: 0.2327, Test Accuracy: 92.29%\n",
      "\n"
     ]
    },
    {
     "name": "stderr",
     "output_type": "stream",
     "text": [
      "Epoch 253: 100%|██████████| 938/938 [00:54<00:00, 17.17batch/s, Train Loss=0.18, Train Acc=93.1] \n"
     ]
    },
    {
     "name": "stdout",
     "output_type": "stream",
     "text": [
      "Epoch 253\n",
      "Train Loss: 0.1799, Train Accuracy: 93.09%\n",
      "Test Loss: 0.2304, Test Accuracy: 92.35%\n",
      "\n"
     ]
    },
    {
     "name": "stderr",
     "output_type": "stream",
     "text": [
      "Epoch 254: 100%|██████████| 938/938 [00:54<00:00, 17.17batch/s, Train Loss=0.18, Train Acc=93.1] \n"
     ]
    },
    {
     "name": "stdout",
     "output_type": "stream",
     "text": [
      "Epoch 254\n",
      "Train Loss: 0.1800, Train Accuracy: 93.08%\n",
      "Test Loss: 0.2301, Test Accuracy: 92.39%\n",
      "\n"
     ]
    },
    {
     "name": "stderr",
     "output_type": "stream",
     "text": [
      "Epoch 255: 100%|██████████| 938/938 [00:54<00:00, 17.14batch/s, Train Loss=0.178, Train Acc=93.1]\n"
     ]
    },
    {
     "name": "stdout",
     "output_type": "stream",
     "text": [
      "Epoch 255\n",
      "Train Loss: 0.1775, Train Accuracy: 93.09%\n",
      "Test Loss: 0.2433, Test Accuracy: 92.02%\n",
      "\n"
     ]
    },
    {
     "name": "stderr",
     "output_type": "stream",
     "text": [
      "Epoch 256: 100%|██████████| 938/938 [00:54<00:00, 17.13batch/s, Train Loss=0.179, Train Acc=93]  \n"
     ]
    },
    {
     "name": "stdout",
     "output_type": "stream",
     "text": [
      "Epoch 256\n",
      "Train Loss: 0.1786, Train Accuracy: 93.04%\n",
      "Test Loss: 0.2341, Test Accuracy: 92.42%\n",
      "\n"
     ]
    },
    {
     "name": "stderr",
     "output_type": "stream",
     "text": [
      "Epoch 257: 100%|██████████| 938/938 [00:54<00:00, 17.29batch/s, Train Loss=0.177, Train Acc=93.3]\n"
     ]
    },
    {
     "name": "stdout",
     "output_type": "stream",
     "text": [
      "Epoch 257\n",
      "Train Loss: 0.1766, Train Accuracy: 93.25%\n",
      "Test Loss: 0.2385, Test Accuracy: 92.01%\n",
      "\n"
     ]
    },
    {
     "name": "stderr",
     "output_type": "stream",
     "text": [
      "Epoch 258: 100%|██████████| 938/938 [00:54<00:00, 17.06batch/s, Train Loss=0.178, Train Acc=93]  \n"
     ]
    },
    {
     "name": "stdout",
     "output_type": "stream",
     "text": [
      "Epoch 258\n",
      "Train Loss: 0.1778, Train Accuracy: 93.05%\n",
      "Test Loss: 0.2338, Test Accuracy: 92.17%\n",
      "\n"
     ]
    },
    {
     "name": "stderr",
     "output_type": "stream",
     "text": [
      "Epoch 259: 100%|██████████| 938/938 [00:54<00:00, 17.06batch/s, Train Loss=0.177, Train Acc=93.2]\n"
     ]
    },
    {
     "name": "stdout",
     "output_type": "stream",
     "text": [
      "Epoch 259\n",
      "Train Loss: 0.1768, Train Accuracy: 93.23%\n",
      "Test Loss: 0.2391, Test Accuracy: 92.22%\n",
      "\n"
     ]
    },
    {
     "name": "stderr",
     "output_type": "stream",
     "text": [
      "Epoch 260: 100%|██████████| 938/938 [00:54<00:00, 17.10batch/s, Train Loss=0.181, Train Acc=92.9]\n"
     ]
    },
    {
     "name": "stdout",
     "output_type": "stream",
     "text": [
      "Epoch 260\n",
      "Train Loss: 0.1809, Train Accuracy: 92.94%\n",
      "Test Loss: 0.2390, Test Accuracy: 92.28%\n",
      "\n"
     ]
    },
    {
     "name": "stderr",
     "output_type": "stream",
     "text": [
      "Epoch 261: 100%|██████████| 938/938 [00:54<00:00, 17.20batch/s, Train Loss=0.177, Train Acc=93.1]\n"
     ]
    },
    {
     "name": "stdout",
     "output_type": "stream",
     "text": [
      "Epoch 261\n",
      "Train Loss: 0.1771, Train Accuracy: 93.12%\n",
      "Test Loss: 0.2464, Test Accuracy: 92.14%\n",
      "\n"
     ]
    },
    {
     "name": "stderr",
     "output_type": "stream",
     "text": [
      "Epoch 262: 100%|██████████| 938/938 [00:54<00:00, 17.11batch/s, Train Loss=0.178, Train Acc=93.2]\n"
     ]
    },
    {
     "name": "stdout",
     "output_type": "stream",
     "text": [
      "Epoch 262\n",
      "Train Loss: 0.1784, Train Accuracy: 93.15%\n",
      "Test Loss: 0.2370, Test Accuracy: 92.43%\n",
      "\n"
     ]
    },
    {
     "name": "stderr",
     "output_type": "stream",
     "text": [
      "Epoch 263: 100%|██████████| 938/938 [00:55<00:00, 17.05batch/s, Train Loss=0.178, Train Acc=93.2]\n"
     ]
    },
    {
     "name": "stdout",
     "output_type": "stream",
     "text": [
      "Epoch 263\n",
      "Train Loss: 0.1781, Train Accuracy: 93.16%\n",
      "Test Loss: 0.2423, Test Accuracy: 92.16%\n",
      "\n"
     ]
    },
    {
     "name": "stderr",
     "output_type": "stream",
     "text": [
      "Epoch 264: 100%|██████████| 938/938 [00:55<00:00, 17.05batch/s, Train Loss=0.177, Train Acc=93.2]\n"
     ]
    },
    {
     "name": "stdout",
     "output_type": "stream",
     "text": [
      "Epoch 264\n",
      "Train Loss: 0.1766, Train Accuracy: 93.17%\n",
      "Test Loss: 0.2414, Test Accuracy: 92.14%\n",
      "\n"
     ]
    },
    {
     "name": "stderr",
     "output_type": "stream",
     "text": [
      "Epoch 265: 100%|██████████| 938/938 [00:54<00:00, 17.12batch/s, Train Loss=0.178, Train Acc=93.1]\n"
     ]
    },
    {
     "name": "stdout",
     "output_type": "stream",
     "text": [
      "Epoch 265\n",
      "Train Loss: 0.1776, Train Accuracy: 93.09%\n",
      "Test Loss: 0.2343, Test Accuracy: 92.45%\n",
      "\n"
     ]
    },
    {
     "name": "stderr",
     "output_type": "stream",
     "text": [
      "Epoch 266: 100%|██████████| 938/938 [00:54<00:00, 17.13batch/s, Train Loss=0.178, Train Acc=93.1]\n"
     ]
    },
    {
     "name": "stdout",
     "output_type": "stream",
     "text": [
      "Epoch 266\n",
      "Train Loss: 0.1775, Train Accuracy: 93.09%\n",
      "Test Loss: 0.2449, Test Accuracy: 92.02%\n",
      "\n"
     ]
    },
    {
     "name": "stderr",
     "output_type": "stream",
     "text": [
      "Epoch 267: 100%|██████████| 938/938 [00:54<00:00, 17.12batch/s, Train Loss=0.179, Train Acc=93.1]\n"
     ]
    },
    {
     "name": "stdout",
     "output_type": "stream",
     "text": [
      "Epoch 267\n",
      "Train Loss: 0.1791, Train Accuracy: 93.14%\n",
      "Test Loss: 0.2448, Test Accuracy: 92.05%\n",
      "\n"
     ]
    },
    {
     "name": "stderr",
     "output_type": "stream",
     "text": [
      "Epoch 268: 100%|██████████| 938/938 [00:54<00:00, 17.16batch/s, Train Loss=0.177, Train Acc=93.1]\n"
     ]
    },
    {
     "name": "stdout",
     "output_type": "stream",
     "text": [
      "Epoch 268\n",
      "Train Loss: 0.1774, Train Accuracy: 93.13%\n",
      "Test Loss: 0.2422, Test Accuracy: 92.04%\n",
      "\n"
     ]
    },
    {
     "name": "stderr",
     "output_type": "stream",
     "text": [
      "Epoch 269: 100%|██████████| 938/938 [00:55<00:00, 17.04batch/s, Train Loss=0.179, Train Acc=93.1]\n"
     ]
    },
    {
     "name": "stdout",
     "output_type": "stream",
     "text": [
      "Epoch 269\n",
      "Train Loss: 0.1793, Train Accuracy: 93.10%\n",
      "Test Loss: 0.2409, Test Accuracy: 92.25%\n",
      "\n"
     ]
    },
    {
     "name": "stderr",
     "output_type": "stream",
     "text": [
      "Epoch 270: 100%|██████████| 938/938 [00:54<00:00, 17.18batch/s, Train Loss=0.175, Train Acc=93.2]\n"
     ]
    },
    {
     "name": "stdout",
     "output_type": "stream",
     "text": [
      "Epoch 270\n",
      "Train Loss: 0.1751, Train Accuracy: 93.24%\n",
      "Test Loss: 0.2467, Test Accuracy: 92.27%\n",
      "\n"
     ]
    },
    {
     "name": "stderr",
     "output_type": "stream",
     "text": [
      "Epoch 271: 100%|██████████| 938/938 [00:54<00:00, 17.13batch/s, Train Loss=0.175, Train Acc=93.2]\n"
     ]
    },
    {
     "name": "stdout",
     "output_type": "stream",
     "text": [
      "Epoch 271\n",
      "Train Loss: 0.1747, Train Accuracy: 93.19%\n",
      "Test Loss: 0.2425, Test Accuracy: 92.23%\n",
      "\n"
     ]
    },
    {
     "name": "stderr",
     "output_type": "stream",
     "text": [
      "Epoch 272: 100%|██████████| 938/938 [00:54<00:00, 17.22batch/s, Train Loss=0.174, Train Acc=93.3]\n"
     ]
    },
    {
     "name": "stdout",
     "output_type": "stream",
     "text": [
      "Epoch 272\n",
      "Train Loss: 0.1736, Train Accuracy: 93.31%\n",
      "Test Loss: 0.2328, Test Accuracy: 92.42%\n",
      "\n"
     ]
    },
    {
     "name": "stderr",
     "output_type": "stream",
     "text": [
      "Epoch 273: 100%|██████████| 938/938 [00:54<00:00, 17.28batch/s, Train Loss=0.176, Train Acc=93.3]\n"
     ]
    },
    {
     "name": "stdout",
     "output_type": "stream",
     "text": [
      "Epoch 273\n",
      "Train Loss: 0.1764, Train Accuracy: 93.31%\n",
      "Test Loss: 0.2392, Test Accuracy: 92.10%\n",
      "\n"
     ]
    },
    {
     "name": "stderr",
     "output_type": "stream",
     "text": [
      "Epoch 274: 100%|██████████| 938/938 [00:54<00:00, 17.23batch/s, Train Loss=0.176, Train Acc=93.3]\n"
     ]
    },
    {
     "name": "stdout",
     "output_type": "stream",
     "text": [
      "Epoch 274\n",
      "Train Loss: 0.1758, Train Accuracy: 93.31%\n",
      "Test Loss: 0.2395, Test Accuracy: 92.31%\n",
      "\n"
     ]
    },
    {
     "name": "stderr",
     "output_type": "stream",
     "text": [
      "Epoch 275: 100%|██████████| 938/938 [00:54<00:00, 17.15batch/s, Train Loss=0.175, Train Acc=93.2]\n"
     ]
    },
    {
     "name": "stdout",
     "output_type": "stream",
     "text": [
      "Epoch 275\n",
      "Train Loss: 0.1747, Train Accuracy: 93.24%\n",
      "Test Loss: 0.2468, Test Accuracy: 91.99%\n",
      "\n"
     ]
    },
    {
     "name": "stderr",
     "output_type": "stream",
     "text": [
      "Epoch 276: 100%|██████████| 938/938 [00:54<00:00, 17.23batch/s, Train Loss=0.174, Train Acc=93.3]\n"
     ]
    },
    {
     "name": "stdout",
     "output_type": "stream",
     "text": [
      "Epoch 276\n",
      "Train Loss: 0.1738, Train Accuracy: 93.26%\n",
      "Test Loss: 0.2366, Test Accuracy: 92.55%\n",
      "\n"
     ]
    },
    {
     "name": "stderr",
     "output_type": "stream",
     "text": [
      "Epoch 277: 100%|██████████| 938/938 [00:54<00:00, 17.17batch/s, Train Loss=0.178, Train Acc=93.2]\n"
     ]
    },
    {
     "name": "stdout",
     "output_type": "stream",
     "text": [
      "Epoch 277\n",
      "Train Loss: 0.1776, Train Accuracy: 93.17%\n",
      "Test Loss: 0.2347, Test Accuracy: 92.38%\n",
      "\n"
     ]
    },
    {
     "name": "stderr",
     "output_type": "stream",
     "text": [
      "Epoch 278: 100%|██████████| 938/938 [00:54<00:00, 17.12batch/s, Train Loss=0.172, Train Acc=93.3]\n"
     ]
    },
    {
     "name": "stdout",
     "output_type": "stream",
     "text": [
      "Epoch 278\n",
      "Train Loss: 0.1725, Train Accuracy: 93.27%\n",
      "Test Loss: 0.2375, Test Accuracy: 92.38%\n",
      "\n"
     ]
    },
    {
     "name": "stderr",
     "output_type": "stream",
     "text": [
      "Epoch 279: 100%|██████████| 938/938 [00:54<00:00, 17.17batch/s, Train Loss=0.174, Train Acc=93.3]\n"
     ]
    },
    {
     "name": "stdout",
     "output_type": "stream",
     "text": [
      "Epoch 279\n",
      "Train Loss: 0.1739, Train Accuracy: 93.35%\n",
      "Test Loss: 0.2424, Test Accuracy: 92.16%\n",
      "\n"
     ]
    },
    {
     "name": "stderr",
     "output_type": "stream",
     "text": [
      "Epoch 280: 100%|██████████| 938/938 [00:54<00:00, 17.26batch/s, Train Loss=0.174, Train Acc=93.3]\n"
     ]
    },
    {
     "name": "stdout",
     "output_type": "stream",
     "text": [
      "Epoch 280\n",
      "Train Loss: 0.1742, Train Accuracy: 93.34%\n",
      "Test Loss: 0.2315, Test Accuracy: 92.62%\n",
      "\n"
     ]
    },
    {
     "name": "stderr",
     "output_type": "stream",
     "text": [
      "Epoch 281: 100%|██████████| 938/938 [00:54<00:00, 17.19batch/s, Train Loss=0.175, Train Acc=93.3]\n"
     ]
    },
    {
     "name": "stdout",
     "output_type": "stream",
     "text": [
      "Epoch 281\n",
      "Train Loss: 0.1752, Train Accuracy: 93.30%\n",
      "Test Loss: 0.2354, Test Accuracy: 92.54%\n",
      "\n"
     ]
    },
    {
     "name": "stderr",
     "output_type": "stream",
     "text": [
      "Epoch 282: 100%|██████████| 938/938 [00:54<00:00, 17.21batch/s, Train Loss=0.174, Train Acc=93.2]\n"
     ]
    },
    {
     "name": "stdout",
     "output_type": "stream",
     "text": [
      "Epoch 282\n",
      "Train Loss: 0.1735, Train Accuracy: 93.16%\n",
      "Test Loss: 0.2428, Test Accuracy: 92.27%\n",
      "\n"
     ]
    },
    {
     "name": "stderr",
     "output_type": "stream",
     "text": [
      "Epoch 283: 100%|██████████| 938/938 [00:55<00:00, 17.05batch/s, Train Loss=0.177, Train Acc=93.2]\n"
     ]
    },
    {
     "name": "stdout",
     "output_type": "stream",
     "text": [
      "Epoch 283\n",
      "Train Loss: 0.1765, Train Accuracy: 93.20%\n",
      "Test Loss: 0.2346, Test Accuracy: 92.47%\n",
      "\n"
     ]
    },
    {
     "name": "stderr",
     "output_type": "stream",
     "text": [
      "Epoch 284: 100%|██████████| 938/938 [00:55<00:00, 17.05batch/s, Train Loss=0.174, Train Acc=93.2]\n"
     ]
    },
    {
     "name": "stdout",
     "output_type": "stream",
     "text": [
      "Epoch 284\n",
      "Train Loss: 0.1741, Train Accuracy: 93.22%\n",
      "Test Loss: 0.2367, Test Accuracy: 92.29%\n",
      "\n"
     ]
    },
    {
     "name": "stderr",
     "output_type": "stream",
     "text": [
      "Epoch 285: 100%|██████████| 938/938 [00:54<00:00, 17.18batch/s, Train Loss=0.172, Train Acc=93.3]\n"
     ]
    },
    {
     "name": "stdout",
     "output_type": "stream",
     "text": [
      "Epoch 285\n",
      "Train Loss: 0.1718, Train Accuracy: 93.30%\n",
      "Test Loss: 0.2461, Test Accuracy: 92.31%\n",
      "\n"
     ]
    },
    {
     "name": "stderr",
     "output_type": "stream",
     "text": [
      "Epoch 286: 100%|██████████| 938/938 [00:54<00:00, 17.18batch/s, Train Loss=0.174, Train Acc=93.2]\n"
     ]
    },
    {
     "name": "stdout",
     "output_type": "stream",
     "text": [
      "Epoch 286\n",
      "Train Loss: 0.1735, Train Accuracy: 93.25%\n",
      "Test Loss: 0.2376, Test Accuracy: 92.57%\n",
      "\n"
     ]
    },
    {
     "name": "stderr",
     "output_type": "stream",
     "text": [
      "Epoch 287: 100%|██████████| 938/938 [00:54<00:00, 17.15batch/s, Train Loss=0.174, Train Acc=93.2]\n"
     ]
    },
    {
     "name": "stdout",
     "output_type": "stream",
     "text": [
      "Epoch 287\n",
      "Train Loss: 0.1737, Train Accuracy: 93.22%\n",
      "Test Loss: 0.2387, Test Accuracy: 92.38%\n",
      "\n"
     ]
    },
    {
     "name": "stderr",
     "output_type": "stream",
     "text": [
      "Epoch 288: 100%|██████████| 938/938 [00:54<00:00, 17.19batch/s, Train Loss=0.172, Train Acc=93.3]\n"
     ]
    },
    {
     "name": "stdout",
     "output_type": "stream",
     "text": [
      "Epoch 288\n",
      "Train Loss: 0.1724, Train Accuracy: 93.33%\n",
      "Test Loss: 0.2443, Test Accuracy: 92.21%\n",
      "\n"
     ]
    },
    {
     "name": "stderr",
     "output_type": "stream",
     "text": [
      "Epoch 289: 100%|██████████| 938/938 [00:54<00:00, 17.08batch/s, Train Loss=0.171, Train Acc=93.3]\n"
     ]
    },
    {
     "name": "stdout",
     "output_type": "stream",
     "text": [
      "Epoch 289\n",
      "Train Loss: 0.1714, Train Accuracy: 93.33%\n",
      "Test Loss: 0.2409, Test Accuracy: 92.44%\n",
      "\n"
     ]
    },
    {
     "name": "stderr",
     "output_type": "stream",
     "text": [
      "Epoch 290: 100%|██████████| 938/938 [00:54<00:00, 17.23batch/s, Train Loss=0.172, Train Acc=93.4]\n"
     ]
    },
    {
     "name": "stdout",
     "output_type": "stream",
     "text": [
      "Epoch 290\n",
      "Train Loss: 0.1720, Train Accuracy: 93.39%\n",
      "Test Loss: 0.2434, Test Accuracy: 92.36%\n",
      "\n"
     ]
    },
    {
     "name": "stderr",
     "output_type": "stream",
     "text": [
      "Epoch 291: 100%|██████████| 938/938 [00:54<00:00, 17.17batch/s, Train Loss=0.173, Train Acc=93.4]\n"
     ]
    },
    {
     "name": "stdout",
     "output_type": "stream",
     "text": [
      "Epoch 291\n",
      "Train Loss: 0.1726, Train Accuracy: 93.36%\n",
      "Test Loss: 0.2460, Test Accuracy: 92.07%\n",
      "\n"
     ]
    },
    {
     "name": "stderr",
     "output_type": "stream",
     "text": [
      "Epoch 292: 100%|██████████| 938/938 [00:55<00:00, 17.00batch/s, Train Loss=0.173, Train Acc=93.3]\n"
     ]
    },
    {
     "name": "stdout",
     "output_type": "stream",
     "text": [
      "Epoch 292\n",
      "Train Loss: 0.1730, Train Accuracy: 93.31%\n",
      "Test Loss: 0.2475, Test Accuracy: 92.21%\n",
      "\n"
     ]
    },
    {
     "name": "stderr",
     "output_type": "stream",
     "text": [
      "Epoch 293: 100%|██████████| 938/938 [00:54<00:00, 17.18batch/s, Train Loss=0.171, Train Acc=93.3]\n"
     ]
    },
    {
     "name": "stdout",
     "output_type": "stream",
     "text": [
      "Epoch 293\n",
      "Train Loss: 0.1706, Train Accuracy: 93.32%\n",
      "Test Loss: 0.2419, Test Accuracy: 92.52%\n",
      "\n"
     ]
    },
    {
     "name": "stderr",
     "output_type": "stream",
     "text": [
      "Epoch 294: 100%|██████████| 938/938 [00:54<00:00, 17.14batch/s, Train Loss=0.169, Train Acc=93.4]\n"
     ]
    },
    {
     "name": "stdout",
     "output_type": "stream",
     "text": [
      "Epoch 294\n",
      "Train Loss: 0.1687, Train Accuracy: 93.39%\n",
      "Test Loss: 0.2462, Test Accuracy: 92.29%\n",
      "\n"
     ]
    },
    {
     "name": "stderr",
     "output_type": "stream",
     "text": [
      "Epoch 295: 100%|██████████| 938/938 [00:54<00:00, 17.07batch/s, Train Loss=0.173, Train Acc=93.4]\n"
     ]
    },
    {
     "name": "stdout",
     "output_type": "stream",
     "text": [
      "Epoch 295\n",
      "Train Loss: 0.1731, Train Accuracy: 93.38%\n",
      "Test Loss: 0.2434, Test Accuracy: 92.39%\n",
      "\n"
     ]
    },
    {
     "name": "stderr",
     "output_type": "stream",
     "text": [
      "Epoch 296: 100%|██████████| 938/938 [00:55<00:00, 17.00batch/s, Train Loss=0.17, Train Acc=93.4] \n"
     ]
    },
    {
     "name": "stdout",
     "output_type": "stream",
     "text": [
      "Epoch 296\n",
      "Train Loss: 0.1700, Train Accuracy: 93.43%\n",
      "Test Loss: 0.2444, Test Accuracy: 92.23%\n",
      "\n"
     ]
    },
    {
     "name": "stderr",
     "output_type": "stream",
     "text": [
      "Epoch 297: 100%|██████████| 938/938 [00:54<00:00, 17.18batch/s, Train Loss=0.171, Train Acc=93.4]\n"
     ]
    },
    {
     "name": "stdout",
     "output_type": "stream",
     "text": [
      "Epoch 297\n",
      "Train Loss: 0.1712, Train Accuracy: 93.35%\n",
      "Test Loss: 0.2404, Test Accuracy: 92.31%\n",
      "\n"
     ]
    },
    {
     "name": "stderr",
     "output_type": "stream",
     "text": [
      "Epoch 298: 100%|██████████| 938/938 [00:54<00:00, 17.19batch/s, Train Loss=0.17, Train Acc=93.4] \n"
     ]
    },
    {
     "name": "stdout",
     "output_type": "stream",
     "text": [
      "Epoch 298\n",
      "Train Loss: 0.1699, Train Accuracy: 93.40%\n",
      "Test Loss: 0.2387, Test Accuracy: 92.52%\n",
      "\n"
     ]
    },
    {
     "name": "stderr",
     "output_type": "stream",
     "text": [
      "Epoch 299: 100%|██████████| 938/938 [00:54<00:00, 17.19batch/s, Train Loss=0.172, Train Acc=93.3]\n"
     ]
    },
    {
     "name": "stdout",
     "output_type": "stream",
     "text": [
      "Epoch 299\n",
      "Train Loss: 0.1724, Train Accuracy: 93.30%\n",
      "Test Loss: 0.2516, Test Accuracy: 92.21%\n",
      "\n"
     ]
    },
    {
     "name": "stderr",
     "output_type": "stream",
     "text": [
      "Epoch 300: 100%|██████████| 938/938 [00:54<00:00, 17.14batch/s, Train Loss=0.17, Train Acc=93.4] \n"
     ]
    },
    {
     "name": "stdout",
     "output_type": "stream",
     "text": [
      "Epoch 300\n",
      "Train Loss: 0.1698, Train Accuracy: 93.40%\n",
      "Test Loss: 0.2421, Test Accuracy: 92.27%\n",
      "\n"
     ]
    },
    {
     "name": "stderr",
     "output_type": "stream",
     "text": [
      "Epoch 301: 100%|██████████| 938/938 [00:54<00:00, 17.13batch/s, Train Loss=0.172, Train Acc=93.5]\n"
     ]
    },
    {
     "name": "stdout",
     "output_type": "stream",
     "text": [
      "Epoch 301\n",
      "Train Loss: 0.1724, Train Accuracy: 93.45%\n",
      "Test Loss: 0.2474, Test Accuracy: 92.22%\n",
      "\n"
     ]
    },
    {
     "name": "stderr",
     "output_type": "stream",
     "text": [
      "Epoch 302: 100%|██████████| 938/938 [00:54<00:00, 17.14batch/s, Train Loss=0.173, Train Acc=93.2]\n"
     ]
    },
    {
     "name": "stdout",
     "output_type": "stream",
     "text": [
      "Epoch 302\n",
      "Train Loss: 0.1732, Train Accuracy: 93.23%\n",
      "Test Loss: 0.2384, Test Accuracy: 92.29%\n",
      "\n"
     ]
    },
    {
     "name": "stderr",
     "output_type": "stream",
     "text": [
      "Epoch 303: 100%|██████████| 938/938 [00:54<00:00, 17.14batch/s, Train Loss=0.168, Train Acc=93.5]\n"
     ]
    },
    {
     "name": "stdout",
     "output_type": "stream",
     "text": [
      "Epoch 303\n",
      "Train Loss: 0.1678, Train Accuracy: 93.49%\n",
      "Test Loss: 0.2463, Test Accuracy: 92.12%\n",
      "\n"
     ]
    },
    {
     "name": "stderr",
     "output_type": "stream",
     "text": [
      "Epoch 304: 100%|██████████| 938/938 [00:54<00:00, 17.07batch/s, Train Loss=0.168, Train Acc=93.6]\n"
     ]
    },
    {
     "name": "stdout",
     "output_type": "stream",
     "text": [
      "Epoch 304\n",
      "Train Loss: 0.1684, Train Accuracy: 93.56%\n",
      "Test Loss: 0.2421, Test Accuracy: 92.29%\n",
      "\n"
     ]
    },
    {
     "name": "stderr",
     "output_type": "stream",
     "text": [
      "Epoch 305: 100%|██████████| 938/938 [00:54<00:00, 17.06batch/s, Train Loss=0.171, Train Acc=93.4]\n"
     ]
    },
    {
     "name": "stdout",
     "output_type": "stream",
     "text": [
      "Epoch 305\n",
      "Train Loss: 0.1705, Train Accuracy: 93.44%\n",
      "Test Loss: 0.2409, Test Accuracy: 92.43%\n",
      "\n"
     ]
    },
    {
     "name": "stderr",
     "output_type": "stream",
     "text": [
      "Epoch 306: 100%|██████████| 938/938 [00:54<00:00, 17.12batch/s, Train Loss=0.168, Train Acc=93.4]\n"
     ]
    },
    {
     "name": "stdout",
     "output_type": "stream",
     "text": [
      "Epoch 306\n",
      "Train Loss: 0.1681, Train Accuracy: 93.44%\n",
      "Test Loss: 0.2601, Test Accuracy: 92.06%\n",
      "\n"
     ]
    },
    {
     "name": "stderr",
     "output_type": "stream",
     "text": [
      "Epoch 307: 100%|██████████| 938/938 [00:54<00:00, 17.11batch/s, Train Loss=0.17, Train Acc=93.4] \n"
     ]
    },
    {
     "name": "stdout",
     "output_type": "stream",
     "text": [
      "Epoch 307\n",
      "Train Loss: 0.1703, Train Accuracy: 93.38%\n",
      "Test Loss: 0.2456, Test Accuracy: 92.32%\n",
      "\n"
     ]
    },
    {
     "name": "stderr",
     "output_type": "stream",
     "text": [
      "Epoch 308: 100%|██████████| 938/938 [00:54<00:00, 17.10batch/s, Train Loss=0.17, Train Acc=93.4] \n"
     ]
    },
    {
     "name": "stdout",
     "output_type": "stream",
     "text": [
      "Epoch 308\n",
      "Train Loss: 0.1696, Train Accuracy: 93.37%\n",
      "Test Loss: 0.2447, Test Accuracy: 92.34%\n",
      "\n"
     ]
    },
    {
     "name": "stderr",
     "output_type": "stream",
     "text": [
      "Epoch 309: 100%|██████████| 938/938 [00:54<00:00, 17.09batch/s, Train Loss=0.172, Train Acc=93.3]\n"
     ]
    },
    {
     "name": "stdout",
     "output_type": "stream",
     "text": [
      "Epoch 309\n",
      "Train Loss: 0.1718, Train Accuracy: 93.35%\n",
      "Test Loss: 0.2387, Test Accuracy: 92.61%\n",
      "\n"
     ]
    },
    {
     "name": "stderr",
     "output_type": "stream",
     "text": [
      "Epoch 310: 100%|██████████| 938/938 [00:55<00:00, 17.03batch/s, Train Loss=0.172, Train Acc=93.3]\n"
     ]
    },
    {
     "name": "stdout",
     "output_type": "stream",
     "text": [
      "Epoch 310\n",
      "Train Loss: 0.1720, Train Accuracy: 93.27%\n",
      "Test Loss: 0.2385, Test Accuracy: 92.20%\n",
      "\n"
     ]
    },
    {
     "name": "stderr",
     "output_type": "stream",
     "text": [
      "Epoch 311: 100%|██████████| 938/938 [00:54<00:00, 17.12batch/s, Train Loss=0.171, Train Acc=93.5]\n"
     ]
    },
    {
     "name": "stdout",
     "output_type": "stream",
     "text": [
      "Epoch 311\n",
      "Train Loss: 0.1706, Train Accuracy: 93.45%\n",
      "Test Loss: 0.2444, Test Accuracy: 92.36%\n",
      "\n"
     ]
    },
    {
     "name": "stderr",
     "output_type": "stream",
     "text": [
      "Epoch 312: 100%|██████████| 938/938 [00:54<00:00, 17.24batch/s, Train Loss=0.173, Train Acc=93.3]\n"
     ]
    },
    {
     "name": "stdout",
     "output_type": "stream",
     "text": [
      "Epoch 312\n",
      "Train Loss: 0.1729, Train Accuracy: 93.31%\n",
      "Test Loss: 0.2514, Test Accuracy: 91.98%\n",
      "\n"
     ]
    },
    {
     "name": "stderr",
     "output_type": "stream",
     "text": [
      "Epoch 313: 100%|██████████| 938/938 [00:54<00:00, 17.07batch/s, Train Loss=0.173, Train Acc=93.3]\n"
     ]
    },
    {
     "name": "stdout",
     "output_type": "stream",
     "text": [
      "Epoch 313\n",
      "Train Loss: 0.1726, Train Accuracy: 93.30%\n",
      "Test Loss: 0.2409, Test Accuracy: 92.36%\n",
      "\n"
     ]
    },
    {
     "name": "stderr",
     "output_type": "stream",
     "text": [
      "Epoch 314: 100%|██████████| 938/938 [00:54<00:00, 17.12batch/s, Train Loss=0.17, Train Acc=93.4] \n"
     ]
    },
    {
     "name": "stdout",
     "output_type": "stream",
     "text": [
      "Epoch 314\n",
      "Train Loss: 0.1705, Train Accuracy: 93.37%\n",
      "Test Loss: 0.2394, Test Accuracy: 92.38%\n",
      "\n"
     ]
    },
    {
     "name": "stderr",
     "output_type": "stream",
     "text": [
      "Epoch 315: 100%|██████████| 938/938 [00:54<00:00, 17.07batch/s, Train Loss=0.17, Train Acc=93.4] \n"
     ]
    },
    {
     "name": "stdout",
     "output_type": "stream",
     "text": [
      "Epoch 315\n",
      "Train Loss: 0.1703, Train Accuracy: 93.40%\n",
      "Test Loss: 0.2438, Test Accuracy: 92.16%\n",
      "\n"
     ]
    },
    {
     "name": "stderr",
     "output_type": "stream",
     "text": [
      "Epoch 316: 100%|██████████| 938/938 [00:54<00:00, 17.22batch/s, Train Loss=0.169, Train Acc=93.5]\n"
     ]
    },
    {
     "name": "stdout",
     "output_type": "stream",
     "text": [
      "Epoch 316\n",
      "Train Loss: 0.1691, Train Accuracy: 93.53%\n",
      "Test Loss: 0.2461, Test Accuracy: 92.09%\n",
      "\n"
     ]
    },
    {
     "name": "stderr",
     "output_type": "stream",
     "text": [
      "Epoch 317: 100%|██████████| 938/938 [00:54<00:00, 17.15batch/s, Train Loss=0.167, Train Acc=93.5]\n"
     ]
    },
    {
     "name": "stdout",
     "output_type": "stream",
     "text": [
      "Epoch 317\n",
      "Train Loss: 0.1671, Train Accuracy: 93.52%\n",
      "Test Loss: 0.2355, Test Accuracy: 92.54%\n",
      "\n"
     ]
    },
    {
     "name": "stderr",
     "output_type": "stream",
     "text": [
      "Epoch 318: 100%|██████████| 938/938 [00:54<00:00, 17.19batch/s, Train Loss=0.167, Train Acc=93.5]\n"
     ]
    },
    {
     "name": "stdout",
     "output_type": "stream",
     "text": [
      "Epoch 318\n",
      "Train Loss: 0.1669, Train Accuracy: 93.53%\n",
      "Test Loss: 0.2390, Test Accuracy: 92.35%\n",
      "\n"
     ]
    },
    {
     "name": "stderr",
     "output_type": "stream",
     "text": [
      "Epoch 319: 100%|██████████| 938/938 [00:54<00:00, 17.12batch/s, Train Loss=0.169, Train Acc=93.4]\n"
     ]
    },
    {
     "name": "stdout",
     "output_type": "stream",
     "text": [
      "Epoch 319\n",
      "Train Loss: 0.1690, Train Accuracy: 93.39%\n",
      "Test Loss: 0.2374, Test Accuracy: 92.58%\n",
      "\n"
     ]
    },
    {
     "name": "stderr",
     "output_type": "stream",
     "text": [
      "Epoch 320: 100%|██████████| 938/938 [00:54<00:00, 17.06batch/s, Train Loss=0.167, Train Acc=93.4]\n"
     ]
    },
    {
     "name": "stdout",
     "output_type": "stream",
     "text": [
      "Epoch 320\n",
      "Train Loss: 0.1671, Train Accuracy: 93.40%\n",
      "Test Loss: 0.2480, Test Accuracy: 92.53%\n",
      "\n"
     ]
    },
    {
     "name": "stderr",
     "output_type": "stream",
     "text": [
      "Epoch 321: 100%|██████████| 938/938 [00:54<00:00, 17.13batch/s, Train Loss=0.167, Train Acc=93.5]\n"
     ]
    },
    {
     "name": "stdout",
     "output_type": "stream",
     "text": [
      "Epoch 321\n",
      "Train Loss: 0.1668, Train Accuracy: 93.53%\n",
      "Test Loss: 0.2519, Test Accuracy: 91.88%\n",
      "\n"
     ]
    },
    {
     "name": "stderr",
     "output_type": "stream",
     "text": [
      "Epoch 322: 100%|██████████| 938/938 [00:55<00:00, 17.04batch/s, Train Loss=0.17, Train Acc=93.4] \n"
     ]
    },
    {
     "name": "stdout",
     "output_type": "stream",
     "text": [
      "Epoch 322\n",
      "Train Loss: 0.1703, Train Accuracy: 93.43%\n",
      "Test Loss: 0.2455, Test Accuracy: 92.21%\n",
      "\n"
     ]
    },
    {
     "name": "stderr",
     "output_type": "stream",
     "text": [
      "Epoch 323: 100%|██████████| 938/938 [00:54<00:00, 17.18batch/s, Train Loss=0.168, Train Acc=93.5]\n"
     ]
    },
    {
     "name": "stdout",
     "output_type": "stream",
     "text": [
      "Epoch 323\n",
      "Train Loss: 0.1676, Train Accuracy: 93.53%\n",
      "Test Loss: 0.2371, Test Accuracy: 92.63%\n",
      "\n"
     ]
    },
    {
     "name": "stderr",
     "output_type": "stream",
     "text": [
      "Epoch 324: 100%|██████████| 938/938 [00:54<00:00, 17.13batch/s, Train Loss=0.17, Train Acc=93.5] \n"
     ]
    },
    {
     "name": "stdout",
     "output_type": "stream",
     "text": [
      "Epoch 324\n",
      "Train Loss: 0.1700, Train Accuracy: 93.50%\n",
      "Test Loss: 0.2419, Test Accuracy: 92.46%\n",
      "\n"
     ]
    },
    {
     "name": "stderr",
     "output_type": "stream",
     "text": [
      "Epoch 325: 100%|██████████| 938/938 [00:54<00:00, 17.11batch/s, Train Loss=0.167, Train Acc=93.6]\n"
     ]
    },
    {
     "name": "stdout",
     "output_type": "stream",
     "text": [
      "Epoch 325\n",
      "Train Loss: 0.1665, Train Accuracy: 93.56%\n",
      "Test Loss: 0.2394, Test Accuracy: 92.64%\n",
      "\n"
     ]
    },
    {
     "name": "stderr",
     "output_type": "stream",
     "text": [
      "Epoch 326: 100%|██████████| 938/938 [00:54<00:00, 17.12batch/s, Train Loss=0.166, Train Acc=93.6]\n"
     ]
    },
    {
     "name": "stdout",
     "output_type": "stream",
     "text": [
      "Epoch 326\n",
      "Train Loss: 0.1657, Train Accuracy: 93.60%\n",
      "Test Loss: 0.2437, Test Accuracy: 92.61%\n",
      "\n"
     ]
    },
    {
     "name": "stderr",
     "output_type": "stream",
     "text": [
      "Epoch 327: 100%|██████████| 938/938 [00:54<00:00, 17.19batch/s, Train Loss=0.167, Train Acc=93.6]\n"
     ]
    },
    {
     "name": "stdout",
     "output_type": "stream",
     "text": [
      "Epoch 327\n",
      "Train Loss: 0.1666, Train Accuracy: 93.58%\n",
      "Test Loss: 0.2383, Test Accuracy: 92.73%\n",
      "\n"
     ]
    },
    {
     "name": "stderr",
     "output_type": "stream",
     "text": [
      "Epoch 328: 100%|██████████| 938/938 [00:54<00:00, 17.22batch/s, Train Loss=0.164, Train Acc=93.7]\n"
     ]
    },
    {
     "name": "stdout",
     "output_type": "stream",
     "text": [
      "Epoch 328\n",
      "Train Loss: 0.1637, Train Accuracy: 93.66%\n",
      "Test Loss: 0.2403, Test Accuracy: 92.59%\n",
      "\n"
     ]
    },
    {
     "name": "stderr",
     "output_type": "stream",
     "text": [
      "Epoch 329: 100%|██████████| 938/938 [00:54<00:00, 17.12batch/s, Train Loss=0.168, Train Acc=93.7]\n"
     ]
    },
    {
     "name": "stdout",
     "output_type": "stream",
     "text": [
      "Epoch 329\n",
      "Train Loss: 0.1676, Train Accuracy: 93.66%\n",
      "Test Loss: 0.2455, Test Accuracy: 92.39%\n",
      "\n"
     ]
    },
    {
     "name": "stderr",
     "output_type": "stream",
     "text": [
      "Epoch 330: 100%|██████████| 938/938 [00:54<00:00, 17.10batch/s, Train Loss=0.166, Train Acc=93.6]\n"
     ]
    },
    {
     "name": "stdout",
     "output_type": "stream",
     "text": [
      "Epoch 330\n",
      "Train Loss: 0.1662, Train Accuracy: 93.55%\n",
      "Test Loss: 0.2437, Test Accuracy: 92.45%\n",
      "\n"
     ]
    },
    {
     "name": "stderr",
     "output_type": "stream",
     "text": [
      "Epoch 331: 100%|██████████| 938/938 [00:54<00:00, 17.10batch/s, Train Loss=0.165, Train Acc=93.7]\n"
     ]
    },
    {
     "name": "stdout",
     "output_type": "stream",
     "text": [
      "Epoch 331\n",
      "Train Loss: 0.1650, Train Accuracy: 93.68%\n",
      "Test Loss: 0.2393, Test Accuracy: 92.75%\n",
      "\n"
     ]
    },
    {
     "name": "stderr",
     "output_type": "stream",
     "text": [
      "Epoch 332: 100%|██████████| 938/938 [00:54<00:00, 17.08batch/s, Train Loss=0.163, Train Acc=93.7]\n"
     ]
    },
    {
     "name": "stdout",
     "output_type": "stream",
     "text": [
      "Epoch 332\n",
      "Train Loss: 0.1633, Train Accuracy: 93.67%\n",
      "Test Loss: 0.2483, Test Accuracy: 92.34%\n",
      "\n"
     ]
    },
    {
     "name": "stderr",
     "output_type": "stream",
     "text": [
      "Epoch 333: 100%|██████████| 938/938 [00:54<00:00, 17.20batch/s, Train Loss=0.165, Train Acc=93.6]\n"
     ]
    },
    {
     "name": "stdout",
     "output_type": "stream",
     "text": [
      "Epoch 333\n",
      "Train Loss: 0.1654, Train Accuracy: 93.64%\n",
      "Test Loss: 0.2410, Test Accuracy: 92.49%\n",
      "\n"
     ]
    },
    {
     "name": "stderr",
     "output_type": "stream",
     "text": [
      "Epoch 334: 100%|██████████| 938/938 [00:54<00:00, 17.07batch/s, Train Loss=0.168, Train Acc=93.5]\n"
     ]
    },
    {
     "name": "stdout",
     "output_type": "stream",
     "text": [
      "Epoch 334\n",
      "Train Loss: 0.1678, Train Accuracy: 93.47%\n",
      "Test Loss: 0.2361, Test Accuracy: 92.50%\n",
      "\n"
     ]
    },
    {
     "name": "stderr",
     "output_type": "stream",
     "text": [
      "Epoch 335: 100%|██████████| 938/938 [00:54<00:00, 17.14batch/s, Train Loss=0.165, Train Acc=93.6]\n"
     ]
    },
    {
     "name": "stdout",
     "output_type": "stream",
     "text": [
      "Epoch 335\n",
      "Train Loss: 0.1648, Train Accuracy: 93.58%\n",
      "Test Loss: 0.2457, Test Accuracy: 92.46%\n",
      "\n"
     ]
    },
    {
     "name": "stderr",
     "output_type": "stream",
     "text": [
      "Epoch 336: 100%|██████████| 938/938 [00:54<00:00, 17.13batch/s, Train Loss=0.165, Train Acc=93.6]\n"
     ]
    },
    {
     "name": "stdout",
     "output_type": "stream",
     "text": [
      "Epoch 336\n",
      "Train Loss: 0.1653, Train Accuracy: 93.62%\n",
      "Test Loss: 0.2432, Test Accuracy: 92.51%\n",
      "\n"
     ]
    },
    {
     "name": "stderr",
     "output_type": "stream",
     "text": [
      "Epoch 337: 100%|██████████| 938/938 [00:54<00:00, 17.19batch/s, Train Loss=0.167, Train Acc=93.5]\n"
     ]
    },
    {
     "name": "stdout",
     "output_type": "stream",
     "text": [
      "Epoch 337\n",
      "Train Loss: 0.1674, Train Accuracy: 93.55%\n",
      "Test Loss: 0.2466, Test Accuracy: 92.19%\n",
      "\n"
     ]
    },
    {
     "name": "stderr",
     "output_type": "stream",
     "text": [
      "Epoch 338: 100%|██████████| 938/938 [00:55<00:00, 16.97batch/s, Train Loss=0.166, Train Acc=93.6]\n"
     ]
    },
    {
     "name": "stdout",
     "output_type": "stream",
     "text": [
      "Epoch 338\n",
      "Train Loss: 0.1660, Train Accuracy: 93.58%\n",
      "Test Loss: 0.2434, Test Accuracy: 92.13%\n",
      "\n"
     ]
    },
    {
     "name": "stderr",
     "output_type": "stream",
     "text": [
      "Epoch 339: 100%|██████████| 938/938 [00:54<00:00, 17.10batch/s, Train Loss=0.163, Train Acc=93.7]\n"
     ]
    },
    {
     "name": "stdout",
     "output_type": "stream",
     "text": [
      "Epoch 339\n",
      "Train Loss: 0.1631, Train Accuracy: 93.71%\n",
      "Test Loss: 0.2431, Test Accuracy: 92.13%\n",
      "\n"
     ]
    },
    {
     "name": "stderr",
     "output_type": "stream",
     "text": [
      "Epoch 340: 100%|██████████| 938/938 [00:55<00:00, 16.94batch/s, Train Loss=0.164, Train Acc=93.7]\n"
     ]
    },
    {
     "name": "stdout",
     "output_type": "stream",
     "text": [
      "Epoch 340\n",
      "Train Loss: 0.1641, Train Accuracy: 93.69%\n",
      "Test Loss: 0.2465, Test Accuracy: 92.03%\n",
      "\n"
     ]
    },
    {
     "name": "stderr",
     "output_type": "stream",
     "text": [
      "Epoch 341: 100%|██████████| 938/938 [00:55<00:00, 17.00batch/s, Train Loss=0.164, Train Acc=93.7]\n"
     ]
    },
    {
     "name": "stdout",
     "output_type": "stream",
     "text": [
      "Epoch 341\n",
      "Train Loss: 0.1635, Train Accuracy: 93.71%\n",
      "Test Loss: 0.2458, Test Accuracy: 92.01%\n",
      "\n"
     ]
    },
    {
     "name": "stderr",
     "output_type": "stream",
     "text": [
      "Epoch 342: 100%|██████████| 938/938 [00:54<00:00, 17.13batch/s, Train Loss=0.165, Train Acc=93.7]\n"
     ]
    },
    {
     "name": "stdout",
     "output_type": "stream",
     "text": [
      "Epoch 342\n",
      "Train Loss: 0.1649, Train Accuracy: 93.67%\n",
      "Test Loss: 0.2408, Test Accuracy: 92.25%\n",
      "\n"
     ]
    },
    {
     "name": "stderr",
     "output_type": "stream",
     "text": [
      "Epoch 343: 100%|██████████| 938/938 [00:54<00:00, 17.18batch/s, Train Loss=0.165, Train Acc=93.7]\n"
     ]
    },
    {
     "name": "stdout",
     "output_type": "stream",
     "text": [
      "Epoch 343\n",
      "Train Loss: 0.1653, Train Accuracy: 93.68%\n",
      "Test Loss: 0.2442, Test Accuracy: 92.63%\n",
      "\n"
     ]
    },
    {
     "name": "stderr",
     "output_type": "stream",
     "text": [
      "Epoch 344: 100%|██████████| 938/938 [00:54<00:00, 17.14batch/s, Train Loss=0.161, Train Acc=93.8]\n"
     ]
    },
    {
     "name": "stdout",
     "output_type": "stream",
     "text": [
      "Epoch 344\n",
      "Train Loss: 0.1610, Train Accuracy: 93.80%\n",
      "Test Loss: 0.2487, Test Accuracy: 92.38%\n",
      "\n"
     ]
    },
    {
     "name": "stderr",
     "output_type": "stream",
     "text": [
      "Epoch 345: 100%|██████████| 938/938 [00:54<00:00, 17.16batch/s, Train Loss=0.165, Train Acc=93.7]\n"
     ]
    },
    {
     "name": "stdout",
     "output_type": "stream",
     "text": [
      "Epoch 345\n",
      "Train Loss: 0.1646, Train Accuracy: 93.66%\n",
      "Test Loss: 0.2450, Test Accuracy: 92.04%\n",
      "\n"
     ]
    },
    {
     "name": "stderr",
     "output_type": "stream",
     "text": [
      "Epoch 346: 100%|██████████| 938/938 [00:54<00:00, 17.09batch/s, Train Loss=0.167, Train Acc=93.6]\n"
     ]
    },
    {
     "name": "stdout",
     "output_type": "stream",
     "text": [
      "Epoch 346\n",
      "Train Loss: 0.1668, Train Accuracy: 93.57%\n",
      "Test Loss: 0.2442, Test Accuracy: 92.35%\n",
      "\n"
     ]
    },
    {
     "name": "stderr",
     "output_type": "stream",
     "text": [
      "Epoch 347: 100%|██████████| 938/938 [00:54<00:00, 17.26batch/s, Train Loss=0.166, Train Acc=93.6]\n"
     ]
    },
    {
     "name": "stdout",
     "output_type": "stream",
     "text": [
      "Epoch 347\n",
      "Train Loss: 0.1655, Train Accuracy: 93.61%\n",
      "Test Loss: 0.2413, Test Accuracy: 92.50%\n",
      "\n"
     ]
    },
    {
     "name": "stderr",
     "output_type": "stream",
     "text": [
      "Epoch 348: 100%|██████████| 938/938 [00:54<00:00, 17.06batch/s, Train Loss=0.164, Train Acc=93.7]\n"
     ]
    },
    {
     "name": "stdout",
     "output_type": "stream",
     "text": [
      "Epoch 348\n",
      "Train Loss: 0.1640, Train Accuracy: 93.69%\n",
      "Test Loss: 0.2446, Test Accuracy: 92.14%\n",
      "\n"
     ]
    },
    {
     "name": "stderr",
     "output_type": "stream",
     "text": [
      "Epoch 349: 100%|██████████| 938/938 [00:54<00:00, 17.11batch/s, Train Loss=0.164, Train Acc=93.8]\n"
     ]
    },
    {
     "name": "stdout",
     "output_type": "stream",
     "text": [
      "Epoch 349\n",
      "Train Loss: 0.1636, Train Accuracy: 93.77%\n",
      "Test Loss: 0.2491, Test Accuracy: 92.39%\n",
      "\n"
     ]
    },
    {
     "name": "stderr",
     "output_type": "stream",
     "text": [
      "Epoch 350: 100%|██████████| 938/938 [00:54<00:00, 17.07batch/s, Train Loss=0.164, Train Acc=93.6]\n"
     ]
    },
    {
     "name": "stdout",
     "output_type": "stream",
     "text": [
      "Epoch 350\n",
      "Train Loss: 0.1641, Train Accuracy: 93.62%\n",
      "Test Loss: 0.2484, Test Accuracy: 92.42%\n",
      "\n"
     ]
    },
    {
     "name": "stderr",
     "output_type": "stream",
     "text": [
      "Epoch 351: 100%|██████████| 938/938 [00:54<00:00, 17.12batch/s, Train Loss=0.166, Train Acc=93.6]\n"
     ]
    },
    {
     "name": "stdout",
     "output_type": "stream",
     "text": [
      "Epoch 351\n",
      "Train Loss: 0.1657, Train Accuracy: 93.58%\n",
      "Test Loss: 0.2511, Test Accuracy: 92.36%\n",
      "\n"
     ]
    },
    {
     "name": "stderr",
     "output_type": "stream",
     "text": [
      "Epoch 352: 100%|██████████| 938/938 [00:54<00:00, 17.16batch/s, Train Loss=0.168, Train Acc=93.6]\n"
     ]
    },
    {
     "name": "stdout",
     "output_type": "stream",
     "text": [
      "Epoch 352\n",
      "Train Loss: 0.1678, Train Accuracy: 93.57%\n",
      "Test Loss: 0.2404, Test Accuracy: 92.42%\n",
      "\n"
     ]
    },
    {
     "name": "stderr",
     "output_type": "stream",
     "text": [
      "Epoch 353: 100%|██████████| 938/938 [00:54<00:00, 17.15batch/s, Train Loss=0.165, Train Acc=93.5]\n"
     ]
    },
    {
     "name": "stdout",
     "output_type": "stream",
     "text": [
      "Epoch 353\n",
      "Train Loss: 0.1653, Train Accuracy: 93.49%\n",
      "Test Loss: 0.2462, Test Accuracy: 92.31%\n",
      "\n"
     ]
    },
    {
     "name": "stderr",
     "output_type": "stream",
     "text": [
      "Epoch 354: 100%|██████████| 938/938 [00:54<00:00, 17.20batch/s, Train Loss=0.165, Train Acc=93.7]\n"
     ]
    },
    {
     "name": "stdout",
     "output_type": "stream",
     "text": [
      "Epoch 354\n",
      "Train Loss: 0.1649, Train Accuracy: 93.72%\n",
      "Test Loss: 0.2462, Test Accuracy: 92.14%\n",
      "\n"
     ]
    },
    {
     "name": "stderr",
     "output_type": "stream",
     "text": [
      "Epoch 355: 100%|██████████| 938/938 [00:54<00:00, 17.19batch/s, Train Loss=0.163, Train Acc=93.7]\n"
     ]
    },
    {
     "name": "stdout",
     "output_type": "stream",
     "text": [
      "Epoch 355\n",
      "Train Loss: 0.1634, Train Accuracy: 93.70%\n",
      "Test Loss: 0.2555, Test Accuracy: 91.88%\n",
      "\n"
     ]
    },
    {
     "name": "stderr",
     "output_type": "stream",
     "text": [
      "Epoch 356: 100%|██████████| 938/938 [00:55<00:00, 17.05batch/s, Train Loss=0.163, Train Acc=93.7]\n"
     ]
    },
    {
     "name": "stdout",
     "output_type": "stream",
     "text": [
      "Epoch 356\n",
      "Train Loss: 0.1635, Train Accuracy: 93.67%\n",
      "Test Loss: 0.2471, Test Accuracy: 92.36%\n",
      "\n"
     ]
    },
    {
     "name": "stderr",
     "output_type": "stream",
     "text": [
      "Epoch 357: 100%|██████████| 938/938 [00:54<00:00, 17.07batch/s, Train Loss=0.164, Train Acc=93.6]\n"
     ]
    },
    {
     "name": "stdout",
     "output_type": "stream",
     "text": [
      "Epoch 357\n",
      "Train Loss: 0.1643, Train Accuracy: 93.64%\n",
      "Test Loss: 0.2481, Test Accuracy: 92.32%\n",
      "\n"
     ]
    },
    {
     "name": "stderr",
     "output_type": "stream",
     "text": [
      "Epoch 358: 100%|██████████| 938/938 [00:54<00:00, 17.23batch/s, Train Loss=0.162, Train Acc=93.7]\n"
     ]
    },
    {
     "name": "stdout",
     "output_type": "stream",
     "text": [
      "Epoch 358\n",
      "Train Loss: 0.1622, Train Accuracy: 93.70%\n",
      "Test Loss: 0.2521, Test Accuracy: 92.31%\n",
      "\n"
     ]
    },
    {
     "name": "stderr",
     "output_type": "stream",
     "text": [
      "Epoch 359: 100%|██████████| 938/938 [00:54<00:00, 17.11batch/s, Train Loss=0.161, Train Acc=93.8]\n"
     ]
    },
    {
     "name": "stdout",
     "output_type": "stream",
     "text": [
      "Epoch 359\n",
      "Train Loss: 0.1609, Train Accuracy: 93.81%\n",
      "Test Loss: 0.2477, Test Accuracy: 92.49%\n",
      "\n"
     ]
    },
    {
     "name": "stderr",
     "output_type": "stream",
     "text": [
      "Epoch 360: 100%|██████████| 938/938 [00:54<00:00, 17.07batch/s, Train Loss=0.161, Train Acc=93.7]\n"
     ]
    },
    {
     "name": "stdout",
     "output_type": "stream",
     "text": [
      "Epoch 360\n",
      "Train Loss: 0.1609, Train Accuracy: 93.75%\n",
      "Test Loss: 0.2429, Test Accuracy: 92.67%\n",
      "\n"
     ]
    },
    {
     "name": "stderr",
     "output_type": "stream",
     "text": [
      "Epoch 361: 100%|██████████| 938/938 [00:54<00:00, 17.19batch/s, Train Loss=0.162, Train Acc=93.7]\n"
     ]
    },
    {
     "name": "stdout",
     "output_type": "stream",
     "text": [
      "Epoch 361\n",
      "Train Loss: 0.1618, Train Accuracy: 93.71%\n",
      "Test Loss: 0.2508, Test Accuracy: 92.35%\n",
      "\n"
     ]
    },
    {
     "name": "stderr",
     "output_type": "stream",
     "text": [
      "Epoch 362: 100%|██████████| 938/938 [00:54<00:00, 17.09batch/s, Train Loss=0.162, Train Acc=93.7]\n"
     ]
    },
    {
     "name": "stdout",
     "output_type": "stream",
     "text": [
      "Epoch 362\n",
      "Train Loss: 0.1624, Train Accuracy: 93.66%\n",
      "Test Loss: 0.2534, Test Accuracy: 91.99%\n",
      "\n"
     ]
    },
    {
     "name": "stderr",
     "output_type": "stream",
     "text": [
      "Epoch 363: 100%|██████████| 938/938 [00:54<00:00, 17.14batch/s, Train Loss=0.163, Train Acc=93.6]\n"
     ]
    },
    {
     "name": "stdout",
     "output_type": "stream",
     "text": [
      "Epoch 363\n",
      "Train Loss: 0.1628, Train Accuracy: 93.56%\n",
      "Test Loss: 0.2522, Test Accuracy: 92.14%\n",
      "\n"
     ]
    },
    {
     "name": "stderr",
     "output_type": "stream",
     "text": [
      "Epoch 364: 100%|██████████| 938/938 [00:54<00:00, 17.11batch/s, Train Loss=0.163, Train Acc=93.7]\n"
     ]
    },
    {
     "name": "stdout",
     "output_type": "stream",
     "text": [
      "Epoch 364\n",
      "Train Loss: 0.1628, Train Accuracy: 93.73%\n",
      "Test Loss: 0.2531, Test Accuracy: 92.05%\n",
      "\n"
     ]
    },
    {
     "name": "stderr",
     "output_type": "stream",
     "text": [
      "Epoch 365: 100%|██████████| 938/938 [00:54<00:00, 17.18batch/s, Train Loss=0.162, Train Acc=93.8]\n"
     ]
    },
    {
     "name": "stdout",
     "output_type": "stream",
     "text": [
      "Epoch 365\n",
      "Train Loss: 0.1619, Train Accuracy: 93.78%\n",
      "Test Loss: 0.2544, Test Accuracy: 92.09%\n",
      "\n"
     ]
    },
    {
     "name": "stderr",
     "output_type": "stream",
     "text": [
      "Epoch 366: 100%|██████████| 938/938 [00:54<00:00, 17.11batch/s, Train Loss=0.161, Train Acc=93.7]\n"
     ]
    },
    {
     "name": "stdout",
     "output_type": "stream",
     "text": [
      "Epoch 366\n",
      "Train Loss: 0.1606, Train Accuracy: 93.75%\n",
      "Test Loss: 0.2460, Test Accuracy: 92.57%\n",
      "\n"
     ]
    },
    {
     "name": "stderr",
     "output_type": "stream",
     "text": [
      "Epoch 367: 100%|██████████| 938/938 [00:54<00:00, 17.18batch/s, Train Loss=0.162, Train Acc=93.7]\n"
     ]
    },
    {
     "name": "stdout",
     "output_type": "stream",
     "text": [
      "Epoch 367\n",
      "Train Loss: 0.1618, Train Accuracy: 93.74%\n",
      "Test Loss: 0.2523, Test Accuracy: 92.35%\n",
      "\n"
     ]
    },
    {
     "name": "stderr",
     "output_type": "stream",
     "text": [
      "Epoch 368: 100%|██████████| 938/938 [00:54<00:00, 17.21batch/s, Train Loss=0.162, Train Acc=93.9]\n"
     ]
    },
    {
     "name": "stdout",
     "output_type": "stream",
     "text": [
      "Epoch 368\n",
      "Train Loss: 0.1618, Train Accuracy: 93.86%\n",
      "Test Loss: 0.2473, Test Accuracy: 92.34%\n",
      "\n"
     ]
    },
    {
     "name": "stderr",
     "output_type": "stream",
     "text": [
      "Epoch 369: 100%|██████████| 938/938 [00:54<00:00, 17.10batch/s, Train Loss=0.158, Train Acc=94]  \n"
     ]
    },
    {
     "name": "stdout",
     "output_type": "stream",
     "text": [
      "Epoch 369\n",
      "Train Loss: 0.1575, Train Accuracy: 93.97%\n",
      "Test Loss: 0.2490, Test Accuracy: 92.32%\n",
      "\n"
     ]
    },
    {
     "name": "stderr",
     "output_type": "stream",
     "text": [
      "Epoch 370: 100%|██████████| 938/938 [00:54<00:00, 17.11batch/s, Train Loss=0.165, Train Acc=93.7]\n"
     ]
    },
    {
     "name": "stdout",
     "output_type": "stream",
     "text": [
      "Epoch 370\n",
      "Train Loss: 0.1650, Train Accuracy: 93.68%\n",
      "Test Loss: 0.2445, Test Accuracy: 92.63%\n",
      "\n"
     ]
    },
    {
     "name": "stderr",
     "output_type": "stream",
     "text": [
      "Epoch 371: 100%|██████████| 938/938 [00:54<00:00, 17.11batch/s, Train Loss=0.164, Train Acc=93.6]\n"
     ]
    },
    {
     "name": "stdout",
     "output_type": "stream",
     "text": [
      "Epoch 371\n",
      "Train Loss: 0.1639, Train Accuracy: 93.62%\n",
      "Test Loss: 0.2429, Test Accuracy: 92.24%\n",
      "\n"
     ]
    },
    {
     "name": "stderr",
     "output_type": "stream",
     "text": [
      "Epoch 372: 100%|██████████| 938/938 [00:54<00:00, 17.17batch/s, Train Loss=0.158, Train Acc=93.9]\n"
     ]
    },
    {
     "name": "stdout",
     "output_type": "stream",
     "text": [
      "Epoch 372\n",
      "Train Loss: 0.1577, Train Accuracy: 93.93%\n",
      "Test Loss: 0.2520, Test Accuracy: 92.31%\n",
      "\n"
     ]
    },
    {
     "name": "stderr",
     "output_type": "stream",
     "text": [
      "Epoch 373: 100%|██████████| 938/938 [00:54<00:00, 17.14batch/s, Train Loss=0.162, Train Acc=93.8]\n"
     ]
    },
    {
     "name": "stdout",
     "output_type": "stream",
     "text": [
      "Epoch 373\n",
      "Train Loss: 0.1618, Train Accuracy: 93.84%\n",
      "Test Loss: 0.2560, Test Accuracy: 92.25%\n",
      "\n"
     ]
    },
    {
     "name": "stderr",
     "output_type": "stream",
     "text": [
      "Epoch 374: 100%|██████████| 938/938 [00:54<00:00, 17.17batch/s, Train Loss=0.161, Train Acc=93.8]\n"
     ]
    },
    {
     "name": "stdout",
     "output_type": "stream",
     "text": [
      "Epoch 374\n",
      "Train Loss: 0.1612, Train Accuracy: 93.85%\n",
      "Test Loss: 0.2497, Test Accuracy: 92.29%\n",
      "\n"
     ]
    },
    {
     "name": "stderr",
     "output_type": "stream",
     "text": [
      "Epoch 375: 100%|██████████| 938/938 [00:54<00:00, 17.14batch/s, Train Loss=0.158, Train Acc=93.9]\n"
     ]
    },
    {
     "name": "stdout",
     "output_type": "stream",
     "text": [
      "Epoch 375\n",
      "Train Loss: 0.1578, Train Accuracy: 93.90%\n",
      "Test Loss: 0.2584, Test Accuracy: 92.02%\n",
      "\n"
     ]
    },
    {
     "name": "stderr",
     "output_type": "stream",
     "text": [
      "Epoch 376: 100%|██████████| 938/938 [00:54<00:00, 17.18batch/s, Train Loss=0.162, Train Acc=93.7]\n"
     ]
    },
    {
     "name": "stdout",
     "output_type": "stream",
     "text": [
      "Epoch 376\n",
      "Train Loss: 0.1617, Train Accuracy: 93.68%\n",
      "Test Loss: 0.2619, Test Accuracy: 92.14%\n",
      "\n"
     ]
    },
    {
     "name": "stderr",
     "output_type": "stream",
     "text": [
      "Epoch 377: 100%|██████████| 938/938 [00:54<00:00, 17.15batch/s, Train Loss=0.158, Train Acc=94]  \n"
     ]
    },
    {
     "name": "stdout",
     "output_type": "stream",
     "text": [
      "Epoch 377\n",
      "Train Loss: 0.1583, Train Accuracy: 94.00%\n",
      "Test Loss: 0.2520, Test Accuracy: 92.14%\n",
      "\n"
     ]
    },
    {
     "name": "stderr",
     "output_type": "stream",
     "text": [
      "Epoch 378: 100%|██████████| 938/938 [00:54<00:00, 17.10batch/s, Train Loss=0.16, Train Acc=93.8] \n"
     ]
    },
    {
     "name": "stdout",
     "output_type": "stream",
     "text": [
      "Epoch 378\n",
      "Train Loss: 0.1601, Train Accuracy: 93.83%\n",
      "Test Loss: 0.2565, Test Accuracy: 92.11%\n",
      "\n"
     ]
    },
    {
     "name": "stderr",
     "output_type": "stream",
     "text": [
      "Epoch 379: 100%|██████████| 938/938 [00:54<00:00, 17.11batch/s, Train Loss=0.158, Train Acc=94]  \n"
     ]
    },
    {
     "name": "stdout",
     "output_type": "stream",
     "text": [
      "Epoch 379\n",
      "Train Loss: 0.1581, Train Accuracy: 94.00%\n",
      "Test Loss: 0.2504, Test Accuracy: 92.27%\n",
      "\n"
     ]
    },
    {
     "name": "stderr",
     "output_type": "stream",
     "text": [
      "Epoch 380: 100%|██████████| 938/938 [00:54<00:00, 17.13batch/s, Train Loss=0.16, Train Acc=93.8] \n"
     ]
    },
    {
     "name": "stdout",
     "output_type": "stream",
     "text": [
      "Epoch 380\n",
      "Train Loss: 0.1598, Train Accuracy: 93.82%\n",
      "Test Loss: 0.2504, Test Accuracy: 92.35%\n",
      "\n"
     ]
    },
    {
     "name": "stderr",
     "output_type": "stream",
     "text": [
      "Epoch 381: 100%|██████████| 938/938 [00:54<00:00, 17.21batch/s, Train Loss=0.16, Train Acc=93.8] \n"
     ]
    },
    {
     "name": "stdout",
     "output_type": "stream",
     "text": [
      "Epoch 381\n",
      "Train Loss: 0.1600, Train Accuracy: 93.78%\n",
      "Test Loss: 0.2508, Test Accuracy: 92.43%\n",
      "\n"
     ]
    },
    {
     "name": "stderr",
     "output_type": "stream",
     "text": [
      "Epoch 382: 100%|██████████| 938/938 [00:54<00:00, 17.17batch/s, Train Loss=0.16, Train Acc=93.8] \n"
     ]
    },
    {
     "name": "stdout",
     "output_type": "stream",
     "text": [
      "Epoch 382\n",
      "Train Loss: 0.1595, Train Accuracy: 93.83%\n",
      "Test Loss: 0.2502, Test Accuracy: 92.30%\n",
      "\n"
     ]
    },
    {
     "name": "stderr",
     "output_type": "stream",
     "text": [
      "Epoch 383: 100%|██████████| 938/938 [00:54<00:00, 17.16batch/s, Train Loss=0.154, Train Acc=94.1]\n"
     ]
    },
    {
     "name": "stdout",
     "output_type": "stream",
     "text": [
      "Epoch 383\n",
      "Train Loss: 0.1544, Train Accuracy: 94.14%\n",
      "Test Loss: 0.2552, Test Accuracy: 92.37%\n",
      "\n"
     ]
    },
    {
     "name": "stderr",
     "output_type": "stream",
     "text": [
      "Epoch 384: 100%|██████████| 938/938 [00:54<00:00, 17.16batch/s, Train Loss=0.158, Train Acc=93.9]\n"
     ]
    },
    {
     "name": "stdout",
     "output_type": "stream",
     "text": [
      "Epoch 384\n",
      "Train Loss: 0.1585, Train Accuracy: 93.90%\n",
      "Test Loss: 0.2511, Test Accuracy: 92.42%\n",
      "\n"
     ]
    },
    {
     "name": "stderr",
     "output_type": "stream",
     "text": [
      "Epoch 385: 100%|██████████| 938/938 [00:55<00:00, 17.02batch/s, Train Loss=0.159, Train Acc=93.9]\n"
     ]
    },
    {
     "name": "stdout",
     "output_type": "stream",
     "text": [
      "Epoch 385\n",
      "Train Loss: 0.1586, Train Accuracy: 93.86%\n",
      "Test Loss: 0.2514, Test Accuracy: 92.28%\n",
      "\n"
     ]
    },
    {
     "name": "stderr",
     "output_type": "stream",
     "text": [
      "Epoch 386: 100%|██████████| 938/938 [00:54<00:00, 17.06batch/s, Train Loss=0.159, Train Acc=93.8]\n"
     ]
    },
    {
     "name": "stdout",
     "output_type": "stream",
     "text": [
      "Epoch 386\n",
      "Train Loss: 0.1592, Train Accuracy: 93.83%\n",
      "Test Loss: 0.2558, Test Accuracy: 92.23%\n",
      "\n"
     ]
    },
    {
     "name": "stderr",
     "output_type": "stream",
     "text": [
      "Epoch 387: 100%|██████████| 938/938 [00:54<00:00, 17.16batch/s, Train Loss=0.158, Train Acc=93.9]\n"
     ]
    },
    {
     "name": "stdout",
     "output_type": "stream",
     "text": [
      "Epoch 387\n",
      "Train Loss: 0.1582, Train Accuracy: 93.87%\n",
      "Test Loss: 0.2566, Test Accuracy: 92.27%\n",
      "\n"
     ]
    },
    {
     "name": "stderr",
     "output_type": "stream",
     "text": [
      "Epoch 388: 100%|██████████| 938/938 [00:54<00:00, 17.15batch/s, Train Loss=0.155, Train Acc=93.9]\n"
     ]
    },
    {
     "name": "stdout",
     "output_type": "stream",
     "text": [
      "Epoch 388\n",
      "Train Loss: 0.1554, Train Accuracy: 93.86%\n",
      "Test Loss: 0.2516, Test Accuracy: 92.29%\n",
      "\n"
     ]
    },
    {
     "name": "stderr",
     "output_type": "stream",
     "text": [
      "Epoch 389: 100%|██████████| 938/938 [00:54<00:00, 17.13batch/s, Train Loss=0.159, Train Acc=93.9]\n"
     ]
    },
    {
     "name": "stdout",
     "output_type": "stream",
     "text": [
      "Epoch 389\n",
      "Train Loss: 0.1593, Train Accuracy: 93.91%\n",
      "Test Loss: 0.2549, Test Accuracy: 92.53%\n",
      "\n"
     ]
    },
    {
     "name": "stderr",
     "output_type": "stream",
     "text": [
      "Epoch 390: 100%|██████████| 938/938 [00:54<00:00, 17.17batch/s, Train Loss=0.156, Train Acc=94]  \n"
     ]
    },
    {
     "name": "stdout",
     "output_type": "stream",
     "text": [
      "Epoch 390\n",
      "Train Loss: 0.1561, Train Accuracy: 94.03%\n",
      "Test Loss: 0.2565, Test Accuracy: 92.29%\n",
      "\n"
     ]
    },
    {
     "name": "stderr",
     "output_type": "stream",
     "text": [
      "Epoch 391: 100%|██████████| 938/938 [00:54<00:00, 17.07batch/s, Train Loss=0.156, Train Acc=93.9]\n"
     ]
    },
    {
     "name": "stdout",
     "output_type": "stream",
     "text": [
      "Epoch 391\n",
      "Train Loss: 0.1564, Train Accuracy: 93.89%\n",
      "Test Loss: 0.2574, Test Accuracy: 92.21%\n",
      "\n"
     ]
    },
    {
     "name": "stderr",
     "output_type": "stream",
     "text": [
      "Epoch 392: 100%|██████████| 938/938 [00:54<00:00, 17.10batch/s, Train Loss=0.158, Train Acc=93.9]\n"
     ]
    },
    {
     "name": "stdout",
     "output_type": "stream",
     "text": [
      "Epoch 392\n",
      "Train Loss: 0.1584, Train Accuracy: 93.94%\n",
      "Test Loss: 0.2605, Test Accuracy: 92.49%\n",
      "\n"
     ]
    },
    {
     "name": "stderr",
     "output_type": "stream",
     "text": [
      "Epoch 393: 100%|██████████| 938/938 [00:55<00:00, 17.01batch/s, Train Loss=0.157, Train Acc=93.9]\n"
     ]
    },
    {
     "name": "stdout",
     "output_type": "stream",
     "text": [
      "Epoch 393\n",
      "Train Loss: 0.1575, Train Accuracy: 93.89%\n",
      "Test Loss: 0.2511, Test Accuracy: 92.34%\n",
      "\n"
     ]
    },
    {
     "name": "stderr",
     "output_type": "stream",
     "text": [
      "Epoch 394: 100%|██████████| 938/938 [00:54<00:00, 17.14batch/s, Train Loss=0.156, Train Acc=93.9]\n"
     ]
    },
    {
     "name": "stdout",
     "output_type": "stream",
     "text": [
      "Epoch 394\n",
      "Train Loss: 0.1564, Train Accuracy: 93.94%\n",
      "Test Loss: 0.2545, Test Accuracy: 92.41%\n",
      "\n"
     ]
    },
    {
     "name": "stderr",
     "output_type": "stream",
     "text": [
      "Epoch 395: 100%|██████████| 938/938 [00:54<00:00, 17.19batch/s, Train Loss=0.157, Train Acc=94]  \n"
     ]
    },
    {
     "name": "stdout",
     "output_type": "stream",
     "text": [
      "Epoch 395\n",
      "Train Loss: 0.1567, Train Accuracy: 93.96%\n",
      "Test Loss: 0.2553, Test Accuracy: 92.54%\n",
      "\n"
     ]
    },
    {
     "name": "stderr",
     "output_type": "stream",
     "text": [
      "Epoch 396: 100%|██████████| 938/938 [00:54<00:00, 17.13batch/s, Train Loss=0.157, Train Acc=94]  \n"
     ]
    },
    {
     "name": "stdout",
     "output_type": "stream",
     "text": [
      "Epoch 396\n",
      "Train Loss: 0.1571, Train Accuracy: 94.02%\n",
      "Test Loss: 0.2547, Test Accuracy: 92.45%\n",
      "\n"
     ]
    },
    {
     "name": "stderr",
     "output_type": "stream",
     "text": [
      "Epoch 397: 100%|██████████| 938/938 [00:54<00:00, 17.19batch/s, Train Loss=0.157, Train Acc=94]  \n"
     ]
    },
    {
     "name": "stdout",
     "output_type": "stream",
     "text": [
      "Epoch 397\n",
      "Train Loss: 0.1571, Train Accuracy: 93.95%\n",
      "Test Loss: 0.2543, Test Accuracy: 92.37%\n",
      "\n"
     ]
    },
    {
     "name": "stderr",
     "output_type": "stream",
     "text": [
      "Epoch 398: 100%|██████████| 938/938 [00:54<00:00, 17.15batch/s, Train Loss=0.161, Train Acc=93.8]\n"
     ]
    },
    {
     "name": "stdout",
     "output_type": "stream",
     "text": [
      "Epoch 398\n",
      "Train Loss: 0.1613, Train Accuracy: 93.78%\n",
      "Test Loss: 0.2500, Test Accuracy: 92.42%\n",
      "\n"
     ]
    },
    {
     "name": "stderr",
     "output_type": "stream",
     "text": [
      "Epoch 399: 100%|██████████| 938/938 [00:54<00:00, 17.20batch/s, Train Loss=0.156, Train Acc=94]  \n"
     ]
    },
    {
     "name": "stdout",
     "output_type": "stream",
     "text": [
      "Epoch 399\n",
      "Train Loss: 0.1556, Train Accuracy: 94.03%\n",
      "Test Loss: 0.2595, Test Accuracy: 92.34%\n",
      "\n"
     ]
    },
    {
     "name": "stderr",
     "output_type": "stream",
     "text": [
      "Epoch 400: 100%|██████████| 938/938 [00:54<00:00, 17.13batch/s, Train Loss=0.159, Train Acc=93.9]\n"
     ]
    },
    {
     "name": "stdout",
     "output_type": "stream",
     "text": [
      "Epoch 400\n",
      "Train Loss: 0.1586, Train Accuracy: 93.89%\n",
      "Test Loss: 0.2565, Test Accuracy: 92.37%\n",
      "\n"
     ]
    },
    {
     "name": "stderr",
     "output_type": "stream",
     "text": [
      "Epoch 401: 100%|██████████| 938/938 [00:54<00:00, 17.19batch/s, Train Loss=0.156, Train Acc=94.1]\n"
     ]
    },
    {
     "name": "stdout",
     "output_type": "stream",
     "text": [
      "Epoch 401\n",
      "Train Loss: 0.1557, Train Accuracy: 94.05%\n",
      "Test Loss: 0.2523, Test Accuracy: 92.38%\n",
      "\n"
     ]
    },
    {
     "name": "stderr",
     "output_type": "stream",
     "text": [
      "Epoch 402: 100%|██████████| 938/938 [00:54<00:00, 17.21batch/s, Train Loss=0.156, Train Acc=93.9]\n"
     ]
    },
    {
     "name": "stdout",
     "output_type": "stream",
     "text": [
      "Epoch 402\n",
      "Train Loss: 0.1562, Train Accuracy: 93.89%\n",
      "Test Loss: 0.2567, Test Accuracy: 92.37%\n",
      "\n"
     ]
    },
    {
     "name": "stderr",
     "output_type": "stream",
     "text": [
      "Epoch 403: 100%|██████████| 938/938 [00:54<00:00, 17.17batch/s, Train Loss=0.157, Train Acc=94]  \n"
     ]
    },
    {
     "name": "stdout",
     "output_type": "stream",
     "text": [
      "Epoch 403\n",
      "Train Loss: 0.1570, Train Accuracy: 93.95%\n",
      "Test Loss: 0.2563, Test Accuracy: 92.32%\n",
      "\n"
     ]
    },
    {
     "name": "stderr",
     "output_type": "stream",
     "text": [
      "Epoch 404: 100%|██████████| 938/938 [00:54<00:00, 17.19batch/s, Train Loss=0.154, Train Acc=94]  \n"
     ]
    },
    {
     "name": "stdout",
     "output_type": "stream",
     "text": [
      "Epoch 404\n",
      "Train Loss: 0.1544, Train Accuracy: 94.03%\n",
      "Test Loss: 0.2600, Test Accuracy: 92.00%\n",
      "\n"
     ]
    },
    {
     "name": "stderr",
     "output_type": "stream",
     "text": [
      "Epoch 405: 100%|██████████| 938/938 [00:54<00:00, 17.26batch/s, Train Loss=0.156, Train Acc=93.9]\n"
     ]
    },
    {
     "name": "stdout",
     "output_type": "stream",
     "text": [
      "Epoch 405\n",
      "Train Loss: 0.1563, Train Accuracy: 93.93%\n",
      "Test Loss: 0.2613, Test Accuracy: 92.30%\n",
      "\n"
     ]
    },
    {
     "name": "stderr",
     "output_type": "stream",
     "text": [
      "Epoch 406: 100%|██████████| 938/938 [00:54<00:00, 17.18batch/s, Train Loss=0.158, Train Acc=93.9]\n"
     ]
    },
    {
     "name": "stdout",
     "output_type": "stream",
     "text": [
      "Epoch 406\n",
      "Train Loss: 0.1581, Train Accuracy: 93.85%\n",
      "Test Loss: 0.2539, Test Accuracy: 92.36%\n",
      "\n"
     ]
    },
    {
     "name": "stderr",
     "output_type": "stream",
     "text": [
      "Epoch 407: 100%|██████████| 938/938 [00:54<00:00, 17.11batch/s, Train Loss=0.155, Train Acc=94.1]\n"
     ]
    },
    {
     "name": "stdout",
     "output_type": "stream",
     "text": [
      "Epoch 407\n",
      "Train Loss: 0.1551, Train Accuracy: 94.07%\n",
      "Test Loss: 0.2592, Test Accuracy: 92.19%\n",
      "\n"
     ]
    },
    {
     "name": "stderr",
     "output_type": "stream",
     "text": [
      "Epoch 408: 100%|██████████| 938/938 [00:54<00:00, 17.11batch/s, Train Loss=0.154, Train Acc=94.1]\n"
     ]
    },
    {
     "name": "stdout",
     "output_type": "stream",
     "text": [
      "Epoch 408\n",
      "Train Loss: 0.1537, Train Accuracy: 94.12%\n",
      "Test Loss: 0.2561, Test Accuracy: 92.51%\n",
      "\n"
     ]
    },
    {
     "name": "stderr",
     "output_type": "stream",
     "text": [
      "Epoch 409: 100%|██████████| 938/938 [00:54<00:00, 17.16batch/s, Train Loss=0.155, Train Acc=94]  \n"
     ]
    },
    {
     "name": "stdout",
     "output_type": "stream",
     "text": [
      "Epoch 409\n",
      "Train Loss: 0.1549, Train Accuracy: 93.95%\n",
      "Test Loss: 0.2539, Test Accuracy: 92.34%\n",
      "\n"
     ]
    },
    {
     "name": "stderr",
     "output_type": "stream",
     "text": [
      "Epoch 410: 100%|██████████| 938/938 [00:54<00:00, 17.15batch/s, Train Loss=0.154, Train Acc=94.1]\n"
     ]
    },
    {
     "name": "stdout",
     "output_type": "stream",
     "text": [
      "Epoch 410\n",
      "Train Loss: 0.1543, Train Accuracy: 94.10%\n",
      "Test Loss: 0.2507, Test Accuracy: 92.38%\n",
      "\n"
     ]
    },
    {
     "name": "stderr",
     "output_type": "stream",
     "text": [
      "Epoch 411: 100%|██████████| 938/938 [00:54<00:00, 17.13batch/s, Train Loss=0.152, Train Acc=94.1]\n"
     ]
    },
    {
     "name": "stdout",
     "output_type": "stream",
     "text": [
      "Epoch 411\n",
      "Train Loss: 0.1525, Train Accuracy: 94.11%\n",
      "Test Loss: 0.2600, Test Accuracy: 92.17%\n",
      "\n"
     ]
    },
    {
     "name": "stderr",
     "output_type": "stream",
     "text": [
      "Epoch 412: 100%|██████████| 938/938 [00:54<00:00, 17.27batch/s, Train Loss=0.158, Train Acc=93.9]\n"
     ]
    },
    {
     "name": "stdout",
     "output_type": "stream",
     "text": [
      "Epoch 412\n",
      "Train Loss: 0.1583, Train Accuracy: 93.89%\n",
      "Test Loss: 0.2526, Test Accuracy: 92.32%\n",
      "\n"
     ]
    },
    {
     "name": "stderr",
     "output_type": "stream",
     "text": [
      "Epoch 413: 100%|██████████| 938/938 [00:54<00:00, 17.11batch/s, Train Loss=0.157, Train Acc=94]  \n"
     ]
    },
    {
     "name": "stdout",
     "output_type": "stream",
     "text": [
      "Epoch 413\n",
      "Train Loss: 0.1570, Train Accuracy: 93.99%\n",
      "Test Loss: 0.2585, Test Accuracy: 92.19%\n",
      "\n"
     ]
    },
    {
     "name": "stderr",
     "output_type": "stream",
     "text": [
      "Epoch 414: 100%|██████████| 938/938 [00:54<00:00, 17.15batch/s, Train Loss=0.155, Train Acc=94.1]\n"
     ]
    },
    {
     "name": "stdout",
     "output_type": "stream",
     "text": [
      "Epoch 414\n",
      "Train Loss: 0.1550, Train Accuracy: 94.07%\n",
      "Test Loss: 0.2559, Test Accuracy: 92.12%\n",
      "\n"
     ]
    },
    {
     "name": "stderr",
     "output_type": "stream",
     "text": [
      "Epoch 415: 100%|██████████| 938/938 [00:54<00:00, 17.14batch/s, Train Loss=0.158, Train Acc=94]  \n"
     ]
    },
    {
     "name": "stdout",
     "output_type": "stream",
     "text": [
      "Epoch 415\n",
      "Train Loss: 0.1578, Train Accuracy: 93.96%\n",
      "Test Loss: 0.2510, Test Accuracy: 92.31%\n",
      "\n"
     ]
    },
    {
     "name": "stderr",
     "output_type": "stream",
     "text": [
      "Epoch 416: 100%|██████████| 938/938 [00:54<00:00, 17.18batch/s, Train Loss=0.154, Train Acc=94.1]\n"
     ]
    },
    {
     "name": "stdout",
     "output_type": "stream",
     "text": [
      "Epoch 416\n",
      "Train Loss: 0.1537, Train Accuracy: 94.09%\n",
      "Test Loss: 0.2515, Test Accuracy: 92.69%\n",
      "\n"
     ]
    },
    {
     "name": "stderr",
     "output_type": "stream",
     "text": [
      "Epoch 417: 100%|██████████| 938/938 [00:54<00:00, 17.20batch/s, Train Loss=0.156, Train Acc=94]  \n"
     ]
    },
    {
     "name": "stdout",
     "output_type": "stream",
     "text": [
      "Epoch 417\n",
      "Train Loss: 0.1558, Train Accuracy: 94.01%\n",
      "Test Loss: 0.2539, Test Accuracy: 92.37%\n",
      "\n"
     ]
    },
    {
     "name": "stderr",
     "output_type": "stream",
     "text": [
      "Epoch 418: 100%|██████████| 938/938 [00:54<00:00, 17.12batch/s, Train Loss=0.153, Train Acc=94]  \n"
     ]
    },
    {
     "name": "stdout",
     "output_type": "stream",
     "text": [
      "Epoch 418\n",
      "Train Loss: 0.1531, Train Accuracy: 94.02%\n",
      "Test Loss: 0.2647, Test Accuracy: 92.17%\n",
      "\n"
     ]
    },
    {
     "name": "stderr",
     "output_type": "stream",
     "text": [
      "Epoch 419: 100%|██████████| 938/938 [00:54<00:00, 17.14batch/s, Train Loss=0.156, Train Acc=94]  \n"
     ]
    },
    {
     "name": "stdout",
     "output_type": "stream",
     "text": [
      "Epoch 419\n",
      "Train Loss: 0.1562, Train Accuracy: 93.99%\n",
      "Test Loss: 0.2591, Test Accuracy: 92.37%\n",
      "\n"
     ]
    },
    {
     "name": "stderr",
     "output_type": "stream",
     "text": [
      "Epoch 420: 100%|██████████| 938/938 [00:54<00:00, 17.17batch/s, Train Loss=0.154, Train Acc=94.1]\n"
     ]
    },
    {
     "name": "stdout",
     "output_type": "stream",
     "text": [
      "Epoch 420\n",
      "Train Loss: 0.1536, Train Accuracy: 94.06%\n",
      "Test Loss: 0.2531, Test Accuracy: 92.29%\n",
      "\n"
     ]
    },
    {
     "name": "stderr",
     "output_type": "stream",
     "text": [
      "Epoch 421: 100%|██████████| 938/938 [00:55<00:00, 17.01batch/s, Train Loss=0.153, Train Acc=94.1]\n"
     ]
    },
    {
     "name": "stdout",
     "output_type": "stream",
     "text": [
      "Epoch 421\n",
      "Train Loss: 0.1527, Train Accuracy: 94.07%\n",
      "Test Loss: 0.2608, Test Accuracy: 92.23%\n",
      "\n"
     ]
    },
    {
     "name": "stderr",
     "output_type": "stream",
     "text": [
      "Epoch 422: 100%|██████████| 938/938 [00:54<00:00, 17.13batch/s, Train Loss=0.153, Train Acc=94]  \n"
     ]
    },
    {
     "name": "stdout",
     "output_type": "stream",
     "text": [
      "Epoch 422\n",
      "Train Loss: 0.1533, Train Accuracy: 94.03%\n",
      "Test Loss: 0.2548, Test Accuracy: 92.51%\n",
      "\n"
     ]
    },
    {
     "name": "stderr",
     "output_type": "stream",
     "text": [
      "Epoch 423: 100%|██████████| 938/938 [00:54<00:00, 17.10batch/s, Train Loss=0.152, Train Acc=94.1]\n"
     ]
    },
    {
     "name": "stdout",
     "output_type": "stream",
     "text": [
      "Epoch 423\n",
      "Train Loss: 0.1520, Train Accuracy: 94.06%\n",
      "Test Loss: 0.2551, Test Accuracy: 92.58%\n",
      "\n"
     ]
    },
    {
     "name": "stderr",
     "output_type": "stream",
     "text": [
      "Epoch 424: 100%|██████████| 938/938 [00:54<00:00, 17.20batch/s, Train Loss=0.154, Train Acc=94.1]\n"
     ]
    },
    {
     "name": "stdout",
     "output_type": "stream",
     "text": [
      "Epoch 424\n",
      "Train Loss: 0.1535, Train Accuracy: 94.08%\n",
      "Test Loss: 0.2575, Test Accuracy: 92.40%\n",
      "\n"
     ]
    },
    {
     "name": "stderr",
     "output_type": "stream",
     "text": [
      "Epoch 425: 100%|██████████| 938/938 [00:54<00:00, 17.21batch/s, Train Loss=0.153, Train Acc=94.1]\n"
     ]
    },
    {
     "name": "stdout",
     "output_type": "stream",
     "text": [
      "Epoch 425\n",
      "Train Loss: 0.1525, Train Accuracy: 94.09%\n",
      "Test Loss: 0.2615, Test Accuracy: 92.46%\n",
      "\n"
     ]
    },
    {
     "name": "stderr",
     "output_type": "stream",
     "text": [
      "Epoch 426: 100%|██████████| 938/938 [00:54<00:00, 17.16batch/s, Train Loss=0.154, Train Acc=94]  \n"
     ]
    },
    {
     "name": "stdout",
     "output_type": "stream",
     "text": [
      "Epoch 426\n",
      "Train Loss: 0.1540, Train Accuracy: 93.99%\n",
      "Test Loss: 0.2548, Test Accuracy: 92.65%\n",
      "\n"
     ]
    },
    {
     "name": "stderr",
     "output_type": "stream",
     "text": [
      "Epoch 427: 100%|██████████| 938/938 [00:54<00:00, 17.20batch/s, Train Loss=0.15, Train Acc=94.1] \n"
     ]
    },
    {
     "name": "stdout",
     "output_type": "stream",
     "text": [
      "Epoch 427\n",
      "Train Loss: 0.1503, Train Accuracy: 94.08%\n",
      "Test Loss: 0.2582, Test Accuracy: 92.55%\n",
      "\n"
     ]
    },
    {
     "name": "stderr",
     "output_type": "stream",
     "text": [
      "Epoch 428: 100%|██████████| 938/938 [00:54<00:00, 17.08batch/s, Train Loss=0.156, Train Acc=94]  \n"
     ]
    },
    {
     "name": "stdout",
     "output_type": "stream",
     "text": [
      "Epoch 428\n",
      "Train Loss: 0.1561, Train Accuracy: 94.02%\n",
      "Test Loss: 0.2586, Test Accuracy: 92.07%\n",
      "\n"
     ]
    },
    {
     "name": "stderr",
     "output_type": "stream",
     "text": [
      "Epoch 429: 100%|██████████| 938/938 [00:54<00:00, 17.13batch/s, Train Loss=0.154, Train Acc=94.1]\n"
     ]
    },
    {
     "name": "stdout",
     "output_type": "stream",
     "text": [
      "Epoch 429\n",
      "Train Loss: 0.1543, Train Accuracy: 94.09%\n",
      "Test Loss: 0.2525, Test Accuracy: 92.69%\n",
      "\n"
     ]
    },
    {
     "name": "stderr",
     "output_type": "stream",
     "text": [
      "Epoch 430: 100%|██████████| 938/938 [00:54<00:00, 17.07batch/s, Train Loss=0.153, Train Acc=94.1]\n"
     ]
    },
    {
     "name": "stdout",
     "output_type": "stream",
     "text": [
      "Epoch 430\n",
      "Train Loss: 0.1531, Train Accuracy: 94.08%\n",
      "Test Loss: 0.2589, Test Accuracy: 92.21%\n",
      "\n"
     ]
    },
    {
     "name": "stderr",
     "output_type": "stream",
     "text": [
      "Epoch 431: 100%|██████████| 938/938 [00:54<00:00, 17.23batch/s, Train Loss=0.154, Train Acc=94.1]\n"
     ]
    },
    {
     "name": "stdout",
     "output_type": "stream",
     "text": [
      "Epoch 431\n",
      "Train Loss: 0.1540, Train Accuracy: 94.08%\n",
      "Test Loss: 0.2600, Test Accuracy: 92.51%\n",
      "\n"
     ]
    },
    {
     "name": "stderr",
     "output_type": "stream",
     "text": [
      "Epoch 432: 100%|██████████| 938/938 [00:54<00:00, 17.06batch/s, Train Loss=0.154, Train Acc=94]  \n"
     ]
    },
    {
     "name": "stdout",
     "output_type": "stream",
     "text": [
      "Epoch 432\n",
      "Train Loss: 0.1543, Train Accuracy: 94.01%\n",
      "Test Loss: 0.2596, Test Accuracy: 92.43%\n",
      "\n"
     ]
    },
    {
     "name": "stderr",
     "output_type": "stream",
     "text": [
      "Epoch 433: 100%|██████████| 938/938 [00:54<00:00, 17.10batch/s, Train Loss=0.153, Train Acc=94.2]\n"
     ]
    },
    {
     "name": "stdout",
     "output_type": "stream",
     "text": [
      "Epoch 433\n",
      "Train Loss: 0.1525, Train Accuracy: 94.16%\n",
      "Test Loss: 0.2596, Test Accuracy: 92.36%\n",
      "\n"
     ]
    },
    {
     "name": "stderr",
     "output_type": "stream",
     "text": [
      "Epoch 434: 100%|██████████| 938/938 [00:54<00:00, 17.14batch/s, Train Loss=0.155, Train Acc=94.1]\n"
     ]
    },
    {
     "name": "stdout",
     "output_type": "stream",
     "text": [
      "Epoch 434\n",
      "Train Loss: 0.1551, Train Accuracy: 94.09%\n",
      "Test Loss: 0.2658, Test Accuracy: 92.22%\n",
      "\n"
     ]
    },
    {
     "name": "stderr",
     "output_type": "stream",
     "text": [
      "Epoch 435: 100%|██████████| 938/938 [00:54<00:00, 17.16batch/s, Train Loss=0.154, Train Acc=94]  \n"
     ]
    },
    {
     "name": "stdout",
     "output_type": "stream",
     "text": [
      "Epoch 435\n",
      "Train Loss: 0.1540, Train Accuracy: 94.00%\n",
      "Test Loss: 0.2572, Test Accuracy: 92.56%\n",
      "\n"
     ]
    },
    {
     "name": "stderr",
     "output_type": "stream",
     "text": [
      "Epoch 436: 100%|██████████| 938/938 [00:54<00:00, 17.20batch/s, Train Loss=0.154, Train Acc=94.1]\n"
     ]
    },
    {
     "name": "stdout",
     "output_type": "stream",
     "text": [
      "Epoch 436\n",
      "Train Loss: 0.1543, Train Accuracy: 94.06%\n",
      "Test Loss: 0.2558, Test Accuracy: 92.72%\n",
      "\n"
     ]
    },
    {
     "name": "stderr",
     "output_type": "stream",
     "text": [
      "Epoch 437: 100%|██████████| 938/938 [00:55<00:00, 16.98batch/s, Train Loss=0.15, Train Acc=94.2] \n"
     ]
    },
    {
     "name": "stdout",
     "output_type": "stream",
     "text": [
      "Epoch 437\n",
      "Train Loss: 0.1504, Train Accuracy: 94.16%\n",
      "Test Loss: 0.2565, Test Accuracy: 92.56%\n",
      "\n"
     ]
    },
    {
     "name": "stderr",
     "output_type": "stream",
     "text": [
      "Epoch 438: 100%|██████████| 938/938 [00:54<00:00, 17.14batch/s, Train Loss=0.153, Train Acc=94.1]\n"
     ]
    },
    {
     "name": "stdout",
     "output_type": "stream",
     "text": [
      "Epoch 438\n",
      "Train Loss: 0.1527, Train Accuracy: 94.05%\n",
      "Test Loss: 0.2522, Test Accuracy: 92.68%\n",
      "\n"
     ]
    },
    {
     "name": "stderr",
     "output_type": "stream",
     "text": [
      "Epoch 439: 100%|██████████| 938/938 [00:54<00:00, 17.21batch/s, Train Loss=0.151, Train Acc=94.3]\n"
     ]
    },
    {
     "name": "stdout",
     "output_type": "stream",
     "text": [
      "Epoch 439\n",
      "Train Loss: 0.1508, Train Accuracy: 94.30%\n",
      "Test Loss: 0.2527, Test Accuracy: 92.50%\n",
      "\n"
     ]
    },
    {
     "name": "stderr",
     "output_type": "stream",
     "text": [
      "Epoch 440: 100%|██████████| 938/938 [00:54<00:00, 17.16batch/s, Train Loss=0.153, Train Acc=94.2]\n"
     ]
    },
    {
     "name": "stdout",
     "output_type": "stream",
     "text": [
      "Epoch 440\n",
      "Train Loss: 0.1531, Train Accuracy: 94.18%\n",
      "Test Loss: 0.2514, Test Accuracy: 92.69%\n",
      "\n"
     ]
    },
    {
     "name": "stderr",
     "output_type": "stream",
     "text": [
      "Epoch 441: 100%|██████████| 938/938 [00:54<00:00, 17.09batch/s, Train Loss=0.151, Train Acc=94.2]\n"
     ]
    },
    {
     "name": "stdout",
     "output_type": "stream",
     "text": [
      "Epoch 441\n",
      "Train Loss: 0.1505, Train Accuracy: 94.21%\n",
      "Test Loss: 0.2530, Test Accuracy: 92.61%\n",
      "\n"
     ]
    },
    {
     "name": "stderr",
     "output_type": "stream",
     "text": [
      "Epoch 442: 100%|██████████| 938/938 [00:54<00:00, 17.17batch/s, Train Loss=0.152, Train Acc=94]  \n"
     ]
    },
    {
     "name": "stdout",
     "output_type": "stream",
     "text": [
      "Epoch 442\n",
      "Train Loss: 0.1523, Train Accuracy: 94.02%\n",
      "Test Loss: 0.2486, Test Accuracy: 92.79%\n",
      "\n"
     ]
    },
    {
     "name": "stderr",
     "output_type": "stream",
     "text": [
      "Epoch 443: 100%|██████████| 938/938 [00:54<00:00, 17.11batch/s, Train Loss=0.152, Train Acc=94.2]\n"
     ]
    },
    {
     "name": "stdout",
     "output_type": "stream",
     "text": [
      "Epoch 443\n",
      "Train Loss: 0.1518, Train Accuracy: 94.24%\n",
      "Test Loss: 0.2499, Test Accuracy: 92.66%\n",
      "\n"
     ]
    },
    {
     "name": "stderr",
     "output_type": "stream",
     "text": [
      "Epoch 444: 100%|██████████| 938/938 [00:54<00:00, 17.07batch/s, Train Loss=0.151, Train Acc=94.1]\n"
     ]
    },
    {
     "name": "stdout",
     "output_type": "stream",
     "text": [
      "Epoch 444\n",
      "Train Loss: 0.1508, Train Accuracy: 94.14%\n",
      "Test Loss: 0.2583, Test Accuracy: 92.18%\n",
      "\n"
     ]
    },
    {
     "name": "stderr",
     "output_type": "stream",
     "text": [
      "Epoch 445: 100%|██████████| 938/938 [00:54<00:00, 17.24batch/s, Train Loss=0.149, Train Acc=94.2]\n"
     ]
    },
    {
     "name": "stdout",
     "output_type": "stream",
     "text": [
      "Epoch 445\n",
      "Train Loss: 0.1493, Train Accuracy: 94.21%\n",
      "Test Loss: 0.2580, Test Accuracy: 92.53%\n",
      "\n"
     ]
    },
    {
     "name": "stderr",
     "output_type": "stream",
     "text": [
      "Epoch 446: 100%|██████████| 938/938 [00:54<00:00, 17.19batch/s, Train Loss=0.151, Train Acc=94.2]\n"
     ]
    },
    {
     "name": "stdout",
     "output_type": "stream",
     "text": [
      "Epoch 446\n",
      "Train Loss: 0.1507, Train Accuracy: 94.25%\n",
      "Test Loss: 0.2589, Test Accuracy: 92.22%\n",
      "\n"
     ]
    },
    {
     "name": "stderr",
     "output_type": "stream",
     "text": [
      "Epoch 447: 100%|██████████| 938/938 [00:54<00:00, 17.14batch/s, Train Loss=0.15, Train Acc=94.3] \n"
     ]
    },
    {
     "name": "stdout",
     "output_type": "stream",
     "text": [
      "Epoch 447\n",
      "Train Loss: 0.1498, Train Accuracy: 94.27%\n",
      "Test Loss: 0.2556, Test Accuracy: 92.47%\n",
      "\n"
     ]
    },
    {
     "name": "stderr",
     "output_type": "stream",
     "text": [
      "Epoch 448: 100%|██████████| 938/938 [00:54<00:00, 17.16batch/s, Train Loss=0.151, Train Acc=94.2]\n"
     ]
    },
    {
     "name": "stdout",
     "output_type": "stream",
     "text": [
      "Epoch 448\n",
      "Train Loss: 0.1510, Train Accuracy: 94.22%\n",
      "Test Loss: 0.2587, Test Accuracy: 92.29%\n",
      "\n"
     ]
    },
    {
     "name": "stderr",
     "output_type": "stream",
     "text": [
      "Epoch 449: 100%|██████████| 938/938 [00:54<00:00, 17.14batch/s, Train Loss=0.151, Train Acc=94.1]\n"
     ]
    },
    {
     "name": "stdout",
     "output_type": "stream",
     "text": [
      "Epoch 449\n",
      "Train Loss: 0.1510, Train Accuracy: 94.11%\n",
      "Test Loss: 0.2521, Test Accuracy: 92.68%\n",
      "\n"
     ]
    },
    {
     "name": "stderr",
     "output_type": "stream",
     "text": [
      "Epoch 450: 100%|██████████| 938/938 [00:54<00:00, 17.12batch/s, Train Loss=0.149, Train Acc=94.2]\n"
     ]
    },
    {
     "name": "stdout",
     "output_type": "stream",
     "text": [
      "Epoch 450\n",
      "Train Loss: 0.1494, Train Accuracy: 94.20%\n",
      "Test Loss: 0.2655, Test Accuracy: 92.52%\n",
      "\n"
     ]
    },
    {
     "name": "stderr",
     "output_type": "stream",
     "text": [
      "Epoch 451: 100%|██████████| 938/938 [00:54<00:00, 17.14batch/s, Train Loss=0.152, Train Acc=94.1]\n"
     ]
    },
    {
     "name": "stdout",
     "output_type": "stream",
     "text": [
      "Epoch 451\n",
      "Train Loss: 0.1522, Train Accuracy: 94.10%\n",
      "Test Loss: 0.2652, Test Accuracy: 92.57%\n",
      "\n"
     ]
    },
    {
     "name": "stderr",
     "output_type": "stream",
     "text": [
      "Epoch 452: 100%|██████████| 938/938 [00:54<00:00, 17.08batch/s, Train Loss=0.148, Train Acc=94.3]\n"
     ]
    },
    {
     "name": "stdout",
     "output_type": "stream",
     "text": [
      "Epoch 452\n",
      "Train Loss: 0.1483, Train Accuracy: 94.31%\n",
      "Test Loss: 0.2641, Test Accuracy: 92.40%\n",
      "\n"
     ]
    },
    {
     "name": "stderr",
     "output_type": "stream",
     "text": [
      "Epoch 453: 100%|██████████| 938/938 [00:54<00:00, 17.20batch/s, Train Loss=0.15, Train Acc=94.2] \n"
     ]
    },
    {
     "name": "stdout",
     "output_type": "stream",
     "text": [
      "Epoch 453\n",
      "Train Loss: 0.1497, Train Accuracy: 94.22%\n",
      "Test Loss: 0.2637, Test Accuracy: 92.60%\n",
      "\n"
     ]
    },
    {
     "name": "stderr",
     "output_type": "stream",
     "text": [
      "Epoch 454: 100%|██████████| 938/938 [00:54<00:00, 17.24batch/s, Train Loss=0.149, Train Acc=94.3]\n"
     ]
    },
    {
     "name": "stdout",
     "output_type": "stream",
     "text": [
      "Epoch 454\n",
      "Train Loss: 0.1489, Train Accuracy: 94.30%\n",
      "Test Loss: 0.2666, Test Accuracy: 92.51%\n",
      "\n"
     ]
    },
    {
     "name": "stderr",
     "output_type": "stream",
     "text": [
      "Epoch 455: 100%|██████████| 938/938 [00:54<00:00, 17.08batch/s, Train Loss=0.151, Train Acc=94.3]\n"
     ]
    },
    {
     "name": "stdout",
     "output_type": "stream",
     "text": [
      "Epoch 455\n",
      "Train Loss: 0.1511, Train Accuracy: 94.28%\n",
      "Test Loss: 0.2584, Test Accuracy: 92.56%\n",
      "\n"
     ]
    },
    {
     "name": "stderr",
     "output_type": "stream",
     "text": [
      "Epoch 456: 100%|██████████| 938/938 [00:54<00:00, 17.12batch/s, Train Loss=0.151, Train Acc=94.2]\n"
     ]
    },
    {
     "name": "stdout",
     "output_type": "stream",
     "text": [
      "Epoch 456\n",
      "Train Loss: 0.1514, Train Accuracy: 94.15%\n",
      "Test Loss: 0.2634, Test Accuracy: 92.15%\n",
      "\n"
     ]
    },
    {
     "name": "stderr",
     "output_type": "stream",
     "text": [
      "Epoch 457: 100%|██████████| 938/938 [00:54<00:00, 17.17batch/s, Train Loss=0.151, Train Acc=94.2]\n"
     ]
    },
    {
     "name": "stdout",
     "output_type": "stream",
     "text": [
      "Epoch 457\n",
      "Train Loss: 0.1507, Train Accuracy: 94.21%\n",
      "Test Loss: 0.2583, Test Accuracy: 92.55%\n",
      "\n"
     ]
    },
    {
     "name": "stderr",
     "output_type": "stream",
     "text": [
      "Epoch 458: 100%|██████████| 938/938 [00:54<00:00, 17.20batch/s, Train Loss=0.147, Train Acc=94.4]\n"
     ]
    },
    {
     "name": "stdout",
     "output_type": "stream",
     "text": [
      "Epoch 458\n",
      "Train Loss: 0.1473, Train Accuracy: 94.36%\n",
      "Test Loss: 0.2530, Test Accuracy: 92.80%\n",
      "\n"
     ]
    },
    {
     "name": "stderr",
     "output_type": "stream",
     "text": [
      "Epoch 459: 100%|██████████| 938/938 [00:54<00:00, 17.20batch/s, Train Loss=0.154, Train Acc=94.2]\n"
     ]
    },
    {
     "name": "stdout",
     "output_type": "stream",
     "text": [
      "Epoch 459\n",
      "Train Loss: 0.1540, Train Accuracy: 94.18%\n",
      "Test Loss: 0.2593, Test Accuracy: 92.43%\n",
      "\n"
     ]
    },
    {
     "name": "stderr",
     "output_type": "stream",
     "text": [
      "Epoch 460: 100%|██████████| 938/938 [00:54<00:00, 17.11batch/s, Train Loss=0.15, Train Acc=94.2] \n"
     ]
    },
    {
     "name": "stdout",
     "output_type": "stream",
     "text": [
      "Epoch 460\n",
      "Train Loss: 0.1496, Train Accuracy: 94.20%\n",
      "Test Loss: 0.2608, Test Accuracy: 92.34%\n",
      "\n"
     ]
    },
    {
     "name": "stderr",
     "output_type": "stream",
     "text": [
      "Epoch 461: 100%|██████████| 938/938 [00:55<00:00, 17.04batch/s, Train Loss=0.148, Train Acc=94.3]\n"
     ]
    },
    {
     "name": "stdout",
     "output_type": "stream",
     "text": [
      "Epoch 461\n",
      "Train Loss: 0.1485, Train Accuracy: 94.29%\n",
      "Test Loss: 0.2601, Test Accuracy: 92.36%\n",
      "\n"
     ]
    },
    {
     "name": "stderr",
     "output_type": "stream",
     "text": [
      "Epoch 462: 100%|██████████| 938/938 [00:54<00:00, 17.07batch/s, Train Loss=0.149, Train Acc=94.2]\n"
     ]
    },
    {
     "name": "stdout",
     "output_type": "stream",
     "text": [
      "Epoch 462\n",
      "Train Loss: 0.1493, Train Accuracy: 94.24%\n",
      "Test Loss: 0.2544, Test Accuracy: 92.46%\n",
      "\n"
     ]
    },
    {
     "name": "stderr",
     "output_type": "stream",
     "text": [
      "Epoch 463: 100%|██████████| 938/938 [00:54<00:00, 17.11batch/s, Train Loss=0.147, Train Acc=94.3]\n"
     ]
    },
    {
     "name": "stdout",
     "output_type": "stream",
     "text": [
      "Epoch 463\n",
      "Train Loss: 0.1470, Train Accuracy: 94.32%\n",
      "Test Loss: 0.2676, Test Accuracy: 92.21%\n",
      "\n"
     ]
    },
    {
     "name": "stderr",
     "output_type": "stream",
     "text": [
      "Epoch 464: 100%|██████████| 938/938 [00:54<00:00, 17.16batch/s, Train Loss=0.144, Train Acc=94.5]\n"
     ]
    },
    {
     "name": "stdout",
     "output_type": "stream",
     "text": [
      "Epoch 464\n",
      "Train Loss: 0.1444, Train Accuracy: 94.50%\n",
      "Test Loss: 0.2643, Test Accuracy: 92.38%\n",
      "\n"
     ]
    },
    {
     "name": "stderr",
     "output_type": "stream",
     "text": [
      "Epoch 465: 100%|██████████| 938/938 [00:54<00:00, 17.22batch/s, Train Loss=0.149, Train Acc=94.2]\n"
     ]
    },
    {
     "name": "stdout",
     "output_type": "stream",
     "text": [
      "Epoch 465\n",
      "Train Loss: 0.1491, Train Accuracy: 94.20%\n",
      "Test Loss: 0.2572, Test Accuracy: 92.46%\n",
      "\n"
     ]
    },
    {
     "name": "stderr",
     "output_type": "stream",
     "text": [
      "Epoch 466: 100%|██████████| 938/938 [00:54<00:00, 17.12batch/s, Train Loss=0.151, Train Acc=94.2]\n"
     ]
    },
    {
     "name": "stdout",
     "output_type": "stream",
     "text": [
      "Epoch 466\n",
      "Train Loss: 0.1506, Train Accuracy: 94.24%\n",
      "Test Loss: 0.2528, Test Accuracy: 92.68%\n",
      "\n"
     ]
    },
    {
     "name": "stderr",
     "output_type": "stream",
     "text": [
      "Epoch 467: 100%|██████████| 938/938 [00:54<00:00, 17.22batch/s, Train Loss=0.148, Train Acc=94.4]\n"
     ]
    },
    {
     "name": "stdout",
     "output_type": "stream",
     "text": [
      "Epoch 467\n",
      "Train Loss: 0.1480, Train Accuracy: 94.36%\n",
      "Test Loss: 0.2559, Test Accuracy: 92.41%\n",
      "\n"
     ]
    },
    {
     "name": "stderr",
     "output_type": "stream",
     "text": [
      "Epoch 468: 100%|██████████| 938/938 [00:54<00:00, 17.06batch/s, Train Loss=0.147, Train Acc=94.3]\n"
     ]
    },
    {
     "name": "stdout",
     "output_type": "stream",
     "text": [
      "Epoch 468\n",
      "Train Loss: 0.1466, Train Accuracy: 94.26%\n",
      "Test Loss: 0.2556, Test Accuracy: 92.49%\n",
      "\n"
     ]
    },
    {
     "name": "stderr",
     "output_type": "stream",
     "text": [
      "Epoch 469: 100%|██████████| 938/938 [00:54<00:00, 17.16batch/s, Train Loss=0.148, Train Acc=94.2]\n"
     ]
    },
    {
     "name": "stdout",
     "output_type": "stream",
     "text": [
      "Epoch 469\n",
      "Train Loss: 0.1480, Train Accuracy: 94.25%\n",
      "Test Loss: 0.2482, Test Accuracy: 92.71%\n",
      "\n"
     ]
    },
    {
     "name": "stderr",
     "output_type": "stream",
     "text": [
      "Epoch 470: 100%|██████████| 938/938 [00:54<00:00, 17.23batch/s, Train Loss=0.147, Train Acc=94.3]\n"
     ]
    },
    {
     "name": "stdout",
     "output_type": "stream",
     "text": [
      "Epoch 470\n",
      "Train Loss: 0.1470, Train Accuracy: 94.35%\n",
      "Test Loss: 0.2602, Test Accuracy: 92.11%\n",
      "\n"
     ]
    },
    {
     "name": "stderr",
     "output_type": "stream",
     "text": [
      "Epoch 471: 100%|██████████| 938/938 [00:54<00:00, 17.14batch/s, Train Loss=0.146, Train Acc=94.3]\n"
     ]
    },
    {
     "name": "stdout",
     "output_type": "stream",
     "text": [
      "Epoch 471\n",
      "Train Loss: 0.1460, Train Accuracy: 94.32%\n",
      "Test Loss: 0.2554, Test Accuracy: 92.49%\n",
      "\n"
     ]
    },
    {
     "name": "stderr",
     "output_type": "stream",
     "text": [
      "Epoch 472: 100%|██████████| 938/938 [00:54<00:00, 17.15batch/s, Train Loss=0.146, Train Acc=94.3]\n"
     ]
    },
    {
     "name": "stdout",
     "output_type": "stream",
     "text": [
      "Epoch 472\n",
      "Train Loss: 0.1455, Train Accuracy: 94.28%\n",
      "Test Loss: 0.2604, Test Accuracy: 92.54%\n",
      "\n"
     ]
    },
    {
     "name": "stderr",
     "output_type": "stream",
     "text": [
      "Epoch 473: 100%|██████████| 938/938 [00:54<00:00, 17.15batch/s, Train Loss=0.145, Train Acc=94.4]\n"
     ]
    },
    {
     "name": "stdout",
     "output_type": "stream",
     "text": [
      "Epoch 473\n",
      "Train Loss: 0.1451, Train Accuracy: 94.40%\n",
      "Test Loss: 0.2680, Test Accuracy: 92.17%\n",
      "\n"
     ]
    },
    {
     "name": "stderr",
     "output_type": "stream",
     "text": [
      "Epoch 474: 100%|██████████| 938/938 [00:54<00:00, 17.07batch/s, Train Loss=0.149, Train Acc=94.3]\n"
     ]
    },
    {
     "name": "stdout",
     "output_type": "stream",
     "text": [
      "Epoch 474\n",
      "Train Loss: 0.1488, Train Accuracy: 94.34%\n",
      "Test Loss: 0.2641, Test Accuracy: 92.56%\n",
      "\n"
     ]
    },
    {
     "name": "stderr",
     "output_type": "stream",
     "text": [
      "Epoch 475: 100%|██████████| 938/938 [00:54<00:00, 17.17batch/s, Train Loss=0.145, Train Acc=94.4]\n"
     ]
    },
    {
     "name": "stdout",
     "output_type": "stream",
     "text": [
      "Epoch 475\n",
      "Train Loss: 0.1445, Train Accuracy: 94.41%\n",
      "Test Loss: 0.2706, Test Accuracy: 92.44%\n",
      "\n"
     ]
    },
    {
     "name": "stderr",
     "output_type": "stream",
     "text": [
      "Epoch 476: 100%|██████████| 938/938 [00:54<00:00, 17.12batch/s, Train Loss=0.147, Train Acc=94.3]\n"
     ]
    },
    {
     "name": "stdout",
     "output_type": "stream",
     "text": [
      "Epoch 476\n",
      "Train Loss: 0.1473, Train Accuracy: 94.28%\n",
      "Test Loss: 0.2684, Test Accuracy: 92.46%\n",
      "\n"
     ]
    },
    {
     "name": "stderr",
     "output_type": "stream",
     "text": [
      "Epoch 477: 100%|██████████| 938/938 [00:54<00:00, 17.21batch/s, Train Loss=0.148, Train Acc=94.3]\n"
     ]
    },
    {
     "name": "stdout",
     "output_type": "stream",
     "text": [
      "Epoch 477\n",
      "Train Loss: 0.1480, Train Accuracy: 94.31%\n",
      "Test Loss: 0.2637, Test Accuracy: 92.37%\n",
      "\n"
     ]
    },
    {
     "name": "stderr",
     "output_type": "stream",
     "text": [
      "Epoch 478: 100%|██████████| 938/938 [00:54<00:00, 17.18batch/s, Train Loss=0.148, Train Acc=94.3]\n"
     ]
    },
    {
     "name": "stdout",
     "output_type": "stream",
     "text": [
      "Epoch 478\n",
      "Train Loss: 0.1481, Train Accuracy: 94.31%\n",
      "Test Loss: 0.2577, Test Accuracy: 92.36%\n",
      "\n"
     ]
    },
    {
     "name": "stderr",
     "output_type": "stream",
     "text": [
      "Epoch 479: 100%|██████████| 938/938 [00:54<00:00, 17.13batch/s, Train Loss=0.149, Train Acc=94.3]\n"
     ]
    },
    {
     "name": "stdout",
     "output_type": "stream",
     "text": [
      "Epoch 479\n",
      "Train Loss: 0.1486, Train Accuracy: 94.31%\n",
      "Test Loss: 0.2599, Test Accuracy: 92.41%\n",
      "\n"
     ]
    },
    {
     "name": "stderr",
     "output_type": "stream",
     "text": [
      "Epoch 480: 100%|██████████| 938/938 [00:54<00:00, 17.13batch/s, Train Loss=0.147, Train Acc=94.4]\n"
     ]
    },
    {
     "name": "stdout",
     "output_type": "stream",
     "text": [
      "Epoch 480\n",
      "Train Loss: 0.1470, Train Accuracy: 94.39%\n",
      "Test Loss: 0.2589, Test Accuracy: 92.60%\n",
      "\n"
     ]
    },
    {
     "name": "stderr",
     "output_type": "stream",
     "text": [
      "Epoch 481: 100%|██████████| 938/938 [00:54<00:00, 17.11batch/s, Train Loss=0.147, Train Acc=94.3]\n"
     ]
    },
    {
     "name": "stdout",
     "output_type": "stream",
     "text": [
      "Epoch 481\n",
      "Train Loss: 0.1470, Train Accuracy: 94.31%\n",
      "Test Loss: 0.2587, Test Accuracy: 92.34%\n",
      "\n"
     ]
    },
    {
     "name": "stderr",
     "output_type": "stream",
     "text": [
      "Epoch 482: 100%|██████████| 938/938 [00:54<00:00, 17.16batch/s, Train Loss=0.147, Train Acc=94.3]\n"
     ]
    },
    {
     "name": "stdout",
     "output_type": "stream",
     "text": [
      "Epoch 482\n",
      "Train Loss: 0.1470, Train Accuracy: 94.29%\n",
      "Test Loss: 0.2641, Test Accuracy: 92.39%\n",
      "\n"
     ]
    },
    {
     "name": "stderr",
     "output_type": "stream",
     "text": [
      "Epoch 483: 100%|██████████| 938/938 [00:54<00:00, 17.13batch/s, Train Loss=0.147, Train Acc=94.4]\n"
     ]
    },
    {
     "name": "stdout",
     "output_type": "stream",
     "text": [
      "Epoch 483\n",
      "Train Loss: 0.1472, Train Accuracy: 94.37%\n",
      "Test Loss: 0.2550, Test Accuracy: 92.39%\n",
      "\n"
     ]
    },
    {
     "name": "stderr",
     "output_type": "stream",
     "text": [
      "Epoch 484: 100%|██████████| 938/938 [00:54<00:00, 17.15batch/s, Train Loss=0.149, Train Acc=94.3]\n"
     ]
    },
    {
     "name": "stdout",
     "output_type": "stream",
     "text": [
      "Epoch 484\n",
      "Train Loss: 0.1490, Train Accuracy: 94.27%\n",
      "Test Loss: 0.2488, Test Accuracy: 92.75%\n",
      "\n"
     ]
    },
    {
     "name": "stderr",
     "output_type": "stream",
     "text": [
      "Epoch 485: 100%|██████████| 938/938 [00:54<00:00, 17.20batch/s, Train Loss=0.147, Train Acc=94.4]\n"
     ]
    },
    {
     "name": "stdout",
     "output_type": "stream",
     "text": [
      "Epoch 485\n",
      "Train Loss: 0.1467, Train Accuracy: 94.37%\n",
      "Test Loss: 0.2488, Test Accuracy: 92.77%\n",
      "\n"
     ]
    },
    {
     "name": "stderr",
     "output_type": "stream",
     "text": [
      "Epoch 486: 100%|██████████| 938/938 [00:54<00:00, 17.23batch/s, Train Loss=0.146, Train Acc=94.4]\n"
     ]
    },
    {
     "name": "stdout",
     "output_type": "stream",
     "text": [
      "Epoch 486\n",
      "Train Loss: 0.1459, Train Accuracy: 94.35%\n",
      "Test Loss: 0.2504, Test Accuracy: 92.68%\n",
      "\n"
     ]
    },
    {
     "name": "stderr",
     "output_type": "stream",
     "text": [
      "Epoch 487: 100%|██████████| 938/938 [00:54<00:00, 17.10batch/s, Train Loss=0.146, Train Acc=94.4]\n"
     ]
    },
    {
     "name": "stdout",
     "output_type": "stream",
     "text": [
      "Epoch 487\n",
      "Train Loss: 0.1455, Train Accuracy: 94.39%\n",
      "Test Loss: 0.2626, Test Accuracy: 92.52%\n",
      "\n"
     ]
    },
    {
     "name": "stderr",
     "output_type": "stream",
     "text": [
      "Epoch 488: 100%|██████████| 938/938 [00:54<00:00, 17.20batch/s, Train Loss=0.144, Train Acc=94.5]\n"
     ]
    },
    {
     "name": "stdout",
     "output_type": "stream",
     "text": [
      "Epoch 488\n",
      "Train Loss: 0.1437, Train Accuracy: 94.48%\n",
      "Test Loss: 0.2630, Test Accuracy: 92.77%\n",
      "\n"
     ]
    },
    {
     "name": "stderr",
     "output_type": "stream",
     "text": [
      "Epoch 489: 100%|██████████| 938/938 [00:54<00:00, 17.18batch/s, Train Loss=0.145, Train Acc=94.4]\n"
     ]
    },
    {
     "name": "stdout",
     "output_type": "stream",
     "text": [
      "Epoch 489\n",
      "Train Loss: 0.1453, Train Accuracy: 94.44%\n",
      "Test Loss: 0.2611, Test Accuracy: 92.69%\n",
      "\n"
     ]
    },
    {
     "name": "stderr",
     "output_type": "stream",
     "text": [
      "Epoch 490: 100%|██████████| 938/938 [00:54<00:00, 17.17batch/s, Train Loss=0.144, Train Acc=94.4]\n"
     ]
    },
    {
     "name": "stdout",
     "output_type": "stream",
     "text": [
      "Epoch 490\n",
      "Train Loss: 0.1441, Train Accuracy: 94.41%\n",
      "Test Loss: 0.2675, Test Accuracy: 92.55%\n",
      "\n"
     ]
    },
    {
     "name": "stderr",
     "output_type": "stream",
     "text": [
      "Epoch 491: 100%|██████████| 938/938 [00:54<00:00, 17.15batch/s, Train Loss=0.148, Train Acc=94.2]\n"
     ]
    },
    {
     "name": "stdout",
     "output_type": "stream",
     "text": [
      "Epoch 491\n",
      "Train Loss: 0.1482, Train Accuracy: 94.24%\n",
      "Test Loss: 0.2648, Test Accuracy: 92.34%\n",
      "\n"
     ]
    },
    {
     "name": "stderr",
     "output_type": "stream",
     "text": [
      "Epoch 492: 100%|██████████| 938/938 [00:54<00:00, 17.24batch/s, Train Loss=0.145, Train Acc=94.4]\n"
     ]
    },
    {
     "name": "stdout",
     "output_type": "stream",
     "text": [
      "Epoch 492\n",
      "Train Loss: 0.1448, Train Accuracy: 94.38%\n",
      "Test Loss: 0.2550, Test Accuracy: 92.71%\n",
      "\n"
     ]
    },
    {
     "name": "stderr",
     "output_type": "stream",
     "text": [
      "Epoch 493: 100%|██████████| 938/938 [00:54<00:00, 17.14batch/s, Train Loss=0.144, Train Acc=94.4]\n"
     ]
    },
    {
     "name": "stdout",
     "output_type": "stream",
     "text": [
      "Epoch 493\n",
      "Train Loss: 0.1439, Train Accuracy: 94.43%\n",
      "Test Loss: 0.2652, Test Accuracy: 92.64%\n",
      "\n"
     ]
    },
    {
     "name": "stderr",
     "output_type": "stream",
     "text": [
      "Epoch 494: 100%|██████████| 938/938 [00:54<00:00, 17.17batch/s, Train Loss=0.146, Train Acc=94.4]\n"
     ]
    },
    {
     "name": "stdout",
     "output_type": "stream",
     "text": [
      "Epoch 494\n",
      "Train Loss: 0.1456, Train Accuracy: 94.37%\n",
      "Test Loss: 0.2644, Test Accuracy: 92.63%\n",
      "\n"
     ]
    },
    {
     "name": "stderr",
     "output_type": "stream",
     "text": [
      "Epoch 495: 100%|██████████| 938/938 [00:54<00:00, 17.10batch/s, Train Loss=0.144, Train Acc=94.5]\n"
     ]
    },
    {
     "name": "stdout",
     "output_type": "stream",
     "text": [
      "Epoch 495\n",
      "Train Loss: 0.1439, Train Accuracy: 94.53%\n",
      "Test Loss: 0.2691, Test Accuracy: 92.53%\n",
      "\n"
     ]
    },
    {
     "name": "stderr",
     "output_type": "stream",
     "text": [
      "Epoch 496: 100%|██████████| 938/938 [00:54<00:00, 17.15batch/s, Train Loss=0.143, Train Acc=94.5]\n"
     ]
    },
    {
     "name": "stdout",
     "output_type": "stream",
     "text": [
      "Epoch 496\n",
      "Train Loss: 0.1428, Train Accuracy: 94.49%\n",
      "Test Loss: 0.2706, Test Accuracy: 92.50%\n",
      "\n"
     ]
    },
    {
     "name": "stderr",
     "output_type": "stream",
     "text": [
      "Epoch 497: 100%|██████████| 938/938 [00:54<00:00, 17.18batch/s, Train Loss=0.144, Train Acc=94.4]\n"
     ]
    },
    {
     "name": "stdout",
     "output_type": "stream",
     "text": [
      "Epoch 497\n",
      "Train Loss: 0.1444, Train Accuracy: 94.44%\n",
      "Test Loss: 0.2762, Test Accuracy: 92.25%\n",
      "\n"
     ]
    },
    {
     "name": "stderr",
     "output_type": "stream",
     "text": [
      "Epoch 498: 100%|██████████| 938/938 [00:54<00:00, 17.19batch/s, Train Loss=0.147, Train Acc=94.3]\n"
     ]
    },
    {
     "name": "stdout",
     "output_type": "stream",
     "text": [
      "Epoch 498\n",
      "Train Loss: 0.1474, Train Accuracy: 94.31%\n",
      "Test Loss: 0.2709, Test Accuracy: 92.57%\n",
      "\n"
     ]
    },
    {
     "name": "stderr",
     "output_type": "stream",
     "text": [
      "Epoch 499: 100%|██████████| 938/938 [00:54<00:00, 17.11batch/s, Train Loss=0.143, Train Acc=94.5]\n"
     ]
    },
    {
     "name": "stdout",
     "output_type": "stream",
     "text": [
      "Epoch 499\n",
      "Train Loss: 0.1428, Train Accuracy: 94.54%\n",
      "Test Loss: 0.2669, Test Accuracy: 92.62%\n",
      "\n"
     ]
    },
    {
     "name": "stderr",
     "output_type": "stream",
     "text": [
      "Epoch 500: 100%|██████████| 938/938 [00:54<00:00, 17.13batch/s, Train Loss=0.142, Train Acc=94.5]\n"
     ]
    },
    {
     "name": "stdout",
     "output_type": "stream",
     "text": [
      "Epoch 500\n",
      "Train Loss: 0.1416, Train Accuracy: 94.46%\n",
      "Test Loss: 0.2613, Test Accuracy: 92.51%\n",
      "\n"
     ]
    },
    {
     "name": "stderr",
     "output_type": "stream",
     "text": [
      "Epoch 501: 100%|██████████| 938/938 [00:54<00:00, 17.14batch/s, Train Loss=0.144, Train Acc=94.4]\n"
     ]
    },
    {
     "name": "stdout",
     "output_type": "stream",
     "text": [
      "Epoch 501\n",
      "Train Loss: 0.1438, Train Accuracy: 94.43%\n",
      "Test Loss: 0.2664, Test Accuracy: 92.53%\n",
      "\n"
     ]
    },
    {
     "name": "stderr",
     "output_type": "stream",
     "text": [
      "Epoch 502: 100%|██████████| 938/938 [00:54<00:00, 17.09batch/s, Train Loss=0.145, Train Acc=94.5]\n"
     ]
    },
    {
     "name": "stdout",
     "output_type": "stream",
     "text": [
      "Epoch 502\n",
      "Train Loss: 0.1452, Train Accuracy: 94.45%\n",
      "Test Loss: 0.2607, Test Accuracy: 92.77%\n",
      "\n"
     ]
    },
    {
     "name": "stderr",
     "output_type": "stream",
     "text": [
      "Epoch 503: 100%|██████████| 938/938 [00:54<00:00, 17.23batch/s, Train Loss=0.146, Train Acc=94.3]\n"
     ]
    },
    {
     "name": "stdout",
     "output_type": "stream",
     "text": [
      "Epoch 503\n",
      "Train Loss: 0.1455, Train Accuracy: 94.32%\n",
      "Test Loss: 0.2648, Test Accuracy: 92.59%\n",
      "\n"
     ]
    },
    {
     "name": "stderr",
     "output_type": "stream",
     "text": [
      "Epoch 504: 100%|██████████| 938/938 [00:54<00:00, 17.17batch/s, Train Loss=0.145, Train Acc=94.4]\n"
     ]
    },
    {
     "name": "stdout",
     "output_type": "stream",
     "text": [
      "Epoch 504\n",
      "Train Loss: 0.1445, Train Accuracy: 94.42%\n",
      "Test Loss: 0.2625, Test Accuracy: 92.66%\n",
      "\n"
     ]
    },
    {
     "name": "stderr",
     "output_type": "stream",
     "text": [
      "Epoch 505: 100%|██████████| 938/938 [00:54<00:00, 17.20batch/s, Train Loss=0.148, Train Acc=94.2]\n"
     ]
    },
    {
     "name": "stdout",
     "output_type": "stream",
     "text": [
      "Epoch 505\n",
      "Train Loss: 0.1476, Train Accuracy: 94.23%\n",
      "Test Loss: 0.2689, Test Accuracy: 92.46%\n",
      "\n"
     ]
    },
    {
     "name": "stderr",
     "output_type": "stream",
     "text": [
      "Epoch 506: 100%|██████████| 938/938 [00:54<00:00, 17.17batch/s, Train Loss=0.143, Train Acc=94.5]\n"
     ]
    },
    {
     "name": "stdout",
     "output_type": "stream",
     "text": [
      "Epoch 506\n",
      "Train Loss: 0.1425, Train Accuracy: 94.48%\n",
      "Test Loss: 0.2676, Test Accuracy: 92.50%\n",
      "\n"
     ]
    },
    {
     "name": "stderr",
     "output_type": "stream",
     "text": [
      "Epoch 507: 100%|██████████| 938/938 [00:54<00:00, 17.10batch/s, Train Loss=0.144, Train Acc=94.4]\n"
     ]
    },
    {
     "name": "stdout",
     "output_type": "stream",
     "text": [
      "Epoch 507\n",
      "Train Loss: 0.1439, Train Accuracy: 94.43%\n",
      "Test Loss: 0.2627, Test Accuracy: 92.71%\n",
      "\n"
     ]
    },
    {
     "name": "stderr",
     "output_type": "stream",
     "text": [
      "Epoch 508: 100%|██████████| 938/938 [00:54<00:00, 17.24batch/s, Train Loss=0.143, Train Acc=94.5]\n"
     ]
    },
    {
     "name": "stdout",
     "output_type": "stream",
     "text": [
      "Epoch 508\n",
      "Train Loss: 0.1426, Train Accuracy: 94.49%\n",
      "Test Loss: 0.2650, Test Accuracy: 92.45%\n",
      "\n"
     ]
    },
    {
     "name": "stderr",
     "output_type": "stream",
     "text": [
      "Epoch 509: 100%|██████████| 938/938 [00:54<00:00, 17.15batch/s, Train Loss=0.144, Train Acc=94.4]\n"
     ]
    },
    {
     "name": "stdout",
     "output_type": "stream",
     "text": [
      "Epoch 509\n",
      "Train Loss: 0.1440, Train Accuracy: 94.44%\n",
      "Test Loss: 0.2660, Test Accuracy: 92.53%\n",
      "\n"
     ]
    },
    {
     "name": "stderr",
     "output_type": "stream",
     "text": [
      "Epoch 510: 100%|██████████| 938/938 [00:54<00:00, 17.13batch/s, Train Loss=0.143, Train Acc=94.5]\n"
     ]
    },
    {
     "name": "stdout",
     "output_type": "stream",
     "text": [
      "Epoch 510\n",
      "Train Loss: 0.1430, Train Accuracy: 94.50%\n",
      "Test Loss: 0.2585, Test Accuracy: 92.77%\n",
      "\n"
     ]
    },
    {
     "name": "stderr",
     "output_type": "stream",
     "text": [
      "Epoch 511: 100%|██████████| 938/938 [00:54<00:00, 17.19batch/s, Train Loss=0.144, Train Acc=94.4]\n"
     ]
    },
    {
     "name": "stdout",
     "output_type": "stream",
     "text": [
      "Epoch 511\n",
      "Train Loss: 0.1437, Train Accuracy: 94.38%\n",
      "Test Loss: 0.2638, Test Accuracy: 92.52%\n",
      "\n"
     ]
    },
    {
     "name": "stderr",
     "output_type": "stream",
     "text": [
      "Epoch 512: 100%|██████████| 938/938 [00:54<00:00, 17.16batch/s, Train Loss=0.143, Train Acc=94.5]\n"
     ]
    },
    {
     "name": "stdout",
     "output_type": "stream",
     "text": [
      "Epoch 512\n",
      "Train Loss: 0.1431, Train Accuracy: 94.50%\n",
      "Test Loss: 0.2645, Test Accuracy: 92.43%\n",
      "\n"
     ]
    },
    {
     "name": "stderr",
     "output_type": "stream",
     "text": [
      "Epoch 513: 100%|██████████| 938/938 [00:54<00:00, 17.16batch/s, Train Loss=0.142, Train Acc=94.5]\n"
     ]
    },
    {
     "name": "stdout",
     "output_type": "stream",
     "text": [
      "Epoch 513\n",
      "Train Loss: 0.1421, Train Accuracy: 94.47%\n",
      "Test Loss: 0.2701, Test Accuracy: 92.42%\n",
      "\n"
     ]
    },
    {
     "name": "stderr",
     "output_type": "stream",
     "text": [
      "Epoch 514: 100%|██████████| 938/938 [00:55<00:00, 17.02batch/s, Train Loss=0.141, Train Acc=94.5]\n"
     ]
    },
    {
     "name": "stdout",
     "output_type": "stream",
     "text": [
      "Epoch 514\n",
      "Train Loss: 0.1408, Train Accuracy: 94.54%\n",
      "Test Loss: 0.2724, Test Accuracy: 92.46%\n",
      "\n"
     ]
    },
    {
     "name": "stderr",
     "output_type": "stream",
     "text": [
      "Epoch 515: 100%|██████████| 938/938 [00:54<00:00, 17.16batch/s, Train Loss=0.144, Train Acc=94.4]\n"
     ]
    },
    {
     "name": "stdout",
     "output_type": "stream",
     "text": [
      "Epoch 515\n",
      "Train Loss: 0.1442, Train Accuracy: 94.36%\n",
      "Test Loss: 0.2754, Test Accuracy: 92.69%\n",
      "\n"
     ]
    },
    {
     "name": "stderr",
     "output_type": "stream",
     "text": [
      "Epoch 516: 100%|██████████| 938/938 [00:54<00:00, 17.09batch/s, Train Loss=0.14, Train Acc=94.6] \n"
     ]
    },
    {
     "name": "stdout",
     "output_type": "stream",
     "text": [
      "Epoch 516\n",
      "Train Loss: 0.1399, Train Accuracy: 94.59%\n",
      "Test Loss: 0.2763, Test Accuracy: 92.30%\n",
      "\n"
     ]
    },
    {
     "name": "stderr",
     "output_type": "stream",
     "text": [
      "Epoch 517: 100%|██████████| 938/938 [00:54<00:00, 17.19batch/s, Train Loss=0.142, Train Acc=94.5]\n"
     ]
    },
    {
     "name": "stdout",
     "output_type": "stream",
     "text": [
      "Epoch 517\n",
      "Train Loss: 0.1419, Train Accuracy: 94.52%\n",
      "Test Loss: 0.2713, Test Accuracy: 92.46%\n",
      "\n"
     ]
    },
    {
     "name": "stderr",
     "output_type": "stream",
     "text": [
      "Epoch 518: 100%|██████████| 938/938 [00:54<00:00, 17.10batch/s, Train Loss=0.142, Train Acc=94.5]\n"
     ]
    },
    {
     "name": "stdout",
     "output_type": "stream",
     "text": [
      "Epoch 518\n",
      "Train Loss: 0.1416, Train Accuracy: 94.55%\n",
      "Test Loss: 0.2711, Test Accuracy: 92.45%\n",
      "\n"
     ]
    },
    {
     "name": "stderr",
     "output_type": "stream",
     "text": [
      "Epoch 519: 100%|██████████| 938/938 [00:54<00:00, 17.07batch/s, Train Loss=0.144, Train Acc=94.4]\n"
     ]
    },
    {
     "name": "stdout",
     "output_type": "stream",
     "text": [
      "Epoch 519\n",
      "Train Loss: 0.1440, Train Accuracy: 94.42%\n",
      "Test Loss: 0.2700, Test Accuracy: 92.53%\n",
      "\n"
     ]
    },
    {
     "name": "stderr",
     "output_type": "stream",
     "text": [
      "Epoch 520: 100%|██████████| 938/938 [00:54<00:00, 17.12batch/s, Train Loss=0.142, Train Acc=94.5]\n"
     ]
    },
    {
     "name": "stdout",
     "output_type": "stream",
     "text": [
      "Epoch 520\n",
      "Train Loss: 0.1416, Train Accuracy: 94.50%\n",
      "Test Loss: 0.2731, Test Accuracy: 92.30%\n",
      "\n"
     ]
    },
    {
     "name": "stderr",
     "output_type": "stream",
     "text": [
      "Epoch 521: 100%|██████████| 938/938 [00:54<00:00, 17.12batch/s, Train Loss=0.143, Train Acc=94.5]\n"
     ]
    },
    {
     "name": "stdout",
     "output_type": "stream",
     "text": [
      "Epoch 521\n",
      "Train Loss: 0.1430, Train Accuracy: 94.45%\n",
      "Test Loss: 0.2677, Test Accuracy: 92.15%\n",
      "\n"
     ]
    },
    {
     "name": "stderr",
     "output_type": "stream",
     "text": [
      "Epoch 522: 100%|██████████| 938/938 [00:54<00:00, 17.19batch/s, Train Loss=0.142, Train Acc=94.5]\n"
     ]
    },
    {
     "name": "stdout",
     "output_type": "stream",
     "text": [
      "Epoch 522\n",
      "Train Loss: 0.1419, Train Accuracy: 94.53%\n",
      "Test Loss: 0.2724, Test Accuracy: 92.35%\n",
      "\n"
     ]
    },
    {
     "name": "stderr",
     "output_type": "stream",
     "text": [
      "Epoch 523: 100%|██████████| 938/938 [00:54<00:00, 17.23batch/s, Train Loss=0.143, Train Acc=94.5]\n"
     ]
    },
    {
     "name": "stdout",
     "output_type": "stream",
     "text": [
      "Epoch 523\n",
      "Train Loss: 0.1432, Train Accuracy: 94.51%\n",
      "Test Loss: 0.2742, Test Accuracy: 92.29%\n",
      "\n"
     ]
    },
    {
     "name": "stderr",
     "output_type": "stream",
     "text": [
      "Epoch 524: 100%|██████████| 938/938 [00:54<00:00, 17.23batch/s, Train Loss=0.141, Train Acc=94.5]\n"
     ]
    },
    {
     "name": "stdout",
     "output_type": "stream",
     "text": [
      "Epoch 524\n",
      "Train Loss: 0.1409, Train Accuracy: 94.53%\n",
      "Test Loss: 0.2640, Test Accuracy: 92.25%\n",
      "\n"
     ]
    },
    {
     "name": "stderr",
     "output_type": "stream",
     "text": [
      "Epoch 525: 100%|██████████| 938/938 [00:54<00:00, 17.12batch/s, Train Loss=0.139, Train Acc=94.6]\n"
     ]
    },
    {
     "name": "stdout",
     "output_type": "stream",
     "text": [
      "Epoch 525\n",
      "Train Loss: 0.1392, Train Accuracy: 94.61%\n",
      "Test Loss: 0.2707, Test Accuracy: 92.53%\n",
      "\n"
     ]
    },
    {
     "name": "stderr",
     "output_type": "stream",
     "text": [
      "Epoch 526: 100%|██████████| 938/938 [00:54<00:00, 17.28batch/s, Train Loss=0.143, Train Acc=94.4]\n"
     ]
    },
    {
     "name": "stdout",
     "output_type": "stream",
     "text": [
      "Epoch 526\n",
      "Train Loss: 0.1434, Train Accuracy: 94.40%\n",
      "Test Loss: 0.2705, Test Accuracy: 92.31%\n",
      "\n"
     ]
    },
    {
     "name": "stderr",
     "output_type": "stream",
     "text": [
      "Epoch 527: 100%|██████████| 938/938 [00:54<00:00, 17.13batch/s, Train Loss=0.141, Train Acc=94.6]\n"
     ]
    },
    {
     "name": "stdout",
     "output_type": "stream",
     "text": [
      "Epoch 527\n",
      "Train Loss: 0.1413, Train Accuracy: 94.56%\n",
      "Test Loss: 0.2679, Test Accuracy: 92.45%\n",
      "\n"
     ]
    },
    {
     "name": "stderr",
     "output_type": "stream",
     "text": [
      "Epoch 528: 100%|██████████| 938/938 [00:54<00:00, 17.18batch/s, Train Loss=0.14, Train Acc=94.6] \n"
     ]
    },
    {
     "name": "stdout",
     "output_type": "stream",
     "text": [
      "Epoch 528\n",
      "Train Loss: 0.1402, Train Accuracy: 94.58%\n",
      "Test Loss: 0.2652, Test Accuracy: 92.67%\n",
      "\n"
     ]
    },
    {
     "name": "stderr",
     "output_type": "stream",
     "text": [
      "Epoch 529: 100%|██████████| 938/938 [00:54<00:00, 17.08batch/s, Train Loss=0.14, Train Acc=94.6] \n"
     ]
    },
    {
     "name": "stdout",
     "output_type": "stream",
     "text": [
      "Epoch 529\n",
      "Train Loss: 0.1398, Train Accuracy: 94.59%\n",
      "Test Loss: 0.2690, Test Accuracy: 92.28%\n",
      "\n"
     ]
    },
    {
     "name": "stderr",
     "output_type": "stream",
     "text": [
      "Epoch 530: 100%|██████████| 938/938 [00:54<00:00, 17.20batch/s, Train Loss=0.143, Train Acc=94.5]\n"
     ]
    },
    {
     "name": "stdout",
     "output_type": "stream",
     "text": [
      "Epoch 530\n",
      "Train Loss: 0.1430, Train Accuracy: 94.53%\n",
      "Test Loss: 0.2670, Test Accuracy: 92.24%\n",
      "\n"
     ]
    },
    {
     "name": "stderr",
     "output_type": "stream",
     "text": [
      "Epoch 531: 100%|██████████| 938/938 [00:54<00:00, 17.15batch/s, Train Loss=0.142, Train Acc=94.5]\n"
     ]
    },
    {
     "name": "stdout",
     "output_type": "stream",
     "text": [
      "Epoch 531\n",
      "Train Loss: 0.1417, Train Accuracy: 94.53%\n",
      "Test Loss: 0.2647, Test Accuracy: 92.55%\n",
      "\n"
     ]
    },
    {
     "name": "stderr",
     "output_type": "stream",
     "text": [
      "Epoch 532: 100%|██████████| 938/938 [00:55<00:00, 16.98batch/s, Train Loss=0.139, Train Acc=94.7]\n"
     ]
    },
    {
     "name": "stdout",
     "output_type": "stream",
     "text": [
      "Epoch 532\n",
      "Train Loss: 0.1395, Train Accuracy: 94.67%\n",
      "Test Loss: 0.2648, Test Accuracy: 92.74%\n",
      "\n"
     ]
    },
    {
     "name": "stderr",
     "output_type": "stream",
     "text": [
      "Epoch 533: 100%|██████████| 938/938 [00:54<00:00, 17.10batch/s, Train Loss=0.14, Train Acc=94.6] \n"
     ]
    },
    {
     "name": "stdout",
     "output_type": "stream",
     "text": [
      "Epoch 533\n",
      "Train Loss: 0.1401, Train Accuracy: 94.64%\n",
      "Test Loss: 0.2665, Test Accuracy: 92.65%\n",
      "\n"
     ]
    },
    {
     "name": "stderr",
     "output_type": "stream",
     "text": [
      "Epoch 534: 100%|██████████| 938/938 [00:54<00:00, 17.17batch/s, Train Loss=0.143, Train Acc=94.5]\n"
     ]
    },
    {
     "name": "stdout",
     "output_type": "stream",
     "text": [
      "Epoch 534\n",
      "Train Loss: 0.1429, Train Accuracy: 94.46%\n",
      "Test Loss: 0.2652, Test Accuracy: 92.44%\n",
      "\n"
     ]
    },
    {
     "name": "stderr",
     "output_type": "stream",
     "text": [
      "Epoch 535: 100%|██████████| 938/938 [00:54<00:00, 17.11batch/s, Train Loss=0.14, Train Acc=94.7] \n"
     ]
    },
    {
     "name": "stdout",
     "output_type": "stream",
     "text": [
      "Epoch 535\n",
      "Train Loss: 0.1398, Train Accuracy: 94.65%\n",
      "Test Loss: 0.2762, Test Accuracy: 92.36%\n",
      "\n"
     ]
    },
    {
     "name": "stderr",
     "output_type": "stream",
     "text": [
      "Epoch 536: 100%|██████████| 938/938 [00:54<00:00, 17.16batch/s, Train Loss=0.139, Train Acc=94.6]\n"
     ]
    },
    {
     "name": "stdout",
     "output_type": "stream",
     "text": [
      "Epoch 536\n",
      "Train Loss: 0.1388, Train Accuracy: 94.62%\n",
      "Test Loss: 0.2739, Test Accuracy: 92.33%\n",
      "\n"
     ]
    },
    {
     "name": "stderr",
     "output_type": "stream",
     "text": [
      "Epoch 537: 100%|██████████| 938/938 [00:54<00:00, 17.06batch/s, Train Loss=0.141, Train Acc=94.6]\n"
     ]
    },
    {
     "name": "stdout",
     "output_type": "stream",
     "text": [
      "Epoch 537\n",
      "Train Loss: 0.1413, Train Accuracy: 94.63%\n",
      "Test Loss: 0.2641, Test Accuracy: 92.49%\n",
      "\n"
     ]
    },
    {
     "name": "stderr",
     "output_type": "stream",
     "text": [
      "Epoch 538: 100%|██████████| 938/938 [00:54<00:00, 17.17batch/s, Train Loss=0.139, Train Acc=94.6]\n"
     ]
    },
    {
     "name": "stdout",
     "output_type": "stream",
     "text": [
      "Epoch 538\n",
      "Train Loss: 0.1394, Train Accuracy: 94.57%\n",
      "Test Loss: 0.2744, Test Accuracy: 92.39%\n",
      "\n"
     ]
    },
    {
     "name": "stderr",
     "output_type": "stream",
     "text": [
      "Epoch 539: 100%|██████████| 938/938 [00:54<00:00, 17.12batch/s, Train Loss=0.143, Train Acc=94.5]\n"
     ]
    },
    {
     "name": "stdout",
     "output_type": "stream",
     "text": [
      "Epoch 539\n",
      "Train Loss: 0.1428, Train Accuracy: 94.46%\n",
      "Test Loss: 0.2644, Test Accuracy: 92.47%\n",
      "\n"
     ]
    },
    {
     "name": "stderr",
     "output_type": "stream",
     "text": [
      "Epoch 540: 100%|██████████| 938/938 [00:54<00:00, 17.22batch/s, Train Loss=0.139, Train Acc=94.7]\n"
     ]
    },
    {
     "name": "stdout",
     "output_type": "stream",
     "text": [
      "Epoch 540\n",
      "Train Loss: 0.1388, Train Accuracy: 94.66%\n",
      "Test Loss: 0.2646, Test Accuracy: 92.61%\n",
      "\n"
     ]
    },
    {
     "name": "stderr",
     "output_type": "stream",
     "text": [
      "Epoch 541: 100%|██████████| 938/938 [00:54<00:00, 17.22batch/s, Train Loss=0.143, Train Acc=94.4]\n"
     ]
    },
    {
     "name": "stdout",
     "output_type": "stream",
     "text": [
      "Epoch 541\n",
      "Train Loss: 0.1433, Train Accuracy: 94.43%\n",
      "Test Loss: 0.2716, Test Accuracy: 92.54%\n",
      "\n"
     ]
    },
    {
     "name": "stderr",
     "output_type": "stream",
     "text": [
      "Epoch 542: 100%|██████████| 938/938 [00:55<00:00, 17.05batch/s, Train Loss=0.142, Train Acc=94.6]\n"
     ]
    },
    {
     "name": "stdout",
     "output_type": "stream",
     "text": [
      "Epoch 542\n",
      "Train Loss: 0.1416, Train Accuracy: 94.56%\n",
      "Test Loss: 0.2644, Test Accuracy: 92.57%\n",
      "\n"
     ]
    },
    {
     "name": "stderr",
     "output_type": "stream",
     "text": [
      "Epoch 543: 100%|██████████| 938/938 [00:54<00:00, 17.12batch/s, Train Loss=0.136, Train Acc=94.7]\n"
     ]
    },
    {
     "name": "stdout",
     "output_type": "stream",
     "text": [
      "Epoch 543\n",
      "Train Loss: 0.1364, Train Accuracy: 94.73%\n",
      "Test Loss: 0.2761, Test Accuracy: 92.06%\n",
      "\n"
     ]
    },
    {
     "name": "stderr",
     "output_type": "stream",
     "text": [
      "Epoch 544: 100%|██████████| 938/938 [00:54<00:00, 17.24batch/s, Train Loss=0.141, Train Acc=94.6]\n"
     ]
    },
    {
     "name": "stdout",
     "output_type": "stream",
     "text": [
      "Epoch 544\n",
      "Train Loss: 0.1412, Train Accuracy: 94.62%\n",
      "Test Loss: 0.2663, Test Accuracy: 92.46%\n",
      "\n"
     ]
    },
    {
     "name": "stderr",
     "output_type": "stream",
     "text": [
      "Epoch 545: 100%|██████████| 938/938 [00:54<00:00, 17.13batch/s, Train Loss=0.139, Train Acc=94.6]\n"
     ]
    },
    {
     "name": "stdout",
     "output_type": "stream",
     "text": [
      "Epoch 545\n",
      "Train Loss: 0.1391, Train Accuracy: 94.61%\n",
      "Test Loss: 0.2697, Test Accuracy: 92.46%\n",
      "\n"
     ]
    },
    {
     "name": "stderr",
     "output_type": "stream",
     "text": [
      "Epoch 546: 100%|██████████| 938/938 [00:54<00:00, 17.14batch/s, Train Loss=0.14, Train Acc=94.6] \n"
     ]
    },
    {
     "name": "stdout",
     "output_type": "stream",
     "text": [
      "Epoch 546\n",
      "Train Loss: 0.1404, Train Accuracy: 94.57%\n",
      "Test Loss: 0.2639, Test Accuracy: 92.56%\n",
      "\n"
     ]
    },
    {
     "name": "stderr",
     "output_type": "stream",
     "text": [
      "Epoch 547: 100%|██████████| 938/938 [00:54<00:00, 17.28batch/s, Train Loss=0.139, Train Acc=94.8]\n"
     ]
    },
    {
     "name": "stdout",
     "output_type": "stream",
     "text": [
      "Epoch 547\n",
      "Train Loss: 0.1385, Train Accuracy: 94.77%\n",
      "Test Loss: 0.2648, Test Accuracy: 92.34%\n",
      "\n"
     ]
    },
    {
     "name": "stderr",
     "output_type": "stream",
     "text": [
      "Epoch 548: 100%|██████████| 938/938 [00:54<00:00, 17.12batch/s, Train Loss=0.138, Train Acc=94.7]\n"
     ]
    },
    {
     "name": "stdout",
     "output_type": "stream",
     "text": [
      "Epoch 548\n",
      "Train Loss: 0.1376, Train Accuracy: 94.72%\n",
      "Test Loss: 0.2668, Test Accuracy: 92.23%\n",
      "\n"
     ]
    },
    {
     "name": "stderr",
     "output_type": "stream",
     "text": [
      "Epoch 549: 100%|██████████| 938/938 [00:55<00:00, 17.04batch/s, Train Loss=0.137, Train Acc=94.7]\n"
     ]
    },
    {
     "name": "stdout",
     "output_type": "stream",
     "text": [
      "Epoch 549\n",
      "Train Loss: 0.1365, Train Accuracy: 94.68%\n",
      "Test Loss: 0.2755, Test Accuracy: 92.08%\n",
      "\n"
     ]
    },
    {
     "name": "stderr",
     "output_type": "stream",
     "text": [
      "Epoch 550: 100%|██████████| 938/938 [00:54<00:00, 17.23batch/s, Train Loss=0.139, Train Acc=94.7]\n"
     ]
    },
    {
     "name": "stdout",
     "output_type": "stream",
     "text": [
      "Epoch 550\n",
      "Train Loss: 0.1393, Train Accuracy: 94.66%\n",
      "Test Loss: 0.2784, Test Accuracy: 91.93%\n",
      "\n"
     ]
    },
    {
     "name": "stderr",
     "output_type": "stream",
     "text": [
      "Epoch 551: 100%|██████████| 938/938 [00:55<00:00, 16.96batch/s, Train Loss=0.139, Train Acc=94.6]\n"
     ]
    },
    {
     "name": "stdout",
     "output_type": "stream",
     "text": [
      "Epoch 551\n",
      "Train Loss: 0.1389, Train Accuracy: 94.63%\n",
      "Test Loss: 0.2725, Test Accuracy: 92.36%\n",
      "\n"
     ]
    },
    {
     "name": "stderr",
     "output_type": "stream",
     "text": [
      "Epoch 552: 100%|██████████| 938/938 [00:54<00:00, 17.11batch/s, Train Loss=0.137, Train Acc=94.8]\n"
     ]
    },
    {
     "name": "stdout",
     "output_type": "stream",
     "text": [
      "Epoch 552\n",
      "Train Loss: 0.1370, Train Accuracy: 94.80%\n",
      "Test Loss: 0.2783, Test Accuracy: 92.38%\n",
      "\n"
     ]
    },
    {
     "name": "stderr",
     "output_type": "stream",
     "text": [
      "Epoch 553: 100%|██████████| 938/938 [00:54<00:00, 17.20batch/s, Train Loss=0.139, Train Acc=94.6]\n"
     ]
    },
    {
     "name": "stdout",
     "output_type": "stream",
     "text": [
      "Epoch 553\n",
      "Train Loss: 0.1395, Train Accuracy: 94.61%\n",
      "Test Loss: 0.2667, Test Accuracy: 92.37%\n",
      "\n"
     ]
    },
    {
     "name": "stderr",
     "output_type": "stream",
     "text": [
      "Epoch 554: 100%|██████████| 938/938 [00:54<00:00, 17.09batch/s, Train Loss=0.136, Train Acc=94.7]\n"
     ]
    },
    {
     "name": "stdout",
     "output_type": "stream",
     "text": [
      "Epoch 554\n",
      "Train Loss: 0.1362, Train Accuracy: 94.70%\n",
      "Test Loss: 0.2685, Test Accuracy: 92.43%\n",
      "\n"
     ]
    },
    {
     "name": "stderr",
     "output_type": "stream",
     "text": [
      "Epoch 555: 100%|██████████| 938/938 [00:54<00:00, 17.11batch/s, Train Loss=0.138, Train Acc=94.6]\n"
     ]
    },
    {
     "name": "stdout",
     "output_type": "stream",
     "text": [
      "Epoch 555\n",
      "Train Loss: 0.1376, Train Accuracy: 94.65%\n",
      "Test Loss: 0.2738, Test Accuracy: 92.39%\n",
      "\n"
     ]
    },
    {
     "name": "stderr",
     "output_type": "stream",
     "text": [
      "Epoch 556: 100%|██████████| 938/938 [00:54<00:00, 17.20batch/s, Train Loss=0.139, Train Acc=94.8]\n"
     ]
    },
    {
     "name": "stdout",
     "output_type": "stream",
     "text": [
      "Epoch 556\n",
      "Train Loss: 0.1386, Train Accuracy: 94.75%\n",
      "Test Loss: 0.2652, Test Accuracy: 92.49%\n",
      "\n"
     ]
    },
    {
     "name": "stderr",
     "output_type": "stream",
     "text": [
      "Epoch 557: 100%|██████████| 938/938 [00:54<00:00, 17.25batch/s, Train Loss=0.135, Train Acc=94.8]\n"
     ]
    },
    {
     "name": "stdout",
     "output_type": "stream",
     "text": [
      "Epoch 557\n",
      "Train Loss: 0.1355, Train Accuracy: 94.82%\n",
      "Test Loss: 0.2691, Test Accuracy: 92.25%\n",
      "\n"
     ]
    },
    {
     "name": "stderr",
     "output_type": "stream",
     "text": [
      "Epoch 558: 100%|██████████| 938/938 [00:54<00:00, 17.22batch/s, Train Loss=0.135, Train Acc=94.8]\n"
     ]
    },
    {
     "name": "stdout",
     "output_type": "stream",
     "text": [
      "Epoch 558\n",
      "Train Loss: 0.1355, Train Accuracy: 94.81%\n",
      "Test Loss: 0.2744, Test Accuracy: 92.38%\n",
      "\n"
     ]
    },
    {
     "name": "stderr",
     "output_type": "stream",
     "text": [
      "Epoch 559: 100%|██████████| 938/938 [00:54<00:00, 17.19batch/s, Train Loss=0.138, Train Acc=94.8]\n"
     ]
    },
    {
     "name": "stdout",
     "output_type": "stream",
     "text": [
      "Epoch 559\n",
      "Train Loss: 0.1381, Train Accuracy: 94.77%\n",
      "Test Loss: 0.2672, Test Accuracy: 92.44%\n",
      "\n"
     ]
    },
    {
     "name": "stderr",
     "output_type": "stream",
     "text": [
      "Epoch 560: 100%|██████████| 938/938 [00:54<00:00, 17.25batch/s, Train Loss=0.136, Train Acc=94.7]\n"
     ]
    },
    {
     "name": "stdout",
     "output_type": "stream",
     "text": [
      "Epoch 560\n",
      "Train Loss: 0.1363, Train Accuracy: 94.71%\n",
      "Test Loss: 0.2735, Test Accuracy: 92.28%\n",
      "\n"
     ]
    },
    {
     "name": "stderr",
     "output_type": "stream",
     "text": [
      "Epoch 561: 100%|██████████| 938/938 [00:54<00:00, 17.19batch/s, Train Loss=0.138, Train Acc=94.7]\n"
     ]
    },
    {
     "name": "stdout",
     "output_type": "stream",
     "text": [
      "Epoch 561\n",
      "Train Loss: 0.1381, Train Accuracy: 94.74%\n",
      "Test Loss: 0.2594, Test Accuracy: 92.67%\n",
      "\n"
     ]
    },
    {
     "name": "stderr",
     "output_type": "stream",
     "text": [
      "Epoch 562: 100%|██████████| 938/938 [00:54<00:00, 17.17batch/s, Train Loss=0.136, Train Acc=94.7]\n"
     ]
    },
    {
     "name": "stdout",
     "output_type": "stream",
     "text": [
      "Epoch 562\n",
      "Train Loss: 0.1363, Train Accuracy: 94.66%\n",
      "Test Loss: 0.2666, Test Accuracy: 92.36%\n",
      "\n"
     ]
    },
    {
     "name": "stderr",
     "output_type": "stream",
     "text": [
      "Epoch 563: 100%|██████████| 938/938 [00:54<00:00, 17.12batch/s, Train Loss=0.139, Train Acc=94.7]\n"
     ]
    },
    {
     "name": "stdout",
     "output_type": "stream",
     "text": [
      "Epoch 563\n",
      "Train Loss: 0.1385, Train Accuracy: 94.75%\n",
      "Test Loss: 0.2760, Test Accuracy: 92.32%\n",
      "\n"
     ]
    },
    {
     "name": "stderr",
     "output_type": "stream",
     "text": [
      "Epoch 564: 100%|██████████| 938/938 [00:54<00:00, 17.23batch/s, Train Loss=0.137, Train Acc=94.8]\n"
     ]
    },
    {
     "name": "stdout",
     "output_type": "stream",
     "text": [
      "Epoch 564\n",
      "Train Loss: 0.1373, Train Accuracy: 94.78%\n",
      "Test Loss: 0.2637, Test Accuracy: 92.79%\n",
      "\n"
     ]
    },
    {
     "name": "stderr",
     "output_type": "stream",
     "text": [
      "Epoch 565: 100%|██████████| 938/938 [00:54<00:00, 17.23batch/s, Train Loss=0.138, Train Acc=94.7]\n"
     ]
    },
    {
     "name": "stdout",
     "output_type": "stream",
     "text": [
      "Epoch 565\n",
      "Train Loss: 0.1380, Train Accuracy: 94.73%\n",
      "Test Loss: 0.2652, Test Accuracy: 92.34%\n",
      "\n"
     ]
    },
    {
     "name": "stderr",
     "output_type": "stream",
     "text": [
      "Epoch 566: 100%|██████████| 938/938 [00:54<00:00, 17.14batch/s, Train Loss=0.135, Train Acc=94.9]\n"
     ]
    },
    {
     "name": "stdout",
     "output_type": "stream",
     "text": [
      "Epoch 566\n",
      "Train Loss: 0.1355, Train Accuracy: 94.86%\n",
      "Test Loss: 0.2694, Test Accuracy: 92.49%\n",
      "\n"
     ]
    },
    {
     "name": "stderr",
     "output_type": "stream",
     "text": [
      "Epoch 567: 100%|██████████| 938/938 [00:54<00:00, 17.14batch/s, Train Loss=0.134, Train Acc=94.9]\n"
     ]
    },
    {
     "name": "stdout",
     "output_type": "stream",
     "text": [
      "Epoch 567\n",
      "Train Loss: 0.1338, Train Accuracy: 94.88%\n",
      "Test Loss: 0.2630, Test Accuracy: 92.50%\n",
      "\n"
     ]
    },
    {
     "name": "stderr",
     "output_type": "stream",
     "text": [
      "Epoch 568: 100%|██████████| 938/938 [00:54<00:00, 17.22batch/s, Train Loss=0.136, Train Acc=94.7]\n"
     ]
    },
    {
     "name": "stdout",
     "output_type": "stream",
     "text": [
      "Epoch 568\n",
      "Train Loss: 0.1360, Train Accuracy: 94.75%\n",
      "Test Loss: 0.2676, Test Accuracy: 92.64%\n",
      "\n"
     ]
    },
    {
     "name": "stderr",
     "output_type": "stream",
     "text": [
      "Epoch 569: 100%|██████████| 938/938 [00:54<00:00, 17.27batch/s, Train Loss=0.134, Train Acc=94.8]\n"
     ]
    },
    {
     "name": "stdout",
     "output_type": "stream",
     "text": [
      "Epoch 569\n",
      "Train Loss: 0.1339, Train Accuracy: 94.83%\n",
      "Test Loss: 0.2667, Test Accuracy: 92.46%\n",
      "\n"
     ]
    },
    {
     "name": "stderr",
     "output_type": "stream",
     "text": [
      "Epoch 570: 100%|██████████| 938/938 [00:54<00:00, 17.11batch/s, Train Loss=0.137, Train Acc=94.7]\n"
     ]
    },
    {
     "name": "stdout",
     "output_type": "stream",
     "text": [
      "Epoch 570\n",
      "Train Loss: 0.1368, Train Accuracy: 94.71%\n",
      "Test Loss: 0.2764, Test Accuracy: 92.11%\n",
      "\n"
     ]
    },
    {
     "name": "stderr",
     "output_type": "stream",
     "text": [
      "Epoch 571: 100%|██████████| 938/938 [00:54<00:00, 17.20batch/s, Train Loss=0.135, Train Acc=94.9]\n"
     ]
    },
    {
     "name": "stdout",
     "output_type": "stream",
     "text": [
      "Epoch 571\n",
      "Train Loss: 0.1348, Train Accuracy: 94.88%\n",
      "Test Loss: 0.2790, Test Accuracy: 92.35%\n",
      "\n"
     ]
    },
    {
     "name": "stderr",
     "output_type": "stream",
     "text": [
      "Epoch 572: 100%|██████████| 938/938 [00:54<00:00, 17.17batch/s, Train Loss=0.136, Train Acc=94.8]\n"
     ]
    },
    {
     "name": "stdout",
     "output_type": "stream",
     "text": [
      "Epoch 572\n",
      "Train Loss: 0.1356, Train Accuracy: 94.82%\n",
      "Test Loss: 0.2828, Test Accuracy: 92.31%\n",
      "\n"
     ]
    },
    {
     "name": "stderr",
     "output_type": "stream",
     "text": [
      "Epoch 573: 100%|██████████| 938/938 [00:54<00:00, 17.13batch/s, Train Loss=0.135, Train Acc=94.8]\n"
     ]
    },
    {
     "name": "stdout",
     "output_type": "stream",
     "text": [
      "Epoch 573\n",
      "Train Loss: 0.1354, Train Accuracy: 94.84%\n",
      "Test Loss: 0.2816, Test Accuracy: 92.30%\n",
      "\n"
     ]
    },
    {
     "name": "stderr",
     "output_type": "stream",
     "text": [
      "Epoch 574: 100%|██████████| 938/938 [00:54<00:00, 17.13batch/s, Train Loss=0.136, Train Acc=94.7]\n"
     ]
    },
    {
     "name": "stdout",
     "output_type": "stream",
     "text": [
      "Epoch 574\n",
      "Train Loss: 0.1355, Train Accuracy: 94.73%\n",
      "Test Loss: 0.2819, Test Accuracy: 92.27%\n",
      "\n"
     ]
    },
    {
     "name": "stderr",
     "output_type": "stream",
     "text": [
      "Epoch 575: 100%|██████████| 938/938 [00:54<00:00, 17.14batch/s, Train Loss=0.139, Train Acc=94.6]\n"
     ]
    },
    {
     "name": "stdout",
     "output_type": "stream",
     "text": [
      "Epoch 575\n",
      "Train Loss: 0.1391, Train Accuracy: 94.61%\n",
      "Test Loss: 0.2750, Test Accuracy: 92.40%\n",
      "\n"
     ]
    },
    {
     "name": "stderr",
     "output_type": "stream",
     "text": [
      "Epoch 576: 100%|██████████| 938/938 [00:54<00:00, 17.21batch/s, Train Loss=0.135, Train Acc=94.8]\n"
     ]
    },
    {
     "name": "stdout",
     "output_type": "stream",
     "text": [
      "Epoch 576\n",
      "Train Loss: 0.1351, Train Accuracy: 94.80%\n",
      "Test Loss: 0.2846, Test Accuracy: 92.35%\n",
      "\n"
     ]
    },
    {
     "name": "stderr",
     "output_type": "stream",
     "text": [
      "Epoch 577: 100%|██████████| 938/938 [00:54<00:00, 17.07batch/s, Train Loss=0.136, Train Acc=94.8]\n"
     ]
    },
    {
     "name": "stdout",
     "output_type": "stream",
     "text": [
      "Epoch 577\n",
      "Train Loss: 0.1358, Train Accuracy: 94.77%\n",
      "Test Loss: 0.2842, Test Accuracy: 92.18%\n",
      "\n"
     ]
    },
    {
     "name": "stderr",
     "output_type": "stream",
     "text": [
      "Epoch 578: 100%|██████████| 938/938 [00:54<00:00, 17.13batch/s, Train Loss=0.131, Train Acc=94.9]\n"
     ]
    },
    {
     "name": "stdout",
     "output_type": "stream",
     "text": [
      "Epoch 578\n",
      "Train Loss: 0.1312, Train Accuracy: 94.94%\n",
      "Test Loss: 0.2802, Test Accuracy: 92.04%\n",
      "\n"
     ]
    },
    {
     "name": "stderr",
     "output_type": "stream",
     "text": [
      "Epoch 579: 100%|██████████| 938/938 [00:54<00:00, 17.21batch/s, Train Loss=0.138, Train Acc=94.7]\n"
     ]
    },
    {
     "name": "stdout",
     "output_type": "stream",
     "text": [
      "Epoch 579\n",
      "Train Loss: 0.1380, Train Accuracy: 94.74%\n",
      "Test Loss: 0.2717, Test Accuracy: 92.29%\n",
      "\n"
     ]
    },
    {
     "name": "stderr",
     "output_type": "stream",
     "text": [
      "Epoch 580: 100%|██████████| 938/938 [00:54<00:00, 17.20batch/s, Train Loss=0.135, Train Acc=94.8]\n"
     ]
    },
    {
     "name": "stdout",
     "output_type": "stream",
     "text": [
      "Epoch 580\n",
      "Train Loss: 0.1355, Train Accuracy: 94.78%\n",
      "Test Loss: 0.2746, Test Accuracy: 92.47%\n",
      "\n"
     ]
    },
    {
     "name": "stderr",
     "output_type": "stream",
     "text": [
      "Epoch 581: 100%|██████████| 938/938 [00:54<00:00, 17.20batch/s, Train Loss=0.137, Train Acc=94.8]\n"
     ]
    },
    {
     "name": "stdout",
     "output_type": "stream",
     "text": [
      "Epoch 581\n",
      "Train Loss: 0.1374, Train Accuracy: 94.79%\n",
      "Test Loss: 0.2736, Test Accuracy: 92.59%\n",
      "\n"
     ]
    },
    {
     "name": "stderr",
     "output_type": "stream",
     "text": [
      "Epoch 582: 100%|██████████| 938/938 [00:54<00:00, 17.27batch/s, Train Loss=0.138, Train Acc=94.7]\n"
     ]
    },
    {
     "name": "stdout",
     "output_type": "stream",
     "text": [
      "Epoch 582\n",
      "Train Loss: 0.1375, Train Accuracy: 94.68%\n",
      "Test Loss: 0.2788, Test Accuracy: 92.09%\n",
      "\n"
     ]
    },
    {
     "name": "stderr",
     "output_type": "stream",
     "text": [
      "Epoch 583: 100%|██████████| 938/938 [00:54<00:00, 17.13batch/s, Train Loss=0.134, Train Acc=94.9]\n"
     ]
    },
    {
     "name": "stdout",
     "output_type": "stream",
     "text": [
      "Epoch 583\n",
      "Train Loss: 0.1341, Train Accuracy: 94.88%\n",
      "Test Loss: 0.2766, Test Accuracy: 92.57%\n",
      "\n"
     ]
    },
    {
     "name": "stderr",
     "output_type": "stream",
     "text": [
      "Epoch 584: 100%|██████████| 938/938 [00:54<00:00, 17.23batch/s, Train Loss=0.133, Train Acc=94.9]\n"
     ]
    },
    {
     "name": "stdout",
     "output_type": "stream",
     "text": [
      "Epoch 584\n",
      "Train Loss: 0.1331, Train Accuracy: 94.89%\n",
      "Test Loss: 0.2955, Test Accuracy: 92.31%\n",
      "\n"
     ]
    },
    {
     "name": "stderr",
     "output_type": "stream",
     "text": [
      "Epoch 585: 100%|██████████| 938/938 [00:54<00:00, 17.20batch/s, Train Loss=0.137, Train Acc=94.8]\n"
     ]
    },
    {
     "name": "stdout",
     "output_type": "stream",
     "text": [
      "Epoch 585\n",
      "Train Loss: 0.1368, Train Accuracy: 94.75%\n",
      "Test Loss: 0.2761, Test Accuracy: 92.46%\n",
      "\n"
     ]
    },
    {
     "name": "stderr",
     "output_type": "stream",
     "text": [
      "Epoch 586: 100%|██████████| 938/938 [00:54<00:00, 17.20batch/s, Train Loss=0.134, Train Acc=94.9]\n"
     ]
    },
    {
     "name": "stdout",
     "output_type": "stream",
     "text": [
      "Epoch 586\n",
      "Train Loss: 0.1341, Train Accuracy: 94.86%\n",
      "Test Loss: 0.2754, Test Accuracy: 92.10%\n",
      "\n"
     ]
    },
    {
     "name": "stderr",
     "output_type": "stream",
     "text": [
      "Epoch 587: 100%|██████████| 938/938 [00:54<00:00, 17.22batch/s, Train Loss=0.134, Train Acc=94.8]\n"
     ]
    },
    {
     "name": "stdout",
     "output_type": "stream",
     "text": [
      "Epoch 587\n",
      "Train Loss: 0.1338, Train Accuracy: 94.84%\n",
      "Test Loss: 0.2843, Test Accuracy: 92.13%\n",
      "\n"
     ]
    },
    {
     "name": "stderr",
     "output_type": "stream",
     "text": [
      "Epoch 588: 100%|██████████| 938/938 [00:54<00:00, 17.28batch/s, Train Loss=0.135, Train Acc=94.8]\n"
     ]
    },
    {
     "name": "stdout",
     "output_type": "stream",
     "text": [
      "Epoch 588\n",
      "Train Loss: 0.1352, Train Accuracy: 94.83%\n",
      "Test Loss: 0.2743, Test Accuracy: 92.74%\n",
      "\n"
     ]
    },
    {
     "name": "stderr",
     "output_type": "stream",
     "text": [
      "Epoch 589: 100%|██████████| 938/938 [00:54<00:00, 17.22batch/s, Train Loss=0.135, Train Acc=94.8]\n"
     ]
    },
    {
     "name": "stdout",
     "output_type": "stream",
     "text": [
      "Epoch 589\n",
      "Train Loss: 0.1348, Train Accuracy: 94.83%\n",
      "Test Loss: 0.2757, Test Accuracy: 92.29%\n",
      "\n"
     ]
    },
    {
     "name": "stderr",
     "output_type": "stream",
     "text": [
      "Epoch 590: 100%|██████████| 938/938 [00:54<00:00, 17.16batch/s, Train Loss=0.134, Train Acc=94.9]\n"
     ]
    },
    {
     "name": "stdout",
     "output_type": "stream",
     "text": [
      "Epoch 590\n",
      "Train Loss: 0.1336, Train Accuracy: 94.87%\n",
      "Test Loss: 0.2728, Test Accuracy: 92.72%\n",
      "\n"
     ]
    },
    {
     "name": "stderr",
     "output_type": "stream",
     "text": [
      "Epoch 591: 100%|██████████| 938/938 [00:54<00:00, 17.13batch/s, Train Loss=0.133, Train Acc=94.9]\n"
     ]
    },
    {
     "name": "stdout",
     "output_type": "stream",
     "text": [
      "Epoch 591\n",
      "Train Loss: 0.1328, Train Accuracy: 94.89%\n",
      "Test Loss: 0.2748, Test Accuracy: 92.40%\n",
      "\n"
     ]
    },
    {
     "name": "stderr",
     "output_type": "stream",
     "text": [
      "Epoch 592: 100%|██████████| 938/938 [00:54<00:00, 17.22batch/s, Train Loss=0.134, Train Acc=94.8]\n"
     ]
    },
    {
     "name": "stdout",
     "output_type": "stream",
     "text": [
      "Epoch 592\n",
      "Train Loss: 0.1336, Train Accuracy: 94.83%\n",
      "Test Loss: 0.2708, Test Accuracy: 92.38%\n",
      "\n"
     ]
    },
    {
     "name": "stderr",
     "output_type": "stream",
     "text": [
      "Epoch 593: 100%|██████████| 938/938 [00:54<00:00, 17.10batch/s, Train Loss=0.135, Train Acc=94.7]\n"
     ]
    },
    {
     "name": "stdout",
     "output_type": "stream",
     "text": [
      "Epoch 593\n",
      "Train Loss: 0.1352, Train Accuracy: 94.73%\n",
      "Test Loss: 0.2703, Test Accuracy: 92.50%\n",
      "\n"
     ]
    },
    {
     "name": "stderr",
     "output_type": "stream",
     "text": [
      "Epoch 594: 100%|██████████| 938/938 [00:54<00:00, 17.07batch/s, Train Loss=0.133, Train Acc=94.9]\n"
     ]
    },
    {
     "name": "stdout",
     "output_type": "stream",
     "text": [
      "Epoch 594\n",
      "Train Loss: 0.1331, Train Accuracy: 94.89%\n",
      "Test Loss: 0.2739, Test Accuracy: 92.64%\n",
      "\n"
     ]
    },
    {
     "name": "stderr",
     "output_type": "stream",
     "text": [
      "Epoch 595: 100%|██████████| 938/938 [00:54<00:00, 17.13batch/s, Train Loss=0.133, Train Acc=94.9]\n"
     ]
    },
    {
     "name": "stdout",
     "output_type": "stream",
     "text": [
      "Epoch 595\n",
      "Train Loss: 0.1332, Train Accuracy: 94.92%\n",
      "Test Loss: 0.2865, Test Accuracy: 92.20%\n",
      "\n"
     ]
    },
    {
     "name": "stderr",
     "output_type": "stream",
     "text": [
      "Epoch 596: 100%|██████████| 938/938 [00:54<00:00, 17.25batch/s, Train Loss=0.133, Train Acc=94.9]\n"
     ]
    },
    {
     "name": "stdout",
     "output_type": "stream",
     "text": [
      "Epoch 596\n",
      "Train Loss: 0.1332, Train Accuracy: 94.94%\n",
      "Test Loss: 0.2758, Test Accuracy: 92.34%\n",
      "\n"
     ]
    },
    {
     "name": "stderr",
     "output_type": "stream",
     "text": [
      "Epoch 597: 100%|██████████| 938/938 [00:54<00:00, 17.12batch/s, Train Loss=0.136, Train Acc=94.8]\n"
     ]
    },
    {
     "name": "stdout",
     "output_type": "stream",
     "text": [
      "Epoch 597\n",
      "Train Loss: 0.1359, Train Accuracy: 94.81%\n",
      "Test Loss: 0.2785, Test Accuracy: 92.69%\n",
      "\n"
     ]
    },
    {
     "name": "stderr",
     "output_type": "stream",
     "text": [
      "Epoch 598: 100%|██████████| 938/938 [00:54<00:00, 17.19batch/s, Train Loss=0.133, Train Acc=94.9]\n"
     ]
    },
    {
     "name": "stdout",
     "output_type": "stream",
     "text": [
      "Epoch 598\n",
      "Train Loss: 0.1330, Train Accuracy: 94.94%\n",
      "Test Loss: 0.2895, Test Accuracy: 92.25%\n",
      "\n"
     ]
    },
    {
     "name": "stderr",
     "output_type": "stream",
     "text": [
      "Epoch 599: 100%|██████████| 938/938 [00:54<00:00, 17.23batch/s, Train Loss=0.134, Train Acc=94.9]\n"
     ]
    },
    {
     "name": "stdout",
     "output_type": "stream",
     "text": [
      "Epoch 599\n",
      "Train Loss: 0.1339, Train Accuracy: 94.89%\n",
      "Test Loss: 0.2826, Test Accuracy: 92.17%\n",
      "\n"
     ]
    },
    {
     "name": "stderr",
     "output_type": "stream",
     "text": [
      "Epoch 600: 100%|██████████| 938/938 [00:54<00:00, 17.15batch/s, Train Loss=0.136, Train Acc=94.9]\n"
     ]
    },
    {
     "name": "stdout",
     "output_type": "stream",
     "text": [
      "Epoch 600\n",
      "Train Loss: 0.1363, Train Accuracy: 94.86%\n",
      "Test Loss: 0.2833, Test Accuracy: 92.43%\n",
      "\n"
     ]
    },
    {
     "name": "stderr",
     "output_type": "stream",
     "text": [
      "Epoch 601: 100%|██████████| 938/938 [00:54<00:00, 17.11batch/s, Train Loss=0.135, Train Acc=94.8]\n"
     ]
    },
    {
     "name": "stdout",
     "output_type": "stream",
     "text": [
      "Epoch 601\n",
      "Train Loss: 0.1349, Train Accuracy: 94.78%\n",
      "Test Loss: 0.2804, Test Accuracy: 92.16%\n",
      "\n"
     ]
    },
    {
     "name": "stderr",
     "output_type": "stream",
     "text": [
      "Epoch 602: 100%|██████████| 938/938 [00:54<00:00, 17.26batch/s, Train Loss=0.134, Train Acc=94.9]\n"
     ]
    },
    {
     "name": "stdout",
     "output_type": "stream",
     "text": [
      "Epoch 602\n",
      "Train Loss: 0.1336, Train Accuracy: 94.86%\n",
      "Test Loss: 0.2790, Test Accuracy: 92.44%\n",
      "\n"
     ]
    },
    {
     "name": "stderr",
     "output_type": "stream",
     "text": [
      "Epoch 603: 100%|██████████| 938/938 [00:54<00:00, 17.24batch/s, Train Loss=0.134, Train Acc=94.8]\n"
     ]
    },
    {
     "name": "stdout",
     "output_type": "stream",
     "text": [
      "Epoch 603\n",
      "Train Loss: 0.1335, Train Accuracy: 94.79%\n",
      "Test Loss: 0.2958, Test Accuracy: 92.04%\n",
      "\n"
     ]
    },
    {
     "name": "stderr",
     "output_type": "stream",
     "text": [
      "Epoch 604: 100%|██████████| 938/938 [00:54<00:00, 17.14batch/s, Train Loss=0.134, Train Acc=94.9]\n"
     ]
    },
    {
     "name": "stdout",
     "output_type": "stream",
     "text": [
      "Epoch 604\n",
      "Train Loss: 0.1339, Train Accuracy: 94.92%\n",
      "Test Loss: 0.2882, Test Accuracy: 92.30%\n",
      "\n"
     ]
    },
    {
     "name": "stderr",
     "output_type": "stream",
     "text": [
      "Epoch 605: 100%|██████████| 938/938 [00:54<00:00, 17.06batch/s, Train Loss=0.132, Train Acc=94.9]\n"
     ]
    },
    {
     "name": "stdout",
     "output_type": "stream",
     "text": [
      "Epoch 605\n",
      "Train Loss: 0.1317, Train Accuracy: 94.93%\n",
      "Test Loss: 0.2782, Test Accuracy: 92.35%\n",
      "\n"
     ]
    },
    {
     "name": "stderr",
     "output_type": "stream",
     "text": [
      "Epoch 606: 100%|██████████| 938/938 [00:54<00:00, 17.17batch/s, Train Loss=0.133, Train Acc=94.9]\n"
     ]
    },
    {
     "name": "stdout",
     "output_type": "stream",
     "text": [
      "Epoch 606\n",
      "Train Loss: 0.1332, Train Accuracy: 94.94%\n",
      "Test Loss: 0.2903, Test Accuracy: 92.12%\n",
      "\n"
     ]
    },
    {
     "name": "stderr",
     "output_type": "stream",
     "text": [
      "Epoch 607: 100%|██████████| 938/938 [00:54<00:00, 17.15batch/s, Train Loss=0.134, Train Acc=94.8]\n"
     ]
    },
    {
     "name": "stdout",
     "output_type": "stream",
     "text": [
      "Epoch 607\n",
      "Train Loss: 0.1338, Train Accuracy: 94.84%\n",
      "Test Loss: 0.2745, Test Accuracy: 92.31%\n",
      "\n"
     ]
    },
    {
     "name": "stderr",
     "output_type": "stream",
     "text": [
      "Epoch 608: 100%|██████████| 938/938 [00:54<00:00, 17.18batch/s, Train Loss=0.13, Train Acc=95.1] \n"
     ]
    },
    {
     "name": "stdout",
     "output_type": "stream",
     "text": [
      "Epoch 608\n",
      "Train Loss: 0.1295, Train Accuracy: 95.09%\n",
      "Test Loss: 0.2871, Test Accuracy: 92.12%\n",
      "\n"
     ]
    },
    {
     "name": "stderr",
     "output_type": "stream",
     "text": [
      "Epoch 609: 100%|██████████| 938/938 [00:54<00:00, 17.13batch/s, Train Loss=0.132, Train Acc=95]  \n"
     ]
    },
    {
     "name": "stdout",
     "output_type": "stream",
     "text": [
      "Epoch 609\n",
      "Train Loss: 0.1321, Train Accuracy: 94.95%\n",
      "Test Loss: 0.2834, Test Accuracy: 92.20%\n",
      "\n"
     ]
    },
    {
     "name": "stderr",
     "output_type": "stream",
     "text": [
      "Epoch 610: 100%|██████████| 938/938 [00:54<00:00, 17.24batch/s, Train Loss=0.13, Train Acc=95]   \n"
     ]
    },
    {
     "name": "stdout",
     "output_type": "stream",
     "text": [
      "Epoch 610\n",
      "Train Loss: 0.1303, Train Accuracy: 94.95%\n",
      "Test Loss: 0.2795, Test Accuracy: 92.32%\n",
      "\n"
     ]
    },
    {
     "name": "stderr",
     "output_type": "stream",
     "text": [
      "Epoch 611: 100%|██████████| 938/938 [00:54<00:00, 17.20batch/s, Train Loss=0.131, Train Acc=95]  \n"
     ]
    },
    {
     "name": "stdout",
     "output_type": "stream",
     "text": [
      "Epoch 611\n",
      "Train Loss: 0.1314, Train Accuracy: 94.97%\n",
      "Test Loss: 0.2799, Test Accuracy: 92.52%\n",
      "\n"
     ]
    },
    {
     "name": "stderr",
     "output_type": "stream",
     "text": [
      "Epoch 612: 100%|██████████| 938/938 [00:54<00:00, 17.30batch/s, Train Loss=0.133, Train Acc=94.9]\n"
     ]
    },
    {
     "name": "stdout",
     "output_type": "stream",
     "text": [
      "Epoch 612\n",
      "Train Loss: 0.1332, Train Accuracy: 94.92%\n",
      "Test Loss: 0.2835, Test Accuracy: 92.37%\n",
      "\n"
     ]
    },
    {
     "name": "stderr",
     "output_type": "stream",
     "text": [
      "Epoch 613: 100%|██████████| 938/938 [00:54<00:00, 17.25batch/s, Train Loss=0.131, Train Acc=95]  \n"
     ]
    },
    {
     "name": "stdout",
     "output_type": "stream",
     "text": [
      "Epoch 613\n",
      "Train Loss: 0.1314, Train Accuracy: 94.98%\n",
      "Test Loss: 0.2930, Test Accuracy: 92.13%\n",
      "\n"
     ]
    },
    {
     "name": "stderr",
     "output_type": "stream",
     "text": [
      "Epoch 614: 100%|██████████| 938/938 [00:54<00:00, 17.17batch/s, Train Loss=0.134, Train Acc=94.9]\n"
     ]
    },
    {
     "name": "stdout",
     "output_type": "stream",
     "text": [
      "Epoch 614\n",
      "Train Loss: 0.1342, Train Accuracy: 94.91%\n",
      "Test Loss: 0.2940, Test Accuracy: 92.13%\n",
      "\n"
     ]
    },
    {
     "name": "stderr",
     "output_type": "stream",
     "text": [
      "Epoch 615: 100%|██████████| 938/938 [00:54<00:00, 17.26batch/s, Train Loss=0.131, Train Acc=95]  \n"
     ]
    },
    {
     "name": "stdout",
     "output_type": "stream",
     "text": [
      "Epoch 615\n",
      "Train Loss: 0.1306, Train Accuracy: 94.97%\n",
      "Test Loss: 0.2810, Test Accuracy: 92.38%\n",
      "\n"
     ]
    },
    {
     "name": "stderr",
     "output_type": "stream",
     "text": [
      "Epoch 616: 100%|██████████| 938/938 [00:54<00:00, 17.30batch/s, Train Loss=0.133, Train Acc=94.9]\n"
     ]
    },
    {
     "name": "stdout",
     "output_type": "stream",
     "text": [
      "Epoch 616\n",
      "Train Loss: 0.1325, Train Accuracy: 94.89%\n",
      "Test Loss: 0.2754, Test Accuracy: 92.60%\n",
      "\n"
     ]
    },
    {
     "name": "stderr",
     "output_type": "stream",
     "text": [
      "Epoch 617: 100%|██████████| 938/938 [00:54<00:00, 17.23batch/s, Train Loss=0.132, Train Acc=94.9]\n"
     ]
    },
    {
     "name": "stdout",
     "output_type": "stream",
     "text": [
      "Epoch 617\n",
      "Train Loss: 0.1323, Train Accuracy: 94.91%\n",
      "Test Loss: 0.2696, Test Accuracy: 92.51%\n",
      "\n"
     ]
    },
    {
     "name": "stderr",
     "output_type": "stream",
     "text": [
      "Epoch 618: 100%|██████████| 938/938 [00:54<00:00, 17.18batch/s, Train Loss=0.13, Train Acc=95.1] \n"
     ]
    },
    {
     "name": "stdout",
     "output_type": "stream",
     "text": [
      "Epoch 618\n",
      "Train Loss: 0.1304, Train Accuracy: 95.06%\n",
      "Test Loss: 0.2788, Test Accuracy: 92.48%\n",
      "\n"
     ]
    },
    {
     "name": "stderr",
     "output_type": "stream",
     "text": [
      "Epoch 619: 100%|██████████| 938/938 [00:54<00:00, 17.20batch/s, Train Loss=0.133, Train Acc=94.9]\n"
     ]
    },
    {
     "name": "stdout",
     "output_type": "stream",
     "text": [
      "Epoch 619\n",
      "Train Loss: 0.1329, Train Accuracy: 94.89%\n",
      "Test Loss: 0.2764, Test Accuracy: 92.63%\n",
      "\n"
     ]
    },
    {
     "name": "stderr",
     "output_type": "stream",
     "text": [
      "Epoch 620: 100%|██████████| 938/938 [00:54<00:00, 17.12batch/s, Train Loss=0.133, Train Acc=94.8]\n"
     ]
    },
    {
     "name": "stdout",
     "output_type": "stream",
     "text": [
      "Epoch 620\n",
      "Train Loss: 0.1327, Train Accuracy: 94.85%\n",
      "Test Loss: 0.2720, Test Accuracy: 92.38%\n",
      "\n"
     ]
    },
    {
     "name": "stderr",
     "output_type": "stream",
     "text": [
      "Epoch 621: 100%|██████████| 938/938 [00:54<00:00, 17.19batch/s, Train Loss=0.131, Train Acc=95]  \n"
     ]
    },
    {
     "name": "stdout",
     "output_type": "stream",
     "text": [
      "Epoch 621\n",
      "Train Loss: 0.1306, Train Accuracy: 95.00%\n",
      "Test Loss: 0.2765, Test Accuracy: 92.63%\n",
      "\n"
     ]
    },
    {
     "name": "stderr",
     "output_type": "stream",
     "text": [
      "Epoch 622: 100%|██████████| 938/938 [00:54<00:00, 17.16batch/s, Train Loss=0.132, Train Acc=94.9]\n"
     ]
    },
    {
     "name": "stdout",
     "output_type": "stream",
     "text": [
      "Epoch 622\n",
      "Train Loss: 0.1318, Train Accuracy: 94.92%\n",
      "Test Loss: 0.2768, Test Accuracy: 92.48%\n",
      "\n"
     ]
    },
    {
     "name": "stderr",
     "output_type": "stream",
     "text": [
      "Epoch 623: 100%|██████████| 938/938 [00:54<00:00, 17.18batch/s, Train Loss=0.13, Train Acc=95]   \n"
     ]
    },
    {
     "name": "stdout",
     "output_type": "stream",
     "text": [
      "Epoch 623\n",
      "Train Loss: 0.1304, Train Accuracy: 94.95%\n",
      "Test Loss: 0.2768, Test Accuracy: 92.41%\n",
      "\n"
     ]
    },
    {
     "name": "stderr",
     "output_type": "stream",
     "text": [
      "Epoch 624: 100%|██████████| 938/938 [00:54<00:00, 17.21batch/s, Train Loss=0.132, Train Acc=95]  \n"
     ]
    },
    {
     "name": "stdout",
     "output_type": "stream",
     "text": [
      "Epoch 624\n",
      "Train Loss: 0.1318, Train Accuracy: 95.00%\n",
      "Test Loss: 0.2815, Test Accuracy: 92.37%\n",
      "\n"
     ]
    },
    {
     "name": "stderr",
     "output_type": "stream",
     "text": [
      "Epoch 625: 100%|██████████| 938/938 [00:54<00:00, 17.26batch/s, Train Loss=0.132, Train Acc=94.9]\n"
     ]
    },
    {
     "name": "stdout",
     "output_type": "stream",
     "text": [
      "Epoch 625\n",
      "Train Loss: 0.1323, Train Accuracy: 94.89%\n",
      "Test Loss: 0.2785, Test Accuracy: 92.60%\n",
      "\n"
     ]
    },
    {
     "name": "stderr",
     "output_type": "stream",
     "text": [
      "Epoch 626: 100%|██████████| 938/938 [00:54<00:00, 17.19batch/s, Train Loss=0.129, Train Acc=95]  \n"
     ]
    },
    {
     "name": "stdout",
     "output_type": "stream",
     "text": [
      "Epoch 626\n",
      "Train Loss: 0.1288, Train Accuracy: 95.00%\n",
      "Test Loss: 0.2755, Test Accuracy: 92.67%\n",
      "\n"
     ]
    },
    {
     "name": "stderr",
     "output_type": "stream",
     "text": [
      "Epoch 627: 100%|██████████| 938/938 [00:54<00:00, 17.18batch/s, Train Loss=0.128, Train Acc=95.1]\n"
     ]
    },
    {
     "name": "stdout",
     "output_type": "stream",
     "text": [
      "Epoch 627\n",
      "Train Loss: 0.1283, Train Accuracy: 95.07%\n",
      "Test Loss: 0.2791, Test Accuracy: 92.59%\n",
      "\n"
     ]
    },
    {
     "name": "stderr",
     "output_type": "stream",
     "text": [
      "Epoch 628: 100%|██████████| 938/938 [00:54<00:00, 17.17batch/s, Train Loss=0.132, Train Acc=95]  \n"
     ]
    },
    {
     "name": "stdout",
     "output_type": "stream",
     "text": [
      "Epoch 628\n",
      "Train Loss: 0.1317, Train Accuracy: 94.95%\n",
      "Test Loss: 0.2784, Test Accuracy: 92.66%\n",
      "\n"
     ]
    },
    {
     "name": "stderr",
     "output_type": "stream",
     "text": [
      "Epoch 629: 100%|██████████| 938/938 [00:54<00:00, 17.21batch/s, Train Loss=0.129, Train Acc=95]  \n"
     ]
    },
    {
     "name": "stdout",
     "output_type": "stream",
     "text": [
      "Epoch 629\n",
      "Train Loss: 0.1289, Train Accuracy: 95.01%\n",
      "Test Loss: 0.2875, Test Accuracy: 92.56%\n",
      "\n"
     ]
    },
    {
     "name": "stderr",
     "output_type": "stream",
     "text": [
      "Epoch 630: 100%|██████████| 938/938 [00:54<00:00, 17.17batch/s, Train Loss=0.132, Train Acc=94.9]\n"
     ]
    },
    {
     "name": "stdout",
     "output_type": "stream",
     "text": [
      "Epoch 630\n",
      "Train Loss: 0.1323, Train Accuracy: 94.92%\n",
      "Test Loss: 0.2759, Test Accuracy: 92.66%\n",
      "\n"
     ]
    },
    {
     "name": "stderr",
     "output_type": "stream",
     "text": [
      "Epoch 631: 100%|██████████| 938/938 [00:54<00:00, 17.14batch/s, Train Loss=0.13, Train Acc=95]   \n"
     ]
    },
    {
     "name": "stdout",
     "output_type": "stream",
     "text": [
      "Epoch 631\n",
      "Train Loss: 0.1299, Train Accuracy: 94.97%\n",
      "Test Loss: 0.2758, Test Accuracy: 92.74%\n",
      "\n"
     ]
    },
    {
     "name": "stderr",
     "output_type": "stream",
     "text": [
      "Epoch 632: 100%|██████████| 938/938 [00:54<00:00, 17.17batch/s, Train Loss=0.132, Train Acc=94.9]\n"
     ]
    },
    {
     "name": "stdout",
     "output_type": "stream",
     "text": [
      "Epoch 632\n",
      "Train Loss: 0.1317, Train Accuracy: 94.88%\n",
      "Test Loss: 0.2814, Test Accuracy: 92.75%\n",
      "\n"
     ]
    },
    {
     "name": "stderr",
     "output_type": "stream",
     "text": [
      "Epoch 633: 100%|██████████| 938/938 [00:54<00:00, 17.24batch/s, Train Loss=0.129, Train Acc=95]  \n"
     ]
    },
    {
     "name": "stdout",
     "output_type": "stream",
     "text": [
      "Epoch 633\n",
      "Train Loss: 0.1293, Train Accuracy: 94.99%\n",
      "Test Loss: 0.2817, Test Accuracy: 92.52%\n",
      "\n"
     ]
    },
    {
     "name": "stderr",
     "output_type": "stream",
     "text": [
      "Epoch 634: 100%|██████████| 938/938 [00:54<00:00, 17.21batch/s, Train Loss=0.13, Train Acc=95.1] \n"
     ]
    },
    {
     "name": "stdout",
     "output_type": "stream",
     "text": [
      "Epoch 634\n",
      "Train Loss: 0.1299, Train Accuracy: 95.06%\n",
      "Test Loss: 0.2892, Test Accuracy: 92.23%\n",
      "\n"
     ]
    },
    {
     "name": "stderr",
     "output_type": "stream",
     "text": [
      "Epoch 635: 100%|██████████| 938/938 [00:54<00:00, 17.24batch/s, Train Loss=0.128, Train Acc=95]  \n"
     ]
    },
    {
     "name": "stdout",
     "output_type": "stream",
     "text": [
      "Epoch 635\n",
      "Train Loss: 0.1284, Train Accuracy: 95.03%\n",
      "Test Loss: 0.2840, Test Accuracy: 92.46%\n",
      "\n"
     ]
    },
    {
     "name": "stderr",
     "output_type": "stream",
     "text": [
      "Epoch 636: 100%|██████████| 938/938 [00:54<00:00, 17.14batch/s, Train Loss=0.13, Train Acc=95]   \n"
     ]
    },
    {
     "name": "stdout",
     "output_type": "stream",
     "text": [
      "Epoch 636\n",
      "Train Loss: 0.1295, Train Accuracy: 95.04%\n",
      "Test Loss: 0.2868, Test Accuracy: 92.54%\n",
      "\n"
     ]
    },
    {
     "name": "stderr",
     "output_type": "stream",
     "text": [
      "Epoch 637: 100%|██████████| 938/938 [00:54<00:00, 17.06batch/s, Train Loss=0.13, Train Acc=94.9] \n"
     ]
    },
    {
     "name": "stdout",
     "output_type": "stream",
     "text": [
      "Epoch 637\n",
      "Train Loss: 0.1300, Train Accuracy: 94.92%\n",
      "Test Loss: 0.2804, Test Accuracy: 92.29%\n",
      "\n"
     ]
    },
    {
     "name": "stderr",
     "output_type": "stream",
     "text": [
      "Epoch 638: 100%|██████████| 938/938 [00:54<00:00, 17.21batch/s, Train Loss=0.128, Train Acc=95.1]\n"
     ]
    },
    {
     "name": "stdout",
     "output_type": "stream",
     "text": [
      "Epoch 638\n",
      "Train Loss: 0.1282, Train Accuracy: 95.13%\n",
      "Test Loss: 0.2766, Test Accuracy: 92.13%\n",
      "\n"
     ]
    },
    {
     "name": "stderr",
     "output_type": "stream",
     "text": [
      "Epoch 639: 100%|██████████| 938/938 [00:54<00:00, 17.20batch/s, Train Loss=0.128, Train Acc=95.1]\n"
     ]
    },
    {
     "name": "stdout",
     "output_type": "stream",
     "text": [
      "Epoch 639\n",
      "Train Loss: 0.1285, Train Accuracy: 95.11%\n",
      "Test Loss: 0.2747, Test Accuracy: 92.55%\n",
      "\n"
     ]
    },
    {
     "name": "stderr",
     "output_type": "stream",
     "text": [
      "Epoch 640: 100%|██████████| 938/938 [00:54<00:00, 17.20batch/s, Train Loss=0.131, Train Acc=94.9]\n"
     ]
    },
    {
     "name": "stdout",
     "output_type": "stream",
     "text": [
      "Epoch 640\n",
      "Train Loss: 0.1308, Train Accuracy: 94.89%\n",
      "Test Loss: 0.2781, Test Accuracy: 92.50%\n",
      "\n"
     ]
    },
    {
     "name": "stderr",
     "output_type": "stream",
     "text": [
      "Epoch 641: 100%|██████████| 938/938 [00:54<00:00, 17.12batch/s, Train Loss=0.13, Train Acc=95]   \n"
     ]
    },
    {
     "name": "stdout",
     "output_type": "stream",
     "text": [
      "Epoch 641\n",
      "Train Loss: 0.1298, Train Accuracy: 95.01%\n",
      "Test Loss: 0.2831, Test Accuracy: 92.52%\n",
      "\n"
     ]
    },
    {
     "name": "stderr",
     "output_type": "stream",
     "text": [
      "Epoch 642: 100%|██████████| 938/938 [00:54<00:00, 17.11batch/s, Train Loss=0.127, Train Acc=95]  \n"
     ]
    },
    {
     "name": "stdout",
     "output_type": "stream",
     "text": [
      "Epoch 642\n",
      "Train Loss: 0.1273, Train Accuracy: 95.03%\n",
      "Test Loss: 0.2810, Test Accuracy: 92.77%\n",
      "\n"
     ]
    },
    {
     "name": "stderr",
     "output_type": "stream",
     "text": [
      "Epoch 643: 100%|██████████| 938/938 [00:54<00:00, 17.17batch/s, Train Loss=0.131, Train Acc=95]  \n"
     ]
    },
    {
     "name": "stdout",
     "output_type": "stream",
     "text": [
      "Epoch 643\n",
      "Train Loss: 0.1306, Train Accuracy: 95.02%\n",
      "Test Loss: 0.2780, Test Accuracy: 92.60%\n",
      "\n"
     ]
    },
    {
     "name": "stderr",
     "output_type": "stream",
     "text": [
      "Epoch 644: 100%|██████████| 938/938 [00:55<00:00, 17.05batch/s, Train Loss=0.13, Train Acc=94.9] \n"
     ]
    },
    {
     "name": "stdout",
     "output_type": "stream",
     "text": [
      "Epoch 644\n",
      "Train Loss: 0.1304, Train Accuracy: 94.90%\n",
      "Test Loss: 0.2879, Test Accuracy: 92.27%\n",
      "\n"
     ]
    },
    {
     "name": "stderr",
     "output_type": "stream",
     "text": [
      "Epoch 645: 100%|██████████| 938/938 [00:54<00:00, 17.20batch/s, Train Loss=0.132, Train Acc=94.9]\n"
     ]
    },
    {
     "name": "stdout",
     "output_type": "stream",
     "text": [
      "Epoch 645\n",
      "Train Loss: 0.1322, Train Accuracy: 94.88%\n",
      "Test Loss: 0.2839, Test Accuracy: 92.63%\n",
      "\n"
     ]
    },
    {
     "name": "stderr",
     "output_type": "stream",
     "text": [
      "Epoch 646: 100%|██████████| 938/938 [00:54<00:00, 17.17batch/s, Train Loss=0.13, Train Acc=95]   \n"
     ]
    },
    {
     "name": "stdout",
     "output_type": "stream",
     "text": [
      "Epoch 646\n",
      "Train Loss: 0.1299, Train Accuracy: 94.99%\n",
      "Test Loss: 0.2807, Test Accuracy: 92.66%\n",
      "\n"
     ]
    },
    {
     "name": "stderr",
     "output_type": "stream",
     "text": [
      "Epoch 647: 100%|██████████| 938/938 [00:54<00:00, 17.23batch/s, Train Loss=0.128, Train Acc=95.1]\n"
     ]
    },
    {
     "name": "stdout",
     "output_type": "stream",
     "text": [
      "Epoch 647\n",
      "Train Loss: 0.1275, Train Accuracy: 95.11%\n",
      "Test Loss: 0.2799, Test Accuracy: 92.83%\n",
      "\n"
     ]
    },
    {
     "name": "stderr",
     "output_type": "stream",
     "text": [
      "Epoch 648: 100%|██████████| 938/938 [00:54<00:00, 17.24batch/s, Train Loss=0.129, Train Acc=95]  \n"
     ]
    },
    {
     "name": "stdout",
     "output_type": "stream",
     "text": [
      "Epoch 648\n",
      "Train Loss: 0.1289, Train Accuracy: 95.03%\n",
      "Test Loss: 0.2778, Test Accuracy: 92.72%\n",
      "\n"
     ]
    },
    {
     "name": "stderr",
     "output_type": "stream",
     "text": [
      "Epoch 649: 100%|██████████| 938/938 [00:54<00:00, 17.16batch/s, Train Loss=0.128, Train Acc=95.2]\n"
     ]
    },
    {
     "name": "stdout",
     "output_type": "stream",
     "text": [
      "Epoch 649\n",
      "Train Loss: 0.1280, Train Accuracy: 95.17%\n",
      "Test Loss: 0.2838, Test Accuracy: 92.46%\n",
      "\n"
     ]
    },
    {
     "name": "stderr",
     "output_type": "stream",
     "text": [
      "Epoch 650: 100%|██████████| 938/938 [00:54<00:00, 17.18batch/s, Train Loss=0.13, Train Acc=94.9] \n"
     ]
    },
    {
     "name": "stdout",
     "output_type": "stream",
     "text": [
      "Epoch 650\n",
      "Train Loss: 0.1297, Train Accuracy: 94.94%\n",
      "Test Loss: 0.2894, Test Accuracy: 92.49%\n",
      "\n"
     ]
    },
    {
     "name": "stderr",
     "output_type": "stream",
     "text": [
      "Epoch 651: 100%|██████████| 938/938 [00:54<00:00, 17.16batch/s, Train Loss=0.133, Train Acc=95]  \n"
     ]
    },
    {
     "name": "stdout",
     "output_type": "stream",
     "text": [
      "Epoch 651\n",
      "Train Loss: 0.1325, Train Accuracy: 95.02%\n",
      "Test Loss: 0.2816, Test Accuracy: 92.37%\n",
      "\n"
     ]
    },
    {
     "name": "stderr",
     "output_type": "stream",
     "text": [
      "Epoch 652: 100%|██████████| 938/938 [00:54<00:00, 17.17batch/s, Train Loss=0.13, Train Acc=95.1] \n"
     ]
    },
    {
     "name": "stdout",
     "output_type": "stream",
     "text": [
      "Epoch 652\n",
      "Train Loss: 0.1299, Train Accuracy: 95.09%\n",
      "Test Loss: 0.2764, Test Accuracy: 92.48%\n",
      "\n"
     ]
    },
    {
     "name": "stderr",
     "output_type": "stream",
     "text": [
      "Epoch 653: 100%|██████████| 938/938 [00:54<00:00, 17.20batch/s, Train Loss=0.131, Train Acc=95]  \n"
     ]
    },
    {
     "name": "stdout",
     "output_type": "stream",
     "text": [
      "Epoch 653\n",
      "Train Loss: 0.1307, Train Accuracy: 95.04%\n",
      "Test Loss: 0.2785, Test Accuracy: 92.56%\n",
      "\n"
     ]
    },
    {
     "name": "stderr",
     "output_type": "stream",
     "text": [
      "Epoch 654: 100%|██████████| 938/938 [01:00<00:00, 15.58batch/s, Train Loss=0.128, Train Acc=95.1]\n"
     ]
    },
    {
     "name": "stdout",
     "output_type": "stream",
     "text": [
      "Epoch 654\n",
      "Train Loss: 0.1276, Train Accuracy: 95.12%\n",
      "Test Loss: 0.2803, Test Accuracy: 92.74%\n",
      "\n"
     ]
    },
    {
     "name": "stderr",
     "output_type": "stream",
     "text": [
      "Epoch 655: 100%|██████████| 938/938 [01:00<00:00, 15.44batch/s, Train Loss=0.129, Train Acc=95.1]\n"
     ]
    },
    {
     "name": "stdout",
     "output_type": "stream",
     "text": [
      "Epoch 655\n",
      "Train Loss: 0.1286, Train Accuracy: 95.09%\n",
      "Test Loss: 0.2826, Test Accuracy: 92.45%\n",
      "\n"
     ]
    },
    {
     "name": "stderr",
     "output_type": "stream",
     "text": [
      "Epoch 656:   7%|▋         | 68/938 [00:04<00:56, 15.52batch/s, Train Loss=0.127, Train Acc=95]  \n"
     ]
    },
    {
     "ename": "KeyboardInterrupt",
     "evalue": "",
     "output_type": "error",
     "traceback": [
      "\u001b[0;31m---------------------------------------------------------------------------\u001b[0m",
      "\u001b[0;31mKeyboardInterrupt\u001b[0m                         Traceback (most recent call last)",
      "Cell \u001b[0;32mIn[29], line 4\u001b[0m\n\u001b[1;32m      2\u001b[0m epochs \u001b[38;5;241m=\u001b[39m \u001b[38;5;241m1000\u001b[39m\n\u001b[1;32m      3\u001b[0m \u001b[38;5;28;01mfor\u001b[39;00m epoch \u001b[38;5;129;01min\u001b[39;00m \u001b[38;5;28mrange\u001b[39m(\u001b[38;5;241m0\u001b[39m, epochs \u001b[38;5;241m+\u001b[39m \u001b[38;5;241m1\u001b[39m):\n\u001b[0;32m----> 4\u001b[0m     train_loss, train_accuracy \u001b[38;5;241m=\u001b[39m \u001b[43mtrain\u001b[49m\u001b[43m(\u001b[49m\u001b[43mmodel\u001b[49m\u001b[43m,\u001b[49m\u001b[43m \u001b[49m\u001b[43mdevice\u001b[49m\u001b[43m,\u001b[49m\u001b[43m \u001b[49m\u001b[43mtrain_loader\u001b[49m\u001b[43m,\u001b[49m\u001b[43m \u001b[49m\u001b[43moptimizer\u001b[49m\u001b[43m,\u001b[49m\u001b[43m \u001b[49m\u001b[43mcriterion\u001b[49m\u001b[43m,\u001b[49m\u001b[43m \u001b[49m\u001b[43mepoch\u001b[49m\u001b[43m)\u001b[49m\n\u001b[1;32m      5\u001b[0m     test_loss, test_accuracy \u001b[38;5;241m=\u001b[39m test(model, device, test_loader, criterion, epoch)\n\u001b[1;32m      6\u001b[0m     \u001b[38;5;28mprint\u001b[39m(\u001b[38;5;124mf\u001b[39m\u001b[38;5;124m\"\u001b[39m\u001b[38;5;124mEpoch \u001b[39m\u001b[38;5;132;01m{\u001b[39;00mepoch\u001b[38;5;132;01m}\u001b[39;00m\u001b[38;5;124m\"\u001b[39m)\n",
      "Cell \u001b[0;32mIn[26], line 16\u001b[0m, in \u001b[0;36mtrain\u001b[0;34m(model, device, train_loader, optimizer, criterion, epoch)\u001b[0m\n\u001b[1;32m     14\u001b[0m loss\u001b[38;5;241m.\u001b[39mbackward()\n\u001b[1;32m     15\u001b[0m optimizer\u001b[38;5;241m.\u001b[39mstep()\n\u001b[0;32m---> 16\u001b[0m train_loss \u001b[38;5;241m+\u001b[39m\u001b[38;5;241m=\u001b[39m \u001b[43mloss\u001b[49m\u001b[38;5;241;43m.\u001b[39;49m\u001b[43mitem\u001b[49m\u001b[43m(\u001b[49m\u001b[43m)\u001b[49m\n\u001b[1;32m     17\u001b[0m _, predicted \u001b[38;5;241m=\u001b[39m output\u001b[38;5;241m.\u001b[39mmax(\u001b[38;5;241m1\u001b[39m)\n\u001b[1;32m     18\u001b[0m total \u001b[38;5;241m+\u001b[39m\u001b[38;5;241m=\u001b[39m target\u001b[38;5;241m.\u001b[39msize(\u001b[38;5;241m0\u001b[39m)\n",
      "\u001b[0;31mKeyboardInterrupt\u001b[0m: "
     ]
    }
   ],
   "source": [
    "\n",
    "\n",
    "model.to(device)\n",
    "epochs = 1000\n",
    "for epoch in range(0, epochs + 1):\n",
    "    train_loss, train_accuracy = train(model, device, train_loader, optimizer, criterion, epoch)\n",
    "    test_loss, test_accuracy = test(model, device, test_loader, criterion, epoch)\n",
    "    print(f\"Epoch {epoch}\")\n",
    "    print(f\"Train Loss: {train_loss:.4f}, Train Accuracy: {train_accuracy:.2f}%\")\n",
    "    print(f\"Test Loss: {test_loss:.4f}, Test Accuracy: {test_accuracy:.2f}%\")\n",
    "    print()\n",
    "\n",
    "\n",
    "writer.close()"
   ]
  },
  {
   "cell_type": "code",
   "execution_count": 43,
   "metadata": {},
   "outputs": [],
   "source": [
    "def save_model(model, optimizer, epoch, loss, accuracy, filename):\n",
    "    torch.save({\n",
    "        'epoch': epoch,\n",
    "        'model_state_dict': model.state_dict(),\n",
    "        'optimizer_state_dict': optimizer.state_dict(),\n",
    "        'loss': loss,\n",
    "        'accuracy': accuracy\n",
    "    }, filename)\n"
   ]
  },
  {
   "cell_type": "code",
   "execution_count": 44,
   "metadata": {},
   "outputs": [],
   "source": [
    "save_model(model, optimizer, epochs, test_loss, test_accuracy, 'final_model_n.pth')"
   ]
  },
  {
   "cell_type": "code",
   "execution_count": 28,
   "metadata": {},
   "outputs": [],
   "source": [
    "def load_model(model, optimizer, filename):\n",
    "    checkpoint = torch.load(filename)\n",
    "    model.load_state_dict(checkpoint['model_state_dict'])\n",
    "    optimizer.load_state_dict(checkpoint['optimizer_state_dict'])\n",
    "    epoch = checkpoint['epoch']\n",
    "    loss = checkpoint['loss']\n",
    "    accuracy = checkpoint['accuracy']\n",
    "    return model, optimizer, epoch, loss, accuracy\n",
    "\n",
    "# Usage\n",
    "model, optimizer, epoch, loss, accuracy = load_model(model, optimizer, 'final_model_keeptrain.pth')"
   ]
  },
  {
   "cell_type": "code",
   "execution_count": null,
   "metadata": {},
   "outputs": [],
   "source": []
  }
 ],
 "metadata": {
  "kernelspec": {
   "display_name": "vqvae",
   "language": "python",
   "name": "python3"
  },
  "language_info": {
   "codemirror_mode": {
    "name": "ipython",
    "version": 3
   },
   "file_extension": ".py",
   "mimetype": "text/x-python",
   "name": "python",
   "nbconvert_exporter": "python",
   "pygments_lexer": "ipython3",
   "version": "3.10.9"
  }
 },
 "nbformat": 4,
 "nbformat_minor": 2
}
