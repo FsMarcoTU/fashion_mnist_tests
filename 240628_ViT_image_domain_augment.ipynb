{
 "cells": [
  {
   "cell_type": "code",
   "execution_count": 1,
   "metadata": {},
   "outputs": [],
   "source": [
    "from vit_pytorch import ViT\n",
    "import torch\n",
    "from torchvision import datasets, transforms\n",
    "from torch.utils.data import Dataset, DataLoader\n",
    "import numpy as np\n",
    "import matplotlib.pyplot as plt\n",
    "import random\n",
    "import torch.nn as nn\n",
    "import torch.optim as optim\n",
    "import torch.nn.functional as F\n",
    "from tqdm import tqdm\n",
    "from torch.utils.tensorboard import SummaryWriter"
   ]
  },
  {
   "cell_type": "code",
   "execution_count": 2,
   "metadata": {},
   "outputs": [],
   "source": [
    "\n",
    "transform = transforms.Compose([transforms.ToTensor()])\n",
    "train_data = datasets.FashionMNIST(root='data', train=True, download=True, transform=transform)\n",
    "test_data = datasets.FashionMNIST(root='data', train=False, download=True, transform=transform)"
   ]
  },
  {
   "cell_type": "code",
   "execution_count": 3,
   "metadata": {},
   "outputs": [],
   "source": [
    "def fft_transform(data):\n",
    "    processed_data = []\n",
    "    for img, _ in data:\n",
    "        img_np = img.numpy().squeeze()\n",
    "        fft = np.fft.fft2(img_np)\n",
    "        processed_data.append((img_np, fft))\n",
    "    return processed_data\n",
    "\n",
    "train_fft = fft_transform(train_data)\n",
    "test_fft = fft_transform(test_data)\n",
    "\n",
    "def normalize_fft(fft_data):\n",
    "    normalized_data = []\n",
    "    for img_np, fft in fft_data:\n",
    "        # Calculate magnitude and phase\n",
    "        magnitude = np.abs(fft)\n",
    "        phase = np.angle(fft)\n",
    "        \n",
    "        # Normalize magnitude to [0, 1] range\n",
    "        magnitude_min = np.min(magnitude)\n",
    "        magnitude_max = np.max(magnitude)\n",
    "        normalized_magnitude = (magnitude - magnitude_min) / (magnitude_max - magnitude_min)\n",
    "        \n",
    "        # Rebuild complex number using normalized magnitude and original phase\n",
    "        normalized_fft = normalized_magnitude * np.exp(1j * phase)\n",
    "        \n",
    "        normalized_data.append((img_np, normalized_fft))\n",
    "    \n",
    "    return normalized_data\n",
    "\n",
    "# train_fft = normalize_fft(train_fft)\n",
    "# test_fft = normalize_fft(test_fft)"
   ]
  },
  {
   "cell_type": "code",
   "execution_count": 4,
   "metadata": {},
   "outputs": [
    {
     "name": "stdout",
     "output_type": "stream",
     "text": [
      "1.0 0.0 (299.0078472062014+0j) (-105.1554452474781-85.19899857776973j)\n"
     ]
    },
    {
     "data": {
      "image/png": "[encoded data removed]",
      "text/plain": [
       "<Figure size 640x480 with 1 Axes>"
      ]
     },
     "metadata": {},
     "output_type": "display_data"
    }
   ],
   "source": [
    "plt.imshow(np.abs(train_fft[0])[1])\n",
    "print(train_fft[0][0].max(), train_fft[0][0].min(), train_fft[0][1].max(), train_fft[0][1].min())"
   ]
  },
  {
   "cell_type": "code",
   "execution_count": 5,
   "metadata": {},
   "outputs": [],
   "source": [
    "def phase_shift_fourier(fourier_image, x=2.0, y=2.0):\n",
    "    \"\"\"\n",
    "    Perform a random phase shift on a Fourier-image, constrained by maximum values.\n",
    "    \n",
    "    Parameters:\n",
    "    fourier_image (torch.tensor): Complex-valued centered Fourier representation of an image\n",
    "    x (float): Maximum amount to shift in x direction (0-2 range recommended due to 2pi periodicity)\n",
    "    y (float): Maximum amount to shift in y direction (0-2 range recommended due to 2pi periodicity)\n",
    "    \n",
    "    Returns:\n",
    "    torch.tensor: The phase-shifted Fourier-image\n",
    "    \"\"\"\n",
    "    fourier_image = torch.fft.fftshift(fourier_image)\n",
    "    rows, cols = fourier_image.shape\n",
    "    \n",
    "    # Generate random shift amounts within the specified ranges\n",
    "    random_x = torch.rand(1).item() * x\n",
    "    random_y = torch.rand(1).item() * y\n",
    "    shift_x = random_y * torch.pi * rows\n",
    "    shift_y = random_x * torch.pi * cols\n",
    "    \n",
    "    freq_x = torch.fft.fftfreq(cols)\n",
    "    freq_y = torch.fft.fftfreq(rows)\n",
    "    fx, fy = torch.meshgrid(freq_x, freq_y, indexing='ij')\n",
    "    \n",
    "    # Calculate and apply phase shift\n",
    "    phase_shift = torch.exp(-1j * (shift_x * fx + shift_y * fy))\n",
    "    shifted_fourier_image = torch.fft.fftshift(fourier_image * phase_shift)\n",
    "    \n",
    "    return shifted_fourier_image\n",
    "\n",
    "\n",
    "def mask_frequency_spectrum(spectrum, max_mask_percentage):\n",
    "    # Ensure the max_mask_percentage is between 0 and 100\n",
    "    max_mask_percentage = torch.clamp(torch.tensor(max_mask_percentage), 0, 100)\n",
    "    \n",
    "    # Generate a random mask percentage\n",
    "    mask_percentage = torch.rand(1) * max_mask_percentage\n",
    "    \n",
    "    # Calculate the number of elements to mask\n",
    "    num_elements = spectrum.numel()\n",
    "    num_masked = int(num_elements * mask_percentage.item() / 100)\n",
    "    \n",
    "    # Create a flat copy of the spectrum\n",
    "    flat_spectrum = spectrum.view(-1)\n",
    "    \n",
    "    # Randomly select indices to mask\n",
    "    mask_indices = torch.randperm(num_elements)[:num_masked]\n",
    "    \n",
    "    # Create a mask tensor\n",
    "    mask = torch.ones_like(flat_spectrum, dtype=torch.bool)\n",
    "    mask[mask_indices] = False\n",
    "    \n",
    "    # Apply the mask\n",
    "    masked_spectrum = flat_spectrum.clone()\n",
    "    masked_spectrum[~mask] = 0\n",
    "    \n",
    "    # Reshape the spectrum back to its original shape\n",
    "    masked_spectrum = masked_spectrum.view(spectrum.shape)\n",
    "    \n",
    "    return masked_spectrum"
   ]
  },
  {
   "cell_type": "code",
   "execution_count": 6,
   "metadata": {},
   "outputs": [],
   "source": [
    "class CustomTransform:\n",
    "    def __init__(self, is_training=True):\n",
    "        self.is_training = is_training\n",
    "        \n",
    "    def __call__(self, sample):\n",
    "        img, fft = torch.tensor(np.array(sample))\n",
    "        if self.is_training: \n",
    "            fft = torch.fft.fftshift(fft)\n",
    "            fft = phase_shift_fourier(fft)\n",
    "            fft = mask_frequency_spectrum(fft, 75)\n",
    "            fft = torch.fft.fftshift(fft)\n",
    "            img = torch.fft.ifft2(fft)\n",
    "                # Split the complex image into real and imaginary parts\n",
    "        img_real = torch.real(img)\n",
    "        img_imag = torch.imag(img)\n",
    "        \n",
    "        # Stack the real and imaginary parts of the image\n",
    "        img_stacked = torch.stack([img_real, img_imag])\n",
    "        \n",
    "        return img_stacked.float()"
   ]
  },
  {
   "cell_type": "code",
   "execution_count": 7,
   "metadata": {},
   "outputs": [],
   "source": [
    "class ComplexDataset(Dataset):\n",
    "    def __init__(self, data, labels, is_training=True):\n",
    "        self.data = data\n",
    "        self.labels = labels\n",
    "        self.transform = CustomTransform(is_training)\n",
    "        \n",
    "    def __len__(self):\n",
    "        return len(self.data)\n",
    "\n",
    "    def __getitem__(self, idx):\n",
    "        sample = self.data[idx]\n",
    "        label = self.labels[idx]\n",
    "        sample = self.transform(sample)\n",
    "        return sample, label"
   ]
  },
  {
   "cell_type": "code",
   "execution_count": 28,
   "metadata": {},
   "outputs": [
    {
     "name": "stdout",
     "output_type": "stream",
     "text": [
      "938\n"
     ]
    }
   ],
   "source": [
    "# Create the custom dataset\n",
    "train_labels = [label for _, label in train_data]\n",
    "train_dataset = ComplexDataset(train_fft, train_labels, is_training=True)\n",
    "\n",
    "test_labels = [label for _, label in test_data]\n",
    "test_dataset = ComplexDataset(test_fft, test_labels, is_training=False)\n",
    "\n",
    "# Create data loaders\n",
    "train_loader = DataLoader(train_dataset, batch_size=64, shuffle=True)\n",
    "test_loader = DataLoader(test_dataset, batch_size=64, shuffle=False)\n",
    "\n",
    "print(len(train_loader))"
   ]
  },
  {
   "cell_type": "code",
   "execution_count": 33,
   "metadata": {},
   "outputs": [],
   "source": [
    "item = next(iter(train_loader))"
   ]
  },
  {
   "cell_type": "code",
   "execution_count": 35,
   "metadata": {},
   "outputs": [
    {
     "name": "stdout",
     "output_type": "stream",
     "text": [
      "torch.Size([64, 2, 28, 28])\n"
     ]
    },
    {
     "data": {
      "text/plain": [
       "<matplotlib.image.AxesImage at 0x7dd1b32b1130>"
      ]
     },
     "execution_count": 35,
     "metadata": {},
     "output_type": "execute_result"
    },
    {
     "data": {
      "image/png": "[encoded data removed]",
      "text/plain": [
       "<Figure size 1200x800 with 3 Axes>"
      ]
     },
     "metadata": {},
     "output_type": "display_data"
    }
   ],
   "source": [
    "complex = torch.complex(item[0][0,0,:,:],item[0][0,1,:,:])\n",
    "print(item[0].shape)\n",
    "plt.figure(figsize=(12,8))\n",
    "plt.subplot(1,3,1)\n",
    "plt.imshow(item[0][0,0,:,:], cmap=\"gray\")\n",
    "plt.subplot(1,3,2)\n",
    "plt.imshow(item[0][0,1,:,:], cmap=\"gray\")\n",
    "plt.subplot(1,3,3)\n",
    "plt.imshow(torch.abs(complex), cmap=\"gray\")\n"
   ]
  },
  {
   "cell_type": "code",
   "execution_count": 36,
   "metadata": {},
   "outputs": [
    {
     "data": {
      "image/png": "[encoded data removed]",
      "text/plain": [
       "<Figure size 1200x500 with 3 Axes>"
      ]
     },
     "metadata": {},
     "output_type": "display_data"
    }
   ],
   "source": [
    "\n",
    "# Create a figure with two subplots\n",
    "fig, (ax1, ax2) = plt.subplots(1, 2, figsize=(12, 5))\n",
    "\n",
    "# Plot the image\n",
    "im = ax1.imshow(item[0][0,1,:,:], cmap=\"gray\")\n",
    "ax1.set_title(\"Image\")\n",
    "fig.colorbar(im, ax=ax1)\n",
    "\n",
    "# Plot the histogram\n",
    "ax2.hist(item[0][0,1,:,:].ravel(), bins=50, range=(0, 1))\n",
    "ax2.set_title(\"Histogram\")\n",
    "ax2.set_xlabel(\"Pixel Value\")\n",
    "ax2.set_ylabel(\"Frequency\")\n",
    "\n",
    "plt.tight_layout()\n",
    "plt.show()"
   ]
  },
  {
   "cell_type": "code",
   "execution_count": 37,
   "metadata": {},
   "outputs": [],
   "source": [
    "model = ViT(\n",
    "    image_size = 28,\n",
    "    patch_size = 7,\n",
    "    num_classes = 10,\n",
    "    dim = 256,\n",
    "    depth = 6,\n",
    "    heads = 12,\n",
    "    mlp_dim = 512,\n",
    "    dropout = 0.1,\n",
    "    emb_dropout = 0.1,\n",
    "    channels = 2\n",
    ")\n",
    "\n",
    "img = torch.randn(1, 2, 28, 28)\n",
    "\n",
    "preds = model(img) # (1, 1000)"
   ]
  },
  {
   "cell_type": "code",
   "execution_count": 38,
   "metadata": {},
   "outputs": [
    {
     "name": "stdout",
     "output_type": "stream",
     "text": [
      "Total trainable parameters: 6337486\n"
     ]
    }
   ],
   "source": [
    "total_params = sum(p.numel() for p in model.parameters() if p.requires_grad)\n",
    "print(f\"Total trainable parameters: {total_params}\")"
   ]
  },
  {
   "cell_type": "code",
   "execution_count": 39,
   "metadata": {},
   "outputs": [],
   "source": [
    "criterion = nn.CrossEntropyLoss()\n",
    "optimizer = optim.Adam(model.parameters(), lr=1e-4)"
   ]
  },
  {
   "cell_type": "code",
   "execution_count": 40,
   "metadata": {},
   "outputs": [],
   "source": [
    "writer = SummaryWriter('runs/experiment_1') \n",
    "\n",
    "def train(model, device, train_loader, optimizer, criterion, epoch):\n",
    "    model.train()\n",
    "    train_loss = 0\n",
    "    correct = 0\n",
    "    total = 0\n",
    "    progress_bar = tqdm(train_loader, desc=f\"Epoch {epoch}\", unit=\"batch\")\n",
    "    for batch_idx, (data, target) in enumerate(progress_bar):\n",
    "        data, target = data.to(device), target.to(device)\n",
    "        optimizer.zero_grad()\n",
    "        output = model(data)\n",
    "        loss = criterion(output, target)\n",
    "        loss.backward()\n",
    "        optimizer.step()\n",
    "        train_loss += loss.item()\n",
    "        _, predicted = output.max(1)\n",
    "        total += target.size(0)\n",
    "        correct += predicted.eq(target).sum().item()\n",
    "        progress_bar.set_postfix({\"Train Loss\": train_loss / (batch_idx + 1), \"Train Acc\": 100. * correct / total})\n",
    "        \n",
    "        # Log batch-level metrics\n",
    "        writer.add_scalar('Loss/Train Batch', loss.item(), epoch * len(train_loader) + batch_idx)\n",
    "        writer.add_scalar('Accuracy/Train Batch', 100. * correct / total, epoch * len(train_loader) + batch_idx)\n",
    "    \n",
    "    train_loss /= len(train_loader)\n",
    "    train_accuracy = 100. * correct / total\n",
    "    \n",
    "    # Log epoch-level metrics\n",
    "    writer.add_scalar('Loss/Train Epoch', train_loss, epoch)\n",
    "    writer.add_scalar('Accuracy/Train Epoch', train_accuracy, epoch)\n",
    "    \n",
    "    return train_loss, train_accuracy\n",
    "\n",
    "def test(model, device, test_loader, criterion, epoch):\n",
    "    model.eval()\n",
    "    test_loss = 0\n",
    "    correct = 0\n",
    "    total = 0\n",
    "    with torch.no_grad():\n",
    "        for data, target in test_loader:\n",
    "            data, target = data.to(device), target.to(device)\n",
    "            output = model(data)\n",
    "            test_loss += criterion(output, target).item()\n",
    "            _, predicted = output.max(1)\n",
    "            total += target.size(0)\n",
    "            correct += predicted.eq(target).sum().item()\n",
    "    \n",
    "    test_loss /= len(test_loader)\n",
    "    test_accuracy = 100. * correct / total\n",
    "    \n",
    "    # Log epoch-level metrics\n",
    "    writer.add_scalar('Loss/Test', test_loss, epoch)\n",
    "    writer.add_scalar('Accuracy/Test', test_accuracy, epoch)\n",
    "    \n",
    "    return test_loss, test_accuracy\n"
   ]
  },
  {
   "cell_type": "code",
   "execution_count": 41,
   "metadata": {},
   "outputs": [
    {
     "name": "stdout",
     "output_type": "stream",
     "text": [
      "cuda\n"
     ]
    }
   ],
   "source": [
    "device = torch.device(\"cuda\" if torch.cuda.is_available() else \"cpu\")\n",
    "print(device)"
   ]
  },
  {
   "cell_type": "code",
   "execution_count": 42,
   "metadata": {},
   "outputs": [
    {
     "name": "stderr",
     "output_type": "stream",
     "text": [
      "Epoch 581: 100%|██████████| 938/938 [00:54<00:00, 17.16batch/s, Train Loss=1.41, Train Acc=46.9]\n"
     ]
    },
    {
     "name": "stdout",
     "output_type": "stream",
     "text": [
      "Epoch 581\n",
      "Train Loss: 1.4071, Train Accuracy: 46.92%\n",
      "Test Loss: 1.0339, Test Accuracy: 59.78%\n",
      "\n"
     ]
    },
    {
     "name": "stderr",
     "output_type": "stream",
     "text": [
      "Epoch 582: 100%|██████████| 938/938 [00:55<00:00, 16.80batch/s, Train Loss=1.09, Train Acc=59.1]\n"
     ]
    },
    {
     "name": "stdout",
     "output_type": "stream",
     "text": [
      "Epoch 582\n",
      "Train Loss: 1.0944, Train Accuracy: 59.10%\n",
      "Test Loss: 0.9319, Test Accuracy: 65.95%\n",
      "\n"
     ]
    },
    {
     "name": "stderr",
     "output_type": "stream",
     "text": [
      "Epoch 583: 100%|██████████| 938/938 [00:54<00:00, 17.27batch/s, Train Loss=1.01, Train Acc=62.2]\n"
     ]
    },
    {
     "name": "stdout",
     "output_type": "stream",
     "text": [
      "Epoch 583\n",
      "Train Loss: 1.0096, Train Accuracy: 62.19%\n",
      "Test Loss: 0.7668, Test Accuracy: 72.30%\n",
      "\n"
     ]
    },
    {
     "name": "stderr",
     "output_type": "stream",
     "text": [
      "Epoch 584: 100%|██████████| 938/938 [00:53<00:00, 17.59batch/s, Train Loss=0.958, Train Acc=64.5]\n"
     ]
    },
    {
     "name": "stdout",
     "output_type": "stream",
     "text": [
      "Epoch 584\n",
      "Train Loss: 0.9584, Train Accuracy: 64.52%\n",
      "Test Loss: 0.7879, Test Accuracy: 71.24%\n",
      "\n"
     ]
    },
    {
     "name": "stderr",
     "output_type": "stream",
     "text": [
      "Epoch 585: 100%|██████████| 938/938 [00:53<00:00, 17.60batch/s, Train Loss=0.916, Train Acc=66.4]\n"
     ]
    },
    {
     "name": "stdout",
     "output_type": "stream",
     "text": [
      "Epoch 585\n",
      "Train Loss: 0.9164, Train Accuracy: 66.41%\n",
      "Test Loss: 0.7057, Test Accuracy: 74.61%\n",
      "\n"
     ]
    },
    {
     "name": "stderr",
     "output_type": "stream",
     "text": [
      "Epoch 586: 100%|██████████| 938/938 [00:53<00:00, 17.68batch/s, Train Loss=0.883, Train Acc=67.5]\n"
     ]
    },
    {
     "name": "stdout",
     "output_type": "stream",
     "text": [
      "Epoch 586\n",
      "Train Loss: 0.8833, Train Accuracy: 67.52%\n",
      "Test Loss: 0.6632, Test Accuracy: 76.47%\n",
      "\n"
     ]
    },
    {
     "name": "stderr",
     "output_type": "stream",
     "text": [
      "Epoch 587: 100%|██████████| 938/938 [00:53<00:00, 17.61batch/s, Train Loss=0.847, Train Acc=69]  \n"
     ]
    },
    {
     "name": "stdout",
     "output_type": "stream",
     "text": [
      "Epoch 587\n",
      "Train Loss: 0.8473, Train Accuracy: 68.96%\n",
      "Test Loss: 0.6208, Test Accuracy: 76.99%\n",
      "\n"
     ]
    },
    {
     "name": "stderr",
     "output_type": "stream",
     "text": [
      "Epoch 588: 100%|██████████| 938/938 [00:53<00:00, 17.64batch/s, Train Loss=0.817, Train Acc=70.1]\n"
     ]
    },
    {
     "name": "stdout",
     "output_type": "stream",
     "text": [
      "Epoch 588\n",
      "Train Loss: 0.8167, Train Accuracy: 70.12%\n",
      "Test Loss: 0.6004, Test Accuracy: 77.91%\n",
      "\n"
     ]
    },
    {
     "name": "stderr",
     "output_type": "stream",
     "text": [
      "Epoch 589: 100%|██████████| 938/938 [00:53<00:00, 17.67batch/s, Train Loss=0.8, Train Acc=70.7]  \n"
     ]
    },
    {
     "name": "stdout",
     "output_type": "stream",
     "text": [
      "Epoch 589\n",
      "Train Loss: 0.8003, Train Accuracy: 70.71%\n",
      "Test Loss: 0.5812, Test Accuracy: 78.56%\n",
      "\n"
     ]
    },
    {
     "name": "stderr",
     "output_type": "stream",
     "text": [
      "Epoch 590: 100%|██████████| 938/938 [00:53<00:00, 17.66batch/s, Train Loss=0.777, Train Acc=71.5]\n"
     ]
    },
    {
     "name": "stdout",
     "output_type": "stream",
     "text": [
      "Epoch 590\n",
      "Train Loss: 0.7772, Train Accuracy: 71.50%\n",
      "Test Loss: 0.5559, Test Accuracy: 79.52%\n",
      "\n"
     ]
    },
    {
     "name": "stderr",
     "output_type": "stream",
     "text": [
      "Epoch 591: 100%|██████████| 938/938 [00:53<00:00, 17.67batch/s, Train Loss=0.75, Train Acc=72.4] \n"
     ]
    },
    {
     "name": "stdout",
     "output_type": "stream",
     "text": [
      "Epoch 591\n",
      "Train Loss: 0.7505, Train Accuracy: 72.38%\n",
      "Test Loss: 0.5242, Test Accuracy: 80.75%\n",
      "\n"
     ]
    },
    {
     "name": "stderr",
     "output_type": "stream",
     "text": [
      "Epoch 592: 100%|██████████| 938/938 [00:53<00:00, 17.70batch/s, Train Loss=0.739, Train Acc=72.8]\n"
     ]
    },
    {
     "name": "stdout",
     "output_type": "stream",
     "text": [
      "Epoch 592\n",
      "Train Loss: 0.7388, Train Accuracy: 72.78%\n",
      "Test Loss: 0.5310, Test Accuracy: 80.34%\n",
      "\n"
     ]
    },
    {
     "name": "stderr",
     "output_type": "stream",
     "text": [
      "Epoch 593: 100%|██████████| 938/938 [00:53<00:00, 17.68batch/s, Train Loss=0.725, Train Acc=73.2]\n"
     ]
    },
    {
     "name": "stdout",
     "output_type": "stream",
     "text": [
      "Epoch 593\n",
      "Train Loss: 0.7250, Train Accuracy: 73.20%\n",
      "Test Loss: 0.5298, Test Accuracy: 80.05%\n",
      "\n"
     ]
    },
    {
     "name": "stderr",
     "output_type": "stream",
     "text": [
      "Epoch 594: 100%|██████████| 938/938 [00:53<00:00, 17.66batch/s, Train Loss=0.708, Train Acc=73.7]\n"
     ]
    },
    {
     "name": "stdout",
     "output_type": "stream",
     "text": [
      "Epoch 594\n",
      "Train Loss: 0.7082, Train Accuracy: 73.66%\n",
      "Test Loss: 0.5221, Test Accuracy: 80.47%\n",
      "\n"
     ]
    },
    {
     "name": "stderr",
     "output_type": "stream",
     "text": [
      "Epoch 595: 100%|██████████| 938/938 [00:53<00:00, 17.60batch/s, Train Loss=0.698, Train Acc=74.1]\n"
     ]
    },
    {
     "name": "stdout",
     "output_type": "stream",
     "text": [
      "Epoch 595\n",
      "Train Loss: 0.6982, Train Accuracy: 74.13%\n",
      "Test Loss: 0.4973, Test Accuracy: 81.67%\n",
      "\n"
     ]
    },
    {
     "name": "stderr",
     "output_type": "stream",
     "text": [
      "Epoch 596: 100%|██████████| 938/938 [00:52<00:00, 17.74batch/s, Train Loss=0.683, Train Acc=74.9]\n"
     ]
    },
    {
     "name": "stdout",
     "output_type": "stream",
     "text": [
      "Epoch 596\n",
      "Train Loss: 0.6832, Train Accuracy: 74.90%\n",
      "Test Loss: 0.5188, Test Accuracy: 80.68%\n",
      "\n"
     ]
    },
    {
     "name": "stderr",
     "output_type": "stream",
     "text": [
      "Epoch 597: 100%|██████████| 938/938 [00:53<00:00, 17.70batch/s, Train Loss=0.675, Train Acc=75]  \n"
     ]
    },
    {
     "name": "stdout",
     "output_type": "stream",
     "text": [
      "Epoch 597\n",
      "Train Loss: 0.6751, Train Accuracy: 75.05%\n",
      "Test Loss: 0.4899, Test Accuracy: 82.00%\n",
      "\n"
     ]
    },
    {
     "name": "stderr",
     "output_type": "stream",
     "text": [
      "Epoch 598: 100%|██████████| 938/938 [00:53<00:00, 17.70batch/s, Train Loss=0.664, Train Acc=75.6]\n"
     ]
    },
    {
     "name": "stdout",
     "output_type": "stream",
     "text": [
      "Epoch 598\n",
      "Train Loss: 0.6635, Train Accuracy: 75.56%\n",
      "Test Loss: 0.4965, Test Accuracy: 81.56%\n",
      "\n"
     ]
    },
    {
     "name": "stderr",
     "output_type": "stream",
     "text": [
      "Epoch 599: 100%|██████████| 938/938 [00:53<00:00, 17.65batch/s, Train Loss=0.646, Train Acc=76.2]\n"
     ]
    },
    {
     "name": "stdout",
     "output_type": "stream",
     "text": [
      "Epoch 599\n",
      "Train Loss: 0.6456, Train Accuracy: 76.19%\n",
      "Test Loss: 0.4620, Test Accuracy: 83.08%\n",
      "\n"
     ]
    },
    {
     "name": "stderr",
     "output_type": "stream",
     "text": [
      "Epoch 600: 100%|██████████| 938/938 [00:53<00:00, 17.63batch/s, Train Loss=0.641, Train Acc=76.4]\n"
     ]
    },
    {
     "name": "stdout",
     "output_type": "stream",
     "text": [
      "Epoch 600\n",
      "Train Loss: 0.6414, Train Accuracy: 76.43%\n",
      "Test Loss: 0.4748, Test Accuracy: 82.69%\n",
      "\n"
     ]
    },
    {
     "name": "stderr",
     "output_type": "stream",
     "text": [
      "Epoch 601: 100%|██████████| 938/938 [00:53<00:00, 17.63batch/s, Train Loss=0.636, Train Acc=76.5]\n"
     ]
    },
    {
     "name": "stdout",
     "output_type": "stream",
     "text": [
      "Epoch 601\n",
      "Train Loss: 0.6355, Train Accuracy: 76.48%\n",
      "Test Loss: 0.4413, Test Accuracy: 83.66%\n",
      "\n"
     ]
    },
    {
     "name": "stderr",
     "output_type": "stream",
     "text": [
      "Epoch 602: 100%|██████████| 938/938 [00:52<00:00, 17.77batch/s, Train Loss=0.627, Train Acc=76.8]\n"
     ]
    },
    {
     "name": "stdout",
     "output_type": "stream",
     "text": [
      "Epoch 602\n",
      "Train Loss: 0.6267, Train Accuracy: 76.77%\n",
      "Test Loss: 0.4530, Test Accuracy: 82.86%\n",
      "\n"
     ]
    },
    {
     "name": "stderr",
     "output_type": "stream",
     "text": [
      "Epoch 603: 100%|██████████| 938/938 [00:52<00:00, 17.71batch/s, Train Loss=0.619, Train Acc=77.1]\n"
     ]
    },
    {
     "name": "stdout",
     "output_type": "stream",
     "text": [
      "Epoch 603\n",
      "Train Loss: 0.6188, Train Accuracy: 77.09%\n",
      "Test Loss: 0.4455, Test Accuracy: 83.30%\n",
      "\n"
     ]
    },
    {
     "name": "stderr",
     "output_type": "stream",
     "text": [
      "Epoch 604: 100%|██████████| 938/938 [00:53<00:00, 17.61batch/s, Train Loss=0.615, Train Acc=77.3]\n"
     ]
    },
    {
     "name": "stdout",
     "output_type": "stream",
     "text": [
      "Epoch 604\n",
      "Train Loss: 0.6154, Train Accuracy: 77.30%\n",
      "Test Loss: 0.4389, Test Accuracy: 83.91%\n",
      "\n"
     ]
    },
    {
     "name": "stderr",
     "output_type": "stream",
     "text": [
      "Epoch 605: 100%|██████████| 938/938 [00:52<00:00, 17.75batch/s, Train Loss=0.607, Train Acc=77.4]\n"
     ]
    },
    {
     "name": "stdout",
     "output_type": "stream",
     "text": [
      "Epoch 605\n",
      "Train Loss: 0.6072, Train Accuracy: 77.40%\n",
      "Test Loss: 0.4391, Test Accuracy: 83.72%\n",
      "\n"
     ]
    },
    {
     "name": "stderr",
     "output_type": "stream",
     "text": [
      "Epoch 606: 100%|██████████| 938/938 [00:52<00:00, 17.71batch/s, Train Loss=0.596, Train Acc=78]  \n"
     ]
    },
    {
     "name": "stdout",
     "output_type": "stream",
     "text": [
      "Epoch 606\n",
      "Train Loss: 0.5955, Train Accuracy: 77.95%\n",
      "Test Loss: 0.4465, Test Accuracy: 83.72%\n",
      "\n"
     ]
    },
    {
     "name": "stderr",
     "output_type": "stream",
     "text": [
      "Epoch 607: 100%|██████████| 938/938 [00:52<00:00, 17.80batch/s, Train Loss=0.593, Train Acc=78]  \n"
     ]
    },
    {
     "name": "stdout",
     "output_type": "stream",
     "text": [
      "Epoch 607\n",
      "Train Loss: 0.5932, Train Accuracy: 78.03%\n",
      "Test Loss: 0.4372, Test Accuracy: 83.88%\n",
      "\n"
     ]
    },
    {
     "name": "stderr",
     "output_type": "stream",
     "text": [
      "Epoch 608: 100%|██████████| 938/938 [00:52<00:00, 17.77batch/s, Train Loss=0.585, Train Acc=78.1]\n"
     ]
    },
    {
     "name": "stdout",
     "output_type": "stream",
     "text": [
      "Epoch 608\n",
      "Train Loss: 0.5852, Train Accuracy: 78.13%\n",
      "Test Loss: 0.4105, Test Accuracy: 84.69%\n",
      "\n"
     ]
    },
    {
     "name": "stderr",
     "output_type": "stream",
     "text": [
      "Epoch 609: 100%|██████████| 938/938 [00:52<00:00, 17.77batch/s, Train Loss=0.579, Train Acc=78.7]\n"
     ]
    },
    {
     "name": "stdout",
     "output_type": "stream",
     "text": [
      "Epoch 609\n",
      "Train Loss: 0.5788, Train Accuracy: 78.68%\n",
      "Test Loss: 0.4249, Test Accuracy: 84.43%\n",
      "\n"
     ]
    },
    {
     "name": "stderr",
     "output_type": "stream",
     "text": [
      "Epoch 610: 100%|██████████| 938/938 [00:52<00:00, 17.78batch/s, Train Loss=0.572, Train Acc=78.9]\n"
     ]
    },
    {
     "name": "stdout",
     "output_type": "stream",
     "text": [
      "Epoch 610\n",
      "Train Loss: 0.5719, Train Accuracy: 78.86%\n",
      "Test Loss: 0.4255, Test Accuracy: 84.19%\n",
      "\n"
     ]
    },
    {
     "name": "stderr",
     "output_type": "stream",
     "text": [
      "Epoch 611: 100%|██████████| 938/938 [00:53<00:00, 17.63batch/s, Train Loss=0.567, Train Acc=78.9]\n"
     ]
    },
    {
     "name": "stdout",
     "output_type": "stream",
     "text": [
      "Epoch 611\n",
      "Train Loss: 0.5672, Train Accuracy: 78.92%\n",
      "Test Loss: 0.4154, Test Accuracy: 84.64%\n",
      "\n"
     ]
    },
    {
     "name": "stderr",
     "output_type": "stream",
     "text": [
      "Epoch 612: 100%|██████████| 938/938 [00:53<00:00, 17.64batch/s, Train Loss=0.564, Train Acc=79]  \n"
     ]
    },
    {
     "name": "stdout",
     "output_type": "stream",
     "text": [
      "Epoch 612\n",
      "Train Loss: 0.5640, Train Accuracy: 79.02%\n",
      "Test Loss: 0.3970, Test Accuracy: 85.37%\n",
      "\n"
     ]
    },
    {
     "name": "stderr",
     "output_type": "stream",
     "text": [
      "Epoch 613: 100%|██████████| 938/938 [00:53<00:00, 17.57batch/s, Train Loss=0.557, Train Acc=79.6]\n"
     ]
    },
    {
     "name": "stdout",
     "output_type": "stream",
     "text": [
      "Epoch 613\n",
      "Train Loss: 0.5568, Train Accuracy: 79.58%\n",
      "Test Loss: 0.4027, Test Accuracy: 85.08%\n",
      "\n"
     ]
    },
    {
     "name": "stderr",
     "output_type": "stream",
     "text": [
      "Epoch 614: 100%|██████████| 938/938 [00:53<00:00, 17.68batch/s, Train Loss=0.551, Train Acc=79.6]\n"
     ]
    },
    {
     "name": "stdout",
     "output_type": "stream",
     "text": [
      "Epoch 614\n",
      "Train Loss: 0.5515, Train Accuracy: 79.55%\n",
      "Test Loss: 0.3902, Test Accuracy: 85.62%\n",
      "\n"
     ]
    },
    {
     "name": "stderr",
     "output_type": "stream",
     "text": [
      "Epoch 615: 100%|██████████| 938/938 [00:53<00:00, 17.62batch/s, Train Loss=0.55, Train Acc=79.6] \n"
     ]
    },
    {
     "name": "stdout",
     "output_type": "stream",
     "text": [
      "Epoch 615\n",
      "Train Loss: 0.5496, Train Accuracy: 79.61%\n",
      "Test Loss: 0.3913, Test Accuracy: 85.37%\n",
      "\n"
     ]
    },
    {
     "name": "stderr",
     "output_type": "stream",
     "text": [
      "Epoch 616: 100%|██████████| 938/938 [00:52<00:00, 17.71batch/s, Train Loss=0.543, Train Acc=79.8]\n"
     ]
    },
    {
     "name": "stdout",
     "output_type": "stream",
     "text": [
      "Epoch 616\n",
      "Train Loss: 0.5430, Train Accuracy: 79.83%\n",
      "Test Loss: 0.3977, Test Accuracy: 85.30%\n",
      "\n"
     ]
    },
    {
     "name": "stderr",
     "output_type": "stream",
     "text": [
      "Epoch 617: 100%|██████████| 938/938 [00:53<00:00, 17.67batch/s, Train Loss=0.538, Train Acc=80]  \n"
     ]
    },
    {
     "name": "stdout",
     "output_type": "stream",
     "text": [
      "Epoch 617\n",
      "Train Loss: 0.5377, Train Accuracy: 79.99%\n",
      "Test Loss: 0.3876, Test Accuracy: 85.81%\n",
      "\n"
     ]
    },
    {
     "name": "stderr",
     "output_type": "stream",
     "text": [
      "Epoch 618: 100%|██████████| 938/938 [00:53<00:00, 17.55batch/s, Train Loss=0.53, Train Acc=80.3] \n"
     ]
    },
    {
     "name": "stdout",
     "output_type": "stream",
     "text": [
      "Epoch 618\n",
      "Train Loss: 0.5299, Train Accuracy: 80.32%\n",
      "Test Loss: 0.3996, Test Accuracy: 85.28%\n",
      "\n"
     ]
    },
    {
     "name": "stderr",
     "output_type": "stream",
     "text": [
      "Epoch 619: 100%|██████████| 938/938 [00:53<00:00, 17.63batch/s, Train Loss=0.531, Train Acc=80.1]\n"
     ]
    },
    {
     "name": "stdout",
     "output_type": "stream",
     "text": [
      "Epoch 619\n",
      "Train Loss: 0.5310, Train Accuracy: 80.13%\n",
      "Test Loss: 0.3948, Test Accuracy: 85.08%\n",
      "\n"
     ]
    },
    {
     "name": "stderr",
     "output_type": "stream",
     "text": [
      "Epoch 620: 100%|██████████| 938/938 [00:53<00:00, 17.60batch/s, Train Loss=0.522, Train Acc=80.6]\n"
     ]
    },
    {
     "name": "stdout",
     "output_type": "stream",
     "text": [
      "Epoch 620\n",
      "Train Loss: 0.5219, Train Accuracy: 80.62%\n",
      "Test Loss: 0.3874, Test Accuracy: 85.68%\n",
      "\n"
     ]
    },
    {
     "name": "stderr",
     "output_type": "stream",
     "text": [
      "Epoch 621: 100%|██████████| 938/938 [00:53<00:00, 17.61batch/s, Train Loss=0.523, Train Acc=80.6]\n"
     ]
    },
    {
     "name": "stdout",
     "output_type": "stream",
     "text": [
      "Epoch 621\n",
      "Train Loss: 0.5229, Train Accuracy: 80.56%\n",
      "Test Loss: 0.3828, Test Accuracy: 86.03%\n",
      "\n"
     ]
    },
    {
     "name": "stderr",
     "output_type": "stream",
     "text": [
      "Epoch 622: 100%|██████████| 938/938 [00:53<00:00, 17.55batch/s, Train Loss=0.515, Train Acc=80.8]\n"
     ]
    },
    {
     "name": "stdout",
     "output_type": "stream",
     "text": [
      "Epoch 622\n",
      "Train Loss: 0.5149, Train Accuracy: 80.78%\n",
      "Test Loss: 0.3658, Test Accuracy: 86.61%\n",
      "\n"
     ]
    },
    {
     "name": "stderr",
     "output_type": "stream",
     "text": [
      "Epoch 623: 100%|██████████| 938/938 [00:53<00:00, 17.48batch/s, Train Loss=0.509, Train Acc=81]  \n"
     ]
    },
    {
     "name": "stdout",
     "output_type": "stream",
     "text": [
      "Epoch 623\n",
      "Train Loss: 0.5085, Train Accuracy: 81.03%\n",
      "Test Loss: 0.3762, Test Accuracy: 86.06%\n",
      "\n"
     ]
    },
    {
     "name": "stderr",
     "output_type": "stream",
     "text": [
      "Epoch 624: 100%|██████████| 938/938 [00:53<00:00, 17.59batch/s, Train Loss=0.505, Train Acc=81.2]\n"
     ]
    },
    {
     "name": "stdout",
     "output_type": "stream",
     "text": [
      "Epoch 624\n",
      "Train Loss: 0.5053, Train Accuracy: 81.17%\n",
      "Test Loss: 0.3669, Test Accuracy: 86.75%\n",
      "\n"
     ]
    },
    {
     "name": "stderr",
     "output_type": "stream",
     "text": [
      "Epoch 625: 100%|██████████| 938/938 [00:53<00:00, 17.56batch/s, Train Loss=0.502, Train Acc=81.1]\n"
     ]
    },
    {
     "name": "stdout",
     "output_type": "stream",
     "text": [
      "Epoch 625\n",
      "Train Loss: 0.5025, Train Accuracy: 81.07%\n",
      "Test Loss: 0.3644, Test Accuracy: 86.48%\n",
      "\n"
     ]
    },
    {
     "name": "stderr",
     "output_type": "stream",
     "text": [
      "Epoch 626: 100%|██████████| 938/938 [00:53<00:00, 17.56batch/s, Train Loss=0.504, Train Acc=81.2]\n"
     ]
    },
    {
     "name": "stdout",
     "output_type": "stream",
     "text": [
      "Epoch 626\n",
      "Train Loss: 0.5039, Train Accuracy: 81.17%\n",
      "Test Loss: 0.3670, Test Accuracy: 86.39%\n",
      "\n"
     ]
    },
    {
     "name": "stderr",
     "output_type": "stream",
     "text": [
      "Epoch 627: 100%|██████████| 938/938 [00:53<00:00, 17.55batch/s, Train Loss=0.497, Train Acc=81.6]\n"
     ]
    },
    {
     "name": "stdout",
     "output_type": "stream",
     "text": [
      "Epoch 627\n",
      "Train Loss: 0.4971, Train Accuracy: 81.58%\n",
      "Test Loss: 0.3540, Test Accuracy: 86.95%\n",
      "\n"
     ]
    },
    {
     "name": "stderr",
     "output_type": "stream",
     "text": [
      "Epoch 628: 100%|██████████| 938/938 [00:53<00:00, 17.41batch/s, Train Loss=0.494, Train Acc=81.6]\n"
     ]
    },
    {
     "name": "stdout",
     "output_type": "stream",
     "text": [
      "Epoch 628\n",
      "Train Loss: 0.4944, Train Accuracy: 81.56%\n",
      "Test Loss: 0.3615, Test Accuracy: 86.88%\n",
      "\n"
     ]
    },
    {
     "name": "stderr",
     "output_type": "stream",
     "text": [
      "Epoch 629: 100%|██████████| 938/938 [00:53<00:00, 17.61batch/s, Train Loss=0.49, Train Acc=81.7] \n"
     ]
    },
    {
     "name": "stdout",
     "output_type": "stream",
     "text": [
      "Epoch 629\n",
      "Train Loss: 0.4899, Train Accuracy: 81.72%\n",
      "Test Loss: 0.3609, Test Accuracy: 86.69%\n",
      "\n"
     ]
    },
    {
     "name": "stderr",
     "output_type": "stream",
     "text": [
      "Epoch 630: 100%|██████████| 938/938 [00:53<00:00, 17.54batch/s, Train Loss=0.489, Train Acc=81.7]\n"
     ]
    },
    {
     "name": "stdout",
     "output_type": "stream",
     "text": [
      "Epoch 630\n",
      "Train Loss: 0.4891, Train Accuracy: 81.73%\n",
      "Test Loss: 0.3505, Test Accuracy: 86.98%\n",
      "\n"
     ]
    },
    {
     "name": "stderr",
     "output_type": "stream",
     "text": [
      "Epoch 631: 100%|██████████| 938/938 [00:53<00:00, 17.60batch/s, Train Loss=0.482, Train Acc=82]  \n"
     ]
    },
    {
     "name": "stdout",
     "output_type": "stream",
     "text": [
      "Epoch 631\n",
      "Train Loss: 0.4824, Train Accuracy: 81.95%\n",
      "Test Loss: 0.3684, Test Accuracy: 86.36%\n",
      "\n"
     ]
    },
    {
     "name": "stderr",
     "output_type": "stream",
     "text": [
      "Epoch 632: 100%|██████████| 938/938 [00:53<00:00, 17.49batch/s, Train Loss=0.478, Train Acc=82.2]\n"
     ]
    },
    {
     "name": "stdout",
     "output_type": "stream",
     "text": [
      "Epoch 632\n",
      "Train Loss: 0.4783, Train Accuracy: 82.20%\n",
      "Test Loss: 0.3569, Test Accuracy: 86.65%\n",
      "\n"
     ]
    },
    {
     "name": "stderr",
     "output_type": "stream",
     "text": [
      "Epoch 633: 100%|██████████| 938/938 [00:53<00:00, 17.48batch/s, Train Loss=0.479, Train Acc=82.1]\n"
     ]
    },
    {
     "name": "stdout",
     "output_type": "stream",
     "text": [
      "Epoch 633\n",
      "Train Loss: 0.4795, Train Accuracy: 82.11%\n",
      "Test Loss: 0.3530, Test Accuracy: 87.12%\n",
      "\n"
     ]
    },
    {
     "name": "stderr",
     "output_type": "stream",
     "text": [
      "Epoch 634: 100%|██████████| 938/938 [00:53<00:00, 17.45batch/s, Train Loss=0.47, Train Acc=82.6] \n"
     ]
    },
    {
     "name": "stdout",
     "output_type": "stream",
     "text": [
      "Epoch 634\n",
      "Train Loss: 0.4699, Train Accuracy: 82.55%\n",
      "Test Loss: 0.3594, Test Accuracy: 86.79%\n",
      "\n"
     ]
    },
    {
     "name": "stderr",
     "output_type": "stream",
     "text": [
      "Epoch 635: 100%|██████████| 938/938 [00:53<00:00, 17.53batch/s, Train Loss=0.47, Train Acc=82.5] \n"
     ]
    },
    {
     "name": "stdout",
     "output_type": "stream",
     "text": [
      "Epoch 635\n",
      "Train Loss: 0.4699, Train Accuracy: 82.55%\n",
      "Test Loss: 0.3553, Test Accuracy: 86.73%\n",
      "\n"
     ]
    },
    {
     "name": "stderr",
     "output_type": "stream",
     "text": [
      "Epoch 636: 100%|██████████| 938/938 [00:53<00:00, 17.50batch/s, Train Loss=0.467, Train Acc=82.4]\n"
     ]
    },
    {
     "name": "stdout",
     "output_type": "stream",
     "text": [
      "Epoch 636\n",
      "Train Loss: 0.4672, Train Accuracy: 82.39%\n",
      "Test Loss: 0.3590, Test Accuracy: 86.51%\n",
      "\n"
     ]
    },
    {
     "name": "stderr",
     "output_type": "stream",
     "text": [
      "Epoch 637: 100%|██████████| 938/938 [00:53<00:00, 17.59batch/s, Train Loss=0.463, Train Acc=82.6]\n"
     ]
    },
    {
     "name": "stdout",
     "output_type": "stream",
     "text": [
      "Epoch 637\n",
      "Train Loss: 0.4629, Train Accuracy: 82.61%\n",
      "Test Loss: 0.3509, Test Accuracy: 87.19%\n",
      "\n"
     ]
    },
    {
     "name": "stderr",
     "output_type": "stream",
     "text": [
      "Epoch 638: 100%|██████████| 938/938 [00:53<00:00, 17.59batch/s, Train Loss=0.462, Train Acc=82.7]\n"
     ]
    },
    {
     "name": "stdout",
     "output_type": "stream",
     "text": [
      "Epoch 638\n",
      "Train Loss: 0.4616, Train Accuracy: 82.67%\n",
      "Test Loss: 0.3449, Test Accuracy: 87.41%\n",
      "\n"
     ]
    },
    {
     "name": "stderr",
     "output_type": "stream",
     "text": [
      "Epoch 639: 100%|██████████| 938/938 [00:53<00:00, 17.39batch/s, Train Loss=0.459, Train Acc=82.9]\n"
     ]
    },
    {
     "name": "stdout",
     "output_type": "stream",
     "text": [
      "Epoch 639\n",
      "Train Loss: 0.4590, Train Accuracy: 82.87%\n",
      "Test Loss: 0.3472, Test Accuracy: 87.34%\n",
      "\n"
     ]
    },
    {
     "name": "stderr",
     "output_type": "stream",
     "text": [
      "Epoch 640: 100%|██████████| 938/938 [00:53<00:00, 17.56batch/s, Train Loss=0.455, Train Acc=83]  \n"
     ]
    },
    {
     "name": "stdout",
     "output_type": "stream",
     "text": [
      "Epoch 640\n",
      "Train Loss: 0.4548, Train Accuracy: 82.96%\n",
      "Test Loss: 0.3579, Test Accuracy: 86.95%\n",
      "\n"
     ]
    },
    {
     "name": "stderr",
     "output_type": "stream",
     "text": [
      "Epoch 641: 100%|██████████| 938/938 [00:53<00:00, 17.54batch/s, Train Loss=0.454, Train Acc=82.9]\n"
     ]
    },
    {
     "name": "stdout",
     "output_type": "stream",
     "text": [
      "Epoch 641\n",
      "Train Loss: 0.4542, Train Accuracy: 82.91%\n",
      "Test Loss: 0.3376, Test Accuracy: 87.61%\n",
      "\n"
     ]
    },
    {
     "name": "stderr",
     "output_type": "stream",
     "text": [
      "Epoch 642: 100%|██████████| 938/938 [00:53<00:00, 17.57batch/s, Train Loss=0.451, Train Acc=83]  \n"
     ]
    },
    {
     "name": "stdout",
     "output_type": "stream",
     "text": [
      "Epoch 642\n",
      "Train Loss: 0.4512, Train Accuracy: 83.03%\n",
      "Test Loss: 0.3386, Test Accuracy: 87.62%\n",
      "\n"
     ]
    },
    {
     "name": "stderr",
     "output_type": "stream",
     "text": [
      "Epoch 643: 100%|██████████| 938/938 [00:53<00:00, 17.56batch/s, Train Loss=0.446, Train Acc=83.3]\n"
     ]
    },
    {
     "name": "stdout",
     "output_type": "stream",
     "text": [
      "Epoch 643\n",
      "Train Loss: 0.4462, Train Accuracy: 83.31%\n",
      "Test Loss: 0.3380, Test Accuracy: 87.59%\n",
      "\n"
     ]
    },
    {
     "name": "stderr",
     "output_type": "stream",
     "text": [
      "Epoch 644: 100%|██████████| 938/938 [00:53<00:00, 17.57batch/s, Train Loss=0.449, Train Acc=83.3]\n"
     ]
    },
    {
     "name": "stdout",
     "output_type": "stream",
     "text": [
      "Epoch 644\n",
      "Train Loss: 0.4491, Train Accuracy: 83.31%\n",
      "Test Loss: 0.3292, Test Accuracy: 88.16%\n",
      "\n"
     ]
    },
    {
     "name": "stderr",
     "output_type": "stream",
     "text": [
      "Epoch 645: 100%|██████████| 938/938 [00:53<00:00, 17.55batch/s, Train Loss=0.445, Train Acc=83.4]\n"
     ]
    },
    {
     "name": "stdout",
     "output_type": "stream",
     "text": [
      "Epoch 645\n",
      "Train Loss: 0.4446, Train Accuracy: 83.38%\n",
      "Test Loss: 0.3323, Test Accuracy: 87.93%\n",
      "\n"
     ]
    },
    {
     "name": "stderr",
     "output_type": "stream",
     "text": [
      "Epoch 646: 100%|██████████| 938/938 [00:53<00:00, 17.41batch/s, Train Loss=0.441, Train Acc=83.4]\n"
     ]
    },
    {
     "name": "stdout",
     "output_type": "stream",
     "text": [
      "Epoch 646\n",
      "Train Loss: 0.4407, Train Accuracy: 83.45%\n",
      "Test Loss: 0.3300, Test Accuracy: 87.74%\n",
      "\n"
     ]
    },
    {
     "name": "stderr",
     "output_type": "stream",
     "text": [
      "Epoch 647: 100%|██████████| 938/938 [00:53<00:00, 17.61batch/s, Train Loss=0.439, Train Acc=83.5]\n"
     ]
    },
    {
     "name": "stdout",
     "output_type": "stream",
     "text": [
      "Epoch 647\n",
      "Train Loss: 0.4387, Train Accuracy: 83.53%\n",
      "Test Loss: 0.3300, Test Accuracy: 87.72%\n",
      "\n"
     ]
    },
    {
     "name": "stderr",
     "output_type": "stream",
     "text": [
      "Epoch 648: 100%|██████████| 938/938 [00:53<00:00, 17.44batch/s, Train Loss=0.437, Train Acc=83.5]\n"
     ]
    },
    {
     "name": "stdout",
     "output_type": "stream",
     "text": [
      "Epoch 648\n",
      "Train Loss: 0.4370, Train Accuracy: 83.54%\n",
      "Test Loss: 0.3214, Test Accuracy: 88.12%\n",
      "\n"
     ]
    },
    {
     "name": "stderr",
     "output_type": "stream",
     "text": [
      "Epoch 649: 100%|██████████| 938/938 [00:53<00:00, 17.48batch/s, Train Loss=0.434, Train Acc=83.7]\n"
     ]
    },
    {
     "name": "stdout",
     "output_type": "stream",
     "text": [
      "Epoch 649\n",
      "Train Loss: 0.4338, Train Accuracy: 83.71%\n",
      "Test Loss: 0.3243, Test Accuracy: 87.98%\n",
      "\n"
     ]
    },
    {
     "name": "stderr",
     "output_type": "stream",
     "text": [
      "Epoch 650: 100%|██████████| 938/938 [00:53<00:00, 17.54batch/s, Train Loss=0.431, Train Acc=84]  \n"
     ]
    },
    {
     "name": "stdout",
     "output_type": "stream",
     "text": [
      "Epoch 650\n",
      "Train Loss: 0.4305, Train Accuracy: 84.04%\n",
      "Test Loss: 0.3296, Test Accuracy: 87.64%\n",
      "\n"
     ]
    },
    {
     "name": "stderr",
     "output_type": "stream",
     "text": [
      "Epoch 651: 100%|██████████| 938/938 [00:53<00:00, 17.54batch/s, Train Loss=0.431, Train Acc=83.8]\n"
     ]
    },
    {
     "name": "stdout",
     "output_type": "stream",
     "text": [
      "Epoch 651\n",
      "Train Loss: 0.4309, Train Accuracy: 83.82%\n",
      "Test Loss: 0.3215, Test Accuracy: 88.51%\n",
      "\n"
     ]
    },
    {
     "name": "stderr",
     "output_type": "stream",
     "text": [
      "Epoch 652: 100%|██████████| 938/938 [00:53<00:00, 17.52batch/s, Train Loss=0.428, Train Acc=84]  \n"
     ]
    },
    {
     "name": "stdout",
     "output_type": "stream",
     "text": [
      "Epoch 652\n",
      "Train Loss: 0.4280, Train Accuracy: 84.00%\n",
      "Test Loss: 0.3206, Test Accuracy: 88.40%\n",
      "\n"
     ]
    },
    {
     "name": "stderr",
     "output_type": "stream",
     "text": [
      "Epoch 653: 100%|██████████| 938/938 [00:53<00:00, 17.45batch/s, Train Loss=0.425, Train Acc=84.1]\n"
     ]
    },
    {
     "name": "stdout",
     "output_type": "stream",
     "text": [
      "Epoch 653\n",
      "Train Loss: 0.4253, Train Accuracy: 84.12%\n",
      "Test Loss: 0.3247, Test Accuracy: 88.26%\n",
      "\n"
     ]
    },
    {
     "name": "stderr",
     "output_type": "stream",
     "text": [
      "Epoch 654: 100%|██████████| 938/938 [00:53<00:00, 17.58batch/s, Train Loss=0.425, Train Acc=84]  \n"
     ]
    },
    {
     "name": "stdout",
     "output_type": "stream",
     "text": [
      "Epoch 654\n",
      "Train Loss: 0.4251, Train Accuracy: 84.01%\n",
      "Test Loss: 0.3204, Test Accuracy: 88.17%\n",
      "\n"
     ]
    },
    {
     "name": "stderr",
     "output_type": "stream",
     "text": [
      "Epoch 655: 100%|██████████| 938/938 [00:53<00:00, 17.51batch/s, Train Loss=0.418, Train Acc=84.3]\n"
     ]
    },
    {
     "name": "stdout",
     "output_type": "stream",
     "text": [
      "Epoch 655\n",
      "Train Loss: 0.4178, Train Accuracy: 84.30%\n",
      "Test Loss: 0.3200, Test Accuracy: 88.05%\n",
      "\n"
     ]
    },
    {
     "name": "stderr",
     "output_type": "stream",
     "text": [
      "Epoch 656: 100%|██████████| 938/938 [00:53<00:00, 17.63batch/s, Train Loss=0.418, Train Acc=84.3]\n"
     ]
    },
    {
     "name": "stdout",
     "output_type": "stream",
     "text": [
      "Epoch 656\n",
      "Train Loss: 0.4176, Train Accuracy: 84.31%\n",
      "Test Loss: 0.3155, Test Accuracy: 88.48%\n",
      "\n"
     ]
    },
    {
     "name": "stderr",
     "output_type": "stream",
     "text": [
      "Epoch 657: 100%|██████████| 938/938 [00:53<00:00, 17.62batch/s, Train Loss=0.419, Train Acc=84.3]\n"
     ]
    },
    {
     "name": "stdout",
     "output_type": "stream",
     "text": [
      "Epoch 657\n",
      "Train Loss: 0.4186, Train Accuracy: 84.33%\n",
      "Test Loss: 0.3158, Test Accuracy: 88.46%\n",
      "\n"
     ]
    },
    {
     "name": "stderr",
     "output_type": "stream",
     "text": [
      "Epoch 658: 100%|██████████| 938/938 [00:53<00:00, 17.61batch/s, Train Loss=0.419, Train Acc=84.2]\n"
     ]
    },
    {
     "name": "stdout",
     "output_type": "stream",
     "text": [
      "Epoch 658\n",
      "Train Loss: 0.4189, Train Accuracy: 84.22%\n",
      "Test Loss: 0.3179, Test Accuracy: 88.14%\n",
      "\n"
     ]
    },
    {
     "name": "stderr",
     "output_type": "stream",
     "text": [
      "Epoch 659: 100%|██████████| 938/938 [00:53<00:00, 17.59batch/s, Train Loss=0.413, Train Acc=84.5]\n"
     ]
    },
    {
     "name": "stdout",
     "output_type": "stream",
     "text": [
      "Epoch 659\n",
      "Train Loss: 0.4128, Train Accuracy: 84.47%\n",
      "Test Loss: 0.3185, Test Accuracy: 88.55%\n",
      "\n"
     ]
    },
    {
     "name": "stderr",
     "output_type": "stream",
     "text": [
      "Epoch 660: 100%|██████████| 938/938 [00:53<00:00, 17.55batch/s, Train Loss=0.412, Train Acc=84.7]\n"
     ]
    },
    {
     "name": "stdout",
     "output_type": "stream",
     "text": [
      "Epoch 660\n",
      "Train Loss: 0.4123, Train Accuracy: 84.65%\n",
      "Test Loss: 0.3224, Test Accuracy: 88.00%\n",
      "\n"
     ]
    },
    {
     "name": "stderr",
     "output_type": "stream",
     "text": [
      "Epoch 661: 100%|██████████| 938/938 [00:53<00:00, 17.61batch/s, Train Loss=0.41, Train Acc=84.6] \n"
     ]
    },
    {
     "name": "stdout",
     "output_type": "stream",
     "text": [
      "Epoch 661\n",
      "Train Loss: 0.4099, Train Accuracy: 84.65%\n",
      "Test Loss: 0.3162, Test Accuracy: 88.27%\n",
      "\n"
     ]
    },
    {
     "name": "stderr",
     "output_type": "stream",
     "text": [
      "Epoch 662: 100%|██████████| 938/938 [00:53<00:00, 17.53batch/s, Train Loss=0.411, Train Acc=84.6]\n"
     ]
    },
    {
     "name": "stdout",
     "output_type": "stream",
     "text": [
      "Epoch 662\n",
      "Train Loss: 0.4109, Train Accuracy: 84.56%\n",
      "Test Loss: 0.3243, Test Accuracy: 87.67%\n",
      "\n"
     ]
    },
    {
     "name": "stderr",
     "output_type": "stream",
     "text": [
      "Epoch 663: 100%|██████████| 938/938 [00:53<00:00, 17.50batch/s, Train Loss=0.405, Train Acc=84.9]\n"
     ]
    },
    {
     "name": "stdout",
     "output_type": "stream",
     "text": [
      "Epoch 663\n",
      "Train Loss: 0.4053, Train Accuracy: 84.89%\n",
      "Test Loss: 0.3145, Test Accuracy: 88.36%\n",
      "\n"
     ]
    },
    {
     "name": "stderr",
     "output_type": "stream",
     "text": [
      "Epoch 664: 100%|██████████| 938/938 [00:53<00:00, 17.62batch/s, Train Loss=0.405, Train Acc=84.7]\n"
     ]
    },
    {
     "name": "stdout",
     "output_type": "stream",
     "text": [
      "Epoch 664\n",
      "Train Loss: 0.4052, Train Accuracy: 84.66%\n",
      "Test Loss: 0.3131, Test Accuracy: 88.56%\n",
      "\n"
     ]
    },
    {
     "name": "stderr",
     "output_type": "stream",
     "text": [
      "Epoch 665: 100%|██████████| 938/938 [00:53<00:00, 17.45batch/s, Train Loss=0.4, Train Acc=85]    \n"
     ]
    },
    {
     "name": "stdout",
     "output_type": "stream",
     "text": [
      "Epoch 665\n",
      "Train Loss: 0.4003, Train Accuracy: 85.03%\n",
      "Test Loss: 0.3066, Test Accuracy: 88.83%\n",
      "\n"
     ]
    },
    {
     "name": "stderr",
     "output_type": "stream",
     "text": [
      "Epoch 666: 100%|██████████| 938/938 [00:53<00:00, 17.45batch/s, Train Loss=0.402, Train Acc=84.9]\n"
     ]
    },
    {
     "name": "stdout",
     "output_type": "stream",
     "text": [
      "Epoch 666\n",
      "Train Loss: 0.4021, Train Accuracy: 84.93%\n",
      "Test Loss: 0.3120, Test Accuracy: 88.68%\n",
      "\n"
     ]
    },
    {
     "name": "stderr",
     "output_type": "stream",
     "text": [
      "Epoch 667: 100%|██████████| 938/938 [00:53<00:00, 17.52batch/s, Train Loss=0.399, Train Acc=85]  \n"
     ]
    },
    {
     "name": "stdout",
     "output_type": "stream",
     "text": [
      "Epoch 667\n",
      "Train Loss: 0.3990, Train Accuracy: 85.02%\n",
      "Test Loss: 0.3041, Test Accuracy: 88.95%\n",
      "\n"
     ]
    },
    {
     "name": "stderr",
     "output_type": "stream",
     "text": [
      "Epoch 668: 100%|██████████| 938/938 [00:53<00:00, 17.45batch/s, Train Loss=0.393, Train Acc=85.2]\n"
     ]
    },
    {
     "name": "stdout",
     "output_type": "stream",
     "text": [
      "Epoch 668\n",
      "Train Loss: 0.3934, Train Accuracy: 85.23%\n",
      "Test Loss: 0.3059, Test Accuracy: 88.72%\n",
      "\n"
     ]
    },
    {
     "name": "stderr",
     "output_type": "stream",
     "text": [
      "Epoch 669: 100%|██████████| 938/938 [00:53<00:00, 17.55batch/s, Train Loss=0.396, Train Acc=85.2]\n"
     ]
    },
    {
     "name": "stdout",
     "output_type": "stream",
     "text": [
      "Epoch 669\n",
      "Train Loss: 0.3961, Train Accuracy: 85.16%\n",
      "Test Loss: 0.3222, Test Accuracy: 88.09%\n",
      "\n"
     ]
    },
    {
     "name": "stderr",
     "output_type": "stream",
     "text": [
      "Epoch 670: 100%|██████████| 938/938 [00:53<00:00, 17.57batch/s, Train Loss=0.393, Train Acc=85.2]\n"
     ]
    },
    {
     "name": "stdout",
     "output_type": "stream",
     "text": [
      "Epoch 670\n",
      "Train Loss: 0.3935, Train Accuracy: 85.23%\n",
      "Test Loss: 0.3297, Test Accuracy: 87.74%\n",
      "\n"
     ]
    },
    {
     "name": "stderr",
     "output_type": "stream",
     "text": [
      "Epoch 671: 100%|██████████| 938/938 [00:53<00:00, 17.56batch/s, Train Loss=0.394, Train Acc=85.2]\n"
     ]
    },
    {
     "name": "stdout",
     "output_type": "stream",
     "text": [
      "Epoch 671\n",
      "Train Loss: 0.3940, Train Accuracy: 85.23%\n",
      "Test Loss: 0.3016, Test Accuracy: 88.96%\n",
      "\n"
     ]
    },
    {
     "name": "stderr",
     "output_type": "stream",
     "text": [
      "Epoch 672: 100%|██████████| 938/938 [00:53<00:00, 17.58batch/s, Train Loss=0.392, Train Acc=85.3]\n"
     ]
    },
    {
     "name": "stdout",
     "output_type": "stream",
     "text": [
      "Epoch 672\n",
      "Train Loss: 0.3920, Train Accuracy: 85.30%\n",
      "Test Loss: 0.3026, Test Accuracy: 88.97%\n",
      "\n"
     ]
    },
    {
     "name": "stderr",
     "output_type": "stream",
     "text": [
      "Epoch 673: 100%|██████████| 938/938 [00:54<00:00, 17.30batch/s, Train Loss=0.391, Train Acc=85.3]\n"
     ]
    },
    {
     "name": "stdout",
     "output_type": "stream",
     "text": [
      "Epoch 673\n",
      "Train Loss: 0.3912, Train Accuracy: 85.32%\n",
      "Test Loss: 0.3145, Test Accuracy: 88.07%\n",
      "\n"
     ]
    },
    {
     "name": "stderr",
     "output_type": "stream",
     "text": [
      "Epoch 674: 100%|██████████| 938/938 [00:56<00:00, 16.67batch/s, Train Loss=0.391, Train Acc=85.3]\n"
     ]
    },
    {
     "name": "stdout",
     "output_type": "stream",
     "text": [
      "Epoch 674\n",
      "Train Loss: 0.3906, Train Accuracy: 85.29%\n",
      "Test Loss: 0.3117, Test Accuracy: 88.70%\n",
      "\n"
     ]
    },
    {
     "name": "stderr",
     "output_type": "stream",
     "text": [
      "Epoch 675: 100%|██████████| 938/938 [00:55<00:00, 16.77batch/s, Train Loss=0.385, Train Acc=85.5]\n"
     ]
    },
    {
     "name": "stdout",
     "output_type": "stream",
     "text": [
      "Epoch 675\n",
      "Train Loss: 0.3848, Train Accuracy: 85.49%\n",
      "Test Loss: 0.3068, Test Accuracy: 88.70%\n",
      "\n"
     ]
    },
    {
     "name": "stderr",
     "output_type": "stream",
     "text": [
      "Epoch 676: 100%|██████████| 938/938 [00:55<00:00, 17.02batch/s, Train Loss=0.386, Train Acc=85.5]\n"
     ]
    },
    {
     "name": "stdout",
     "output_type": "stream",
     "text": [
      "Epoch 676\n",
      "Train Loss: 0.3863, Train Accuracy: 85.53%\n",
      "Test Loss: 0.2995, Test Accuracy: 89.02%\n",
      "\n"
     ]
    },
    {
     "name": "stderr",
     "output_type": "stream",
     "text": [
      "Epoch 677: 100%|██████████| 938/938 [00:54<00:00, 17.37batch/s, Train Loss=0.383, Train Acc=85.5]\n"
     ]
    },
    {
     "name": "stdout",
     "output_type": "stream",
     "text": [
      "Epoch 677\n",
      "Train Loss: 0.3828, Train Accuracy: 85.54%\n",
      "Test Loss: 0.3018, Test Accuracy: 89.22%\n",
      "\n"
     ]
    },
    {
     "name": "stderr",
     "output_type": "stream",
     "text": [
      "Epoch 678: 100%|██████████| 938/938 [00:53<00:00, 17.48batch/s, Train Loss=0.379, Train Acc=85.7]\n"
     ]
    },
    {
     "name": "stdout",
     "output_type": "stream",
     "text": [
      "Epoch 678\n",
      "Train Loss: 0.3794, Train Accuracy: 85.66%\n",
      "Test Loss: 0.2985, Test Accuracy: 89.07%\n",
      "\n"
     ]
    },
    {
     "name": "stderr",
     "output_type": "stream",
     "text": [
      "Epoch 679: 100%|██████████| 938/938 [00:53<00:00, 17.44batch/s, Train Loss=0.384, Train Acc=85.6]\n"
     ]
    },
    {
     "name": "stdout",
     "output_type": "stream",
     "text": [
      "Epoch 679\n",
      "Train Loss: 0.3835, Train Accuracy: 85.61%\n",
      "Test Loss: 0.2929, Test Accuracy: 89.38%\n",
      "\n"
     ]
    },
    {
     "name": "stderr",
     "output_type": "stream",
     "text": [
      "Epoch 680: 100%|██████████| 938/938 [00:53<00:00, 17.47batch/s, Train Loss=0.382, Train Acc=85.7]\n"
     ]
    },
    {
     "name": "stdout",
     "output_type": "stream",
     "text": [
      "Epoch 680\n",
      "Train Loss: 0.3821, Train Accuracy: 85.70%\n",
      "Test Loss: 0.3009, Test Accuracy: 88.90%\n",
      "\n"
     ]
    },
    {
     "name": "stderr",
     "output_type": "stream",
     "text": [
      "Epoch 681: 100%|██████████| 938/938 [00:53<00:00, 17.52batch/s, Train Loss=0.378, Train Acc=85.6]\n"
     ]
    },
    {
     "name": "stdout",
     "output_type": "stream",
     "text": [
      "Epoch 681\n",
      "Train Loss: 0.3782, Train Accuracy: 85.65%\n",
      "Test Loss: 0.2903, Test Accuracy: 89.43%\n",
      "\n"
     ]
    },
    {
     "name": "stderr",
     "output_type": "stream",
     "text": [
      "Epoch 682: 100%|██████████| 938/938 [00:53<00:00, 17.43batch/s, Train Loss=0.377, Train Acc=85.7]\n"
     ]
    },
    {
     "name": "stdout",
     "output_type": "stream",
     "text": [
      "Epoch 682\n",
      "Train Loss: 0.3768, Train Accuracy: 85.70%\n",
      "Test Loss: 0.2978, Test Accuracy: 89.08%\n",
      "\n"
     ]
    },
    {
     "name": "stderr",
     "output_type": "stream",
     "text": [
      "Epoch 683: 100%|██████████| 938/938 [00:53<00:00, 17.49batch/s, Train Loss=0.373, Train Acc=85.8]\n"
     ]
    },
    {
     "name": "stdout",
     "output_type": "stream",
     "text": [
      "Epoch 683\n",
      "Train Loss: 0.3734, Train Accuracy: 85.83%\n",
      "Test Loss: 0.3010, Test Accuracy: 88.92%\n",
      "\n"
     ]
    },
    {
     "name": "stderr",
     "output_type": "stream",
     "text": [
      "Epoch 684: 100%|██████████| 938/938 [00:53<00:00, 17.45batch/s, Train Loss=0.375, Train Acc=85.9]\n"
     ]
    },
    {
     "name": "stdout",
     "output_type": "stream",
     "text": [
      "Epoch 684\n",
      "Train Loss: 0.3751, Train Accuracy: 85.93%\n",
      "Test Loss: 0.2922, Test Accuracy: 89.35%\n",
      "\n"
     ]
    },
    {
     "name": "stderr",
     "output_type": "stream",
     "text": [
      "Epoch 685: 100%|██████████| 938/938 [00:53<00:00, 17.46batch/s, Train Loss=0.374, Train Acc=85.9]\n"
     ]
    },
    {
     "name": "stdout",
     "output_type": "stream",
     "text": [
      "Epoch 685\n",
      "Train Loss: 0.3744, Train Accuracy: 85.91%\n",
      "Test Loss: 0.2944, Test Accuracy: 89.01%\n",
      "\n"
     ]
    },
    {
     "name": "stderr",
     "output_type": "stream",
     "text": [
      "Epoch 686: 100%|██████████| 938/938 [00:53<00:00, 17.54batch/s, Train Loss=0.373, Train Acc=85.9]\n"
     ]
    },
    {
     "name": "stdout",
     "output_type": "stream",
     "text": [
      "Epoch 686\n",
      "Train Loss: 0.3730, Train Accuracy: 85.94%\n",
      "Test Loss: 0.2901, Test Accuracy: 89.36%\n",
      "\n"
     ]
    },
    {
     "name": "stderr",
     "output_type": "stream",
     "text": [
      "Epoch 687: 100%|██████████| 938/938 [00:53<00:00, 17.48batch/s, Train Loss=0.372, Train Acc=86.1]\n"
     ]
    },
    {
     "name": "stdout",
     "output_type": "stream",
     "text": [
      "Epoch 687\n",
      "Train Loss: 0.3724, Train Accuracy: 86.09%\n",
      "Test Loss: 0.3093, Test Accuracy: 88.59%\n",
      "\n"
     ]
    },
    {
     "name": "stderr",
     "output_type": "stream",
     "text": [
      "Epoch 688: 100%|██████████| 938/938 [00:53<00:00, 17.44batch/s, Train Loss=0.369, Train Acc=86.1]\n"
     ]
    },
    {
     "name": "stdout",
     "output_type": "stream",
     "text": [
      "Epoch 688\n",
      "Train Loss: 0.3687, Train Accuracy: 86.11%\n",
      "Test Loss: 0.3006, Test Accuracy: 88.81%\n",
      "\n"
     ]
    },
    {
     "name": "stderr",
     "output_type": "stream",
     "text": [
      "Epoch 689: 100%|██████████| 938/938 [00:53<00:00, 17.66batch/s, Train Loss=0.368, Train Acc=86.3]\n"
     ]
    },
    {
     "name": "stdout",
     "output_type": "stream",
     "text": [
      "Epoch 689\n",
      "Train Loss: 0.3682, Train Accuracy: 86.30%\n",
      "Test Loss: 0.2890, Test Accuracy: 89.03%\n",
      "\n"
     ]
    },
    {
     "name": "stderr",
     "output_type": "stream",
     "text": [
      "Epoch 690: 100%|██████████| 938/938 [00:53<00:00, 17.64batch/s, Train Loss=0.368, Train Acc=86.1]\n"
     ]
    },
    {
     "name": "stdout",
     "output_type": "stream",
     "text": [
      "Epoch 690\n",
      "Train Loss: 0.3682, Train Accuracy: 86.09%\n",
      "Test Loss: 0.2953, Test Accuracy: 89.29%\n",
      "\n"
     ]
    },
    {
     "name": "stderr",
     "output_type": "stream",
     "text": [
      "Epoch 691: 100%|██████████| 938/938 [00:53<00:00, 17.61batch/s, Train Loss=0.364, Train Acc=86.2]\n"
     ]
    },
    {
     "name": "stdout",
     "output_type": "stream",
     "text": [
      "Epoch 691\n",
      "Train Loss: 0.3635, Train Accuracy: 86.23%\n",
      "Test Loss: 0.2973, Test Accuracy: 88.75%\n",
      "\n"
     ]
    },
    {
     "name": "stderr",
     "output_type": "stream",
     "text": [
      "Epoch 692: 100%|██████████| 938/938 [00:53<00:00, 17.68batch/s, Train Loss=0.364, Train Acc=86.3]\n"
     ]
    },
    {
     "name": "stdout",
     "output_type": "stream",
     "text": [
      "Epoch 692\n",
      "Train Loss: 0.3636, Train Accuracy: 86.27%\n",
      "Test Loss: 0.2845, Test Accuracy: 89.59%\n",
      "\n"
     ]
    },
    {
     "name": "stderr",
     "output_type": "stream",
     "text": [
      "Epoch 693: 100%|██████████| 938/938 [00:53<00:00, 17.60batch/s, Train Loss=0.365, Train Acc=86.1]\n"
     ]
    },
    {
     "name": "stdout",
     "output_type": "stream",
     "text": [
      "Epoch 693\n",
      "Train Loss: 0.3654, Train Accuracy: 86.14%\n",
      "Test Loss: 0.2853, Test Accuracy: 89.53%\n",
      "\n"
     ]
    },
    {
     "name": "stderr",
     "output_type": "stream",
     "text": [
      "Epoch 694: 100%|██████████| 938/938 [00:53<00:00, 17.65batch/s, Train Loss=0.36, Train Acc=86.4] \n"
     ]
    },
    {
     "name": "stdout",
     "output_type": "stream",
     "text": [
      "Epoch 694\n",
      "Train Loss: 0.3599, Train Accuracy: 86.42%\n",
      "Test Loss: 0.2840, Test Accuracy: 89.62%\n",
      "\n"
     ]
    },
    {
     "name": "stderr",
     "output_type": "stream",
     "text": [
      "Epoch 695: 100%|██████████| 938/938 [00:53<00:00, 17.61batch/s, Train Loss=0.36, Train Acc=86.5] \n"
     ]
    },
    {
     "name": "stdout",
     "output_type": "stream",
     "text": [
      "Epoch 695\n",
      "Train Loss: 0.3596, Train Accuracy: 86.54%\n",
      "Test Loss: 0.2847, Test Accuracy: 89.70%\n",
      "\n"
     ]
    },
    {
     "name": "stderr",
     "output_type": "stream",
     "text": [
      "Epoch 696: 100%|██████████| 938/938 [00:53<00:00, 17.55batch/s, Train Loss=0.359, Train Acc=86.5]\n"
     ]
    },
    {
     "name": "stdout",
     "output_type": "stream",
     "text": [
      "Epoch 696\n",
      "Train Loss: 0.3594, Train Accuracy: 86.45%\n",
      "Test Loss: 0.2773, Test Accuracy: 89.63%\n",
      "\n"
     ]
    },
    {
     "name": "stderr",
     "output_type": "stream",
     "text": [
      "Epoch 697: 100%|██████████| 938/938 [00:53<00:00, 17.69batch/s, Train Loss=0.358, Train Acc=86.5]\n"
     ]
    },
    {
     "name": "stdout",
     "output_type": "stream",
     "text": [
      "Epoch 697\n",
      "Train Loss: 0.3583, Train Accuracy: 86.49%\n",
      "Test Loss: 0.2805, Test Accuracy: 89.48%\n",
      "\n"
     ]
    },
    {
     "name": "stderr",
     "output_type": "stream",
     "text": [
      "Epoch 698: 100%|██████████| 938/938 [00:52<00:00, 17.73batch/s, Train Loss=0.357, Train Acc=86.4]\n"
     ]
    },
    {
     "name": "stdout",
     "output_type": "stream",
     "text": [
      "Epoch 698\n",
      "Train Loss: 0.3575, Train Accuracy: 86.35%\n",
      "Test Loss: 0.2875, Test Accuracy: 89.51%\n",
      "\n"
     ]
    },
    {
     "name": "stderr",
     "output_type": "stream",
     "text": [
      "Epoch 699: 100%|██████████| 938/938 [00:53<00:00, 17.62batch/s, Train Loss=0.354, Train Acc=86.5]\n"
     ]
    },
    {
     "name": "stdout",
     "output_type": "stream",
     "text": [
      "Epoch 699\n",
      "Train Loss: 0.3540, Train Accuracy: 86.51%\n",
      "Test Loss: 0.2821, Test Accuracy: 89.54%\n",
      "\n"
     ]
    },
    {
     "name": "stderr",
     "output_type": "stream",
     "text": [
      "Epoch 700: 100%|██████████| 938/938 [00:53<00:00, 17.52batch/s, Train Loss=0.355, Train Acc=86.5]\n"
     ]
    },
    {
     "name": "stdout",
     "output_type": "stream",
     "text": [
      "Epoch 700\n",
      "Train Loss: 0.3548, Train Accuracy: 86.50%\n",
      "Test Loss: 0.2925, Test Accuracy: 89.14%\n",
      "\n"
     ]
    },
    {
     "name": "stderr",
     "output_type": "stream",
     "text": [
      "Epoch 701: 100%|██████████| 938/938 [00:53<00:00, 17.61batch/s, Train Loss=0.352, Train Acc=86.8]\n"
     ]
    },
    {
     "name": "stdout",
     "output_type": "stream",
     "text": [
      "Epoch 701\n",
      "Train Loss: 0.3521, Train Accuracy: 86.76%\n",
      "Test Loss: 0.2948, Test Accuracy: 89.03%\n",
      "\n"
     ]
    },
    {
     "name": "stderr",
     "output_type": "stream",
     "text": [
      "Epoch 702: 100%|██████████| 938/938 [00:53<00:00, 17.60batch/s, Train Loss=0.356, Train Acc=86.6]\n"
     ]
    },
    {
     "name": "stdout",
     "output_type": "stream",
     "text": [
      "Epoch 702\n",
      "Train Loss: 0.3565, Train Accuracy: 86.62%\n",
      "Test Loss: 0.2855, Test Accuracy: 89.39%\n",
      "\n"
     ]
    },
    {
     "name": "stderr",
     "output_type": "stream",
     "text": [
      "Epoch 703: 100%|██████████| 938/938 [00:53<00:00, 17.42batch/s, Train Loss=0.353, Train Acc=86.7]\n"
     ]
    },
    {
     "name": "stdout",
     "output_type": "stream",
     "text": [
      "Epoch 703\n",
      "Train Loss: 0.3528, Train Accuracy: 86.72%\n",
      "Test Loss: 0.2857, Test Accuracy: 89.19%\n",
      "\n"
     ]
    },
    {
     "name": "stderr",
     "output_type": "stream",
     "text": [
      "Epoch 704: 100%|██████████| 938/938 [00:54<00:00, 17.27batch/s, Train Loss=0.351, Train Acc=86.7]\n"
     ]
    },
    {
     "name": "stdout",
     "output_type": "stream",
     "text": [
      "Epoch 704\n",
      "Train Loss: 0.3506, Train Accuracy: 86.70%\n",
      "Test Loss: 0.2737, Test Accuracy: 89.85%\n",
      "\n"
     ]
    },
    {
     "name": "stderr",
     "output_type": "stream",
     "text": [
      "Epoch 705: 100%|██████████| 938/938 [00:54<00:00, 17.20batch/s, Train Loss=0.349, Train Acc=86.9]\n"
     ]
    },
    {
     "name": "stdout",
     "output_type": "stream",
     "text": [
      "Epoch 705\n",
      "Train Loss: 0.3490, Train Accuracy: 86.86%\n",
      "Test Loss: 0.2841, Test Accuracy: 89.33%\n",
      "\n"
     ]
    },
    {
     "name": "stderr",
     "output_type": "stream",
     "text": [
      "Epoch 706: 100%|██████████| 938/938 [00:54<00:00, 17.30batch/s, Train Loss=0.349, Train Acc=86.7]\n"
     ]
    },
    {
     "name": "stdout",
     "output_type": "stream",
     "text": [
      "Epoch 706\n",
      "Train Loss: 0.3490, Train Accuracy: 86.71%\n",
      "Test Loss: 0.2754, Test Accuracy: 90.15%\n",
      "\n"
     ]
    },
    {
     "name": "stderr",
     "output_type": "stream",
     "text": [
      "Epoch 707: 100%|██████████| 938/938 [00:54<00:00, 17.27batch/s, Train Loss=0.347, Train Acc=86.9]\n"
     ]
    },
    {
     "name": "stdout",
     "output_type": "stream",
     "text": [
      "Epoch 707\n",
      "Train Loss: 0.3475, Train Accuracy: 86.89%\n",
      "Test Loss: 0.2782, Test Accuracy: 89.73%\n",
      "\n"
     ]
    },
    {
     "name": "stderr",
     "output_type": "stream",
     "text": [
      "Epoch 708: 100%|██████████| 938/938 [00:54<00:00, 17.33batch/s, Train Loss=0.35, Train Acc=86.7] \n"
     ]
    },
    {
     "name": "stdout",
     "output_type": "stream",
     "text": [
      "Epoch 708\n",
      "Train Loss: 0.3499, Train Accuracy: 86.71%\n",
      "Test Loss: 0.2798, Test Accuracy: 89.54%\n",
      "\n"
     ]
    },
    {
     "name": "stderr",
     "output_type": "stream",
     "text": [
      "Epoch 709: 100%|██████████| 938/938 [00:54<00:00, 17.20batch/s, Train Loss=0.344, Train Acc=86.9]\n"
     ]
    },
    {
     "name": "stdout",
     "output_type": "stream",
     "text": [
      "Epoch 709\n",
      "Train Loss: 0.3443, Train Accuracy: 86.94%\n",
      "Test Loss: 0.2716, Test Accuracy: 89.80%\n",
      "\n"
     ]
    },
    {
     "name": "stderr",
     "output_type": "stream",
     "text": [
      "Epoch 710: 100%|██████████| 938/938 [00:54<00:00, 17.35batch/s, Train Loss=0.344, Train Acc=87.1]\n"
     ]
    },
    {
     "name": "stdout",
     "output_type": "stream",
     "text": [
      "Epoch 710\n",
      "Train Loss: 0.3436, Train Accuracy: 87.08%\n",
      "Test Loss: 0.2787, Test Accuracy: 89.78%\n",
      "\n"
     ]
    },
    {
     "name": "stderr",
     "output_type": "stream",
     "text": [
      "Epoch 711: 100%|██████████| 938/938 [00:54<00:00, 17.25batch/s, Train Loss=0.342, Train Acc=87.1]\n"
     ]
    },
    {
     "name": "stdout",
     "output_type": "stream",
     "text": [
      "Epoch 711\n",
      "Train Loss: 0.3421, Train Accuracy: 87.12%\n",
      "Test Loss: 0.2728, Test Accuracy: 89.80%\n",
      "\n"
     ]
    },
    {
     "name": "stderr",
     "output_type": "stream",
     "text": [
      "Epoch 712: 100%|██████████| 938/938 [00:54<00:00, 17.19batch/s, Train Loss=0.344, Train Acc=87.1]\n"
     ]
    },
    {
     "name": "stdout",
     "output_type": "stream",
     "text": [
      "Epoch 712\n",
      "Train Loss: 0.3439, Train Accuracy: 87.06%\n",
      "Test Loss: 0.2714, Test Accuracy: 89.94%\n",
      "\n"
     ]
    },
    {
     "name": "stderr",
     "output_type": "stream",
     "text": [
      "Epoch 713: 100%|██████████| 938/938 [00:54<00:00, 17.11batch/s, Train Loss=0.342, Train Acc=86.9]\n"
     ]
    },
    {
     "name": "stdout",
     "output_type": "stream",
     "text": [
      "Epoch 713\n",
      "Train Loss: 0.3420, Train Accuracy: 86.94%\n",
      "Test Loss: 0.2814, Test Accuracy: 89.52%\n",
      "\n"
     ]
    },
    {
     "name": "stderr",
     "output_type": "stream",
     "text": [
      "Epoch 714: 100%|██████████| 938/938 [00:54<00:00, 17.15batch/s, Train Loss=0.344, Train Acc=87]  \n"
     ]
    },
    {
     "name": "stdout",
     "output_type": "stream",
     "text": [
      "Epoch 714\n",
      "Train Loss: 0.3436, Train Accuracy: 87.04%\n",
      "Test Loss: 0.2816, Test Accuracy: 89.57%\n",
      "\n"
     ]
    },
    {
     "name": "stderr",
     "output_type": "stream",
     "text": [
      "Epoch 715: 100%|██████████| 938/938 [00:54<00:00, 17.16batch/s, Train Loss=0.339, Train Acc=87.1]\n"
     ]
    },
    {
     "name": "stdout",
     "output_type": "stream",
     "text": [
      "Epoch 715\n",
      "Train Loss: 0.3390, Train Accuracy: 87.06%\n",
      "Test Loss: 0.2684, Test Accuracy: 90.19%\n",
      "\n"
     ]
    },
    {
     "name": "stderr",
     "output_type": "stream",
     "text": [
      "Epoch 716: 100%|██████████| 938/938 [00:54<00:00, 17.19batch/s, Train Loss=0.337, Train Acc=87.1]\n"
     ]
    },
    {
     "name": "stdout",
     "output_type": "stream",
     "text": [
      "Epoch 716\n",
      "Train Loss: 0.3375, Train Accuracy: 87.14%\n",
      "Test Loss: 0.2737, Test Accuracy: 90.15%\n",
      "\n"
     ]
    },
    {
     "name": "stderr",
     "output_type": "stream",
     "text": [
      "Epoch 717: 100%|██████████| 938/938 [00:54<00:00, 17.10batch/s, Train Loss=0.339, Train Acc=87.1]\n"
     ]
    },
    {
     "name": "stdout",
     "output_type": "stream",
     "text": [
      "Epoch 717\n",
      "Train Loss: 0.3387, Train Accuracy: 87.14%\n",
      "Test Loss: 0.2698, Test Accuracy: 90.01%\n",
      "\n"
     ]
    },
    {
     "name": "stderr",
     "output_type": "stream",
     "text": [
      "Epoch 718: 100%|██████████| 938/938 [00:54<00:00, 17.17batch/s, Train Loss=0.338, Train Acc=87.2]\n"
     ]
    },
    {
     "name": "stdout",
     "output_type": "stream",
     "text": [
      "Epoch 718\n",
      "Train Loss: 0.3384, Train Accuracy: 87.22%\n",
      "Test Loss: 0.2720, Test Accuracy: 89.77%\n",
      "\n"
     ]
    },
    {
     "name": "stderr",
     "output_type": "stream",
     "text": [
      "Epoch 719: 100%|██████████| 938/938 [00:54<00:00, 17.16batch/s, Train Loss=0.338, Train Acc=87.2]\n"
     ]
    },
    {
     "name": "stdout",
     "output_type": "stream",
     "text": [
      "Epoch 719\n",
      "Train Loss: 0.3377, Train Accuracy: 87.22%\n",
      "Test Loss: 0.2687, Test Accuracy: 89.76%\n",
      "\n"
     ]
    },
    {
     "name": "stderr",
     "output_type": "stream",
     "text": [
      "Epoch 720: 100%|██████████| 938/938 [00:54<00:00, 17.09batch/s, Train Loss=0.336, Train Acc=87.3]\n"
     ]
    },
    {
     "name": "stdout",
     "output_type": "stream",
     "text": [
      "Epoch 720\n",
      "Train Loss: 0.3362, Train Accuracy: 87.27%\n",
      "Test Loss: 0.2701, Test Accuracy: 89.92%\n",
      "\n"
     ]
    },
    {
     "name": "stderr",
     "output_type": "stream",
     "text": [
      "Epoch 721: 100%|██████████| 938/938 [00:55<00:00, 17.05batch/s, Train Loss=0.336, Train Acc=87.2]\n"
     ]
    },
    {
     "name": "stdout",
     "output_type": "stream",
     "text": [
      "Epoch 721\n",
      "Train Loss: 0.3362, Train Accuracy: 87.24%\n",
      "Test Loss: 0.2643, Test Accuracy: 90.28%\n",
      "\n"
     ]
    },
    {
     "name": "stderr",
     "output_type": "stream",
     "text": [
      "Epoch 722: 100%|██████████| 938/938 [00:55<00:00, 16.98batch/s, Train Loss=0.331, Train Acc=87.5]\n"
     ]
    },
    {
     "name": "stdout",
     "output_type": "stream",
     "text": [
      "Epoch 722\n",
      "Train Loss: 0.3314, Train Accuracy: 87.46%\n",
      "Test Loss: 0.2705, Test Accuracy: 90.00%\n",
      "\n"
     ]
    },
    {
     "name": "stderr",
     "output_type": "stream",
     "text": [
      "Epoch 723: 100%|██████████| 938/938 [00:54<00:00, 17.09batch/s, Train Loss=0.331, Train Acc=87.4]\n"
     ]
    },
    {
     "name": "stdout",
     "output_type": "stream",
     "text": [
      "Epoch 723\n",
      "Train Loss: 0.3312, Train Accuracy: 87.40%\n",
      "Test Loss: 0.2756, Test Accuracy: 89.67%\n",
      "\n"
     ]
    },
    {
     "name": "stderr",
     "output_type": "stream",
     "text": [
      "Epoch 724: 100%|██████████| 938/938 [00:54<00:00, 17.11batch/s, Train Loss=0.335, Train Acc=87.4]\n"
     ]
    },
    {
     "name": "stdout",
     "output_type": "stream",
     "text": [
      "Epoch 724\n",
      "Train Loss: 0.3354, Train Accuracy: 87.44%\n",
      "Test Loss: 0.2729, Test Accuracy: 90.08%\n",
      "\n"
     ]
    },
    {
     "name": "stderr",
     "output_type": "stream",
     "text": [
      "Epoch 725: 100%|██████████| 938/938 [00:55<00:00, 17.05batch/s, Train Loss=0.331, Train Acc=87.5]\n"
     ]
    },
    {
     "name": "stdout",
     "output_type": "stream",
     "text": [
      "Epoch 725\n",
      "Train Loss: 0.3306, Train Accuracy: 87.52%\n",
      "Test Loss: 0.2684, Test Accuracy: 90.07%\n",
      "\n"
     ]
    },
    {
     "name": "stderr",
     "output_type": "stream",
     "text": [
      "Epoch 726: 100%|██████████| 938/938 [00:54<00:00, 17.14batch/s, Train Loss=0.329, Train Acc=87.6]\n"
     ]
    },
    {
     "name": "stdout",
     "output_type": "stream",
     "text": [
      "Epoch 726\n",
      "Train Loss: 0.3288, Train Accuracy: 87.56%\n",
      "Test Loss: 0.2706, Test Accuracy: 90.23%\n",
      "\n"
     ]
    },
    {
     "name": "stderr",
     "output_type": "stream",
     "text": [
      "Epoch 727: 100%|██████████| 938/938 [00:54<00:00, 17.16batch/s, Train Loss=0.328, Train Acc=87.6]\n"
     ]
    },
    {
     "name": "stdout",
     "output_type": "stream",
     "text": [
      "Epoch 727\n",
      "Train Loss: 0.3279, Train Accuracy: 87.61%\n",
      "Test Loss: 0.2729, Test Accuracy: 89.77%\n",
      "\n"
     ]
    },
    {
     "name": "stderr",
     "output_type": "stream",
     "text": [
      "Epoch 728: 100%|██████████| 938/938 [00:54<00:00, 17.14batch/s, Train Loss=0.329, Train Acc=87.5]\n"
     ]
    },
    {
     "name": "stdout",
     "output_type": "stream",
     "text": [
      "Epoch 728\n",
      "Train Loss: 0.3291, Train Accuracy: 87.46%\n",
      "Test Loss: 0.2649, Test Accuracy: 90.31%\n",
      "\n"
     ]
    },
    {
     "name": "stderr",
     "output_type": "stream",
     "text": [
      "Epoch 729: 100%|██████████| 938/938 [00:54<00:00, 17.17batch/s, Train Loss=0.329, Train Acc=87.5]\n"
     ]
    },
    {
     "name": "stdout",
     "output_type": "stream",
     "text": [
      "Epoch 729\n",
      "Train Loss: 0.3288, Train Accuracy: 87.53%\n",
      "Test Loss: 0.2724, Test Accuracy: 89.73%\n",
      "\n"
     ]
    },
    {
     "name": "stderr",
     "output_type": "stream",
     "text": [
      "Epoch 730: 100%|██████████| 938/938 [00:54<00:00, 17.08batch/s, Train Loss=0.327, Train Acc=87.7]\n"
     ]
    },
    {
     "name": "stdout",
     "output_type": "stream",
     "text": [
      "Epoch 730\n",
      "Train Loss: 0.3269, Train Accuracy: 87.69%\n",
      "Test Loss: 0.2646, Test Accuracy: 90.52%\n",
      "\n"
     ]
    },
    {
     "name": "stderr",
     "output_type": "stream",
     "text": [
      "Epoch 731: 100%|██████████| 938/938 [00:54<00:00, 17.12batch/s, Train Loss=0.323, Train Acc=87.9]\n"
     ]
    },
    {
     "name": "stdout",
     "output_type": "stream",
     "text": [
      "Epoch 731\n",
      "Train Loss: 0.3233, Train Accuracy: 87.86%\n",
      "Test Loss: 0.2654, Test Accuracy: 90.28%\n",
      "\n"
     ]
    },
    {
     "name": "stderr",
     "output_type": "stream",
     "text": [
      "Epoch 732: 100%|██████████| 938/938 [00:54<00:00, 17.14batch/s, Train Loss=0.321, Train Acc=87.9]\n"
     ]
    },
    {
     "name": "stdout",
     "output_type": "stream",
     "text": [
      "Epoch 732\n",
      "Train Loss: 0.3214, Train Accuracy: 87.88%\n",
      "Test Loss: 0.2641, Test Accuracy: 90.27%\n",
      "\n"
     ]
    },
    {
     "name": "stderr",
     "output_type": "stream",
     "text": [
      "Epoch 733: 100%|██████████| 938/938 [00:54<00:00, 17.19batch/s, Train Loss=0.322, Train Acc=87.9]\n"
     ]
    },
    {
     "name": "stdout",
     "output_type": "stream",
     "text": [
      "Epoch 733\n",
      "Train Loss: 0.3222, Train Accuracy: 87.86%\n",
      "Test Loss: 0.2660, Test Accuracy: 90.05%\n",
      "\n"
     ]
    },
    {
     "name": "stderr",
     "output_type": "stream",
     "text": [
      "Epoch 734: 100%|██████████| 938/938 [00:55<00:00, 17.02batch/s, Train Loss=0.321, Train Acc=87.9]\n"
     ]
    },
    {
     "name": "stdout",
     "output_type": "stream",
     "text": [
      "Epoch 734\n",
      "Train Loss: 0.3215, Train Accuracy: 87.88%\n",
      "Test Loss: 0.2711, Test Accuracy: 89.95%\n",
      "\n"
     ]
    },
    {
     "name": "stderr",
     "output_type": "stream",
     "text": [
      "Epoch 735: 100%|██████████| 938/938 [00:54<00:00, 17.06batch/s, Train Loss=0.322, Train Acc=87.9]\n"
     ]
    },
    {
     "name": "stdout",
     "output_type": "stream",
     "text": [
      "Epoch 735\n",
      "Train Loss: 0.3223, Train Accuracy: 87.88%\n",
      "Test Loss: 0.2679, Test Accuracy: 90.03%\n",
      "\n"
     ]
    },
    {
     "name": "stderr",
     "output_type": "stream",
     "text": [
      "Epoch 736: 100%|██████████| 938/938 [00:54<00:00, 17.24batch/s, Train Loss=0.322, Train Acc=87.7]\n"
     ]
    },
    {
     "name": "stdout",
     "output_type": "stream",
     "text": [
      "Epoch 736\n",
      "Train Loss: 0.3219, Train Accuracy: 87.74%\n",
      "Test Loss: 0.2685, Test Accuracy: 89.98%\n",
      "\n"
     ]
    },
    {
     "name": "stderr",
     "output_type": "stream",
     "text": [
      "Epoch 737: 100%|██████████| 938/938 [00:54<00:00, 17.13batch/s, Train Loss=0.322, Train Acc=87.8]\n"
     ]
    },
    {
     "name": "stdout",
     "output_type": "stream",
     "text": [
      "Epoch 737\n",
      "Train Loss: 0.3221, Train Accuracy: 87.76%\n",
      "Test Loss: 0.2637, Test Accuracy: 90.28%\n",
      "\n"
     ]
    },
    {
     "name": "stderr",
     "output_type": "stream",
     "text": [
      "Epoch 738: 100%|██████████| 938/938 [00:54<00:00, 17.06batch/s, Train Loss=0.322, Train Acc=87.7]\n"
     ]
    },
    {
     "name": "stdout",
     "output_type": "stream",
     "text": [
      "Epoch 738\n",
      "Train Loss: 0.3221, Train Accuracy: 87.72%\n",
      "Test Loss: 0.2581, Test Accuracy: 90.26%\n",
      "\n"
     ]
    },
    {
     "name": "stderr",
     "output_type": "stream",
     "text": [
      "Epoch 739: 100%|██████████| 938/938 [00:54<00:00, 17.14batch/s, Train Loss=0.32, Train Acc=87.9] \n"
     ]
    },
    {
     "name": "stdout",
     "output_type": "stream",
     "text": [
      "Epoch 739\n",
      "Train Loss: 0.3195, Train Accuracy: 87.86%\n",
      "Test Loss: 0.2685, Test Accuracy: 89.99%\n",
      "\n"
     ]
    },
    {
     "name": "stderr",
     "output_type": "stream",
     "text": [
      "Epoch 740: 100%|██████████| 938/938 [00:54<00:00, 17.12batch/s, Train Loss=0.318, Train Acc=88]  \n"
     ]
    },
    {
     "name": "stdout",
     "output_type": "stream",
     "text": [
      "Epoch 740\n",
      "Train Loss: 0.3178, Train Accuracy: 87.96%\n",
      "Test Loss: 0.2638, Test Accuracy: 90.33%\n",
      "\n"
     ]
    },
    {
     "name": "stderr",
     "output_type": "stream",
     "text": [
      "Epoch 741: 100%|██████████| 938/938 [00:54<00:00, 17.13batch/s, Train Loss=0.318, Train Acc=87.9]\n"
     ]
    },
    {
     "name": "stdout",
     "output_type": "stream",
     "text": [
      "Epoch 741\n",
      "Train Loss: 0.3176, Train Accuracy: 87.92%\n",
      "Test Loss: 0.2707, Test Accuracy: 89.86%\n",
      "\n"
     ]
    },
    {
     "name": "stderr",
     "output_type": "stream",
     "text": [
      "Epoch 742: 100%|██████████| 938/938 [00:54<00:00, 17.06batch/s, Train Loss=0.314, Train Acc=88]  \n"
     ]
    },
    {
     "name": "stdout",
     "output_type": "stream",
     "text": [
      "Epoch 742\n",
      "Train Loss: 0.3142, Train Accuracy: 88.05%\n",
      "Test Loss: 0.2630, Test Accuracy: 90.35%\n",
      "\n"
     ]
    },
    {
     "name": "stderr",
     "output_type": "stream",
     "text": [
      "Epoch 743: 100%|██████████| 938/938 [00:54<00:00, 17.12batch/s, Train Loss=0.314, Train Acc=88.2]\n"
     ]
    },
    {
     "name": "stdout",
     "output_type": "stream",
     "text": [
      "Epoch 743\n",
      "Train Loss: 0.3145, Train Accuracy: 88.19%\n",
      "Test Loss: 0.2598, Test Accuracy: 90.38%\n",
      "\n"
     ]
    },
    {
     "name": "stderr",
     "output_type": "stream",
     "text": [
      "Epoch 744: 100%|██████████| 938/938 [00:54<00:00, 17.07batch/s, Train Loss=0.316, Train Acc=88]  \n"
     ]
    },
    {
     "name": "stdout",
     "output_type": "stream",
     "text": [
      "Epoch 744\n",
      "Train Loss: 0.3159, Train Accuracy: 87.99%\n",
      "Test Loss: 0.2594, Test Accuracy: 90.35%\n",
      "\n"
     ]
    },
    {
     "name": "stderr",
     "output_type": "stream",
     "text": [
      "Epoch 745: 100%|██████████| 938/938 [00:54<00:00, 17.07batch/s, Train Loss=0.313, Train Acc=88.1]\n"
     ]
    },
    {
     "name": "stdout",
     "output_type": "stream",
     "text": [
      "Epoch 745\n",
      "Train Loss: 0.3132, Train Accuracy: 88.14%\n",
      "Test Loss: 0.2632, Test Accuracy: 89.98%\n",
      "\n"
     ]
    },
    {
     "name": "stderr",
     "output_type": "stream",
     "text": [
      "Epoch 746: 100%|██████████| 938/938 [00:54<00:00, 17.06batch/s, Train Loss=0.314, Train Acc=88.2]\n"
     ]
    },
    {
     "name": "stdout",
     "output_type": "stream",
     "text": [
      "Epoch 746\n",
      "Train Loss: 0.3138, Train Accuracy: 88.17%\n",
      "Test Loss: 0.2585, Test Accuracy: 90.34%\n",
      "\n"
     ]
    },
    {
     "name": "stderr",
     "output_type": "stream",
     "text": [
      "Epoch 747: 100%|██████████| 938/938 [00:54<00:00, 17.19batch/s, Train Loss=0.315, Train Acc=88]  \n"
     ]
    },
    {
     "name": "stdout",
     "output_type": "stream",
     "text": [
      "Epoch 747\n",
      "Train Loss: 0.3150, Train Accuracy: 88.00%\n",
      "Test Loss: 0.2581, Test Accuracy: 90.32%\n",
      "\n"
     ]
    },
    {
     "name": "stderr",
     "output_type": "stream",
     "text": [
      "Epoch 748: 100%|██████████| 938/938 [00:54<00:00, 17.11batch/s, Train Loss=0.312, Train Acc=88.2]\n"
     ]
    },
    {
     "name": "stdout",
     "output_type": "stream",
     "text": [
      "Epoch 748\n",
      "Train Loss: 0.3125, Train Accuracy: 88.25%\n",
      "Test Loss: 0.2601, Test Accuracy: 90.30%\n",
      "\n"
     ]
    },
    {
     "name": "stderr",
     "output_type": "stream",
     "text": [
      "Epoch 749: 100%|██████████| 938/938 [00:55<00:00, 16.99batch/s, Train Loss=0.315, Train Acc=88.1]\n"
     ]
    },
    {
     "name": "stdout",
     "output_type": "stream",
     "text": [
      "Epoch 749\n",
      "Train Loss: 0.3150, Train Accuracy: 88.11%\n",
      "Test Loss: 0.2569, Test Accuracy: 90.48%\n",
      "\n"
     ]
    },
    {
     "name": "stderr",
     "output_type": "stream",
     "text": [
      "Epoch 750: 100%|██████████| 938/938 [00:55<00:00, 17.04batch/s, Train Loss=0.31, Train Acc=88.2] \n"
     ]
    },
    {
     "name": "stdout",
     "output_type": "stream",
     "text": [
      "Epoch 750\n",
      "Train Loss: 0.3101, Train Accuracy: 88.23%\n",
      "Test Loss: 0.2517, Test Accuracy: 90.64%\n",
      "\n"
     ]
    },
    {
     "name": "stderr",
     "output_type": "stream",
     "text": [
      "Epoch 751: 100%|██████████| 938/938 [00:54<00:00, 17.08batch/s, Train Loss=0.311, Train Acc=88.2]\n"
     ]
    },
    {
     "name": "stdout",
     "output_type": "stream",
     "text": [
      "Epoch 751\n",
      "Train Loss: 0.3110, Train Accuracy: 88.20%\n",
      "Test Loss: 0.2580, Test Accuracy: 90.20%\n",
      "\n"
     ]
    },
    {
     "name": "stderr",
     "output_type": "stream",
     "text": [
      "Epoch 752: 100%|██████████| 938/938 [00:55<00:00, 17.02batch/s, Train Loss=0.311, Train Acc=88.3]\n"
     ]
    },
    {
     "name": "stdout",
     "output_type": "stream",
     "text": [
      "Epoch 752\n",
      "Train Loss: 0.3110, Train Accuracy: 88.33%\n",
      "Test Loss: 0.2543, Test Accuracy: 90.44%\n",
      "\n"
     ]
    },
    {
     "name": "stderr",
     "output_type": "stream",
     "text": [
      "Epoch 753: 100%|██████████| 938/938 [00:54<00:00, 17.06batch/s, Train Loss=0.309, Train Acc=88.3]\n"
     ]
    },
    {
     "name": "stdout",
     "output_type": "stream",
     "text": [
      "Epoch 753\n",
      "Train Loss: 0.3093, Train Accuracy: 88.29%\n",
      "Test Loss: 0.2571, Test Accuracy: 90.77%\n",
      "\n"
     ]
    },
    {
     "name": "stderr",
     "output_type": "stream",
     "text": [
      "Epoch 754: 100%|██████████| 938/938 [00:55<00:00, 17.00batch/s, Train Loss=0.308, Train Acc=88.3]\n"
     ]
    },
    {
     "name": "stdout",
     "output_type": "stream",
     "text": [
      "Epoch 754\n",
      "Train Loss: 0.3077, Train Accuracy: 88.33%\n",
      "Test Loss: 0.2596, Test Accuracy: 90.50%\n",
      "\n"
     ]
    },
    {
     "name": "stderr",
     "output_type": "stream",
     "text": [
      "Epoch 755: 100%|██████████| 938/938 [00:55<00:00, 16.99batch/s, Train Loss=0.307, Train Acc=88.4]\n"
     ]
    },
    {
     "name": "stdout",
     "output_type": "stream",
     "text": [
      "Epoch 755\n",
      "Train Loss: 0.3066, Train Accuracy: 88.37%\n",
      "Test Loss: 0.2585, Test Accuracy: 90.57%\n",
      "\n"
     ]
    },
    {
     "name": "stderr",
     "output_type": "stream",
     "text": [
      "Epoch 756: 100%|██████████| 938/938 [00:55<00:00, 16.98batch/s, Train Loss=0.306, Train Acc=88.5]\n"
     ]
    },
    {
     "name": "stdout",
     "output_type": "stream",
     "text": [
      "Epoch 756\n",
      "Train Loss: 0.3061, Train Accuracy: 88.45%\n",
      "Test Loss: 0.2642, Test Accuracy: 90.14%\n",
      "\n"
     ]
    },
    {
     "name": "stderr",
     "output_type": "stream",
     "text": [
      "Epoch 757: 100%|██████████| 938/938 [00:55<00:00, 17.03batch/s, Train Loss=0.305, Train Acc=88.5]\n"
     ]
    },
    {
     "name": "stdout",
     "output_type": "stream",
     "text": [
      "Epoch 757\n",
      "Train Loss: 0.3053, Train Accuracy: 88.54%\n",
      "Test Loss: 0.2641, Test Accuracy: 89.91%\n",
      "\n"
     ]
    },
    {
     "name": "stderr",
     "output_type": "stream",
     "text": [
      "Epoch 758: 100%|██████████| 938/938 [00:55<00:00, 16.97batch/s, Train Loss=0.306, Train Acc=88.4]\n"
     ]
    },
    {
     "name": "stdout",
     "output_type": "stream",
     "text": [
      "Epoch 758\n",
      "Train Loss: 0.3060, Train Accuracy: 88.40%\n",
      "Test Loss: 0.2557, Test Accuracy: 90.79%\n",
      "\n"
     ]
    },
    {
     "name": "stderr",
     "output_type": "stream",
     "text": [
      "Epoch 759: 100%|██████████| 938/938 [00:54<00:00, 17.09batch/s, Train Loss=0.304, Train Acc=88.4]\n"
     ]
    },
    {
     "name": "stdout",
     "output_type": "stream",
     "text": [
      "Epoch 759\n",
      "Train Loss: 0.3040, Train Accuracy: 88.42%\n",
      "Test Loss: 0.2558, Test Accuracy: 90.65%\n",
      "\n"
     ]
    },
    {
     "name": "stderr",
     "output_type": "stream",
     "text": [
      "Epoch 760: 100%|██████████| 938/938 [00:54<00:00, 17.16batch/s, Train Loss=0.306, Train Acc=88.4]\n"
     ]
    },
    {
     "name": "stdout",
     "output_type": "stream",
     "text": [
      "Epoch 760\n",
      "Train Loss: 0.3063, Train Accuracy: 88.41%\n",
      "Test Loss: 0.2584, Test Accuracy: 90.59%\n",
      "\n"
     ]
    },
    {
     "name": "stderr",
     "output_type": "stream",
     "text": [
      "Epoch 761: 100%|██████████| 938/938 [00:54<00:00, 17.10batch/s, Train Loss=0.303, Train Acc=88.6]\n"
     ]
    },
    {
     "name": "stdout",
     "output_type": "stream",
     "text": [
      "Epoch 761\n",
      "Train Loss: 0.3032, Train Accuracy: 88.59%\n",
      "Test Loss: 0.2559, Test Accuracy: 90.45%\n",
      "\n"
     ]
    },
    {
     "name": "stderr",
     "output_type": "stream",
     "text": [
      "Epoch 762: 100%|██████████| 938/938 [00:54<00:00, 17.06batch/s, Train Loss=0.301, Train Acc=88.5]\n"
     ]
    },
    {
     "name": "stdout",
     "output_type": "stream",
     "text": [
      "Epoch 762\n",
      "Train Loss: 0.3014, Train Accuracy: 88.50%\n",
      "Test Loss: 0.2504, Test Accuracy: 90.83%\n",
      "\n"
     ]
    },
    {
     "name": "stderr",
     "output_type": "stream",
     "text": [
      "Epoch 763: 100%|██████████| 938/938 [00:54<00:00, 17.25batch/s, Train Loss=0.301, Train Acc=88.5]\n"
     ]
    },
    {
     "name": "stdout",
     "output_type": "stream",
     "text": [
      "Epoch 763\n",
      "Train Loss: 0.3012, Train Accuracy: 88.46%\n",
      "Test Loss: 0.2612, Test Accuracy: 90.50%\n",
      "\n"
     ]
    },
    {
     "name": "stderr",
     "output_type": "stream",
     "text": [
      "Epoch 764: 100%|██████████| 938/938 [00:54<00:00, 17.17batch/s, Train Loss=0.302, Train Acc=88.4]\n"
     ]
    },
    {
     "name": "stdout",
     "output_type": "stream",
     "text": [
      "Epoch 764\n",
      "Train Loss: 0.3022, Train Accuracy: 88.44%\n",
      "Test Loss: 0.2513, Test Accuracy: 90.66%\n",
      "\n"
     ]
    },
    {
     "name": "stderr",
     "output_type": "stream",
     "text": [
      "Epoch 765: 100%|██████████| 938/938 [00:54<00:00, 17.17batch/s, Train Loss=0.3, Train Acc=88.5]  \n"
     ]
    },
    {
     "name": "stdout",
     "output_type": "stream",
     "text": [
      "Epoch 765\n",
      "Train Loss: 0.3004, Train Accuracy: 88.51%\n",
      "Test Loss: 0.2560, Test Accuracy: 90.52%\n",
      "\n"
     ]
    },
    {
     "name": "stderr",
     "output_type": "stream",
     "text": [
      "Epoch 766: 100%|██████████| 938/938 [00:54<00:00, 17.23batch/s, Train Loss=0.303, Train Acc=88.4]\n"
     ]
    },
    {
     "name": "stdout",
     "output_type": "stream",
     "text": [
      "Epoch 766\n",
      "Train Loss: 0.3033, Train Accuracy: 88.44%\n",
      "Test Loss: 0.2518, Test Accuracy: 90.58%\n",
      "\n"
     ]
    },
    {
     "name": "stderr",
     "output_type": "stream",
     "text": [
      "Epoch 767: 100%|██████████| 938/938 [00:54<00:00, 17.20batch/s, Train Loss=0.299, Train Acc=88.6]\n"
     ]
    },
    {
     "name": "stdout",
     "output_type": "stream",
     "text": [
      "Epoch 767\n",
      "Train Loss: 0.2993, Train Accuracy: 88.56%\n",
      "Test Loss: 0.2579, Test Accuracy: 90.49%\n",
      "\n"
     ]
    },
    {
     "name": "stderr",
     "output_type": "stream",
     "text": [
      "Epoch 768: 100%|██████████| 938/938 [00:54<00:00, 17.29batch/s, Train Loss=0.301, Train Acc=88.5]\n"
     ]
    },
    {
     "name": "stdout",
     "output_type": "stream",
     "text": [
      "Epoch 768\n",
      "Train Loss: 0.3008, Train Accuracy: 88.53%\n",
      "Test Loss: 0.2529, Test Accuracy: 90.70%\n",
      "\n"
     ]
    },
    {
     "name": "stderr",
     "output_type": "stream",
     "text": [
      "Epoch 769: 100%|██████████| 938/938 [00:54<00:00, 17.30batch/s, Train Loss=0.298, Train Acc=88.8]\n"
     ]
    },
    {
     "name": "stdout",
     "output_type": "stream",
     "text": [
      "Epoch 769\n",
      "Train Loss: 0.2982, Train Accuracy: 88.76%\n",
      "Test Loss: 0.2500, Test Accuracy: 90.63%\n",
      "\n"
     ]
    },
    {
     "name": "stderr",
     "output_type": "stream",
     "text": [
      "Epoch 770: 100%|██████████| 938/938 [00:54<00:00, 17.20batch/s, Train Loss=0.298, Train Acc=88.7]\n"
     ]
    },
    {
     "name": "stdout",
     "output_type": "stream",
     "text": [
      "Epoch 770\n",
      "Train Loss: 0.2984, Train Accuracy: 88.73%\n",
      "Test Loss: 0.2534, Test Accuracy: 90.67%\n",
      "\n"
     ]
    },
    {
     "name": "stderr",
     "output_type": "stream",
     "text": [
      "Epoch 771: 100%|██████████| 938/938 [00:54<00:00, 17.31batch/s, Train Loss=0.297, Train Acc=88.8]\n"
     ]
    },
    {
     "name": "stdout",
     "output_type": "stream",
     "text": [
      "Epoch 771\n",
      "Train Loss: 0.2967, Train Accuracy: 88.78%\n",
      "Test Loss: 0.2476, Test Accuracy: 90.83%\n",
      "\n"
     ]
    },
    {
     "name": "stderr",
     "output_type": "stream",
     "text": [
      "Epoch 772: 100%|██████████| 938/938 [00:54<00:00, 17.23batch/s, Train Loss=0.297, Train Acc=88.7]\n"
     ]
    },
    {
     "name": "stdout",
     "output_type": "stream",
     "text": [
      "Epoch 772\n",
      "Train Loss: 0.2969, Train Accuracy: 88.71%\n",
      "Test Loss: 0.2593, Test Accuracy: 90.51%\n",
      "\n"
     ]
    },
    {
     "name": "stderr",
     "output_type": "stream",
     "text": [
      "Epoch 773: 100%|██████████| 938/938 [00:54<00:00, 17.27batch/s, Train Loss=0.295, Train Acc=88.8]\n"
     ]
    },
    {
     "name": "stdout",
     "output_type": "stream",
     "text": [
      "Epoch 773\n",
      "Train Loss: 0.2951, Train Accuracy: 88.83%\n",
      "Test Loss: 0.2605, Test Accuracy: 90.67%\n",
      "\n"
     ]
    },
    {
     "name": "stderr",
     "output_type": "stream",
     "text": [
      "Epoch 774: 100%|██████████| 938/938 [00:54<00:00, 17.22batch/s, Train Loss=0.296, Train Acc=88.7]\n"
     ]
    },
    {
     "name": "stdout",
     "output_type": "stream",
     "text": [
      "Epoch 774\n",
      "Train Loss: 0.2961, Train Accuracy: 88.70%\n",
      "Test Loss: 0.2592, Test Accuracy: 90.54%\n",
      "\n"
     ]
    },
    {
     "name": "stderr",
     "output_type": "stream",
     "text": [
      "Epoch 775: 100%|██████████| 938/938 [00:54<00:00, 17.19batch/s, Train Loss=0.296, Train Acc=88.9]\n"
     ]
    },
    {
     "name": "stdout",
     "output_type": "stream",
     "text": [
      "Epoch 775\n",
      "Train Loss: 0.2959, Train Accuracy: 88.89%\n",
      "Test Loss: 0.2608, Test Accuracy: 90.50%\n",
      "\n"
     ]
    },
    {
     "name": "stderr",
     "output_type": "stream",
     "text": [
      "Epoch 776: 100%|██████████| 938/938 [00:54<00:00, 17.34batch/s, Train Loss=0.293, Train Acc=88.8]\n"
     ]
    },
    {
     "name": "stdout",
     "output_type": "stream",
     "text": [
      "Epoch 776\n",
      "Train Loss: 0.2933, Train Accuracy: 88.78%\n",
      "Test Loss: 0.2621, Test Accuracy: 90.36%\n",
      "\n"
     ]
    },
    {
     "name": "stderr",
     "output_type": "stream",
     "text": [
      "Epoch 777: 100%|██████████| 938/938 [00:54<00:00, 17.31batch/s, Train Loss=0.295, Train Acc=88.8]\n"
     ]
    },
    {
     "name": "stdout",
     "output_type": "stream",
     "text": [
      "Epoch 777\n",
      "Train Loss: 0.2955, Train Accuracy: 88.76%\n",
      "Test Loss: 0.2490, Test Accuracy: 90.98%\n",
      "\n"
     ]
    },
    {
     "name": "stderr",
     "output_type": "stream",
     "text": [
      "Epoch 778: 100%|██████████| 938/938 [00:54<00:00, 17.31batch/s, Train Loss=0.295, Train Acc=88.7]\n"
     ]
    },
    {
     "name": "stdout",
     "output_type": "stream",
     "text": [
      "Epoch 778\n",
      "Train Loss: 0.2955, Train Accuracy: 88.74%\n",
      "Test Loss: 0.2529, Test Accuracy: 90.56%\n",
      "\n"
     ]
    },
    {
     "name": "stderr",
     "output_type": "stream",
     "text": [
      "Epoch 779: 100%|██████████| 938/938 [00:54<00:00, 17.32batch/s, Train Loss=0.293, Train Acc=88.7]\n"
     ]
    },
    {
     "name": "stdout",
     "output_type": "stream",
     "text": [
      "Epoch 779\n",
      "Train Loss: 0.2933, Train Accuracy: 88.73%\n",
      "Test Loss: 0.2674, Test Accuracy: 90.37%\n",
      "\n"
     ]
    },
    {
     "name": "stderr",
     "output_type": "stream",
     "text": [
      "Epoch 780: 100%|██████████| 938/938 [00:54<00:00, 17.36batch/s, Train Loss=0.291, Train Acc=88.9]\n"
     ]
    },
    {
     "name": "stdout",
     "output_type": "stream",
     "text": [
      "Epoch 780\n",
      "Train Loss: 0.2914, Train Accuracy: 88.93%\n",
      "Test Loss: 0.2630, Test Accuracy: 90.46%\n",
      "\n"
     ]
    },
    {
     "name": "stderr",
     "output_type": "stream",
     "text": [
      "Epoch 781: 100%|██████████| 938/938 [00:54<00:00, 17.32batch/s, Train Loss=0.294, Train Acc=88.9]\n"
     ]
    },
    {
     "name": "stdout",
     "output_type": "stream",
     "text": [
      "Epoch 781\n",
      "Train Loss: 0.2943, Train Accuracy: 88.87%\n",
      "Test Loss: 0.2512, Test Accuracy: 90.82%\n",
      "\n"
     ]
    },
    {
     "name": "stderr",
     "output_type": "stream",
     "text": [
      "Epoch 782: 100%|██████████| 938/938 [00:53<00:00, 17.37batch/s, Train Loss=0.29, Train Acc=88.9] \n"
     ]
    },
    {
     "name": "stdout",
     "output_type": "stream",
     "text": [
      "Epoch 782\n",
      "Train Loss: 0.2903, Train Accuracy: 88.90%\n",
      "Test Loss: 0.2437, Test Accuracy: 91.05%\n",
      "\n"
     ]
    },
    {
     "name": "stderr",
     "output_type": "stream",
     "text": [
      "Epoch 783: 100%|██████████| 938/938 [00:54<00:00, 17.31batch/s, Train Loss=0.29, Train Acc=88.9] \n"
     ]
    },
    {
     "name": "stdout",
     "output_type": "stream",
     "text": [
      "Epoch 783\n",
      "Train Loss: 0.2896, Train Accuracy: 88.86%\n",
      "Test Loss: 0.2453, Test Accuracy: 91.04%\n",
      "\n"
     ]
    },
    {
     "name": "stderr",
     "output_type": "stream",
     "text": [
      "Epoch 784: 100%|██████████| 938/938 [00:54<00:00, 17.18batch/s, Train Loss=0.289, Train Acc=89]  \n"
     ]
    },
    {
     "name": "stdout",
     "output_type": "stream",
     "text": [
      "Epoch 784\n",
      "Train Loss: 0.2886, Train Accuracy: 89.01%\n",
      "Test Loss: 0.2486, Test Accuracy: 90.85%\n",
      "\n"
     ]
    },
    {
     "name": "stderr",
     "output_type": "stream",
     "text": [
      "Epoch 785: 100%|██████████| 938/938 [00:54<00:00, 17.32batch/s, Train Loss=0.287, Train Acc=89.2]\n"
     ]
    },
    {
     "name": "stdout",
     "output_type": "stream",
     "text": [
      "Epoch 785\n",
      "Train Loss: 0.2868, Train Accuracy: 89.15%\n",
      "Test Loss: 0.2462, Test Accuracy: 91.05%\n",
      "\n"
     ]
    },
    {
     "name": "stderr",
     "output_type": "stream",
     "text": [
      "Epoch 786: 100%|██████████| 938/938 [00:53<00:00, 17.39batch/s, Train Loss=0.29, Train Acc=89]   \n"
     ]
    },
    {
     "name": "stdout",
     "output_type": "stream",
     "text": [
      "Epoch 786\n",
      "Train Loss: 0.2898, Train Accuracy: 89.01%\n",
      "Test Loss: 0.2443, Test Accuracy: 91.09%\n",
      "\n"
     ]
    },
    {
     "name": "stderr",
     "output_type": "stream",
     "text": [
      "Epoch 787: 100%|██████████| 938/938 [00:54<00:00, 17.35batch/s, Train Loss=0.286, Train Acc=89.1]\n"
     ]
    },
    {
     "name": "stdout",
     "output_type": "stream",
     "text": [
      "Epoch 787\n",
      "Train Loss: 0.2864, Train Accuracy: 89.11%\n",
      "Test Loss: 0.2473, Test Accuracy: 90.97%\n",
      "\n"
     ]
    },
    {
     "name": "stderr",
     "output_type": "stream",
     "text": [
      "Epoch 788: 100%|██████████| 938/938 [00:53<00:00, 17.40batch/s, Train Loss=0.286, Train Acc=89.1]\n"
     ]
    },
    {
     "name": "stdout",
     "output_type": "stream",
     "text": [
      "Epoch 788\n",
      "Train Loss: 0.2861, Train Accuracy: 89.12%\n",
      "Test Loss: 0.2449, Test Accuracy: 91.05%\n",
      "\n"
     ]
    },
    {
     "name": "stderr",
     "output_type": "stream",
     "text": [
      "Epoch 789: 100%|██████████| 938/938 [00:54<00:00, 17.32batch/s, Train Loss=0.285, Train Acc=89.3]\n"
     ]
    },
    {
     "name": "stdout",
     "output_type": "stream",
     "text": [
      "Epoch 789\n",
      "Train Loss: 0.2845, Train Accuracy: 89.29%\n",
      "Test Loss: 0.2517, Test Accuracy: 91.03%\n",
      "\n"
     ]
    },
    {
     "name": "stderr",
     "output_type": "stream",
     "text": [
      "Epoch 790: 100%|██████████| 938/938 [00:53<00:00, 17.48batch/s, Train Loss=0.285, Train Acc=89.2]\n"
     ]
    },
    {
     "name": "stdout",
     "output_type": "stream",
     "text": [
      "Epoch 790\n",
      "Train Loss: 0.2849, Train Accuracy: 89.18%\n",
      "Test Loss: 0.2434, Test Accuracy: 91.03%\n",
      "\n"
     ]
    },
    {
     "name": "stderr",
     "output_type": "stream",
     "text": [
      "Epoch 791: 100%|██████████| 938/938 [00:53<00:00, 17.39batch/s, Train Loss=0.286, Train Acc=89.1]\n"
     ]
    },
    {
     "name": "stdout",
     "output_type": "stream",
     "text": [
      "Epoch 791\n",
      "Train Loss: 0.2859, Train Accuracy: 89.06%\n",
      "Test Loss: 0.2470, Test Accuracy: 90.91%\n",
      "\n"
     ]
    },
    {
     "name": "stderr",
     "output_type": "stream",
     "text": [
      "Epoch 792: 100%|██████████| 938/938 [00:54<00:00, 17.34batch/s, Train Loss=0.285, Train Acc=89.2]\n"
     ]
    },
    {
     "name": "stdout",
     "output_type": "stream",
     "text": [
      "Epoch 792\n",
      "Train Loss: 0.2851, Train Accuracy: 89.18%\n",
      "Test Loss: 0.2384, Test Accuracy: 91.11%\n",
      "\n"
     ]
    },
    {
     "name": "stderr",
     "output_type": "stream",
     "text": [
      "Epoch 793: 100%|██████████| 938/938 [00:54<00:00, 17.31batch/s, Train Loss=0.284, Train Acc=89.3]\n"
     ]
    },
    {
     "name": "stdout",
     "output_type": "stream",
     "text": [
      "Epoch 793\n",
      "Train Loss: 0.2838, Train Accuracy: 89.34%\n",
      "Test Loss: 0.2492, Test Accuracy: 90.83%\n",
      "\n"
     ]
    },
    {
     "name": "stderr",
     "output_type": "stream",
     "text": [
      "Epoch 794: 100%|██████████| 938/938 [00:54<00:00, 17.36batch/s, Train Loss=0.285, Train Acc=89.3]\n"
     ]
    },
    {
     "name": "stdout",
     "output_type": "stream",
     "text": [
      "Epoch 794\n",
      "Train Loss: 0.2850, Train Accuracy: 89.26%\n",
      "Test Loss: 0.2474, Test Accuracy: 90.96%\n",
      "\n"
     ]
    },
    {
     "name": "stderr",
     "output_type": "stream",
     "text": [
      "Epoch 795: 100%|██████████| 938/938 [00:54<00:00, 17.31batch/s, Train Loss=0.281, Train Acc=89.4]\n"
     ]
    },
    {
     "name": "stdout",
     "output_type": "stream",
     "text": [
      "Epoch 795\n",
      "Train Loss: 0.2806, Train Accuracy: 89.37%\n",
      "Test Loss: 0.2435, Test Accuracy: 90.95%\n",
      "\n"
     ]
    },
    {
     "name": "stderr",
     "output_type": "stream",
     "text": [
      "Epoch 796: 100%|██████████| 938/938 [00:53<00:00, 17.38batch/s, Train Loss=0.284, Train Acc=89.2]\n"
     ]
    },
    {
     "name": "stdout",
     "output_type": "stream",
     "text": [
      "Epoch 796\n",
      "Train Loss: 0.2844, Train Accuracy: 89.24%\n",
      "Test Loss: 0.2463, Test Accuracy: 91.10%\n",
      "\n"
     ]
    },
    {
     "name": "stderr",
     "output_type": "stream",
     "text": [
      "Epoch 797: 100%|██████████| 938/938 [00:54<00:00, 17.35batch/s, Train Loss=0.282, Train Acc=89.4]\n"
     ]
    },
    {
     "name": "stdout",
     "output_type": "stream",
     "text": [
      "Epoch 797\n",
      "Train Loss: 0.2822, Train Accuracy: 89.39%\n",
      "Test Loss: 0.2414, Test Accuracy: 91.22%\n",
      "\n"
     ]
    },
    {
     "name": "stderr",
     "output_type": "stream",
     "text": [
      "Epoch 798: 100%|██████████| 938/938 [00:54<00:00, 17.24batch/s, Train Loss=0.281, Train Acc=89.2]\n"
     ]
    },
    {
     "name": "stdout",
     "output_type": "stream",
     "text": [
      "Epoch 798\n",
      "Train Loss: 0.2814, Train Accuracy: 89.25%\n",
      "Test Loss: 0.2388, Test Accuracy: 91.47%\n",
      "\n"
     ]
    },
    {
     "name": "stderr",
     "output_type": "stream",
     "text": [
      "Epoch 799: 100%|██████████| 938/938 [00:54<00:00, 17.35batch/s, Train Loss=0.28, Train Acc=89.3] \n"
     ]
    },
    {
     "name": "stdout",
     "output_type": "stream",
     "text": [
      "Epoch 799\n",
      "Train Loss: 0.2796, Train Accuracy: 89.31%\n",
      "Test Loss: 0.2400, Test Accuracy: 91.48%\n",
      "\n"
     ]
    },
    {
     "name": "stderr",
     "output_type": "stream",
     "text": [
      "Epoch 800: 100%|██████████| 938/938 [00:54<00:00, 17.33batch/s, Train Loss=0.28, Train Acc=89.2] \n"
     ]
    },
    {
     "name": "stdout",
     "output_type": "stream",
     "text": [
      "Epoch 800\n",
      "Train Loss: 0.2805, Train Accuracy: 89.25%\n",
      "Test Loss: 0.2424, Test Accuracy: 91.04%\n",
      "\n"
     ]
    },
    {
     "name": "stderr",
     "output_type": "stream",
     "text": [
      "Epoch 801: 100%|██████████| 938/938 [00:54<00:00, 17.28batch/s, Train Loss=0.279, Train Acc=89.3]\n"
     ]
    },
    {
     "name": "stdout",
     "output_type": "stream",
     "text": [
      "Epoch 801\n",
      "Train Loss: 0.2794, Train Accuracy: 89.33%\n",
      "Test Loss: 0.2456, Test Accuracy: 91.02%\n",
      "\n"
     ]
    },
    {
     "name": "stderr",
     "output_type": "stream",
     "text": [
      "Epoch 802: 100%|██████████| 938/938 [00:54<00:00, 17.25batch/s, Train Loss=0.281, Train Acc=89.3]\n"
     ]
    },
    {
     "name": "stdout",
     "output_type": "stream",
     "text": [
      "Epoch 802\n",
      "Train Loss: 0.2806, Train Accuracy: 89.31%\n",
      "Test Loss: 0.2441, Test Accuracy: 91.00%\n",
      "\n"
     ]
    },
    {
     "name": "stderr",
     "output_type": "stream",
     "text": [
      "Epoch 803: 100%|██████████| 938/938 [00:54<00:00, 17.17batch/s, Train Loss=0.28, Train Acc=89.3] \n"
     ]
    },
    {
     "name": "stdout",
     "output_type": "stream",
     "text": [
      "Epoch 803\n",
      "Train Loss: 0.2797, Train Accuracy: 89.27%\n",
      "Test Loss: 0.2412, Test Accuracy: 91.13%\n",
      "\n"
     ]
    },
    {
     "name": "stderr",
     "output_type": "stream",
     "text": [
      "Epoch 804: 100%|██████████| 938/938 [00:54<00:00, 17.23batch/s, Train Loss=0.276, Train Acc=89.6]\n"
     ]
    },
    {
     "name": "stdout",
     "output_type": "stream",
     "text": [
      "Epoch 804\n",
      "Train Loss: 0.2761, Train Accuracy: 89.61%\n",
      "Test Loss: 0.2415, Test Accuracy: 91.12%\n",
      "\n"
     ]
    },
    {
     "name": "stderr",
     "output_type": "stream",
     "text": [
      "Epoch 805: 100%|██████████| 938/938 [00:54<00:00, 17.15batch/s, Train Loss=0.277, Train Acc=89.5]\n"
     ]
    },
    {
     "name": "stdout",
     "output_type": "stream",
     "text": [
      "Epoch 805\n",
      "Train Loss: 0.2769, Train Accuracy: 89.49%\n",
      "Test Loss: 0.2464, Test Accuracy: 90.90%\n",
      "\n"
     ]
    },
    {
     "name": "stderr",
     "output_type": "stream",
     "text": [
      "Epoch 806: 100%|██████████| 938/938 [00:54<00:00, 17.17batch/s, Train Loss=0.282, Train Acc=89.2]\n"
     ]
    },
    {
     "name": "stdout",
     "output_type": "stream",
     "text": [
      "Epoch 806\n",
      "Train Loss: 0.2816, Train Accuracy: 89.17%\n",
      "Test Loss: 0.2378, Test Accuracy: 91.47%\n",
      "\n"
     ]
    },
    {
     "name": "stderr",
     "output_type": "stream",
     "text": [
      "Epoch 807: 100%|██████████| 938/938 [00:55<00:00, 17.03batch/s, Train Loss=0.279, Train Acc=89.4]\n"
     ]
    },
    {
     "name": "stdout",
     "output_type": "stream",
     "text": [
      "Epoch 807\n",
      "Train Loss: 0.2787, Train Accuracy: 89.38%\n",
      "Test Loss: 0.2396, Test Accuracy: 91.40%\n",
      "\n"
     ]
    },
    {
     "name": "stderr",
     "output_type": "stream",
     "text": [
      "Epoch 808: 100%|██████████| 938/938 [00:55<00:00, 17.01batch/s, Train Loss=0.276, Train Acc=89.5]\n"
     ]
    },
    {
     "name": "stdout",
     "output_type": "stream",
     "text": [
      "Epoch 808\n",
      "Train Loss: 0.2760, Train Accuracy: 89.47%\n",
      "Test Loss: 0.2389, Test Accuracy: 91.08%\n",
      "\n"
     ]
    },
    {
     "name": "stderr",
     "output_type": "stream",
     "text": [
      "Epoch 809: 100%|██████████| 938/938 [00:55<00:00, 17.02batch/s, Train Loss=0.274, Train Acc=89.6]\n"
     ]
    },
    {
     "name": "stdout",
     "output_type": "stream",
     "text": [
      "Epoch 809\n",
      "Train Loss: 0.2742, Train Accuracy: 89.57%\n",
      "Test Loss: 0.2400, Test Accuracy: 91.31%\n",
      "\n"
     ]
    },
    {
     "name": "stderr",
     "output_type": "stream",
     "text": [
      "Epoch 810: 100%|██████████| 938/938 [00:54<00:00, 17.14batch/s, Train Loss=0.277, Train Acc=89.4]\n"
     ]
    },
    {
     "name": "stdout",
     "output_type": "stream",
     "text": [
      "Epoch 810\n",
      "Train Loss: 0.2766, Train Accuracy: 89.44%\n",
      "Test Loss: 0.2399, Test Accuracy: 91.22%\n",
      "\n"
     ]
    },
    {
     "name": "stderr",
     "output_type": "stream",
     "text": [
      "Epoch 811: 100%|██████████| 938/938 [00:54<00:00, 17.13batch/s, Train Loss=0.274, Train Acc=89.6]\n"
     ]
    },
    {
     "name": "stdout",
     "output_type": "stream",
     "text": [
      "Epoch 811\n",
      "Train Loss: 0.2736, Train Accuracy: 89.60%\n",
      "Test Loss: 0.2447, Test Accuracy: 91.14%\n",
      "\n"
     ]
    },
    {
     "name": "stderr",
     "output_type": "stream",
     "text": [
      "Epoch 812: 100%|██████████| 938/938 [00:54<00:00, 17.07batch/s, Train Loss=0.275, Train Acc=89.4]\n"
     ]
    },
    {
     "name": "stdout",
     "output_type": "stream",
     "text": [
      "Epoch 812\n",
      "Train Loss: 0.2753, Train Accuracy: 89.38%\n",
      "Test Loss: 0.2389, Test Accuracy: 91.32%\n",
      "\n"
     ]
    },
    {
     "name": "stderr",
     "output_type": "stream",
     "text": [
      "Epoch 813: 100%|██████████| 938/938 [00:54<00:00, 17.13batch/s, Train Loss=0.273, Train Acc=89.5]\n"
     ]
    },
    {
     "name": "stdout",
     "output_type": "stream",
     "text": [
      "Epoch 813\n",
      "Train Loss: 0.2735, Train Accuracy: 89.52%\n",
      "Test Loss: 0.2405, Test Accuracy: 91.16%\n",
      "\n"
     ]
    },
    {
     "name": "stderr",
     "output_type": "stream",
     "text": [
      "Epoch 814: 100%|██████████| 938/938 [00:54<00:00, 17.10batch/s, Train Loss=0.276, Train Acc=89.5]\n"
     ]
    },
    {
     "name": "stdout",
     "output_type": "stream",
     "text": [
      "Epoch 814\n",
      "Train Loss: 0.2759, Train Accuracy: 89.47%\n",
      "Test Loss: 0.2385, Test Accuracy: 91.42%\n",
      "\n"
     ]
    },
    {
     "name": "stderr",
     "output_type": "stream",
     "text": [
      "Epoch 815: 100%|██████████| 938/938 [00:54<00:00, 17.19batch/s, Train Loss=0.274, Train Acc=89.5]\n"
     ]
    },
    {
     "name": "stdout",
     "output_type": "stream",
     "text": [
      "Epoch 815\n",
      "Train Loss: 0.2737, Train Accuracy: 89.55%\n",
      "Test Loss: 0.2385, Test Accuracy: 91.31%\n",
      "\n"
     ]
    },
    {
     "name": "stderr",
     "output_type": "stream",
     "text": [
      "Epoch 816: 100%|██████████| 938/938 [00:54<00:00, 17.28batch/s, Train Loss=0.274, Train Acc=89.6]\n"
     ]
    },
    {
     "name": "stdout",
     "output_type": "stream",
     "text": [
      "Epoch 816\n",
      "Train Loss: 0.2744, Train Accuracy: 89.58%\n",
      "Test Loss: 0.2368, Test Accuracy: 91.27%\n",
      "\n"
     ]
    },
    {
     "name": "stderr",
     "output_type": "stream",
     "text": [
      "Epoch 817: 100%|██████████| 938/938 [00:54<00:00, 17.19batch/s, Train Loss=0.27, Train Acc=89.7] \n"
     ]
    },
    {
     "name": "stdout",
     "output_type": "stream",
     "text": [
      "Epoch 817\n",
      "Train Loss: 0.2703, Train Accuracy: 89.75%\n",
      "Test Loss: 0.2383, Test Accuracy: 91.28%\n",
      "\n"
     ]
    },
    {
     "name": "stderr",
     "output_type": "stream",
     "text": [
      "Epoch 818: 100%|██████████| 938/938 [00:54<00:00, 17.36batch/s, Train Loss=0.272, Train Acc=89.6]\n"
     ]
    },
    {
     "name": "stdout",
     "output_type": "stream",
     "text": [
      "Epoch 818\n",
      "Train Loss: 0.2721, Train Accuracy: 89.56%\n",
      "Test Loss: 0.2361, Test Accuracy: 91.46%\n",
      "\n"
     ]
    },
    {
     "name": "stderr",
     "output_type": "stream",
     "text": [
      "Epoch 819: 100%|██████████| 938/938 [00:54<00:00, 17.20batch/s, Train Loss=0.269, Train Acc=89.8]\n"
     ]
    },
    {
     "name": "stdout",
     "output_type": "stream",
     "text": [
      "Epoch 819\n",
      "Train Loss: 0.2695, Train Accuracy: 89.76%\n",
      "Test Loss: 0.2404, Test Accuracy: 91.42%\n",
      "\n"
     ]
    },
    {
     "name": "stderr",
     "output_type": "stream",
     "text": [
      "Epoch 820: 100%|██████████| 938/938 [00:54<00:00, 17.30batch/s, Train Loss=0.275, Train Acc=89.6]\n"
     ]
    },
    {
     "name": "stdout",
     "output_type": "stream",
     "text": [
      "Epoch 820\n",
      "Train Loss: 0.2749, Train Accuracy: 89.57%\n",
      "Test Loss: 0.2429, Test Accuracy: 91.19%\n",
      "\n"
     ]
    },
    {
     "name": "stderr",
     "output_type": "stream",
     "text": [
      "Epoch 821: 100%|██████████| 938/938 [00:54<00:00, 17.35batch/s, Train Loss=0.272, Train Acc=89.6]\n"
     ]
    },
    {
     "name": "stdout",
     "output_type": "stream",
     "text": [
      "Epoch 821\n",
      "Train Loss: 0.2715, Train Accuracy: 89.56%\n",
      "Test Loss: 0.2371, Test Accuracy: 91.48%\n",
      "\n"
     ]
    },
    {
     "name": "stderr",
     "output_type": "stream",
     "text": [
      "Epoch 822: 100%|██████████| 938/938 [00:54<00:00, 17.31batch/s, Train Loss=0.269, Train Acc=89.9]\n"
     ]
    },
    {
     "name": "stdout",
     "output_type": "stream",
     "text": [
      "Epoch 822\n",
      "Train Loss: 0.2685, Train Accuracy: 89.86%\n",
      "Test Loss: 0.2431, Test Accuracy: 91.08%\n",
      "\n"
     ]
    },
    {
     "name": "stderr",
     "output_type": "stream",
     "text": [
      "Epoch 823: 100%|██████████| 938/938 [00:54<00:00, 17.32batch/s, Train Loss=0.271, Train Acc=89.7]\n"
     ]
    },
    {
     "name": "stdout",
     "output_type": "stream",
     "text": [
      "Epoch 823\n",
      "Train Loss: 0.2712, Train Accuracy: 89.68%\n",
      "Test Loss: 0.2417, Test Accuracy: 91.11%\n",
      "\n"
     ]
    },
    {
     "name": "stderr",
     "output_type": "stream",
     "text": [
      "Epoch 824: 100%|██████████| 938/938 [00:54<00:00, 17.35batch/s, Train Loss=0.268, Train Acc=89.8]\n"
     ]
    },
    {
     "name": "stdout",
     "output_type": "stream",
     "text": [
      "Epoch 824\n",
      "Train Loss: 0.2683, Train Accuracy: 89.78%\n",
      "Test Loss: 0.2449, Test Accuracy: 90.80%\n",
      "\n"
     ]
    },
    {
     "name": "stderr",
     "output_type": "stream",
     "text": [
      "Epoch 825: 100%|██████████| 938/938 [00:54<00:00, 17.32batch/s, Train Loss=0.271, Train Acc=89.7]\n"
     ]
    },
    {
     "name": "stdout",
     "output_type": "stream",
     "text": [
      "Epoch 825\n",
      "Train Loss: 0.2715, Train Accuracy: 89.74%\n",
      "Test Loss: 0.2385, Test Accuracy: 91.10%\n",
      "\n"
     ]
    },
    {
     "name": "stderr",
     "output_type": "stream",
     "text": [
      "Epoch 826: 100%|██████████| 938/938 [00:54<00:00, 17.25batch/s, Train Loss=0.268, Train Acc=89.7]\n"
     ]
    },
    {
     "name": "stdout",
     "output_type": "stream",
     "text": [
      "Epoch 826\n",
      "Train Loss: 0.2682, Train Accuracy: 89.72%\n",
      "Test Loss: 0.2388, Test Accuracy: 91.17%\n",
      "\n"
     ]
    },
    {
     "name": "stderr",
     "output_type": "stream",
     "text": [
      "Epoch 827: 100%|██████████| 938/938 [00:54<00:00, 17.34batch/s, Train Loss=0.266, Train Acc=89.9]\n"
     ]
    },
    {
     "name": "stdout",
     "output_type": "stream",
     "text": [
      "Epoch 827\n",
      "Train Loss: 0.2661, Train Accuracy: 89.93%\n",
      "Test Loss: 0.2406, Test Accuracy: 91.18%\n",
      "\n"
     ]
    },
    {
     "name": "stderr",
     "output_type": "stream",
     "text": [
      "Epoch 828: 100%|██████████| 938/938 [00:54<00:00, 17.32batch/s, Train Loss=0.269, Train Acc=89.8]\n"
     ]
    },
    {
     "name": "stdout",
     "output_type": "stream",
     "text": [
      "Epoch 828\n",
      "Train Loss: 0.2688, Train Accuracy: 89.81%\n",
      "Test Loss: 0.2335, Test Accuracy: 91.56%\n",
      "\n"
     ]
    },
    {
     "name": "stderr",
     "output_type": "stream",
     "text": [
      "Epoch 829: 100%|██████████| 938/938 [00:54<00:00, 17.24batch/s, Train Loss=0.267, Train Acc=89.8]\n"
     ]
    },
    {
     "name": "stdout",
     "output_type": "stream",
     "text": [
      "Epoch 829\n",
      "Train Loss: 0.2675, Train Accuracy: 89.81%\n",
      "Test Loss: 0.2347, Test Accuracy: 91.53%\n",
      "\n"
     ]
    },
    {
     "name": "stderr",
     "output_type": "stream",
     "text": [
      "Epoch 830: 100%|██████████| 938/938 [00:54<00:00, 17.27batch/s, Train Loss=0.268, Train Acc=89.9]\n"
     ]
    },
    {
     "name": "stdout",
     "output_type": "stream",
     "text": [
      "Epoch 830\n",
      "Train Loss: 0.2680, Train Accuracy: 89.89%\n",
      "Test Loss: 0.2362, Test Accuracy: 91.29%\n",
      "\n"
     ]
    },
    {
     "name": "stderr",
     "output_type": "stream",
     "text": [
      "Epoch 831: 100%|██████████| 938/938 [00:54<00:00, 17.29batch/s, Train Loss=0.265, Train Acc=89.8]\n"
     ]
    },
    {
     "name": "stdout",
     "output_type": "stream",
     "text": [
      "Epoch 831\n",
      "Train Loss: 0.2648, Train Accuracy: 89.81%\n",
      "Test Loss: 0.2401, Test Accuracy: 91.17%\n",
      "\n"
     ]
    },
    {
     "name": "stderr",
     "output_type": "stream",
     "text": [
      "Epoch 832: 100%|██████████| 938/938 [00:54<00:00, 17.30batch/s, Train Loss=0.264, Train Acc=89.9]\n"
     ]
    },
    {
     "name": "stdout",
     "output_type": "stream",
     "text": [
      "Epoch 832\n",
      "Train Loss: 0.2637, Train Accuracy: 89.89%\n",
      "Test Loss: 0.2345, Test Accuracy: 91.30%\n",
      "\n"
     ]
    },
    {
     "name": "stderr",
     "output_type": "stream",
     "text": [
      "Epoch 833: 100%|██████████| 938/938 [00:53<00:00, 17.40batch/s, Train Loss=0.266, Train Acc=90]  \n"
     ]
    },
    {
     "name": "stdout",
     "output_type": "stream",
     "text": [
      "Epoch 833\n",
      "Train Loss: 0.2656, Train Accuracy: 90.00%\n",
      "Test Loss: 0.2314, Test Accuracy: 91.56%\n",
      "\n"
     ]
    },
    {
     "name": "stderr",
     "output_type": "stream",
     "text": [
      "Epoch 834: 100%|██████████| 938/938 [00:54<00:00, 17.31batch/s, Train Loss=0.267, Train Acc=89.9]\n"
     ]
    },
    {
     "name": "stdout",
     "output_type": "stream",
     "text": [
      "Epoch 834\n",
      "Train Loss: 0.2667, Train Accuracy: 89.86%\n",
      "Test Loss: 0.2304, Test Accuracy: 91.62%\n",
      "\n"
     ]
    },
    {
     "name": "stderr",
     "output_type": "stream",
     "text": [
      "Epoch 835: 100%|██████████| 938/938 [00:53<00:00, 17.38batch/s, Train Loss=0.266, Train Acc=89.8]\n"
     ]
    },
    {
     "name": "stdout",
     "output_type": "stream",
     "text": [
      "Epoch 835\n",
      "Train Loss: 0.2657, Train Accuracy: 89.81%\n",
      "Test Loss: 0.2295, Test Accuracy: 91.81%\n",
      "\n"
     ]
    },
    {
     "name": "stderr",
     "output_type": "stream",
     "text": [
      "Epoch 836: 100%|██████████| 938/938 [00:53<00:00, 17.38batch/s, Train Loss=0.267, Train Acc=89.9]\n"
     ]
    },
    {
     "name": "stdout",
     "output_type": "stream",
     "text": [
      "Epoch 836\n",
      "Train Loss: 0.2672, Train Accuracy: 89.86%\n",
      "Test Loss: 0.2347, Test Accuracy: 91.49%\n",
      "\n"
     ]
    },
    {
     "name": "stderr",
     "output_type": "stream",
     "text": [
      "Epoch 837: 100%|██████████| 938/938 [00:54<00:00, 17.35batch/s, Train Loss=0.265, Train Acc=89.9]\n"
     ]
    },
    {
     "name": "stdout",
     "output_type": "stream",
     "text": [
      "Epoch 837\n",
      "Train Loss: 0.2648, Train Accuracy: 89.90%\n",
      "Test Loss: 0.2341, Test Accuracy: 91.66%\n",
      "\n"
     ]
    },
    {
     "name": "stderr",
     "output_type": "stream",
     "text": [
      "Epoch 838: 100%|██████████| 938/938 [00:54<00:00, 17.34batch/s, Train Loss=0.265, Train Acc=89.8]\n"
     ]
    },
    {
     "name": "stdout",
     "output_type": "stream",
     "text": [
      "Epoch 838\n",
      "Train Loss: 0.2653, Train Accuracy: 89.81%\n",
      "Test Loss: 0.2371, Test Accuracy: 91.54%\n",
      "\n"
     ]
    },
    {
     "name": "stderr",
     "output_type": "stream",
     "text": [
      "Epoch 839: 100%|██████████| 938/938 [00:54<00:00, 17.36batch/s, Train Loss=0.26, Train Acc=90]   \n"
     ]
    },
    {
     "name": "stdout",
     "output_type": "stream",
     "text": [
      "Epoch 839\n",
      "Train Loss: 0.2603, Train Accuracy: 90.01%\n",
      "Test Loss: 0.2348, Test Accuracy: 91.42%\n",
      "\n"
     ]
    },
    {
     "name": "stderr",
     "output_type": "stream",
     "text": [
      "Epoch 840: 100%|██████████| 938/938 [00:53<00:00, 17.41batch/s, Train Loss=0.261, Train Acc=90]  \n"
     ]
    },
    {
     "name": "stdout",
     "output_type": "stream",
     "text": [
      "Epoch 840\n",
      "Train Loss: 0.2614, Train Accuracy: 89.97%\n",
      "Test Loss: 0.2357, Test Accuracy: 91.52%\n",
      "\n"
     ]
    },
    {
     "name": "stderr",
     "output_type": "stream",
     "text": [
      "Epoch 841: 100%|██████████| 938/938 [00:54<00:00, 17.37batch/s, Train Loss=0.26, Train Acc=90]   \n"
     ]
    },
    {
     "name": "stdout",
     "output_type": "stream",
     "text": [
      "Epoch 841\n",
      "Train Loss: 0.2604, Train Accuracy: 90.02%\n",
      "Test Loss: 0.2347, Test Accuracy: 91.52%\n",
      "\n"
     ]
    },
    {
     "name": "stderr",
     "output_type": "stream",
     "text": [
      "Epoch 842: 100%|██████████| 938/938 [00:53<00:00, 17.43batch/s, Train Loss=0.261, Train Acc=90.1]\n"
     ]
    },
    {
     "name": "stdout",
     "output_type": "stream",
     "text": [
      "Epoch 842\n",
      "Train Loss: 0.2607, Train Accuracy: 90.11%\n",
      "Test Loss: 0.2401, Test Accuracy: 91.46%\n",
      "\n"
     ]
    },
    {
     "name": "stderr",
     "output_type": "stream",
     "text": [
      "Epoch 843: 100%|██████████| 938/938 [00:53<00:00, 17.39batch/s, Train Loss=0.26, Train Acc=90]   \n"
     ]
    },
    {
     "name": "stdout",
     "output_type": "stream",
     "text": [
      "Epoch 843\n",
      "Train Loss: 0.2599, Train Accuracy: 90.01%\n",
      "Test Loss: 0.2411, Test Accuracy: 91.35%\n",
      "\n"
     ]
    },
    {
     "name": "stderr",
     "output_type": "stream",
     "text": [
      "Epoch 844: 100%|██████████| 938/938 [00:54<00:00, 17.35batch/s, Train Loss=0.264, Train Acc=89.9]\n"
     ]
    },
    {
     "name": "stdout",
     "output_type": "stream",
     "text": [
      "Epoch 844\n",
      "Train Loss: 0.2637, Train Accuracy: 89.90%\n",
      "Test Loss: 0.2379, Test Accuracy: 91.58%\n",
      "\n"
     ]
    },
    {
     "name": "stderr",
     "output_type": "stream",
     "text": [
      "Epoch 845: 100%|██████████| 938/938 [00:54<00:00, 17.30batch/s, Train Loss=0.263, Train Acc=89.8]\n"
     ]
    },
    {
     "name": "stdout",
     "output_type": "stream",
     "text": [
      "Epoch 845\n",
      "Train Loss: 0.2625, Train Accuracy: 89.83%\n",
      "Test Loss: 0.2350, Test Accuracy: 91.68%\n",
      "\n"
     ]
    },
    {
     "name": "stderr",
     "output_type": "stream",
     "text": [
      "Epoch 846: 100%|██████████| 938/938 [00:54<00:00, 17.36batch/s, Train Loss=0.256, Train Acc=90.2]\n"
     ]
    },
    {
     "name": "stdout",
     "output_type": "stream",
     "text": [
      "Epoch 846\n",
      "Train Loss: 0.2563, Train Accuracy: 90.16%\n",
      "Test Loss: 0.2361, Test Accuracy: 91.34%\n",
      "\n"
     ]
    },
    {
     "name": "stderr",
     "output_type": "stream",
     "text": [
      "Epoch 847: 100%|██████████| 938/938 [00:54<00:00, 17.37batch/s, Train Loss=0.258, Train Acc=90.1]\n"
     ]
    },
    {
     "name": "stdout",
     "output_type": "stream",
     "text": [
      "Epoch 847\n",
      "Train Loss: 0.2582, Train Accuracy: 90.14%\n",
      "Test Loss: 0.2352, Test Accuracy: 91.26%\n",
      "\n"
     ]
    },
    {
     "name": "stderr",
     "output_type": "stream",
     "text": [
      "Epoch 848: 100%|██████████| 938/938 [00:53<00:00, 17.40batch/s, Train Loss=0.255, Train Acc=90.2]\n"
     ]
    },
    {
     "name": "stdout",
     "output_type": "stream",
     "text": [
      "Epoch 848\n",
      "Train Loss: 0.2548, Train Accuracy: 90.20%\n",
      "Test Loss: 0.2421, Test Accuracy: 91.30%\n",
      "\n"
     ]
    },
    {
     "name": "stderr",
     "output_type": "stream",
     "text": [
      "Epoch 849: 100%|██████████| 938/938 [00:54<00:00, 17.28batch/s, Train Loss=0.261, Train Acc=89.9]\n"
     ]
    },
    {
     "name": "stdout",
     "output_type": "stream",
     "text": [
      "Epoch 849\n",
      "Train Loss: 0.2613, Train Accuracy: 89.91%\n",
      "Test Loss: 0.2346, Test Accuracy: 91.42%\n",
      "\n"
     ]
    },
    {
     "name": "stderr",
     "output_type": "stream",
     "text": [
      "Epoch 850: 100%|██████████| 938/938 [00:54<00:00, 17.32batch/s, Train Loss=0.258, Train Acc=90.2]\n"
     ]
    },
    {
     "name": "stdout",
     "output_type": "stream",
     "text": [
      "Epoch 850\n",
      "Train Loss: 0.2583, Train Accuracy: 90.22%\n",
      "Test Loss: 0.2418, Test Accuracy: 91.18%\n",
      "\n"
     ]
    },
    {
     "name": "stderr",
     "output_type": "stream",
     "text": [
      "Epoch 851: 100%|██████████| 938/938 [00:54<00:00, 17.34batch/s, Train Loss=0.257, Train Acc=90.2]\n"
     ]
    },
    {
     "name": "stdout",
     "output_type": "stream",
     "text": [
      "Epoch 851\n",
      "Train Loss: 0.2567, Train Accuracy: 90.20%\n",
      "Test Loss: 0.2346, Test Accuracy: 91.57%\n",
      "\n"
     ]
    },
    {
     "name": "stderr",
     "output_type": "stream",
     "text": [
      "Epoch 852: 100%|██████████| 938/938 [00:53<00:00, 17.44batch/s, Train Loss=0.259, Train Acc=90.2]\n"
     ]
    },
    {
     "name": "stdout",
     "output_type": "stream",
     "text": [
      "Epoch 852\n",
      "Train Loss: 0.2586, Train Accuracy: 90.17%\n",
      "Test Loss: 0.2333, Test Accuracy: 91.42%\n",
      "\n"
     ]
    },
    {
     "name": "stderr",
     "output_type": "stream",
     "text": [
      "Epoch 853: 100%|██████████| 938/938 [00:54<00:00, 17.34batch/s, Train Loss=0.257, Train Acc=90.3]\n"
     ]
    },
    {
     "name": "stdout",
     "output_type": "stream",
     "text": [
      "Epoch 853\n",
      "Train Loss: 0.2571, Train Accuracy: 90.30%\n",
      "Test Loss: 0.2299, Test Accuracy: 91.78%\n",
      "\n"
     ]
    },
    {
     "name": "stderr",
     "output_type": "stream",
     "text": [
      "Epoch 854: 100%|██████████| 938/938 [00:54<00:00, 17.29batch/s, Train Loss=0.257, Train Acc=90.2]\n"
     ]
    },
    {
     "name": "stdout",
     "output_type": "stream",
     "text": [
      "Epoch 854\n",
      "Train Loss: 0.2568, Train Accuracy: 90.22%\n",
      "Test Loss: 0.2388, Test Accuracy: 91.33%\n",
      "\n"
     ]
    },
    {
     "name": "stderr",
     "output_type": "stream",
     "text": [
      "Epoch 855: 100%|██████████| 938/938 [00:54<00:00, 17.33batch/s, Train Loss=0.257, Train Acc=90.3]\n"
     ]
    },
    {
     "name": "stdout",
     "output_type": "stream",
     "text": [
      "Epoch 855\n",
      "Train Loss: 0.2570, Train Accuracy: 90.28%\n",
      "Test Loss: 0.2340, Test Accuracy: 91.61%\n",
      "\n"
     ]
    },
    {
     "name": "stderr",
     "output_type": "stream",
     "text": [
      "Epoch 856: 100%|██████████| 938/938 [00:54<00:00, 17.35batch/s, Train Loss=0.257, Train Acc=90.1]\n"
     ]
    },
    {
     "name": "stdout",
     "output_type": "stream",
     "text": [
      "Epoch 856\n",
      "Train Loss: 0.2568, Train Accuracy: 90.15%\n",
      "Test Loss: 0.2291, Test Accuracy: 91.49%\n",
      "\n"
     ]
    },
    {
     "name": "stderr",
     "output_type": "stream",
     "text": [
      "Epoch 857: 100%|██████████| 938/938 [00:53<00:00, 17.38batch/s, Train Loss=0.257, Train Acc=90.2]\n"
     ]
    },
    {
     "name": "stdout",
     "output_type": "stream",
     "text": [
      "Epoch 857\n",
      "Train Loss: 0.2567, Train Accuracy: 90.20%\n",
      "Test Loss: 0.2474, Test Accuracy: 90.85%\n",
      "\n"
     ]
    },
    {
     "name": "stderr",
     "output_type": "stream",
     "text": [
      "Epoch 858: 100%|██████████| 938/938 [00:53<00:00, 17.43batch/s, Train Loss=0.259, Train Acc=90]  \n"
     ]
    },
    {
     "name": "stdout",
     "output_type": "stream",
     "text": [
      "Epoch 858\n",
      "Train Loss: 0.2585, Train Accuracy: 89.97%\n",
      "Test Loss: 0.2349, Test Accuracy: 91.35%\n",
      "\n"
     ]
    },
    {
     "name": "stderr",
     "output_type": "stream",
     "text": [
      "Epoch 859: 100%|██████████| 938/938 [00:54<00:00, 17.27batch/s, Train Loss=0.253, Train Acc=90.3]\n"
     ]
    },
    {
     "name": "stdout",
     "output_type": "stream",
     "text": [
      "Epoch 859\n",
      "Train Loss: 0.2532, Train Accuracy: 90.30%\n",
      "Test Loss: 0.2316, Test Accuracy: 91.41%\n",
      "\n"
     ]
    },
    {
     "name": "stderr",
     "output_type": "stream",
     "text": [
      "Epoch 860: 100%|██████████| 938/938 [00:54<00:00, 17.29batch/s, Train Loss=0.254, Train Acc=90.3]\n"
     ]
    },
    {
     "name": "stdout",
     "output_type": "stream",
     "text": [
      "Epoch 860\n",
      "Train Loss: 0.2539, Train Accuracy: 90.29%\n",
      "Test Loss: 0.2363, Test Accuracy: 91.44%\n",
      "\n"
     ]
    },
    {
     "name": "stderr",
     "output_type": "stream",
     "text": [
      "Epoch 861: 100%|██████████| 938/938 [00:54<00:00, 17.36batch/s, Train Loss=0.254, Train Acc=90.2]\n"
     ]
    },
    {
     "name": "stdout",
     "output_type": "stream",
     "text": [
      "Epoch 861\n",
      "Train Loss: 0.2540, Train Accuracy: 90.22%\n",
      "Test Loss: 0.2329, Test Accuracy: 91.60%\n",
      "\n"
     ]
    },
    {
     "name": "stderr",
     "output_type": "stream",
     "text": [
      "Epoch 862: 100%|██████████| 938/938 [00:54<00:00, 17.36batch/s, Train Loss=0.255, Train Acc=90.2]\n"
     ]
    },
    {
     "name": "stdout",
     "output_type": "stream",
     "text": [
      "Epoch 862\n",
      "Train Loss: 0.2549, Train Accuracy: 90.21%\n",
      "Test Loss: 0.2324, Test Accuracy: 91.54%\n",
      "\n"
     ]
    },
    {
     "name": "stderr",
     "output_type": "stream",
     "text": [
      "Epoch 863: 100%|██████████| 938/938 [00:54<00:00, 17.30batch/s, Train Loss=0.254, Train Acc=90.3]\n"
     ]
    },
    {
     "name": "stdout",
     "output_type": "stream",
     "text": [
      "Epoch 863\n",
      "Train Loss: 0.2544, Train Accuracy: 90.28%\n",
      "Test Loss: 0.2303, Test Accuracy: 91.82%\n",
      "\n"
     ]
    },
    {
     "name": "stderr",
     "output_type": "stream",
     "text": [
      "Epoch 864: 100%|██████████| 938/938 [00:53<00:00, 17.46batch/s, Train Loss=0.255, Train Acc=90.2]\n"
     ]
    },
    {
     "name": "stdout",
     "output_type": "stream",
     "text": [
      "Epoch 864\n",
      "Train Loss: 0.2547, Train Accuracy: 90.23%\n",
      "Test Loss: 0.2370, Test Accuracy: 91.50%\n",
      "\n"
     ]
    },
    {
     "name": "stderr",
     "output_type": "stream",
     "text": [
      "Epoch 865: 100%|██████████| 938/938 [00:54<00:00, 17.31batch/s, Train Loss=0.256, Train Acc=90.2]\n"
     ]
    },
    {
     "name": "stdout",
     "output_type": "stream",
     "text": [
      "Epoch 865\n",
      "Train Loss: 0.2562, Train Accuracy: 90.23%\n",
      "Test Loss: 0.2364, Test Accuracy: 91.61%\n",
      "\n"
     ]
    },
    {
     "name": "stderr",
     "output_type": "stream",
     "text": [
      "Epoch 866: 100%|██████████| 938/938 [00:54<00:00, 17.33batch/s, Train Loss=0.25, Train Acc=90.4] \n"
     ]
    },
    {
     "name": "stdout",
     "output_type": "stream",
     "text": [
      "Epoch 866\n",
      "Train Loss: 0.2496, Train Accuracy: 90.41%\n",
      "Test Loss: 0.2390, Test Accuracy: 91.68%\n",
      "\n"
     ]
    },
    {
     "name": "stderr",
     "output_type": "stream",
     "text": [
      "Epoch 867: 100%|██████████| 938/938 [00:54<00:00, 17.29batch/s, Train Loss=0.253, Train Acc=90.4]\n"
     ]
    },
    {
     "name": "stdout",
     "output_type": "stream",
     "text": [
      "Epoch 867\n",
      "Train Loss: 0.2527, Train Accuracy: 90.42%\n",
      "Test Loss: 0.2407, Test Accuracy: 91.56%\n",
      "\n"
     ]
    },
    {
     "name": "stderr",
     "output_type": "stream",
     "text": [
      "Epoch 868: 100%|██████████| 938/938 [00:53<00:00, 17.38batch/s, Train Loss=0.252, Train Acc=90.5]\n"
     ]
    },
    {
     "name": "stdout",
     "output_type": "stream",
     "text": [
      "Epoch 868\n",
      "Train Loss: 0.2515, Train Accuracy: 90.46%\n",
      "Test Loss: 0.2317, Test Accuracy: 91.64%\n",
      "\n"
     ]
    },
    {
     "name": "stderr",
     "output_type": "stream",
     "text": [
      "Epoch 869: 100%|██████████| 938/938 [00:54<00:00, 17.36batch/s, Train Loss=0.255, Train Acc=90.3]\n"
     ]
    },
    {
     "name": "stdout",
     "output_type": "stream",
     "text": [
      "Epoch 869\n",
      "Train Loss: 0.2551, Train Accuracy: 90.27%\n",
      "Test Loss: 0.2271, Test Accuracy: 91.87%\n",
      "\n"
     ]
    },
    {
     "name": "stderr",
     "output_type": "stream",
     "text": [
      "Epoch 870: 100%|██████████| 938/938 [00:54<00:00, 17.31batch/s, Train Loss=0.251, Train Acc=90.4]\n"
     ]
    },
    {
     "name": "stdout",
     "output_type": "stream",
     "text": [
      "Epoch 870\n",
      "Train Loss: 0.2506, Train Accuracy: 90.44%\n",
      "Test Loss: 0.2296, Test Accuracy: 91.55%\n",
      "\n"
     ]
    },
    {
     "name": "stderr",
     "output_type": "stream",
     "text": [
      "Epoch 871: 100%|██████████| 938/938 [00:54<00:00, 17.33batch/s, Train Loss=0.245, Train Acc=90.5]\n"
     ]
    },
    {
     "name": "stdout",
     "output_type": "stream",
     "text": [
      "Epoch 871\n",
      "Train Loss: 0.2454, Train Accuracy: 90.53%\n",
      "Test Loss: 0.2296, Test Accuracy: 91.73%\n",
      "\n"
     ]
    },
    {
     "name": "stderr",
     "output_type": "stream",
     "text": [
      "Epoch 872: 100%|██████████| 938/938 [00:54<00:00, 17.32batch/s, Train Loss=0.251, Train Acc=90.4]\n"
     ]
    },
    {
     "name": "stdout",
     "output_type": "stream",
     "text": [
      "Epoch 872\n",
      "Train Loss: 0.2513, Train Accuracy: 90.42%\n",
      "Test Loss: 0.2303, Test Accuracy: 91.65%\n",
      "\n"
     ]
    },
    {
     "name": "stderr",
     "output_type": "stream",
     "text": [
      "Epoch 873: 100%|██████████| 938/938 [00:54<00:00, 17.33batch/s, Train Loss=0.25, Train Acc=90.4] \n"
     ]
    },
    {
     "name": "stdout",
     "output_type": "stream",
     "text": [
      "Epoch 873\n",
      "Train Loss: 0.2503, Train Accuracy: 90.43%\n",
      "Test Loss: 0.2317, Test Accuracy: 91.45%\n",
      "\n"
     ]
    },
    {
     "name": "stderr",
     "output_type": "stream",
     "text": [
      "Epoch 874: 100%|██████████| 938/938 [00:54<00:00, 17.31batch/s, Train Loss=0.252, Train Acc=90.4]\n"
     ]
    },
    {
     "name": "stdout",
     "output_type": "stream",
     "text": [
      "Epoch 874\n",
      "Train Loss: 0.2518, Train Accuracy: 90.38%\n",
      "Test Loss: 0.2300, Test Accuracy: 91.79%\n",
      "\n"
     ]
    },
    {
     "name": "stderr",
     "output_type": "stream",
     "text": [
      "Epoch 875: 100%|██████████| 938/938 [00:54<00:00, 17.29batch/s, Train Loss=0.248, Train Acc=90.5]\n"
     ]
    },
    {
     "name": "stdout",
     "output_type": "stream",
     "text": [
      "Epoch 875\n",
      "Train Loss: 0.2483, Train Accuracy: 90.49%\n",
      "Test Loss: 0.2390, Test Accuracy: 91.41%\n",
      "\n"
     ]
    },
    {
     "name": "stderr",
     "output_type": "stream",
     "text": [
      "Epoch 876: 100%|██████████| 938/938 [00:54<00:00, 17.33batch/s, Train Loss=0.251, Train Acc=90.5]\n"
     ]
    },
    {
     "name": "stdout",
     "output_type": "stream",
     "text": [
      "Epoch 876\n",
      "Train Loss: 0.2510, Train Accuracy: 90.51%\n",
      "Test Loss: 0.2372, Test Accuracy: 91.45%\n",
      "\n"
     ]
    },
    {
     "name": "stderr",
     "output_type": "stream",
     "text": [
      "Epoch 877: 100%|██████████| 938/938 [00:54<00:00, 17.37batch/s, Train Loss=0.25, Train Acc=90.4] \n"
     ]
    },
    {
     "name": "stdout",
     "output_type": "stream",
     "text": [
      "Epoch 877\n",
      "Train Loss: 0.2503, Train Accuracy: 90.43%\n",
      "Test Loss: 0.2292, Test Accuracy: 91.55%\n",
      "\n"
     ]
    },
    {
     "name": "stderr",
     "output_type": "stream",
     "text": [
      "Epoch 878: 100%|██████████| 938/938 [00:54<00:00, 17.21batch/s, Train Loss=0.247, Train Acc=90.6]\n"
     ]
    },
    {
     "name": "stdout",
     "output_type": "stream",
     "text": [
      "Epoch 878\n",
      "Train Loss: 0.2469, Train Accuracy: 90.61%\n",
      "Test Loss: 0.2292, Test Accuracy: 91.64%\n",
      "\n"
     ]
    },
    {
     "name": "stderr",
     "output_type": "stream",
     "text": [
      "Epoch 879: 100%|██████████| 938/938 [00:54<00:00, 17.29batch/s, Train Loss=0.247, Train Acc=90.6]\n"
     ]
    },
    {
     "name": "stdout",
     "output_type": "stream",
     "text": [
      "Epoch 879\n",
      "Train Loss: 0.2472, Train Accuracy: 90.60%\n",
      "Test Loss: 0.2274, Test Accuracy: 91.59%\n",
      "\n"
     ]
    },
    {
     "name": "stderr",
     "output_type": "stream",
     "text": [
      "Epoch 880: 100%|██████████| 938/938 [00:54<00:00, 17.37batch/s, Train Loss=0.247, Train Acc=90.4]\n"
     ]
    },
    {
     "name": "stdout",
     "output_type": "stream",
     "text": [
      "Epoch 880\n",
      "Train Loss: 0.2470, Train Accuracy: 90.39%\n",
      "Test Loss: 0.2338, Test Accuracy: 91.63%\n",
      "\n"
     ]
    },
    {
     "name": "stderr",
     "output_type": "stream",
     "text": [
      "Epoch 881: 100%|██████████| 938/938 [00:54<00:00, 17.32batch/s, Train Loss=0.249, Train Acc=90.5]\n"
     ]
    },
    {
     "name": "stdout",
     "output_type": "stream",
     "text": [
      "Epoch 881\n",
      "Train Loss: 0.2487, Train Accuracy: 90.51%\n",
      "Test Loss: 0.2374, Test Accuracy: 91.27%\n",
      "\n"
     ]
    },
    {
     "name": "stderr",
     "output_type": "stream",
     "text": [
      "Epoch 882: 100%|██████████| 938/938 [00:54<00:00, 17.36batch/s, Train Loss=0.247, Train Acc=90.6]\n"
     ]
    },
    {
     "name": "stdout",
     "output_type": "stream",
     "text": [
      "Epoch 882\n",
      "Train Loss: 0.2469, Train Accuracy: 90.55%\n",
      "Test Loss: 0.2349, Test Accuracy: 91.43%\n",
      "\n"
     ]
    },
    {
     "name": "stderr",
     "output_type": "stream",
     "text": [
      "Epoch 883: 100%|██████████| 938/938 [00:54<00:00, 17.34batch/s, Train Loss=0.247, Train Acc=90.5]\n"
     ]
    },
    {
     "name": "stdout",
     "output_type": "stream",
     "text": [
      "Epoch 883\n",
      "Train Loss: 0.2472, Train Accuracy: 90.50%\n",
      "Test Loss: 0.2306, Test Accuracy: 91.54%\n",
      "\n"
     ]
    },
    {
     "name": "stderr",
     "output_type": "stream",
     "text": [
      "Epoch 884: 100%|██████████| 938/938 [00:53<00:00, 17.39batch/s, Train Loss=0.246, Train Acc=90.6]\n"
     ]
    },
    {
     "name": "stdout",
     "output_type": "stream",
     "text": [
      "Epoch 884\n",
      "Train Loss: 0.2458, Train Accuracy: 90.62%\n",
      "Test Loss: 0.2327, Test Accuracy: 91.76%\n",
      "\n"
     ]
    },
    {
     "name": "stderr",
     "output_type": "stream",
     "text": [
      "Epoch 885: 100%|██████████| 938/938 [00:54<00:00, 17.35batch/s, Train Loss=0.245, Train Acc=90.6]\n"
     ]
    },
    {
     "name": "stdout",
     "output_type": "stream",
     "text": [
      "Epoch 885\n",
      "Train Loss: 0.2451, Train Accuracy: 90.61%\n",
      "Test Loss: 0.2332, Test Accuracy: 91.73%\n",
      "\n"
     ]
    },
    {
     "name": "stderr",
     "output_type": "stream",
     "text": [
      "Epoch 886: 100%|██████████| 938/938 [00:54<00:00, 17.28batch/s, Train Loss=0.244, Train Acc=90.7]\n"
     ]
    },
    {
     "name": "stdout",
     "output_type": "stream",
     "text": [
      "Epoch 886\n",
      "Train Loss: 0.2441, Train Accuracy: 90.70%\n",
      "Test Loss: 0.2336, Test Accuracy: 91.62%\n",
      "\n"
     ]
    },
    {
     "name": "stderr",
     "output_type": "stream",
     "text": [
      "Epoch 887: 100%|██████████| 938/938 [00:54<00:00, 17.32batch/s, Train Loss=0.242, Train Acc=90.8]\n"
     ]
    },
    {
     "name": "stdout",
     "output_type": "stream",
     "text": [
      "Epoch 887\n",
      "Train Loss: 0.2420, Train Accuracy: 90.77%\n",
      "Test Loss: 0.2454, Test Accuracy: 91.19%\n",
      "\n"
     ]
    },
    {
     "name": "stderr",
     "output_type": "stream",
     "text": [
      "Epoch 888: 100%|██████████| 938/938 [00:54<00:00, 17.28batch/s, Train Loss=0.245, Train Acc=90.8]\n"
     ]
    },
    {
     "name": "stdout",
     "output_type": "stream",
     "text": [
      "Epoch 888\n",
      "Train Loss: 0.2446, Train Accuracy: 90.80%\n",
      "Test Loss: 0.2376, Test Accuracy: 91.56%\n",
      "\n"
     ]
    },
    {
     "name": "stderr",
     "output_type": "stream",
     "text": [
      "Epoch 889: 100%|██████████| 938/938 [00:54<00:00, 17.32batch/s, Train Loss=0.247, Train Acc=90.7]\n"
     ]
    },
    {
     "name": "stdout",
     "output_type": "stream",
     "text": [
      "Epoch 889\n",
      "Train Loss: 0.2465, Train Accuracy: 90.66%\n",
      "Test Loss: 0.2395, Test Accuracy: 91.56%\n",
      "\n"
     ]
    },
    {
     "name": "stderr",
     "output_type": "stream",
     "text": [
      "Epoch 890: 100%|██████████| 938/938 [00:53<00:00, 17.40batch/s, Train Loss=0.243, Train Acc=90.8]\n"
     ]
    },
    {
     "name": "stdout",
     "output_type": "stream",
     "text": [
      "Epoch 890\n",
      "Train Loss: 0.2428, Train Accuracy: 90.78%\n",
      "Test Loss: 0.2332, Test Accuracy: 91.67%\n",
      "\n"
     ]
    },
    {
     "name": "stderr",
     "output_type": "stream",
     "text": [
      "Epoch 891: 100%|██████████| 938/938 [00:54<00:00, 17.32batch/s, Train Loss=0.242, Train Acc=90.7]\n"
     ]
    },
    {
     "name": "stdout",
     "output_type": "stream",
     "text": [
      "Epoch 891\n",
      "Train Loss: 0.2423, Train Accuracy: 90.72%\n",
      "Test Loss: 0.2279, Test Accuracy: 91.93%\n",
      "\n"
     ]
    },
    {
     "name": "stderr",
     "output_type": "stream",
     "text": [
      "Epoch 892: 100%|██████████| 938/938 [00:53<00:00, 17.41batch/s, Train Loss=0.243, Train Acc=90.8]\n"
     ]
    },
    {
     "name": "stdout",
     "output_type": "stream",
     "text": [
      "Epoch 892\n",
      "Train Loss: 0.2432, Train Accuracy: 90.78%\n",
      "Test Loss: 0.2326, Test Accuracy: 91.67%\n",
      "\n"
     ]
    },
    {
     "name": "stderr",
     "output_type": "stream",
     "text": [
      "Epoch 893: 100%|██████████| 938/938 [00:53<00:00, 17.37batch/s, Train Loss=0.244, Train Acc=90.7]\n"
     ]
    },
    {
     "name": "stdout",
     "output_type": "stream",
     "text": [
      "Epoch 893\n",
      "Train Loss: 0.2435, Train Accuracy: 90.73%\n",
      "Test Loss: 0.2347, Test Accuracy: 91.60%\n",
      "\n"
     ]
    },
    {
     "name": "stderr",
     "output_type": "stream",
     "text": [
      "Epoch 894: 100%|██████████| 938/938 [00:54<00:00, 17.28batch/s, Train Loss=0.244, Train Acc=90.7]\n"
     ]
    },
    {
     "name": "stdout",
     "output_type": "stream",
     "text": [
      "Epoch 894\n",
      "Train Loss: 0.2444, Train Accuracy: 90.69%\n",
      "Test Loss: 0.2372, Test Accuracy: 91.77%\n",
      "\n"
     ]
    },
    {
     "name": "stderr",
     "output_type": "stream",
     "text": [
      "Epoch 895: 100%|██████████| 938/938 [00:54<00:00, 17.27batch/s, Train Loss=0.242, Train Acc=90.7]\n"
     ]
    },
    {
     "name": "stdout",
     "output_type": "stream",
     "text": [
      "Epoch 895\n",
      "Train Loss: 0.2424, Train Accuracy: 90.71%\n",
      "Test Loss: 0.2345, Test Accuracy: 91.68%\n",
      "\n"
     ]
    },
    {
     "name": "stderr",
     "output_type": "stream",
     "text": [
      "Epoch 896: 100%|██████████| 938/938 [00:54<00:00, 17.27batch/s, Train Loss=0.242, Train Acc=90.6]\n"
     ]
    },
    {
     "name": "stdout",
     "output_type": "stream",
     "text": [
      "Epoch 896\n",
      "Train Loss: 0.2419, Train Accuracy: 90.62%\n",
      "Test Loss: 0.2311, Test Accuracy: 91.58%\n",
      "\n"
     ]
    },
    {
     "name": "stderr",
     "output_type": "stream",
     "text": [
      "Epoch 897: 100%|██████████| 938/938 [00:54<00:00, 17.34batch/s, Train Loss=0.238, Train Acc=90.8]\n"
     ]
    },
    {
     "name": "stdout",
     "output_type": "stream",
     "text": [
      "Epoch 897\n",
      "Train Loss: 0.2384, Train Accuracy: 90.82%\n",
      "Test Loss: 0.2366, Test Accuracy: 91.42%\n",
      "\n"
     ]
    },
    {
     "name": "stderr",
     "output_type": "stream",
     "text": [
      "Epoch 898: 100%|██████████| 938/938 [00:54<00:00, 17.36batch/s, Train Loss=0.242, Train Acc=90.7]\n"
     ]
    },
    {
     "name": "stdout",
     "output_type": "stream",
     "text": [
      "Epoch 898\n",
      "Train Loss: 0.2416, Train Accuracy: 90.73%\n",
      "Test Loss: 0.2279, Test Accuracy: 91.55%\n",
      "\n"
     ]
    },
    {
     "name": "stderr",
     "output_type": "stream",
     "text": [
      "Epoch 899: 100%|██████████| 938/938 [00:54<00:00, 17.32batch/s, Train Loss=0.239, Train Acc=90.8]\n"
     ]
    },
    {
     "name": "stdout",
     "output_type": "stream",
     "text": [
      "Epoch 899\n",
      "Train Loss: 0.2390, Train Accuracy: 90.83%\n",
      "Test Loss: 0.2357, Test Accuracy: 91.41%\n",
      "\n"
     ]
    },
    {
     "name": "stderr",
     "output_type": "stream",
     "text": [
      "Epoch 900: 100%|██████████| 938/938 [00:54<00:00, 17.26batch/s, Train Loss=0.242, Train Acc=90.7]\n"
     ]
    },
    {
     "name": "stdout",
     "output_type": "stream",
     "text": [
      "Epoch 900\n",
      "Train Loss: 0.2419, Train Accuracy: 90.73%\n",
      "Test Loss: 0.2238, Test Accuracy: 92.01%\n",
      "\n"
     ]
    },
    {
     "name": "stderr",
     "output_type": "stream",
     "text": [
      "Epoch 901: 100%|██████████| 938/938 [00:54<00:00, 17.34batch/s, Train Loss=0.243, Train Acc=90.9]\n"
     ]
    },
    {
     "name": "stdout",
     "output_type": "stream",
     "text": [
      "Epoch 901\n",
      "Train Loss: 0.2427, Train Accuracy: 90.89%\n",
      "Test Loss: 0.2357, Test Accuracy: 91.64%\n",
      "\n"
     ]
    },
    {
     "name": "stderr",
     "output_type": "stream",
     "text": [
      "Epoch 902: 100%|██████████| 938/938 [00:54<00:00, 17.31batch/s, Train Loss=0.241, Train Acc=90.8]\n"
     ]
    },
    {
     "name": "stdout",
     "output_type": "stream",
     "text": [
      "Epoch 902\n",
      "Train Loss: 0.2412, Train Accuracy: 90.79%\n",
      "Test Loss: 0.2317, Test Accuracy: 91.69%\n",
      "\n"
     ]
    },
    {
     "name": "stderr",
     "output_type": "stream",
     "text": [
      "Epoch 903: 100%|██████████| 938/938 [00:54<00:00, 17.28batch/s, Train Loss=0.239, Train Acc=90.8]\n"
     ]
    },
    {
     "name": "stdout",
     "output_type": "stream",
     "text": [
      "Epoch 903\n",
      "Train Loss: 0.2388, Train Accuracy: 90.84%\n",
      "Test Loss: 0.2385, Test Accuracy: 91.65%\n",
      "\n"
     ]
    },
    {
     "name": "stderr",
     "output_type": "stream",
     "text": [
      "Epoch 904: 100%|██████████| 938/938 [00:54<00:00, 17.25batch/s, Train Loss=0.241, Train Acc=90.8]\n"
     ]
    },
    {
     "name": "stdout",
     "output_type": "stream",
     "text": [
      "Epoch 904\n",
      "Train Loss: 0.2409, Train Accuracy: 90.81%\n",
      "Test Loss: 0.2280, Test Accuracy: 91.71%\n",
      "\n"
     ]
    },
    {
     "name": "stderr",
     "output_type": "stream",
     "text": [
      "Epoch 905: 100%|██████████| 938/938 [00:54<00:00, 17.27batch/s, Train Loss=0.239, Train Acc=90.9]\n"
     ]
    },
    {
     "name": "stdout",
     "output_type": "stream",
     "text": [
      "Epoch 905\n",
      "Train Loss: 0.2395, Train Accuracy: 90.89%\n",
      "Test Loss: 0.2317, Test Accuracy: 91.67%\n",
      "\n"
     ]
    },
    {
     "name": "stderr",
     "output_type": "stream",
     "text": [
      "Epoch 906: 100%|██████████| 938/938 [00:54<00:00, 17.34batch/s, Train Loss=0.243, Train Acc=90.7]\n"
     ]
    },
    {
     "name": "stdout",
     "output_type": "stream",
     "text": [
      "Epoch 906\n",
      "Train Loss: 0.2426, Train Accuracy: 90.70%\n",
      "Test Loss: 0.2425, Test Accuracy: 91.20%\n",
      "\n"
     ]
    },
    {
     "name": "stderr",
     "output_type": "stream",
     "text": [
      "Epoch 907: 100%|██████████| 938/938 [00:54<00:00, 17.34batch/s, Train Loss=0.239, Train Acc=90.8]\n"
     ]
    },
    {
     "name": "stdout",
     "output_type": "stream",
     "text": [
      "Epoch 907\n",
      "Train Loss: 0.2394, Train Accuracy: 90.80%\n",
      "Test Loss: 0.2382, Test Accuracy: 91.28%\n",
      "\n"
     ]
    },
    {
     "name": "stderr",
     "output_type": "stream",
     "text": [
      "Epoch 908: 100%|██████████| 938/938 [00:54<00:00, 17.27batch/s, Train Loss=0.24, Train Acc=90.8] \n"
     ]
    },
    {
     "name": "stdout",
     "output_type": "stream",
     "text": [
      "Epoch 908\n",
      "Train Loss: 0.2402, Train Accuracy: 90.84%\n",
      "Test Loss: 0.2407, Test Accuracy: 91.36%\n",
      "\n"
     ]
    },
    {
     "name": "stderr",
     "output_type": "stream",
     "text": [
      "Epoch 909: 100%|██████████| 938/938 [00:54<00:00, 17.27batch/s, Train Loss=0.239, Train Acc=90.8]\n"
     ]
    },
    {
     "name": "stdout",
     "output_type": "stream",
     "text": [
      "Epoch 909\n",
      "Train Loss: 0.2393, Train Accuracy: 90.83%\n",
      "Test Loss: 0.2319, Test Accuracy: 91.45%\n",
      "\n"
     ]
    },
    {
     "name": "stderr",
     "output_type": "stream",
     "text": [
      "Epoch 910: 100%|██████████| 938/938 [01:00<00:00, 15.46batch/s, Train Loss=0.237, Train Acc=90.8]\n"
     ]
    },
    {
     "name": "stdout",
     "output_type": "stream",
     "text": [
      "Epoch 910\n",
      "Train Loss: 0.2374, Train Accuracy: 90.82%\n",
      "Test Loss: 0.2349, Test Accuracy: 91.53%\n",
      "\n"
     ]
    },
    {
     "name": "stderr",
     "output_type": "stream",
     "text": [
      "Epoch 911: 100%|██████████| 938/938 [01:01<00:00, 15.27batch/s, Train Loss=0.238, Train Acc=90.9]\n"
     ]
    },
    {
     "name": "stdout",
     "output_type": "stream",
     "text": [
      "Epoch 911\n",
      "Train Loss: 0.2380, Train Accuracy: 90.90%\n",
      "Test Loss: 0.2260, Test Accuracy: 91.71%\n",
      "\n"
     ]
    },
    {
     "name": "stderr",
     "output_type": "stream",
     "text": [
      "Epoch 912:  61%|██████    | 571/938 [00:36<00:23, 15.46batch/s, Train Loss=0.237, Train Acc=91]  \n"
     ]
    },
    {
     "ename": "KeyboardInterrupt",
     "evalue": "",
     "output_type": "error",
     "traceback": [
      "\u001b[0;31m---------------------------------------------------------------------------\u001b[0m",
      "\u001b[0;31mKeyboardInterrupt\u001b[0m                         Traceback (most recent call last)",
      "Cell \u001b[0;32mIn[42], line 4\u001b[0m\n\u001b[1;32m      2\u001b[0m epochs \u001b[38;5;241m=\u001b[39m \u001b[38;5;241m1000\u001b[39m\n\u001b[1;32m      3\u001b[0m \u001b[38;5;28;01mfor\u001b[39;00m epoch \u001b[38;5;129;01min\u001b[39;00m \u001b[38;5;28mrange\u001b[39m(\u001b[38;5;241m581\u001b[39m, epochs \u001b[38;5;241m+\u001b[39m \u001b[38;5;241m1\u001b[39m):\n\u001b[0;32m----> 4\u001b[0m     train_loss, train_accuracy \u001b[38;5;241m=\u001b[39m \u001b[43mtrain\u001b[49m\u001b[43m(\u001b[49m\u001b[43mmodel\u001b[49m\u001b[43m,\u001b[49m\u001b[43m \u001b[49m\u001b[43mdevice\u001b[49m\u001b[43m,\u001b[49m\u001b[43m \u001b[49m\u001b[43mtrain_loader\u001b[49m\u001b[43m,\u001b[49m\u001b[43m \u001b[49m\u001b[43moptimizer\u001b[49m\u001b[43m,\u001b[49m\u001b[43m \u001b[49m\u001b[43mcriterion\u001b[49m\u001b[43m,\u001b[49m\u001b[43m \u001b[49m\u001b[43mepoch\u001b[49m\u001b[43m)\u001b[49m\n\u001b[1;32m      5\u001b[0m     test_loss, test_accuracy \u001b[38;5;241m=\u001b[39m test(model, device, test_loader, criterion, epoch)\n\u001b[1;32m      6\u001b[0m     \u001b[38;5;28mprint\u001b[39m(\u001b[38;5;124mf\u001b[39m\u001b[38;5;124m\"\u001b[39m\u001b[38;5;124mEpoch \u001b[39m\u001b[38;5;132;01m{\u001b[39;00mepoch\u001b[38;5;132;01m}\u001b[39;00m\u001b[38;5;124m\"\u001b[39m)\n",
      "Cell \u001b[0;32mIn[40], line 16\u001b[0m, in \u001b[0;36mtrain\u001b[0;34m(model, device, train_loader, optimizer, criterion, epoch)\u001b[0m\n\u001b[1;32m     14\u001b[0m loss\u001b[38;5;241m.\u001b[39mbackward()\n\u001b[1;32m     15\u001b[0m optimizer\u001b[38;5;241m.\u001b[39mstep()\n\u001b[0;32m---> 16\u001b[0m train_loss \u001b[38;5;241m+\u001b[39m\u001b[38;5;241m=\u001b[39m \u001b[43mloss\u001b[49m\u001b[38;5;241;43m.\u001b[39;49m\u001b[43mitem\u001b[49m\u001b[43m(\u001b[49m\u001b[43m)\u001b[49m\n\u001b[1;32m     17\u001b[0m _, predicted \u001b[38;5;241m=\u001b[39m output\u001b[38;5;241m.\u001b[39mmax(\u001b[38;5;241m1\u001b[39m)\n\u001b[1;32m     18\u001b[0m total \u001b[38;5;241m+\u001b[39m\u001b[38;5;241m=\u001b[39m target\u001b[38;5;241m.\u001b[39msize(\u001b[38;5;241m0\u001b[39m)\n",
      "\u001b[0;31mKeyboardInterrupt\u001b[0m: "
     ]
    }
   ],
   "source": [
    "\n",
    "\n",
    "model.to(device)\n",
    "epochs = 1000\n",
    "for epoch in range(581, epochs + 1):\n",
    "    train_loss, train_accuracy = train(model, device, train_loader, optimizer, criterion, epoch)\n",
    "    test_loss, test_accuracy = test(model, device, test_loader, criterion, epoch)\n",
    "    print(f\"Epoch {epoch}\")\n",
    "    print(f\"Train Loss: {train_loss:.4f}, Train Accuracy: {train_accuracy:.2f}%\")\n",
    "    print(f\"Test Loss: {test_loss:.4f}, Test Accuracy: {test_accuracy:.2f}%\")\n",
    "    print()\n",
    "\n",
    "\n",
    "writer.close()"
   ]
  },
  {
   "cell_type": "code",
   "execution_count": 43,
   "metadata": {},
   "outputs": [],
   "source": [
    "def save_model(model, optimizer, epoch, loss, accuracy, filename):\n",
    "    torch.save({\n",
    "        'epoch': epoch,\n",
    "        'model_state_dict': model.state_dict(),\n",
    "        'optimizer_state_dict': optimizer.state_dict(),\n",
    "        'loss': loss,\n",
    "        'accuracy': accuracy\n",
    "    }, filename)\n"
   ]
  },
  {
   "cell_type": "code",
   "execution_count": 44,
   "metadata": {},
   "outputs": [],
   "source": [
    "save_model(model, optimizer, epochs, test_loss, test_accuracy, 'final_model_n.pth')"
   ]
  },
  {
   "cell_type": "code",
   "execution_count": 20,
   "metadata": {},
   "outputs": [],
   "source": [
    "def load_model(model, optimizer, filename):\n",
    "    checkpoint = torch.load(filename)\n",
    "    model.load_state_dict(checkpoint['model_state_dict'])\n",
    "    optimizer.load_state_dict(checkpoint['optimizer_state_dict'])\n",
    "    epoch = checkpoint['epoch']\n",
    "    loss = checkpoint['loss']\n",
    "    accuracy = checkpoint['accuracy']\n",
    "    return model, optimizer, epoch, loss, accuracy\n",
    "\n",
    "# Usage\n",
    "model, optimizer, epoch, loss, accuracy = load_model(model, optimizer, 'final_model.pth')"
   ]
  }
 ],
 "metadata": {
  "kernelspec": {
   "display_name": "vqvae",
   "language": "python",
   "name": "python3"
  },
  "language_info": {
   "codemirror_mode": {
    "name": "ipython",
    "version": 3
   },
   "file_extension": ".py",
   "mimetype": "text/x-python",
   "name": "python",
   "nbconvert_exporter": "python",
   "pygments_lexer": "ipython3",
   "version": "3.8.undefined"
  }
 },
 "nbformat": 4,
 "nbformat_minor": 2
}
