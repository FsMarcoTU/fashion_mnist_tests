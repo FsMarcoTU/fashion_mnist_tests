{
 "cells": [
  {
   "cell_type": "code",
   "execution_count": 1,
   "metadata": {},
   "outputs": [],
   "source": [
    "from vit_pytorch import ViT\n",
    "import torch\n",
    "from torchvision import datasets, transforms\n",
    "from torch.utils.data import Dataset, DataLoader\n",
    "import numpy as np\n",
    "import matplotlib.pyplot as plt\n",
    "import random\n",
    "import torch.nn as nn\n",
    "import torch.optim as optim\n",
    "import torch.nn.functional as F\n",
    "from tqdm import tqdm\n",
    "from torch.utils.tensorboard import SummaryWriter"
   ]
  },
  {
   "cell_type": "code",
   "execution_count": 2,
   "metadata": {},
   "outputs": [],
   "source": [
    "\n",
    "transform = transforms.Compose([transforms.ToTensor()])\n",
    "train_data = datasets.FashionMNIST(root='data', train=True, download=True, transform=transform)\n",
    "test_data = datasets.FashionMNIST(root='data', train=False, download=True, transform=transform)"
   ]
  },
  {
   "cell_type": "code",
   "execution_count": 3,
   "metadata": {},
   "outputs": [],
   "source": [
    "def fft_transform(data):\n",
    "    processed_data = []\n",
    "    for img, _ in data:\n",
    "        img_np = img.numpy().squeeze()\n",
    "        fft = np.fft.fft2(img_np)\n",
    "        processed_data.append((img_np, fft))\n",
    "    return processed_data\n",
    "\n",
    "train_fft = fft_transform(train_data)\n",
    "test_fft = fft_transform(test_data)\n",
    "\n",
    "def normalize_fft(fft_data):\n",
    "    normalized_data = []\n",
    "    for img_np, fft in fft_data:\n",
    "        # Calculate magnitude and phase\n",
    "        magnitude = np.abs(fft)\n",
    "        phase = np.angle(fft)\n",
    "        \n",
    "        # Normalize magnitude to [0, 1] range\n",
    "        magnitude_min = np.min(magnitude)\n",
    "        magnitude_max = np.max(magnitude)\n",
    "        normalized_magnitude = (magnitude - magnitude_min) / (magnitude_max - magnitude_min)\n",
    "        \n",
    "        # Rebuild complex number using normalized magnitude and original phase\n",
    "        normalized_fft = normalized_magnitude * np.exp(1j * phase)\n",
    "        \n",
    "        normalized_data.append((img_np, normalized_fft))\n",
    "    \n",
    "    return normalized_data\n",
    "\n",
    "# train_fft = normalize_fft(train_fft)\n",
    "# test_fft = normalize_fft(test_fft)"
   ]
  },
  {
   "cell_type": "code",
   "execution_count": 4,
   "metadata": {},
   "outputs": [
    {
     "name": "stdout",
     "output_type": "stream",
     "text": [
      "1.0 0.0 (299.0078472062014+0j) (-105.1554452474781-85.19899857776973j)\n"
     ]
    },
    {
     "data": {
      "image/png": "[encoded data removed]",
      "text/plain": [
       "<Figure size 640x480 with 1 Axes>"
      ]
     },
     "metadata": {},
     "output_type": "display_data"
    }
   ],
   "source": [
    "plt.imshow(np.abs(train_fft[0])[1])\n",
    "print(train_fft[0][0].max(), train_fft[0][0].min(), train_fft[0][1].max(), train_fft[0][1].min())"
   ]
  },
  {
   "cell_type": "code",
   "execution_count": 5,
   "metadata": {},
   "outputs": [],
   "source": [
    "def phase_shift_fourier(fourier_image, x=2.0, y=2.0):\n",
    "    \"\"\"\n",
    "    Perform a random phase shift on a Fourier-image, constrained by maximum values.\n",
    "    \n",
    "    Parameters:\n",
    "    fourier_image (torch.tensor): Complex-valued centered Fourier representation of an image\n",
    "    x (float): Maximum amount to shift in x direction (0-2 range recommended due to 2pi periodicity)\n",
    "    y (float): Maximum amount to shift in y direction (0-2 range recommended due to 2pi periodicity)\n",
    "    \n",
    "    Returns:\n",
    "    torch.tensor: The phase-shifted Fourier-image\n",
    "    \"\"\"\n",
    "    fourier_image = torch.fft.fftshift(fourier_image)\n",
    "    rows, cols = fourier_image.shape\n",
    "    \n",
    "    # Generate random shift amounts within the specified ranges\n",
    "    random_x = torch.rand(1).item() * x\n",
    "    random_y = torch.rand(1).item() * y\n",
    "    shift_x = random_y * torch.pi * rows\n",
    "    shift_y = random_x * torch.pi * cols\n",
    "    \n",
    "    freq_x = torch.fft.fftfreq(cols)\n",
    "    freq_y = torch.fft.fftfreq(rows)\n",
    "    fx, fy = torch.meshgrid(freq_x, freq_y, indexing='ij')\n",
    "    \n",
    "    # Calculate and apply phase shift\n",
    "    phase_shift = torch.exp(-1j * (shift_x * fx + shift_y * fy))\n",
    "    shifted_fourier_image = torch.fft.fftshift(fourier_image * phase_shift)\n",
    "    \n",
    "    return shifted_fourier_image\n",
    "\n",
    "\n",
    "def mask_frequency_spectrum(spectrum, max_mask_percentage):\n",
    "    # Ensure the max_mask_percentage is between 0 and 100\n",
    "    max_mask_percentage = torch.clamp(torch.tensor(max_mask_percentage), 0, 100)\n",
    "    \n",
    "    # Generate a random mask percentage\n",
    "    mask_percentage = torch.rand(1) * max_mask_percentage\n",
    "    \n",
    "    # Calculate the number of elements to mask\n",
    "    num_elements = spectrum.numel()\n",
    "    num_masked = int(num_elements * mask_percentage.item() / 100)\n",
    "    \n",
    "    # Create a flat copy of the spectrum\n",
    "    flat_spectrum = spectrum.view(-1)\n",
    "    \n",
    "    # Randomly select indices to mask\n",
    "    mask_indices = torch.randperm(num_elements)[:num_masked]\n",
    "    \n",
    "    # Create a mask tensor\n",
    "    mask = torch.ones_like(flat_spectrum, dtype=torch.bool)\n",
    "    mask[mask_indices] = False\n",
    "    \n",
    "    # Apply the mask\n",
    "    masked_spectrum = flat_spectrum.clone()\n",
    "    masked_spectrum[~mask] = 0\n",
    "    \n",
    "    # Reshape the spectrum back to its original shape\n",
    "    masked_spectrum = masked_spectrum.view(spectrum.shape)\n",
    "    \n",
    "    return masked_spectrum"
   ]
  },
  {
   "cell_type": "code",
   "execution_count": 17,
   "metadata": {},
   "outputs": [],
   "source": [
    "class CustomTransform:\n",
    "    def __init__(self, is_training=True):\n",
    "        self.is_training = is_training\n",
    "        \n",
    "    def __call__(self, sample):\n",
    "        img, fft = torch.tensor(np.array(sample))\n",
    "        if self.is_training: \n",
    "            fft = torch.fft.fftshift(fft)\n",
    "            #fft = phase_shift_fourier(fft)\n",
    "            fft = mask_frequency_spectrum(fft, 75)\n",
    "            fft = torch.fft.fftshift(fft)\n",
    "            img = torch.fft.ifft2(fft)\n",
    "                # Split the complex image into real and imaginary parts\n",
    "        img_real = torch.real(img)\n",
    "        img_imag = torch.imag(img)\n",
    "        \n",
    "        # Stack the real and imaginary parts of the image\n",
    "        img_stacked = torch.stack([img_real, img_imag])\n",
    "        \n",
    "        return img_stacked.float()"
   ]
  },
  {
   "cell_type": "code",
   "execution_count": 18,
   "metadata": {},
   "outputs": [],
   "source": [
    "class ComplexDataset(Dataset):\n",
    "    def __init__(self, data, labels, is_training=True):\n",
    "        self.data = data\n",
    "        self.labels = labels\n",
    "        self.transform = CustomTransform(is_training)\n",
    "        \n",
    "    def __len__(self):\n",
    "        return len(self.data)\n",
    "\n",
    "    def __getitem__(self, idx):\n",
    "        sample = self.data[idx]\n",
    "        label = self.labels[idx]\n",
    "        sample = self.transform(sample)\n",
    "        return sample, label"
   ]
  },
  {
   "cell_type": "code",
   "execution_count": 19,
   "metadata": {},
   "outputs": [
    {
     "name": "stdout",
     "output_type": "stream",
     "text": [
      "938\n"
     ]
    }
   ],
   "source": [
    "# Create the custom dataset\n",
    "train_labels = [label for _, label in train_data]\n",
    "train_dataset = ComplexDataset(train_fft, train_labels, is_training=True)\n",
    "\n",
    "test_labels = [label for _, label in test_data]\n",
    "test_dataset = ComplexDataset(test_fft, test_labels, is_training=False)\n",
    "\n",
    "# Create data loaders\n",
    "train_loader = DataLoader(train_dataset, batch_size=64, shuffle=True)\n",
    "test_loader = DataLoader(test_dataset, batch_size=64, shuffle=False)\n",
    "\n",
    "print(len(train_loader))"
   ]
  },
  {
   "cell_type": "code",
   "execution_count": 20,
   "metadata": {},
   "outputs": [],
   "source": [
    "item = next(iter(train_loader))"
   ]
  },
  {
   "cell_type": "code",
   "execution_count": 21,
   "metadata": {},
   "outputs": [
    {
     "name": "stdout",
     "output_type": "stream",
     "text": [
      "torch.Size([64, 2, 28, 28])\n"
     ]
    },
    {
     "data": {
      "text/plain": [
       "<matplotlib.image.AxesImage at 0x74d019883d60>"
      ]
     },
     "execution_count": 21,
     "metadata": {},
     "output_type": "execute_result"
    },
    {
     "data": {
      "image/png": "[encoded data removed]",
      "text/plain": [
       "<Figure size 1200x800 with 3 Axes>"
      ]
     },
     "metadata": {},
     "output_type": "display_data"
    }
   ],
   "source": [
    "complex = torch.complex(item[0][0,0,:,:],item[0][0,1,:,:])\n",
    "print(item[0].shape)\n",
    "plt.figure(figsize=(12,8))\n",
    "plt.subplot(1,3,1)\n",
    "plt.imshow(item[0][0,0,:,:], cmap=\"gray\")\n",
    "plt.subplot(1,3,2)\n",
    "plt.imshow(item[0][0,1,:,:], cmap=\"gray\")\n",
    "plt.subplot(1,3,3)\n",
    "plt.imshow(torch.abs(complex), cmap=\"gray\")\n"
   ]
  },
  {
   "cell_type": "code",
   "execution_count": 22,
   "metadata": {},
   "outputs": [
    {
     "data": {
      "image/png": "[encoded data removed]",
      "text/plain": [
       "<Figure size 1200x500 with 3 Axes>"
      ]
     },
     "metadata": {},
     "output_type": "display_data"
    }
   ],
   "source": [
    "\n",
    "# Create a figure with two subplots\n",
    "fig, (ax1, ax2) = plt.subplots(1, 2, figsize=(12, 5))\n",
    "\n",
    "# Plot the image\n",
    "im = ax1.imshow(item[0][0,1,:,:], cmap=\"gray\")\n",
    "ax1.set_title(\"Image\")\n",
    "fig.colorbar(im, ax=ax1)\n",
    "\n",
    "# Plot the histogram\n",
    "ax2.hist(item[0][0,1,:,:].ravel(), bins=50, range=(0, 1))\n",
    "ax2.set_title(\"Histogram\")\n",
    "ax2.set_xlabel(\"Pixel Value\")\n",
    "ax2.set_ylabel(\"Frequency\")\n",
    "\n",
    "plt.tight_layout()\n",
    "plt.show()"
   ]
  },
  {
   "cell_type": "code",
   "execution_count": 23,
   "metadata": {},
   "outputs": [],
   "source": [
    "model = ViT(\n",
    "    image_size = 28,\n",
    "    patch_size = 7,\n",
    "    num_classes = 10,\n",
    "    dim = 256,\n",
    "    depth = 6,\n",
    "    heads = 12,\n",
    "    mlp_dim = 512,\n",
    "    dropout = 0.1,\n",
    "    emb_dropout = 0.1,\n",
    "    channels = 2\n",
    ")\n",
    "\n",
    "img = torch.randn(1, 2, 28, 28)\n",
    "\n",
    "preds = model(img) # (1, 1000)"
   ]
  },
  {
   "cell_type": "code",
   "execution_count": 24,
   "metadata": {},
   "outputs": [
    {
     "name": "stdout",
     "output_type": "stream",
     "text": [
      "Total trainable parameters: 6337486\n"
     ]
    }
   ],
   "source": [
    "total_params = sum(p.numel() for p in model.parameters() if p.requires_grad)\n",
    "print(f\"Total trainable parameters: {total_params}\")"
   ]
  },
  {
   "cell_type": "code",
   "execution_count": 25,
   "metadata": {},
   "outputs": [],
   "source": [
    "criterion = nn.CrossEntropyLoss()\n",
    "optimizer = optim.Adam(model.parameters(), lr=1e-4)"
   ]
  },
  {
   "cell_type": "code",
   "execution_count": 26,
   "metadata": {},
   "outputs": [],
   "source": [
    "writer = SummaryWriter('runs/experiment_1') \n",
    "\n",
    "def train(model, device, train_loader, optimizer, criterion, epoch):\n",
    "    model.train()\n",
    "    train_loss = 0\n",
    "    correct = 0\n",
    "    total = 0\n",
    "    progress_bar = tqdm(train_loader, desc=f\"Epoch {epoch}\", unit=\"batch\")\n",
    "    for batch_idx, (data, target) in enumerate(progress_bar):\n",
    "        data, target = data.to(device), target.to(device)\n",
    "        optimizer.zero_grad()\n",
    "        output = model(data)\n",
    "        loss = criterion(output, target)\n",
    "        loss.backward()\n",
    "        optimizer.step()\n",
    "        train_loss += loss.item()\n",
    "        _, predicted = output.max(1)\n",
    "        total += target.size(0)\n",
    "        correct += predicted.eq(target).sum().item()\n",
    "        progress_bar.set_postfix({\"Train Loss\": train_loss / (batch_idx + 1), \"Train Acc\": 100. * correct / total})\n",
    "        \n",
    "        # Log batch-level metrics\n",
    "        writer.add_scalar('Loss/Train Batch', loss.item(), epoch * len(train_loader) + batch_idx)\n",
    "        writer.add_scalar('Accuracy/Train Batch', 100. * correct / total, epoch * len(train_loader) + batch_idx)\n",
    "    \n",
    "    train_loss /= len(train_loader)\n",
    "    train_accuracy = 100. * correct / total\n",
    "    \n",
    "    # Log epoch-level metrics\n",
    "    writer.add_scalar('Loss/Train Epoch', train_loss, epoch)\n",
    "    writer.add_scalar('Accuracy/Train Epoch', train_accuracy, epoch)\n",
    "    \n",
    "    return train_loss, train_accuracy\n",
    "\n",
    "def test(model, device, test_loader, criterion, epoch):\n",
    "    model.eval()\n",
    "    test_loss = 0\n",
    "    correct = 0\n",
    "    total = 0\n",
    "    with torch.no_grad():\n",
    "        for data, target in test_loader:\n",
    "            data, target = data.to(device), target.to(device)\n",
    "            output = model(data)\n",
    "            test_loss += criterion(output, target).item()\n",
    "            _, predicted = output.max(1)\n",
    "            total += target.size(0)\n",
    "            correct += predicted.eq(target).sum().item()\n",
    "    \n",
    "    test_loss /= len(test_loader)\n",
    "    test_accuracy = 100. * correct / total\n",
    "    \n",
    "    # Log epoch-level metrics\n",
    "    writer.add_scalar('Loss/Test', test_loss, epoch)\n",
    "    writer.add_scalar('Accuracy/Test', test_accuracy, epoch)\n",
    "    \n",
    "    return test_loss, test_accuracy\n"
   ]
  },
  {
   "cell_type": "code",
   "execution_count": 28,
   "metadata": {},
   "outputs": [
    {
     "name": "stdout",
     "output_type": "stream",
     "text": [
      "cuda\n"
     ]
    }
   ],
   "source": [
    "device = torch.device(\"cuda\" if torch.cuda.is_available() else \"cpu\")\n",
    "print(device)"
   ]
  },
  {
   "cell_type": "code",
   "execution_count": 29,
   "metadata": {},
   "outputs": [
    {
     "name": "stderr",
     "output_type": "stream",
     "text": [
      "Epoch 581: 100%|██████████| 938/938 [00:16<00:00, 58.23batch/s, Train Loss=0.732, Train Acc=73.6]\n"
     ]
    },
    {
     "name": "stdout",
     "output_type": "stream",
     "text": [
      "Epoch 581\n",
      "Train Loss: 0.7325, Train Accuracy: 73.61%\n",
      "Test Loss: 0.4509, Test Accuracy: 83.93%\n",
      "\n"
     ]
    },
    {
     "name": "stderr",
     "output_type": "stream",
     "text": [
      "Epoch 582: 100%|██████████| 938/938 [00:15<00:00, 60.99batch/s, Train Loss=0.494, Train Acc=82]  \n"
     ]
    },
    {
     "name": "stdout",
     "output_type": "stream",
     "text": [
      "Epoch 582\n",
      "Train Loss: 0.4935, Train Accuracy: 81.95%\n",
      "Test Loss: 0.3841, Test Accuracy: 85.96%\n",
      "\n"
     ]
    },
    {
     "name": "stderr",
     "output_type": "stream",
     "text": [
      "Epoch 583: 100%|██████████| 938/938 [00:15<00:00, 61.33batch/s, Train Loss=0.449, Train Acc=83.6]\n"
     ]
    },
    {
     "name": "stdout",
     "output_type": "stream",
     "text": [
      "Epoch 583\n",
      "Train Loss: 0.4492, Train Accuracy: 83.59%\n",
      "Test Loss: 0.3571, Test Accuracy: 86.71%\n",
      "\n"
     ]
    },
    {
     "name": "stderr",
     "output_type": "stream",
     "text": [
      "Epoch 584: 100%|██████████| 938/938 [00:15<00:00, 61.46batch/s, Train Loss=0.418, Train Acc=84.7]\n"
     ]
    },
    {
     "name": "stdout",
     "output_type": "stream",
     "text": [
      "Epoch 584\n",
      "Train Loss: 0.4181, Train Accuracy: 84.75%\n",
      "Test Loss: 0.3507, Test Accuracy: 87.08%\n",
      "\n"
     ]
    },
    {
     "name": "stderr",
     "output_type": "stream",
     "text": [
      "Epoch 585: 100%|██████████| 938/938 [00:15<00:00, 61.31batch/s, Train Loss=0.397, Train Acc=85.5]\n"
     ]
    },
    {
     "name": "stdout",
     "output_type": "stream",
     "text": [
      "Epoch 585\n",
      "Train Loss: 0.3975, Train Accuracy: 85.50%\n",
      "Test Loss: 0.3325, Test Accuracy: 87.96%\n",
      "\n"
     ]
    },
    {
     "name": "stderr",
     "output_type": "stream",
     "text": [
      "Epoch 586: 100%|██████████| 938/938 [00:15<00:00, 61.15batch/s, Train Loss=0.383, Train Acc=85.8]\n"
     ]
    },
    {
     "name": "stdout",
     "output_type": "stream",
     "text": [
      "Epoch 586\n",
      "Train Loss: 0.3831, Train Accuracy: 85.80%\n",
      "Test Loss: 0.3388, Test Accuracy: 87.55%\n",
      "\n"
     ]
    },
    {
     "name": "stderr",
     "output_type": "stream",
     "text": [
      "Epoch 587: 100%|██████████| 938/938 [00:15<00:00, 61.12batch/s, Train Loss=0.368, Train Acc=86.4]\n"
     ]
    },
    {
     "name": "stdout",
     "output_type": "stream",
     "text": [
      "Epoch 587\n",
      "Train Loss: 0.3683, Train Accuracy: 86.38%\n",
      "Test Loss: 0.3264, Test Accuracy: 88.00%\n",
      "\n"
     ]
    },
    {
     "name": "stderr",
     "output_type": "stream",
     "text": [
      "Epoch 588: 100%|██████████| 938/938 [00:15<00:00, 61.07batch/s, Train Loss=0.357, Train Acc=86.6]\n"
     ]
    },
    {
     "name": "stdout",
     "output_type": "stream",
     "text": [
      "Epoch 588\n",
      "Train Loss: 0.3571, Train Accuracy: 86.58%\n",
      "Test Loss: 0.3125, Test Accuracy: 88.27%\n",
      "\n"
     ]
    },
    {
     "name": "stderr",
     "output_type": "stream",
     "text": [
      "Epoch 589: 100%|██████████| 938/938 [00:15<00:00, 60.50batch/s, Train Loss=0.343, Train Acc=87.3]\n"
     ]
    },
    {
     "name": "stdout",
     "output_type": "stream",
     "text": [
      "Epoch 589\n",
      "Train Loss: 0.3429, Train Accuracy: 87.26%\n",
      "Test Loss: 0.3050, Test Accuracy: 88.59%\n",
      "\n"
     ]
    },
    {
     "name": "stderr",
     "output_type": "stream",
     "text": [
      "Epoch 590: 100%|██████████| 938/938 [00:15<00:00, 60.37batch/s, Train Loss=0.334, Train Acc=87.5]\n"
     ]
    },
    {
     "name": "stdout",
     "output_type": "stream",
     "text": [
      "Epoch 590\n",
      "Train Loss: 0.3338, Train Accuracy: 87.48%\n",
      "Test Loss: 0.3035, Test Accuracy: 88.89%\n",
      "\n"
     ]
    },
    {
     "name": "stderr",
     "output_type": "stream",
     "text": [
      "Epoch 591: 100%|██████████| 938/938 [00:15<00:00, 60.51batch/s, Train Loss=0.323, Train Acc=88]  \n"
     ]
    },
    {
     "name": "stdout",
     "output_type": "stream",
     "text": [
      "Epoch 591\n",
      "Train Loss: 0.3229, Train Accuracy: 88.02%\n",
      "Test Loss: 0.3020, Test Accuracy: 89.03%\n",
      "\n"
     ]
    },
    {
     "name": "stderr",
     "output_type": "stream",
     "text": [
      "Epoch 592: 100%|██████████| 938/938 [00:15<00:00, 60.08batch/s, Train Loss=0.317, Train Acc=88.2]\n"
     ]
    },
    {
     "name": "stdout",
     "output_type": "stream",
     "text": [
      "Epoch 592\n",
      "Train Loss: 0.3172, Train Accuracy: 88.19%\n",
      "Test Loss: 0.2989, Test Accuracy: 89.41%\n",
      "\n"
     ]
    },
    {
     "name": "stderr",
     "output_type": "stream",
     "text": [
      "Epoch 593: 100%|██████████| 938/938 [00:15<00:00, 60.14batch/s, Train Loss=0.312, Train Acc=88.3]\n"
     ]
    },
    {
     "name": "stdout",
     "output_type": "stream",
     "text": [
      "Epoch 593\n",
      "Train Loss: 0.3117, Train Accuracy: 88.28%\n",
      "Test Loss: 0.2959, Test Accuracy: 89.19%\n",
      "\n"
     ]
    },
    {
     "name": "stderr",
     "output_type": "stream",
     "text": [
      "Epoch 594: 100%|██████████| 938/938 [00:15<00:00, 60.15batch/s, Train Loss=0.3, Train Acc=88.7]  \n"
     ]
    },
    {
     "name": "stdout",
     "output_type": "stream",
     "text": [
      "Epoch 594\n",
      "Train Loss: 0.2995, Train Accuracy: 88.73%\n",
      "Test Loss: 0.2966, Test Accuracy: 88.97%\n",
      "\n"
     ]
    },
    {
     "name": "stderr",
     "output_type": "stream",
     "text": [
      "Epoch 595: 100%|██████████| 938/938 [00:15<00:00, 60.12batch/s, Train Loss=0.298, Train Acc=88.9]\n"
     ]
    },
    {
     "name": "stdout",
     "output_type": "stream",
     "text": [
      "Epoch 595\n",
      "Train Loss: 0.2975, Train Accuracy: 88.94%\n",
      "Test Loss: 0.2839, Test Accuracy: 89.70%\n",
      "\n"
     ]
    },
    {
     "name": "stderr",
     "output_type": "stream",
     "text": [
      "Epoch 596: 100%|██████████| 938/938 [00:15<00:00, 60.19batch/s, Train Loss=0.287, Train Acc=89.2]\n"
     ]
    },
    {
     "name": "stdout",
     "output_type": "stream",
     "text": [
      "Epoch 596\n",
      "Train Loss: 0.2873, Train Accuracy: 89.21%\n",
      "Test Loss: 0.2886, Test Accuracy: 89.59%\n",
      "\n"
     ]
    },
    {
     "name": "stderr",
     "output_type": "stream",
     "text": [
      "Epoch 597: 100%|██████████| 938/938 [00:15<00:00, 60.59batch/s, Train Loss=0.282, Train Acc=89.4]\n"
     ]
    },
    {
     "name": "stdout",
     "output_type": "stream",
     "text": [
      "Epoch 597\n",
      "Train Loss: 0.2819, Train Accuracy: 89.38%\n",
      "Test Loss: 0.2940, Test Accuracy: 89.37%\n",
      "\n"
     ]
    },
    {
     "name": "stderr",
     "output_type": "stream",
     "text": [
      "Epoch 598: 100%|██████████| 938/938 [00:15<00:00, 60.77batch/s, Train Loss=0.277, Train Acc=89.5]\n"
     ]
    },
    {
     "name": "stdout",
     "output_type": "stream",
     "text": [
      "Epoch 598\n",
      "Train Loss: 0.2771, Train Accuracy: 89.53%\n",
      "Test Loss: 0.2876, Test Accuracy: 89.43%\n",
      "\n"
     ]
    },
    {
     "name": "stderr",
     "output_type": "stream",
     "text": [
      "Epoch 599: 100%|██████████| 938/938 [00:15<00:00, 60.84batch/s, Train Loss=0.274, Train Acc=89.7]\n"
     ]
    },
    {
     "name": "stdout",
     "output_type": "stream",
     "text": [
      "Epoch 599\n",
      "Train Loss: 0.2739, Train Accuracy: 89.69%\n",
      "Test Loss: 0.2785, Test Accuracy: 89.95%\n",
      "\n"
     ]
    },
    {
     "name": "stderr",
     "output_type": "stream",
     "text": [
      "Epoch 600: 100%|██████████| 938/938 [00:15<00:00, 60.82batch/s, Train Loss=0.267, Train Acc=89.9]\n"
     ]
    },
    {
     "name": "stdout",
     "output_type": "stream",
     "text": [
      "Epoch 600\n",
      "Train Loss: 0.2669, Train Accuracy: 89.93%\n",
      "Test Loss: 0.2963, Test Accuracy: 89.03%\n",
      "\n"
     ]
    },
    {
     "name": "stderr",
     "output_type": "stream",
     "text": [
      "Epoch 601: 100%|██████████| 938/938 [00:15<00:00, 59.83batch/s, Train Loss=0.259, Train Acc=90.3]\n"
     ]
    },
    {
     "name": "stdout",
     "output_type": "stream",
     "text": [
      "Epoch 601\n",
      "Train Loss: 0.2593, Train Accuracy: 90.25%\n",
      "Test Loss: 0.2831, Test Accuracy: 89.73%\n",
      "\n"
     ]
    },
    {
     "name": "stderr",
     "output_type": "stream",
     "text": [
      "Epoch 602: 100%|██████████| 938/938 [00:15<00:00, 60.70batch/s, Train Loss=0.253, Train Acc=90.4]\n"
     ]
    },
    {
     "name": "stdout",
     "output_type": "stream",
     "text": [
      "Epoch 602\n",
      "Train Loss: 0.2531, Train Accuracy: 90.42%\n",
      "Test Loss: 0.2731, Test Accuracy: 90.01%\n",
      "\n"
     ]
    },
    {
     "name": "stderr",
     "output_type": "stream",
     "text": [
      "Epoch 603: 100%|██████████| 938/938 [00:15<00:00, 60.98batch/s, Train Loss=0.249, Train Acc=90.7]\n"
     ]
    },
    {
     "name": "stdout",
     "output_type": "stream",
     "text": [
      "Epoch 603\n",
      "Train Loss: 0.2485, Train Accuracy: 90.67%\n",
      "Test Loss: 0.2744, Test Accuracy: 89.81%\n",
      "\n"
     ]
    },
    {
     "name": "stderr",
     "output_type": "stream",
     "text": [
      "Epoch 604: 100%|██████████| 938/938 [00:15<00:00, 60.81batch/s, Train Loss=0.247, Train Acc=90.8]\n"
     ]
    },
    {
     "name": "stdout",
     "output_type": "stream",
     "text": [
      "Epoch 604\n",
      "Train Loss: 0.2468, Train Accuracy: 90.77%\n",
      "Test Loss: 0.2675, Test Accuracy: 90.45%\n",
      "\n"
     ]
    },
    {
     "name": "stderr",
     "output_type": "stream",
     "text": [
      "Epoch 605: 100%|██████████| 938/938 [00:15<00:00, 60.22batch/s, Train Loss=0.242, Train Acc=90.8]\n"
     ]
    },
    {
     "name": "stdout",
     "output_type": "stream",
     "text": [
      "Epoch 605\n",
      "Train Loss: 0.2424, Train Accuracy: 90.80%\n",
      "Test Loss: 0.2691, Test Accuracy: 90.57%\n",
      "\n"
     ]
    },
    {
     "name": "stderr",
     "output_type": "stream",
     "text": [
      "Epoch 606: 100%|██████████| 938/938 [00:15<00:00, 60.57batch/s, Train Loss=0.239, Train Acc=91]  \n"
     ]
    },
    {
     "name": "stdout",
     "output_type": "stream",
     "text": [
      "Epoch 606\n",
      "Train Loss: 0.2388, Train Accuracy: 90.97%\n",
      "Test Loss: 0.2706, Test Accuracy: 90.37%\n",
      "\n"
     ]
    },
    {
     "name": "stderr",
     "output_type": "stream",
     "text": [
      "Epoch 607: 100%|██████████| 938/938 [00:15<00:00, 60.72batch/s, Train Loss=0.236, Train Acc=91.1]\n"
     ]
    },
    {
     "name": "stdout",
     "output_type": "stream",
     "text": [
      "Epoch 607\n",
      "Train Loss: 0.2361, Train Accuracy: 91.14%\n",
      "Test Loss: 0.2747, Test Accuracy: 90.16%\n",
      "\n"
     ]
    },
    {
     "name": "stderr",
     "output_type": "stream",
     "text": [
      "Epoch 608: 100%|██████████| 938/938 [00:15<00:00, 60.54batch/s, Train Loss=0.227, Train Acc=91.5]\n"
     ]
    },
    {
     "name": "stdout",
     "output_type": "stream",
     "text": [
      "Epoch 608\n",
      "Train Loss: 0.2271, Train Accuracy: 91.50%\n",
      "Test Loss: 0.2834, Test Accuracy: 90.49%\n",
      "\n"
     ]
    },
    {
     "name": "stderr",
     "output_type": "stream",
     "text": [
      "Epoch 609: 100%|██████████| 938/938 [00:15<00:00, 60.36batch/s, Train Loss=0.225, Train Acc=91.5]\n"
     ]
    },
    {
     "name": "stdout",
     "output_type": "stream",
     "text": [
      "Epoch 609\n",
      "Train Loss: 0.2246, Train Accuracy: 91.54%\n",
      "Test Loss: 0.2796, Test Accuracy: 90.30%\n",
      "\n"
     ]
    },
    {
     "name": "stderr",
     "output_type": "stream",
     "text": [
      "Epoch 610: 100%|██████████| 938/938 [00:15<00:00, 59.98batch/s, Train Loss=0.224, Train Acc=91.5]\n"
     ]
    },
    {
     "name": "stdout",
     "output_type": "stream",
     "text": [
      "Epoch 610\n",
      "Train Loss: 0.2235, Train Accuracy: 91.46%\n",
      "Test Loss: 0.2811, Test Accuracy: 90.33%\n",
      "\n"
     ]
    },
    {
     "name": "stderr",
     "output_type": "stream",
     "text": [
      "Epoch 611: 100%|██████████| 938/938 [00:15<00:00, 59.96batch/s, Train Loss=0.216, Train Acc=91.9]\n"
     ]
    },
    {
     "name": "stdout",
     "output_type": "stream",
     "text": [
      "Epoch 611\n",
      "Train Loss: 0.2162, Train Accuracy: 91.94%\n",
      "Test Loss: 0.2758, Test Accuracy: 90.10%\n",
      "\n"
     ]
    },
    {
     "name": "stderr",
     "output_type": "stream",
     "text": [
      "Epoch 612: 100%|██████████| 938/938 [00:15<00:00, 60.24batch/s, Train Loss=0.216, Train Acc=91.8]\n"
     ]
    },
    {
     "name": "stdout",
     "output_type": "stream",
     "text": [
      "Epoch 612\n",
      "Train Loss: 0.2161, Train Accuracy: 91.82%\n",
      "Test Loss: 0.2761, Test Accuracy: 90.51%\n",
      "\n"
     ]
    },
    {
     "name": "stderr",
     "output_type": "stream",
     "text": [
      "Epoch 613: 100%|██████████| 938/938 [00:15<00:00, 60.71batch/s, Train Loss=0.216, Train Acc=91.9]\n"
     ]
    },
    {
     "name": "stdout",
     "output_type": "stream",
     "text": [
      "Epoch 613\n",
      "Train Loss: 0.2159, Train Accuracy: 91.90%\n",
      "Test Loss: 0.2751, Test Accuracy: 90.62%\n",
      "\n"
     ]
    },
    {
     "name": "stderr",
     "output_type": "stream",
     "text": [
      "Epoch 614: 100%|██████████| 938/938 [00:15<00:00, 60.65batch/s, Train Loss=0.207, Train Acc=92.3]\n"
     ]
    },
    {
     "name": "stdout",
     "output_type": "stream",
     "text": [
      "Epoch 614\n",
      "Train Loss: 0.2072, Train Accuracy: 92.32%\n",
      "Test Loss: 0.2757, Test Accuracy: 90.81%\n",
      "\n"
     ]
    },
    {
     "name": "stderr",
     "output_type": "stream",
     "text": [
      "Epoch 615: 100%|██████████| 938/938 [00:15<00:00, 60.45batch/s, Train Loss=0.208, Train Acc=92.2]\n"
     ]
    },
    {
     "name": "stdout",
     "output_type": "stream",
     "text": [
      "Epoch 615\n",
      "Train Loss: 0.2080, Train Accuracy: 92.22%\n",
      "Test Loss: 0.2763, Test Accuracy: 90.43%\n",
      "\n"
     ]
    },
    {
     "name": "stderr",
     "output_type": "stream",
     "text": [
      "Epoch 616: 100%|██████████| 938/938 [00:15<00:00, 60.52batch/s, Train Loss=0.202, Train Acc=92.5]\n"
     ]
    },
    {
     "name": "stdout",
     "output_type": "stream",
     "text": [
      "Epoch 616\n",
      "Train Loss: 0.2020, Train Accuracy: 92.49%\n",
      "Test Loss: 0.2767, Test Accuracy: 90.59%\n",
      "\n"
     ]
    },
    {
     "name": "stderr",
     "output_type": "stream",
     "text": [
      "Epoch 617: 100%|██████████| 938/938 [00:15<00:00, 60.60batch/s, Train Loss=0.199, Train Acc=92.6]\n"
     ]
    },
    {
     "name": "stdout",
     "output_type": "stream",
     "text": [
      "Epoch 617\n",
      "Train Loss: 0.1986, Train Accuracy: 92.58%\n",
      "Test Loss: 0.2765, Test Accuracy: 90.97%\n",
      "\n"
     ]
    },
    {
     "name": "stderr",
     "output_type": "stream",
     "text": [
      "Epoch 618: 100%|██████████| 938/938 [00:15<00:00, 60.17batch/s, Train Loss=0.193, Train Acc=92.7]\n"
     ]
    },
    {
     "name": "stdout",
     "output_type": "stream",
     "text": [
      "Epoch 618\n",
      "Train Loss: 0.1933, Train Accuracy: 92.71%\n",
      "Test Loss: 0.2860, Test Accuracy: 90.53%\n",
      "\n"
     ]
    },
    {
     "name": "stderr",
     "output_type": "stream",
     "text": [
      "Epoch 619: 100%|██████████| 938/938 [00:15<00:00, 60.03batch/s, Train Loss=0.193, Train Acc=92.7]\n"
     ]
    },
    {
     "name": "stdout",
     "output_type": "stream",
     "text": [
      "Epoch 619\n",
      "Train Loss: 0.1926, Train Accuracy: 92.70%\n",
      "Test Loss: 0.2802, Test Accuracy: 90.95%\n",
      "\n"
     ]
    },
    {
     "name": "stderr",
     "output_type": "stream",
     "text": [
      "Epoch 620: 100%|██████████| 938/938 [00:15<00:00, 60.00batch/s, Train Loss=0.188, Train Acc=93.1]\n"
     ]
    },
    {
     "name": "stdout",
     "output_type": "stream",
     "text": [
      "Epoch 620\n",
      "Train Loss: 0.1885, Train Accuracy: 93.06%\n",
      "Test Loss: 0.2787, Test Accuracy: 90.83%\n",
      "\n"
     ]
    },
    {
     "name": "stderr",
     "output_type": "stream",
     "text": [
      "Epoch 621: 100%|██████████| 938/938 [00:16<00:00, 55.77batch/s, Train Loss=0.185, Train Acc=93.1]\n"
     ]
    },
    {
     "name": "stdout",
     "output_type": "stream",
     "text": [
      "Epoch 621\n",
      "Train Loss: 0.1853, Train Accuracy: 93.06%\n",
      "Test Loss: 0.2934, Test Accuracy: 90.48%\n",
      "\n"
     ]
    },
    {
     "name": "stderr",
     "output_type": "stream",
     "text": [
      "Epoch 622: 100%|██████████| 938/938 [00:15<00:00, 59.84batch/s, Train Loss=0.182, Train Acc=93.2]\n"
     ]
    },
    {
     "name": "stdout",
     "output_type": "stream",
     "text": [
      "Epoch 622\n",
      "Train Loss: 0.1816, Train Accuracy: 93.21%\n",
      "Test Loss: 0.3001, Test Accuracy: 90.11%\n",
      "\n"
     ]
    },
    {
     "name": "stderr",
     "output_type": "stream",
     "text": [
      "Epoch 623: 100%|██████████| 938/938 [00:15<00:00, 59.56batch/s, Train Loss=0.178, Train Acc=93.3]\n"
     ]
    },
    {
     "name": "stdout",
     "output_type": "stream",
     "text": [
      "Epoch 623\n",
      "Train Loss: 0.1776, Train Accuracy: 93.31%\n",
      "Test Loss: 0.3027, Test Accuracy: 90.35%\n",
      "\n"
     ]
    },
    {
     "name": "stderr",
     "output_type": "stream",
     "text": [
      "Epoch 624: 100%|██████████| 938/938 [00:15<00:00, 59.50batch/s, Train Loss=0.175, Train Acc=93.4]\n"
     ]
    },
    {
     "name": "stdout",
     "output_type": "stream",
     "text": [
      "Epoch 624\n",
      "Train Loss: 0.1754, Train Accuracy: 93.43%\n",
      "Test Loss: 0.2962, Test Accuracy: 90.70%\n",
      "\n"
     ]
    },
    {
     "name": "stderr",
     "output_type": "stream",
     "text": [
      "Epoch 625: 100%|██████████| 938/938 [00:15<00:00, 59.20batch/s, Train Loss=0.176, Train Acc=93.3]\n"
     ]
    },
    {
     "name": "stdout",
     "output_type": "stream",
     "text": [
      "Epoch 625\n",
      "Train Loss: 0.1757, Train Accuracy: 93.34%\n",
      "Test Loss: 0.2869, Test Accuracy: 91.08%\n",
      "\n"
     ]
    },
    {
     "name": "stderr",
     "output_type": "stream",
     "text": [
      "Epoch 626: 100%|██████████| 938/938 [00:15<00:00, 58.78batch/s, Train Loss=0.172, Train Acc=93.6]\n"
     ]
    },
    {
     "name": "stdout",
     "output_type": "stream",
     "text": [
      "Epoch 626\n",
      "Train Loss: 0.1715, Train Accuracy: 93.62%\n",
      "Test Loss: 0.2987, Test Accuracy: 90.72%\n",
      "\n"
     ]
    },
    {
     "name": "stderr",
     "output_type": "stream",
     "text": [
      "Epoch 627: 100%|██████████| 938/938 [00:16<00:00, 58.54batch/s, Train Loss=0.164, Train Acc=93.9]\n"
     ]
    },
    {
     "name": "stdout",
     "output_type": "stream",
     "text": [
      "Epoch 627\n",
      "Train Loss: 0.1641, Train Accuracy: 93.86%\n",
      "Test Loss: 0.3023, Test Accuracy: 90.88%\n",
      "\n"
     ]
    },
    {
     "name": "stderr",
     "output_type": "stream",
     "text": [
      "Epoch 628: 100%|██████████| 938/938 [00:15<00:00, 59.44batch/s, Train Loss=0.166, Train Acc=93.8]\n"
     ]
    },
    {
     "name": "stdout",
     "output_type": "stream",
     "text": [
      "Epoch 628\n",
      "Train Loss: 0.1664, Train Accuracy: 93.76%\n",
      "Test Loss: 0.2960, Test Accuracy: 90.55%\n",
      "\n"
     ]
    },
    {
     "name": "stderr",
     "output_type": "stream",
     "text": [
      "Epoch 629: 100%|██████████| 938/938 [00:15<00:00, 59.87batch/s, Train Loss=0.163, Train Acc=93.9]\n"
     ]
    },
    {
     "name": "stdout",
     "output_type": "stream",
     "text": [
      "Epoch 629\n",
      "Train Loss: 0.1630, Train Accuracy: 93.88%\n",
      "Test Loss: 0.3037, Test Accuracy: 90.38%\n",
      "\n"
     ]
    },
    {
     "name": "stderr",
     "output_type": "stream",
     "text": [
      "Epoch 630: 100%|██████████| 938/938 [00:15<00:00, 59.65batch/s, Train Loss=0.164, Train Acc=93.8]\n"
     ]
    },
    {
     "name": "stdout",
     "output_type": "stream",
     "text": [
      "Epoch 630\n",
      "Train Loss: 0.1635, Train Accuracy: 93.79%\n",
      "Test Loss: 0.2966, Test Accuracy: 90.75%\n",
      "\n"
     ]
    },
    {
     "name": "stderr",
     "output_type": "stream",
     "text": [
      "Epoch 631: 100%|██████████| 938/938 [00:15<00:00, 59.61batch/s, Train Loss=0.161, Train Acc=94]  \n"
     ]
    },
    {
     "name": "stdout",
     "output_type": "stream",
     "text": [
      "Epoch 631\n",
      "Train Loss: 0.1608, Train Accuracy: 93.99%\n",
      "Test Loss: 0.3061, Test Accuracy: 90.92%\n",
      "\n"
     ]
    },
    {
     "name": "stderr",
     "output_type": "stream",
     "text": [
      "Epoch 632: 100%|██████████| 938/938 [00:15<00:00, 59.98batch/s, Train Loss=0.156, Train Acc=94.1]\n"
     ]
    },
    {
     "name": "stdout",
     "output_type": "stream",
     "text": [
      "Epoch 632\n",
      "Train Loss: 0.1561, Train Accuracy: 94.07%\n",
      "Test Loss: 0.3024, Test Accuracy: 90.91%\n",
      "\n"
     ]
    },
    {
     "name": "stderr",
     "output_type": "stream",
     "text": [
      "Epoch 633: 100%|██████████| 938/938 [00:15<00:00, 59.85batch/s, Train Loss=0.154, Train Acc=94.2]\n"
     ]
    },
    {
     "name": "stdout",
     "output_type": "stream",
     "text": [
      "Epoch 633\n",
      "Train Loss: 0.1539, Train Accuracy: 94.23%\n",
      "Test Loss: 0.3024, Test Accuracy: 90.89%\n",
      "\n"
     ]
    },
    {
     "name": "stderr",
     "output_type": "stream",
     "text": [
      "Epoch 634: 100%|██████████| 938/938 [00:15<00:00, 59.83batch/s, Train Loss=0.154, Train Acc=94.3]\n"
     ]
    },
    {
     "name": "stdout",
     "output_type": "stream",
     "text": [
      "Epoch 634\n",
      "Train Loss: 0.1544, Train Accuracy: 94.30%\n",
      "Test Loss: 0.3128, Test Accuracy: 91.03%\n",
      "\n"
     ]
    },
    {
     "name": "stderr",
     "output_type": "stream",
     "text": [
      "Epoch 635: 100%|██████████| 938/938 [00:15<00:00, 59.89batch/s, Train Loss=0.15, Train Acc=94.4] \n"
     ]
    },
    {
     "name": "stdout",
     "output_type": "stream",
     "text": [
      "Epoch 635\n",
      "Train Loss: 0.1498, Train Accuracy: 94.39%\n",
      "Test Loss: 0.3234, Test Accuracy: 90.76%\n",
      "\n"
     ]
    },
    {
     "name": "stderr",
     "output_type": "stream",
     "text": [
      "Epoch 636:  30%|███       | 282/938 [00:04<00:11, 58.77batch/s, Train Loss=0.145, Train Acc=94.5]\n"
     ]
    },
    {
     "ename": "KeyboardInterrupt",
     "evalue": "",
     "output_type": "error",
     "traceback": [
      "\u001b[0;31m---------------------------------------------------------------------------\u001b[0m",
      "\u001b[0;31mKeyboardInterrupt\u001b[0m                         Traceback (most recent call last)",
      "\u001b[1;32m/home/marco/Desktop/MNIST_Dataset/240628_ViT_image_domain_augment.ipynb Cell 17\u001b[0m line \u001b[0;36m4\n\u001b[1;32m      <a href='vscode-notebook-cell:/home/marco/Desktop/MNIST_Dataset/240628_ViT_image_domain_augment.ipynb#X22sZmlsZQ%3D%3D?line=1'>2</a>\u001b[0m epochs \u001b[39m=\u001b[39m \u001b[39m1000\u001b[39m\n\u001b[1;32m      <a href='vscode-notebook-cell:/home/marco/Desktop/MNIST_Dataset/240628_ViT_image_domain_augment.ipynb#X22sZmlsZQ%3D%3D?line=2'>3</a>\u001b[0m \u001b[39mfor\u001b[39;00m epoch \u001b[39min\u001b[39;00m \u001b[39mrange\u001b[39m(\u001b[39m581\u001b[39m, epochs \u001b[39m+\u001b[39m \u001b[39m1\u001b[39m):\n\u001b[0;32m----> <a href='vscode-notebook-cell:/home/marco/Desktop/MNIST_Dataset/240628_ViT_image_domain_augment.ipynb#X22sZmlsZQ%3D%3D?line=3'>4</a>\u001b[0m     train_loss, train_accuracy \u001b[39m=\u001b[39m train(model, device, train_loader, optimizer, criterion, epoch)\n\u001b[1;32m      <a href='vscode-notebook-cell:/home/marco/Desktop/MNIST_Dataset/240628_ViT_image_domain_augment.ipynb#X22sZmlsZQ%3D%3D?line=4'>5</a>\u001b[0m     test_loss, test_accuracy \u001b[39m=\u001b[39m test(model, device, test_loader, criterion, epoch)\n\u001b[1;32m      <a href='vscode-notebook-cell:/home/marco/Desktop/MNIST_Dataset/240628_ViT_image_domain_augment.ipynb#X22sZmlsZQ%3D%3D?line=5'>6</a>\u001b[0m     \u001b[39mprint\u001b[39m(\u001b[39mf\u001b[39m\u001b[39m\"\u001b[39m\u001b[39mEpoch \u001b[39m\u001b[39m{\u001b[39;00mepoch\u001b[39m}\u001b[39;00m\u001b[39m\"\u001b[39m)\n",
      "\u001b[1;32m/home/marco/Desktop/MNIST_Dataset/240628_ViT_image_domain_augment.ipynb Cell 17\u001b[0m line \u001b[0;36m9\n\u001b[1;32m      <a href='vscode-notebook-cell:/home/marco/Desktop/MNIST_Dataset/240628_ViT_image_domain_augment.ipynb#X22sZmlsZQ%3D%3D?line=6'>7</a>\u001b[0m total \u001b[39m=\u001b[39m \u001b[39m0\u001b[39m\n\u001b[1;32m      <a href='vscode-notebook-cell:/home/marco/Desktop/MNIST_Dataset/240628_ViT_image_domain_augment.ipynb#X22sZmlsZQ%3D%3D?line=7'>8</a>\u001b[0m progress_bar \u001b[39m=\u001b[39m tqdm(train_loader, desc\u001b[39m=\u001b[39m\u001b[39mf\u001b[39m\u001b[39m\"\u001b[39m\u001b[39mEpoch \u001b[39m\u001b[39m{\u001b[39;00mepoch\u001b[39m}\u001b[39;00m\u001b[39m\"\u001b[39m, unit\u001b[39m=\u001b[39m\u001b[39m\"\u001b[39m\u001b[39mbatch\u001b[39m\u001b[39m\"\u001b[39m)\n\u001b[0;32m----> <a href='vscode-notebook-cell:/home/marco/Desktop/MNIST_Dataset/240628_ViT_image_domain_augment.ipynb#X22sZmlsZQ%3D%3D?line=8'>9</a>\u001b[0m \u001b[39mfor\u001b[39;00m batch_idx, (data, target) \u001b[39min\u001b[39;00m \u001b[39menumerate\u001b[39m(progress_bar):\n\u001b[1;32m     <a href='vscode-notebook-cell:/home/marco/Desktop/MNIST_Dataset/240628_ViT_image_domain_augment.ipynb#X22sZmlsZQ%3D%3D?line=9'>10</a>\u001b[0m     data, target \u001b[39m=\u001b[39m data\u001b[39m.\u001b[39mto(device), target\u001b[39m.\u001b[39mto(device)\n\u001b[1;32m     <a href='vscode-notebook-cell:/home/marco/Desktop/MNIST_Dataset/240628_ViT_image_domain_augment.ipynb#X22sZmlsZQ%3D%3D?line=10'>11</a>\u001b[0m     optimizer\u001b[39m.\u001b[39mzero_grad()\n",
      "File \u001b[0;32m~/miniconda3/envs/pytorch-env/lib/python3.10/site-packages/tqdm/std.py:1178\u001b[0m, in \u001b[0;36mtqdm.__iter__\u001b[0;34m(self)\u001b[0m\n\u001b[1;32m   1175\u001b[0m time \u001b[39m=\u001b[39m \u001b[39mself\u001b[39m\u001b[39m.\u001b[39m_time\n\u001b[1;32m   1177\u001b[0m \u001b[39mtry\u001b[39;00m:\n\u001b[0;32m-> 1178\u001b[0m     \u001b[39mfor\u001b[39;00m obj \u001b[39min\u001b[39;00m iterable:\n\u001b[1;32m   1179\u001b[0m         \u001b[39myield\u001b[39;00m obj\n\u001b[1;32m   1180\u001b[0m         \u001b[39m# Update and possibly print the progressbar.\u001b[39;00m\n\u001b[1;32m   1181\u001b[0m         \u001b[39m# Note: does not call self.update(1) for speed optimisation.\u001b[39;00m\n",
      "File \u001b[0;32m~/miniconda3/envs/pytorch-env/lib/python3.10/site-packages/torch/utils/data/dataloader.py:633\u001b[0m, in \u001b[0;36m_BaseDataLoaderIter.__next__\u001b[0;34m(self)\u001b[0m\n\u001b[1;32m    630\u001b[0m \u001b[39mif\u001b[39;00m \u001b[39mself\u001b[39m\u001b[39m.\u001b[39m_sampler_iter \u001b[39mis\u001b[39;00m \u001b[39mNone\u001b[39;00m:\n\u001b[1;32m    631\u001b[0m     \u001b[39m# TODO(https://github.com/pytorch/pytorch/issues/76750)\u001b[39;00m\n\u001b[1;32m    632\u001b[0m     \u001b[39mself\u001b[39m\u001b[39m.\u001b[39m_reset()  \u001b[39m# type: ignore[call-arg]\u001b[39;00m\n\u001b[0;32m--> 633\u001b[0m data \u001b[39m=\u001b[39m \u001b[39mself\u001b[39;49m\u001b[39m.\u001b[39;49m_next_data()\n\u001b[1;32m    634\u001b[0m \u001b[39mself\u001b[39m\u001b[39m.\u001b[39m_num_yielded \u001b[39m+\u001b[39m\u001b[39m=\u001b[39m \u001b[39m1\u001b[39m\n\u001b[1;32m    635\u001b[0m \u001b[39mif\u001b[39;00m \u001b[39mself\u001b[39m\u001b[39m.\u001b[39m_dataset_kind \u001b[39m==\u001b[39m _DatasetKind\u001b[39m.\u001b[39mIterable \u001b[39mand\u001b[39;00m \\\n\u001b[1;32m    636\u001b[0m         \u001b[39mself\u001b[39m\u001b[39m.\u001b[39m_IterableDataset_len_called \u001b[39mis\u001b[39;00m \u001b[39mnot\u001b[39;00m \u001b[39mNone\u001b[39;00m \u001b[39mand\u001b[39;00m \\\n\u001b[1;32m    637\u001b[0m         \u001b[39mself\u001b[39m\u001b[39m.\u001b[39m_num_yielded \u001b[39m>\u001b[39m \u001b[39mself\u001b[39m\u001b[39m.\u001b[39m_IterableDataset_len_called:\n",
      "File \u001b[0;32m~/miniconda3/envs/pytorch-env/lib/python3.10/site-packages/torch/utils/data/dataloader.py:677\u001b[0m, in \u001b[0;36m_SingleProcessDataLoaderIter._next_data\u001b[0;34m(self)\u001b[0m\n\u001b[1;32m    675\u001b[0m \u001b[39mdef\u001b[39;00m \u001b[39m_next_data\u001b[39m(\u001b[39mself\u001b[39m):\n\u001b[1;32m    676\u001b[0m     index \u001b[39m=\u001b[39m \u001b[39mself\u001b[39m\u001b[39m.\u001b[39m_next_index()  \u001b[39m# may raise StopIteration\u001b[39;00m\n\u001b[0;32m--> 677\u001b[0m     data \u001b[39m=\u001b[39m \u001b[39mself\u001b[39;49m\u001b[39m.\u001b[39;49m_dataset_fetcher\u001b[39m.\u001b[39;49mfetch(index)  \u001b[39m# may raise StopIteration\u001b[39;00m\n\u001b[1;32m    678\u001b[0m     \u001b[39mif\u001b[39;00m \u001b[39mself\u001b[39m\u001b[39m.\u001b[39m_pin_memory:\n\u001b[1;32m    679\u001b[0m         data \u001b[39m=\u001b[39m _utils\u001b[39m.\u001b[39mpin_memory\u001b[39m.\u001b[39mpin_memory(data, \u001b[39mself\u001b[39m\u001b[39m.\u001b[39m_pin_memory_device)\n",
      "File \u001b[0;32m~/miniconda3/envs/pytorch-env/lib/python3.10/site-packages/torch/utils/data/_utils/fetch.py:51\u001b[0m, in \u001b[0;36m_MapDatasetFetcher.fetch\u001b[0;34m(self, possibly_batched_index)\u001b[0m\n\u001b[1;32m     49\u001b[0m         data \u001b[39m=\u001b[39m \u001b[39mself\u001b[39m\u001b[39m.\u001b[39mdataset\u001b[39m.\u001b[39m__getitems__(possibly_batched_index)\n\u001b[1;32m     50\u001b[0m     \u001b[39melse\u001b[39;00m:\n\u001b[0;32m---> 51\u001b[0m         data \u001b[39m=\u001b[39m [\u001b[39mself\u001b[39m\u001b[39m.\u001b[39mdataset[idx] \u001b[39mfor\u001b[39;00m idx \u001b[39min\u001b[39;00m possibly_batched_index]\n\u001b[1;32m     52\u001b[0m \u001b[39melse\u001b[39;00m:\n\u001b[1;32m     53\u001b[0m     data \u001b[39m=\u001b[39m \u001b[39mself\u001b[39m\u001b[39m.\u001b[39mdataset[possibly_batched_index]\n",
      "File \u001b[0;32m~/miniconda3/envs/pytorch-env/lib/python3.10/site-packages/torch/utils/data/_utils/fetch.py:51\u001b[0m, in \u001b[0;36m<listcomp>\u001b[0;34m(.0)\u001b[0m\n\u001b[1;32m     49\u001b[0m         data \u001b[39m=\u001b[39m \u001b[39mself\u001b[39m\u001b[39m.\u001b[39mdataset\u001b[39m.\u001b[39m__getitems__(possibly_batched_index)\n\u001b[1;32m     50\u001b[0m     \u001b[39melse\u001b[39;00m:\n\u001b[0;32m---> 51\u001b[0m         data \u001b[39m=\u001b[39m [\u001b[39mself\u001b[39;49m\u001b[39m.\u001b[39;49mdataset[idx] \u001b[39mfor\u001b[39;00m idx \u001b[39min\u001b[39;00m possibly_batched_index]\n\u001b[1;32m     52\u001b[0m \u001b[39melse\u001b[39;00m:\n\u001b[1;32m     53\u001b[0m     data \u001b[39m=\u001b[39m \u001b[39mself\u001b[39m\u001b[39m.\u001b[39mdataset[possibly_batched_index]\n",
      "\u001b[1;32m/home/marco/Desktop/MNIST_Dataset/240628_ViT_image_domain_augment.ipynb Cell 17\u001b[0m line \u001b[0;36m1\n\u001b[1;32m     <a href='vscode-notebook-cell:/home/marco/Desktop/MNIST_Dataset/240628_ViT_image_domain_augment.ipynb#X22sZmlsZQ%3D%3D?line=10'>11</a>\u001b[0m sample \u001b[39m=\u001b[39m \u001b[39mself\u001b[39m\u001b[39m.\u001b[39mdata[idx]\n\u001b[1;32m     <a href='vscode-notebook-cell:/home/marco/Desktop/MNIST_Dataset/240628_ViT_image_domain_augment.ipynb#X22sZmlsZQ%3D%3D?line=11'>12</a>\u001b[0m label \u001b[39m=\u001b[39m \u001b[39mself\u001b[39m\u001b[39m.\u001b[39mlabels[idx]\n\u001b[0;32m---> <a href='vscode-notebook-cell:/home/marco/Desktop/MNIST_Dataset/240628_ViT_image_domain_augment.ipynb#X22sZmlsZQ%3D%3D?line=12'>13</a>\u001b[0m sample \u001b[39m=\u001b[39m \u001b[39mself\u001b[39;49m\u001b[39m.\u001b[39;49mtransform(sample)\n\u001b[1;32m     <a href='vscode-notebook-cell:/home/marco/Desktop/MNIST_Dataset/240628_ViT_image_domain_augment.ipynb#X22sZmlsZQ%3D%3D?line=13'>14</a>\u001b[0m \u001b[39mreturn\u001b[39;00m sample, label\n",
      "\u001b[1;32m/home/marco/Desktop/MNIST_Dataset/240628_ViT_image_domain_augment.ipynb Cell 17\u001b[0m line \u001b[0;36m1\n\u001b[1;32m     <a href='vscode-notebook-cell:/home/marco/Desktop/MNIST_Dataset/240628_ViT_image_domain_augment.ipynb#X22sZmlsZQ%3D%3D?line=14'>15</a>\u001b[0m img_imag \u001b[39m=\u001b[39m torch\u001b[39m.\u001b[39mimag(img)\n\u001b[1;32m     <a href='vscode-notebook-cell:/home/marco/Desktop/MNIST_Dataset/240628_ViT_image_domain_augment.ipynb#X22sZmlsZQ%3D%3D?line=16'>17</a>\u001b[0m \u001b[39m# Stack the real and imaginary parts of the image\u001b[39;00m\n\u001b[0;32m---> <a href='vscode-notebook-cell:/home/marco/Desktop/MNIST_Dataset/240628_ViT_image_domain_augment.ipynb#X22sZmlsZQ%3D%3D?line=17'>18</a>\u001b[0m img_stacked \u001b[39m=\u001b[39m torch\u001b[39m.\u001b[39;49mstack([img_real, img_imag])\n\u001b[1;32m     <a href='vscode-notebook-cell:/home/marco/Desktop/MNIST_Dataset/240628_ViT_image_domain_augment.ipynb#X22sZmlsZQ%3D%3D?line=19'>20</a>\u001b[0m \u001b[39mreturn\u001b[39;00m img_stacked\u001b[39m.\u001b[39mfloat()\n",
      "\u001b[0;31mKeyboardInterrupt\u001b[0m: "
     ]
    }
   ],
   "source": [
    "\n",
    "\n",
    "model.to(device)\n",
    "epochs = 1000\n",
    "for epoch in range(581, epochs + 1):\n",
    "    train_loss, train_accuracy = train(model, device, train_loader, optimizer, criterion, epoch)\n",
    "    test_loss, test_accuracy = test(model, device, test_loader, criterion, epoch)\n",
    "    print(f\"Epoch {epoch}\")\n",
    "    print(f\"Train Loss: {train_loss:.4f}, Train Accuracy: {train_accuracy:.2f}%\")\n",
    "    print(f\"Test Loss: {test_loss:.4f}, Test Accuracy: {test_accuracy:.2f}%\")\n",
    "    print()\n",
    "\n",
    "\n",
    "writer.close()"
   ]
  },
  {
   "cell_type": "code",
   "execution_count": 64,
   "metadata": {},
   "outputs": [],
   "source": [
    "def save_model(model, optimizer, epoch, loss, accuracy, filename):\n",
    "    torch.save({\n",
    "        'epoch': epoch,\n",
    "        'model_state_dict': model.state_dict(),\n",
    "        'optimizer_state_dict': optimizer.state_dict(),\n",
    "        'loss': loss,\n",
    "        'accuracy': accuracy\n",
    "    }, filename)\n"
   ]
  },
  {
   "cell_type": "code",
   "execution_count": 70,
   "metadata": {},
   "outputs": [],
   "source": [
    "save_model(model, optimizer, epochs, test_loss, test_accuracy, 'final_model.pth')"
   ]
  },
  {
   "cell_type": "code",
   "execution_count": 20,
   "metadata": {},
   "outputs": [],
   "source": [
    "def load_model(model, optimizer, filename):\n",
    "    checkpoint = torch.load(filename)\n",
    "    model.load_state_dict(checkpoint['model_state_dict'])\n",
    "    optimizer.load_state_dict(checkpoint['optimizer_state_dict'])\n",
    "    epoch = checkpoint['epoch']\n",
    "    loss = checkpoint['loss']\n",
    "    accuracy = checkpoint['accuracy']\n",
    "    return model, optimizer, epoch, loss, accuracy\n",
    "\n",
    "# Usage\n",
    "model, optimizer, epoch, loss, accuracy = load_model(model, optimizer, 'final_model.pth')"
   ]
  }
 ],
 "metadata": {
  "kernelspec": {
   "display_name": "vqvae",
   "language": "python",
   "name": "python3"
  },
  "language_info": {
   "codemirror_mode": {
    "name": "ipython",
    "version": 3
   },
   "file_extension": ".py",
   "mimetype": "text/x-python",
   "name": "python",
   "nbconvert_exporter": "python",
   "pygments_lexer": "ipython3",
   "version": "3.10.9"
  }
 },
 "nbformat": 4,
 "nbformat_minor": 2
}
