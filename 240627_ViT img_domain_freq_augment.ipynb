{
 "cells": [
  {
   "cell_type": "code",
   "execution_count": 1,
   "metadata": {},
   "outputs": [],
   "source": [
    "from vit_pytorch import ViT\n",
    "import torch\n",
    "from torchvision import datasets, transforms\n",
    "from torch.utils.data import Dataset, DataLoader\n",
    "import numpy as np\n",
    "import matplotlib.pyplot as plt\n",
    "import random\n",
    "import torch.nn as nn\n",
    "import torch.optim as optim\n",
    "import torch.nn.functional as F\n",
    "from tqdm import tqdm\n",
    "from torch.utils.tensorboard import SummaryWriter"
   ]
  },
  {
   "cell_type": "code",
   "execution_count": 2,
   "metadata": {},
   "outputs": [],
   "source": [
    "\n",
    "transform = transforms.Compose([transforms.ToTensor()])\n",
    "train_data = datasets.FashionMNIST(root='data', train=True, download=True, transform=transform)\n",
    "test_data = datasets.FashionMNIST(root='data', train=False, download=True, transform=transform)"
   ]
  },
  {
   "cell_type": "code",
   "execution_count": 3,
   "metadata": {},
   "outputs": [],
   "source": [
    "def fft_transform(data):\n",
    "    processed_data = []\n",
    "    for img, _ in data:\n",
    "        img_np = img.numpy().squeeze()\n",
    "        fft = np.fft.fft2(img_np)\n",
    "        processed_data.append((img_np, fft))\n",
    "    return processed_data\n",
    "\n",
    "train_fft = fft_transform(train_data)\n",
    "test_fft = fft_transform(test_data)\n",
    "\n",
    "def normalize_fft(fft_data):\n",
    "    normalized_data = []\n",
    "    for img_np, fft in fft_data:\n",
    "        # Calculate magnitude and phase\n",
    "        magnitude = np.abs(fft)\n",
    "        phase = np.angle(fft)\n",
    "        \n",
    "        # Normalize magnitude to [0, 1] range\n",
    "        magnitude_min = np.min(magnitude)\n",
    "        magnitude_max = np.max(magnitude)\n",
    "        normalized_magnitude = (magnitude - magnitude_min) / (magnitude_max - magnitude_min)\n",
    "        \n",
    "        # Rebuild complex number using normalized magnitude and original phase\n",
    "        normalized_fft = normalized_magnitude * np.exp(1j * phase)\n",
    "        \n",
    "        normalized_data.append((img_np, normalized_fft))\n",
    "    \n",
    "    return normalized_data\n",
    "\n",
    "# train_fft = normalize_fft(train_fft)\n",
    "# test_fft = normalize_fft(test_fft)"
   ]
  },
  {
   "cell_type": "code",
   "execution_count": 4,
   "metadata": {},
   "outputs": [
    {
     "name": "stdout",
     "output_type": "stream",
     "text": [
      "1.0 0.0 (299.0078472062014+0j) (-105.1554452474781-85.19899857776973j)\n"
     ]
    },
    {
     "data": {
      "image/png": "[encoded data removed]",
      "text/plain": [
       "<Figure size 640x480 with 1 Axes>"
      ]
     },
     "metadata": {},
     "output_type": "display_data"
    }
   ],
   "source": [
    "plt.imshow(np.abs(train_fft[0])[1])\n",
    "print(train_fft[0][0].max(), train_fft[0][0].min(), train_fft[0][1].max(), train_fft[0][1].min())"
   ]
  },
  {
   "cell_type": "code",
   "execution_count": 5,
   "metadata": {},
   "outputs": [],
   "source": [
    "def phase_shift_fourier(fourier_image, x=2.0, y=2.0):\n",
    "    \"\"\"\n",
    "    Perform a random phase shift on a Fourier-image, constrained by maximum values.\n",
    "    \n",
    "    Parameters:\n",
    "    fourier_image (torch.tensor): Complex-valued centered Fourier representation of an image\n",
    "    x (float): Maximum amount to shift in x direction (0-2 range recommended due to 2pi periodicity)\n",
    "    y (float): Maximum amount to shift in y direction (0-2 range recommended due to 2pi periodicity)\n",
    "    \n",
    "    Returns:\n",
    "    torch.tensor: The phase-shifted Fourier-image\n",
    "    \"\"\"\n",
    "    fourier_image = torch.fft.fftshift(fourier_image)\n",
    "    rows, cols = fourier_image.shape\n",
    "    \n",
    "    # Generate random shift amounts within the specified ranges\n",
    "    random_x = torch.rand(1).item() * x\n",
    "    random_y = torch.rand(1).item() * y\n",
    "    shift_x = random_y * torch.pi * rows\n",
    "    shift_y = random_x * torch.pi * cols\n",
    "    \n",
    "    freq_x = torch.fft.fftfreq(cols)\n",
    "    freq_y = torch.fft.fftfreq(rows)\n",
    "    fx, fy = torch.meshgrid(freq_x, freq_y, indexing='ij')\n",
    "    \n",
    "    # Calculate and apply phase shift\n",
    "    phase_shift = torch.exp(-1j * (shift_x * fx + shift_y * fy))\n",
    "    shifted_fourier_image = torch.fft.fftshift(fourier_image * phase_shift)\n",
    "    \n",
    "    return shifted_fourier_image\n",
    "\n",
    "\n",
    "def mask_frequency_spectrum(spectrum, max_mask_percentage):\n",
    "    # Ensure the max_mask_percentage is between 0 and 100\n",
    "    max_mask_percentage = torch.clamp(torch.tensor(max_mask_percentage), 0, 100)\n",
    "    \n",
    "    # Generate a random mask percentage\n",
    "    mask_percentage = torch.rand(1) * max_mask_percentage\n",
    "    \n",
    "    # Calculate the number of elements to mask\n",
    "    num_elements = spectrum.numel()\n",
    "    num_masked = int(num_elements * mask_percentage.item() / 100)\n",
    "    \n",
    "    # Create a flat copy of the spectrum\n",
    "    flat_spectrum = spectrum.view(-1)\n",
    "    \n",
    "    # Randomly select indices to mask\n",
    "    mask_indices = torch.randperm(num_elements)[:num_masked]\n",
    "    \n",
    "    # Create a mask tensor\n",
    "    mask = torch.ones_like(flat_spectrum, dtype=torch.bool)\n",
    "    mask[mask_indices] = False\n",
    "    \n",
    "    # Apply the mask\n",
    "    masked_spectrum = flat_spectrum.clone()\n",
    "    masked_spectrum[~mask] = 0\n",
    "    \n",
    "    # Reshape the spectrum back to its original shape\n",
    "    masked_spectrum = masked_spectrum.view(spectrum.shape)\n",
    "    \n",
    "    return masked_spectrum\n",
    "\n",
    "\n",
    "def normalize_magn(fft):\n",
    "        magnitude = torch.abs(fft)\n",
    "        phase = torch.angle(fft)\n",
    "        \n",
    "        # Normalize magnitude to [0, 1] range\n",
    "        magnitude_min = torch.min(magnitude)\n",
    "        magnitude_max = torch.max(magnitude)\n",
    "        normalized_magnitude = (magnitude - magnitude_min) / (magnitude_max - magnitude_min)\n",
    "        \n",
    "        # Rebuild complex number using normalized magnitude and original phase\n",
    "        normalized_fft = normalized_magnitude * torch.exp(1j * phase)\n",
    "        \n",
    "        return normalized_fft"
   ]
  },
  {
   "cell_type": "code",
   "execution_count": 6,
   "metadata": {},
   "outputs": [],
   "source": [
    "class CustomTransform:\n",
    "    def __init__(self, is_training=True):\n",
    "        self.is_training = is_training\n",
    "        \n",
    "    def __call__(self, sample):\n",
    "        img, fft = torch.tensor(np.array(sample))\n",
    "        if self.is_training: \n",
    "            fft = torch.fft.fftshift(fft)\n",
    "            #fft = phase_shift_fourier(fft)\n",
    "            fft = mask_frequency_spectrum(fft, 75)\n",
    "            fft = torch.fft.fftshift(fft)\n",
    "            img = torch.fft.ifft2(fft)\n",
    "        # Split the complex image into real and imaginary parts\n",
    "        img_real = torch.real(img)\n",
    "        img_imag = torch.imag(img)\n",
    "        \n",
    "        # Stack the real and imaginary parts of the image\n",
    "        img_stacked = torch.stack([img_real, img_imag])\n",
    "        # Split the complex FFT into real and imaginary parts\n",
    "        fft = normalize_magn(fft)\n",
    "        fft_real = torch.real(fft)\n",
    "        fft_imag = torch.imag(fft)\n",
    "        fft_stacked = torch.stack([fft_real, fft_imag])\n",
    "        \n",
    "        # Stack the image and FFT side by side\n",
    "        combined = torch.concatenate([img_stacked, fft_stacked], axis=2)\n",
    "        \n",
    "        return combined.float()\n"
   ]
  },
  {
   "cell_type": "code",
   "execution_count": 7,
   "metadata": {},
   "outputs": [],
   "source": [
    "class ComplexDataset(Dataset):\n",
    "    def __init__(self, data, labels, is_training=True):\n",
    "        self.data = data\n",
    "        self.labels = labels\n",
    "        self.transform = CustomTransform(is_training)\n",
    "        \n",
    "    def __len__(self):\n",
    "        return len(self.data)\n",
    "\n",
    "    def __getitem__(self, idx):\n",
    "        sample = self.data[idx]\n",
    "        label = self.labels[idx]\n",
    "        sample = self.transform(sample)\n",
    "        return sample, label"
   ]
  },
  {
   "cell_type": "code",
   "execution_count": 8,
   "metadata": {},
   "outputs": [
    {
     "name": "stdout",
     "output_type": "stream",
     "text": [
      "938\n"
     ]
    }
   ],
   "source": [
    "# Create the custom dataset\n",
    "train_labels = [label for _, label in train_data]\n",
    "train_dataset = ComplexDataset(train_fft, train_labels, is_training=True)\n",
    "\n",
    "test_labels = [label for _, label in test_data]\n",
    "test_dataset = ComplexDataset(test_fft, test_labels, is_training=False)\n",
    "\n",
    "# Create data loaders\n",
    "train_loader = DataLoader(train_dataset, batch_size=64, shuffle=True)\n",
    "test_loader = DataLoader(test_dataset, batch_size=64, shuffle=False)\n",
    "\n",
    "print(len(train_loader))"
   ]
  },
  {
   "cell_type": "code",
   "execution_count": 12,
   "metadata": {},
   "outputs": [],
   "source": [
    "item = next(iter(train_loader))"
   ]
  },
  {
   "cell_type": "code",
   "execution_count": 14,
   "metadata": {},
   "outputs": [
    {
     "name": "stdout",
     "output_type": "stream",
     "text": [
      "torch.Size([64, 2, 28, 56])\n"
     ]
    },
    {
     "data": {
      "text/plain": [
       "<matplotlib.image.AxesImage at 0x7a24337f39a0>"
      ]
     },
     "execution_count": 14,
     "metadata": {},
     "output_type": "execute_result"
    },
    {
     "data": {
      "image/png": "[encoded data removed]",
      "text/plain": [
       "<Figure size 640x480 with 1 Axes>"
      ]
     },
     "metadata": {},
     "output_type": "display_data"
    }
   ],
   "source": [
    "print(item[0].shape)\n",
    "plt.imshow(item[0][0,0,:,:], cmap=\"gray\")"
   ]
  },
  {
   "cell_type": "code",
   "execution_count": 15,
   "metadata": {},
   "outputs": [
    {
     "name": "stdout",
     "output_type": "stream",
     "text": [
      "torch.float32\n"
     ]
    }
   ],
   "source": [
    "print(item[0][0][0][0].dtype)"
   ]
  },
  {
   "cell_type": "code",
   "execution_count": 16,
   "metadata": {},
   "outputs": [
    {
     "data": {
      "image/png": "[encoded data removed]",
      "text/plain": [
       "<Figure size 1200x500 with 3 Axes>"
      ]
     },
     "metadata": {},
     "output_type": "display_data"
    }
   ],
   "source": [
    "\n",
    "# Create a figure with two subplots\n",
    "fig, (ax1, ax2) = plt.subplots(1, 2, figsize=(12, 5))\n",
    "\n",
    "# Plot the image\n",
    "im = ax1.imshow(item[0][0,1,:,:], cmap=\"gray\")\n",
    "ax1.set_title(\"Image\")\n",
    "fig.colorbar(im, ax=ax1)\n",
    "\n",
    "# Plot the histogram\n",
    "ax2.hist(item[0][0,1,:,:].ravel(), bins=50, range=(0, 1))\n",
    "ax2.set_title(\"Histogram\")\n",
    "ax2.set_xlabel(\"Pixel Value\")\n",
    "ax2.set_ylabel(\"Frequency\")\n",
    "\n",
    "plt.tight_layout()\n",
    "plt.show()"
   ]
  },
  {
   "cell_type": "code",
   "execution_count": 17,
   "metadata": {},
   "outputs": [],
   "source": [
    "model = ViT(\n",
    "    image_size = 56,\n",
    "    patch_size = 7,\n",
    "    num_classes = 10,\n",
    "    dim = 256,\n",
    "    depth = 6,\n",
    "    heads = 12,\n",
    "    mlp_dim = 512,\n",
    "    dropout = 0.1,\n",
    "    emb_dropout = 0.1,\n",
    "    channels = 2\n",
    ")\n",
    "\n",
    "img = torch.randn(1, 2, 28, 56)\n",
    "\n",
    "preds = model(img) # (1, 1000)"
   ]
  },
  {
   "cell_type": "code",
   "execution_count": 18,
   "metadata": {},
   "outputs": [
    {
     "name": "stdout",
     "output_type": "stream",
     "text": [
      "Total trainable parameters: 6349774\n"
     ]
    }
   ],
   "source": [
    "total_params = sum(p.numel() for p in model.parameters() if p.requires_grad)\n",
    "print(f\"Total trainable parameters: {total_params}\")"
   ]
  },
  {
   "cell_type": "code",
   "execution_count": 19,
   "metadata": {},
   "outputs": [],
   "source": [
    "criterion = nn.CrossEntropyLoss()\n",
    "optimizer = optim.Adam(model.parameters(), lr=1e-4)"
   ]
  },
  {
   "cell_type": "code",
   "execution_count": 20,
   "metadata": {},
   "outputs": [],
   "source": [
    "writer = SummaryWriter('runs/experiment_1') \n",
    "\n",
    "def train(model, device, train_loader, optimizer, criterion, epoch):\n",
    "    model.train()\n",
    "    train_loss = 0\n",
    "    correct = 0\n",
    "    total = 0\n",
    "    progress_bar = tqdm(train_loader, desc=f\"Epoch {epoch}\", unit=\"batch\")\n",
    "    for batch_idx, (data, target) in enumerate(progress_bar):\n",
    "        data, target = data.to(device), target.to(device)\n",
    "        optimizer.zero_grad()\n",
    "        output = model(data)\n",
    "        loss = criterion(output, target)\n",
    "        loss.backward()\n",
    "        optimizer.step()\n",
    "        train_loss += loss.item()\n",
    "        _, predicted = output.max(1)\n",
    "        total += target.size(0)\n",
    "        correct += predicted.eq(target).sum().item()\n",
    "        progress_bar.set_postfix({\"Train Loss\": train_loss / (batch_idx + 1), \"Train Acc\": 100. * correct / total})\n",
    "        \n",
    "        # Log batch-level metrics\n",
    "        writer.add_scalar('Loss/Train Batch', loss.item(), epoch * len(train_loader) + batch_idx)\n",
    "        writer.add_scalar('Accuracy/Train Batch', 100. * correct / total, epoch * len(train_loader) + batch_idx)\n",
    "    \n",
    "    train_loss /= len(train_loader)\n",
    "    train_accuracy = 100. * correct / total\n",
    "    \n",
    "    # Log epoch-level metrics\n",
    "    writer.add_scalar('Loss/Train Epoch', train_loss, epoch)\n",
    "    writer.add_scalar('Accuracy/Train Epoch', train_accuracy, epoch)\n",
    "    \n",
    "    return train_loss, train_accuracy\n",
    "\n",
    "def test(model, device, test_loader, criterion, epoch):\n",
    "    model.eval()\n",
    "    test_loss = 0\n",
    "    correct = 0\n",
    "    total = 0\n",
    "    with torch.no_grad():\n",
    "        for data, target in test_loader:\n",
    "            data, target = data.to(device), target.to(device)\n",
    "            output = model(data)\n",
    "            test_loss += criterion(output, target).item()\n",
    "            _, predicted = output.max(1)\n",
    "            total += target.size(0)\n",
    "            correct += predicted.eq(target).sum().item()\n",
    "    \n",
    "    test_loss /= len(test_loader)\n",
    "    test_accuracy = 100. * correct / total\n",
    "    \n",
    "    # Log epoch-level metrics\n",
    "    writer.add_scalar('Loss/Test', test_loss, epoch)\n",
    "    writer.add_scalar('Accuracy/Test', test_accuracy, epoch)\n",
    "    \n",
    "    return test_loss, test_accuracy\n"
   ]
  },
  {
   "cell_type": "code",
   "execution_count": 21,
   "metadata": {},
   "outputs": [
    {
     "name": "stdout",
     "output_type": "stream",
     "text": [
      "cuda\n"
     ]
    }
   ],
   "source": [
    "device = torch.device(\"cuda\" if torch.cuda.is_available() else \"cpu\")\n",
    "print(device)"
   ]
  },
  {
   "cell_type": "code",
   "execution_count": 22,
   "metadata": {},
   "outputs": [
    {
     "name": "stderr",
     "output_type": "stream",
     "text": [
      "Epoch 581: 100%|██████████| 938/938 [01:20<00:00, 11.60batch/s, Train Loss=0.702, Train Acc=74.6]\n"
     ]
    },
    {
     "name": "stdout",
     "output_type": "stream",
     "text": [
      "Epoch 581\n",
      "Train Loss: 0.7025, Train Accuracy: 74.64%\n",
      "Test Loss: 0.4296, Test Accuracy: 84.63%\n",
      "\n"
     ]
    },
    {
     "name": "stderr",
     "output_type": "stream",
     "text": [
      "Epoch 582: 100%|██████████| 938/938 [01:20<00:00, 11.59batch/s, Train Loss=0.478, Train Acc=82.4]\n"
     ]
    },
    {
     "name": "stdout",
     "output_type": "stream",
     "text": [
      "Epoch 582\n",
      "Train Loss: 0.4784, Train Accuracy: 82.42%\n",
      "Test Loss: 0.3758, Test Accuracy: 86.62%\n",
      "\n"
     ]
    },
    {
     "name": "stderr",
     "output_type": "stream",
     "text": [
      "Epoch 583: 100%|██████████| 938/938 [01:20<00:00, 11.66batch/s, Train Loss=0.432, Train Acc=84.2]\n"
     ]
    },
    {
     "name": "stdout",
     "output_type": "stream",
     "text": [
      "Epoch 583\n",
      "Train Loss: 0.4325, Train Accuracy: 84.15%\n",
      "Test Loss: 0.3544, Test Accuracy: 87.07%\n",
      "\n"
     ]
    },
    {
     "name": "stderr",
     "output_type": "stream",
     "text": [
      "Epoch 584: 100%|██████████| 938/938 [01:20<00:00, 11.64batch/s, Train Loss=0.404, Train Acc=85.2]\n"
     ]
    },
    {
     "name": "stdout",
     "output_type": "stream",
     "text": [
      "Epoch 584\n",
      "Train Loss: 0.4039, Train Accuracy: 85.17%\n",
      "Test Loss: 0.3433, Test Accuracy: 87.61%\n",
      "\n"
     ]
    },
    {
     "name": "stderr",
     "output_type": "stream",
     "text": [
      "Epoch 585: 100%|██████████| 938/938 [01:20<00:00, 11.65batch/s, Train Loss=0.384, Train Acc=85.7]\n"
     ]
    },
    {
     "name": "stdout",
     "output_type": "stream",
     "text": [
      "Epoch 585\n",
      "Train Loss: 0.3838, Train Accuracy: 85.70%\n",
      "Test Loss: 0.3184, Test Accuracy: 88.15%\n",
      "\n"
     ]
    },
    {
     "name": "stderr",
     "output_type": "stream",
     "text": [
      "Epoch 586: 100%|██████████| 938/938 [01:20<00:00, 11.62batch/s, Train Loss=0.365, Train Acc=86.5]\n"
     ]
    },
    {
     "name": "stdout",
     "output_type": "stream",
     "text": [
      "Epoch 586\n",
      "Train Loss: 0.3650, Train Accuracy: 86.45%\n",
      "Test Loss: 0.3132, Test Accuracy: 88.55%\n",
      "\n"
     ]
    },
    {
     "name": "stderr",
     "output_type": "stream",
     "text": [
      "Epoch 587: 100%|██████████| 938/938 [01:20<00:00, 11.63batch/s, Train Loss=0.358, Train Acc=86.8]\n"
     ]
    },
    {
     "name": "stdout",
     "output_type": "stream",
     "text": [
      "Epoch 587\n",
      "Train Loss: 0.3578, Train Accuracy: 86.78%\n",
      "Test Loss: 0.3189, Test Accuracy: 88.54%\n",
      "\n"
     ]
    },
    {
     "name": "stderr",
     "output_type": "stream",
     "text": [
      "Epoch 588: 100%|██████████| 938/938 [01:23<00:00, 11.30batch/s, Train Loss=0.345, Train Acc=87.2]\n"
     ]
    },
    {
     "name": "stdout",
     "output_type": "stream",
     "text": [
      "Epoch 588\n",
      "Train Loss: 0.3454, Train Accuracy: 87.18%\n",
      "Test Loss: 0.3036, Test Accuracy: 88.91%\n",
      "\n"
     ]
    },
    {
     "name": "stderr",
     "output_type": "stream",
     "text": [
      "Epoch 589: 100%|██████████| 938/938 [01:21<00:00, 11.48batch/s, Train Loss=0.336, Train Acc=87.5]\n"
     ]
    },
    {
     "name": "stdout",
     "output_type": "stream",
     "text": [
      "Epoch 589\n",
      "Train Loss: 0.3359, Train Accuracy: 87.52%\n",
      "Test Loss: 0.2939, Test Accuracy: 89.37%\n",
      "\n"
     ]
    },
    {
     "name": "stderr",
     "output_type": "stream",
     "text": [
      "Epoch 590: 100%|██████████| 938/938 [01:20<00:00, 11.64batch/s, Train Loss=0.322, Train Acc=87.9]\n"
     ]
    },
    {
     "name": "stdout",
     "output_type": "stream",
     "text": [
      "Epoch 590\n",
      "Train Loss: 0.3224, Train Accuracy: 87.90%\n",
      "Test Loss: 0.2900, Test Accuracy: 89.40%\n",
      "\n"
     ]
    },
    {
     "name": "stderr",
     "output_type": "stream",
     "text": [
      "Epoch 591: 100%|██████████| 938/938 [01:24<00:00, 11.11batch/s, Train Loss=0.313, Train Acc=88.3]\n"
     ]
    },
    {
     "name": "stdout",
     "output_type": "stream",
     "text": [
      "Epoch 591\n",
      "Train Loss: 0.3135, Train Accuracy: 88.27%\n",
      "Test Loss: 0.2897, Test Accuracy: 89.41%\n",
      "\n"
     ]
    },
    {
     "name": "stderr",
     "output_type": "stream",
     "text": [
      "Epoch 592: 100%|██████████| 938/938 [01:24<00:00, 11.15batch/s, Train Loss=0.31, Train Acc=88.2] \n"
     ]
    },
    {
     "name": "stdout",
     "output_type": "stream",
     "text": [
      "Epoch 592\n",
      "Train Loss: 0.3099, Train Accuracy: 88.25%\n",
      "Test Loss: 0.2850, Test Accuracy: 89.75%\n",
      "\n"
     ]
    },
    {
     "name": "stderr",
     "output_type": "stream",
     "text": [
      "Epoch 593: 100%|██████████| 938/938 [01:23<00:00, 11.27batch/s, Train Loss=0.303, Train Acc=88.6]\n"
     ]
    },
    {
     "name": "stdout",
     "output_type": "stream",
     "text": [
      "Epoch 593\n",
      "Train Loss: 0.3031, Train Accuracy: 88.58%\n",
      "Test Loss: 0.2798, Test Accuracy: 90.03%\n",
      "\n"
     ]
    },
    {
     "name": "stderr",
     "output_type": "stream",
     "text": [
      "Epoch 594: 100%|██████████| 938/938 [01:22<00:00, 11.43batch/s, Train Loss=0.294, Train Acc=89]  \n"
     ]
    },
    {
     "name": "stdout",
     "output_type": "stream",
     "text": [
      "Epoch 594\n",
      "Train Loss: 0.2942, Train Accuracy: 88.95%\n",
      "Test Loss: 0.2843, Test Accuracy: 89.76%\n",
      "\n"
     ]
    },
    {
     "name": "stderr",
     "output_type": "stream",
     "text": [
      "Epoch 595: 100%|██████████| 938/938 [01:20<00:00, 11.62batch/s, Train Loss=0.289, Train Acc=89.2]\n"
     ]
    },
    {
     "name": "stdout",
     "output_type": "stream",
     "text": [
      "Epoch 595\n",
      "Train Loss: 0.2885, Train Accuracy: 89.17%\n",
      "Test Loss: 0.2807, Test Accuracy: 90.04%\n",
      "\n"
     ]
    },
    {
     "name": "stderr",
     "output_type": "stream",
     "text": [
      "Epoch 596: 100%|██████████| 938/938 [01:21<00:00, 11.56batch/s, Train Loss=0.284, Train Acc=89.5]\n"
     ]
    },
    {
     "name": "stdout",
     "output_type": "stream",
     "text": [
      "Epoch 596\n",
      "Train Loss: 0.2840, Train Accuracy: 89.46%\n",
      "Test Loss: 0.2764, Test Accuracy: 90.52%\n",
      "\n"
     ]
    },
    {
     "name": "stderr",
     "output_type": "stream",
     "text": [
      "Epoch 597: 100%|██████████| 938/938 [01:20<00:00, 11.63batch/s, Train Loss=0.276, Train Acc=89.7]\n"
     ]
    },
    {
     "name": "stdout",
     "output_type": "stream",
     "text": [
      "Epoch 597\n",
      "Train Loss: 0.2763, Train Accuracy: 89.67%\n",
      "Test Loss: 0.2801, Test Accuracy: 90.12%\n",
      "\n"
     ]
    },
    {
     "name": "stderr",
     "output_type": "stream",
     "text": [
      "Epoch 598: 100%|██████████| 938/938 [01:20<00:00, 11.62batch/s, Train Loss=0.272, Train Acc=89.8]\n"
     ]
    },
    {
     "name": "stdout",
     "output_type": "stream",
     "text": [
      "Epoch 598\n",
      "Train Loss: 0.2718, Train Accuracy: 89.75%\n",
      "Test Loss: 0.2823, Test Accuracy: 89.85%\n",
      "\n"
     ]
    },
    {
     "name": "stderr",
     "output_type": "stream",
     "text": [
      "Epoch 599: 100%|██████████| 938/938 [01:20<00:00, 11.62batch/s, Train Loss=0.263, Train Acc=90.1]\n"
     ]
    },
    {
     "name": "stdout",
     "output_type": "stream",
     "text": [
      "Epoch 599\n",
      "Train Loss: 0.2630, Train Accuracy: 90.13%\n",
      "Test Loss: 0.2754, Test Accuracy: 90.15%\n",
      "\n"
     ]
    },
    {
     "name": "stderr",
     "output_type": "stream",
     "text": [
      "Epoch 600: 100%|██████████| 938/938 [01:20<00:00, 11.66batch/s, Train Loss=0.261, Train Acc=90.2]\n"
     ]
    },
    {
     "name": "stdout",
     "output_type": "stream",
     "text": [
      "Epoch 600\n",
      "Train Loss: 0.2610, Train Accuracy: 90.17%\n",
      "Test Loss: 0.2739, Test Accuracy: 90.04%\n",
      "\n"
     ]
    },
    {
     "name": "stderr",
     "output_type": "stream",
     "text": [
      "Epoch 601: 100%|██████████| 938/938 [01:20<00:00, 11.64batch/s, Train Loss=0.251, Train Acc=90.5]\n"
     ]
    },
    {
     "name": "stdout",
     "output_type": "stream",
     "text": [
      "Epoch 601\n",
      "Train Loss: 0.2508, Train Accuracy: 90.50%\n",
      "Test Loss: 0.2735, Test Accuracy: 90.37%\n",
      "\n"
     ]
    },
    {
     "name": "stderr",
     "output_type": "stream",
     "text": [
      "Epoch 602: 100%|██████████| 938/938 [01:20<00:00, 11.66batch/s, Train Loss=0.249, Train Acc=90.7]\n"
     ]
    },
    {
     "name": "stdout",
     "output_type": "stream",
     "text": [
      "Epoch 602\n",
      "Train Loss: 0.2490, Train Accuracy: 90.70%\n",
      "Test Loss: 0.2714, Test Accuracy: 90.61%\n",
      "\n"
     ]
    },
    {
     "name": "stderr",
     "output_type": "stream",
     "text": [
      "Epoch 603: 100%|██████████| 938/938 [01:20<00:00, 11.62batch/s, Train Loss=0.245, Train Acc=90.8]\n"
     ]
    },
    {
     "name": "stdout",
     "output_type": "stream",
     "text": [
      "Epoch 603\n",
      "Train Loss: 0.2451, Train Accuracy: 90.76%\n",
      "Test Loss: 0.2812, Test Accuracy: 90.04%\n",
      "\n"
     ]
    },
    {
     "name": "stderr",
     "output_type": "stream",
     "text": [
      "Epoch 604: 100%|██████████| 938/938 [01:20<00:00, 11.66batch/s, Train Loss=0.239, Train Acc=91.2]\n"
     ]
    },
    {
     "name": "stdout",
     "output_type": "stream",
     "text": [
      "Epoch 604\n",
      "Train Loss: 0.2392, Train Accuracy: 91.17%\n",
      "Test Loss: 0.2771, Test Accuracy: 90.30%\n",
      "\n"
     ]
    },
    {
     "name": "stderr",
     "output_type": "stream",
     "text": [
      "Epoch 605: 100%|██████████| 938/938 [01:20<00:00, 11.64batch/s, Train Loss=0.234, Train Acc=91.1]\n"
     ]
    },
    {
     "name": "stdout",
     "output_type": "stream",
     "text": [
      "Epoch 605\n",
      "Train Loss: 0.2337, Train Accuracy: 91.09%\n",
      "Test Loss: 0.2737, Test Accuracy: 90.56%\n",
      "\n"
     ]
    },
    {
     "name": "stderr",
     "output_type": "stream",
     "text": [
      "Epoch 606: 100%|██████████| 938/938 [01:20<00:00, 11.62batch/s, Train Loss=0.232, Train Acc=91.2]\n"
     ]
    },
    {
     "name": "stdout",
     "output_type": "stream",
     "text": [
      "Epoch 606\n",
      "Train Loss: 0.2319, Train Accuracy: 91.25%\n",
      "Test Loss: 0.2822, Test Accuracy: 90.03%\n",
      "\n"
     ]
    },
    {
     "name": "stderr",
     "output_type": "stream",
     "text": [
      "Epoch 607: 100%|██████████| 938/938 [01:20<00:00, 11.65batch/s, Train Loss=0.227, Train Acc=91.5]\n"
     ]
    },
    {
     "name": "stdout",
     "output_type": "stream",
     "text": [
      "Epoch 607\n",
      "Train Loss: 0.2265, Train Accuracy: 91.51%\n",
      "Test Loss: 0.2767, Test Accuracy: 90.34%\n",
      "\n"
     ]
    },
    {
     "name": "stderr",
     "output_type": "stream",
     "text": [
      "Epoch 608: 100%|██████████| 938/938 [01:20<00:00, 11.65batch/s, Train Loss=0.223, Train Acc=91.5]\n"
     ]
    },
    {
     "name": "stdout",
     "output_type": "stream",
     "text": [
      "Epoch 608\n",
      "Train Loss: 0.2234, Train Accuracy: 91.52%\n",
      "Test Loss: 0.2713, Test Accuracy: 90.76%\n",
      "\n"
     ]
    },
    {
     "name": "stderr",
     "output_type": "stream",
     "text": [
      "Epoch 609: 100%|██████████| 938/938 [01:21<00:00, 11.57batch/s, Train Loss=0.218, Train Acc=91.7]\n"
     ]
    },
    {
     "name": "stdout",
     "output_type": "stream",
     "text": [
      "Epoch 609\n",
      "Train Loss: 0.2182, Train Accuracy: 91.67%\n",
      "Test Loss: 0.2784, Test Accuracy: 90.32%\n",
      "\n"
     ]
    },
    {
     "name": "stderr",
     "output_type": "stream",
     "text": [
      "Epoch 610: 100%|██████████| 938/938 [01:23<00:00, 11.30batch/s, Train Loss=0.215, Train Acc=92]  \n"
     ]
    },
    {
     "name": "stdout",
     "output_type": "stream",
     "text": [
      "Epoch 610\n",
      "Train Loss: 0.2149, Train Accuracy: 91.98%\n",
      "Test Loss: 0.2773, Test Accuracy: 90.75%\n",
      "\n"
     ]
    },
    {
     "name": "stderr",
     "output_type": "stream",
     "text": [
      "Epoch 611: 100%|██████████| 938/938 [01:21<00:00, 11.50batch/s, Train Loss=0.21, Train Acc=92.1] \n"
     ]
    },
    {
     "name": "stdout",
     "output_type": "stream",
     "text": [
      "Epoch 611\n",
      "Train Loss: 0.2101, Train Accuracy: 92.13%\n",
      "Test Loss: 0.2788, Test Accuracy: 90.71%\n",
      "\n"
     ]
    },
    {
     "name": "stderr",
     "output_type": "stream",
     "text": [
      "Epoch 612: 100%|██████████| 938/938 [01:20<00:00, 11.65batch/s, Train Loss=0.206, Train Acc=92.3]\n"
     ]
    },
    {
     "name": "stdout",
     "output_type": "stream",
     "text": [
      "Epoch 612\n",
      "Train Loss: 0.2063, Train Accuracy: 92.31%\n",
      "Test Loss: 0.2735, Test Accuracy: 90.70%\n",
      "\n"
     ]
    },
    {
     "name": "stderr",
     "output_type": "stream",
     "text": [
      "Epoch 613: 100%|██████████| 938/938 [01:19<00:00, 11.73batch/s, Train Loss=0.205, Train Acc=92.3]\n"
     ]
    },
    {
     "name": "stdout",
     "output_type": "stream",
     "text": [
      "Epoch 613\n",
      "Train Loss: 0.2052, Train Accuracy: 92.30%\n",
      "Test Loss: 0.2674, Test Accuracy: 90.68%\n",
      "\n"
     ]
    },
    {
     "name": "stderr",
     "output_type": "stream",
     "text": [
      "Epoch 614: 100%|██████████| 938/938 [01:19<00:00, 11.74batch/s, Train Loss=0.199, Train Acc=92.5]\n"
     ]
    },
    {
     "name": "stdout",
     "output_type": "stream",
     "text": [
      "Epoch 614\n",
      "Train Loss: 0.1992, Train Accuracy: 92.54%\n",
      "Test Loss: 0.2750, Test Accuracy: 91.08%\n",
      "\n"
     ]
    },
    {
     "name": "stderr",
     "output_type": "stream",
     "text": [
      "Epoch 615: 100%|██████████| 938/938 [01:20<00:00, 11.67batch/s, Train Loss=0.196, Train Acc=92.8]\n"
     ]
    },
    {
     "name": "stdout",
     "output_type": "stream",
     "text": [
      "Epoch 615\n",
      "Train Loss: 0.1960, Train Accuracy: 92.79%\n",
      "Test Loss: 0.2966, Test Accuracy: 90.33%\n",
      "\n"
     ]
    },
    {
     "name": "stderr",
     "output_type": "stream",
     "text": [
      "Epoch 616: 100%|██████████| 938/938 [01:20<00:00, 11.70batch/s, Train Loss=0.194, Train Acc=92.7]\n"
     ]
    },
    {
     "name": "stdout",
     "output_type": "stream",
     "text": [
      "Epoch 616\n",
      "Train Loss: 0.1941, Train Accuracy: 92.72%\n",
      "Test Loss: 0.2903, Test Accuracy: 90.61%\n",
      "\n"
     ]
    },
    {
     "name": "stderr",
     "output_type": "stream",
     "text": [
      "Epoch 617: 100%|██████████| 938/938 [01:19<00:00, 11.74batch/s, Train Loss=0.19, Train Acc=92.9] \n"
     ]
    },
    {
     "name": "stdout",
     "output_type": "stream",
     "text": [
      "Epoch 617\n",
      "Train Loss: 0.1896, Train Accuracy: 92.94%\n",
      "Test Loss: 0.2771, Test Accuracy: 90.82%\n",
      "\n"
     ]
    },
    {
     "name": "stderr",
     "output_type": "stream",
     "text": [
      "Epoch 618: 100%|██████████| 938/938 [01:19<00:00, 11.74batch/s, Train Loss=0.186, Train Acc=93.1]\n"
     ]
    },
    {
     "name": "stdout",
     "output_type": "stream",
     "text": [
      "Epoch 618\n",
      "Train Loss: 0.1862, Train Accuracy: 93.10%\n",
      "Test Loss: 0.2951, Test Accuracy: 90.72%\n",
      "\n"
     ]
    },
    {
     "name": "stderr",
     "output_type": "stream",
     "text": [
      "Epoch 619: 100%|██████████| 938/938 [01:20<00:00, 11.71batch/s, Train Loss=0.184, Train Acc=93.1]\n"
     ]
    },
    {
     "name": "stdout",
     "output_type": "stream",
     "text": [
      "Epoch 619\n",
      "Train Loss: 0.1845, Train Accuracy: 93.07%\n",
      "Test Loss: 0.2902, Test Accuracy: 90.65%\n",
      "\n"
     ]
    },
    {
     "name": "stderr",
     "output_type": "stream",
     "text": [
      "Epoch 620: 100%|██████████| 938/938 [01:20<00:00, 11.72batch/s, Train Loss=0.179, Train Acc=93.4]\n"
     ]
    },
    {
     "name": "stdout",
     "output_type": "stream",
     "text": [
      "Epoch 620\n",
      "Train Loss: 0.1790, Train Accuracy: 93.35%\n",
      "Test Loss: 0.2955, Test Accuracy: 90.87%\n",
      "\n"
     ]
    },
    {
     "name": "stderr",
     "output_type": "stream",
     "text": [
      "Epoch 621: 100%|██████████| 938/938 [01:19<00:00, 11.74batch/s, Train Loss=0.179, Train Acc=93.3]\n"
     ]
    },
    {
     "name": "stdout",
     "output_type": "stream",
     "text": [
      "Epoch 621\n",
      "Train Loss: 0.1786, Train Accuracy: 93.33%\n",
      "Test Loss: 0.3000, Test Accuracy: 90.61%\n",
      "\n"
     ]
    },
    {
     "name": "stderr",
     "output_type": "stream",
     "text": [
      "Epoch 622: 100%|██████████| 938/938 [01:19<00:00, 11.75batch/s, Train Loss=0.177, Train Acc=93.4]\n"
     ]
    },
    {
     "name": "stdout",
     "output_type": "stream",
     "text": [
      "Epoch 622\n",
      "Train Loss: 0.1771, Train Accuracy: 93.43%\n",
      "Test Loss: 0.2942, Test Accuracy: 91.03%\n",
      "\n"
     ]
    },
    {
     "name": "stderr",
     "output_type": "stream",
     "text": [
      "Epoch 623: 100%|██████████| 938/938 [01:19<00:00, 11.74batch/s, Train Loss=0.172, Train Acc=93.5]\n"
     ]
    },
    {
     "name": "stdout",
     "output_type": "stream",
     "text": [
      "Epoch 623\n",
      "Train Loss: 0.1722, Train Accuracy: 93.52%\n",
      "Test Loss: 0.3030, Test Accuracy: 90.51%\n",
      "\n"
     ]
    },
    {
     "name": "stderr",
     "output_type": "stream",
     "text": [
      "Epoch 624: 100%|██████████| 938/938 [01:20<00:00, 11.72batch/s, Train Loss=0.169, Train Acc=93.7]\n"
     ]
    },
    {
     "name": "stdout",
     "output_type": "stream",
     "text": [
      "Epoch 624\n",
      "Train Loss: 0.1686, Train Accuracy: 93.74%\n",
      "Test Loss: 0.3012, Test Accuracy: 90.51%\n",
      "\n"
     ]
    },
    {
     "name": "stderr",
     "output_type": "stream",
     "text": [
      "Epoch 625: 100%|██████████| 938/938 [01:20<00:00, 11.72batch/s, Train Loss=0.171, Train Acc=93.6]\n"
     ]
    },
    {
     "name": "stdout",
     "output_type": "stream",
     "text": [
      "Epoch 625\n",
      "Train Loss: 0.1708, Train Accuracy: 93.63%\n",
      "Test Loss: 0.2980, Test Accuracy: 91.10%\n",
      "\n"
     ]
    },
    {
     "name": "stderr",
     "output_type": "stream",
     "text": [
      "Epoch 626: 100%|██████████| 938/938 [01:19<00:00, 11.75batch/s, Train Loss=0.165, Train Acc=93.8]\n"
     ]
    },
    {
     "name": "stdout",
     "output_type": "stream",
     "text": [
      "Epoch 626\n",
      "Train Loss: 0.1648, Train Accuracy: 93.83%\n",
      "Test Loss: 0.2992, Test Accuracy: 90.82%\n",
      "\n"
     ]
    },
    {
     "name": "stderr",
     "output_type": "stream",
     "text": [
      "Epoch 627: 100%|██████████| 938/938 [01:19<00:00, 11.78batch/s, Train Loss=0.163, Train Acc=94]  \n"
     ]
    },
    {
     "name": "stdout",
     "output_type": "stream",
     "text": [
      "Epoch 627\n",
      "Train Loss: 0.1630, Train Accuracy: 93.98%\n",
      "Test Loss: 0.3065, Test Accuracy: 90.62%\n",
      "\n"
     ]
    },
    {
     "name": "stderr",
     "output_type": "stream",
     "text": [
      "Epoch 628: 100%|██████████| 938/938 [01:19<00:00, 11.73batch/s, Train Loss=0.161, Train Acc=94]  \n"
     ]
    },
    {
     "name": "stdout",
     "output_type": "stream",
     "text": [
      "Epoch 628\n",
      "Train Loss: 0.1612, Train Accuracy: 93.96%\n",
      "Test Loss: 0.3072, Test Accuracy: 90.75%\n",
      "\n"
     ]
    },
    {
     "name": "stderr",
     "output_type": "stream",
     "text": [
      "Epoch 629: 100%|██████████| 938/938 [01:19<00:00, 11.76batch/s, Train Loss=0.159, Train Acc=94]  \n"
     ]
    },
    {
     "name": "stdout",
     "output_type": "stream",
     "text": [
      "Epoch 629\n",
      "Train Loss: 0.1591, Train Accuracy: 93.99%\n",
      "Test Loss: 0.3265, Test Accuracy: 90.76%\n",
      "\n"
     ]
    },
    {
     "name": "stderr",
     "output_type": "stream",
     "text": [
      "Epoch 630: 100%|██████████| 938/938 [01:20<00:00, 11.72batch/s, Train Loss=0.155, Train Acc=94.2]\n"
     ]
    },
    {
     "name": "stdout",
     "output_type": "stream",
     "text": [
      "Epoch 630\n",
      "Train Loss: 0.1554, Train Accuracy: 94.19%\n",
      "Test Loss: 0.3312, Test Accuracy: 90.60%\n",
      "\n"
     ]
    },
    {
     "name": "stderr",
     "output_type": "stream",
     "text": [
      "Epoch 631: 100%|██████████| 938/938 [01:19<00:00, 11.75batch/s, Train Loss=0.153, Train Acc=94.4]\n"
     ]
    },
    {
     "name": "stdout",
     "output_type": "stream",
     "text": [
      "Epoch 631\n",
      "Train Loss: 0.1528, Train Accuracy: 94.37%\n",
      "Test Loss: 0.3240, Test Accuracy: 90.78%\n",
      "\n"
     ]
    },
    {
     "name": "stderr",
     "output_type": "stream",
     "text": [
      "Epoch 632: 100%|██████████| 938/938 [01:19<00:00, 11.76batch/s, Train Loss=0.154, Train Acc=94.3]\n"
     ]
    },
    {
     "name": "stdout",
     "output_type": "stream",
     "text": [
      "Epoch 632\n",
      "Train Loss: 0.1538, Train Accuracy: 94.27%\n",
      "Test Loss: 0.3270, Test Accuracy: 90.56%\n",
      "\n"
     ]
    },
    {
     "name": "stderr",
     "output_type": "stream",
     "text": [
      "Epoch 633: 100%|██████████| 938/938 [01:19<00:00, 11.78batch/s, Train Loss=0.148, Train Acc=94.5]\n"
     ]
    },
    {
     "name": "stdout",
     "output_type": "stream",
     "text": [
      "Epoch 633\n",
      "Train Loss: 0.1481, Train Accuracy: 94.48%\n",
      "Test Loss: 0.3266, Test Accuracy: 90.87%\n",
      "\n"
     ]
    },
    {
     "name": "stderr",
     "output_type": "stream",
     "text": [
      "Epoch 634: 100%|██████████| 938/938 [01:19<00:00, 11.79batch/s, Train Loss=0.144, Train Acc=94.5]\n"
     ]
    },
    {
     "name": "stdout",
     "output_type": "stream",
     "text": [
      "Epoch 634\n",
      "Train Loss: 0.1443, Train Accuracy: 94.50%\n",
      "Test Loss: 0.3318, Test Accuracy: 90.69%\n",
      "\n"
     ]
    },
    {
     "name": "stderr",
     "output_type": "stream",
     "text": [
      "Epoch 635: 100%|██████████| 938/938 [01:19<00:00, 11.76batch/s, Train Loss=0.147, Train Acc=94.5]\n"
     ]
    },
    {
     "name": "stdout",
     "output_type": "stream",
     "text": [
      "Epoch 635\n",
      "Train Loss: 0.1467, Train Accuracy: 94.49%\n",
      "Test Loss: 0.3462, Test Accuracy: 90.51%\n",
      "\n"
     ]
    },
    {
     "name": "stderr",
     "output_type": "stream",
     "text": [
      "Epoch 636: 100%|██████████| 938/938 [01:19<00:00, 11.77batch/s, Train Loss=0.139, Train Acc=94.7]\n"
     ]
    },
    {
     "name": "stdout",
     "output_type": "stream",
     "text": [
      "Epoch 636\n",
      "Train Loss: 0.1394, Train Accuracy: 94.73%\n",
      "Test Loss: 0.3376, Test Accuracy: 90.74%\n",
      "\n"
     ]
    },
    {
     "name": "stderr",
     "output_type": "stream",
     "text": [
      "Epoch 637: 100%|██████████| 938/938 [01:20<00:00, 11.71batch/s, Train Loss=0.14, Train Acc=94.8] \n"
     ]
    },
    {
     "name": "stdout",
     "output_type": "stream",
     "text": [
      "Epoch 637\n",
      "Train Loss: 0.1399, Train Accuracy: 94.77%\n",
      "Test Loss: 0.3509, Test Accuracy: 90.50%\n",
      "\n"
     ]
    },
    {
     "name": "stderr",
     "output_type": "stream",
     "text": [
      "Epoch 638: 100%|██████████| 938/938 [01:19<00:00, 11.75batch/s, Train Loss=0.138, Train Acc=94.8]\n"
     ]
    },
    {
     "name": "stdout",
     "output_type": "stream",
     "text": [
      "Epoch 638\n",
      "Train Loss: 0.1385, Train Accuracy: 94.84%\n",
      "Test Loss: 0.3520, Test Accuracy: 90.79%\n",
      "\n"
     ]
    },
    {
     "name": "stderr",
     "output_type": "stream",
     "text": [
      "Epoch 639: 100%|██████████| 938/938 [01:19<00:00, 11.75batch/s, Train Loss=0.14, Train Acc=94.9] \n"
     ]
    },
    {
     "name": "stdout",
     "output_type": "stream",
     "text": [
      "Epoch 639\n",
      "Train Loss: 0.1398, Train Accuracy: 94.86%\n",
      "Test Loss: 0.3351, Test Accuracy: 90.88%\n",
      "\n"
     ]
    },
    {
     "name": "stderr",
     "output_type": "stream",
     "text": [
      "Epoch 640: 100%|██████████| 938/938 [01:19<00:00, 11.79batch/s, Train Loss=0.138, Train Acc=94.8]\n"
     ]
    },
    {
     "name": "stdout",
     "output_type": "stream",
     "text": [
      "Epoch 640\n",
      "Train Loss: 0.1377, Train Accuracy: 94.83%\n",
      "Test Loss: 0.3491, Test Accuracy: 90.78%\n",
      "\n"
     ]
    },
    {
     "name": "stderr",
     "output_type": "stream",
     "text": [
      "Epoch 641: 100%|██████████| 938/938 [01:21<00:00, 11.47batch/s, Train Loss=0.137, Train Acc=94.9]\n"
     ]
    },
    {
     "name": "stdout",
     "output_type": "stream",
     "text": [
      "Epoch 641\n",
      "Train Loss: 0.1368, Train Accuracy: 94.89%\n",
      "Test Loss: 0.3459, Test Accuracy: 90.84%\n",
      "\n"
     ]
    },
    {
     "name": "stderr",
     "output_type": "stream",
     "text": [
      "Epoch 642: 100%|██████████| 938/938 [01:21<00:00, 11.48batch/s, Train Loss=0.136, Train Acc=94.9]\n"
     ]
    },
    {
     "name": "stdout",
     "output_type": "stream",
     "text": [
      "Epoch 642\n",
      "Train Loss: 0.1360, Train Accuracy: 94.88%\n",
      "Test Loss: 0.3518, Test Accuracy: 90.43%\n",
      "\n"
     ]
    },
    {
     "name": "stderr",
     "output_type": "stream",
     "text": [
      "Epoch 643:  15%|█▌        | 145/938 [00:12<01:09, 11.35batch/s, Train Loss=0.134, Train Acc=95.1]\n"
     ]
    },
    {
     "ename": "KeyboardInterrupt",
     "evalue": "",
     "output_type": "error",
     "traceback": [
      "\u001b[0;31m---------------------------------------------------------------------------\u001b[0m",
      "\u001b[0;31mKeyboardInterrupt\u001b[0m                         Traceback (most recent call last)",
      "Cell \u001b[0;32mIn[22], line 4\u001b[0m\n\u001b[1;32m      2\u001b[0m epochs \u001b[38;5;241m=\u001b[39m \u001b[38;5;241m1000\u001b[39m\n\u001b[1;32m      3\u001b[0m \u001b[38;5;28;01mfor\u001b[39;00m epoch \u001b[38;5;129;01min\u001b[39;00m \u001b[38;5;28mrange\u001b[39m(\u001b[38;5;241m581\u001b[39m, epochs \u001b[38;5;241m+\u001b[39m \u001b[38;5;241m1\u001b[39m):\n\u001b[0;32m----> 4\u001b[0m     train_loss, train_accuracy \u001b[38;5;241m=\u001b[39m \u001b[43mtrain\u001b[49m\u001b[43m(\u001b[49m\u001b[43mmodel\u001b[49m\u001b[43m,\u001b[49m\u001b[43m \u001b[49m\u001b[43mdevice\u001b[49m\u001b[43m,\u001b[49m\u001b[43m \u001b[49m\u001b[43mtrain_loader\u001b[49m\u001b[43m,\u001b[49m\u001b[43m \u001b[49m\u001b[43moptimizer\u001b[49m\u001b[43m,\u001b[49m\u001b[43m \u001b[49m\u001b[43mcriterion\u001b[49m\u001b[43m,\u001b[49m\u001b[43m \u001b[49m\u001b[43mepoch\u001b[49m\u001b[43m)\u001b[49m\n\u001b[1;32m      5\u001b[0m     test_loss, test_accuracy \u001b[38;5;241m=\u001b[39m test(model, device, test_loader, criterion, epoch)\n\u001b[1;32m      6\u001b[0m     \u001b[38;5;28mprint\u001b[39m(\u001b[38;5;124mf\u001b[39m\u001b[38;5;124m\"\u001b[39m\u001b[38;5;124mEpoch \u001b[39m\u001b[38;5;132;01m{\u001b[39;00mepoch\u001b[38;5;132;01m}\u001b[39;00m\u001b[38;5;124m\"\u001b[39m)\n",
      "Cell \u001b[0;32mIn[20], line 16\u001b[0m, in \u001b[0;36mtrain\u001b[0;34m(model, device, train_loader, optimizer, criterion, epoch)\u001b[0m\n\u001b[1;32m     14\u001b[0m loss\u001b[38;5;241m.\u001b[39mbackward()\n\u001b[1;32m     15\u001b[0m optimizer\u001b[38;5;241m.\u001b[39mstep()\n\u001b[0;32m---> 16\u001b[0m train_loss \u001b[38;5;241m+\u001b[39m\u001b[38;5;241m=\u001b[39m \u001b[43mloss\u001b[49m\u001b[38;5;241;43m.\u001b[39;49m\u001b[43mitem\u001b[49m\u001b[43m(\u001b[49m\u001b[43m)\u001b[49m\n\u001b[1;32m     17\u001b[0m _, predicted \u001b[38;5;241m=\u001b[39m output\u001b[38;5;241m.\u001b[39mmax(\u001b[38;5;241m1\u001b[39m)\n\u001b[1;32m     18\u001b[0m total \u001b[38;5;241m+\u001b[39m\u001b[38;5;241m=\u001b[39m target\u001b[38;5;241m.\u001b[39msize(\u001b[38;5;241m0\u001b[39m)\n",
      "\u001b[0;31mKeyboardInterrupt\u001b[0m: "
     ]
    }
   ],
   "source": [
    "\n",
    "\n",
    "model.to(device)\n",
    "epochs = 1000\n",
    "for epoch in range(581, epochs + 1):\n",
    "    train_loss, train_accuracy = train(model, device, train_loader, optimizer, criterion, epoch)\n",
    "    test_loss, test_accuracy = test(model, device, test_loader, criterion, epoch)\n",
    "    print(f\"Epoch {epoch}\")\n",
    "    print(f\"Train Loss: {train_loss:.4f}, Train Accuracy: {train_accuracy:.2f}%\")\n",
    "    print(f\"Test Loss: {test_loss:.4f}, Test Accuracy: {test_accuracy:.2f}%\")\n",
    "    print()\n",
    "\n",
    "\n",
    "writer.close()"
   ]
  },
  {
   "cell_type": "code",
   "execution_count": 64,
   "metadata": {},
   "outputs": [],
   "source": [
    "def save_model(model, optimizer, epoch, loss, accuracy, filename):\n",
    "    torch.save({\n",
    "        'epoch': epoch,\n",
    "        'model_state_dict': model.state_dict(),\n",
    "        'optimizer_state_dict': optimizer.state_dict(),\n",
    "        'loss': loss,\n",
    "        'accuracy': accuracy\n",
    "    }, filename)\n"
   ]
  },
  {
   "cell_type": "code",
   "execution_count": 70,
   "metadata": {},
   "outputs": [],
   "source": [
    "save_model(model, optimizer, epochs, test_loss, test_accuracy, 'final_model.pth')"
   ]
  },
  {
   "cell_type": "code",
   "execution_count": 20,
   "metadata": {},
   "outputs": [],
   "source": [
    "def load_model(model, optimizer, filename):\n",
    "    checkpoint = torch.load(filename)\n",
    "    model.load_state_dict(checkpoint['model_state_dict'])\n",
    "    optimizer.load_state_dict(checkpoint['optimizer_state_dict'])\n",
    "    epoch = checkpoint['epoch']\n",
    "    loss = checkpoint['loss']\n",
    "    accuracy = checkpoint['accuracy']\n",
    "    return model, optimizer, epoch, loss, accuracy\n",
    "\n",
    "# Usage\n",
    "model, optimizer, epoch, loss, accuracy = load_model(model, optimizer, 'final_model.pth')"
   ]
  }
 ],
 "metadata": {
  "kernelspec": {
   "display_name": "vqvae",
   "language": "python",
   "name": "python3"
  },
  "language_info": {
   "codemirror_mode": {
    "name": "ipython",
    "version": 3
   },
   "file_extension": ".py",
   "mimetype": "text/x-python",
   "name": "python",
   "nbconvert_exporter": "python",
   "pygments_lexer": "ipython3",
   "version": "3.8.undefined"
  }
 },
 "nbformat": 4,
 "nbformat_minor": 2
}
