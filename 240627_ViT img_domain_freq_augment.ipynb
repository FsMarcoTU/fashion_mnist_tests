{
 "cells": [
  {
   "cell_type": "code",
   "execution_count": 144,
   "metadata": {},
   "outputs": [],
   "source": [
    "from vit_pytorch import ViT\n",
    "import torch\n",
    "from torchvision import datasets, transforms\n",
    "from torch.utils.data import Dataset, DataLoader\n",
    "import numpy as np\n",
    "import matplotlib.pyplot as plt\n",
    "import random\n",
    "import torch.nn as nn\n",
    "import torch.optim as optim\n",
    "import torch.nn.functional as F\n",
    "from tqdm import tqdm\n",
    "from torch.utils.tensorboard import SummaryWriter"
   ]
  },
  {
   "cell_type": "code",
   "execution_count": 145,
   "metadata": {},
   "outputs": [],
   "source": [
    "class TwoChannelsToComplex(nn.Module):\n",
    "    def __init__(self):\n",
    "        super(TwoChannelsToComplex, self).__init__()\n",
    "\n",
    "    def forward(self, x):\n",
    "        real, imag = torch.chunk(x, 2, dim=1)\n",
    "        complex_tensor = torch.complex(real.squeeze(1), imag.squeeze(1))\n",
    "        return complex_tensor\n",
    "class ComplexToTwoChannels(nn.Module):\n",
    "    def __init__(self):\n",
    "        super(ComplexToTwoChannels, self).__init__()\n",
    "\n",
    "    def forward(self, x):\n",
    "        real = x.real.unsqueeze(1)\n",
    "        imag = x.imag.unsqueeze(1)\n",
    "        two_channel_tensor = torch.cat((real, imag), dim=1)\n",
    "        return two_channel_tensor\n",
    "\n",
    "class InverseFourierTransform2D(nn.Module):\n",
    "    def __init__(self, norm='ortho'):\n",
    "        super(InverseFourierTransform2D, self).__init__()\n",
    "        self.norm = norm\n",
    "\n",
    "    def forward(self, x):\n",
    "        return torch.fft.ifft2(x, norm=self.norm)"
   ]
  },
  {
   "cell_type": "code",
   "execution_count": 146,
   "metadata": {},
   "outputs": [],
   "source": [
    "\n",
    "transform = transforms.Compose([transforms.ToTensor()])\n",
    "train_data = datasets.FashionMNIST(root='data', train=True, download=True, transform=transform)\n",
    "test_data = datasets.FashionMNIST(root='data', train=False, download=True, transform=transform)"
   ]
  },
  {
   "cell_type": "code",
   "execution_count": 147,
   "metadata": {},
   "outputs": [],
   "source": [
    "def fft_transform(data):\n",
    "    processed_data = []\n",
    "    for img, _ in data:\n",
    "        img_np = img.numpy().squeeze()\n",
    "        fft = np.fft.fft2(img_np)\n",
    "        processed_data.append((img_np, fft))\n",
    "    return processed_data\n",
    "\n",
    "train_fft = fft_transform(train_data)\n",
    "test_fft = fft_transform(test_data)\n",
    "\n",
    "def normalize_fft(fft_data):\n",
    "    normalized_data = []\n",
    "    for img_np, fft in fft_data:\n",
    "        # Calculate magnitude and phase\n",
    "        magnitude = np.abs(fft)\n",
    "        phase = np.angle(fft)\n",
    "        \n",
    "        # Normalize magnitude to [0, 1] range\n",
    "        magnitude_min = np.min(magnitude)\n",
    "        magnitude_max = np.max(magnitude)\n",
    "        normalized_magnitude = (magnitude - magnitude_min) / (magnitude_max - magnitude_min)\n",
    "        \n",
    "        # Rebuild complex number using normalized magnitude and original phase\n",
    "        normalized_fft = normalized_magnitude * np.exp(1j * phase)\n",
    "        \n",
    "        normalized_data.append((img_np, normalized_fft))\n",
    "    \n",
    "    return normalized_data\n",
    "\n",
    "# train_fft = normalize_fft(train_fft)\n",
    "# test_fft = normalize_fft(test_fft)"
   ]
  },
  {
   "cell_type": "code",
   "execution_count": 148,
   "metadata": {},
   "outputs": [
    {
     "name": "stdout",
     "output_type": "stream",
     "text": [
      "tensor([  19,   18,   23,   24,   25,   20,   15,   14,   13,   12,   17,   22,\n",
      "          12,   22,   22,  252, 1000, 1000,  500,  300,  200,   10,    9,    8,\n",
      "           7,    6,   11,   16,   21,  210,  210,   12,   22,   22,  252, 1000,\n",
      "           1,    1,    1,    1,    1,    1,    1,  123,    5,    4,    3,    2,\n",
      "           1])\n",
      "Data Middle: (0.35686272336170055-4.440892098500626e-16j)\n",
      "Top left: (299.0078472062014+0j)\n",
      "torch.Size([28, 28])\n",
      "result middle (0.35686272382736206-4.440892098500626e-16j)\n"
     ]
    },
    {
     "name": "stderr",
     "output_type": "stream",
     "text": [
      "/tmp/ipykernel_8812/3847035816.py:50: UserWarning: To copy construct from a tensor, it is recommended to use sourceTensor.clone().detach() or sourceTensor.clone().detach().requires_grad_(True), rather than torch.tensor(sourceTensor).\n",
      "  patch = torch.tensor(flattened[i:i + patch_size * patch_size])\n"
     ]
    },
    {
     "data": {
      "text/plain": [
       "<matplotlib.image.AxesImage at 0x75d483677be0>"
      ]
     },
     "execution_count": 148,
     "metadata": {},
     "output_type": "execute_result"
    },
    {
     "data": {
      "image/png": "[encoded data removed]",
      "text/plain": [
       "<Figure size 640x480 with 2 Axes>"
      ]
     },
     "metadata": {},
     "output_type": "display_data"
    }
   ],
   "source": [
    "def spiral_matrix(matrix):\n",
    "    # if not matrix:\n",
    "    #     return []\n",
    "    \n",
    "    result = []\n",
    "    n = len(matrix)\n",
    "    top, bottom, left, right = 0, n - 1, 0, n - 1\n",
    "    \n",
    "    while len(result) < n * n:\n",
    "        # Traverse right\n",
    "        for i in range(left, right + 1):\n",
    "            result.append(matrix[top][i])\n",
    "        top += 1\n",
    "        \n",
    "        # Traverse down\n",
    "        for i in range(top, bottom + 1):\n",
    "            result.append(matrix[i][right])\n",
    "        right -= 1\n",
    "        \n",
    "        if top <= bottom:\n",
    "            # Traverse left\n",
    "            for i in range(right, left - 1, -1):\n",
    "                result.append(matrix[bottom][i])\n",
    "            bottom -= 1\n",
    "        \n",
    "        if left <= right:\n",
    "            # Traverse up\n",
    "            for i in range(bottom, top - 1, -1):\n",
    "                result.append(matrix[i][left])\n",
    "            left += 1\n",
    "    \n",
    "    return torch.tensor(result[::-1])\n",
    "\n",
    "def rearrange_matrix(original_matrix, patch_size=7):\n",
    "    \"\"\"\n",
    "    Input: The centered fourier Spectrum of a matrix:\n",
    "    Output: rearranged patches\n",
    "    \"\"\"\n",
    "    # Step 1: Transform the matrix using the spiral method\n",
    "    flattened = spiral_matrix(original_matrix)\n",
    "    \n",
    "    # Step 2: Calculate dimensions\n",
    "    n = len(original_matrix)\n",
    "    total_elements = n * n\n",
    "    patches_per_row = n // patch_size\n",
    "    \n",
    "    # Step 3: Create patches\n",
    "    patches = []\n",
    "    for i in range(0, total_elements, patch_size * patch_size):\n",
    "        patch = torch.tensor(flattened[i:i + patch_size * patch_size])\n",
    "        patch = patch.reshape(patch_size, patch_size)\n",
    "        patches.append(patch)\n",
    "    \n",
    "    # Step 4: Rearrange patches\n",
    "    result = torch.zeros((n, n), dtype=torch.complex64)\n",
    "    for i in range(patches_per_row):\n",
    "        for j in range(patches_per_row):\n",
    "            patch_index = i * patches_per_row + j\n",
    "            row_start = i * patch_size\n",
    "            col_start = j * patch_size\n",
    "            result[row_start:row_start + patch_size, col_start:col_start + patch_size] = patches[patch_index]\n",
    "    \n",
    "    return result\n",
    "\n",
    "matrix = [\n",
    "    [1,  2,  3,  4,  5, 123, 1],\n",
    "    [6,  7,  8,  9,  10, 200, 1],\n",
    "    [11, 12, 13, 14, 15, 300,1 ],\n",
    "    [16, 17, 18, 19, 20, 500,1 ],\n",
    "    [21, 22, 23, 24, 25, 1000,1 ],\n",
    "    [210,12, 22, 22, 252,1000,1 ],\n",
    "    [210,12, 22, 22, 252,1000,1]\n",
    "]\n",
    "\n",
    "result = spiral_matrix(matrix)\n",
    "print(result)\n",
    "\n",
    "\n",
    "\n",
    "# Example usage\n",
    "data = torch.tensor(train_fft[0][1])\n",
    "print(f\"Data Middle: {data[14,14]}\")\n",
    "print(f\"Top left: {data[0,0]}\")\n",
    "result = rearrange_matrix(torch.fft.fftshift(data))\n",
    "\n",
    "print(result.shape)  # Should be (28, 28)\n",
    "print(f\"result middle {result[27,27]}\")\n",
    "plt.subplot(1,2,1)\n",
    "plt.imshow(np.log(np.abs(result)), cmap=\"gray\")\n",
    "plt.subplot(1,2,2)\n",
    "plt.imshow(np.log(np.abs(np.fft.fftshift(data))), cmap=\"gray\")"
   ]
  },
  {
   "cell_type": "code",
   "execution_count": 149,
   "metadata": {},
   "outputs": [
    {
     "name": "stdout",
     "output_type": "stream",
     "text": [
      "1.0 0.0 (299.0078472062014+0j) (-105.1554452474781-85.19899857776973j)\n"
     ]
    },
    {
     "data": {
      "image/png": "[encoded data removed]",
      "text/plain": [
       "<Figure size 640x480 with 1 Axes>"
      ]
     },
     "metadata": {},
     "output_type": "display_data"
    }
   ],
   "source": [
    "plt.imshow(np.abs(train_fft[0])[1])\n",
    "print(train_fft[0][0].max(), train_fft[0][0].min(), train_fft[0][1].max(), train_fft[0][1].min())"
   ]
  },
  {
   "cell_type": "code",
   "execution_count": 150,
   "metadata": {},
   "outputs": [],
   "source": [
    "def phase_shift_fourier(fourier_image, x=2.0, y=2.0):\n",
    "    \"\"\"\n",
    "    Perform a random phase shift on a Fourier-image, constrained by maximum values.\n",
    "    \n",
    "    Parameters:\n",
    "    fourier_image (torch.tensor): Complex-valued centered Fourier representation of an image\n",
    "    x (float): Maximum amount to shift in x direction (0-2 range recommended due to 2pi periodicity)\n",
    "    y (float): Maximum amount to shift in y direction (0-2 range recommended due to 2pi periodicity)\n",
    "    \n",
    "    Returns:\n",
    "    torch.tensor: The phase-shifted Fourier-image\n",
    "    \"\"\"\n",
    "    fourier_image = torch.fft.fftshift(fourier_image)\n",
    "    rows, cols = fourier_image.shape\n",
    "    \n",
    "    # Generate random shift amounts within the specified ranges\n",
    "    random_x = torch.rand(1).item() * x\n",
    "    random_y = torch.rand(1).item() * y\n",
    "    shift_x = random_y * torch.pi * rows\n",
    "    shift_y = random_x * torch.pi * cols\n",
    "    \n",
    "    freq_x = torch.fft.fftfreq(cols)\n",
    "    freq_y = torch.fft.fftfreq(rows)\n",
    "    fx, fy = torch.meshgrid(freq_x, freq_y, indexing='ij')\n",
    "    \n",
    "    # Calculate and apply phase shift\n",
    "    phase_shift = torch.exp(-1j * (shift_x * fx + shift_y * fy))\n",
    "    shifted_fourier_image = torch.fft.fftshift(fourier_image * phase_shift)\n",
    "    \n",
    "    return shifted_fourier_image\n",
    "\n",
    "\n",
    "def mask_frequency_spectrum(spectrum, max_mask_percentage):\n",
    "    # Ensure the max_mask_percentage is between 0 and 100\n",
    "    max_mask_percentage = torch.clamp(torch.tensor(max_mask_percentage), 0, 100)\n",
    "    \n",
    "    # Generate a random mask percentage\n",
    "    mask_percentage = torch.rand(1) * max_mask_percentage\n",
    "    \n",
    "    # Calculate the number of elements to mask\n",
    "    num_elements = spectrum.numel()\n",
    "    num_masked = int(num_elements * mask_percentage.item() / 100)\n",
    "    \n",
    "    # Create a flat copy of the spectrum\n",
    "    flat_spectrum = spectrum.view(-1)\n",
    "    \n",
    "    # Randomly select indices to mask\n",
    "    mask_indices = torch.randperm(num_elements)[:num_masked]\n",
    "    \n",
    "    # Create a mask tensor\n",
    "    mask = torch.ones_like(flat_spectrum, dtype=torch.bool)\n",
    "    mask[mask_indices] = False\n",
    "    \n",
    "    # Apply the mask\n",
    "    masked_spectrum = flat_spectrum.clone()\n",
    "    masked_spectrum[~mask] = 0\n",
    "    \n",
    "    # Reshape the spectrum back to its original shape\n",
    "    masked_spectrum = masked_spectrum.view(spectrum.shape)\n",
    "    \n",
    "    return masked_spectrum\n",
    "\n",
    "\n",
    "def normalize_magn(fft):\n",
    "        magnitude = torch.abs(fft)\n",
    "        phase = torch.angle(fft)\n",
    "        \n",
    "        # Normalize magnitude to [0, 1] range\n",
    "        magnitude_min = torch.min(magnitude)\n",
    "        magnitude_max = torch.max(magnitude)\n",
    "        normalized_magnitude = (magnitude - magnitude_min) / (magnitude_max - magnitude_min)\n",
    "        \n",
    "        # Rebuild complex number using normalized magnitude and original phase\n",
    "        normalized_fft = normalized_magnitude * torch.exp(1j * phase)\n",
    "        \n",
    "        return normalized_fft"
   ]
  },
  {
   "cell_type": "code",
   "execution_count": 151,
   "metadata": {},
   "outputs": [],
   "source": [
    "class CustomTransform:\n",
    "    def __init__(self, is_training=True):\n",
    "        self.is_training = is_training\n",
    "        \n",
    "    def __call__(self, sample):\n",
    "        img, fft = torch.tensor(np.array(sample))\n",
    "        if self.is_training: \n",
    "            fft = torch.fft.fftshift(fft)\n",
    "            fft = phase_shift_fourier(fft)\n",
    "            fft = mask_frequency_spectrum(fft, 75)\n",
    "            fft_rearranged = rearrange_matrix(fft) # rearrange for better patch awarness\n",
    "            fft_uncentered = torch.fft.fftshift(fft)\n",
    "            fft = normalize_magn(fft_rearranged)\n",
    "            img = torch.fft.ifft2(fft_uncentered)\n",
    "        # Split the complex image into real and imaginary parts\n",
    "        img_real = torch.real(img)\n",
    "        img_imag = torch.imag(img)\n",
    "        \n",
    "        # Stack the real and imaginary parts of the image\n",
    "        img_stacked = torch.stack([img_real, img_imag])\n",
    "        # Split the complex FFT into real and imaginary parts\n",
    "        fft_real = torch.real(fft)\n",
    "        fft_imag = torch.imag(fft)\n",
    "        fft_stacked = torch.stack([fft_real, fft_imag])\n",
    "        \n",
    "        # Stack the image and FFT side by side\n",
    "        combined = torch.concatenate([img_stacked, fft_stacked], axis=2)\n",
    "        \n",
    "        return combined.float()\n"
   ]
  },
  {
   "cell_type": "code",
   "execution_count": 152,
   "metadata": {},
   "outputs": [],
   "source": [
    "class ComplexDataset(Dataset):\n",
    "    def __init__(self, data, labels, is_training=True):\n",
    "        self.data = data\n",
    "        self.labels = labels\n",
    "        self.transform = CustomTransform(is_training)\n",
    "        \n",
    "    def __len__(self):\n",
    "        return len(self.data)\n",
    "\n",
    "    def __getitem__(self, idx):\n",
    "        sample = self.data[idx]\n",
    "        label = self.labels[idx]\n",
    "        sample = self.transform(sample)\n",
    "        return sample, label"
   ]
  },
  {
   "cell_type": "code",
   "execution_count": 153,
   "metadata": {},
   "outputs": [
    {
     "name": "stdout",
     "output_type": "stream",
     "text": [
      "938\n"
     ]
    }
   ],
   "source": [
    "# Create the custom dataset\n",
    "train_labels = [label for _, label in train_data]\n",
    "train_dataset = ComplexDataset(train_fft, train_labels, is_training=True)\n",
    "\n",
    "test_labels = [label for _, label in test_data]\n",
    "test_dataset = ComplexDataset(test_fft, test_labels, is_training=False)\n",
    "\n",
    "# Create data loaders\n",
    "train_loader = DataLoader(train_dataset, batch_size=64, shuffle=True)\n",
    "test_loader = DataLoader(test_dataset, batch_size=64, shuffle=False)\n",
    "\n",
    "print(len(train_loader))"
   ]
  },
  {
   "cell_type": "code",
   "execution_count": 154,
   "metadata": {},
   "outputs": [
    {
     "name": "stderr",
     "output_type": "stream",
     "text": [
      "/tmp/ipykernel_8812/3847035816.py:50: UserWarning: To copy construct from a tensor, it is recommended to use sourceTensor.clone().detach() or sourceTensor.clone().detach().requires_grad_(True), rather than torch.tensor(sourceTensor).\n",
      "  patch = torch.tensor(flattened[i:i + patch_size * patch_size])\n"
     ]
    }
   ],
   "source": [
    "item = next(iter(train_loader))"
   ]
  },
  {
   "cell_type": "code",
   "execution_count": 155,
   "metadata": {},
   "outputs": [
    {
     "name": "stdout",
     "output_type": "stream",
     "text": [
      "torch.Size([64, 2, 28, 56])\n"
     ]
    },
    {
     "data": {
      "text/plain": [
       "<matplotlib.image.AxesImage at 0x75d4835ce9a0>"
      ]
     },
     "execution_count": 155,
     "metadata": {},
     "output_type": "execute_result"
    },
    {
     "data": {
      "image/png": "[encoded data removed]",
      "text/plain": [
       "<Figure size 640x480 with 1 Axes>"
      ]
     },
     "metadata": {},
     "output_type": "display_data"
    }
   ],
   "source": [
    "print(item[0].shape)\n",
    "plt.imshow(item[0][0,0,:,:], cmap=\"gray\")"
   ]
  },
  {
   "cell_type": "code",
   "execution_count": 156,
   "metadata": {},
   "outputs": [
    {
     "name": "stdout",
     "output_type": "stream",
     "text": [
      "torch.float32\n"
     ]
    }
   ],
   "source": [
    "print(item[0][0][0][0].dtype)"
   ]
  },
  {
   "cell_type": "code",
   "execution_count": 157,
   "metadata": {},
   "outputs": [
    {
     "data": {
      "image/png": "[encoded data removed]",
      "text/plain": [
       "<Figure size 1200x500 with 3 Axes>"
      ]
     },
     "metadata": {},
     "output_type": "display_data"
    }
   ],
   "source": [
    "\n",
    "# Create a figure with two subplots\n",
    "fig, (ax1, ax2) = plt.subplots(1, 2, figsize=(12, 5))\n",
    "\n",
    "# Plot the image\n",
    "im = ax1.imshow(item[0][0,1,:,:], cmap=\"gray\")\n",
    "ax1.set_title(\"Image\")\n",
    "fig.colorbar(im, ax=ax1)\n",
    "\n",
    "# Plot the histogram\n",
    "ax2.hist(item[0][0,1,:,:].ravel(), bins=50, range=(0, 1))\n",
    "ax2.set_title(\"Histogram\")\n",
    "ax2.set_xlabel(\"Pixel Value\")\n",
    "ax2.set_ylabel(\"Frequency\")\n",
    "\n",
    "plt.tight_layout()\n",
    "plt.show()"
   ]
  },
  {
   "cell_type": "code",
   "execution_count": 158,
   "metadata": {},
   "outputs": [],
   "source": [
    "model = ViT(\n",
    "    image_size = 56,\n",
    "    patch_size = 7,\n",
    "    num_classes = 10,\n",
    "    dim = 256,\n",
    "    depth = 6,\n",
    "    heads = 12,\n",
    "    mlp_dim = 512,\n",
    "    dropout = 0.1,\n",
    "    emb_dropout = 0.1,\n",
    "    channels = 2\n",
    ")\n",
    "\n",
    "img = torch.randn(1, 2, 28, 56)\n",
    "\n",
    "preds = model(img) # (1, 1000)"
   ]
  },
  {
   "cell_type": "code",
   "execution_count": 159,
   "metadata": {},
   "outputs": [
    {
     "name": "stdout",
     "output_type": "stream",
     "text": [
      "Total trainable parameters: 6349774\n"
     ]
    }
   ],
   "source": [
    "total_params = sum(p.numel() for p in model.parameters() if p.requires_grad)\n",
    "print(f\"Total trainable parameters: {total_params}\")"
   ]
  },
  {
   "cell_type": "code",
   "execution_count": 160,
   "metadata": {},
   "outputs": [],
   "source": [
    "criterion = nn.CrossEntropyLoss()\n",
    "optimizer = optim.Adam(model.parameters(), lr=1e-4)"
   ]
  },
  {
   "cell_type": "code",
   "execution_count": 161,
   "metadata": {},
   "outputs": [],
   "source": [
    "writer = SummaryWriter('runs/experiment_1') \n",
    "\n",
    "def train(model, device, train_loader, optimizer, criterion, epoch):\n",
    "    model.train()\n",
    "    train_loss = 0\n",
    "    correct = 0\n",
    "    total = 0\n",
    "    progress_bar = tqdm(train_loader, desc=f\"Epoch {epoch}\", unit=\"batch\")\n",
    "    for batch_idx, (data, target) in enumerate(progress_bar):\n",
    "        data, target = data.to(device), target.to(device)\n",
    "        optimizer.zero_grad()\n",
    "        output = model(data)\n",
    "        loss = criterion(output, target)\n",
    "        loss.backward()\n",
    "        optimizer.step()\n",
    "        train_loss += loss.item()\n",
    "        _, predicted = output.max(1)\n",
    "        total += target.size(0)\n",
    "        correct += predicted.eq(target).sum().item()\n",
    "        progress_bar.set_postfix({\"Train Loss\": train_loss / (batch_idx + 1), \"Train Acc\": 100. * correct / total})\n",
    "        \n",
    "        # Log batch-level metrics\n",
    "        writer.add_scalar('Loss/Train Batch', loss.item(), epoch * len(train_loader) + batch_idx)\n",
    "        writer.add_scalar('Accuracy/Train Batch', 100. * correct / total, epoch * len(train_loader) + batch_idx)\n",
    "    \n",
    "    train_loss /= len(train_loader)\n",
    "    train_accuracy = 100. * correct / total\n",
    "    \n",
    "    # Log epoch-level metrics\n",
    "    writer.add_scalar('Loss/Train Epoch', train_loss, epoch)\n",
    "    writer.add_scalar('Accuracy/Train Epoch', train_accuracy, epoch)\n",
    "    \n",
    "    return train_loss, train_accuracy\n",
    "\n",
    "def test(model, device, test_loader, criterion, epoch):\n",
    "    model.eval()\n",
    "    test_loss = 0\n",
    "    correct = 0\n",
    "    total = 0\n",
    "    with torch.no_grad():\n",
    "        for data, target in test_loader:\n",
    "            data, target = data.to(device), target.to(device)\n",
    "            output = model(data)\n",
    "            test_loss += criterion(output, target).item()\n",
    "            _, predicted = output.max(1)\n",
    "            total += target.size(0)\n",
    "            correct += predicted.eq(target).sum().item()\n",
    "    \n",
    "    test_loss /= len(test_loader)\n",
    "    test_accuracy = 100. * correct / total\n",
    "    \n",
    "    # Log epoch-level metrics\n",
    "    writer.add_scalar('Loss/Test', test_loss, epoch)\n",
    "    writer.add_scalar('Accuracy/Test', test_accuracy, epoch)\n",
    "    \n",
    "    return test_loss, test_accuracy\n"
   ]
  },
  {
   "cell_type": "code",
   "execution_count": 162,
   "metadata": {},
   "outputs": [
    {
     "name": "stdout",
     "output_type": "stream",
     "text": [
      "cuda\n"
     ]
    }
   ],
   "source": [
    "device = torch.device(\"cuda\" if torch.cuda.is_available() else \"cpu\")\n",
    "print(device)"
   ]
  },
  {
   "cell_type": "code",
   "execution_count": 163,
   "metadata": {},
   "outputs": [
    {
     "name": "stderr",
     "output_type": "stream",
     "text": [
      "Epoch 0:   0%|          | 0/938 [00:00<?, ?batch/s]"
     ]
    },
    {
     "name": "stderr",
     "output_type": "stream",
     "text": [
      "/tmp/ipykernel_8812/3847035816.py:50: UserWarning: To copy construct from a tensor, it is recommended to use sourceTensor.clone().detach() or sourceTensor.clone().detach().requires_grad_(True), rather than torch.tensor(sourceTensor).\n",
      "  patch = torch.tensor(flattened[i:i + patch_size * patch_size])\n",
      "Epoch 0: 100%|██████████| 938/938 [03:49<00:00,  4.08batch/s, Train Loss=1.44, Train Acc=45.4]\n"
     ]
    },
    {
     "name": "stdout",
     "output_type": "stream",
     "text": [
      "Epoch 0\n",
      "Train Loss: 1.4355, Train Accuracy: 45.39%\n",
      "Test Loss: 1.1710, Test Accuracy: 54.30%\n",
      "\n"
     ]
    },
    {
     "name": "stderr",
     "output_type": "stream",
     "text": [
      "Epoch 1: 100%|██████████| 938/938 [03:51<00:00,  4.04batch/s, Train Loss=1.1, Train Acc=58.8] \n"
     ]
    },
    {
     "name": "stdout",
     "output_type": "stream",
     "text": [
      "Epoch 1\n",
      "Train Loss: 1.1009, Train Accuracy: 58.77%\n",
      "Test Loss: 1.0596, Test Accuracy: 60.95%\n",
      "\n"
     ]
    },
    {
     "name": "stderr",
     "output_type": "stream",
     "text": [
      "Epoch 2: 100%|██████████| 938/938 [03:49<00:00,  4.09batch/s, Train Loss=1.02, Train Acc=61.9]\n"
     ]
    },
    {
     "name": "stdout",
     "output_type": "stream",
     "text": [
      "Epoch 2\n",
      "Train Loss: 1.0165, Train Accuracy: 61.90%\n",
      "Test Loss: 0.9295, Test Accuracy: 65.62%\n",
      "\n"
     ]
    },
    {
     "name": "stderr",
     "output_type": "stream",
     "text": [
      "Epoch 3: 100%|██████████| 938/938 [03:53<00:00,  4.02batch/s, Train Loss=0.968, Train Acc=64.1]\n"
     ]
    },
    {
     "name": "stdout",
     "output_type": "stream",
     "text": [
      "Epoch 3\n",
      "Train Loss: 0.9685, Train Accuracy: 64.08%\n",
      "Test Loss: 0.8304, Test Accuracy: 69.92%\n",
      "\n"
     ]
    },
    {
     "name": "stderr",
     "output_type": "stream",
     "text": [
      "Epoch 4: 100%|██████████| 938/938 [03:37<00:00,  4.32batch/s, Train Loss=0.935, Train Acc=65.2]\n"
     ]
    },
    {
     "name": "stdout",
     "output_type": "stream",
     "text": [
      "Epoch 4\n",
      "Train Loss: 0.9350, Train Accuracy: 65.18%\n",
      "Test Loss: 0.8374, Test Accuracy: 69.75%\n",
      "\n"
     ]
    },
    {
     "name": "stderr",
     "output_type": "stream",
     "text": [
      "Epoch 5: 100%|██████████| 938/938 [03:26<00:00,  4.54batch/s, Train Loss=0.909, Train Acc=66.3]\n"
     ]
    },
    {
     "name": "stdout",
     "output_type": "stream",
     "text": [
      "Epoch 5\n",
      "Train Loss: 0.9089, Train Accuracy: 66.31%\n",
      "Test Loss: 0.7816, Test Accuracy: 71.39%\n",
      "\n"
     ]
    },
    {
     "name": "stderr",
     "output_type": "stream",
     "text": [
      "Epoch 6: 100%|██████████| 938/938 [03:33<00:00,  4.40batch/s, Train Loss=0.883, Train Acc=67.5]\n"
     ]
    },
    {
     "name": "stdout",
     "output_type": "stream",
     "text": [
      "Epoch 6\n",
      "Train Loss: 0.8828, Train Accuracy: 67.54%\n",
      "Test Loss: 0.7571, Test Accuracy: 72.55%\n",
      "\n"
     ]
    },
    {
     "name": "stderr",
     "output_type": "stream",
     "text": [
      "Epoch 7: 100%|██████████| 938/938 [03:32<00:00,  4.41batch/s, Train Loss=0.86, Train Acc=68.2] \n"
     ]
    },
    {
     "name": "stdout",
     "output_type": "stream",
     "text": [
      "Epoch 7\n",
      "Train Loss: 0.8601, Train Accuracy: 68.23%\n",
      "Test Loss: 0.7382, Test Accuracy: 73.34%\n",
      "\n"
     ]
    },
    {
     "name": "stderr",
     "output_type": "stream",
     "text": [
      "Epoch 8: 100%|██████████| 938/938 [03:49<00:00,  4.10batch/s, Train Loss=0.838, Train Acc=69]  \n"
     ]
    },
    {
     "name": "stdout",
     "output_type": "stream",
     "text": [
      "Epoch 8\n",
      "Train Loss: 0.8376, Train Accuracy: 68.98%\n",
      "Test Loss: 0.7115, Test Accuracy: 74.01%\n",
      "\n"
     ]
    },
    {
     "name": "stderr",
     "output_type": "stream",
     "text": [
      "Epoch 9: 100%|██████████| 938/938 [03:45<00:00,  4.16batch/s, Train Loss=0.821, Train Acc=69.6]\n"
     ]
    },
    {
     "name": "stdout",
     "output_type": "stream",
     "text": [
      "Epoch 9\n",
      "Train Loss: 0.8215, Train Accuracy: 69.61%\n",
      "Test Loss: 0.7301, Test Accuracy: 73.32%\n",
      "\n"
     ]
    },
    {
     "name": "stderr",
     "output_type": "stream",
     "text": [
      "Epoch 10: 100%|██████████| 938/938 [03:23<00:00,  4.60batch/s, Train Loss=0.81, Train Acc=70.3] \n"
     ]
    },
    {
     "name": "stdout",
     "output_type": "stream",
     "text": [
      "Epoch 10\n",
      "Train Loss: 0.8095, Train Accuracy: 70.32%\n",
      "Test Loss: 0.6633, Test Accuracy: 75.35%\n",
      "\n"
     ]
    },
    {
     "name": "stderr",
     "output_type": "stream",
     "text": [
      "Epoch 11: 100%|██████████| 938/938 [03:38<00:00,  4.28batch/s, Train Loss=0.793, Train Acc=70.7]\n"
     ]
    },
    {
     "name": "stdout",
     "output_type": "stream",
     "text": [
      "Epoch 11\n",
      "Train Loss: 0.7935, Train Accuracy: 70.66%\n",
      "Test Loss: 0.6315, Test Accuracy: 76.90%\n",
      "\n"
     ]
    },
    {
     "name": "stderr",
     "output_type": "stream",
     "text": [
      "Epoch 12: 100%|██████████| 938/938 [03:17<00:00,  4.75batch/s, Train Loss=0.777, Train Acc=71.4]\n"
     ]
    },
    {
     "name": "stdout",
     "output_type": "stream",
     "text": [
      "Epoch 12\n",
      "Train Loss: 0.7769, Train Accuracy: 71.43%\n",
      "Test Loss: 0.6037, Test Accuracy: 77.49%\n",
      "\n"
     ]
    },
    {
     "name": "stderr",
     "output_type": "stream",
     "text": [
      "Epoch 13: 100%|██████████| 938/938 [03:14<00:00,  4.81batch/s, Train Loss=0.763, Train Acc=71.7]\n"
     ]
    },
    {
     "name": "stdout",
     "output_type": "stream",
     "text": [
      "Epoch 13\n",
      "Train Loss: 0.7632, Train Accuracy: 71.74%\n",
      "Test Loss: 0.6255, Test Accuracy: 76.68%\n",
      "\n"
     ]
    },
    {
     "name": "stderr",
     "output_type": "stream",
     "text": [
      "Epoch 14: 100%|██████████| 938/938 [03:14<00:00,  4.82batch/s, Train Loss=0.742, Train Acc=72.7]\n"
     ]
    },
    {
     "name": "stdout",
     "output_type": "stream",
     "text": [
      "Epoch 14\n",
      "Train Loss: 0.7421, Train Accuracy: 72.73%\n",
      "Test Loss: 0.5933, Test Accuracy: 77.90%\n",
      "\n"
     ]
    },
    {
     "name": "stderr",
     "output_type": "stream",
     "text": [
      "Epoch 15: 100%|██████████| 938/938 [03:18<00:00,  4.73batch/s, Train Loss=0.731, Train Acc=73]  \n"
     ]
    },
    {
     "name": "stdout",
     "output_type": "stream",
     "text": [
      "Epoch 15\n",
      "Train Loss: 0.7314, Train Accuracy: 73.05%\n",
      "Test Loss: 0.5689, Test Accuracy: 79.04%\n",
      "\n"
     ]
    },
    {
     "name": "stderr",
     "output_type": "stream",
     "text": [
      "Epoch 16: 100%|██████████| 938/938 [03:27<00:00,  4.52batch/s, Train Loss=0.72, Train Acc=73.4] \n"
     ]
    },
    {
     "name": "stdout",
     "output_type": "stream",
     "text": [
      "Epoch 16\n",
      "Train Loss: 0.7199, Train Accuracy: 73.44%\n",
      "Test Loss: 0.5920, Test Accuracy: 78.52%\n",
      "\n"
     ]
    },
    {
     "name": "stderr",
     "output_type": "stream",
     "text": [
      "Epoch 17: 100%|██████████| 938/938 [03:23<00:00,  4.61batch/s, Train Loss=0.71, Train Acc=73.8] \n"
     ]
    },
    {
     "name": "stdout",
     "output_type": "stream",
     "text": [
      "Epoch 17\n",
      "Train Loss: 0.7104, Train Accuracy: 73.78%\n",
      "Test Loss: 0.5457, Test Accuracy: 79.87%\n",
      "\n"
     ]
    },
    {
     "name": "stderr",
     "output_type": "stream",
     "text": [
      "Epoch 18: 100%|██████████| 938/938 [03:30<00:00,  4.46batch/s, Train Loss=0.691, Train Acc=74.5]\n"
     ]
    },
    {
     "name": "stdout",
     "output_type": "stream",
     "text": [
      "Epoch 18\n",
      "Train Loss: 0.6909, Train Accuracy: 74.47%\n",
      "Test Loss: 0.5266, Test Accuracy: 80.62%\n",
      "\n"
     ]
    },
    {
     "name": "stderr",
     "output_type": "stream",
     "text": [
      "Epoch 19: 100%|██████████| 938/938 [03:28<00:00,  4.50batch/s, Train Loss=0.68, Train Acc=75]   \n"
     ]
    },
    {
     "name": "stdout",
     "output_type": "stream",
     "text": [
      "Epoch 19\n",
      "Train Loss: 0.6803, Train Accuracy: 75.03%\n",
      "Test Loss: 0.5184, Test Accuracy: 80.70%\n",
      "\n"
     ]
    },
    {
     "name": "stderr",
     "output_type": "stream",
     "text": [
      "Epoch 20:  36%|███▌      | 340/938 [01:20<02:21,  4.22batch/s, Train Loss=0.679, Train Acc=74.9]\n"
     ]
    },
    {
     "ename": "KeyboardInterrupt",
     "evalue": "",
     "output_type": "error",
     "traceback": [
      "\u001b[0;31m---------------------------------------------------------------------------\u001b[0m",
      "\u001b[0;31mKeyboardInterrupt\u001b[0m                         Traceback (most recent call last)",
      "Cell \u001b[0;32mIn[163], line 4\u001b[0m\n\u001b[1;32m      2\u001b[0m epochs \u001b[38;5;241m=\u001b[39m \u001b[38;5;241m1000\u001b[39m\n\u001b[1;32m      3\u001b[0m \u001b[38;5;28;01mfor\u001b[39;00m epoch \u001b[38;5;129;01min\u001b[39;00m \u001b[38;5;28mrange\u001b[39m(\u001b[38;5;241m0\u001b[39m, epochs \u001b[38;5;241m+\u001b[39m \u001b[38;5;241m1\u001b[39m):\n\u001b[0;32m----> 4\u001b[0m     train_loss, train_accuracy \u001b[38;5;241m=\u001b[39m \u001b[43mtrain\u001b[49m\u001b[43m(\u001b[49m\u001b[43mmodel\u001b[49m\u001b[43m,\u001b[49m\u001b[43m \u001b[49m\u001b[43mdevice\u001b[49m\u001b[43m,\u001b[49m\u001b[43m \u001b[49m\u001b[43mtrain_loader\u001b[49m\u001b[43m,\u001b[49m\u001b[43m \u001b[49m\u001b[43moptimizer\u001b[49m\u001b[43m,\u001b[49m\u001b[43m \u001b[49m\u001b[43mcriterion\u001b[49m\u001b[43m,\u001b[49m\u001b[43m \u001b[49m\u001b[43mepoch\u001b[49m\u001b[43m)\u001b[49m\n\u001b[1;32m      5\u001b[0m     test_loss, test_accuracy \u001b[38;5;241m=\u001b[39m test(model, device, test_loader, criterion, epoch)\n\u001b[1;32m      6\u001b[0m     \u001b[38;5;28mprint\u001b[39m(\u001b[38;5;124mf\u001b[39m\u001b[38;5;124m\"\u001b[39m\u001b[38;5;124mEpoch \u001b[39m\u001b[38;5;132;01m{\u001b[39;00mepoch\u001b[38;5;132;01m}\u001b[39;00m\u001b[38;5;124m\"\u001b[39m)\n",
      "Cell \u001b[0;32mIn[161], line 9\u001b[0m, in \u001b[0;36mtrain\u001b[0;34m(model, device, train_loader, optimizer, criterion, epoch)\u001b[0m\n\u001b[1;32m      7\u001b[0m total \u001b[38;5;241m=\u001b[39m \u001b[38;5;241m0\u001b[39m\n\u001b[1;32m      8\u001b[0m progress_bar \u001b[38;5;241m=\u001b[39m tqdm(train_loader, desc\u001b[38;5;241m=\u001b[39m\u001b[38;5;124mf\u001b[39m\u001b[38;5;124m\"\u001b[39m\u001b[38;5;124mEpoch \u001b[39m\u001b[38;5;132;01m{\u001b[39;00mepoch\u001b[38;5;132;01m}\u001b[39;00m\u001b[38;5;124m\"\u001b[39m, unit\u001b[38;5;241m=\u001b[39m\u001b[38;5;124m\"\u001b[39m\u001b[38;5;124mbatch\u001b[39m\u001b[38;5;124m\"\u001b[39m)\n\u001b[0;32m----> 9\u001b[0m \u001b[38;5;28;01mfor\u001b[39;00m batch_idx, (data, target) \u001b[38;5;129;01min\u001b[39;00m \u001b[38;5;28menumerate\u001b[39m(progress_bar):\n\u001b[1;32m     10\u001b[0m     data, target \u001b[38;5;241m=\u001b[39m data\u001b[38;5;241m.\u001b[39mto(device), target\u001b[38;5;241m.\u001b[39mto(device)\n\u001b[1;32m     11\u001b[0m     optimizer\u001b[38;5;241m.\u001b[39mzero_grad()\n",
      "File \u001b[0;32m~/anaconda3/envs/vqvae/lib/python3.8/site-packages/tqdm/std.py:1178\u001b[0m, in \u001b[0;36mtqdm.__iter__\u001b[0;34m(self)\u001b[0m\n\u001b[1;32m   1175\u001b[0m time \u001b[38;5;241m=\u001b[39m \u001b[38;5;28mself\u001b[39m\u001b[38;5;241m.\u001b[39m_time\n\u001b[1;32m   1177\u001b[0m \u001b[38;5;28;01mtry\u001b[39;00m:\n\u001b[0;32m-> 1178\u001b[0m     \u001b[38;5;28;01mfor\u001b[39;00m obj \u001b[38;5;129;01min\u001b[39;00m iterable:\n\u001b[1;32m   1179\u001b[0m         \u001b[38;5;28;01myield\u001b[39;00m obj\n\u001b[1;32m   1180\u001b[0m         \u001b[38;5;66;03m# Update and possibly print the progressbar.\u001b[39;00m\n\u001b[1;32m   1181\u001b[0m         \u001b[38;5;66;03m# Note: does not call self.update(1) for speed optimisation.\u001b[39;00m\n",
      "File \u001b[0;32m~/anaconda3/envs/vqvae/lib/python3.8/site-packages/torch/utils/data/dataloader.py:631\u001b[0m, in \u001b[0;36m_BaseDataLoaderIter.__next__\u001b[0;34m(self)\u001b[0m\n\u001b[1;32m    628\u001b[0m \u001b[38;5;28;01mif\u001b[39;00m \u001b[38;5;28mself\u001b[39m\u001b[38;5;241m.\u001b[39m_sampler_iter \u001b[38;5;129;01mis\u001b[39;00m \u001b[38;5;28;01mNone\u001b[39;00m:\n\u001b[1;32m    629\u001b[0m     \u001b[38;5;66;03m# TODO(https://github.com/pytorch/pytorch/issues/76750)\u001b[39;00m\n\u001b[1;32m    630\u001b[0m     \u001b[38;5;28mself\u001b[39m\u001b[38;5;241m.\u001b[39m_reset()  \u001b[38;5;66;03m# type: ignore[call-arg]\u001b[39;00m\n\u001b[0;32m--> 631\u001b[0m data \u001b[38;5;241m=\u001b[39m \u001b[38;5;28;43mself\u001b[39;49m\u001b[38;5;241;43m.\u001b[39;49m\u001b[43m_next_data\u001b[49m\u001b[43m(\u001b[49m\u001b[43m)\u001b[49m\n\u001b[1;32m    632\u001b[0m \u001b[38;5;28mself\u001b[39m\u001b[38;5;241m.\u001b[39m_num_yielded \u001b[38;5;241m+\u001b[39m\u001b[38;5;241m=\u001b[39m \u001b[38;5;241m1\u001b[39m\n\u001b[1;32m    633\u001b[0m \u001b[38;5;28;01mif\u001b[39;00m \u001b[38;5;28mself\u001b[39m\u001b[38;5;241m.\u001b[39m_dataset_kind \u001b[38;5;241m==\u001b[39m _DatasetKind\u001b[38;5;241m.\u001b[39mIterable \u001b[38;5;129;01mand\u001b[39;00m \\\n\u001b[1;32m    634\u001b[0m         \u001b[38;5;28mself\u001b[39m\u001b[38;5;241m.\u001b[39m_IterableDataset_len_called \u001b[38;5;129;01mis\u001b[39;00m \u001b[38;5;129;01mnot\u001b[39;00m \u001b[38;5;28;01mNone\u001b[39;00m \u001b[38;5;129;01mand\u001b[39;00m \\\n\u001b[1;32m    635\u001b[0m         \u001b[38;5;28mself\u001b[39m\u001b[38;5;241m.\u001b[39m_num_yielded \u001b[38;5;241m>\u001b[39m \u001b[38;5;28mself\u001b[39m\u001b[38;5;241m.\u001b[39m_IterableDataset_len_called:\n",
      "File \u001b[0;32m~/anaconda3/envs/vqvae/lib/python3.8/site-packages/torch/utils/data/dataloader.py:675\u001b[0m, in \u001b[0;36m_SingleProcessDataLoaderIter._next_data\u001b[0;34m(self)\u001b[0m\n\u001b[1;32m    673\u001b[0m \u001b[38;5;28;01mdef\u001b[39;00m \u001b[38;5;21m_next_data\u001b[39m(\u001b[38;5;28mself\u001b[39m):\n\u001b[1;32m    674\u001b[0m     index \u001b[38;5;241m=\u001b[39m \u001b[38;5;28mself\u001b[39m\u001b[38;5;241m.\u001b[39m_next_index()  \u001b[38;5;66;03m# may raise StopIteration\u001b[39;00m\n\u001b[0;32m--> 675\u001b[0m     data \u001b[38;5;241m=\u001b[39m \u001b[38;5;28;43mself\u001b[39;49m\u001b[38;5;241;43m.\u001b[39;49m\u001b[43m_dataset_fetcher\u001b[49m\u001b[38;5;241;43m.\u001b[39;49m\u001b[43mfetch\u001b[49m\u001b[43m(\u001b[49m\u001b[43mindex\u001b[49m\u001b[43m)\u001b[49m  \u001b[38;5;66;03m# may raise StopIteration\u001b[39;00m\n\u001b[1;32m    676\u001b[0m     \u001b[38;5;28;01mif\u001b[39;00m \u001b[38;5;28mself\u001b[39m\u001b[38;5;241m.\u001b[39m_pin_memory:\n\u001b[1;32m    677\u001b[0m         data \u001b[38;5;241m=\u001b[39m _utils\u001b[38;5;241m.\u001b[39mpin_memory\u001b[38;5;241m.\u001b[39mpin_memory(data, \u001b[38;5;28mself\u001b[39m\u001b[38;5;241m.\u001b[39m_pin_memory_device)\n",
      "File \u001b[0;32m~/anaconda3/envs/vqvae/lib/python3.8/site-packages/torch/utils/data/_utils/fetch.py:51\u001b[0m, in \u001b[0;36m_MapDatasetFetcher.fetch\u001b[0;34m(self, possibly_batched_index)\u001b[0m\n\u001b[1;32m     49\u001b[0m         data \u001b[38;5;241m=\u001b[39m \u001b[38;5;28mself\u001b[39m\u001b[38;5;241m.\u001b[39mdataset\u001b[38;5;241m.\u001b[39m__getitems__(possibly_batched_index)\n\u001b[1;32m     50\u001b[0m     \u001b[38;5;28;01melse\u001b[39;00m:\n\u001b[0;32m---> 51\u001b[0m         data \u001b[38;5;241m=\u001b[39m [\u001b[38;5;28mself\u001b[39m\u001b[38;5;241m.\u001b[39mdataset[idx] \u001b[38;5;28;01mfor\u001b[39;00m idx \u001b[38;5;129;01min\u001b[39;00m possibly_batched_index]\n\u001b[1;32m     52\u001b[0m \u001b[38;5;28;01melse\u001b[39;00m:\n\u001b[1;32m     53\u001b[0m     data \u001b[38;5;241m=\u001b[39m \u001b[38;5;28mself\u001b[39m\u001b[38;5;241m.\u001b[39mdataset[possibly_batched_index]\n",
      "File \u001b[0;32m~/anaconda3/envs/vqvae/lib/python3.8/site-packages/torch/utils/data/_utils/fetch.py:51\u001b[0m, in \u001b[0;36m<listcomp>\u001b[0;34m(.0)\u001b[0m\n\u001b[1;32m     49\u001b[0m         data \u001b[38;5;241m=\u001b[39m \u001b[38;5;28mself\u001b[39m\u001b[38;5;241m.\u001b[39mdataset\u001b[38;5;241m.\u001b[39m__getitems__(possibly_batched_index)\n\u001b[1;32m     50\u001b[0m     \u001b[38;5;28;01melse\u001b[39;00m:\n\u001b[0;32m---> 51\u001b[0m         data \u001b[38;5;241m=\u001b[39m [\u001b[38;5;28;43mself\u001b[39;49m\u001b[38;5;241;43m.\u001b[39;49m\u001b[43mdataset\u001b[49m\u001b[43m[\u001b[49m\u001b[43midx\u001b[49m\u001b[43m]\u001b[49m \u001b[38;5;28;01mfor\u001b[39;00m idx \u001b[38;5;129;01min\u001b[39;00m possibly_batched_index]\n\u001b[1;32m     52\u001b[0m \u001b[38;5;28;01melse\u001b[39;00m:\n\u001b[1;32m     53\u001b[0m     data \u001b[38;5;241m=\u001b[39m \u001b[38;5;28mself\u001b[39m\u001b[38;5;241m.\u001b[39mdataset[possibly_batched_index]\n",
      "Cell \u001b[0;32mIn[152], line 13\u001b[0m, in \u001b[0;36mComplexDataset.__getitem__\u001b[0;34m(self, idx)\u001b[0m\n\u001b[1;32m     11\u001b[0m sample \u001b[38;5;241m=\u001b[39m \u001b[38;5;28mself\u001b[39m\u001b[38;5;241m.\u001b[39mdata[idx]\n\u001b[1;32m     12\u001b[0m label \u001b[38;5;241m=\u001b[39m \u001b[38;5;28mself\u001b[39m\u001b[38;5;241m.\u001b[39mlabels[idx]\n\u001b[0;32m---> 13\u001b[0m sample \u001b[38;5;241m=\u001b[39m \u001b[38;5;28;43mself\u001b[39;49m\u001b[38;5;241;43m.\u001b[39;49m\u001b[43mtransform\u001b[49m\u001b[43m(\u001b[49m\u001b[43msample\u001b[49m\u001b[43m)\u001b[49m\n\u001b[1;32m     14\u001b[0m \u001b[38;5;28;01mreturn\u001b[39;00m sample, label\n",
      "Cell \u001b[0;32mIn[151], line 11\u001b[0m, in \u001b[0;36mCustomTransform.__call__\u001b[0;34m(self, sample)\u001b[0m\n\u001b[1;32m      9\u001b[0m fft \u001b[38;5;241m=\u001b[39m phase_shift_fourier(fft)\n\u001b[1;32m     10\u001b[0m fft \u001b[38;5;241m=\u001b[39m mask_frequency_spectrum(fft, \u001b[38;5;241m75\u001b[39m)\n\u001b[0;32m---> 11\u001b[0m fft_rearranged \u001b[38;5;241m=\u001b[39m \u001b[43mrearrange_matrix\u001b[49m\u001b[43m(\u001b[49m\u001b[43mfft\u001b[49m\u001b[43m)\u001b[49m \u001b[38;5;66;03m# rearrange for better patch awarness\u001b[39;00m\n\u001b[1;32m     12\u001b[0m fft_uncentered \u001b[38;5;241m=\u001b[39m torch\u001b[38;5;241m.\u001b[39mfft\u001b[38;5;241m.\u001b[39mfftshift(fft)\n\u001b[1;32m     13\u001b[0m fft \u001b[38;5;241m=\u001b[39m normalize_magn(fft_rearranged)\n",
      "Cell \u001b[0;32mIn[148], line 40\u001b[0m, in \u001b[0;36mrearrange_matrix\u001b[0;34m(original_matrix, patch_size)\u001b[0m\n\u001b[1;32m     35\u001b[0m \u001b[38;5;250m\u001b[39m\u001b[38;5;124;03m\"\"\"\u001b[39;00m\n\u001b[1;32m     36\u001b[0m \u001b[38;5;124;03mInput: The centered fourier Spectrum of a matrix:\u001b[39;00m\n\u001b[1;32m     37\u001b[0m \u001b[38;5;124;03mOutput: rearranged patches\u001b[39;00m\n\u001b[1;32m     38\u001b[0m \u001b[38;5;124;03m\"\"\"\u001b[39;00m\n\u001b[1;32m     39\u001b[0m \u001b[38;5;66;03m# Step 1: Transform the matrix using the spiral method\u001b[39;00m\n\u001b[0;32m---> 40\u001b[0m flattened \u001b[38;5;241m=\u001b[39m \u001b[43mspiral_matrix\u001b[49m\u001b[43m(\u001b[49m\u001b[43moriginal_matrix\u001b[49m\u001b[43m)\u001b[49m\n\u001b[1;32m     42\u001b[0m \u001b[38;5;66;03m# Step 2: Calculate dimensions\u001b[39;00m\n\u001b[1;32m     43\u001b[0m n \u001b[38;5;241m=\u001b[39m \u001b[38;5;28mlen\u001b[39m(original_matrix)\n",
      "\u001b[0;31mKeyboardInterrupt\u001b[0m: "
     ]
    }
   ],
   "source": [
    "\n",
    "\n",
    "model.to(device)\n",
    "epochs = 1000\n",
    "for epoch in range(0, epochs + 1):\n",
    "    train_loss, train_accuracy = train(model, device, train_loader, optimizer, criterion, epoch)\n",
    "    test_loss, test_accuracy = test(model, device, test_loader, criterion, epoch)\n",
    "    print(f\"Epoch {epoch}\")\n",
    "    print(f\"Train Loss: {train_loss:.4f}, Train Accuracy: {train_accuracy:.2f}%\")\n",
    "    print(f\"Test Loss: {test_loss:.4f}, Test Accuracy: {test_accuracy:.2f}%\")\n",
    "    print()\n",
    "\n",
    "\n",
    "writer.close()"
   ]
  },
  {
   "cell_type": "code",
   "execution_count": 164,
   "metadata": {},
   "outputs": [],
   "source": [
    "def save_model(model, optimizer, epoch, loss, accuracy, filename):\n",
    "    torch.save({\n",
    "        'epoch': epoch,\n",
    "        'model_state_dict': model.state_dict(),\n",
    "        'optimizer_state_dict': optimizer.state_dict(),\n",
    "        'loss': loss,\n",
    "        'accuracy': accuracy\n",
    "    }, filename)\n"
   ]
  },
  {
   "cell_type": "code",
   "execution_count": 165,
   "metadata": {},
   "outputs": [],
   "source": [
    "save_model(model, optimizer, epochs, test_loss, test_accuracy, 'final_model_epochxx.pth')"
   ]
  },
  {
   "cell_type": "code",
   "execution_count": 20,
   "metadata": {},
   "outputs": [],
   "source": [
    "def load_model(model, optimizer, filename):\n",
    "    checkpoint = torch.load(filename)\n",
    "    model.load_state_dict(checkpoint['model_state_dict'])\n",
    "    optimizer.load_state_dict(checkpoint['optimizer_state_dict'])\n",
    "    epoch = checkpoint['epoch']\n",
    "    loss = checkpoint['loss']\n",
    "    accuracy = checkpoint['accuracy']\n",
    "    return model, optimizer, epoch, loss, accuracy\n",
    "\n",
    "# Usage\n",
    "model, optimizer, epoch, loss, accuracy = load_model(model, optimizer, 'final_model.pth')"
   ]
  }
 ],
 "metadata": {
  "kernelspec": {
   "display_name": "vqvae",
   "language": "python",
   "name": "python3"
  },
  "language_info": {
   "codemirror_mode": {
    "name": "ipython",
    "version": 3
   },
   "file_extension": ".py",
   "mimetype": "text/x-python",
   "name": "python",
   "nbconvert_exporter": "python",
   "pygments_lexer": "ipython3",
   "version": "3.8.undefined"
  }
 },
 "nbformat": 4,
 "nbformat_minor": 2
}
