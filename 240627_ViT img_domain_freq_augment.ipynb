{
 "cells": [
  {
   "cell_type": "code",
   "execution_count": 5,
   "metadata": {},
   "outputs": [],
   "source": [
    "from vit_pytorch import ViT\n",
    "import torch\n",
    "from torchvision import datasets, transforms\n",
    "from torch.utils.data import Dataset, DataLoader\n",
    "import numpy as np\n",
    "import matplotlib.pyplot as plt\n",
    "import random\n",
    "import torch.nn as nn\n",
    "import torch.optim as optim\n",
    "import torch.nn.functional as F\n",
    "from tqdm import tqdm\n",
    "from torch.utils.tensorboard import SummaryWriter\n",
    "from frequency_augmentations import rearrange_matrix, concentric_square_bandwidth_filter"
   ]
  },
  {
   "cell_type": "code",
   "execution_count": 6,
   "metadata": {},
   "outputs": [],
   "source": [
    "class TwoChannelsToComplex(nn.Module):\n",
    "    def __init__(self):\n",
    "        super(TwoChannelsToComplex, self).__init__()\n",
    "\n",
    "    def forward(self, x):\n",
    "        real, imag = torch.chunk(x, 2, dim=1)\n",
    "        complex_tensor = torch.complex(real.squeeze(1), imag.squeeze(1))\n",
    "        return complex_tensor\n",
    "class ComplexToTwoChannels(nn.Module):\n",
    "    def __init__(self):\n",
    "        super(ComplexToTwoChannels, self).__init__()\n",
    "\n",
    "    def forward(self, x):\n",
    "        real = x.real.unsqueeze(1)\n",
    "        imag = x.imag.unsqueeze(1)\n",
    "        two_channel_tensor = torch.cat((real, imag), dim=1)\n",
    "        return two_channel_tensor\n",
    "\n",
    "class InverseFourierTransform2D(nn.Module):\n",
    "    def __init__(self, norm='ortho'):\n",
    "        super(InverseFourierTransform2D, self).__init__()\n",
    "        self.norm = norm\n",
    "\n",
    "    def forward(self, x):\n",
    "        return torch.fft.ifft2(x, norm=self.norm)"
   ]
  },
  {
   "cell_type": "code",
   "execution_count": 7,
   "metadata": {},
   "outputs": [],
   "source": [
    "\n",
    "transform = transforms.Compose([transforms.ToTensor()])\n",
    "train_data = datasets.FashionMNIST(root='data', train=True, download=True, transform=transform)\n",
    "test_data = datasets.FashionMNIST(root='data', train=False, download=True, transform=transform)"
   ]
  },
  {
   "cell_type": "code",
   "execution_count": 8,
   "metadata": {},
   "outputs": [],
   "source": [
    "def fft_transform(data):\n",
    "    processed_data = []\n",
    "    for img, _ in data:\n",
    "        img_np = img.numpy().squeeze()\n",
    "        fft = np.fft.fft2(img_np)\n",
    "        processed_data.append((img_np, fft))\n",
    "    return processed_data\n",
    "\n",
    "train_fft = fft_transform(train_data)\n",
    "test_fft = fft_transform(test_data)\n",
    "\n",
    "def normalize_fft(fft_data):\n",
    "    normalized_data = []\n",
    "    for img_np, fft in fft_data:\n",
    "        # Calculate magnitude and phase\n",
    "        magnitude = np.abs(fft)\n",
    "        phase = np.angle(fft)\n",
    "        \n",
    "        # Normalize magnitude to [0, 1] range\n",
    "        magnitude_min = np.min(magnitude)\n",
    "        magnitude_max = np.max(magnitude)\n",
    "        normalized_magnitude = (magnitude - magnitude_min) / (magnitude_max - magnitude_min)\n",
    "        \n",
    "        # Rebuild complex number using normalized magnitude and original phase\n",
    "        normalized_fft = normalized_magnitude * np.exp(1j * phase)\n",
    "        \n",
    "        normalized_data.append((img_np, normalized_fft))\n",
    "    \n",
    "    return normalized_data\n",
    "\n",
    "# train_fft = normalize_fft(train_fft)\n",
    "# test_fft = normalize_fft(test_fft)"
   ]
  },
  {
   "cell_type": "code",
   "execution_count": 9,
   "metadata": {},
   "outputs": [
    {
     "name": "stderr",
     "output_type": "stream",
     "text": [
      "/tmp/ipykernel_5150/3824567529.py:62: RuntimeWarning: divide by zero encountered in log\n",
      "  plt.imshow(np.log(np.abs(result)), cmap=\"gray\")\n"
     ]
    },
    {
     "data": {
      "text/plain": [
       "<matplotlib.image.AxesImage at 0x78ea9229d540>"
      ]
     },
     "execution_count": 9,
     "metadata": {},
     "output_type": "execute_result"
    },
    {
     "data": {
      "image/png": "[encoded data removed]",
      "text/plain": [
       "<Figure size 640x480 with 2 Axes>"
      ]
     },
     "metadata": {},
     "output_type": "display_data"
    }
   ],
   "source": [
    "import math\n",
    "def mask_frequency_spectrum_patches(spectrum, patch_size, max_mask_percentage=75):\n",
    "    \"\"\"\n",
    "    This function masks out full patches of the frequency spectrum.\n",
    "    \n",
    "    Input:\n",
    "    - spectrum: The frequency spectrum (centered or uncentered) as a 2D tensor\n",
    "    - patch_size: The size of each square patch\n",
    "    - max_mask_percentage: Maximum percentage of patches to mask (default: 75)\n",
    "    \n",
    "    Output:\n",
    "    - The masked frequency spectrum\n",
    "    \"\"\"\n",
    "    # Ensure the max_mask_percentage is between 0 and 100\n",
    "    max_mask_percentage = torch.clamp(torch.tensor(max_mask_percentage), 0, 100)\n",
    "    \n",
    "    # Calculate the number of patches\n",
    "    h, w = spectrum.shape\n",
    "    num_patches_h = math.ceil(h / patch_size)\n",
    "    num_patches_w = math.ceil(w / patch_size)\n",
    "    total_patches = num_patches_h * num_patches_w\n",
    "    \n",
    "    # Generate a random mask percentage\n",
    "    mask_percentage = torch.rand(1) * max_mask_percentage\n",
    "    \n",
    "    # Calculate the number of patches to mask\n",
    "    num_masked_patches = math.ceil(total_patches * mask_percentage.item() / 100)\n",
    "    \n",
    "    # Create a mask for patches\n",
    "    patch_mask = torch.ones(num_patches_h, num_patches_w, dtype=torch.bool)\n",
    "    flat_patch_mask = patch_mask.view(-1)\n",
    "    \n",
    "    # Randomly select patches to mask\n",
    "    mask_indices = torch.randperm(total_patches)[:num_masked_patches]\n",
    "    flat_patch_mask[mask_indices] = False\n",
    "    patch_mask = flat_patch_mask.view(num_patches_h, num_patches_w)\n",
    "    \n",
    "    # Create the full mask\n",
    "    mask = torch.ones_like(spectrum, dtype=torch.bool)\n",
    "    for i in range(num_patches_h):\n",
    "        for j in range(num_patches_w):\n",
    "            if not patch_mask[i, j]:\n",
    "                top = i * patch_size\n",
    "                left = j * patch_size\n",
    "                bottom = min((i + 1) * patch_size, h)\n",
    "                right = min((j + 1) * patch_size, w)\n",
    "                mask[top:bottom, left:right] = False\n",
    "    \n",
    "    # Apply the mask\n",
    "    masked_spectrum = spectrum.clone()\n",
    "    masked_spectrum[~mask] = 0\n",
    "    \n",
    "    return masked_spectrum\n",
    "\n",
    "\n",
    "\n",
    "# Example usage\n",
    "data = torch.tensor(train_fft[0][1])\n",
    "result = mask_frequency_spectrum_patches(torch.fft.fftshift(data), patch_size=7)\n",
    "\n",
    "plt.subplot(1,2,1)\n",
    "plt.imshow(np.log(np.abs(result)), cmap=\"gray\")\n",
    "plt.subplot(1,2,2)\n",
    "plt.imshow(np.log(np.abs(np.fft.fftshift(data))), cmap=\"gray\")"
   ]
  },
  {
   "cell_type": "code",
   "execution_count": 10,
   "metadata": {},
   "outputs": [
    {
     "name": "stderr",
     "output_type": "stream",
     "text": [
      "/tmp/ipykernel_5150/390381072.py:3: RuntimeWarning: divide by zero encountered in log\n",
      "  plt.imshow(np.log(np.abs(filtered)), cmap=\"gray\")\n"
     ]
    },
    {
     "data": {
      "text/plain": [
       "<matplotlib.image.AxesImage at 0x78ea921edf30>"
      ]
     },
     "execution_count": 10,
     "metadata": {},
     "output_type": "execute_result"
    },
    {
     "data": {
      "image/png": "[encoded data removed]",
      "text/plain": [
       "<Figure size 640x480 with 2 Axes>"
      ]
     },
     "metadata": {},
     "output_type": "display_data"
    }
   ],
   "source": [
    "filtered = concentric_square_bandwidth_filter(torch.fft.fftshift(data), min_size=0, max_size=None, band_width=None)\n",
    "plt.subplot(1,2,1)\n",
    "plt.imshow(np.log(np.abs(filtered)), cmap=\"gray\")\n",
    "plt.subplot(1,2,2)\n",
    "plt.imshow(np.abs(np.fft.ifft2(np.fft.fftshift(filtered))), cmap=\"gray\")"
   ]
  },
  {
   "cell_type": "code",
   "execution_count": 11,
   "metadata": {},
   "outputs": [
    {
     "name": "stdout",
     "output_type": "stream",
     "text": [
      "1.0 0.0 (299.0078472062014+0j) (-105.1554452474781-85.19899857776973j)\n"
     ]
    },
    {
     "data": {
      "image/png": "[encoded data removed]",
      "text/plain": [
       "<Figure size 640x480 with 1 Axes>"
      ]
     },
     "metadata": {},
     "output_type": "display_data"
    }
   ],
   "source": [
    "plt.imshow(np.abs(train_fft[0])[1])\n",
    "print(train_fft[0][0].max(), train_fft[0][0].min(), train_fft[0][1].max(), train_fft[0][1].min())"
   ]
  },
  {
   "cell_type": "code",
   "execution_count": 12,
   "metadata": {},
   "outputs": [],
   "source": [
    "def phase_shift_fourier(fourier_image, x=2.0, y=2.0):\n",
    "    \"\"\"\n",
    "    Perform a random phase shift on a Fourier-image, constrained by maximum values.\n",
    "    \n",
    "    Parameters:\n",
    "    fourier_image (torch.tensor): Complex-valued centered Fourier representation of an image\n",
    "    x (float): Maximum amount to shift in x direction (0-2 range recommended due to 2pi periodicity)\n",
    "    y (float): Maximum amount to shift in y direction (0-2 range recommended due to 2pi periodicity)\n",
    "    \n",
    "    Returns:\n",
    "    torch.tensor: The phase-shifted Fourier-image\n",
    "    \"\"\"\n",
    "    fourier_image = torch.fft.fftshift(fourier_image)\n",
    "    rows, cols = fourier_image.shape\n",
    "    \n",
    "    # Generate random shift amounts within the specified ranges\n",
    "    random_x = torch.rand(1).item() * x\n",
    "    random_y = torch.rand(1).item() * y\n",
    "    shift_x = random_y * torch.pi * rows\n",
    "    shift_y = random_x * torch.pi * cols\n",
    "    \n",
    "    freq_x = torch.fft.fftfreq(cols)\n",
    "    freq_y = torch.fft.fftfreq(rows)\n",
    "    fx, fy = torch.meshgrid(freq_x, freq_y, indexing='ij')\n",
    "    \n",
    "    # Calculate and apply phase shift\n",
    "    phase_shift = torch.exp(-1j * (shift_x * fx + shift_y * fy))\n",
    "    shifted_fourier_image = torch.fft.fftshift(fourier_image * phase_shift)\n",
    "    \n",
    "    return shifted_fourier_image\n",
    "\n",
    "\n",
    "def mask_frequency_spectrum(spectrum, max_mask_percentage):\n",
    "    # Ensure the max_mask_percentage is between 0 and 100\n",
    "    max_mask_percentage = torch.clamp(torch.tensor(max_mask_percentage), 0, 100)\n",
    "    \n",
    "    # Generate a random mask percentage\n",
    "    mask_percentage = torch.rand(1) * max_mask_percentage\n",
    "    \n",
    "    # Calculate the number of elements to mask\n",
    "    num_elements = spectrum.numel()\n",
    "    num_masked = int(num_elements * mask_percentage.item() / 100)\n",
    "    \n",
    "    # Create a flat copy of the spectrum\n",
    "    flat_spectrum = spectrum.view(-1)\n",
    "    \n",
    "    # Randomly select indices to mask\n",
    "    mask_indices = torch.randperm(num_elements)[:num_masked]\n",
    "    \n",
    "    # Create a mask tensor\n",
    "    mask = torch.ones_like(flat_spectrum, dtype=torch.bool)\n",
    "    mask[mask_indices] = False\n",
    "    \n",
    "    # Apply the mask\n",
    "    masked_spectrum = flat_spectrum.clone()\n",
    "    masked_spectrum[~mask] = 0\n",
    "    \n",
    "    # Reshape the spectrum back to its original shape\n",
    "    masked_spectrum = masked_spectrum.view(spectrum.shape)\n",
    "    \n",
    "    return masked_spectrum\n",
    "\n",
    "\n",
    "def normalize_magn(fft):\n",
    "        magnitude = torch.abs(fft)\n",
    "        phase = torch.angle(fft)\n",
    "        \n",
    "        # Normalize magnitude to [0, 1] range\n",
    "        magnitude_min = torch.min(magnitude)\n",
    "        magnitude_max = torch.max(magnitude)\n",
    "        normalized_magnitude = (magnitude - magnitude_min) / (magnitude_max - magnitude_min)\n",
    "        \n",
    "        # Rebuild complex number using normalized magnitude and original phase\n",
    "        normalized_fft = normalized_magnitude * torch.exp(1j * phase)\n",
    "        \n",
    "        return normalized_fft"
   ]
  },
  {
   "cell_type": "code",
   "execution_count": 13,
   "metadata": {},
   "outputs": [],
   "source": [
    "class CustomTransform:\n",
    "    def __init__(self, is_training=True):\n",
    "        self.is_training = is_training\n",
    "        \n",
    "    def __call__(self, sample):\n",
    "        img, fft = torch.tensor(np.array(sample))\n",
    "        fft = torch.fft.fftshift(fft)\n",
    "        if self.is_training: \n",
    "            fft = phase_shift_fourier(fft)\n",
    "\n",
    "            # Choose a masking\n",
    "            augmentation_method = random.choice([1, 2, 3])\n",
    "    \n",
    "            if augmentation_method == 1:\n",
    "                fft = mask_frequency_spectrum(fft, 75)\n",
    "            elif augmentation_method == 2:\n",
    "                fft = concentric_square_bandwidth_filter(fft, min_size=0, max_size=None, band_width=None)\n",
    "            else:\n",
    "                fft = mask_frequency_spectrum_patches(fft, patch_size=7, max_mask_percentage=75)\n",
    "                    \n",
    "            #fft_rearranged = rearrange_matrix(fft) \n",
    "            #fft = normalize_magn(fft_rearranged)\n",
    "            fft_uncentered = torch.fft.fftshift(fft)\n",
    "            img = torch.fft.ifft2(fft_uncentered)\n",
    "        #fft = normalize_magn(fft)\n",
    "        # Split the complex image into real and imaginary parts\n",
    "        img_real = torch.real(img)\n",
    "        img_imag = torch.imag(img)\n",
    "        \n",
    "        # Stack the real and imaginary parts of the image\n",
    "        img_stacked = torch.stack([img_real, img_imag])\n",
    "        # Split the complex FFT into real and imaginary parts\n",
    "        fft_real = torch.real(fft)\n",
    "        fft_imag = torch.imag(fft)\n",
    "        fft_stacked = torch.stack([fft_real, fft_imag])\n",
    "        \n",
    "        # Stack the image and FFT side by side\n",
    "        combined = torch.concatenate([img_stacked, fft_stacked], axis=2)\n",
    "        \n",
    "        return combined.float()\n"
   ]
  },
  {
   "cell_type": "code",
   "execution_count": 14,
   "metadata": {},
   "outputs": [],
   "source": [
    "class ComplexDataset(Dataset):\n",
    "    def __init__(self, data, labels, is_training=True):\n",
    "        self.data = data\n",
    "        self.labels = labels\n",
    "        self.transform = CustomTransform(is_training)\n",
    "        \n",
    "    def __len__(self):\n",
    "        return len(self.data)\n",
    "\n",
    "    def __getitem__(self, idx):\n",
    "        sample = self.data[idx]\n",
    "        label = self.labels[idx]\n",
    "        sample = self.transform(sample)\n",
    "        return sample, label"
   ]
  },
  {
   "cell_type": "code",
   "execution_count": 15,
   "metadata": {},
   "outputs": [
    {
     "name": "stdout",
     "output_type": "stream",
     "text": [
      "938\n"
     ]
    }
   ],
   "source": [
    "# Create the custom dataset\n",
    "train_labels = [label for _, label in train_data]\n",
    "train_dataset = ComplexDataset(train_fft, train_labels, is_training=True)\n",
    "\n",
    "test_labels = [label for _, label in test_data]\n",
    "test_dataset = ComplexDataset(test_fft, test_labels, is_training=False)\n",
    "\n",
    "# Create data loaders\n",
    "train_loader = DataLoader(train_dataset, batch_size=64, shuffle=True)\n",
    "test_loader = DataLoader(test_dataset, batch_size=64, shuffle=False)\n",
    "\n",
    "print(len(train_loader))"
   ]
  },
  {
   "cell_type": "code",
   "execution_count": 16,
   "metadata": {},
   "outputs": [],
   "source": [
    "item = next(iter(train_loader))\n",
    "item_test = next(iter(test_loader))"
   ]
  },
  {
   "cell_type": "code",
   "execution_count": 17,
   "metadata": {},
   "outputs": [
    {
     "name": "stdout",
     "output_type": "stream",
     "text": [
      "torch.Size([64, 2, 28, 56])\n"
     ]
    },
    {
     "data": {
      "text/plain": [
       "<matplotlib.image.AxesImage at 0x78ea900ebe50>"
      ]
     },
     "execution_count": 17,
     "metadata": {},
     "output_type": "execute_result"
    },
    {
     "data": {
      "image/png": "[encoded data removed]",
      "text/plain": [
       "<Figure size 640x480 with 2 Axes>"
      ]
     },
     "metadata": {},
     "output_type": "display_data"
    }
   ],
   "source": [
    "print(item[0].shape)\n",
    "plt.subplot(1,2,1)\n",
    "plt.imshow(item[0][0,0,:,:], cmap=\"gray\")\n",
    "plt.subplot(1,2,2)\n",
    "plt.imshow(item_test[0][0,0,:,:], cmap=\"gray\")"
   ]
  },
  {
   "cell_type": "code",
   "execution_count": 46,
   "metadata": {},
   "outputs": [
    {
     "name": "stdout",
     "output_type": "stream",
     "text": [
      "torch.float32\n"
     ]
    }
   ],
   "source": [
    "print(item[0][0][0][0].dtype)"
   ]
  },
  {
   "cell_type": "code",
   "execution_count": 59,
   "metadata": {},
   "outputs": [
    {
     "data": {
      "image/png": "[encoded data removed]",
      "text/plain": [
       "<Figure size 1200x500 with 3 Axes>"
      ]
     },
     "metadata": {},
     "output_type": "display_data"
    }
   ],
   "source": [
    "\n",
    "# Create a figure with two subplots\n",
    "fig, (ax1, ax2) = plt.subplots(1, 2, figsize=(12, 5))\n",
    "\n",
    "# Plot the image\n",
    "im = ax1.imshow(item[0][0,1,:,:], cmap=\"gray\")\n",
    "ax1.set_title(\"Image\")\n",
    "fig.colorbar(im, ax=ax1)\n",
    "\n",
    "# Plot the histogram\n",
    "ax2.hist(item[0][0,1,:,:].ravel(), bins=50, range=(0, 1))\n",
    "ax2.set_title(\"Histogram\")\n",
    "ax2.set_xlabel(\"Pixel Value\")\n",
    "ax2.set_ylabel(\"Frequency\")\n",
    "\n",
    "plt.tight_layout()\n",
    "plt.show()"
   ]
  },
  {
   "cell_type": "code",
   "execution_count": 61,
   "metadata": {},
   "outputs": [],
   "source": [
    "model = ViT(\n",
    "    image_size = 56,\n",
    "    patch_size = 7,\n",
    "    num_classes = 10,\n",
    "    dim = 64,\n",
    "    depth = 6,\n",
    "    heads = 12,\n",
    "    mlp_dim = 128,\n",
    "    dropout = 0.1,\n",
    "    emb_dropout = 0.1,\n",
    "    channels = 2\n",
    ")\n",
    "img = torch.randn(1, 2, 28, 56)\n",
    "\n",
    "preds = model(img) # (1, 1000)"
   ]
  },
  {
   "cell_type": "code",
   "execution_count": 63,
   "metadata": {},
   "outputs": [
    {
     "name": "stdout",
     "output_type": "stream",
     "text": [
      "Total trainable parameters: 1292686\n"
     ]
    }
   ],
   "source": [
    "total_params = sum(p.numel() for p in model.parameters() if p.requires_grad)\n",
    "print(f\"Total trainable parameters: {total_params}\")"
   ]
  },
  {
   "cell_type": "code",
   "execution_count": 64,
   "metadata": {},
   "outputs": [],
   "source": [
    "criterion = nn.CrossEntropyLoss()\n",
    "optimizer = optim.Adam(model.parameters(), lr=1e-4)"
   ]
  },
  {
   "cell_type": "code",
   "execution_count": 65,
   "metadata": {},
   "outputs": [],
   "source": [
    "writer = SummaryWriter('runs/experiment_1') \n",
    "\n",
    "def train(model, device, train_loader, optimizer, criterion, epoch):\n",
    "    model.train()\n",
    "    train_loss = 0\n",
    "    correct = 0\n",
    "    total = 0\n",
    "    progress_bar = tqdm(train_loader, desc=f\"Epoch {epoch}\", unit=\"batch\")\n",
    "    for batch_idx, (data, target) in enumerate(progress_bar):\n",
    "        data, target = data.to(device), target.to(device)\n",
    "        optimizer.zero_grad()\n",
    "        output = model(data)\n",
    "        loss = criterion(output, target)\n",
    "        loss.backward()\n",
    "        optimizer.step()\n",
    "        train_loss += loss.item()\n",
    "        _, predicted = output.max(1)\n",
    "        total += target.size(0)\n",
    "        correct += predicted.eq(target).sum().item()\n",
    "        progress_bar.set_postfix({\"Train Loss\": train_loss / (batch_idx + 1), \"Train Acc\": 100. * correct / total})\n",
    "        \n",
    "        # Log batch-level metrics\n",
    "        writer.add_scalar('Loss/Train Batch', loss.item(), epoch * len(train_loader) + batch_idx)\n",
    "        writer.add_scalar('Accuracy/Train Batch', 100. * correct / total, epoch * len(train_loader) + batch_idx)\n",
    "    \n",
    "    train_loss /= len(train_loader)\n",
    "    train_accuracy = 100. * correct / total\n",
    "    \n",
    "    # Log epoch-level metrics\n",
    "    writer.add_scalar('Loss/Train Epoch', train_loss, epoch)\n",
    "    writer.add_scalar('Accuracy/Train Epoch', train_accuracy, epoch)\n",
    "    \n",
    "    return train_loss, train_accuracy\n",
    "\n",
    "def test(model, device, test_loader, criterion, epoch):\n",
    "    model.eval()\n",
    "    test_loss = 0\n",
    "    correct = 0\n",
    "    total = 0\n",
    "    with torch.no_grad():\n",
    "        for data, target in test_loader:\n",
    "            data, target = data.to(device), target.to(device)\n",
    "            output = model(data)\n",
    "            test_loss += criterion(output, target).item()\n",
    "            _, predicted = output.max(1)\n",
    "            total += target.size(0)\n",
    "            correct += predicted.eq(target).sum().item()\n",
    "    \n",
    "    test_loss /= len(test_loader)\n",
    "    test_accuracy = 100. * correct / total\n",
    "    \n",
    "    # Log epoch-level metrics\n",
    "    writer.add_scalar('Loss/Test', test_loss, epoch)\n",
    "    writer.add_scalar('Accuracy/Test', test_accuracy, epoch)\n",
    "    \n",
    "    return test_loss, test_accuracy\n"
   ]
  },
  {
   "cell_type": "code",
   "execution_count": 66,
   "metadata": {},
   "outputs": [
    {
     "name": "stdout",
     "output_type": "stream",
     "text": [
      "cuda\n"
     ]
    }
   ],
   "source": [
    "device = torch.device(\"cuda\" if torch.cuda.is_available() else \"cpu\")\n",
    "model = model.to(device)\n",
    "print(device)"
   ]
  },
  {
   "cell_type": "code",
   "execution_count": 68,
   "metadata": {},
   "outputs": [
    {
     "name": "stderr",
     "output_type": "stream",
     "text": [
      "Epoch 0: 100%|██████████| 938/938 [00:21<00:00, 43.32batch/s, Train Loss=0.44, Train Acc=83.3] \n"
     ]
    },
    {
     "name": "stdout",
     "output_type": "stream",
     "text": [
      "Epoch 0\n",
      "Train Loss: 0.4403, Train Accuracy: 83.30%\n",
      "Test Loss: 0.2963, Test Accuracy: 89.45%\n",
      "\n"
     ]
    },
    {
     "name": "stderr",
     "output_type": "stream",
     "text": [
      "Epoch 1: 100%|██████████| 938/938 [00:21<00:00, 43.71batch/s, Train Loss=0.435, Train Acc=83.7]\n"
     ]
    },
    {
     "name": "stdout",
     "output_type": "stream",
     "text": [
      "Epoch 1\n",
      "Train Loss: 0.4346, Train Accuracy: 83.66%\n",
      "Test Loss: 0.2903, Test Accuracy: 89.58%\n",
      "\n"
     ]
    },
    {
     "name": "stderr",
     "output_type": "stream",
     "text": [
      "Epoch 2: 100%|██████████| 938/938 [00:21<00:00, 43.46batch/s, Train Loss=0.438, Train Acc=83.5]\n"
     ]
    },
    {
     "name": "stdout",
     "output_type": "stream",
     "text": [
      "Epoch 2\n",
      "Train Loss: 0.4377, Train Accuracy: 83.52%\n",
      "Test Loss: 0.2925, Test Accuracy: 89.30%\n",
      "\n"
     ]
    },
    {
     "name": "stderr",
     "output_type": "stream",
     "text": [
      "Epoch 3: 100%|██████████| 938/938 [00:22<00:00, 42.52batch/s, Train Loss=0.438, Train Acc=83.5]\n"
     ]
    },
    {
     "name": "stdout",
     "output_type": "stream",
     "text": [
      "Epoch 3\n",
      "Train Loss: 0.4376, Train Accuracy: 83.47%\n",
      "Test Loss: 0.2904, Test Accuracy: 89.56%\n",
      "\n"
     ]
    },
    {
     "name": "stderr",
     "output_type": "stream",
     "text": [
      "Epoch 4: 100%|██████████| 938/938 [00:21<00:00, 43.14batch/s, Train Loss=0.439, Train Acc=83.3]\n"
     ]
    },
    {
     "name": "stdout",
     "output_type": "stream",
     "text": [
      "Epoch 4\n",
      "Train Loss: 0.4388, Train Accuracy: 83.31%\n",
      "Test Loss: 0.2963, Test Accuracy: 89.50%\n",
      "\n"
     ]
    },
    {
     "name": "stderr",
     "output_type": "stream",
     "text": [
      "Epoch 5: 100%|██████████| 938/938 [00:21<00:00, 43.11batch/s, Train Loss=0.437, Train Acc=83.6]\n"
     ]
    },
    {
     "name": "stdout",
     "output_type": "stream",
     "text": [
      "Epoch 5\n",
      "Train Loss: 0.4366, Train Accuracy: 83.59%\n",
      "Test Loss: 0.2918, Test Accuracy: 89.48%\n",
      "\n"
     ]
    },
    {
     "name": "stderr",
     "output_type": "stream",
     "text": [
      "Epoch 6: 100%|██████████| 938/938 [00:21<00:00, 43.27batch/s, Train Loss=0.439, Train Acc=83.4]\n"
     ]
    },
    {
     "name": "stdout",
     "output_type": "stream",
     "text": [
      "Epoch 6\n",
      "Train Loss: 0.4389, Train Accuracy: 83.39%\n",
      "Test Loss: 0.2952, Test Accuracy: 89.41%\n",
      "\n"
     ]
    },
    {
     "name": "stderr",
     "output_type": "stream",
     "text": [
      "Epoch 7: 100%|██████████| 938/938 [00:21<00:00, 43.61batch/s, Train Loss=0.434, Train Acc=83.6]\n"
     ]
    },
    {
     "name": "stdout",
     "output_type": "stream",
     "text": [
      "Epoch 7\n",
      "Train Loss: 0.4340, Train Accuracy: 83.59%\n",
      "Test Loss: 0.2953, Test Accuracy: 89.39%\n",
      "\n"
     ]
    },
    {
     "name": "stderr",
     "output_type": "stream",
     "text": [
      "Epoch 8: 100%|██████████| 938/938 [00:21<00:00, 43.46batch/s, Train Loss=0.441, Train Acc=83.5]\n"
     ]
    },
    {
     "name": "stdout",
     "output_type": "stream",
     "text": [
      "Epoch 8\n",
      "Train Loss: 0.4414, Train Accuracy: 83.46%\n",
      "Test Loss: 0.2947, Test Accuracy: 89.25%\n",
      "\n"
     ]
    },
    {
     "name": "stderr",
     "output_type": "stream",
     "text": [
      "Epoch 9: 100%|██████████| 938/938 [00:21<00:00, 43.41batch/s, Train Loss=0.435, Train Acc=83.6]\n"
     ]
    },
    {
     "name": "stdout",
     "output_type": "stream",
     "text": [
      "Epoch 9\n",
      "Train Loss: 0.4353, Train Accuracy: 83.60%\n",
      "Test Loss: 0.2910, Test Accuracy: 89.42%\n",
      "\n"
     ]
    },
    {
     "name": "stderr",
     "output_type": "stream",
     "text": [
      "Epoch 10: 100%|██████████| 938/938 [00:21<00:00, 43.16batch/s, Train Loss=0.432, Train Acc=83.8]\n"
     ]
    },
    {
     "name": "stdout",
     "output_type": "stream",
     "text": [
      "Epoch 10\n",
      "Train Loss: 0.4318, Train Accuracy: 83.80%\n",
      "Test Loss: 0.2909, Test Accuracy: 89.39%\n",
      "\n"
     ]
    },
    {
     "name": "stderr",
     "output_type": "stream",
     "text": [
      "Epoch 11: 100%|██████████| 938/938 [00:21<00:00, 43.64batch/s, Train Loss=0.438, Train Acc=83.3]\n"
     ]
    },
    {
     "name": "stdout",
     "output_type": "stream",
     "text": [
      "Epoch 11\n",
      "Train Loss: 0.4384, Train Accuracy: 83.30%\n",
      "Test Loss: 0.2963, Test Accuracy: 89.12%\n",
      "\n"
     ]
    },
    {
     "name": "stderr",
     "output_type": "stream",
     "text": [
      "Epoch 12: 100%|██████████| 938/938 [00:21<00:00, 43.49batch/s, Train Loss=0.436, Train Acc=83.5]\n"
     ]
    },
    {
     "name": "stdout",
     "output_type": "stream",
     "text": [
      "Epoch 12\n",
      "Train Loss: 0.4360, Train Accuracy: 83.49%\n",
      "Test Loss: 0.2873, Test Accuracy: 89.45%\n",
      "\n"
     ]
    },
    {
     "name": "stderr",
     "output_type": "stream",
     "text": [
      "Epoch 13: 100%|██████████| 938/938 [00:21<00:00, 43.27batch/s, Train Loss=0.432, Train Acc=83.8]\n"
     ]
    },
    {
     "name": "stdout",
     "output_type": "stream",
     "text": [
      "Epoch 13\n",
      "Train Loss: 0.4316, Train Accuracy: 83.78%\n",
      "Test Loss: 0.2912, Test Accuracy: 89.38%\n",
      "\n"
     ]
    },
    {
     "name": "stderr",
     "output_type": "stream",
     "text": [
      "Epoch 14: 100%|██████████| 938/938 [00:21<00:00, 43.35batch/s, Train Loss=0.434, Train Acc=83.5]\n"
     ]
    },
    {
     "name": "stdout",
     "output_type": "stream",
     "text": [
      "Epoch 14\n",
      "Train Loss: 0.4342, Train Accuracy: 83.48%\n",
      "Test Loss: 0.2850, Test Accuracy: 89.59%\n",
      "\n"
     ]
    },
    {
     "name": "stderr",
     "output_type": "stream",
     "text": [
      "Epoch 15: 100%|██████████| 938/938 [00:21<00:00, 43.31batch/s, Train Loss=0.432, Train Acc=83.9]\n"
     ]
    },
    {
     "name": "stdout",
     "output_type": "stream",
     "text": [
      "Epoch 15\n",
      "Train Loss: 0.4320, Train Accuracy: 83.86%\n",
      "Test Loss: 0.2914, Test Accuracy: 89.44%\n",
      "\n"
     ]
    },
    {
     "name": "stderr",
     "output_type": "stream",
     "text": [
      "Epoch 16: 100%|██████████| 938/938 [00:21<00:00, 42.87batch/s, Train Loss=0.436, Train Acc=83.6]\n"
     ]
    },
    {
     "name": "stdout",
     "output_type": "stream",
     "text": [
      "Epoch 16\n",
      "Train Loss: 0.4365, Train Accuracy: 83.59%\n",
      "Test Loss: 0.2882, Test Accuracy: 89.39%\n",
      "\n"
     ]
    },
    {
     "name": "stderr",
     "output_type": "stream",
     "text": [
      "Epoch 17: 100%|██████████| 938/938 [00:21<00:00, 43.72batch/s, Train Loss=0.433, Train Acc=83.6]\n"
     ]
    },
    {
     "name": "stdout",
     "output_type": "stream",
     "text": [
      "Epoch 17\n",
      "Train Loss: 0.4328, Train Accuracy: 83.64%\n",
      "Test Loss: 0.2900, Test Accuracy: 89.46%\n",
      "\n"
     ]
    },
    {
     "name": "stderr",
     "output_type": "stream",
     "text": [
      "Epoch 18: 100%|██████████| 938/938 [00:21<00:00, 43.16batch/s, Train Loss=0.436, Train Acc=83.4]\n"
     ]
    },
    {
     "name": "stdout",
     "output_type": "stream",
     "text": [
      "Epoch 18\n",
      "Train Loss: 0.4359, Train Accuracy: 83.37%\n",
      "Test Loss: 0.2883, Test Accuracy: 89.42%\n",
      "\n"
     ]
    },
    {
     "name": "stderr",
     "output_type": "stream",
     "text": [
      "Epoch 19: 100%|██████████| 938/938 [00:21<00:00, 43.74batch/s, Train Loss=0.436, Train Acc=83.4]\n"
     ]
    },
    {
     "name": "stdout",
     "output_type": "stream",
     "text": [
      "Epoch 19\n",
      "Train Loss: 0.4361, Train Accuracy: 83.41%\n",
      "Test Loss: 0.2922, Test Accuracy: 89.56%\n",
      "\n"
     ]
    },
    {
     "name": "stderr",
     "output_type": "stream",
     "text": [
      "Epoch 20: 100%|██████████| 938/938 [00:21<00:00, 43.77batch/s, Train Loss=0.434, Train Acc=83.6]\n"
     ]
    },
    {
     "name": "stdout",
     "output_type": "stream",
     "text": [
      "Epoch 20\n",
      "Train Loss: 0.4338, Train Accuracy: 83.58%\n",
      "Test Loss: 0.2903, Test Accuracy: 89.52%\n",
      "\n"
     ]
    },
    {
     "name": "stderr",
     "output_type": "stream",
     "text": [
      "Epoch 21: 100%|██████████| 938/938 [00:21<00:00, 43.14batch/s, Train Loss=0.433, Train Acc=83.6]\n"
     ]
    },
    {
     "name": "stdout",
     "output_type": "stream",
     "text": [
      "Epoch 21\n",
      "Train Loss: 0.4334, Train Accuracy: 83.62%\n",
      "Test Loss: 0.2913, Test Accuracy: 89.35%\n",
      "\n"
     ]
    },
    {
     "name": "stderr",
     "output_type": "stream",
     "text": [
      "Epoch 22: 100%|██████████| 938/938 [00:21<00:00, 43.59batch/s, Train Loss=0.433, Train Acc=83.7]\n"
     ]
    },
    {
     "name": "stdout",
     "output_type": "stream",
     "text": [
      "Epoch 22\n",
      "Train Loss: 0.4325, Train Accuracy: 83.67%\n",
      "Test Loss: 0.2975, Test Accuracy: 89.02%\n",
      "\n"
     ]
    },
    {
     "name": "stderr",
     "output_type": "stream",
     "text": [
      "Epoch 23: 100%|██████████| 938/938 [00:21<00:00, 43.85batch/s, Train Loss=0.431, Train Acc=83.7]\n"
     ]
    },
    {
     "name": "stdout",
     "output_type": "stream",
     "text": [
      "Epoch 23\n",
      "Train Loss: 0.4307, Train Accuracy: 83.70%\n",
      "Test Loss: 0.2909, Test Accuracy: 89.34%\n",
      "\n"
     ]
    },
    {
     "name": "stderr",
     "output_type": "stream",
     "text": [
      "Epoch 24: 100%|██████████| 938/938 [00:21<00:00, 43.36batch/s, Train Loss=0.434, Train Acc=83.6]\n"
     ]
    },
    {
     "name": "stdout",
     "output_type": "stream",
     "text": [
      "Epoch 24\n",
      "Train Loss: 0.4337, Train Accuracy: 83.58%\n",
      "Test Loss: 0.2860, Test Accuracy: 89.39%\n",
      "\n"
     ]
    },
    {
     "name": "stderr",
     "output_type": "stream",
     "text": [
      "Epoch 25: 100%|██████████| 938/938 [00:21<00:00, 43.14batch/s, Train Loss=0.432, Train Acc=83.8]\n"
     ]
    },
    {
     "name": "stdout",
     "output_type": "stream",
     "text": [
      "Epoch 25\n",
      "Train Loss: 0.4316, Train Accuracy: 83.75%\n",
      "Test Loss: 0.2885, Test Accuracy: 89.33%\n",
      "\n"
     ]
    },
    {
     "name": "stderr",
     "output_type": "stream",
     "text": [
      "Epoch 26: 100%|██████████| 938/938 [00:21<00:00, 43.61batch/s, Train Loss=0.432, Train Acc=83.8]\n"
     ]
    },
    {
     "name": "stdout",
     "output_type": "stream",
     "text": [
      "Epoch 26\n",
      "Train Loss: 0.4320, Train Accuracy: 83.79%\n",
      "Test Loss: 0.2928, Test Accuracy: 89.37%\n",
      "\n"
     ]
    },
    {
     "name": "stderr",
     "output_type": "stream",
     "text": [
      "Epoch 27: 100%|██████████| 938/938 [00:21<00:00, 43.05batch/s, Train Loss=0.434, Train Acc=83.7]\n"
     ]
    },
    {
     "name": "stdout",
     "output_type": "stream",
     "text": [
      "Epoch 27\n",
      "Train Loss: 0.4336, Train Accuracy: 83.75%\n",
      "Test Loss: 0.2945, Test Accuracy: 89.17%\n",
      "\n"
     ]
    },
    {
     "name": "stderr",
     "output_type": "stream",
     "text": [
      "Epoch 28: 100%|██████████| 938/938 [00:21<00:00, 43.03batch/s, Train Loss=0.434, Train Acc=83.5]\n"
     ]
    },
    {
     "name": "stdout",
     "output_type": "stream",
     "text": [
      "Epoch 28\n",
      "Train Loss: 0.4341, Train Accuracy: 83.52%\n",
      "Test Loss: 0.2915, Test Accuracy: 89.24%\n",
      "\n"
     ]
    },
    {
     "name": "stderr",
     "output_type": "stream",
     "text": [
      "Epoch 29: 100%|██████████| 938/938 [00:21<00:00, 43.29batch/s, Train Loss=0.431, Train Acc=83.8]\n"
     ]
    },
    {
     "name": "stdout",
     "output_type": "stream",
     "text": [
      "Epoch 29\n",
      "Train Loss: 0.4307, Train Accuracy: 83.83%\n",
      "Test Loss: 0.2927, Test Accuracy: 89.39%\n",
      "\n"
     ]
    },
    {
     "name": "stderr",
     "output_type": "stream",
     "text": [
      "Epoch 30: 100%|██████████| 938/938 [00:21<00:00, 43.57batch/s, Train Loss=0.43, Train Acc=83.8] \n"
     ]
    },
    {
     "name": "stdout",
     "output_type": "stream",
     "text": [
      "Epoch 30\n",
      "Train Loss: 0.4298, Train Accuracy: 83.85%\n",
      "Test Loss: 0.2922, Test Accuracy: 89.17%\n",
      "\n"
     ]
    },
    {
     "name": "stderr",
     "output_type": "stream",
     "text": [
      "Epoch 31: 100%|██████████| 938/938 [00:21<00:00, 43.68batch/s, Train Loss=0.434, Train Acc=83.6]\n"
     ]
    },
    {
     "name": "stdout",
     "output_type": "stream",
     "text": [
      "Epoch 31\n",
      "Train Loss: 0.4338, Train Accuracy: 83.61%\n",
      "Test Loss: 0.2882, Test Accuracy: 89.67%\n",
      "\n"
     ]
    },
    {
     "name": "stderr",
     "output_type": "stream",
     "text": [
      "Epoch 32: 100%|██████████| 938/938 [00:21<00:00, 43.57batch/s, Train Loss=0.438, Train Acc=83.4]\n"
     ]
    },
    {
     "name": "stdout",
     "output_type": "stream",
     "text": [
      "Epoch 32\n",
      "Train Loss: 0.4376, Train Accuracy: 83.42%\n",
      "Test Loss: 0.2980, Test Accuracy: 89.28%\n",
      "\n"
     ]
    },
    {
     "name": "stderr",
     "output_type": "stream",
     "text": [
      "Epoch 33: 100%|██████████| 938/938 [00:21<00:00, 43.53batch/s, Train Loss=0.43, Train Acc=83.7] \n"
     ]
    },
    {
     "name": "stdout",
     "output_type": "stream",
     "text": [
      "Epoch 33\n",
      "Train Loss: 0.4295, Train Accuracy: 83.71%\n",
      "Test Loss: 0.2912, Test Accuracy: 89.51%\n",
      "\n"
     ]
    },
    {
     "name": "stderr",
     "output_type": "stream",
     "text": [
      "Epoch 34: 100%|██████████| 938/938 [00:21<00:00, 43.52batch/s, Train Loss=0.43, Train Acc=83.7] \n"
     ]
    },
    {
     "name": "stdout",
     "output_type": "stream",
     "text": [
      "Epoch 34\n",
      "Train Loss: 0.4301, Train Accuracy: 83.73%\n",
      "Test Loss: 0.2929, Test Accuracy: 89.30%\n",
      "\n"
     ]
    },
    {
     "name": "stderr",
     "output_type": "stream",
     "text": [
      "Epoch 35: 100%|██████████| 938/938 [00:21<00:00, 43.60batch/s, Train Loss=0.43, Train Acc=83.8] \n"
     ]
    },
    {
     "name": "stdout",
     "output_type": "stream",
     "text": [
      "Epoch 35\n",
      "Train Loss: 0.4303, Train Accuracy: 83.81%\n",
      "Test Loss: 0.2917, Test Accuracy: 89.55%\n",
      "\n"
     ]
    },
    {
     "name": "stderr",
     "output_type": "stream",
     "text": [
      "Epoch 36: 100%|██████████| 938/938 [00:21<00:00, 43.48batch/s, Train Loss=0.429, Train Acc=83.9]\n"
     ]
    },
    {
     "name": "stdout",
     "output_type": "stream",
     "text": [
      "Epoch 36\n",
      "Train Loss: 0.4287, Train Accuracy: 83.90%\n",
      "Test Loss: 0.2923, Test Accuracy: 89.49%\n",
      "\n"
     ]
    },
    {
     "name": "stderr",
     "output_type": "stream",
     "text": [
      "Epoch 37: 100%|██████████| 938/938 [00:21<00:00, 43.05batch/s, Train Loss=0.428, Train Acc=83.8]\n"
     ]
    },
    {
     "name": "stdout",
     "output_type": "stream",
     "text": [
      "Epoch 37\n",
      "Train Loss: 0.4279, Train Accuracy: 83.79%\n",
      "Test Loss: 0.2907, Test Accuracy: 89.58%\n",
      "\n"
     ]
    },
    {
     "name": "stderr",
     "output_type": "stream",
     "text": [
      "Epoch 38: 100%|██████████| 938/938 [00:22<00:00, 42.11batch/s, Train Loss=0.427, Train Acc=83.9]\n"
     ]
    },
    {
     "name": "stdout",
     "output_type": "stream",
     "text": [
      "Epoch 38\n",
      "Train Loss: 0.4273, Train Accuracy: 83.87%\n",
      "Test Loss: 0.2910, Test Accuracy: 89.48%\n",
      "\n"
     ]
    },
    {
     "name": "stderr",
     "output_type": "stream",
     "text": [
      "Epoch 39: 100%|██████████| 938/938 [00:21<00:00, 42.82batch/s, Train Loss=0.431, Train Acc=83.9]\n"
     ]
    },
    {
     "name": "stdout",
     "output_type": "stream",
     "text": [
      "Epoch 39\n",
      "Train Loss: 0.4309, Train Accuracy: 83.92%\n",
      "Test Loss: 0.2853, Test Accuracy: 89.50%\n",
      "\n"
     ]
    },
    {
     "name": "stderr",
     "output_type": "stream",
     "text": [
      "Epoch 40: 100%|██████████| 938/938 [00:21<00:00, 42.81batch/s, Train Loss=0.428, Train Acc=83.9]\n"
     ]
    },
    {
     "name": "stdout",
     "output_type": "stream",
     "text": [
      "Epoch 40\n",
      "Train Loss: 0.4277, Train Accuracy: 83.93%\n",
      "Test Loss: 0.2920, Test Accuracy: 89.54%\n",
      "\n"
     ]
    },
    {
     "name": "stderr",
     "output_type": "stream",
     "text": [
      "Epoch 41: 100%|██████████| 938/938 [00:21<00:00, 43.15batch/s, Train Loss=0.43, Train Acc=83.7] \n"
     ]
    },
    {
     "name": "stdout",
     "output_type": "stream",
     "text": [
      "Epoch 41\n",
      "Train Loss: 0.4305, Train Accuracy: 83.72%\n",
      "Test Loss: 0.2910, Test Accuracy: 89.53%\n",
      "\n"
     ]
    },
    {
     "name": "stderr",
     "output_type": "stream",
     "text": [
      "Epoch 42: 100%|██████████| 938/938 [00:21<00:00, 43.65batch/s, Train Loss=0.427, Train Acc=83.8]\n"
     ]
    },
    {
     "name": "stdout",
     "output_type": "stream",
     "text": [
      "Epoch 42\n",
      "Train Loss: 0.4274, Train Accuracy: 83.79%\n",
      "Test Loss: 0.2882, Test Accuracy: 89.58%\n",
      "\n"
     ]
    },
    {
     "name": "stderr",
     "output_type": "stream",
     "text": [
      "Epoch 43: 100%|██████████| 938/938 [00:21<00:00, 42.81batch/s, Train Loss=0.424, Train Acc=84.1]\n"
     ]
    },
    {
     "name": "stdout",
     "output_type": "stream",
     "text": [
      "Epoch 43\n",
      "Train Loss: 0.4241, Train Accuracy: 84.09%\n",
      "Test Loss: 0.2885, Test Accuracy: 89.63%\n",
      "\n"
     ]
    },
    {
     "name": "stderr",
     "output_type": "stream",
     "text": [
      "Epoch 44: 100%|██████████| 938/938 [00:22<00:00, 42.31batch/s, Train Loss=0.427, Train Acc=83.8]\n"
     ]
    },
    {
     "name": "stdout",
     "output_type": "stream",
     "text": [
      "Epoch 44\n",
      "Train Loss: 0.4266, Train Accuracy: 83.82%\n",
      "Test Loss: 0.2900, Test Accuracy: 89.63%\n",
      "\n"
     ]
    },
    {
     "name": "stderr",
     "output_type": "stream",
     "text": [
      "Epoch 45: 100%|██████████| 938/938 [00:22<00:00, 42.51batch/s, Train Loss=0.429, Train Acc=83.8]\n"
     ]
    },
    {
     "name": "stdout",
     "output_type": "stream",
     "text": [
      "Epoch 45\n",
      "Train Loss: 0.4286, Train Accuracy: 83.80%\n",
      "Test Loss: 0.2894, Test Accuracy: 89.63%\n",
      "\n"
     ]
    },
    {
     "name": "stderr",
     "output_type": "stream",
     "text": [
      "Epoch 46: 100%|██████████| 938/938 [00:21<00:00, 42.97batch/s, Train Loss=0.432, Train Acc=83.7]\n"
     ]
    },
    {
     "name": "stdout",
     "output_type": "stream",
     "text": [
      "Epoch 46\n",
      "Train Loss: 0.4317, Train Accuracy: 83.66%\n",
      "Test Loss: 0.2881, Test Accuracy: 89.74%\n",
      "\n"
     ]
    },
    {
     "name": "stderr",
     "output_type": "stream",
     "text": [
      "Epoch 47: 100%|██████████| 938/938 [00:21<00:00, 43.21batch/s, Train Loss=0.428, Train Acc=83.8]\n"
     ]
    },
    {
     "name": "stdout",
     "output_type": "stream",
     "text": [
      "Epoch 47\n",
      "Train Loss: 0.4278, Train Accuracy: 83.75%\n",
      "Test Loss: 0.2915, Test Accuracy: 89.46%\n",
      "\n"
     ]
    },
    {
     "name": "stderr",
     "output_type": "stream",
     "text": [
      "Epoch 48: 100%|██████████| 938/938 [00:22<00:00, 42.59batch/s, Train Loss=0.428, Train Acc=83.8]\n"
     ]
    },
    {
     "name": "stdout",
     "output_type": "stream",
     "text": [
      "Epoch 48\n",
      "Train Loss: 0.4275, Train Accuracy: 83.84%\n",
      "Test Loss: 0.2827, Test Accuracy: 89.78%\n",
      "\n"
     ]
    },
    {
     "name": "stderr",
     "output_type": "stream",
     "text": [
      "Epoch 49: 100%|██████████| 938/938 [00:21<00:00, 43.50batch/s, Train Loss=0.426, Train Acc=84]  \n"
     ]
    },
    {
     "name": "stdout",
     "output_type": "stream",
     "text": [
      "Epoch 49\n",
      "Train Loss: 0.4257, Train Accuracy: 84.04%\n",
      "Test Loss: 0.2877, Test Accuracy: 89.44%\n",
      "\n"
     ]
    },
    {
     "name": "stderr",
     "output_type": "stream",
     "text": [
      "Epoch 50: 100%|██████████| 938/938 [00:21<00:00, 43.36batch/s, Train Loss=0.428, Train Acc=83.8]\n"
     ]
    },
    {
     "name": "stdout",
     "output_type": "stream",
     "text": [
      "Epoch 50\n",
      "Train Loss: 0.4278, Train Accuracy: 83.82%\n",
      "Test Loss: 0.2945, Test Accuracy: 89.15%\n",
      "\n"
     ]
    },
    {
     "name": "stderr",
     "output_type": "stream",
     "text": [
      "Epoch 51: 100%|██████████| 938/938 [00:21<00:00, 42.78batch/s, Train Loss=0.426, Train Acc=83.9]\n"
     ]
    },
    {
     "name": "stdout",
     "output_type": "stream",
     "text": [
      "Epoch 51\n",
      "Train Loss: 0.4263, Train Accuracy: 83.95%\n",
      "Test Loss: 0.2868, Test Accuracy: 89.43%\n",
      "\n"
     ]
    },
    {
     "name": "stderr",
     "output_type": "stream",
     "text": [
      "Epoch 52: 100%|██████████| 938/938 [00:21<00:00, 43.18batch/s, Train Loss=0.428, Train Acc=83.8]\n"
     ]
    },
    {
     "name": "stdout",
     "output_type": "stream",
     "text": [
      "Epoch 52\n",
      "Train Loss: 0.4283, Train Accuracy: 83.85%\n",
      "Test Loss: 0.2820, Test Accuracy: 89.88%\n",
      "\n"
     ]
    },
    {
     "name": "stderr",
     "output_type": "stream",
     "text": [
      "Epoch 53: 100%|██████████| 938/938 [00:21<00:00, 43.04batch/s, Train Loss=0.429, Train Acc=83.9]\n"
     ]
    },
    {
     "name": "stdout",
     "output_type": "stream",
     "text": [
      "Epoch 53\n",
      "Train Loss: 0.4289, Train Accuracy: 83.92%\n",
      "Test Loss: 0.2829, Test Accuracy: 89.75%\n",
      "\n"
     ]
    },
    {
     "name": "stderr",
     "output_type": "stream",
     "text": [
      "Epoch 54: 100%|██████████| 938/938 [00:21<00:00, 43.16batch/s, Train Loss=0.424, Train Acc=84]  \n"
     ]
    },
    {
     "name": "stdout",
     "output_type": "stream",
     "text": [
      "Epoch 54\n",
      "Train Loss: 0.4235, Train Accuracy: 83.96%\n",
      "Test Loss: 0.2867, Test Accuracy: 89.76%\n",
      "\n"
     ]
    },
    {
     "name": "stderr",
     "output_type": "stream",
     "text": [
      "Epoch 55: 100%|██████████| 938/938 [00:21<00:00, 42.97batch/s, Train Loss=0.427, Train Acc=83.8]\n"
     ]
    },
    {
     "name": "stdout",
     "output_type": "stream",
     "text": [
      "Epoch 55\n",
      "Train Loss: 0.4267, Train Accuracy: 83.81%\n",
      "Test Loss: 0.2828, Test Accuracy: 89.70%\n",
      "\n"
     ]
    },
    {
     "name": "stderr",
     "output_type": "stream",
     "text": [
      "Epoch 56: 100%|██████████| 938/938 [00:21<00:00, 43.49batch/s, Train Loss=0.421, Train Acc=84.1]\n"
     ]
    },
    {
     "name": "stdout",
     "output_type": "stream",
     "text": [
      "Epoch 56\n",
      "Train Loss: 0.4213, Train Accuracy: 84.07%\n",
      "Test Loss: 0.2826, Test Accuracy: 89.64%\n",
      "\n"
     ]
    },
    {
     "name": "stderr",
     "output_type": "stream",
     "text": [
      "Epoch 57: 100%|██████████| 938/938 [00:21<00:00, 43.55batch/s, Train Loss=0.426, Train Acc=83.9]\n"
     ]
    },
    {
     "name": "stdout",
     "output_type": "stream",
     "text": [
      "Epoch 57\n",
      "Train Loss: 0.4258, Train Accuracy: 83.95%\n",
      "Test Loss: 0.2847, Test Accuracy: 89.74%\n",
      "\n"
     ]
    },
    {
     "name": "stderr",
     "output_type": "stream",
     "text": [
      "Epoch 58: 100%|██████████| 938/938 [00:21<00:00, 43.00batch/s, Train Loss=0.425, Train Acc=83.9]\n"
     ]
    },
    {
     "name": "stdout",
     "output_type": "stream",
     "text": [
      "Epoch 58\n",
      "Train Loss: 0.4246, Train Accuracy: 83.92%\n",
      "Test Loss: 0.2835, Test Accuracy: 89.70%\n",
      "\n"
     ]
    },
    {
     "name": "stderr",
     "output_type": "stream",
     "text": [
      "Epoch 59: 100%|██████████| 938/938 [00:21<00:00, 43.14batch/s, Train Loss=0.422, Train Acc=83.9]\n"
     ]
    },
    {
     "name": "stdout",
     "output_type": "stream",
     "text": [
      "Epoch 59\n",
      "Train Loss: 0.4223, Train Accuracy: 83.94%\n",
      "Test Loss: 0.2861, Test Accuracy: 89.56%\n",
      "\n"
     ]
    },
    {
     "name": "stderr",
     "output_type": "stream",
     "text": [
      "Epoch 60: 100%|██████████| 938/938 [00:21<00:00, 43.65batch/s, Train Loss=0.424, Train Acc=83.9]\n"
     ]
    },
    {
     "name": "stdout",
     "output_type": "stream",
     "text": [
      "Epoch 60\n",
      "Train Loss: 0.4245, Train Accuracy: 83.92%\n",
      "Test Loss: 0.2888, Test Accuracy: 89.58%\n",
      "\n"
     ]
    },
    {
     "name": "stderr",
     "output_type": "stream",
     "text": [
      "Epoch 61: 100%|██████████| 938/938 [00:21<00:00, 43.22batch/s, Train Loss=0.424, Train Acc=84]  \n"
     ]
    },
    {
     "name": "stdout",
     "output_type": "stream",
     "text": [
      "Epoch 61\n",
      "Train Loss: 0.4241, Train Accuracy: 84.02%\n",
      "Test Loss: 0.2830, Test Accuracy: 89.53%\n",
      "\n"
     ]
    },
    {
     "name": "stderr",
     "output_type": "stream",
     "text": [
      "Epoch 62: 100%|██████████| 938/938 [00:21<00:00, 43.48batch/s, Train Loss=0.423, Train Acc=84.2]\n"
     ]
    },
    {
     "name": "stdout",
     "output_type": "stream",
     "text": [
      "Epoch 62\n",
      "Train Loss: 0.4227, Train Accuracy: 84.17%\n",
      "Test Loss: 0.2840, Test Accuracy: 89.79%\n",
      "\n"
     ]
    },
    {
     "name": "stderr",
     "output_type": "stream",
     "text": [
      "Epoch 63: 100%|██████████| 938/938 [00:22<00:00, 42.53batch/s, Train Loss=0.423, Train Acc=84.1]\n"
     ]
    },
    {
     "name": "stdout",
     "output_type": "stream",
     "text": [
      "Epoch 63\n",
      "Train Loss: 0.4230, Train Accuracy: 84.11%\n",
      "Test Loss: 0.2908, Test Accuracy: 89.32%\n",
      "\n"
     ]
    },
    {
     "name": "stderr",
     "output_type": "stream",
     "text": [
      "Epoch 64: 100%|██████████| 938/938 [00:22<00:00, 42.50batch/s, Train Loss=0.42, Train Acc=84.2] \n"
     ]
    },
    {
     "name": "stdout",
     "output_type": "stream",
     "text": [
      "Epoch 64\n",
      "Train Loss: 0.4202, Train Accuracy: 84.19%\n",
      "Test Loss: 0.2843, Test Accuracy: 89.59%\n",
      "\n"
     ]
    },
    {
     "name": "stderr",
     "output_type": "stream",
     "text": [
      "Epoch 65: 100%|██████████| 938/938 [00:21<00:00, 43.59batch/s, Train Loss=0.428, Train Acc=83.9]\n"
     ]
    },
    {
     "name": "stdout",
     "output_type": "stream",
     "text": [
      "Epoch 65\n",
      "Train Loss: 0.4277, Train Accuracy: 83.90%\n",
      "Test Loss: 0.2897, Test Accuracy: 89.65%\n",
      "\n"
     ]
    },
    {
     "name": "stderr",
     "output_type": "stream",
     "text": [
      "Epoch 66: 100%|██████████| 938/938 [00:22<00:00, 42.46batch/s, Train Loss=0.425, Train Acc=84]  \n"
     ]
    },
    {
     "name": "stdout",
     "output_type": "stream",
     "text": [
      "Epoch 66\n",
      "Train Loss: 0.4247, Train Accuracy: 83.98%\n",
      "Test Loss: 0.2885, Test Accuracy: 89.73%\n",
      "\n"
     ]
    },
    {
     "name": "stderr",
     "output_type": "stream",
     "text": [
      "Epoch 67: 100%|██████████| 938/938 [00:21<00:00, 43.37batch/s, Train Loss=0.424, Train Acc=84.1]\n"
     ]
    },
    {
     "name": "stdout",
     "output_type": "stream",
     "text": [
      "Epoch 67\n",
      "Train Loss: 0.4237, Train Accuracy: 84.06%\n",
      "Test Loss: 0.2865, Test Accuracy: 89.73%\n",
      "\n"
     ]
    },
    {
     "name": "stderr",
     "output_type": "stream",
     "text": [
      "Epoch 68: 100%|██████████| 938/938 [00:21<00:00, 43.06batch/s, Train Loss=0.424, Train Acc=84]  \n"
     ]
    },
    {
     "name": "stdout",
     "output_type": "stream",
     "text": [
      "Epoch 68\n",
      "Train Loss: 0.4237, Train Accuracy: 83.98%\n",
      "Test Loss: 0.2862, Test Accuracy: 89.74%\n",
      "\n"
     ]
    },
    {
     "name": "stderr",
     "output_type": "stream",
     "text": [
      "Epoch 69: 100%|██████████| 938/938 [00:21<00:00, 43.25batch/s, Train Loss=0.424, Train Acc=84]  \n"
     ]
    },
    {
     "name": "stdout",
     "output_type": "stream",
     "text": [
      "Epoch 69\n",
      "Train Loss: 0.4242, Train Accuracy: 83.96%\n",
      "Test Loss: 0.2902, Test Accuracy: 89.61%\n",
      "\n"
     ]
    },
    {
     "name": "stderr",
     "output_type": "stream",
     "text": [
      "Epoch 70: 100%|██████████| 938/938 [00:21<00:00, 43.21batch/s, Train Loss=0.421, Train Acc=84]  \n"
     ]
    },
    {
     "name": "stdout",
     "output_type": "stream",
     "text": [
      "Epoch 70\n",
      "Train Loss: 0.4210, Train Accuracy: 83.98%\n",
      "Test Loss: 0.2856, Test Accuracy: 89.87%\n",
      "\n"
     ]
    },
    {
     "name": "stderr",
     "output_type": "stream",
     "text": [
      "Epoch 71: 100%|██████████| 938/938 [00:21<00:00, 43.32batch/s, Train Loss=0.417, Train Acc=84.4]\n"
     ]
    },
    {
     "name": "stdout",
     "output_type": "stream",
     "text": [
      "Epoch 71\n",
      "Train Loss: 0.4168, Train Accuracy: 84.36%\n",
      "Test Loss: 0.2828, Test Accuracy: 89.88%\n",
      "\n"
     ]
    },
    {
     "name": "stderr",
     "output_type": "stream",
     "text": [
      "Epoch 72: 100%|██████████| 938/938 [00:21<00:00, 43.25batch/s, Train Loss=0.42, Train Acc=84.1] \n"
     ]
    },
    {
     "name": "stdout",
     "output_type": "stream",
     "text": [
      "Epoch 72\n",
      "Train Loss: 0.4197, Train Accuracy: 84.13%\n",
      "Test Loss: 0.2870, Test Accuracy: 89.81%\n",
      "\n"
     ]
    },
    {
     "name": "stderr",
     "output_type": "stream",
     "text": [
      "Epoch 73: 100%|██████████| 938/938 [00:21<00:00, 43.35batch/s, Train Loss=0.423, Train Acc=84]  \n"
     ]
    },
    {
     "name": "stdout",
     "output_type": "stream",
     "text": [
      "Epoch 73\n",
      "Train Loss: 0.4229, Train Accuracy: 84.00%\n",
      "Test Loss: 0.2876, Test Accuracy: 89.65%\n",
      "\n"
     ]
    },
    {
     "name": "stderr",
     "output_type": "stream",
     "text": [
      "Epoch 74: 100%|██████████| 938/938 [00:21<00:00, 43.60batch/s, Train Loss=0.422, Train Acc=84.1]\n"
     ]
    },
    {
     "name": "stdout",
     "output_type": "stream",
     "text": [
      "Epoch 74\n",
      "Train Loss: 0.4218, Train Accuracy: 84.06%\n",
      "Test Loss: 0.2863, Test Accuracy: 89.82%\n",
      "\n"
     ]
    },
    {
     "name": "stderr",
     "output_type": "stream",
     "text": [
      "Epoch 75: 100%|██████████| 938/938 [00:21<00:00, 43.62batch/s, Train Loss=0.424, Train Acc=84.1]\n"
     ]
    },
    {
     "name": "stdout",
     "output_type": "stream",
     "text": [
      "Epoch 75\n",
      "Train Loss: 0.4240, Train Accuracy: 84.10%\n",
      "Test Loss: 0.2864, Test Accuracy: 89.82%\n",
      "\n"
     ]
    },
    {
     "name": "stderr",
     "output_type": "stream",
     "text": [
      "Epoch 76: 100%|██████████| 938/938 [00:21<00:00, 43.69batch/s, Train Loss=0.422, Train Acc=84.2]\n"
     ]
    },
    {
     "name": "stdout",
     "output_type": "stream",
     "text": [
      "Epoch 76\n",
      "Train Loss: 0.4219, Train Accuracy: 84.17%\n",
      "Test Loss: 0.2882, Test Accuracy: 89.87%\n",
      "\n"
     ]
    },
    {
     "name": "stderr",
     "output_type": "stream",
     "text": [
      "Epoch 77: 100%|██████████| 938/938 [00:21<00:00, 43.52batch/s, Train Loss=0.424, Train Acc=83.9]\n"
     ]
    },
    {
     "name": "stdout",
     "output_type": "stream",
     "text": [
      "Epoch 77\n",
      "Train Loss: 0.4240, Train Accuracy: 83.85%\n",
      "Test Loss: 0.2893, Test Accuracy: 89.72%\n",
      "\n"
     ]
    },
    {
     "name": "stderr",
     "output_type": "stream",
     "text": [
      "Epoch 78: 100%|██████████| 938/938 [00:21<00:00, 43.41batch/s, Train Loss=0.424, Train Acc=84]  \n"
     ]
    },
    {
     "name": "stdout",
     "output_type": "stream",
     "text": [
      "Epoch 78\n",
      "Train Loss: 0.4238, Train Accuracy: 83.99%\n",
      "Test Loss: 0.2831, Test Accuracy: 89.63%\n",
      "\n"
     ]
    },
    {
     "name": "stderr",
     "output_type": "stream",
     "text": [
      "Epoch 79: 100%|██████████| 938/938 [00:21<00:00, 43.48batch/s, Train Loss=0.418, Train Acc=84.1]\n"
     ]
    },
    {
     "name": "stdout",
     "output_type": "stream",
     "text": [
      "Epoch 79\n",
      "Train Loss: 0.4175, Train Accuracy: 84.14%\n",
      "Test Loss: 0.2830, Test Accuracy: 89.74%\n",
      "\n"
     ]
    },
    {
     "name": "stderr",
     "output_type": "stream",
     "text": [
      "Epoch 80: 100%|██████████| 938/938 [00:21<00:00, 43.50batch/s, Train Loss=0.418, Train Acc=84.2]\n"
     ]
    },
    {
     "name": "stdout",
     "output_type": "stream",
     "text": [
      "Epoch 80\n",
      "Train Loss: 0.4182, Train Accuracy: 84.22%\n",
      "Test Loss: 0.2843, Test Accuracy: 89.90%\n",
      "\n"
     ]
    },
    {
     "name": "stderr",
     "output_type": "stream",
     "text": [
      "Epoch 81: 100%|██████████| 938/938 [00:21<00:00, 44.30batch/s, Train Loss=0.423, Train Acc=84]  \n"
     ]
    },
    {
     "name": "stdout",
     "output_type": "stream",
     "text": [
      "Epoch 81\n",
      "Train Loss: 0.4226, Train Accuracy: 84.03%\n",
      "Test Loss: 0.2828, Test Accuracy: 89.75%\n",
      "\n"
     ]
    },
    {
     "name": "stderr",
     "output_type": "stream",
     "text": [
      "Epoch 82: 100%|██████████| 938/938 [00:20<00:00, 45.25batch/s, Train Loss=0.417, Train Acc=84.4]\n"
     ]
    },
    {
     "name": "stdout",
     "output_type": "stream",
     "text": [
      "Epoch 82\n",
      "Train Loss: 0.4167, Train Accuracy: 84.37%\n",
      "Test Loss: 0.2895, Test Accuracy: 89.56%\n",
      "\n"
     ]
    },
    {
     "name": "stderr",
     "output_type": "stream",
     "text": [
      "Epoch 83: 100%|██████████| 938/938 [00:20<00:00, 45.16batch/s, Train Loss=0.422, Train Acc=84]  \n"
     ]
    },
    {
     "name": "stdout",
     "output_type": "stream",
     "text": [
      "Epoch 83\n",
      "Train Loss: 0.4222, Train Accuracy: 83.97%\n",
      "Test Loss: 0.2844, Test Accuracy: 89.62%\n",
      "\n"
     ]
    },
    {
     "name": "stderr",
     "output_type": "stream",
     "text": [
      "Epoch 84: 100%|██████████| 938/938 [00:20<00:00, 45.19batch/s, Train Loss=0.42, Train Acc=84.2] \n"
     ]
    },
    {
     "name": "stdout",
     "output_type": "stream",
     "text": [
      "Epoch 84\n",
      "Train Loss: 0.4197, Train Accuracy: 84.19%\n",
      "Test Loss: 0.2810, Test Accuracy: 90.09%\n",
      "\n"
     ]
    },
    {
     "name": "stderr",
     "output_type": "stream",
     "text": [
      "Epoch 85: 100%|██████████| 938/938 [00:21<00:00, 44.50batch/s, Train Loss=0.419, Train Acc=84.2]\n"
     ]
    },
    {
     "name": "stdout",
     "output_type": "stream",
     "text": [
      "Epoch 85\n",
      "Train Loss: 0.4189, Train Accuracy: 84.22%\n",
      "Test Loss: 0.2861, Test Accuracy: 89.60%\n",
      "\n"
     ]
    },
    {
     "name": "stderr",
     "output_type": "stream",
     "text": [
      "Epoch 86: 100%|██████████| 938/938 [00:20<00:00, 44.82batch/s, Train Loss=0.421, Train Acc=84.2]\n"
     ]
    },
    {
     "name": "stdout",
     "output_type": "stream",
     "text": [
      "Epoch 86\n",
      "Train Loss: 0.4207, Train Accuracy: 84.23%\n",
      "Test Loss: 0.2815, Test Accuracy: 89.93%\n",
      "\n"
     ]
    },
    {
     "name": "stderr",
     "output_type": "stream",
     "text": [
      "Epoch 87: 100%|██████████| 938/938 [00:20<00:00, 45.10batch/s, Train Loss=0.42, Train Acc=84.1] \n"
     ]
    },
    {
     "name": "stdout",
     "output_type": "stream",
     "text": [
      "Epoch 87\n",
      "Train Loss: 0.4199, Train Accuracy: 84.11%\n",
      "Test Loss: 0.2908, Test Accuracy: 89.54%\n",
      "\n"
     ]
    },
    {
     "name": "stderr",
     "output_type": "stream",
     "text": [
      "Epoch 88: 100%|██████████| 938/938 [00:21<00:00, 44.37batch/s, Train Loss=0.419, Train Acc=84.2]\n"
     ]
    },
    {
     "name": "stdout",
     "output_type": "stream",
     "text": [
      "Epoch 88\n",
      "Train Loss: 0.4190, Train Accuracy: 84.24%\n",
      "Test Loss: 0.2877, Test Accuracy: 89.39%\n",
      "\n"
     ]
    },
    {
     "name": "stderr",
     "output_type": "stream",
     "text": [
      "Epoch 89: 100%|██████████| 938/938 [00:21<00:00, 44.16batch/s, Train Loss=0.417, Train Acc=84.2]\n"
     ]
    },
    {
     "name": "stdout",
     "output_type": "stream",
     "text": [
      "Epoch 89\n",
      "Train Loss: 0.4174, Train Accuracy: 84.23%\n",
      "Test Loss: 0.2869, Test Accuracy: 89.50%\n",
      "\n"
     ]
    },
    {
     "name": "stderr",
     "output_type": "stream",
     "text": [
      "Epoch 90: 100%|██████████| 938/938 [00:21<00:00, 43.60batch/s, Train Loss=0.421, Train Acc=84.1]\n"
     ]
    },
    {
     "name": "stdout",
     "output_type": "stream",
     "text": [
      "Epoch 90\n",
      "Train Loss: 0.4207, Train Accuracy: 84.09%\n",
      "Test Loss: 0.2819, Test Accuracy: 89.99%\n",
      "\n"
     ]
    },
    {
     "name": "stderr",
     "output_type": "stream",
     "text": [
      "Epoch 91: 100%|██████████| 938/938 [00:21<00:00, 42.70batch/s, Train Loss=0.418, Train Acc=84.2]\n"
     ]
    },
    {
     "name": "stdout",
     "output_type": "stream",
     "text": [
      "Epoch 91\n",
      "Train Loss: 0.4185, Train Accuracy: 84.22%\n",
      "Test Loss: 0.2904, Test Accuracy: 89.43%\n",
      "\n"
     ]
    },
    {
     "name": "stderr",
     "output_type": "stream",
     "text": [
      "Epoch 92: 100%|██████████| 938/938 [00:21<00:00, 44.29batch/s, Train Loss=0.418, Train Acc=84.1]\n"
     ]
    },
    {
     "name": "stdout",
     "output_type": "stream",
     "text": [
      "Epoch 92\n",
      "Train Loss: 0.4181, Train Accuracy: 84.10%\n",
      "Test Loss: 0.2785, Test Accuracy: 90.04%\n",
      "\n"
     ]
    },
    {
     "name": "stderr",
     "output_type": "stream",
     "text": [
      "Epoch 93: 100%|██████████| 938/938 [00:20<00:00, 44.74batch/s, Train Loss=0.418, Train Acc=84.3]\n"
     ]
    },
    {
     "name": "stdout",
     "output_type": "stream",
     "text": [
      "Epoch 93\n",
      "Train Loss: 0.4183, Train Accuracy: 84.30%\n",
      "Test Loss: 0.2852, Test Accuracy: 89.78%\n",
      "\n"
     ]
    },
    {
     "name": "stderr",
     "output_type": "stream",
     "text": [
      "Epoch 94: 100%|██████████| 938/938 [00:20<00:00, 44.91batch/s, Train Loss=0.42, Train Acc=84]   \n"
     ]
    },
    {
     "name": "stdout",
     "output_type": "stream",
     "text": [
      "Epoch 94\n",
      "Train Loss: 0.4202, Train Accuracy: 83.97%\n",
      "Test Loss: 0.2797, Test Accuracy: 89.98%\n",
      "\n"
     ]
    },
    {
     "name": "stderr",
     "output_type": "stream",
     "text": [
      "Epoch 95: 100%|██████████| 938/938 [00:21<00:00, 44.39batch/s, Train Loss=0.417, Train Acc=84.3]\n"
     ]
    },
    {
     "name": "stdout",
     "output_type": "stream",
     "text": [
      "Epoch 95\n",
      "Train Loss: 0.4170, Train Accuracy: 84.29%\n",
      "Test Loss: 0.2829, Test Accuracy: 89.93%\n",
      "\n"
     ]
    },
    {
     "name": "stderr",
     "output_type": "stream",
     "text": [
      "Epoch 96: 100%|██████████| 938/938 [00:21<00:00, 44.06batch/s, Train Loss=0.416, Train Acc=84.2]\n"
     ]
    },
    {
     "name": "stdout",
     "output_type": "stream",
     "text": [
      "Epoch 96\n",
      "Train Loss: 0.4161, Train Accuracy: 84.17%\n",
      "Test Loss: 0.2900, Test Accuracy: 89.57%\n",
      "\n"
     ]
    },
    {
     "name": "stderr",
     "output_type": "stream",
     "text": [
      "Epoch 97: 100%|██████████| 938/938 [00:21<00:00, 44.57batch/s, Train Loss=0.418, Train Acc=84.2]\n"
     ]
    },
    {
     "name": "stdout",
     "output_type": "stream",
     "text": [
      "Epoch 97\n",
      "Train Loss: 0.4176, Train Accuracy: 84.18%\n",
      "Test Loss: 0.2819, Test Accuracy: 89.82%\n",
      "\n"
     ]
    },
    {
     "name": "stderr",
     "output_type": "stream",
     "text": [
      "Epoch 98: 100%|██████████| 938/938 [00:20<00:00, 45.40batch/s, Train Loss=0.412, Train Acc=84.3]\n"
     ]
    },
    {
     "name": "stdout",
     "output_type": "stream",
     "text": [
      "Epoch 98\n",
      "Train Loss: 0.4117, Train Accuracy: 84.35%\n",
      "Test Loss: 0.2833, Test Accuracy: 89.82%\n",
      "\n"
     ]
    },
    {
     "name": "stderr",
     "output_type": "stream",
     "text": [
      "Epoch 99: 100%|██████████| 938/938 [00:20<00:00, 45.64batch/s, Train Loss=0.419, Train Acc=84.2]\n"
     ]
    },
    {
     "name": "stdout",
     "output_type": "stream",
     "text": [
      "Epoch 99\n",
      "Train Loss: 0.4188, Train Accuracy: 84.20%\n",
      "Test Loss: 0.2809, Test Accuracy: 89.83%\n",
      "\n"
     ]
    },
    {
     "name": "stderr",
     "output_type": "stream",
     "text": [
      "Epoch 100: 100%|██████████| 938/938 [00:20<00:00, 45.91batch/s, Train Loss=0.417, Train Acc=84.3]\n"
     ]
    },
    {
     "name": "stdout",
     "output_type": "stream",
     "text": [
      "Epoch 100\n",
      "Train Loss: 0.4172, Train Accuracy: 84.29%\n",
      "Test Loss: 0.2788, Test Accuracy: 89.96%\n",
      "\n"
     ]
    },
    {
     "name": "stderr",
     "output_type": "stream",
     "text": [
      "Epoch 101: 100%|██████████| 938/938 [00:20<00:00, 45.95batch/s, Train Loss=0.418, Train Acc=84.3]\n"
     ]
    },
    {
     "name": "stdout",
     "output_type": "stream",
     "text": [
      "Epoch 101\n",
      "Train Loss: 0.4178, Train Accuracy: 84.27%\n",
      "Test Loss: 0.2846, Test Accuracy: 89.74%\n",
      "\n"
     ]
    },
    {
     "name": "stderr",
     "output_type": "stream",
     "text": [
      "Epoch 102: 100%|██████████| 938/938 [00:20<00:00, 45.83batch/s, Train Loss=0.413, Train Acc=84.5]\n"
     ]
    },
    {
     "name": "stdout",
     "output_type": "stream",
     "text": [
      "Epoch 102\n",
      "Train Loss: 0.4127, Train Accuracy: 84.55%\n",
      "Test Loss: 0.2828, Test Accuracy: 90.01%\n",
      "\n"
     ]
    },
    {
     "name": "stderr",
     "output_type": "stream",
     "text": [
      "Epoch 103: 100%|██████████| 938/938 [00:20<00:00, 46.07batch/s, Train Loss=0.412, Train Acc=84.4]\n"
     ]
    },
    {
     "name": "stdout",
     "output_type": "stream",
     "text": [
      "Epoch 103\n",
      "Train Loss: 0.4123, Train Accuracy: 84.36%\n",
      "Test Loss: 0.2872, Test Accuracy: 89.44%\n",
      "\n"
     ]
    },
    {
     "name": "stderr",
     "output_type": "stream",
     "text": [
      "Epoch 104: 100%|██████████| 938/938 [00:20<00:00, 46.07batch/s, Train Loss=0.413, Train Acc=84.4]\n"
     ]
    },
    {
     "name": "stdout",
     "output_type": "stream",
     "text": [
      "Epoch 104\n",
      "Train Loss: 0.4128, Train Accuracy: 84.36%\n",
      "Test Loss: 0.2836, Test Accuracy: 89.86%\n",
      "\n"
     ]
    },
    {
     "name": "stderr",
     "output_type": "stream",
     "text": [
      "Epoch 105: 100%|██████████| 938/938 [00:20<00:00, 45.90batch/s, Train Loss=0.411, Train Acc=84.3]\n"
     ]
    },
    {
     "name": "stdout",
     "output_type": "stream",
     "text": [
      "Epoch 105\n",
      "Train Loss: 0.4114, Train Accuracy: 84.31%\n",
      "Test Loss: 0.2828, Test Accuracy: 89.81%\n",
      "\n"
     ]
    },
    {
     "name": "stderr",
     "output_type": "stream",
     "text": [
      "Epoch 106: 100%|██████████| 938/938 [00:20<00:00, 45.93batch/s, Train Loss=0.415, Train Acc=84.3]\n"
     ]
    },
    {
     "name": "stdout",
     "output_type": "stream",
     "text": [
      "Epoch 106\n",
      "Train Loss: 0.4153, Train Accuracy: 84.30%\n",
      "Test Loss: 0.2817, Test Accuracy: 89.82%\n",
      "\n"
     ]
    },
    {
     "name": "stderr",
     "output_type": "stream",
     "text": [
      "Epoch 107: 100%|██████████| 938/938 [00:20<00:00, 45.74batch/s, Train Loss=0.412, Train Acc=84.5]\n"
     ]
    },
    {
     "name": "stdout",
     "output_type": "stream",
     "text": [
      "Epoch 107\n",
      "Train Loss: 0.4117, Train Accuracy: 84.47%\n",
      "Test Loss: 0.2822, Test Accuracy: 89.95%\n",
      "\n"
     ]
    },
    {
     "name": "stderr",
     "output_type": "stream",
     "text": [
      "Epoch 108: 100%|██████████| 938/938 [00:20<00:00, 46.07batch/s, Train Loss=0.413, Train Acc=84.3]\n"
     ]
    },
    {
     "name": "stdout",
     "output_type": "stream",
     "text": [
      "Epoch 108\n",
      "Train Loss: 0.4132, Train Accuracy: 84.30%\n",
      "Test Loss: 0.2823, Test Accuracy: 89.64%\n",
      "\n"
     ]
    },
    {
     "name": "stderr",
     "output_type": "stream",
     "text": [
      "Epoch 109: 100%|██████████| 938/938 [00:20<00:00, 45.88batch/s, Train Loss=0.416, Train Acc=84.4]\n"
     ]
    },
    {
     "name": "stdout",
     "output_type": "stream",
     "text": [
      "Epoch 109\n",
      "Train Loss: 0.4165, Train Accuracy: 84.40%\n",
      "Test Loss: 0.2820, Test Accuracy: 89.80%\n",
      "\n"
     ]
    },
    {
     "name": "stderr",
     "output_type": "stream",
     "text": [
      "Epoch 110: 100%|██████████| 938/938 [00:20<00:00, 45.86batch/s, Train Loss=0.413, Train Acc=84.5]\n"
     ]
    },
    {
     "name": "stdout",
     "output_type": "stream",
     "text": [
      "Epoch 110\n",
      "Train Loss: 0.4134, Train Accuracy: 84.49%\n",
      "Test Loss: 0.2782, Test Accuracy: 90.11%\n",
      "\n"
     ]
    },
    {
     "name": "stderr",
     "output_type": "stream",
     "text": [
      "Epoch 111: 100%|██████████| 938/938 [00:20<00:00, 46.03batch/s, Train Loss=0.411, Train Acc=84.4]\n"
     ]
    },
    {
     "name": "stdout",
     "output_type": "stream",
     "text": [
      "Epoch 111\n",
      "Train Loss: 0.4110, Train Accuracy: 84.42%\n",
      "Test Loss: 0.2839, Test Accuracy: 89.77%\n",
      "\n"
     ]
    },
    {
     "name": "stderr",
     "output_type": "stream",
     "text": [
      "Epoch 112: 100%|██████████| 938/938 [00:20<00:00, 46.58batch/s, Train Loss=0.413, Train Acc=84.4]\n"
     ]
    },
    {
     "name": "stdout",
     "output_type": "stream",
     "text": [
      "Epoch 112\n",
      "Train Loss: 0.4133, Train Accuracy: 84.37%\n",
      "Test Loss: 0.2827, Test Accuracy: 89.92%\n",
      "\n"
     ]
    },
    {
     "name": "stderr",
     "output_type": "stream",
     "text": [
      "Epoch 113: 100%|██████████| 938/938 [00:19<00:00, 47.79batch/s, Train Loss=0.414, Train Acc=84.5]\n"
     ]
    },
    {
     "name": "stdout",
     "output_type": "stream",
     "text": [
      "Epoch 113\n",
      "Train Loss: 0.4137, Train Accuracy: 84.52%\n",
      "Test Loss: 0.2801, Test Accuracy: 89.82%\n",
      "\n"
     ]
    },
    {
     "name": "stderr",
     "output_type": "stream",
     "text": [
      "Epoch 114: 100%|██████████| 938/938 [00:19<00:00, 47.56batch/s, Train Loss=0.41, Train Acc=84.6] \n"
     ]
    },
    {
     "name": "stdout",
     "output_type": "stream",
     "text": [
      "Epoch 114\n",
      "Train Loss: 0.4103, Train Accuracy: 84.56%\n",
      "Test Loss: 0.2864, Test Accuracy: 89.52%\n",
      "\n"
     ]
    },
    {
     "name": "stderr",
     "output_type": "stream",
     "text": [
      "Epoch 115: 100%|██████████| 938/938 [00:19<00:00, 47.70batch/s, Train Loss=0.41, Train Acc=84.3] \n"
     ]
    },
    {
     "name": "stdout",
     "output_type": "stream",
     "text": [
      "Epoch 115\n",
      "Train Loss: 0.4101, Train Accuracy: 84.32%\n",
      "Test Loss: 0.2865, Test Accuracy: 89.52%\n",
      "\n"
     ]
    },
    {
     "name": "stderr",
     "output_type": "stream",
     "text": [
      "Epoch 116: 100%|██████████| 938/938 [00:19<00:00, 47.79batch/s, Train Loss=0.411, Train Acc=84.4]\n"
     ]
    },
    {
     "name": "stdout",
     "output_type": "stream",
     "text": [
      "Epoch 116\n",
      "Train Loss: 0.4112, Train Accuracy: 84.43%\n",
      "Test Loss: 0.2823, Test Accuracy: 89.78%\n",
      "\n"
     ]
    },
    {
     "name": "stderr",
     "output_type": "stream",
     "text": [
      "Epoch 117: 100%|██████████| 938/938 [00:19<00:00, 47.65batch/s, Train Loss=0.414, Train Acc=84.3]\n"
     ]
    },
    {
     "name": "stdout",
     "output_type": "stream",
     "text": [
      "Epoch 117\n",
      "Train Loss: 0.4140, Train Accuracy: 84.28%\n",
      "Test Loss: 0.2912, Test Accuracy: 89.28%\n",
      "\n"
     ]
    },
    {
     "name": "stderr",
     "output_type": "stream",
     "text": [
      "Epoch 118: 100%|██████████| 938/938 [00:19<00:00, 47.85batch/s, Train Loss=0.411, Train Acc=84.4]\n"
     ]
    },
    {
     "name": "stdout",
     "output_type": "stream",
     "text": [
      "Epoch 118\n",
      "Train Loss: 0.4110, Train Accuracy: 84.38%\n",
      "Test Loss: 0.2810, Test Accuracy: 89.95%\n",
      "\n"
     ]
    },
    {
     "name": "stderr",
     "output_type": "stream",
     "text": [
      "Epoch 119: 100%|██████████| 938/938 [00:19<00:00, 47.53batch/s, Train Loss=0.415, Train Acc=84.3]\n"
     ]
    },
    {
     "name": "stdout",
     "output_type": "stream",
     "text": [
      "Epoch 119\n",
      "Train Loss: 0.4151, Train Accuracy: 84.35%\n",
      "Test Loss: 0.2813, Test Accuracy: 89.78%\n",
      "\n"
     ]
    },
    {
     "name": "stderr",
     "output_type": "stream",
     "text": [
      "Epoch 120: 100%|██████████| 938/938 [00:19<00:00, 48.20batch/s, Train Loss=0.412, Train Acc=84.4]\n"
     ]
    },
    {
     "name": "stdout",
     "output_type": "stream",
     "text": [
      "Epoch 120\n",
      "Train Loss: 0.4121, Train Accuracy: 84.41%\n",
      "Test Loss: 0.2802, Test Accuracy: 89.95%\n",
      "\n"
     ]
    },
    {
     "name": "stderr",
     "output_type": "stream",
     "text": [
      "Epoch 121: 100%|██████████| 938/938 [00:19<00:00, 47.20batch/s, Train Loss=0.412, Train Acc=84.4]\n"
     ]
    },
    {
     "name": "stdout",
     "output_type": "stream",
     "text": [
      "Epoch 121\n",
      "Train Loss: 0.4122, Train Accuracy: 84.35%\n",
      "Test Loss: 0.2837, Test Accuracy: 89.77%\n",
      "\n"
     ]
    },
    {
     "name": "stderr",
     "output_type": "stream",
     "text": [
      "Epoch 122: 100%|██████████| 938/938 [00:20<00:00, 45.81batch/s, Train Loss=0.411, Train Acc=84.4]\n"
     ]
    },
    {
     "name": "stdout",
     "output_type": "stream",
     "text": [
      "Epoch 122\n",
      "Train Loss: 0.4105, Train Accuracy: 84.41%\n",
      "Test Loss: 0.2803, Test Accuracy: 89.97%\n",
      "\n"
     ]
    },
    {
     "name": "stderr",
     "output_type": "stream",
     "text": [
      "Epoch 123: 100%|██████████| 938/938 [00:20<00:00, 44.92batch/s, Train Loss=0.413, Train Acc=84.4]\n"
     ]
    },
    {
     "name": "stdout",
     "output_type": "stream",
     "text": [
      "Epoch 123\n",
      "Train Loss: 0.4131, Train Accuracy: 84.44%\n",
      "Test Loss: 0.2823, Test Accuracy: 89.87%\n",
      "\n"
     ]
    },
    {
     "name": "stderr",
     "output_type": "stream",
     "text": [
      "Epoch 124: 100%|██████████| 938/938 [00:21<00:00, 43.86batch/s, Train Loss=0.415, Train Acc=84.2]\n"
     ]
    },
    {
     "name": "stdout",
     "output_type": "stream",
     "text": [
      "Epoch 124\n",
      "Train Loss: 0.4151, Train Accuracy: 84.19%\n",
      "Test Loss: 0.2824, Test Accuracy: 89.91%\n",
      "\n"
     ]
    },
    {
     "name": "stderr",
     "output_type": "stream",
     "text": [
      "Epoch 125: 100%|██████████| 938/938 [00:21<00:00, 44.39batch/s, Train Loss=0.411, Train Acc=84.4]\n"
     ]
    },
    {
     "name": "stdout",
     "output_type": "stream",
     "text": [
      "Epoch 125\n",
      "Train Loss: 0.4108, Train Accuracy: 84.41%\n",
      "Test Loss: 0.2870, Test Accuracy: 89.42%\n",
      "\n"
     ]
    },
    {
     "name": "stderr",
     "output_type": "stream",
     "text": [
      "Epoch 126: 100%|██████████| 938/938 [00:20<00:00, 45.11batch/s, Train Loss=0.408, Train Acc=84.6]\n"
     ]
    },
    {
     "name": "stdout",
     "output_type": "stream",
     "text": [
      "Epoch 126\n",
      "Train Loss: 0.4079, Train Accuracy: 84.64%\n",
      "Test Loss: 0.2844, Test Accuracy: 89.71%\n",
      "\n"
     ]
    },
    {
     "name": "stderr",
     "output_type": "stream",
     "text": [
      "Epoch 127: 100%|██████████| 938/938 [00:20<00:00, 45.44batch/s, Train Loss=0.408, Train Acc=84.7]\n"
     ]
    },
    {
     "name": "stdout",
     "output_type": "stream",
     "text": [
      "Epoch 127\n",
      "Train Loss: 0.4079, Train Accuracy: 84.75%\n",
      "Test Loss: 0.2896, Test Accuracy: 89.59%\n",
      "\n"
     ]
    },
    {
     "name": "stderr",
     "output_type": "stream",
     "text": [
      "Epoch 128: 100%|██████████| 938/938 [00:20<00:00, 45.27batch/s, Train Loss=0.408, Train Acc=84.6]\n"
     ]
    },
    {
     "name": "stdout",
     "output_type": "stream",
     "text": [
      "Epoch 128\n",
      "Train Loss: 0.4076, Train Accuracy: 84.58%\n",
      "Test Loss: 0.2804, Test Accuracy: 89.74%\n",
      "\n"
     ]
    },
    {
     "name": "stderr",
     "output_type": "stream",
     "text": [
      "Epoch 129: 100%|██████████| 938/938 [00:20<00:00, 44.93batch/s, Train Loss=0.411, Train Acc=84.4]\n"
     ]
    },
    {
     "name": "stdout",
     "output_type": "stream",
     "text": [
      "Epoch 129\n",
      "Train Loss: 0.4111, Train Accuracy: 84.38%\n",
      "Test Loss: 0.2804, Test Accuracy: 89.78%\n",
      "\n"
     ]
    },
    {
     "name": "stderr",
     "output_type": "stream",
     "text": [
      "Epoch 130: 100%|██████████| 938/938 [00:21<00:00, 42.98batch/s, Train Loss=0.409, Train Acc=84.6]\n"
     ]
    },
    {
     "name": "stdout",
     "output_type": "stream",
     "text": [
      "Epoch 130\n",
      "Train Loss: 0.4089, Train Accuracy: 84.56%\n",
      "Test Loss: 0.2779, Test Accuracy: 89.81%\n",
      "\n"
     ]
    },
    {
     "name": "stderr",
     "output_type": "stream",
     "text": [
      "Epoch 131: 100%|██████████| 938/938 [00:22<00:00, 42.18batch/s, Train Loss=0.409, Train Acc=84.6]\n"
     ]
    },
    {
     "name": "stdout",
     "output_type": "stream",
     "text": [
      "Epoch 131\n",
      "Train Loss: 0.4091, Train Accuracy: 84.59%\n",
      "Test Loss: 0.2863, Test Accuracy: 89.40%\n",
      "\n"
     ]
    },
    {
     "name": "stderr",
     "output_type": "stream",
     "text": [
      "Epoch 132: 100%|██████████| 938/938 [00:21<00:00, 42.82batch/s, Train Loss=0.409, Train Acc=84.5]\n"
     ]
    },
    {
     "name": "stdout",
     "output_type": "stream",
     "text": [
      "Epoch 132\n",
      "Train Loss: 0.4086, Train Accuracy: 84.50%\n",
      "Test Loss: 0.2807, Test Accuracy: 89.95%\n",
      "\n"
     ]
    },
    {
     "name": "stderr",
     "output_type": "stream",
     "text": [
      "Epoch 133: 100%|██████████| 938/938 [00:20<00:00, 45.29batch/s, Train Loss=0.411, Train Acc=84.7]\n"
     ]
    },
    {
     "name": "stdout",
     "output_type": "stream",
     "text": [
      "Epoch 133\n",
      "Train Loss: 0.4109, Train Accuracy: 84.68%\n",
      "Test Loss: 0.2798, Test Accuracy: 89.79%\n",
      "\n"
     ]
    },
    {
     "name": "stderr",
     "output_type": "stream",
     "text": [
      "Epoch 134: 100%|██████████| 938/938 [00:21<00:00, 44.52batch/s, Train Loss=0.408, Train Acc=84.5]\n"
     ]
    },
    {
     "name": "stdout",
     "output_type": "stream",
     "text": [
      "Epoch 134\n",
      "Train Loss: 0.4082, Train Accuracy: 84.49%\n",
      "Test Loss: 0.2828, Test Accuracy: 89.61%\n",
      "\n"
     ]
    },
    {
     "name": "stderr",
     "output_type": "stream",
     "text": [
      "Epoch 135: 100%|██████████| 938/938 [00:21<00:00, 43.71batch/s, Train Loss=0.412, Train Acc=84.5]\n"
     ]
    },
    {
     "name": "stdout",
     "output_type": "stream",
     "text": [
      "Epoch 135\n",
      "Train Loss: 0.4123, Train Accuracy: 84.51%\n",
      "Test Loss: 0.2804, Test Accuracy: 89.56%\n",
      "\n"
     ]
    },
    {
     "name": "stderr",
     "output_type": "stream",
     "text": [
      "Epoch 136: 100%|██████████| 938/938 [00:20<00:00, 45.18batch/s, Train Loss=0.408, Train Acc=84.6]\n"
     ]
    },
    {
     "name": "stdout",
     "output_type": "stream",
     "text": [
      "Epoch 136\n",
      "Train Loss: 0.4079, Train Accuracy: 84.63%\n",
      "Test Loss: 0.2844, Test Accuracy: 89.63%\n",
      "\n"
     ]
    },
    {
     "name": "stderr",
     "output_type": "stream",
     "text": [
      "Epoch 137: 100%|██████████| 938/938 [00:20<00:00, 44.73batch/s, Train Loss=0.411, Train Acc=84.5]\n"
     ]
    },
    {
     "name": "stdout",
     "output_type": "stream",
     "text": [
      "Epoch 137\n",
      "Train Loss: 0.4106, Train Accuracy: 84.53%\n",
      "Test Loss: 0.2795, Test Accuracy: 89.64%\n",
      "\n"
     ]
    },
    {
     "name": "stderr",
     "output_type": "stream",
     "text": [
      "Epoch 138: 100%|██████████| 938/938 [00:21<00:00, 44.46batch/s, Train Loss=0.411, Train Acc=84.5]\n"
     ]
    },
    {
     "name": "stdout",
     "output_type": "stream",
     "text": [
      "Epoch 138\n",
      "Train Loss: 0.4110, Train Accuracy: 84.54%\n",
      "Test Loss: 0.2795, Test Accuracy: 90.03%\n",
      "\n"
     ]
    },
    {
     "name": "stderr",
     "output_type": "stream",
     "text": [
      "Epoch 139: 100%|██████████| 938/938 [00:21<00:00, 44.58batch/s, Train Loss=0.407, Train Acc=84.6]\n"
     ]
    },
    {
     "name": "stdout",
     "output_type": "stream",
     "text": [
      "Epoch 139\n",
      "Train Loss: 0.4070, Train Accuracy: 84.61%\n",
      "Test Loss: 0.2835, Test Accuracy: 89.93%\n",
      "\n"
     ]
    },
    {
     "name": "stderr",
     "output_type": "stream",
     "text": [
      "Epoch 140: 100%|██████████| 938/938 [00:21<00:00, 44.34batch/s, Train Loss=0.41, Train Acc=84.6] \n"
     ]
    },
    {
     "name": "stdout",
     "output_type": "stream",
     "text": [
      "Epoch 140\n",
      "Train Loss: 0.4096, Train Accuracy: 84.58%\n",
      "Test Loss: 0.2831, Test Accuracy: 89.97%\n",
      "\n"
     ]
    },
    {
     "name": "stderr",
     "output_type": "stream",
     "text": [
      "Epoch 141: 100%|██████████| 938/938 [00:21<00:00, 44.39batch/s, Train Loss=0.408, Train Acc=84.6]\n"
     ]
    },
    {
     "name": "stdout",
     "output_type": "stream",
     "text": [
      "Epoch 141\n",
      "Train Loss: 0.4082, Train Accuracy: 84.64%\n",
      "Test Loss: 0.2805, Test Accuracy: 89.81%\n",
      "\n"
     ]
    },
    {
     "name": "stderr",
     "output_type": "stream",
     "text": [
      "Epoch 142: 100%|██████████| 938/938 [00:21<00:00, 44.14batch/s, Train Loss=0.41, Train Acc=84.5] \n"
     ]
    },
    {
     "name": "stdout",
     "output_type": "stream",
     "text": [
      "Epoch 142\n",
      "Train Loss: 0.4104, Train Accuracy: 84.46%\n",
      "Test Loss: 0.2771, Test Accuracy: 89.75%\n",
      "\n"
     ]
    },
    {
     "name": "stderr",
     "output_type": "stream",
     "text": [
      "Epoch 143: 100%|██████████| 938/938 [00:20<00:00, 45.06batch/s, Train Loss=0.409, Train Acc=84.5]\n"
     ]
    },
    {
     "name": "stdout",
     "output_type": "stream",
     "text": [
      "Epoch 143\n",
      "Train Loss: 0.4087, Train Accuracy: 84.45%\n",
      "Test Loss: 0.2825, Test Accuracy: 90.14%\n",
      "\n"
     ]
    },
    {
     "name": "stderr",
     "output_type": "stream",
     "text": [
      "Epoch 144: 100%|██████████| 938/938 [00:21<00:00, 44.37batch/s, Train Loss=0.407, Train Acc=84.6]\n"
     ]
    },
    {
     "name": "stdout",
     "output_type": "stream",
     "text": [
      "Epoch 144\n",
      "Train Loss: 0.4075, Train Accuracy: 84.57%\n",
      "Test Loss: 0.2799, Test Accuracy: 89.99%\n",
      "\n"
     ]
    },
    {
     "name": "stderr",
     "output_type": "stream",
     "text": [
      "Epoch 145: 100%|██████████| 938/938 [00:21<00:00, 43.39batch/s, Train Loss=0.405, Train Acc=84.8]\n"
     ]
    },
    {
     "name": "stdout",
     "output_type": "stream",
     "text": [
      "Epoch 145\n",
      "Train Loss: 0.4046, Train Accuracy: 84.78%\n",
      "Test Loss: 0.2839, Test Accuracy: 89.79%\n",
      "\n"
     ]
    },
    {
     "name": "stderr",
     "output_type": "stream",
     "text": [
      "Epoch 146: 100%|██████████| 938/938 [00:21<00:00, 44.15batch/s, Train Loss=0.407, Train Acc=84.7]\n"
     ]
    },
    {
     "name": "stdout",
     "output_type": "stream",
     "text": [
      "Epoch 146\n",
      "Train Loss: 0.4068, Train Accuracy: 84.72%\n",
      "Test Loss: 0.2836, Test Accuracy: 89.83%\n",
      "\n"
     ]
    },
    {
     "name": "stderr",
     "output_type": "stream",
     "text": [
      "Epoch 147: 100%|██████████| 938/938 [00:21<00:00, 44.19batch/s, Train Loss=0.408, Train Acc=84.7]\n"
     ]
    },
    {
     "name": "stdout",
     "output_type": "stream",
     "text": [
      "Epoch 147\n",
      "Train Loss: 0.4075, Train Accuracy: 84.67%\n",
      "Test Loss: 0.2825, Test Accuracy: 89.77%\n",
      "\n"
     ]
    },
    {
     "name": "stderr",
     "output_type": "stream",
     "text": [
      "Epoch 148: 100%|██████████| 938/938 [00:21<00:00, 44.22batch/s, Train Loss=0.409, Train Acc=84.5]\n"
     ]
    },
    {
     "name": "stdout",
     "output_type": "stream",
     "text": [
      "Epoch 148\n",
      "Train Loss: 0.4091, Train Accuracy: 84.51%\n",
      "Test Loss: 0.2801, Test Accuracy: 89.92%\n",
      "\n"
     ]
    },
    {
     "name": "stderr",
     "output_type": "stream",
     "text": [
      "Epoch 149: 100%|██████████| 938/938 [00:21<00:00, 43.41batch/s, Train Loss=0.409, Train Acc=84.6]\n"
     ]
    },
    {
     "name": "stdout",
     "output_type": "stream",
     "text": [
      "Epoch 149\n",
      "Train Loss: 0.4085, Train Accuracy: 84.59%\n",
      "Test Loss: 0.2778, Test Accuracy: 90.18%\n",
      "\n"
     ]
    },
    {
     "name": "stderr",
     "output_type": "stream",
     "text": [
      "Epoch 150: 100%|██████████| 938/938 [00:22<00:00, 42.41batch/s, Train Loss=0.406, Train Acc=84.6]\n"
     ]
    },
    {
     "name": "stdout",
     "output_type": "stream",
     "text": [
      "Epoch 150\n",
      "Train Loss: 0.4063, Train Accuracy: 84.56%\n",
      "Test Loss: 0.2852, Test Accuracy: 89.63%\n",
      "\n"
     ]
    },
    {
     "name": "stderr",
     "output_type": "stream",
     "text": [
      "Epoch 151: 100%|██████████| 938/938 [00:21<00:00, 44.44batch/s, Train Loss=0.407, Train Acc=84.7]\n"
     ]
    },
    {
     "name": "stdout",
     "output_type": "stream",
     "text": [
      "Epoch 151\n",
      "Train Loss: 0.4067, Train Accuracy: 84.74%\n",
      "Test Loss: 0.2783, Test Accuracy: 89.86%\n",
      "\n"
     ]
    },
    {
     "name": "stderr",
     "output_type": "stream",
     "text": [
      "Epoch 152: 100%|██████████| 938/938 [00:21<00:00, 44.33batch/s, Train Loss=0.407, Train Acc=84.6]\n"
     ]
    },
    {
     "name": "stdout",
     "output_type": "stream",
     "text": [
      "Epoch 152\n",
      "Train Loss: 0.4073, Train Accuracy: 84.58%\n",
      "Test Loss: 0.2792, Test Accuracy: 89.73%\n",
      "\n"
     ]
    },
    {
     "name": "stderr",
     "output_type": "stream",
     "text": [
      "Epoch 153: 100%|██████████| 938/938 [00:21<00:00, 43.63batch/s, Train Loss=0.411, Train Acc=84.3]\n"
     ]
    },
    {
     "name": "stdout",
     "output_type": "stream",
     "text": [
      "Epoch 153\n",
      "Train Loss: 0.4113, Train Accuracy: 84.31%\n",
      "Test Loss: 0.2832, Test Accuracy: 89.85%\n",
      "\n"
     ]
    },
    {
     "name": "stderr",
     "output_type": "stream",
     "text": [
      "Epoch 154: 100%|██████████| 938/938 [00:21<00:00, 44.43batch/s, Train Loss=0.406, Train Acc=84.8]\n"
     ]
    },
    {
     "name": "stdout",
     "output_type": "stream",
     "text": [
      "Epoch 154\n",
      "Train Loss: 0.4057, Train Accuracy: 84.80%\n",
      "Test Loss: 0.2776, Test Accuracy: 90.11%\n",
      "\n"
     ]
    },
    {
     "name": "stderr",
     "output_type": "stream",
     "text": [
      "Epoch 155: 100%|██████████| 938/938 [00:20<00:00, 45.10batch/s, Train Loss=0.407, Train Acc=84.6]\n"
     ]
    },
    {
     "name": "stdout",
     "output_type": "stream",
     "text": [
      "Epoch 155\n",
      "Train Loss: 0.4074, Train Accuracy: 84.59%\n",
      "Test Loss: 0.2771, Test Accuracy: 90.24%\n",
      "\n"
     ]
    },
    {
     "name": "stderr",
     "output_type": "stream",
     "text": [
      "Epoch 156: 100%|██████████| 938/938 [00:20<00:00, 44.85batch/s, Train Loss=0.403, Train Acc=84.8]\n"
     ]
    },
    {
     "name": "stdout",
     "output_type": "stream",
     "text": [
      "Epoch 156\n",
      "Train Loss: 0.4035, Train Accuracy: 84.83%\n",
      "Test Loss: 0.2846, Test Accuracy: 89.81%\n",
      "\n"
     ]
    },
    {
     "name": "stderr",
     "output_type": "stream",
     "text": [
      "Epoch 157: 100%|██████████| 938/938 [00:21<00:00, 44.64batch/s, Train Loss=0.405, Train Acc=84.8]\n"
     ]
    },
    {
     "name": "stdout",
     "output_type": "stream",
     "text": [
      "Epoch 157\n",
      "Train Loss: 0.4049, Train Accuracy: 84.79%\n",
      "Test Loss: 0.2866, Test Accuracy: 89.57%\n",
      "\n"
     ]
    },
    {
     "name": "stderr",
     "output_type": "stream",
     "text": [
      "Epoch 158: 100%|██████████| 938/938 [00:20<00:00, 44.94batch/s, Train Loss=0.407, Train Acc=84.6]\n"
     ]
    },
    {
     "name": "stdout",
     "output_type": "stream",
     "text": [
      "Epoch 158\n",
      "Train Loss: 0.4071, Train Accuracy: 84.64%\n",
      "Test Loss: 0.2849, Test Accuracy: 90.03%\n",
      "\n"
     ]
    },
    {
     "name": "stderr",
     "output_type": "stream",
     "text": [
      "Epoch 159: 100%|██████████| 938/938 [00:20<00:00, 44.91batch/s, Train Loss=0.404, Train Acc=84.7]\n"
     ]
    },
    {
     "name": "stdout",
     "output_type": "stream",
     "text": [
      "Epoch 159\n",
      "Train Loss: 0.4039, Train Accuracy: 84.70%\n",
      "Test Loss: 0.2795, Test Accuracy: 90.09%\n",
      "\n"
     ]
    },
    {
     "name": "stderr",
     "output_type": "stream",
     "text": [
      "Epoch 160: 100%|██████████| 938/938 [00:21<00:00, 44.60batch/s, Train Loss=0.402, Train Acc=84.9]\n"
     ]
    },
    {
     "name": "stdout",
     "output_type": "stream",
     "text": [
      "Epoch 160\n",
      "Train Loss: 0.4023, Train Accuracy: 84.89%\n",
      "Test Loss: 0.2771, Test Accuracy: 89.95%\n",
      "\n"
     ]
    },
    {
     "name": "stderr",
     "output_type": "stream",
     "text": [
      "Epoch 161: 100%|██████████| 938/938 [00:20<00:00, 45.31batch/s, Train Loss=0.402, Train Acc=85]  \n"
     ]
    },
    {
     "name": "stdout",
     "output_type": "stream",
     "text": [
      "Epoch 161\n",
      "Train Loss: 0.4020, Train Accuracy: 85.03%\n",
      "Test Loss: 0.2752, Test Accuracy: 90.02%\n",
      "\n"
     ]
    },
    {
     "name": "stderr",
     "output_type": "stream",
     "text": [
      "Epoch 162: 100%|██████████| 938/938 [00:20<00:00, 45.21batch/s, Train Loss=0.401, Train Acc=84.8]\n"
     ]
    },
    {
     "name": "stdout",
     "output_type": "stream",
     "text": [
      "Epoch 162\n",
      "Train Loss: 0.4014, Train Accuracy: 84.80%\n",
      "Test Loss: 0.2850, Test Accuracy: 89.87%\n",
      "\n"
     ]
    },
    {
     "name": "stderr",
     "output_type": "stream",
     "text": [
      "Epoch 163: 100%|██████████| 938/938 [00:20<00:00, 45.58batch/s, Train Loss=0.41, Train Acc=84.6] \n"
     ]
    },
    {
     "name": "stdout",
     "output_type": "stream",
     "text": [
      "Epoch 163\n",
      "Train Loss: 0.4099, Train Accuracy: 84.62%\n",
      "Test Loss: 0.2838, Test Accuracy: 89.61%\n",
      "\n"
     ]
    },
    {
     "name": "stderr",
     "output_type": "stream",
     "text": [
      "Epoch 164: 100%|██████████| 938/938 [00:20<00:00, 45.21batch/s, Train Loss=0.404, Train Acc=84.6]\n"
     ]
    },
    {
     "name": "stdout",
     "output_type": "stream",
     "text": [
      "Epoch 164\n",
      "Train Loss: 0.4036, Train Accuracy: 84.62%\n",
      "Test Loss: 0.2793, Test Accuracy: 90.06%\n",
      "\n"
     ]
    },
    {
     "name": "stderr",
     "output_type": "stream",
     "text": [
      "Epoch 165: 100%|██████████| 938/938 [00:20<00:00, 45.18batch/s, Train Loss=0.408, Train Acc=84.5]\n"
     ]
    },
    {
     "name": "stdout",
     "output_type": "stream",
     "text": [
      "Epoch 165\n",
      "Train Loss: 0.4082, Train Accuracy: 84.54%\n",
      "Test Loss: 0.2796, Test Accuracy: 90.06%\n",
      "\n"
     ]
    },
    {
     "name": "stderr",
     "output_type": "stream",
     "text": [
      "Epoch 166: 100%|██████████| 938/938 [00:20<00:00, 44.93batch/s, Train Loss=0.401, Train Acc=84.9]\n"
     ]
    },
    {
     "name": "stdout",
     "output_type": "stream",
     "text": [
      "Epoch 166\n",
      "Train Loss: 0.4009, Train Accuracy: 84.90%\n",
      "Test Loss: 0.2818, Test Accuracy: 89.96%\n",
      "\n"
     ]
    },
    {
     "name": "stderr",
     "output_type": "stream",
     "text": [
      "Epoch 167: 100%|██████████| 938/938 [00:20<00:00, 45.61batch/s, Train Loss=0.403, Train Acc=84.8]\n"
     ]
    },
    {
     "name": "stdout",
     "output_type": "stream",
     "text": [
      "Epoch 167\n",
      "Train Loss: 0.4027, Train Accuracy: 84.79%\n",
      "Test Loss: 0.2728, Test Accuracy: 90.16%\n",
      "\n"
     ]
    },
    {
     "name": "stderr",
     "output_type": "stream",
     "text": [
      "Epoch 168: 100%|██████████| 938/938 [00:20<00:00, 45.05batch/s, Train Loss=0.405, Train Acc=84.7]\n"
     ]
    },
    {
     "name": "stdout",
     "output_type": "stream",
     "text": [
      "Epoch 168\n",
      "Train Loss: 0.4051, Train Accuracy: 84.69%\n",
      "Test Loss: 0.2807, Test Accuracy: 89.93%\n",
      "\n"
     ]
    },
    {
     "name": "stderr",
     "output_type": "stream",
     "text": [
      "Epoch 169: 100%|██████████| 938/938 [00:20<00:00, 45.54batch/s, Train Loss=0.402, Train Acc=84.8]\n"
     ]
    },
    {
     "name": "stdout",
     "output_type": "stream",
     "text": [
      "Epoch 169\n",
      "Train Loss: 0.4023, Train Accuracy: 84.83%\n",
      "Test Loss: 0.2783, Test Accuracy: 89.97%\n",
      "\n"
     ]
    },
    {
     "name": "stderr",
     "output_type": "stream",
     "text": [
      "Epoch 170: 100%|██████████| 938/938 [00:20<00:00, 45.11batch/s, Train Loss=0.404, Train Acc=84.7]\n"
     ]
    },
    {
     "name": "stdout",
     "output_type": "stream",
     "text": [
      "Epoch 170\n",
      "Train Loss: 0.4038, Train Accuracy: 84.66%\n",
      "Test Loss: 0.2797, Test Accuracy: 90.00%\n",
      "\n"
     ]
    },
    {
     "name": "stderr",
     "output_type": "stream",
     "text": [
      "Epoch 171: 100%|██████████| 938/938 [00:20<00:00, 45.30batch/s, Train Loss=0.402, Train Acc=84.6]\n"
     ]
    },
    {
     "name": "stdout",
     "output_type": "stream",
     "text": [
      "Epoch 171\n",
      "Train Loss: 0.4020, Train Accuracy: 84.64%\n",
      "Test Loss: 0.2772, Test Accuracy: 89.99%\n",
      "\n"
     ]
    },
    {
     "name": "stderr",
     "output_type": "stream",
     "text": [
      "Epoch 172: 100%|██████████| 938/938 [00:21<00:00, 44.49batch/s, Train Loss=0.401, Train Acc=84.8]\n"
     ]
    },
    {
     "name": "stdout",
     "output_type": "stream",
     "text": [
      "Epoch 172\n",
      "Train Loss: 0.4008, Train Accuracy: 84.84%\n",
      "Test Loss: 0.2764, Test Accuracy: 90.06%\n",
      "\n"
     ]
    },
    {
     "name": "stderr",
     "output_type": "stream",
     "text": [
      "Epoch 173: 100%|██████████| 938/938 [00:20<00:00, 44.86batch/s, Train Loss=0.402, Train Acc=84.9]\n"
     ]
    },
    {
     "name": "stdout",
     "output_type": "stream",
     "text": [
      "Epoch 173\n",
      "Train Loss: 0.4024, Train Accuracy: 84.90%\n",
      "Test Loss: 0.2751, Test Accuracy: 89.97%\n",
      "\n"
     ]
    },
    {
     "name": "stderr",
     "output_type": "stream",
     "text": [
      "Epoch 174: 100%|██████████| 938/938 [00:20<00:00, 44.84batch/s, Train Loss=0.402, Train Acc=84.6]\n"
     ]
    },
    {
     "name": "stdout",
     "output_type": "stream",
     "text": [
      "Epoch 174\n",
      "Train Loss: 0.4023, Train Accuracy: 84.64%\n",
      "Test Loss: 0.2774, Test Accuracy: 89.94%\n",
      "\n"
     ]
    },
    {
     "name": "stderr",
     "output_type": "stream",
     "text": [
      "Epoch 175: 100%|██████████| 938/938 [00:21<00:00, 44.13batch/s, Train Loss=0.401, Train Acc=84.8]\n"
     ]
    },
    {
     "name": "stdout",
     "output_type": "stream",
     "text": [
      "Epoch 175\n",
      "Train Loss: 0.4012, Train Accuracy: 84.76%\n",
      "Test Loss: 0.2714, Test Accuracy: 90.17%\n",
      "\n"
     ]
    },
    {
     "name": "stderr",
     "output_type": "stream",
     "text": [
      "Epoch 176: 100%|██████████| 938/938 [00:20<00:00, 44.67batch/s, Train Loss=0.397, Train Acc=85]  \n"
     ]
    },
    {
     "name": "stdout",
     "output_type": "stream",
     "text": [
      "Epoch 176\n",
      "Train Loss: 0.3970, Train Accuracy: 84.95%\n",
      "Test Loss: 0.2773, Test Accuracy: 90.02%\n",
      "\n"
     ]
    },
    {
     "name": "stderr",
     "output_type": "stream",
     "text": [
      "Epoch 177: 100%|██████████| 938/938 [00:20<00:00, 44.69batch/s, Train Loss=0.405, Train Acc=84.8]\n"
     ]
    },
    {
     "name": "stdout",
     "output_type": "stream",
     "text": [
      "Epoch 177\n",
      "Train Loss: 0.4050, Train Accuracy: 84.75%\n",
      "Test Loss: 0.2820, Test Accuracy: 90.00%\n",
      "\n"
     ]
    },
    {
     "name": "stderr",
     "output_type": "stream",
     "text": [
      "Epoch 178: 100%|██████████| 938/938 [00:21<00:00, 44.56batch/s, Train Loss=0.404, Train Acc=84.7]\n"
     ]
    },
    {
     "name": "stdout",
     "output_type": "stream",
     "text": [
      "Epoch 178\n",
      "Train Loss: 0.4045, Train Accuracy: 84.73%\n",
      "Test Loss: 0.2784, Test Accuracy: 90.06%\n",
      "\n"
     ]
    },
    {
     "name": "stderr",
     "output_type": "stream",
     "text": [
      "Epoch 179: 100%|██████████| 938/938 [00:20<00:00, 45.22batch/s, Train Loss=0.4, Train Acc=85]    \n"
     ]
    },
    {
     "name": "stdout",
     "output_type": "stream",
     "text": [
      "Epoch 179\n",
      "Train Loss: 0.3996, Train Accuracy: 85.01%\n",
      "Test Loss: 0.2744, Test Accuracy: 90.16%\n",
      "\n"
     ]
    },
    {
     "name": "stderr",
     "output_type": "stream",
     "text": [
      "Epoch 180: 100%|██████████| 938/938 [00:20<00:00, 45.40batch/s, Train Loss=0.4, Train Acc=85.1]  \n"
     ]
    },
    {
     "name": "stdout",
     "output_type": "stream",
     "text": [
      "Epoch 180\n",
      "Train Loss: 0.4002, Train Accuracy: 85.08%\n",
      "Test Loss: 0.2704, Test Accuracy: 90.27%\n",
      "\n"
     ]
    },
    {
     "name": "stderr",
     "output_type": "stream",
     "text": [
      "Epoch 181: 100%|██████████| 938/938 [00:20<00:00, 45.23batch/s, Train Loss=0.399, Train Acc=84.9]\n"
     ]
    },
    {
     "name": "stdout",
     "output_type": "stream",
     "text": [
      "Epoch 181\n",
      "Train Loss: 0.3995, Train Accuracy: 84.93%\n",
      "Test Loss: 0.2728, Test Accuracy: 90.17%\n",
      "\n"
     ]
    },
    {
     "name": "stderr",
     "output_type": "stream",
     "text": [
      "Epoch 182: 100%|██████████| 938/938 [00:20<00:00, 44.67batch/s, Train Loss=0.405, Train Acc=84.7]\n"
     ]
    },
    {
     "name": "stdout",
     "output_type": "stream",
     "text": [
      "Epoch 182\n",
      "Train Loss: 0.4054, Train Accuracy: 84.74%\n",
      "Test Loss: 0.2737, Test Accuracy: 90.13%\n",
      "\n"
     ]
    },
    {
     "name": "stderr",
     "output_type": "stream",
     "text": [
      "Epoch 183: 100%|██████████| 938/938 [00:21<00:00, 44.44batch/s, Train Loss=0.401, Train Acc=84.9]\n"
     ]
    },
    {
     "name": "stdout",
     "output_type": "stream",
     "text": [
      "Epoch 183\n",
      "Train Loss: 0.4005, Train Accuracy: 84.93%\n",
      "Test Loss: 0.2795, Test Accuracy: 89.87%\n",
      "\n"
     ]
    },
    {
     "name": "stderr",
     "output_type": "stream",
     "text": [
      "Epoch 184: 100%|██████████| 938/938 [00:20<00:00, 44.80batch/s, Train Loss=0.402, Train Acc=84.8]\n"
     ]
    },
    {
     "name": "stdout",
     "output_type": "stream",
     "text": [
      "Epoch 184\n",
      "Train Loss: 0.4016, Train Accuracy: 84.79%\n",
      "Test Loss: 0.2745, Test Accuracy: 90.24%\n",
      "\n"
     ]
    },
    {
     "name": "stderr",
     "output_type": "stream",
     "text": [
      "Epoch 185: 100%|██████████| 938/938 [00:21<00:00, 44.40batch/s, Train Loss=0.403, Train Acc=84.7]\n"
     ]
    },
    {
     "name": "stdout",
     "output_type": "stream",
     "text": [
      "Epoch 185\n",
      "Train Loss: 0.4032, Train Accuracy: 84.74%\n",
      "Test Loss: 0.2765, Test Accuracy: 90.08%\n",
      "\n"
     ]
    },
    {
     "name": "stderr",
     "output_type": "stream",
     "text": [
      "Epoch 186: 100%|██████████| 938/938 [00:20<00:00, 45.13batch/s, Train Loss=0.403, Train Acc=84.8]\n"
     ]
    },
    {
     "name": "stdout",
     "output_type": "stream",
     "text": [
      "Epoch 186\n",
      "Train Loss: 0.4034, Train Accuracy: 84.77%\n",
      "Test Loss: 0.2756, Test Accuracy: 90.09%\n",
      "\n"
     ]
    },
    {
     "name": "stderr",
     "output_type": "stream",
     "text": [
      "Epoch 187: 100%|██████████| 938/938 [00:20<00:00, 45.09batch/s, Train Loss=0.404, Train Acc=84.7]\n"
     ]
    },
    {
     "name": "stdout",
     "output_type": "stream",
     "text": [
      "Epoch 187\n",
      "Train Loss: 0.4043, Train Accuracy: 84.67%\n",
      "Test Loss: 0.2744, Test Accuracy: 90.00%\n",
      "\n"
     ]
    },
    {
     "name": "stderr",
     "output_type": "stream",
     "text": [
      "Epoch 188: 100%|██████████| 938/938 [00:20<00:00, 44.98batch/s, Train Loss=0.401, Train Acc=84.7]\n"
     ]
    },
    {
     "name": "stdout",
     "output_type": "stream",
     "text": [
      "Epoch 188\n",
      "Train Loss: 0.4011, Train Accuracy: 84.67%\n",
      "Test Loss: 0.2723, Test Accuracy: 90.06%\n",
      "\n"
     ]
    },
    {
     "name": "stderr",
     "output_type": "stream",
     "text": [
      "Epoch 189: 100%|██████████| 938/938 [00:21<00:00, 44.31batch/s, Train Loss=0.399, Train Acc=85]  \n"
     ]
    },
    {
     "name": "stdout",
     "output_type": "stream",
     "text": [
      "Epoch 189\n",
      "Train Loss: 0.3987, Train Accuracy: 84.96%\n",
      "Test Loss: 0.2761, Test Accuracy: 90.21%\n",
      "\n"
     ]
    },
    {
     "name": "stderr",
     "output_type": "stream",
     "text": [
      "Epoch 190: 100%|██████████| 938/938 [00:21<00:00, 44.66batch/s, Train Loss=0.403, Train Acc=84.8]\n"
     ]
    },
    {
     "name": "stdout",
     "output_type": "stream",
     "text": [
      "Epoch 190\n",
      "Train Loss: 0.4032, Train Accuracy: 84.85%\n",
      "Test Loss: 0.2745, Test Accuracy: 90.18%\n",
      "\n"
     ]
    },
    {
     "name": "stderr",
     "output_type": "stream",
     "text": [
      "Epoch 191: 100%|██████████| 938/938 [00:21<00:00, 44.30batch/s, Train Loss=0.399, Train Acc=84.9]\n"
     ]
    },
    {
     "name": "stdout",
     "output_type": "stream",
     "text": [
      "Epoch 191\n",
      "Train Loss: 0.3991, Train Accuracy: 84.95%\n",
      "Test Loss: 0.2775, Test Accuracy: 90.02%\n",
      "\n"
     ]
    },
    {
     "name": "stderr",
     "output_type": "stream",
     "text": [
      "Epoch 192: 100%|██████████| 938/938 [00:21<00:00, 44.11batch/s, Train Loss=0.405, Train Acc=84.8]\n"
     ]
    },
    {
     "name": "stdout",
     "output_type": "stream",
     "text": [
      "Epoch 192\n",
      "Train Loss: 0.4045, Train Accuracy: 84.77%\n",
      "Test Loss: 0.2741, Test Accuracy: 90.15%\n",
      "\n"
     ]
    },
    {
     "name": "stderr",
     "output_type": "stream",
     "text": [
      "Epoch 193: 100%|██████████| 938/938 [00:21<00:00, 44.45batch/s, Train Loss=0.403, Train Acc=84.6]\n"
     ]
    },
    {
     "name": "stdout",
     "output_type": "stream",
     "text": [
      "Epoch 193\n",
      "Train Loss: 0.4034, Train Accuracy: 84.60%\n",
      "Test Loss: 0.2774, Test Accuracy: 89.98%\n",
      "\n"
     ]
    },
    {
     "name": "stderr",
     "output_type": "stream",
     "text": [
      "Epoch 194: 100%|██████████| 938/938 [00:20<00:00, 44.72batch/s, Train Loss=0.402, Train Acc=84.8]\n"
     ]
    },
    {
     "name": "stdout",
     "output_type": "stream",
     "text": [
      "Epoch 194\n",
      "Train Loss: 0.4015, Train Accuracy: 84.77%\n",
      "Test Loss: 0.2758, Test Accuracy: 90.14%\n",
      "\n"
     ]
    },
    {
     "name": "stderr",
     "output_type": "stream",
     "text": [
      "Epoch 195: 100%|██████████| 938/938 [00:20<00:00, 45.07batch/s, Train Loss=0.398, Train Acc=85.1]\n"
     ]
    },
    {
     "name": "stdout",
     "output_type": "stream",
     "text": [
      "Epoch 195\n",
      "Train Loss: 0.3977, Train Accuracy: 85.07%\n",
      "Test Loss: 0.2812, Test Accuracy: 90.12%\n",
      "\n"
     ]
    },
    {
     "name": "stderr",
     "output_type": "stream",
     "text": [
      "Epoch 196: 100%|██████████| 938/938 [00:21<00:00, 44.37batch/s, Train Loss=0.397, Train Acc=85]  \n"
     ]
    },
    {
     "name": "stdout",
     "output_type": "stream",
     "text": [
      "Epoch 196\n",
      "Train Loss: 0.3973, Train Accuracy: 84.98%\n",
      "Test Loss: 0.2763, Test Accuracy: 90.08%\n",
      "\n"
     ]
    },
    {
     "name": "stderr",
     "output_type": "stream",
     "text": [
      "Epoch 197: 100%|██████████| 938/938 [00:21<00:00, 43.98batch/s, Train Loss=0.397, Train Acc=85.1]\n"
     ]
    },
    {
     "name": "stdout",
     "output_type": "stream",
     "text": [
      "Epoch 197\n",
      "Train Loss: 0.3970, Train Accuracy: 85.06%\n",
      "Test Loss: 0.2754, Test Accuracy: 90.05%\n",
      "\n"
     ]
    },
    {
     "name": "stderr",
     "output_type": "stream",
     "text": [
      "Epoch 198: 100%|██████████| 938/938 [00:20<00:00, 44.80batch/s, Train Loss=0.39, Train Acc=85.2] \n"
     ]
    },
    {
     "name": "stdout",
     "output_type": "stream",
     "text": [
      "Epoch 198\n",
      "Train Loss: 0.3902, Train Accuracy: 85.20%\n",
      "Test Loss: 0.2756, Test Accuracy: 89.98%\n",
      "\n"
     ]
    },
    {
     "name": "stderr",
     "output_type": "stream",
     "text": [
      "Epoch 199: 100%|██████████| 938/938 [00:20<00:00, 44.85batch/s, Train Loss=0.398, Train Acc=85]  \n"
     ]
    },
    {
     "name": "stdout",
     "output_type": "stream",
     "text": [
      "Epoch 199\n",
      "Train Loss: 0.3977, Train Accuracy: 84.98%\n",
      "Test Loss: 0.2727, Test Accuracy: 90.08%\n",
      "\n"
     ]
    },
    {
     "name": "stderr",
     "output_type": "stream",
     "text": [
      "Epoch 200: 100%|██████████| 938/938 [00:20<00:00, 45.62batch/s, Train Loss=0.398, Train Acc=84.9]\n"
     ]
    },
    {
     "name": "stdout",
     "output_type": "stream",
     "text": [
      "Epoch 200\n",
      "Train Loss: 0.3978, Train Accuracy: 84.92%\n",
      "Test Loss: 0.2741, Test Accuracy: 90.06%\n",
      "\n"
     ]
    },
    {
     "name": "stderr",
     "output_type": "stream",
     "text": [
      "Epoch 201: 100%|██████████| 938/938 [00:20<00:00, 45.05batch/s, Train Loss=0.396, Train Acc=85.1]\n"
     ]
    },
    {
     "name": "stdout",
     "output_type": "stream",
     "text": [
      "Epoch 201\n",
      "Train Loss: 0.3963, Train Accuracy: 85.14%\n",
      "Test Loss: 0.2770, Test Accuracy: 89.92%\n",
      "\n"
     ]
    },
    {
     "name": "stderr",
     "output_type": "stream",
     "text": [
      "Epoch 202: 100%|██████████| 938/938 [00:21<00:00, 44.50batch/s, Train Loss=0.402, Train Acc=84.9]\n"
     ]
    },
    {
     "name": "stdout",
     "output_type": "stream",
     "text": [
      "Epoch 202\n",
      "Train Loss: 0.4020, Train Accuracy: 84.86%\n",
      "Test Loss: 0.2709, Test Accuracy: 90.24%\n",
      "\n"
     ]
    },
    {
     "name": "stderr",
     "output_type": "stream",
     "text": [
      "Epoch 203: 100%|██████████| 938/938 [00:20<00:00, 45.21batch/s, Train Loss=0.398, Train Acc=84.9]\n"
     ]
    },
    {
     "name": "stdout",
     "output_type": "stream",
     "text": [
      "Epoch 203\n",
      "Train Loss: 0.3977, Train Accuracy: 84.89%\n",
      "Test Loss: 0.2774, Test Accuracy: 89.99%\n",
      "\n"
     ]
    },
    {
     "name": "stderr",
     "output_type": "stream",
     "text": [
      "Epoch 204: 100%|██████████| 938/938 [00:20<00:00, 45.33batch/s, Train Loss=0.398, Train Acc=84.9]\n"
     ]
    },
    {
     "name": "stdout",
     "output_type": "stream",
     "text": [
      "Epoch 204\n",
      "Train Loss: 0.3978, Train Accuracy: 84.94%\n",
      "Test Loss: 0.2701, Test Accuracy: 90.25%\n",
      "\n"
     ]
    },
    {
     "name": "stderr",
     "output_type": "stream",
     "text": [
      "Epoch 205: 100%|██████████| 938/938 [00:21<00:00, 44.32batch/s, Train Loss=0.395, Train Acc=85]  \n"
     ]
    },
    {
     "name": "stdout",
     "output_type": "stream",
     "text": [
      "Epoch 205\n",
      "Train Loss: 0.3954, Train Accuracy: 84.97%\n",
      "Test Loss: 0.2736, Test Accuracy: 90.22%\n",
      "\n"
     ]
    },
    {
     "name": "stderr",
     "output_type": "stream",
     "text": [
      "Epoch 206: 100%|██████████| 938/938 [00:21<00:00, 44.62batch/s, Train Loss=0.4, Train Acc=84.8]  \n"
     ]
    },
    {
     "name": "stdout",
     "output_type": "stream",
     "text": [
      "Epoch 206\n",
      "Train Loss: 0.3999, Train Accuracy: 84.81%\n",
      "Test Loss: 0.2820, Test Accuracy: 90.10%\n",
      "\n"
     ]
    },
    {
     "name": "stderr",
     "output_type": "stream",
     "text": [
      "Epoch 207: 100%|██████████| 938/938 [00:21<00:00, 44.29batch/s, Train Loss=0.399, Train Acc=85]  \n"
     ]
    },
    {
     "name": "stdout",
     "output_type": "stream",
     "text": [
      "Epoch 207\n",
      "Train Loss: 0.3991, Train Accuracy: 84.96%\n",
      "Test Loss: 0.2752, Test Accuracy: 89.97%\n",
      "\n"
     ]
    },
    {
     "name": "stderr",
     "output_type": "stream",
     "text": [
      "Epoch 208: 100%|██████████| 938/938 [00:21<00:00, 44.46batch/s, Train Loss=0.398, Train Acc=84.9]\n"
     ]
    },
    {
     "name": "stdout",
     "output_type": "stream",
     "text": [
      "Epoch 208\n",
      "Train Loss: 0.3977, Train Accuracy: 84.88%\n",
      "Test Loss: 0.2734, Test Accuracy: 90.07%\n",
      "\n"
     ]
    },
    {
     "name": "stderr",
     "output_type": "stream",
     "text": [
      "Epoch 209: 100%|██████████| 938/938 [00:21<00:00, 43.90batch/s, Train Loss=0.396, Train Acc=85]  \n"
     ]
    },
    {
     "name": "stdout",
     "output_type": "stream",
     "text": [
      "Epoch 209\n",
      "Train Loss: 0.3959, Train Accuracy: 84.96%\n",
      "Test Loss: 0.2747, Test Accuracy: 89.94%\n",
      "\n"
     ]
    },
    {
     "name": "stderr",
     "output_type": "stream",
     "text": [
      "Epoch 210: 100%|██████████| 938/938 [00:20<00:00, 44.83batch/s, Train Loss=0.391, Train Acc=85.3]\n"
     ]
    },
    {
     "name": "stdout",
     "output_type": "stream",
     "text": [
      "Epoch 210\n",
      "Train Loss: 0.3908, Train Accuracy: 85.27%\n",
      "Test Loss: 0.2816, Test Accuracy: 89.77%\n",
      "\n"
     ]
    },
    {
     "name": "stderr",
     "output_type": "stream",
     "text": [
      "Epoch 211: 100%|██████████| 938/938 [00:20<00:00, 45.53batch/s, Train Loss=0.397, Train Acc=85]  \n"
     ]
    },
    {
     "name": "stdout",
     "output_type": "stream",
     "text": [
      "Epoch 211\n",
      "Train Loss: 0.3970, Train Accuracy: 85.01%\n",
      "Test Loss: 0.2765, Test Accuracy: 90.23%\n",
      "\n"
     ]
    },
    {
     "name": "stderr",
     "output_type": "stream",
     "text": [
      "Epoch 212: 100%|██████████| 938/938 [00:20<00:00, 45.12batch/s, Train Loss=0.397, Train Acc=85.1]\n"
     ]
    },
    {
     "name": "stdout",
     "output_type": "stream",
     "text": [
      "Epoch 212\n",
      "Train Loss: 0.3970, Train Accuracy: 85.06%\n",
      "Test Loss: 0.2760, Test Accuracy: 90.13%\n",
      "\n"
     ]
    },
    {
     "name": "stderr",
     "output_type": "stream",
     "text": [
      "Epoch 213: 100%|██████████| 938/938 [00:20<00:00, 44.93batch/s, Train Loss=0.401, Train Acc=85]  \n"
     ]
    },
    {
     "name": "stdout",
     "output_type": "stream",
     "text": [
      "Epoch 213\n",
      "Train Loss: 0.4009, Train Accuracy: 84.98%\n",
      "Test Loss: 0.2783, Test Accuracy: 89.94%\n",
      "\n"
     ]
    },
    {
     "name": "stderr",
     "output_type": "stream",
     "text": [
      "Epoch 214: 100%|██████████| 938/938 [00:20<00:00, 44.74batch/s, Train Loss=0.393, Train Acc=85.1]\n"
     ]
    },
    {
     "name": "stdout",
     "output_type": "stream",
     "text": [
      "Epoch 214\n",
      "Train Loss: 0.3934, Train Accuracy: 85.14%\n",
      "Test Loss: 0.2798, Test Accuracy: 89.95%\n",
      "\n"
     ]
    },
    {
     "name": "stderr",
     "output_type": "stream",
     "text": [
      "Epoch 215: 100%|██████████| 938/938 [00:20<00:00, 45.36batch/s, Train Loss=0.399, Train Acc=84.9]\n"
     ]
    },
    {
     "name": "stdout",
     "output_type": "stream",
     "text": [
      "Epoch 215\n",
      "Train Loss: 0.3990, Train Accuracy: 84.88%\n",
      "Test Loss: 0.2750, Test Accuracy: 90.27%\n",
      "\n"
     ]
    },
    {
     "name": "stderr",
     "output_type": "stream",
     "text": [
      "Epoch 216: 100%|██████████| 938/938 [00:21<00:00, 44.64batch/s, Train Loss=0.394, Train Acc=85.2]\n"
     ]
    },
    {
     "name": "stdout",
     "output_type": "stream",
     "text": [
      "Epoch 216\n",
      "Train Loss: 0.3936, Train Accuracy: 85.17%\n",
      "Test Loss: 0.2726, Test Accuracy: 90.35%\n",
      "\n"
     ]
    },
    {
     "name": "stderr",
     "output_type": "stream",
     "text": [
      "Epoch 217: 100%|██████████| 938/938 [00:20<00:00, 44.81batch/s, Train Loss=0.394, Train Acc=85.1]\n"
     ]
    },
    {
     "name": "stdout",
     "output_type": "stream",
     "text": [
      "Epoch 217\n",
      "Train Loss: 0.3940, Train Accuracy: 85.14%\n",
      "Test Loss: 0.2769, Test Accuracy: 90.12%\n",
      "\n"
     ]
    },
    {
     "name": "stderr",
     "output_type": "stream",
     "text": [
      "Epoch 218: 100%|██████████| 938/938 [00:20<00:00, 44.88batch/s, Train Loss=0.396, Train Acc=84.9]\n"
     ]
    },
    {
     "name": "stdout",
     "output_type": "stream",
     "text": [
      "Epoch 218\n",
      "Train Loss: 0.3964, Train Accuracy: 84.89%\n",
      "Test Loss: 0.2836, Test Accuracy: 89.75%\n",
      "\n"
     ]
    },
    {
     "name": "stderr",
     "output_type": "stream",
     "text": [
      "Epoch 219: 100%|██████████| 938/938 [00:20<00:00, 45.63batch/s, Train Loss=0.396, Train Acc=85]  \n"
     ]
    },
    {
     "name": "stdout",
     "output_type": "stream",
     "text": [
      "Epoch 219\n",
      "Train Loss: 0.3956, Train Accuracy: 85.00%\n",
      "Test Loss: 0.2745, Test Accuracy: 90.23%\n",
      "\n"
     ]
    },
    {
     "name": "stderr",
     "output_type": "stream",
     "text": [
      "Epoch 220: 100%|██████████| 938/938 [00:20<00:00, 45.31batch/s, Train Loss=0.395, Train Acc=84.9]\n"
     ]
    },
    {
     "name": "stdout",
     "output_type": "stream",
     "text": [
      "Epoch 220\n",
      "Train Loss: 0.3954, Train Accuracy: 84.94%\n",
      "Test Loss: 0.2772, Test Accuracy: 90.26%\n",
      "\n"
     ]
    },
    {
     "name": "stderr",
     "output_type": "stream",
     "text": [
      "Epoch 221: 100%|██████████| 938/938 [00:21<00:00, 43.57batch/s, Train Loss=0.393, Train Acc=85.2]\n"
     ]
    },
    {
     "name": "stdout",
     "output_type": "stream",
     "text": [
      "Epoch 221\n",
      "Train Loss: 0.3932, Train Accuracy: 85.21%\n",
      "Test Loss: 0.2797, Test Accuracy: 90.15%\n",
      "\n"
     ]
    },
    {
     "name": "stderr",
     "output_type": "stream",
     "text": [
      "Epoch 222: 100%|██████████| 938/938 [00:21<00:00, 44.07batch/s, Train Loss=0.397, Train Acc=85]  \n"
     ]
    },
    {
     "name": "stdout",
     "output_type": "stream",
     "text": [
      "Epoch 222\n",
      "Train Loss: 0.3966, Train Accuracy: 85.02%\n",
      "Test Loss: 0.2765, Test Accuracy: 90.00%\n",
      "\n"
     ]
    },
    {
     "name": "stderr",
     "output_type": "stream",
     "text": [
      "Epoch 223: 100%|██████████| 938/938 [00:21<00:00, 43.87batch/s, Train Loss=0.392, Train Acc=85.1]\n"
     ]
    },
    {
     "name": "stdout",
     "output_type": "stream",
     "text": [
      "Epoch 223\n",
      "Train Loss: 0.3923, Train Accuracy: 85.08%\n",
      "Test Loss: 0.2770, Test Accuracy: 89.96%\n",
      "\n"
     ]
    },
    {
     "name": "stderr",
     "output_type": "stream",
     "text": [
      "Epoch 224: 100%|██████████| 938/938 [00:21<00:00, 43.87batch/s, Train Loss=0.396, Train Acc=85]  \n"
     ]
    },
    {
     "name": "stdout",
     "output_type": "stream",
     "text": [
      "Epoch 224\n",
      "Train Loss: 0.3960, Train Accuracy: 85.02%\n",
      "Test Loss: 0.2758, Test Accuracy: 89.94%\n",
      "\n"
     ]
    },
    {
     "name": "stderr",
     "output_type": "stream",
     "text": [
      "Epoch 225: 100%|██████████| 938/938 [00:21<00:00, 42.78batch/s, Train Loss=0.394, Train Acc=85.3]\n"
     ]
    },
    {
     "name": "stdout",
     "output_type": "stream",
     "text": [
      "Epoch 225\n",
      "Train Loss: 0.3940, Train Accuracy: 85.26%\n",
      "Test Loss: 0.2744, Test Accuracy: 90.09%\n",
      "\n"
     ]
    },
    {
     "name": "stderr",
     "output_type": "stream",
     "text": [
      "Epoch 226: 100%|██████████| 938/938 [00:21<00:00, 44.32batch/s, Train Loss=0.397, Train Acc=84.8]\n"
     ]
    },
    {
     "name": "stdout",
     "output_type": "stream",
     "text": [
      "Epoch 226\n",
      "Train Loss: 0.3972, Train Accuracy: 84.84%\n",
      "Test Loss: 0.2767, Test Accuracy: 90.16%\n",
      "\n"
     ]
    },
    {
     "name": "stderr",
     "output_type": "stream",
     "text": [
      "Epoch 227: 100%|██████████| 938/938 [00:21<00:00, 42.96batch/s, Train Loss=0.396, Train Acc=85.1]\n"
     ]
    },
    {
     "name": "stdout",
     "output_type": "stream",
     "text": [
      "Epoch 227\n",
      "Train Loss: 0.3957, Train Accuracy: 85.06%\n",
      "Test Loss: 0.2737, Test Accuracy: 90.14%\n",
      "\n"
     ]
    },
    {
     "name": "stderr",
     "output_type": "stream",
     "text": [
      "Epoch 228: 100%|██████████| 938/938 [00:21<00:00, 44.22batch/s, Train Loss=0.395, Train Acc=85.1]\n"
     ]
    },
    {
     "name": "stdout",
     "output_type": "stream",
     "text": [
      "Epoch 228\n",
      "Train Loss: 0.3952, Train Accuracy: 85.12%\n",
      "Test Loss: 0.2737, Test Accuracy: 90.15%\n",
      "\n"
     ]
    },
    {
     "name": "stderr",
     "output_type": "stream",
     "text": [
      "Epoch 229: 100%|██████████| 938/938 [00:21<00:00, 44.46batch/s, Train Loss=0.394, Train Acc=85]  \n"
     ]
    },
    {
     "name": "stdout",
     "output_type": "stream",
     "text": [
      "Epoch 229\n",
      "Train Loss: 0.3945, Train Accuracy: 84.98%\n",
      "Test Loss: 0.2725, Test Accuracy: 90.20%\n",
      "\n"
     ]
    },
    {
     "name": "stderr",
     "output_type": "stream",
     "text": [
      "Epoch 230: 100%|██████████| 938/938 [00:21<00:00, 43.85batch/s, Train Loss=0.395, Train Acc=85.1]\n"
     ]
    },
    {
     "name": "stdout",
     "output_type": "stream",
     "text": [
      "Epoch 230\n",
      "Train Loss: 0.3954, Train Accuracy: 85.15%\n",
      "Test Loss: 0.2748, Test Accuracy: 90.32%\n",
      "\n"
     ]
    },
    {
     "name": "stderr",
     "output_type": "stream",
     "text": [
      "Epoch 231: 100%|██████████| 938/938 [00:21<00:00, 44.01batch/s, Train Loss=0.391, Train Acc=85.2]\n"
     ]
    },
    {
     "name": "stdout",
     "output_type": "stream",
     "text": [
      "Epoch 231\n",
      "Train Loss: 0.3906, Train Accuracy: 85.17%\n",
      "Test Loss: 0.2730, Test Accuracy: 90.34%\n",
      "\n"
     ]
    },
    {
     "name": "stderr",
     "output_type": "stream",
     "text": [
      "Epoch 232: 100%|██████████| 938/938 [00:21<00:00, 44.05batch/s, Train Loss=0.396, Train Acc=85.1]\n"
     ]
    },
    {
     "name": "stdout",
     "output_type": "stream",
     "text": [
      "Epoch 232\n",
      "Train Loss: 0.3956, Train Accuracy: 85.08%\n",
      "Test Loss: 0.2754, Test Accuracy: 90.33%\n",
      "\n"
     ]
    },
    {
     "name": "stderr",
     "output_type": "stream",
     "text": [
      "Epoch 233: 100%|██████████| 938/938 [00:21<00:00, 43.95batch/s, Train Loss=0.395, Train Acc=85.1]\n"
     ]
    },
    {
     "name": "stdout",
     "output_type": "stream",
     "text": [
      "Epoch 233\n",
      "Train Loss: 0.3950, Train Accuracy: 85.10%\n",
      "Test Loss: 0.2725, Test Accuracy: 90.25%\n",
      "\n"
     ]
    },
    {
     "name": "stderr",
     "output_type": "stream",
     "text": [
      "Epoch 234: 100%|██████████| 938/938 [00:21<00:00, 44.50batch/s, Train Loss=0.39, Train Acc=85.2] \n"
     ]
    },
    {
     "name": "stdout",
     "output_type": "stream",
     "text": [
      "Epoch 234\n",
      "Train Loss: 0.3904, Train Accuracy: 85.18%\n",
      "Test Loss: 0.2728, Test Accuracy: 90.07%\n",
      "\n"
     ]
    },
    {
     "name": "stderr",
     "output_type": "stream",
     "text": [
      "Epoch 235: 100%|██████████| 938/938 [00:21<00:00, 44.66batch/s, Train Loss=0.398, Train Acc=84.9]\n"
     ]
    },
    {
     "name": "stdout",
     "output_type": "stream",
     "text": [
      "Epoch 235\n",
      "Train Loss: 0.3981, Train Accuracy: 84.92%\n",
      "Test Loss: 0.2758, Test Accuracy: 90.12%\n",
      "\n"
     ]
    },
    {
     "name": "stderr",
     "output_type": "stream",
     "text": [
      "Epoch 236: 100%|██████████| 938/938 [00:20<00:00, 45.39batch/s, Train Loss=0.393, Train Acc=85.1]\n"
     ]
    },
    {
     "name": "stdout",
     "output_type": "stream",
     "text": [
      "Epoch 236\n",
      "Train Loss: 0.3934, Train Accuracy: 85.13%\n",
      "Test Loss: 0.2732, Test Accuracy: 90.21%\n",
      "\n"
     ]
    },
    {
     "name": "stderr",
     "output_type": "stream",
     "text": [
      "Epoch 237: 100%|██████████| 938/938 [00:20<00:00, 44.90batch/s, Train Loss=0.396, Train Acc=85.1]\n"
     ]
    },
    {
     "name": "stdout",
     "output_type": "stream",
     "text": [
      "Epoch 237\n",
      "Train Loss: 0.3956, Train Accuracy: 85.09%\n",
      "Test Loss: 0.2699, Test Accuracy: 90.33%\n",
      "\n"
     ]
    },
    {
     "name": "stderr",
     "output_type": "stream",
     "text": [
      "Epoch 238: 100%|██████████| 938/938 [00:20<00:00, 44.70batch/s, Train Loss=0.392, Train Acc=85]  \n"
     ]
    },
    {
     "name": "stdout",
     "output_type": "stream",
     "text": [
      "Epoch 238\n",
      "Train Loss: 0.3919, Train Accuracy: 85.04%\n",
      "Test Loss: 0.2713, Test Accuracy: 90.34%\n",
      "\n"
     ]
    },
    {
     "name": "stderr",
     "output_type": "stream",
     "text": [
      "Epoch 239: 100%|██████████| 938/938 [00:20<00:00, 45.07batch/s, Train Loss=0.393, Train Acc=85.1]\n"
     ]
    },
    {
     "name": "stdout",
     "output_type": "stream",
     "text": [
      "Epoch 239\n",
      "Train Loss: 0.3932, Train Accuracy: 85.09%\n",
      "Test Loss: 0.2770, Test Accuracy: 90.11%\n",
      "\n"
     ]
    },
    {
     "name": "stderr",
     "output_type": "stream",
     "text": [
      "Epoch 240: 100%|██████████| 938/938 [00:21<00:00, 44.28batch/s, Train Loss=0.393, Train Acc=85.1]\n"
     ]
    },
    {
     "name": "stdout",
     "output_type": "stream",
     "text": [
      "Epoch 240\n",
      "Train Loss: 0.3931, Train Accuracy: 85.11%\n",
      "Test Loss: 0.2723, Test Accuracy: 90.15%\n",
      "\n"
     ]
    },
    {
     "name": "stderr",
     "output_type": "stream",
     "text": [
      "Epoch 241: 100%|██████████| 938/938 [00:21<00:00, 44.33batch/s, Train Loss=0.393, Train Acc=85.2]\n"
     ]
    },
    {
     "name": "stdout",
     "output_type": "stream",
     "text": [
      "Epoch 241\n",
      "Train Loss: 0.3931, Train Accuracy: 85.16%\n",
      "Test Loss: 0.2758, Test Accuracy: 90.07%\n",
      "\n"
     ]
    },
    {
     "name": "stderr",
     "output_type": "stream",
     "text": [
      "Epoch 242: 100%|██████████| 938/938 [00:21<00:00, 44.47batch/s, Train Loss=0.393, Train Acc=85.1]\n"
     ]
    },
    {
     "name": "stdout",
     "output_type": "stream",
     "text": [
      "Epoch 242\n",
      "Train Loss: 0.3926, Train Accuracy: 85.15%\n",
      "Test Loss: 0.2710, Test Accuracy: 90.10%\n",
      "\n"
     ]
    },
    {
     "name": "stderr",
     "output_type": "stream",
     "text": [
      "Epoch 243: 100%|██████████| 938/938 [00:20<00:00, 44.76batch/s, Train Loss=0.389, Train Acc=85.3]\n"
     ]
    },
    {
     "name": "stdout",
     "output_type": "stream",
     "text": [
      "Epoch 243\n",
      "Train Loss: 0.3895, Train Accuracy: 85.30%\n",
      "Test Loss: 0.2711, Test Accuracy: 90.17%\n",
      "\n"
     ]
    },
    {
     "name": "stderr",
     "output_type": "stream",
     "text": [
      "Epoch 244: 100%|██████████| 938/938 [00:21<00:00, 44.07batch/s, Train Loss=0.393, Train Acc=85.2]\n"
     ]
    },
    {
     "name": "stdout",
     "output_type": "stream",
     "text": [
      "Epoch 244\n",
      "Train Loss: 0.3927, Train Accuracy: 85.18%\n",
      "Test Loss: 0.2714, Test Accuracy: 90.23%\n",
      "\n"
     ]
    },
    {
     "name": "stderr",
     "output_type": "stream",
     "text": [
      "Epoch 245: 100%|██████████| 938/938 [00:21<00:00, 43.91batch/s, Train Loss=0.387, Train Acc=85.2]\n"
     ]
    },
    {
     "name": "stdout",
     "output_type": "stream",
     "text": [
      "Epoch 245\n",
      "Train Loss: 0.3868, Train Accuracy: 85.20%\n",
      "Test Loss: 0.2706, Test Accuracy: 90.40%\n",
      "\n"
     ]
    },
    {
     "name": "stderr",
     "output_type": "stream",
     "text": [
      "Epoch 246: 100%|██████████| 938/938 [00:21<00:00, 43.90batch/s, Train Loss=0.39, Train Acc=85.3] \n"
     ]
    },
    {
     "name": "stdout",
     "output_type": "stream",
     "text": [
      "Epoch 246\n",
      "Train Loss: 0.3904, Train Accuracy: 85.33%\n",
      "Test Loss: 0.2704, Test Accuracy: 90.26%\n",
      "\n"
     ]
    },
    {
     "name": "stderr",
     "output_type": "stream",
     "text": [
      "Epoch 247: 100%|██████████| 938/938 [00:21<00:00, 44.48batch/s, Train Loss=0.391, Train Acc=85.2]\n"
     ]
    },
    {
     "name": "stdout",
     "output_type": "stream",
     "text": [
      "Epoch 247\n",
      "Train Loss: 0.3915, Train Accuracy: 85.22%\n",
      "Test Loss: 0.2752, Test Accuracy: 90.24%\n",
      "\n"
     ]
    },
    {
     "name": "stderr",
     "output_type": "stream",
     "text": [
      "Epoch 248: 100%|██████████| 938/938 [00:20<00:00, 44.90batch/s, Train Loss=0.391, Train Acc=85.3]\n"
     ]
    },
    {
     "name": "stdout",
     "output_type": "stream",
     "text": [
      "Epoch 248\n",
      "Train Loss: 0.3910, Train Accuracy: 85.33%\n",
      "Test Loss: 0.2728, Test Accuracy: 90.12%\n",
      "\n"
     ]
    },
    {
     "name": "stderr",
     "output_type": "stream",
     "text": [
      "Epoch 249: 100%|██████████| 938/938 [00:20<00:00, 45.04batch/s, Train Loss=0.389, Train Acc=85.3]\n"
     ]
    },
    {
     "name": "stdout",
     "output_type": "stream",
     "text": [
      "Epoch 249\n",
      "Train Loss: 0.3893, Train Accuracy: 85.32%\n",
      "Test Loss: 0.2678, Test Accuracy: 90.27%\n",
      "\n"
     ]
    },
    {
     "name": "stderr",
     "output_type": "stream",
     "text": [
      "Epoch 250: 100%|██████████| 938/938 [00:20<00:00, 46.46batch/s, Train Loss=0.391, Train Acc=85.1]\n"
     ]
    },
    {
     "name": "stdout",
     "output_type": "stream",
     "text": [
      "Epoch 250\n",
      "Train Loss: 0.3905, Train Accuracy: 85.11%\n",
      "Test Loss: 0.2724, Test Accuracy: 90.23%\n",
      "\n"
     ]
    },
    {
     "name": "stderr",
     "output_type": "stream",
     "text": [
      "Epoch 251: 100%|██████████| 938/938 [00:19<00:00, 47.23batch/s, Train Loss=0.394, Train Acc=85.1]\n"
     ]
    },
    {
     "name": "stdout",
     "output_type": "stream",
     "text": [
      "Epoch 251\n",
      "Train Loss: 0.3936, Train Accuracy: 85.11%\n",
      "Test Loss: 0.2684, Test Accuracy: 90.17%\n",
      "\n"
     ]
    },
    {
     "name": "stderr",
     "output_type": "stream",
     "text": [
      "Epoch 252: 100%|██████████| 938/938 [00:20<00:00, 46.24batch/s, Train Loss=0.395, Train Acc=85]  \n"
     ]
    },
    {
     "name": "stdout",
     "output_type": "stream",
     "text": [
      "Epoch 252\n",
      "Train Loss: 0.3949, Train Accuracy: 85.00%\n",
      "Test Loss: 0.2699, Test Accuracy: 90.28%\n",
      "\n"
     ]
    },
    {
     "name": "stderr",
     "output_type": "stream",
     "text": [
      "Epoch 253: 100%|██████████| 938/938 [00:20<00:00, 45.84batch/s, Train Loss=0.39, Train Acc=85.1] \n"
     ]
    },
    {
     "name": "stdout",
     "output_type": "stream",
     "text": [
      "Epoch 253\n",
      "Train Loss: 0.3896, Train Accuracy: 85.08%\n",
      "Test Loss: 0.2728, Test Accuracy: 90.13%\n",
      "\n"
     ]
    },
    {
     "name": "stderr",
     "output_type": "stream",
     "text": [
      "Epoch 254: 100%|██████████| 938/938 [00:20<00:00, 45.29batch/s, Train Loss=0.391, Train Acc=85]  \n"
     ]
    },
    {
     "name": "stdout",
     "output_type": "stream",
     "text": [
      "Epoch 254\n",
      "Train Loss: 0.3913, Train Accuracy: 85.02%\n",
      "Test Loss: 0.2716, Test Accuracy: 90.39%\n",
      "\n"
     ]
    },
    {
     "name": "stderr",
     "output_type": "stream",
     "text": [
      "Epoch 255: 100%|██████████| 938/938 [00:20<00:00, 46.01batch/s, Train Loss=0.391, Train Acc=85.3]\n"
     ]
    },
    {
     "name": "stdout",
     "output_type": "stream",
     "text": [
      "Epoch 255\n",
      "Train Loss: 0.3909, Train Accuracy: 85.30%\n",
      "Test Loss: 0.2726, Test Accuracy: 90.51%\n",
      "\n"
     ]
    },
    {
     "name": "stderr",
     "output_type": "stream",
     "text": [
      "Epoch 256: 100%|██████████| 938/938 [00:19<00:00, 47.11batch/s, Train Loss=0.391, Train Acc=85.4]\n"
     ]
    },
    {
     "name": "stdout",
     "output_type": "stream",
     "text": [
      "Epoch 256\n",
      "Train Loss: 0.3915, Train Accuracy: 85.37%\n",
      "Test Loss: 0.2703, Test Accuracy: 90.53%\n",
      "\n"
     ]
    },
    {
     "name": "stderr",
     "output_type": "stream",
     "text": [
      "Epoch 257: 100%|██████████| 938/938 [00:19<00:00, 47.42batch/s, Train Loss=0.388, Train Acc=85.3]\n"
     ]
    },
    {
     "name": "stdout",
     "output_type": "stream",
     "text": [
      "Epoch 257\n",
      "Train Loss: 0.3883, Train Accuracy: 85.32%\n",
      "Test Loss: 0.2729, Test Accuracy: 90.27%\n",
      "\n"
     ]
    },
    {
     "name": "stderr",
     "output_type": "stream",
     "text": [
      "Epoch 258: 100%|██████████| 938/938 [00:20<00:00, 46.19batch/s, Train Loss=0.391, Train Acc=85.2]\n"
     ]
    },
    {
     "name": "stdout",
     "output_type": "stream",
     "text": [
      "Epoch 258\n",
      "Train Loss: 0.3905, Train Accuracy: 85.18%\n",
      "Test Loss: 0.2734, Test Accuracy: 90.26%\n",
      "\n"
     ]
    },
    {
     "name": "stderr",
     "output_type": "stream",
     "text": [
      "Epoch 259: 100%|██████████| 938/938 [00:19<00:00, 47.13batch/s, Train Loss=0.393, Train Acc=85.1]\n"
     ]
    },
    {
     "name": "stdout",
     "output_type": "stream",
     "text": [
      "Epoch 259\n",
      "Train Loss: 0.3928, Train Accuracy: 85.09%\n",
      "Test Loss: 0.2744, Test Accuracy: 89.99%\n",
      "\n"
     ]
    },
    {
     "name": "stderr",
     "output_type": "stream",
     "text": [
      "Epoch 260: 100%|██████████| 938/938 [00:19<00:00, 47.14batch/s, Train Loss=0.39, Train Acc=85.3] \n"
     ]
    },
    {
     "name": "stdout",
     "output_type": "stream",
     "text": [
      "Epoch 260\n",
      "Train Loss: 0.3902, Train Accuracy: 85.27%\n",
      "Test Loss: 0.2707, Test Accuracy: 90.38%\n",
      "\n"
     ]
    },
    {
     "name": "stderr",
     "output_type": "stream",
     "text": [
      "Epoch 261: 100%|██████████| 938/938 [00:20<00:00, 46.46batch/s, Train Loss=0.386, Train Acc=85.5]\n"
     ]
    },
    {
     "name": "stdout",
     "output_type": "stream",
     "text": [
      "Epoch 261\n",
      "Train Loss: 0.3856, Train Accuracy: 85.47%\n",
      "Test Loss: 0.2731, Test Accuracy: 90.29%\n",
      "\n"
     ]
    },
    {
     "name": "stderr",
     "output_type": "stream",
     "text": [
      "Epoch 262: 100%|██████████| 938/938 [00:20<00:00, 46.51batch/s, Train Loss=0.388, Train Acc=85.2]\n"
     ]
    },
    {
     "name": "stdout",
     "output_type": "stream",
     "text": [
      "Epoch 262\n",
      "Train Loss: 0.3883, Train Accuracy: 85.16%\n",
      "Test Loss: 0.2688, Test Accuracy: 90.18%\n",
      "\n"
     ]
    },
    {
     "name": "stderr",
     "output_type": "stream",
     "text": [
      "Epoch 263: 100%|██████████| 938/938 [00:19<00:00, 47.02batch/s, Train Loss=0.389, Train Acc=85.3]\n"
     ]
    },
    {
     "name": "stdout",
     "output_type": "stream",
     "text": [
      "Epoch 263\n",
      "Train Loss: 0.3893, Train Accuracy: 85.27%\n",
      "Test Loss: 0.2743, Test Accuracy: 90.02%\n",
      "\n"
     ]
    },
    {
     "name": "stderr",
     "output_type": "stream",
     "text": [
      "Epoch 264: 100%|██████████| 938/938 [00:20<00:00, 46.73batch/s, Train Loss=0.387, Train Acc=85.2]\n"
     ]
    },
    {
     "name": "stdout",
     "output_type": "stream",
     "text": [
      "Epoch 264\n",
      "Train Loss: 0.3869, Train Accuracy: 85.24%\n",
      "Test Loss: 0.2703, Test Accuracy: 90.31%\n",
      "\n"
     ]
    },
    {
     "name": "stderr",
     "output_type": "stream",
     "text": [
      "Epoch 265: 100%|██████████| 938/938 [00:20<00:00, 46.44batch/s, Train Loss=0.391, Train Acc=85.3]\n"
     ]
    },
    {
     "name": "stdout",
     "output_type": "stream",
     "text": [
      "Epoch 265\n",
      "Train Loss: 0.3912, Train Accuracy: 85.33%\n",
      "Test Loss: 0.2715, Test Accuracy: 90.31%\n",
      "\n"
     ]
    },
    {
     "name": "stderr",
     "output_type": "stream",
     "text": [
      "Epoch 266: 100%|██████████| 938/938 [00:20<00:00, 46.47batch/s, Train Loss=0.388, Train Acc=85.2]\n"
     ]
    },
    {
     "name": "stdout",
     "output_type": "stream",
     "text": [
      "Epoch 266\n",
      "Train Loss: 0.3883, Train Accuracy: 85.23%\n",
      "Test Loss: 0.2677, Test Accuracy: 90.39%\n",
      "\n"
     ]
    },
    {
     "name": "stderr",
     "output_type": "stream",
     "text": [
      "Epoch 267: 100%|██████████| 938/938 [00:20<00:00, 45.84batch/s, Train Loss=0.392, Train Acc=85.1]\n"
     ]
    },
    {
     "name": "stdout",
     "output_type": "stream",
     "text": [
      "Epoch 267\n",
      "Train Loss: 0.3916, Train Accuracy: 85.14%\n",
      "Test Loss: 0.2707, Test Accuracy: 90.54%\n",
      "\n"
     ]
    },
    {
     "name": "stderr",
     "output_type": "stream",
     "text": [
      "Epoch 268: 100%|██████████| 938/938 [00:20<00:00, 46.14batch/s, Train Loss=0.392, Train Acc=85.1]\n"
     ]
    },
    {
     "name": "stdout",
     "output_type": "stream",
     "text": [
      "Epoch 268\n",
      "Train Loss: 0.3916, Train Accuracy: 85.11%\n",
      "Test Loss: 0.2757, Test Accuracy: 90.08%\n",
      "\n"
     ]
    },
    {
     "name": "stderr",
     "output_type": "stream",
     "text": [
      "Epoch 269: 100%|██████████| 938/938 [00:20<00:00, 46.05batch/s, Train Loss=0.39, Train Acc=85.2] \n"
     ]
    },
    {
     "name": "stdout",
     "output_type": "stream",
     "text": [
      "Epoch 269\n",
      "Train Loss: 0.3899, Train Accuracy: 85.15%\n",
      "Test Loss: 0.2684, Test Accuracy: 90.47%\n",
      "\n"
     ]
    },
    {
     "name": "stderr",
     "output_type": "stream",
     "text": [
      "Epoch 270: 100%|██████████| 938/938 [00:20<00:00, 46.47batch/s, Train Loss=0.388, Train Acc=85.3]\n"
     ]
    },
    {
     "name": "stdout",
     "output_type": "stream",
     "text": [
      "Epoch 270\n",
      "Train Loss: 0.3885, Train Accuracy: 85.33%\n",
      "Test Loss: 0.2680, Test Accuracy: 90.51%\n",
      "\n"
     ]
    },
    {
     "name": "stderr",
     "output_type": "stream",
     "text": [
      "Epoch 271: 100%|██████████| 938/938 [00:20<00:00, 46.06batch/s, Train Loss=0.389, Train Acc=85.3]\n"
     ]
    },
    {
     "name": "stdout",
     "output_type": "stream",
     "text": [
      "Epoch 271\n",
      "Train Loss: 0.3894, Train Accuracy: 85.32%\n",
      "Test Loss: 0.2701, Test Accuracy: 90.33%\n",
      "\n"
     ]
    },
    {
     "name": "stderr",
     "output_type": "stream",
     "text": [
      "Epoch 272: 100%|██████████| 938/938 [00:21<00:00, 43.78batch/s, Train Loss=0.385, Train Acc=85.4]\n"
     ]
    },
    {
     "name": "stdout",
     "output_type": "stream",
     "text": [
      "Epoch 272\n",
      "Train Loss: 0.3848, Train Accuracy: 85.44%\n",
      "Test Loss: 0.2731, Test Accuracy: 90.25%\n",
      "\n"
     ]
    },
    {
     "name": "stderr",
     "output_type": "stream",
     "text": [
      "Epoch 273: 100%|██████████| 938/938 [00:20<00:00, 45.53batch/s, Train Loss=0.385, Train Acc=85.4]\n"
     ]
    },
    {
     "name": "stdout",
     "output_type": "stream",
     "text": [
      "Epoch 273\n",
      "Train Loss: 0.3851, Train Accuracy: 85.42%\n",
      "Test Loss: 0.2719, Test Accuracy: 90.22%\n",
      "\n"
     ]
    },
    {
     "name": "stderr",
     "output_type": "stream",
     "text": [
      "Epoch 274: 100%|██████████| 938/938 [00:21<00:00, 43.92batch/s, Train Loss=0.389, Train Acc=85.2]\n"
     ]
    },
    {
     "name": "stdout",
     "output_type": "stream",
     "text": [
      "Epoch 274\n",
      "Train Loss: 0.3889, Train Accuracy: 85.22%\n",
      "Test Loss: 0.2715, Test Accuracy: 90.41%\n",
      "\n"
     ]
    },
    {
     "name": "stderr",
     "output_type": "stream",
     "text": [
      "Epoch 275: 100%|██████████| 938/938 [00:20<00:00, 46.27batch/s, Train Loss=0.389, Train Acc=85.3]\n"
     ]
    },
    {
     "name": "stdout",
     "output_type": "stream",
     "text": [
      "Epoch 275\n",
      "Train Loss: 0.3888, Train Accuracy: 85.29%\n",
      "Test Loss: 0.2751, Test Accuracy: 90.10%\n",
      "\n"
     ]
    },
    {
     "name": "stderr",
     "output_type": "stream",
     "text": [
      "Epoch 276: 100%|██████████| 938/938 [00:20<00:00, 46.57batch/s, Train Loss=0.386, Train Acc=85.4]\n"
     ]
    },
    {
     "name": "stdout",
     "output_type": "stream",
     "text": [
      "Epoch 276\n",
      "Train Loss: 0.3862, Train Accuracy: 85.37%\n",
      "Test Loss: 0.2693, Test Accuracy: 90.50%\n",
      "\n"
     ]
    },
    {
     "name": "stderr",
     "output_type": "stream",
     "text": [
      "Epoch 277: 100%|██████████| 938/938 [00:19<00:00, 47.11batch/s, Train Loss=0.39, Train Acc=85.2] \n"
     ]
    },
    {
     "name": "stdout",
     "output_type": "stream",
     "text": [
      "Epoch 277\n",
      "Train Loss: 0.3898, Train Accuracy: 85.22%\n",
      "Test Loss: 0.2718, Test Accuracy: 90.38%\n",
      "\n"
     ]
    },
    {
     "name": "stderr",
     "output_type": "stream",
     "text": [
      "Epoch 278: 100%|██████████| 938/938 [00:19<00:00, 47.05batch/s, Train Loss=0.388, Train Acc=85.5]\n"
     ]
    },
    {
     "name": "stdout",
     "output_type": "stream",
     "text": [
      "Epoch 278\n",
      "Train Loss: 0.3880, Train Accuracy: 85.48%\n",
      "Test Loss: 0.2661, Test Accuracy: 90.44%\n",
      "\n"
     ]
    },
    {
     "name": "stderr",
     "output_type": "stream",
     "text": [
      "Epoch 279: 100%|██████████| 938/938 [00:19<00:00, 47.05batch/s, Train Loss=0.388, Train Acc=85.3]\n"
     ]
    },
    {
     "name": "stdout",
     "output_type": "stream",
     "text": [
      "Epoch 279\n",
      "Train Loss: 0.3877, Train Accuracy: 85.34%\n",
      "Test Loss: 0.2708, Test Accuracy: 90.27%\n",
      "\n"
     ]
    },
    {
     "name": "stderr",
     "output_type": "stream",
     "text": [
      "Epoch 280: 100%|██████████| 938/938 [00:19<00:00, 47.06batch/s, Train Loss=0.39, Train Acc=85.4] \n"
     ]
    },
    {
     "name": "stdout",
     "output_type": "stream",
     "text": [
      "Epoch 280\n",
      "Train Loss: 0.3899, Train Accuracy: 85.37%\n",
      "Test Loss: 0.2683, Test Accuracy: 90.39%\n",
      "\n"
     ]
    },
    {
     "name": "stderr",
     "output_type": "stream",
     "text": [
      "Epoch 281: 100%|██████████| 938/938 [00:20<00:00, 45.38batch/s, Train Loss=0.387, Train Acc=85.3]\n"
     ]
    },
    {
     "name": "stdout",
     "output_type": "stream",
     "text": [
      "Epoch 281\n",
      "Train Loss: 0.3866, Train Accuracy: 85.31%\n",
      "Test Loss: 0.2659, Test Accuracy: 90.40%\n",
      "\n"
     ]
    },
    {
     "name": "stderr",
     "output_type": "stream",
     "text": [
      "Epoch 282: 100%|██████████| 938/938 [00:21<00:00, 43.84batch/s, Train Loss=0.385, Train Acc=85.6]\n"
     ]
    },
    {
     "name": "stdout",
     "output_type": "stream",
     "text": [
      "Epoch 282\n",
      "Train Loss: 0.3846, Train Accuracy: 85.55%\n",
      "Test Loss: 0.2679, Test Accuracy: 90.57%\n",
      "\n"
     ]
    },
    {
     "name": "stderr",
     "output_type": "stream",
     "text": [
      "Epoch 283: 100%|██████████| 938/938 [00:20<00:00, 46.21batch/s, Train Loss=0.386, Train Acc=85.4]\n"
     ]
    },
    {
     "name": "stdout",
     "output_type": "stream",
     "text": [
      "Epoch 283\n",
      "Train Loss: 0.3857, Train Accuracy: 85.43%\n",
      "Test Loss: 0.2650, Test Accuracy: 90.59%\n",
      "\n"
     ]
    },
    {
     "name": "stderr",
     "output_type": "stream",
     "text": [
      "Epoch 284: 100%|██████████| 938/938 [00:20<00:00, 46.60batch/s, Train Loss=0.387, Train Acc=85.2]\n"
     ]
    },
    {
     "name": "stdout",
     "output_type": "stream",
     "text": [
      "Epoch 284\n",
      "Train Loss: 0.3874, Train Accuracy: 85.25%\n",
      "Test Loss: 0.2673, Test Accuracy: 90.46%\n",
      "\n"
     ]
    },
    {
     "name": "stderr",
     "output_type": "stream",
     "text": [
      "Epoch 285: 100%|██████████| 938/938 [00:19<00:00, 46.94batch/s, Train Loss=0.385, Train Acc=85.5]\n"
     ]
    },
    {
     "name": "stdout",
     "output_type": "stream",
     "text": [
      "Epoch 285\n",
      "Train Loss: 0.3852, Train Accuracy: 85.49%\n",
      "Test Loss: 0.2685, Test Accuracy: 90.65%\n",
      "\n"
     ]
    },
    {
     "name": "stderr",
     "output_type": "stream",
     "text": [
      "Epoch 286: 100%|██████████| 938/938 [00:19<00:00, 47.01batch/s, Train Loss=0.387, Train Acc=85.3]\n"
     ]
    },
    {
     "name": "stdout",
     "output_type": "stream",
     "text": [
      "Epoch 286\n",
      "Train Loss: 0.3869, Train Accuracy: 85.33%\n",
      "Test Loss: 0.2702, Test Accuracy: 90.09%\n",
      "\n"
     ]
    },
    {
     "name": "stderr",
     "output_type": "stream",
     "text": [
      "Epoch 287: 100%|██████████| 938/938 [00:19<00:00, 47.13batch/s, Train Loss=0.383, Train Acc=85.4]\n"
     ]
    },
    {
     "name": "stdout",
     "output_type": "stream",
     "text": [
      "Epoch 287\n",
      "Train Loss: 0.3827, Train Accuracy: 85.39%\n",
      "Test Loss: 0.2685, Test Accuracy: 90.19%\n",
      "\n"
     ]
    },
    {
     "name": "stderr",
     "output_type": "stream",
     "text": [
      "Epoch 288: 100%|██████████| 938/938 [00:20<00:00, 46.86batch/s, Train Loss=0.384, Train Acc=85.6]\n"
     ]
    },
    {
     "name": "stdout",
     "output_type": "stream",
     "text": [
      "Epoch 288\n",
      "Train Loss: 0.3835, Train Accuracy: 85.58%\n",
      "Test Loss: 0.2695, Test Accuracy: 90.47%\n",
      "\n"
     ]
    },
    {
     "name": "stderr",
     "output_type": "stream",
     "text": [
      "Epoch 289: 100%|██████████| 938/938 [00:19<00:00, 46.92batch/s, Train Loss=0.382, Train Acc=85.4]\n"
     ]
    },
    {
     "name": "stdout",
     "output_type": "stream",
     "text": [
      "Epoch 289\n",
      "Train Loss: 0.3818, Train Accuracy: 85.41%\n",
      "Test Loss: 0.2692, Test Accuracy: 90.50%\n",
      "\n"
     ]
    },
    {
     "name": "stderr",
     "output_type": "stream",
     "text": [
      "Epoch 290: 100%|██████████| 938/938 [00:20<00:00, 46.35batch/s, Train Loss=0.386, Train Acc=85.5]\n"
     ]
    },
    {
     "name": "stdout",
     "output_type": "stream",
     "text": [
      "Epoch 290\n",
      "Train Loss: 0.3863, Train Accuracy: 85.47%\n",
      "Test Loss: 0.2705, Test Accuracy: 90.27%\n",
      "\n"
     ]
    },
    {
     "name": "stderr",
     "output_type": "stream",
     "text": [
      "Epoch 291: 100%|██████████| 938/938 [00:20<00:00, 46.11batch/s, Train Loss=0.382, Train Acc=85.5]\n"
     ]
    },
    {
     "name": "stdout",
     "output_type": "stream",
     "text": [
      "Epoch 291\n",
      "Train Loss: 0.3816, Train Accuracy: 85.53%\n",
      "Test Loss: 0.2698, Test Accuracy: 90.43%\n",
      "\n"
     ]
    },
    {
     "name": "stderr",
     "output_type": "stream",
     "text": [
      "Epoch 292: 100%|██████████| 938/938 [00:20<00:00, 46.39batch/s, Train Loss=0.386, Train Acc=85.3]\n"
     ]
    },
    {
     "name": "stdout",
     "output_type": "stream",
     "text": [
      "Epoch 292\n",
      "Train Loss: 0.3865, Train Accuracy: 85.30%\n",
      "Test Loss: 0.2668, Test Accuracy: 90.45%\n",
      "\n"
     ]
    },
    {
     "name": "stderr",
     "output_type": "stream",
     "text": [
      "Epoch 293: 100%|██████████| 938/938 [00:21<00:00, 43.72batch/s, Train Loss=0.389, Train Acc=85.4]\n"
     ]
    },
    {
     "name": "stdout",
     "output_type": "stream",
     "text": [
      "Epoch 293\n",
      "Train Loss: 0.3889, Train Accuracy: 85.36%\n",
      "Test Loss: 0.2721, Test Accuracy: 90.16%\n",
      "\n"
     ]
    },
    {
     "name": "stderr",
     "output_type": "stream",
     "text": [
      "Epoch 294: 100%|██████████| 938/938 [00:20<00:00, 46.00batch/s, Train Loss=0.385, Train Acc=85.4]\n"
     ]
    },
    {
     "name": "stdout",
     "output_type": "stream",
     "text": [
      "Epoch 294\n",
      "Train Loss: 0.3848, Train Accuracy: 85.37%\n",
      "Test Loss: 0.2741, Test Accuracy: 90.33%\n",
      "\n"
     ]
    },
    {
     "name": "stderr",
     "output_type": "stream",
     "text": [
      "Epoch 295: 100%|██████████| 938/938 [00:20<00:00, 45.47batch/s, Train Loss=0.386, Train Acc=85.3]\n"
     ]
    },
    {
     "name": "stdout",
     "output_type": "stream",
     "text": [
      "Epoch 295\n",
      "Train Loss: 0.3861, Train Accuracy: 85.26%\n",
      "Test Loss: 0.2805, Test Accuracy: 90.08%\n",
      "\n"
     ]
    },
    {
     "name": "stderr",
     "output_type": "stream",
     "text": [
      "Epoch 296: 100%|██████████| 938/938 [00:20<00:00, 45.62batch/s, Train Loss=0.384, Train Acc=85.5]\n"
     ]
    },
    {
     "name": "stdout",
     "output_type": "stream",
     "text": [
      "Epoch 296\n",
      "Train Loss: 0.3835, Train Accuracy: 85.46%\n",
      "Test Loss: 0.2663, Test Accuracy: 90.47%\n",
      "\n"
     ]
    },
    {
     "name": "stderr",
     "output_type": "stream",
     "text": [
      "Epoch 297: 100%|██████████| 938/938 [00:20<00:00, 44.78batch/s, Train Loss=0.389, Train Acc=85.3]\n"
     ]
    },
    {
     "name": "stdout",
     "output_type": "stream",
     "text": [
      "Epoch 297\n",
      "Train Loss: 0.3894, Train Accuracy: 85.30%\n",
      "Test Loss: 0.2668, Test Accuracy: 90.59%\n",
      "\n"
     ]
    },
    {
     "name": "stderr",
     "output_type": "stream",
     "text": [
      "Epoch 298: 100%|██████████| 938/938 [00:20<00:00, 45.41batch/s, Train Loss=0.388, Train Acc=85.4]\n"
     ]
    },
    {
     "name": "stdout",
     "output_type": "stream",
     "text": [
      "Epoch 298\n",
      "Train Loss: 0.3879, Train Accuracy: 85.44%\n",
      "Test Loss: 0.2736, Test Accuracy: 90.18%\n",
      "\n"
     ]
    },
    {
     "name": "stderr",
     "output_type": "stream",
     "text": [
      "Epoch 299: 100%|██████████| 938/938 [00:20<00:00, 46.19batch/s, Train Loss=0.38, Train Acc=85.7] \n"
     ]
    },
    {
     "name": "stdout",
     "output_type": "stream",
     "text": [
      "Epoch 299\n",
      "Train Loss: 0.3795, Train Accuracy: 85.66%\n",
      "Test Loss: 0.2678, Test Accuracy: 90.33%\n",
      "\n"
     ]
    },
    {
     "name": "stderr",
     "output_type": "stream",
     "text": [
      "Epoch 300: 100%|██████████| 938/938 [00:20<00:00, 46.20batch/s, Train Loss=0.381, Train Acc=85.5]\n"
     ]
    },
    {
     "name": "stdout",
     "output_type": "stream",
     "text": [
      "Epoch 300\n",
      "Train Loss: 0.3813, Train Accuracy: 85.48%\n",
      "Test Loss: 0.2674, Test Accuracy: 90.53%\n",
      "\n"
     ]
    },
    {
     "name": "stderr",
     "output_type": "stream",
     "text": [
      "Epoch 301: 100%|██████████| 938/938 [00:20<00:00, 46.08batch/s, Train Loss=0.383, Train Acc=85.4]\n"
     ]
    },
    {
     "name": "stdout",
     "output_type": "stream",
     "text": [
      "Epoch 301\n",
      "Train Loss: 0.3833, Train Accuracy: 85.44%\n",
      "Test Loss: 0.2704, Test Accuracy: 90.22%\n",
      "\n"
     ]
    },
    {
     "name": "stderr",
     "output_type": "stream",
     "text": [
      "Epoch 302: 100%|██████████| 938/938 [00:20<00:00, 45.64batch/s, Train Loss=0.383, Train Acc=85.5]\n"
     ]
    },
    {
     "name": "stdout",
     "output_type": "stream",
     "text": [
      "Epoch 302\n",
      "Train Loss: 0.3833, Train Accuracy: 85.54%\n",
      "Test Loss: 0.2690, Test Accuracy: 90.37%\n",
      "\n"
     ]
    },
    {
     "name": "stderr",
     "output_type": "stream",
     "text": [
      "Epoch 303: 100%|██████████| 938/938 [00:20<00:00, 46.66batch/s, Train Loss=0.381, Train Acc=85.4]\n"
     ]
    },
    {
     "name": "stdout",
     "output_type": "stream",
     "text": [
      "Epoch 303\n",
      "Train Loss: 0.3815, Train Accuracy: 85.42%\n",
      "Test Loss: 0.2744, Test Accuracy: 89.81%\n",
      "\n"
     ]
    },
    {
     "name": "stderr",
     "output_type": "stream",
     "text": [
      "Epoch 304: 100%|██████████| 938/938 [00:20<00:00, 46.17batch/s, Train Loss=0.378, Train Acc=85.7]\n"
     ]
    },
    {
     "name": "stdout",
     "output_type": "stream",
     "text": [
      "Epoch 304\n",
      "Train Loss: 0.3785, Train Accuracy: 85.71%\n",
      "Test Loss: 0.2670, Test Accuracy: 90.43%\n",
      "\n"
     ]
    },
    {
     "name": "stderr",
     "output_type": "stream",
     "text": [
      "Epoch 305: 100%|██████████| 938/938 [00:20<00:00, 46.13batch/s, Train Loss=0.38, Train Acc=85.6] \n"
     ]
    },
    {
     "name": "stdout",
     "output_type": "stream",
     "text": [
      "Epoch 305\n",
      "Train Loss: 0.3803, Train Accuracy: 85.64%\n",
      "Test Loss: 0.2676, Test Accuracy: 90.43%\n",
      "\n"
     ]
    },
    {
     "name": "stderr",
     "output_type": "stream",
     "text": [
      "Epoch 306: 100%|██████████| 938/938 [00:20<00:00, 46.65batch/s, Train Loss=0.382, Train Acc=85.4]\n"
     ]
    },
    {
     "name": "stdout",
     "output_type": "stream",
     "text": [
      "Epoch 306\n",
      "Train Loss: 0.3822, Train Accuracy: 85.43%\n",
      "Test Loss: 0.2680, Test Accuracy: 90.32%\n",
      "\n"
     ]
    },
    {
     "name": "stderr",
     "output_type": "stream",
     "text": [
      "Epoch 307: 100%|██████████| 938/938 [00:20<00:00, 46.23batch/s, Train Loss=0.383, Train Acc=85.6]\n"
     ]
    },
    {
     "name": "stdout",
     "output_type": "stream",
     "text": [
      "Epoch 307\n",
      "Train Loss: 0.3828, Train Accuracy: 85.63%\n",
      "Test Loss: 0.2685, Test Accuracy: 90.45%\n",
      "\n"
     ]
    },
    {
     "name": "stderr",
     "output_type": "stream",
     "text": [
      "Epoch 308: 100%|██████████| 938/938 [00:20<00:00, 45.40batch/s, Train Loss=0.388, Train Acc=85.3]\n"
     ]
    },
    {
     "name": "stdout",
     "output_type": "stream",
     "text": [
      "Epoch 308\n",
      "Train Loss: 0.3876, Train Accuracy: 85.32%\n",
      "Test Loss: 0.2679, Test Accuracy: 90.41%\n",
      "\n"
     ]
    },
    {
     "name": "stderr",
     "output_type": "stream",
     "text": [
      "Epoch 309: 100%|██████████| 938/938 [00:20<00:00, 46.21batch/s, Train Loss=0.386, Train Acc=85.5]\n"
     ]
    },
    {
     "name": "stdout",
     "output_type": "stream",
     "text": [
      "Epoch 309\n",
      "Train Loss: 0.3861, Train Accuracy: 85.52%\n",
      "Test Loss: 0.2673, Test Accuracy: 90.31%\n",
      "\n"
     ]
    },
    {
     "name": "stderr",
     "output_type": "stream",
     "text": [
      "Epoch 310: 100%|██████████| 938/938 [00:20<00:00, 46.14batch/s, Train Loss=0.386, Train Acc=85.4]\n"
     ]
    },
    {
     "name": "stdout",
     "output_type": "stream",
     "text": [
      "Epoch 310\n",
      "Train Loss: 0.3865, Train Accuracy: 85.41%\n",
      "Test Loss: 0.2678, Test Accuracy: 90.34%\n",
      "\n"
     ]
    },
    {
     "name": "stderr",
     "output_type": "stream",
     "text": [
      "Epoch 311: 100%|██████████| 938/938 [00:20<00:00, 46.49batch/s, Train Loss=0.382, Train Acc=85.5]\n"
     ]
    },
    {
     "name": "stdout",
     "output_type": "stream",
     "text": [
      "Epoch 311\n",
      "Train Loss: 0.3823, Train Accuracy: 85.54%\n",
      "Test Loss: 0.2612, Test Accuracy: 90.52%\n",
      "\n"
     ]
    },
    {
     "name": "stderr",
     "output_type": "stream",
     "text": [
      "Epoch 312: 100%|██████████| 938/938 [00:20<00:00, 46.43batch/s, Train Loss=0.384, Train Acc=85.6]\n"
     ]
    },
    {
     "name": "stdout",
     "output_type": "stream",
     "text": [
      "Epoch 312\n",
      "Train Loss: 0.3837, Train Accuracy: 85.61%\n",
      "Test Loss: 0.2643, Test Accuracy: 90.38%\n",
      "\n"
     ]
    },
    {
     "name": "stderr",
     "output_type": "stream",
     "text": [
      "Epoch 313: 100%|██████████| 938/938 [00:20<00:00, 45.93batch/s, Train Loss=0.384, Train Acc=85.4]\n"
     ]
    },
    {
     "name": "stdout",
     "output_type": "stream",
     "text": [
      "Epoch 313\n",
      "Train Loss: 0.3845, Train Accuracy: 85.41%\n",
      "Test Loss: 0.2692, Test Accuracy: 90.44%\n",
      "\n"
     ]
    },
    {
     "name": "stderr",
     "output_type": "stream",
     "text": [
      "Epoch 314: 100%|██████████| 938/938 [00:20<00:00, 46.23batch/s, Train Loss=0.383, Train Acc=85.4]\n"
     ]
    },
    {
     "name": "stdout",
     "output_type": "stream",
     "text": [
      "Epoch 314\n",
      "Train Loss: 0.3825, Train Accuracy: 85.42%\n",
      "Test Loss: 0.2683, Test Accuracy: 90.28%\n",
      "\n"
     ]
    },
    {
     "name": "stderr",
     "output_type": "stream",
     "text": [
      "Epoch 315: 100%|██████████| 938/938 [00:20<00:00, 46.26batch/s, Train Loss=0.38, Train Acc=85.6] \n"
     ]
    },
    {
     "name": "stdout",
     "output_type": "stream",
     "text": [
      "Epoch 315\n",
      "Train Loss: 0.3805, Train Accuracy: 85.64%\n",
      "Test Loss: 0.2711, Test Accuracy: 90.34%\n",
      "\n"
     ]
    },
    {
     "name": "stderr",
     "output_type": "stream",
     "text": [
      "Epoch 316: 100%|██████████| 938/938 [00:20<00:00, 46.11batch/s, Train Loss=0.384, Train Acc=85.5]\n"
     ]
    },
    {
     "name": "stdout",
     "output_type": "stream",
     "text": [
      "Epoch 316\n",
      "Train Loss: 0.3844, Train Accuracy: 85.47%\n",
      "Test Loss: 0.2670, Test Accuracy: 90.37%\n",
      "\n"
     ]
    },
    {
     "name": "stderr",
     "output_type": "stream",
     "text": [
      "Epoch 317: 100%|██████████| 938/938 [00:20<00:00, 45.68batch/s, Train Loss=0.381, Train Acc=85.7]\n"
     ]
    },
    {
     "name": "stdout",
     "output_type": "stream",
     "text": [
      "Epoch 317\n",
      "Train Loss: 0.3807, Train Accuracy: 85.66%\n",
      "Test Loss: 0.2650, Test Accuracy: 90.57%\n",
      "\n"
     ]
    },
    {
     "name": "stderr",
     "output_type": "stream",
     "text": [
      "Epoch 318: 100%|██████████| 938/938 [00:19<00:00, 47.03batch/s, Train Loss=0.381, Train Acc=85.7]\n"
     ]
    },
    {
     "name": "stdout",
     "output_type": "stream",
     "text": [
      "Epoch 318\n",
      "Train Loss: 0.3806, Train Accuracy: 85.69%\n",
      "Test Loss: 0.2658, Test Accuracy: 90.37%\n",
      "\n"
     ]
    },
    {
     "name": "stderr",
     "output_type": "stream",
     "text": [
      "Epoch 319: 100%|██████████| 938/938 [00:20<00:00, 45.67batch/s, Train Loss=0.378, Train Acc=85.6]\n"
     ]
    },
    {
     "name": "stdout",
     "output_type": "stream",
     "text": [
      "Epoch 319\n",
      "Train Loss: 0.3779, Train Accuracy: 85.60%\n",
      "Test Loss: 0.2721, Test Accuracy: 90.20%\n",
      "\n"
     ]
    },
    {
     "name": "stderr",
     "output_type": "stream",
     "text": [
      "Epoch 320: 100%|██████████| 938/938 [00:20<00:00, 45.96batch/s, Train Loss=0.38, Train Acc=85.5] \n"
     ]
    },
    {
     "name": "stdout",
     "output_type": "stream",
     "text": [
      "Epoch 320\n",
      "Train Loss: 0.3799, Train Accuracy: 85.54%\n",
      "Test Loss: 0.2689, Test Accuracy: 90.34%\n",
      "\n"
     ]
    },
    {
     "name": "stderr",
     "output_type": "stream",
     "text": [
      "Epoch 321: 100%|██████████| 938/938 [00:20<00:00, 46.46batch/s, Train Loss=0.379, Train Acc=85.6]\n"
     ]
    },
    {
     "name": "stdout",
     "output_type": "stream",
     "text": [
      "Epoch 321\n",
      "Train Loss: 0.3788, Train Accuracy: 85.58%\n",
      "Test Loss: 0.2640, Test Accuracy: 90.51%\n",
      "\n"
     ]
    },
    {
     "name": "stderr",
     "output_type": "stream",
     "text": [
      "Epoch 322: 100%|██████████| 938/938 [00:20<00:00, 46.44batch/s, Train Loss=0.383, Train Acc=85.7]\n"
     ]
    },
    {
     "name": "stdout",
     "output_type": "stream",
     "text": [
      "Epoch 322\n",
      "Train Loss: 0.3827, Train Accuracy: 85.69%\n",
      "Test Loss: 0.2669, Test Accuracy: 90.13%\n",
      "\n"
     ]
    },
    {
     "name": "stderr",
     "output_type": "stream",
     "text": [
      "Epoch 323: 100%|██████████| 938/938 [00:20<00:00, 46.87batch/s, Train Loss=0.382, Train Acc=85.6]\n"
     ]
    },
    {
     "name": "stdout",
     "output_type": "stream",
     "text": [
      "Epoch 323\n",
      "Train Loss: 0.3818, Train Accuracy: 85.56%\n",
      "Test Loss: 0.2659, Test Accuracy: 90.48%\n",
      "\n"
     ]
    },
    {
     "name": "stderr",
     "output_type": "stream",
     "text": [
      "Epoch 324: 100%|██████████| 938/938 [00:20<00:00, 46.30batch/s, Train Loss=0.382, Train Acc=85.5]\n"
     ]
    },
    {
     "name": "stdout",
     "output_type": "stream",
     "text": [
      "Epoch 324\n",
      "Train Loss: 0.3817, Train Accuracy: 85.52%\n",
      "Test Loss: 0.2637, Test Accuracy: 90.37%\n",
      "\n"
     ]
    },
    {
     "name": "stderr",
     "output_type": "stream",
     "text": [
      "Epoch 325: 100%|██████████| 938/938 [00:20<00:00, 46.65batch/s, Train Loss=0.382, Train Acc=85.6]\n"
     ]
    },
    {
     "name": "stdout",
     "output_type": "stream",
     "text": [
      "Epoch 325\n",
      "Train Loss: 0.3818, Train Accuracy: 85.62%\n",
      "Test Loss: 0.2701, Test Accuracy: 90.07%\n",
      "\n"
     ]
    },
    {
     "name": "stderr",
     "output_type": "stream",
     "text": [
      "Epoch 326: 100%|██████████| 938/938 [00:20<00:00, 45.92batch/s, Train Loss=0.383, Train Acc=85.4]\n"
     ]
    },
    {
     "name": "stdout",
     "output_type": "stream",
     "text": [
      "Epoch 326\n",
      "Train Loss: 0.3829, Train Accuracy: 85.39%\n",
      "Test Loss: 0.2656, Test Accuracy: 90.56%\n",
      "\n"
     ]
    },
    {
     "name": "stderr",
     "output_type": "stream",
     "text": [
      "Epoch 327: 100%|██████████| 938/938 [00:19<00:00, 47.06batch/s, Train Loss=0.382, Train Acc=85.5]\n"
     ]
    },
    {
     "name": "stdout",
     "output_type": "stream",
     "text": [
      "Epoch 327\n",
      "Train Loss: 0.3823, Train Accuracy: 85.51%\n",
      "Test Loss: 0.2696, Test Accuracy: 90.29%\n",
      "\n"
     ]
    },
    {
     "name": "stderr",
     "output_type": "stream",
     "text": [
      "Epoch 328: 100%|██████████| 938/938 [00:20<00:00, 46.42batch/s, Train Loss=0.381, Train Acc=85.7]\n"
     ]
    },
    {
     "name": "stdout",
     "output_type": "stream",
     "text": [
      "Epoch 328\n",
      "Train Loss: 0.3805, Train Accuracy: 85.68%\n",
      "Test Loss: 0.2724, Test Accuracy: 89.95%\n",
      "\n"
     ]
    },
    {
     "name": "stderr",
     "output_type": "stream",
     "text": [
      "Epoch 329: 100%|██████████| 938/938 [00:20<00:00, 46.67batch/s, Train Loss=0.379, Train Acc=85.6]\n"
     ]
    },
    {
     "name": "stdout",
     "output_type": "stream",
     "text": [
      "Epoch 329\n",
      "Train Loss: 0.3787, Train Accuracy: 85.61%\n",
      "Test Loss: 0.2671, Test Accuracy: 90.38%\n",
      "\n"
     ]
    },
    {
     "name": "stderr",
     "output_type": "stream",
     "text": [
      "Epoch 330: 100%|██████████| 938/938 [00:20<00:00, 46.36batch/s, Train Loss=0.382, Train Acc=85.6]\n"
     ]
    },
    {
     "name": "stdout",
     "output_type": "stream",
     "text": [
      "Epoch 330\n",
      "Train Loss: 0.3822, Train Accuracy: 85.58%\n",
      "Test Loss: 0.2611, Test Accuracy: 90.69%\n",
      "\n"
     ]
    },
    {
     "name": "stderr",
     "output_type": "stream",
     "text": [
      "Epoch 331: 100%|██████████| 938/938 [00:19<00:00, 46.94batch/s, Train Loss=0.378, Train Acc=85.8]\n"
     ]
    },
    {
     "name": "stdout",
     "output_type": "stream",
     "text": [
      "Epoch 331\n",
      "Train Loss: 0.3782, Train Accuracy: 85.79%\n",
      "Test Loss: 0.2672, Test Accuracy: 90.54%\n",
      "\n"
     ]
    },
    {
     "name": "stderr",
     "output_type": "stream",
     "text": [
      "Epoch 332: 100%|██████████| 938/938 [00:20<00:00, 46.25batch/s, Train Loss=0.379, Train Acc=85.7]\n"
     ]
    },
    {
     "name": "stdout",
     "output_type": "stream",
     "text": [
      "Epoch 332\n",
      "Train Loss: 0.3794, Train Accuracy: 85.67%\n",
      "Test Loss: 0.2670, Test Accuracy: 90.42%\n",
      "\n"
     ]
    },
    {
     "name": "stderr",
     "output_type": "stream",
     "text": [
      "Epoch 333: 100%|██████████| 938/938 [00:20<00:00, 46.36batch/s, Train Loss=0.377, Train Acc=85.7]\n"
     ]
    },
    {
     "name": "stdout",
     "output_type": "stream",
     "text": [
      "Epoch 333\n",
      "Train Loss: 0.3773, Train Accuracy: 85.71%\n",
      "Test Loss: 0.2663, Test Accuracy: 90.37%\n",
      "\n"
     ]
    },
    {
     "name": "stderr",
     "output_type": "stream",
     "text": [
      "Epoch 334: 100%|██████████| 938/938 [00:20<00:00, 46.31batch/s, Train Loss=0.381, Train Acc=85.5]\n"
     ]
    },
    {
     "name": "stdout",
     "output_type": "stream",
     "text": [
      "Epoch 334\n",
      "Train Loss: 0.3808, Train Accuracy: 85.50%\n",
      "Test Loss: 0.2662, Test Accuracy: 90.54%\n",
      "\n"
     ]
    },
    {
     "name": "stderr",
     "output_type": "stream",
     "text": [
      "Epoch 335: 100%|██████████| 938/938 [00:20<00:00, 46.44batch/s, Train Loss=0.378, Train Acc=85.7]\n"
     ]
    },
    {
     "name": "stdout",
     "output_type": "stream",
     "text": [
      "Epoch 335\n",
      "Train Loss: 0.3776, Train Accuracy: 85.70%\n",
      "Test Loss: 0.2669, Test Accuracy: 90.43%\n",
      "\n"
     ]
    },
    {
     "name": "stderr",
     "output_type": "stream",
     "text": [
      "Epoch 336: 100%|██████████| 938/938 [00:20<00:00, 46.13batch/s, Train Loss=0.382, Train Acc=85.5]\n"
     ]
    },
    {
     "name": "stdout",
     "output_type": "stream",
     "text": [
      "Epoch 336\n",
      "Train Loss: 0.3822, Train Accuracy: 85.45%\n",
      "Test Loss: 0.2647, Test Accuracy: 90.57%\n",
      "\n"
     ]
    },
    {
     "name": "stderr",
     "output_type": "stream",
     "text": [
      "Epoch 337: 100%|██████████| 938/938 [00:20<00:00, 46.90batch/s, Train Loss=0.379, Train Acc=85.6]\n"
     ]
    },
    {
     "name": "stdout",
     "output_type": "stream",
     "text": [
      "Epoch 337\n",
      "Train Loss: 0.3792, Train Accuracy: 85.61%\n",
      "Test Loss: 0.2645, Test Accuracy: 90.61%\n",
      "\n"
     ]
    },
    {
     "name": "stderr",
     "output_type": "stream",
     "text": [
      "Epoch 338: 100%|██████████| 938/938 [00:20<00:00, 45.98batch/s, Train Loss=0.379, Train Acc=85.7]\n"
     ]
    },
    {
     "name": "stdout",
     "output_type": "stream",
     "text": [
      "Epoch 338\n",
      "Train Loss: 0.3788, Train Accuracy: 85.74%\n",
      "Test Loss: 0.2689, Test Accuracy: 90.37%\n",
      "\n"
     ]
    },
    {
     "name": "stderr",
     "output_type": "stream",
     "text": [
      "Epoch 339: 100%|██████████| 938/938 [00:20<00:00, 46.35batch/s, Train Loss=0.381, Train Acc=85.5]\n"
     ]
    },
    {
     "name": "stdout",
     "output_type": "stream",
     "text": [
      "Epoch 339\n",
      "Train Loss: 0.3815, Train Accuracy: 85.48%\n",
      "Test Loss: 0.2671, Test Accuracy: 90.28%\n",
      "\n"
     ]
    },
    {
     "name": "stderr",
     "output_type": "stream",
     "text": [
      "Epoch 340: 100%|██████████| 938/938 [00:20<00:00, 46.27batch/s, Train Loss=0.381, Train Acc=85.6]\n"
     ]
    },
    {
     "name": "stdout",
     "output_type": "stream",
     "text": [
      "Epoch 340\n",
      "Train Loss: 0.3807, Train Accuracy: 85.56%\n",
      "Test Loss: 0.2632, Test Accuracy: 90.65%\n",
      "\n"
     ]
    },
    {
     "name": "stderr",
     "output_type": "stream",
     "text": [
      "Epoch 341: 100%|██████████| 938/938 [00:20<00:00, 46.24batch/s, Train Loss=0.384, Train Acc=85.5]\n"
     ]
    },
    {
     "name": "stdout",
     "output_type": "stream",
     "text": [
      "Epoch 341\n",
      "Train Loss: 0.3838, Train Accuracy: 85.50%\n",
      "Test Loss: 0.2713, Test Accuracy: 90.16%\n",
      "\n"
     ]
    },
    {
     "name": "stderr",
     "output_type": "stream",
     "text": [
      "Epoch 342: 100%|██████████| 938/938 [00:20<00:00, 46.56batch/s, Train Loss=0.378, Train Acc=85.6]\n"
     ]
    },
    {
     "name": "stdout",
     "output_type": "stream",
     "text": [
      "Epoch 342\n",
      "Train Loss: 0.3777, Train Accuracy: 85.65%\n",
      "Test Loss: 0.2645, Test Accuracy: 90.52%\n",
      "\n"
     ]
    },
    {
     "name": "stderr",
     "output_type": "stream",
     "text": [
      "Epoch 343: 100%|██████████| 938/938 [00:20<00:00, 46.47batch/s, Train Loss=0.378, Train Acc=85.5]\n"
     ]
    },
    {
     "name": "stdout",
     "output_type": "stream",
     "text": [
      "Epoch 343\n",
      "Train Loss: 0.3782, Train Accuracy: 85.50%\n",
      "Test Loss: 0.2661, Test Accuracy: 90.64%\n",
      "\n"
     ]
    },
    {
     "name": "stderr",
     "output_type": "stream",
     "text": [
      "Epoch 344: 100%|██████████| 938/938 [00:20<00:00, 46.29batch/s, Train Loss=0.378, Train Acc=85.6]\n"
     ]
    },
    {
     "name": "stdout",
     "output_type": "stream",
     "text": [
      "Epoch 344\n",
      "Train Loss: 0.3778, Train Accuracy: 85.59%\n",
      "Test Loss: 0.2658, Test Accuracy: 90.51%\n",
      "\n"
     ]
    },
    {
     "name": "stderr",
     "output_type": "stream",
     "text": [
      "Epoch 345: 100%|██████████| 938/938 [00:20<00:00, 45.76batch/s, Train Loss=0.377, Train Acc=85.6]\n"
     ]
    },
    {
     "name": "stdout",
     "output_type": "stream",
     "text": [
      "Epoch 345\n",
      "Train Loss: 0.3773, Train Accuracy: 85.61%\n",
      "Test Loss: 0.2696, Test Accuracy: 90.55%\n",
      "\n"
     ]
    },
    {
     "name": "stderr",
     "output_type": "stream",
     "text": [
      "Epoch 346: 100%|██████████| 938/938 [00:20<00:00, 46.05batch/s, Train Loss=0.377, Train Acc=85.7]\n"
     ]
    },
    {
     "name": "stdout",
     "output_type": "stream",
     "text": [
      "Epoch 346\n",
      "Train Loss: 0.3765, Train Accuracy: 85.67%\n",
      "Test Loss: 0.2672, Test Accuracy: 90.53%\n",
      "\n"
     ]
    },
    {
     "name": "stderr",
     "output_type": "stream",
     "text": [
      "Epoch 347: 100%|██████████| 938/938 [00:20<00:00, 46.28batch/s, Train Loss=0.378, Train Acc=85.7]\n"
     ]
    },
    {
     "name": "stdout",
     "output_type": "stream",
     "text": [
      "Epoch 347\n",
      "Train Loss: 0.3778, Train Accuracy: 85.69%\n",
      "Test Loss: 0.2640, Test Accuracy: 90.49%\n",
      "\n"
     ]
    },
    {
     "name": "stderr",
     "output_type": "stream",
     "text": [
      "Epoch 348: 100%|██████████| 938/938 [00:20<00:00, 45.54batch/s, Train Loss=0.38, Train Acc=85.6] \n"
     ]
    },
    {
     "name": "stdout",
     "output_type": "stream",
     "text": [
      "Epoch 348\n",
      "Train Loss: 0.3801, Train Accuracy: 85.57%\n",
      "Test Loss: 0.2656, Test Accuracy: 90.29%\n",
      "\n"
     ]
    },
    {
     "name": "stderr",
     "output_type": "stream",
     "text": [
      "Epoch 349: 100%|██████████| 938/938 [00:19<00:00, 46.95batch/s, Train Loss=0.38, Train Acc=85.6] \n"
     ]
    },
    {
     "name": "stdout",
     "output_type": "stream",
     "text": [
      "Epoch 349\n",
      "Train Loss: 0.3798, Train Accuracy: 85.62%\n",
      "Test Loss: 0.2674, Test Accuracy: 90.14%\n",
      "\n"
     ]
    },
    {
     "name": "stderr",
     "output_type": "stream",
     "text": [
      "Epoch 350: 100%|██████████| 938/938 [00:20<00:00, 46.78batch/s, Train Loss=0.376, Train Acc=85.7]\n"
     ]
    },
    {
     "name": "stdout",
     "output_type": "stream",
     "text": [
      "Epoch 350\n",
      "Train Loss: 0.3761, Train Accuracy: 85.67%\n",
      "Test Loss: 0.2650, Test Accuracy: 90.54%\n",
      "\n"
     ]
    },
    {
     "name": "stderr",
     "output_type": "stream",
     "text": [
      "Epoch 351: 100%|██████████| 938/938 [00:20<00:00, 46.18batch/s, Train Loss=0.38, Train Acc=85.7] \n"
     ]
    },
    {
     "name": "stdout",
     "output_type": "stream",
     "text": [
      "Epoch 351\n",
      "Train Loss: 0.3798, Train Accuracy: 85.72%\n",
      "Test Loss: 0.2641, Test Accuracy: 90.46%\n",
      "\n"
     ]
    },
    {
     "name": "stderr",
     "output_type": "stream",
     "text": [
      "Epoch 352: 100%|██████████| 938/938 [00:20<00:00, 46.31batch/s, Train Loss=0.377, Train Acc=85.9]\n"
     ]
    },
    {
     "name": "stdout",
     "output_type": "stream",
     "text": [
      "Epoch 352\n",
      "Train Loss: 0.3766, Train Accuracy: 85.90%\n",
      "Test Loss: 0.2670, Test Accuracy: 90.30%\n",
      "\n"
     ]
    },
    {
     "name": "stderr",
     "output_type": "stream",
     "text": [
      "Epoch 353: 100%|██████████| 938/938 [00:20<00:00, 46.49batch/s, Train Loss=0.377, Train Acc=85.7]\n"
     ]
    },
    {
     "name": "stdout",
     "output_type": "stream",
     "text": [
      "Epoch 353\n",
      "Train Loss: 0.3766, Train Accuracy: 85.68%\n",
      "Test Loss: 0.2657, Test Accuracy: 90.21%\n",
      "\n"
     ]
    },
    {
     "name": "stderr",
     "output_type": "stream",
     "text": [
      "Epoch 354: 100%|██████████| 938/938 [00:20<00:00, 46.51batch/s, Train Loss=0.382, Train Acc=85.4]\n"
     ]
    },
    {
     "name": "stdout",
     "output_type": "stream",
     "text": [
      "Epoch 354\n",
      "Train Loss: 0.3822, Train Accuracy: 85.39%\n",
      "Test Loss: 0.2630, Test Accuracy: 90.30%\n",
      "\n"
     ]
    },
    {
     "name": "stderr",
     "output_type": "stream",
     "text": [
      "Epoch 355: 100%|██████████| 938/938 [00:20<00:00, 46.67batch/s, Train Loss=0.378, Train Acc=85.9]\n"
     ]
    },
    {
     "name": "stdout",
     "output_type": "stream",
     "text": [
      "Epoch 355\n",
      "Train Loss: 0.3783, Train Accuracy: 85.88%\n",
      "Test Loss: 0.2690, Test Accuracy: 90.30%\n",
      "\n"
     ]
    },
    {
     "name": "stderr",
     "output_type": "stream",
     "text": [
      "Epoch 356: 100%|██████████| 938/938 [00:20<00:00, 46.62batch/s, Train Loss=0.374, Train Acc=85.9]\n"
     ]
    },
    {
     "name": "stdout",
     "output_type": "stream",
     "text": [
      "Epoch 356\n",
      "Train Loss: 0.3739, Train Accuracy: 85.86%\n",
      "Test Loss: 0.2668, Test Accuracy: 90.21%\n",
      "\n"
     ]
    },
    {
     "name": "stderr",
     "output_type": "stream",
     "text": [
      "Epoch 357: 100%|██████████| 938/938 [00:20<00:00, 45.73batch/s, Train Loss=0.373, Train Acc=85.9]\n"
     ]
    },
    {
     "name": "stdout",
     "output_type": "stream",
     "text": [
      "Epoch 357\n",
      "Train Loss: 0.3728, Train Accuracy: 85.86%\n",
      "Test Loss: 0.2772, Test Accuracy: 89.72%\n",
      "\n"
     ]
    },
    {
     "name": "stderr",
     "output_type": "stream",
     "text": [
      "Epoch 358: 100%|██████████| 938/938 [00:20<00:00, 45.99batch/s, Train Loss=0.377, Train Acc=85.7]\n"
     ]
    },
    {
     "name": "stdout",
     "output_type": "stream",
     "text": [
      "Epoch 358\n",
      "Train Loss: 0.3773, Train Accuracy: 85.68%\n",
      "Test Loss: 0.2700, Test Accuracy: 90.21%\n",
      "\n"
     ]
    },
    {
     "name": "stderr",
     "output_type": "stream",
     "text": [
      "Epoch 359: 100%|██████████| 938/938 [00:20<00:00, 46.11batch/s, Train Loss=0.374, Train Acc=85.7]\n"
     ]
    },
    {
     "name": "stdout",
     "output_type": "stream",
     "text": [
      "Epoch 359\n",
      "Train Loss: 0.3736, Train Accuracy: 85.66%\n",
      "Test Loss: 0.2640, Test Accuracy: 90.27%\n",
      "\n"
     ]
    },
    {
     "name": "stderr",
     "output_type": "stream",
     "text": [
      "Epoch 360: 100%|██████████| 938/938 [00:20<00:00, 46.30batch/s, Train Loss=0.376, Train Acc=85.8]\n"
     ]
    },
    {
     "name": "stdout",
     "output_type": "stream",
     "text": [
      "Epoch 360\n",
      "Train Loss: 0.3759, Train Accuracy: 85.78%\n",
      "Test Loss: 0.2678, Test Accuracy: 90.34%\n",
      "\n"
     ]
    },
    {
     "name": "stderr",
     "output_type": "stream",
     "text": [
      "Epoch 361: 100%|██████████| 938/938 [00:20<00:00, 46.01batch/s, Train Loss=0.375, Train Acc=85.9]\n"
     ]
    },
    {
     "name": "stdout",
     "output_type": "stream",
     "text": [
      "Epoch 361\n",
      "Train Loss: 0.3749, Train Accuracy: 85.86%\n",
      "Test Loss: 0.2604, Test Accuracy: 90.76%\n",
      "\n"
     ]
    },
    {
     "name": "stderr",
     "output_type": "stream",
     "text": [
      "Epoch 362: 100%|██████████| 938/938 [00:20<00:00, 46.42batch/s, Train Loss=0.375, Train Acc=85.7]\n"
     ]
    },
    {
     "name": "stdout",
     "output_type": "stream",
     "text": [
      "Epoch 362\n",
      "Train Loss: 0.3748, Train Accuracy: 85.73%\n",
      "Test Loss: 0.2650, Test Accuracy: 90.34%\n",
      "\n"
     ]
    },
    {
     "name": "stderr",
     "output_type": "stream",
     "text": [
      "Epoch 363: 100%|██████████| 938/938 [00:20<00:00, 45.96batch/s, Train Loss=0.376, Train Acc=85.7]\n"
     ]
    },
    {
     "name": "stdout",
     "output_type": "stream",
     "text": [
      "Epoch 363\n",
      "Train Loss: 0.3757, Train Accuracy: 85.72%\n",
      "Test Loss: 0.2662, Test Accuracy: 90.45%\n",
      "\n"
     ]
    },
    {
     "name": "stderr",
     "output_type": "stream",
     "text": [
      "Epoch 364: 100%|██████████| 938/938 [00:20<00:00, 46.64batch/s, Train Loss=0.374, Train Acc=85.9]\n"
     ]
    },
    {
     "name": "stdout",
     "output_type": "stream",
     "text": [
      "Epoch 364\n",
      "Train Loss: 0.3742, Train Accuracy: 85.94%\n",
      "Test Loss: 0.2678, Test Accuracy: 90.32%\n",
      "\n"
     ]
    },
    {
     "name": "stderr",
     "output_type": "stream",
     "text": [
      "Epoch 365: 100%|██████████| 938/938 [00:19<00:00, 46.95batch/s, Train Loss=0.378, Train Acc=85.6]\n"
     ]
    },
    {
     "name": "stdout",
     "output_type": "stream",
     "text": [
      "Epoch 365\n",
      "Train Loss: 0.3778, Train Accuracy: 85.58%\n",
      "Test Loss: 0.2644, Test Accuracy: 90.35%\n",
      "\n"
     ]
    },
    {
     "name": "stderr",
     "output_type": "stream",
     "text": [
      "Epoch 366: 100%|██████████| 938/938 [00:20<00:00, 46.34batch/s, Train Loss=0.375, Train Acc=85.7]\n"
     ]
    },
    {
     "name": "stdout",
     "output_type": "stream",
     "text": [
      "Epoch 366\n",
      "Train Loss: 0.3748, Train Accuracy: 85.73%\n",
      "Test Loss: 0.2665, Test Accuracy: 90.45%\n",
      "\n"
     ]
    },
    {
     "name": "stderr",
     "output_type": "stream",
     "text": [
      "Epoch 367: 100%|██████████| 938/938 [00:20<00:00, 45.70batch/s, Train Loss=0.373, Train Acc=86]  \n"
     ]
    },
    {
     "name": "stdout",
     "output_type": "stream",
     "text": [
      "Epoch 367\n",
      "Train Loss: 0.3731, Train Accuracy: 86.02%\n",
      "Test Loss: 0.2720, Test Accuracy: 90.29%\n",
      "\n"
     ]
    },
    {
     "name": "stderr",
     "output_type": "stream",
     "text": [
      "Epoch 368: 100%|██████████| 938/938 [00:20<00:00, 46.87batch/s, Train Loss=0.373, Train Acc=85.8]\n"
     ]
    },
    {
     "name": "stdout",
     "output_type": "stream",
     "text": [
      "Epoch 368\n",
      "Train Loss: 0.3728, Train Accuracy: 85.76%\n",
      "Test Loss: 0.2681, Test Accuracy: 90.15%\n",
      "\n"
     ]
    },
    {
     "name": "stderr",
     "output_type": "stream",
     "text": [
      "Epoch 369: 100%|██████████| 938/938 [00:20<00:00, 46.40batch/s, Train Loss=0.372, Train Acc=85.9]\n"
     ]
    },
    {
     "name": "stdout",
     "output_type": "stream",
     "text": [
      "Epoch 369\n",
      "Train Loss: 0.3724, Train Accuracy: 85.90%\n",
      "Test Loss: 0.2654, Test Accuracy: 90.53%\n",
      "\n"
     ]
    },
    {
     "name": "stderr",
     "output_type": "stream",
     "text": [
      "Epoch 370: 100%|██████████| 938/938 [00:20<00:00, 46.08batch/s, Train Loss=0.376, Train Acc=85.6]\n"
     ]
    },
    {
     "name": "stdout",
     "output_type": "stream",
     "text": [
      "Epoch 370\n",
      "Train Loss: 0.3762, Train Accuracy: 85.60%\n",
      "Test Loss: 0.2691, Test Accuracy: 90.39%\n",
      "\n"
     ]
    },
    {
     "name": "stderr",
     "output_type": "stream",
     "text": [
      "Epoch 371: 100%|██████████| 938/938 [00:20<00:00, 46.23batch/s, Train Loss=0.375, Train Acc=85.7]\n"
     ]
    },
    {
     "name": "stdout",
     "output_type": "stream",
     "text": [
      "Epoch 371\n",
      "Train Loss: 0.3748, Train Accuracy: 85.73%\n",
      "Test Loss: 0.2610, Test Accuracy: 90.58%\n",
      "\n"
     ]
    },
    {
     "name": "stderr",
     "output_type": "stream",
     "text": [
      "Epoch 372: 100%|██████████| 938/938 [00:20<00:00, 46.30batch/s, Train Loss=0.376, Train Acc=85.7]\n"
     ]
    },
    {
     "name": "stdout",
     "output_type": "stream",
     "text": [
      "Epoch 372\n",
      "Train Loss: 0.3761, Train Accuracy: 85.71%\n",
      "Test Loss: 0.2707, Test Accuracy: 90.28%\n",
      "\n"
     ]
    },
    {
     "name": "stderr",
     "output_type": "stream",
     "text": [
      "Epoch 373: 100%|██████████| 938/938 [00:20<00:00, 46.37batch/s, Train Loss=0.374, Train Acc=85.8]\n"
     ]
    },
    {
     "name": "stdout",
     "output_type": "stream",
     "text": [
      "Epoch 373\n",
      "Train Loss: 0.3742, Train Accuracy: 85.79%\n",
      "Test Loss: 0.2652, Test Accuracy: 90.56%\n",
      "\n"
     ]
    },
    {
     "name": "stderr",
     "output_type": "stream",
     "text": [
      "Epoch 374: 100%|██████████| 938/938 [00:20<00:00, 46.13batch/s, Train Loss=0.374, Train Acc=86]  \n"
     ]
    },
    {
     "name": "stdout",
     "output_type": "stream",
     "text": [
      "Epoch 374\n",
      "Train Loss: 0.3741, Train Accuracy: 85.95%\n",
      "Test Loss: 0.2637, Test Accuracy: 90.32%\n",
      "\n"
     ]
    },
    {
     "name": "stderr",
     "output_type": "stream",
     "text": [
      "Epoch 375: 100%|██████████| 938/938 [00:20<00:00, 46.62batch/s, Train Loss=0.375, Train Acc=85.8]\n"
     ]
    },
    {
     "name": "stdout",
     "output_type": "stream",
     "text": [
      "Epoch 375\n",
      "Train Loss: 0.3754, Train Accuracy: 85.83%\n",
      "Test Loss: 0.2663, Test Accuracy: 90.24%\n",
      "\n"
     ]
    },
    {
     "name": "stderr",
     "output_type": "stream",
     "text": [
      "Epoch 376: 100%|██████████| 938/938 [00:19<00:00, 47.22batch/s, Train Loss=0.374, Train Acc=85.8]\n"
     ]
    },
    {
     "name": "stdout",
     "output_type": "stream",
     "text": [
      "Epoch 376\n",
      "Train Loss: 0.3739, Train Accuracy: 85.80%\n",
      "Test Loss: 0.2654, Test Accuracy: 90.50%\n",
      "\n"
     ]
    },
    {
     "name": "stderr",
     "output_type": "stream",
     "text": [
      "Epoch 377: 100%|██████████| 938/938 [00:19<00:00, 47.55batch/s, Train Loss=0.371, Train Acc=86.1]\n"
     ]
    },
    {
     "name": "stdout",
     "output_type": "stream",
     "text": [
      "Epoch 377\n",
      "Train Loss: 0.3708, Train Accuracy: 86.06%\n",
      "Test Loss: 0.2667, Test Accuracy: 90.17%\n",
      "\n"
     ]
    },
    {
     "name": "stderr",
     "output_type": "stream",
     "text": [
      "Epoch 378: 100%|██████████| 938/938 [00:19<00:00, 47.61batch/s, Train Loss=0.376, Train Acc=85.7]\n"
     ]
    },
    {
     "name": "stdout",
     "output_type": "stream",
     "text": [
      "Epoch 378\n",
      "Train Loss: 0.3759, Train Accuracy: 85.73%\n",
      "Test Loss: 0.2635, Test Accuracy: 90.29%\n",
      "\n"
     ]
    },
    {
     "name": "stderr",
     "output_type": "stream",
     "text": [
      "Epoch 379: 100%|██████████| 938/938 [00:19<00:00, 47.39batch/s, Train Loss=0.371, Train Acc=85.9]\n"
     ]
    },
    {
     "name": "stdout",
     "output_type": "stream",
     "text": [
      "Epoch 379\n",
      "Train Loss: 0.3711, Train Accuracy: 85.89%\n",
      "Test Loss: 0.2651, Test Accuracy: 90.44%\n",
      "\n"
     ]
    },
    {
     "name": "stderr",
     "output_type": "stream",
     "text": [
      "Epoch 380: 100%|██████████| 938/938 [00:19<00:00, 47.63batch/s, Train Loss=0.374, Train Acc=85.8]\n"
     ]
    },
    {
     "name": "stdout",
     "output_type": "stream",
     "text": [
      "Epoch 380\n",
      "Train Loss: 0.3740, Train Accuracy: 85.82%\n",
      "Test Loss: 0.2612, Test Accuracy: 90.47%\n",
      "\n"
     ]
    },
    {
     "name": "stderr",
     "output_type": "stream",
     "text": [
      "Epoch 381: 100%|██████████| 938/938 [00:19<00:00, 47.71batch/s, Train Loss=0.374, Train Acc=85.9]\n"
     ]
    },
    {
     "name": "stdout",
     "output_type": "stream",
     "text": [
      "Epoch 381\n",
      "Train Loss: 0.3738, Train Accuracy: 85.86%\n",
      "Test Loss: 0.2615, Test Accuracy: 90.41%\n",
      "\n"
     ]
    },
    {
     "name": "stderr",
     "output_type": "stream",
     "text": [
      "Epoch 382: 100%|██████████| 938/938 [00:19<00:00, 47.21batch/s, Train Loss=0.371, Train Acc=85.8]\n"
     ]
    },
    {
     "name": "stdout",
     "output_type": "stream",
     "text": [
      "Epoch 382\n",
      "Train Loss: 0.3710, Train Accuracy: 85.81%\n",
      "Test Loss: 0.2635, Test Accuracy: 90.44%\n",
      "\n"
     ]
    },
    {
     "name": "stderr",
     "output_type": "stream",
     "text": [
      "Epoch 383: 100%|██████████| 938/938 [00:19<00:00, 47.75batch/s, Train Loss=0.377, Train Acc=85.8]\n"
     ]
    },
    {
     "name": "stdout",
     "output_type": "stream",
     "text": [
      "Epoch 383\n",
      "Train Loss: 0.3767, Train Accuracy: 85.81%\n",
      "Test Loss: 0.2621, Test Accuracy: 90.55%\n",
      "\n"
     ]
    },
    {
     "name": "stderr",
     "output_type": "stream",
     "text": [
      "Epoch 384: 100%|██████████| 938/938 [00:20<00:00, 45.33batch/s, Train Loss=0.374, Train Acc=85.7]\n"
     ]
    },
    {
     "name": "stdout",
     "output_type": "stream",
     "text": [
      "Epoch 384\n",
      "Train Loss: 0.3740, Train Accuracy: 85.73%\n",
      "Test Loss: 0.2624, Test Accuracy: 90.39%\n",
      "\n"
     ]
    },
    {
     "name": "stderr",
     "output_type": "stream",
     "text": [
      "Epoch 385: 100%|██████████| 938/938 [00:21<00:00, 44.61batch/s, Train Loss=0.374, Train Acc=85.9]\n"
     ]
    },
    {
     "name": "stdout",
     "output_type": "stream",
     "text": [
      "Epoch 385\n",
      "Train Loss: 0.3738, Train Accuracy: 85.88%\n",
      "Test Loss: 0.2627, Test Accuracy: 90.30%\n",
      "\n"
     ]
    },
    {
     "name": "stderr",
     "output_type": "stream",
     "text": [
      "Epoch 386: 100%|██████████| 938/938 [00:20<00:00, 46.35batch/s, Train Loss=0.373, Train Acc=86]  \n"
     ]
    },
    {
     "name": "stdout",
     "output_type": "stream",
     "text": [
      "Epoch 386\n",
      "Train Loss: 0.3731, Train Accuracy: 86.02%\n",
      "Test Loss: 0.2657, Test Accuracy: 90.27%\n",
      "\n"
     ]
    },
    {
     "name": "stderr",
     "output_type": "stream",
     "text": [
      "Epoch 387: 100%|██████████| 938/938 [00:20<00:00, 45.87batch/s, Train Loss=0.371, Train Acc=85.9]\n"
     ]
    },
    {
     "name": "stdout",
     "output_type": "stream",
     "text": [
      "Epoch 387\n",
      "Train Loss: 0.3713, Train Accuracy: 85.91%\n",
      "Test Loss: 0.2661, Test Accuracy: 90.09%\n",
      "\n"
     ]
    },
    {
     "name": "stderr",
     "output_type": "stream",
     "text": [
      "Epoch 388: 100%|██████████| 938/938 [00:20<00:00, 46.51batch/s, Train Loss=0.376, Train Acc=85.6]\n"
     ]
    },
    {
     "name": "stdout",
     "output_type": "stream",
     "text": [
      "Epoch 388\n",
      "Train Loss: 0.3765, Train Accuracy: 85.64%\n",
      "Test Loss: 0.2651, Test Accuracy: 90.26%\n",
      "\n"
     ]
    },
    {
     "name": "stderr",
     "output_type": "stream",
     "text": [
      "Epoch 389: 100%|██████████| 938/938 [00:20<00:00, 46.34batch/s, Train Loss=0.372, Train Acc=86]  \n"
     ]
    },
    {
     "name": "stdout",
     "output_type": "stream",
     "text": [
      "Epoch 389\n",
      "Train Loss: 0.3722, Train Accuracy: 85.97%\n",
      "Test Loss: 0.2591, Test Accuracy: 90.28%\n",
      "\n"
     ]
    },
    {
     "name": "stderr",
     "output_type": "stream",
     "text": [
      "Epoch 390: 100%|██████████| 938/938 [00:20<00:00, 46.57batch/s, Train Loss=0.373, Train Acc=85.8]\n"
     ]
    },
    {
     "name": "stdout",
     "output_type": "stream",
     "text": [
      "Epoch 390\n",
      "Train Loss: 0.3734, Train Accuracy: 85.75%\n",
      "Test Loss: 0.2631, Test Accuracy: 90.47%\n",
      "\n"
     ]
    },
    {
     "name": "stderr",
     "output_type": "stream",
     "text": [
      "Epoch 391: 100%|██████████| 938/938 [00:20<00:00, 45.66batch/s, Train Loss=0.373, Train Acc=85.7]\n"
     ]
    },
    {
     "name": "stdout",
     "output_type": "stream",
     "text": [
      "Epoch 391\n",
      "Train Loss: 0.3731, Train Accuracy: 85.74%\n",
      "Test Loss: 0.2626, Test Accuracy: 90.45%\n",
      "\n"
     ]
    },
    {
     "name": "stderr",
     "output_type": "stream",
     "text": [
      "Epoch 392: 100%|██████████| 938/938 [00:20<00:00, 45.83batch/s, Train Loss=0.371, Train Acc=86]  \n"
     ]
    },
    {
     "name": "stdout",
     "output_type": "stream",
     "text": [
      "Epoch 392\n",
      "Train Loss: 0.3709, Train Accuracy: 85.95%\n",
      "Test Loss: 0.2627, Test Accuracy: 90.48%\n",
      "\n"
     ]
    },
    {
     "name": "stderr",
     "output_type": "stream",
     "text": [
      "Epoch 393: 100%|██████████| 938/938 [00:20<00:00, 46.40batch/s, Train Loss=0.372, Train Acc=86]  \n"
     ]
    },
    {
     "name": "stdout",
     "output_type": "stream",
     "text": [
      "Epoch 393\n",
      "Train Loss: 0.3717, Train Accuracy: 85.97%\n",
      "Test Loss: 0.2605, Test Accuracy: 90.44%\n",
      "\n"
     ]
    },
    {
     "name": "stderr",
     "output_type": "stream",
     "text": [
      "Epoch 394: 100%|██████████| 938/938 [00:19<00:00, 46.99batch/s, Train Loss=0.37, Train Acc=86.1] \n"
     ]
    },
    {
     "name": "stdout",
     "output_type": "stream",
     "text": [
      "Epoch 394\n",
      "Train Loss: 0.3705, Train Accuracy: 86.07%\n",
      "Test Loss: 0.2676, Test Accuracy: 90.18%\n",
      "\n"
     ]
    },
    {
     "name": "stderr",
     "output_type": "stream",
     "text": [
      "Epoch 395: 100%|██████████| 938/938 [00:19<00:00, 46.95batch/s, Train Loss=0.372, Train Acc=85.9]\n"
     ]
    },
    {
     "name": "stdout",
     "output_type": "stream",
     "text": [
      "Epoch 395\n",
      "Train Loss: 0.3715, Train Accuracy: 85.89%\n",
      "Test Loss: 0.2585, Test Accuracy: 90.53%\n",
      "\n"
     ]
    },
    {
     "name": "stderr",
     "output_type": "stream",
     "text": [
      "Epoch 396: 100%|██████████| 938/938 [00:19<00:00, 47.03batch/s, Train Loss=0.373, Train Acc=85.9]\n"
     ]
    },
    {
     "name": "stdout",
     "output_type": "stream",
     "text": [
      "Epoch 396\n",
      "Train Loss: 0.3732, Train Accuracy: 85.89%\n",
      "Test Loss: 0.2632, Test Accuracy: 90.18%\n",
      "\n"
     ]
    },
    {
     "name": "stderr",
     "output_type": "stream",
     "text": [
      "Epoch 397: 100%|██████████| 938/938 [00:19<00:00, 46.92batch/s, Train Loss=0.372, Train Acc=85.9]\n"
     ]
    },
    {
     "name": "stdout",
     "output_type": "stream",
     "text": [
      "Epoch 397\n",
      "Train Loss: 0.3717, Train Accuracy: 85.85%\n",
      "Test Loss: 0.2625, Test Accuracy: 90.30%\n",
      "\n"
     ]
    },
    {
     "name": "stderr",
     "output_type": "stream",
     "text": [
      "Epoch 398: 100%|██████████| 938/938 [00:20<00:00, 46.43batch/s, Train Loss=0.371, Train Acc=85.8]\n"
     ]
    },
    {
     "name": "stdout",
     "output_type": "stream",
     "text": [
      "Epoch 398\n",
      "Train Loss: 0.3713, Train Accuracy: 85.84%\n",
      "Test Loss: 0.2625, Test Accuracy: 90.54%\n",
      "\n"
     ]
    },
    {
     "name": "stderr",
     "output_type": "stream",
     "text": [
      "Epoch 399: 100%|██████████| 938/938 [00:20<00:00, 46.53batch/s, Train Loss=0.373, Train Acc=85.7]\n"
     ]
    },
    {
     "name": "stdout",
     "output_type": "stream",
     "text": [
      "Epoch 399\n",
      "Train Loss: 0.3732, Train Accuracy: 85.75%\n",
      "Test Loss: 0.2617, Test Accuracy: 90.40%\n",
      "\n"
     ]
    },
    {
     "name": "stderr",
     "output_type": "stream",
     "text": [
      "Epoch 400: 100%|██████████| 938/938 [00:20<00:00, 46.65batch/s, Train Loss=0.373, Train Acc=85.8]\n"
     ]
    },
    {
     "name": "stdout",
     "output_type": "stream",
     "text": [
      "Epoch 400\n",
      "Train Loss: 0.3733, Train Accuracy: 85.85%\n",
      "Test Loss: 0.2632, Test Accuracy: 90.60%\n",
      "\n"
     ]
    },
    {
     "name": "stderr",
     "output_type": "stream",
     "text": [
      "Epoch 401: 100%|██████████| 938/938 [00:20<00:00, 46.69batch/s, Train Loss=0.372, Train Acc=86]  \n"
     ]
    },
    {
     "name": "stdout",
     "output_type": "stream",
     "text": [
      "Epoch 401\n",
      "Train Loss: 0.3717, Train Accuracy: 86.05%\n",
      "Test Loss: 0.2641, Test Accuracy: 90.57%\n",
      "\n"
     ]
    },
    {
     "name": "stderr",
     "output_type": "stream",
     "text": [
      "Epoch 402: 100%|██████████| 938/938 [00:20<00:00, 46.77batch/s, Train Loss=0.371, Train Acc=85.8]\n"
     ]
    },
    {
     "name": "stdout",
     "output_type": "stream",
     "text": [
      "Epoch 402\n",
      "Train Loss: 0.3710, Train Accuracy: 85.82%\n",
      "Test Loss: 0.2680, Test Accuracy: 90.41%\n",
      "\n"
     ]
    },
    {
     "name": "stderr",
     "output_type": "stream",
     "text": [
      "Epoch 403: 100%|██████████| 938/938 [00:20<00:00, 46.85batch/s, Train Loss=0.373, Train Acc=85.8]\n"
     ]
    },
    {
     "name": "stdout",
     "output_type": "stream",
     "text": [
      "Epoch 403\n",
      "Train Loss: 0.3730, Train Accuracy: 85.77%\n",
      "Test Loss: 0.2635, Test Accuracy: 90.48%\n",
      "\n"
     ]
    },
    {
     "name": "stderr",
     "output_type": "stream",
     "text": [
      "Epoch 404: 100%|██████████| 938/938 [00:19<00:00, 47.05batch/s, Train Loss=0.37, Train Acc=86.1] \n"
     ]
    },
    {
     "name": "stdout",
     "output_type": "stream",
     "text": [
      "Epoch 404\n",
      "Train Loss: 0.3700, Train Accuracy: 86.05%\n",
      "Test Loss: 0.2681, Test Accuracy: 90.21%\n",
      "\n"
     ]
    },
    {
     "name": "stderr",
     "output_type": "stream",
     "text": [
      "Epoch 405: 100%|██████████| 938/938 [00:19<00:00, 47.17batch/s, Train Loss=0.367, Train Acc=86.1]\n"
     ]
    },
    {
     "name": "stdout",
     "output_type": "stream",
     "text": [
      "Epoch 405\n",
      "Train Loss: 0.3674, Train Accuracy: 86.08%\n",
      "Test Loss: 0.2706, Test Accuracy: 90.21%\n",
      "\n"
     ]
    },
    {
     "name": "stderr",
     "output_type": "stream",
     "text": [
      "Epoch 406: 100%|██████████| 938/938 [00:19<00:00, 47.07batch/s, Train Loss=0.372, Train Acc=86]  \n"
     ]
    },
    {
     "name": "stdout",
     "output_type": "stream",
     "text": [
      "Epoch 406\n",
      "Train Loss: 0.3718, Train Accuracy: 85.98%\n",
      "Test Loss: 0.2677, Test Accuracy: 90.33%\n",
      "\n"
     ]
    },
    {
     "name": "stderr",
     "output_type": "stream",
     "text": [
      "Epoch 407: 100%|██████████| 938/938 [00:19<00:00, 46.91batch/s, Train Loss=0.37, Train Acc=86]   \n"
     ]
    },
    {
     "name": "stdout",
     "output_type": "stream",
     "text": [
      "Epoch 407\n",
      "Train Loss: 0.3703, Train Accuracy: 85.95%\n",
      "Test Loss: 0.2627, Test Accuracy: 90.43%\n",
      "\n"
     ]
    },
    {
     "name": "stderr",
     "output_type": "stream",
     "text": [
      "Epoch 408: 100%|██████████| 938/938 [00:19<00:00, 47.60batch/s, Train Loss=0.375, Train Acc=85.7]\n"
     ]
    },
    {
     "name": "stdout",
     "output_type": "stream",
     "text": [
      "Epoch 408\n",
      "Train Loss: 0.3754, Train Accuracy: 85.68%\n",
      "Test Loss: 0.2695, Test Accuracy: 90.17%\n",
      "\n"
     ]
    },
    {
     "name": "stderr",
     "output_type": "stream",
     "text": [
      "Epoch 409: 100%|██████████| 938/938 [00:19<00:00, 47.86batch/s, Train Loss=0.369, Train Acc=86]  \n"
     ]
    },
    {
     "name": "stdout",
     "output_type": "stream",
     "text": [
      "Epoch 409\n",
      "Train Loss: 0.3685, Train Accuracy: 85.99%\n",
      "Test Loss: 0.2651, Test Accuracy: 90.39%\n",
      "\n"
     ]
    },
    {
     "name": "stderr",
     "output_type": "stream",
     "text": [
      "Epoch 410: 100%|██████████| 938/938 [00:19<00:00, 47.63batch/s, Train Loss=0.373, Train Acc=85.9]\n"
     ]
    },
    {
     "name": "stdout",
     "output_type": "stream",
     "text": [
      "Epoch 410\n",
      "Train Loss: 0.3732, Train Accuracy: 85.94%\n",
      "Test Loss: 0.2610, Test Accuracy: 90.61%\n",
      "\n"
     ]
    },
    {
     "name": "stderr",
     "output_type": "stream",
     "text": [
      "Epoch 411: 100%|██████████| 938/938 [00:19<00:00, 47.80batch/s, Train Loss=0.367, Train Acc=86]  \n"
     ]
    },
    {
     "name": "stdout",
     "output_type": "stream",
     "text": [
      "Epoch 411\n",
      "Train Loss: 0.3672, Train Accuracy: 86.00%\n",
      "Test Loss: 0.2613, Test Accuracy: 90.68%\n",
      "\n"
     ]
    },
    {
     "name": "stderr",
     "output_type": "stream",
     "text": [
      "Epoch 412: 100%|██████████| 938/938 [00:20<00:00, 45.48batch/s, Train Loss=0.371, Train Acc=85.9]\n"
     ]
    },
    {
     "name": "stdout",
     "output_type": "stream",
     "text": [
      "Epoch 412\n",
      "Train Loss: 0.3713, Train Accuracy: 85.92%\n",
      "Test Loss: 0.2625, Test Accuracy: 90.64%\n",
      "\n"
     ]
    },
    {
     "name": "stderr",
     "output_type": "stream",
     "text": [
      "Epoch 413: 100%|██████████| 938/938 [00:20<00:00, 44.89batch/s, Train Loss=0.369, Train Acc=85.9]\n"
     ]
    },
    {
     "name": "stdout",
     "output_type": "stream",
     "text": [
      "Epoch 413\n",
      "Train Loss: 0.3693, Train Accuracy: 85.92%\n",
      "Test Loss: 0.2633, Test Accuracy: 90.62%\n",
      "\n"
     ]
    },
    {
     "name": "stderr",
     "output_type": "stream",
     "text": [
      "Epoch 414: 100%|██████████| 938/938 [00:20<00:00, 45.38batch/s, Train Loss=0.368, Train Acc=86]  \n"
     ]
    },
    {
     "name": "stdout",
     "output_type": "stream",
     "text": [
      "Epoch 414\n",
      "Train Loss: 0.3678, Train Accuracy: 86.00%\n",
      "Test Loss: 0.2653, Test Accuracy: 90.37%\n",
      "\n"
     ]
    },
    {
     "name": "stderr",
     "output_type": "stream",
     "text": [
      "Epoch 415: 100%|██████████| 938/938 [00:20<00:00, 44.97batch/s, Train Loss=0.373, Train Acc=85.9]\n"
     ]
    },
    {
     "name": "stdout",
     "output_type": "stream",
     "text": [
      "Epoch 415\n",
      "Train Loss: 0.3735, Train Accuracy: 85.88%\n",
      "Test Loss: 0.2622, Test Accuracy: 90.52%\n",
      "\n"
     ]
    },
    {
     "name": "stderr",
     "output_type": "stream",
     "text": [
      "Epoch 416: 100%|██████████| 938/938 [00:20<00:00, 45.42batch/s, Train Loss=0.369, Train Acc=85.9]\n"
     ]
    },
    {
     "name": "stdout",
     "output_type": "stream",
     "text": [
      "Epoch 416\n",
      "Train Loss: 0.3688, Train Accuracy: 85.92%\n",
      "Test Loss: 0.2575, Test Accuracy: 90.64%\n",
      "\n"
     ]
    },
    {
     "name": "stderr",
     "output_type": "stream",
     "text": [
      "Epoch 417: 100%|██████████| 938/938 [00:20<00:00, 45.61batch/s, Train Loss=0.372, Train Acc=86]  \n"
     ]
    },
    {
     "name": "stdout",
     "output_type": "stream",
     "text": [
      "Epoch 417\n",
      "Train Loss: 0.3715, Train Accuracy: 86.00%\n",
      "Test Loss: 0.2578, Test Accuracy: 90.65%\n",
      "\n"
     ]
    },
    {
     "name": "stderr",
     "output_type": "stream",
     "text": [
      "Epoch 418: 100%|██████████| 938/938 [00:20<00:00, 45.53batch/s, Train Loss=0.366, Train Acc=86.1]\n"
     ]
    },
    {
     "name": "stdout",
     "output_type": "stream",
     "text": [
      "Epoch 418\n",
      "Train Loss: 0.3664, Train Accuracy: 86.06%\n",
      "Test Loss: 0.2587, Test Accuracy: 90.63%\n",
      "\n"
     ]
    },
    {
     "name": "stderr",
     "output_type": "stream",
     "text": [
      "Epoch 419: 100%|██████████| 938/938 [00:20<00:00, 45.51batch/s, Train Loss=0.37, Train Acc=85.8] \n"
     ]
    },
    {
     "name": "stdout",
     "output_type": "stream",
     "text": [
      "Epoch 419\n",
      "Train Loss: 0.3702, Train Accuracy: 85.80%\n",
      "Test Loss: 0.2618, Test Accuracy: 90.68%\n",
      "\n"
     ]
    },
    {
     "name": "stderr",
     "output_type": "stream",
     "text": [
      "Epoch 420: 100%|██████████| 938/938 [00:20<00:00, 45.69batch/s, Train Loss=0.373, Train Acc=85.9]\n"
     ]
    },
    {
     "name": "stdout",
     "output_type": "stream",
     "text": [
      "Epoch 420\n",
      "Train Loss: 0.3731, Train Accuracy: 85.91%\n",
      "Test Loss: 0.2621, Test Accuracy: 90.60%\n",
      "\n"
     ]
    },
    {
     "name": "stderr",
     "output_type": "stream",
     "text": [
      "Epoch 421: 100%|██████████| 938/938 [00:20<00:00, 45.45batch/s, Train Loss=0.368, Train Acc=86.1]\n"
     ]
    },
    {
     "name": "stdout",
     "output_type": "stream",
     "text": [
      "Epoch 421\n",
      "Train Loss: 0.3679, Train Accuracy: 86.12%\n",
      "Test Loss: 0.2631, Test Accuracy: 90.79%\n",
      "\n"
     ]
    },
    {
     "name": "stderr",
     "output_type": "stream",
     "text": [
      "Epoch 422: 100%|██████████| 938/938 [00:20<00:00, 45.51batch/s, Train Loss=0.37, Train Acc=86]   \n"
     ]
    },
    {
     "name": "stdout",
     "output_type": "stream",
     "text": [
      "Epoch 422\n",
      "Train Loss: 0.3700, Train Accuracy: 86.04%\n",
      "Test Loss: 0.2625, Test Accuracy: 90.49%\n",
      "\n"
     ]
    },
    {
     "name": "stderr",
     "output_type": "stream",
     "text": [
      "Epoch 423: 100%|██████████| 938/938 [00:20<00:00, 45.67batch/s, Train Loss=0.368, Train Acc=86.1]\n"
     ]
    },
    {
     "name": "stdout",
     "output_type": "stream",
     "text": [
      "Epoch 423\n",
      "Train Loss: 0.3680, Train Accuracy: 86.08%\n",
      "Test Loss: 0.2645, Test Accuracy: 90.38%\n",
      "\n"
     ]
    },
    {
     "name": "stderr",
     "output_type": "stream",
     "text": [
      "Epoch 424: 100%|██████████| 938/938 [00:20<00:00, 45.95batch/s, Train Loss=0.369, Train Acc=85.9]\n"
     ]
    },
    {
     "name": "stdout",
     "output_type": "stream",
     "text": [
      "Epoch 424\n",
      "Train Loss: 0.3694, Train Accuracy: 85.92%\n",
      "Test Loss: 0.2593, Test Accuracy: 90.58%\n",
      "\n"
     ]
    },
    {
     "name": "stderr",
     "output_type": "stream",
     "text": [
      "Epoch 425: 100%|██████████| 938/938 [00:20<00:00, 45.87batch/s, Train Loss=0.371, Train Acc=86]  \n"
     ]
    },
    {
     "name": "stdout",
     "output_type": "stream",
     "text": [
      "Epoch 425\n",
      "Train Loss: 0.3706, Train Accuracy: 86.03%\n",
      "Test Loss: 0.2696, Test Accuracy: 90.37%\n",
      "\n"
     ]
    },
    {
     "name": "stderr",
     "output_type": "stream",
     "text": [
      "Epoch 426: 100%|██████████| 938/938 [00:20<00:00, 45.48batch/s, Train Loss=0.368, Train Acc=86.1]\n"
     ]
    },
    {
     "name": "stdout",
     "output_type": "stream",
     "text": [
      "Epoch 426\n",
      "Train Loss: 0.3685, Train Accuracy: 86.07%\n",
      "Test Loss: 0.2584, Test Accuracy: 90.66%\n",
      "\n"
     ]
    },
    {
     "name": "stderr",
     "output_type": "stream",
     "text": [
      "Epoch 427: 100%|██████████| 938/938 [00:20<00:00, 45.82batch/s, Train Loss=0.365, Train Acc=86.1]\n"
     ]
    },
    {
     "name": "stdout",
     "output_type": "stream",
     "text": [
      "Epoch 427\n",
      "Train Loss: 0.3653, Train Accuracy: 86.07%\n",
      "Test Loss: 0.2586, Test Accuracy: 90.29%\n",
      "\n"
     ]
    },
    {
     "name": "stderr",
     "output_type": "stream",
     "text": [
      "Epoch 428: 100%|██████████| 938/938 [00:20<00:00, 46.08batch/s, Train Loss=0.365, Train Acc=86.2]\n"
     ]
    },
    {
     "name": "stdout",
     "output_type": "stream",
     "text": [
      "Epoch 428\n",
      "Train Loss: 0.3655, Train Accuracy: 86.19%\n",
      "Test Loss: 0.2676, Test Accuracy: 90.29%\n",
      "\n"
     ]
    },
    {
     "name": "stderr",
     "output_type": "stream",
     "text": [
      "Epoch 429: 100%|██████████| 938/938 [00:20<00:00, 45.68batch/s, Train Loss=0.367, Train Acc=86.1]\n"
     ]
    },
    {
     "name": "stdout",
     "output_type": "stream",
     "text": [
      "Epoch 429\n",
      "Train Loss: 0.3666, Train Accuracy: 86.14%\n",
      "Test Loss: 0.2595, Test Accuracy: 90.65%\n",
      "\n"
     ]
    },
    {
     "name": "stderr",
     "output_type": "stream",
     "text": [
      "Epoch 430: 100%|██████████| 938/938 [00:20<00:00, 45.85batch/s, Train Loss=0.367, Train Acc=86.1]\n"
     ]
    },
    {
     "name": "stdout",
     "output_type": "stream",
     "text": [
      "Epoch 430\n",
      "Train Loss: 0.3666, Train Accuracy: 86.11%\n",
      "Test Loss: 0.2590, Test Accuracy: 90.62%\n",
      "\n"
     ]
    },
    {
     "name": "stderr",
     "output_type": "stream",
     "text": [
      "Epoch 431: 100%|██████████| 938/938 [00:20<00:00, 45.50batch/s, Train Loss=0.368, Train Acc=86.1]\n"
     ]
    },
    {
     "name": "stdout",
     "output_type": "stream",
     "text": [
      "Epoch 431\n",
      "Train Loss: 0.3684, Train Accuracy: 86.11%\n",
      "Test Loss: 0.2605, Test Accuracy: 90.53%\n",
      "\n"
     ]
    },
    {
     "name": "stderr",
     "output_type": "stream",
     "text": [
      "Epoch 432: 100%|██████████| 938/938 [00:19<00:00, 47.25batch/s, Train Loss=0.367, Train Acc=86.1]\n"
     ]
    },
    {
     "name": "stdout",
     "output_type": "stream",
     "text": [
      "Epoch 432\n",
      "Train Loss: 0.3670, Train Accuracy: 86.08%\n",
      "Test Loss: 0.2672, Test Accuracy: 90.52%\n",
      "\n"
     ]
    },
    {
     "name": "stderr",
     "output_type": "stream",
     "text": [
      "Epoch 433: 100%|██████████| 938/938 [00:19<00:00, 48.01batch/s, Train Loss=0.364, Train Acc=86.1]\n"
     ]
    },
    {
     "name": "stdout",
     "output_type": "stream",
     "text": [
      "Epoch 433\n",
      "Train Loss: 0.3644, Train Accuracy: 86.11%\n",
      "Test Loss: 0.2634, Test Accuracy: 90.25%\n",
      "\n"
     ]
    },
    {
     "name": "stderr",
     "output_type": "stream",
     "text": [
      "Epoch 434: 100%|██████████| 938/938 [00:19<00:00, 48.07batch/s, Train Loss=0.366, Train Acc=86.1]\n"
     ]
    },
    {
     "name": "stdout",
     "output_type": "stream",
     "text": [
      "Epoch 434\n",
      "Train Loss: 0.3661, Train Accuracy: 86.09%\n",
      "Test Loss: 0.2631, Test Accuracy: 90.61%\n",
      "\n"
     ]
    },
    {
     "name": "stderr",
     "output_type": "stream",
     "text": [
      "Epoch 435: 100%|██████████| 938/938 [00:19<00:00, 47.85batch/s, Train Loss=0.368, Train Acc=85.9]\n"
     ]
    },
    {
     "name": "stdout",
     "output_type": "stream",
     "text": [
      "Epoch 435\n",
      "Train Loss: 0.3683, Train Accuracy: 85.85%\n",
      "Test Loss: 0.2651, Test Accuracy: 90.34%\n",
      "\n"
     ]
    },
    {
     "name": "stderr",
     "output_type": "stream",
     "text": [
      "Epoch 436: 100%|██████████| 938/938 [00:19<00:00, 48.02batch/s, Train Loss=0.37, Train Acc=85.9] \n"
     ]
    },
    {
     "name": "stdout",
     "output_type": "stream",
     "text": [
      "Epoch 436\n",
      "Train Loss: 0.3698, Train Accuracy: 85.86%\n",
      "Test Loss: 0.2609, Test Accuracy: 90.55%\n",
      "\n"
     ]
    },
    {
     "name": "stderr",
     "output_type": "stream",
     "text": [
      "Epoch 437: 100%|██████████| 938/938 [00:19<00:00, 48.13batch/s, Train Loss=0.368, Train Acc=86.2]\n"
     ]
    },
    {
     "name": "stdout",
     "output_type": "stream",
     "text": [
      "Epoch 437\n",
      "Train Loss: 0.3678, Train Accuracy: 86.23%\n",
      "Test Loss: 0.2673, Test Accuracy: 90.34%\n",
      "\n"
     ]
    },
    {
     "name": "stderr",
     "output_type": "stream",
     "text": [
      "Epoch 438: 100%|██████████| 938/938 [00:19<00:00, 48.22batch/s, Train Loss=0.369, Train Acc=86]  \n"
     ]
    },
    {
     "name": "stdout",
     "output_type": "stream",
     "text": [
      "Epoch 438\n",
      "Train Loss: 0.3686, Train Accuracy: 85.97%\n",
      "Test Loss: 0.2645, Test Accuracy: 90.40%\n",
      "\n"
     ]
    },
    {
     "name": "stderr",
     "output_type": "stream",
     "text": [
      "Epoch 439: 100%|██████████| 938/938 [00:19<00:00, 48.12batch/s, Train Loss=0.367, Train Acc=86.1]\n"
     ]
    },
    {
     "name": "stdout",
     "output_type": "stream",
     "text": [
      "Epoch 439\n",
      "Train Loss: 0.3665, Train Accuracy: 86.15%\n",
      "Test Loss: 0.2610, Test Accuracy: 90.53%\n",
      "\n"
     ]
    },
    {
     "name": "stderr",
     "output_type": "stream",
     "text": [
      "Epoch 440: 100%|██████████| 938/938 [00:19<00:00, 47.95batch/s, Train Loss=0.37, Train Acc=85.9] \n"
     ]
    },
    {
     "name": "stdout",
     "output_type": "stream",
     "text": [
      "Epoch 440\n",
      "Train Loss: 0.3703, Train Accuracy: 85.91%\n",
      "Test Loss: 0.2648, Test Accuracy: 90.40%\n",
      "\n"
     ]
    },
    {
     "name": "stderr",
     "output_type": "stream",
     "text": [
      "Epoch 441: 100%|██████████| 938/938 [00:19<00:00, 47.67batch/s, Train Loss=0.369, Train Acc=86]  \n"
     ]
    },
    {
     "name": "stdout",
     "output_type": "stream",
     "text": [
      "Epoch 441\n",
      "Train Loss: 0.3690, Train Accuracy: 86.01%\n",
      "Test Loss: 0.2591, Test Accuracy: 90.49%\n",
      "\n"
     ]
    },
    {
     "name": "stderr",
     "output_type": "stream",
     "text": [
      "Epoch 442: 100%|██████████| 938/938 [00:19<00:00, 47.88batch/s, Train Loss=0.363, Train Acc=86.3]\n"
     ]
    },
    {
     "name": "stdout",
     "output_type": "stream",
     "text": [
      "Epoch 442\n",
      "Train Loss: 0.3625, Train Accuracy: 86.30%\n",
      "Test Loss: 0.2622, Test Accuracy: 90.45%\n",
      "\n"
     ]
    },
    {
     "name": "stderr",
     "output_type": "stream",
     "text": [
      "Epoch 443: 100%|██████████| 938/938 [00:19<00:00, 48.45batch/s, Train Loss=0.368, Train Acc=85.9]\n"
     ]
    },
    {
     "name": "stdout",
     "output_type": "stream",
     "text": [
      "Epoch 443\n",
      "Train Loss: 0.3685, Train Accuracy: 85.94%\n",
      "Test Loss: 0.2647, Test Accuracy: 90.52%\n",
      "\n"
     ]
    },
    {
     "name": "stderr",
     "output_type": "stream",
     "text": [
      "Epoch 444: 100%|██████████| 938/938 [00:19<00:00, 47.96batch/s, Train Loss=0.366, Train Acc=86.1]\n"
     ]
    },
    {
     "name": "stdout",
     "output_type": "stream",
     "text": [
      "Epoch 444\n",
      "Train Loss: 0.3661, Train Accuracy: 86.10%\n",
      "Test Loss: 0.2668, Test Accuracy: 90.19%\n",
      "\n"
     ]
    },
    {
     "name": "stderr",
     "output_type": "stream",
     "text": [
      "Epoch 445: 100%|██████████| 938/938 [00:19<00:00, 48.03batch/s, Train Loss=0.368, Train Acc=86.2]\n"
     ]
    },
    {
     "name": "stdout",
     "output_type": "stream",
     "text": [
      "Epoch 445\n",
      "Train Loss: 0.3676, Train Accuracy: 86.22%\n",
      "Test Loss: 0.2645, Test Accuracy: 90.44%\n",
      "\n"
     ]
    },
    {
     "name": "stderr",
     "output_type": "stream",
     "text": [
      "Epoch 446: 100%|██████████| 938/938 [00:19<00:00, 48.01batch/s, Train Loss=0.362, Train Acc=86.2]\n"
     ]
    },
    {
     "name": "stdout",
     "output_type": "stream",
     "text": [
      "Epoch 446\n",
      "Train Loss: 0.3624, Train Accuracy: 86.21%\n",
      "Test Loss: 0.2568, Test Accuracy: 90.69%\n",
      "\n"
     ]
    },
    {
     "name": "stderr",
     "output_type": "stream",
     "text": [
      "Epoch 447: 100%|██████████| 938/938 [00:19<00:00, 47.87batch/s, Train Loss=0.365, Train Acc=86.3]\n"
     ]
    },
    {
     "name": "stdout",
     "output_type": "stream",
     "text": [
      "Epoch 447\n",
      "Train Loss: 0.3650, Train Accuracy: 86.29%\n",
      "Test Loss: 0.2645, Test Accuracy: 90.55%\n",
      "\n"
     ]
    },
    {
     "name": "stderr",
     "output_type": "stream",
     "text": [
      "Epoch 448: 100%|██████████| 938/938 [00:19<00:00, 47.99batch/s, Train Loss=0.367, Train Acc=86]  \n"
     ]
    },
    {
     "name": "stdout",
     "output_type": "stream",
     "text": [
      "Epoch 448\n",
      "Train Loss: 0.3668, Train Accuracy: 86.02%\n",
      "Test Loss: 0.2645, Test Accuracy: 90.47%\n",
      "\n"
     ]
    },
    {
     "name": "stderr",
     "output_type": "stream",
     "text": [
      "Epoch 449: 100%|██████████| 938/938 [00:19<00:00, 48.23batch/s, Train Loss=0.367, Train Acc=86.2]\n"
     ]
    },
    {
     "name": "stdout",
     "output_type": "stream",
     "text": [
      "Epoch 449\n",
      "Train Loss: 0.3666, Train Accuracy: 86.22%\n",
      "Test Loss: 0.2609, Test Accuracy: 90.64%\n",
      "\n"
     ]
    },
    {
     "name": "stderr",
     "output_type": "stream",
     "text": [
      "Epoch 450: 100%|██████████| 938/938 [00:19<00:00, 47.95batch/s, Train Loss=0.367, Train Acc=86.2]\n"
     ]
    },
    {
     "name": "stdout",
     "output_type": "stream",
     "text": [
      "Epoch 450\n",
      "Train Loss: 0.3674, Train Accuracy: 86.18%\n",
      "Test Loss: 0.2600, Test Accuracy: 90.70%\n",
      "\n"
     ]
    },
    {
     "name": "stderr",
     "output_type": "stream",
     "text": [
      "Epoch 451: 100%|██████████| 938/938 [00:19<00:00, 48.17batch/s, Train Loss=0.363, Train Acc=86.1]\n"
     ]
    },
    {
     "name": "stdout",
     "output_type": "stream",
     "text": [
      "Epoch 451\n",
      "Train Loss: 0.3634, Train Accuracy: 86.08%\n",
      "Test Loss: 0.2645, Test Accuracy: 90.52%\n",
      "\n"
     ]
    },
    {
     "name": "stderr",
     "output_type": "stream",
     "text": [
      "Epoch 452: 100%|██████████| 938/938 [00:19<00:00, 48.31batch/s, Train Loss=0.368, Train Acc=86.2]\n"
     ]
    },
    {
     "name": "stdout",
     "output_type": "stream",
     "text": [
      "Epoch 452\n",
      "Train Loss: 0.3677, Train Accuracy: 86.15%\n",
      "Test Loss: 0.2593, Test Accuracy: 90.63%\n",
      "\n"
     ]
    },
    {
     "name": "stderr",
     "output_type": "stream",
     "text": [
      "Epoch 453: 100%|██████████| 938/938 [00:19<00:00, 47.76batch/s, Train Loss=0.365, Train Acc=86.1]\n"
     ]
    },
    {
     "name": "stdout",
     "output_type": "stream",
     "text": [
      "Epoch 453\n",
      "Train Loss: 0.3646, Train Accuracy: 86.13%\n",
      "Test Loss: 0.2621, Test Accuracy: 90.53%\n",
      "\n"
     ]
    },
    {
     "name": "stderr",
     "output_type": "stream",
     "text": [
      "Epoch 454: 100%|██████████| 938/938 [00:19<00:00, 47.95batch/s, Train Loss=0.364, Train Acc=86.3]\n"
     ]
    },
    {
     "name": "stdout",
     "output_type": "stream",
     "text": [
      "Epoch 454\n",
      "Train Loss: 0.3641, Train Accuracy: 86.35%\n",
      "Test Loss: 0.2651, Test Accuracy: 90.36%\n",
      "\n"
     ]
    },
    {
     "name": "stderr",
     "output_type": "stream",
     "text": [
      "Epoch 455: 100%|██████████| 938/938 [00:19<00:00, 47.99batch/s, Train Loss=0.366, Train Acc=86.1]\n"
     ]
    },
    {
     "name": "stdout",
     "output_type": "stream",
     "text": [
      "Epoch 455\n",
      "Train Loss: 0.3658, Train Accuracy: 86.12%\n",
      "Test Loss: 0.2595, Test Accuracy: 90.58%\n",
      "\n"
     ]
    },
    {
     "name": "stderr",
     "output_type": "stream",
     "text": [
      "Epoch 456: 100%|██████████| 938/938 [00:19<00:00, 48.38batch/s, Train Loss=0.368, Train Acc=85.9]\n"
     ]
    },
    {
     "name": "stdout",
     "output_type": "stream",
     "text": [
      "Epoch 456\n",
      "Train Loss: 0.3676, Train Accuracy: 85.94%\n",
      "Test Loss: 0.2655, Test Accuracy: 90.54%\n",
      "\n"
     ]
    },
    {
     "name": "stderr",
     "output_type": "stream",
     "text": [
      "Epoch 457: 100%|██████████| 938/938 [00:19<00:00, 48.21batch/s, Train Loss=0.37, Train Acc=86]   \n"
     ]
    },
    {
     "name": "stdout",
     "output_type": "stream",
     "text": [
      "Epoch 457\n",
      "Train Loss: 0.3696, Train Accuracy: 85.99%\n",
      "Test Loss: 0.2644, Test Accuracy: 90.23%\n",
      "\n"
     ]
    },
    {
     "name": "stderr",
     "output_type": "stream",
     "text": [
      "Epoch 458: 100%|██████████| 938/938 [00:19<00:00, 47.93batch/s, Train Loss=0.365, Train Acc=86.2]\n"
     ]
    },
    {
     "name": "stdout",
     "output_type": "stream",
     "text": [
      "Epoch 458\n",
      "Train Loss: 0.3654, Train Accuracy: 86.21%\n",
      "Test Loss: 0.2612, Test Accuracy: 90.53%\n",
      "\n"
     ]
    },
    {
     "name": "stderr",
     "output_type": "stream",
     "text": [
      "Epoch 459: 100%|██████████| 938/938 [00:19<00:00, 48.07batch/s, Train Loss=0.363, Train Acc=86.2]\n"
     ]
    },
    {
     "name": "stdout",
     "output_type": "stream",
     "text": [
      "Epoch 459\n",
      "Train Loss: 0.3630, Train Accuracy: 86.23%\n",
      "Test Loss: 0.2631, Test Accuracy: 90.15%\n",
      "\n"
     ]
    },
    {
     "name": "stderr",
     "output_type": "stream",
     "text": [
      "Epoch 460: 100%|██████████| 938/938 [00:19<00:00, 48.19batch/s, Train Loss=0.365, Train Acc=86.1]\n"
     ]
    },
    {
     "name": "stdout",
     "output_type": "stream",
     "text": [
      "Epoch 460\n",
      "Train Loss: 0.3651, Train Accuracy: 86.13%\n",
      "Test Loss: 0.2608, Test Accuracy: 90.62%\n",
      "\n"
     ]
    },
    {
     "name": "stderr",
     "output_type": "stream",
     "text": [
      "Epoch 461: 100%|██████████| 938/938 [00:19<00:00, 47.59batch/s, Train Loss=0.366, Train Acc=86.1]\n"
     ]
    },
    {
     "name": "stdout",
     "output_type": "stream",
     "text": [
      "Epoch 461\n",
      "Train Loss: 0.3656, Train Accuracy: 86.08%\n",
      "Test Loss: 0.2588, Test Accuracy: 90.60%\n",
      "\n"
     ]
    },
    {
     "name": "stderr",
     "output_type": "stream",
     "text": [
      "Epoch 462: 100%|██████████| 938/938 [00:19<00:00, 47.93batch/s, Train Loss=0.368, Train Acc=86.1]\n"
     ]
    },
    {
     "name": "stdout",
     "output_type": "stream",
     "text": [
      "Epoch 462\n",
      "Train Loss: 0.3678, Train Accuracy: 86.12%\n",
      "Test Loss: 0.2576, Test Accuracy: 90.51%\n",
      "\n"
     ]
    },
    {
     "name": "stderr",
     "output_type": "stream",
     "text": [
      "Epoch 463: 100%|██████████| 938/938 [00:19<00:00, 48.05batch/s, Train Loss=0.363, Train Acc=86.3]\n"
     ]
    },
    {
     "name": "stdout",
     "output_type": "stream",
     "text": [
      "Epoch 463\n",
      "Train Loss: 0.3631, Train Accuracy: 86.25%\n",
      "Test Loss: 0.2615, Test Accuracy: 90.63%\n",
      "\n"
     ]
    },
    {
     "name": "stderr",
     "output_type": "stream",
     "text": [
      "Epoch 464: 100%|██████████| 938/938 [00:19<00:00, 48.14batch/s, Train Loss=0.366, Train Acc=86.1]\n"
     ]
    },
    {
     "name": "stdout",
     "output_type": "stream",
     "text": [
      "Epoch 464\n",
      "Train Loss: 0.3661, Train Accuracy: 86.07%\n",
      "Test Loss: 0.2618, Test Accuracy: 90.61%\n",
      "\n"
     ]
    },
    {
     "name": "stderr",
     "output_type": "stream",
     "text": [
      "Epoch 465: 100%|██████████| 938/938 [00:19<00:00, 47.95batch/s, Train Loss=0.365, Train Acc=86.1]\n"
     ]
    },
    {
     "name": "stdout",
     "output_type": "stream",
     "text": [
      "Epoch 465\n",
      "Train Loss: 0.3654, Train Accuracy: 86.07%\n",
      "Test Loss: 0.2541, Test Accuracy: 90.79%\n",
      "\n"
     ]
    },
    {
     "name": "stderr",
     "output_type": "stream",
     "text": [
      "Epoch 466: 100%|██████████| 938/938 [00:19<00:00, 48.14batch/s, Train Loss=0.365, Train Acc=86.2]\n"
     ]
    },
    {
     "name": "stdout",
     "output_type": "stream",
     "text": [
      "Epoch 466\n",
      "Train Loss: 0.3651, Train Accuracy: 86.17%\n",
      "Test Loss: 0.2555, Test Accuracy: 90.77%\n",
      "\n"
     ]
    },
    {
     "name": "stderr",
     "output_type": "stream",
     "text": [
      "Epoch 467: 100%|██████████| 938/938 [00:19<00:00, 48.19batch/s, Train Loss=0.363, Train Acc=86.1]\n"
     ]
    },
    {
     "name": "stdout",
     "output_type": "stream",
     "text": [
      "Epoch 467\n",
      "Train Loss: 0.3635, Train Accuracy: 86.14%\n",
      "Test Loss: 0.2581, Test Accuracy: 90.66%\n",
      "\n"
     ]
    },
    {
     "name": "stderr",
     "output_type": "stream",
     "text": [
      "Epoch 468: 100%|██████████| 938/938 [00:19<00:00, 47.95batch/s, Train Loss=0.365, Train Acc=86.2]\n"
     ]
    },
    {
     "name": "stdout",
     "output_type": "stream",
     "text": [
      "Epoch 468\n",
      "Train Loss: 0.3651, Train Accuracy: 86.22%\n",
      "Test Loss: 0.2587, Test Accuracy: 90.59%\n",
      "\n"
     ]
    },
    {
     "name": "stderr",
     "output_type": "stream",
     "text": [
      "Epoch 469: 100%|██████████| 938/938 [00:19<00:00, 47.86batch/s, Train Loss=0.364, Train Acc=86.2]\n"
     ]
    },
    {
     "name": "stdout",
     "output_type": "stream",
     "text": [
      "Epoch 469\n",
      "Train Loss: 0.3640, Train Accuracy: 86.20%\n",
      "Test Loss: 0.2559, Test Accuracy: 90.55%\n",
      "\n"
     ]
    },
    {
     "name": "stderr",
     "output_type": "stream",
     "text": [
      "Epoch 470: 100%|██████████| 938/938 [00:19<00:00, 48.10batch/s, Train Loss=0.367, Train Acc=86.2]\n"
     ]
    },
    {
     "name": "stdout",
     "output_type": "stream",
     "text": [
      "Epoch 470\n",
      "Train Loss: 0.3666, Train Accuracy: 86.19%\n",
      "Test Loss: 0.2564, Test Accuracy: 90.80%\n",
      "\n"
     ]
    },
    {
     "name": "stderr",
     "output_type": "stream",
     "text": [
      "Epoch 471: 100%|██████████| 938/938 [00:19<00:00, 47.74batch/s, Train Loss=0.363, Train Acc=86.3]\n"
     ]
    },
    {
     "name": "stdout",
     "output_type": "stream",
     "text": [
      "Epoch 471\n",
      "Train Loss: 0.3628, Train Accuracy: 86.29%\n",
      "Test Loss: 0.2670, Test Accuracy: 90.38%\n",
      "\n"
     ]
    },
    {
     "name": "stderr",
     "output_type": "stream",
     "text": [
      "Epoch 472: 100%|██████████| 938/938 [00:19<00:00, 48.08batch/s, Train Loss=0.367, Train Acc=86.1]\n"
     ]
    },
    {
     "name": "stdout",
     "output_type": "stream",
     "text": [
      "Epoch 472\n",
      "Train Loss: 0.3668, Train Accuracy: 86.11%\n",
      "Test Loss: 0.2612, Test Accuracy: 90.62%\n",
      "\n"
     ]
    },
    {
     "name": "stderr",
     "output_type": "stream",
     "text": [
      "Epoch 473: 100%|██████████| 938/938 [00:19<00:00, 48.07batch/s, Train Loss=0.367, Train Acc=86.3]\n"
     ]
    },
    {
     "name": "stdout",
     "output_type": "stream",
     "text": [
      "Epoch 473\n",
      "Train Loss: 0.3674, Train Accuracy: 86.27%\n",
      "Test Loss: 0.2568, Test Accuracy: 90.75%\n",
      "\n"
     ]
    },
    {
     "name": "stderr",
     "output_type": "stream",
     "text": [
      "Epoch 474: 100%|██████████| 938/938 [00:19<00:00, 48.09batch/s, Train Loss=0.366, Train Acc=86.2]\n"
     ]
    },
    {
     "name": "stdout",
     "output_type": "stream",
     "text": [
      "Epoch 474\n",
      "Train Loss: 0.3663, Train Accuracy: 86.22%\n",
      "Test Loss: 0.2593, Test Accuracy: 90.72%\n",
      "\n"
     ]
    },
    {
     "name": "stderr",
     "output_type": "stream",
     "text": [
      "Epoch 475: 100%|██████████| 938/938 [00:19<00:00, 48.25batch/s, Train Loss=0.366, Train Acc=85.9]\n"
     ]
    },
    {
     "name": "stdout",
     "output_type": "stream",
     "text": [
      "Epoch 475\n",
      "Train Loss: 0.3660, Train Accuracy: 85.94%\n",
      "Test Loss: 0.2607, Test Accuracy: 90.43%\n",
      "\n"
     ]
    },
    {
     "name": "stderr",
     "output_type": "stream",
     "text": [
      "Epoch 476: 100%|██████████| 938/938 [00:19<00:00, 48.21batch/s, Train Loss=0.362, Train Acc=86.2]\n"
     ]
    },
    {
     "name": "stdout",
     "output_type": "stream",
     "text": [
      "Epoch 476\n",
      "Train Loss: 0.3624, Train Accuracy: 86.15%\n",
      "Test Loss: 0.2609, Test Accuracy: 90.64%\n",
      "\n"
     ]
    },
    {
     "name": "stderr",
     "output_type": "stream",
     "text": [
      "Epoch 477: 100%|██████████| 938/938 [00:19<00:00, 48.44batch/s, Train Loss=0.362, Train Acc=86.2]\n"
     ]
    },
    {
     "name": "stdout",
     "output_type": "stream",
     "text": [
      "Epoch 477\n",
      "Train Loss: 0.3618, Train Accuracy: 86.23%\n",
      "Test Loss: 0.2563, Test Accuracy: 90.53%\n",
      "\n"
     ]
    },
    {
     "name": "stderr",
     "output_type": "stream",
     "text": [
      "Epoch 478: 100%|██████████| 938/938 [00:19<00:00, 48.20batch/s, Train Loss=0.36, Train Acc=86.3] \n"
     ]
    },
    {
     "name": "stdout",
     "output_type": "stream",
     "text": [
      "Epoch 478\n",
      "Train Loss: 0.3603, Train Accuracy: 86.26%\n",
      "Test Loss: 0.2585, Test Accuracy: 90.73%\n",
      "\n"
     ]
    },
    {
     "name": "stderr",
     "output_type": "stream",
     "text": [
      "Epoch 479: 100%|██████████| 938/938 [00:19<00:00, 47.98batch/s, Train Loss=0.366, Train Acc=86.2]\n"
     ]
    },
    {
     "name": "stdout",
     "output_type": "stream",
     "text": [
      "Epoch 479\n",
      "Train Loss: 0.3659, Train Accuracy: 86.16%\n",
      "Test Loss: 0.2614, Test Accuracy: 90.18%\n",
      "\n"
     ]
    },
    {
     "name": "stderr",
     "output_type": "stream",
     "text": [
      "Epoch 480: 100%|██████████| 938/938 [00:19<00:00, 47.76batch/s, Train Loss=0.365, Train Acc=86.2]\n"
     ]
    },
    {
     "name": "stdout",
     "output_type": "stream",
     "text": [
      "Epoch 480\n",
      "Train Loss: 0.3646, Train Accuracy: 86.20%\n",
      "Test Loss: 0.2588, Test Accuracy: 90.35%\n",
      "\n"
     ]
    },
    {
     "name": "stderr",
     "output_type": "stream",
     "text": [
      "Epoch 481: 100%|██████████| 938/938 [00:19<00:00, 48.29batch/s, Train Loss=0.364, Train Acc=86.1]\n"
     ]
    },
    {
     "name": "stdout",
     "output_type": "stream",
     "text": [
      "Epoch 481\n",
      "Train Loss: 0.3637, Train Accuracy: 86.06%\n",
      "Test Loss: 0.2619, Test Accuracy: 90.63%\n",
      "\n"
     ]
    },
    {
     "name": "stderr",
     "output_type": "stream",
     "text": [
      "Epoch 482: 100%|██████████| 938/938 [00:19<00:00, 47.90batch/s, Train Loss=0.362, Train Acc=86.2]\n"
     ]
    },
    {
     "name": "stdout",
     "output_type": "stream",
     "text": [
      "Epoch 482\n",
      "Train Loss: 0.3620, Train Accuracy: 86.16%\n",
      "Test Loss: 0.2588, Test Accuracy: 90.79%\n",
      "\n"
     ]
    },
    {
     "name": "stderr",
     "output_type": "stream",
     "text": [
      "Epoch 483: 100%|██████████| 938/938 [00:19<00:00, 48.21batch/s, Train Loss=0.364, Train Acc=86.2]\n"
     ]
    },
    {
     "name": "stdout",
     "output_type": "stream",
     "text": [
      "Epoch 483\n",
      "Train Loss: 0.3641, Train Accuracy: 86.24%\n",
      "Test Loss: 0.2602, Test Accuracy: 90.50%\n",
      "\n"
     ]
    },
    {
     "name": "stderr",
     "output_type": "stream",
     "text": [
      "Epoch 484: 100%|██████████| 938/938 [00:19<00:00, 48.13batch/s, Train Loss=0.365, Train Acc=86.2]\n"
     ]
    },
    {
     "name": "stdout",
     "output_type": "stream",
     "text": [
      "Epoch 484\n",
      "Train Loss: 0.3655, Train Accuracy: 86.18%\n",
      "Test Loss: 0.2545, Test Accuracy: 90.70%\n",
      "\n"
     ]
    },
    {
     "name": "stderr",
     "output_type": "stream",
     "text": [
      "Epoch 485: 100%|██████████| 938/938 [00:19<00:00, 48.04batch/s, Train Loss=0.359, Train Acc=86.4]\n"
     ]
    },
    {
     "name": "stdout",
     "output_type": "stream",
     "text": [
      "Epoch 485\n",
      "Train Loss: 0.3586, Train Accuracy: 86.40%\n",
      "Test Loss: 0.2523, Test Accuracy: 90.89%\n",
      "\n"
     ]
    },
    {
     "name": "stderr",
     "output_type": "stream",
     "text": [
      "Epoch 486: 100%|██████████| 938/938 [00:19<00:00, 48.09batch/s, Train Loss=0.359, Train Acc=86.5]\n"
     ]
    },
    {
     "name": "stdout",
     "output_type": "stream",
     "text": [
      "Epoch 486\n",
      "Train Loss: 0.3592, Train Accuracy: 86.47%\n",
      "Test Loss: 0.2663, Test Accuracy: 90.44%\n",
      "\n"
     ]
    },
    {
     "name": "stderr",
     "output_type": "stream",
     "text": [
      "Epoch 487: 100%|██████████| 938/938 [00:19<00:00, 48.07batch/s, Train Loss=0.363, Train Acc=86.1]\n"
     ]
    },
    {
     "name": "stdout",
     "output_type": "stream",
     "text": [
      "Epoch 487\n",
      "Train Loss: 0.3634, Train Accuracy: 86.15%\n",
      "Test Loss: 0.2588, Test Accuracy: 90.69%\n",
      "\n"
     ]
    },
    {
     "name": "stderr",
     "output_type": "stream",
     "text": [
      "Epoch 488: 100%|██████████| 938/938 [00:19<00:00, 47.80batch/s, Train Loss=0.362, Train Acc=86.4]\n"
     ]
    },
    {
     "name": "stdout",
     "output_type": "stream",
     "text": [
      "Epoch 488\n",
      "Train Loss: 0.3616, Train Accuracy: 86.44%\n",
      "Test Loss: 0.2570, Test Accuracy: 90.65%\n",
      "\n"
     ]
    },
    {
     "name": "stderr",
     "output_type": "stream",
     "text": [
      "Epoch 489: 100%|██████████| 938/938 [00:19<00:00, 47.98batch/s, Train Loss=0.365, Train Acc=86.3]\n"
     ]
    },
    {
     "name": "stdout",
     "output_type": "stream",
     "text": [
      "Epoch 489\n",
      "Train Loss: 0.3646, Train Accuracy: 86.30%\n",
      "Test Loss: 0.2582, Test Accuracy: 90.62%\n",
      "\n"
     ]
    },
    {
     "name": "stderr",
     "output_type": "stream",
     "text": [
      "Epoch 490: 100%|██████████| 938/938 [00:19<00:00, 48.16batch/s, Train Loss=0.362, Train Acc=86.3]\n"
     ]
    },
    {
     "name": "stdout",
     "output_type": "stream",
     "text": [
      "Epoch 490\n",
      "Train Loss: 0.3622, Train Accuracy: 86.31%\n",
      "Test Loss: 0.2605, Test Accuracy: 90.62%\n",
      "\n"
     ]
    },
    {
     "name": "stderr",
     "output_type": "stream",
     "text": [
      "Epoch 491: 100%|██████████| 938/938 [00:19<00:00, 48.21batch/s, Train Loss=0.363, Train Acc=86.1]\n"
     ]
    },
    {
     "name": "stdout",
     "output_type": "stream",
     "text": [
      "Epoch 491\n",
      "Train Loss: 0.3630, Train Accuracy: 86.13%\n",
      "Test Loss: 0.2586, Test Accuracy: 90.61%\n",
      "\n"
     ]
    },
    {
     "name": "stderr",
     "output_type": "stream",
     "text": [
      "Epoch 492: 100%|██████████| 938/938 [00:19<00:00, 47.93batch/s, Train Loss=0.361, Train Acc=86.3]\n"
     ]
    },
    {
     "name": "stdout",
     "output_type": "stream",
     "text": [
      "Epoch 492\n",
      "Train Loss: 0.3605, Train Accuracy: 86.29%\n",
      "Test Loss: 0.2538, Test Accuracy: 90.71%\n",
      "\n"
     ]
    },
    {
     "name": "stderr",
     "output_type": "stream",
     "text": [
      "Epoch 493: 100%|██████████| 938/938 [00:19<00:00, 48.02batch/s, Train Loss=0.361, Train Acc=86.2]\n"
     ]
    },
    {
     "name": "stdout",
     "output_type": "stream",
     "text": [
      "Epoch 493\n",
      "Train Loss: 0.3613, Train Accuracy: 86.16%\n",
      "Test Loss: 0.2547, Test Accuracy: 90.80%\n",
      "\n"
     ]
    },
    {
     "name": "stderr",
     "output_type": "stream",
     "text": [
      "Epoch 494: 100%|██████████| 938/938 [00:19<00:00, 48.46batch/s, Train Loss=0.359, Train Acc=86.3]\n"
     ]
    },
    {
     "name": "stdout",
     "output_type": "stream",
     "text": [
      "Epoch 494\n",
      "Train Loss: 0.3590, Train Accuracy: 86.33%\n",
      "Test Loss: 0.2544, Test Accuracy: 90.62%\n",
      "\n"
     ]
    },
    {
     "name": "stderr",
     "output_type": "stream",
     "text": [
      "Epoch 495: 100%|██████████| 938/938 [00:19<00:00, 48.06batch/s, Train Loss=0.361, Train Acc=86.3]\n"
     ]
    },
    {
     "name": "stdout",
     "output_type": "stream",
     "text": [
      "Epoch 495\n",
      "Train Loss: 0.3611, Train Accuracy: 86.28%\n",
      "Test Loss: 0.2604, Test Accuracy: 90.48%\n",
      "\n"
     ]
    },
    {
     "name": "stderr",
     "output_type": "stream",
     "text": [
      "Epoch 496: 100%|██████████| 938/938 [00:19<00:00, 48.20batch/s, Train Loss=0.364, Train Acc=86.1]\n"
     ]
    },
    {
     "name": "stdout",
     "output_type": "stream",
     "text": [
      "Epoch 496\n",
      "Train Loss: 0.3645, Train Accuracy: 86.15%\n",
      "Test Loss: 0.2599, Test Accuracy: 90.79%\n",
      "\n"
     ]
    },
    {
     "name": "stderr",
     "output_type": "stream",
     "text": [
      "Epoch 497: 100%|██████████| 938/938 [00:19<00:00, 48.15batch/s, Train Loss=0.363, Train Acc=86.2]\n"
     ]
    },
    {
     "name": "stdout",
     "output_type": "stream",
     "text": [
      "Epoch 497\n",
      "Train Loss: 0.3627, Train Accuracy: 86.21%\n",
      "Test Loss: 0.2556, Test Accuracy: 90.99%\n",
      "\n"
     ]
    },
    {
     "name": "stderr",
     "output_type": "stream",
     "text": [
      "Epoch 498: 100%|██████████| 938/938 [00:19<00:00, 47.89batch/s, Train Loss=0.363, Train Acc=86]  \n"
     ]
    },
    {
     "name": "stdout",
     "output_type": "stream",
     "text": [
      "Epoch 498\n",
      "Train Loss: 0.3627, Train Accuracy: 86.03%\n",
      "Test Loss: 0.2561, Test Accuracy: 91.10%\n",
      "\n"
     ]
    },
    {
     "name": "stderr",
     "output_type": "stream",
     "text": [
      "Epoch 499: 100%|██████████| 938/938 [00:19<00:00, 48.08batch/s, Train Loss=0.364, Train Acc=86.2]\n"
     ]
    },
    {
     "name": "stdout",
     "output_type": "stream",
     "text": [
      "Epoch 499\n",
      "Train Loss: 0.3636, Train Accuracy: 86.20%\n",
      "Test Loss: 0.2577, Test Accuracy: 90.83%\n",
      "\n"
     ]
    },
    {
     "name": "stderr",
     "output_type": "stream",
     "text": [
      "Epoch 500: 100%|██████████| 938/938 [00:19<00:00, 48.21batch/s, Train Loss=0.363, Train Acc=86.2]\n"
     ]
    },
    {
     "name": "stdout",
     "output_type": "stream",
     "text": [
      "Epoch 500\n",
      "Train Loss: 0.3630, Train Accuracy: 86.19%\n",
      "Test Loss: 0.2544, Test Accuracy: 90.93%\n",
      "\n"
     ]
    },
    {
     "name": "stderr",
     "output_type": "stream",
     "text": [
      "Epoch 501: 100%|██████████| 938/938 [00:19<00:00, 47.64batch/s, Train Loss=0.363, Train Acc=86.1]\n"
     ]
    },
    {
     "name": "stdout",
     "output_type": "stream",
     "text": [
      "Epoch 501\n",
      "Train Loss: 0.3631, Train Accuracy: 86.09%\n",
      "Test Loss: 0.2553, Test Accuracy: 90.76%\n",
      "\n"
     ]
    },
    {
     "name": "stderr",
     "output_type": "stream",
     "text": [
      "Epoch 502: 100%|██████████| 938/938 [00:19<00:00, 48.16batch/s, Train Loss=0.368, Train Acc=86.1]\n"
     ]
    },
    {
     "name": "stdout",
     "output_type": "stream",
     "text": [
      "Epoch 502\n",
      "Train Loss: 0.3676, Train Accuracy: 86.15%\n",
      "Test Loss: 0.2566, Test Accuracy: 90.80%\n",
      "\n"
     ]
    },
    {
     "name": "stderr",
     "output_type": "stream",
     "text": [
      "Epoch 503: 100%|██████████| 938/938 [00:19<00:00, 47.97batch/s, Train Loss=0.359, Train Acc=86.4]\n"
     ]
    },
    {
     "name": "stdout",
     "output_type": "stream",
     "text": [
      "Epoch 503\n",
      "Train Loss: 0.3586, Train Accuracy: 86.43%\n",
      "Test Loss: 0.2566, Test Accuracy: 90.81%\n",
      "\n"
     ]
    },
    {
     "name": "stderr",
     "output_type": "stream",
     "text": [
      "Epoch 504: 100%|██████████| 938/938 [00:19<00:00, 48.21batch/s, Train Loss=0.36, Train Acc=86.4] \n"
     ]
    },
    {
     "name": "stdout",
     "output_type": "stream",
     "text": [
      "Epoch 504\n",
      "Train Loss: 0.3603, Train Accuracy: 86.43%\n",
      "Test Loss: 0.2565, Test Accuracy: 90.44%\n",
      "\n"
     ]
    },
    {
     "name": "stderr",
     "output_type": "stream",
     "text": [
      "Epoch 505: 100%|██████████| 938/938 [00:19<00:00, 48.04batch/s, Train Loss=0.362, Train Acc=86.4]\n"
     ]
    },
    {
     "name": "stdout",
     "output_type": "stream",
     "text": [
      "Epoch 505\n",
      "Train Loss: 0.3616, Train Accuracy: 86.40%\n",
      "Test Loss: 0.2562, Test Accuracy: 90.72%\n",
      "\n"
     ]
    },
    {
     "name": "stderr",
     "output_type": "stream",
     "text": [
      "Epoch 506: 100%|██████████| 938/938 [00:19<00:00, 48.12batch/s, Train Loss=0.36, Train Acc=86.2] \n"
     ]
    },
    {
     "name": "stdout",
     "output_type": "stream",
     "text": [
      "Epoch 506\n",
      "Train Loss: 0.3599, Train Accuracy: 86.25%\n",
      "Test Loss: 0.2605, Test Accuracy: 90.48%\n",
      "\n"
     ]
    },
    {
     "name": "stderr",
     "output_type": "stream",
     "text": [
      "Epoch 507: 100%|██████████| 938/938 [00:19<00:00, 48.13batch/s, Train Loss=0.36, Train Acc=86.3] \n"
     ]
    },
    {
     "name": "stdout",
     "output_type": "stream",
     "text": [
      "Epoch 507\n",
      "Train Loss: 0.3601, Train Accuracy: 86.28%\n",
      "Test Loss: 0.2553, Test Accuracy: 90.75%\n",
      "\n"
     ]
    },
    {
     "name": "stderr",
     "output_type": "stream",
     "text": [
      "Epoch 508: 100%|██████████| 938/938 [00:19<00:00, 47.92batch/s, Train Loss=0.362, Train Acc=86.2]\n"
     ]
    },
    {
     "name": "stdout",
     "output_type": "stream",
     "text": [
      "Epoch 508\n",
      "Train Loss: 0.3618, Train Accuracy: 86.25%\n",
      "Test Loss: 0.2594, Test Accuracy: 90.66%\n",
      "\n"
     ]
    },
    {
     "name": "stderr",
     "output_type": "stream",
     "text": [
      "Epoch 509: 100%|██████████| 938/938 [00:19<00:00, 48.25batch/s, Train Loss=0.36, Train Acc=86.4] \n"
     ]
    },
    {
     "name": "stdout",
     "output_type": "stream",
     "text": [
      "Epoch 509\n",
      "Train Loss: 0.3597, Train Accuracy: 86.42%\n",
      "Test Loss: 0.2577, Test Accuracy: 90.64%\n",
      "\n"
     ]
    },
    {
     "name": "stderr",
     "output_type": "stream",
     "text": [
      "Epoch 510: 100%|██████████| 938/938 [00:19<00:00, 47.83batch/s, Train Loss=0.359, Train Acc=86.3]\n"
     ]
    },
    {
     "name": "stdout",
     "output_type": "stream",
     "text": [
      "Epoch 510\n",
      "Train Loss: 0.3589, Train Accuracy: 86.33%\n",
      "Test Loss: 0.2539, Test Accuracy: 90.60%\n",
      "\n"
     ]
    },
    {
     "name": "stderr",
     "output_type": "stream",
     "text": [
      "Epoch 511: 100%|██████████| 938/938 [00:19<00:00, 47.93batch/s, Train Loss=0.361, Train Acc=86.2]\n"
     ]
    },
    {
     "name": "stdout",
     "output_type": "stream",
     "text": [
      "Epoch 511\n",
      "Train Loss: 0.3607, Train Accuracy: 86.22%\n",
      "Test Loss: 0.2577, Test Accuracy: 90.85%\n",
      "\n"
     ]
    },
    {
     "name": "stderr",
     "output_type": "stream",
     "text": [
      "Epoch 512: 100%|██████████| 938/938 [00:19<00:00, 47.94batch/s, Train Loss=0.364, Train Acc=86.1]\n"
     ]
    },
    {
     "name": "stdout",
     "output_type": "stream",
     "text": [
      "Epoch 512\n",
      "Train Loss: 0.3636, Train Accuracy: 86.12%\n",
      "Test Loss: 0.2557, Test Accuracy: 90.81%\n",
      "\n"
     ]
    },
    {
     "name": "stderr",
     "output_type": "stream",
     "text": [
      "Epoch 513: 100%|██████████| 938/938 [00:19<00:00, 48.01batch/s, Train Loss=0.361, Train Acc=86.3]\n"
     ]
    },
    {
     "name": "stdout",
     "output_type": "stream",
     "text": [
      "Epoch 513\n",
      "Train Loss: 0.3612, Train Accuracy: 86.35%\n",
      "Test Loss: 0.2569, Test Accuracy: 90.91%\n",
      "\n"
     ]
    },
    {
     "name": "stderr",
     "output_type": "stream",
     "text": [
      "Epoch 514: 100%|██████████| 938/938 [00:19<00:00, 48.30batch/s, Train Loss=0.359, Train Acc=86.5]\n"
     ]
    },
    {
     "name": "stdout",
     "output_type": "stream",
     "text": [
      "Epoch 514\n",
      "Train Loss: 0.3592, Train Accuracy: 86.47%\n",
      "Test Loss: 0.2589, Test Accuracy: 90.66%\n",
      "\n"
     ]
    },
    {
     "name": "stderr",
     "output_type": "stream",
     "text": [
      "Epoch 515: 100%|██████████| 938/938 [00:19<00:00, 48.34batch/s, Train Loss=0.36, Train Acc=86.3] \n"
     ]
    },
    {
     "name": "stdout",
     "output_type": "stream",
     "text": [
      "Epoch 515\n",
      "Train Loss: 0.3601, Train Accuracy: 86.31%\n",
      "Test Loss: 0.2571, Test Accuracy: 90.92%\n",
      "\n"
     ]
    },
    {
     "name": "stderr",
     "output_type": "stream",
     "text": [
      "Epoch 516: 100%|██████████| 938/938 [00:19<00:00, 47.75batch/s, Train Loss=0.364, Train Acc=86]  \n"
     ]
    },
    {
     "name": "stdout",
     "output_type": "stream",
     "text": [
      "Epoch 516\n",
      "Train Loss: 0.3638, Train Accuracy: 86.01%\n",
      "Test Loss: 0.2570, Test Accuracy: 90.59%\n",
      "\n"
     ]
    },
    {
     "name": "stderr",
     "output_type": "stream",
     "text": [
      "Epoch 517: 100%|██████████| 938/938 [00:19<00:00, 48.11batch/s, Train Loss=0.362, Train Acc=86.2]\n"
     ]
    },
    {
     "name": "stdout",
     "output_type": "stream",
     "text": [
      "Epoch 517\n",
      "Train Loss: 0.3621, Train Accuracy: 86.21%\n",
      "Test Loss: 0.2583, Test Accuracy: 90.64%\n",
      "\n"
     ]
    },
    {
     "name": "stderr",
     "output_type": "stream",
     "text": [
      "Epoch 518: 100%|██████████| 938/938 [00:19<00:00, 47.49batch/s, Train Loss=0.361, Train Acc=86.4]\n"
     ]
    },
    {
     "name": "stdout",
     "output_type": "stream",
     "text": [
      "Epoch 518\n",
      "Train Loss: 0.3613, Train Accuracy: 86.41%\n",
      "Test Loss: 0.2620, Test Accuracy: 90.80%\n",
      "\n"
     ]
    },
    {
     "name": "stderr",
     "output_type": "stream",
     "text": [
      "Epoch 519: 100%|██████████| 938/938 [00:19<00:00, 48.11batch/s, Train Loss=0.36, Train Acc=86.3] \n"
     ]
    },
    {
     "name": "stdout",
     "output_type": "stream",
     "text": [
      "Epoch 519\n",
      "Train Loss: 0.3597, Train Accuracy: 86.26%\n",
      "Test Loss: 0.2541, Test Accuracy: 90.67%\n",
      "\n"
     ]
    },
    {
     "name": "stderr",
     "output_type": "stream",
     "text": [
      "Epoch 520: 100%|██████████| 938/938 [00:20<00:00, 46.50batch/s, Train Loss=0.356, Train Acc=86.4]\n"
     ]
    },
    {
     "name": "stdout",
     "output_type": "stream",
     "text": [
      "Epoch 520\n",
      "Train Loss: 0.3563, Train Accuracy: 86.45%\n",
      "Test Loss: 0.2583, Test Accuracy: 90.34%\n",
      "\n"
     ]
    },
    {
     "name": "stderr",
     "output_type": "stream",
     "text": [
      "Epoch 521: 100%|██████████| 938/938 [00:21<00:00, 44.56batch/s, Train Loss=0.361, Train Acc=86.3]\n"
     ]
    },
    {
     "name": "stdout",
     "output_type": "stream",
     "text": [
      "Epoch 521\n",
      "Train Loss: 0.3607, Train Accuracy: 86.29%\n",
      "Test Loss: 0.2608, Test Accuracy: 90.58%\n",
      "\n"
     ]
    },
    {
     "name": "stderr",
     "output_type": "stream",
     "text": [
      "Epoch 522: 100%|██████████| 938/938 [00:20<00:00, 45.18batch/s, Train Loss=0.357, Train Acc=86.6]\n"
     ]
    },
    {
     "name": "stdout",
     "output_type": "stream",
     "text": [
      "Epoch 522\n",
      "Train Loss: 0.3570, Train Accuracy: 86.55%\n",
      "Test Loss: 0.2608, Test Accuracy: 90.49%\n",
      "\n"
     ]
    },
    {
     "name": "stderr",
     "output_type": "stream",
     "text": [
      "Epoch 523: 100%|██████████| 938/938 [00:20<00:00, 46.53batch/s, Train Loss=0.357, Train Acc=86.4]\n"
     ]
    },
    {
     "name": "stdout",
     "output_type": "stream",
     "text": [
      "Epoch 523\n",
      "Train Loss: 0.3571, Train Accuracy: 86.42%\n",
      "Test Loss: 0.2601, Test Accuracy: 90.51%\n",
      "\n"
     ]
    },
    {
     "name": "stderr",
     "output_type": "stream",
     "text": [
      "Epoch 524: 100%|██████████| 938/938 [00:20<00:00, 46.79batch/s, Train Loss=0.36, Train Acc=86.3] \n"
     ]
    },
    {
     "name": "stdout",
     "output_type": "stream",
     "text": [
      "Epoch 524\n",
      "Train Loss: 0.3598, Train Accuracy: 86.34%\n",
      "Test Loss: 0.2580, Test Accuracy: 90.72%\n",
      "\n"
     ]
    },
    {
     "name": "stderr",
     "output_type": "stream",
     "text": [
      "Epoch 525: 100%|██████████| 938/938 [00:20<00:00, 46.36batch/s, Train Loss=0.356, Train Acc=86.4]\n"
     ]
    },
    {
     "name": "stdout",
     "output_type": "stream",
     "text": [
      "Epoch 525\n",
      "Train Loss: 0.3558, Train Accuracy: 86.41%\n",
      "Test Loss: 0.2595, Test Accuracy: 90.66%\n",
      "\n"
     ]
    },
    {
     "name": "stderr",
     "output_type": "stream",
     "text": [
      "Epoch 526: 100%|██████████| 938/938 [00:20<00:00, 45.09batch/s, Train Loss=0.358, Train Acc=86.3]\n"
     ]
    },
    {
     "name": "stdout",
     "output_type": "stream",
     "text": [
      "Epoch 526\n",
      "Train Loss: 0.3576, Train Accuracy: 86.27%\n",
      "Test Loss: 0.2570, Test Accuracy: 90.50%\n",
      "\n"
     ]
    },
    {
     "name": "stderr",
     "output_type": "stream",
     "text": [
      "Epoch 527: 100%|██████████| 938/938 [00:20<00:00, 45.72batch/s, Train Loss=0.363, Train Acc=86.1]\n"
     ]
    },
    {
     "name": "stdout",
     "output_type": "stream",
     "text": [
      "Epoch 527\n",
      "Train Loss: 0.3633, Train Accuracy: 86.14%\n",
      "Test Loss: 0.2570, Test Accuracy: 90.62%\n",
      "\n"
     ]
    },
    {
     "name": "stderr",
     "output_type": "stream",
     "text": [
      "Epoch 528: 100%|██████████| 938/938 [00:21<00:00, 44.58batch/s, Train Loss=0.357, Train Acc=86.5]\n"
     ]
    },
    {
     "name": "stdout",
     "output_type": "stream",
     "text": [
      "Epoch 528\n",
      "Train Loss: 0.3573, Train Accuracy: 86.47%\n",
      "Test Loss: 0.2566, Test Accuracy: 90.69%\n",
      "\n"
     ]
    },
    {
     "name": "stderr",
     "output_type": "stream",
     "text": [
      "Epoch 529: 100%|██████████| 938/938 [00:20<00:00, 45.30batch/s, Train Loss=0.36, Train Acc=86.4] \n"
     ]
    },
    {
     "name": "stdout",
     "output_type": "stream",
     "text": [
      "Epoch 529\n",
      "Train Loss: 0.3604, Train Accuracy: 86.40%\n",
      "Test Loss: 0.2530, Test Accuracy: 90.73%\n",
      "\n"
     ]
    },
    {
     "name": "stderr",
     "output_type": "stream",
     "text": [
      "Epoch 530: 100%|██████████| 938/938 [00:20<00:00, 45.50batch/s, Train Loss=0.363, Train Acc=86.2]\n"
     ]
    },
    {
     "name": "stdout",
     "output_type": "stream",
     "text": [
      "Epoch 530\n",
      "Train Loss: 0.3628, Train Accuracy: 86.22%\n",
      "Test Loss: 0.2525, Test Accuracy: 90.82%\n",
      "\n"
     ]
    },
    {
     "name": "stderr",
     "output_type": "stream",
     "text": [
      "Epoch 531: 100%|██████████| 938/938 [00:20<00:00, 45.92batch/s, Train Loss=0.357, Train Acc=86.4]\n"
     ]
    },
    {
     "name": "stdout",
     "output_type": "stream",
     "text": [
      "Epoch 531\n",
      "Train Loss: 0.3565, Train Accuracy: 86.44%\n",
      "Test Loss: 0.2558, Test Accuracy: 90.82%\n",
      "\n"
     ]
    },
    {
     "name": "stderr",
     "output_type": "stream",
     "text": [
      "Epoch 532: 100%|██████████| 938/938 [00:21<00:00, 43.94batch/s, Train Loss=0.359, Train Acc=86.4]\n"
     ]
    },
    {
     "name": "stdout",
     "output_type": "stream",
     "text": [
      "Epoch 532\n",
      "Train Loss: 0.3589, Train Accuracy: 86.36%\n",
      "Test Loss: 0.2555, Test Accuracy: 90.80%\n",
      "\n"
     ]
    },
    {
     "name": "stderr",
     "output_type": "stream",
     "text": [
      "Epoch 533: 100%|██████████| 938/938 [00:20<00:00, 44.77batch/s, Train Loss=0.359, Train Acc=86.5]\n"
     ]
    },
    {
     "name": "stdout",
     "output_type": "stream",
     "text": [
      "Epoch 533\n",
      "Train Loss: 0.3586, Train Accuracy: 86.47%\n",
      "Test Loss: 0.2520, Test Accuracy: 90.71%\n",
      "\n"
     ]
    },
    {
     "name": "stderr",
     "output_type": "stream",
     "text": [
      "Epoch 534: 100%|██████████| 938/938 [00:20<00:00, 45.12batch/s, Train Loss=0.356, Train Acc=86.4]\n"
     ]
    },
    {
     "name": "stdout",
     "output_type": "stream",
     "text": [
      "Epoch 534\n",
      "Train Loss: 0.3557, Train Accuracy: 86.41%\n",
      "Test Loss: 0.2558, Test Accuracy: 90.87%\n",
      "\n"
     ]
    },
    {
     "name": "stderr",
     "output_type": "stream",
     "text": [
      "Epoch 535: 100%|██████████| 938/938 [00:20<00:00, 44.76batch/s, Train Loss=0.357, Train Acc=86.4]\n"
     ]
    },
    {
     "name": "stdout",
     "output_type": "stream",
     "text": [
      "Epoch 535\n",
      "Train Loss: 0.3573, Train Accuracy: 86.44%\n",
      "Test Loss: 0.2587, Test Accuracy: 90.78%\n",
      "\n"
     ]
    },
    {
     "name": "stderr",
     "output_type": "stream",
     "text": [
      "Epoch 536: 100%|██████████| 938/938 [00:20<00:00, 45.85batch/s, Train Loss=0.358, Train Acc=86.4]\n"
     ]
    },
    {
     "name": "stdout",
     "output_type": "stream",
     "text": [
      "Epoch 536\n",
      "Train Loss: 0.3582, Train Accuracy: 86.38%\n",
      "Test Loss: 0.2560, Test Accuracy: 90.94%\n",
      "\n"
     ]
    },
    {
     "name": "stderr",
     "output_type": "stream",
     "text": [
      "Epoch 537: 100%|██████████| 938/938 [00:20<00:00, 45.42batch/s, Train Loss=0.357, Train Acc=86.3]\n"
     ]
    },
    {
     "name": "stdout",
     "output_type": "stream",
     "text": [
      "Epoch 537\n",
      "Train Loss: 0.3570, Train Accuracy: 86.31%\n",
      "Test Loss: 0.2514, Test Accuracy: 91.10%\n",
      "\n"
     ]
    },
    {
     "name": "stderr",
     "output_type": "stream",
     "text": [
      "Epoch 538: 100%|██████████| 938/938 [00:20<00:00, 45.61batch/s, Train Loss=0.355, Train Acc=86.5]\n"
     ]
    },
    {
     "name": "stdout",
     "output_type": "stream",
     "text": [
      "Epoch 538\n",
      "Train Loss: 0.3550, Train Accuracy: 86.54%\n",
      "Test Loss: 0.2560, Test Accuracy: 90.79%\n",
      "\n"
     ]
    },
    {
     "name": "stderr",
     "output_type": "stream",
     "text": [
      "Epoch 539: 100%|██████████| 938/938 [00:20<00:00, 45.96batch/s, Train Loss=0.361, Train Acc=86.4]\n"
     ]
    },
    {
     "name": "stdout",
     "output_type": "stream",
     "text": [
      "Epoch 539\n",
      "Train Loss: 0.3606, Train Accuracy: 86.37%\n",
      "Test Loss: 0.2629, Test Accuracy: 90.66%\n",
      "\n"
     ]
    },
    {
     "name": "stderr",
     "output_type": "stream",
     "text": [
      "Epoch 540: 100%|██████████| 938/938 [00:20<00:00, 46.69batch/s, Train Loss=0.358, Train Acc=86.4]\n"
     ]
    },
    {
     "name": "stdout",
     "output_type": "stream",
     "text": [
      "Epoch 540\n",
      "Train Loss: 0.3578, Train Accuracy: 86.44%\n",
      "Test Loss: 0.2562, Test Accuracy: 90.96%\n",
      "\n"
     ]
    },
    {
     "name": "stderr",
     "output_type": "stream",
     "text": [
      "Epoch 541: 100%|██████████| 938/938 [00:20<00:00, 45.85batch/s, Train Loss=0.357, Train Acc=86.4]\n"
     ]
    },
    {
     "name": "stdout",
     "output_type": "stream",
     "text": [
      "Epoch 541\n",
      "Train Loss: 0.3568, Train Accuracy: 86.39%\n",
      "Test Loss: 0.2548, Test Accuracy: 90.73%\n",
      "\n"
     ]
    },
    {
     "name": "stderr",
     "output_type": "stream",
     "text": [
      "Epoch 542: 100%|██████████| 938/938 [00:20<00:00, 45.66batch/s, Train Loss=0.36, Train Acc=86.3] \n"
     ]
    },
    {
     "name": "stdout",
     "output_type": "stream",
     "text": [
      "Epoch 542\n",
      "Train Loss: 0.3598, Train Accuracy: 86.25%\n",
      "Test Loss: 0.2567, Test Accuracy: 90.80%\n",
      "\n"
     ]
    },
    {
     "name": "stderr",
     "output_type": "stream",
     "text": [
      "Epoch 543: 100%|██████████| 938/938 [00:20<00:00, 44.97batch/s, Train Loss=0.356, Train Acc=86.5]\n"
     ]
    },
    {
     "name": "stdout",
     "output_type": "stream",
     "text": [
      "Epoch 543\n",
      "Train Loss: 0.3561, Train Accuracy: 86.52%\n",
      "Test Loss: 0.2551, Test Accuracy: 90.79%\n",
      "\n"
     ]
    },
    {
     "name": "stderr",
     "output_type": "stream",
     "text": [
      "Epoch 544: 100%|██████████| 938/938 [00:20<00:00, 46.60batch/s, Train Loss=0.358, Train Acc=86.5]\n"
     ]
    },
    {
     "name": "stdout",
     "output_type": "stream",
     "text": [
      "Epoch 544\n",
      "Train Loss: 0.3576, Train Accuracy: 86.46%\n",
      "Test Loss: 0.2578, Test Accuracy: 90.68%\n",
      "\n"
     ]
    },
    {
     "name": "stderr",
     "output_type": "stream",
     "text": [
      "Epoch 545: 100%|██████████| 938/938 [00:20<00:00, 45.63batch/s, Train Loss=0.361, Train Acc=86.4]\n"
     ]
    },
    {
     "name": "stdout",
     "output_type": "stream",
     "text": [
      "Epoch 545\n",
      "Train Loss: 0.3608, Train Accuracy: 86.44%\n",
      "Test Loss: 0.2547, Test Accuracy: 90.76%\n",
      "\n"
     ]
    },
    {
     "name": "stderr",
     "output_type": "stream",
     "text": [
      "Epoch 546: 100%|██████████| 938/938 [00:20<00:00, 46.37batch/s, Train Loss=0.358, Train Acc=86.4]\n"
     ]
    },
    {
     "name": "stdout",
     "output_type": "stream",
     "text": [
      "Epoch 546\n",
      "Train Loss: 0.3579, Train Accuracy: 86.40%\n",
      "Test Loss: 0.2569, Test Accuracy: 90.76%\n",
      "\n"
     ]
    },
    {
     "name": "stderr",
     "output_type": "stream",
     "text": [
      "Epoch 547: 100%|██████████| 938/938 [00:21<00:00, 43.78batch/s, Train Loss=0.355, Train Acc=86.5]\n"
     ]
    },
    {
     "name": "stdout",
     "output_type": "stream",
     "text": [
      "Epoch 547\n",
      "Train Loss: 0.3549, Train Accuracy: 86.50%\n",
      "Test Loss: 0.2602, Test Accuracy: 90.45%\n",
      "\n"
     ]
    },
    {
     "name": "stderr",
     "output_type": "stream",
     "text": [
      "Epoch 548: 100%|██████████| 938/938 [00:20<00:00, 46.13batch/s, Train Loss=0.357, Train Acc=86.4]\n"
     ]
    },
    {
     "name": "stdout",
     "output_type": "stream",
     "text": [
      "Epoch 548\n",
      "Train Loss: 0.3567, Train Accuracy: 86.44%\n",
      "Test Loss: 0.2574, Test Accuracy: 90.64%\n",
      "\n"
     ]
    },
    {
     "name": "stderr",
     "output_type": "stream",
     "text": [
      "Epoch 549: 100%|██████████| 938/938 [00:20<00:00, 46.73batch/s, Train Loss=0.355, Train Acc=86.6]\n"
     ]
    },
    {
     "name": "stdout",
     "output_type": "stream",
     "text": [
      "Epoch 549\n",
      "Train Loss: 0.3547, Train Accuracy: 86.61%\n",
      "Test Loss: 0.2533, Test Accuracy: 90.83%\n",
      "\n"
     ]
    },
    {
     "name": "stderr",
     "output_type": "stream",
     "text": [
      "Epoch 550: 100%|██████████| 938/938 [00:19<00:00, 47.17batch/s, Train Loss=0.356, Train Acc=86.4]\n"
     ]
    },
    {
     "name": "stdout",
     "output_type": "stream",
     "text": [
      "Epoch 550\n",
      "Train Loss: 0.3560, Train Accuracy: 86.45%\n",
      "Test Loss: 0.2562, Test Accuracy: 90.49%\n",
      "\n"
     ]
    },
    {
     "name": "stderr",
     "output_type": "stream",
     "text": [
      "Epoch 551: 100%|██████████| 938/938 [00:19<00:00, 47.43batch/s, Train Loss=0.356, Train Acc=86.6]\n"
     ]
    },
    {
     "name": "stdout",
     "output_type": "stream",
     "text": [
      "Epoch 551\n",
      "Train Loss: 0.3562, Train Accuracy: 86.56%\n",
      "Test Loss: 0.2508, Test Accuracy: 90.63%\n",
      "\n"
     ]
    },
    {
     "name": "stderr",
     "output_type": "stream",
     "text": [
      "Epoch 552: 100%|██████████| 938/938 [00:20<00:00, 46.86batch/s, Train Loss=0.356, Train Acc=86.5]\n"
     ]
    },
    {
     "name": "stdout",
     "output_type": "stream",
     "text": [
      "Epoch 552\n",
      "Train Loss: 0.3563, Train Accuracy: 86.51%\n",
      "Test Loss: 0.2573, Test Accuracy: 90.73%\n",
      "\n"
     ]
    },
    {
     "name": "stderr",
     "output_type": "stream",
     "text": [
      "Epoch 553: 100%|██████████| 938/938 [00:20<00:00, 46.59batch/s, Train Loss=0.356, Train Acc=86.3]\n"
     ]
    },
    {
     "name": "stdout",
     "output_type": "stream",
     "text": [
      "Epoch 553\n",
      "Train Loss: 0.3562, Train Accuracy: 86.32%\n",
      "Test Loss: 0.2573, Test Accuracy: 90.63%\n",
      "\n"
     ]
    },
    {
     "name": "stderr",
     "output_type": "stream",
     "text": [
      "Epoch 554: 100%|██████████| 938/938 [00:20<00:00, 46.86batch/s, Train Loss=0.359, Train Acc=86.3]\n"
     ]
    },
    {
     "name": "stdout",
     "output_type": "stream",
     "text": [
      "Epoch 554\n",
      "Train Loss: 0.3589, Train Accuracy: 86.33%\n",
      "Test Loss: 0.2582, Test Accuracy: 90.62%\n",
      "\n"
     ]
    },
    {
     "name": "stderr",
     "output_type": "stream",
     "text": [
      "Epoch 555: 100%|██████████| 938/938 [00:19<00:00, 47.07batch/s, Train Loss=0.36, Train Acc=86.4] \n"
     ]
    },
    {
     "name": "stdout",
     "output_type": "stream",
     "text": [
      "Epoch 555\n",
      "Train Loss: 0.3597, Train Accuracy: 86.38%\n",
      "Test Loss: 0.2645, Test Accuracy: 90.45%\n",
      "\n"
     ]
    },
    {
     "name": "stderr",
     "output_type": "stream",
     "text": [
      "Epoch 556: 100%|██████████| 938/938 [00:19<00:00, 46.95batch/s, Train Loss=0.354, Train Acc=86.6]\n"
     ]
    },
    {
     "name": "stdout",
     "output_type": "stream",
     "text": [
      "Epoch 556\n",
      "Train Loss: 0.3535, Train Accuracy: 86.57%\n",
      "Test Loss: 0.2542, Test Accuracy: 90.76%\n",
      "\n"
     ]
    },
    {
     "name": "stderr",
     "output_type": "stream",
     "text": [
      "Epoch 557: 100%|██████████| 938/938 [00:19<00:00, 47.31batch/s, Train Loss=0.356, Train Acc=86.4]\n"
     ]
    },
    {
     "name": "stdout",
     "output_type": "stream",
     "text": [
      "Epoch 557\n",
      "Train Loss: 0.3563, Train Accuracy: 86.40%\n",
      "Test Loss: 0.2570, Test Accuracy: 90.80%\n",
      "\n"
     ]
    },
    {
     "name": "stderr",
     "output_type": "stream",
     "text": [
      "Epoch 558: 100%|██████████| 938/938 [00:19<00:00, 47.24batch/s, Train Loss=0.359, Train Acc=86.4]\n"
     ]
    },
    {
     "name": "stdout",
     "output_type": "stream",
     "text": [
      "Epoch 558\n",
      "Train Loss: 0.3587, Train Accuracy: 86.36%\n",
      "Test Loss: 0.2538, Test Accuracy: 90.92%\n",
      "\n"
     ]
    },
    {
     "name": "stderr",
     "output_type": "stream",
     "text": [
      "Epoch 559: 100%|██████████| 938/938 [00:19<00:00, 46.93batch/s, Train Loss=0.357, Train Acc=86.6]\n"
     ]
    },
    {
     "name": "stdout",
     "output_type": "stream",
     "text": [
      "Epoch 559\n",
      "Train Loss: 0.3565, Train Accuracy: 86.64%\n",
      "Test Loss: 0.2589, Test Accuracy: 90.79%\n",
      "\n"
     ]
    },
    {
     "name": "stderr",
     "output_type": "stream",
     "text": [
      "Epoch 560: 100%|██████████| 938/938 [00:19<00:00, 47.39batch/s, Train Loss=0.355, Train Acc=86.6]\n"
     ]
    },
    {
     "name": "stdout",
     "output_type": "stream",
     "text": [
      "Epoch 560\n",
      "Train Loss: 0.3551, Train Accuracy: 86.65%\n",
      "Test Loss: 0.2554, Test Accuracy: 90.73%\n",
      "\n"
     ]
    },
    {
     "name": "stderr",
     "output_type": "stream",
     "text": [
      "Epoch 561: 100%|██████████| 938/938 [00:20<00:00, 46.80batch/s, Train Loss=0.355, Train Acc=86.5]\n"
     ]
    },
    {
     "name": "stdout",
     "output_type": "stream",
     "text": [
      "Epoch 561\n",
      "Train Loss: 0.3549, Train Accuracy: 86.49%\n",
      "Test Loss: 0.2587, Test Accuracy: 90.22%\n",
      "\n"
     ]
    },
    {
     "name": "stderr",
     "output_type": "stream",
     "text": [
      "Epoch 562: 100%|██████████| 938/938 [00:20<00:00, 46.86batch/s, Train Loss=0.356, Train Acc=86.5]\n"
     ]
    },
    {
     "name": "stdout",
     "output_type": "stream",
     "text": [
      "Epoch 562\n",
      "Train Loss: 0.3561, Train Accuracy: 86.53%\n",
      "Test Loss: 0.2583, Test Accuracy: 90.71%\n",
      "\n"
     ]
    },
    {
     "name": "stderr",
     "output_type": "stream",
     "text": [
      "Epoch 563: 100%|██████████| 938/938 [00:19<00:00, 47.15batch/s, Train Loss=0.358, Train Acc=86.5]\n"
     ]
    },
    {
     "name": "stdout",
     "output_type": "stream",
     "text": [
      "Epoch 563\n",
      "Train Loss: 0.3575, Train Accuracy: 86.48%\n",
      "Test Loss: 0.2543, Test Accuracy: 90.85%\n",
      "\n"
     ]
    },
    {
     "name": "stderr",
     "output_type": "stream",
     "text": [
      "Epoch 564: 100%|██████████| 938/938 [00:19<00:00, 47.04batch/s, Train Loss=0.357, Train Acc=86.4]\n"
     ]
    },
    {
     "name": "stdout",
     "output_type": "stream",
     "text": [
      "Epoch 564\n",
      "Train Loss: 0.3568, Train Accuracy: 86.43%\n",
      "Test Loss: 0.2549, Test Accuracy: 90.85%\n",
      "\n"
     ]
    },
    {
     "name": "stderr",
     "output_type": "stream",
     "text": [
      "Epoch 565: 100%|██████████| 938/938 [00:20<00:00, 46.59batch/s, Train Loss=0.353, Train Acc=86.5]\n"
     ]
    },
    {
     "name": "stdout",
     "output_type": "stream",
     "text": [
      "Epoch 565\n",
      "Train Loss: 0.3534, Train Accuracy: 86.53%\n",
      "Test Loss: 0.2537, Test Accuracy: 90.74%\n",
      "\n"
     ]
    },
    {
     "name": "stderr",
     "output_type": "stream",
     "text": [
      "Epoch 566: 100%|██████████| 938/938 [00:21<00:00, 44.31batch/s, Train Loss=0.352, Train Acc=86.6]\n"
     ]
    },
    {
     "name": "stdout",
     "output_type": "stream",
     "text": [
      "Epoch 566\n",
      "Train Loss: 0.3519, Train Accuracy: 86.61%\n",
      "Test Loss: 0.2562, Test Accuracy: 90.54%\n",
      "\n"
     ]
    },
    {
     "name": "stderr",
     "output_type": "stream",
     "text": [
      "Epoch 567: 100%|██████████| 938/938 [00:20<00:00, 44.98batch/s, Train Loss=0.355, Train Acc=86.4]\n"
     ]
    },
    {
     "name": "stdout",
     "output_type": "stream",
     "text": [
      "Epoch 567\n",
      "Train Loss: 0.3551, Train Accuracy: 86.44%\n",
      "Test Loss: 0.2554, Test Accuracy: 90.56%\n",
      "\n"
     ]
    },
    {
     "name": "stderr",
     "output_type": "stream",
     "text": [
      "Epoch 568: 100%|██████████| 938/938 [00:20<00:00, 46.47batch/s, Train Loss=0.354, Train Acc=86.7]\n"
     ]
    },
    {
     "name": "stdout",
     "output_type": "stream",
     "text": [
      "Epoch 568\n",
      "Train Loss: 0.3540, Train Accuracy: 86.66%\n",
      "Test Loss: 0.2548, Test Accuracy: 90.54%\n",
      "\n"
     ]
    },
    {
     "name": "stderr",
     "output_type": "stream",
     "text": [
      "Epoch 569: 100%|██████████| 938/938 [00:20<00:00, 46.10batch/s, Train Loss=0.348, Train Acc=86.6]\n"
     ]
    },
    {
     "name": "stdout",
     "output_type": "stream",
     "text": [
      "Epoch 569\n",
      "Train Loss: 0.3485, Train Accuracy: 86.63%\n",
      "Test Loss: 0.2563, Test Accuracy: 90.63%\n",
      "\n"
     ]
    },
    {
     "name": "stderr",
     "output_type": "stream",
     "text": [
      "Epoch 570:  11%|█         | 101/938 [00:02<00:18, 45.15batch/s, Train Loss=0.357, Train Acc=86.7]\n"
     ]
    },
    {
     "ename": "KeyboardInterrupt",
     "evalue": "",
     "output_type": "error",
     "traceback": [
      "\u001b[0;31m---------------------------------------------------------------------------\u001b[0m",
      "\u001b[0;31mKeyboardInterrupt\u001b[0m                         Traceback (most recent call last)",
      "\u001b[1;32m/home/marco/Desktop/MNIST_Dataset/240627_ViT img_domain_freq_augment.ipynb Cell 21\u001b[0m line \u001b[0;36m3\n\u001b[1;32m      <a href='vscode-notebook-cell:/home/marco/Desktop/MNIST_Dataset/240627_ViT%20img_domain_freq_augment.ipynb#X26sZmlsZQ%3D%3D?line=0'>1</a>\u001b[0m epochs \u001b[39m=\u001b[39m \u001b[39m1000\u001b[39m\n\u001b[1;32m      <a href='vscode-notebook-cell:/home/marco/Desktop/MNIST_Dataset/240627_ViT%20img_domain_freq_augment.ipynb#X26sZmlsZQ%3D%3D?line=1'>2</a>\u001b[0m \u001b[39mfor\u001b[39;00m epoch \u001b[39min\u001b[39;00m \u001b[39mrange\u001b[39m(\u001b[39m0\u001b[39m, epochs \u001b[39m+\u001b[39m \u001b[39m1\u001b[39m):\n\u001b[0;32m----> <a href='vscode-notebook-cell:/home/marco/Desktop/MNIST_Dataset/240627_ViT%20img_domain_freq_augment.ipynb#X26sZmlsZQ%3D%3D?line=2'>3</a>\u001b[0m     train_loss, train_accuracy \u001b[39m=\u001b[39m train(model, device, train_loader, optimizer, criterion, epoch)\n\u001b[1;32m      <a href='vscode-notebook-cell:/home/marco/Desktop/MNIST_Dataset/240627_ViT%20img_domain_freq_augment.ipynb#X26sZmlsZQ%3D%3D?line=3'>4</a>\u001b[0m     test_loss, test_accuracy \u001b[39m=\u001b[39m test(model, device, test_loader, criterion, epoch)\n\u001b[1;32m      <a href='vscode-notebook-cell:/home/marco/Desktop/MNIST_Dataset/240627_ViT%20img_domain_freq_augment.ipynb#X26sZmlsZQ%3D%3D?line=4'>5</a>\u001b[0m     \u001b[39mprint\u001b[39m(\u001b[39mf\u001b[39m\u001b[39m\"\u001b[39m\u001b[39mEpoch \u001b[39m\u001b[39m{\u001b[39;00mepoch\u001b[39m}\u001b[39;00m\u001b[39m\"\u001b[39m)\n",
      "\u001b[1;32m/home/marco/Desktop/MNIST_Dataset/240627_ViT img_domain_freq_augment.ipynb Cell 21\u001b[0m line \u001b[0;36m9\n\u001b[1;32m      <a href='vscode-notebook-cell:/home/marco/Desktop/MNIST_Dataset/240627_ViT%20img_domain_freq_augment.ipynb#X26sZmlsZQ%3D%3D?line=6'>7</a>\u001b[0m total \u001b[39m=\u001b[39m \u001b[39m0\u001b[39m\n\u001b[1;32m      <a href='vscode-notebook-cell:/home/marco/Desktop/MNIST_Dataset/240627_ViT%20img_domain_freq_augment.ipynb#X26sZmlsZQ%3D%3D?line=7'>8</a>\u001b[0m progress_bar \u001b[39m=\u001b[39m tqdm(train_loader, desc\u001b[39m=\u001b[39m\u001b[39mf\u001b[39m\u001b[39m\"\u001b[39m\u001b[39mEpoch \u001b[39m\u001b[39m{\u001b[39;00mepoch\u001b[39m}\u001b[39;00m\u001b[39m\"\u001b[39m, unit\u001b[39m=\u001b[39m\u001b[39m\"\u001b[39m\u001b[39mbatch\u001b[39m\u001b[39m\"\u001b[39m)\n\u001b[0;32m----> <a href='vscode-notebook-cell:/home/marco/Desktop/MNIST_Dataset/240627_ViT%20img_domain_freq_augment.ipynb#X26sZmlsZQ%3D%3D?line=8'>9</a>\u001b[0m \u001b[39mfor\u001b[39;00m batch_idx, (data, target) \u001b[39min\u001b[39;00m \u001b[39menumerate\u001b[39m(progress_bar):\n\u001b[1;32m     <a href='vscode-notebook-cell:/home/marco/Desktop/MNIST_Dataset/240627_ViT%20img_domain_freq_augment.ipynb#X26sZmlsZQ%3D%3D?line=9'>10</a>\u001b[0m     data, target \u001b[39m=\u001b[39m data\u001b[39m.\u001b[39mto(device), target\u001b[39m.\u001b[39mto(device)\n\u001b[1;32m     <a href='vscode-notebook-cell:/home/marco/Desktop/MNIST_Dataset/240627_ViT%20img_domain_freq_augment.ipynb#X26sZmlsZQ%3D%3D?line=10'>11</a>\u001b[0m     optimizer\u001b[39m.\u001b[39mzero_grad()\n",
      "File \u001b[0;32m~/miniconda3/envs/pytorch-env/lib/python3.10/site-packages/tqdm/std.py:1178\u001b[0m, in \u001b[0;36mtqdm.__iter__\u001b[0;34m(self)\u001b[0m\n\u001b[1;32m   1175\u001b[0m time \u001b[39m=\u001b[39m \u001b[39mself\u001b[39m\u001b[39m.\u001b[39m_time\n\u001b[1;32m   1177\u001b[0m \u001b[39mtry\u001b[39;00m:\n\u001b[0;32m-> 1178\u001b[0m     \u001b[39mfor\u001b[39;00m obj \u001b[39min\u001b[39;00m iterable:\n\u001b[1;32m   1179\u001b[0m         \u001b[39myield\u001b[39;00m obj\n\u001b[1;32m   1180\u001b[0m         \u001b[39m# Update and possibly print the progressbar.\u001b[39;00m\n\u001b[1;32m   1181\u001b[0m         \u001b[39m# Note: does not call self.update(1) for speed optimisation.\u001b[39;00m\n",
      "File \u001b[0;32m~/miniconda3/envs/pytorch-env/lib/python3.10/site-packages/torch/utils/data/dataloader.py:633\u001b[0m, in \u001b[0;36m_BaseDataLoaderIter.__next__\u001b[0;34m(self)\u001b[0m\n\u001b[1;32m    630\u001b[0m \u001b[39mif\u001b[39;00m \u001b[39mself\u001b[39m\u001b[39m.\u001b[39m_sampler_iter \u001b[39mis\u001b[39;00m \u001b[39mNone\u001b[39;00m:\n\u001b[1;32m    631\u001b[0m     \u001b[39m# TODO(https://github.com/pytorch/pytorch/issues/76750)\u001b[39;00m\n\u001b[1;32m    632\u001b[0m     \u001b[39mself\u001b[39m\u001b[39m.\u001b[39m_reset()  \u001b[39m# type: ignore[call-arg]\u001b[39;00m\n\u001b[0;32m--> 633\u001b[0m data \u001b[39m=\u001b[39m \u001b[39mself\u001b[39;49m\u001b[39m.\u001b[39;49m_next_data()\n\u001b[1;32m    634\u001b[0m \u001b[39mself\u001b[39m\u001b[39m.\u001b[39m_num_yielded \u001b[39m+\u001b[39m\u001b[39m=\u001b[39m \u001b[39m1\u001b[39m\n\u001b[1;32m    635\u001b[0m \u001b[39mif\u001b[39;00m \u001b[39mself\u001b[39m\u001b[39m.\u001b[39m_dataset_kind \u001b[39m==\u001b[39m _DatasetKind\u001b[39m.\u001b[39mIterable \u001b[39mand\u001b[39;00m \\\n\u001b[1;32m    636\u001b[0m         \u001b[39mself\u001b[39m\u001b[39m.\u001b[39m_IterableDataset_len_called \u001b[39mis\u001b[39;00m \u001b[39mnot\u001b[39;00m \u001b[39mNone\u001b[39;00m \u001b[39mand\u001b[39;00m \\\n\u001b[1;32m    637\u001b[0m         \u001b[39mself\u001b[39m\u001b[39m.\u001b[39m_num_yielded \u001b[39m>\u001b[39m \u001b[39mself\u001b[39m\u001b[39m.\u001b[39m_IterableDataset_len_called:\n",
      "File \u001b[0;32m~/miniconda3/envs/pytorch-env/lib/python3.10/site-packages/torch/utils/data/dataloader.py:677\u001b[0m, in \u001b[0;36m_SingleProcessDataLoaderIter._next_data\u001b[0;34m(self)\u001b[0m\n\u001b[1;32m    675\u001b[0m \u001b[39mdef\u001b[39;00m \u001b[39m_next_data\u001b[39m(\u001b[39mself\u001b[39m):\n\u001b[1;32m    676\u001b[0m     index \u001b[39m=\u001b[39m \u001b[39mself\u001b[39m\u001b[39m.\u001b[39m_next_index()  \u001b[39m# may raise StopIteration\u001b[39;00m\n\u001b[0;32m--> 677\u001b[0m     data \u001b[39m=\u001b[39m \u001b[39mself\u001b[39;49m\u001b[39m.\u001b[39;49m_dataset_fetcher\u001b[39m.\u001b[39;49mfetch(index)  \u001b[39m# may raise StopIteration\u001b[39;00m\n\u001b[1;32m    678\u001b[0m     \u001b[39mif\u001b[39;00m \u001b[39mself\u001b[39m\u001b[39m.\u001b[39m_pin_memory:\n\u001b[1;32m    679\u001b[0m         data \u001b[39m=\u001b[39m _utils\u001b[39m.\u001b[39mpin_memory\u001b[39m.\u001b[39mpin_memory(data, \u001b[39mself\u001b[39m\u001b[39m.\u001b[39m_pin_memory_device)\n",
      "File \u001b[0;32m~/miniconda3/envs/pytorch-env/lib/python3.10/site-packages/torch/utils/data/_utils/fetch.py:51\u001b[0m, in \u001b[0;36m_MapDatasetFetcher.fetch\u001b[0;34m(self, possibly_batched_index)\u001b[0m\n\u001b[1;32m     49\u001b[0m         data \u001b[39m=\u001b[39m \u001b[39mself\u001b[39m\u001b[39m.\u001b[39mdataset\u001b[39m.\u001b[39m__getitems__(possibly_batched_index)\n\u001b[1;32m     50\u001b[0m     \u001b[39melse\u001b[39;00m:\n\u001b[0;32m---> 51\u001b[0m         data \u001b[39m=\u001b[39m [\u001b[39mself\u001b[39m\u001b[39m.\u001b[39mdataset[idx] \u001b[39mfor\u001b[39;00m idx \u001b[39min\u001b[39;00m possibly_batched_index]\n\u001b[1;32m     52\u001b[0m \u001b[39melse\u001b[39;00m:\n\u001b[1;32m     53\u001b[0m     data \u001b[39m=\u001b[39m \u001b[39mself\u001b[39m\u001b[39m.\u001b[39mdataset[possibly_batched_index]\n",
      "File \u001b[0;32m~/miniconda3/envs/pytorch-env/lib/python3.10/site-packages/torch/utils/data/_utils/fetch.py:51\u001b[0m, in \u001b[0;36m<listcomp>\u001b[0;34m(.0)\u001b[0m\n\u001b[1;32m     49\u001b[0m         data \u001b[39m=\u001b[39m \u001b[39mself\u001b[39m\u001b[39m.\u001b[39mdataset\u001b[39m.\u001b[39m__getitems__(possibly_batched_index)\n\u001b[1;32m     50\u001b[0m     \u001b[39melse\u001b[39;00m:\n\u001b[0;32m---> 51\u001b[0m         data \u001b[39m=\u001b[39m [\u001b[39mself\u001b[39;49m\u001b[39m.\u001b[39;49mdataset[idx] \u001b[39mfor\u001b[39;00m idx \u001b[39min\u001b[39;00m possibly_batched_index]\n\u001b[1;32m     52\u001b[0m \u001b[39melse\u001b[39;00m:\n\u001b[1;32m     53\u001b[0m     data \u001b[39m=\u001b[39m \u001b[39mself\u001b[39m\u001b[39m.\u001b[39mdataset[possibly_batched_index]\n",
      "\u001b[1;32m/home/marco/Desktop/MNIST_Dataset/240627_ViT img_domain_freq_augment.ipynb Cell 21\u001b[0m line \u001b[0;36m1\n\u001b[1;32m     <a href='vscode-notebook-cell:/home/marco/Desktop/MNIST_Dataset/240627_ViT%20img_domain_freq_augment.ipynb#X26sZmlsZQ%3D%3D?line=10'>11</a>\u001b[0m sample \u001b[39m=\u001b[39m \u001b[39mself\u001b[39m\u001b[39m.\u001b[39mdata[idx]\n\u001b[1;32m     <a href='vscode-notebook-cell:/home/marco/Desktop/MNIST_Dataset/240627_ViT%20img_domain_freq_augment.ipynb#X26sZmlsZQ%3D%3D?line=11'>12</a>\u001b[0m label \u001b[39m=\u001b[39m \u001b[39mself\u001b[39m\u001b[39m.\u001b[39mlabels[idx]\n\u001b[0;32m---> <a href='vscode-notebook-cell:/home/marco/Desktop/MNIST_Dataset/240627_ViT%20img_domain_freq_augment.ipynb#X26sZmlsZQ%3D%3D?line=12'>13</a>\u001b[0m sample \u001b[39m=\u001b[39m \u001b[39mself\u001b[39;49m\u001b[39m.\u001b[39;49mtransform(sample)\n\u001b[1;32m     <a href='vscode-notebook-cell:/home/marco/Desktop/MNIST_Dataset/240627_ViT%20img_domain_freq_augment.ipynb#X26sZmlsZQ%3D%3D?line=13'>14</a>\u001b[0m \u001b[39mreturn\u001b[39;00m sample, label\n",
      "\u001b[1;32m/home/marco/Desktop/MNIST_Dataset/240627_ViT img_domain_freq_augment.ipynb Cell 21\u001b[0m line \u001b[0;36m2\n\u001b[1;32m     <a href='vscode-notebook-cell:/home/marco/Desktop/MNIST_Dataset/240627_ViT%20img_domain_freq_augment.ipynb#X26sZmlsZQ%3D%3D?line=24'>25</a>\u001b[0m \u001b[39m#fft = normalize_magn(fft)\u001b[39;00m\n\u001b[1;32m     <a href='vscode-notebook-cell:/home/marco/Desktop/MNIST_Dataset/240627_ViT%20img_domain_freq_augment.ipynb#X26sZmlsZQ%3D%3D?line=25'>26</a>\u001b[0m \u001b[39m# Split the complex image into real and imaginary parts\u001b[39;00m\n\u001b[1;32m     <a href='vscode-notebook-cell:/home/marco/Desktop/MNIST_Dataset/240627_ViT%20img_domain_freq_augment.ipynb#X26sZmlsZQ%3D%3D?line=26'>27</a>\u001b[0m img_real \u001b[39m=\u001b[39m torch\u001b[39m.\u001b[39mreal(img)\n\u001b[0;32m---> <a href='vscode-notebook-cell:/home/marco/Desktop/MNIST_Dataset/240627_ViT%20img_domain_freq_augment.ipynb#X26sZmlsZQ%3D%3D?line=27'>28</a>\u001b[0m img_imag \u001b[39m=\u001b[39m torch\u001b[39m.\u001b[39;49mimag(img)\n\u001b[1;32m     <a href='vscode-notebook-cell:/home/marco/Desktop/MNIST_Dataset/240627_ViT%20img_domain_freq_augment.ipynb#X26sZmlsZQ%3D%3D?line=29'>30</a>\u001b[0m \u001b[39m# Stack the real and imaginary parts of the image\u001b[39;00m\n\u001b[1;32m     <a href='vscode-notebook-cell:/home/marco/Desktop/MNIST_Dataset/240627_ViT%20img_domain_freq_augment.ipynb#X26sZmlsZQ%3D%3D?line=30'>31</a>\u001b[0m img_stacked \u001b[39m=\u001b[39m torch\u001b[39m.\u001b[39mstack([img_real, img_imag])\n",
      "\u001b[0;31mKeyboardInterrupt\u001b[0m: "
     ]
    }
   ],
   "source": [
    "\n",
    "epochs = 1000\n",
    "for epoch in range(0, epochs + 1):\n",
    "    train_loss, train_accuracy = train(model, device, train_loader, optimizer, criterion, epoch)\n",
    "    test_loss, test_accuracy = test(model, device, test_loader, criterion, epoch)\n",
    "    print(f\"Epoch {epoch}\")\n",
    "    print(f\"Train Loss: {train_loss:.4f}, Train Accuracy: {train_accuracy:.2f}%\")\n",
    "    print(f\"Test Loss: {test_loss:.4f}, Test Accuracy: {test_accuracy:.2f}%\")\n",
    "    print()\n",
    "\n",
    "\n",
    "writer.close()"
   ]
  },
  {
   "cell_type": "code",
   "execution_count": 42,
   "metadata": {},
   "outputs": [],
   "source": [
    "def save_model(model, optimizer, epoch, loss, accuracy, filename):\n",
    "    torch.save({\n",
    "        'epoch': epoch,\n",
    "        'model_state_dict': model.state_dict(),\n",
    "        'optimizer_state_dict': optimizer.state_dict(),\n",
    "        'loss': loss,\n",
    "        'accuracy': accuracy\n",
    "    }, filename)\n"
   ]
  },
  {
   "cell_type": "code",
   "execution_count": 43,
   "metadata": {},
   "outputs": [],
   "source": [
    "save_model(model, optimizer, epochs, test_loss, test_accuracy, 'final_model_epochxx.pth')"
   ]
  },
  {
   "cell_type": "code",
   "execution_count": 21,
   "metadata": {},
   "outputs": [],
   "source": [
    "def load_model(model, optimizer, filename):\n",
    "    checkpoint = torch.load(filename)\n",
    "    model.load_state_dict(checkpoint['model_state_dict'])\n",
    "    optimizer.load_state_dict(checkpoint['optimizer_state_dict'])\n",
    "    epoch = checkpoint['epoch']\n",
    "    loss = checkpoint['loss']\n",
    "    accuracy = checkpoint['accuracy']\n",
    "    return model, optimizer, epoch, loss, accuracy\n",
    "\n",
    "# Usage\n",
    "model, optimizer, epoch, loss, accuracy = load_model(model, optimizer, 'final_model_epoch89.pth')\n",
    "model = model.to(device)"
   ]
  }
 ],
 "metadata": {
  "kernelspec": {
   "display_name": "vqvae",
   "language": "python",
   "name": "python3"
  },
  "language_info": {
   "codemirror_mode": {
    "name": "ipython",
    "version": 3
   },
   "file_extension": ".py",
   "mimetype": "text/x-python",
   "name": "python",
   "nbconvert_exporter": "python",
   "pygments_lexer": "ipython3",
   "version": "3.8.19"
  }
 },
 "nbformat": 4,
 "nbformat_minor": 2
}
