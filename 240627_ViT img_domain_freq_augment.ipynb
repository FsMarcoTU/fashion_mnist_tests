{
 "cells": [
  {
   "cell_type": "code",
   "execution_count": 10,
   "metadata": {},
   "outputs": [],
   "source": [
    "from vit_pytorch import ViT\n",
    "import torch\n",
    "from torchvision import datasets, transforms\n",
    "from torch.utils.data import Dataset, DataLoader\n",
    "import numpy as np\n",
    "import matplotlib.pyplot as plt\n",
    "import random\n",
    "import torch.nn as nn\n",
    "import torch.optim as optim\n",
    "import torch.nn.functional as F\n",
    "from tqdm import tqdm\n",
    "from torch.utils.tensorboard import SummaryWriter"
   ]
  },
  {
   "cell_type": "code",
   "execution_count": 11,
   "metadata": {},
   "outputs": [],
   "source": [
    "\n",
    "transform = transforms.Compose([transforms.ToTensor()])\n",
    "train_data = datasets.FashionMNIST(root='data', train=True, download=True, transform=transform)\n",
    "test_data = datasets.FashionMNIST(root='data', train=False, download=True, transform=transform)"
   ]
  },
  {
   "cell_type": "code",
   "execution_count": 55,
   "metadata": {},
   "outputs": [],
   "source": [
    "def fft_transform(data):\n",
    "    processed_data = []\n",
    "    for img, _ in data:\n",
    "        img_np = img.numpy().squeeze()\n",
    "        fft = np.fft.fft2(img_np)\n",
    "        processed_data.append((img_np, fft))\n",
    "    return processed_data\n",
    "\n",
    "train_fft = fft_transform(train_data)\n",
    "test_fft = fft_transform(test_data)\n",
    "\n",
    "def normalize_fft(fft_data):\n",
    "    normalized_data = []\n",
    "    for img_np, fft in fft_data:\n",
    "        # Calculate magnitude and phase\n",
    "        magnitude = np.abs(fft)\n",
    "        phase = np.angle(fft)\n",
    "        \n",
    "        # Normalize magnitude to [0, 1] range\n",
    "        magnitude_min = np.min(magnitude)\n",
    "        magnitude_max = np.max(magnitude)\n",
    "        normalized_magnitude = (magnitude - magnitude_min) / (magnitude_max - magnitude_min)\n",
    "        \n",
    "        # Rebuild complex number using normalized magnitude and original phase\n",
    "        normalized_fft = normalized_magnitude * np.exp(1j * phase)\n",
    "        \n",
    "        normalized_data.append((img_np, normalized_fft))\n",
    "    \n",
    "    return normalized_data\n",
    "\n",
    "# train_fft = normalize_fft(train_fft)\n",
    "# test_fft = normalize_fft(test_fft)"
   ]
  },
  {
   "cell_type": "code",
   "execution_count": 56,
   "metadata": {},
   "outputs": [
    {
     "name": "stdout",
     "output_type": "stream",
     "text": [
      "1.0 0.0 (299.0078472062014+0j) (-105.1554452474781-85.19899857776973j)\n"
     ]
    },
    {
     "data": {
      "image/png": "[encoded data removed]",
      "text/plain": [
       "<Figure size 640x480 with 1 Axes>"
      ]
     },
     "metadata": {},
     "output_type": "display_data"
    }
   ],
   "source": [
    "plt.imshow(np.abs(train_fft[0])[1])\n",
    "print(train_fft[0][0].max(), train_fft[0][0].min(), train_fft[0][1].max(), train_fft[0][1].min())"
   ]
  },
  {
   "cell_type": "code",
   "execution_count": 57,
   "metadata": {},
   "outputs": [],
   "source": [
    "def phase_shift_fourier(fourier_image, x=2.0, y=2.0):\n",
    "    \"\"\"\n",
    "    Perform a random phase shift on a Fourier-image, constrained by maximum values.\n",
    "    \n",
    "    Parameters:\n",
    "    fourier_image (torch.tensor): Complex-valued centered Fourier representation of an image\n",
    "    x (float): Maximum amount to shift in x direction (0-2 range recommended due to 2pi periodicity)\n",
    "    y (float): Maximum amount to shift in y direction (0-2 range recommended due to 2pi periodicity)\n",
    "    \n",
    "    Returns:\n",
    "    torch.tensor: The phase-shifted Fourier-image\n",
    "    \"\"\"\n",
    "    fourier_image = torch.fft.fftshift(fourier_image)\n",
    "    rows, cols = fourier_image.shape\n",
    "    \n",
    "    # Generate random shift amounts within the specified ranges\n",
    "    random_x = torch.rand(1).item() * x\n",
    "    random_y = torch.rand(1).item() * y\n",
    "    shift_x = random_y * torch.pi * rows\n",
    "    shift_y = random_x * torch.pi * cols\n",
    "    \n",
    "    freq_x = torch.fft.fftfreq(cols)\n",
    "    freq_y = torch.fft.fftfreq(rows)\n",
    "    fx, fy = torch.meshgrid(freq_x, freq_y, indexing='ij')\n",
    "    \n",
    "    # Calculate and apply phase shift\n",
    "    phase_shift = torch.exp(-1j * (shift_x * fx + shift_y * fy))\n",
    "    shifted_fourier_image = torch.fft.fftshift(fourier_image * phase_shift)\n",
    "    \n",
    "    return shifted_fourier_image"
   ]
  },
  {
   "cell_type": "code",
   "execution_count": 58,
   "metadata": {},
   "outputs": [],
   "source": [
    "class CustomTransform:\n",
    "    def __init__(self, is_training=True):\n",
    "        self.is_training = is_training\n",
    "        \n",
    "    def __call__(self, sample):\n",
    "        img, fft = torch.tensor(np.array(sample))\n",
    "        if self.is_training: \n",
    "            fft = torch.fft.fftshift(fft)\n",
    "            fft = phase_shift_fourier(fft)\n",
    "            fft = torch.fft.fftshift(fft)\n",
    "            img = torch.fft.ifft2(fft)\n",
    "        # Duplicate the image along the channel dimension\n",
    "        img_stacked = torch.stack([img, img])\n",
    "        \n",
    "        # Split the complex FFT into real and imaginary parts\n",
    "        fft_real = torch.real(fft)\n",
    "        fft_imag = torch.imag(fft)\n",
    "        fft_stacked = torch.stack([fft_real, fft_imag])\n",
    "        \n",
    "        # Stack the image and FFT side by side\n",
    "        combined = torch.concatenate([img_stacked, fft_stacked], axis=2)\n",
    "        \n",
    "        return combined.float()"
   ]
  },
  {
   "cell_type": "code",
   "execution_count": 59,
   "metadata": {},
   "outputs": [],
   "source": [
    "class ComplexDataset(Dataset):\n",
    "    def __init__(self, data, labels, is_training=True):\n",
    "        self.data = data\n",
    "        self.labels = labels\n",
    "        self.transform = CustomTransform(is_training)\n",
    "        \n",
    "    def __len__(self):\n",
    "        return len(self.data)\n",
    "\n",
    "    def __getitem__(self, idx):\n",
    "        sample = self.data[idx]\n",
    "        label = self.labels[idx]\n",
    "        sample = self.transform(sample)\n",
    "        return sample, label"
   ]
  },
  {
   "cell_type": "code",
   "execution_count": 60,
   "metadata": {},
   "outputs": [
    {
     "name": "stdout",
     "output_type": "stream",
     "text": [
      "938\n"
     ]
    }
   ],
   "source": [
    "# Create the custom dataset\n",
    "train_labels = [label for _, label in train_data]\n",
    "train_dataset = ComplexDataset(train_fft, train_labels, is_training=True)\n",
    "\n",
    "test_labels = [label for _, label in test_data]\n",
    "test_dataset = ComplexDataset(test_fft, test_labels, is_training=False)\n",
    "\n",
    "# Create data loaders\n",
    "train_loader = DataLoader(train_dataset, batch_size=64, shuffle=True)\n",
    "test_loader = DataLoader(test_dataset, batch_size=64, shuffle=False)\n",
    "\n",
    "print(len(train_loader))"
   ]
  },
  {
   "cell_type": "code",
   "execution_count": 61,
   "metadata": {},
   "outputs": [],
   "source": [
    "item = next(iter(train_loader))"
   ]
  },
  {
   "cell_type": "code",
   "execution_count": 63,
   "metadata": {},
   "outputs": [
    {
     "name": "stdout",
     "output_type": "stream",
     "text": [
      "torch.Size([64, 2, 28, 56])\n"
     ]
    },
    {
     "data": {
      "text/plain": [
       "<matplotlib.image.AxesImage at 0x7a2512d76f10>"
      ]
     },
     "execution_count": 63,
     "metadata": {},
     "output_type": "execute_result"
    },
    {
     "data": {
      "image/png": "[encoded data removed]",
      "text/plain": [
       "<Figure size 640x480 with 1 Axes>"
      ]
     },
     "metadata": {},
     "output_type": "display_data"
    }
   ],
   "source": [
    "print(item[0].shape)\n",
    "plt.imshow(item[0][0,1,:,:], cmap=\"gray\", vmin=0, vmax=1)"
   ]
  },
  {
   "cell_type": "code",
   "execution_count": 64,
   "metadata": {},
   "outputs": [
    {
     "data": {
      "image/png": "[encoded data removed]",
      "text/plain": [
       "<Figure size 1200x500 with 3 Axes>"
      ]
     },
     "metadata": {},
     "output_type": "display_data"
    }
   ],
   "source": [
    "\n",
    "# Create a figure with two subplots\n",
    "fig, (ax1, ax2) = plt.subplots(1, 2, figsize=(12, 5))\n",
    "\n",
    "# Plot the image\n",
    "im = ax1.imshow(item[0][0,1,:,:], cmap=\"gray\")\n",
    "ax1.set_title(\"Image\")\n",
    "fig.colorbar(im, ax=ax1)\n",
    "\n",
    "# Plot the histogram\n",
    "ax2.hist(item[0][0,1,:,:].ravel(), bins=50, range=(0, 1))\n",
    "ax2.set_title(\"Histogram\")\n",
    "ax2.set_xlabel(\"Pixel Value\")\n",
    "ax2.set_ylabel(\"Frequency\")\n",
    "\n",
    "plt.tight_layout()\n",
    "plt.show()"
   ]
  },
  {
   "cell_type": "code",
   "execution_count": 65,
   "metadata": {},
   "outputs": [],
   "source": [
    "model = ViT(\n",
    "    image_size = 56,\n",
    "    patch_size = 7,\n",
    "    num_classes = 10,\n",
    "    dim = 256,\n",
    "    depth = 6,\n",
    "    heads = 12,\n",
    "    mlp_dim = 512,\n",
    "    dropout = 0.1,\n",
    "    emb_dropout = 0.1,\n",
    "    channels = 2\n",
    ")\n",
    "\n",
    "img = torch.randn(1, 2, 28, 56)\n",
    "\n",
    "preds = model(img) # (1, 1000)"
   ]
  },
  {
   "cell_type": "code",
   "execution_count": 66,
   "metadata": {},
   "outputs": [
    {
     "name": "stdout",
     "output_type": "stream",
     "text": [
      "Total trainable parameters: 6349774\n"
     ]
    }
   ],
   "source": [
    "total_params = sum(p.numel() for p in model.parameters() if p.requires_grad)\n",
    "print(f\"Total trainable parameters: {total_params}\")"
   ]
  },
  {
   "cell_type": "code",
   "execution_count": 69,
   "metadata": {},
   "outputs": [],
   "source": [
    "criterion = nn.CrossEntropyLoss()\n",
    "optimizer = optim.Adam(model.parameters(), lr=1e-4)"
   ]
  },
  {
   "cell_type": "code",
   "execution_count": 70,
   "metadata": {},
   "outputs": [],
   "source": [
    "writer = SummaryWriter('runs/experiment_1') \n",
    "\n",
    "def train(model, device, train_loader, optimizer, criterion, epoch):\n",
    "    model.train()\n",
    "    train_loss = 0\n",
    "    correct = 0\n",
    "    total = 0\n",
    "    progress_bar = tqdm(train_loader, desc=f\"Epoch {epoch}\", unit=\"batch\")\n",
    "    for batch_idx, (data, target) in enumerate(progress_bar):\n",
    "        data, target = data.to(device), target.to(device)\n",
    "        optimizer.zero_grad()\n",
    "        output = model(data)\n",
    "        loss = criterion(output, target)\n",
    "        loss.backward()\n",
    "        optimizer.step()\n",
    "        train_loss += loss.item()\n",
    "        _, predicted = output.max(1)\n",
    "        total += target.size(0)\n",
    "        correct += predicted.eq(target).sum().item()\n",
    "        progress_bar.set_postfix({\"Train Loss\": train_loss / (batch_idx + 1), \"Train Acc\": 100. * correct / total})\n",
    "        \n",
    "        # Log batch-level metrics\n",
    "        writer.add_scalar('Loss/Train Batch', loss.item(), epoch * len(train_loader) + batch_idx)\n",
    "        writer.add_scalar('Accuracy/Train Batch', 100. * correct / total, epoch * len(train_loader) + batch_idx)\n",
    "    \n",
    "    train_loss /= len(train_loader)\n",
    "    train_accuracy = 100. * correct / total\n",
    "    \n",
    "    # Log epoch-level metrics\n",
    "    writer.add_scalar('Loss/Train Epoch', train_loss, epoch)\n",
    "    writer.add_scalar('Accuracy/Train Epoch', train_accuracy, epoch)\n",
    "    \n",
    "    return train_loss, train_accuracy\n",
    "\n",
    "def test(model, device, test_loader, criterion, epoch):\n",
    "    model.eval()\n",
    "    test_loss = 0\n",
    "    correct = 0\n",
    "    total = 0\n",
    "    with torch.no_grad():\n",
    "        for data, target in test_loader:\n",
    "            data, target = data.to(device), target.to(device)\n",
    "            output = model(data)\n",
    "            test_loss += criterion(output, target).item()\n",
    "            _, predicted = output.max(1)\n",
    "            total += target.size(0)\n",
    "            correct += predicted.eq(target).sum().item()\n",
    "    \n",
    "    test_loss /= len(test_loader)\n",
    "    test_accuracy = 100. * correct / total\n",
    "    \n",
    "    # Log epoch-level metrics\n",
    "    writer.add_scalar('Loss/Test', test_loss, epoch)\n",
    "    writer.add_scalar('Accuracy/Test', test_accuracy, epoch)\n",
    "    \n",
    "    return test_loss, test_accuracy\n"
   ]
  },
  {
   "cell_type": "code",
   "execution_count": 71,
   "metadata": {},
   "outputs": [
    {
     "name": "stdout",
     "output_type": "stream",
     "text": [
      "cuda\n"
     ]
    }
   ],
   "source": [
    "device = torch.device(\"cuda\" if torch.cuda.is_available() else \"cpu\")\n",
    "print(device)"
   ]
  },
  {
   "cell_type": "code",
   "execution_count": 72,
   "metadata": {},
   "outputs": [
    {
     "name": "stderr",
     "output_type": "stream",
     "text": [
      "Epoch 1: 100%|██████████| 938/938 [01:25<00:00, 10.96batch/s, Train Loss=1.1, Train Acc=58.2] \n"
     ]
    },
    {
     "name": "stdout",
     "output_type": "stream",
     "text": [
      "Epoch 1\n",
      "Train Loss: 1.0988, Train Accuracy: 58.16%\n",
      "Test Loss: 0.8788, Test Accuracy: 67.39%\n",
      "\n"
     ]
    },
    {
     "name": "stderr",
     "output_type": "stream",
     "text": [
      "Epoch 2: 100%|██████████| 938/938 [01:31<00:00, 10.25batch/s, Train Loss=0.752, Train Acc=72.1]\n"
     ]
    },
    {
     "name": "stdout",
     "output_type": "stream",
     "text": [
      "Epoch 2\n",
      "Train Loss: 0.7519, Train Accuracy: 72.07%\n",
      "Test Loss: 0.8255, Test Accuracy: 70.84%\n",
      "\n"
     ]
    },
    {
     "name": "stderr",
     "output_type": "stream",
     "text": [
      "Epoch 3: 100%|██████████| 938/938 [01:29<00:00, 10.47batch/s, Train Loss=0.674, Train Acc=74.9]\n"
     ]
    },
    {
     "name": "stdout",
     "output_type": "stream",
     "text": [
      "Epoch 3\n",
      "Train Loss: 0.6737, Train Accuracy: 74.92%\n",
      "Test Loss: 0.6971, Test Accuracy: 75.01%\n",
      "\n"
     ]
    },
    {
     "name": "stderr",
     "output_type": "stream",
     "text": [
      "Epoch 4: 100%|██████████| 938/938 [01:31<00:00, 10.27batch/s, Train Loss=0.633, Train Acc=76.7]\n"
     ]
    },
    {
     "name": "stdout",
     "output_type": "stream",
     "text": [
      "Epoch 4\n",
      "Train Loss: 0.6329, Train Accuracy: 76.74%\n",
      "Test Loss: 0.6619, Test Accuracy: 76.17%\n",
      "\n"
     ]
    },
    {
     "name": "stderr",
     "output_type": "stream",
     "text": [
      "Epoch 5: 100%|██████████| 938/938 [01:29<00:00, 10.53batch/s, Train Loss=0.596, Train Acc=78.2]\n"
     ]
    },
    {
     "name": "stdout",
     "output_type": "stream",
     "text": [
      "Epoch 5\n",
      "Train Loss: 0.5958, Train Accuracy: 78.16%\n",
      "Test Loss: 0.6429, Test Accuracy: 77.42%\n",
      "\n"
     ]
    },
    {
     "name": "stderr",
     "output_type": "stream",
     "text": [
      "Epoch 6: 100%|██████████| 938/938 [01:27<00:00, 10.72batch/s, Train Loss=0.571, Train Acc=78.9]\n"
     ]
    },
    {
     "name": "stdout",
     "output_type": "stream",
     "text": [
      "Epoch 6\n",
      "Train Loss: 0.5712, Train Accuracy: 78.89%\n",
      "Test Loss: 0.6735, Test Accuracy: 76.27%\n",
      "\n"
     ]
    },
    {
     "name": "stderr",
     "output_type": "stream",
     "text": [
      "Epoch 7: 100%|██████████| 938/938 [01:31<00:00, 10.21batch/s, Train Loss=0.551, Train Acc=79.7]\n"
     ]
    },
    {
     "name": "stdout",
     "output_type": "stream",
     "text": [
      "Epoch 7\n",
      "Train Loss: 0.5507, Train Accuracy: 79.66%\n",
      "Test Loss: 0.5765, Test Accuracy: 79.71%\n",
      "\n"
     ]
    },
    {
     "name": "stderr",
     "output_type": "stream",
     "text": [
      "Epoch 8: 100%|██████████| 938/938 [01:53<00:00,  8.24batch/s, Train Loss=0.528, Train Acc=80.4]\n"
     ]
    },
    {
     "name": "stdout",
     "output_type": "stream",
     "text": [
      "Epoch 8\n",
      "Train Loss: 0.5280, Train Accuracy: 80.42%\n",
      "Test Loss: 0.5571, Test Accuracy: 79.90%\n",
      "\n"
     ]
    },
    {
     "name": "stderr",
     "output_type": "stream",
     "text": [
      "Epoch 9: 100%|██████████| 938/938 [01:47<00:00,  8.73batch/s, Train Loss=0.518, Train Acc=80.8]\n"
     ]
    },
    {
     "name": "stdout",
     "output_type": "stream",
     "text": [
      "Epoch 9\n",
      "Train Loss: 0.5180, Train Accuracy: 80.82%\n",
      "Test Loss: 0.5469, Test Accuracy: 79.92%\n",
      "\n"
     ]
    },
    {
     "name": "stderr",
     "output_type": "stream",
     "text": [
      "Epoch 10: 100%|██████████| 938/938 [01:47<00:00,  8.70batch/s, Train Loss=0.5, Train Acc=81.6]  \n"
     ]
    },
    {
     "name": "stdout",
     "output_type": "stream",
     "text": [
      "Epoch 10\n",
      "Train Loss: 0.4996, Train Accuracy: 81.61%\n",
      "Test Loss: 0.5259, Test Accuracy: 81.64%\n",
      "\n"
     ]
    },
    {
     "name": "stderr",
     "output_type": "stream",
     "text": [
      "Epoch 11: 100%|██████████| 938/938 [01:47<00:00,  8.69batch/s, Train Loss=0.49, Train Acc=82]   \n"
     ]
    },
    {
     "name": "stdout",
     "output_type": "stream",
     "text": [
      "Epoch 11\n",
      "Train Loss: 0.4903, Train Accuracy: 82.00%\n",
      "Test Loss: 0.5285, Test Accuracy: 80.86%\n",
      "\n"
     ]
    },
    {
     "name": "stderr",
     "output_type": "stream",
     "text": [
      "Epoch 12: 100%|██████████| 938/938 [01:32<00:00, 10.11batch/s, Train Loss=0.48, Train Acc=82.2] \n"
     ]
    },
    {
     "name": "stdout",
     "output_type": "stream",
     "text": [
      "Epoch 12\n",
      "Train Loss: 0.4797, Train Accuracy: 82.24%\n",
      "Test Loss: 0.4959, Test Accuracy: 82.17%\n",
      "\n"
     ]
    },
    {
     "name": "stderr",
     "output_type": "stream",
     "text": [
      "Epoch 13: 100%|██████████| 938/938 [01:21<00:00, 11.49batch/s, Train Loss=0.47, Train Acc=82.7] \n"
     ]
    },
    {
     "name": "stdout",
     "output_type": "stream",
     "text": [
      "Epoch 13\n",
      "Train Loss: 0.4698, Train Accuracy: 82.74%\n",
      "Test Loss: 0.5101, Test Accuracy: 81.92%\n",
      "\n"
     ]
    },
    {
     "name": "stderr",
     "output_type": "stream",
     "text": [
      "Epoch 14: 100%|██████████| 938/938 [01:21<00:00, 11.45batch/s, Train Loss=0.461, Train Acc=83.1]\n"
     ]
    },
    {
     "name": "stdout",
     "output_type": "stream",
     "text": [
      "Epoch 14\n",
      "Train Loss: 0.4607, Train Accuracy: 83.06%\n",
      "Test Loss: 0.4817, Test Accuracy: 82.39%\n",
      "\n"
     ]
    },
    {
     "name": "stderr",
     "output_type": "stream",
     "text": [
      "Epoch 15: 100%|██████████| 938/938 [01:21<00:00, 11.47batch/s, Train Loss=0.451, Train Acc=83.3]\n"
     ]
    },
    {
     "name": "stdout",
     "output_type": "stream",
     "text": [
      "Epoch 15\n",
      "Train Loss: 0.4512, Train Accuracy: 83.32%\n",
      "Test Loss: 0.4728, Test Accuracy: 82.97%\n",
      "\n"
     ]
    },
    {
     "name": "stderr",
     "output_type": "stream",
     "text": [
      "Epoch 16: 100%|██████████| 938/938 [01:22<00:00, 11.43batch/s, Train Loss=0.438, Train Acc=83.8]\n"
     ]
    },
    {
     "name": "stdout",
     "output_type": "stream",
     "text": [
      "Epoch 16\n",
      "Train Loss: 0.4378, Train Accuracy: 83.83%\n",
      "Test Loss: 0.4851, Test Accuracy: 82.24%\n",
      "\n"
     ]
    },
    {
     "name": "stderr",
     "output_type": "stream",
     "text": [
      "Epoch 17: 100%|██████████| 938/938 [01:22<00:00, 11.44batch/s, Train Loss=0.432, Train Acc=84.1]\n"
     ]
    },
    {
     "name": "stdout",
     "output_type": "stream",
     "text": [
      "Epoch 17\n",
      "Train Loss: 0.4318, Train Accuracy: 84.07%\n",
      "Test Loss: 0.4427, Test Accuracy: 83.87%\n",
      "\n"
     ]
    },
    {
     "name": "stderr",
     "output_type": "stream",
     "text": [
      "Epoch 18: 100%|██████████| 938/938 [01:21<00:00, 11.47batch/s, Train Loss=0.427, Train Acc=84.2]\n"
     ]
    },
    {
     "name": "stdout",
     "output_type": "stream",
     "text": [
      "Epoch 18\n",
      "Train Loss: 0.4268, Train Accuracy: 84.17%\n",
      "Test Loss: 0.4440, Test Accuracy: 84.26%\n",
      "\n"
     ]
    },
    {
     "name": "stderr",
     "output_type": "stream",
     "text": [
      "Epoch 19: 100%|██████████| 938/938 [01:22<00:00, 11.42batch/s, Train Loss=0.418, Train Acc=84.6]\n"
     ]
    },
    {
     "name": "stdout",
     "output_type": "stream",
     "text": [
      "Epoch 19\n",
      "Train Loss: 0.4183, Train Accuracy: 84.57%\n",
      "Test Loss: 0.4528, Test Accuracy: 83.93%\n",
      "\n"
     ]
    },
    {
     "name": "stderr",
     "output_type": "stream",
     "text": [
      "Epoch 20: 100%|██████████| 938/938 [01:21<00:00, 11.47batch/s, Train Loss=0.415, Train Acc=84.6]\n"
     ]
    },
    {
     "name": "stdout",
     "output_type": "stream",
     "text": [
      "Epoch 20\n",
      "Train Loss: 0.4153, Train Accuracy: 84.64%\n",
      "Test Loss: 0.4313, Test Accuracy: 84.60%\n",
      "\n"
     ]
    },
    {
     "name": "stderr",
     "output_type": "stream",
     "text": [
      "Epoch 21: 100%|██████████| 938/938 [01:21<00:00, 11.45batch/s, Train Loss=0.41, Train Acc=84.7] \n"
     ]
    },
    {
     "name": "stdout",
     "output_type": "stream",
     "text": [
      "Epoch 21\n",
      "Train Loss: 0.4103, Train Accuracy: 84.73%\n",
      "Test Loss: 0.4303, Test Accuracy: 84.19%\n",
      "\n"
     ]
    },
    {
     "name": "stderr",
     "output_type": "stream",
     "text": [
      "Epoch 22: 100%|██████████| 938/938 [01:21<00:00, 11.47batch/s, Train Loss=0.404, Train Acc=85.2]\n"
     ]
    },
    {
     "name": "stdout",
     "output_type": "stream",
     "text": [
      "Epoch 22\n",
      "Train Loss: 0.4039, Train Accuracy: 85.18%\n",
      "Test Loss: 0.4274, Test Accuracy: 84.36%\n",
      "\n"
     ]
    },
    {
     "name": "stderr",
     "output_type": "stream",
     "text": [
      "Epoch 23: 100%|██████████| 938/938 [01:22<00:00, 11.42batch/s, Train Loss=0.401, Train Acc=85.3]\n"
     ]
    },
    {
     "name": "stdout",
     "output_type": "stream",
     "text": [
      "Epoch 23\n",
      "Train Loss: 0.4012, Train Accuracy: 85.30%\n",
      "Test Loss: 0.4477, Test Accuracy: 83.79%\n",
      "\n"
     ]
    },
    {
     "name": "stderr",
     "output_type": "stream",
     "text": [
      "Epoch 24: 100%|██████████| 938/938 [01:21<00:00, 11.47batch/s, Train Loss=0.391, Train Acc=85.6]\n"
     ]
    },
    {
     "name": "stdout",
     "output_type": "stream",
     "text": [
      "Epoch 24\n",
      "Train Loss: 0.3913, Train Accuracy: 85.58%\n",
      "Test Loss: 0.4035, Test Accuracy: 85.44%\n",
      "\n"
     ]
    },
    {
     "name": "stderr",
     "output_type": "stream",
     "text": [
      "Epoch 25: 100%|██████████| 938/938 [01:21<00:00, 11.45batch/s, Train Loss=0.39, Train Acc=85.5] \n"
     ]
    },
    {
     "name": "stdout",
     "output_type": "stream",
     "text": [
      "Epoch 25\n",
      "Train Loss: 0.3895, Train Accuracy: 85.47%\n",
      "Test Loss: 0.4036, Test Accuracy: 85.08%\n",
      "\n"
     ]
    },
    {
     "name": "stderr",
     "output_type": "stream",
     "text": [
      "Epoch 26: 100%|██████████| 938/938 [01:21<00:00, 11.46batch/s, Train Loss=0.385, Train Acc=85.9]\n"
     ]
    },
    {
     "name": "stdout",
     "output_type": "stream",
     "text": [
      "Epoch 26\n",
      "Train Loss: 0.3854, Train Accuracy: 85.86%\n",
      "Test Loss: 0.4124, Test Accuracy: 84.96%\n",
      "\n"
     ]
    },
    {
     "name": "stderr",
     "output_type": "stream",
     "text": [
      "Epoch 27: 100%|██████████| 938/938 [01:21<00:00, 11.46batch/s, Train Loss=0.384, Train Acc=85.9]\n"
     ]
    },
    {
     "name": "stdout",
     "output_type": "stream",
     "text": [
      "Epoch 27\n",
      "Train Loss: 0.3835, Train Accuracy: 85.88%\n",
      "Test Loss: 0.4116, Test Accuracy: 84.52%\n",
      "\n"
     ]
    },
    {
     "name": "stderr",
     "output_type": "stream",
     "text": [
      "Epoch 28: 100%|██████████| 938/938 [01:22<00:00, 11.43batch/s, Train Loss=0.373, Train Acc=86.3]\n"
     ]
    },
    {
     "name": "stdout",
     "output_type": "stream",
     "text": [
      "Epoch 28\n",
      "Train Loss: 0.3733, Train Accuracy: 86.33%\n",
      "Test Loss: 0.3941, Test Accuracy: 85.94%\n",
      "\n"
     ]
    },
    {
     "name": "stderr",
     "output_type": "stream",
     "text": [
      "Epoch 29: 100%|██████████| 938/938 [01:21<00:00, 11.46batch/s, Train Loss=0.369, Train Acc=86.4]\n"
     ]
    },
    {
     "name": "stdout",
     "output_type": "stream",
     "text": [
      "Epoch 29\n",
      "Train Loss: 0.3691, Train Accuracy: 86.36%\n",
      "Test Loss: 0.3836, Test Accuracy: 85.63%\n",
      "\n"
     ]
    },
    {
     "name": "stderr",
     "output_type": "stream",
     "text": [
      "Epoch 30: 100%|██████████| 938/938 [01:21<00:00, 11.45batch/s, Train Loss=0.372, Train Acc=86.3]\n"
     ]
    },
    {
     "name": "stdout",
     "output_type": "stream",
     "text": [
      "Epoch 30\n",
      "Train Loss: 0.3724, Train Accuracy: 86.26%\n",
      "Test Loss: 0.4065, Test Accuracy: 85.10%\n",
      "\n"
     ]
    },
    {
     "name": "stderr",
     "output_type": "stream",
     "text": [
      "Epoch 31: 100%|██████████| 938/938 [01:21<00:00, 11.45batch/s, Train Loss=0.363, Train Acc=86.6]\n"
     ]
    },
    {
     "name": "stdout",
     "output_type": "stream",
     "text": [
      "Epoch 31\n",
      "Train Loss: 0.3634, Train Accuracy: 86.58%\n",
      "Test Loss: 0.3842, Test Accuracy: 86.16%\n",
      "\n"
     ]
    },
    {
     "name": "stderr",
     "output_type": "stream",
     "text": [
      "Epoch 32: 100%|██████████| 938/938 [01:22<00:00, 11.40batch/s, Train Loss=0.359, Train Acc=86.8]\n"
     ]
    },
    {
     "name": "stdout",
     "output_type": "stream",
     "text": [
      "Epoch 32\n",
      "Train Loss: 0.3587, Train Accuracy: 86.75%\n",
      "Test Loss: 0.3851, Test Accuracy: 86.29%\n",
      "\n"
     ]
    },
    {
     "name": "stderr",
     "output_type": "stream",
     "text": [
      "Epoch 33: 100%|██████████| 938/938 [01:22<00:00, 11.41batch/s, Train Loss=0.356, Train Acc=86.8]\n"
     ]
    },
    {
     "name": "stdout",
     "output_type": "stream",
     "text": [
      "Epoch 33\n",
      "Train Loss: 0.3559, Train Accuracy: 86.84%\n",
      "Test Loss: 0.3814, Test Accuracy: 85.80%\n",
      "\n"
     ]
    },
    {
     "name": "stderr",
     "output_type": "stream",
     "text": [
      "Epoch 34: 100%|██████████| 938/938 [01:21<00:00, 11.44batch/s, Train Loss=0.355, Train Acc=86.8]\n"
     ]
    },
    {
     "name": "stdout",
     "output_type": "stream",
     "text": [
      "Epoch 34\n",
      "Train Loss: 0.3546, Train Accuracy: 86.83%\n",
      "Test Loss: 0.3961, Test Accuracy: 85.90%\n",
      "\n"
     ]
    },
    {
     "name": "stderr",
     "output_type": "stream",
     "text": [
      "Epoch 35: 100%|██████████| 938/938 [01:22<00:00, 11.41batch/s, Train Loss=0.35, Train Acc=87]   \n"
     ]
    },
    {
     "name": "stdout",
     "output_type": "stream",
     "text": [
      "Epoch 35\n",
      "Train Loss: 0.3503, Train Accuracy: 87.02%\n",
      "Test Loss: 0.3878, Test Accuracy: 85.75%\n",
      "\n"
     ]
    },
    {
     "name": "stderr",
     "output_type": "stream",
     "text": [
      "Epoch 36: 100%|██████████| 938/938 [01:25<00:00, 10.97batch/s, Train Loss=0.347, Train Acc=87.1]\n"
     ]
    },
    {
     "name": "stdout",
     "output_type": "stream",
     "text": [
      "Epoch 36\n",
      "Train Loss: 0.3470, Train Accuracy: 87.12%\n",
      "Test Loss: 0.3810, Test Accuracy: 86.13%\n",
      "\n"
     ]
    },
    {
     "name": "stderr",
     "output_type": "stream",
     "text": [
      "Epoch 37: 100%|██████████| 938/938 [01:26<00:00, 10.86batch/s, Train Loss=0.342, Train Acc=87.2]\n"
     ]
    },
    {
     "name": "stdout",
     "output_type": "stream",
     "text": [
      "Epoch 37\n",
      "Train Loss: 0.3423, Train Accuracy: 87.18%\n",
      "Test Loss: 0.3647, Test Accuracy: 86.66%\n",
      "\n"
     ]
    },
    {
     "name": "stderr",
     "output_type": "stream",
     "text": [
      "Epoch 38: 100%|██████████| 938/938 [01:25<00:00, 10.98batch/s, Train Loss=0.342, Train Acc=87.3]\n"
     ]
    },
    {
     "name": "stdout",
     "output_type": "stream",
     "text": [
      "Epoch 38\n",
      "Train Loss: 0.3415, Train Accuracy: 87.31%\n",
      "Test Loss: 0.3628, Test Accuracy: 86.67%\n",
      "\n"
     ]
    },
    {
     "name": "stderr",
     "output_type": "stream",
     "text": [
      "Epoch 39: 100%|██████████| 938/938 [01:24<00:00, 11.16batch/s, Train Loss=0.338, Train Acc=87.4]\n"
     ]
    },
    {
     "name": "stdout",
     "output_type": "stream",
     "text": [
      "Epoch 39\n",
      "Train Loss: 0.3384, Train Accuracy: 87.41%\n",
      "Test Loss: 0.3753, Test Accuracy: 86.40%\n",
      "\n"
     ]
    },
    {
     "name": "stderr",
     "output_type": "stream",
     "text": [
      "Epoch 40: 100%|██████████| 938/938 [01:21<00:00, 11.46batch/s, Train Loss=0.336, Train Acc=87.5]\n"
     ]
    },
    {
     "name": "stdout",
     "output_type": "stream",
     "text": [
      "Epoch 40\n",
      "Train Loss: 0.3364, Train Accuracy: 87.54%\n",
      "Test Loss: 0.3556, Test Accuracy: 87.27%\n",
      "\n"
     ]
    },
    {
     "name": "stderr",
     "output_type": "stream",
     "text": [
      "Epoch 41: 100%|██████████| 938/938 [01:22<00:00, 11.43batch/s, Train Loss=0.332, Train Acc=87.7]\n"
     ]
    },
    {
     "name": "stdout",
     "output_type": "stream",
     "text": [
      "Epoch 41\n",
      "Train Loss: 0.3319, Train Accuracy: 87.69%\n",
      "Test Loss: 0.3553, Test Accuracy: 86.93%\n",
      "\n"
     ]
    },
    {
     "name": "stderr",
     "output_type": "stream",
     "text": [
      "Epoch 42: 100%|██████████| 938/938 [01:21<00:00, 11.44batch/s, Train Loss=0.329, Train Acc=87.8]\n"
     ]
    },
    {
     "name": "stdout",
     "output_type": "stream",
     "text": [
      "Epoch 42\n",
      "Train Loss: 0.3289, Train Accuracy: 87.85%\n",
      "Test Loss: 0.3646, Test Accuracy: 86.80%\n",
      "\n"
     ]
    },
    {
     "name": "stderr",
     "output_type": "stream",
     "text": [
      "Epoch 43: 100%|██████████| 938/938 [01:22<00:00, 11.30batch/s, Train Loss=0.329, Train Acc=87.8]\n"
     ]
    },
    {
     "name": "stdout",
     "output_type": "stream",
     "text": [
      "Epoch 43\n",
      "Train Loss: 0.3294, Train Accuracy: 87.84%\n",
      "Test Loss: 0.3719, Test Accuracy: 86.27%\n",
      "\n"
     ]
    },
    {
     "name": "stderr",
     "output_type": "stream",
     "text": [
      "Epoch 44: 100%|██████████| 938/938 [01:29<00:00, 10.45batch/s, Train Loss=0.325, Train Acc=87.9]\n"
     ]
    },
    {
     "name": "stdout",
     "output_type": "stream",
     "text": [
      "Epoch 44\n",
      "Train Loss: 0.3251, Train Accuracy: 87.92%\n",
      "Test Loss: 0.3552, Test Accuracy: 87.05%\n",
      "\n"
     ]
    },
    {
     "name": "stderr",
     "output_type": "stream",
     "text": [
      "Epoch 45: 100%|██████████| 938/938 [01:33<00:00, 10.04batch/s, Train Loss=0.322, Train Acc=88.1]\n"
     ]
    },
    {
     "name": "stdout",
     "output_type": "stream",
     "text": [
      "Epoch 45\n",
      "Train Loss: 0.3221, Train Accuracy: 88.08%\n",
      "Test Loss: 0.3661, Test Accuracy: 86.73%\n",
      "\n"
     ]
    },
    {
     "name": "stderr",
     "output_type": "stream",
     "text": [
      "Epoch 46: 100%|██████████| 938/938 [01:26<00:00, 10.86batch/s, Train Loss=0.32, Train Acc=88.1] \n"
     ]
    },
    {
     "name": "stdout",
     "output_type": "stream",
     "text": [
      "Epoch 46\n",
      "Train Loss: 0.3201, Train Accuracy: 88.09%\n",
      "Test Loss: 0.3398, Test Accuracy: 87.46%\n",
      "\n"
     ]
    },
    {
     "name": "stderr",
     "output_type": "stream",
     "text": [
      "Epoch 47: 100%|██████████| 938/938 [01:30<00:00, 10.38batch/s, Train Loss=0.317, Train Acc=88.2]\n"
     ]
    },
    {
     "name": "stdout",
     "output_type": "stream",
     "text": [
      "Epoch 47\n",
      "Train Loss: 0.3165, Train Accuracy: 88.24%\n",
      "Test Loss: 0.3484, Test Accuracy: 87.49%\n",
      "\n"
     ]
    },
    {
     "name": "stderr",
     "output_type": "stream",
     "text": [
      "Epoch 48: 100%|██████████| 938/938 [01:26<00:00, 10.83batch/s, Train Loss=0.317, Train Acc=88.1]\n"
     ]
    },
    {
     "name": "stdout",
     "output_type": "stream",
     "text": [
      "Epoch 48\n",
      "Train Loss: 0.3172, Train Accuracy: 88.12%\n",
      "Test Loss: 0.3447, Test Accuracy: 87.37%\n",
      "\n"
     ]
    },
    {
     "name": "stderr",
     "output_type": "stream",
     "text": [
      "Epoch 49: 100%|██████████| 938/938 [01:23<00:00, 11.19batch/s, Train Loss=0.314, Train Acc=88.4]\n"
     ]
    },
    {
     "name": "stdout",
     "output_type": "stream",
     "text": [
      "Epoch 49\n",
      "Train Loss: 0.3140, Train Accuracy: 88.37%\n",
      "Test Loss: 0.3554, Test Accuracy: 86.56%\n",
      "\n"
     ]
    },
    {
     "name": "stderr",
     "output_type": "stream",
     "text": [
      "Epoch 50: 100%|██████████| 938/938 [01:53<00:00,  8.26batch/s, Train Loss=0.312, Train Acc=88.3]\n"
     ]
    },
    {
     "name": "stdout",
     "output_type": "stream",
     "text": [
      "Epoch 50\n",
      "Train Loss: 0.3119, Train Accuracy: 88.33%\n",
      "Test Loss: 0.3482, Test Accuracy: 86.91%\n",
      "\n"
     ]
    },
    {
     "name": "stderr",
     "output_type": "stream",
     "text": [
      "Epoch 51: 100%|██████████| 938/938 [01:53<00:00,  8.27batch/s, Train Loss=0.312, Train Acc=88.4]\n"
     ]
    },
    {
     "name": "stdout",
     "output_type": "stream",
     "text": [
      "Epoch 51\n",
      "Train Loss: 0.3125, Train Accuracy: 88.43%\n",
      "Test Loss: 0.3301, Test Accuracy: 87.76%\n",
      "\n"
     ]
    },
    {
     "name": "stderr",
     "output_type": "stream",
     "text": [
      "Epoch 52: 100%|██████████| 938/938 [01:53<00:00,  8.30batch/s, Train Loss=0.305, Train Acc=88.6]\n"
     ]
    },
    {
     "name": "stdout",
     "output_type": "stream",
     "text": [
      "Epoch 52\n",
      "Train Loss: 0.3053, Train Accuracy: 88.57%\n",
      "Test Loss: 0.3249, Test Accuracy: 87.91%\n",
      "\n"
     ]
    },
    {
     "name": "stderr",
     "output_type": "stream",
     "text": [
      "Epoch 53: 100%|██████████| 938/938 [01:53<00:00,  8.29batch/s, Train Loss=0.306, Train Acc=88.6]\n"
     ]
    },
    {
     "name": "stdout",
     "output_type": "stream",
     "text": [
      "Epoch 53\n",
      "Train Loss: 0.3065, Train Accuracy: 88.65%\n",
      "Test Loss: 0.3307, Test Accuracy: 87.64%\n",
      "\n"
     ]
    },
    {
     "name": "stderr",
     "output_type": "stream",
     "text": [
      "Epoch 54: 100%|██████████| 938/938 [01:53<00:00,  8.28batch/s, Train Loss=0.304, Train Acc=88.6]\n"
     ]
    },
    {
     "name": "stdout",
     "output_type": "stream",
     "text": [
      "Epoch 54\n",
      "Train Loss: 0.3045, Train Accuracy: 88.65%\n",
      "Test Loss: 0.3280, Test Accuracy: 87.85%\n",
      "\n"
     ]
    },
    {
     "name": "stderr",
     "output_type": "stream",
     "text": [
      "Epoch 55: 100%|██████████| 938/938 [01:54<00:00,  8.20batch/s, Train Loss=0.301, Train Acc=88.9]\n"
     ]
    },
    {
     "name": "stdout",
     "output_type": "stream",
     "text": [
      "Epoch 55\n",
      "Train Loss: 0.3007, Train Accuracy: 88.86%\n",
      "Test Loss: 0.3365, Test Accuracy: 87.69%\n",
      "\n"
     ]
    },
    {
     "name": "stderr",
     "output_type": "stream",
     "text": [
      "Epoch 56: 100%|██████████| 938/938 [01:52<00:00,  8.32batch/s, Train Loss=0.299, Train Acc=88.8]\n"
     ]
    },
    {
     "name": "stdout",
     "output_type": "stream",
     "text": [
      "Epoch 56\n",
      "Train Loss: 0.2990, Train Accuracy: 88.83%\n",
      "Test Loss: 0.3281, Test Accuracy: 88.14%\n",
      "\n"
     ]
    },
    {
     "name": "stderr",
     "output_type": "stream",
     "text": [
      "Epoch 57: 100%|██████████| 938/938 [01:52<00:00,  8.32batch/s, Train Loss=0.298, Train Acc=88.9]\n"
     ]
    },
    {
     "name": "stdout",
     "output_type": "stream",
     "text": [
      "Epoch 57\n",
      "Train Loss: 0.2983, Train Accuracy: 88.89%\n",
      "Test Loss: 0.3208, Test Accuracy: 88.44%\n",
      "\n"
     ]
    },
    {
     "name": "stderr",
     "output_type": "stream",
     "text": [
      "Epoch 58: 100%|██████████| 938/938 [01:53<00:00,  8.28batch/s, Train Loss=0.295, Train Acc=88.9]\n"
     ]
    },
    {
     "name": "stdout",
     "output_type": "stream",
     "text": [
      "Epoch 58\n",
      "Train Loss: 0.2951, Train Accuracy: 88.94%\n",
      "Test Loss: 0.3166, Test Accuracy: 88.43%\n",
      "\n"
     ]
    },
    {
     "name": "stderr",
     "output_type": "stream",
     "text": [
      "Epoch 59: 100%|██████████| 938/938 [01:49<00:00,  8.55batch/s, Train Loss=0.295, Train Acc=88.9]\n"
     ]
    },
    {
     "name": "stdout",
     "output_type": "stream",
     "text": [
      "Epoch 59\n",
      "Train Loss: 0.2951, Train Accuracy: 88.88%\n",
      "Test Loss: 0.3174, Test Accuracy: 88.30%\n",
      "\n"
     ]
    },
    {
     "name": "stderr",
     "output_type": "stream",
     "text": [
      "Epoch 60: 100%|██████████| 938/938 [01:51<00:00,  8.44batch/s, Train Loss=0.291, Train Acc=89.1]\n"
     ]
    },
    {
     "name": "stdout",
     "output_type": "stream",
     "text": [
      "Epoch 60\n",
      "Train Loss: 0.2913, Train Accuracy: 89.12%\n",
      "Test Loss: 0.3130, Test Accuracy: 88.53%\n",
      "\n"
     ]
    },
    {
     "name": "stderr",
     "output_type": "stream",
     "text": [
      "Epoch 61: 100%|██████████| 938/938 [01:50<00:00,  8.49batch/s, Train Loss=0.293, Train Acc=88.9]\n"
     ]
    },
    {
     "name": "stdout",
     "output_type": "stream",
     "text": [
      "Epoch 61\n",
      "Train Loss: 0.2930, Train Accuracy: 88.89%\n",
      "Test Loss: 0.3215, Test Accuracy: 88.35%\n",
      "\n"
     ]
    },
    {
     "name": "stderr",
     "output_type": "stream",
     "text": [
      "Epoch 62: 100%|██████████| 938/938 [01:50<00:00,  8.45batch/s, Train Loss=0.29, Train Acc=89.2] \n"
     ]
    },
    {
     "name": "stdout",
     "output_type": "stream",
     "text": [
      "Epoch 62\n",
      "Train Loss: 0.2902, Train Accuracy: 89.21%\n",
      "Test Loss: 0.3170, Test Accuracy: 88.39%\n",
      "\n"
     ]
    },
    {
     "name": "stderr",
     "output_type": "stream",
     "text": [
      "Epoch 63: 100%|██████████| 938/938 [01:51<00:00,  8.40batch/s, Train Loss=0.286, Train Acc=89.3]\n"
     ]
    },
    {
     "name": "stdout",
     "output_type": "stream",
     "text": [
      "Epoch 63\n",
      "Train Loss: 0.2860, Train Accuracy: 89.34%\n",
      "Test Loss: 0.3204, Test Accuracy: 88.26%\n",
      "\n"
     ]
    },
    {
     "name": "stderr",
     "output_type": "stream",
     "text": [
      "Epoch 64: 100%|██████████| 938/938 [01:53<00:00,  8.23batch/s, Train Loss=0.286, Train Acc=89.3]\n"
     ]
    },
    {
     "name": "stdout",
     "output_type": "stream",
     "text": [
      "Epoch 64\n",
      "Train Loss: 0.2864, Train Accuracy: 89.28%\n",
      "Test Loss: 0.3190, Test Accuracy: 88.45%\n",
      "\n"
     ]
    },
    {
     "name": "stderr",
     "output_type": "stream",
     "text": [
      "Epoch 65: 100%|██████████| 938/938 [01:55<00:00,  8.14batch/s, Train Loss=0.286, Train Acc=89.3]\n"
     ]
    },
    {
     "name": "stdout",
     "output_type": "stream",
     "text": [
      "Epoch 65\n",
      "Train Loss: 0.2864, Train Accuracy: 89.26%\n",
      "Test Loss: 0.3094, Test Accuracy: 88.69%\n",
      "\n"
     ]
    },
    {
     "name": "stderr",
     "output_type": "stream",
     "text": [
      "Epoch 66: 100%|██████████| 938/938 [01:52<00:00,  8.35batch/s, Train Loss=0.283, Train Acc=89.4]\n"
     ]
    },
    {
     "name": "stdout",
     "output_type": "stream",
     "text": [
      "Epoch 66\n",
      "Train Loss: 0.2834, Train Accuracy: 89.36%\n",
      "Test Loss: 0.3137, Test Accuracy: 88.62%\n",
      "\n"
     ]
    },
    {
     "name": "stderr",
     "output_type": "stream",
     "text": [
      "Epoch 67: 100%|██████████| 938/938 [01:52<00:00,  8.36batch/s, Train Loss=0.283, Train Acc=89.4]\n"
     ]
    },
    {
     "name": "stdout",
     "output_type": "stream",
     "text": [
      "Epoch 67\n",
      "Train Loss: 0.2826, Train Accuracy: 89.43%\n",
      "Test Loss: 0.3204, Test Accuracy: 88.64%\n",
      "\n"
     ]
    },
    {
     "name": "stderr",
     "output_type": "stream",
     "text": [
      "Epoch 68: 100%|██████████| 938/938 [01:52<00:00,  8.33batch/s, Train Loss=0.278, Train Acc=89.6]\n"
     ]
    },
    {
     "name": "stdout",
     "output_type": "stream",
     "text": [
      "Epoch 68\n",
      "Train Loss: 0.2781, Train Accuracy: 89.55%\n",
      "Test Loss: 0.3071, Test Accuracy: 88.93%\n",
      "\n"
     ]
    },
    {
     "name": "stderr",
     "output_type": "stream",
     "text": [
      "Epoch 69: 100%|██████████| 938/938 [01:51<00:00,  8.44batch/s, Train Loss=0.278, Train Acc=89.6]\n"
     ]
    },
    {
     "name": "stdout",
     "output_type": "stream",
     "text": [
      "Epoch 69\n",
      "Train Loss: 0.2781, Train Accuracy: 89.64%\n",
      "Test Loss: 0.3028, Test Accuracy: 88.81%\n",
      "\n"
     ]
    },
    {
     "name": "stderr",
     "output_type": "stream",
     "text": [
      "Epoch 70: 100%|██████████| 938/938 [01:50<00:00,  8.47batch/s, Train Loss=0.276, Train Acc=89.7]\n"
     ]
    },
    {
     "name": "stdout",
     "output_type": "stream",
     "text": [
      "Epoch 70\n",
      "Train Loss: 0.2757, Train Accuracy: 89.72%\n",
      "Test Loss: 0.3161, Test Accuracy: 88.49%\n",
      "\n"
     ]
    },
    {
     "name": "stderr",
     "output_type": "stream",
     "text": [
      "Epoch 71: 100%|██████████| 938/938 [01:49<00:00,  8.54batch/s, Train Loss=0.275, Train Acc=89.6]\n"
     ]
    },
    {
     "name": "stdout",
     "output_type": "stream",
     "text": [
      "Epoch 71\n",
      "Train Loss: 0.2749, Train Accuracy: 89.63%\n",
      "Test Loss: 0.3100, Test Accuracy: 88.61%\n",
      "\n"
     ]
    },
    {
     "name": "stderr",
     "output_type": "stream",
     "text": [
      "Epoch 72: 100%|██████████| 938/938 [01:51<00:00,  8.42batch/s, Train Loss=0.276, Train Acc=89.7]\n"
     ]
    },
    {
     "name": "stdout",
     "output_type": "stream",
     "text": [
      "Epoch 72\n",
      "Train Loss: 0.2756, Train Accuracy: 89.71%\n",
      "Test Loss: 0.2968, Test Accuracy: 89.00%\n",
      "\n"
     ]
    },
    {
     "name": "stderr",
     "output_type": "stream",
     "text": [
      "Epoch 73: 100%|██████████| 938/938 [01:52<00:00,  8.35batch/s, Train Loss=0.273, Train Acc=89.8]\n"
     ]
    },
    {
     "name": "stdout",
     "output_type": "stream",
     "text": [
      "Epoch 73\n",
      "Train Loss: 0.2728, Train Accuracy: 89.84%\n",
      "Test Loss: 0.2971, Test Accuracy: 89.16%\n",
      "\n"
     ]
    },
    {
     "name": "stderr",
     "output_type": "stream",
     "text": [
      "Epoch 74: 100%|██████████| 938/938 [01:55<00:00,  8.15batch/s, Train Loss=0.27, Train Acc=90]   \n"
     ]
    },
    {
     "name": "stdout",
     "output_type": "stream",
     "text": [
      "Epoch 74\n",
      "Train Loss: 0.2703, Train Accuracy: 89.98%\n",
      "Test Loss: 0.3022, Test Accuracy: 88.90%\n",
      "\n"
     ]
    },
    {
     "name": "stderr",
     "output_type": "stream",
     "text": [
      "Epoch 75: 100%|██████████| 938/938 [01:54<00:00,  8.16batch/s, Train Loss=0.269, Train Acc=89.9]\n"
     ]
    },
    {
     "name": "stdout",
     "output_type": "stream",
     "text": [
      "Epoch 75\n",
      "Train Loss: 0.2691, Train Accuracy: 89.89%\n",
      "Test Loss: 0.2915, Test Accuracy: 89.28%\n",
      "\n"
     ]
    },
    {
     "name": "stderr",
     "output_type": "stream",
     "text": [
      "Epoch 76: 100%|██████████| 938/938 [01:51<00:00,  8.43batch/s, Train Loss=0.269, Train Acc=90]  \n"
     ]
    },
    {
     "name": "stdout",
     "output_type": "stream",
     "text": [
      "Epoch 76\n",
      "Train Loss: 0.2687, Train Accuracy: 89.95%\n",
      "Test Loss: 0.3067, Test Accuracy: 89.06%\n",
      "\n"
     ]
    },
    {
     "name": "stderr",
     "output_type": "stream",
     "text": [
      "Epoch 77: 100%|██████████| 938/938 [01:50<00:00,  8.50batch/s, Train Loss=0.27, Train Acc=90]   \n"
     ]
    },
    {
     "name": "stdout",
     "output_type": "stream",
     "text": [
      "Epoch 77\n",
      "Train Loss: 0.2698, Train Accuracy: 89.95%\n",
      "Test Loss: 0.2902, Test Accuracy: 89.30%\n",
      "\n"
     ]
    },
    {
     "name": "stderr",
     "output_type": "stream",
     "text": [
      "Epoch 78: 100%|██████████| 938/938 [01:52<00:00,  8.33batch/s, Train Loss=0.266, Train Acc=89.9]\n"
     ]
    },
    {
     "name": "stdout",
     "output_type": "stream",
     "text": [
      "Epoch 78\n",
      "Train Loss: 0.2661, Train Accuracy: 89.89%\n",
      "Test Loss: 0.3017, Test Accuracy: 89.12%\n",
      "\n"
     ]
    },
    {
     "name": "stderr",
     "output_type": "stream",
     "text": [
      "Epoch 79: 100%|██████████| 938/938 [01:54<00:00,  8.23batch/s, Train Loss=0.265, Train Acc=90.1]\n"
     ]
    },
    {
     "name": "stdout",
     "output_type": "stream",
     "text": [
      "Epoch 79\n",
      "Train Loss: 0.2648, Train Accuracy: 90.12%\n",
      "Test Loss: 0.3053, Test Accuracy: 89.08%\n",
      "\n"
     ]
    },
    {
     "name": "stderr",
     "output_type": "stream",
     "text": [
      "Epoch 80: 100%|██████████| 938/938 [01:52<00:00,  8.31batch/s, Train Loss=0.265, Train Acc=90]  \n"
     ]
    },
    {
     "name": "stdout",
     "output_type": "stream",
     "text": [
      "Epoch 80\n",
      "Train Loss: 0.2650, Train Accuracy: 90.00%\n",
      "Test Loss: 0.3033, Test Accuracy: 88.79%\n",
      "\n"
     ]
    },
    {
     "name": "stderr",
     "output_type": "stream",
     "text": [
      "Epoch 81: 100%|██████████| 938/938 [01:50<00:00,  8.45batch/s, Train Loss=0.263, Train Acc=90.2]\n"
     ]
    },
    {
     "name": "stdout",
     "output_type": "stream",
     "text": [
      "Epoch 81\n",
      "Train Loss: 0.2629, Train Accuracy: 90.18%\n",
      "Test Loss: 0.3000, Test Accuracy: 89.05%\n",
      "\n"
     ]
    },
    {
     "name": "stderr",
     "output_type": "stream",
     "text": [
      "Epoch 82: 100%|██████████| 938/938 [01:51<00:00,  8.38batch/s, Train Loss=0.261, Train Acc=90.1]\n"
     ]
    },
    {
     "name": "stdout",
     "output_type": "stream",
     "text": [
      "Epoch 82\n",
      "Train Loss: 0.2610, Train Accuracy: 90.14%\n",
      "Test Loss: 0.3006, Test Accuracy: 88.98%\n",
      "\n"
     ]
    },
    {
     "name": "stderr",
     "output_type": "stream",
     "text": [
      "Epoch 83: 100%|██████████| 938/938 [01:54<00:00,  8.23batch/s, Train Loss=0.259, Train Acc=90.2]\n"
     ]
    },
    {
     "name": "stdout",
     "output_type": "stream",
     "text": [
      "Epoch 83\n",
      "Train Loss: 0.2595, Train Accuracy: 90.25%\n",
      "Test Loss: 0.2918, Test Accuracy: 89.20%\n",
      "\n"
     ]
    },
    {
     "name": "stderr",
     "output_type": "stream",
     "text": [
      "Epoch 84: 100%|██████████| 938/938 [01:58<00:00,  7.91batch/s, Train Loss=0.259, Train Acc=90.3]\n"
     ]
    },
    {
     "name": "stdout",
     "output_type": "stream",
     "text": [
      "Epoch 84\n",
      "Train Loss: 0.2593, Train Accuracy: 90.32%\n",
      "Test Loss: 0.2814, Test Accuracy: 89.45%\n",
      "\n"
     ]
    },
    {
     "name": "stderr",
     "output_type": "stream",
     "text": [
      "Epoch 85: 100%|██████████| 938/938 [01:55<00:00,  8.09batch/s, Train Loss=0.258, Train Acc=90.3]\n"
     ]
    },
    {
     "name": "stdout",
     "output_type": "stream",
     "text": [
      "Epoch 85\n",
      "Train Loss: 0.2578, Train Accuracy: 90.32%\n",
      "Test Loss: 0.2779, Test Accuracy: 89.72%\n",
      "\n"
     ]
    },
    {
     "name": "stderr",
     "output_type": "stream",
     "text": [
      "Epoch 86: 100%|██████████| 938/938 [01:52<00:00,  8.36batch/s, Train Loss=0.257, Train Acc=90.3]\n"
     ]
    },
    {
     "name": "stdout",
     "output_type": "stream",
     "text": [
      "Epoch 86\n",
      "Train Loss: 0.2565, Train Accuracy: 90.33%\n",
      "Test Loss: 0.2905, Test Accuracy: 89.16%\n",
      "\n"
     ]
    },
    {
     "name": "stderr",
     "output_type": "stream",
     "text": [
      "Epoch 87: 100%|██████████| 938/938 [01:50<00:00,  8.51batch/s, Train Loss=0.256, Train Acc=90.4]\n"
     ]
    },
    {
     "name": "stdout",
     "output_type": "stream",
     "text": [
      "Epoch 87\n",
      "Train Loss: 0.2558, Train Accuracy: 90.43%\n",
      "Test Loss: 0.2863, Test Accuracy: 89.35%\n",
      "\n"
     ]
    },
    {
     "name": "stderr",
     "output_type": "stream",
     "text": [
      "Epoch 88: 100%|██████████| 938/938 [01:51<00:00,  8.41batch/s, Train Loss=0.254, Train Acc=90.5]\n"
     ]
    },
    {
     "name": "stdout",
     "output_type": "stream",
     "text": [
      "Epoch 88\n",
      "Train Loss: 0.2542, Train Accuracy: 90.51%\n",
      "Test Loss: 0.2888, Test Accuracy: 89.54%\n",
      "\n"
     ]
    },
    {
     "name": "stderr",
     "output_type": "stream",
     "text": [
      "Epoch 89: 100%|██████████| 938/938 [01:50<00:00,  8.50batch/s, Train Loss=0.254, Train Acc=90.6]\n"
     ]
    },
    {
     "name": "stdout",
     "output_type": "stream",
     "text": [
      "Epoch 89\n",
      "Train Loss: 0.2542, Train Accuracy: 90.56%\n",
      "Test Loss: 0.2888, Test Accuracy: 89.58%\n",
      "\n"
     ]
    },
    {
     "name": "stderr",
     "output_type": "stream",
     "text": [
      "Epoch 90: 100%|██████████| 938/938 [01:50<00:00,  8.45batch/s, Train Loss=0.254, Train Acc=90.5]\n"
     ]
    },
    {
     "name": "stdout",
     "output_type": "stream",
     "text": [
      "Epoch 90\n",
      "Train Loss: 0.2537, Train Accuracy: 90.54%\n",
      "Test Loss: 0.2951, Test Accuracy: 89.10%\n",
      "\n"
     ]
    },
    {
     "name": "stderr",
     "output_type": "stream",
     "text": [
      "Epoch 91: 100%|██████████| 938/938 [01:51<00:00,  8.40batch/s, Train Loss=0.252, Train Acc=90.5]\n"
     ]
    },
    {
     "name": "stdout",
     "output_type": "stream",
     "text": [
      "Epoch 91\n",
      "Train Loss: 0.2522, Train Accuracy: 90.51%\n",
      "Test Loss: 0.2854, Test Accuracy: 89.36%\n",
      "\n"
     ]
    },
    {
     "name": "stderr",
     "output_type": "stream",
     "text": [
      "Epoch 92: 100%|██████████| 938/938 [01:51<00:00,  8.43batch/s, Train Loss=0.251, Train Acc=90.5]\n"
     ]
    },
    {
     "name": "stdout",
     "output_type": "stream",
     "text": [
      "Epoch 92\n",
      "Train Loss: 0.2512, Train Accuracy: 90.54%\n",
      "Test Loss: 0.2800, Test Accuracy: 89.53%\n",
      "\n"
     ]
    },
    {
     "name": "stderr",
     "output_type": "stream",
     "text": [
      "Epoch 93: 100%|██████████| 938/938 [01:53<00:00,  8.29batch/s, Train Loss=0.248, Train Acc=90.7]\n"
     ]
    },
    {
     "name": "stdout",
     "output_type": "stream",
     "text": [
      "Epoch 93\n",
      "Train Loss: 0.2481, Train Accuracy: 90.75%\n",
      "Test Loss: 0.2801, Test Accuracy: 89.75%\n",
      "\n"
     ]
    },
    {
     "name": "stderr",
     "output_type": "stream",
     "text": [
      "Epoch 94: 100%|██████████| 938/938 [01:52<00:00,  8.33batch/s, Train Loss=0.248, Train Acc=90.7]\n"
     ]
    },
    {
     "name": "stdout",
     "output_type": "stream",
     "text": [
      "Epoch 94\n",
      "Train Loss: 0.2484, Train Accuracy: 90.75%\n",
      "Test Loss: 0.2834, Test Accuracy: 89.61%\n",
      "\n"
     ]
    },
    {
     "name": "stderr",
     "output_type": "stream",
     "text": [
      "Epoch 95: 100%|██████████| 938/938 [01:54<00:00,  8.20batch/s, Train Loss=0.246, Train Acc=90.8]\n"
     ]
    },
    {
     "name": "stdout",
     "output_type": "stream",
     "text": [
      "Epoch 95\n",
      "Train Loss: 0.2463, Train Accuracy: 90.75%\n",
      "Test Loss: 0.2823, Test Accuracy: 89.57%\n",
      "\n"
     ]
    },
    {
     "name": "stderr",
     "output_type": "stream",
     "text": [
      "Epoch 96: 100%|██████████| 938/938 [01:50<00:00,  8.50batch/s, Train Loss=0.246, Train Acc=90.8]\n"
     ]
    },
    {
     "name": "stdout",
     "output_type": "stream",
     "text": [
      "Epoch 96\n",
      "Train Loss: 0.2455, Train Accuracy: 90.81%\n",
      "Test Loss: 0.2853, Test Accuracy: 89.64%\n",
      "\n"
     ]
    },
    {
     "name": "stderr",
     "output_type": "stream",
     "text": [
      "Epoch 97: 100%|██████████| 938/938 [01:57<00:00,  7.99batch/s, Train Loss=0.245, Train Acc=90.9]\n"
     ]
    },
    {
     "name": "stdout",
     "output_type": "stream",
     "text": [
      "Epoch 97\n",
      "Train Loss: 0.2452, Train Accuracy: 90.89%\n",
      "Test Loss: 0.2849, Test Accuracy: 89.50%\n",
      "\n"
     ]
    },
    {
     "name": "stderr",
     "output_type": "stream",
     "text": [
      "Epoch 98: 100%|██████████| 938/938 [01:51<00:00,  8.40batch/s, Train Loss=0.244, Train Acc=90.8]\n"
     ]
    },
    {
     "name": "stdout",
     "output_type": "stream",
     "text": [
      "Epoch 98\n",
      "Train Loss: 0.2438, Train Accuracy: 90.82%\n",
      "Test Loss: 0.2820, Test Accuracy: 89.69%\n",
      "\n"
     ]
    },
    {
     "name": "stderr",
     "output_type": "stream",
     "text": [
      "Epoch 99: 100%|██████████| 938/938 [01:50<00:00,  8.48batch/s, Train Loss=0.245, Train Acc=90.7]\n"
     ]
    },
    {
     "name": "stdout",
     "output_type": "stream",
     "text": [
      "Epoch 99\n",
      "Train Loss: 0.2450, Train Accuracy: 90.67%\n",
      "Test Loss: 0.2786, Test Accuracy: 90.04%\n",
      "\n"
     ]
    },
    {
     "name": "stderr",
     "output_type": "stream",
     "text": [
      "Epoch 100: 100%|██████████| 938/938 [01:50<00:00,  8.49batch/s, Train Loss=0.242, Train Acc=90.9]\n"
     ]
    },
    {
     "name": "stdout",
     "output_type": "stream",
     "text": [
      "Epoch 100\n",
      "Train Loss: 0.2416, Train Accuracy: 90.94%\n",
      "Test Loss: 0.2745, Test Accuracy: 89.67%\n",
      "\n"
     ]
    },
    {
     "name": "stderr",
     "output_type": "stream",
     "text": [
      "Epoch 101: 100%|██████████| 938/938 [01:51<00:00,  8.44batch/s, Train Loss=0.241, Train Acc=91]  \n"
     ]
    },
    {
     "name": "stdout",
     "output_type": "stream",
     "text": [
      "Epoch 101\n",
      "Train Loss: 0.2405, Train Accuracy: 91.00%\n",
      "Test Loss: 0.2857, Test Accuracy: 89.37%\n",
      "\n"
     ]
    },
    {
     "name": "stderr",
     "output_type": "stream",
     "text": [
      "Epoch 102: 100%|██████████| 938/938 [01:50<00:00,  8.50batch/s, Train Loss=0.241, Train Acc=90.9]\n"
     ]
    },
    {
     "name": "stdout",
     "output_type": "stream",
     "text": [
      "Epoch 102\n",
      "Train Loss: 0.2413, Train Accuracy: 90.88%\n",
      "Test Loss: 0.2872, Test Accuracy: 89.53%\n",
      "\n"
     ]
    },
    {
     "name": "stderr",
     "output_type": "stream",
     "text": [
      "Epoch 103: 100%|██████████| 938/938 [01:50<00:00,  8.52batch/s, Train Loss=0.241, Train Acc=91]  \n"
     ]
    },
    {
     "name": "stdout",
     "output_type": "stream",
     "text": [
      "Epoch 103\n",
      "Train Loss: 0.2411, Train Accuracy: 90.97%\n",
      "Test Loss: 0.2854, Test Accuracy: 89.39%\n",
      "\n"
     ]
    },
    {
     "name": "stderr",
     "output_type": "stream",
     "text": [
      "Epoch 104: 100%|██████████| 938/938 [01:50<00:00,  8.49batch/s, Train Loss=0.239, Train Acc=91.1]\n"
     ]
    },
    {
     "name": "stdout",
     "output_type": "stream",
     "text": [
      "Epoch 104\n",
      "Train Loss: 0.2391, Train Accuracy: 91.08%\n",
      "Test Loss: 0.2841, Test Accuracy: 89.96%\n",
      "\n"
     ]
    },
    {
     "name": "stderr",
     "output_type": "stream",
     "text": [
      "Epoch 105: 100%|██████████| 938/938 [01:47<00:00,  8.73batch/s, Train Loss=0.237, Train Acc=91.1]\n"
     ]
    },
    {
     "name": "stdout",
     "output_type": "stream",
     "text": [
      "Epoch 105\n",
      "Train Loss: 0.2368, Train Accuracy: 91.06%\n",
      "Test Loss: 0.2817, Test Accuracy: 90.11%\n",
      "\n"
     ]
    },
    {
     "name": "stderr",
     "output_type": "stream",
     "text": [
      "Epoch 106: 100%|██████████| 938/938 [01:27<00:00, 10.71batch/s, Train Loss=0.236, Train Acc=91.1]\n"
     ]
    },
    {
     "name": "stdout",
     "output_type": "stream",
     "text": [
      "Epoch 106\n",
      "Train Loss: 0.2364, Train Accuracy: 91.12%\n",
      "Test Loss: 0.2750, Test Accuracy: 89.99%\n",
      "\n"
     ]
    },
    {
     "name": "stderr",
     "output_type": "stream",
     "text": [
      "Epoch 107: 100%|██████████| 938/938 [01:22<00:00, 11.44batch/s, Train Loss=0.236, Train Acc=91.1]\n"
     ]
    },
    {
     "name": "stdout",
     "output_type": "stream",
     "text": [
      "Epoch 107\n",
      "Train Loss: 0.2364, Train Accuracy: 91.10%\n",
      "Test Loss: 0.2760, Test Accuracy: 89.75%\n",
      "\n"
     ]
    },
    {
     "name": "stderr",
     "output_type": "stream",
     "text": [
      "Epoch 108: 100%|██████████| 938/938 [01:21<00:00, 11.51batch/s, Train Loss=0.234, Train Acc=91.3]\n"
     ]
    },
    {
     "name": "stdout",
     "output_type": "stream",
     "text": [
      "Epoch 108\n",
      "Train Loss: 0.2341, Train Accuracy: 91.31%\n",
      "Test Loss: 0.2793, Test Accuracy: 89.97%\n",
      "\n"
     ]
    },
    {
     "name": "stderr",
     "output_type": "stream",
     "text": [
      "Epoch 109: 100%|██████████| 938/938 [01:21<00:00, 11.45batch/s, Train Loss=0.234, Train Acc=91.1]\n"
     ]
    },
    {
     "name": "stdout",
     "output_type": "stream",
     "text": [
      "Epoch 109\n",
      "Train Loss: 0.2342, Train Accuracy: 91.13%\n",
      "Test Loss: 0.2718, Test Accuracy: 89.89%\n",
      "\n"
     ]
    },
    {
     "name": "stderr",
     "output_type": "stream",
     "text": [
      "Epoch 110: 100%|██████████| 938/938 [01:21<00:00, 11.47batch/s, Train Loss=0.234, Train Acc=91.1]\n"
     ]
    },
    {
     "name": "stdout",
     "output_type": "stream",
     "text": [
      "Epoch 110\n",
      "Train Loss: 0.2341, Train Accuracy: 91.14%\n",
      "Test Loss: 0.2745, Test Accuracy: 90.07%\n",
      "\n"
     ]
    },
    {
     "name": "stderr",
     "output_type": "stream",
     "text": [
      "Epoch 111: 100%|██████████| 938/938 [01:21<00:00, 11.50batch/s, Train Loss=0.228, Train Acc=91.4]\n"
     ]
    },
    {
     "name": "stdout",
     "output_type": "stream",
     "text": [
      "Epoch 111\n",
      "Train Loss: 0.2280, Train Accuracy: 91.40%\n",
      "Test Loss: 0.2712, Test Accuracy: 90.07%\n",
      "\n"
     ]
    },
    {
     "name": "stderr",
     "output_type": "stream",
     "text": [
      "Epoch 112: 100%|██████████| 938/938 [01:21<00:00, 11.49batch/s, Train Loss=0.23, Train Acc=91.3] \n"
     ]
    },
    {
     "name": "stdout",
     "output_type": "stream",
     "text": [
      "Epoch 112\n",
      "Train Loss: 0.2297, Train Accuracy: 91.30%\n",
      "Test Loss: 0.2753, Test Accuracy: 90.06%\n",
      "\n"
     ]
    },
    {
     "name": "stderr",
     "output_type": "stream",
     "text": [
      "Epoch 113: 100%|██████████| 938/938 [01:21<00:00, 11.47batch/s, Train Loss=0.231, Train Acc=91.2]\n"
     ]
    },
    {
     "name": "stdout",
     "output_type": "stream",
     "text": [
      "Epoch 113\n",
      "Train Loss: 0.2314, Train Accuracy: 91.24%\n",
      "Test Loss: 0.2744, Test Accuracy: 89.88%\n",
      "\n"
     ]
    },
    {
     "name": "stderr",
     "output_type": "stream",
     "text": [
      "Epoch 114: 100%|██████████| 938/938 [01:22<00:00, 11.43batch/s, Train Loss=0.228, Train Acc=91.4]\n"
     ]
    },
    {
     "name": "stdout",
     "output_type": "stream",
     "text": [
      "Epoch 114\n",
      "Train Loss: 0.2281, Train Accuracy: 91.39%\n",
      "Test Loss: 0.2637, Test Accuracy: 90.31%\n",
      "\n"
     ]
    },
    {
     "name": "stderr",
     "output_type": "stream",
     "text": [
      "Epoch 115: 100%|██████████| 938/938 [01:21<00:00, 11.47batch/s, Train Loss=0.226, Train Acc=91.5]\n"
     ]
    },
    {
     "name": "stdout",
     "output_type": "stream",
     "text": [
      "Epoch 115\n",
      "Train Loss: 0.2256, Train Accuracy: 91.48%\n",
      "Test Loss: 0.2698, Test Accuracy: 89.93%\n",
      "\n"
     ]
    },
    {
     "name": "stderr",
     "output_type": "stream",
     "text": [
      "Epoch 116: 100%|██████████| 938/938 [01:21<00:00, 11.49batch/s, Train Loss=0.228, Train Acc=91.5]\n"
     ]
    },
    {
     "name": "stdout",
     "output_type": "stream",
     "text": [
      "Epoch 116\n",
      "Train Loss: 0.2279, Train Accuracy: 91.46%\n",
      "Test Loss: 0.2656, Test Accuracy: 90.01%\n",
      "\n"
     ]
    },
    {
     "name": "stderr",
     "output_type": "stream",
     "text": [
      "Epoch 117: 100%|██████████| 938/938 [01:21<00:00, 11.46batch/s, Train Loss=0.225, Train Acc=91.5]\n"
     ]
    },
    {
     "name": "stdout",
     "output_type": "stream",
     "text": [
      "Epoch 117\n",
      "Train Loss: 0.2254, Train Accuracy: 91.53%\n",
      "Test Loss: 0.2757, Test Accuracy: 89.92%\n",
      "\n"
     ]
    },
    {
     "name": "stderr",
     "output_type": "stream",
     "text": [
      "Epoch 118: 100%|██████████| 938/938 [01:21<00:00, 11.48batch/s, Train Loss=0.228, Train Acc=91.4]\n"
     ]
    },
    {
     "name": "stdout",
     "output_type": "stream",
     "text": [
      "Epoch 118\n",
      "Train Loss: 0.2278, Train Accuracy: 91.44%\n",
      "Test Loss: 0.2686, Test Accuracy: 90.17%\n",
      "\n"
     ]
    },
    {
     "name": "stderr",
     "output_type": "stream",
     "text": [
      "Epoch 119: 100%|██████████| 938/938 [01:22<00:00, 11.42batch/s, Train Loss=0.225, Train Acc=91.5]\n"
     ]
    },
    {
     "name": "stdout",
     "output_type": "stream",
     "text": [
      "Epoch 119\n",
      "Train Loss: 0.2252, Train Accuracy: 91.54%\n",
      "Test Loss: 0.2661, Test Accuracy: 90.31%\n",
      "\n"
     ]
    },
    {
     "name": "stderr",
     "output_type": "stream",
     "text": [
      "Epoch 120: 100%|██████████| 938/938 [01:21<00:00, 11.48batch/s, Train Loss=0.223, Train Acc=91.6]\n"
     ]
    },
    {
     "name": "stdout",
     "output_type": "stream",
     "text": [
      "Epoch 120\n",
      "Train Loss: 0.2231, Train Accuracy: 91.62%\n",
      "Test Loss: 0.2686, Test Accuracy: 90.10%\n",
      "\n"
     ]
    },
    {
     "name": "stderr",
     "output_type": "stream",
     "text": [
      "Epoch 121: 100%|██████████| 938/938 [01:21<00:00, 11.44batch/s, Train Loss=0.228, Train Acc=91.3]\n"
     ]
    },
    {
     "name": "stdout",
     "output_type": "stream",
     "text": [
      "Epoch 121\n",
      "Train Loss: 0.2280, Train Accuracy: 91.33%\n",
      "Test Loss: 0.2766, Test Accuracy: 89.93%\n",
      "\n"
     ]
    },
    {
     "name": "stderr",
     "output_type": "stream",
     "text": [
      "Epoch 122: 100%|██████████| 938/938 [01:21<00:00, 11.47batch/s, Train Loss=0.22, Train Acc=91.6] \n"
     ]
    },
    {
     "name": "stdout",
     "output_type": "stream",
     "text": [
      "Epoch 122\n",
      "Train Loss: 0.2202, Train Accuracy: 91.63%\n",
      "Test Loss: 0.2618, Test Accuracy: 90.53%\n",
      "\n"
     ]
    },
    {
     "name": "stderr",
     "output_type": "stream",
     "text": [
      "Epoch 123: 100%|██████████| 938/938 [01:21<00:00, 11.48batch/s, Train Loss=0.222, Train Acc=91.6]\n"
     ]
    },
    {
     "name": "stdout",
     "output_type": "stream",
     "text": [
      "Epoch 123\n",
      "Train Loss: 0.2222, Train Accuracy: 91.64%\n",
      "Test Loss: 0.2643, Test Accuracy: 90.34%\n",
      "\n"
     ]
    },
    {
     "name": "stderr",
     "output_type": "stream",
     "text": [
      "Epoch 124: 100%|██████████| 938/938 [01:21<00:00, 11.48batch/s, Train Loss=0.221, Train Acc=91.6]\n"
     ]
    },
    {
     "name": "stdout",
     "output_type": "stream",
     "text": [
      "Epoch 124\n",
      "Train Loss: 0.2211, Train Accuracy: 91.62%\n",
      "Test Loss: 0.2617, Test Accuracy: 90.50%\n",
      "\n"
     ]
    },
    {
     "name": "stderr",
     "output_type": "stream",
     "text": [
      "Epoch 125: 100%|██████████| 938/938 [01:21<00:00, 11.48batch/s, Train Loss=0.221, Train Acc=91.7]\n"
     ]
    },
    {
     "name": "stdout",
     "output_type": "stream",
     "text": [
      "Epoch 125\n",
      "Train Loss: 0.2205, Train Accuracy: 91.69%\n",
      "Test Loss: 0.2663, Test Accuracy: 90.54%\n",
      "\n"
     ]
    },
    {
     "name": "stderr",
     "output_type": "stream",
     "text": [
      "Epoch 126: 100%|██████████| 938/938 [01:21<00:00, 11.46batch/s, Train Loss=0.221, Train Acc=91.7]\n"
     ]
    },
    {
     "name": "stdout",
     "output_type": "stream",
     "text": [
      "Epoch 126\n",
      "Train Loss: 0.2210, Train Accuracy: 91.74%\n",
      "Test Loss: 0.2642, Test Accuracy: 90.48%\n",
      "\n"
     ]
    },
    {
     "name": "stderr",
     "output_type": "stream",
     "text": [
      "Epoch 127: 100%|██████████| 938/938 [01:21<00:00, 11.46batch/s, Train Loss=0.218, Train Acc=91.8]\n"
     ]
    },
    {
     "name": "stdout",
     "output_type": "stream",
     "text": [
      "Epoch 127\n",
      "Train Loss: 0.2182, Train Accuracy: 91.81%\n",
      "Test Loss: 0.2679, Test Accuracy: 90.45%\n",
      "\n"
     ]
    },
    {
     "name": "stderr",
     "output_type": "stream",
     "text": [
      "Epoch 128: 100%|██████████| 938/938 [01:21<00:00, 11.49batch/s, Train Loss=0.221, Train Acc=91.7]\n"
     ]
    },
    {
     "name": "stdout",
     "output_type": "stream",
     "text": [
      "Epoch 128\n",
      "Train Loss: 0.2207, Train Accuracy: 91.67%\n",
      "Test Loss: 0.2612, Test Accuracy: 90.56%\n",
      "\n"
     ]
    },
    {
     "name": "stderr",
     "output_type": "stream",
     "text": [
      "Epoch 129: 100%|██████████| 938/938 [01:22<00:00, 11.41batch/s, Train Loss=0.219, Train Acc=91.7]\n"
     ]
    },
    {
     "name": "stdout",
     "output_type": "stream",
     "text": [
      "Epoch 129\n",
      "Train Loss: 0.2194, Train Accuracy: 91.68%\n",
      "Test Loss: 0.2647, Test Accuracy: 90.13%\n",
      "\n"
     ]
    },
    {
     "name": "stderr",
     "output_type": "stream",
     "text": [
      "Epoch 130: 100%|██████████| 938/938 [01:22<00:00, 11.41batch/s, Train Loss=0.217, Train Acc=91.9]\n"
     ]
    },
    {
     "name": "stdout",
     "output_type": "stream",
     "text": [
      "Epoch 130\n",
      "Train Loss: 0.2170, Train Accuracy: 91.86%\n",
      "Test Loss: 0.2696, Test Accuracy: 90.32%\n",
      "\n"
     ]
    },
    {
     "name": "stderr",
     "output_type": "stream",
     "text": [
      "Epoch 131: 100%|██████████| 938/938 [01:21<00:00, 11.44batch/s, Train Loss=0.216, Train Acc=91.8]\n"
     ]
    },
    {
     "name": "stdout",
     "output_type": "stream",
     "text": [
      "Epoch 131\n",
      "Train Loss: 0.2160, Train Accuracy: 91.77%\n",
      "Test Loss: 0.2618, Test Accuracy: 90.63%\n",
      "\n"
     ]
    },
    {
     "name": "stderr",
     "output_type": "stream",
     "text": [
      "Epoch 132: 100%|██████████| 938/938 [01:21<00:00, 11.47batch/s, Train Loss=0.214, Train Acc=91.9]\n"
     ]
    },
    {
     "name": "stdout",
     "output_type": "stream",
     "text": [
      "Epoch 132\n",
      "Train Loss: 0.2137, Train Accuracy: 91.88%\n",
      "Test Loss: 0.2608, Test Accuracy: 90.56%\n",
      "\n"
     ]
    },
    {
     "name": "stderr",
     "output_type": "stream",
     "text": [
      "Epoch 133: 100%|██████████| 938/938 [01:21<00:00, 11.48batch/s, Train Loss=0.216, Train Acc=91.8]\n"
     ]
    },
    {
     "name": "stdout",
     "output_type": "stream",
     "text": [
      "Epoch 133\n",
      "Train Loss: 0.2159, Train Accuracy: 91.80%\n",
      "Test Loss: 0.2584, Test Accuracy: 90.43%\n",
      "\n"
     ]
    },
    {
     "name": "stderr",
     "output_type": "stream",
     "text": [
      "Epoch 134: 100%|██████████| 938/938 [01:21<00:00, 11.48batch/s, Train Loss=0.213, Train Acc=92]  \n"
     ]
    },
    {
     "name": "stdout",
     "output_type": "stream",
     "text": [
      "Epoch 134\n",
      "Train Loss: 0.2132, Train Accuracy: 91.96%\n",
      "Test Loss: 0.2655, Test Accuracy: 90.46%\n",
      "\n"
     ]
    },
    {
     "name": "stderr",
     "output_type": "stream",
     "text": [
      "Epoch 135: 100%|██████████| 938/938 [01:21<00:00, 11.49batch/s, Train Loss=0.212, Train Acc=92]  \n"
     ]
    },
    {
     "name": "stdout",
     "output_type": "stream",
     "text": [
      "Epoch 135\n",
      "Train Loss: 0.2121, Train Accuracy: 92.00%\n",
      "Test Loss: 0.2550, Test Accuracy: 90.63%\n",
      "\n"
     ]
    },
    {
     "name": "stderr",
     "output_type": "stream",
     "text": [
      "Epoch 136: 100%|██████████| 938/938 [01:21<00:00, 11.49batch/s, Train Loss=0.212, Train Acc=92]  \n"
     ]
    },
    {
     "name": "stdout",
     "output_type": "stream",
     "text": [
      "Epoch 136\n",
      "Train Loss: 0.2119, Train Accuracy: 92.00%\n",
      "Test Loss: 0.2812, Test Accuracy: 89.83%\n",
      "\n"
     ]
    },
    {
     "name": "stderr",
     "output_type": "stream",
     "text": [
      "Epoch 137: 100%|██████████| 938/938 [01:21<00:00, 11.46batch/s, Train Loss=0.212, Train Acc=91.9]\n"
     ]
    },
    {
     "name": "stdout",
     "output_type": "stream",
     "text": [
      "Epoch 137\n",
      "Train Loss: 0.2120, Train Accuracy: 91.87%\n",
      "Test Loss: 0.2484, Test Accuracy: 90.90%\n",
      "\n"
     ]
    },
    {
     "name": "stderr",
     "output_type": "stream",
     "text": [
      "Epoch 138: 100%|██████████| 938/938 [01:21<00:00, 11.49batch/s, Train Loss=0.21, Train Acc=92]   \n"
     ]
    },
    {
     "name": "stdout",
     "output_type": "stream",
     "text": [
      "Epoch 138\n",
      "Train Loss: 0.2102, Train Accuracy: 91.97%\n",
      "Test Loss: 0.2596, Test Accuracy: 90.48%\n",
      "\n"
     ]
    },
    {
     "name": "stderr",
     "output_type": "stream",
     "text": [
      "Epoch 139: 100%|██████████| 938/938 [01:21<00:00, 11.46batch/s, Train Loss=0.211, Train Acc=92.1]\n"
     ]
    },
    {
     "name": "stdout",
     "output_type": "stream",
     "text": [
      "Epoch 139\n",
      "Train Loss: 0.2109, Train Accuracy: 92.09%\n",
      "Test Loss: 0.2637, Test Accuracy: 90.50%\n",
      "\n"
     ]
    },
    {
     "name": "stderr",
     "output_type": "stream",
     "text": [
      "Epoch 140: 100%|██████████| 938/938 [01:21<00:00, 11.49batch/s, Train Loss=0.21, Train Acc=92.1] \n"
     ]
    },
    {
     "name": "stdout",
     "output_type": "stream",
     "text": [
      "Epoch 140\n",
      "Train Loss: 0.2095, Train Accuracy: 92.12%\n",
      "Test Loss: 0.2570, Test Accuracy: 90.64%\n",
      "\n"
     ]
    },
    {
     "name": "stderr",
     "output_type": "stream",
     "text": [
      "Epoch 141: 100%|██████████| 938/938 [01:21<00:00, 11.46batch/s, Train Loss=0.211, Train Acc=92]  \n"
     ]
    },
    {
     "name": "stdout",
     "output_type": "stream",
     "text": [
      "Epoch 141\n",
      "Train Loss: 0.2112, Train Accuracy: 91.99%\n",
      "Test Loss: 0.2572, Test Accuracy: 90.82%\n",
      "\n"
     ]
    },
    {
     "name": "stderr",
     "output_type": "stream",
     "text": [
      "Epoch 142: 100%|██████████| 938/938 [01:21<00:00, 11.50batch/s, Train Loss=0.207, Train Acc=92.2]\n"
     ]
    },
    {
     "name": "stdout",
     "output_type": "stream",
     "text": [
      "Epoch 142\n",
      "Train Loss: 0.2074, Train Accuracy: 92.16%\n",
      "Test Loss: 0.2583, Test Accuracy: 90.81%\n",
      "\n"
     ]
    },
    {
     "name": "stderr",
     "output_type": "stream",
     "text": [
      "Epoch 143: 100%|██████████| 938/938 [01:21<00:00, 11.49batch/s, Train Loss=0.208, Train Acc=92.1]\n"
     ]
    },
    {
     "name": "stdout",
     "output_type": "stream",
     "text": [
      "Epoch 143\n",
      "Train Loss: 0.2079, Train Accuracy: 92.10%\n",
      "Test Loss: 0.2510, Test Accuracy: 90.76%\n",
      "\n"
     ]
    },
    {
     "name": "stderr",
     "output_type": "stream",
     "text": [
      "Epoch 144: 100%|██████████| 938/938 [01:21<00:00, 11.49batch/s, Train Loss=0.205, Train Acc=92.3]\n"
     ]
    },
    {
     "name": "stdout",
     "output_type": "stream",
     "text": [
      "Epoch 144\n",
      "Train Loss: 0.2046, Train Accuracy: 92.30%\n",
      "Test Loss: 0.2618, Test Accuracy: 90.27%\n",
      "\n"
     ]
    },
    {
     "name": "stderr",
     "output_type": "stream",
     "text": [
      "Epoch 145: 100%|██████████| 938/938 [01:21<00:00, 11.45batch/s, Train Loss=0.205, Train Acc=92.2]\n"
     ]
    },
    {
     "name": "stdout",
     "output_type": "stream",
     "text": [
      "Epoch 145\n",
      "Train Loss: 0.2054, Train Accuracy: 92.15%\n",
      "Test Loss: 0.2580, Test Accuracy: 90.76%\n",
      "\n"
     ]
    },
    {
     "name": "stderr",
     "output_type": "stream",
     "text": [
      "Epoch 146: 100%|██████████| 938/938 [01:21<00:00, 11.48batch/s, Train Loss=0.206, Train Acc=92.2]\n"
     ]
    },
    {
     "name": "stdout",
     "output_type": "stream",
     "text": [
      "Epoch 146\n",
      "Train Loss: 0.2058, Train Accuracy: 92.20%\n",
      "Test Loss: 0.2572, Test Accuracy: 90.71%\n",
      "\n"
     ]
    },
    {
     "name": "stderr",
     "output_type": "stream",
     "text": [
      "Epoch 147: 100%|██████████| 938/938 [01:21<00:00, 11.44batch/s, Train Loss=0.208, Train Acc=92.1]\n"
     ]
    },
    {
     "name": "stdout",
     "output_type": "stream",
     "text": [
      "Epoch 147\n",
      "Train Loss: 0.2077, Train Accuracy: 92.14%\n",
      "Test Loss: 0.2586, Test Accuracy: 90.77%\n",
      "\n"
     ]
    },
    {
     "name": "stderr",
     "output_type": "stream",
     "text": [
      "Epoch 148: 100%|██████████| 938/938 [01:21<00:00, 11.49batch/s, Train Loss=0.205, Train Acc=92.2]\n"
     ]
    },
    {
     "name": "stdout",
     "output_type": "stream",
     "text": [
      "Epoch 148\n",
      "Train Loss: 0.2049, Train Accuracy: 92.22%\n",
      "Test Loss: 0.2574, Test Accuracy: 90.63%\n",
      "\n"
     ]
    },
    {
     "name": "stderr",
     "output_type": "stream",
     "text": [
      "Epoch 149: 100%|██████████| 938/938 [01:21<00:00, 11.50batch/s, Train Loss=0.202, Train Acc=92.5]\n"
     ]
    },
    {
     "name": "stdout",
     "output_type": "stream",
     "text": [
      "Epoch 149\n",
      "Train Loss: 0.2022, Train Accuracy: 92.45%\n",
      "Test Loss: 0.2494, Test Accuracy: 91.02%\n",
      "\n"
     ]
    },
    {
     "name": "stderr",
     "output_type": "stream",
     "text": [
      "Epoch 150: 100%|██████████| 938/938 [01:21<00:00, 11.48batch/s, Train Loss=0.204, Train Acc=92.3]\n"
     ]
    },
    {
     "name": "stdout",
     "output_type": "stream",
     "text": [
      "Epoch 150\n",
      "Train Loss: 0.2037, Train Accuracy: 92.35%\n",
      "Test Loss: 0.2577, Test Accuracy: 90.37%\n",
      "\n"
     ]
    },
    {
     "name": "stderr",
     "output_type": "stream",
     "text": [
      "Epoch 151: 100%|██████████| 938/938 [01:21<00:00, 11.49batch/s, Train Loss=0.201, Train Acc=92.5]\n"
     ]
    },
    {
     "name": "stdout",
     "output_type": "stream",
     "text": [
      "Epoch 151\n",
      "Train Loss: 0.2008, Train Accuracy: 92.49%\n",
      "Test Loss: 0.2508, Test Accuracy: 90.74%\n",
      "\n"
     ]
    },
    {
     "name": "stderr",
     "output_type": "stream",
     "text": [
      "Epoch 152: 100%|██████████| 938/938 [01:21<00:00, 11.47batch/s, Train Loss=0.202, Train Acc=92.5]\n"
     ]
    },
    {
     "name": "stdout",
     "output_type": "stream",
     "text": [
      "Epoch 152\n",
      "Train Loss: 0.2015, Train Accuracy: 92.48%\n",
      "Test Loss: 0.2599, Test Accuracy: 90.54%\n",
      "\n"
     ]
    },
    {
     "name": "stderr",
     "output_type": "stream",
     "text": [
      "Epoch 153: 100%|██████████| 938/938 [01:21<00:00, 11.46batch/s, Train Loss=0.201, Train Acc=92.4]\n"
     ]
    },
    {
     "name": "stdout",
     "output_type": "stream",
     "text": [
      "Epoch 153\n",
      "Train Loss: 0.2014, Train Accuracy: 92.40%\n",
      "Test Loss: 0.2579, Test Accuracy: 90.73%\n",
      "\n"
     ]
    },
    {
     "name": "stderr",
     "output_type": "stream",
     "text": [
      "Epoch 154: 100%|██████████| 938/938 [01:21<00:00, 11.46batch/s, Train Loss=0.199, Train Acc=92.4]\n"
     ]
    },
    {
     "name": "stdout",
     "output_type": "stream",
     "text": [
      "Epoch 154\n",
      "Train Loss: 0.1991, Train Accuracy: 92.42%\n",
      "Test Loss: 0.2474, Test Accuracy: 91.08%\n",
      "\n"
     ]
    },
    {
     "name": "stderr",
     "output_type": "stream",
     "text": [
      "Epoch 155: 100%|██████████| 938/938 [01:21<00:00, 11.52batch/s, Train Loss=0.201, Train Acc=92.3]\n"
     ]
    },
    {
     "name": "stdout",
     "output_type": "stream",
     "text": [
      "Epoch 155\n",
      "Train Loss: 0.2012, Train Accuracy: 92.34%\n",
      "Test Loss: 0.2538, Test Accuracy: 90.73%\n",
      "\n"
     ]
    },
    {
     "name": "stderr",
     "output_type": "stream",
     "text": [
      "Epoch 156: 100%|██████████| 938/938 [01:21<00:00, 11.46batch/s, Train Loss=0.199, Train Acc=92.4]\n"
     ]
    },
    {
     "name": "stdout",
     "output_type": "stream",
     "text": [
      "Epoch 156\n",
      "Train Loss: 0.1986, Train Accuracy: 92.44%\n",
      "Test Loss: 0.2571, Test Accuracy: 90.76%\n",
      "\n"
     ]
    },
    {
     "name": "stderr",
     "output_type": "stream",
     "text": [
      "Epoch 157: 100%|██████████| 938/938 [01:21<00:00, 11.50batch/s, Train Loss=0.199, Train Acc=92.4]\n"
     ]
    },
    {
     "name": "stdout",
     "output_type": "stream",
     "text": [
      "Epoch 157\n",
      "Train Loss: 0.1992, Train Accuracy: 92.36%\n",
      "Test Loss: 0.2580, Test Accuracy: 90.74%\n",
      "\n"
     ]
    },
    {
     "name": "stderr",
     "output_type": "stream",
     "text": [
      "Epoch 158: 100%|██████████| 938/938 [01:21<00:00, 11.46batch/s, Train Loss=0.197, Train Acc=92.6]\n"
     ]
    },
    {
     "name": "stdout",
     "output_type": "stream",
     "text": [
      "Epoch 158\n",
      "Train Loss: 0.1966, Train Accuracy: 92.61%\n",
      "Test Loss: 0.2495, Test Accuracy: 90.81%\n",
      "\n"
     ]
    },
    {
     "name": "stderr",
     "output_type": "stream",
     "text": [
      "Epoch 159: 100%|██████████| 938/938 [01:21<00:00, 11.49batch/s, Train Loss=0.196, Train Acc=92.5]\n"
     ]
    },
    {
     "name": "stdout",
     "output_type": "stream",
     "text": [
      "Epoch 159\n",
      "Train Loss: 0.1961, Train Accuracy: 92.53%\n",
      "Test Loss: 0.2542, Test Accuracy: 90.88%\n",
      "\n"
     ]
    },
    {
     "name": "stderr",
     "output_type": "stream",
     "text": [
      "Epoch 160: 100%|██████████| 938/938 [01:21<00:00, 11.49batch/s, Train Loss=0.197, Train Acc=92.6]\n"
     ]
    },
    {
     "name": "stdout",
     "output_type": "stream",
     "text": [
      "Epoch 160\n",
      "Train Loss: 0.1966, Train Accuracy: 92.58%\n",
      "Test Loss: 0.2493, Test Accuracy: 91.04%\n",
      "\n"
     ]
    },
    {
     "name": "stderr",
     "output_type": "stream",
     "text": [
      "Epoch 161: 100%|██████████| 938/938 [01:21<00:00, 11.48batch/s, Train Loss=0.196, Train Acc=92.6]\n"
     ]
    },
    {
     "name": "stdout",
     "output_type": "stream",
     "text": [
      "Epoch 161\n",
      "Train Loss: 0.1959, Train Accuracy: 92.61%\n",
      "Test Loss: 0.2482, Test Accuracy: 91.17%\n",
      "\n"
     ]
    },
    {
     "name": "stderr",
     "output_type": "stream",
     "text": [
      "Epoch 162: 100%|██████████| 938/938 [01:22<00:00, 11.43batch/s, Train Loss=0.196, Train Acc=92.7]\n"
     ]
    },
    {
     "name": "stdout",
     "output_type": "stream",
     "text": [
      "Epoch 162\n",
      "Train Loss: 0.1964, Train Accuracy: 92.67%\n",
      "Test Loss: 0.2479, Test Accuracy: 91.00%\n",
      "\n"
     ]
    },
    {
     "name": "stderr",
     "output_type": "stream",
     "text": [
      "Epoch 163: 100%|██████████| 938/938 [01:21<00:00, 11.50batch/s, Train Loss=0.196, Train Acc=92.5]\n"
     ]
    },
    {
     "name": "stdout",
     "output_type": "stream",
     "text": [
      "Epoch 163\n",
      "Train Loss: 0.1957, Train Accuracy: 92.51%\n",
      "Test Loss: 0.2505, Test Accuracy: 90.92%\n",
      "\n"
     ]
    },
    {
     "name": "stderr",
     "output_type": "stream",
     "text": [
      "Epoch 164: 100%|██████████| 938/938 [01:21<00:00, 11.52batch/s, Train Loss=0.193, Train Acc=92.6]\n"
     ]
    },
    {
     "name": "stdout",
     "output_type": "stream",
     "text": [
      "Epoch 164\n",
      "Train Loss: 0.1930, Train Accuracy: 92.56%\n",
      "Test Loss: 0.2497, Test Accuracy: 90.85%\n",
      "\n"
     ]
    },
    {
     "name": "stderr",
     "output_type": "stream",
     "text": [
      "Epoch 165: 100%|██████████| 938/938 [01:21<00:00, 11.45batch/s, Train Loss=0.192, Train Acc=92.8]\n"
     ]
    },
    {
     "name": "stdout",
     "output_type": "stream",
     "text": [
      "Epoch 165\n",
      "Train Loss: 0.1920, Train Accuracy: 92.77%\n",
      "Test Loss: 0.2478, Test Accuracy: 91.05%\n",
      "\n"
     ]
    },
    {
     "name": "stderr",
     "output_type": "stream",
     "text": [
      "Epoch 166: 100%|██████████| 938/938 [01:27<00:00, 10.74batch/s, Train Loss=0.191, Train Acc=92.7]\n"
     ]
    },
    {
     "name": "stdout",
     "output_type": "stream",
     "text": [
      "Epoch 166\n",
      "Train Loss: 0.1913, Train Accuracy: 92.73%\n",
      "Test Loss: 0.2448, Test Accuracy: 91.16%\n",
      "\n"
     ]
    },
    {
     "name": "stderr",
     "output_type": "stream",
     "text": [
      "Epoch 167: 100%|██████████| 938/938 [01:30<00:00, 10.39batch/s, Train Loss=0.194, Train Acc=92.7]\n"
     ]
    },
    {
     "name": "stdout",
     "output_type": "stream",
     "text": [
      "Epoch 167\n",
      "Train Loss: 0.1936, Train Accuracy: 92.72%\n",
      "Test Loss: 0.2572, Test Accuracy: 90.42%\n",
      "\n"
     ]
    },
    {
     "name": "stderr",
     "output_type": "stream",
     "text": [
      "Epoch 168: 100%|██████████| 938/938 [01:25<00:00, 10.92batch/s, Train Loss=0.188, Train Acc=92.8]\n"
     ]
    },
    {
     "name": "stdout",
     "output_type": "stream",
     "text": [
      "Epoch 168\n",
      "Train Loss: 0.1882, Train Accuracy: 92.78%\n",
      "Test Loss: 0.2589, Test Accuracy: 90.94%\n",
      "\n"
     ]
    },
    {
     "name": "stderr",
     "output_type": "stream",
     "text": [
      "Epoch 169: 100%|██████████| 938/938 [01:57<00:00,  7.99batch/s, Train Loss=0.192, Train Acc=92.8]\n"
     ]
    },
    {
     "name": "stdout",
     "output_type": "stream",
     "text": [
      "Epoch 169\n",
      "Train Loss: 0.1917, Train Accuracy: 92.80%\n",
      "Test Loss: 0.2417, Test Accuracy: 90.91%\n",
      "\n"
     ]
    },
    {
     "name": "stderr",
     "output_type": "stream",
     "text": [
      "Epoch 170: 100%|██████████| 938/938 [03:19<00:00,  4.69batch/s, Train Loss=0.191, Train Acc=92.8]\n"
     ]
    },
    {
     "name": "stdout",
     "output_type": "stream",
     "text": [
      "Epoch 170\n",
      "Train Loss: 0.1910, Train Accuracy: 92.78%\n",
      "Test Loss: 0.2579, Test Accuracy: 90.51%\n",
      "\n"
     ]
    },
    {
     "name": "stderr",
     "output_type": "stream",
     "text": [
      "Epoch 171: 100%|██████████| 938/938 [05:11<00:00,  3.01batch/s, Train Loss=0.189, Train Acc=92.8]\n"
     ]
    },
    {
     "name": "stdout",
     "output_type": "stream",
     "text": [
      "Epoch 171\n",
      "Train Loss: 0.1890, Train Accuracy: 92.78%\n",
      "Test Loss: 0.2459, Test Accuracy: 91.07%\n",
      "\n"
     ]
    },
    {
     "name": "stderr",
     "output_type": "stream",
     "text": [
      "Epoch 172: 100%|██████████| 938/938 [05:48<00:00,  2.69batch/s, Train Loss=0.192, Train Acc=92.8]\n"
     ]
    },
    {
     "name": "stdout",
     "output_type": "stream",
     "text": [
      "Epoch 172\n",
      "Train Loss: 0.1916, Train Accuracy: 92.84%\n",
      "Test Loss: 0.2465, Test Accuracy: 91.23%\n",
      "\n"
     ]
    },
    {
     "name": "stderr",
     "output_type": "stream",
     "text": [
      "Epoch 173: 100%|██████████| 938/938 [07:50<00:00,  2.00batch/s, Train Loss=0.189, Train Acc=92.8]\n"
     ]
    },
    {
     "name": "stdout",
     "output_type": "stream",
     "text": [
      "Epoch 173\n",
      "Train Loss: 0.1894, Train Accuracy: 92.82%\n",
      "Test Loss: 0.2458, Test Accuracy: 91.19%\n",
      "\n"
     ]
    },
    {
     "name": "stderr",
     "output_type": "stream",
     "text": [
      "Epoch 174: 100%|██████████| 938/938 [02:16<00:00,  6.85batch/s, Train Loss=0.187, Train Acc=93]  \n"
     ]
    },
    {
     "name": "stdout",
     "output_type": "stream",
     "text": [
      "Epoch 174\n",
      "Train Loss: 0.1869, Train Accuracy: 93.00%\n",
      "Test Loss: 0.2428, Test Accuracy: 91.27%\n",
      "\n"
     ]
    },
    {
     "name": "stderr",
     "output_type": "stream",
     "text": [
      "Epoch 175: 100%|██████████| 938/938 [02:05<00:00,  7.46batch/s, Train Loss=0.189, Train Acc=92.9]\n"
     ]
    },
    {
     "name": "stdout",
     "output_type": "stream",
     "text": [
      "Epoch 175\n",
      "Train Loss: 0.1886, Train Accuracy: 92.90%\n",
      "Test Loss: 0.2485, Test Accuracy: 91.14%\n",
      "\n"
     ]
    },
    {
     "name": "stderr",
     "output_type": "stream",
     "text": [
      "Epoch 176: 100%|██████████| 938/938 [02:01<00:00,  7.69batch/s, Train Loss=0.186, Train Acc=92.9]\n"
     ]
    },
    {
     "name": "stdout",
     "output_type": "stream",
     "text": [
      "Epoch 176\n",
      "Train Loss: 0.1861, Train Accuracy: 92.94%\n",
      "Test Loss: 0.2446, Test Accuracy: 91.28%\n",
      "\n"
     ]
    },
    {
     "name": "stderr",
     "output_type": "stream",
     "text": [
      "Epoch 177: 100%|██████████| 938/938 [02:00<00:00,  7.79batch/s, Train Loss=0.186, Train Acc=93]  \n"
     ]
    },
    {
     "name": "stdout",
     "output_type": "stream",
     "text": [
      "Epoch 177\n",
      "Train Loss: 0.1861, Train Accuracy: 92.98%\n",
      "Test Loss: 0.2641, Test Accuracy: 90.77%\n",
      "\n"
     ]
    },
    {
     "name": "stderr",
     "output_type": "stream",
     "text": [
      "Epoch 178: 100%|██████████| 938/938 [01:59<00:00,  7.84batch/s, Train Loss=0.185, Train Acc=93]  \n"
     ]
    },
    {
     "name": "stdout",
     "output_type": "stream",
     "text": [
      "Epoch 178\n",
      "Train Loss: 0.1854, Train Accuracy: 93.02%\n",
      "Test Loss: 0.2399, Test Accuracy: 91.27%\n",
      "\n"
     ]
    },
    {
     "name": "stderr",
     "output_type": "stream",
     "text": [
      "Epoch 179: 100%|██████████| 938/938 [01:43<00:00,  9.06batch/s, Train Loss=0.183, Train Acc=93.1]\n"
     ]
    },
    {
     "name": "stdout",
     "output_type": "stream",
     "text": [
      "Epoch 179\n",
      "Train Loss: 0.1827, Train Accuracy: 93.11%\n",
      "Test Loss: 0.2448, Test Accuracy: 91.13%\n",
      "\n"
     ]
    },
    {
     "name": "stderr",
     "output_type": "stream",
     "text": [
      "Epoch 180: 100%|██████████| 938/938 [01:45<00:00,  8.89batch/s, Train Loss=0.185, Train Acc=93.1]\n"
     ]
    },
    {
     "name": "stdout",
     "output_type": "stream",
     "text": [
      "Epoch 180\n",
      "Train Loss: 0.1852, Train Accuracy: 93.10%\n",
      "Test Loss: 0.2451, Test Accuracy: 90.90%\n",
      "\n"
     ]
    },
    {
     "name": "stderr",
     "output_type": "stream",
     "text": [
      "Epoch 181: 100%|██████████| 938/938 [01:45<00:00,  8.92batch/s, Train Loss=0.185, Train Acc=93]  \n"
     ]
    },
    {
     "name": "stdout",
     "output_type": "stream",
     "text": [
      "Epoch 181\n",
      "Train Loss: 0.1848, Train Accuracy: 93.00%\n",
      "Test Loss: 0.2443, Test Accuracy: 91.36%\n",
      "\n"
     ]
    },
    {
     "name": "stderr",
     "output_type": "stream",
     "text": [
      "Epoch 182: 100%|██████████| 938/938 [01:45<00:00,  8.87batch/s, Train Loss=0.185, Train Acc=92.9]\n"
     ]
    },
    {
     "name": "stdout",
     "output_type": "stream",
     "text": [
      "Epoch 182\n",
      "Train Loss: 0.1849, Train Accuracy: 92.92%\n",
      "Test Loss: 0.2501, Test Accuracy: 90.90%\n",
      "\n"
     ]
    },
    {
     "name": "stderr",
     "output_type": "stream",
     "text": [
      "Epoch 183: 100%|██████████| 938/938 [01:44<00:00,  9.01batch/s, Train Loss=0.183, Train Acc=93]  \n"
     ]
    },
    {
     "name": "stdout",
     "output_type": "stream",
     "text": [
      "Epoch 183\n",
      "Train Loss: 0.1834, Train Accuracy: 93.00%\n",
      "Test Loss: 0.2459, Test Accuracy: 91.05%\n",
      "\n"
     ]
    },
    {
     "name": "stderr",
     "output_type": "stream",
     "text": [
      "Epoch 184: 100%|██████████| 938/938 [01:45<00:00,  8.92batch/s, Train Loss=0.181, Train Acc=93.1]\n"
     ]
    },
    {
     "name": "stdout",
     "output_type": "stream",
     "text": [
      "Epoch 184\n",
      "Train Loss: 0.1805, Train Accuracy: 93.06%\n",
      "Test Loss: 0.2430, Test Accuracy: 91.15%\n",
      "\n"
     ]
    },
    {
     "name": "stderr",
     "output_type": "stream",
     "text": [
      "Epoch 185: 100%|██████████| 938/938 [01:44<00:00,  8.98batch/s, Train Loss=0.184, Train Acc=93]  \n"
     ]
    },
    {
     "name": "stdout",
     "output_type": "stream",
     "text": [
      "Epoch 185\n",
      "Train Loss: 0.1839, Train Accuracy: 92.99%\n",
      "Test Loss: 0.2486, Test Accuracy: 91.39%\n",
      "\n"
     ]
    },
    {
     "name": "stderr",
     "output_type": "stream",
     "text": [
      "Epoch 186: 100%|██████████| 938/938 [01:44<00:00,  8.94batch/s, Train Loss=0.179, Train Acc=93.2]\n"
     ]
    },
    {
     "name": "stdout",
     "output_type": "stream",
     "text": [
      "Epoch 186\n",
      "Train Loss: 0.1792, Train Accuracy: 93.21%\n",
      "Test Loss: 0.2469, Test Accuracy: 90.98%\n",
      "\n"
     ]
    },
    {
     "name": "stderr",
     "output_type": "stream",
     "text": [
      "Epoch 187: 100%|██████████| 938/938 [01:45<00:00,  8.92batch/s, Train Loss=0.181, Train Acc=93.2]\n"
     ]
    },
    {
     "name": "stdout",
     "output_type": "stream",
     "text": [
      "Epoch 187\n",
      "Train Loss: 0.1805, Train Accuracy: 93.18%\n",
      "Test Loss: 0.2415, Test Accuracy: 91.54%\n",
      "\n"
     ]
    },
    {
     "name": "stderr",
     "output_type": "stream",
     "text": [
      "Epoch 188: 100%|██████████| 938/938 [01:46<00:00,  8.85batch/s, Train Loss=0.181, Train Acc=93.1]\n"
     ]
    },
    {
     "name": "stdout",
     "output_type": "stream",
     "text": [
      "Epoch 188\n",
      "Train Loss: 0.1811, Train Accuracy: 93.13%\n",
      "Test Loss: 0.2430, Test Accuracy: 91.34%\n",
      "\n"
     ]
    },
    {
     "name": "stderr",
     "output_type": "stream",
     "text": [
      "Epoch 189: 100%|██████████| 938/938 [02:14<00:00,  6.99batch/s, Train Loss=0.179, Train Acc=93.2]\n"
     ]
    },
    {
     "name": "stdout",
     "output_type": "stream",
     "text": [
      "Epoch 189\n",
      "Train Loss: 0.1787, Train Accuracy: 93.20%\n",
      "Test Loss: 0.2484, Test Accuracy: 91.02%\n",
      "\n"
     ]
    },
    {
     "name": "stderr",
     "output_type": "stream",
     "text": [
      "Epoch 190: 100%|██████████| 938/938 [01:47<00:00,  8.76batch/s, Train Loss=0.178, Train Acc=93.2]\n"
     ]
    },
    {
     "name": "stdout",
     "output_type": "stream",
     "text": [
      "Epoch 190\n",
      "Train Loss: 0.1782, Train Accuracy: 93.19%\n",
      "Test Loss: 0.2426, Test Accuracy: 91.18%\n",
      "\n"
     ]
    },
    {
     "name": "stderr",
     "output_type": "stream",
     "text": [
      "Epoch 191: 100%|██████████| 938/938 [01:27<00:00, 10.73batch/s, Train Loss=0.178, Train Acc=93.2]\n"
     ]
    },
    {
     "name": "stdout",
     "output_type": "stream",
     "text": [
      "Epoch 191\n",
      "Train Loss: 0.1782, Train Accuracy: 93.16%\n",
      "Test Loss: 0.2569, Test Accuracy: 90.88%\n",
      "\n"
     ]
    },
    {
     "name": "stderr",
     "output_type": "stream",
     "text": [
      "Epoch 192: 100%|██████████| 938/938 [01:34<00:00,  9.89batch/s, Train Loss=0.179, Train Acc=93.1]\n"
     ]
    },
    {
     "name": "stdout",
     "output_type": "stream",
     "text": [
      "Epoch 192\n",
      "Train Loss: 0.1787, Train Accuracy: 93.13%\n",
      "Test Loss: 0.2388, Test Accuracy: 91.60%\n",
      "\n"
     ]
    },
    {
     "name": "stderr",
     "output_type": "stream",
     "text": [
      "Epoch 193: 100%|██████████| 938/938 [01:35<00:00,  9.80batch/s, Train Loss=0.177, Train Acc=93.3]\n"
     ]
    },
    {
     "name": "stdout",
     "output_type": "stream",
     "text": [
      "Epoch 193\n",
      "Train Loss: 0.1767, Train Accuracy: 93.30%\n",
      "Test Loss: 0.2431, Test Accuracy: 91.02%\n",
      "\n"
     ]
    },
    {
     "name": "stderr",
     "output_type": "stream",
     "text": [
      "Epoch 194: 100%|██████████| 938/938 [01:45<00:00,  8.93batch/s, Train Loss=0.177, Train Acc=93.3]\n"
     ]
    },
    {
     "name": "stdout",
     "output_type": "stream",
     "text": [
      "Epoch 194\n",
      "Train Loss: 0.1775, Train Accuracy: 93.29%\n",
      "Test Loss: 0.2465, Test Accuracy: 91.38%\n",
      "\n"
     ]
    },
    {
     "name": "stderr",
     "output_type": "stream",
     "text": [
      "Epoch 195: 100%|██████████| 938/938 [01:58<00:00,  7.88batch/s, Train Loss=0.177, Train Acc=93.2]\n"
     ]
    },
    {
     "name": "stdout",
     "output_type": "stream",
     "text": [
      "Epoch 195\n",
      "Train Loss: 0.1767, Train Accuracy: 93.22%\n",
      "Test Loss: 0.2459, Test Accuracy: 91.20%\n",
      "\n"
     ]
    },
    {
     "name": "stderr",
     "output_type": "stream",
     "text": [
      "Epoch 196: 100%|██████████| 938/938 [02:08<00:00,  7.28batch/s, Train Loss=0.177, Train Acc=93.3]\n"
     ]
    },
    {
     "name": "stdout",
     "output_type": "stream",
     "text": [
      "Epoch 196\n",
      "Train Loss: 0.1774, Train Accuracy: 93.29%\n",
      "Test Loss: 0.2370, Test Accuracy: 91.31%\n",
      "\n"
     ]
    },
    {
     "name": "stderr",
     "output_type": "stream",
     "text": [
      "Epoch 197: 100%|██████████| 938/938 [02:07<00:00,  7.34batch/s, Train Loss=0.176, Train Acc=93.3]\n"
     ]
    },
    {
     "name": "stdout",
     "output_type": "stream",
     "text": [
      "Epoch 197\n",
      "Train Loss: 0.1757, Train Accuracy: 93.26%\n",
      "Test Loss: 0.2440, Test Accuracy: 91.03%\n",
      "\n"
     ]
    },
    {
     "name": "stderr",
     "output_type": "stream",
     "text": [
      "Epoch 198: 100%|██████████| 938/938 [02:09<00:00,  7.24batch/s, Train Loss=0.177, Train Acc=93.3]\n"
     ]
    },
    {
     "name": "stdout",
     "output_type": "stream",
     "text": [
      "Epoch 198\n",
      "Train Loss: 0.1772, Train Accuracy: 93.28%\n",
      "Test Loss: 0.2372, Test Accuracy: 91.30%\n",
      "\n"
     ]
    },
    {
     "name": "stderr",
     "output_type": "stream",
     "text": [
      "Epoch 199: 100%|██████████| 938/938 [02:10<00:00,  7.18batch/s, Train Loss=0.177, Train Acc=93.3]\n"
     ]
    },
    {
     "name": "stdout",
     "output_type": "stream",
     "text": [
      "Epoch 199\n",
      "Train Loss: 0.1771, Train Accuracy: 93.30%\n",
      "Test Loss: 0.2545, Test Accuracy: 90.85%\n",
      "\n"
     ]
    },
    {
     "name": "stderr",
     "output_type": "stream",
     "text": [
      "Epoch 200: 100%|██████████| 938/938 [02:11<00:00,  7.13batch/s, Train Loss=0.171, Train Acc=93.5]\n"
     ]
    },
    {
     "name": "stdout",
     "output_type": "stream",
     "text": [
      "Epoch 200\n",
      "Train Loss: 0.1715, Train Accuracy: 93.46%\n",
      "Test Loss: 0.2376, Test Accuracy: 91.51%\n",
      "\n"
     ]
    },
    {
     "name": "stderr",
     "output_type": "stream",
     "text": [
      "Epoch 201: 100%|██████████| 938/938 [02:12<00:00,  7.06batch/s, Train Loss=0.174, Train Acc=93.3]\n"
     ]
    },
    {
     "name": "stdout",
     "output_type": "stream",
     "text": [
      "Epoch 201\n",
      "Train Loss: 0.1740, Train Accuracy: 93.33%\n",
      "Test Loss: 0.2453, Test Accuracy: 91.24%\n",
      "\n"
     ]
    },
    {
     "name": "stderr",
     "output_type": "stream",
     "text": [
      "Epoch 202: 100%|██████████| 938/938 [02:14<00:00,  6.97batch/s, Train Loss=0.172, Train Acc=93.3]\n"
     ]
    },
    {
     "name": "stdout",
     "output_type": "stream",
     "text": [
      "Epoch 202\n",
      "Train Loss: 0.1722, Train Accuracy: 93.35%\n",
      "Test Loss: 0.2389, Test Accuracy: 91.61%\n",
      "\n"
     ]
    },
    {
     "name": "stderr",
     "output_type": "stream",
     "text": [
      "Epoch 203: 100%|██████████| 938/938 [02:11<00:00,  7.15batch/s, Train Loss=0.17, Train Acc=93.6] \n"
     ]
    },
    {
     "name": "stdout",
     "output_type": "stream",
     "text": [
      "Epoch 203\n",
      "Train Loss: 0.1700, Train Accuracy: 93.56%\n",
      "Test Loss: 0.2533, Test Accuracy: 90.98%\n",
      "\n"
     ]
    },
    {
     "name": "stderr",
     "output_type": "stream",
     "text": [
      "Epoch 204: 100%|██████████| 938/938 [02:08<00:00,  7.28batch/s, Train Loss=0.172, Train Acc=93.5]\n"
     ]
    },
    {
     "name": "stdout",
     "output_type": "stream",
     "text": [
      "Epoch 204\n",
      "Train Loss: 0.1719, Train Accuracy: 93.45%\n",
      "Test Loss: 0.2391, Test Accuracy: 91.26%\n",
      "\n"
     ]
    },
    {
     "name": "stderr",
     "output_type": "stream",
     "text": [
      "Epoch 205: 100%|██████████| 938/938 [02:11<00:00,  7.14batch/s, Train Loss=0.169, Train Acc=93.5]\n"
     ]
    },
    {
     "name": "stdout",
     "output_type": "stream",
     "text": [
      "Epoch 205\n",
      "Train Loss: 0.1694, Train Accuracy: 93.55%\n",
      "Test Loss: 0.2400, Test Accuracy: 91.69%\n",
      "\n"
     ]
    },
    {
     "name": "stderr",
     "output_type": "stream",
     "text": [
      "Epoch 206: 100%|██████████| 938/938 [02:19<00:00,  6.72batch/s, Train Loss=0.172, Train Acc=93.5]\n"
     ]
    },
    {
     "name": "stdout",
     "output_type": "stream",
     "text": [
      "Epoch 206\n",
      "Train Loss: 0.1717, Train Accuracy: 93.54%\n",
      "Test Loss: 0.2465, Test Accuracy: 91.33%\n",
      "\n"
     ]
    },
    {
     "name": "stderr",
     "output_type": "stream",
     "text": [
      "Epoch 207: 100%|██████████| 938/938 [02:07<00:00,  7.33batch/s, Train Loss=0.17, Train Acc=93.5] \n"
     ]
    },
    {
     "name": "stdout",
     "output_type": "stream",
     "text": [
      "Epoch 207\n",
      "Train Loss: 0.1704, Train Accuracy: 93.46%\n",
      "Test Loss: 0.2490, Test Accuracy: 91.23%\n",
      "\n"
     ]
    },
    {
     "name": "stderr",
     "output_type": "stream",
     "text": [
      "Epoch 208: 100%|██████████| 938/938 [02:06<00:00,  7.41batch/s, Train Loss=0.169, Train Acc=93.6]\n"
     ]
    },
    {
     "name": "stdout",
     "output_type": "stream",
     "text": [
      "Epoch 208\n",
      "Train Loss: 0.1692, Train Accuracy: 93.58%\n",
      "Test Loss: 0.2449, Test Accuracy: 91.43%\n",
      "\n"
     ]
    },
    {
     "name": "stderr",
     "output_type": "stream",
     "text": [
      "Epoch 209: 100%|██████████| 938/938 [02:06<00:00,  7.39batch/s, Train Loss=0.168, Train Acc=93.6]\n"
     ]
    },
    {
     "name": "stdout",
     "output_type": "stream",
     "text": [
      "Epoch 209\n",
      "Train Loss: 0.1678, Train Accuracy: 93.64%\n",
      "Test Loss: 0.2469, Test Accuracy: 91.33%\n",
      "\n"
     ]
    },
    {
     "name": "stderr",
     "output_type": "stream",
     "text": [
      "Epoch 210: 100%|██████████| 938/938 [02:06<00:00,  7.43batch/s, Train Loss=0.167, Train Acc=93.7]\n"
     ]
    },
    {
     "name": "stdout",
     "output_type": "stream",
     "text": [
      "Epoch 210\n",
      "Train Loss: 0.1670, Train Accuracy: 93.67%\n",
      "Test Loss: 0.2417, Test Accuracy: 91.46%\n",
      "\n"
     ]
    },
    {
     "name": "stderr",
     "output_type": "stream",
     "text": [
      "Epoch 211: 100%|██████████| 938/938 [02:06<00:00,  7.41batch/s, Train Loss=0.169, Train Acc=93.6]\n"
     ]
    },
    {
     "name": "stdout",
     "output_type": "stream",
     "text": [
      "Epoch 211\n",
      "Train Loss: 0.1688, Train Accuracy: 93.55%\n",
      "Test Loss: 0.2452, Test Accuracy: 91.29%\n",
      "\n"
     ]
    },
    {
     "name": "stderr",
     "output_type": "stream",
     "text": [
      "Epoch 212: 100%|██████████| 938/938 [02:05<00:00,  7.46batch/s, Train Loss=0.166, Train Acc=93.7]\n"
     ]
    },
    {
     "name": "stdout",
     "output_type": "stream",
     "text": [
      "Epoch 212\n",
      "Train Loss: 0.1663, Train Accuracy: 93.75%\n",
      "Test Loss: 0.2436, Test Accuracy: 91.64%\n",
      "\n"
     ]
    },
    {
     "name": "stderr",
     "output_type": "stream",
     "text": [
      "Epoch 213: 100%|██████████| 938/938 [02:06<00:00,  7.40batch/s, Train Loss=0.168, Train Acc=93.6]\n"
     ]
    },
    {
     "name": "stdout",
     "output_type": "stream",
     "text": [
      "Epoch 213\n",
      "Train Loss: 0.1678, Train Accuracy: 93.57%\n",
      "Test Loss: 0.2363, Test Accuracy: 91.75%\n",
      "\n"
     ]
    },
    {
     "name": "stderr",
     "output_type": "stream",
     "text": [
      "Epoch 214: 100%|██████████| 938/938 [02:06<00:00,  7.44batch/s, Train Loss=0.168, Train Acc=93.6]\n"
     ]
    },
    {
     "name": "stdout",
     "output_type": "stream",
     "text": [
      "Epoch 214\n",
      "Train Loss: 0.1677, Train Accuracy: 93.63%\n",
      "Test Loss: 0.2453, Test Accuracy: 91.43%\n",
      "\n"
     ]
    },
    {
     "name": "stderr",
     "output_type": "stream",
     "text": [
      "Epoch 215: 100%|██████████| 938/938 [02:25<00:00,  6.46batch/s, Train Loss=0.169, Train Acc=93.5]\n"
     ]
    },
    {
     "name": "stdout",
     "output_type": "stream",
     "text": [
      "Epoch 215\n",
      "Train Loss: 0.1687, Train Accuracy: 93.51%\n",
      "Test Loss: 0.2426, Test Accuracy: 91.50%\n",
      "\n"
     ]
    },
    {
     "name": "stderr",
     "output_type": "stream",
     "text": [
      "Epoch 216: 100%|██████████| 938/938 [02:15<00:00,  6.90batch/s, Train Loss=0.166, Train Acc=93.7]\n"
     ]
    },
    {
     "ename": "KeyboardInterrupt",
     "evalue": "",
     "output_type": "error",
     "traceback": [
      "\u001b[0;31m---------------------------------------------------------------------------\u001b[0m",
      "\u001b[0;31mKeyboardInterrupt\u001b[0m                         Traceback (most recent call last)",
      "Cell \u001b[0;32mIn[72], line 5\u001b[0m\n\u001b[1;32m      3\u001b[0m \u001b[38;5;28;01mfor\u001b[39;00m epoch \u001b[38;5;129;01min\u001b[39;00m \u001b[38;5;28mrange\u001b[39m(\u001b[38;5;241m1\u001b[39m, epochs \u001b[38;5;241m+\u001b[39m \u001b[38;5;241m1\u001b[39m):\n\u001b[1;32m      4\u001b[0m     train_loss, train_accuracy \u001b[38;5;241m=\u001b[39m train(model, device, train_loader, optimizer, criterion, epoch)\n\u001b[0;32m----> 5\u001b[0m     test_loss, test_accuracy \u001b[38;5;241m=\u001b[39m \u001b[43mtest\u001b[49m\u001b[43m(\u001b[49m\u001b[43mmodel\u001b[49m\u001b[43m,\u001b[49m\u001b[43m \u001b[49m\u001b[43mdevice\u001b[49m\u001b[43m,\u001b[49m\u001b[43m \u001b[49m\u001b[43mtest_loader\u001b[49m\u001b[43m,\u001b[49m\u001b[43m \u001b[49m\u001b[43mcriterion\u001b[49m\u001b[43m,\u001b[49m\u001b[43m \u001b[49m\u001b[43mepoch\u001b[49m\u001b[43m)\u001b[49m\n\u001b[1;32m      6\u001b[0m     \u001b[38;5;28mprint\u001b[39m(\u001b[38;5;124mf\u001b[39m\u001b[38;5;124m\"\u001b[39m\u001b[38;5;124mEpoch \u001b[39m\u001b[38;5;132;01m{\u001b[39;00mepoch\u001b[38;5;132;01m}\u001b[39;00m\u001b[38;5;124m\"\u001b[39m)\n\u001b[1;32m      7\u001b[0m     \u001b[38;5;28mprint\u001b[39m(\u001b[38;5;124mf\u001b[39m\u001b[38;5;124m\"\u001b[39m\u001b[38;5;124mTrain Loss: \u001b[39m\u001b[38;5;132;01m{\u001b[39;00mtrain_loss\u001b[38;5;132;01m:\u001b[39;00m\u001b[38;5;124m.4f\u001b[39m\u001b[38;5;132;01m}\u001b[39;00m\u001b[38;5;124m, Train Accuracy: \u001b[39m\u001b[38;5;132;01m{\u001b[39;00mtrain_accuracy\u001b[38;5;132;01m:\u001b[39;00m\u001b[38;5;124m.2f\u001b[39m\u001b[38;5;132;01m}\u001b[39;00m\u001b[38;5;124m%\u001b[39m\u001b[38;5;124m\"\u001b[39m)\n",
      "Cell \u001b[0;32mIn[70], line 41\u001b[0m, in \u001b[0;36mtest\u001b[0;34m(model, device, test_loader, criterion, epoch)\u001b[0m\n\u001b[1;32m     39\u001b[0m total \u001b[38;5;241m=\u001b[39m \u001b[38;5;241m0\u001b[39m\n\u001b[1;32m     40\u001b[0m \u001b[38;5;28;01mwith\u001b[39;00m torch\u001b[38;5;241m.\u001b[39mno_grad():\n\u001b[0;32m---> 41\u001b[0m     \u001b[38;5;28;01mfor\u001b[39;00m data, target \u001b[38;5;129;01min\u001b[39;00m test_loader:\n\u001b[1;32m     42\u001b[0m         data, target \u001b[38;5;241m=\u001b[39m data\u001b[38;5;241m.\u001b[39mto(device), target\u001b[38;5;241m.\u001b[39mto(device)\n\u001b[1;32m     43\u001b[0m         output \u001b[38;5;241m=\u001b[39m model(data)\n",
      "File \u001b[0;32m~/anaconda3/envs/vqvae/lib/python3.8/site-packages/torch/utils/data/dataloader.py:631\u001b[0m, in \u001b[0;36m_BaseDataLoaderIter.__next__\u001b[0;34m(self)\u001b[0m\n\u001b[1;32m    628\u001b[0m \u001b[38;5;28;01mif\u001b[39;00m \u001b[38;5;28mself\u001b[39m\u001b[38;5;241m.\u001b[39m_sampler_iter \u001b[38;5;129;01mis\u001b[39;00m \u001b[38;5;28;01mNone\u001b[39;00m:\n\u001b[1;32m    629\u001b[0m     \u001b[38;5;66;03m# TODO(https://github.com/pytorch/pytorch/issues/76750)\u001b[39;00m\n\u001b[1;32m    630\u001b[0m     \u001b[38;5;28mself\u001b[39m\u001b[38;5;241m.\u001b[39m_reset()  \u001b[38;5;66;03m# type: ignore[call-arg]\u001b[39;00m\n\u001b[0;32m--> 631\u001b[0m data \u001b[38;5;241m=\u001b[39m \u001b[38;5;28;43mself\u001b[39;49m\u001b[38;5;241;43m.\u001b[39;49m\u001b[43m_next_data\u001b[49m\u001b[43m(\u001b[49m\u001b[43m)\u001b[49m\n\u001b[1;32m    632\u001b[0m \u001b[38;5;28mself\u001b[39m\u001b[38;5;241m.\u001b[39m_num_yielded \u001b[38;5;241m+\u001b[39m\u001b[38;5;241m=\u001b[39m \u001b[38;5;241m1\u001b[39m\n\u001b[1;32m    633\u001b[0m \u001b[38;5;28;01mif\u001b[39;00m \u001b[38;5;28mself\u001b[39m\u001b[38;5;241m.\u001b[39m_dataset_kind \u001b[38;5;241m==\u001b[39m _DatasetKind\u001b[38;5;241m.\u001b[39mIterable \u001b[38;5;129;01mand\u001b[39;00m \\\n\u001b[1;32m    634\u001b[0m         \u001b[38;5;28mself\u001b[39m\u001b[38;5;241m.\u001b[39m_IterableDataset_len_called \u001b[38;5;129;01mis\u001b[39;00m \u001b[38;5;129;01mnot\u001b[39;00m \u001b[38;5;28;01mNone\u001b[39;00m \u001b[38;5;129;01mand\u001b[39;00m \\\n\u001b[1;32m    635\u001b[0m         \u001b[38;5;28mself\u001b[39m\u001b[38;5;241m.\u001b[39m_num_yielded \u001b[38;5;241m>\u001b[39m \u001b[38;5;28mself\u001b[39m\u001b[38;5;241m.\u001b[39m_IterableDataset_len_called:\n",
      "File \u001b[0;32m~/anaconda3/envs/vqvae/lib/python3.8/site-packages/torch/utils/data/dataloader.py:675\u001b[0m, in \u001b[0;36m_SingleProcessDataLoaderIter._next_data\u001b[0;34m(self)\u001b[0m\n\u001b[1;32m    673\u001b[0m \u001b[38;5;28;01mdef\u001b[39;00m \u001b[38;5;21m_next_data\u001b[39m(\u001b[38;5;28mself\u001b[39m):\n\u001b[1;32m    674\u001b[0m     index \u001b[38;5;241m=\u001b[39m \u001b[38;5;28mself\u001b[39m\u001b[38;5;241m.\u001b[39m_next_index()  \u001b[38;5;66;03m# may raise StopIteration\u001b[39;00m\n\u001b[0;32m--> 675\u001b[0m     data \u001b[38;5;241m=\u001b[39m \u001b[38;5;28;43mself\u001b[39;49m\u001b[38;5;241;43m.\u001b[39;49m\u001b[43m_dataset_fetcher\u001b[49m\u001b[38;5;241;43m.\u001b[39;49m\u001b[43mfetch\u001b[49m\u001b[43m(\u001b[49m\u001b[43mindex\u001b[49m\u001b[43m)\u001b[49m  \u001b[38;5;66;03m# may raise StopIteration\u001b[39;00m\n\u001b[1;32m    676\u001b[0m     \u001b[38;5;28;01mif\u001b[39;00m \u001b[38;5;28mself\u001b[39m\u001b[38;5;241m.\u001b[39m_pin_memory:\n\u001b[1;32m    677\u001b[0m         data \u001b[38;5;241m=\u001b[39m _utils\u001b[38;5;241m.\u001b[39mpin_memory\u001b[38;5;241m.\u001b[39mpin_memory(data, \u001b[38;5;28mself\u001b[39m\u001b[38;5;241m.\u001b[39m_pin_memory_device)\n",
      "File \u001b[0;32m~/anaconda3/envs/vqvae/lib/python3.8/site-packages/torch/utils/data/_utils/fetch.py:51\u001b[0m, in \u001b[0;36m_MapDatasetFetcher.fetch\u001b[0;34m(self, possibly_batched_index)\u001b[0m\n\u001b[1;32m     49\u001b[0m         data \u001b[38;5;241m=\u001b[39m \u001b[38;5;28mself\u001b[39m\u001b[38;5;241m.\u001b[39mdataset\u001b[38;5;241m.\u001b[39m__getitems__(possibly_batched_index)\n\u001b[1;32m     50\u001b[0m     \u001b[38;5;28;01melse\u001b[39;00m:\n\u001b[0;32m---> 51\u001b[0m         data \u001b[38;5;241m=\u001b[39m [\u001b[38;5;28mself\u001b[39m\u001b[38;5;241m.\u001b[39mdataset[idx] \u001b[38;5;28;01mfor\u001b[39;00m idx \u001b[38;5;129;01min\u001b[39;00m possibly_batched_index]\n\u001b[1;32m     52\u001b[0m \u001b[38;5;28;01melse\u001b[39;00m:\n\u001b[1;32m     53\u001b[0m     data \u001b[38;5;241m=\u001b[39m \u001b[38;5;28mself\u001b[39m\u001b[38;5;241m.\u001b[39mdataset[possibly_batched_index]\n",
      "File \u001b[0;32m~/anaconda3/envs/vqvae/lib/python3.8/site-packages/torch/utils/data/_utils/fetch.py:51\u001b[0m, in \u001b[0;36m<listcomp>\u001b[0;34m(.0)\u001b[0m\n\u001b[1;32m     49\u001b[0m         data \u001b[38;5;241m=\u001b[39m \u001b[38;5;28mself\u001b[39m\u001b[38;5;241m.\u001b[39mdataset\u001b[38;5;241m.\u001b[39m__getitems__(possibly_batched_index)\n\u001b[1;32m     50\u001b[0m     \u001b[38;5;28;01melse\u001b[39;00m:\n\u001b[0;32m---> 51\u001b[0m         data \u001b[38;5;241m=\u001b[39m [\u001b[38;5;28;43mself\u001b[39;49m\u001b[38;5;241;43m.\u001b[39;49m\u001b[43mdataset\u001b[49m\u001b[43m[\u001b[49m\u001b[43midx\u001b[49m\u001b[43m]\u001b[49m \u001b[38;5;28;01mfor\u001b[39;00m idx \u001b[38;5;129;01min\u001b[39;00m possibly_batched_index]\n\u001b[1;32m     52\u001b[0m \u001b[38;5;28;01melse\u001b[39;00m:\n\u001b[1;32m     53\u001b[0m     data \u001b[38;5;241m=\u001b[39m \u001b[38;5;28mself\u001b[39m\u001b[38;5;241m.\u001b[39mdataset[possibly_batched_index]\n",
      "Cell \u001b[0;32mIn[59], line 13\u001b[0m, in \u001b[0;36mComplexDataset.__getitem__\u001b[0;34m(self, idx)\u001b[0m\n\u001b[1;32m     11\u001b[0m sample \u001b[38;5;241m=\u001b[39m \u001b[38;5;28mself\u001b[39m\u001b[38;5;241m.\u001b[39mdata[idx]\n\u001b[1;32m     12\u001b[0m label \u001b[38;5;241m=\u001b[39m \u001b[38;5;28mself\u001b[39m\u001b[38;5;241m.\u001b[39mlabels[idx]\n\u001b[0;32m---> 13\u001b[0m sample \u001b[38;5;241m=\u001b[39m \u001b[38;5;28;43mself\u001b[39;49m\u001b[38;5;241;43m.\u001b[39;49m\u001b[43mtransform\u001b[49m\u001b[43m(\u001b[49m\u001b[43msample\u001b[49m\u001b[43m)\u001b[49m\n\u001b[1;32m     14\u001b[0m \u001b[38;5;28;01mreturn\u001b[39;00m sample, label\n",
      "Cell \u001b[0;32mIn[58], line 18\u001b[0m, in \u001b[0;36mCustomTransform.__call__\u001b[0;34m(self, sample)\u001b[0m\n\u001b[1;32m     16\u001b[0m fft_real \u001b[38;5;241m=\u001b[39m torch\u001b[38;5;241m.\u001b[39mreal(fft)\n\u001b[1;32m     17\u001b[0m fft_imag \u001b[38;5;241m=\u001b[39m torch\u001b[38;5;241m.\u001b[39mimag(fft)\n\u001b[0;32m---> 18\u001b[0m fft_stacked \u001b[38;5;241m=\u001b[39m \u001b[43mtorch\u001b[49m\u001b[38;5;241;43m.\u001b[39;49m\u001b[43mstack\u001b[49m\u001b[43m(\u001b[49m\u001b[43m[\u001b[49m\u001b[43mfft_real\u001b[49m\u001b[43m,\u001b[49m\u001b[43m \u001b[49m\u001b[43mfft_imag\u001b[49m\u001b[43m]\u001b[49m\u001b[43m)\u001b[49m\n\u001b[1;32m     20\u001b[0m \u001b[38;5;66;03m# Stack the image and FFT side by side\u001b[39;00m\n\u001b[1;32m     21\u001b[0m combined \u001b[38;5;241m=\u001b[39m torch\u001b[38;5;241m.\u001b[39mconcatenate([img_stacked, fft_stacked], axis\u001b[38;5;241m=\u001b[39m\u001b[38;5;241m2\u001b[39m)\n",
      "\u001b[0;31mKeyboardInterrupt\u001b[0m: "
     ]
    }
   ],
   "source": [
    "\n",
    "\n",
    "model.to(device)\n",
    "epochs = 500\n",
    "for epoch in range(1, epochs + 1):\n",
    "    train_loss, train_accuracy = train(model, device, train_loader, optimizer, criterion, epoch)\n",
    "    test_loss, test_accuracy = test(model, device, test_loader, criterion, epoch)\n",
    "    print(f\"Epoch {epoch}\")\n",
    "    print(f\"Train Loss: {train_loss:.4f}, Train Accuracy: {train_accuracy:.2f}%\")\n",
    "    print(f\"Test Loss: {test_loss:.4f}, Test Accuracy: {test_accuracy:.2f}%\")\n",
    "    print()\n",
    "\n",
    "\n",
    "writer.close()"
   ]
  },
  {
   "cell_type": "code",
   "execution_count": 73,
   "metadata": {},
   "outputs": [],
   "source": [
    "def save_model(model, optimizer, epoch, loss, accuracy, filename):\n",
    "    torch.save({\n",
    "        'epoch': epoch,\n",
    "        'model_state_dict': model.state_dict(),\n",
    "        'optimizer_state_dict': optimizer.state_dict(),\n",
    "        'loss': loss,\n",
    "        'accuracy': accuracy\n",
    "    }, filename)\n"
   ]
  },
  {
   "cell_type": "code",
   "execution_count": 75,
   "metadata": {},
   "outputs": [],
   "source": [
    "save_model(model, optimizer, epochs, test_loss, test_accuracy, 'final_model.pth')"
   ]
  }
 ],
 "metadata": {
  "kernelspec": {
   "display_name": "vqvae",
   "language": "python",
   "name": "python3"
  },
  "language_info": {
   "codemirror_mode": {
    "name": "ipython",
    "version": 3
   },
   "file_extension": ".py",
   "mimetype": "text/x-python",
   "name": "python",
   "nbconvert_exporter": "python",
   "pygments_lexer": "ipython3",
   "version": "3.8.19"
  }
 },
 "nbformat": 4,
 "nbformat_minor": 2
}
